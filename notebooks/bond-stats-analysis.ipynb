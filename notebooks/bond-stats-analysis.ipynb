{
 "cells": [
  {
   "cell_type": "code",
   "execution_count": 1,
   "metadata": {},
   "outputs": [
    {
     "name": "stderr",
     "output_type": "stream",
     "text": [
      "┌ Info: Precompiling VegaLite [112f6efa-9a02-5b7d-90c0-432ed331239a]\n",
      "└ @ Base loading.jl:1278\n"
     ]
    },
    {
     "data": {
      "text/plain": [
       "1000"
      ]
     },
     "execution_count": 1,
     "metadata": {},
     "output_type": "execute_result"
    }
   ],
   "source": [
    "using DataFrames\n",
    "using Printf\n",
    "using CSV\n",
    "using Dates\n",
    "using DayCounts\n",
    "# using Revise\n",
    "using VegaLite\n",
    "using Latexify\n",
    "\n",
    "using Distributed\n",
    "# if nprocs() == 1\n",
    "#     addprocs(11)\n",
    "# end\n",
    "# @everywhere main_path = \"/home/artur/BondPricing/bond-data\"\n",
    "# @everywhere module_path = string(main_path, \"/module\")\n",
    "# @everywhere script_path = string(main_path, \"/data-scripts\")\n",
    "# @everywhere include(string(joinpath(module_path, \"data_module\"), \".jl\"))\n",
    "# @everywhere include(string(joinpath(module_path, \"stats_module\"), \".jl\"))\n",
    "# @everywhere include(string(joinpath(module_path, \"plot_module\"), \".jl\"))\n",
    "\n",
    "main_path = \"/home/artur/BondPricing/bond-data\"\n",
    "module_path = string(main_path, \"/module\")\n",
    "script_path = string(main_path, \"/data-scripts\")\n",
    "include(string(joinpath(module_path, \"data_module\"), \".jl\"))\n",
    "include(string(joinpath(module_path, \"stats_module\"), \".jl\"))\n",
    "include(string(joinpath(module_path, \"plot_module\"), \".jl\"))\n",
    "\n",
    "\n",
    "ENV[\"LINES\"] = 100\n",
    "ENV[\"COLUMNS\"] = 1000"
   ]
  },
  {
   "cell_type": "code",
   "execution_count": 2,
   "metadata": {},
   "outputs": [
    {
     "name": "stdout",
     "output_type": "stream",
     "text": [
      "TRACE year: 2019\n",
      "TRACE quarter: 3\n"
     ]
    },
    {
     "name": "stderr",
     "output_type": "stream",
     "text": [
      "WARNING: replacing module DataMod.\n"
     ]
    },
    {
     "name": "stdout",
     "output_type": "stream",
     "text": [
      "Loading mergent_filtered dataframe...\n",
      " 41.038709 seconds (109.70 M allocations: 6.755 GiB, 38.39% gc time)\n",
      " 28.793795 seconds (70.94 M allocations: 3.866 GiB, 76.14% gc time)\n",
      "Step 1. Merging ID DataFrames...\n",
      "Step 2. By CUSIP and Trade Execution Date, find the last Rating Date... \n",
      "Step 3. Filter: for each (cusip, trade execution date) pair, keep only the last rating date...\n",
      "Step 4. Filter: for the (cusip, trade execution date, rating_date) tuples with \n",
      "        more than one RATING_TYPE observation, keep only the Moody's rating...\n",
      " 20.610664 seconds (30.11 M allocations: 2.539 GiB, 54.61% gc time)\n",
      "Unique CUSIPS in trace dataframe: 26033\n",
      "TRACE/MERGENT Matched CUSIPS Ratio (%): 74.91261091691315\n",
      "Conditional Success Rate (%): 99.99565621552121\n",
      " 51.088141 seconds (77.25 M allocations: 11.058 GiB, 49.11% gc time)\n",
      "Creating IG indicator...\n",
      "Creating AGE and TTM variables...\n",
      "Creating TRADE SIZE Categories...\n",
      "Creating ATS indicator...\n",
      "161.256692 seconds (443.49 M allocations: 31.244 GiB, 57.29% gc time)\n"
     ]
    },
    {
     "data": {
      "text/plain": [
       "Main.MergeDB"
      ]
     },
     "execution_count": 2,
     "metadata": {},
     "output_type": "execute_result"
    }
   ],
   "source": [
    "module MergeDB\n",
    "    using Distributed\n",
    "\n",
    "    main_path = \"/home/artur/BondPricing/bond-data\"\n",
    "    module_path = string(main_path, \"/module\")\n",
    "    script_path = string(main_path, \"/data-scripts\")\n",
    "    include(string(joinpath(module_path, \"data_module\"), \".jl\"))\n",
    "    include(string(joinpath(module_path, \"stats_module\"), \".jl\"))\n",
    "\n",
    "    yr = 2019\n",
    "    qtr = 3\n",
    "    ARGS=[string(yr), string(qtr)]\n",
    "    @time include(string(script_path, \"/merge_trace_mergent.jl\"))\n",
    "end"
   ]
  },
  {
   "cell_type": "code",
   "execution_count": 3,
   "metadata": {},
   "outputs": [
    {
     "data": {
      "text/html": [
       "<table class=\"data-frame\"><thead><tr><th></th><th>cusip_id</th><th>bond_sym_id</th><th>company_symbol</th><th>trd_exctn_dt</th><th>trd_exctn_tm</th><th>entrd_vol_qt</th><th>rptd_pr</th><th>rpt_side_cd</th><th>buy_cmsn_rt</th><th>sell_cmsn_rt</th><th>cntra_mp_id</th><th>rptg_party_type</th><th>ats_indicator</th><th>trd_exctn_yr</th><th>trd_exctn_mo</th><th>rpt_side_cpcty</th><th>trd_exctn_date</th><th>rating_date</th><th>RATING_TYPE</th><th>EFFECTIVE_DATE</th><th>AMOUNT_OUTSTANDING</th><th>FIX_FREQUENCY</th><th>PAY_IN_KIND</th><th>COUPON_CHANGE_INDICATOR</th><th>ISSUER_ID</th><th>ISSUER_CUSIP</th><th>ISSUE_CUSIP</th><th>MATURITY</th><th>SECURITY_LEVEL</th><th>SECURITY_PLEDGE</th><th>ENHANCEMENT</th><th>CONVERTIBLE</th><th>ASSET_BACKED</th><th>RULE_415_REG</th><th>RULE_144A</th><th>OFFERING_AMT</th><th>OFFERING_DATE</th><th>PRINCIPAL_AMT</th><th>COVENANTS</th><th>DEFEASANCE_TYPE</th><th>REDEEMABLE</th><th>REFUND_PROTECTION</th><th>PUTABLE</th><th>PRIVATE_PLACEMENT</th><th>BOND_TYPE</th><th>PERPETUAL</th><th>EXCHANGEABLE</th><th>FUNGIBLE</th><th>REGISTRATION_RIGHTS</th><th>PREFERRED_SECURITY</th><th>COUPON_TYPE</th><th>FOREIGN_CURRENCY</th><th>DENOMINATION</th><th>DEFEASED</th><th>DEFEASED_DATE</th><th>DEFAULTED</th><th>ISIN</th><th>CUSIP_NAME</th><th>INDUSTRY_GROUP</th><th>INDUSTRY_CODE</th><th>ESOP</th><th>IN_BANKRUPTCY</th><th>PARENT_ID</th><th>NAICS_CODE</th><th>COUNTRY_DOMICILE</th><th>CONSOLIDATION_MERGER</th><th>DIVIDENDS_RELATED_PAYMENTS_IS</th><th>FUNDED_DEBT_IS</th></tr><tr><th></th><th>String</th><th>String?</th><th>String?</th><th>String</th><th>String</th><th>Float64</th><th>Float64</th><th>String</th><th>Float64</th><th>Float64</th><th>String</th><th>String</th><th>String?</th><th>Int64</th><th>Int64</th><th>String</th><th>Date</th><th>Date</th><th>String</th><th>Int64?</th><th>String?</th><th>String?</th><th>String?</th><th>String?</th><th>Int64</th><th>String</th><th>String</th><th>Int64</th><th>String?</th><th>String?</th><th>String?</th><th>String?</th><th>String?</th><th>String?</th><th>String</th><th>Float64?</th><th>Int64</th><th>Float64</th><th>String?</th><th>String?</th><th>String?</th><th>String?</th><th>String?</th><th>String?</th><th>String</th><th>String</th><th>String?</th><th>String?</th><th>String?</th><th>String?</th><th>String?</th><th>String</th><th>String?</th><th>String?</th><th>Int64?</th><th>String?</th><th>String?</th><th>String</th><th>String?</th><th>String</th><th>String?</th><th>String?</th><th>Int64?</th><th>String?</th><th>String?</th><th>String?</th><th>String?</th><th>String?</th></tr></thead><tbody><p>5 rows × 136 columns (omitted printing of 68 columns)</p><tr><th>1</th><td>91889DAB2</td><td><em>missing</em></td><td><em>missing</em></td><td>20190731</td><td>11:16:00</td><td>5000.0</td><td>72.184</td><td>D</td><td>0.0</td><td>0.0</td><td>D</td><td>D</td><td>Y</td><td>2019</td><td>7</td><td>P</td><td>2019-07-31</td><td>2018-08-29</td><td>SPR</td><td>20190731</td><td>303358</td><td><em>missing</em></td><td><em>missing</em></td><td>N</td><td>49703</td><td>91889D</td><td>AB2</td><td>20241001</td><td>SEN</td><td><em>missing</em></td><td>N</td><td>N</td><td>N</td><td>N</td><td>N</td><td>303358.0</td><td>20190731</td><td>1000.0</td><td>N</td><td><em>missing</em></td><td>Y</td><td>N</td><td>N</td><td>N</td><td>CDEB</td><td>N</td><td>N</td><td>N</td><td><em>missing</em></td><td>N</td><td>F</td><td>N</td><td>2/1</td><td>N</td><td><em>missing</em></td><td>N</td><td>US91889DAB29</td><td>VALARIS PLC</td><td>1</td><td>12</td><td>N</td><td>N</td><td>59261</td><td>213111</td><td>GBR</td><td><em>missing</em></td><td><em>missing</em></td><td><em>missing</em></td></tr><tr><th>2</th><td>91889DAB2</td><td><em>missing</em></td><td><em>missing</em></td><td>20190731</td><td>11:16:00</td><td>5000.0</td><td>71.984</td><td>B</td><td>0.0</td><td>0.0</td><td>C</td><td>D</td><td><em>missing</em></td><td>2019</td><td>7</td><td>P</td><td>2019-07-31</td><td>2018-08-29</td><td>SPR</td><td>20190731</td><td>303358</td><td><em>missing</em></td><td><em>missing</em></td><td>N</td><td>49703</td><td>91889D</td><td>AB2</td><td>20241001</td><td>SEN</td><td><em>missing</em></td><td>N</td><td>N</td><td>N</td><td>N</td><td>N</td><td>303358.0</td><td>20190731</td><td>1000.0</td><td>N</td><td><em>missing</em></td><td>Y</td><td>N</td><td>N</td><td>N</td><td>CDEB</td><td>N</td><td>N</td><td>N</td><td><em>missing</em></td><td>N</td><td>F</td><td>N</td><td>2/1</td><td>N</td><td><em>missing</em></td><td>N</td><td>US91889DAB29</td><td>VALARIS PLC</td><td>1</td><td>12</td><td>N</td><td>N</td><td>59261</td><td>213111</td><td>GBR</td><td><em>missing</em></td><td><em>missing</em></td><td><em>missing</em></td></tr><tr><th>3</th><td>91889DAB2</td><td><em>missing</em></td><td><em>missing</em></td><td>20190731</td><td>11:17:00</td><td>5000.0</td><td>72.184</td><td>D</td><td>0.0</td><td>0.0</td><td>D</td><td>T</td><td>Y</td><td>2019</td><td>7</td><td>P</td><td>2019-07-31</td><td>2018-08-29</td><td>SPR</td><td>20190731</td><td>303358</td><td><em>missing</em></td><td><em>missing</em></td><td>N</td><td>49703</td><td>91889D</td><td>AB2</td><td>20241001</td><td>SEN</td><td><em>missing</em></td><td>N</td><td>N</td><td>N</td><td>N</td><td>N</td><td>303358.0</td><td>20190731</td><td>1000.0</td><td>N</td><td><em>missing</em></td><td>Y</td><td>N</td><td>N</td><td>N</td><td>CDEB</td><td>N</td><td>N</td><td>N</td><td><em>missing</em></td><td>N</td><td>F</td><td>N</td><td>2/1</td><td>N</td><td><em>missing</em></td><td>N</td><td>US91889DAB29</td><td>VALARIS PLC</td><td>1</td><td>12</td><td>N</td><td>N</td><td>59261</td><td>213111</td><td>GBR</td><td><em>missing</em></td><td><em>missing</em></td><td><em>missing</em></td></tr><tr><th>4</th><td>00846UAG6</td><td>A.GF</td><td>A</td><td>20190701</td><td>10:31:23</td><td>3000.0</td><td>102.628</td><td>D</td><td>0.0</td><td>0.0</td><td>D</td><td>D</td><td>Y</td><td>2019</td><td>7</td><td>P</td><td>2019-07-01</td><td>2018-09-26</td><td>MR</td><td>20141029</td><td>500000</td><td><em>missing</em></td><td>N</td><td>N</td><td>36037</td><td>00846U</td><td>AG6</td><td>20200715</td><td>SEN</td><td><em>missing</em></td><td>N</td><td>N</td><td>N</td><td>Y</td><td>N</td><td>500000.0</td><td>20100713</td><td>1000.0</td><td>Y</td><td><em>missing</em></td><td>Y</td><td>N</td><td>N</td><td>N</td><td>CDEB</td><td>N</td><td>N</td><td>Y</td><td><em>missing</em></td><td>N</td><td>F</td><td>N</td><td>2/1</td><td>N</td><td><em>missing</em></td><td>N</td><td>US00846UAG67</td><td>AGILENT TECHNOLOGIES INC</td><td>1</td><td>10</td><td>N</td><td>N</td><td>46935</td><td>334515</td><td>USA</td><td>N</td><td>N</td><td>N</td></tr><tr><th>5</th><td>00846UAG6</td><td>A.GF</td><td>A</td><td>20190701</td><td>10:31:23</td><td>15000.0</td><td>102.818</td><td>S</td><td>0.0</td><td>30.0</td><td>C</td><td>D</td><td><em>missing</em></td><td>2019</td><td>7</td><td>A</td><td>2019-07-01</td><td>2018-09-26</td><td>MR</td><td>20141029</td><td>500000</td><td><em>missing</em></td><td>N</td><td>N</td><td>36037</td><td>00846U</td><td>AG6</td><td>20200715</td><td>SEN</td><td><em>missing</em></td><td>N</td><td>N</td><td>N</td><td>Y</td><td>N</td><td>500000.0</td><td>20100713</td><td>1000.0</td><td>Y</td><td><em>missing</em></td><td>Y</td><td>N</td><td>N</td><td>N</td><td>CDEB</td><td>N</td><td>N</td><td>Y</td><td><em>missing</em></td><td>N</td><td>F</td><td>N</td><td>2/1</td><td>N</td><td><em>missing</em></td><td>N</td><td>US00846UAG67</td><td>AGILENT TECHNOLOGIES INC</td><td>1</td><td>10</td><td>N</td><td>N</td><td>46935</td><td>334515</td><td>USA</td><td>N</td><td>N</td><td>N</td></tr></tbody></table>"
      ],
      "text/latex": [
       "\\begin{tabular}{r|ccccccccccccccccccccccccccccccccccccccccccccccccccccccccccccccccccccc}\n",
       "\t& cusip\\_id & bond\\_sym\\_id & company\\_symbol & trd\\_exctn\\_dt & trd\\_exctn\\_tm & entrd\\_vol\\_qt & rptd\\_pr & rpt\\_side\\_cd & buy\\_cmsn\\_rt & sell\\_cmsn\\_rt & cntra\\_mp\\_id & rptg\\_party\\_type & ats\\_indicator & trd\\_exctn\\_yr & trd\\_exctn\\_mo & rpt\\_side\\_cpcty & trd\\_exctn\\_date & rating\\_date & RATING\\_TYPE & EFFECTIVE\\_DATE & AMOUNT\\_OUTSTANDING & FIX\\_FREQUENCY & PAY\\_IN\\_KIND & COUPON\\_CHANGE\\_INDICATOR & ISSUER\\_ID & ISSUER\\_CUSIP & ISSUE\\_CUSIP & MATURITY & SECURITY\\_LEVEL & SECURITY\\_PLEDGE & ENHANCEMENT & CONVERTIBLE & ASSET\\_BACKED & RULE\\_415\\_REG & RULE\\_144A & OFFERING\\_AMT & OFFERING\\_DATE & PRINCIPAL\\_AMT & COVENANTS & DEFEASANCE\\_TYPE & REDEEMABLE & REFUND\\_PROTECTION & PUTABLE & PRIVATE\\_PLACEMENT & BOND\\_TYPE & PERPETUAL & EXCHANGEABLE & FUNGIBLE & REGISTRATION\\_RIGHTS & PREFERRED\\_SECURITY & COUPON\\_TYPE & FOREIGN\\_CURRENCY & DENOMINATION & DEFEASED & DEFEASED\\_DATE & DEFAULTED & ISIN & CUSIP\\_NAME & INDUSTRY\\_GROUP & INDUSTRY\\_CODE & ESOP & IN\\_BANKRUPTCY & PARENT\\_ID & NAICS\\_CODE & COUNTRY\\_DOMICILE & CONSOLIDATION\\_MERGER & DIVIDENDS\\_RELATED\\_PAYMENTS\\_IS & FUNDED\\_DEBT\\_IS & \\\\\n",
       "\t\\hline\n",
       "\t& String & String? & String? & String & String & Float64 & Float64 & String & Float64 & Float64 & String & String & String? & Int64 & Int64 & String & Date & Date & String & Int64? & String? & String? & String? & String? & Int64 & String & String & Int64 & String? & String? & String? & String? & String? & String? & String & Float64? & Int64 & Float64 & String? & String? & String? & String? & String? & String? & String & String & String? & String? & String? & String? & String? & String & String? & String? & Int64? & String? & String? & String & String? & String & String? & String? & Int64? & String? & String? & String? & String? & String? & \\\\\n",
       "\t\\hline\n",
       "\t1 & 91889DAB2 & \\emph{missing} & \\emph{missing} & 20190731 & 11:16:00 & 5000.0 & 72.184 & D & 0.0 & 0.0 & D & D & Y & 2019 & 7 & P & 2019-07-31 & 2018-08-29 & SPR & 20190731 & 303358 & \\emph{missing} & \\emph{missing} & N & 49703 & 91889D & AB2 & 20241001 & SEN & \\emph{missing} & N & N & N & N & N & 303358.0 & 20190731 & 1000.0 & N & \\emph{missing} & Y & N & N & N & CDEB & N & N & N & \\emph{missing} & N & F & N & 2/1 & N & \\emph{missing} & N & US91889DAB29 & VALARIS PLC & 1 & 12 & N & N & 59261 & 213111 & GBR & \\emph{missing} & \\emph{missing} & \\emph{missing} & $\\dots$ \\\\\n",
       "\t2 & 91889DAB2 & \\emph{missing} & \\emph{missing} & 20190731 & 11:16:00 & 5000.0 & 71.984 & B & 0.0 & 0.0 & C & D & \\emph{missing} & 2019 & 7 & P & 2019-07-31 & 2018-08-29 & SPR & 20190731 & 303358 & \\emph{missing} & \\emph{missing} & N & 49703 & 91889D & AB2 & 20241001 & SEN & \\emph{missing} & N & N & N & N & N & 303358.0 & 20190731 & 1000.0 & N & \\emph{missing} & Y & N & N & N & CDEB & N & N & N & \\emph{missing} & N & F & N & 2/1 & N & \\emph{missing} & N & US91889DAB29 & VALARIS PLC & 1 & 12 & N & N & 59261 & 213111 & GBR & \\emph{missing} & \\emph{missing} & \\emph{missing} & $\\dots$ \\\\\n",
       "\t3 & 91889DAB2 & \\emph{missing} & \\emph{missing} & 20190731 & 11:17:00 & 5000.0 & 72.184 & D & 0.0 & 0.0 & D & T & Y & 2019 & 7 & P & 2019-07-31 & 2018-08-29 & SPR & 20190731 & 303358 & \\emph{missing} & \\emph{missing} & N & 49703 & 91889D & AB2 & 20241001 & SEN & \\emph{missing} & N & N & N & N & N & 303358.0 & 20190731 & 1000.0 & N & \\emph{missing} & Y & N & N & N & CDEB & N & N & N & \\emph{missing} & N & F & N & 2/1 & N & \\emph{missing} & N & US91889DAB29 & VALARIS PLC & 1 & 12 & N & N & 59261 & 213111 & GBR & \\emph{missing} & \\emph{missing} & \\emph{missing} & $\\dots$ \\\\\n",
       "\t4 & 00846UAG6 & A.GF & A & 20190701 & 10:31:23 & 3000.0 & 102.628 & D & 0.0 & 0.0 & D & D & Y & 2019 & 7 & P & 2019-07-01 & 2018-09-26 & MR & 20141029 & 500000 & \\emph{missing} & N & N & 36037 & 00846U & AG6 & 20200715 & SEN & \\emph{missing} & N & N & N & Y & N & 500000.0 & 20100713 & 1000.0 & Y & \\emph{missing} & Y & N & N & N & CDEB & N & N & Y & \\emph{missing} & N & F & N & 2/1 & N & \\emph{missing} & N & US00846UAG67 & AGILENT TECHNOLOGIES INC & 1 & 10 & N & N & 46935 & 334515 & USA & N & N & N & $\\dots$ \\\\\n",
       "\t5 & 00846UAG6 & A.GF & A & 20190701 & 10:31:23 & 15000.0 & 102.818 & S & 0.0 & 30.0 & C & D & \\emph{missing} & 2019 & 7 & A & 2019-07-01 & 2018-09-26 & MR & 20141029 & 500000 & \\emph{missing} & N & N & 36037 & 00846U & AG6 & 20200715 & SEN & \\emph{missing} & N & N & N & Y & N & 500000.0 & 20100713 & 1000.0 & Y & \\emph{missing} & Y & N & N & N & CDEB & N & N & Y & \\emph{missing} & N & F & N & 2/1 & N & \\emph{missing} & N & US00846UAG67 & AGILENT TECHNOLOGIES INC & 1 & 10 & N & N & 46935 & 334515 & USA & N & N & N & $\\dots$ \\\\\n",
       "\\end{tabular}\n"
      ],
      "text/plain": [
       "5×136 DataFrame. Omitted printing of 72 columns\n",
       "│ Row │ cusip_id  │ bond_sym_id │ company_symbol │ trd_exctn_dt │ trd_exctn_tm │ entrd_vol_qt │ rptd_pr │ rpt_side_cd │ buy_cmsn_rt │ sell_cmsn_rt │ cntra_mp_id │ rptg_party_type │ ats_indicator │ trd_exctn_yr │ trd_exctn_mo │ rpt_side_cpcty │ trd_exctn_date │ rating_date │ RATING_TYPE │ EFFECTIVE_DATE │ AMOUNT_OUTSTANDING │ FIX_FREQUENCY │ PAY_IN_KIND │ COUPON_CHANGE_INDICATOR │ ISSUER_ID │ ISSUER_CUSIP │ ISSUE_CUSIP │ MATURITY │ SECURITY_LEVEL │ SECURITY_PLEDGE │ ENHANCEMENT │ CONVERTIBLE │ ASSET_BACKED │ RULE_415_REG │ RULE_144A │ OFFERING_AMT │ OFFERING_DATE │ PRINCIPAL_AMT │ COVENANTS │ DEFEASANCE_TYPE │ REDEEMABLE │ REFUND_PROTECTION │ PUTABLE │ PRIVATE_PLACEMENT │ BOND_TYPE │ PERPETUAL │ EXCHANGEABLE │ FUNGIBLE │ REGISTRATION_RIGHTS │ PREFERRED_SECURITY │ COUPON_TYPE │ FOREIGN_CURRENCY │ DENOMINATION │ DEFEASED │ DEFEASED_DATE │ DEFAULTED │ ISIN         │ CUSIP_NAME               │ INDUSTRY_GROUP │ INDUSTRY_CODE │ ESOP    │ IN_BANKRUPTCY │ PARENT_ID │ NAICS_CODE │\n",
       "│     │ \u001b[90mString\u001b[39m    │ \u001b[90mString?\u001b[39m     │ \u001b[90mString?\u001b[39m        │ \u001b[90mString\u001b[39m       │ \u001b[90mString\u001b[39m       │ \u001b[90mFloat64\u001b[39m      │ \u001b[90mFloat64\u001b[39m │ \u001b[90mString\u001b[39m      │ \u001b[90mFloat64\u001b[39m     │ \u001b[90mFloat64\u001b[39m      │ \u001b[90mString\u001b[39m      │ \u001b[90mString\u001b[39m          │ \u001b[90mString?\u001b[39m       │ \u001b[90mInt64\u001b[39m        │ \u001b[90mInt64\u001b[39m        │ \u001b[90mString\u001b[39m         │ \u001b[90mDate\u001b[39m           │ \u001b[90mDate\u001b[39m        │ \u001b[90mString\u001b[39m      │ \u001b[90mInt64?\u001b[39m         │ \u001b[90mString?\u001b[39m            │ \u001b[90mString?\u001b[39m       │ \u001b[90mString?\u001b[39m     │ \u001b[90mUnion{Missing, String}\u001b[39m  │ \u001b[90mInt64\u001b[39m     │ \u001b[90mString\u001b[39m       │ \u001b[90mString\u001b[39m      │ \u001b[90mInt64\u001b[39m    │ \u001b[90mString?\u001b[39m        │ \u001b[90mString?\u001b[39m         │ \u001b[90mString?\u001b[39m     │ \u001b[90mString?\u001b[39m     │ \u001b[90mString?\u001b[39m      │ \u001b[90mString?\u001b[39m      │ \u001b[90mString\u001b[39m    │ \u001b[90mFloat64?\u001b[39m     │ \u001b[90mInt64\u001b[39m         │ \u001b[90mFloat64\u001b[39m       │ \u001b[90mString?\u001b[39m   │ \u001b[90mString?\u001b[39m         │ \u001b[90mString?\u001b[39m    │ \u001b[90mString?\u001b[39m           │ \u001b[90mString?\u001b[39m │ \u001b[90mString?\u001b[39m           │ \u001b[90mString\u001b[39m    │ \u001b[90mString\u001b[39m    │ \u001b[90mString?\u001b[39m      │ \u001b[90mString?\u001b[39m  │ \u001b[90mString?\u001b[39m             │ \u001b[90mString?\u001b[39m            │ \u001b[90mString?\u001b[39m     │ \u001b[90mString\u001b[39m           │ \u001b[90mString?\u001b[39m      │ \u001b[90mString?\u001b[39m  │ \u001b[90mInt64?\u001b[39m        │ \u001b[90mString?\u001b[39m   │ \u001b[90mString?\u001b[39m      │ \u001b[90mString\u001b[39m                   │ \u001b[90mString?\u001b[39m        │ \u001b[90mString\u001b[39m        │ \u001b[90mString?\u001b[39m │ \u001b[90mString?\u001b[39m       │ \u001b[90mInt64?\u001b[39m    │ \u001b[90mString?\u001b[39m    │\n",
       "├─────┼───────────┼─────────────┼────────────────┼──────────────┼──────────────┼──────────────┼─────────┼─────────────┼─────────────┼──────────────┼─────────────┼─────────────────┼───────────────┼──────────────┼──────────────┼────────────────┼────────────────┼─────────────┼─────────────┼────────────────┼────────────────────┼───────────────┼─────────────┼─────────────────────────┼───────────┼──────────────┼─────────────┼──────────┼────────────────┼─────────────────┼─────────────┼─────────────┼──────────────┼──────────────┼───────────┼──────────────┼───────────────┼───────────────┼───────────┼─────────────────┼────────────┼───────────────────┼─────────┼───────────────────┼───────────┼───────────┼──────────────┼──────────┼─────────────────────┼────────────────────┼─────────────┼──────────────────┼──────────────┼──────────┼───────────────┼───────────┼──────────────┼──────────────────────────┼────────────────┼───────────────┼─────────┼───────────────┼───────────┼────────────┤\n",
       "│ 1   │ 91889DAB2 │ \u001b[90mmissing\u001b[39m     │ \u001b[90mmissing\u001b[39m        │ 20190731     │ 11:16:00     │ 5000.0       │ 72.184  │ D           │ 0.0         │ 0.0          │ D           │ D               │ Y             │ 2019         │ 7            │ P              │ 2019-07-31     │ 2018-08-29  │ SPR         │ 20190731       │ 303358             │ \u001b[90mmissing\u001b[39m       │ \u001b[90mmissing\u001b[39m     │ N                       │ 49703     │ 91889D       │ AB2         │ 20241001 │ SEN            │ \u001b[90mmissing\u001b[39m         │ N           │ N           │ N            │ N            │ N         │ 303358.0     │ 20190731      │ 1000.0        │ N         │ \u001b[90mmissing\u001b[39m         │ Y          │ N                 │ N       │ N                 │ CDEB      │ N         │ N            │ N        │ \u001b[90mmissing\u001b[39m             │ N                  │ F           │ N                │ 2/1          │ N        │ \u001b[90mmissing\u001b[39m       │ N         │ US91889DAB29 │ VALARIS PLC              │ 1              │ 12            │ N       │ N             │ 59261     │ 213111     │\n",
       "│ 2   │ 91889DAB2 │ \u001b[90mmissing\u001b[39m     │ \u001b[90mmissing\u001b[39m        │ 20190731     │ 11:16:00     │ 5000.0       │ 71.984  │ B           │ 0.0         │ 0.0          │ C           │ D               │ \u001b[90mmissing\u001b[39m       │ 2019         │ 7            │ P              │ 2019-07-31     │ 2018-08-29  │ SPR         │ 20190731       │ 303358             │ \u001b[90mmissing\u001b[39m       │ \u001b[90mmissing\u001b[39m     │ N                       │ 49703     │ 91889D       │ AB2         │ 20241001 │ SEN            │ \u001b[90mmissing\u001b[39m         │ N           │ N           │ N            │ N            │ N         │ 303358.0     │ 20190731      │ 1000.0        │ N         │ \u001b[90mmissing\u001b[39m         │ Y          │ N                 │ N       │ N                 │ CDEB      │ N         │ N            │ N        │ \u001b[90mmissing\u001b[39m             │ N                  │ F           │ N                │ 2/1          │ N        │ \u001b[90mmissing\u001b[39m       │ N         │ US91889DAB29 │ VALARIS PLC              │ 1              │ 12            │ N       │ N             │ 59261     │ 213111     │\n",
       "│ 3   │ 91889DAB2 │ \u001b[90mmissing\u001b[39m     │ \u001b[90mmissing\u001b[39m        │ 20190731     │ 11:17:00     │ 5000.0       │ 72.184  │ D           │ 0.0         │ 0.0          │ D           │ T               │ Y             │ 2019         │ 7            │ P              │ 2019-07-31     │ 2018-08-29  │ SPR         │ 20190731       │ 303358             │ \u001b[90mmissing\u001b[39m       │ \u001b[90mmissing\u001b[39m     │ N                       │ 49703     │ 91889D       │ AB2         │ 20241001 │ SEN            │ \u001b[90mmissing\u001b[39m         │ N           │ N           │ N            │ N            │ N         │ 303358.0     │ 20190731      │ 1000.0        │ N         │ \u001b[90mmissing\u001b[39m         │ Y          │ N                 │ N       │ N                 │ CDEB      │ N         │ N            │ N        │ \u001b[90mmissing\u001b[39m             │ N                  │ F           │ N                │ 2/1          │ N        │ \u001b[90mmissing\u001b[39m       │ N         │ US91889DAB29 │ VALARIS PLC              │ 1              │ 12            │ N       │ N             │ 59261     │ 213111     │\n",
       "│ 4   │ 00846UAG6 │ A.GF        │ A              │ 20190701     │ 10:31:23     │ 3000.0       │ 102.628 │ D           │ 0.0         │ 0.0          │ D           │ D               │ Y             │ 2019         │ 7            │ P              │ 2019-07-01     │ 2018-09-26  │ MR          │ 20141029       │ 500000             │ \u001b[90mmissing\u001b[39m       │ N           │ N                       │ 36037     │ 00846U       │ AG6         │ 20200715 │ SEN            │ \u001b[90mmissing\u001b[39m         │ N           │ N           │ N            │ Y            │ N         │ 500000.0     │ 20100713      │ 1000.0        │ Y         │ \u001b[90mmissing\u001b[39m         │ Y          │ N                 │ N       │ N                 │ CDEB      │ N         │ N            │ Y        │ \u001b[90mmissing\u001b[39m             │ N                  │ F           │ N                │ 2/1          │ N        │ \u001b[90mmissing\u001b[39m       │ N         │ US00846UAG67 │ AGILENT TECHNOLOGIES INC │ 1              │ 10            │ N       │ N             │ 46935     │ 334515     │\n",
       "│ 5   │ 00846UAG6 │ A.GF        │ A              │ 20190701     │ 10:31:23     │ 15000.0      │ 102.818 │ S           │ 0.0         │ 30.0         │ C           │ D               │ \u001b[90mmissing\u001b[39m       │ 2019         │ 7            │ A              │ 2019-07-01     │ 2018-09-26  │ MR          │ 20141029       │ 500000             │ \u001b[90mmissing\u001b[39m       │ N           │ N                       │ 36037     │ 00846U       │ AG6         │ 20200715 │ SEN            │ \u001b[90mmissing\u001b[39m         │ N           │ N           │ N            │ Y            │ N         │ 500000.0     │ 20100713      │ 1000.0        │ Y         │ \u001b[90mmissing\u001b[39m         │ Y          │ N                 │ N       │ N                 │ CDEB      │ N         │ N            │ Y        │ \u001b[90mmissing\u001b[39m             │ N                  │ F           │ N                │ 2/1          │ N        │ \u001b[90mmissing\u001b[39m       │ N         │ US00846UAG67 │ AGILENT TECHNOLOGIES INC │ 1              │ 10            │ N       │ N             │ 46935     │ 334515     │"
      ]
     },
     "execution_count": 3,
     "metadata": {},
     "output_type": "execute_result"
    }
   ],
   "source": [
    "fdf = deepcopy(MergeDB.fdf)\n",
    "first(fdf, 5)"
   ]
  },
  {
   "cell_type": "markdown",
   "metadata": {},
   "source": [
    "### Trading System-, Covenant- and Credit-Rating-Contingent Stats"
   ]
  },
  {
   "cell_type": "markdown",
   "metadata": {},
   "source": [
    "Sample of All Non-MTN Bonds (with and without Covenants)"
   ]
  },
  {
   "cell_type": "code",
   "execution_count": 46,
   "metadata": {
    "scrolled": true
   },
   "outputs": [
    {
     "name": "stdout",
     "output_type": "stream",
     "text": [
      "  9.818597 seconds (1.69 M allocations: 1.192 GiB, 73.79% gc time)\n"
     ]
    },
    {
     "name": "stderr",
     "output_type": "stream",
     "text": [
      "WARNING: replacing module StatsMod.\n"
     ]
    },
    {
     "data": {
      "text/html": [
       "<table class=\"data-frame\"><thead><tr><th></th><th>variable</th><th>cr</th><th>ats</th><th>otc</th><th>all</th><th>ats_otc</th><th>ats_total</th><th>otc_total</th></tr><tr><th></th><th>Cat…</th><th>Symbol</th><th>Float64?</th><th>Float64?</th><th>Float64?</th><th>Float64</th><th>Float64</th><th>Float64</th></tr></thead><tbody><p>9 rows × 8 columns</p><tr><th>1</th><td>bond_count</td><td>ig</td><td>11013.0</td><td>12283.0</td><td>12287.0</td><td>89.6605</td><td>89.6313</td><td>99.9674</td></tr><tr><th>2</th><td>bond_count</td><td>hy</td><td>3388.0</td><td>7264.0</td><td>7267.0</td><td>46.641</td><td>46.6217</td><td>99.9587</td></tr><tr><th>3</th><td>bond_count</td><td>all</td><td>14375.0</td><td>19492.0</td><td>19499.0</td><td>73.7482</td><td>73.7217</td><td>99.9641</td></tr><tr><th>4</th><td>trade_count</td><td>ig</td><td>529966.0</td><td>1.96005e6</td><td>2.49002e6</td><td>27.0384</td><td>21.2836</td><td>78.7164</td></tr><tr><th>5</th><td>trade_count</td><td>hy</td><td>201740.0</td><td>654413.0</td><td>856153.0</td><td>30.8276</td><td>23.5635</td><td>76.4365</td></tr><tr><th>6</th><td>trade_count</td><td>all</td><td>731706.0</td><td>2.61446e6</td><td>3.34617e6</td><td>27.9869</td><td>21.867</td><td>78.133</td></tr><tr><th>7</th><td>trade_volume</td><td>ig</td><td>55.3163</td><td>932.761</td><td>988.078</td><td>5.93038</td><td>5.59837</td><td>94.4016</td></tr><tr><th>8</th><td>trade_volume</td><td>hy</td><td>21.8698</td><td>322.292</td><td>344.162</td><td>6.78569</td><td>6.35449</td><td>93.6455</td></tr><tr><th>9</th><td>trade_volume</td><td>all</td><td>77.186</td><td>1255.05</td><td>1332.24</td><td>6.15002</td><td>5.7937</td><td>94.2063</td></tr></tbody></table>"
      ],
      "text/latex": [
       "\\begin{tabular}{r|cccccccc}\n",
       "\t& variable & cr & ats & otc & all & ats\\_otc & ats\\_total & otc\\_total\\\\\n",
       "\t\\hline\n",
       "\t& Cat… & Symbol & Float64? & Float64? & Float64? & Float64 & Float64 & Float64\\\\\n",
       "\t\\hline\n",
       "\t1 & bond\\_count & ig & 11013.0 & 12283.0 & 12287.0 & 89.6605 & 89.6313 & 99.9674 \\\\\n",
       "\t2 & bond\\_count & hy & 3388.0 & 7264.0 & 7267.0 & 46.641 & 46.6217 & 99.9587 \\\\\n",
       "\t3 & bond\\_count & all & 14375.0 & 19492.0 & 19499.0 & 73.7482 & 73.7217 & 99.9641 \\\\\n",
       "\t4 & trade\\_count & ig & 529966.0 & 1.96005e6 & 2.49002e6 & 27.0384 & 21.2836 & 78.7164 \\\\\n",
       "\t5 & trade\\_count & hy & 201740.0 & 654413.0 & 856153.0 & 30.8276 & 23.5635 & 76.4365 \\\\\n",
       "\t6 & trade\\_count & all & 731706.0 & 2.61446e6 & 3.34617e6 & 27.9869 & 21.867 & 78.133 \\\\\n",
       "\t7 & trade\\_volume & ig & 55.3163 & 932.761 & 988.078 & 5.93038 & 5.59837 & 94.4016 \\\\\n",
       "\t8 & trade\\_volume & hy & 21.8698 & 322.292 & 344.162 & 6.78569 & 6.35449 & 93.6455 \\\\\n",
       "\t9 & trade\\_volume & all & 77.186 & 1255.05 & 1332.24 & 6.15002 & 5.7937 & 94.2063 \\\\\n",
       "\\end{tabular}\n"
      ],
      "text/plain": [
       "9×8 DataFrame\n",
       "│ Row │ variable     │ cr     │ ats      │ otc       │ all       │ ats_otc │ ats_total │ otc_total │\n",
       "│     │ \u001b[90mCategorical…\u001b[39m │ \u001b[90mSymbol\u001b[39m │ \u001b[90mFloat64?\u001b[39m │ \u001b[90mFloat64?\u001b[39m  │ \u001b[90mFloat64?\u001b[39m  │ \u001b[90mFloat64\u001b[39m │ \u001b[90mFloat64\u001b[39m   │ \u001b[90mFloat64\u001b[39m   │\n",
       "├─────┼──────────────┼────────┼──────────┼───────────┼───────────┼─────────┼───────────┼───────────┤\n",
       "│ 1   │ bond_count   │ ig     │ 11013.0  │ 12283.0   │ 12287.0   │ 89.6605 │ 89.6313   │ 99.9674   │\n",
       "│ 2   │ bond_count   │ hy     │ 3388.0   │ 7264.0    │ 7267.0    │ 46.641  │ 46.6217   │ 99.9587   │\n",
       "│ 3   │ bond_count   │ all    │ 14375.0  │ 19492.0   │ 19499.0   │ 73.7482 │ 73.7217   │ 99.9641   │\n",
       "│ 4   │ trade_count  │ ig     │ 529966.0 │ 1.96005e6 │ 2.49002e6 │ 27.0384 │ 21.2836   │ 78.7164   │\n",
       "│ 5   │ trade_count  │ hy     │ 201740.0 │ 654413.0  │ 856153.0  │ 30.8276 │ 23.5635   │ 76.4365   │\n",
       "│ 6   │ trade_count  │ all    │ 731706.0 │ 2.61446e6 │ 3.34617e6 │ 27.9869 │ 21.867    │ 78.133    │\n",
       "│ 7   │ trade_volume │ ig     │ 55.3163  │ 932.761   │ 988.078   │ 5.93038 │ 5.59837   │ 94.4016   │\n",
       "│ 8   │ trade_volume │ hy     │ 21.8698  │ 322.292   │ 344.162   │ 6.78569 │ 6.35449   │ 93.6455   │\n",
       "│ 9   │ trade_volume │ all    │ 77.186   │ 1255.05   │ 1332.24   │ 6.15002 │ 5.7937    │ 94.2063   │"
      ]
     },
     "execution_count": 46,
     "metadata": {},
     "output_type": "execute_result"
    }
   ],
   "source": [
    "# @everywhere include(string(joinpath(module_path, \"stats_module\"), \".jl\"))\n",
    "include(string(joinpath(module_path, \"stats_module\"), \".jl\"))\n",
    "\n",
    "# Create Trade Execution Quarter:\n",
    "fdf[:, :trd_exctn_qtr] = ceil.(fdf[:, :trd_exctn_mo] / 3.)\n",
    "\n",
    "# Year/Quarter Indicator\n",
    "yr_qtr_ind = .&(fdf[:, :trd_exctn_yr] .== MergeDB.yr, \n",
    "                fdf[:, :trd_exctn_qtr] .== MergeDB.qtr)\n",
    "\n",
    "# Select Variables\n",
    "cols = [:cusip_id, :entrd_vol_qt, :ig, :covenant, :ats]\n",
    "\n",
    "# Filter DataFrame\n",
    "ffdf = fdf[yr_qtr_ind, cols]\n",
    "\n",
    "# Array of Group-By Variables\n",
    "gbvars_vec = [Array{Symbol,1}([ ]), \n",
    "              [:ats],                 # Stats by SBM\n",
    "              [:ig],                  # Stats by CREDIT RATING\n",
    "              [:covenant],            # Stats by COVENANT\n",
    "              [:ats, :covenant],      # Stats by SBM, COVENANT\n",
    "              [:ats, :ig],            # Stats by SBM, CREDIT RATING\n",
    "              [:ig, :covenant],       # Stats by CREDIT RATING, COVENANT\n",
    "              [:ats, :ig, :covenant]]\n",
    "\n",
    "\n",
    "@time sdf_vec = fetch(@spawn [StatsMod.compute_stats(ffdf,gbvars) for gbvars in gbvars_vec])\n",
    "sdf = vcat(sdf_vec...)\n",
    "\n",
    "df = StatsMod.form_stats_table(sdf)"
   ]
  },
  {
   "cell_type": "code",
   "execution_count": 44,
   "metadata": {},
   "outputs": [
    {
     "data": {
      "text/latex": [
       "\\begin{equation}\n",
       "\\left[\n",
       "\\begin{array}{ccccccc}\n",
       "ig & 11013.00 & 12283.00 & 12287.00 & 89.66 & 89.63 & 99.97 \\\\\n",
       "hy & 3388.00 & 7264.00 & 7267.00 & 46.64 & 46.62 & 99.96 \\\\\n",
       "all & 14375.00 & 19492.00 & 19499.00 & 73.75 & 73.72 & 99.96 \\\\\n",
       "ig & 529966.00 & 1960049.00 & 2490015.00 & 27.04 & 21.28 & 78.72 \\\\\n",
       "hy & 201740.00 & 654413.00 & 856153.00 & 30.83 & 23.56 & 76.44 \\\\\n",
       "all & 731706.00 & 2614462.00 & 3346168.00 & 27.99 & 21.87 & 78.13 \\\\\n",
       "ig & 55.32 & 932.76 & 988.08 & 5.93 & 5.60 & 94.40 \\\\\n",
       "hy & 21.87 & 322.29 & 344.16 & 6.79 & 6.35 & 93.65 \\\\\n",
       "all & 77.19 & 1255.05 & 1332.24 & 6.15 & 5.79 & 94.21 \\\\\n",
       "\\end{array}\n",
       "\\right]\n",
       "\\end{equation}\n"
      ],
      "text/plain": [
       "L\"\\begin{equation}\n",
       "\\left[\n",
       "\\begin{array}{ccccccc}\n",
       "ig & 11013.00 & 12283.00 & 12287.00 & 89.66 & 89.63 & 99.97 \\\\\n",
       "hy & 3388.00 & 7264.00 & 7267.00 & 46.64 & 46.62 & 99.96 \\\\\n",
       "all & 14375.00 & 19492.00 & 19499.00 & 73.75 & 73.72 & 99.96 \\\\\n",
       "ig & 529966.00 & 1960049.00 & 2490015.00 & 27.04 & 21.28 & 78.72 \\\\\n",
       "hy & 201740.00 & 654413.00 & 856153.00 & 30.83 & 23.56 & 76.44 \\\\\n",
       "all & 731706.00 & 2614462.00 & 3346168.00 & 27.99 & 21.87 & 78.13 \\\\\n",
       "ig & 55.32 & 932.76 & 988.08 & 5.93 & 5.60 & 94.40 \\\\\n",
       "hy & 21.87 & 322.29 & 344.16 & 6.79 & 6.35 & 93.65 \\\\\n",
       "all & 77.19 & 1255.05 & 1332.24 & 6.15 & 5.79 & 94.21 \\\\\n",
       "\\end{array}\n",
       "\\right]\n",
       "\\end{equation}\n",
       "\""
      ]
     },
     "metadata": {},
     "output_type": "display_data"
    }
   ],
   "source": [
    "latexify(convert(Matrix, df[:, 2:end]); fmt=\"%.2f\") |> display"
   ]
  },
  {
   "cell_type": "code",
   "execution_count": 45,
   "metadata": {},
   "outputs": [
    {
     "name": "stdout",
     "output_type": "stream",
     "text": [
      "\\begin{equation}\n",
      "\\left[\n",
      "\\begin{array}{ccccccc}\n",
      "ig & 11013.00 & 12283.00 & 12287.00 & 89.66 & 89.63 & 99.97 \\\\\n",
      "hy & 3388.00 & 7264.00 & 7267.00 & 46.64 & 46.62 & 99.96 \\\\\n",
      "all & 14375.00 & 19492.00 & 19499.00 & 73.75 & 73.72 & 99.96 \\\\\n",
      "ig & 529966.00 & 1960049.00 & 2490015.00 & 27.04 & 21.28 & 78.72 \\\\\n",
      "hy & 201740.00 & 654413.00 & 856153.00 & 30.83 & 23.56 & 76.44 \\\\\n",
      "all & 731706.00 & 2614462.00 & 3346168.00 & 27.99 & 21.87 & 78.13 \\\\\n",
      "ig & 55.32 & 932.76 & 988.08 & 5.93 & 5.60 & 94.40 \\\\\n",
      "hy & 21.87 & 322.29 & 344.16 & 6.79 & 6.35 & 93.65 \\\\\n",
      "all & 77.19 & 1255.05 & 1332.24 & 6.15 & 5.79 & 94.21 \\\\\n",
      "\\end{array}\n",
      "\\right]\n",
      "\\end{equation}\n"
     ]
    }
   ],
   "source": [
    "latexify(convert(Matrix, df[:, 2:end]); fmt=\"%.2f\") |> print"
   ]
  },
  {
   "cell_type": "code",
   "execution_count": 216,
   "metadata": {},
   "outputs": [],
   "source": [
    "# using LatexPrint\n",
    "# lap(convert(Matrix, df))"
   ]
  },
  {
   "cell_type": "code",
   "execution_count": 219,
   "metadata": {},
   "outputs": [],
   "source": [
    "# using DataTables, TypedTables, IterableTables\n",
    "# using IndexedTables\n",
    "# using JuliaDB"
   ]
  },
  {
   "cell_type": "markdown",
   "metadata": {},
   "source": [
    "#### Trading System-Contingent Covenant-Bond Stats"
   ]
  },
  {
   "cell_type": "markdown",
   "metadata": {},
   "source": [
    "ATTENTION: The sample here is restricted to non-MTN bonds with covenants"
   ]
  },
  {
   "cell_type": "code",
   "execution_count": 5,
   "metadata": {},
   "outputs": [
    {
     "name": "stdout",
     "output_type": "stream",
     "text": [
      "STATS ==========================================\n",
      "Stats for the sample of non-MTN bonds with covenants: \n",
      "\n",
      "ATS Bond Count: 7721\n",
      "OTC Bond Count: 8170\n",
      "ATS Bond Count (% of Total): 94.44648318042813\n",
      "\n",
      "ATS Trade Count: 557594\n",
      "OTC Trade Count: 2007289\n",
      "ATS Trade Count (% of Total): 21.73954913343026\n",
      "\n",
      "ATS Trade Volume: USD 63.40710385586995 tn\n",
      "OTC Trade Volume: USD 983.8730100876501 tn\n",
      "ATS Trade Volume (% of Total): 6.05445506046241\n",
      "================================================\n"
     ]
    }
   ],
   "source": [
    "function get_sbm_cov_stats(df, var)\n",
    "    resd = Dict{Symbol, Any}(:ats_val => cdf[cdf[:sbm_rt_cov] .== :ats_all_cov, var][1],\n",
    "                             :otc_val => cdf[cdf[:sbm_rt_cov] .== :otc_all_cov, var][1],\n",
    "                             :both_val => cdf[cdf[:sbm_rt_cov] .== :all_all_cov, var][1])\n",
    "    resd[:ats_perc_val] = (resd[:ats_val]/resd[:both_val]) * 100\n",
    "\n",
    "    return resd\n",
    "end\n",
    "\n",
    "println(\"STATS ==========================================\")\n",
    "println(\"Stats for the sample of non-MTN bonds with covenants: \\n\")\n",
    "resd = get_sbm_cov_stats(cdf, :bond_count)\n",
    "println(\"ATS Bond Count: \", Int64(resd[:ats_val]))\n",
    "println(\"OTC Bond Count: \", Int64(resd[:otc_val]))\n",
    "println(\"ATS Bond Count (% of Total): \", resd[:ats_perc_val], \"\\n\")\n",
    "\n",
    "resd = get_sbm_cov_stats(cdf, :trade_count)\n",
    "println(\"ATS Trade Count: \", Int64(resd[:ats_val]))\n",
    "println(\"OTC Trade Count: \", Int64(resd[:otc_val]))\n",
    "println(\"ATS Trade Count (% of Total): \", resd[:ats_perc_val], \"\\n\")\n",
    "\n",
    "resd = get_sbm_cov_stats(cdf, :trade_volume)\n",
    "println(\"ATS Trade Volume: USD \", resd[:ats_val], \" tn\")\n",
    "println(\"OTC Trade Volume: USD \", resd[:otc_val], \" tn\")\n",
    "println(\"ATS Trade Volume (% of Total): \", resd[:ats_perc_val])\n",
    "println(\"================================================\")"
   ]
  },
  {
   "cell_type": "code",
   "execution_count": 47,
   "metadata": {},
   "outputs": [
    {
     "data": {
      "text/plain": [
       "58.0747730652854"
      ]
     },
     "execution_count": 47,
     "metadata": {},
     "output_type": "execute_result"
    }
   ],
   "source": [
    "cov_bond_count = sdf[sdf[:, :sbm_rt_cov] .== :all_all_cov, :bond_count][1]\n",
    "ncov_bond_count = sdf[sdf[:, :sbm_rt_cov] .== :all_all_ncov, :bond_count][1]\n",
    "all_bond_count = size(unique(fdf[:, :cusip_id]), 1)\n",
    "count_diff = all_bond_count - (cov_bond_count + ncov_bond_count)\n",
    "cov_perc_bond_count = (ncov_bond_count/all_bond_count) * 100"
   ]
  },
  {
   "cell_type": "code",
   "execution_count": null,
   "metadata": {},
   "outputs": [],
   "source": []
  },
  {
   "cell_type": "code",
   "execution_count": null,
   "metadata": {},
   "outputs": [],
   "source": [
    "println(\"STATS ==========================================\")\n",
    "println(\"Stats for the sample of non-MTN bonds with covenants: \\n\")\n",
    "println(\"ATS Bond Count: \", Int64(resd[:ats_bond_count]))\n",
    "println(\"OTC Bond Count: \", Int64(resd[:otc_bond_count]))\n",
    "println(\"ATS Bond Count (% of Total): \", resd[:ats_perc_bond_count], \"\\n\")\n",
    "\n",
    "println(\"ATS Trade Count: \", Int64(resd[:ats_trd_count]))\n",
    "println(\"OTC Trade Count: \", Int64(resd[:otc_trd_count]))\n",
    "println(\"ATS Trade Count (% of Total): \", resd[:ats_perc_trd_count], \"\\n\")\n",
    "\n",
    "println(\"ATS Trade Volume: USD \", resd[:ats_trd_vol]/1e9, \" tn\")\n",
    "println(\"OTC Trade Volume: USD \", resd[:otc_trd_vol]/1e9, \" tn\")\n",
    "println(\"ATS Trade Volume (% of Total): \", resd[:ats_perc_trd_vol])\n",
    "println(\"================================================\")"
   ]
  },
  {
   "cell_type": "code",
   "execution_count": null,
   "metadata": {},
   "outputs": [],
   "source": []
  },
  {
   "cell_type": "code",
   "execution_count": null,
   "metadata": {},
   "outputs": [],
   "source": []
  },
  {
   "cell_type": "code",
   "execution_count": 94,
   "metadata": {
    "scrolled": true
   },
   "outputs": [
    {
     "name": "stdout",
     "output_type": "stream",
     "text": [
      "      From worker 3:\tWARNING: replacing module StatsMod.\n",
      "      From worker 9:\tWARNING: replacing module StatsMod.\n",
      "      From worker 4:\tWARNING: replacing module StatsMod.\n",
      "      From worker 7:\tWARNING: replacing module StatsMod.\n",
      "      From worker 13:\tWARNING: replacing module StatsMod.\n",
      "      From worker 11:\tWARNING: replacing module StatsMod.\n",
      "      From worker 2:\tWARNING: replacing module StatsMod.\n",
      "      From worker 5:\tWARNING: replacing module StatsMod.\n",
      "      From worker 12:\tWARNING: replacing module StatsMod.\n",
      "      From worker 6:\tWARNING: replacing module StatsMod.\n",
      "      From worker 8:\tWARNING: replacing module StatsMod.\n",
      "      From worker 10:\tWARNING: replacing module StatsMod.\n"
     ]
    },
    {
     "name": "stderr",
     "output_type": "stream",
     "text": [
      "WARNING: replacing module StatsMod.\n"
     ]
    },
    {
     "name": "stdout",
     "output_type": "stream",
     "text": [
      "201.008180 seconds (2.79 M allocations: 68.179 MiB)\n",
      " \n",
      "Filename: 2019Q2_stats_by_cov_cat.csv\n",
      " \n",
      "Saving dataframe to folder: /home/artur/BondPricing/bond-data/data/Stats/2019...\n",
      "Done!\n",
      " 38.145637 seconds (2.76 M allocations: 66.652 MiB, 0.21% gc time)\n",
      " \n",
      "Filename: 2019Q2_stats_by_num_cov.csv\n",
      " \n",
      "Saving dataframe to folder: /home/artur/BondPricing/bond-data/data/Stats/2019...\n",
      "Done!\n"
     ]
    }
   ],
   "source": [
    "using Statistics\n",
    "using Distributed\n",
    "@everywhere include(string(joinpath(module_path, \"data_module\"), \".jl\"))\n",
    "@everywhere include(string(joinpath(module_path, \"stats_module\"), \".jl\"))\n",
    "\n",
    "dto = DataMod.data_obj_constructor()\n",
    "\n",
    "@time include(string(script_path, \"/merge_trace_mergent.jl\"))\n",
    "\n",
    "# Generate Trade Execution Quarter variable:\n",
    "if !(:trd_exctn_qtr in Symbol.(names(fdf)))\n",
    "    fdf[!, :trd_exctn_qtr] .= Int64.(ceil.(fdf[!, :trd_exctn_mo]/3))\n",
    "end\n",
    "\n",
    "# Groupby Date Variables:\n",
    "date_cols = [:trd_exctn_yr, :trd_exctn_qtr]\n",
    "# Form combinations of ATS, IG and COVENANT filters\n",
    "combdf =  StatsMod.get_filter_combinations()\n",
    "# Select cols and create smk indicator variable:\n",
    "ffdf = StatsMod.filter_selected(fdf; date_cols=date_cols)\n",
    "\n",
    "# STATS BY COVENANT CATEGORIES #######################################\n",
    "dfl_qtr = @time fetch(Distributed.@spawn [StatsMod.stats_generator(ffdf,\n",
    "                                       StatsMod.dfrow2dict(combdf, row);\n",
    "                                       groupby_date_cols=date_cols)\n",
    "                          for row in 1:size(combdf, 1)])\n",
    "dfa_qtr = sort(vcat(dfl_qtr...), names(combdf))\n",
    "dfa_qtr = StatsMod.gen_sbm_rt_cvt_cat_vars(dfa_qtr)\n",
    "StatsMod.save_stats_data(dto, dfa_qtr)\n",
    "\n",
    "# STATS BY NUMBER OF COVENANTS #######################################\n",
    "ffdf[!, :sum_num_cov] .= sum([ffdf[:, Symbol(:cg, x)] for x in 1:15])\n",
    "dfl = []\n",
    "combdf =  StatsMod.get_filter_combinations()\n",
    "combdf = StatsMod.gen_sbm_rt_cvt_cat_vars(combdf)\n",
    "\n",
    "dfl = @time fetch(Distributed.@spawn [StatsMod.compute_stats_by_num_cov(ffdf, sbm, rt, combdf) for \n",
    "                    sbm in [:any, :ats, :otc], rt in [:any, :ig, :hy]])\n",
    "\n",
    "df = vcat(dfl...)\n",
    "StatsMod.save_stats_data(dto, df)"
   ]
  },
  {
   "cell_type": "code",
   "execution_count": 8,
   "metadata": {},
   "outputs": [
    {
     "name": "stdout",
     "output_type": "stream",
     "text": [
      "      From worker 3:\tWARNING: replacing module StatsMod.\n",
      "      From worker 8:\tWARNING: replacing module StatsMod.\n",
      "      From worker 10:\tWARNING: replacing module StatsMod.\n",
      "      From worker 12:\tWARNING: replacing module StatsMod.\n",
      "      From worker 4:\tWARNING: replacing module StatsMod.\n",
      "      From worker 11:\tWARNING: replacing module StatsMod.\n",
      "      From worker 2:\tWARNING: replacing module StatsMod.\n",
      "      From worker 6:\tWARNING: replacing module StatsMod.\n",
      "      From worker 9:\tWARNING: replacing module StatsMod.\n",
      "      From worker 7:\tWARNING: replacing module StatsMod.\n",
      "      From worker 5:\tWARNING: replacing module StatsMod.\n"
     ]
    },
    {
     "name": "stderr",
     "output_type": "stream",
     "text": [
      "WARNING: replacing module StatsMod.\n"
     ]
    }
   ],
   "source": [
    "@everywhere include(string(joinpath(module_path, \"stats_module\"), \".jl\"))\n",
    "StatsMod.save_stats_data(dto, dfa_qtr)"
   ]
  },
  {
   "cell_type": "code",
   "execution_count": 9,
   "metadata": {},
   "outputs": [
    {
     "ename": "LoadError",
     "evalue": "UndefVarError: dfa_qtr not defined",
     "output_type": "error",
     "traceback": [
      "UndefVarError: dfa_qtr not defined",
      "",
      "Stacktrace:",
      " [1] top-level scope",
      " [2] include_string(::Function, ::Module, ::String, ::String) at ./loading.jl:1091",
      " [3] execute_code(::String, ::String) at /home/artur/.julia/packages/IJulia/rWZ9e/src/execute_request.jl:27",
      " [4] execute_request(::ZMQ.Socket, ::IJulia.Msg) at /home/artur/.julia/packages/IJulia/rWZ9e/src/execute_request.jl:86",
      " [5] #invokelatest#1 at ./essentials.jl:710 [inlined]",
      " [6] invokelatest at ./essentials.jl:709 [inlined]",
      " [7] eventloop(::ZMQ.Socket) at /home/artur/.julia/packages/IJulia/rWZ9e/src/eventloop.jl:8",
      " [8] (::IJulia.var\"#15#18\")() at ./task.jl:356"
     ]
    }
   ],
   "source": [
    "dfa_qtr"
   ]
  },
  {
   "cell_type": "code",
   "execution_count": 8,
   "metadata": {},
   "outputs": [
    {
     "name": "stderr",
     "output_type": "stream",
     "text": [
      "┌ Info: Precompiling VegaDatasets [0ae4a718-28b7-58ec-9efb-cded64d6d5b4]\n",
      "└ @ Base loading.jl:1278\n"
     ]
    },
    {
     "name": "stdout",
     "output_type": "stream",
     "text": [
      "      From worker 3:\tWARNING: replacing module DataMod.\n",
      "      From worker 5:\tWARNING: replacing module DataMod.\n",
      "      From worker 9:\tWARNING: replacing module DataMod.\n",
      "      From worker 8:\tWARNING: replacing module DataMod.\n",
      "      From worker 7:\tWARNING: replacing module DataMod.\n",
      "      From worker 10:\tWARNING: replacing module DataMod.\n",
      "      From worker 4:\tWARNING: replacing module DataMod.\n",
      "      From worker 6:\tWARNING: replacing module DataMod.\n",
      "      From worker 11:\tWARNING: replacing module DataMod.\n",
      "      From worker 2:\tWARNING: replacing module DataMod.\n",
      "      From worker 12:\tWARNING: replacing module DataMod.\n"
     ]
    },
    {
     "name": "stderr",
     "output_type": "stream",
     "text": [
      "WARNING: replacing module DataMod.\n"
     ]
    },
    {
     "name": "stdout",
     "output_type": "stream",
     "text": [
      "      From worker 4:\tWARNING: replacing module StatsMod.\n",
      "      From worker 2:\tWARNING: replacing module StatsMod.\n",
      "      From worker 5:\tWARNING: replacing module StatsMod.\n",
      "      From worker 7:\tWARNING: replacing module StatsMod.\n",
      "      From worker 8:\tWARNING: replacing module StatsMod.\n",
      "      From worker 10:\tWARNING: replacing module StatsMod.\n",
      "      From worker 12:\tWARNING: replacing module StatsMod.\n",
      "      From worker 6:\tWARNING: replacing module StatsMod.\n",
      "      From worker 3:\tWARNING: replacing module StatsMod.\n",
      "      From worker 9:\tWARNING: replacing module StatsMod.\n",
      "      From worker 11:\tWARNING: replacing module StatsMod.\n"
     ]
    },
    {
     "name": "stderr",
     "output_type": "stream",
     "text": [
      "WARNING: replacing module StatsMod.\n"
     ]
    },
    {
     "name": "stdout",
     "output_type": "stream",
     "text": [
      "      From worker 2:\tWARNING: replacing module PlotMod.\n",
      "      From worker 4:\tWARNING: replacing module PlotMod.\n",
      "      From worker 5:\tWARNING: replacing module PlotMod.\n",
      "      From worker 8:\tWARNING: replacing module PlotMod.\n",
      "      From worker 10:\tWARNING: replacing module PlotMod.\n",
      "      From worker 7:\tWARNING: replacing module PlotMod.\n",
      "      From worker 12:\tWARNING: replacing module PlotMod.\n",
      "      From worker 6:\tWARNING: replacing module PlotMod.\n",
      "      From worker 3:\tWARNING: replacing module PlotMod.\n",
      "      From worker 9:\tWARNING: replacing module PlotMod.\n",
      "      From worker 11:\tWARNING: replacing module PlotMod.\n",
      "job_num: 14\n",
      "TRACE year: "
     ]
    },
    {
     "name": "stderr",
     "output_type": "stream",
     "text": [
      "WARNING: replacing module PlotMod.\n"
     ]
    },
    {
     "name": "stdout",
     "output_type": "stream",
     "text": [
      "2019\n",
      "TRACE quarter: 2\n",
      "Loading mergent_filtered dataframe..."
     ]
    },
    {
     "name": "stderr",
     "output_type": "stream",
     "text": [
      "WARNING: replacing module DataMod.\n"
     ]
    },
    {
     "name": "stdout",
     "output_type": "stream",
     "text": [
      "\n",
      " 52.860378 seconds (84.44 M allocations: 5.504 GiB, 75.87% gc time)\n",
      " 63.451479 seconds (71.61 M allocations: 3.851 GiB, 88.06% gc time)\n",
      "Step 1. Merging ID DataFrames...\n",
      "Step 2. By CUSIP and Trade Execution Date, find the last Rating Date... \n",
      "Step 3. Filter: for each (cusip, trade execution date) pair, keep only the last rating date...\n",
      "Step 4. Filter: for the (cusip, trade execution date, rating_date) tuples with \n",
      "        more than one RATING_TYPE observation, keep only the Moody's rating...\n",
      " 16.890051 seconds (24.33 M allocations: 2.262 GiB, 70.38% gc time)\n",
      "Unique CUSIPS in trace dataframe: 25392\n",
      "TRACE/MERGENT Matched CUSIPS Ratio (%): 77.04001260239446\n",
      "Conditional Success Rate (%): 99.96582454276721\n",
      " 91.028756 seconds (57.92 M allocations: 10.353 GiB, 80.93% gc time)\n",
      "Creating IG indicator...\n",
      "Creating AGE and TTM variables...\n",
      "Creating TRADE SIZE Categories...\n",
      "Creating ATS indicator...\n",
      "275.703407 seconds (402.17 M allocations: 29.424 GiB, 82.94% gc time)\n"
     ]
    },
    {
     "ename": "LoadError",
     "evalue": "LoadError: On worker 2:\nUndefVarError: StatsCal not defined\ndeserialize_module at /buildworker/worker/package_linux64/build/usr/share/julia/stdlib/v1.5/Serialization/src/Serialization.jl:956\nhandle_deserialize at /buildworker/worker/package_linux64/build/usr/share/julia/stdlib/v1.5/Serialization/src/Serialization.jl:855\ndeserialize at /buildworker/worker/package_linux64/build/usr/share/julia/stdlib/v1.5/Serialization/src/Serialization.jl:773\ndeserialize_datatype at /buildworker/worker/package_linux64/build/usr/share/julia/stdlib/v1.5/Serialization/src/Serialization.jl:1251\nhandle_deserialize at /buildworker/worker/package_linux64/build/usr/share/julia/stdlib/v1.5/Serialization/src/Serialization.jl:826\ndeserialize at /buildworker/worker/package_linux64/build/usr/share/julia/stdlib/v1.5/Serialization/src/Serialization.jl:773\nhandle_deserialize at /buildworker/worker/package_linux64/build/usr/share/julia/stdlib/v1.5/Serialization/src/Serialization.jl:833\ndeserialize at /buildworker/worker/package_linux64/build/usr/share/julia/stdlib/v1.5/Serialization/src/Serialization.jl:773 [inlined]\ndeserialize_msg at /buildworker/worker/package_linux64/build/usr/share/julia/stdlib/v1.5/Distributed/src/messages.jl:99\n#invokelatest#1 at ./essentials.jl:710 [inlined]\ninvokelatest at ./essentials.jl:709 [inlined]\nmessage_handler_loop at /buildworker/worker/package_linux64/build/usr/share/julia/stdlib/v1.5/Distributed/src/process_messages.jl:185\nprocess_tcp_streams at /buildworker/worker/package_linux64/build/usr/share/julia/stdlib/v1.5/Distributed/src/process_messages.jl:142\n#99 at ./task.jl:356\nin expression starting at /home/artur/BondPricing/bond-data/data-scripts/stats_calculator.jl:53",
     "output_type": "error",
     "traceback": [
      "LoadError: On worker 2:\nUndefVarError: StatsCal not defined\ndeserialize_module at /buildworker/worker/package_linux64/build/usr/share/julia/stdlib/v1.5/Serialization/src/Serialization.jl:956\nhandle_deserialize at /buildworker/worker/package_linux64/build/usr/share/julia/stdlib/v1.5/Serialization/src/Serialization.jl:855\ndeserialize at /buildworker/worker/package_linux64/build/usr/share/julia/stdlib/v1.5/Serialization/src/Serialization.jl:773\ndeserialize_datatype at /buildworker/worker/package_linux64/build/usr/share/julia/stdlib/v1.5/Serialization/src/Serialization.jl:1251\nhandle_deserialize at /buildworker/worker/package_linux64/build/usr/share/julia/stdlib/v1.5/Serialization/src/Serialization.jl:826\ndeserialize at /buildworker/worker/package_linux64/build/usr/share/julia/stdlib/v1.5/Serialization/src/Serialization.jl:773\nhandle_deserialize at /buildworker/worker/package_linux64/build/usr/share/julia/stdlib/v1.5/Serialization/src/Serialization.jl:833\ndeserialize at /buildworker/worker/package_linux64/build/usr/share/julia/stdlib/v1.5/Serialization/src/Serialization.jl:773 [inlined]\ndeserialize_msg at /buildworker/worker/package_linux64/build/usr/share/julia/stdlib/v1.5/Distributed/src/messages.jl:99\n#invokelatest#1 at ./essentials.jl:710 [inlined]\ninvokelatest at ./essentials.jl:709 [inlined]\nmessage_handler_loop at /buildworker/worker/package_linux64/build/usr/share/julia/stdlib/v1.5/Distributed/src/process_messages.jl:185\nprocess_tcp_streams at /buildworker/worker/package_linux64/build/usr/share/julia/stdlib/v1.5/Distributed/src/process_messages.jl:142\n#99 at ./task.jl:356\nin expression starting at /home/artur/BondPricing/bond-data/data-scripts/stats_calculator.jl:53",
      "",
      "Stacktrace:",
      " [1] #remotecall_fetch#143 at /buildworker/worker/package_linux64/build/usr/share/julia/stdlib/v1.5/Distributed/src/remotecall.jl:394 [inlined]",
      " [2] remotecall_fetch(::Function, ::Distributed.Worker, ::Distributed.RRID) at /buildworker/worker/package_linux64/build/usr/share/julia/stdlib/v1.5/Distributed/src/remotecall.jl:386",
      " [3] #remotecall_fetch#146 at /buildworker/worker/package_linux64/build/usr/share/julia/stdlib/v1.5/Distributed/src/remotecall.jl:421 [inlined]",
      " [4] remotecall_fetch at /buildworker/worker/package_linux64/build/usr/share/julia/stdlib/v1.5/Distributed/src/remotecall.jl:421 [inlined]",
      " [5] call_on_owner at /buildworker/worker/package_linux64/build/usr/share/julia/stdlib/v1.5/Distributed/src/remotecall.jl:494 [inlined]",
      " [6] fetch(::Future) at /buildworker/worker/package_linux64/build/usr/share/julia/stdlib/v1.5/Distributed/src/remotecall.jl:533",
      " [7] top-level scope at timing.jl:174",
      " [8] include(::Function, ::Module, ::String) at ./Base.jl:380",
      " [9] include at ./Base.jl:368 [inlined]",
      " [10] include(::String) at ./In[8]:1",
      " [11] top-level scope at ./timing.jl:174 [inlined]",
      " [12] top-level scope at ./In[8]:0",
      " [13] include_string(::Function, ::Module, ::String, ::String) at ./loading.jl:1091",
      " [14] execute_code(::String, ::String) at /home/artur/.julia/packages/IJulia/rWZ9e/src/execute_request.jl:27",
      " [15] execute_request(::ZMQ.Socket, ::IJulia.Msg) at /home/artur/.julia/packages/IJulia/rWZ9e/src/execute_request.jl:86",
      " [16] #invokelatest#1 at ./essentials.jl:710 [inlined]",
      " [17] invokelatest at ./essentials.jl:709 [inlined]",
      " [18] eventloop(::ZMQ.Socket) at /home/artur/.julia/packages/IJulia/rWZ9e/src/eventloop.jl:8",
      " [19] (::IJulia.var\"#15#18\")() at ./task.jl:356"
     ]
    }
   ],
   "source": [
    "module StatsCal\n",
    "    using Distributed\n",
    "\n",
    "    main_path = \"/home/artur/BondPricing/bond-data\"\n",
    "    module_path = string(main_path, \"/module\")\n",
    "    script_path = string(main_path, \"/data-scripts\")\n",
    "    include(string(joinpath(module_path, \"data_module\"), \".jl\"))\n",
    "    include(string(joinpath(module_path, \"stats_module\"), \".jl\"))\n",
    "\n",
    "#     yr = 2019\n",
    "#     qtr = 2\n",
    "    job_num=14\n",
    "    ARGS=[string(job_num)]\n",
    "    @time include(string(joinpath(script_path, \"stats_calculator\"), \".jl\"))\n",
    "end"
   ]
  },
  {
   "cell_type": "code",
   "execution_count": 14,
   "metadata": {},
   "outputs": [
    {
     "data": {
      "text/plain": [
       "1-element Array{String,1}:\n",
       " \"selected\""
      ]
     },
     "execution_count": 14,
     "metadata": {},
     "output_type": "execute_result"
    }
   ],
   "source": [
    "[x for x in names(fdf) if occursin(\"selec\", x)]"
   ]
  },
  {
   "cell_type": "code",
   "execution_count": 7,
   "metadata": {},
   "outputs": [
    {
     "name": "stdout",
     "output_type": "stream",
     "text": [
      "148.306931 seconds (4.78 M allocations: 168.831 MiB, 6.17% gc time)\n",
      " \n",
      "Filename: 2019Q2.0_stats_by_cov_cat.csv\n",
      " \n",
      "Saving dataframe to folder: /home/artur/BondPricing/bond-data/data/Stats/2019...\n",
      "Done!\n",
      "510.281292 seconds (82.47 M allocations: 2.341 GiB, 1.74% gc time)\n",
      " \n",
      "Filename: 2019Q2.0_stats_by_num_cov.csv\n",
      " \n",
      "Saving dataframe to folder: /home/artur/BondPricing/bond-data/data/Stats/2019...\n",
      "Done!\n"
     ]
    }
   ],
   "source": [
    "dto = DataMod.data_obj_constructor()\n",
    "\n",
    "# Generate Trade Execution Quarter variable:\n",
    "if !(:trd_exctn_qtr in Symbol.(names(fdf)))\n",
    "    fdf[!, :trd_exctn_qtr] .= Int64.(ceil.(fdf[!, :trd_exctn_mo]/3))\n",
    "end\n",
    "\n",
    "# Groupby Date Variables:\n",
    "date_cols = [:trd_exctn_yr, :trd_exctn_qtr]\n",
    "# Form combinations of ATS, IG and COVENANT filters\n",
    "combdf =  StatsMod.get_filter_combinations()\n",
    "\n",
    "# STATS BY COVENANT CATEGORIES #######################################\n",
    "# Select cols and create smk indicator variable:\n",
    "ffdf = StatsMod.filter_selected(fdf; date_cols=date_cols)\n",
    "\n",
    "dfl_qtr = @time fetch(Distributed.@spawn [StatsMod.stats_generator(ffdf,\n",
    "                                       StatsMod.dfrow2dict(combdf, row);\n",
    "                                       groupby_date_cols=date_cols)\n",
    "                          for row in 1:size(combdf, 1)])\n",
    "scc = sort(vcat(dfl_qtr...), names(combdf))\n",
    "scc = StatsMod.gen_sbm_rt_cvt_cat_vars(scc)\n",
    "StatsMod.save_stats_data(dto, scc)\n",
    "\n",
    "# STATS BY NUMBER OF COVENANTS #######################################\n",
    "fdf[!, :sum_num_cov] .= sum([fdf[:, Symbol(:cg, x)] for x in 1:15])\n",
    "dfl = []\n",
    "combdf =  StatsMod.get_filter_combinations()\n",
    "combdf = StatsMod.gen_sbm_rt_cvt_cat_vars(combdf)\n",
    "\n",
    "dfl = @time fetch(Distributed.@spawn [StatsMod.compute_stats_by_num_cov(fdf, sbm, rt, combdf) for \n",
    "                    sbm in [:any, :ats, :otc], rt in [:any, :ig, :hy]])\n",
    "\n",
    "snc = vcat(dfl...)\n",
    "StatsMod.save_stats_data(dto, snc)"
   ]
  },
  {
   "cell_type": "code",
   "execution_count": 10,
   "metadata": {},
   "outputs": [
    {
     "name": "stdout",
     "output_type": "stream",
     "text": [
      " \n",
      "Filename: 2019Q2_stats_by_cov_cat.csv\n",
      " \n",
      "Saving dataframe to folder: /home/artur/BondPricing/bond-data/data/Stats/2019...\n",
      "Done!\n",
      " \n",
      "Filename: 2019Q2_stats_by_num_cov.csv\n",
      " \n",
      "Saving dataframe to folder: /home/artur/BondPricing/bond-data/data/Stats/2019...\n",
      "Done!\n"
     ]
    }
   ],
   "source": [
    "StatsMod.save_stats_data(dto, scc)\n",
    "StatsMod.save_stats_data(dto, snc)"
   ]
  },
  {
   "cell_type": "code",
   "execution_count": 12,
   "metadata": {},
   "outputs": [
    {
     "data": {
      "text/html": [
       "<table class=\"data-frame\"><thead><tr><th></th><th>trd_exctn_yr</th><th>trd_exctn_qtr</th><th>sbm</th><th>rt</th><th>median_num_cov</th><th>mean_num_cov</th><th>sum_num_cov</th><th>mean_vol_by_num_cov</th><th>median_vol_by_num_cov</th><th>total_vol_by_num_cov</th><th>trades_by_num_cov</th><th>bonds_by_num_cov</th><th>issuers_by_num_cov</th></tr><tr><th></th><th>Int64</th><th>Float64</th><th>Symbol</th><th>Symbol</th><th>Float64</th><th>Float64</th><th>Int64</th><th>Float64</th><th>Float64</th><th>Float64</th><th>Int64</th><th>Int64</th><th>Int64</th></tr></thead><tbody><p>114 rows × 13 columns</p><tr><th>1</th><td>2019</td><td>2.0</td><td>any</td><td>any</td><td>5.0</td><td>4.68962</td><td>0</td><td>3.86077e5</td><td>25000.0</td><td>310.029</td><td>803023</td><td>11284</td><td>624</td></tr><tr><th>2</th><td>2019</td><td>2.0</td><td>any</td><td>any</td><td>5.0</td><td>4.68962</td><td>1</td><td>4.53358e5</td><td>40000.0</td><td>0.979254</td><td>2160</td><td>20</td><td>14</td></tr><tr><th>3</th><td>2019</td><td>2.0</td><td>any</td><td>any</td><td>5.0</td><td>4.68962</td><td>2</td><td>5.24264e5</td><td>35000.0</td><td>63.3725</td><td>120879</td><td>416</td><td>193</td></tr><tr><th>4</th><td>2019</td><td>2.0</td><td>any</td><td>any</td><td>5.0</td><td>4.68962</td><td>3</td><td>5.50453e5</td><td>36000.0</td><td>119.016</td><td>216214</td><td>643</td><td>318</td></tr><tr><th>5</th><td>2019</td><td>2.0</td><td>any</td><td>any</td><td>5.0</td><td>4.68962</td><td>4</td><td>4.57628e5</td><td>29000.0</td><td>88.2801</td><td>192908</td><td>768</td><td>342</td></tr><tr><th>6</th><td>2019</td><td>2.0</td><td>any</td><td>any</td><td>5.0</td><td>4.68962</td><td>5</td><td>4.69056e5</td><td>29000.0</td><td>211.749</td><td>451436</td><td>1560</td><td>572</td></tr><tr><th>7</th><td>2019</td><td>2.0</td><td>any</td><td>any</td><td>5.0</td><td>4.68962</td><td>6</td><td>4.64675e5</td><td>28000.0</td><td>220.754</td><td>475072</td><td>1529</td><td>539</td></tr><tr><th>8</th><td>2019</td><td>2.0</td><td>any</td><td>any</td><td>5.0</td><td>4.68962</td><td>7</td><td>4.16307e5</td><td>25000.0</td><td>221.014</td><td>530891</td><td>1597</td><td>527</td></tr><tr><th>9</th><td>2019</td><td>2.0</td><td>any</td><td>any</td><td>5.0</td><td>4.68962</td><td>8</td><td>3.88016e5</td><td>25000.0</td><td>187.857</td><td>484147</td><td>1229</td><td>424</td></tr><tr><th>10</th><td>2019</td><td>2.0</td><td>any</td><td>any</td><td>5.0</td><td>4.68962</td><td>9</td><td>4.23795e5</td><td>25000.0</td><td>34.2549</td><td>80829</td><td>238</td><td>149</td></tr><tr><th>11</th><td>2019</td><td>2.0</td><td>any</td><td>any</td><td>5.0</td><td>4.68962</td><td>10</td><td>408248.0</td><td>25000.0</td><td>37.3849</td><td>91574</td><td>203</td><td>132</td></tr><tr><th>12</th><td>2019</td><td>2.0</td><td>any</td><td>any</td><td>5.0</td><td>4.68962</td><td>11</td><td>2.8572e5</td><td>18000.0</td><td>6.46813</td><td>22638</td><td>55</td><td>42</td></tr><tr><th>13</th><td>2019</td><td>2.0</td><td>any</td><td>any</td><td>5.0</td><td>4.68962</td><td>12</td><td>5.18553e5</td><td>50000.0</td><td>1.97517</td><td>3809</td><td>10</td><td>6</td></tr><tr><th>14</th><td>2019</td><td>2.0</td><td>ats</td><td>any</td><td>6.0</td><td>4.78984</td><td>0</td><td>80112.1</td><td>20000.0</td><td>14.3209</td><td>178761</td><td>6616</td><td>541</td></tr><tr><th>15</th><td>2019</td><td>2.0</td><td>ats</td><td>any</td><td>6.0</td><td>4.78984</td><td>1</td><td>131619.0</td><td>24500.0</td><td>0.05528</td><td>420</td><td>17</td><td>12</td></tr><tr><th>16</th><td>2019</td><td>2.0</td><td>ats</td><td>any</td><td>6.0</td><td>4.78984</td><td>2</td><td>1.05871e5</td><td>20000.0</td><td>2.43991</td><td>23046</td><td>379</td><td>172</td></tr><tr><th>17</th><td>2019</td><td>2.0</td><td>ats</td><td>any</td><td>6.0</td><td>4.78984</td><td>3</td><td>302995.0</td><td>25000.0</td><td>13.0048</td><td>42921</td><td>584</td><td>277</td></tr><tr><th>18</th><td>2019</td><td>2.0</td><td>ats</td><td>any</td><td>6.0</td><td>4.78984</td><td>4</td><td>97961.3</td><td>20000.0</td><td>3.85184</td><td>39320</td><td>683</td><td>301</td></tr><tr><th>19</th><td>2019</td><td>2.0</td><td>ats</td><td>any</td><td>6.0</td><td>4.78984</td><td>5</td><td>128021.0</td><td>20000.0</td><td>11.9655</td><td>93465</td><td>1470</td><td>532</td></tr><tr><th>20</th><td>2019</td><td>2.0</td><td>ats</td><td>any</td><td>6.0</td><td>4.78984</td><td>6</td><td>1.3152e5</td><td>20000.0</td><td>13.7398</td><td>104469</td><td>1469</td><td>525</td></tr><tr><th>21</th><td>2019</td><td>2.0</td><td>ats</td><td>any</td><td>6.0</td><td>4.78984</td><td>7</td><td>98823.3</td><td>20000.0</td><td>12.2585</td><td>124045</td><td>1550</td><td>520</td></tr><tr><th>22</th><td>2019</td><td>2.0</td><td>ats</td><td>any</td><td>6.0</td><td>4.78984</td><td>8</td><td>87776.9</td><td>20000.0</td><td>10.2379</td><td>116635</td><td>1201</td><td>417</td></tr><tr><th>23</th><td>2019</td><td>2.0</td><td>ats</td><td>any</td><td>6.0</td><td>4.78984</td><td>9</td><td>86218.0</td><td>15000.0</td><td>1.69806</td><td>19695</td><td>234</td><td>146</td></tr><tr><th>24</th><td>2019</td><td>2.0</td><td>ats</td><td>any</td><td>6.0</td><td>4.78984</td><td>10</td><td>1.01703e5</td><td>15000.0</td><td>2.21285</td><td>21758</td><td>199</td><td>129</td></tr><tr><th>25</th><td>2019</td><td>2.0</td><td>ats</td><td>any</td><td>6.0</td><td>4.78984</td><td>11</td><td>50967.4</td><td>10000.0</td><td>0.282818</td><td>5549</td><td>55</td><td>42</td></tr><tr><th>26</th><td>2019</td><td>2.0</td><td>ats</td><td>any</td><td>6.0</td><td>4.78984</td><td>12</td><td>1.29397e5</td><td>10000.0</td><td>0.082814</td><td>640</td><td>10</td><td>6</td></tr><tr><th>27</th><td>2019</td><td>2.0</td><td>otc</td><td>any</td><td>5.0</td><td>4.66106</td><td>0</td><td>4.73692e5</td><td>25000.0</td><td>295.708</td><td>624262</td><td>11274</td><td>624</td></tr><tr><th>28</th><td>2019</td><td>2.0</td><td>otc</td><td>any</td><td>5.0</td><td>4.66106</td><td>1</td><td>5.3102e5</td><td>50000.0</td><td>0.923974</td><td>1740</td><td>20</td><td>14</td></tr><tr><th>29</th><td>2019</td><td>2.0</td><td>otc</td><td>any</td><td>5.0</td><td>4.66106</td><td>2</td><td>6.22822e5</td><td>50000.0</td><td>60.9326</td><td>97833</td><td>416</td><td>193</td></tr><tr><th>30</th><td>2019</td><td>2.0</td><td>otc</td><td>any</td><td>5.0</td><td>4.66106</td><td>3</td><td>6.11743e5</td><td>45000.0</td><td>106.011</td><td>173293</td><td>643</td><td>318</td></tr><tr><th>31</th><td>2019</td><td>2.0</td><td>otc</td><td>any</td><td>5.0</td><td>4.66106</td><td>4</td><td>5.49706e5</td><td>35000.0</td><td>84.4282</td><td>153588</td><td>768</td><td>342</td></tr><tr><th>32</th><td>2019</td><td>2.0</td><td>otc</td><td>any</td><td>5.0</td><td>4.66106</td><td>5</td><td>5.58098e5</td><td>35000.0</td><td>199.783</td><td>357971</td><td>1560</td><td>572</td></tr><tr><th>33</th><td>2019</td><td>2.0</td><td>otc</td><td>any</td><td>5.0</td><td>4.66106</td><td>6</td><td>5.58588e5</td><td>35000.0</td><td>207.014</td><td>370603</td><td>1529</td><td>539</td></tr><tr><th>34</th><td>2019</td><td>2.0</td><td>otc</td><td>any</td><td>5.0</td><td>4.66106</td><td>7</td><td>5.13107e5</td><td>30000.0</td><td>208.755</td><td>406846</td><td>1597</td><td>527</td></tr><tr><th>35</th><td>2019</td><td>2.0</td><td>otc</td><td>any</td><td>5.0</td><td>4.66106</td><td>8</td><td>4.83301e5</td><td>30000.0</td><td>177.619</td><td>367512</td><td>1229</td><td>424</td></tr><tr><th>36</th><td>2019</td><td>2.0</td><td>otc</td><td>any</td><td>5.0</td><td>4.66106</td><td>9</td><td>5.32549e5</td><td>39000.0</td><td>32.5568</td><td>61134</td><td>237</td><td>149</td></tr><tr><th>37</th><td>2019</td><td>2.0</td><td>otc</td><td>any</td><td>5.0</td><td>4.66106</td><td>10</td><td>5.03782e5</td><td>35000.0</td><td>35.172</td><td>69816</td><td>203</td><td>132</td></tr><tr><th>38</th><td>2019</td><td>2.0</td><td>otc</td><td>any</td><td>5.0</td><td>4.66106</td><td>11</td><td>3.61947e5</td><td>23000.0</td><td>6.18531</td><td>17089</td><td>55</td><td>42</td></tr><tr><th>39</th><td>2019</td><td>2.0</td><td>otc</td><td>any</td><td>5.0</td><td>4.66106</td><td>12</td><td>5.97145e5</td><td>75000.0</td><td>1.89235</td><td>3169</td><td>10</td><td>6</td></tr><tr><th>40</th><td>2019</td><td>2.0</td><td>any</td><td>ig</td><td>5.0</td><td>4.14459</td><td>0</td><td>3.87959e5</td><td>25000.0</td><td>277.39</td><td>714997</td><td>5878</td><td>475</td></tr><tr><th>41</th><td>2019</td><td>2.0</td><td>any</td><td>ig</td><td>5.0</td><td>4.14459</td><td>1</td><td>4.0487e5</td><td>35000.0</td><td>0.709333</td><td>1752</td><td>17</td><td>11</td></tr><tr><th>42</th><td>2019</td><td>2.0</td><td>any</td><td>ig</td><td>5.0</td><td>4.14459</td><td>2</td><td>5.1841e5</td><td>35000.0</td><td>54.0478</td><td>104257</td><td>352</td><td>142</td></tr><tr><th>43</th><td>2019</td><td>2.0</td><td>any</td><td>ig</td><td>5.0</td><td>4.14459</td><td>3</td><td>5.21887e5</td><td>35000.0</td><td>97.909</td><td>187606</td><td>512</td><td>207</td></tr><tr><th>44</th><td>2019</td><td>2.0</td><td>any</td><td>ig</td><td>5.0</td><td>4.14459</td><td>4</td><td>4.60678e5</td><td>26000.0</td><td>74.7261</td><td>162209</td><td>665</td><td>268</td></tr><tr><th>45</th><td>2019</td><td>2.0</td><td>any</td><td>ig</td><td>5.0</td><td>4.14459</td><td>5</td><td>4.61354e5</td><td>25000.0</td><td>172.69</td><td>374311</td><td>1340</td><td>413</td></tr><tr><th>46</th><td>2019</td><td>2.0</td><td>any</td><td>ig</td><td>5.0</td><td>4.14459</td><td>6</td><td>4.44297e5</td><td>25000.0</td><td>163.242</td><td>367416</td><td>1268</td><td>426</td></tr><tr><th>47</th><td>2019</td><td>2.0</td><td>any</td><td>ig</td><td>5.0</td><td>4.14459</td><td>7</td><td>4.43728e5</td><td>25000.0</td><td>163.251</td><td>367908</td><td>1237</td><td>371</td></tr><tr><th>48</th><td>2019</td><td>2.0</td><td>any</td><td>ig</td><td>5.0</td><td>4.14459</td><td>8</td><td>4.23349e5</td><td>25000.0</td><td>135.376</td><td>319775</td><td>935</td><td>283</td></tr><tr><th>49</th><td>2019</td><td>2.0</td><td>any</td><td>ig</td><td>5.0</td><td>4.14459</td><td>9</td><td>4.23558e5</td><td>25000.0</td><td>10.1442</td><td>23950</td><td>83</td><td>43</td></tr><tr><th>50</th><td>2019</td><td>2.0</td><td>any</td><td>ig</td><td>5.0</td><td>4.14459</td><td>10</td><td>458642.0</td><td>30000.0</td><td>2.02169</td><td>4408</td><td>17</td><td>8</td></tr><tr><th>51</th><td>2019</td><td>2.0</td><td>any</td><td>ig</td><td>5.0</td><td>4.14459</td><td>11</td><td>2.71793e5</td><td>30000.0</td><td>0.129917</td><td>478</td><td>5</td><td>4</td></tr><tr><th>52</th><td>2019</td><td>2.0</td><td>ats</td><td>ig</td><td>5.0</td><td>4.13382</td><td>0</td><td>78250.6</td><td>20000.0</td><td>12.9311</td><td>165252</td><td>5011</td><td>423</td></tr><tr><th>53</th><td>2019</td><td>2.0</td><td>ats</td><td>ig</td><td>5.0</td><td>4.13382</td><td>1</td><td>94019.4</td><td>25000.0</td><td>0.033941</td><td>361</td><td>14</td><td>9</td></tr><tr><th>54</th><td>2019</td><td>2.0</td><td>ats</td><td>ig</td><td>5.0</td><td>4.13382</td><td>2</td><td>1.07736e5</td><td>20000.0</td><td>2.15484</td><td>20001</td><td>329</td><td>134</td></tr><tr><th>55</th><td>2019</td><td>2.0</td><td>ats</td><td>ig</td><td>5.0</td><td>4.13382</td><td>3</td><td>2.93449e5</td><td>25000.0</td><td>11.4982</td><td>39183</td><td>484</td><td>193</td></tr><tr><th>56</th><td>2019</td><td>2.0</td><td>ats</td><td>ig</td><td>5.0</td><td>4.13382</td><td>4</td><td>99161.1</td><td>20000.0</td><td>3.34609</td><td>33744</td><td>610</td><td>252</td></tr><tr><th>57</th><td>2019</td><td>2.0</td><td>ats</td><td>ig</td><td>5.0</td><td>4.13382</td><td>5</td><td>105534.0</td><td>20000.0</td><td>8.27682</td><td>78428</td><td>1279</td><td>401</td></tr><tr><th>58</th><td>2019</td><td>2.0</td><td>ats</td><td>ig</td><td>5.0</td><td>4.13382</td><td>6</td><td>1.08682e5</td><td>20000.0</td><td>8.88215</td><td>81726</td><td>1214</td><td>417</td></tr><tr><th>59</th><td>2019</td><td>2.0</td><td>ats</td><td>ig</td><td>5.0</td><td>4.13382</td><td>7</td><td>1.08349e5</td><td>20000.0</td><td>8.78245</td><td>81057</td><td>1201</td><td>369</td></tr><tr><th>60</th><td>2019</td><td>2.0</td><td>ats</td><td>ig</td><td>5.0</td><td>4.13382</td><td>8</td><td>95312.2</td><td>20000.0</td><td>7.14641</td><td>74979</td><td>913</td><td>278</td></tr><tr><th>61</th><td>2019</td><td>2.0</td><td>ats</td><td>ig</td><td>5.0</td><td>4.13382</td><td>9</td><td>69046.2</td><td>20000.0</td><td>0.377821</td><td>5472</td><td>82</td><td>42</td></tr><tr><th>62</th><td>2019</td><td>2.0</td><td>ats</td><td>ig</td><td>5.0</td><td>4.13382</td><td>10</td><td>97758.2</td><td>20000.0</td><td>0.098638</td><td>1009</td><td>16</td><td>8</td></tr><tr><th>63</th><td>2019</td><td>2.0</td><td>ats</td><td>ig</td><td>5.0</td><td>4.13382</td><td>11</td><td>1.21418e5</td><td>25000.0</td><td>0.011899</td><td>98</td><td>5</td><td>4</td></tr><tr><th>64</th><td>2019</td><td>2.0</td><td>otc</td><td>ig</td><td>5.0</td><td>4.14765</td><td>0</td><td>4.81057e5</td><td>25000.0</td><td>264.458</td><td>549745</td><td>5872</td><td>475</td></tr><tr><th>65</th><td>2019</td><td>2.0</td><td>otc</td><td>ig</td><td>5.0</td><td>4.14765</td><td>1</td><td>4.85544e5</td><td>40000.0</td><td>0.675392</td><td>1391</td><td>17</td><td>11</td></tr><tr><th>66</th><td>2019</td><td>2.0</td><td>otc</td><td>ig</td><td>5.0</td><td>4.14765</td><td>2</td><td>6.15897e5</td><td>48000.0</td><td>51.893</td><td>84256</td><td>352</td><td>142</td></tr><tr><th>67</th><td>2019</td><td>2.0</td><td>otc</td><td>ig</td><td>5.0</td><td>4.14765</td><td>3</td><td>582193.0</td><td>43000.0</td><td>86.4108</td><td>148423</td><td>512</td><td>207</td></tr><tr><th>68</th><td>2019</td><td>2.0</td><td>otc</td><td>ig</td><td>5.0</td><td>4.14765</td><td>4</td><td>5.55637e5</td><td>34000.0</td><td>71.38</td><td>128465</td><td>665</td><td>268</td></tr><tr><th>69</th><td>2019</td><td>2.0</td><td>otc</td><td>ig</td><td>5.0</td><td>4.14765</td><td>5</td><td>5.55669e5</td><td>30000.0</td><td>164.413</td><td>295883</td><td>1340</td><td>413</td></tr><tr><th>70</th><td>2019</td><td>2.0</td><td>otc</td><td>ig</td><td>5.0</td><td>4.14765</td><td>6</td><td>5.40305e5</td><td>30000.0</td><td>154.36</td><td>285690</td><td>1268</td><td>426</td></tr><tr><th>71</th><td>2019</td><td>2.0</td><td>otc</td><td>ig</td><td>5.0</td><td>4.14765</td><td>7</td><td>5.38498e5</td><td>30000.0</td><td>154.469</td><td>286851</td><td>1237</td><td>371</td></tr><tr><th>72</th><td>2019</td><td>2.0</td><td>otc</td><td>ig</td><td>5.0</td><td>4.14765</td><td>8</td><td>5.23824e5</td><td>30000.0</td><td>128.23</td><td>244796</td><td>935</td><td>283</td></tr><tr><th>73</th><td>2019</td><td>2.0</td><td>otc</td><td>ig</td><td>5.0</td><td>4.14765</td><td>9</td><td>5.28542e5</td><td>35000.0</td><td>9.7664</td><td>18478</td><td>82</td><td>43</td></tr><tr><th>74</th><td>2019</td><td>2.0</td><td>otc</td><td>ig</td><td>5.0</td><td>4.14765</td><td>10</td><td>5.65771e5</td><td>40000.0</td><td>1.92306</td><td>3399</td><td>17</td><td>8</td></tr><tr><th>75</th><td>2019</td><td>2.0</td><td>otc</td><td>ig</td><td>5.0</td><td>4.14765</td><td>11</td><td>3.10574e5</td><td>39500.0</td><td>0.118018</td><td>380</td><td>5</td><td>4</td></tr><tr><th>76</th><td>2019</td><td>2.0</td><td>any</td><td>hy</td><td>7.0</td><td>6.38233</td><td>0</td><td>3.70789e5</td><td>25000.0</td><td>32.639</td><td>88026</td><td>5422</td><td>206</td></tr><tr><th>77</th><td>2019</td><td>2.0</td><td>any</td><td>hy</td><td>7.0</td><td>6.38233</td><td>1</td><td>6.61571e5</td><td>89500.0</td><td>0.269921</td><td>408</td><td>3</td><td>3</td></tr><tr><th>78</th><td>2019</td><td>2.0</td><td>any</td><td>hy</td><td>7.0</td><td>6.38233</td><td>2</td><td>5.60983e5</td><td>40000.0</td><td>9.32466</td><td>16622</td><td>74</td><td>59</td></tr><tr><th>79</th><td>2019</td><td>2.0</td><td>any</td><td>hy</td><td>7.0</td><td>6.38233</td><td>3</td><td>7.37788e5</td><td>46000.0</td><td>21.1066</td><td>28608</td><td>134</td><td>118</td></tr><tr><th>80</th><td>2019</td><td>2.0</td><td>any</td><td>hy</td><td>7.0</td><td>6.38233</td><td>4</td><td>4.41513e5</td><td>34000.0</td><td>13.554</td><td>30699</td><td>107</td><td>87</td></tr><tr><th>81</th><td>2019</td><td>2.0</td><td>any</td><td>hy</td><td>7.0</td><td>6.38233</td><td>5</td><td>5.06433e5</td><td>40000.0</td><td>39.0586</td><td>77125</td><td>228</td><td>170</td></tr><tr><th>82</th><td>2019</td><td>2.0</td><td>any</td><td>hy</td><td>7.0</td><td>6.38233</td><td>6</td><td>5.34223e5</td><td>40000.0</td><td>57.5123</td><td>107656</td><td>276</td><td>130</td></tr><tr><th>83</th><td>2019</td><td>2.0</td><td>any</td><td>hy</td><td>7.0</td><td>6.38233</td><td>7</td><td>3.5441e5</td><td>25000.0</td><td>57.7627</td><td>162983</td><td>371</td><td>174</td></tr><tr><th>84</th><td>2019</td><td>2.0</td><td>any</td><td>hy</td><td>7.0</td><td>6.38233</td><td>8</td><td>3.19278e5</td><td>25000.0</td><td>52.4804</td><td>164372</td><td>297</td><td>151</td></tr><tr><th>85</th><td>2019</td><td>2.0</td><td>any</td><td>hy</td><td>7.0</td><td>6.38233</td><td>9</td><td>4.23894e5</td><td>25000.0</td><td>24.1107</td><td>56879</td><td>160</td><td>110</td></tr><tr><th>86</th><td>2019</td><td>2.0</td><td>any</td><td>hy</td><td>7.0</td><td>6.38233</td><td>10</td><td>4.057e5</td><td>25000.0</td><td>35.3632</td><td>87166</td><td>186</td><td>124</td></tr><tr><th>87</th><td>2019</td><td>2.0</td><td>any</td><td>hy</td><td>7.0</td><td>6.38233</td><td>11</td><td>2.8602e5</td><td>17000.0</td><td>6.33821</td><td>22160</td><td>52</td><td>39</td></tr><tr><th>88</th><td>2019</td><td>2.0</td><td>any</td><td>hy</td><td>7.0</td><td>6.38233</td><td>12</td><td>5.18553e5</td><td>50000.0</td><td>1.97517</td><td>3809</td><td>10</td><td>6</td></tr><tr><th>89</th><td>2019</td><td>2.0</td><td>ats</td><td>hy</td><td>7.0</td><td>6.80315</td><td>0</td><td>1.02883e5</td><td>15000.0</td><td>1.38985</td><td>13509</td><td>1610</td><td>167</td></tr><tr><th>90</th><td>2019</td><td>2.0</td><td>ats</td><td>hy</td><td>7.0</td><td>6.80315</td><td>1</td><td>361678.0</td><td>20000.0</td><td>0.021339</td><td>59</td><td>3</td><td>3</td></tr><tr><th>91</th><td>2019</td><td>2.0</td><td>ats</td><td>hy</td><td>7.0</td><td>6.80315</td><td>2</td><td>93620.4</td><td>20000.0</td><td>0.285074</td><td>3045</td><td>60</td><td>46</td></tr><tr><th>92</th><td>2019</td><td>2.0</td><td>ats</td><td>hy</td><td>7.0</td><td>6.80315</td><td>3</td><td>4.03057e5</td><td>20000.0</td><td>1.50663</td><td>3738</td><td>102</td><td>90</td></tr><tr><th>93</th><td>2019</td><td>2.0</td><td>ats</td><td>hy</td><td>7.0</td><td>6.80315</td><td>4</td><td>90700.5</td><td>15000.0</td><td>0.505746</td><td>5576</td><td>77</td><td>60</td></tr><tr><th>94</th><td>2019</td><td>2.0</td><td>ats</td><td>hy</td><td>7.0</td><td>6.80315</td><td>5</td><td>2.45306e5</td><td>20000.0</td><td>3.68866</td><td>15037</td><td>197</td><td>142</td></tr><tr><th>95</th><td>2019</td><td>2.0</td><td>ats</td><td>hy</td><td>7.0</td><td>6.80315</td><td>6</td><td>2.13589e5</td><td>20000.0</td><td>4.85766</td><td>22743</td><td>270</td><td>125</td></tr><tr><th>96</th><td>2019</td><td>2.0</td><td>ats</td><td>hy</td><td>7.0</td><td>6.80315</td><td>7</td><td>80861.6</td><td>15000.0</td><td>3.47608</td><td>42988</td><td>359</td><td>169</td></tr><tr><th>97</th><td>2019</td><td>2.0</td><td>ats</td><td>hy</td><td>7.0</td><td>6.80315</td><td>8</td><td>74213.6</td><td>15000.0</td><td>3.09144</td><td>41656</td><td>291</td><td>148</td></tr><tr><th>98</th><td>2019</td><td>2.0</td><td>ats</td><td>hy</td><td>7.0</td><td>6.80315</td><td>9</td><td>92824.4</td><td>12000.0</td><td>1.32024</td><td>14223</td><td>157</td><td>108</td></tr><tr><th>99</th><td>2019</td><td>2.0</td><td>ats</td><td>hy</td><td>7.0</td><td>6.80315</td><td>10</td><td>1.01895e5</td><td>14000.0</td><td>2.11421</td><td>20749</td><td>183</td><td>121</td></tr><tr><th>100</th><td>2019</td><td>2.0</td><td>ats</td><td>hy</td><td>7.0</td><td>6.80315</td><td>11</td><td>49700.8</td><td>10000.0</td><td>0.270919</td><td>5451</td><td>52</td><td>39</td></tr><tr><th>&vellip;</th><td>&vellip;</td><td>&vellip;</td><td>&vellip;</td><td>&vellip;</td><td>&vellip;</td><td>&vellip;</td><td>&vellip;</td><td>&vellip;</td><td>&vellip;</td><td>&vellip;</td><td>&vellip;</td><td>&vellip;</td><td>&vellip;</td></tr></tbody></table>"
      ],
      "text/latex": [
       "\\begin{tabular}{r|ccccccccccccc}\n",
       "\t& trd\\_exctn\\_yr & trd\\_exctn\\_qtr & sbm & rt & median\\_num\\_cov & mean\\_num\\_cov & sum\\_num\\_cov & mean\\_vol\\_by\\_num\\_cov & median\\_vol\\_by\\_num\\_cov & total\\_vol\\_by\\_num\\_cov & trades\\_by\\_num\\_cov & bonds\\_by\\_num\\_cov & issuers\\_by\\_num\\_cov\\\\\n",
       "\t\\hline\n",
       "\t& Int64 & Float64 & Symbol & Symbol & Float64 & Float64 & Int64 & Float64 & Float64 & Float64 & Int64 & Int64 & Int64\\\\\n",
       "\t\\hline\n",
       "\t1 & 2019 & 2.0 & any & any & 5.0 & 4.68962 & 0 & 3.86077e5 & 25000.0 & 310.029 & 803023 & 11284 & 624 \\\\\n",
       "\t2 & 2019 & 2.0 & any & any & 5.0 & 4.68962 & 1 & 4.53358e5 & 40000.0 & 0.979254 & 2160 & 20 & 14 \\\\\n",
       "\t3 & 2019 & 2.0 & any & any & 5.0 & 4.68962 & 2 & 5.24264e5 & 35000.0 & 63.3725 & 120879 & 416 & 193 \\\\\n",
       "\t4 & 2019 & 2.0 & any & any & 5.0 & 4.68962 & 3 & 5.50453e5 & 36000.0 & 119.016 & 216214 & 643 & 318 \\\\\n",
       "\t5 & 2019 & 2.0 & any & any & 5.0 & 4.68962 & 4 & 4.57628e5 & 29000.0 & 88.2801 & 192908 & 768 & 342 \\\\\n",
       "\t6 & 2019 & 2.0 & any & any & 5.0 & 4.68962 & 5 & 4.69056e5 & 29000.0 & 211.749 & 451436 & 1560 & 572 \\\\\n",
       "\t7 & 2019 & 2.0 & any & any & 5.0 & 4.68962 & 6 & 4.64675e5 & 28000.0 & 220.754 & 475072 & 1529 & 539 \\\\\n",
       "\t8 & 2019 & 2.0 & any & any & 5.0 & 4.68962 & 7 & 4.16307e5 & 25000.0 & 221.014 & 530891 & 1597 & 527 \\\\\n",
       "\t9 & 2019 & 2.0 & any & any & 5.0 & 4.68962 & 8 & 3.88016e5 & 25000.0 & 187.857 & 484147 & 1229 & 424 \\\\\n",
       "\t10 & 2019 & 2.0 & any & any & 5.0 & 4.68962 & 9 & 4.23795e5 & 25000.0 & 34.2549 & 80829 & 238 & 149 \\\\\n",
       "\t11 & 2019 & 2.0 & any & any & 5.0 & 4.68962 & 10 & 408248.0 & 25000.0 & 37.3849 & 91574 & 203 & 132 \\\\\n",
       "\t12 & 2019 & 2.0 & any & any & 5.0 & 4.68962 & 11 & 2.8572e5 & 18000.0 & 6.46813 & 22638 & 55 & 42 \\\\\n",
       "\t13 & 2019 & 2.0 & any & any & 5.0 & 4.68962 & 12 & 5.18553e5 & 50000.0 & 1.97517 & 3809 & 10 & 6 \\\\\n",
       "\t14 & 2019 & 2.0 & ats & any & 6.0 & 4.78984 & 0 & 80112.1 & 20000.0 & 14.3209 & 178761 & 6616 & 541 \\\\\n",
       "\t15 & 2019 & 2.0 & ats & any & 6.0 & 4.78984 & 1 & 131619.0 & 24500.0 & 0.05528 & 420 & 17 & 12 \\\\\n",
       "\t16 & 2019 & 2.0 & ats & any & 6.0 & 4.78984 & 2 & 1.05871e5 & 20000.0 & 2.43991 & 23046 & 379 & 172 \\\\\n",
       "\t17 & 2019 & 2.0 & ats & any & 6.0 & 4.78984 & 3 & 302995.0 & 25000.0 & 13.0048 & 42921 & 584 & 277 \\\\\n",
       "\t18 & 2019 & 2.0 & ats & any & 6.0 & 4.78984 & 4 & 97961.3 & 20000.0 & 3.85184 & 39320 & 683 & 301 \\\\\n",
       "\t19 & 2019 & 2.0 & ats & any & 6.0 & 4.78984 & 5 & 128021.0 & 20000.0 & 11.9655 & 93465 & 1470 & 532 \\\\\n",
       "\t20 & 2019 & 2.0 & ats & any & 6.0 & 4.78984 & 6 & 1.3152e5 & 20000.0 & 13.7398 & 104469 & 1469 & 525 \\\\\n",
       "\t21 & 2019 & 2.0 & ats & any & 6.0 & 4.78984 & 7 & 98823.3 & 20000.0 & 12.2585 & 124045 & 1550 & 520 \\\\\n",
       "\t22 & 2019 & 2.0 & ats & any & 6.0 & 4.78984 & 8 & 87776.9 & 20000.0 & 10.2379 & 116635 & 1201 & 417 \\\\\n",
       "\t23 & 2019 & 2.0 & ats & any & 6.0 & 4.78984 & 9 & 86218.0 & 15000.0 & 1.69806 & 19695 & 234 & 146 \\\\\n",
       "\t24 & 2019 & 2.0 & ats & any & 6.0 & 4.78984 & 10 & 1.01703e5 & 15000.0 & 2.21285 & 21758 & 199 & 129 \\\\\n",
       "\t25 & 2019 & 2.0 & ats & any & 6.0 & 4.78984 & 11 & 50967.4 & 10000.0 & 0.282818 & 5549 & 55 & 42 \\\\\n",
       "\t26 & 2019 & 2.0 & ats & any & 6.0 & 4.78984 & 12 & 1.29397e5 & 10000.0 & 0.082814 & 640 & 10 & 6 \\\\\n",
       "\t27 & 2019 & 2.0 & otc & any & 5.0 & 4.66106 & 0 & 4.73692e5 & 25000.0 & 295.708 & 624262 & 11274 & 624 \\\\\n",
       "\t28 & 2019 & 2.0 & otc & any & 5.0 & 4.66106 & 1 & 5.3102e5 & 50000.0 & 0.923974 & 1740 & 20 & 14 \\\\\n",
       "\t29 & 2019 & 2.0 & otc & any & 5.0 & 4.66106 & 2 & 6.22822e5 & 50000.0 & 60.9326 & 97833 & 416 & 193 \\\\\n",
       "\t30 & 2019 & 2.0 & otc & any & 5.0 & 4.66106 & 3 & 6.11743e5 & 45000.0 & 106.011 & 173293 & 643 & 318 \\\\\n",
       "\t31 & 2019 & 2.0 & otc & any & 5.0 & 4.66106 & 4 & 5.49706e5 & 35000.0 & 84.4282 & 153588 & 768 & 342 \\\\\n",
       "\t32 & 2019 & 2.0 & otc & any & 5.0 & 4.66106 & 5 & 5.58098e5 & 35000.0 & 199.783 & 357971 & 1560 & 572 \\\\\n",
       "\t33 & 2019 & 2.0 & otc & any & 5.0 & 4.66106 & 6 & 5.58588e5 & 35000.0 & 207.014 & 370603 & 1529 & 539 \\\\\n",
       "\t34 & 2019 & 2.0 & otc & any & 5.0 & 4.66106 & 7 & 5.13107e5 & 30000.0 & 208.755 & 406846 & 1597 & 527 \\\\\n",
       "\t35 & 2019 & 2.0 & otc & any & 5.0 & 4.66106 & 8 & 4.83301e5 & 30000.0 & 177.619 & 367512 & 1229 & 424 \\\\\n",
       "\t36 & 2019 & 2.0 & otc & any & 5.0 & 4.66106 & 9 & 5.32549e5 & 39000.0 & 32.5568 & 61134 & 237 & 149 \\\\\n",
       "\t37 & 2019 & 2.0 & otc & any & 5.0 & 4.66106 & 10 & 5.03782e5 & 35000.0 & 35.172 & 69816 & 203 & 132 \\\\\n",
       "\t38 & 2019 & 2.0 & otc & any & 5.0 & 4.66106 & 11 & 3.61947e5 & 23000.0 & 6.18531 & 17089 & 55 & 42 \\\\\n",
       "\t39 & 2019 & 2.0 & otc & any & 5.0 & 4.66106 & 12 & 5.97145e5 & 75000.0 & 1.89235 & 3169 & 10 & 6 \\\\\n",
       "\t40 & 2019 & 2.0 & any & ig & 5.0 & 4.14459 & 0 & 3.87959e5 & 25000.0 & 277.39 & 714997 & 5878 & 475 \\\\\n",
       "\t41 & 2019 & 2.0 & any & ig & 5.0 & 4.14459 & 1 & 4.0487e5 & 35000.0 & 0.709333 & 1752 & 17 & 11 \\\\\n",
       "\t42 & 2019 & 2.0 & any & ig & 5.0 & 4.14459 & 2 & 5.1841e5 & 35000.0 & 54.0478 & 104257 & 352 & 142 \\\\\n",
       "\t43 & 2019 & 2.0 & any & ig & 5.0 & 4.14459 & 3 & 5.21887e5 & 35000.0 & 97.909 & 187606 & 512 & 207 \\\\\n",
       "\t44 & 2019 & 2.0 & any & ig & 5.0 & 4.14459 & 4 & 4.60678e5 & 26000.0 & 74.7261 & 162209 & 665 & 268 \\\\\n",
       "\t45 & 2019 & 2.0 & any & ig & 5.0 & 4.14459 & 5 & 4.61354e5 & 25000.0 & 172.69 & 374311 & 1340 & 413 \\\\\n",
       "\t46 & 2019 & 2.0 & any & ig & 5.0 & 4.14459 & 6 & 4.44297e5 & 25000.0 & 163.242 & 367416 & 1268 & 426 \\\\\n",
       "\t47 & 2019 & 2.0 & any & ig & 5.0 & 4.14459 & 7 & 4.43728e5 & 25000.0 & 163.251 & 367908 & 1237 & 371 \\\\\n",
       "\t48 & 2019 & 2.0 & any & ig & 5.0 & 4.14459 & 8 & 4.23349e5 & 25000.0 & 135.376 & 319775 & 935 & 283 \\\\\n",
       "\t49 & 2019 & 2.0 & any & ig & 5.0 & 4.14459 & 9 & 4.23558e5 & 25000.0 & 10.1442 & 23950 & 83 & 43 \\\\\n",
       "\t50 & 2019 & 2.0 & any & ig & 5.0 & 4.14459 & 10 & 458642.0 & 30000.0 & 2.02169 & 4408 & 17 & 8 \\\\\n",
       "\t51 & 2019 & 2.0 & any & ig & 5.0 & 4.14459 & 11 & 2.71793e5 & 30000.0 & 0.129917 & 478 & 5 & 4 \\\\\n",
       "\t52 & 2019 & 2.0 & ats & ig & 5.0 & 4.13382 & 0 & 78250.6 & 20000.0 & 12.9311 & 165252 & 5011 & 423 \\\\\n",
       "\t53 & 2019 & 2.0 & ats & ig & 5.0 & 4.13382 & 1 & 94019.4 & 25000.0 & 0.033941 & 361 & 14 & 9 \\\\\n",
       "\t54 & 2019 & 2.0 & ats & ig & 5.0 & 4.13382 & 2 & 1.07736e5 & 20000.0 & 2.15484 & 20001 & 329 & 134 \\\\\n",
       "\t55 & 2019 & 2.0 & ats & ig & 5.0 & 4.13382 & 3 & 2.93449e5 & 25000.0 & 11.4982 & 39183 & 484 & 193 \\\\\n",
       "\t56 & 2019 & 2.0 & ats & ig & 5.0 & 4.13382 & 4 & 99161.1 & 20000.0 & 3.34609 & 33744 & 610 & 252 \\\\\n",
       "\t57 & 2019 & 2.0 & ats & ig & 5.0 & 4.13382 & 5 & 105534.0 & 20000.0 & 8.27682 & 78428 & 1279 & 401 \\\\\n",
       "\t58 & 2019 & 2.0 & ats & ig & 5.0 & 4.13382 & 6 & 1.08682e5 & 20000.0 & 8.88215 & 81726 & 1214 & 417 \\\\\n",
       "\t59 & 2019 & 2.0 & ats & ig & 5.0 & 4.13382 & 7 & 1.08349e5 & 20000.0 & 8.78245 & 81057 & 1201 & 369 \\\\\n",
       "\t60 & 2019 & 2.0 & ats & ig & 5.0 & 4.13382 & 8 & 95312.2 & 20000.0 & 7.14641 & 74979 & 913 & 278 \\\\\n",
       "\t61 & 2019 & 2.0 & ats & ig & 5.0 & 4.13382 & 9 & 69046.2 & 20000.0 & 0.377821 & 5472 & 82 & 42 \\\\\n",
       "\t62 & 2019 & 2.0 & ats & ig & 5.0 & 4.13382 & 10 & 97758.2 & 20000.0 & 0.098638 & 1009 & 16 & 8 \\\\\n",
       "\t63 & 2019 & 2.0 & ats & ig & 5.0 & 4.13382 & 11 & 1.21418e5 & 25000.0 & 0.011899 & 98 & 5 & 4 \\\\\n",
       "\t64 & 2019 & 2.0 & otc & ig & 5.0 & 4.14765 & 0 & 4.81057e5 & 25000.0 & 264.458 & 549745 & 5872 & 475 \\\\\n",
       "\t65 & 2019 & 2.0 & otc & ig & 5.0 & 4.14765 & 1 & 4.85544e5 & 40000.0 & 0.675392 & 1391 & 17 & 11 \\\\\n",
       "\t66 & 2019 & 2.0 & otc & ig & 5.0 & 4.14765 & 2 & 6.15897e5 & 48000.0 & 51.893 & 84256 & 352 & 142 \\\\\n",
       "\t67 & 2019 & 2.0 & otc & ig & 5.0 & 4.14765 & 3 & 582193.0 & 43000.0 & 86.4108 & 148423 & 512 & 207 \\\\\n",
       "\t68 & 2019 & 2.0 & otc & ig & 5.0 & 4.14765 & 4 & 5.55637e5 & 34000.0 & 71.38 & 128465 & 665 & 268 \\\\\n",
       "\t69 & 2019 & 2.0 & otc & ig & 5.0 & 4.14765 & 5 & 5.55669e5 & 30000.0 & 164.413 & 295883 & 1340 & 413 \\\\\n",
       "\t70 & 2019 & 2.0 & otc & ig & 5.0 & 4.14765 & 6 & 5.40305e5 & 30000.0 & 154.36 & 285690 & 1268 & 426 \\\\\n",
       "\t71 & 2019 & 2.0 & otc & ig & 5.0 & 4.14765 & 7 & 5.38498e5 & 30000.0 & 154.469 & 286851 & 1237 & 371 \\\\\n",
       "\t72 & 2019 & 2.0 & otc & ig & 5.0 & 4.14765 & 8 & 5.23824e5 & 30000.0 & 128.23 & 244796 & 935 & 283 \\\\\n",
       "\t73 & 2019 & 2.0 & otc & ig & 5.0 & 4.14765 & 9 & 5.28542e5 & 35000.0 & 9.7664 & 18478 & 82 & 43 \\\\\n",
       "\t74 & 2019 & 2.0 & otc & ig & 5.0 & 4.14765 & 10 & 5.65771e5 & 40000.0 & 1.92306 & 3399 & 17 & 8 \\\\\n",
       "\t75 & 2019 & 2.0 & otc & ig & 5.0 & 4.14765 & 11 & 3.10574e5 & 39500.0 & 0.118018 & 380 & 5 & 4 \\\\\n",
       "\t76 & 2019 & 2.0 & any & hy & 7.0 & 6.38233 & 0 & 3.70789e5 & 25000.0 & 32.639 & 88026 & 5422 & 206 \\\\\n",
       "\t77 & 2019 & 2.0 & any & hy & 7.0 & 6.38233 & 1 & 6.61571e5 & 89500.0 & 0.269921 & 408 & 3 & 3 \\\\\n",
       "\t78 & 2019 & 2.0 & any & hy & 7.0 & 6.38233 & 2 & 5.60983e5 & 40000.0 & 9.32466 & 16622 & 74 & 59 \\\\\n",
       "\t79 & 2019 & 2.0 & any & hy & 7.0 & 6.38233 & 3 & 7.37788e5 & 46000.0 & 21.1066 & 28608 & 134 & 118 \\\\\n",
       "\t80 & 2019 & 2.0 & any & hy & 7.0 & 6.38233 & 4 & 4.41513e5 & 34000.0 & 13.554 & 30699 & 107 & 87 \\\\\n",
       "\t81 & 2019 & 2.0 & any & hy & 7.0 & 6.38233 & 5 & 5.06433e5 & 40000.0 & 39.0586 & 77125 & 228 & 170 \\\\\n",
       "\t82 & 2019 & 2.0 & any & hy & 7.0 & 6.38233 & 6 & 5.34223e5 & 40000.0 & 57.5123 & 107656 & 276 & 130 \\\\\n",
       "\t83 & 2019 & 2.0 & any & hy & 7.0 & 6.38233 & 7 & 3.5441e5 & 25000.0 & 57.7627 & 162983 & 371 & 174 \\\\\n",
       "\t84 & 2019 & 2.0 & any & hy & 7.0 & 6.38233 & 8 & 3.19278e5 & 25000.0 & 52.4804 & 164372 & 297 & 151 \\\\\n",
       "\t85 & 2019 & 2.0 & any & hy & 7.0 & 6.38233 & 9 & 4.23894e5 & 25000.0 & 24.1107 & 56879 & 160 & 110 \\\\\n",
       "\t86 & 2019 & 2.0 & any & hy & 7.0 & 6.38233 & 10 & 4.057e5 & 25000.0 & 35.3632 & 87166 & 186 & 124 \\\\\n",
       "\t87 & 2019 & 2.0 & any & hy & 7.0 & 6.38233 & 11 & 2.8602e5 & 17000.0 & 6.33821 & 22160 & 52 & 39 \\\\\n",
       "\t88 & 2019 & 2.0 & any & hy & 7.0 & 6.38233 & 12 & 5.18553e5 & 50000.0 & 1.97517 & 3809 & 10 & 6 \\\\\n",
       "\t89 & 2019 & 2.0 & ats & hy & 7.0 & 6.80315 & 0 & 1.02883e5 & 15000.0 & 1.38985 & 13509 & 1610 & 167 \\\\\n",
       "\t90 & 2019 & 2.0 & ats & hy & 7.0 & 6.80315 & 1 & 361678.0 & 20000.0 & 0.021339 & 59 & 3 & 3 \\\\\n",
       "\t91 & 2019 & 2.0 & ats & hy & 7.0 & 6.80315 & 2 & 93620.4 & 20000.0 & 0.285074 & 3045 & 60 & 46 \\\\\n",
       "\t92 & 2019 & 2.0 & ats & hy & 7.0 & 6.80315 & 3 & 4.03057e5 & 20000.0 & 1.50663 & 3738 & 102 & 90 \\\\\n",
       "\t93 & 2019 & 2.0 & ats & hy & 7.0 & 6.80315 & 4 & 90700.5 & 15000.0 & 0.505746 & 5576 & 77 & 60 \\\\\n",
       "\t94 & 2019 & 2.0 & ats & hy & 7.0 & 6.80315 & 5 & 2.45306e5 & 20000.0 & 3.68866 & 15037 & 197 & 142 \\\\\n",
       "\t95 & 2019 & 2.0 & ats & hy & 7.0 & 6.80315 & 6 & 2.13589e5 & 20000.0 & 4.85766 & 22743 & 270 & 125 \\\\\n",
       "\t96 & 2019 & 2.0 & ats & hy & 7.0 & 6.80315 & 7 & 80861.6 & 15000.0 & 3.47608 & 42988 & 359 & 169 \\\\\n",
       "\t97 & 2019 & 2.0 & ats & hy & 7.0 & 6.80315 & 8 & 74213.6 & 15000.0 & 3.09144 & 41656 & 291 & 148 \\\\\n",
       "\t98 & 2019 & 2.0 & ats & hy & 7.0 & 6.80315 & 9 & 92824.4 & 12000.0 & 1.32024 & 14223 & 157 & 108 \\\\\n",
       "\t99 & 2019 & 2.0 & ats & hy & 7.0 & 6.80315 & 10 & 1.01895e5 & 14000.0 & 2.11421 & 20749 & 183 & 121 \\\\\n",
       "\t100 & 2019 & 2.0 & ats & hy & 7.0 & 6.80315 & 11 & 49700.8 & 10000.0 & 0.270919 & 5451 & 52 & 39 \\\\\n",
       "\t$\\dots$ & $\\dots$ & $\\dots$ & $\\dots$ & $\\dots$ & $\\dots$ & $\\dots$ & $\\dots$ & $\\dots$ & $\\dots$ & $\\dots$ & $\\dots$ & $\\dots$ & $\\dots$ \\\\\n",
       "\\end{tabular}\n"
      ],
      "text/plain": [
       "114×13 DataFrame\n",
       "│ Row │ trd_exctn_yr │ trd_exctn_qtr │ sbm    │ rt     │ median_num_cov │ mean_num_cov │ sum_num_cov │ mean_vol_by_num_cov │ median_vol_by_num_cov │ total_vol_by_num_cov │ trades_by_num_cov │ bonds_by_num_cov │ issuers_by_num_cov │\n",
       "│     │ \u001b[90mInt64\u001b[39m        │ \u001b[90mFloat64\u001b[39m       │ \u001b[90mSymbol\u001b[39m │ \u001b[90mSymbol\u001b[39m │ \u001b[90mFloat64\u001b[39m        │ \u001b[90mFloat64\u001b[39m      │ \u001b[90mInt64\u001b[39m       │ \u001b[90mFloat64\u001b[39m             │ \u001b[90mFloat64\u001b[39m               │ \u001b[90mFloat64\u001b[39m              │ \u001b[90mInt64\u001b[39m             │ \u001b[90mInt64\u001b[39m            │ \u001b[90mInt64\u001b[39m              │\n",
       "├─────┼──────────────┼───────────────┼────────┼────────┼────────────────┼──────────────┼─────────────┼─────────────────────┼───────────────────────┼──────────────────────┼───────────────────┼──────────────────┼────────────────────┤\n",
       "│ 1   │ 2019         │ 2.0           │ any    │ any    │ 5.0            │ 4.68962      │ 0           │ 3.86077e5           │ 25000.0               │ 310.029              │ 803023            │ 11284            │ 624                │\n",
       "│ 2   │ 2019         │ 2.0           │ any    │ any    │ 5.0            │ 4.68962      │ 1           │ 4.53358e5           │ 40000.0               │ 0.979254             │ 2160              │ 20               │ 14                 │\n",
       "│ 3   │ 2019         │ 2.0           │ any    │ any    │ 5.0            │ 4.68962      │ 2           │ 5.24264e5           │ 35000.0               │ 63.3725              │ 120879            │ 416              │ 193                │\n",
       "│ 4   │ 2019         │ 2.0           │ any    │ any    │ 5.0            │ 4.68962      │ 3           │ 5.50453e5           │ 36000.0               │ 119.016              │ 216214            │ 643              │ 318                │\n",
       "│ 5   │ 2019         │ 2.0           │ any    │ any    │ 5.0            │ 4.68962      │ 4           │ 4.57628e5           │ 29000.0               │ 88.2801              │ 192908            │ 768              │ 342                │\n",
       "│ 6   │ 2019         │ 2.0           │ any    │ any    │ 5.0            │ 4.68962      │ 5           │ 4.69056e5           │ 29000.0               │ 211.749              │ 451436            │ 1560             │ 572                │\n",
       "│ 7   │ 2019         │ 2.0           │ any    │ any    │ 5.0            │ 4.68962      │ 6           │ 4.64675e5           │ 28000.0               │ 220.754              │ 475072            │ 1529             │ 539                │\n",
       "│ 8   │ 2019         │ 2.0           │ any    │ any    │ 5.0            │ 4.68962      │ 7           │ 4.16307e5           │ 25000.0               │ 221.014              │ 530891            │ 1597             │ 527                │\n",
       "│ 9   │ 2019         │ 2.0           │ any    │ any    │ 5.0            │ 4.68962      │ 8           │ 3.88016e5           │ 25000.0               │ 187.857              │ 484147            │ 1229             │ 424                │\n",
       "│ 10  │ 2019         │ 2.0           │ any    │ any    │ 5.0            │ 4.68962      │ 9           │ 4.23795e5           │ 25000.0               │ 34.2549              │ 80829             │ 238              │ 149                │\n",
       "│ 11  │ 2019         │ 2.0           │ any    │ any    │ 5.0            │ 4.68962      │ 10          │ 408248.0            │ 25000.0               │ 37.3849              │ 91574             │ 203              │ 132                │\n",
       "│ 12  │ 2019         │ 2.0           │ any    │ any    │ 5.0            │ 4.68962      │ 11          │ 2.8572e5            │ 18000.0               │ 6.46813              │ 22638             │ 55               │ 42                 │\n",
       "│ 13  │ 2019         │ 2.0           │ any    │ any    │ 5.0            │ 4.68962      │ 12          │ 5.18553e5           │ 50000.0               │ 1.97517              │ 3809              │ 10               │ 6                  │\n",
       "│ 14  │ 2019         │ 2.0           │ ats    │ any    │ 6.0            │ 4.78984      │ 0           │ 80112.1             │ 20000.0               │ 14.3209              │ 178761            │ 6616             │ 541                │\n",
       "│ 15  │ 2019         │ 2.0           │ ats    │ any    │ 6.0            │ 4.78984      │ 1           │ 131619.0            │ 24500.0               │ 0.05528              │ 420               │ 17               │ 12                 │\n",
       "│ 16  │ 2019         │ 2.0           │ ats    │ any    │ 6.0            │ 4.78984      │ 2           │ 1.05871e5           │ 20000.0               │ 2.43991              │ 23046             │ 379              │ 172                │\n",
       "│ 17  │ 2019         │ 2.0           │ ats    │ any    │ 6.0            │ 4.78984      │ 3           │ 302995.0            │ 25000.0               │ 13.0048              │ 42921             │ 584              │ 277                │\n",
       "│ 18  │ 2019         │ 2.0           │ ats    │ any    │ 6.0            │ 4.78984      │ 4           │ 97961.3             │ 20000.0               │ 3.85184              │ 39320             │ 683              │ 301                │\n",
       "│ 19  │ 2019         │ 2.0           │ ats    │ any    │ 6.0            │ 4.78984      │ 5           │ 128021.0            │ 20000.0               │ 11.9655              │ 93465             │ 1470             │ 532                │\n",
       "│ 20  │ 2019         │ 2.0           │ ats    │ any    │ 6.0            │ 4.78984      │ 6           │ 1.3152e5            │ 20000.0               │ 13.7398              │ 104469            │ 1469             │ 525                │\n",
       "│ 21  │ 2019         │ 2.0           │ ats    │ any    │ 6.0            │ 4.78984      │ 7           │ 98823.3             │ 20000.0               │ 12.2585              │ 124045            │ 1550             │ 520                │\n",
       "│ 22  │ 2019         │ 2.0           │ ats    │ any    │ 6.0            │ 4.78984      │ 8           │ 87776.9             │ 20000.0               │ 10.2379              │ 116635            │ 1201             │ 417                │\n",
       "│ 23  │ 2019         │ 2.0           │ ats    │ any    │ 6.0            │ 4.78984      │ 9           │ 86218.0             │ 15000.0               │ 1.69806              │ 19695             │ 234              │ 146                │\n",
       "│ 24  │ 2019         │ 2.0           │ ats    │ any    │ 6.0            │ 4.78984      │ 10          │ 1.01703e5           │ 15000.0               │ 2.21285              │ 21758             │ 199              │ 129                │\n",
       "│ 25  │ 2019         │ 2.0           │ ats    │ any    │ 6.0            │ 4.78984      │ 11          │ 50967.4             │ 10000.0               │ 0.282818             │ 5549              │ 55               │ 42                 │\n",
       "│ 26  │ 2019         │ 2.0           │ ats    │ any    │ 6.0            │ 4.78984      │ 12          │ 1.29397e5           │ 10000.0               │ 0.082814             │ 640               │ 10               │ 6                  │\n",
       "│ 27  │ 2019         │ 2.0           │ otc    │ any    │ 5.0            │ 4.66106      │ 0           │ 4.73692e5           │ 25000.0               │ 295.708              │ 624262            │ 11274            │ 624                │\n",
       "│ 28  │ 2019         │ 2.0           │ otc    │ any    │ 5.0            │ 4.66106      │ 1           │ 5.3102e5            │ 50000.0               │ 0.923974             │ 1740              │ 20               │ 14                 │\n",
       "│ 29  │ 2019         │ 2.0           │ otc    │ any    │ 5.0            │ 4.66106      │ 2           │ 6.22822e5           │ 50000.0               │ 60.9326              │ 97833             │ 416              │ 193                │\n",
       "│ 30  │ 2019         │ 2.0           │ otc    │ any    │ 5.0            │ 4.66106      │ 3           │ 6.11743e5           │ 45000.0               │ 106.011              │ 173293            │ 643              │ 318                │\n",
       "│ 31  │ 2019         │ 2.0           │ otc    │ any    │ 5.0            │ 4.66106      │ 4           │ 5.49706e5           │ 35000.0               │ 84.4282              │ 153588            │ 768              │ 342                │\n",
       "│ 32  │ 2019         │ 2.0           │ otc    │ any    │ 5.0            │ 4.66106      │ 5           │ 5.58098e5           │ 35000.0               │ 199.783              │ 357971            │ 1560             │ 572                │\n",
       "│ 33  │ 2019         │ 2.0           │ otc    │ any    │ 5.0            │ 4.66106      │ 6           │ 5.58588e5           │ 35000.0               │ 207.014              │ 370603            │ 1529             │ 539                │\n",
       "│ 34  │ 2019         │ 2.0           │ otc    │ any    │ 5.0            │ 4.66106      │ 7           │ 5.13107e5           │ 30000.0               │ 208.755              │ 406846            │ 1597             │ 527                │\n",
       "│ 35  │ 2019         │ 2.0           │ otc    │ any    │ 5.0            │ 4.66106      │ 8           │ 4.83301e5           │ 30000.0               │ 177.619              │ 367512            │ 1229             │ 424                │\n",
       "│ 36  │ 2019         │ 2.0           │ otc    │ any    │ 5.0            │ 4.66106      │ 9           │ 5.32549e5           │ 39000.0               │ 32.5568              │ 61134             │ 237              │ 149                │\n",
       "│ 37  │ 2019         │ 2.0           │ otc    │ any    │ 5.0            │ 4.66106      │ 10          │ 5.03782e5           │ 35000.0               │ 35.172               │ 69816             │ 203              │ 132                │\n",
       "│ 38  │ 2019         │ 2.0           │ otc    │ any    │ 5.0            │ 4.66106      │ 11          │ 3.61947e5           │ 23000.0               │ 6.18531              │ 17089             │ 55               │ 42                 │\n",
       "│ 39  │ 2019         │ 2.0           │ otc    │ any    │ 5.0            │ 4.66106      │ 12          │ 5.97145e5           │ 75000.0               │ 1.89235              │ 3169              │ 10               │ 6                  │\n",
       "│ 40  │ 2019         │ 2.0           │ any    │ ig     │ 5.0            │ 4.14459      │ 0           │ 3.87959e5           │ 25000.0               │ 277.39               │ 714997            │ 5878             │ 475                │\n",
       "│ 41  │ 2019         │ 2.0           │ any    │ ig     │ 5.0            │ 4.14459      │ 1           │ 4.0487e5            │ 35000.0               │ 0.709333             │ 1752              │ 17               │ 11                 │\n",
       "│ 42  │ 2019         │ 2.0           │ any    │ ig     │ 5.0            │ 4.14459      │ 2           │ 5.1841e5            │ 35000.0               │ 54.0478              │ 104257            │ 352              │ 142                │\n",
       "│ 43  │ 2019         │ 2.0           │ any    │ ig     │ 5.0            │ 4.14459      │ 3           │ 5.21887e5           │ 35000.0               │ 97.909               │ 187606            │ 512              │ 207                │\n",
       "│ 44  │ 2019         │ 2.0           │ any    │ ig     │ 5.0            │ 4.14459      │ 4           │ 4.60678e5           │ 26000.0               │ 74.7261              │ 162209            │ 665              │ 268                │\n",
       "│ 45  │ 2019         │ 2.0           │ any    │ ig     │ 5.0            │ 4.14459      │ 5           │ 4.61354e5           │ 25000.0               │ 172.69               │ 374311            │ 1340             │ 413                │\n",
       "⋮\n",
       "│ 69  │ 2019         │ 2.0           │ otc    │ ig     │ 5.0            │ 4.14765      │ 5           │ 5.55669e5           │ 30000.0               │ 164.413              │ 295883            │ 1340             │ 413                │\n",
       "│ 70  │ 2019         │ 2.0           │ otc    │ ig     │ 5.0            │ 4.14765      │ 6           │ 5.40305e5           │ 30000.0               │ 154.36               │ 285690            │ 1268             │ 426                │\n",
       "│ 71  │ 2019         │ 2.0           │ otc    │ ig     │ 5.0            │ 4.14765      │ 7           │ 5.38498e5           │ 30000.0               │ 154.469              │ 286851            │ 1237             │ 371                │\n",
       "│ 72  │ 2019         │ 2.0           │ otc    │ ig     │ 5.0            │ 4.14765      │ 8           │ 5.23824e5           │ 30000.0               │ 128.23               │ 244796            │ 935              │ 283                │\n",
       "│ 73  │ 2019         │ 2.0           │ otc    │ ig     │ 5.0            │ 4.14765      │ 9           │ 5.28542e5           │ 35000.0               │ 9.7664               │ 18478             │ 82               │ 43                 │\n",
       "│ 74  │ 2019         │ 2.0           │ otc    │ ig     │ 5.0            │ 4.14765      │ 10          │ 5.65771e5           │ 40000.0               │ 1.92306              │ 3399              │ 17               │ 8                  │\n",
       "│ 75  │ 2019         │ 2.0           │ otc    │ ig     │ 5.0            │ 4.14765      │ 11          │ 3.10574e5           │ 39500.0               │ 0.118018             │ 380               │ 5                │ 4                  │\n",
       "│ 76  │ 2019         │ 2.0           │ any    │ hy     │ 7.0            │ 6.38233      │ 0           │ 3.70789e5           │ 25000.0               │ 32.639               │ 88026             │ 5422             │ 206                │\n",
       "│ 77  │ 2019         │ 2.0           │ any    │ hy     │ 7.0            │ 6.38233      │ 1           │ 6.61571e5           │ 89500.0               │ 0.269921             │ 408               │ 3                │ 3                  │\n",
       "│ 78  │ 2019         │ 2.0           │ any    │ hy     │ 7.0            │ 6.38233      │ 2           │ 5.60983e5           │ 40000.0               │ 9.32466              │ 16622             │ 74               │ 59                 │\n",
       "│ 79  │ 2019         │ 2.0           │ any    │ hy     │ 7.0            │ 6.38233      │ 3           │ 7.37788e5           │ 46000.0               │ 21.1066              │ 28608             │ 134              │ 118                │\n",
       "│ 80  │ 2019         │ 2.0           │ any    │ hy     │ 7.0            │ 6.38233      │ 4           │ 4.41513e5           │ 34000.0               │ 13.554               │ 30699             │ 107              │ 87                 │\n",
       "│ 81  │ 2019         │ 2.0           │ any    │ hy     │ 7.0            │ 6.38233      │ 5           │ 5.06433e5           │ 40000.0               │ 39.0586              │ 77125             │ 228              │ 170                │\n",
       "│ 82  │ 2019         │ 2.0           │ any    │ hy     │ 7.0            │ 6.38233      │ 6           │ 5.34223e5           │ 40000.0               │ 57.5123              │ 107656            │ 276              │ 130                │\n",
       "│ 83  │ 2019         │ 2.0           │ any    │ hy     │ 7.0            │ 6.38233      │ 7           │ 3.5441e5            │ 25000.0               │ 57.7627              │ 162983            │ 371              │ 174                │\n",
       "│ 84  │ 2019         │ 2.0           │ any    │ hy     │ 7.0            │ 6.38233      │ 8           │ 3.19278e5           │ 25000.0               │ 52.4804              │ 164372            │ 297              │ 151                │\n",
       "│ 85  │ 2019         │ 2.0           │ any    │ hy     │ 7.0            │ 6.38233      │ 9           │ 4.23894e5           │ 25000.0               │ 24.1107              │ 56879             │ 160              │ 110                │\n",
       "│ 86  │ 2019         │ 2.0           │ any    │ hy     │ 7.0            │ 6.38233      │ 10          │ 4.057e5             │ 25000.0               │ 35.3632              │ 87166             │ 186              │ 124                │\n",
       "│ 87  │ 2019         │ 2.0           │ any    │ hy     │ 7.0            │ 6.38233      │ 11          │ 2.8602e5            │ 17000.0               │ 6.33821              │ 22160             │ 52               │ 39                 │\n",
       "│ 88  │ 2019         │ 2.0           │ any    │ hy     │ 7.0            │ 6.38233      │ 12          │ 5.18553e5           │ 50000.0               │ 1.97517              │ 3809              │ 10               │ 6                  │\n",
       "│ 89  │ 2019         │ 2.0           │ ats    │ hy     │ 7.0            │ 6.80315      │ 0           │ 1.02883e5           │ 15000.0               │ 1.38985              │ 13509             │ 1610             │ 167                │\n",
       "│ 90  │ 2019         │ 2.0           │ ats    │ hy     │ 7.0            │ 6.80315      │ 1           │ 361678.0            │ 20000.0               │ 0.021339             │ 59                │ 3                │ 3                  │\n",
       "│ 91  │ 2019         │ 2.0           │ ats    │ hy     │ 7.0            │ 6.80315      │ 2           │ 93620.4             │ 20000.0               │ 0.285074             │ 3045              │ 60               │ 46                 │\n",
       "│ 92  │ 2019         │ 2.0           │ ats    │ hy     │ 7.0            │ 6.80315      │ 3           │ 4.03057e5           │ 20000.0               │ 1.50663              │ 3738              │ 102              │ 90                 │\n",
       "│ 93  │ 2019         │ 2.0           │ ats    │ hy     │ 7.0            │ 6.80315      │ 4           │ 90700.5             │ 15000.0               │ 0.505746             │ 5576              │ 77               │ 60                 │\n",
       "│ 94  │ 2019         │ 2.0           │ ats    │ hy     │ 7.0            │ 6.80315      │ 5           │ 2.45306e5           │ 20000.0               │ 3.68866              │ 15037             │ 197              │ 142                │\n",
       "│ 95  │ 2019         │ 2.0           │ ats    │ hy     │ 7.0            │ 6.80315      │ 6           │ 2.13589e5           │ 20000.0               │ 4.85766              │ 22743             │ 270              │ 125                │\n",
       "│ 96  │ 2019         │ 2.0           │ ats    │ hy     │ 7.0            │ 6.80315      │ 7           │ 80861.6             │ 15000.0               │ 3.47608              │ 42988             │ 359              │ 169                │\n",
       "│ 97  │ 2019         │ 2.0           │ ats    │ hy     │ 7.0            │ 6.80315      │ 8           │ 74213.6             │ 15000.0               │ 3.09144              │ 41656             │ 291              │ 148                │\n",
       "│ 98  │ 2019         │ 2.0           │ ats    │ hy     │ 7.0            │ 6.80315      │ 9           │ 92824.4             │ 12000.0               │ 1.32024              │ 14223             │ 157              │ 108                │\n",
       "│ 99  │ 2019         │ 2.0           │ ats    │ hy     │ 7.0            │ 6.80315      │ 10          │ 1.01895e5           │ 14000.0               │ 2.11421              │ 20749             │ 183              │ 121                │\n",
       "│ 100 │ 2019         │ 2.0           │ ats    │ hy     │ 7.0            │ 6.80315      │ 11          │ 49700.8             │ 10000.0               │ 0.270919             │ 5451              │ 52               │ 39                 │\n",
       "│ 101 │ 2019         │ 2.0           │ ats    │ hy     │ 7.0            │ 6.80315      │ 12          │ 1.29397e5           │ 10000.0               │ 0.082814             │ 640               │ 10               │ 6                  │\n",
       "│ 102 │ 2019         │ 2.0           │ otc    │ hy     │ 7.0            │ 6.26103      │ 0           │ 4.19357e5           │ 30000.0               │ 31.2492              │ 74517             │ 5418             │ 206                │\n",
       "│ 103 │ 2019         │ 2.0           │ otc    │ hy     │ 7.0            │ 6.26103      │ 1           │ 7.12269e5           │ 100000.0              │ 0.248582             │ 349               │ 3                │ 3                  │\n",
       "│ 104 │ 2019         │ 2.0           │ otc    │ hy     │ 7.0            │ 6.26103      │ 2           │ 6.65802e5           │ 50000.0               │ 9.03959              │ 13577             │ 74               │ 59                 │\n",
       "│ 105 │ 2019         │ 2.0           │ otc    │ hy     │ 7.0            │ 6.26103      │ 3           │ 7.88098e5           │ 50000.0               │ 19.6                 │ 24870             │ 134              │ 118                │\n",
       "│ 106 │ 2019         │ 2.0           │ otc    │ hy     │ 7.0            │ 6.26103      │ 4           │ 5.19375e5           │ 50000.0               │ 13.0483              │ 25123             │ 107              │ 87                 │\n",
       "│ 107 │ 2019         │ 2.0           │ otc    │ hy     │ 7.0            │ 6.26103      │ 5           │ 5.69675e5           │ 50000.0               │ 35.37                │ 62088             │ 228              │ 170                │\n",
       "│ 108 │ 2019         │ 2.0           │ otc    │ hy     │ 7.0            │ 6.26103      │ 6           │ 6.20101e5           │ 50000.0               │ 52.6546              │ 84913             │ 276              │ 130                │\n",
       "│ 109 │ 2019         │ 2.0           │ otc    │ hy     │ 7.0            │ 6.26103      │ 7           │ 4.52408e5           │ 30000.0               │ 54.2866              │ 119995            │ 371              │ 174                │\n",
       "│ 110 │ 2019         │ 2.0           │ otc    │ hy     │ 7.0            │ 6.26103      │ 8           │ 4.02466e5           │ 30000.0               │ 49.389               │ 122716            │ 297              │ 151                │\n",
       "│ 111 │ 2019         │ 2.0           │ otc    │ hy     │ 7.0            │ 6.26103      │ 9           │ 5.34284e5           │ 40000.0               │ 22.7904              │ 42656             │ 160              │ 110                │\n",
       "│ 112 │ 2019         │ 2.0           │ otc    │ hy     │ 7.0            │ 6.26103      │ 10          │ 5.0061e5            │ 35000.0               │ 33.249               │ 66417             │ 186              │ 124                │\n",
       "│ 113 │ 2019         │ 2.0           │ otc    │ hy     │ 7.0            │ 6.26103      │ 11          │ 3.63115e5           │ 23000.0               │ 6.06729              │ 16709             │ 52               │ 39                 │\n",
       "│ 114 │ 2019         │ 2.0           │ otc    │ hy     │ 7.0            │ 6.26103      │ 12          │ 5.97145e5           │ 75000.0               │ 1.89235              │ 3169              │ 10               │ 6                  │"
      ]
     },
     "execution_count": 12,
     "metadata": {},
     "output_type": "execute_result"
    }
   ],
   "source": [
    "snc"
   ]
  },
  {
   "cell_type": "code",
   "execution_count": 13,
   "metadata": {},
   "outputs": [
    {
     "data": {
      "text/html": [
       "<table class=\"data-frame\"><thead><tr><th></th><th>year</th><th>qtr</th></tr><tr><th></th><th>Int64</th><th>Int64</th></tr></thead><tbody><p>16 rows × 2 columns</p><tr><th>1</th><td>2016</td><td>1</td></tr><tr><th>2</th><td>2016</td><td>2</td></tr><tr><th>3</th><td>2016</td><td>3</td></tr><tr><th>4</th><td>2016</td><td>4</td></tr><tr><th>5</th><td>2017</td><td>1</td></tr><tr><th>6</th><td>2017</td><td>2</td></tr><tr><th>7</th><td>2017</td><td>3</td></tr><tr><th>8</th><td>2017</td><td>4</td></tr><tr><th>9</th><td>2018</td><td>1</td></tr><tr><th>10</th><td>2018</td><td>2</td></tr><tr><th>11</th><td>2018</td><td>3</td></tr><tr><th>12</th><td>2018</td><td>4</td></tr><tr><th>13</th><td>2019</td><td>1</td></tr><tr><th>14</th><td>2019</td><td>2</td></tr><tr><th>15</th><td>2019</td><td>3</td></tr><tr><th>16</th><td>2019</td><td>4</td></tr></tbody></table>"
      ],
      "text/latex": [
       "\\begin{tabular}{r|cc}\n",
       "\t& year & qtr\\\\\n",
       "\t\\hline\n",
       "\t& Int64 & Int64\\\\\n",
       "\t\\hline\n",
       "\t1 & 2016 & 1 \\\\\n",
       "\t2 & 2016 & 2 \\\\\n",
       "\t3 & 2016 & 3 \\\\\n",
       "\t4 & 2016 & 4 \\\\\n",
       "\t5 & 2017 & 1 \\\\\n",
       "\t6 & 2017 & 2 \\\\\n",
       "\t7 & 2017 & 3 \\\\\n",
       "\t8 & 2017 & 4 \\\\\n",
       "\t9 & 2018 & 1 \\\\\n",
       "\t10 & 2018 & 2 \\\\\n",
       "\t11 & 2018 & 3 \\\\\n",
       "\t12 & 2018 & 4 \\\\\n",
       "\t13 & 2019 & 1 \\\\\n",
       "\t14 & 2019 & 2 \\\\\n",
       "\t15 & 2019 & 3 \\\\\n",
       "\t16 & 2019 & 4 \\\\\n",
       "\\end{tabular}\n"
      ],
      "text/plain": [
       "16×2 DataFrame\n",
       "│ Row │ year  │ qtr   │\n",
       "│     │ \u001b[90mInt64\u001b[39m │ \u001b[90mInt64\u001b[39m │\n",
       "├─────┼───────┼───────┤\n",
       "│ 1   │ 2016  │ 1     │\n",
       "│ 2   │ 2016  │ 2     │\n",
       "│ 3   │ 2016  │ 3     │\n",
       "│ 4   │ 2016  │ 4     │\n",
       "│ 5   │ 2017  │ 1     │\n",
       "│ 6   │ 2017  │ 2     │\n",
       "│ 7   │ 2017  │ 3     │\n",
       "│ 8   │ 2017  │ 4     │\n",
       "│ 9   │ 2018  │ 1     │\n",
       "│ 10  │ 2018  │ 2     │\n",
       "│ 11  │ 2018  │ 3     │\n",
       "│ 12  │ 2018  │ 4     │\n",
       "│ 13  │ 2019  │ 1     │\n",
       "│ 14  │ 2019  │ 2     │\n",
       "│ 15  │ 2019  │ 3     │\n",
       "│ 16  │ 2019  │ 4     │"
      ]
     },
     "execution_count": 13,
     "metadata": {},
     "output_type": "execute_result"
    }
   ],
   "source": [
    "min_yr = 2016\n",
    "max_yr = 2019\n",
    "yrqtr = DataFrames.crossjoin(DataFrame(:year => min_yr:max_yr), DataFrame(:qtr => 1:4))\n",
    "\n"
   ]
  },
  {
   "cell_type": "code",
   "execution_count": 17,
   "metadata": {},
   "outputs": [
    {
     "name": "stdout",
     "output_type": "stream",
     "text": [
      "549.870895 seconds (81.15 M allocations: 2.277 GiB, 2.87% gc time)\n",
      " \n",
      "Filename: 2019Q2_stats_by_num_cov.csv\n",
      " \n",
      "Saving dataframe to folder: /home/artur/BondPricing/bond-data/data/Stats/2019...\n",
      "Done!\n"
     ]
    }
   ],
   "source": [
    "dto = DataMod.data_obj_constructor()\n",
    "\n",
    "# Generate Trade Execution Quarter variable:\n",
    "if !(:trd_exctn_qtr in Symbol.(names(fdf)))\n",
    "    fdf[!, :trd_exctn_qtr] .= Int64.(ceil.(fdf[!, :trd_exctn_mo]/3))\n",
    "end\n",
    "\n",
    "# Groupby Date Variables:\n",
    "date_cols = [:trd_exctn_yr, :trd_exctn_qtr]\n",
    "\n",
    "# STATS BY NUMBER OF COVENANTS #######################################\n",
    "fdf[!, :sum_num_cov] .= sum([fdf[:, Symbol(:cg, x)] for x in 1:15])\n",
    "dfl = []\n",
    "combdf =  StatsMod.get_filter_combinations()\n",
    "combdf = StatsMod.gen_sbm_rt_cvt_cat_vars(combdf)\n",
    "\n",
    "dfl = @time fetch(Distributed.@spawn [StatsMod.compute_stats_by_num_cov(fdf, sbm, rt, combdf) for \n",
    "                    sbm in [:any, :ats, :otc], rt in [:any, :ig, :hy]])\n",
    "\n",
    "snc = vcat(dfl...)\n",
    "StatsMod.save_stats_data(dto, snc)"
   ]
  },
  {
   "cell_type": "code",
   "execution_count": null,
   "metadata": {},
   "outputs": [],
   "source": []
  },
  {
   "cell_type": "code",
   "execution_count": 12,
   "metadata": {},
   "outputs": [
    {
     "data": {
      "text/html": [
       "<table class=\"data-frame\"><thead><tr><th></th><th>trd_exctn_yr</th><th>trd_exctn_qtr</th><th>sbm</th><th>rt</th><th>median_num_cov</th><th>mean_num_cov</th><th>sum_num_cov</th><th>mean_vol_by_num_cov</th><th>median_vol_by_num_cov</th><th>total_vol_by_num_cov</th><th>trades_by_num_cov</th><th>bonds_by_num_cov</th><th>issuers_by_num_cov</th></tr><tr><th></th><th>Int64</th><th>Float64</th><th>Symbol</th><th>Symbol</th><th>Float64</th><th>Float64</th><th>Int64</th><th>Float64</th><th>Float64</th><th>Float64</th><th>Int64</th><th>Int64</th><th>Int64</th></tr></thead><tbody><p>114 rows × 13 columns</p><tr><th>1</th><td>2019</td><td>2.0</td><td>any</td><td>any</td><td>6.0</td><td>5.89581</td><td>0</td><td>350554.0</td><td>25000.0</td><td>33.2455</td><td>94837</td><td>459</td><td>220</td></tr><tr><th>2</th><td>2019</td><td>2.0</td><td>any</td><td>any</td><td>6.0</td><td>5.89581</td><td>1</td><td>4.53358e5</td><td>40000.0</td><td>0.979254</td><td>2160</td><td>20</td><td>14</td></tr><tr><th>3</th><td>2019</td><td>2.0</td><td>any</td><td>any</td><td>6.0</td><td>5.89581</td><td>2</td><td>5.24159e5</td><td>35000.0</td><td>63.2948</td><td>120755</td><td>413</td><td>190</td></tr><tr><th>4</th><td>2019</td><td>2.0</td><td>any</td><td>any</td><td>6.0</td><td>5.89581</td><td>3</td><td>5.51732e5</td><td>36000.0</td><td>116.801</td><td>211699</td><td>610</td><td>290</td></tr><tr><th>5</th><td>2019</td><td>2.0</td><td>any</td><td>any</td><td>6.0</td><td>5.89581</td><td>4</td><td>4.59461e5</td><td>29000.0</td><td>87.8673</td><td>191240</td><td>760</td><td>339</td></tr><tr><th>6</th><td>2019</td><td>2.0</td><td>any</td><td>any</td><td>6.0</td><td>5.89581</td><td>5</td><td>4.68901e5</td><td>29000.0</td><td>211.586</td><td>451238</td><td>1557</td><td>569</td></tr><tr><th>7</th><td>2019</td><td>2.0</td><td>any</td><td>any</td><td>6.0</td><td>5.89581</td><td>6</td><td>4.64617e5</td><td>28000.0</td><td>220.722</td><td>475062</td><td>1528</td><td>538</td></tr><tr><th>8</th><td>2019</td><td>2.0</td><td>any</td><td>any</td><td>6.0</td><td>5.89581</td><td>7</td><td>4.16307e5</td><td>25000.0</td><td>221.014</td><td>530891</td><td>1597</td><td>527</td></tr><tr><th>9</th><td>2019</td><td>2.0</td><td>any</td><td>any</td><td>6.0</td><td>5.89581</td><td>8</td><td>3.88016e5</td><td>25000.0</td><td>187.857</td><td>484147</td><td>1229</td><td>424</td></tr><tr><th>10</th><td>2019</td><td>2.0</td><td>any</td><td>any</td><td>6.0</td><td>5.89581</td><td>9</td><td>4.23795e5</td><td>25000.0</td><td>34.2549</td><td>80829</td><td>238</td><td>149</td></tr><tr><th>11</th><td>2019</td><td>2.0</td><td>any</td><td>any</td><td>6.0</td><td>5.89581</td><td>10</td><td>408248.0</td><td>25000.0</td><td>37.3849</td><td>91574</td><td>203</td><td>132</td></tr><tr><th>12</th><td>2019</td><td>2.0</td><td>any</td><td>any</td><td>6.0</td><td>5.89581</td><td>11</td><td>2.8572e5</td><td>18000.0</td><td>6.46813</td><td>22638</td><td>55</td><td>42</td></tr><tr><th>13</th><td>2019</td><td>2.0</td><td>any</td><td>any</td><td>6.0</td><td>5.89581</td><td>12</td><td>5.18553e5</td><td>50000.0</td><td>1.97517</td><td>3809</td><td>10</td><td>6</td></tr><tr><th>14</th><td>2019</td><td>2.0</td><td>ats</td><td>any</td><td>6.0</td><td>6.0297</td><td>0</td><td>90603.3</td><td>20000.0</td><td>1.89071</td><td>20868</td><td>378</td><td>194</td></tr><tr><th>15</th><td>2019</td><td>2.0</td><td>ats</td><td>any</td><td>6.0</td><td>6.0297</td><td>1</td><td>131619.0</td><td>24500.0</td><td>0.05528</td><td>420</td><td>17</td><td>12</td></tr><tr><th>16</th><td>2019</td><td>2.0</td><td>ats</td><td>any</td><td>6.0</td><td>6.0297</td><td>2</td><td>1.05912e5</td><td>20000.0</td><td>2.43969</td><td>23035</td><td>378</td><td>171</td></tr><tr><th>17</th><td>2019</td><td>2.0</td><td>ats</td><td>any</td><td>6.0</td><td>6.0297</td><td>3</td><td>3.00664e5</td><td>25000.0</td><td>12.5903</td><td>41875</td><td>554</td><td>252</td></tr><tr><th>18</th><td>2019</td><td>2.0</td><td>ats</td><td>any</td><td>6.0</td><td>6.0297</td><td>4</td><td>98188.3</td><td>20000.0</td><td>3.84574</td><td>39167</td><td>679</td><td>298</td></tr><tr><th>19</th><td>2019</td><td>2.0</td><td>ats</td><td>any</td><td>6.0</td><td>6.0297</td><td>5</td><td>1.2804e5</td><td>20000.0</td><td>11.9645</td><td>93443</td><td>1468</td><td>530</td></tr><tr><th>20</th><td>2019</td><td>2.0</td><td>ats</td><td>any</td><td>6.0</td><td>6.0297</td><td>6</td><td>1.3152e5</td><td>20000.0</td><td>13.7398</td><td>104469</td><td>1469</td><td>525</td></tr><tr><th>21</th><td>2019</td><td>2.0</td><td>ats</td><td>any</td><td>6.0</td><td>6.0297</td><td>7</td><td>98823.3</td><td>20000.0</td><td>12.2585</td><td>124045</td><td>1550</td><td>520</td></tr><tr><th>22</th><td>2019</td><td>2.0</td><td>ats</td><td>any</td><td>6.0</td><td>6.0297</td><td>8</td><td>87776.9</td><td>20000.0</td><td>10.2379</td><td>116635</td><td>1201</td><td>417</td></tr><tr><th>23</th><td>2019</td><td>2.0</td><td>ats</td><td>any</td><td>6.0</td><td>6.0297</td><td>9</td><td>86218.0</td><td>15000.0</td><td>1.69806</td><td>19695</td><td>234</td><td>146</td></tr><tr><th>24</th><td>2019</td><td>2.0</td><td>ats</td><td>any</td><td>6.0</td><td>6.0297</td><td>10</td><td>1.01703e5</td><td>15000.0</td><td>2.21285</td><td>21758</td><td>199</td><td>129</td></tr><tr><th>25</th><td>2019</td><td>2.0</td><td>ats</td><td>any</td><td>6.0</td><td>6.0297</td><td>11</td><td>50967.4</td><td>10000.0</td><td>0.282818</td><td>5549</td><td>55</td><td>42</td></tr><tr><th>26</th><td>2019</td><td>2.0</td><td>ats</td><td>any</td><td>6.0</td><td>6.0297</td><td>12</td><td>1.29397e5</td><td>10000.0</td><td>0.082814</td><td>640</td><td>10</td><td>6</td></tr><tr><th>27</th><td>2019</td><td>2.0</td><td>otc</td><td>any</td><td>6.0</td><td>5.85771</td><td>0</td><td>4.23891e5</td><td>30000.0</td><td>31.3548</td><td>73969</td><td>459</td><td>220</td></tr><tr><th>28</th><td>2019</td><td>2.0</td><td>otc</td><td>any</td><td>6.0</td><td>5.85771</td><td>1</td><td>5.3102e5</td><td>50000.0</td><td>0.923974</td><td>1740</td><td>20</td><td>14</td></tr><tr><th>29</th><td>2019</td><td>2.0</td><td>otc</td><td>any</td><td>6.0</td><td>5.85771</td><td>2</td><td>6.2275e5</td><td>50000.0</td><td>60.8551</td><td>97720</td><td>413</td><td>190</td></tr><tr><th>30</th><td>2019</td><td>2.0</td><td>otc</td><td>any</td><td>6.0</td><td>5.85771</td><td>3</td><td>6.1364e5</td><td>45000.0</td><td>104.211</td><td>169824</td><td>610</td><td>290</td></tr><tr><th>31</th><td>2019</td><td>2.0</td><td>otc</td><td>any</td><td>6.0</td><td>5.85771</td><td>4</td><td>5.52508e5</td><td>35000.0</td><td>84.0215</td><td>152073</td><td>760</td><td>339</td></tr><tr><th>32</th><td>2019</td><td>2.0</td><td>otc</td><td>any</td><td>6.0</td><td>5.85771</td><td>5</td><td>5.57921e5</td><td>35000.0</td><td>199.621</td><td>357795</td><td>1557</td><td>569</td></tr><tr><th>33</th><td>2019</td><td>2.0</td><td>otc</td><td>any</td><td>6.0</td><td>5.85771</td><td>6</td><td>5.58515e5</td><td>35000.0</td><td>206.982</td><td>370593</td><td>1528</td><td>538</td></tr><tr><th>34</th><td>2019</td><td>2.0</td><td>otc</td><td>any</td><td>6.0</td><td>5.85771</td><td>7</td><td>5.13107e5</td><td>30000.0</td><td>208.755</td><td>406846</td><td>1597</td><td>527</td></tr><tr><th>35</th><td>2019</td><td>2.0</td><td>otc</td><td>any</td><td>6.0</td><td>5.85771</td><td>8</td><td>4.83301e5</td><td>30000.0</td><td>177.619</td><td>367512</td><td>1229</td><td>424</td></tr><tr><th>36</th><td>2019</td><td>2.0</td><td>otc</td><td>any</td><td>6.0</td><td>5.85771</td><td>9</td><td>5.32549e5</td><td>39000.0</td><td>32.5568</td><td>61134</td><td>237</td><td>149</td></tr><tr><th>37</th><td>2019</td><td>2.0</td><td>otc</td><td>any</td><td>6.0</td><td>5.85771</td><td>10</td><td>5.03782e5</td><td>35000.0</td><td>35.172</td><td>69816</td><td>203</td><td>132</td></tr><tr><th>38</th><td>2019</td><td>2.0</td><td>otc</td><td>any</td><td>6.0</td><td>5.85771</td><td>11</td><td>3.61947e5</td><td>23000.0</td><td>6.18531</td><td>17089</td><td>55</td><td>42</td></tr><tr><th>39</th><td>2019</td><td>2.0</td><td>otc</td><td>any</td><td>6.0</td><td>5.85771</td><td>12</td><td>5.97145e5</td><td>75000.0</td><td>1.89235</td><td>3169</td><td>10</td><td>6</td></tr><tr><th>40</th><td>2019</td><td>2.0</td><td>any</td><td>ig</td><td>6.0</td><td>5.4463</td><td>0</td><td>3.42264e5</td><td>25000.0</td><td>30.4848</td><td>89068</td><td>395</td><td>193</td></tr><tr><th>41</th><td>2019</td><td>2.0</td><td>any</td><td>ig</td><td>6.0</td><td>5.4463</td><td>1</td><td>4.0487e5</td><td>35000.0</td><td>0.709333</td><td>1752</td><td>17</td><td>11</td></tr><tr><th>42</th><td>2019</td><td>2.0</td><td>any</td><td>ig</td><td>6.0</td><td>5.4463</td><td>2</td><td>5.18731e5</td><td>35000.0</td><td>54.0435</td><td>104184</td><td>351</td><td>141</td></tr><tr><th>43</th><td>2019</td><td>2.0</td><td>any</td><td>ig</td><td>6.0</td><td>5.4463</td><td>3</td><td>5.22351e5</td><td>35000.0</td><td>95.7434</td><td>183293</td><td>486</td><td>186</td></tr><tr><th>44</th><td>2019</td><td>2.0</td><td>any</td><td>ig</td><td>6.0</td><td>5.4463</td><td>4</td><td>4.63171e5</td><td>26000.0</td><td>74.3602</td><td>160546</td><td>658</td><td>266</td></tr><tr><th>45</th><td>2019</td><td>2.0</td><td>any</td><td>ig</td><td>6.0</td><td>5.4463</td><td>5</td><td>461161.0</td><td>25000.0</td><td>172.538</td><td>374138</td><td>1339</td><td>412</td></tr><tr><th>46</th><td>2019</td><td>2.0</td><td>any</td><td>ig</td><td>6.0</td><td>5.4463</td><td>6</td><td>444221.0</td><td>25000.0</td><td>163.209</td><td>367406</td><td>1267</td><td>425</td></tr><tr><th>47</th><td>2019</td><td>2.0</td><td>any</td><td>ig</td><td>6.0</td><td>5.4463</td><td>7</td><td>4.43728e5</td><td>25000.0</td><td>163.251</td><td>367908</td><td>1237</td><td>371</td></tr><tr><th>48</th><td>2019</td><td>2.0</td><td>any</td><td>ig</td><td>6.0</td><td>5.4463</td><td>8</td><td>4.23349e5</td><td>25000.0</td><td>135.376</td><td>319775</td><td>935</td><td>283</td></tr><tr><th>49</th><td>2019</td><td>2.0</td><td>any</td><td>ig</td><td>6.0</td><td>5.4463</td><td>9</td><td>4.23558e5</td><td>25000.0</td><td>10.1442</td><td>23950</td><td>83</td><td>43</td></tr><tr><th>50</th><td>2019</td><td>2.0</td><td>any</td><td>ig</td><td>6.0</td><td>5.4463</td><td>10</td><td>458642.0</td><td>30000.0</td><td>2.02169</td><td>4408</td><td>17</td><td>8</td></tr><tr><th>51</th><td>2019</td><td>2.0</td><td>any</td><td>ig</td><td>6.0</td><td>5.4463</td><td>11</td><td>2.71793e5</td><td>30000.0</td><td>0.129917</td><td>478</td><td>5</td><td>4</td></tr><tr><th>52</th><td>2019</td><td>2.0</td><td>ats</td><td>ig</td><td>6.0</td><td>5.51922</td><td>0</td><td>88703.1</td><td>20000.0</td><td>1.75987</td><td>19840</td><td>340</td><td>174</td></tr><tr><th>53</th><td>2019</td><td>2.0</td><td>ats</td><td>ig</td><td>6.0</td><td>5.51922</td><td>1</td><td>94019.4</td><td>25000.0</td><td>0.033941</td><td>361</td><td>14</td><td>9</td></tr><tr><th>54</th><td>2019</td><td>2.0</td><td>ats</td><td>ig</td><td>6.0</td><td>5.51922</td><td>2</td><td>1.07785e5</td><td>20000.0</td><td>2.15462</td><td>19990</td><td>328</td><td>133</td></tr><tr><th>55</th><td>2019</td><td>2.0</td><td>ats</td><td>ig</td><td>6.0</td><td>5.51922</td><td>3</td><td>2.90255e5</td><td>25000.0</td><td>11.0845</td><td>38189</td><td>460</td><td>174</td></tr><tr><th>56</th><td>2019</td><td>2.0</td><td>ats</td><td>ig</td><td>6.0</td><td>5.51922</td><td>4</td><td>99431.2</td><td>20000.0</td><td>3.33999</td><td>33591</td><td>606</td><td>249</td></tr><tr><th>57</th><td>2019</td><td>2.0</td><td>ats</td><td>ig</td><td>6.0</td><td>5.51922</td><td>5</td><td>1.05549e5</td><td>20000.0</td><td>8.27609</td><td>78410</td><td>1278</td><td>400</td></tr><tr><th>58</th><td>2019</td><td>2.0</td><td>ats</td><td>ig</td><td>6.0</td><td>5.51922</td><td>6</td><td>1.08682e5</td><td>20000.0</td><td>8.88215</td><td>81726</td><td>1214</td><td>417</td></tr><tr><th>59</th><td>2019</td><td>2.0</td><td>ats</td><td>ig</td><td>6.0</td><td>5.51922</td><td>7</td><td>1.08349e5</td><td>20000.0</td><td>8.78245</td><td>81057</td><td>1201</td><td>369</td></tr><tr><th>60</th><td>2019</td><td>2.0</td><td>ats</td><td>ig</td><td>6.0</td><td>5.51922</td><td>8</td><td>95312.2</td><td>20000.0</td><td>7.14641</td><td>74979</td><td>913</td><td>278</td></tr><tr><th>61</th><td>2019</td><td>2.0</td><td>ats</td><td>ig</td><td>6.0</td><td>5.51922</td><td>9</td><td>69046.2</td><td>20000.0</td><td>0.377821</td><td>5472</td><td>82</td><td>42</td></tr><tr><th>62</th><td>2019</td><td>2.0</td><td>ats</td><td>ig</td><td>6.0</td><td>5.51922</td><td>10</td><td>97758.2</td><td>20000.0</td><td>0.098638</td><td>1009</td><td>16</td><td>8</td></tr><tr><th>63</th><td>2019</td><td>2.0</td><td>ats</td><td>ig</td><td>6.0</td><td>5.51922</td><td>11</td><td>1.21418e5</td><td>25000.0</td><td>0.011899</td><td>98</td><td>5</td><td>4</td></tr><tr><th>64</th><td>2019</td><td>2.0</td><td>otc</td><td>ig</td><td>6.0</td><td>5.42601</td><td>0</td><td>4.14932e5</td><td>27000.0</td><td>28.7249</td><td>69228</td><td>395</td><td>193</td></tr><tr><th>65</th><td>2019</td><td>2.0</td><td>otc</td><td>ig</td><td>6.0</td><td>5.42601</td><td>1</td><td>4.85544e5</td><td>40000.0</td><td>0.675392</td><td>1391</td><td>17</td><td>11</td></tr><tr><th>66</th><td>2019</td><td>2.0</td><td>otc</td><td>ig</td><td>6.0</td><td>5.42601</td><td>2</td><td>6.16301e5</td><td>48000.0</td><td>51.8889</td><td>84194</td><td>351</td><td>141</td></tr><tr><th>67</th><td>2019</td><td>2.0</td><td>otc</td><td>ig</td><td>6.0</td><td>5.42601</td><td>3</td><td>5.83436e5</td><td>44000.0</td><td>84.6588</td><td>145104</td><td>486</td><td>186</td></tr><tr><th>68</th><td>2019</td><td>2.0</td><td>otc</td><td>ig</td><td>6.0</td><td>5.42601</td><td>4</td><td>5.59413e5</td><td>34000.0</td><td>71.0202</td><td>126955</td><td>658</td><td>266</td></tr><tr><th>69</th><td>2019</td><td>2.0</td><td>otc</td><td>ig</td><td>6.0</td><td>5.42601</td><td>5</td><td>5.55449e5</td><td>30000.0</td><td>164.262</td><td>295728</td><td>1339</td><td>412</td></tr><tr><th>70</th><td>2019</td><td>2.0</td><td>otc</td><td>ig</td><td>6.0</td><td>5.42601</td><td>6</td><td>5.4021e5</td><td>30000.0</td><td>154.327</td><td>285680</td><td>1267</td><td>425</td></tr><tr><th>71</th><td>2019</td><td>2.0</td><td>otc</td><td>ig</td><td>6.0</td><td>5.42601</td><td>7</td><td>5.38498e5</td><td>30000.0</td><td>154.469</td><td>286851</td><td>1237</td><td>371</td></tr><tr><th>72</th><td>2019</td><td>2.0</td><td>otc</td><td>ig</td><td>6.0</td><td>5.42601</td><td>8</td><td>5.23824e5</td><td>30000.0</td><td>128.23</td><td>244796</td><td>935</td><td>283</td></tr><tr><th>73</th><td>2019</td><td>2.0</td><td>otc</td><td>ig</td><td>6.0</td><td>5.42601</td><td>9</td><td>5.28542e5</td><td>35000.0</td><td>9.7664</td><td>18478</td><td>82</td><td>43</td></tr><tr><th>74</th><td>2019</td><td>2.0</td><td>otc</td><td>ig</td><td>6.0</td><td>5.42601</td><td>10</td><td>5.65771e5</td><td>40000.0</td><td>1.92306</td><td>3399</td><td>17</td><td>8</td></tr><tr><th>75</th><td>2019</td><td>2.0</td><td>otc</td><td>ig</td><td>6.0</td><td>5.42601</td><td>11</td><td>3.10574e5</td><td>39500.0</td><td>0.118018</td><td>380</td><td>5</td><td>4</td></tr><tr><th>76</th><td>2019</td><td>2.0</td><td>any</td><td>hy</td><td>7.0</td><td>7.07077</td><td>0</td><td>4.78545e5</td><td>35000.0</td><td>2.76073</td><td>5769</td><td>66</td><td>34</td></tr><tr><th>77</th><td>2019</td><td>2.0</td><td>any</td><td>hy</td><td>7.0</td><td>7.07077</td><td>1</td><td>6.61571e5</td><td>89500.0</td><td>0.269921</td><td>408</td><td>3</td><td>3</td></tr><tr><th>78</th><td>2019</td><td>2.0</td><td>any</td><td>hy</td><td>7.0</td><td>7.07077</td><td>2</td><td>5.58283e5</td><td>40000.0</td><td>9.25131</td><td>16571</td><td>72</td><td>57</td></tr><tr><th>79</th><td>2019</td><td>2.0</td><td>any</td><td>hy</td><td>7.0</td><td>7.07077</td><td>3</td><td>7.41315e5</td><td>49000.0</td><td>21.0578</td><td>28406</td><td>127</td><td>111</td></tr><tr><th>80</th><td>2019</td><td>2.0</td><td>any</td><td>hy</td><td>7.0</td><td>7.07077</td><td>4</td><td>440055.0</td><td>34000.0</td><td>13.507</td><td>30694</td><td>106</td><td>86</td></tr><tr><th>81</th><td>2019</td><td>2.0</td><td>any</td><td>hy</td><td>7.0</td><td>7.07077</td><td>5</td><td>5.06458e5</td><td>40000.0</td><td>39.0479</td><td>77100</td><td>226</td><td>168</td></tr><tr><th>82</th><td>2019</td><td>2.0</td><td>any</td><td>hy</td><td>7.0</td><td>7.07077</td><td>6</td><td>5.34223e5</td><td>40000.0</td><td>57.5123</td><td>107656</td><td>276</td><td>130</td></tr><tr><th>83</th><td>2019</td><td>2.0</td><td>any</td><td>hy</td><td>7.0</td><td>7.07077</td><td>7</td><td>3.5441e5</td><td>25000.0</td><td>57.7627</td><td>162983</td><td>371</td><td>174</td></tr><tr><th>84</th><td>2019</td><td>2.0</td><td>any</td><td>hy</td><td>7.0</td><td>7.07077</td><td>8</td><td>3.19278e5</td><td>25000.0</td><td>52.4804</td><td>164372</td><td>297</td><td>151</td></tr><tr><th>85</th><td>2019</td><td>2.0</td><td>any</td><td>hy</td><td>7.0</td><td>7.07077</td><td>9</td><td>4.23894e5</td><td>25000.0</td><td>24.1107</td><td>56879</td><td>160</td><td>110</td></tr><tr><th>86</th><td>2019</td><td>2.0</td><td>any</td><td>hy</td><td>7.0</td><td>7.07077</td><td>10</td><td>4.057e5</td><td>25000.0</td><td>35.3632</td><td>87166</td><td>186</td><td>124</td></tr><tr><th>87</th><td>2019</td><td>2.0</td><td>any</td><td>hy</td><td>7.0</td><td>7.07077</td><td>11</td><td>2.8602e5</td><td>17000.0</td><td>6.33821</td><td>22160</td><td>52</td><td>39</td></tr><tr><th>88</th><td>2019</td><td>2.0</td><td>any</td><td>hy</td><td>7.0</td><td>7.07077</td><td>12</td><td>5.18553e5</td><td>50000.0</td><td>1.97517</td><td>3809</td><td>10</td><td>6</td></tr><tr><th>89</th><td>2019</td><td>2.0</td><td>ats</td><td>hy</td><td>7.0</td><td>7.28436</td><td>0</td><td>1.27275e5</td><td>15000.0</td><td>0.130839</td><td>1028</td><td>39</td><td>26</td></tr><tr><th>90</th><td>2019</td><td>2.0</td><td>ats</td><td>hy</td><td>7.0</td><td>7.28436</td><td>1</td><td>361678.0</td><td>20000.0</td><td>0.021339</td><td>59</td><td>3</td><td>3</td></tr><tr><th>91</th><td>2019</td><td>2.0</td><td>ats</td><td>hy</td><td>7.0</td><td>7.28436</td><td>2</td><td>93620.4</td><td>20000.0</td><td>0.285074</td><td>3045</td><td>60</td><td>46</td></tr><tr><th>92</th><td>2019</td><td>2.0</td><td>ats</td><td>hy</td><td>7.0</td><td>7.28436</td><td>3</td><td>4.08509e5</td><td>20000.0</td><td>1.50576</td><td>3686</td><td>96</td><td>84</td></tr><tr><th>93</th><td>2019</td><td>2.0</td><td>ats</td><td>hy</td><td>7.0</td><td>7.28436</td><td>4</td><td>90700.5</td><td>15000.0</td><td>0.505746</td><td>5576</td><td>77</td><td>60</td></tr><tr><th>94</th><td>2019</td><td>2.0</td><td>ats</td><td>hy</td><td>7.0</td><td>7.28436</td><td>5</td><td>2.45352e5</td><td>20000.0</td><td>3.68838</td><td>15033</td><td>196</td><td>141</td></tr><tr><th>95</th><td>2019</td><td>2.0</td><td>ats</td><td>hy</td><td>7.0</td><td>7.28436</td><td>6</td><td>2.13589e5</td><td>20000.0</td><td>4.85766</td><td>22743</td><td>270</td><td>125</td></tr><tr><th>96</th><td>2019</td><td>2.0</td><td>ats</td><td>hy</td><td>7.0</td><td>7.28436</td><td>7</td><td>80861.6</td><td>15000.0</td><td>3.47608</td><td>42988</td><td>359</td><td>169</td></tr><tr><th>97</th><td>2019</td><td>2.0</td><td>ats</td><td>hy</td><td>7.0</td><td>7.28436</td><td>8</td><td>74213.6</td><td>15000.0</td><td>3.09144</td><td>41656</td><td>291</td><td>148</td></tr><tr><th>98</th><td>2019</td><td>2.0</td><td>ats</td><td>hy</td><td>7.0</td><td>7.28436</td><td>9</td><td>92824.4</td><td>12000.0</td><td>1.32024</td><td>14223</td><td>157</td><td>108</td></tr><tr><th>99</th><td>2019</td><td>2.0</td><td>ats</td><td>hy</td><td>7.0</td><td>7.28436</td><td>10</td><td>1.01895e5</td><td>14000.0</td><td>2.11421</td><td>20749</td><td>183</td><td>121</td></tr><tr><th>100</th><td>2019</td><td>2.0</td><td>ats</td><td>hy</td><td>7.0</td><td>7.28436</td><td>11</td><td>49700.8</td><td>10000.0</td><td>0.270919</td><td>5451</td><td>52</td><td>39</td></tr><tr><th>&vellip;</th><td>&vellip;</td><td>&vellip;</td><td>&vellip;</td><td>&vellip;</td><td>&vellip;</td><td>&vellip;</td><td>&vellip;</td><td>&vellip;</td><td>&vellip;</td><td>&vellip;</td><td>&vellip;</td><td>&vellip;</td><td>&vellip;</td></tr></tbody></table>"
      ],
      "text/latex": [
       "\\begin{tabular}{r|ccccccccccccc}\n",
       "\t& trd\\_exctn\\_yr & trd\\_exctn\\_qtr & sbm & rt & median\\_num\\_cov & mean\\_num\\_cov & sum\\_num\\_cov & mean\\_vol\\_by\\_num\\_cov & median\\_vol\\_by\\_num\\_cov & total\\_vol\\_by\\_num\\_cov & trades\\_by\\_num\\_cov & bonds\\_by\\_num\\_cov & issuers\\_by\\_num\\_cov\\\\\n",
       "\t\\hline\n",
       "\t& Int64 & Float64 & Symbol & Symbol & Float64 & Float64 & Int64 & Float64 & Float64 & Float64 & Int64 & Int64 & Int64\\\\\n",
       "\t\\hline\n",
       "\t1 & 2019 & 2.0 & any & any & 6.0 & 5.89581 & 0 & 350554.0 & 25000.0 & 33.2455 & 94837 & 459 & 220 \\\\\n",
       "\t2 & 2019 & 2.0 & any & any & 6.0 & 5.89581 & 1 & 4.53358e5 & 40000.0 & 0.979254 & 2160 & 20 & 14 \\\\\n",
       "\t3 & 2019 & 2.0 & any & any & 6.0 & 5.89581 & 2 & 5.24159e5 & 35000.0 & 63.2948 & 120755 & 413 & 190 \\\\\n",
       "\t4 & 2019 & 2.0 & any & any & 6.0 & 5.89581 & 3 & 5.51732e5 & 36000.0 & 116.801 & 211699 & 610 & 290 \\\\\n",
       "\t5 & 2019 & 2.0 & any & any & 6.0 & 5.89581 & 4 & 4.59461e5 & 29000.0 & 87.8673 & 191240 & 760 & 339 \\\\\n",
       "\t6 & 2019 & 2.0 & any & any & 6.0 & 5.89581 & 5 & 4.68901e5 & 29000.0 & 211.586 & 451238 & 1557 & 569 \\\\\n",
       "\t7 & 2019 & 2.0 & any & any & 6.0 & 5.89581 & 6 & 4.64617e5 & 28000.0 & 220.722 & 475062 & 1528 & 538 \\\\\n",
       "\t8 & 2019 & 2.0 & any & any & 6.0 & 5.89581 & 7 & 4.16307e5 & 25000.0 & 221.014 & 530891 & 1597 & 527 \\\\\n",
       "\t9 & 2019 & 2.0 & any & any & 6.0 & 5.89581 & 8 & 3.88016e5 & 25000.0 & 187.857 & 484147 & 1229 & 424 \\\\\n",
       "\t10 & 2019 & 2.0 & any & any & 6.0 & 5.89581 & 9 & 4.23795e5 & 25000.0 & 34.2549 & 80829 & 238 & 149 \\\\\n",
       "\t11 & 2019 & 2.0 & any & any & 6.0 & 5.89581 & 10 & 408248.0 & 25000.0 & 37.3849 & 91574 & 203 & 132 \\\\\n",
       "\t12 & 2019 & 2.0 & any & any & 6.0 & 5.89581 & 11 & 2.8572e5 & 18000.0 & 6.46813 & 22638 & 55 & 42 \\\\\n",
       "\t13 & 2019 & 2.0 & any & any & 6.0 & 5.89581 & 12 & 5.18553e5 & 50000.0 & 1.97517 & 3809 & 10 & 6 \\\\\n",
       "\t14 & 2019 & 2.0 & ats & any & 6.0 & 6.0297 & 0 & 90603.3 & 20000.0 & 1.89071 & 20868 & 378 & 194 \\\\\n",
       "\t15 & 2019 & 2.0 & ats & any & 6.0 & 6.0297 & 1 & 131619.0 & 24500.0 & 0.05528 & 420 & 17 & 12 \\\\\n",
       "\t16 & 2019 & 2.0 & ats & any & 6.0 & 6.0297 & 2 & 1.05912e5 & 20000.0 & 2.43969 & 23035 & 378 & 171 \\\\\n",
       "\t17 & 2019 & 2.0 & ats & any & 6.0 & 6.0297 & 3 & 3.00664e5 & 25000.0 & 12.5903 & 41875 & 554 & 252 \\\\\n",
       "\t18 & 2019 & 2.0 & ats & any & 6.0 & 6.0297 & 4 & 98188.3 & 20000.0 & 3.84574 & 39167 & 679 & 298 \\\\\n",
       "\t19 & 2019 & 2.0 & ats & any & 6.0 & 6.0297 & 5 & 1.2804e5 & 20000.0 & 11.9645 & 93443 & 1468 & 530 \\\\\n",
       "\t20 & 2019 & 2.0 & ats & any & 6.0 & 6.0297 & 6 & 1.3152e5 & 20000.0 & 13.7398 & 104469 & 1469 & 525 \\\\\n",
       "\t21 & 2019 & 2.0 & ats & any & 6.0 & 6.0297 & 7 & 98823.3 & 20000.0 & 12.2585 & 124045 & 1550 & 520 \\\\\n",
       "\t22 & 2019 & 2.0 & ats & any & 6.0 & 6.0297 & 8 & 87776.9 & 20000.0 & 10.2379 & 116635 & 1201 & 417 \\\\\n",
       "\t23 & 2019 & 2.0 & ats & any & 6.0 & 6.0297 & 9 & 86218.0 & 15000.0 & 1.69806 & 19695 & 234 & 146 \\\\\n",
       "\t24 & 2019 & 2.0 & ats & any & 6.0 & 6.0297 & 10 & 1.01703e5 & 15000.0 & 2.21285 & 21758 & 199 & 129 \\\\\n",
       "\t25 & 2019 & 2.0 & ats & any & 6.0 & 6.0297 & 11 & 50967.4 & 10000.0 & 0.282818 & 5549 & 55 & 42 \\\\\n",
       "\t26 & 2019 & 2.0 & ats & any & 6.0 & 6.0297 & 12 & 1.29397e5 & 10000.0 & 0.082814 & 640 & 10 & 6 \\\\\n",
       "\t27 & 2019 & 2.0 & otc & any & 6.0 & 5.85771 & 0 & 4.23891e5 & 30000.0 & 31.3548 & 73969 & 459 & 220 \\\\\n",
       "\t28 & 2019 & 2.0 & otc & any & 6.0 & 5.85771 & 1 & 5.3102e5 & 50000.0 & 0.923974 & 1740 & 20 & 14 \\\\\n",
       "\t29 & 2019 & 2.0 & otc & any & 6.0 & 5.85771 & 2 & 6.2275e5 & 50000.0 & 60.8551 & 97720 & 413 & 190 \\\\\n",
       "\t30 & 2019 & 2.0 & otc & any & 6.0 & 5.85771 & 3 & 6.1364e5 & 45000.0 & 104.211 & 169824 & 610 & 290 \\\\\n",
       "\t31 & 2019 & 2.0 & otc & any & 6.0 & 5.85771 & 4 & 5.52508e5 & 35000.0 & 84.0215 & 152073 & 760 & 339 \\\\\n",
       "\t32 & 2019 & 2.0 & otc & any & 6.0 & 5.85771 & 5 & 5.57921e5 & 35000.0 & 199.621 & 357795 & 1557 & 569 \\\\\n",
       "\t33 & 2019 & 2.0 & otc & any & 6.0 & 5.85771 & 6 & 5.58515e5 & 35000.0 & 206.982 & 370593 & 1528 & 538 \\\\\n",
       "\t34 & 2019 & 2.0 & otc & any & 6.0 & 5.85771 & 7 & 5.13107e5 & 30000.0 & 208.755 & 406846 & 1597 & 527 \\\\\n",
       "\t35 & 2019 & 2.0 & otc & any & 6.0 & 5.85771 & 8 & 4.83301e5 & 30000.0 & 177.619 & 367512 & 1229 & 424 \\\\\n",
       "\t36 & 2019 & 2.0 & otc & any & 6.0 & 5.85771 & 9 & 5.32549e5 & 39000.0 & 32.5568 & 61134 & 237 & 149 \\\\\n",
       "\t37 & 2019 & 2.0 & otc & any & 6.0 & 5.85771 & 10 & 5.03782e5 & 35000.0 & 35.172 & 69816 & 203 & 132 \\\\\n",
       "\t38 & 2019 & 2.0 & otc & any & 6.0 & 5.85771 & 11 & 3.61947e5 & 23000.0 & 6.18531 & 17089 & 55 & 42 \\\\\n",
       "\t39 & 2019 & 2.0 & otc & any & 6.0 & 5.85771 & 12 & 5.97145e5 & 75000.0 & 1.89235 & 3169 & 10 & 6 \\\\\n",
       "\t40 & 2019 & 2.0 & any & ig & 6.0 & 5.4463 & 0 & 3.42264e5 & 25000.0 & 30.4848 & 89068 & 395 & 193 \\\\\n",
       "\t41 & 2019 & 2.0 & any & ig & 6.0 & 5.4463 & 1 & 4.0487e5 & 35000.0 & 0.709333 & 1752 & 17 & 11 \\\\\n",
       "\t42 & 2019 & 2.0 & any & ig & 6.0 & 5.4463 & 2 & 5.18731e5 & 35000.0 & 54.0435 & 104184 & 351 & 141 \\\\\n",
       "\t43 & 2019 & 2.0 & any & ig & 6.0 & 5.4463 & 3 & 5.22351e5 & 35000.0 & 95.7434 & 183293 & 486 & 186 \\\\\n",
       "\t44 & 2019 & 2.0 & any & ig & 6.0 & 5.4463 & 4 & 4.63171e5 & 26000.0 & 74.3602 & 160546 & 658 & 266 \\\\\n",
       "\t45 & 2019 & 2.0 & any & ig & 6.0 & 5.4463 & 5 & 461161.0 & 25000.0 & 172.538 & 374138 & 1339 & 412 \\\\\n",
       "\t46 & 2019 & 2.0 & any & ig & 6.0 & 5.4463 & 6 & 444221.0 & 25000.0 & 163.209 & 367406 & 1267 & 425 \\\\\n",
       "\t47 & 2019 & 2.0 & any & ig & 6.0 & 5.4463 & 7 & 4.43728e5 & 25000.0 & 163.251 & 367908 & 1237 & 371 \\\\\n",
       "\t48 & 2019 & 2.0 & any & ig & 6.0 & 5.4463 & 8 & 4.23349e5 & 25000.0 & 135.376 & 319775 & 935 & 283 \\\\\n",
       "\t49 & 2019 & 2.0 & any & ig & 6.0 & 5.4463 & 9 & 4.23558e5 & 25000.0 & 10.1442 & 23950 & 83 & 43 \\\\\n",
       "\t50 & 2019 & 2.0 & any & ig & 6.0 & 5.4463 & 10 & 458642.0 & 30000.0 & 2.02169 & 4408 & 17 & 8 \\\\\n",
       "\t51 & 2019 & 2.0 & any & ig & 6.0 & 5.4463 & 11 & 2.71793e5 & 30000.0 & 0.129917 & 478 & 5 & 4 \\\\\n",
       "\t52 & 2019 & 2.0 & ats & ig & 6.0 & 5.51922 & 0 & 88703.1 & 20000.0 & 1.75987 & 19840 & 340 & 174 \\\\\n",
       "\t53 & 2019 & 2.0 & ats & ig & 6.0 & 5.51922 & 1 & 94019.4 & 25000.0 & 0.033941 & 361 & 14 & 9 \\\\\n",
       "\t54 & 2019 & 2.0 & ats & ig & 6.0 & 5.51922 & 2 & 1.07785e5 & 20000.0 & 2.15462 & 19990 & 328 & 133 \\\\\n",
       "\t55 & 2019 & 2.0 & ats & ig & 6.0 & 5.51922 & 3 & 2.90255e5 & 25000.0 & 11.0845 & 38189 & 460 & 174 \\\\\n",
       "\t56 & 2019 & 2.0 & ats & ig & 6.0 & 5.51922 & 4 & 99431.2 & 20000.0 & 3.33999 & 33591 & 606 & 249 \\\\\n",
       "\t57 & 2019 & 2.0 & ats & ig & 6.0 & 5.51922 & 5 & 1.05549e5 & 20000.0 & 8.27609 & 78410 & 1278 & 400 \\\\\n",
       "\t58 & 2019 & 2.0 & ats & ig & 6.0 & 5.51922 & 6 & 1.08682e5 & 20000.0 & 8.88215 & 81726 & 1214 & 417 \\\\\n",
       "\t59 & 2019 & 2.0 & ats & ig & 6.0 & 5.51922 & 7 & 1.08349e5 & 20000.0 & 8.78245 & 81057 & 1201 & 369 \\\\\n",
       "\t60 & 2019 & 2.0 & ats & ig & 6.0 & 5.51922 & 8 & 95312.2 & 20000.0 & 7.14641 & 74979 & 913 & 278 \\\\\n",
       "\t61 & 2019 & 2.0 & ats & ig & 6.0 & 5.51922 & 9 & 69046.2 & 20000.0 & 0.377821 & 5472 & 82 & 42 \\\\\n",
       "\t62 & 2019 & 2.0 & ats & ig & 6.0 & 5.51922 & 10 & 97758.2 & 20000.0 & 0.098638 & 1009 & 16 & 8 \\\\\n",
       "\t63 & 2019 & 2.0 & ats & ig & 6.0 & 5.51922 & 11 & 1.21418e5 & 25000.0 & 0.011899 & 98 & 5 & 4 \\\\\n",
       "\t64 & 2019 & 2.0 & otc & ig & 6.0 & 5.42601 & 0 & 4.14932e5 & 27000.0 & 28.7249 & 69228 & 395 & 193 \\\\\n",
       "\t65 & 2019 & 2.0 & otc & ig & 6.0 & 5.42601 & 1 & 4.85544e5 & 40000.0 & 0.675392 & 1391 & 17 & 11 \\\\\n",
       "\t66 & 2019 & 2.0 & otc & ig & 6.0 & 5.42601 & 2 & 6.16301e5 & 48000.0 & 51.8889 & 84194 & 351 & 141 \\\\\n",
       "\t67 & 2019 & 2.0 & otc & ig & 6.0 & 5.42601 & 3 & 5.83436e5 & 44000.0 & 84.6588 & 145104 & 486 & 186 \\\\\n",
       "\t68 & 2019 & 2.0 & otc & ig & 6.0 & 5.42601 & 4 & 5.59413e5 & 34000.0 & 71.0202 & 126955 & 658 & 266 \\\\\n",
       "\t69 & 2019 & 2.0 & otc & ig & 6.0 & 5.42601 & 5 & 5.55449e5 & 30000.0 & 164.262 & 295728 & 1339 & 412 \\\\\n",
       "\t70 & 2019 & 2.0 & otc & ig & 6.0 & 5.42601 & 6 & 5.4021e5 & 30000.0 & 154.327 & 285680 & 1267 & 425 \\\\\n",
       "\t71 & 2019 & 2.0 & otc & ig & 6.0 & 5.42601 & 7 & 5.38498e5 & 30000.0 & 154.469 & 286851 & 1237 & 371 \\\\\n",
       "\t72 & 2019 & 2.0 & otc & ig & 6.0 & 5.42601 & 8 & 5.23824e5 & 30000.0 & 128.23 & 244796 & 935 & 283 \\\\\n",
       "\t73 & 2019 & 2.0 & otc & ig & 6.0 & 5.42601 & 9 & 5.28542e5 & 35000.0 & 9.7664 & 18478 & 82 & 43 \\\\\n",
       "\t74 & 2019 & 2.0 & otc & ig & 6.0 & 5.42601 & 10 & 5.65771e5 & 40000.0 & 1.92306 & 3399 & 17 & 8 \\\\\n",
       "\t75 & 2019 & 2.0 & otc & ig & 6.0 & 5.42601 & 11 & 3.10574e5 & 39500.0 & 0.118018 & 380 & 5 & 4 \\\\\n",
       "\t76 & 2019 & 2.0 & any & hy & 7.0 & 7.07077 & 0 & 4.78545e5 & 35000.0 & 2.76073 & 5769 & 66 & 34 \\\\\n",
       "\t77 & 2019 & 2.0 & any & hy & 7.0 & 7.07077 & 1 & 6.61571e5 & 89500.0 & 0.269921 & 408 & 3 & 3 \\\\\n",
       "\t78 & 2019 & 2.0 & any & hy & 7.0 & 7.07077 & 2 & 5.58283e5 & 40000.0 & 9.25131 & 16571 & 72 & 57 \\\\\n",
       "\t79 & 2019 & 2.0 & any & hy & 7.0 & 7.07077 & 3 & 7.41315e5 & 49000.0 & 21.0578 & 28406 & 127 & 111 \\\\\n",
       "\t80 & 2019 & 2.0 & any & hy & 7.0 & 7.07077 & 4 & 440055.0 & 34000.0 & 13.507 & 30694 & 106 & 86 \\\\\n",
       "\t81 & 2019 & 2.0 & any & hy & 7.0 & 7.07077 & 5 & 5.06458e5 & 40000.0 & 39.0479 & 77100 & 226 & 168 \\\\\n",
       "\t82 & 2019 & 2.0 & any & hy & 7.0 & 7.07077 & 6 & 5.34223e5 & 40000.0 & 57.5123 & 107656 & 276 & 130 \\\\\n",
       "\t83 & 2019 & 2.0 & any & hy & 7.0 & 7.07077 & 7 & 3.5441e5 & 25000.0 & 57.7627 & 162983 & 371 & 174 \\\\\n",
       "\t84 & 2019 & 2.0 & any & hy & 7.0 & 7.07077 & 8 & 3.19278e5 & 25000.0 & 52.4804 & 164372 & 297 & 151 \\\\\n",
       "\t85 & 2019 & 2.0 & any & hy & 7.0 & 7.07077 & 9 & 4.23894e5 & 25000.0 & 24.1107 & 56879 & 160 & 110 \\\\\n",
       "\t86 & 2019 & 2.0 & any & hy & 7.0 & 7.07077 & 10 & 4.057e5 & 25000.0 & 35.3632 & 87166 & 186 & 124 \\\\\n",
       "\t87 & 2019 & 2.0 & any & hy & 7.0 & 7.07077 & 11 & 2.8602e5 & 17000.0 & 6.33821 & 22160 & 52 & 39 \\\\\n",
       "\t88 & 2019 & 2.0 & any & hy & 7.0 & 7.07077 & 12 & 5.18553e5 & 50000.0 & 1.97517 & 3809 & 10 & 6 \\\\\n",
       "\t89 & 2019 & 2.0 & ats & hy & 7.0 & 7.28436 & 0 & 1.27275e5 & 15000.0 & 0.130839 & 1028 & 39 & 26 \\\\\n",
       "\t90 & 2019 & 2.0 & ats & hy & 7.0 & 7.28436 & 1 & 361678.0 & 20000.0 & 0.021339 & 59 & 3 & 3 \\\\\n",
       "\t91 & 2019 & 2.0 & ats & hy & 7.0 & 7.28436 & 2 & 93620.4 & 20000.0 & 0.285074 & 3045 & 60 & 46 \\\\\n",
       "\t92 & 2019 & 2.0 & ats & hy & 7.0 & 7.28436 & 3 & 4.08509e5 & 20000.0 & 1.50576 & 3686 & 96 & 84 \\\\\n",
       "\t93 & 2019 & 2.0 & ats & hy & 7.0 & 7.28436 & 4 & 90700.5 & 15000.0 & 0.505746 & 5576 & 77 & 60 \\\\\n",
       "\t94 & 2019 & 2.0 & ats & hy & 7.0 & 7.28436 & 5 & 2.45352e5 & 20000.0 & 3.68838 & 15033 & 196 & 141 \\\\\n",
       "\t95 & 2019 & 2.0 & ats & hy & 7.0 & 7.28436 & 6 & 2.13589e5 & 20000.0 & 4.85766 & 22743 & 270 & 125 \\\\\n",
       "\t96 & 2019 & 2.0 & ats & hy & 7.0 & 7.28436 & 7 & 80861.6 & 15000.0 & 3.47608 & 42988 & 359 & 169 \\\\\n",
       "\t97 & 2019 & 2.0 & ats & hy & 7.0 & 7.28436 & 8 & 74213.6 & 15000.0 & 3.09144 & 41656 & 291 & 148 \\\\\n",
       "\t98 & 2019 & 2.0 & ats & hy & 7.0 & 7.28436 & 9 & 92824.4 & 12000.0 & 1.32024 & 14223 & 157 & 108 \\\\\n",
       "\t99 & 2019 & 2.0 & ats & hy & 7.0 & 7.28436 & 10 & 1.01895e5 & 14000.0 & 2.11421 & 20749 & 183 & 121 \\\\\n",
       "\t100 & 2019 & 2.0 & ats & hy & 7.0 & 7.28436 & 11 & 49700.8 & 10000.0 & 0.270919 & 5451 & 52 & 39 \\\\\n",
       "\t$\\dots$ & $\\dots$ & $\\dots$ & $\\dots$ & $\\dots$ & $\\dots$ & $\\dots$ & $\\dots$ & $\\dots$ & $\\dots$ & $\\dots$ & $\\dots$ & $\\dots$ & $\\dots$ \\\\\n",
       "\\end{tabular}\n"
      ],
      "text/plain": [
       "114×13 DataFrame\n",
       "│ Row │ trd_exctn_yr │ trd_exctn_qtr │ sbm    │ rt     │ median_num_cov │ mean_num_cov │ sum_num_cov │ mean_vol_by_num_cov │ median_vol_by_num_cov │ total_vol_by_num_cov │ trades_by_num_cov │ bonds_by_num_cov │ issuers_by_num_cov │\n",
       "│     │ \u001b[90mInt64\u001b[39m        │ \u001b[90mFloat64\u001b[39m       │ \u001b[90mSymbol\u001b[39m │ \u001b[90mSymbol\u001b[39m │ \u001b[90mFloat64\u001b[39m        │ \u001b[90mFloat64\u001b[39m      │ \u001b[90mInt64\u001b[39m       │ \u001b[90mFloat64\u001b[39m             │ \u001b[90mFloat64\u001b[39m               │ \u001b[90mFloat64\u001b[39m              │ \u001b[90mInt64\u001b[39m             │ \u001b[90mInt64\u001b[39m            │ \u001b[90mInt64\u001b[39m              │\n",
       "├─────┼──────────────┼───────────────┼────────┼────────┼────────────────┼──────────────┼─────────────┼─────────────────────┼───────────────────────┼──────────────────────┼───────────────────┼──────────────────┼────────────────────┤\n",
       "│ 1   │ 2019         │ 2.0           │ any    │ any    │ 6.0            │ 5.89581      │ 0           │ 350554.0            │ 25000.0               │ 33.2455              │ 94837             │ 459              │ 220                │\n",
       "│ 2   │ 2019         │ 2.0           │ any    │ any    │ 6.0            │ 5.89581      │ 1           │ 4.53358e5           │ 40000.0               │ 0.979254             │ 2160              │ 20               │ 14                 │\n",
       "│ 3   │ 2019         │ 2.0           │ any    │ any    │ 6.0            │ 5.89581      │ 2           │ 5.24159e5           │ 35000.0               │ 63.2948              │ 120755            │ 413              │ 190                │\n",
       "│ 4   │ 2019         │ 2.0           │ any    │ any    │ 6.0            │ 5.89581      │ 3           │ 5.51732e5           │ 36000.0               │ 116.801              │ 211699            │ 610              │ 290                │\n",
       "│ 5   │ 2019         │ 2.0           │ any    │ any    │ 6.0            │ 5.89581      │ 4           │ 4.59461e5           │ 29000.0               │ 87.8673              │ 191240            │ 760              │ 339                │\n",
       "│ 6   │ 2019         │ 2.0           │ any    │ any    │ 6.0            │ 5.89581      │ 5           │ 4.68901e5           │ 29000.0               │ 211.586              │ 451238            │ 1557             │ 569                │\n",
       "│ 7   │ 2019         │ 2.0           │ any    │ any    │ 6.0            │ 5.89581      │ 6           │ 4.64617e5           │ 28000.0               │ 220.722              │ 475062            │ 1528             │ 538                │\n",
       "│ 8   │ 2019         │ 2.0           │ any    │ any    │ 6.0            │ 5.89581      │ 7           │ 4.16307e5           │ 25000.0               │ 221.014              │ 530891            │ 1597             │ 527                │\n",
       "│ 9   │ 2019         │ 2.0           │ any    │ any    │ 6.0            │ 5.89581      │ 8           │ 3.88016e5           │ 25000.0               │ 187.857              │ 484147            │ 1229             │ 424                │\n",
       "│ 10  │ 2019         │ 2.0           │ any    │ any    │ 6.0            │ 5.89581      │ 9           │ 4.23795e5           │ 25000.0               │ 34.2549              │ 80829             │ 238              │ 149                │\n",
       "│ 11  │ 2019         │ 2.0           │ any    │ any    │ 6.0            │ 5.89581      │ 10          │ 408248.0            │ 25000.0               │ 37.3849              │ 91574             │ 203              │ 132                │\n",
       "│ 12  │ 2019         │ 2.0           │ any    │ any    │ 6.0            │ 5.89581      │ 11          │ 2.8572e5            │ 18000.0               │ 6.46813              │ 22638             │ 55               │ 42                 │\n",
       "│ 13  │ 2019         │ 2.0           │ any    │ any    │ 6.0            │ 5.89581      │ 12          │ 5.18553e5           │ 50000.0               │ 1.97517              │ 3809              │ 10               │ 6                  │\n",
       "│ 14  │ 2019         │ 2.0           │ ats    │ any    │ 6.0            │ 6.0297       │ 0           │ 90603.3             │ 20000.0               │ 1.89071              │ 20868             │ 378              │ 194                │\n",
       "│ 15  │ 2019         │ 2.0           │ ats    │ any    │ 6.0            │ 6.0297       │ 1           │ 131619.0            │ 24500.0               │ 0.05528              │ 420               │ 17               │ 12                 │\n",
       "│ 16  │ 2019         │ 2.0           │ ats    │ any    │ 6.0            │ 6.0297       │ 2           │ 1.05912e5           │ 20000.0               │ 2.43969              │ 23035             │ 378              │ 171                │\n",
       "│ 17  │ 2019         │ 2.0           │ ats    │ any    │ 6.0            │ 6.0297       │ 3           │ 3.00664e5           │ 25000.0               │ 12.5903              │ 41875             │ 554              │ 252                │\n",
       "│ 18  │ 2019         │ 2.0           │ ats    │ any    │ 6.0            │ 6.0297       │ 4           │ 98188.3             │ 20000.0               │ 3.84574              │ 39167             │ 679              │ 298                │\n",
       "│ 19  │ 2019         │ 2.0           │ ats    │ any    │ 6.0            │ 6.0297       │ 5           │ 1.2804e5            │ 20000.0               │ 11.9645              │ 93443             │ 1468             │ 530                │\n",
       "│ 20  │ 2019         │ 2.0           │ ats    │ any    │ 6.0            │ 6.0297       │ 6           │ 1.3152e5            │ 20000.0               │ 13.7398              │ 104469            │ 1469             │ 525                │\n",
       "│ 21  │ 2019         │ 2.0           │ ats    │ any    │ 6.0            │ 6.0297       │ 7           │ 98823.3             │ 20000.0               │ 12.2585              │ 124045            │ 1550             │ 520                │\n",
       "│ 22  │ 2019         │ 2.0           │ ats    │ any    │ 6.0            │ 6.0297       │ 8           │ 87776.9             │ 20000.0               │ 10.2379              │ 116635            │ 1201             │ 417                │\n",
       "│ 23  │ 2019         │ 2.0           │ ats    │ any    │ 6.0            │ 6.0297       │ 9           │ 86218.0             │ 15000.0               │ 1.69806              │ 19695             │ 234              │ 146                │\n",
       "│ 24  │ 2019         │ 2.0           │ ats    │ any    │ 6.0            │ 6.0297       │ 10          │ 1.01703e5           │ 15000.0               │ 2.21285              │ 21758             │ 199              │ 129                │\n",
       "│ 25  │ 2019         │ 2.0           │ ats    │ any    │ 6.0            │ 6.0297       │ 11          │ 50967.4             │ 10000.0               │ 0.282818             │ 5549              │ 55               │ 42                 │\n",
       "│ 26  │ 2019         │ 2.0           │ ats    │ any    │ 6.0            │ 6.0297       │ 12          │ 1.29397e5           │ 10000.0               │ 0.082814             │ 640               │ 10               │ 6                  │\n",
       "│ 27  │ 2019         │ 2.0           │ otc    │ any    │ 6.0            │ 5.85771      │ 0           │ 4.23891e5           │ 30000.0               │ 31.3548              │ 73969             │ 459              │ 220                │\n",
       "│ 28  │ 2019         │ 2.0           │ otc    │ any    │ 6.0            │ 5.85771      │ 1           │ 5.3102e5            │ 50000.0               │ 0.923974             │ 1740              │ 20               │ 14                 │\n",
       "│ 29  │ 2019         │ 2.0           │ otc    │ any    │ 6.0            │ 5.85771      │ 2           │ 6.2275e5            │ 50000.0               │ 60.8551              │ 97720             │ 413              │ 190                │\n",
       "│ 30  │ 2019         │ 2.0           │ otc    │ any    │ 6.0            │ 5.85771      │ 3           │ 6.1364e5            │ 45000.0               │ 104.211              │ 169824            │ 610              │ 290                │\n",
       "│ 31  │ 2019         │ 2.0           │ otc    │ any    │ 6.0            │ 5.85771      │ 4           │ 5.52508e5           │ 35000.0               │ 84.0215              │ 152073            │ 760              │ 339                │\n",
       "│ 32  │ 2019         │ 2.0           │ otc    │ any    │ 6.0            │ 5.85771      │ 5           │ 5.57921e5           │ 35000.0               │ 199.621              │ 357795            │ 1557             │ 569                │\n",
       "│ 33  │ 2019         │ 2.0           │ otc    │ any    │ 6.0            │ 5.85771      │ 6           │ 5.58515e5           │ 35000.0               │ 206.982              │ 370593            │ 1528             │ 538                │\n",
       "│ 34  │ 2019         │ 2.0           │ otc    │ any    │ 6.0            │ 5.85771      │ 7           │ 5.13107e5           │ 30000.0               │ 208.755              │ 406846            │ 1597             │ 527                │\n",
       "│ 35  │ 2019         │ 2.0           │ otc    │ any    │ 6.0            │ 5.85771      │ 8           │ 4.83301e5           │ 30000.0               │ 177.619              │ 367512            │ 1229             │ 424                │\n",
       "│ 36  │ 2019         │ 2.0           │ otc    │ any    │ 6.0            │ 5.85771      │ 9           │ 5.32549e5           │ 39000.0               │ 32.5568              │ 61134             │ 237              │ 149                │\n",
       "│ 37  │ 2019         │ 2.0           │ otc    │ any    │ 6.0            │ 5.85771      │ 10          │ 5.03782e5           │ 35000.0               │ 35.172               │ 69816             │ 203              │ 132                │\n",
       "│ 38  │ 2019         │ 2.0           │ otc    │ any    │ 6.0            │ 5.85771      │ 11          │ 3.61947e5           │ 23000.0               │ 6.18531              │ 17089             │ 55               │ 42                 │\n",
       "│ 39  │ 2019         │ 2.0           │ otc    │ any    │ 6.0            │ 5.85771      │ 12          │ 5.97145e5           │ 75000.0               │ 1.89235              │ 3169              │ 10               │ 6                  │\n",
       "│ 40  │ 2019         │ 2.0           │ any    │ ig     │ 6.0            │ 5.4463       │ 0           │ 3.42264e5           │ 25000.0               │ 30.4848              │ 89068             │ 395              │ 193                │\n",
       "│ 41  │ 2019         │ 2.0           │ any    │ ig     │ 6.0            │ 5.4463       │ 1           │ 4.0487e5            │ 35000.0               │ 0.709333             │ 1752              │ 17               │ 11                 │\n",
       "│ 42  │ 2019         │ 2.0           │ any    │ ig     │ 6.0            │ 5.4463       │ 2           │ 5.18731e5           │ 35000.0               │ 54.0435              │ 104184            │ 351              │ 141                │\n",
       "│ 43  │ 2019         │ 2.0           │ any    │ ig     │ 6.0            │ 5.4463       │ 3           │ 5.22351e5           │ 35000.0               │ 95.7434              │ 183293            │ 486              │ 186                │\n",
       "│ 44  │ 2019         │ 2.0           │ any    │ ig     │ 6.0            │ 5.4463       │ 4           │ 4.63171e5           │ 26000.0               │ 74.3602              │ 160546            │ 658              │ 266                │\n",
       "│ 45  │ 2019         │ 2.0           │ any    │ ig     │ 6.0            │ 5.4463       │ 5           │ 461161.0            │ 25000.0               │ 172.538              │ 374138            │ 1339             │ 412                │\n",
       "⋮\n",
       "│ 69  │ 2019         │ 2.0           │ otc    │ ig     │ 6.0            │ 5.42601      │ 5           │ 5.55449e5           │ 30000.0               │ 164.262              │ 295728            │ 1339             │ 412                │\n",
       "│ 70  │ 2019         │ 2.0           │ otc    │ ig     │ 6.0            │ 5.42601      │ 6           │ 5.4021e5            │ 30000.0               │ 154.327              │ 285680            │ 1267             │ 425                │\n",
       "│ 71  │ 2019         │ 2.0           │ otc    │ ig     │ 6.0            │ 5.42601      │ 7           │ 5.38498e5           │ 30000.0               │ 154.469              │ 286851            │ 1237             │ 371                │\n",
       "│ 72  │ 2019         │ 2.0           │ otc    │ ig     │ 6.0            │ 5.42601      │ 8           │ 5.23824e5           │ 30000.0               │ 128.23               │ 244796            │ 935              │ 283                │\n",
       "│ 73  │ 2019         │ 2.0           │ otc    │ ig     │ 6.0            │ 5.42601      │ 9           │ 5.28542e5           │ 35000.0               │ 9.7664               │ 18478             │ 82               │ 43                 │\n",
       "│ 74  │ 2019         │ 2.0           │ otc    │ ig     │ 6.0            │ 5.42601      │ 10          │ 5.65771e5           │ 40000.0               │ 1.92306              │ 3399              │ 17               │ 8                  │\n",
       "│ 75  │ 2019         │ 2.0           │ otc    │ ig     │ 6.0            │ 5.42601      │ 11          │ 3.10574e5           │ 39500.0               │ 0.118018             │ 380               │ 5                │ 4                  │\n",
       "│ 76  │ 2019         │ 2.0           │ any    │ hy     │ 7.0            │ 7.07077      │ 0           │ 4.78545e5           │ 35000.0               │ 2.76073              │ 5769              │ 66               │ 34                 │\n",
       "│ 77  │ 2019         │ 2.0           │ any    │ hy     │ 7.0            │ 7.07077      │ 1           │ 6.61571e5           │ 89500.0               │ 0.269921             │ 408               │ 3                │ 3                  │\n",
       "│ 78  │ 2019         │ 2.0           │ any    │ hy     │ 7.0            │ 7.07077      │ 2           │ 5.58283e5           │ 40000.0               │ 9.25131              │ 16571             │ 72               │ 57                 │\n",
       "│ 79  │ 2019         │ 2.0           │ any    │ hy     │ 7.0            │ 7.07077      │ 3           │ 7.41315e5           │ 49000.0               │ 21.0578              │ 28406             │ 127              │ 111                │\n",
       "│ 80  │ 2019         │ 2.0           │ any    │ hy     │ 7.0            │ 7.07077      │ 4           │ 440055.0            │ 34000.0               │ 13.507               │ 30694             │ 106              │ 86                 │\n",
       "│ 81  │ 2019         │ 2.0           │ any    │ hy     │ 7.0            │ 7.07077      │ 5           │ 5.06458e5           │ 40000.0               │ 39.0479              │ 77100             │ 226              │ 168                │\n",
       "│ 82  │ 2019         │ 2.0           │ any    │ hy     │ 7.0            │ 7.07077      │ 6           │ 5.34223e5           │ 40000.0               │ 57.5123              │ 107656            │ 276              │ 130                │\n",
       "│ 83  │ 2019         │ 2.0           │ any    │ hy     │ 7.0            │ 7.07077      │ 7           │ 3.5441e5            │ 25000.0               │ 57.7627              │ 162983            │ 371              │ 174                │\n",
       "│ 84  │ 2019         │ 2.0           │ any    │ hy     │ 7.0            │ 7.07077      │ 8           │ 3.19278e5           │ 25000.0               │ 52.4804              │ 164372            │ 297              │ 151                │\n",
       "│ 85  │ 2019         │ 2.0           │ any    │ hy     │ 7.0            │ 7.07077      │ 9           │ 4.23894e5           │ 25000.0               │ 24.1107              │ 56879             │ 160              │ 110                │\n",
       "│ 86  │ 2019         │ 2.0           │ any    │ hy     │ 7.0            │ 7.07077      │ 10          │ 4.057e5             │ 25000.0               │ 35.3632              │ 87166             │ 186              │ 124                │\n",
       "│ 87  │ 2019         │ 2.0           │ any    │ hy     │ 7.0            │ 7.07077      │ 11          │ 2.8602e5            │ 17000.0               │ 6.33821              │ 22160             │ 52               │ 39                 │\n",
       "│ 88  │ 2019         │ 2.0           │ any    │ hy     │ 7.0            │ 7.07077      │ 12          │ 5.18553e5           │ 50000.0               │ 1.97517              │ 3809              │ 10               │ 6                  │\n",
       "│ 89  │ 2019         │ 2.0           │ ats    │ hy     │ 7.0            │ 7.28436      │ 0           │ 1.27275e5           │ 15000.0               │ 0.130839             │ 1028              │ 39               │ 26                 │\n",
       "│ 90  │ 2019         │ 2.0           │ ats    │ hy     │ 7.0            │ 7.28436      │ 1           │ 361678.0            │ 20000.0               │ 0.021339             │ 59                │ 3                │ 3                  │\n",
       "│ 91  │ 2019         │ 2.0           │ ats    │ hy     │ 7.0            │ 7.28436      │ 2           │ 93620.4             │ 20000.0               │ 0.285074             │ 3045              │ 60               │ 46                 │\n",
       "│ 92  │ 2019         │ 2.0           │ ats    │ hy     │ 7.0            │ 7.28436      │ 3           │ 4.08509e5           │ 20000.0               │ 1.50576              │ 3686              │ 96               │ 84                 │\n",
       "│ 93  │ 2019         │ 2.0           │ ats    │ hy     │ 7.0            │ 7.28436      │ 4           │ 90700.5             │ 15000.0               │ 0.505746             │ 5576              │ 77               │ 60                 │\n",
       "│ 94  │ 2019         │ 2.0           │ ats    │ hy     │ 7.0            │ 7.28436      │ 5           │ 2.45352e5           │ 20000.0               │ 3.68838              │ 15033             │ 196              │ 141                │\n",
       "│ 95  │ 2019         │ 2.0           │ ats    │ hy     │ 7.0            │ 7.28436      │ 6           │ 2.13589e5           │ 20000.0               │ 4.85766              │ 22743             │ 270              │ 125                │\n",
       "│ 96  │ 2019         │ 2.0           │ ats    │ hy     │ 7.0            │ 7.28436      │ 7           │ 80861.6             │ 15000.0               │ 3.47608              │ 42988             │ 359              │ 169                │\n",
       "│ 97  │ 2019         │ 2.0           │ ats    │ hy     │ 7.0            │ 7.28436      │ 8           │ 74213.6             │ 15000.0               │ 3.09144              │ 41656             │ 291              │ 148                │\n",
       "│ 98  │ 2019         │ 2.0           │ ats    │ hy     │ 7.0            │ 7.28436      │ 9           │ 92824.4             │ 12000.0               │ 1.32024              │ 14223             │ 157              │ 108                │\n",
       "│ 99  │ 2019         │ 2.0           │ ats    │ hy     │ 7.0            │ 7.28436      │ 10          │ 1.01895e5           │ 14000.0               │ 2.11421              │ 20749             │ 183              │ 121                │\n",
       "│ 100 │ 2019         │ 2.0           │ ats    │ hy     │ 7.0            │ 7.28436      │ 11          │ 49700.8             │ 10000.0               │ 0.270919             │ 5451              │ 52               │ 39                 │\n",
       "│ 101 │ 2019         │ 2.0           │ ats    │ hy     │ 7.0            │ 7.28436      │ 12          │ 1.29397e5           │ 10000.0               │ 0.082814             │ 640               │ 10               │ 6                  │\n",
       "│ 102 │ 2019         │ 2.0           │ otc    │ hy     │ 7.0            │ 7.00642      │ 0           │ 5.54712e5           │ 50000.0               │ 2.62989              │ 4741              │ 66               │ 34                 │\n",
       "│ 103 │ 2019         │ 2.0           │ otc    │ hy     │ 7.0            │ 7.00642      │ 1           │ 7.12269e5           │ 100000.0              │ 0.248582             │ 349               │ 3                │ 3                  │\n",
       "│ 104 │ 2019         │ 2.0           │ otc    │ hy     │ 7.0            │ 7.00642      │ 2           │ 6.62889e5           │ 50000.0               │ 8.96624              │ 13526             │ 72               │ 57                 │\n",
       "│ 105 │ 2019         │ 2.0           │ otc    │ hy     │ 7.0            │ 7.00642      │ 3           │ 7.90939e5           │ 50000.0               │ 19.552               │ 24720             │ 127              │ 111                │\n",
       "│ 106 │ 2019         │ 2.0           │ otc    │ hy     │ 7.0            │ 7.00642      │ 4           │ 517609.0            │ 50000.0               │ 13.0013              │ 25118             │ 106              │ 86                 │\n",
       "│ 107 │ 2019         │ 2.0           │ otc    │ hy     │ 7.0            │ 7.00642      │ 5           │ 5.69699e5           │ 50000.0               │ 35.3595              │ 62067             │ 226              │ 168                │\n",
       "│ 108 │ 2019         │ 2.0           │ otc    │ hy     │ 7.0            │ 7.00642      │ 6           │ 6.20101e5           │ 50000.0               │ 52.6546              │ 84913             │ 276              │ 130                │\n",
       "│ 109 │ 2019         │ 2.0           │ otc    │ hy     │ 7.0            │ 7.00642      │ 7           │ 4.52408e5           │ 30000.0               │ 54.2866              │ 119995            │ 371              │ 174                │\n",
       "│ 110 │ 2019         │ 2.0           │ otc    │ hy     │ 7.0            │ 7.00642      │ 8           │ 4.02466e5           │ 30000.0               │ 49.389               │ 122716            │ 297              │ 151                │\n",
       "│ 111 │ 2019         │ 2.0           │ otc    │ hy     │ 7.0            │ 7.00642      │ 9           │ 5.34284e5           │ 40000.0               │ 22.7904              │ 42656             │ 160              │ 110                │\n",
       "│ 112 │ 2019         │ 2.0           │ otc    │ hy     │ 7.0            │ 7.00642      │ 10          │ 5.0061e5            │ 35000.0               │ 33.249               │ 66417             │ 186              │ 124                │\n",
       "│ 113 │ 2019         │ 2.0           │ otc    │ hy     │ 7.0            │ 7.00642      │ 11          │ 3.63115e5           │ 23000.0               │ 6.06729              │ 16709             │ 52               │ 39                 │\n",
       "│ 114 │ 2019         │ 2.0           │ otc    │ hy     │ 7.0            │ 7.00642      │ 12          │ 5.97145e5           │ 75000.0               │ 1.89235              │ 3169              │ 10               │ 6                  │"
      ]
     },
     "execution_count": 12,
     "metadata": {},
     "output_type": "execute_result"
    }
   ],
   "source": [
    "snc"
   ]
  },
  {
   "cell_type": "code",
   "execution_count": null,
   "metadata": {},
   "outputs": [],
   "source": []
  },
  {
   "cell_type": "code",
   "execution_count": null,
   "metadata": {},
   "outputs": [],
   "source": []
  },
  {
   "cell_type": "code",
   "execution_count": null,
   "metadata": {},
   "outputs": [],
   "source": []
  },
  {
   "cell_type": "code",
   "execution_count": 253,
   "metadata": {},
   "outputs": [
    {
     "name": "stdout",
     "output_type": "stream",
     "text": [
      "      From worker 11:\tWARNING: replacing module StatsMod.\n",
      "      From worker 2:\tWARNING: replacing module StatsMod.\n",
      "      From worker 6:\tWARNING: replacing module StatsMod.\n",
      "      From worker 3:\tWARNING: replacing module StatsMod.\n",
      "      From worker 7:\tWARNING: replacing module StatsMod.\n",
      "      From worker 8:\tWARNING: replacing module StatsMod.\n",
      "      From worker 10:\tWARNING: replacing module StatsMod.\n",
      "      From worker 12:\tWARNING: replacing module StatsMod.\n"
     ]
    },
    {
     "name": "stderr",
     "output_type": "stream",
     "text": [
      "WARNING: replacing module StatsMod.\n"
     ]
    },
    {
     "name": "stdout",
     "output_type": "stream",
     "text": [
      " \n",
      "Filename: 2019Q2_stats_by_num_cov.csv\n",
      " \n",
      "Reading dataframe in folder: /home/artur/BondPricing/bond-data/data/Stats/2019...\n",
      "  0.094577 seconds (144.88 k allocations: 7.597 MiB)\n",
      " \n",
      "Filename: 2019Q2_stats_by_cov_cat.csv\n",
      " \n",
      "Reading dataframe in folder: /home/artur/BondPricing/bond-data/data/Stats/2019...\n",
      "  0.032039 seconds (4.15 k allocations: 257.148 KiB)\n"
     ]
    },
    {
     "data": {
      "text/html": [
       "<table class=\"data-frame\"><thead><tr><th></th><th>trd_exctn_yr</th><th>trd_exctn_qtr</th><th>otc</th><th>hy</th><th>ig</th><th>ats</th><th>cov</th><th>ncov</th><th>total_trd_count</th><th>total_bonds</th><th>total_issuers</th><th>qt25_trd_vol</th><th>mean_trd_vol</th><th>median_trd_vol</th><th>qt75_trd_vol</th><th>total_trd_vol_tr</th><th>cg1_mean_trd_vol</th><th>cg2_mean_trd_vol</th><th>cg3_mean_trd_vol</th><th>cg4_mean_trd_vol</th><th>cg5_mean_trd_vol</th><th>cg6_mean_trd_vol</th><th>cg7_mean_trd_vol</th><th>cg8_mean_trd_vol</th><th>cg9_mean_trd_vol</th><th>cg10_mean_trd_vol</th><th>cg11_mean_trd_vol</th><th>cg12_mean_trd_vol</th><th>cg13_mean_trd_vol</th><th>cg14_mean_trd_vol</th><th>cg15_mean_trd_vol</th><th>cg1_median_trd_vol</th><th>cg2_median_trd_vol</th><th>cg3_median_trd_vol</th><th>cg4_median_trd_vol</th><th>cg5_median_trd_vol</th><th>cg6_median_trd_vol</th><th>cg7_median_trd_vol</th><th>cg8_median_trd_vol</th><th>cg9_median_trd_vol</th><th>cg10_median_trd_vol</th><th>cg11_median_trd_vol</th><th>cg12_median_trd_vol</th><th>cg13_median_trd_vol</th><th>cg14_median_trd_vol</th><th>cg15_median_trd_vol</th><th>cg1_trd_vol_tr</th><th>cg2_trd_vol_tr</th><th>cg3_trd_vol_tr</th><th>cg4_trd_vol_tr</th><th>cg5_trd_vol_tr</th><th>cg6_trd_vol_tr</th><th>cg7_trd_vol_tr</th><th>cg8_trd_vol_tr</th><th>cg9_trd_vol_tr</th><th>cg10_trd_vol_tr</th><th>cg11_trd_vol_tr</th><th>cg12_trd_vol_tr</th><th>cg13_trd_vol_tr</th><th>cg14_trd_vol_tr</th></tr><tr><th></th><th>Int64</th><th>Int64</th><th>Int64</th><th>Int64</th><th>Int64</th><th>Int64</th><th>Int64</th><th>Int64</th><th>Int64</th><th>Int64</th><th>Int64</th><th>Float64</th><th>Float64</th><th>Float64</th><th>Float64</th><th>Float64</th><th>Float64</th><th>Float64</th><th>Float64</th><th>Float64</th><th>Float64</th><th>Float64</th><th>Float64</th><th>Float64</th><th>Float64</th><th>Float64</th><th>Float64</th><th>Float64</th><th>Float64</th><th>Float64</th><th>Float64</th><th>Float64</th><th>Float64</th><th>Float64</th><th>Float64</th><th>Float64</th><th>Float64</th><th>Float64</th><th>Float64</th><th>Float64</th><th>Float64</th><th>Float64</th><th>Float64</th><th>Float64</th><th>Float64</th><th>Float64</th><th>Float64</th><th>Float64</th><th>Float64</th><th>Float64</th><th>Float64</th><th>Float64</th><th>Float64</th><th>Float64</th><th>Float64</th><th>Float64</th><th>Float64</th><th>Float64</th><th>Float64</th><th>Float64</th></tr></thead><tbody><p>1 rows × 109 columns (omitted printing of 49 columns)</p><tr><th>1</th><td>2019</td><td>2</td><td>0</td><td>0</td><td>0</td><td>0</td><td>0</td><td>0</td><td>3475580</td><td>19552</td><td>2269</td><td>10000.0</td><td>432484.0</td><td>25000.0</td><td>130000.0</td><td>1503.13</td><td>22508.7</td><td>2.71653e5</td><td>1614.6</td><td>6419.6</td><td>242.879</td><td>2.13689e5</td><td>343282.0</td><td>1.42794e5</td><td>13726.3</td><td>4148.6</td><td>2.91945e5</td><td>1.47597e5</td><td>2.72294e5</td><td>26237.7</td><td>2.69743e5</td><td>0.0</td><td>10000.0</td><td>0.0</td><td>0.0</td><td>0.0</td><td>0.0</td><td>15000.0</td><td>0.0</td><td>0.0</td><td>0.0</td><td>10000.0</td><td>0.0</td><td>8000.0</td><td>0.0</td><td>7000.0</td><td>78.2308</td><td>944.15</td><td>5.61167</td><td>22.3118</td><td>0.844147</td><td>742.694</td><td>1193.1</td><td>496.291</td><td>47.7069</td><td>14.4188</td><td>1014.68</td><td>512.984</td><td>946.379</td><td>91.1911</td></tr></tbody></table>"
      ],
      "text/latex": [
       "\\begin{tabular}{r|ccccccccccccccccccccccccccccccccccccccccccccccccccccccccccccc}\n",
       "\t& trd\\_exctn\\_yr & trd\\_exctn\\_qtr & otc & hy & ig & ats & cov & ncov & total\\_trd\\_count & total\\_bonds & total\\_issuers & qt25\\_trd\\_vol & mean\\_trd\\_vol & median\\_trd\\_vol & qt75\\_trd\\_vol & total\\_trd\\_vol\\_tr & cg1\\_mean\\_trd\\_vol & cg2\\_mean\\_trd\\_vol & cg3\\_mean\\_trd\\_vol & cg4\\_mean\\_trd\\_vol & cg5\\_mean\\_trd\\_vol & cg6\\_mean\\_trd\\_vol & cg7\\_mean\\_trd\\_vol & cg8\\_mean\\_trd\\_vol & cg9\\_mean\\_trd\\_vol & cg10\\_mean\\_trd\\_vol & cg11\\_mean\\_trd\\_vol & cg12\\_mean\\_trd\\_vol & cg13\\_mean\\_trd\\_vol & cg14\\_mean\\_trd\\_vol & cg15\\_mean\\_trd\\_vol & cg1\\_median\\_trd\\_vol & cg2\\_median\\_trd\\_vol & cg3\\_median\\_trd\\_vol & cg4\\_median\\_trd\\_vol & cg5\\_median\\_trd\\_vol & cg6\\_median\\_trd\\_vol & cg7\\_median\\_trd\\_vol & cg8\\_median\\_trd\\_vol & cg9\\_median\\_trd\\_vol & cg10\\_median\\_trd\\_vol & cg11\\_median\\_trd\\_vol & cg12\\_median\\_trd\\_vol & cg13\\_median\\_trd\\_vol & cg14\\_median\\_trd\\_vol & cg15\\_median\\_trd\\_vol & cg1\\_trd\\_vol\\_tr & cg2\\_trd\\_vol\\_tr & cg3\\_trd\\_vol\\_tr & cg4\\_trd\\_vol\\_tr & cg5\\_trd\\_vol\\_tr & cg6\\_trd\\_vol\\_tr & cg7\\_trd\\_vol\\_tr & cg8\\_trd\\_vol\\_tr & cg9\\_trd\\_vol\\_tr & cg10\\_trd\\_vol\\_tr & cg11\\_trd\\_vol\\_tr & cg12\\_trd\\_vol\\_tr & cg13\\_trd\\_vol\\_tr & cg14\\_trd\\_vol\\_tr & \\\\\n",
       "\t\\hline\n",
       "\t& Int64 & Int64 & Int64 & Int64 & Int64 & Int64 & Int64 & Int64 & Int64 & Int64 & Int64 & Float64 & Float64 & Float64 & Float64 & Float64 & Float64 & Float64 & Float64 & Float64 & Float64 & Float64 & Float64 & Float64 & Float64 & Float64 & Float64 & Float64 & Float64 & Float64 & Float64 & Float64 & Float64 & Float64 & Float64 & Float64 & Float64 & Float64 & Float64 & Float64 & Float64 & Float64 & Float64 & Float64 & Float64 & Float64 & Float64 & Float64 & Float64 & Float64 & Float64 & Float64 & Float64 & Float64 & Float64 & Float64 & Float64 & Float64 & Float64 & Float64 & \\\\\n",
       "\t\\hline\n",
       "\t1 & 2019 & 2 & 0 & 0 & 0 & 0 & 0 & 0 & 3475580 & 19552 & 2269 & 10000.0 & 432484.0 & 25000.0 & 130000.0 & 1503.13 & 22508.7 & 2.71653e5 & 1614.6 & 6419.6 & 242.879 & 2.13689e5 & 343282.0 & 1.42794e5 & 13726.3 & 4148.6 & 2.91945e5 & 1.47597e5 & 2.72294e5 & 26237.7 & 2.69743e5 & 0.0 & 10000.0 & 0.0 & 0.0 & 0.0 & 0.0 & 15000.0 & 0.0 & 0.0 & 0.0 & 10000.0 & 0.0 & 8000.0 & 0.0 & 7000.0 & 78.2308 & 944.15 & 5.61167 & 22.3118 & 0.844147 & 742.694 & 1193.1 & 496.291 & 47.7069 & 14.4188 & 1014.68 & 512.984 & 946.379 & 91.1911 & $\\dots$ \\\\\n",
       "\\end{tabular}\n"
      ],
      "text/plain": [
       "1×109 DataFrame. Omitted printing of 53 columns\n",
       "│ Row │ trd_exctn_yr │ trd_exctn_qtr │ otc   │ hy    │ ig    │ ats   │ cov   │ ncov  │ total_trd_count │ total_bonds │ total_issuers │ qt25_trd_vol │ mean_trd_vol │ median_trd_vol │ qt75_trd_vol │ total_trd_vol_tr │ cg1_mean_trd_vol │ cg2_mean_trd_vol │ cg3_mean_trd_vol │ cg4_mean_trd_vol │ cg5_mean_trd_vol │ cg6_mean_trd_vol │ cg7_mean_trd_vol │ cg8_mean_trd_vol │ cg9_mean_trd_vol │ cg10_mean_trd_vol │ cg11_mean_trd_vol │ cg12_mean_trd_vol │ cg13_mean_trd_vol │ cg14_mean_trd_vol │ cg15_mean_trd_vol │ cg1_median_trd_vol │ cg2_median_trd_vol │ cg3_median_trd_vol │ cg4_median_trd_vol │ cg5_median_trd_vol │ cg6_median_trd_vol │ cg7_median_trd_vol │ cg8_median_trd_vol │ cg9_median_trd_vol │ cg10_median_trd_vol │ cg11_median_trd_vol │ cg12_median_trd_vol │ cg13_median_trd_vol │ cg14_median_trd_vol │ cg15_median_trd_vol │ cg1_trd_vol_tr │ cg2_trd_vol_tr │ cg3_trd_vol_tr │ cg4_trd_vol_tr │ cg5_trd_vol_tr │ cg6_trd_vol_tr │ cg7_trd_vol_tr │ cg8_trd_vol_tr │ cg9_trd_vol_tr │ cg10_trd_vol_tr │\n",
       "│     │ \u001b[90mInt64\u001b[39m        │ \u001b[90mInt64\u001b[39m         │ \u001b[90mInt64\u001b[39m │ \u001b[90mInt64\u001b[39m │ \u001b[90mInt64\u001b[39m │ \u001b[90mInt64\u001b[39m │ \u001b[90mInt64\u001b[39m │ \u001b[90mInt64\u001b[39m │ \u001b[90mInt64\u001b[39m           │ \u001b[90mInt64\u001b[39m       │ \u001b[90mInt64\u001b[39m         │ \u001b[90mFloat64\u001b[39m      │ \u001b[90mFloat64\u001b[39m      │ \u001b[90mFloat64\u001b[39m        │ \u001b[90mFloat64\u001b[39m      │ \u001b[90mFloat64\u001b[39m          │ \u001b[90mFloat64\u001b[39m          │ \u001b[90mFloat64\u001b[39m          │ \u001b[90mFloat64\u001b[39m          │ \u001b[90mFloat64\u001b[39m          │ \u001b[90mFloat64\u001b[39m          │ \u001b[90mFloat64\u001b[39m          │ \u001b[90mFloat64\u001b[39m          │ \u001b[90mFloat64\u001b[39m          │ \u001b[90mFloat64\u001b[39m          │ \u001b[90mFloat64\u001b[39m           │ \u001b[90mFloat64\u001b[39m           │ \u001b[90mFloat64\u001b[39m           │ \u001b[90mFloat64\u001b[39m           │ \u001b[90mFloat64\u001b[39m           │ \u001b[90mFloat64\u001b[39m           │ \u001b[90mFloat64\u001b[39m            │ \u001b[90mFloat64\u001b[39m            │ \u001b[90mFloat64\u001b[39m            │ \u001b[90mFloat64\u001b[39m            │ \u001b[90mFloat64\u001b[39m            │ \u001b[90mFloat64\u001b[39m            │ \u001b[90mFloat64\u001b[39m            │ \u001b[90mFloat64\u001b[39m            │ \u001b[90mFloat64\u001b[39m            │ \u001b[90mFloat64\u001b[39m             │ \u001b[90mFloat64\u001b[39m             │ \u001b[90mFloat64\u001b[39m             │ \u001b[90mFloat64\u001b[39m             │ \u001b[90mFloat64\u001b[39m             │ \u001b[90mFloat64\u001b[39m             │ \u001b[90mFloat64\u001b[39m        │ \u001b[90mFloat64\u001b[39m        │ \u001b[90mFloat64\u001b[39m        │ \u001b[90mFloat64\u001b[39m        │ \u001b[90mFloat64\u001b[39m        │ \u001b[90mFloat64\u001b[39m        │ \u001b[90mFloat64\u001b[39m        │ \u001b[90mFloat64\u001b[39m        │ \u001b[90mFloat64\u001b[39m        │ \u001b[90mFloat64\u001b[39m         │\n",
       "├─────┼──────────────┼───────────────┼───────┼───────┼───────┼───────┼───────┼───────┼─────────────────┼─────────────┼───────────────┼──────────────┼──────────────┼────────────────┼──────────────┼──────────────────┼──────────────────┼──────────────────┼──────────────────┼──────────────────┼──────────────────┼──────────────────┼──────────────────┼──────────────────┼──────────────────┼───────────────────┼───────────────────┼───────────────────┼───────────────────┼───────────────────┼───────────────────┼────────────────────┼────────────────────┼────────────────────┼────────────────────┼────────────────────┼────────────────────┼────────────────────┼────────────────────┼────────────────────┼─────────────────────┼─────────────────────┼─────────────────────┼─────────────────────┼─────────────────────┼─────────────────────┼────────────────┼────────────────┼────────────────┼────────────────┼────────────────┼────────────────┼────────────────┼────────────────┼────────────────┼─────────────────┤\n",
       "│ 1   │ 2019         │ 2             │ 0     │ 0     │ 0     │ 0     │ 0     │ 0     │ 3475580         │ 19552       │ 2269          │ 10000.0      │ 432484.0     │ 25000.0        │ 130000.0     │ 1503.13          │ 22508.7          │ 2.71653e5        │ 1614.6           │ 6419.6           │ 242.879          │ 2.13689e5        │ 343282.0         │ 1.42794e5        │ 13726.3          │ 4148.6            │ 2.91945e5         │ 1.47597e5         │ 2.72294e5         │ 26237.7           │ 2.69743e5         │ 0.0                │ 10000.0            │ 0.0                │ 0.0                │ 0.0                │ 0.0                │ 15000.0            │ 0.0                │ 0.0                │ 0.0                 │ 10000.0             │ 0.0                 │ 8000.0              │ 0.0                 │ 7000.0              │ 78.2308        │ 944.15         │ 5.61167        │ 22.3118        │ 0.844147       │ 742.694        │ 1193.1         │ 496.291        │ 47.7069        │ 14.4188         │"
      ]
     },
     "execution_count": 253,
     "metadata": {},
     "output_type": "execute_result"
    }
   ],
   "source": [
    "@everywhere include(string(joinpath(module_path, \"stats_module\"), \".jl\"))\n",
    "\n",
    "dto = DataMod.data_obj_constructor()\n",
    "\n",
    "snc = @time StatsMod.load_stats_data(dto, 2019, 2; stats_by_num_cov=true)\n",
    "scc = @time StatsMod.load_stats_data(dto, 2019, 2; stats_by_num_cov=false)\n",
    "\n",
    "first(scc, 5)"
   ]
  },
  {
   "cell_type": "code",
   "execution_count": 254,
   "metadata": {},
   "outputs": [
    {
     "data": {
      "text/html": [
       "<table class=\"data-frame\"><thead><tr><th></th><th>trd_exctn_yr</th><th>trd_exctn_qtr</th><th>sbm</th><th>rt</th><th>median_num_cov</th><th>mean_num_cov</th><th>sum_num_cov</th><th>mean_vol_by_num_cov</th><th>median_vol_by_num_cov</th><th>total_vol_by_num_cov</th><th>trades_by_num_cov</th><th>bonds_by_num_cov</th><th>issuers_by_num_cov</th></tr><tr><th></th><th>Int64</th><th>Int64</th><th>Symbol</th><th>Symbol</th><th>Float64</th><th>Float64</th><th>Int64</th><th>Float64</th><th>Float64</th><th>Float64</th><th>Int64</th><th>Int64</th><th>Int64</th></tr></thead><tbody><p>114 rows × 13 columns</p><tr><th>1</th><td>2019</td><td>2</td><td>any</td><td>any</td><td>5.0</td><td>4.68962</td><td>0</td><td>3.86077e5</td><td>25000.0</td><td>310.029</td><td>803023</td><td>11284</td><td>624</td></tr><tr><th>2</th><td>2019</td><td>2</td><td>any</td><td>any</td><td>5.0</td><td>4.68962</td><td>1</td><td>4.53358e5</td><td>40000.0</td><td>0.979254</td><td>2160</td><td>20</td><td>14</td></tr><tr><th>3</th><td>2019</td><td>2</td><td>any</td><td>any</td><td>5.0</td><td>4.68962</td><td>2</td><td>5.24264e5</td><td>35000.0</td><td>63.3725</td><td>120879</td><td>416</td><td>193</td></tr><tr><th>4</th><td>2019</td><td>2</td><td>any</td><td>any</td><td>5.0</td><td>4.68962</td><td>3</td><td>5.50453e5</td><td>36000.0</td><td>119.016</td><td>216214</td><td>643</td><td>318</td></tr><tr><th>5</th><td>2019</td><td>2</td><td>any</td><td>any</td><td>5.0</td><td>4.68962</td><td>4</td><td>4.57628e5</td><td>29000.0</td><td>88.2801</td><td>192908</td><td>768</td><td>342</td></tr><tr><th>6</th><td>2019</td><td>2</td><td>any</td><td>any</td><td>5.0</td><td>4.68962</td><td>5</td><td>4.69056e5</td><td>29000.0</td><td>211.749</td><td>451436</td><td>1560</td><td>572</td></tr><tr><th>7</th><td>2019</td><td>2</td><td>any</td><td>any</td><td>5.0</td><td>4.68962</td><td>6</td><td>4.64675e5</td><td>28000.0</td><td>220.754</td><td>475072</td><td>1529</td><td>539</td></tr><tr><th>8</th><td>2019</td><td>2</td><td>any</td><td>any</td><td>5.0</td><td>4.68962</td><td>7</td><td>4.16307e5</td><td>25000.0</td><td>221.014</td><td>530891</td><td>1597</td><td>527</td></tr><tr><th>9</th><td>2019</td><td>2</td><td>any</td><td>any</td><td>5.0</td><td>4.68962</td><td>8</td><td>3.88016e5</td><td>25000.0</td><td>187.857</td><td>484147</td><td>1229</td><td>424</td></tr><tr><th>10</th><td>2019</td><td>2</td><td>any</td><td>any</td><td>5.0</td><td>4.68962</td><td>9</td><td>4.23795e5</td><td>25000.0</td><td>34.2549</td><td>80829</td><td>238</td><td>149</td></tr><tr><th>11</th><td>2019</td><td>2</td><td>any</td><td>any</td><td>5.0</td><td>4.68962</td><td>10</td><td>408248.0</td><td>25000.0</td><td>37.3849</td><td>91574</td><td>203</td><td>132</td></tr><tr><th>12</th><td>2019</td><td>2</td><td>any</td><td>any</td><td>5.0</td><td>4.68962</td><td>11</td><td>2.8572e5</td><td>18000.0</td><td>6.46813</td><td>22638</td><td>55</td><td>42</td></tr><tr><th>13</th><td>2019</td><td>2</td><td>any</td><td>any</td><td>5.0</td><td>4.68962</td><td>12</td><td>5.18553e5</td><td>50000.0</td><td>1.97517</td><td>3809</td><td>10</td><td>6</td></tr><tr><th>14</th><td>2019</td><td>2</td><td>ats</td><td>any</td><td>6.0</td><td>4.78984</td><td>0</td><td>80112.1</td><td>20000.0</td><td>14.3209</td><td>178761</td><td>6616</td><td>541</td></tr><tr><th>15</th><td>2019</td><td>2</td><td>ats</td><td>any</td><td>6.0</td><td>4.78984</td><td>1</td><td>131619.0</td><td>24500.0</td><td>0.05528</td><td>420</td><td>17</td><td>12</td></tr><tr><th>16</th><td>2019</td><td>2</td><td>ats</td><td>any</td><td>6.0</td><td>4.78984</td><td>2</td><td>1.05871e5</td><td>20000.0</td><td>2.43991</td><td>23046</td><td>379</td><td>172</td></tr><tr><th>17</th><td>2019</td><td>2</td><td>ats</td><td>any</td><td>6.0</td><td>4.78984</td><td>3</td><td>302995.0</td><td>25000.0</td><td>13.0048</td><td>42921</td><td>584</td><td>277</td></tr><tr><th>18</th><td>2019</td><td>2</td><td>ats</td><td>any</td><td>6.0</td><td>4.78984</td><td>4</td><td>97961.3</td><td>20000.0</td><td>3.85184</td><td>39320</td><td>683</td><td>301</td></tr><tr><th>19</th><td>2019</td><td>2</td><td>ats</td><td>any</td><td>6.0</td><td>4.78984</td><td>5</td><td>128021.0</td><td>20000.0</td><td>11.9655</td><td>93465</td><td>1470</td><td>532</td></tr><tr><th>20</th><td>2019</td><td>2</td><td>ats</td><td>any</td><td>6.0</td><td>4.78984</td><td>6</td><td>1.3152e5</td><td>20000.0</td><td>13.7398</td><td>104469</td><td>1469</td><td>525</td></tr><tr><th>21</th><td>2019</td><td>2</td><td>ats</td><td>any</td><td>6.0</td><td>4.78984</td><td>7</td><td>98823.3</td><td>20000.0</td><td>12.2585</td><td>124045</td><td>1550</td><td>520</td></tr><tr><th>22</th><td>2019</td><td>2</td><td>ats</td><td>any</td><td>6.0</td><td>4.78984</td><td>8</td><td>87776.9</td><td>20000.0</td><td>10.2379</td><td>116635</td><td>1201</td><td>417</td></tr><tr><th>23</th><td>2019</td><td>2</td><td>ats</td><td>any</td><td>6.0</td><td>4.78984</td><td>9</td><td>86218.0</td><td>15000.0</td><td>1.69806</td><td>19695</td><td>234</td><td>146</td></tr><tr><th>24</th><td>2019</td><td>2</td><td>ats</td><td>any</td><td>6.0</td><td>4.78984</td><td>10</td><td>1.01703e5</td><td>15000.0</td><td>2.21285</td><td>21758</td><td>199</td><td>129</td></tr><tr><th>25</th><td>2019</td><td>2</td><td>ats</td><td>any</td><td>6.0</td><td>4.78984</td><td>11</td><td>50967.4</td><td>10000.0</td><td>0.282818</td><td>5549</td><td>55</td><td>42</td></tr><tr><th>26</th><td>2019</td><td>2</td><td>ats</td><td>any</td><td>6.0</td><td>4.78984</td><td>12</td><td>1.29397e5</td><td>10000.0</td><td>0.082814</td><td>640</td><td>10</td><td>6</td></tr><tr><th>27</th><td>2019</td><td>2</td><td>otc</td><td>any</td><td>5.0</td><td>4.66106</td><td>0</td><td>4.73692e5</td><td>25000.0</td><td>295.708</td><td>624262</td><td>11274</td><td>624</td></tr><tr><th>28</th><td>2019</td><td>2</td><td>otc</td><td>any</td><td>5.0</td><td>4.66106</td><td>1</td><td>5.3102e5</td><td>50000.0</td><td>0.923974</td><td>1740</td><td>20</td><td>14</td></tr><tr><th>29</th><td>2019</td><td>2</td><td>otc</td><td>any</td><td>5.0</td><td>4.66106</td><td>2</td><td>6.22822e5</td><td>50000.0</td><td>60.9326</td><td>97833</td><td>416</td><td>193</td></tr><tr><th>30</th><td>2019</td><td>2</td><td>otc</td><td>any</td><td>5.0</td><td>4.66106</td><td>3</td><td>6.11743e5</td><td>45000.0</td><td>106.011</td><td>173293</td><td>643</td><td>318</td></tr><tr><th>31</th><td>2019</td><td>2</td><td>otc</td><td>any</td><td>5.0</td><td>4.66106</td><td>4</td><td>5.49706e5</td><td>35000.0</td><td>84.4282</td><td>153588</td><td>768</td><td>342</td></tr><tr><th>32</th><td>2019</td><td>2</td><td>otc</td><td>any</td><td>5.0</td><td>4.66106</td><td>5</td><td>5.58098e5</td><td>35000.0</td><td>199.783</td><td>357971</td><td>1560</td><td>572</td></tr><tr><th>33</th><td>2019</td><td>2</td><td>otc</td><td>any</td><td>5.0</td><td>4.66106</td><td>6</td><td>5.58588e5</td><td>35000.0</td><td>207.014</td><td>370603</td><td>1529</td><td>539</td></tr><tr><th>34</th><td>2019</td><td>2</td><td>otc</td><td>any</td><td>5.0</td><td>4.66106</td><td>7</td><td>5.13107e5</td><td>30000.0</td><td>208.755</td><td>406846</td><td>1597</td><td>527</td></tr><tr><th>35</th><td>2019</td><td>2</td><td>otc</td><td>any</td><td>5.0</td><td>4.66106</td><td>8</td><td>4.83301e5</td><td>30000.0</td><td>177.619</td><td>367512</td><td>1229</td><td>424</td></tr><tr><th>36</th><td>2019</td><td>2</td><td>otc</td><td>any</td><td>5.0</td><td>4.66106</td><td>9</td><td>5.32549e5</td><td>39000.0</td><td>32.5568</td><td>61134</td><td>237</td><td>149</td></tr><tr><th>37</th><td>2019</td><td>2</td><td>otc</td><td>any</td><td>5.0</td><td>4.66106</td><td>10</td><td>5.03782e5</td><td>35000.0</td><td>35.172</td><td>69816</td><td>203</td><td>132</td></tr><tr><th>38</th><td>2019</td><td>2</td><td>otc</td><td>any</td><td>5.0</td><td>4.66106</td><td>11</td><td>3.61947e5</td><td>23000.0</td><td>6.18531</td><td>17089</td><td>55</td><td>42</td></tr><tr><th>39</th><td>2019</td><td>2</td><td>otc</td><td>any</td><td>5.0</td><td>4.66106</td><td>12</td><td>5.97145e5</td><td>75000.0</td><td>1.89235</td><td>3169</td><td>10</td><td>6</td></tr><tr><th>40</th><td>2019</td><td>2</td><td>any</td><td>ig</td><td>5.0</td><td>4.14459</td><td>0</td><td>3.87959e5</td><td>25000.0</td><td>277.39</td><td>714997</td><td>5878</td><td>475</td></tr><tr><th>41</th><td>2019</td><td>2</td><td>any</td><td>ig</td><td>5.0</td><td>4.14459</td><td>1</td><td>4.0487e5</td><td>35000.0</td><td>0.709333</td><td>1752</td><td>17</td><td>11</td></tr><tr><th>42</th><td>2019</td><td>2</td><td>any</td><td>ig</td><td>5.0</td><td>4.14459</td><td>2</td><td>5.1841e5</td><td>35000.0</td><td>54.0478</td><td>104257</td><td>352</td><td>142</td></tr><tr><th>43</th><td>2019</td><td>2</td><td>any</td><td>ig</td><td>5.0</td><td>4.14459</td><td>3</td><td>5.21887e5</td><td>35000.0</td><td>97.909</td><td>187606</td><td>512</td><td>207</td></tr><tr><th>44</th><td>2019</td><td>2</td><td>any</td><td>ig</td><td>5.0</td><td>4.14459</td><td>4</td><td>4.60678e5</td><td>26000.0</td><td>74.7261</td><td>162209</td><td>665</td><td>268</td></tr><tr><th>45</th><td>2019</td><td>2</td><td>any</td><td>ig</td><td>5.0</td><td>4.14459</td><td>5</td><td>4.61354e5</td><td>25000.0</td><td>172.69</td><td>374311</td><td>1340</td><td>413</td></tr><tr><th>46</th><td>2019</td><td>2</td><td>any</td><td>ig</td><td>5.0</td><td>4.14459</td><td>6</td><td>4.44297e5</td><td>25000.0</td><td>163.242</td><td>367416</td><td>1268</td><td>426</td></tr><tr><th>47</th><td>2019</td><td>2</td><td>any</td><td>ig</td><td>5.0</td><td>4.14459</td><td>7</td><td>4.43728e5</td><td>25000.0</td><td>163.251</td><td>367908</td><td>1237</td><td>371</td></tr><tr><th>48</th><td>2019</td><td>2</td><td>any</td><td>ig</td><td>5.0</td><td>4.14459</td><td>8</td><td>4.23349e5</td><td>25000.0</td><td>135.376</td><td>319775</td><td>935</td><td>283</td></tr><tr><th>49</th><td>2019</td><td>2</td><td>any</td><td>ig</td><td>5.0</td><td>4.14459</td><td>9</td><td>4.23558e5</td><td>25000.0</td><td>10.1442</td><td>23950</td><td>83</td><td>43</td></tr><tr><th>50</th><td>2019</td><td>2</td><td>any</td><td>ig</td><td>5.0</td><td>4.14459</td><td>10</td><td>458642.0</td><td>30000.0</td><td>2.02169</td><td>4408</td><td>17</td><td>8</td></tr><tr><th>51</th><td>2019</td><td>2</td><td>any</td><td>ig</td><td>5.0</td><td>4.14459</td><td>11</td><td>2.71793e5</td><td>30000.0</td><td>0.129917</td><td>478</td><td>5</td><td>4</td></tr><tr><th>52</th><td>2019</td><td>2</td><td>ats</td><td>ig</td><td>5.0</td><td>4.13382</td><td>0</td><td>78250.6</td><td>20000.0</td><td>12.9311</td><td>165252</td><td>5011</td><td>423</td></tr><tr><th>53</th><td>2019</td><td>2</td><td>ats</td><td>ig</td><td>5.0</td><td>4.13382</td><td>1</td><td>94019.4</td><td>25000.0</td><td>0.033941</td><td>361</td><td>14</td><td>9</td></tr><tr><th>54</th><td>2019</td><td>2</td><td>ats</td><td>ig</td><td>5.0</td><td>4.13382</td><td>2</td><td>1.07736e5</td><td>20000.0</td><td>2.15484</td><td>20001</td><td>329</td><td>134</td></tr><tr><th>55</th><td>2019</td><td>2</td><td>ats</td><td>ig</td><td>5.0</td><td>4.13382</td><td>3</td><td>2.93449e5</td><td>25000.0</td><td>11.4982</td><td>39183</td><td>484</td><td>193</td></tr><tr><th>56</th><td>2019</td><td>2</td><td>ats</td><td>ig</td><td>5.0</td><td>4.13382</td><td>4</td><td>99161.1</td><td>20000.0</td><td>3.34609</td><td>33744</td><td>610</td><td>252</td></tr><tr><th>57</th><td>2019</td><td>2</td><td>ats</td><td>ig</td><td>5.0</td><td>4.13382</td><td>5</td><td>105534.0</td><td>20000.0</td><td>8.27682</td><td>78428</td><td>1279</td><td>401</td></tr><tr><th>58</th><td>2019</td><td>2</td><td>ats</td><td>ig</td><td>5.0</td><td>4.13382</td><td>6</td><td>1.08682e5</td><td>20000.0</td><td>8.88215</td><td>81726</td><td>1214</td><td>417</td></tr><tr><th>59</th><td>2019</td><td>2</td><td>ats</td><td>ig</td><td>5.0</td><td>4.13382</td><td>7</td><td>1.08349e5</td><td>20000.0</td><td>8.78245</td><td>81057</td><td>1201</td><td>369</td></tr><tr><th>60</th><td>2019</td><td>2</td><td>ats</td><td>ig</td><td>5.0</td><td>4.13382</td><td>8</td><td>95312.2</td><td>20000.0</td><td>7.14641</td><td>74979</td><td>913</td><td>278</td></tr><tr><th>61</th><td>2019</td><td>2</td><td>ats</td><td>ig</td><td>5.0</td><td>4.13382</td><td>9</td><td>69046.2</td><td>20000.0</td><td>0.377821</td><td>5472</td><td>82</td><td>42</td></tr><tr><th>62</th><td>2019</td><td>2</td><td>ats</td><td>ig</td><td>5.0</td><td>4.13382</td><td>10</td><td>97758.2</td><td>20000.0</td><td>0.098638</td><td>1009</td><td>16</td><td>8</td></tr><tr><th>63</th><td>2019</td><td>2</td><td>ats</td><td>ig</td><td>5.0</td><td>4.13382</td><td>11</td><td>1.21418e5</td><td>25000.0</td><td>0.011899</td><td>98</td><td>5</td><td>4</td></tr><tr><th>64</th><td>2019</td><td>2</td><td>otc</td><td>ig</td><td>5.0</td><td>4.14765</td><td>0</td><td>4.81057e5</td><td>25000.0</td><td>264.458</td><td>549745</td><td>5872</td><td>475</td></tr><tr><th>65</th><td>2019</td><td>2</td><td>otc</td><td>ig</td><td>5.0</td><td>4.14765</td><td>1</td><td>4.85544e5</td><td>40000.0</td><td>0.675392</td><td>1391</td><td>17</td><td>11</td></tr><tr><th>66</th><td>2019</td><td>2</td><td>otc</td><td>ig</td><td>5.0</td><td>4.14765</td><td>2</td><td>6.15897e5</td><td>48000.0</td><td>51.893</td><td>84256</td><td>352</td><td>142</td></tr><tr><th>67</th><td>2019</td><td>2</td><td>otc</td><td>ig</td><td>5.0</td><td>4.14765</td><td>3</td><td>582193.0</td><td>43000.0</td><td>86.4108</td><td>148423</td><td>512</td><td>207</td></tr><tr><th>68</th><td>2019</td><td>2</td><td>otc</td><td>ig</td><td>5.0</td><td>4.14765</td><td>4</td><td>5.55637e5</td><td>34000.0</td><td>71.38</td><td>128465</td><td>665</td><td>268</td></tr><tr><th>69</th><td>2019</td><td>2</td><td>otc</td><td>ig</td><td>5.0</td><td>4.14765</td><td>5</td><td>5.55669e5</td><td>30000.0</td><td>164.413</td><td>295883</td><td>1340</td><td>413</td></tr><tr><th>70</th><td>2019</td><td>2</td><td>otc</td><td>ig</td><td>5.0</td><td>4.14765</td><td>6</td><td>5.40305e5</td><td>30000.0</td><td>154.36</td><td>285690</td><td>1268</td><td>426</td></tr><tr><th>71</th><td>2019</td><td>2</td><td>otc</td><td>ig</td><td>5.0</td><td>4.14765</td><td>7</td><td>5.38498e5</td><td>30000.0</td><td>154.469</td><td>286851</td><td>1237</td><td>371</td></tr><tr><th>72</th><td>2019</td><td>2</td><td>otc</td><td>ig</td><td>5.0</td><td>4.14765</td><td>8</td><td>5.23824e5</td><td>30000.0</td><td>128.23</td><td>244796</td><td>935</td><td>283</td></tr><tr><th>73</th><td>2019</td><td>2</td><td>otc</td><td>ig</td><td>5.0</td><td>4.14765</td><td>9</td><td>5.28542e5</td><td>35000.0</td><td>9.7664</td><td>18478</td><td>82</td><td>43</td></tr><tr><th>74</th><td>2019</td><td>2</td><td>otc</td><td>ig</td><td>5.0</td><td>4.14765</td><td>10</td><td>5.65771e5</td><td>40000.0</td><td>1.92306</td><td>3399</td><td>17</td><td>8</td></tr><tr><th>75</th><td>2019</td><td>2</td><td>otc</td><td>ig</td><td>5.0</td><td>4.14765</td><td>11</td><td>3.10574e5</td><td>39500.0</td><td>0.118018</td><td>380</td><td>5</td><td>4</td></tr><tr><th>76</th><td>2019</td><td>2</td><td>any</td><td>hy</td><td>7.0</td><td>6.38233</td><td>0</td><td>3.70789e5</td><td>25000.0</td><td>32.639</td><td>88026</td><td>5422</td><td>206</td></tr><tr><th>77</th><td>2019</td><td>2</td><td>any</td><td>hy</td><td>7.0</td><td>6.38233</td><td>1</td><td>6.61571e5</td><td>89500.0</td><td>0.269921</td><td>408</td><td>3</td><td>3</td></tr><tr><th>78</th><td>2019</td><td>2</td><td>any</td><td>hy</td><td>7.0</td><td>6.38233</td><td>2</td><td>5.60983e5</td><td>40000.0</td><td>9.32466</td><td>16622</td><td>74</td><td>59</td></tr><tr><th>79</th><td>2019</td><td>2</td><td>any</td><td>hy</td><td>7.0</td><td>6.38233</td><td>3</td><td>7.37788e5</td><td>46000.0</td><td>21.1066</td><td>28608</td><td>134</td><td>118</td></tr><tr><th>80</th><td>2019</td><td>2</td><td>any</td><td>hy</td><td>7.0</td><td>6.38233</td><td>4</td><td>4.41513e5</td><td>34000.0</td><td>13.554</td><td>30699</td><td>107</td><td>87</td></tr><tr><th>81</th><td>2019</td><td>2</td><td>any</td><td>hy</td><td>7.0</td><td>6.38233</td><td>5</td><td>5.06433e5</td><td>40000.0</td><td>39.0586</td><td>77125</td><td>228</td><td>170</td></tr><tr><th>82</th><td>2019</td><td>2</td><td>any</td><td>hy</td><td>7.0</td><td>6.38233</td><td>6</td><td>5.34223e5</td><td>40000.0</td><td>57.5123</td><td>107656</td><td>276</td><td>130</td></tr><tr><th>83</th><td>2019</td><td>2</td><td>any</td><td>hy</td><td>7.0</td><td>6.38233</td><td>7</td><td>3.5441e5</td><td>25000.0</td><td>57.7627</td><td>162983</td><td>371</td><td>174</td></tr><tr><th>84</th><td>2019</td><td>2</td><td>any</td><td>hy</td><td>7.0</td><td>6.38233</td><td>8</td><td>3.19278e5</td><td>25000.0</td><td>52.4804</td><td>164372</td><td>297</td><td>151</td></tr><tr><th>85</th><td>2019</td><td>2</td><td>any</td><td>hy</td><td>7.0</td><td>6.38233</td><td>9</td><td>4.23894e5</td><td>25000.0</td><td>24.1107</td><td>56879</td><td>160</td><td>110</td></tr><tr><th>86</th><td>2019</td><td>2</td><td>any</td><td>hy</td><td>7.0</td><td>6.38233</td><td>10</td><td>4.057e5</td><td>25000.0</td><td>35.3632</td><td>87166</td><td>186</td><td>124</td></tr><tr><th>87</th><td>2019</td><td>2</td><td>any</td><td>hy</td><td>7.0</td><td>6.38233</td><td>11</td><td>2.8602e5</td><td>17000.0</td><td>6.33821</td><td>22160</td><td>52</td><td>39</td></tr><tr><th>88</th><td>2019</td><td>2</td><td>any</td><td>hy</td><td>7.0</td><td>6.38233</td><td>12</td><td>5.18553e5</td><td>50000.0</td><td>1.97517</td><td>3809</td><td>10</td><td>6</td></tr><tr><th>89</th><td>2019</td><td>2</td><td>ats</td><td>hy</td><td>7.0</td><td>6.80315</td><td>0</td><td>1.02883e5</td><td>15000.0</td><td>1.38985</td><td>13509</td><td>1610</td><td>167</td></tr><tr><th>90</th><td>2019</td><td>2</td><td>ats</td><td>hy</td><td>7.0</td><td>6.80315</td><td>1</td><td>361678.0</td><td>20000.0</td><td>0.021339</td><td>59</td><td>3</td><td>3</td></tr><tr><th>91</th><td>2019</td><td>2</td><td>ats</td><td>hy</td><td>7.0</td><td>6.80315</td><td>2</td><td>93620.4</td><td>20000.0</td><td>0.285074</td><td>3045</td><td>60</td><td>46</td></tr><tr><th>92</th><td>2019</td><td>2</td><td>ats</td><td>hy</td><td>7.0</td><td>6.80315</td><td>3</td><td>4.03057e5</td><td>20000.0</td><td>1.50663</td><td>3738</td><td>102</td><td>90</td></tr><tr><th>93</th><td>2019</td><td>2</td><td>ats</td><td>hy</td><td>7.0</td><td>6.80315</td><td>4</td><td>90700.5</td><td>15000.0</td><td>0.505746</td><td>5576</td><td>77</td><td>60</td></tr><tr><th>94</th><td>2019</td><td>2</td><td>ats</td><td>hy</td><td>7.0</td><td>6.80315</td><td>5</td><td>2.45306e5</td><td>20000.0</td><td>3.68866</td><td>15037</td><td>197</td><td>142</td></tr><tr><th>95</th><td>2019</td><td>2</td><td>ats</td><td>hy</td><td>7.0</td><td>6.80315</td><td>6</td><td>2.13589e5</td><td>20000.0</td><td>4.85766</td><td>22743</td><td>270</td><td>125</td></tr><tr><th>96</th><td>2019</td><td>2</td><td>ats</td><td>hy</td><td>7.0</td><td>6.80315</td><td>7</td><td>80861.6</td><td>15000.0</td><td>3.47608</td><td>42988</td><td>359</td><td>169</td></tr><tr><th>97</th><td>2019</td><td>2</td><td>ats</td><td>hy</td><td>7.0</td><td>6.80315</td><td>8</td><td>74213.6</td><td>15000.0</td><td>3.09144</td><td>41656</td><td>291</td><td>148</td></tr><tr><th>98</th><td>2019</td><td>2</td><td>ats</td><td>hy</td><td>7.0</td><td>6.80315</td><td>9</td><td>92824.4</td><td>12000.0</td><td>1.32024</td><td>14223</td><td>157</td><td>108</td></tr><tr><th>99</th><td>2019</td><td>2</td><td>ats</td><td>hy</td><td>7.0</td><td>6.80315</td><td>10</td><td>1.01895e5</td><td>14000.0</td><td>2.11421</td><td>20749</td><td>183</td><td>121</td></tr><tr><th>100</th><td>2019</td><td>2</td><td>ats</td><td>hy</td><td>7.0</td><td>6.80315</td><td>11</td><td>49700.8</td><td>10000.0</td><td>0.270919</td><td>5451</td><td>52</td><td>39</td></tr><tr><th>&vellip;</th><td>&vellip;</td><td>&vellip;</td><td>&vellip;</td><td>&vellip;</td><td>&vellip;</td><td>&vellip;</td><td>&vellip;</td><td>&vellip;</td><td>&vellip;</td><td>&vellip;</td><td>&vellip;</td><td>&vellip;</td><td>&vellip;</td></tr></tbody></table>"
      ],
      "text/latex": [
       "\\begin{tabular}{r|ccccccccccccc}\n",
       "\t& trd\\_exctn\\_yr & trd\\_exctn\\_qtr & sbm & rt & median\\_num\\_cov & mean\\_num\\_cov & sum\\_num\\_cov & mean\\_vol\\_by\\_num\\_cov & median\\_vol\\_by\\_num\\_cov & total\\_vol\\_by\\_num\\_cov & trades\\_by\\_num\\_cov & bonds\\_by\\_num\\_cov & issuers\\_by\\_num\\_cov\\\\\n",
       "\t\\hline\n",
       "\t& Int64 & Int64 & Symbol & Symbol & Float64 & Float64 & Int64 & Float64 & Float64 & Float64 & Int64 & Int64 & Int64\\\\\n",
       "\t\\hline\n",
       "\t1 & 2019 & 2 & any & any & 5.0 & 4.68962 & 0 & 3.86077e5 & 25000.0 & 310.029 & 803023 & 11284 & 624 \\\\\n",
       "\t2 & 2019 & 2 & any & any & 5.0 & 4.68962 & 1 & 4.53358e5 & 40000.0 & 0.979254 & 2160 & 20 & 14 \\\\\n",
       "\t3 & 2019 & 2 & any & any & 5.0 & 4.68962 & 2 & 5.24264e5 & 35000.0 & 63.3725 & 120879 & 416 & 193 \\\\\n",
       "\t4 & 2019 & 2 & any & any & 5.0 & 4.68962 & 3 & 5.50453e5 & 36000.0 & 119.016 & 216214 & 643 & 318 \\\\\n",
       "\t5 & 2019 & 2 & any & any & 5.0 & 4.68962 & 4 & 4.57628e5 & 29000.0 & 88.2801 & 192908 & 768 & 342 \\\\\n",
       "\t6 & 2019 & 2 & any & any & 5.0 & 4.68962 & 5 & 4.69056e5 & 29000.0 & 211.749 & 451436 & 1560 & 572 \\\\\n",
       "\t7 & 2019 & 2 & any & any & 5.0 & 4.68962 & 6 & 4.64675e5 & 28000.0 & 220.754 & 475072 & 1529 & 539 \\\\\n",
       "\t8 & 2019 & 2 & any & any & 5.0 & 4.68962 & 7 & 4.16307e5 & 25000.0 & 221.014 & 530891 & 1597 & 527 \\\\\n",
       "\t9 & 2019 & 2 & any & any & 5.0 & 4.68962 & 8 & 3.88016e5 & 25000.0 & 187.857 & 484147 & 1229 & 424 \\\\\n",
       "\t10 & 2019 & 2 & any & any & 5.0 & 4.68962 & 9 & 4.23795e5 & 25000.0 & 34.2549 & 80829 & 238 & 149 \\\\\n",
       "\t11 & 2019 & 2 & any & any & 5.0 & 4.68962 & 10 & 408248.0 & 25000.0 & 37.3849 & 91574 & 203 & 132 \\\\\n",
       "\t12 & 2019 & 2 & any & any & 5.0 & 4.68962 & 11 & 2.8572e5 & 18000.0 & 6.46813 & 22638 & 55 & 42 \\\\\n",
       "\t13 & 2019 & 2 & any & any & 5.0 & 4.68962 & 12 & 5.18553e5 & 50000.0 & 1.97517 & 3809 & 10 & 6 \\\\\n",
       "\t14 & 2019 & 2 & ats & any & 6.0 & 4.78984 & 0 & 80112.1 & 20000.0 & 14.3209 & 178761 & 6616 & 541 \\\\\n",
       "\t15 & 2019 & 2 & ats & any & 6.0 & 4.78984 & 1 & 131619.0 & 24500.0 & 0.05528 & 420 & 17 & 12 \\\\\n",
       "\t16 & 2019 & 2 & ats & any & 6.0 & 4.78984 & 2 & 1.05871e5 & 20000.0 & 2.43991 & 23046 & 379 & 172 \\\\\n",
       "\t17 & 2019 & 2 & ats & any & 6.0 & 4.78984 & 3 & 302995.0 & 25000.0 & 13.0048 & 42921 & 584 & 277 \\\\\n",
       "\t18 & 2019 & 2 & ats & any & 6.0 & 4.78984 & 4 & 97961.3 & 20000.0 & 3.85184 & 39320 & 683 & 301 \\\\\n",
       "\t19 & 2019 & 2 & ats & any & 6.0 & 4.78984 & 5 & 128021.0 & 20000.0 & 11.9655 & 93465 & 1470 & 532 \\\\\n",
       "\t20 & 2019 & 2 & ats & any & 6.0 & 4.78984 & 6 & 1.3152e5 & 20000.0 & 13.7398 & 104469 & 1469 & 525 \\\\\n",
       "\t21 & 2019 & 2 & ats & any & 6.0 & 4.78984 & 7 & 98823.3 & 20000.0 & 12.2585 & 124045 & 1550 & 520 \\\\\n",
       "\t22 & 2019 & 2 & ats & any & 6.0 & 4.78984 & 8 & 87776.9 & 20000.0 & 10.2379 & 116635 & 1201 & 417 \\\\\n",
       "\t23 & 2019 & 2 & ats & any & 6.0 & 4.78984 & 9 & 86218.0 & 15000.0 & 1.69806 & 19695 & 234 & 146 \\\\\n",
       "\t24 & 2019 & 2 & ats & any & 6.0 & 4.78984 & 10 & 1.01703e5 & 15000.0 & 2.21285 & 21758 & 199 & 129 \\\\\n",
       "\t25 & 2019 & 2 & ats & any & 6.0 & 4.78984 & 11 & 50967.4 & 10000.0 & 0.282818 & 5549 & 55 & 42 \\\\\n",
       "\t26 & 2019 & 2 & ats & any & 6.0 & 4.78984 & 12 & 1.29397e5 & 10000.0 & 0.082814 & 640 & 10 & 6 \\\\\n",
       "\t27 & 2019 & 2 & otc & any & 5.0 & 4.66106 & 0 & 4.73692e5 & 25000.0 & 295.708 & 624262 & 11274 & 624 \\\\\n",
       "\t28 & 2019 & 2 & otc & any & 5.0 & 4.66106 & 1 & 5.3102e5 & 50000.0 & 0.923974 & 1740 & 20 & 14 \\\\\n",
       "\t29 & 2019 & 2 & otc & any & 5.0 & 4.66106 & 2 & 6.22822e5 & 50000.0 & 60.9326 & 97833 & 416 & 193 \\\\\n",
       "\t30 & 2019 & 2 & otc & any & 5.0 & 4.66106 & 3 & 6.11743e5 & 45000.0 & 106.011 & 173293 & 643 & 318 \\\\\n",
       "\t31 & 2019 & 2 & otc & any & 5.0 & 4.66106 & 4 & 5.49706e5 & 35000.0 & 84.4282 & 153588 & 768 & 342 \\\\\n",
       "\t32 & 2019 & 2 & otc & any & 5.0 & 4.66106 & 5 & 5.58098e5 & 35000.0 & 199.783 & 357971 & 1560 & 572 \\\\\n",
       "\t33 & 2019 & 2 & otc & any & 5.0 & 4.66106 & 6 & 5.58588e5 & 35000.0 & 207.014 & 370603 & 1529 & 539 \\\\\n",
       "\t34 & 2019 & 2 & otc & any & 5.0 & 4.66106 & 7 & 5.13107e5 & 30000.0 & 208.755 & 406846 & 1597 & 527 \\\\\n",
       "\t35 & 2019 & 2 & otc & any & 5.0 & 4.66106 & 8 & 4.83301e5 & 30000.0 & 177.619 & 367512 & 1229 & 424 \\\\\n",
       "\t36 & 2019 & 2 & otc & any & 5.0 & 4.66106 & 9 & 5.32549e5 & 39000.0 & 32.5568 & 61134 & 237 & 149 \\\\\n",
       "\t37 & 2019 & 2 & otc & any & 5.0 & 4.66106 & 10 & 5.03782e5 & 35000.0 & 35.172 & 69816 & 203 & 132 \\\\\n",
       "\t38 & 2019 & 2 & otc & any & 5.0 & 4.66106 & 11 & 3.61947e5 & 23000.0 & 6.18531 & 17089 & 55 & 42 \\\\\n",
       "\t39 & 2019 & 2 & otc & any & 5.0 & 4.66106 & 12 & 5.97145e5 & 75000.0 & 1.89235 & 3169 & 10 & 6 \\\\\n",
       "\t40 & 2019 & 2 & any & ig & 5.0 & 4.14459 & 0 & 3.87959e5 & 25000.0 & 277.39 & 714997 & 5878 & 475 \\\\\n",
       "\t41 & 2019 & 2 & any & ig & 5.0 & 4.14459 & 1 & 4.0487e5 & 35000.0 & 0.709333 & 1752 & 17 & 11 \\\\\n",
       "\t42 & 2019 & 2 & any & ig & 5.0 & 4.14459 & 2 & 5.1841e5 & 35000.0 & 54.0478 & 104257 & 352 & 142 \\\\\n",
       "\t43 & 2019 & 2 & any & ig & 5.0 & 4.14459 & 3 & 5.21887e5 & 35000.0 & 97.909 & 187606 & 512 & 207 \\\\\n",
       "\t44 & 2019 & 2 & any & ig & 5.0 & 4.14459 & 4 & 4.60678e5 & 26000.0 & 74.7261 & 162209 & 665 & 268 \\\\\n",
       "\t45 & 2019 & 2 & any & ig & 5.0 & 4.14459 & 5 & 4.61354e5 & 25000.0 & 172.69 & 374311 & 1340 & 413 \\\\\n",
       "\t46 & 2019 & 2 & any & ig & 5.0 & 4.14459 & 6 & 4.44297e5 & 25000.0 & 163.242 & 367416 & 1268 & 426 \\\\\n",
       "\t47 & 2019 & 2 & any & ig & 5.0 & 4.14459 & 7 & 4.43728e5 & 25000.0 & 163.251 & 367908 & 1237 & 371 \\\\\n",
       "\t48 & 2019 & 2 & any & ig & 5.0 & 4.14459 & 8 & 4.23349e5 & 25000.0 & 135.376 & 319775 & 935 & 283 \\\\\n",
       "\t49 & 2019 & 2 & any & ig & 5.0 & 4.14459 & 9 & 4.23558e5 & 25000.0 & 10.1442 & 23950 & 83 & 43 \\\\\n",
       "\t50 & 2019 & 2 & any & ig & 5.0 & 4.14459 & 10 & 458642.0 & 30000.0 & 2.02169 & 4408 & 17 & 8 \\\\\n",
       "\t51 & 2019 & 2 & any & ig & 5.0 & 4.14459 & 11 & 2.71793e5 & 30000.0 & 0.129917 & 478 & 5 & 4 \\\\\n",
       "\t52 & 2019 & 2 & ats & ig & 5.0 & 4.13382 & 0 & 78250.6 & 20000.0 & 12.9311 & 165252 & 5011 & 423 \\\\\n",
       "\t53 & 2019 & 2 & ats & ig & 5.0 & 4.13382 & 1 & 94019.4 & 25000.0 & 0.033941 & 361 & 14 & 9 \\\\\n",
       "\t54 & 2019 & 2 & ats & ig & 5.0 & 4.13382 & 2 & 1.07736e5 & 20000.0 & 2.15484 & 20001 & 329 & 134 \\\\\n",
       "\t55 & 2019 & 2 & ats & ig & 5.0 & 4.13382 & 3 & 2.93449e5 & 25000.0 & 11.4982 & 39183 & 484 & 193 \\\\\n",
       "\t56 & 2019 & 2 & ats & ig & 5.0 & 4.13382 & 4 & 99161.1 & 20000.0 & 3.34609 & 33744 & 610 & 252 \\\\\n",
       "\t57 & 2019 & 2 & ats & ig & 5.0 & 4.13382 & 5 & 105534.0 & 20000.0 & 8.27682 & 78428 & 1279 & 401 \\\\\n",
       "\t58 & 2019 & 2 & ats & ig & 5.0 & 4.13382 & 6 & 1.08682e5 & 20000.0 & 8.88215 & 81726 & 1214 & 417 \\\\\n",
       "\t59 & 2019 & 2 & ats & ig & 5.0 & 4.13382 & 7 & 1.08349e5 & 20000.0 & 8.78245 & 81057 & 1201 & 369 \\\\\n",
       "\t60 & 2019 & 2 & ats & ig & 5.0 & 4.13382 & 8 & 95312.2 & 20000.0 & 7.14641 & 74979 & 913 & 278 \\\\\n",
       "\t61 & 2019 & 2 & ats & ig & 5.0 & 4.13382 & 9 & 69046.2 & 20000.0 & 0.377821 & 5472 & 82 & 42 \\\\\n",
       "\t62 & 2019 & 2 & ats & ig & 5.0 & 4.13382 & 10 & 97758.2 & 20000.0 & 0.098638 & 1009 & 16 & 8 \\\\\n",
       "\t63 & 2019 & 2 & ats & ig & 5.0 & 4.13382 & 11 & 1.21418e5 & 25000.0 & 0.011899 & 98 & 5 & 4 \\\\\n",
       "\t64 & 2019 & 2 & otc & ig & 5.0 & 4.14765 & 0 & 4.81057e5 & 25000.0 & 264.458 & 549745 & 5872 & 475 \\\\\n",
       "\t65 & 2019 & 2 & otc & ig & 5.0 & 4.14765 & 1 & 4.85544e5 & 40000.0 & 0.675392 & 1391 & 17 & 11 \\\\\n",
       "\t66 & 2019 & 2 & otc & ig & 5.0 & 4.14765 & 2 & 6.15897e5 & 48000.0 & 51.893 & 84256 & 352 & 142 \\\\\n",
       "\t67 & 2019 & 2 & otc & ig & 5.0 & 4.14765 & 3 & 582193.0 & 43000.0 & 86.4108 & 148423 & 512 & 207 \\\\\n",
       "\t68 & 2019 & 2 & otc & ig & 5.0 & 4.14765 & 4 & 5.55637e5 & 34000.0 & 71.38 & 128465 & 665 & 268 \\\\\n",
       "\t69 & 2019 & 2 & otc & ig & 5.0 & 4.14765 & 5 & 5.55669e5 & 30000.0 & 164.413 & 295883 & 1340 & 413 \\\\\n",
       "\t70 & 2019 & 2 & otc & ig & 5.0 & 4.14765 & 6 & 5.40305e5 & 30000.0 & 154.36 & 285690 & 1268 & 426 \\\\\n",
       "\t71 & 2019 & 2 & otc & ig & 5.0 & 4.14765 & 7 & 5.38498e5 & 30000.0 & 154.469 & 286851 & 1237 & 371 \\\\\n",
       "\t72 & 2019 & 2 & otc & ig & 5.0 & 4.14765 & 8 & 5.23824e5 & 30000.0 & 128.23 & 244796 & 935 & 283 \\\\\n",
       "\t73 & 2019 & 2 & otc & ig & 5.0 & 4.14765 & 9 & 5.28542e5 & 35000.0 & 9.7664 & 18478 & 82 & 43 \\\\\n",
       "\t74 & 2019 & 2 & otc & ig & 5.0 & 4.14765 & 10 & 5.65771e5 & 40000.0 & 1.92306 & 3399 & 17 & 8 \\\\\n",
       "\t75 & 2019 & 2 & otc & ig & 5.0 & 4.14765 & 11 & 3.10574e5 & 39500.0 & 0.118018 & 380 & 5 & 4 \\\\\n",
       "\t76 & 2019 & 2 & any & hy & 7.0 & 6.38233 & 0 & 3.70789e5 & 25000.0 & 32.639 & 88026 & 5422 & 206 \\\\\n",
       "\t77 & 2019 & 2 & any & hy & 7.0 & 6.38233 & 1 & 6.61571e5 & 89500.0 & 0.269921 & 408 & 3 & 3 \\\\\n",
       "\t78 & 2019 & 2 & any & hy & 7.0 & 6.38233 & 2 & 5.60983e5 & 40000.0 & 9.32466 & 16622 & 74 & 59 \\\\\n",
       "\t79 & 2019 & 2 & any & hy & 7.0 & 6.38233 & 3 & 7.37788e5 & 46000.0 & 21.1066 & 28608 & 134 & 118 \\\\\n",
       "\t80 & 2019 & 2 & any & hy & 7.0 & 6.38233 & 4 & 4.41513e5 & 34000.0 & 13.554 & 30699 & 107 & 87 \\\\\n",
       "\t81 & 2019 & 2 & any & hy & 7.0 & 6.38233 & 5 & 5.06433e5 & 40000.0 & 39.0586 & 77125 & 228 & 170 \\\\\n",
       "\t82 & 2019 & 2 & any & hy & 7.0 & 6.38233 & 6 & 5.34223e5 & 40000.0 & 57.5123 & 107656 & 276 & 130 \\\\\n",
       "\t83 & 2019 & 2 & any & hy & 7.0 & 6.38233 & 7 & 3.5441e5 & 25000.0 & 57.7627 & 162983 & 371 & 174 \\\\\n",
       "\t84 & 2019 & 2 & any & hy & 7.0 & 6.38233 & 8 & 3.19278e5 & 25000.0 & 52.4804 & 164372 & 297 & 151 \\\\\n",
       "\t85 & 2019 & 2 & any & hy & 7.0 & 6.38233 & 9 & 4.23894e5 & 25000.0 & 24.1107 & 56879 & 160 & 110 \\\\\n",
       "\t86 & 2019 & 2 & any & hy & 7.0 & 6.38233 & 10 & 4.057e5 & 25000.0 & 35.3632 & 87166 & 186 & 124 \\\\\n",
       "\t87 & 2019 & 2 & any & hy & 7.0 & 6.38233 & 11 & 2.8602e5 & 17000.0 & 6.33821 & 22160 & 52 & 39 \\\\\n",
       "\t88 & 2019 & 2 & any & hy & 7.0 & 6.38233 & 12 & 5.18553e5 & 50000.0 & 1.97517 & 3809 & 10 & 6 \\\\\n",
       "\t89 & 2019 & 2 & ats & hy & 7.0 & 6.80315 & 0 & 1.02883e5 & 15000.0 & 1.38985 & 13509 & 1610 & 167 \\\\\n",
       "\t90 & 2019 & 2 & ats & hy & 7.0 & 6.80315 & 1 & 361678.0 & 20000.0 & 0.021339 & 59 & 3 & 3 \\\\\n",
       "\t91 & 2019 & 2 & ats & hy & 7.0 & 6.80315 & 2 & 93620.4 & 20000.0 & 0.285074 & 3045 & 60 & 46 \\\\\n",
       "\t92 & 2019 & 2 & ats & hy & 7.0 & 6.80315 & 3 & 4.03057e5 & 20000.0 & 1.50663 & 3738 & 102 & 90 \\\\\n",
       "\t93 & 2019 & 2 & ats & hy & 7.0 & 6.80315 & 4 & 90700.5 & 15000.0 & 0.505746 & 5576 & 77 & 60 \\\\\n",
       "\t94 & 2019 & 2 & ats & hy & 7.0 & 6.80315 & 5 & 2.45306e5 & 20000.0 & 3.68866 & 15037 & 197 & 142 \\\\\n",
       "\t95 & 2019 & 2 & ats & hy & 7.0 & 6.80315 & 6 & 2.13589e5 & 20000.0 & 4.85766 & 22743 & 270 & 125 \\\\\n",
       "\t96 & 2019 & 2 & ats & hy & 7.0 & 6.80315 & 7 & 80861.6 & 15000.0 & 3.47608 & 42988 & 359 & 169 \\\\\n",
       "\t97 & 2019 & 2 & ats & hy & 7.0 & 6.80315 & 8 & 74213.6 & 15000.0 & 3.09144 & 41656 & 291 & 148 \\\\\n",
       "\t98 & 2019 & 2 & ats & hy & 7.0 & 6.80315 & 9 & 92824.4 & 12000.0 & 1.32024 & 14223 & 157 & 108 \\\\\n",
       "\t99 & 2019 & 2 & ats & hy & 7.0 & 6.80315 & 10 & 1.01895e5 & 14000.0 & 2.11421 & 20749 & 183 & 121 \\\\\n",
       "\t100 & 2019 & 2 & ats & hy & 7.0 & 6.80315 & 11 & 49700.8 & 10000.0 & 0.270919 & 5451 & 52 & 39 \\\\\n",
       "\t$\\dots$ & $\\dots$ & $\\dots$ & $\\dots$ & $\\dots$ & $\\dots$ & $\\dots$ & $\\dots$ & $\\dots$ & $\\dots$ & $\\dots$ & $\\dots$ & $\\dots$ & $\\dots$ \\\\\n",
       "\\end{tabular}\n"
      ],
      "text/plain": [
       "114×13 DataFrame\n",
       "│ Row │ trd_exctn_yr │ trd_exctn_qtr │ sbm    │ rt     │ median_num_cov │ mean_num_cov │ sum_num_cov │ mean_vol_by_num_cov │ median_vol_by_num_cov │ total_vol_by_num_cov │ trades_by_num_cov │ bonds_by_num_cov │ issuers_by_num_cov │\n",
       "│     │ \u001b[90mInt64\u001b[39m        │ \u001b[90mInt64\u001b[39m         │ \u001b[90mSymbol\u001b[39m │ \u001b[90mSymbol\u001b[39m │ \u001b[90mFloat64\u001b[39m        │ \u001b[90mFloat64\u001b[39m      │ \u001b[90mInt64\u001b[39m       │ \u001b[90mFloat64\u001b[39m             │ \u001b[90mFloat64\u001b[39m               │ \u001b[90mFloat64\u001b[39m              │ \u001b[90mInt64\u001b[39m             │ \u001b[90mInt64\u001b[39m            │ \u001b[90mInt64\u001b[39m              │\n",
       "├─────┼──────────────┼───────────────┼────────┼────────┼────────────────┼──────────────┼─────────────┼─────────────────────┼───────────────────────┼──────────────────────┼───────────────────┼──────────────────┼────────────────────┤\n",
       "│ 1   │ 2019         │ 2             │ any    │ any    │ 5.0            │ 4.68962      │ 0           │ 3.86077e5           │ 25000.0               │ 310.029              │ 803023            │ 11284            │ 624                │\n",
       "│ 2   │ 2019         │ 2             │ any    │ any    │ 5.0            │ 4.68962      │ 1           │ 4.53358e5           │ 40000.0               │ 0.979254             │ 2160              │ 20               │ 14                 │\n",
       "│ 3   │ 2019         │ 2             │ any    │ any    │ 5.0            │ 4.68962      │ 2           │ 5.24264e5           │ 35000.0               │ 63.3725              │ 120879            │ 416              │ 193                │\n",
       "│ 4   │ 2019         │ 2             │ any    │ any    │ 5.0            │ 4.68962      │ 3           │ 5.50453e5           │ 36000.0               │ 119.016              │ 216214            │ 643              │ 318                │\n",
       "│ 5   │ 2019         │ 2             │ any    │ any    │ 5.0            │ 4.68962      │ 4           │ 4.57628e5           │ 29000.0               │ 88.2801              │ 192908            │ 768              │ 342                │\n",
       "│ 6   │ 2019         │ 2             │ any    │ any    │ 5.0            │ 4.68962      │ 5           │ 4.69056e5           │ 29000.0               │ 211.749              │ 451436            │ 1560             │ 572                │\n",
       "│ 7   │ 2019         │ 2             │ any    │ any    │ 5.0            │ 4.68962      │ 6           │ 4.64675e5           │ 28000.0               │ 220.754              │ 475072            │ 1529             │ 539                │\n",
       "│ 8   │ 2019         │ 2             │ any    │ any    │ 5.0            │ 4.68962      │ 7           │ 4.16307e5           │ 25000.0               │ 221.014              │ 530891            │ 1597             │ 527                │\n",
       "│ 9   │ 2019         │ 2             │ any    │ any    │ 5.0            │ 4.68962      │ 8           │ 3.88016e5           │ 25000.0               │ 187.857              │ 484147            │ 1229             │ 424                │\n",
       "│ 10  │ 2019         │ 2             │ any    │ any    │ 5.0            │ 4.68962      │ 9           │ 4.23795e5           │ 25000.0               │ 34.2549              │ 80829             │ 238              │ 149                │\n",
       "│ 11  │ 2019         │ 2             │ any    │ any    │ 5.0            │ 4.68962      │ 10          │ 408248.0            │ 25000.0               │ 37.3849              │ 91574             │ 203              │ 132                │\n",
       "│ 12  │ 2019         │ 2             │ any    │ any    │ 5.0            │ 4.68962      │ 11          │ 2.8572e5            │ 18000.0               │ 6.46813              │ 22638             │ 55               │ 42                 │\n",
       "│ 13  │ 2019         │ 2             │ any    │ any    │ 5.0            │ 4.68962      │ 12          │ 5.18553e5           │ 50000.0               │ 1.97517              │ 3809              │ 10               │ 6                  │\n",
       "│ 14  │ 2019         │ 2             │ ats    │ any    │ 6.0            │ 4.78984      │ 0           │ 80112.1             │ 20000.0               │ 14.3209              │ 178761            │ 6616             │ 541                │\n",
       "│ 15  │ 2019         │ 2             │ ats    │ any    │ 6.0            │ 4.78984      │ 1           │ 131619.0            │ 24500.0               │ 0.05528              │ 420               │ 17               │ 12                 │\n",
       "│ 16  │ 2019         │ 2             │ ats    │ any    │ 6.0            │ 4.78984      │ 2           │ 1.05871e5           │ 20000.0               │ 2.43991              │ 23046             │ 379              │ 172                │\n",
       "│ 17  │ 2019         │ 2             │ ats    │ any    │ 6.0            │ 4.78984      │ 3           │ 302995.0            │ 25000.0               │ 13.0048              │ 42921             │ 584              │ 277                │\n",
       "│ 18  │ 2019         │ 2             │ ats    │ any    │ 6.0            │ 4.78984      │ 4           │ 97961.3             │ 20000.0               │ 3.85184              │ 39320             │ 683              │ 301                │\n",
       "│ 19  │ 2019         │ 2             │ ats    │ any    │ 6.0            │ 4.78984      │ 5           │ 128021.0            │ 20000.0               │ 11.9655              │ 93465             │ 1470             │ 532                │\n",
       "│ 20  │ 2019         │ 2             │ ats    │ any    │ 6.0            │ 4.78984      │ 6           │ 1.3152e5            │ 20000.0               │ 13.7398              │ 104469            │ 1469             │ 525                │\n",
       "│ 21  │ 2019         │ 2             │ ats    │ any    │ 6.0            │ 4.78984      │ 7           │ 98823.3             │ 20000.0               │ 12.2585              │ 124045            │ 1550             │ 520                │\n",
       "│ 22  │ 2019         │ 2             │ ats    │ any    │ 6.0            │ 4.78984      │ 8           │ 87776.9             │ 20000.0               │ 10.2379              │ 116635            │ 1201             │ 417                │\n",
       "│ 23  │ 2019         │ 2             │ ats    │ any    │ 6.0            │ 4.78984      │ 9           │ 86218.0             │ 15000.0               │ 1.69806              │ 19695             │ 234              │ 146                │\n",
       "│ 24  │ 2019         │ 2             │ ats    │ any    │ 6.0            │ 4.78984      │ 10          │ 1.01703e5           │ 15000.0               │ 2.21285              │ 21758             │ 199              │ 129                │\n",
       "│ 25  │ 2019         │ 2             │ ats    │ any    │ 6.0            │ 4.78984      │ 11          │ 50967.4             │ 10000.0               │ 0.282818             │ 5549              │ 55               │ 42                 │\n",
       "│ 26  │ 2019         │ 2             │ ats    │ any    │ 6.0            │ 4.78984      │ 12          │ 1.29397e5           │ 10000.0               │ 0.082814             │ 640               │ 10               │ 6                  │\n",
       "│ 27  │ 2019         │ 2             │ otc    │ any    │ 5.0            │ 4.66106      │ 0           │ 4.73692e5           │ 25000.0               │ 295.708              │ 624262            │ 11274            │ 624                │\n",
       "│ 28  │ 2019         │ 2             │ otc    │ any    │ 5.0            │ 4.66106      │ 1           │ 5.3102e5            │ 50000.0               │ 0.923974             │ 1740              │ 20               │ 14                 │\n",
       "│ 29  │ 2019         │ 2             │ otc    │ any    │ 5.0            │ 4.66106      │ 2           │ 6.22822e5           │ 50000.0               │ 60.9326              │ 97833             │ 416              │ 193                │\n",
       "│ 30  │ 2019         │ 2             │ otc    │ any    │ 5.0            │ 4.66106      │ 3           │ 6.11743e5           │ 45000.0               │ 106.011              │ 173293            │ 643              │ 318                │\n",
       "│ 31  │ 2019         │ 2             │ otc    │ any    │ 5.0            │ 4.66106      │ 4           │ 5.49706e5           │ 35000.0               │ 84.4282              │ 153588            │ 768              │ 342                │\n",
       "│ 32  │ 2019         │ 2             │ otc    │ any    │ 5.0            │ 4.66106      │ 5           │ 5.58098e5           │ 35000.0               │ 199.783              │ 357971            │ 1560             │ 572                │\n",
       "│ 33  │ 2019         │ 2             │ otc    │ any    │ 5.0            │ 4.66106      │ 6           │ 5.58588e5           │ 35000.0               │ 207.014              │ 370603            │ 1529             │ 539                │\n",
       "│ 34  │ 2019         │ 2             │ otc    │ any    │ 5.0            │ 4.66106      │ 7           │ 5.13107e5           │ 30000.0               │ 208.755              │ 406846            │ 1597             │ 527                │\n",
       "│ 35  │ 2019         │ 2             │ otc    │ any    │ 5.0            │ 4.66106      │ 8           │ 4.83301e5           │ 30000.0               │ 177.619              │ 367512            │ 1229             │ 424                │\n",
       "│ 36  │ 2019         │ 2             │ otc    │ any    │ 5.0            │ 4.66106      │ 9           │ 5.32549e5           │ 39000.0               │ 32.5568              │ 61134             │ 237              │ 149                │\n",
       "│ 37  │ 2019         │ 2             │ otc    │ any    │ 5.0            │ 4.66106      │ 10          │ 5.03782e5           │ 35000.0               │ 35.172               │ 69816             │ 203              │ 132                │\n",
       "│ 38  │ 2019         │ 2             │ otc    │ any    │ 5.0            │ 4.66106      │ 11          │ 3.61947e5           │ 23000.0               │ 6.18531              │ 17089             │ 55               │ 42                 │\n",
       "│ 39  │ 2019         │ 2             │ otc    │ any    │ 5.0            │ 4.66106      │ 12          │ 5.97145e5           │ 75000.0               │ 1.89235              │ 3169              │ 10               │ 6                  │\n",
       "│ 40  │ 2019         │ 2             │ any    │ ig     │ 5.0            │ 4.14459      │ 0           │ 3.87959e5           │ 25000.0               │ 277.39               │ 714997            │ 5878             │ 475                │\n",
       "│ 41  │ 2019         │ 2             │ any    │ ig     │ 5.0            │ 4.14459      │ 1           │ 4.0487e5            │ 35000.0               │ 0.709333             │ 1752              │ 17               │ 11                 │\n",
       "│ 42  │ 2019         │ 2             │ any    │ ig     │ 5.0            │ 4.14459      │ 2           │ 5.1841e5            │ 35000.0               │ 54.0478              │ 104257            │ 352              │ 142                │\n",
       "│ 43  │ 2019         │ 2             │ any    │ ig     │ 5.0            │ 4.14459      │ 3           │ 5.21887e5           │ 35000.0               │ 97.909               │ 187606            │ 512              │ 207                │\n",
       "│ 44  │ 2019         │ 2             │ any    │ ig     │ 5.0            │ 4.14459      │ 4           │ 4.60678e5           │ 26000.0               │ 74.7261              │ 162209            │ 665              │ 268                │\n",
       "│ 45  │ 2019         │ 2             │ any    │ ig     │ 5.0            │ 4.14459      │ 5           │ 4.61354e5           │ 25000.0               │ 172.69               │ 374311            │ 1340             │ 413                │\n",
       "⋮\n",
       "│ 69  │ 2019         │ 2             │ otc    │ ig     │ 5.0            │ 4.14765      │ 5           │ 5.55669e5           │ 30000.0               │ 164.413              │ 295883            │ 1340             │ 413                │\n",
       "│ 70  │ 2019         │ 2             │ otc    │ ig     │ 5.0            │ 4.14765      │ 6           │ 5.40305e5           │ 30000.0               │ 154.36               │ 285690            │ 1268             │ 426                │\n",
       "│ 71  │ 2019         │ 2             │ otc    │ ig     │ 5.0            │ 4.14765      │ 7           │ 5.38498e5           │ 30000.0               │ 154.469              │ 286851            │ 1237             │ 371                │\n",
       "│ 72  │ 2019         │ 2             │ otc    │ ig     │ 5.0            │ 4.14765      │ 8           │ 5.23824e5           │ 30000.0               │ 128.23               │ 244796            │ 935              │ 283                │\n",
       "│ 73  │ 2019         │ 2             │ otc    │ ig     │ 5.0            │ 4.14765      │ 9           │ 5.28542e5           │ 35000.0               │ 9.7664               │ 18478             │ 82               │ 43                 │\n",
       "│ 74  │ 2019         │ 2             │ otc    │ ig     │ 5.0            │ 4.14765      │ 10          │ 5.65771e5           │ 40000.0               │ 1.92306              │ 3399              │ 17               │ 8                  │\n",
       "│ 75  │ 2019         │ 2             │ otc    │ ig     │ 5.0            │ 4.14765      │ 11          │ 3.10574e5           │ 39500.0               │ 0.118018             │ 380               │ 5                │ 4                  │\n",
       "│ 76  │ 2019         │ 2             │ any    │ hy     │ 7.0            │ 6.38233      │ 0           │ 3.70789e5           │ 25000.0               │ 32.639               │ 88026             │ 5422             │ 206                │\n",
       "│ 77  │ 2019         │ 2             │ any    │ hy     │ 7.0            │ 6.38233      │ 1           │ 6.61571e5           │ 89500.0               │ 0.269921             │ 408               │ 3                │ 3                  │\n",
       "│ 78  │ 2019         │ 2             │ any    │ hy     │ 7.0            │ 6.38233      │ 2           │ 5.60983e5           │ 40000.0               │ 9.32466              │ 16622             │ 74               │ 59                 │\n",
       "│ 79  │ 2019         │ 2             │ any    │ hy     │ 7.0            │ 6.38233      │ 3           │ 7.37788e5           │ 46000.0               │ 21.1066              │ 28608             │ 134              │ 118                │\n",
       "│ 80  │ 2019         │ 2             │ any    │ hy     │ 7.0            │ 6.38233      │ 4           │ 4.41513e5           │ 34000.0               │ 13.554               │ 30699             │ 107              │ 87                 │\n",
       "│ 81  │ 2019         │ 2             │ any    │ hy     │ 7.0            │ 6.38233      │ 5           │ 5.06433e5           │ 40000.0               │ 39.0586              │ 77125             │ 228              │ 170                │\n",
       "│ 82  │ 2019         │ 2             │ any    │ hy     │ 7.0            │ 6.38233      │ 6           │ 5.34223e5           │ 40000.0               │ 57.5123              │ 107656            │ 276              │ 130                │\n",
       "│ 83  │ 2019         │ 2             │ any    │ hy     │ 7.0            │ 6.38233      │ 7           │ 3.5441e5            │ 25000.0               │ 57.7627              │ 162983            │ 371              │ 174                │\n",
       "│ 84  │ 2019         │ 2             │ any    │ hy     │ 7.0            │ 6.38233      │ 8           │ 3.19278e5           │ 25000.0               │ 52.4804              │ 164372            │ 297              │ 151                │\n",
       "│ 85  │ 2019         │ 2             │ any    │ hy     │ 7.0            │ 6.38233      │ 9           │ 4.23894e5           │ 25000.0               │ 24.1107              │ 56879             │ 160              │ 110                │\n",
       "│ 86  │ 2019         │ 2             │ any    │ hy     │ 7.0            │ 6.38233      │ 10          │ 4.057e5             │ 25000.0               │ 35.3632              │ 87166             │ 186              │ 124                │\n",
       "│ 87  │ 2019         │ 2             │ any    │ hy     │ 7.0            │ 6.38233      │ 11          │ 2.8602e5            │ 17000.0               │ 6.33821              │ 22160             │ 52               │ 39                 │\n",
       "│ 88  │ 2019         │ 2             │ any    │ hy     │ 7.0            │ 6.38233      │ 12          │ 5.18553e5           │ 50000.0               │ 1.97517              │ 3809              │ 10               │ 6                  │\n",
       "│ 89  │ 2019         │ 2             │ ats    │ hy     │ 7.0            │ 6.80315      │ 0           │ 1.02883e5           │ 15000.0               │ 1.38985              │ 13509             │ 1610             │ 167                │\n",
       "│ 90  │ 2019         │ 2             │ ats    │ hy     │ 7.0            │ 6.80315      │ 1           │ 361678.0            │ 20000.0               │ 0.021339             │ 59                │ 3                │ 3                  │\n",
       "│ 91  │ 2019         │ 2             │ ats    │ hy     │ 7.0            │ 6.80315      │ 2           │ 93620.4             │ 20000.0               │ 0.285074             │ 3045              │ 60               │ 46                 │\n",
       "│ 92  │ 2019         │ 2             │ ats    │ hy     │ 7.0            │ 6.80315      │ 3           │ 4.03057e5           │ 20000.0               │ 1.50663              │ 3738              │ 102              │ 90                 │\n",
       "│ 93  │ 2019         │ 2             │ ats    │ hy     │ 7.0            │ 6.80315      │ 4           │ 90700.5             │ 15000.0               │ 0.505746             │ 5576              │ 77               │ 60                 │\n",
       "│ 94  │ 2019         │ 2             │ ats    │ hy     │ 7.0            │ 6.80315      │ 5           │ 2.45306e5           │ 20000.0               │ 3.68866              │ 15037             │ 197              │ 142                │\n",
       "│ 95  │ 2019         │ 2             │ ats    │ hy     │ 7.0            │ 6.80315      │ 6           │ 2.13589e5           │ 20000.0               │ 4.85766              │ 22743             │ 270              │ 125                │\n",
       "│ 96  │ 2019         │ 2             │ ats    │ hy     │ 7.0            │ 6.80315      │ 7           │ 80861.6             │ 15000.0               │ 3.47608              │ 42988             │ 359              │ 169                │\n",
       "│ 97  │ 2019         │ 2             │ ats    │ hy     │ 7.0            │ 6.80315      │ 8           │ 74213.6             │ 15000.0               │ 3.09144              │ 41656             │ 291              │ 148                │\n",
       "│ 98  │ 2019         │ 2             │ ats    │ hy     │ 7.0            │ 6.80315      │ 9           │ 92824.4             │ 12000.0               │ 1.32024              │ 14223             │ 157              │ 108                │\n",
       "│ 99  │ 2019         │ 2             │ ats    │ hy     │ 7.0            │ 6.80315      │ 10          │ 1.01895e5           │ 14000.0               │ 2.11421              │ 20749             │ 183              │ 121                │\n",
       "│ 100 │ 2019         │ 2             │ ats    │ hy     │ 7.0            │ 6.80315      │ 11          │ 49700.8             │ 10000.0               │ 0.270919             │ 5451              │ 52               │ 39                 │\n",
       "│ 101 │ 2019         │ 2             │ ats    │ hy     │ 7.0            │ 6.80315      │ 12          │ 1.29397e5           │ 10000.0               │ 0.082814             │ 640               │ 10               │ 6                  │\n",
       "│ 102 │ 2019         │ 2             │ otc    │ hy     │ 7.0            │ 6.26103      │ 0           │ 4.19357e5           │ 30000.0               │ 31.2492              │ 74517             │ 5418             │ 206                │\n",
       "│ 103 │ 2019         │ 2             │ otc    │ hy     │ 7.0            │ 6.26103      │ 1           │ 7.12269e5           │ 100000.0              │ 0.248582             │ 349               │ 3                │ 3                  │\n",
       "│ 104 │ 2019         │ 2             │ otc    │ hy     │ 7.0            │ 6.26103      │ 2           │ 6.65802e5           │ 50000.0               │ 9.03959              │ 13577             │ 74               │ 59                 │\n",
       "│ 105 │ 2019         │ 2             │ otc    │ hy     │ 7.0            │ 6.26103      │ 3           │ 7.88098e5           │ 50000.0               │ 19.6                 │ 24870             │ 134              │ 118                │\n",
       "│ 106 │ 2019         │ 2             │ otc    │ hy     │ 7.0            │ 6.26103      │ 4           │ 5.19375e5           │ 50000.0               │ 13.0483              │ 25123             │ 107              │ 87                 │\n",
       "│ 107 │ 2019         │ 2             │ otc    │ hy     │ 7.0            │ 6.26103      │ 5           │ 5.69675e5           │ 50000.0               │ 35.37                │ 62088             │ 228              │ 170                │\n",
       "│ 108 │ 2019         │ 2             │ otc    │ hy     │ 7.0            │ 6.26103      │ 6           │ 6.20101e5           │ 50000.0               │ 52.6546              │ 84913             │ 276              │ 130                │\n",
       "│ 109 │ 2019         │ 2             │ otc    │ hy     │ 7.0            │ 6.26103      │ 7           │ 4.52408e5           │ 30000.0               │ 54.2866              │ 119995            │ 371              │ 174                │\n",
       "│ 110 │ 2019         │ 2             │ otc    │ hy     │ 7.0            │ 6.26103      │ 8           │ 4.02466e5           │ 30000.0               │ 49.389               │ 122716            │ 297              │ 151                │\n",
       "│ 111 │ 2019         │ 2             │ otc    │ hy     │ 7.0            │ 6.26103      │ 9           │ 5.34284e5           │ 40000.0               │ 22.7904              │ 42656             │ 160              │ 110                │\n",
       "│ 112 │ 2019         │ 2             │ otc    │ hy     │ 7.0            │ 6.26103      │ 10          │ 5.0061e5            │ 35000.0               │ 33.249               │ 66417             │ 186              │ 124                │\n",
       "│ 113 │ 2019         │ 2             │ otc    │ hy     │ 7.0            │ 6.26103      │ 11          │ 3.63115e5           │ 23000.0               │ 6.06729              │ 16709             │ 52               │ 39                 │\n",
       "│ 114 │ 2019         │ 2             │ otc    │ hy     │ 7.0            │ 6.26103      │ 12          │ 5.97145e5           │ 75000.0               │ 1.89235              │ 3169              │ 10               │ 6                  │"
      ]
     },
     "execution_count": 254,
     "metadata": {},
     "output_type": "execute_result"
    }
   ],
   "source": [
    "snc"
   ]
  },
  {
   "cell_type": "code",
   "execution_count": 228,
   "metadata": {},
   "outputs": [
    {
     "data": {
      "text/html": [
       "<table class=\"data-frame\"><thead><tr><th></th><th>trd_exctn_yr</th><th>trd_exctn_qtr</th><th>sbm</th><th>rt</th><th>median_num_cov</th><th>mean_num_cov</th><th>sum_num_cov</th><th>mean_vol_by_num_cov</th><th>median_vol_by_num_cov</th><th>total_vol_by_num_cov</th><th>trades_by_num_cov</th><th>bonds_by_num_cov</th><th>issuers_by_num_cov</th></tr><tr><th></th><th>Int64</th><th>Int64</th><th>Symbol</th><th>Symbol</th><th>Float64</th><th>Float64</th><th>Int64</th><th>Float64</th><th>Float64</th><th>Float64</th><th>Int64</th><th>Int64</th><th>Int64</th></tr></thead><tbody><p>114 rows × 13 columns</p><tr><th>1</th><td>2019</td><td>2</td><td>any</td><td>any</td><td>6.0</td><td>5.89581</td><td>0</td><td>350554.0</td><td>25000.0</td><td>33.2455</td><td>94837</td><td>459</td><td>220</td></tr><tr><th>2</th><td>2019</td><td>2</td><td>any</td><td>any</td><td>6.0</td><td>5.89581</td><td>1</td><td>4.53358e5</td><td>40000.0</td><td>0.979254</td><td>2160</td><td>20</td><td>14</td></tr><tr><th>3</th><td>2019</td><td>2</td><td>any</td><td>any</td><td>6.0</td><td>5.89581</td><td>2</td><td>5.24159e5</td><td>35000.0</td><td>63.2948</td><td>120755</td><td>413</td><td>190</td></tr><tr><th>4</th><td>2019</td><td>2</td><td>any</td><td>any</td><td>6.0</td><td>5.89581</td><td>3</td><td>5.51732e5</td><td>36000.0</td><td>116.801</td><td>211699</td><td>610</td><td>290</td></tr><tr><th>5</th><td>2019</td><td>2</td><td>any</td><td>any</td><td>6.0</td><td>5.89581</td><td>4</td><td>4.59461e5</td><td>29000.0</td><td>87.8673</td><td>191240</td><td>760</td><td>339</td></tr><tr><th>6</th><td>2019</td><td>2</td><td>any</td><td>any</td><td>6.0</td><td>5.89581</td><td>5</td><td>4.68901e5</td><td>29000.0</td><td>211.586</td><td>451238</td><td>1557</td><td>569</td></tr><tr><th>7</th><td>2019</td><td>2</td><td>any</td><td>any</td><td>6.0</td><td>5.89581</td><td>6</td><td>4.64617e5</td><td>28000.0</td><td>220.722</td><td>475062</td><td>1528</td><td>538</td></tr><tr><th>8</th><td>2019</td><td>2</td><td>any</td><td>any</td><td>6.0</td><td>5.89581</td><td>7</td><td>4.16307e5</td><td>25000.0</td><td>221.014</td><td>530891</td><td>1597</td><td>527</td></tr><tr><th>9</th><td>2019</td><td>2</td><td>any</td><td>any</td><td>6.0</td><td>5.89581</td><td>8</td><td>3.88016e5</td><td>25000.0</td><td>187.857</td><td>484147</td><td>1229</td><td>424</td></tr><tr><th>10</th><td>2019</td><td>2</td><td>any</td><td>any</td><td>6.0</td><td>5.89581</td><td>9</td><td>4.23795e5</td><td>25000.0</td><td>34.2549</td><td>80829</td><td>238</td><td>149</td></tr><tr><th>11</th><td>2019</td><td>2</td><td>any</td><td>any</td><td>6.0</td><td>5.89581</td><td>10</td><td>408248.0</td><td>25000.0</td><td>37.3849</td><td>91574</td><td>203</td><td>132</td></tr><tr><th>12</th><td>2019</td><td>2</td><td>any</td><td>any</td><td>6.0</td><td>5.89581</td><td>11</td><td>2.8572e5</td><td>18000.0</td><td>6.46813</td><td>22638</td><td>55</td><td>42</td></tr><tr><th>13</th><td>2019</td><td>2</td><td>any</td><td>any</td><td>6.0</td><td>5.89581</td><td>12</td><td>5.18553e5</td><td>50000.0</td><td>1.97517</td><td>3809</td><td>10</td><td>6</td></tr><tr><th>14</th><td>2019</td><td>2</td><td>ats</td><td>any</td><td>6.0</td><td>6.0297</td><td>0</td><td>90603.3</td><td>20000.0</td><td>1.89071</td><td>20868</td><td>378</td><td>194</td></tr><tr><th>15</th><td>2019</td><td>2</td><td>ats</td><td>any</td><td>6.0</td><td>6.0297</td><td>1</td><td>131619.0</td><td>24500.0</td><td>0.05528</td><td>420</td><td>17</td><td>12</td></tr><tr><th>16</th><td>2019</td><td>2</td><td>ats</td><td>any</td><td>6.0</td><td>6.0297</td><td>2</td><td>1.05912e5</td><td>20000.0</td><td>2.43969</td><td>23035</td><td>378</td><td>171</td></tr><tr><th>17</th><td>2019</td><td>2</td><td>ats</td><td>any</td><td>6.0</td><td>6.0297</td><td>3</td><td>3.00664e5</td><td>25000.0</td><td>12.5903</td><td>41875</td><td>554</td><td>252</td></tr><tr><th>18</th><td>2019</td><td>2</td><td>ats</td><td>any</td><td>6.0</td><td>6.0297</td><td>4</td><td>98188.3</td><td>20000.0</td><td>3.84574</td><td>39167</td><td>679</td><td>298</td></tr><tr><th>19</th><td>2019</td><td>2</td><td>ats</td><td>any</td><td>6.0</td><td>6.0297</td><td>5</td><td>1.2804e5</td><td>20000.0</td><td>11.9645</td><td>93443</td><td>1468</td><td>530</td></tr><tr><th>20</th><td>2019</td><td>2</td><td>ats</td><td>any</td><td>6.0</td><td>6.0297</td><td>6</td><td>1.3152e5</td><td>20000.0</td><td>13.7398</td><td>104469</td><td>1469</td><td>525</td></tr><tr><th>21</th><td>2019</td><td>2</td><td>ats</td><td>any</td><td>6.0</td><td>6.0297</td><td>7</td><td>98823.3</td><td>20000.0</td><td>12.2585</td><td>124045</td><td>1550</td><td>520</td></tr><tr><th>22</th><td>2019</td><td>2</td><td>ats</td><td>any</td><td>6.0</td><td>6.0297</td><td>8</td><td>87776.9</td><td>20000.0</td><td>10.2379</td><td>116635</td><td>1201</td><td>417</td></tr><tr><th>23</th><td>2019</td><td>2</td><td>ats</td><td>any</td><td>6.0</td><td>6.0297</td><td>9</td><td>86218.0</td><td>15000.0</td><td>1.69806</td><td>19695</td><td>234</td><td>146</td></tr><tr><th>24</th><td>2019</td><td>2</td><td>ats</td><td>any</td><td>6.0</td><td>6.0297</td><td>10</td><td>1.01703e5</td><td>15000.0</td><td>2.21285</td><td>21758</td><td>199</td><td>129</td></tr><tr><th>25</th><td>2019</td><td>2</td><td>ats</td><td>any</td><td>6.0</td><td>6.0297</td><td>11</td><td>50967.4</td><td>10000.0</td><td>0.282818</td><td>5549</td><td>55</td><td>42</td></tr><tr><th>26</th><td>2019</td><td>2</td><td>ats</td><td>any</td><td>6.0</td><td>6.0297</td><td>12</td><td>1.29397e5</td><td>10000.0</td><td>0.082814</td><td>640</td><td>10</td><td>6</td></tr><tr><th>27</th><td>2019</td><td>2</td><td>otc</td><td>any</td><td>6.0</td><td>5.85771</td><td>0</td><td>4.23891e5</td><td>30000.0</td><td>31.3548</td><td>73969</td><td>459</td><td>220</td></tr><tr><th>28</th><td>2019</td><td>2</td><td>otc</td><td>any</td><td>6.0</td><td>5.85771</td><td>1</td><td>5.3102e5</td><td>50000.0</td><td>0.923974</td><td>1740</td><td>20</td><td>14</td></tr><tr><th>29</th><td>2019</td><td>2</td><td>otc</td><td>any</td><td>6.0</td><td>5.85771</td><td>2</td><td>6.2275e5</td><td>50000.0</td><td>60.8551</td><td>97720</td><td>413</td><td>190</td></tr><tr><th>30</th><td>2019</td><td>2</td><td>otc</td><td>any</td><td>6.0</td><td>5.85771</td><td>3</td><td>6.1364e5</td><td>45000.0</td><td>104.211</td><td>169824</td><td>610</td><td>290</td></tr><tr><th>31</th><td>2019</td><td>2</td><td>otc</td><td>any</td><td>6.0</td><td>5.85771</td><td>4</td><td>5.52508e5</td><td>35000.0</td><td>84.0215</td><td>152073</td><td>760</td><td>339</td></tr><tr><th>32</th><td>2019</td><td>2</td><td>otc</td><td>any</td><td>6.0</td><td>5.85771</td><td>5</td><td>5.57921e5</td><td>35000.0</td><td>199.621</td><td>357795</td><td>1557</td><td>569</td></tr><tr><th>33</th><td>2019</td><td>2</td><td>otc</td><td>any</td><td>6.0</td><td>5.85771</td><td>6</td><td>5.58515e5</td><td>35000.0</td><td>206.982</td><td>370593</td><td>1528</td><td>538</td></tr><tr><th>34</th><td>2019</td><td>2</td><td>otc</td><td>any</td><td>6.0</td><td>5.85771</td><td>7</td><td>5.13107e5</td><td>30000.0</td><td>208.755</td><td>406846</td><td>1597</td><td>527</td></tr><tr><th>35</th><td>2019</td><td>2</td><td>otc</td><td>any</td><td>6.0</td><td>5.85771</td><td>8</td><td>4.83301e5</td><td>30000.0</td><td>177.619</td><td>367512</td><td>1229</td><td>424</td></tr><tr><th>36</th><td>2019</td><td>2</td><td>otc</td><td>any</td><td>6.0</td><td>5.85771</td><td>9</td><td>5.32549e5</td><td>39000.0</td><td>32.5568</td><td>61134</td><td>237</td><td>149</td></tr><tr><th>37</th><td>2019</td><td>2</td><td>otc</td><td>any</td><td>6.0</td><td>5.85771</td><td>10</td><td>5.03782e5</td><td>35000.0</td><td>35.172</td><td>69816</td><td>203</td><td>132</td></tr><tr><th>38</th><td>2019</td><td>2</td><td>otc</td><td>any</td><td>6.0</td><td>5.85771</td><td>11</td><td>3.61947e5</td><td>23000.0</td><td>6.18531</td><td>17089</td><td>55</td><td>42</td></tr><tr><th>39</th><td>2019</td><td>2</td><td>otc</td><td>any</td><td>6.0</td><td>5.85771</td><td>12</td><td>5.97145e5</td><td>75000.0</td><td>1.89235</td><td>3169</td><td>10</td><td>6</td></tr><tr><th>40</th><td>2019</td><td>2</td><td>any</td><td>ig</td><td>6.0</td><td>5.4463</td><td>0</td><td>3.42264e5</td><td>25000.0</td><td>30.4848</td><td>89068</td><td>395</td><td>193</td></tr><tr><th>41</th><td>2019</td><td>2</td><td>any</td><td>ig</td><td>6.0</td><td>5.4463</td><td>1</td><td>4.0487e5</td><td>35000.0</td><td>0.709333</td><td>1752</td><td>17</td><td>11</td></tr><tr><th>42</th><td>2019</td><td>2</td><td>any</td><td>ig</td><td>6.0</td><td>5.4463</td><td>2</td><td>5.18731e5</td><td>35000.0</td><td>54.0435</td><td>104184</td><td>351</td><td>141</td></tr><tr><th>43</th><td>2019</td><td>2</td><td>any</td><td>ig</td><td>6.0</td><td>5.4463</td><td>3</td><td>5.22351e5</td><td>35000.0</td><td>95.7434</td><td>183293</td><td>486</td><td>186</td></tr><tr><th>44</th><td>2019</td><td>2</td><td>any</td><td>ig</td><td>6.0</td><td>5.4463</td><td>4</td><td>4.63171e5</td><td>26000.0</td><td>74.3602</td><td>160546</td><td>658</td><td>266</td></tr><tr><th>45</th><td>2019</td><td>2</td><td>any</td><td>ig</td><td>6.0</td><td>5.4463</td><td>5</td><td>461161.0</td><td>25000.0</td><td>172.538</td><td>374138</td><td>1339</td><td>412</td></tr><tr><th>46</th><td>2019</td><td>2</td><td>any</td><td>ig</td><td>6.0</td><td>5.4463</td><td>6</td><td>444221.0</td><td>25000.0</td><td>163.209</td><td>367406</td><td>1267</td><td>425</td></tr><tr><th>47</th><td>2019</td><td>2</td><td>any</td><td>ig</td><td>6.0</td><td>5.4463</td><td>7</td><td>4.43728e5</td><td>25000.0</td><td>163.251</td><td>367908</td><td>1237</td><td>371</td></tr><tr><th>48</th><td>2019</td><td>2</td><td>any</td><td>ig</td><td>6.0</td><td>5.4463</td><td>8</td><td>4.23349e5</td><td>25000.0</td><td>135.376</td><td>319775</td><td>935</td><td>283</td></tr><tr><th>49</th><td>2019</td><td>2</td><td>any</td><td>ig</td><td>6.0</td><td>5.4463</td><td>9</td><td>4.23558e5</td><td>25000.0</td><td>10.1442</td><td>23950</td><td>83</td><td>43</td></tr><tr><th>50</th><td>2019</td><td>2</td><td>any</td><td>ig</td><td>6.0</td><td>5.4463</td><td>10</td><td>458642.0</td><td>30000.0</td><td>2.02169</td><td>4408</td><td>17</td><td>8</td></tr><tr><th>51</th><td>2019</td><td>2</td><td>any</td><td>ig</td><td>6.0</td><td>5.4463</td><td>11</td><td>2.71793e5</td><td>30000.0</td><td>0.129917</td><td>478</td><td>5</td><td>4</td></tr><tr><th>52</th><td>2019</td><td>2</td><td>ats</td><td>ig</td><td>6.0</td><td>5.51922</td><td>0</td><td>88703.1</td><td>20000.0</td><td>1.75987</td><td>19840</td><td>340</td><td>174</td></tr><tr><th>53</th><td>2019</td><td>2</td><td>ats</td><td>ig</td><td>6.0</td><td>5.51922</td><td>1</td><td>94019.4</td><td>25000.0</td><td>0.033941</td><td>361</td><td>14</td><td>9</td></tr><tr><th>54</th><td>2019</td><td>2</td><td>ats</td><td>ig</td><td>6.0</td><td>5.51922</td><td>2</td><td>1.07785e5</td><td>20000.0</td><td>2.15462</td><td>19990</td><td>328</td><td>133</td></tr><tr><th>55</th><td>2019</td><td>2</td><td>ats</td><td>ig</td><td>6.0</td><td>5.51922</td><td>3</td><td>2.90255e5</td><td>25000.0</td><td>11.0845</td><td>38189</td><td>460</td><td>174</td></tr><tr><th>56</th><td>2019</td><td>2</td><td>ats</td><td>ig</td><td>6.0</td><td>5.51922</td><td>4</td><td>99431.2</td><td>20000.0</td><td>3.33999</td><td>33591</td><td>606</td><td>249</td></tr><tr><th>57</th><td>2019</td><td>2</td><td>ats</td><td>ig</td><td>6.0</td><td>5.51922</td><td>5</td><td>1.05549e5</td><td>20000.0</td><td>8.27609</td><td>78410</td><td>1278</td><td>400</td></tr><tr><th>58</th><td>2019</td><td>2</td><td>ats</td><td>ig</td><td>6.0</td><td>5.51922</td><td>6</td><td>1.08682e5</td><td>20000.0</td><td>8.88215</td><td>81726</td><td>1214</td><td>417</td></tr><tr><th>59</th><td>2019</td><td>2</td><td>ats</td><td>ig</td><td>6.0</td><td>5.51922</td><td>7</td><td>1.08349e5</td><td>20000.0</td><td>8.78245</td><td>81057</td><td>1201</td><td>369</td></tr><tr><th>60</th><td>2019</td><td>2</td><td>ats</td><td>ig</td><td>6.0</td><td>5.51922</td><td>8</td><td>95312.2</td><td>20000.0</td><td>7.14641</td><td>74979</td><td>913</td><td>278</td></tr><tr><th>61</th><td>2019</td><td>2</td><td>ats</td><td>ig</td><td>6.0</td><td>5.51922</td><td>9</td><td>69046.2</td><td>20000.0</td><td>0.377821</td><td>5472</td><td>82</td><td>42</td></tr><tr><th>62</th><td>2019</td><td>2</td><td>ats</td><td>ig</td><td>6.0</td><td>5.51922</td><td>10</td><td>97758.2</td><td>20000.0</td><td>0.098638</td><td>1009</td><td>16</td><td>8</td></tr><tr><th>63</th><td>2019</td><td>2</td><td>ats</td><td>ig</td><td>6.0</td><td>5.51922</td><td>11</td><td>1.21418e5</td><td>25000.0</td><td>0.011899</td><td>98</td><td>5</td><td>4</td></tr><tr><th>64</th><td>2019</td><td>2</td><td>otc</td><td>ig</td><td>6.0</td><td>5.42601</td><td>0</td><td>4.14932e5</td><td>27000.0</td><td>28.7249</td><td>69228</td><td>395</td><td>193</td></tr><tr><th>65</th><td>2019</td><td>2</td><td>otc</td><td>ig</td><td>6.0</td><td>5.42601</td><td>1</td><td>4.85544e5</td><td>40000.0</td><td>0.675392</td><td>1391</td><td>17</td><td>11</td></tr><tr><th>66</th><td>2019</td><td>2</td><td>otc</td><td>ig</td><td>6.0</td><td>5.42601</td><td>2</td><td>6.16301e5</td><td>48000.0</td><td>51.8889</td><td>84194</td><td>351</td><td>141</td></tr><tr><th>67</th><td>2019</td><td>2</td><td>otc</td><td>ig</td><td>6.0</td><td>5.42601</td><td>3</td><td>5.83436e5</td><td>44000.0</td><td>84.6588</td><td>145104</td><td>486</td><td>186</td></tr><tr><th>68</th><td>2019</td><td>2</td><td>otc</td><td>ig</td><td>6.0</td><td>5.42601</td><td>4</td><td>5.59413e5</td><td>34000.0</td><td>71.0202</td><td>126955</td><td>658</td><td>266</td></tr><tr><th>69</th><td>2019</td><td>2</td><td>otc</td><td>ig</td><td>6.0</td><td>5.42601</td><td>5</td><td>5.55449e5</td><td>30000.0</td><td>164.262</td><td>295728</td><td>1339</td><td>412</td></tr><tr><th>70</th><td>2019</td><td>2</td><td>otc</td><td>ig</td><td>6.0</td><td>5.42601</td><td>6</td><td>5.4021e5</td><td>30000.0</td><td>154.327</td><td>285680</td><td>1267</td><td>425</td></tr><tr><th>71</th><td>2019</td><td>2</td><td>otc</td><td>ig</td><td>6.0</td><td>5.42601</td><td>7</td><td>5.38498e5</td><td>30000.0</td><td>154.469</td><td>286851</td><td>1237</td><td>371</td></tr><tr><th>72</th><td>2019</td><td>2</td><td>otc</td><td>ig</td><td>6.0</td><td>5.42601</td><td>8</td><td>5.23824e5</td><td>30000.0</td><td>128.23</td><td>244796</td><td>935</td><td>283</td></tr><tr><th>73</th><td>2019</td><td>2</td><td>otc</td><td>ig</td><td>6.0</td><td>5.42601</td><td>9</td><td>5.28542e5</td><td>35000.0</td><td>9.7664</td><td>18478</td><td>82</td><td>43</td></tr><tr><th>74</th><td>2019</td><td>2</td><td>otc</td><td>ig</td><td>6.0</td><td>5.42601</td><td>10</td><td>5.65771e5</td><td>40000.0</td><td>1.92306</td><td>3399</td><td>17</td><td>8</td></tr><tr><th>75</th><td>2019</td><td>2</td><td>otc</td><td>ig</td><td>6.0</td><td>5.42601</td><td>11</td><td>3.10574e5</td><td>39500.0</td><td>0.118018</td><td>380</td><td>5</td><td>4</td></tr><tr><th>76</th><td>2019</td><td>2</td><td>any</td><td>hy</td><td>7.0</td><td>7.07077</td><td>0</td><td>4.78545e5</td><td>35000.0</td><td>2.76073</td><td>5769</td><td>66</td><td>34</td></tr><tr><th>77</th><td>2019</td><td>2</td><td>any</td><td>hy</td><td>7.0</td><td>7.07077</td><td>1</td><td>6.61571e5</td><td>89500.0</td><td>0.269921</td><td>408</td><td>3</td><td>3</td></tr><tr><th>78</th><td>2019</td><td>2</td><td>any</td><td>hy</td><td>7.0</td><td>7.07077</td><td>2</td><td>5.58283e5</td><td>40000.0</td><td>9.25131</td><td>16571</td><td>72</td><td>57</td></tr><tr><th>79</th><td>2019</td><td>2</td><td>any</td><td>hy</td><td>7.0</td><td>7.07077</td><td>3</td><td>7.41315e5</td><td>49000.0</td><td>21.0578</td><td>28406</td><td>127</td><td>111</td></tr><tr><th>80</th><td>2019</td><td>2</td><td>any</td><td>hy</td><td>7.0</td><td>7.07077</td><td>4</td><td>440055.0</td><td>34000.0</td><td>13.507</td><td>30694</td><td>106</td><td>86</td></tr><tr><th>81</th><td>2019</td><td>2</td><td>any</td><td>hy</td><td>7.0</td><td>7.07077</td><td>5</td><td>5.06458e5</td><td>40000.0</td><td>39.0479</td><td>77100</td><td>226</td><td>168</td></tr><tr><th>82</th><td>2019</td><td>2</td><td>any</td><td>hy</td><td>7.0</td><td>7.07077</td><td>6</td><td>5.34223e5</td><td>40000.0</td><td>57.5123</td><td>107656</td><td>276</td><td>130</td></tr><tr><th>83</th><td>2019</td><td>2</td><td>any</td><td>hy</td><td>7.0</td><td>7.07077</td><td>7</td><td>3.5441e5</td><td>25000.0</td><td>57.7627</td><td>162983</td><td>371</td><td>174</td></tr><tr><th>84</th><td>2019</td><td>2</td><td>any</td><td>hy</td><td>7.0</td><td>7.07077</td><td>8</td><td>3.19278e5</td><td>25000.0</td><td>52.4804</td><td>164372</td><td>297</td><td>151</td></tr><tr><th>85</th><td>2019</td><td>2</td><td>any</td><td>hy</td><td>7.0</td><td>7.07077</td><td>9</td><td>4.23894e5</td><td>25000.0</td><td>24.1107</td><td>56879</td><td>160</td><td>110</td></tr><tr><th>86</th><td>2019</td><td>2</td><td>any</td><td>hy</td><td>7.0</td><td>7.07077</td><td>10</td><td>4.057e5</td><td>25000.0</td><td>35.3632</td><td>87166</td><td>186</td><td>124</td></tr><tr><th>87</th><td>2019</td><td>2</td><td>any</td><td>hy</td><td>7.0</td><td>7.07077</td><td>11</td><td>2.8602e5</td><td>17000.0</td><td>6.33821</td><td>22160</td><td>52</td><td>39</td></tr><tr><th>88</th><td>2019</td><td>2</td><td>any</td><td>hy</td><td>7.0</td><td>7.07077</td><td>12</td><td>5.18553e5</td><td>50000.0</td><td>1.97517</td><td>3809</td><td>10</td><td>6</td></tr><tr><th>89</th><td>2019</td><td>2</td><td>ats</td><td>hy</td><td>7.0</td><td>7.28436</td><td>0</td><td>1.27275e5</td><td>15000.0</td><td>0.130839</td><td>1028</td><td>39</td><td>26</td></tr><tr><th>90</th><td>2019</td><td>2</td><td>ats</td><td>hy</td><td>7.0</td><td>7.28436</td><td>1</td><td>361678.0</td><td>20000.0</td><td>0.021339</td><td>59</td><td>3</td><td>3</td></tr><tr><th>91</th><td>2019</td><td>2</td><td>ats</td><td>hy</td><td>7.0</td><td>7.28436</td><td>2</td><td>93620.4</td><td>20000.0</td><td>0.285074</td><td>3045</td><td>60</td><td>46</td></tr><tr><th>92</th><td>2019</td><td>2</td><td>ats</td><td>hy</td><td>7.0</td><td>7.28436</td><td>3</td><td>4.08509e5</td><td>20000.0</td><td>1.50576</td><td>3686</td><td>96</td><td>84</td></tr><tr><th>93</th><td>2019</td><td>2</td><td>ats</td><td>hy</td><td>7.0</td><td>7.28436</td><td>4</td><td>90700.5</td><td>15000.0</td><td>0.505746</td><td>5576</td><td>77</td><td>60</td></tr><tr><th>94</th><td>2019</td><td>2</td><td>ats</td><td>hy</td><td>7.0</td><td>7.28436</td><td>5</td><td>2.45352e5</td><td>20000.0</td><td>3.68838</td><td>15033</td><td>196</td><td>141</td></tr><tr><th>95</th><td>2019</td><td>2</td><td>ats</td><td>hy</td><td>7.0</td><td>7.28436</td><td>6</td><td>2.13589e5</td><td>20000.0</td><td>4.85766</td><td>22743</td><td>270</td><td>125</td></tr><tr><th>96</th><td>2019</td><td>2</td><td>ats</td><td>hy</td><td>7.0</td><td>7.28436</td><td>7</td><td>80861.6</td><td>15000.0</td><td>3.47608</td><td>42988</td><td>359</td><td>169</td></tr><tr><th>97</th><td>2019</td><td>2</td><td>ats</td><td>hy</td><td>7.0</td><td>7.28436</td><td>8</td><td>74213.6</td><td>15000.0</td><td>3.09144</td><td>41656</td><td>291</td><td>148</td></tr><tr><th>98</th><td>2019</td><td>2</td><td>ats</td><td>hy</td><td>7.0</td><td>7.28436</td><td>9</td><td>92824.4</td><td>12000.0</td><td>1.32024</td><td>14223</td><td>157</td><td>108</td></tr><tr><th>99</th><td>2019</td><td>2</td><td>ats</td><td>hy</td><td>7.0</td><td>7.28436</td><td>10</td><td>1.01895e5</td><td>14000.0</td><td>2.11421</td><td>20749</td><td>183</td><td>121</td></tr><tr><th>100</th><td>2019</td><td>2</td><td>ats</td><td>hy</td><td>7.0</td><td>7.28436</td><td>11</td><td>49700.8</td><td>10000.0</td><td>0.270919</td><td>5451</td><td>52</td><td>39</td></tr><tr><th>&vellip;</th><td>&vellip;</td><td>&vellip;</td><td>&vellip;</td><td>&vellip;</td><td>&vellip;</td><td>&vellip;</td><td>&vellip;</td><td>&vellip;</td><td>&vellip;</td><td>&vellip;</td><td>&vellip;</td><td>&vellip;</td><td>&vellip;</td></tr></tbody></table>"
      ],
      "text/latex": [
       "\\begin{tabular}{r|ccccccccccccc}\n",
       "\t& trd\\_exctn\\_yr & trd\\_exctn\\_qtr & sbm & rt & median\\_num\\_cov & mean\\_num\\_cov & sum\\_num\\_cov & mean\\_vol\\_by\\_num\\_cov & median\\_vol\\_by\\_num\\_cov & total\\_vol\\_by\\_num\\_cov & trades\\_by\\_num\\_cov & bonds\\_by\\_num\\_cov & issuers\\_by\\_num\\_cov\\\\\n",
       "\t\\hline\n",
       "\t& Int64 & Int64 & Symbol & Symbol & Float64 & Float64 & Int64 & Float64 & Float64 & Float64 & Int64 & Int64 & Int64\\\\\n",
       "\t\\hline\n",
       "\t1 & 2019 & 2 & any & any & 6.0 & 5.89581 & 0 & 350554.0 & 25000.0 & 33.2455 & 94837 & 459 & 220 \\\\\n",
       "\t2 & 2019 & 2 & any & any & 6.0 & 5.89581 & 1 & 4.53358e5 & 40000.0 & 0.979254 & 2160 & 20 & 14 \\\\\n",
       "\t3 & 2019 & 2 & any & any & 6.0 & 5.89581 & 2 & 5.24159e5 & 35000.0 & 63.2948 & 120755 & 413 & 190 \\\\\n",
       "\t4 & 2019 & 2 & any & any & 6.0 & 5.89581 & 3 & 5.51732e5 & 36000.0 & 116.801 & 211699 & 610 & 290 \\\\\n",
       "\t5 & 2019 & 2 & any & any & 6.0 & 5.89581 & 4 & 4.59461e5 & 29000.0 & 87.8673 & 191240 & 760 & 339 \\\\\n",
       "\t6 & 2019 & 2 & any & any & 6.0 & 5.89581 & 5 & 4.68901e5 & 29000.0 & 211.586 & 451238 & 1557 & 569 \\\\\n",
       "\t7 & 2019 & 2 & any & any & 6.0 & 5.89581 & 6 & 4.64617e5 & 28000.0 & 220.722 & 475062 & 1528 & 538 \\\\\n",
       "\t8 & 2019 & 2 & any & any & 6.0 & 5.89581 & 7 & 4.16307e5 & 25000.0 & 221.014 & 530891 & 1597 & 527 \\\\\n",
       "\t9 & 2019 & 2 & any & any & 6.0 & 5.89581 & 8 & 3.88016e5 & 25000.0 & 187.857 & 484147 & 1229 & 424 \\\\\n",
       "\t10 & 2019 & 2 & any & any & 6.0 & 5.89581 & 9 & 4.23795e5 & 25000.0 & 34.2549 & 80829 & 238 & 149 \\\\\n",
       "\t11 & 2019 & 2 & any & any & 6.0 & 5.89581 & 10 & 408248.0 & 25000.0 & 37.3849 & 91574 & 203 & 132 \\\\\n",
       "\t12 & 2019 & 2 & any & any & 6.0 & 5.89581 & 11 & 2.8572e5 & 18000.0 & 6.46813 & 22638 & 55 & 42 \\\\\n",
       "\t13 & 2019 & 2 & any & any & 6.0 & 5.89581 & 12 & 5.18553e5 & 50000.0 & 1.97517 & 3809 & 10 & 6 \\\\\n",
       "\t14 & 2019 & 2 & ats & any & 6.0 & 6.0297 & 0 & 90603.3 & 20000.0 & 1.89071 & 20868 & 378 & 194 \\\\\n",
       "\t15 & 2019 & 2 & ats & any & 6.0 & 6.0297 & 1 & 131619.0 & 24500.0 & 0.05528 & 420 & 17 & 12 \\\\\n",
       "\t16 & 2019 & 2 & ats & any & 6.0 & 6.0297 & 2 & 1.05912e5 & 20000.0 & 2.43969 & 23035 & 378 & 171 \\\\\n",
       "\t17 & 2019 & 2 & ats & any & 6.0 & 6.0297 & 3 & 3.00664e5 & 25000.0 & 12.5903 & 41875 & 554 & 252 \\\\\n",
       "\t18 & 2019 & 2 & ats & any & 6.0 & 6.0297 & 4 & 98188.3 & 20000.0 & 3.84574 & 39167 & 679 & 298 \\\\\n",
       "\t19 & 2019 & 2 & ats & any & 6.0 & 6.0297 & 5 & 1.2804e5 & 20000.0 & 11.9645 & 93443 & 1468 & 530 \\\\\n",
       "\t20 & 2019 & 2 & ats & any & 6.0 & 6.0297 & 6 & 1.3152e5 & 20000.0 & 13.7398 & 104469 & 1469 & 525 \\\\\n",
       "\t21 & 2019 & 2 & ats & any & 6.0 & 6.0297 & 7 & 98823.3 & 20000.0 & 12.2585 & 124045 & 1550 & 520 \\\\\n",
       "\t22 & 2019 & 2 & ats & any & 6.0 & 6.0297 & 8 & 87776.9 & 20000.0 & 10.2379 & 116635 & 1201 & 417 \\\\\n",
       "\t23 & 2019 & 2 & ats & any & 6.0 & 6.0297 & 9 & 86218.0 & 15000.0 & 1.69806 & 19695 & 234 & 146 \\\\\n",
       "\t24 & 2019 & 2 & ats & any & 6.0 & 6.0297 & 10 & 1.01703e5 & 15000.0 & 2.21285 & 21758 & 199 & 129 \\\\\n",
       "\t25 & 2019 & 2 & ats & any & 6.0 & 6.0297 & 11 & 50967.4 & 10000.0 & 0.282818 & 5549 & 55 & 42 \\\\\n",
       "\t26 & 2019 & 2 & ats & any & 6.0 & 6.0297 & 12 & 1.29397e5 & 10000.0 & 0.082814 & 640 & 10 & 6 \\\\\n",
       "\t27 & 2019 & 2 & otc & any & 6.0 & 5.85771 & 0 & 4.23891e5 & 30000.0 & 31.3548 & 73969 & 459 & 220 \\\\\n",
       "\t28 & 2019 & 2 & otc & any & 6.0 & 5.85771 & 1 & 5.3102e5 & 50000.0 & 0.923974 & 1740 & 20 & 14 \\\\\n",
       "\t29 & 2019 & 2 & otc & any & 6.0 & 5.85771 & 2 & 6.2275e5 & 50000.0 & 60.8551 & 97720 & 413 & 190 \\\\\n",
       "\t30 & 2019 & 2 & otc & any & 6.0 & 5.85771 & 3 & 6.1364e5 & 45000.0 & 104.211 & 169824 & 610 & 290 \\\\\n",
       "\t31 & 2019 & 2 & otc & any & 6.0 & 5.85771 & 4 & 5.52508e5 & 35000.0 & 84.0215 & 152073 & 760 & 339 \\\\\n",
       "\t32 & 2019 & 2 & otc & any & 6.0 & 5.85771 & 5 & 5.57921e5 & 35000.0 & 199.621 & 357795 & 1557 & 569 \\\\\n",
       "\t33 & 2019 & 2 & otc & any & 6.0 & 5.85771 & 6 & 5.58515e5 & 35000.0 & 206.982 & 370593 & 1528 & 538 \\\\\n",
       "\t34 & 2019 & 2 & otc & any & 6.0 & 5.85771 & 7 & 5.13107e5 & 30000.0 & 208.755 & 406846 & 1597 & 527 \\\\\n",
       "\t35 & 2019 & 2 & otc & any & 6.0 & 5.85771 & 8 & 4.83301e5 & 30000.0 & 177.619 & 367512 & 1229 & 424 \\\\\n",
       "\t36 & 2019 & 2 & otc & any & 6.0 & 5.85771 & 9 & 5.32549e5 & 39000.0 & 32.5568 & 61134 & 237 & 149 \\\\\n",
       "\t37 & 2019 & 2 & otc & any & 6.0 & 5.85771 & 10 & 5.03782e5 & 35000.0 & 35.172 & 69816 & 203 & 132 \\\\\n",
       "\t38 & 2019 & 2 & otc & any & 6.0 & 5.85771 & 11 & 3.61947e5 & 23000.0 & 6.18531 & 17089 & 55 & 42 \\\\\n",
       "\t39 & 2019 & 2 & otc & any & 6.0 & 5.85771 & 12 & 5.97145e5 & 75000.0 & 1.89235 & 3169 & 10 & 6 \\\\\n",
       "\t40 & 2019 & 2 & any & ig & 6.0 & 5.4463 & 0 & 3.42264e5 & 25000.0 & 30.4848 & 89068 & 395 & 193 \\\\\n",
       "\t41 & 2019 & 2 & any & ig & 6.0 & 5.4463 & 1 & 4.0487e5 & 35000.0 & 0.709333 & 1752 & 17 & 11 \\\\\n",
       "\t42 & 2019 & 2 & any & ig & 6.0 & 5.4463 & 2 & 5.18731e5 & 35000.0 & 54.0435 & 104184 & 351 & 141 \\\\\n",
       "\t43 & 2019 & 2 & any & ig & 6.0 & 5.4463 & 3 & 5.22351e5 & 35000.0 & 95.7434 & 183293 & 486 & 186 \\\\\n",
       "\t44 & 2019 & 2 & any & ig & 6.0 & 5.4463 & 4 & 4.63171e5 & 26000.0 & 74.3602 & 160546 & 658 & 266 \\\\\n",
       "\t45 & 2019 & 2 & any & ig & 6.0 & 5.4463 & 5 & 461161.0 & 25000.0 & 172.538 & 374138 & 1339 & 412 \\\\\n",
       "\t46 & 2019 & 2 & any & ig & 6.0 & 5.4463 & 6 & 444221.0 & 25000.0 & 163.209 & 367406 & 1267 & 425 \\\\\n",
       "\t47 & 2019 & 2 & any & ig & 6.0 & 5.4463 & 7 & 4.43728e5 & 25000.0 & 163.251 & 367908 & 1237 & 371 \\\\\n",
       "\t48 & 2019 & 2 & any & ig & 6.0 & 5.4463 & 8 & 4.23349e5 & 25000.0 & 135.376 & 319775 & 935 & 283 \\\\\n",
       "\t49 & 2019 & 2 & any & ig & 6.0 & 5.4463 & 9 & 4.23558e5 & 25000.0 & 10.1442 & 23950 & 83 & 43 \\\\\n",
       "\t50 & 2019 & 2 & any & ig & 6.0 & 5.4463 & 10 & 458642.0 & 30000.0 & 2.02169 & 4408 & 17 & 8 \\\\\n",
       "\t51 & 2019 & 2 & any & ig & 6.0 & 5.4463 & 11 & 2.71793e5 & 30000.0 & 0.129917 & 478 & 5 & 4 \\\\\n",
       "\t52 & 2019 & 2 & ats & ig & 6.0 & 5.51922 & 0 & 88703.1 & 20000.0 & 1.75987 & 19840 & 340 & 174 \\\\\n",
       "\t53 & 2019 & 2 & ats & ig & 6.0 & 5.51922 & 1 & 94019.4 & 25000.0 & 0.033941 & 361 & 14 & 9 \\\\\n",
       "\t54 & 2019 & 2 & ats & ig & 6.0 & 5.51922 & 2 & 1.07785e5 & 20000.0 & 2.15462 & 19990 & 328 & 133 \\\\\n",
       "\t55 & 2019 & 2 & ats & ig & 6.0 & 5.51922 & 3 & 2.90255e5 & 25000.0 & 11.0845 & 38189 & 460 & 174 \\\\\n",
       "\t56 & 2019 & 2 & ats & ig & 6.0 & 5.51922 & 4 & 99431.2 & 20000.0 & 3.33999 & 33591 & 606 & 249 \\\\\n",
       "\t57 & 2019 & 2 & ats & ig & 6.0 & 5.51922 & 5 & 1.05549e5 & 20000.0 & 8.27609 & 78410 & 1278 & 400 \\\\\n",
       "\t58 & 2019 & 2 & ats & ig & 6.0 & 5.51922 & 6 & 1.08682e5 & 20000.0 & 8.88215 & 81726 & 1214 & 417 \\\\\n",
       "\t59 & 2019 & 2 & ats & ig & 6.0 & 5.51922 & 7 & 1.08349e5 & 20000.0 & 8.78245 & 81057 & 1201 & 369 \\\\\n",
       "\t60 & 2019 & 2 & ats & ig & 6.0 & 5.51922 & 8 & 95312.2 & 20000.0 & 7.14641 & 74979 & 913 & 278 \\\\\n",
       "\t61 & 2019 & 2 & ats & ig & 6.0 & 5.51922 & 9 & 69046.2 & 20000.0 & 0.377821 & 5472 & 82 & 42 \\\\\n",
       "\t62 & 2019 & 2 & ats & ig & 6.0 & 5.51922 & 10 & 97758.2 & 20000.0 & 0.098638 & 1009 & 16 & 8 \\\\\n",
       "\t63 & 2019 & 2 & ats & ig & 6.0 & 5.51922 & 11 & 1.21418e5 & 25000.0 & 0.011899 & 98 & 5 & 4 \\\\\n",
       "\t64 & 2019 & 2 & otc & ig & 6.0 & 5.42601 & 0 & 4.14932e5 & 27000.0 & 28.7249 & 69228 & 395 & 193 \\\\\n",
       "\t65 & 2019 & 2 & otc & ig & 6.0 & 5.42601 & 1 & 4.85544e5 & 40000.0 & 0.675392 & 1391 & 17 & 11 \\\\\n",
       "\t66 & 2019 & 2 & otc & ig & 6.0 & 5.42601 & 2 & 6.16301e5 & 48000.0 & 51.8889 & 84194 & 351 & 141 \\\\\n",
       "\t67 & 2019 & 2 & otc & ig & 6.0 & 5.42601 & 3 & 5.83436e5 & 44000.0 & 84.6588 & 145104 & 486 & 186 \\\\\n",
       "\t68 & 2019 & 2 & otc & ig & 6.0 & 5.42601 & 4 & 5.59413e5 & 34000.0 & 71.0202 & 126955 & 658 & 266 \\\\\n",
       "\t69 & 2019 & 2 & otc & ig & 6.0 & 5.42601 & 5 & 5.55449e5 & 30000.0 & 164.262 & 295728 & 1339 & 412 \\\\\n",
       "\t70 & 2019 & 2 & otc & ig & 6.0 & 5.42601 & 6 & 5.4021e5 & 30000.0 & 154.327 & 285680 & 1267 & 425 \\\\\n",
       "\t71 & 2019 & 2 & otc & ig & 6.0 & 5.42601 & 7 & 5.38498e5 & 30000.0 & 154.469 & 286851 & 1237 & 371 \\\\\n",
       "\t72 & 2019 & 2 & otc & ig & 6.0 & 5.42601 & 8 & 5.23824e5 & 30000.0 & 128.23 & 244796 & 935 & 283 \\\\\n",
       "\t73 & 2019 & 2 & otc & ig & 6.0 & 5.42601 & 9 & 5.28542e5 & 35000.0 & 9.7664 & 18478 & 82 & 43 \\\\\n",
       "\t74 & 2019 & 2 & otc & ig & 6.0 & 5.42601 & 10 & 5.65771e5 & 40000.0 & 1.92306 & 3399 & 17 & 8 \\\\\n",
       "\t75 & 2019 & 2 & otc & ig & 6.0 & 5.42601 & 11 & 3.10574e5 & 39500.0 & 0.118018 & 380 & 5 & 4 \\\\\n",
       "\t76 & 2019 & 2 & any & hy & 7.0 & 7.07077 & 0 & 4.78545e5 & 35000.0 & 2.76073 & 5769 & 66 & 34 \\\\\n",
       "\t77 & 2019 & 2 & any & hy & 7.0 & 7.07077 & 1 & 6.61571e5 & 89500.0 & 0.269921 & 408 & 3 & 3 \\\\\n",
       "\t78 & 2019 & 2 & any & hy & 7.0 & 7.07077 & 2 & 5.58283e5 & 40000.0 & 9.25131 & 16571 & 72 & 57 \\\\\n",
       "\t79 & 2019 & 2 & any & hy & 7.0 & 7.07077 & 3 & 7.41315e5 & 49000.0 & 21.0578 & 28406 & 127 & 111 \\\\\n",
       "\t80 & 2019 & 2 & any & hy & 7.0 & 7.07077 & 4 & 440055.0 & 34000.0 & 13.507 & 30694 & 106 & 86 \\\\\n",
       "\t81 & 2019 & 2 & any & hy & 7.0 & 7.07077 & 5 & 5.06458e5 & 40000.0 & 39.0479 & 77100 & 226 & 168 \\\\\n",
       "\t82 & 2019 & 2 & any & hy & 7.0 & 7.07077 & 6 & 5.34223e5 & 40000.0 & 57.5123 & 107656 & 276 & 130 \\\\\n",
       "\t83 & 2019 & 2 & any & hy & 7.0 & 7.07077 & 7 & 3.5441e5 & 25000.0 & 57.7627 & 162983 & 371 & 174 \\\\\n",
       "\t84 & 2019 & 2 & any & hy & 7.0 & 7.07077 & 8 & 3.19278e5 & 25000.0 & 52.4804 & 164372 & 297 & 151 \\\\\n",
       "\t85 & 2019 & 2 & any & hy & 7.0 & 7.07077 & 9 & 4.23894e5 & 25000.0 & 24.1107 & 56879 & 160 & 110 \\\\\n",
       "\t86 & 2019 & 2 & any & hy & 7.0 & 7.07077 & 10 & 4.057e5 & 25000.0 & 35.3632 & 87166 & 186 & 124 \\\\\n",
       "\t87 & 2019 & 2 & any & hy & 7.0 & 7.07077 & 11 & 2.8602e5 & 17000.0 & 6.33821 & 22160 & 52 & 39 \\\\\n",
       "\t88 & 2019 & 2 & any & hy & 7.0 & 7.07077 & 12 & 5.18553e5 & 50000.0 & 1.97517 & 3809 & 10 & 6 \\\\\n",
       "\t89 & 2019 & 2 & ats & hy & 7.0 & 7.28436 & 0 & 1.27275e5 & 15000.0 & 0.130839 & 1028 & 39 & 26 \\\\\n",
       "\t90 & 2019 & 2 & ats & hy & 7.0 & 7.28436 & 1 & 361678.0 & 20000.0 & 0.021339 & 59 & 3 & 3 \\\\\n",
       "\t91 & 2019 & 2 & ats & hy & 7.0 & 7.28436 & 2 & 93620.4 & 20000.0 & 0.285074 & 3045 & 60 & 46 \\\\\n",
       "\t92 & 2019 & 2 & ats & hy & 7.0 & 7.28436 & 3 & 4.08509e5 & 20000.0 & 1.50576 & 3686 & 96 & 84 \\\\\n",
       "\t93 & 2019 & 2 & ats & hy & 7.0 & 7.28436 & 4 & 90700.5 & 15000.0 & 0.505746 & 5576 & 77 & 60 \\\\\n",
       "\t94 & 2019 & 2 & ats & hy & 7.0 & 7.28436 & 5 & 2.45352e5 & 20000.0 & 3.68838 & 15033 & 196 & 141 \\\\\n",
       "\t95 & 2019 & 2 & ats & hy & 7.0 & 7.28436 & 6 & 2.13589e5 & 20000.0 & 4.85766 & 22743 & 270 & 125 \\\\\n",
       "\t96 & 2019 & 2 & ats & hy & 7.0 & 7.28436 & 7 & 80861.6 & 15000.0 & 3.47608 & 42988 & 359 & 169 \\\\\n",
       "\t97 & 2019 & 2 & ats & hy & 7.0 & 7.28436 & 8 & 74213.6 & 15000.0 & 3.09144 & 41656 & 291 & 148 \\\\\n",
       "\t98 & 2019 & 2 & ats & hy & 7.0 & 7.28436 & 9 & 92824.4 & 12000.0 & 1.32024 & 14223 & 157 & 108 \\\\\n",
       "\t99 & 2019 & 2 & ats & hy & 7.0 & 7.28436 & 10 & 1.01895e5 & 14000.0 & 2.11421 & 20749 & 183 & 121 \\\\\n",
       "\t100 & 2019 & 2 & ats & hy & 7.0 & 7.28436 & 11 & 49700.8 & 10000.0 & 0.270919 & 5451 & 52 & 39 \\\\\n",
       "\t$\\dots$ & $\\dots$ & $\\dots$ & $\\dots$ & $\\dots$ & $\\dots$ & $\\dots$ & $\\dots$ & $\\dots$ & $\\dots$ & $\\dots$ & $\\dots$ & $\\dots$ & $\\dots$ \\\\\n",
       "\\end{tabular}\n"
      ],
      "text/plain": [
       "114×13 DataFrame\n",
       "│ Row │ trd_exctn_yr │ trd_exctn_qtr │ sbm    │ rt     │ median_num_cov │ mean_num_cov │ sum_num_cov │ mean_vol_by_num_cov │ median_vol_by_num_cov │ total_vol_by_num_cov │ trades_by_num_cov │ bonds_by_num_cov │ issuers_by_num_cov │\n",
       "│     │ \u001b[90mInt64\u001b[39m        │ \u001b[90mInt64\u001b[39m         │ \u001b[90mSymbol\u001b[39m │ \u001b[90mSymbol\u001b[39m │ \u001b[90mFloat64\u001b[39m        │ \u001b[90mFloat64\u001b[39m      │ \u001b[90mInt64\u001b[39m       │ \u001b[90mFloat64\u001b[39m             │ \u001b[90mFloat64\u001b[39m               │ \u001b[90mFloat64\u001b[39m              │ \u001b[90mInt64\u001b[39m             │ \u001b[90mInt64\u001b[39m            │ \u001b[90mInt64\u001b[39m              │\n",
       "├─────┼──────────────┼───────────────┼────────┼────────┼────────────────┼──────────────┼─────────────┼─────────────────────┼───────────────────────┼──────────────────────┼───────────────────┼──────────────────┼────────────────────┤\n",
       "│ 1   │ 2019         │ 2             │ any    │ any    │ 6.0            │ 5.89581      │ 0           │ 350554.0            │ 25000.0               │ 33.2455              │ 94837             │ 459              │ 220                │\n",
       "│ 2   │ 2019         │ 2             │ any    │ any    │ 6.0            │ 5.89581      │ 1           │ 4.53358e5           │ 40000.0               │ 0.979254             │ 2160              │ 20               │ 14                 │\n",
       "│ 3   │ 2019         │ 2             │ any    │ any    │ 6.0            │ 5.89581      │ 2           │ 5.24159e5           │ 35000.0               │ 63.2948              │ 120755            │ 413              │ 190                │\n",
       "│ 4   │ 2019         │ 2             │ any    │ any    │ 6.0            │ 5.89581      │ 3           │ 5.51732e5           │ 36000.0               │ 116.801              │ 211699            │ 610              │ 290                │\n",
       "│ 5   │ 2019         │ 2             │ any    │ any    │ 6.0            │ 5.89581      │ 4           │ 4.59461e5           │ 29000.0               │ 87.8673              │ 191240            │ 760              │ 339                │\n",
       "│ 6   │ 2019         │ 2             │ any    │ any    │ 6.0            │ 5.89581      │ 5           │ 4.68901e5           │ 29000.0               │ 211.586              │ 451238            │ 1557             │ 569                │\n",
       "│ 7   │ 2019         │ 2             │ any    │ any    │ 6.0            │ 5.89581      │ 6           │ 4.64617e5           │ 28000.0               │ 220.722              │ 475062            │ 1528             │ 538                │\n",
       "│ 8   │ 2019         │ 2             │ any    │ any    │ 6.0            │ 5.89581      │ 7           │ 4.16307e5           │ 25000.0               │ 221.014              │ 530891            │ 1597             │ 527                │\n",
       "│ 9   │ 2019         │ 2             │ any    │ any    │ 6.0            │ 5.89581      │ 8           │ 3.88016e5           │ 25000.0               │ 187.857              │ 484147            │ 1229             │ 424                │\n",
       "│ 10  │ 2019         │ 2             │ any    │ any    │ 6.0            │ 5.89581      │ 9           │ 4.23795e5           │ 25000.0               │ 34.2549              │ 80829             │ 238              │ 149                │\n",
       "│ 11  │ 2019         │ 2             │ any    │ any    │ 6.0            │ 5.89581      │ 10          │ 408248.0            │ 25000.0               │ 37.3849              │ 91574             │ 203              │ 132                │\n",
       "│ 12  │ 2019         │ 2             │ any    │ any    │ 6.0            │ 5.89581      │ 11          │ 2.8572e5            │ 18000.0               │ 6.46813              │ 22638             │ 55               │ 42                 │\n",
       "│ 13  │ 2019         │ 2             │ any    │ any    │ 6.0            │ 5.89581      │ 12          │ 5.18553e5           │ 50000.0               │ 1.97517              │ 3809              │ 10               │ 6                  │\n",
       "│ 14  │ 2019         │ 2             │ ats    │ any    │ 6.0            │ 6.0297       │ 0           │ 90603.3             │ 20000.0               │ 1.89071              │ 20868             │ 378              │ 194                │\n",
       "│ 15  │ 2019         │ 2             │ ats    │ any    │ 6.0            │ 6.0297       │ 1           │ 131619.0            │ 24500.0               │ 0.05528              │ 420               │ 17               │ 12                 │\n",
       "│ 16  │ 2019         │ 2             │ ats    │ any    │ 6.0            │ 6.0297       │ 2           │ 1.05912e5           │ 20000.0               │ 2.43969              │ 23035             │ 378              │ 171                │\n",
       "│ 17  │ 2019         │ 2             │ ats    │ any    │ 6.0            │ 6.0297       │ 3           │ 3.00664e5           │ 25000.0               │ 12.5903              │ 41875             │ 554              │ 252                │\n",
       "│ 18  │ 2019         │ 2             │ ats    │ any    │ 6.0            │ 6.0297       │ 4           │ 98188.3             │ 20000.0               │ 3.84574              │ 39167             │ 679              │ 298                │\n",
       "│ 19  │ 2019         │ 2             │ ats    │ any    │ 6.0            │ 6.0297       │ 5           │ 1.2804e5            │ 20000.0               │ 11.9645              │ 93443             │ 1468             │ 530                │\n",
       "│ 20  │ 2019         │ 2             │ ats    │ any    │ 6.0            │ 6.0297       │ 6           │ 1.3152e5            │ 20000.0               │ 13.7398              │ 104469            │ 1469             │ 525                │\n",
       "│ 21  │ 2019         │ 2             │ ats    │ any    │ 6.0            │ 6.0297       │ 7           │ 98823.3             │ 20000.0               │ 12.2585              │ 124045            │ 1550             │ 520                │\n",
       "│ 22  │ 2019         │ 2             │ ats    │ any    │ 6.0            │ 6.0297       │ 8           │ 87776.9             │ 20000.0               │ 10.2379              │ 116635            │ 1201             │ 417                │\n",
       "│ 23  │ 2019         │ 2             │ ats    │ any    │ 6.0            │ 6.0297       │ 9           │ 86218.0             │ 15000.0               │ 1.69806              │ 19695             │ 234              │ 146                │\n",
       "│ 24  │ 2019         │ 2             │ ats    │ any    │ 6.0            │ 6.0297       │ 10          │ 1.01703e5           │ 15000.0               │ 2.21285              │ 21758             │ 199              │ 129                │\n",
       "│ 25  │ 2019         │ 2             │ ats    │ any    │ 6.0            │ 6.0297       │ 11          │ 50967.4             │ 10000.0               │ 0.282818             │ 5549              │ 55               │ 42                 │\n",
       "│ 26  │ 2019         │ 2             │ ats    │ any    │ 6.0            │ 6.0297       │ 12          │ 1.29397e5           │ 10000.0               │ 0.082814             │ 640               │ 10               │ 6                  │\n",
       "│ 27  │ 2019         │ 2             │ otc    │ any    │ 6.0            │ 5.85771      │ 0           │ 4.23891e5           │ 30000.0               │ 31.3548              │ 73969             │ 459              │ 220                │\n",
       "│ 28  │ 2019         │ 2             │ otc    │ any    │ 6.0            │ 5.85771      │ 1           │ 5.3102e5            │ 50000.0               │ 0.923974             │ 1740              │ 20               │ 14                 │\n",
       "│ 29  │ 2019         │ 2             │ otc    │ any    │ 6.0            │ 5.85771      │ 2           │ 6.2275e5            │ 50000.0               │ 60.8551              │ 97720             │ 413              │ 190                │\n",
       "│ 30  │ 2019         │ 2             │ otc    │ any    │ 6.0            │ 5.85771      │ 3           │ 6.1364e5            │ 45000.0               │ 104.211              │ 169824            │ 610              │ 290                │\n",
       "│ 31  │ 2019         │ 2             │ otc    │ any    │ 6.0            │ 5.85771      │ 4           │ 5.52508e5           │ 35000.0               │ 84.0215              │ 152073            │ 760              │ 339                │\n",
       "│ 32  │ 2019         │ 2             │ otc    │ any    │ 6.0            │ 5.85771      │ 5           │ 5.57921e5           │ 35000.0               │ 199.621              │ 357795            │ 1557             │ 569                │\n",
       "│ 33  │ 2019         │ 2             │ otc    │ any    │ 6.0            │ 5.85771      │ 6           │ 5.58515e5           │ 35000.0               │ 206.982              │ 370593            │ 1528             │ 538                │\n",
       "│ 34  │ 2019         │ 2             │ otc    │ any    │ 6.0            │ 5.85771      │ 7           │ 5.13107e5           │ 30000.0               │ 208.755              │ 406846            │ 1597             │ 527                │\n",
       "│ 35  │ 2019         │ 2             │ otc    │ any    │ 6.0            │ 5.85771      │ 8           │ 4.83301e5           │ 30000.0               │ 177.619              │ 367512            │ 1229             │ 424                │\n",
       "│ 36  │ 2019         │ 2             │ otc    │ any    │ 6.0            │ 5.85771      │ 9           │ 5.32549e5           │ 39000.0               │ 32.5568              │ 61134             │ 237              │ 149                │\n",
       "│ 37  │ 2019         │ 2             │ otc    │ any    │ 6.0            │ 5.85771      │ 10          │ 5.03782e5           │ 35000.0               │ 35.172               │ 69816             │ 203              │ 132                │\n",
       "│ 38  │ 2019         │ 2             │ otc    │ any    │ 6.0            │ 5.85771      │ 11          │ 3.61947e5           │ 23000.0               │ 6.18531              │ 17089             │ 55               │ 42                 │\n",
       "│ 39  │ 2019         │ 2             │ otc    │ any    │ 6.0            │ 5.85771      │ 12          │ 5.97145e5           │ 75000.0               │ 1.89235              │ 3169              │ 10               │ 6                  │\n",
       "│ 40  │ 2019         │ 2             │ any    │ ig     │ 6.0            │ 5.4463       │ 0           │ 3.42264e5           │ 25000.0               │ 30.4848              │ 89068             │ 395              │ 193                │\n",
       "│ 41  │ 2019         │ 2             │ any    │ ig     │ 6.0            │ 5.4463       │ 1           │ 4.0487e5            │ 35000.0               │ 0.709333             │ 1752              │ 17               │ 11                 │\n",
       "│ 42  │ 2019         │ 2             │ any    │ ig     │ 6.0            │ 5.4463       │ 2           │ 5.18731e5           │ 35000.0               │ 54.0435              │ 104184            │ 351              │ 141                │\n",
       "│ 43  │ 2019         │ 2             │ any    │ ig     │ 6.0            │ 5.4463       │ 3           │ 5.22351e5           │ 35000.0               │ 95.7434              │ 183293            │ 486              │ 186                │\n",
       "│ 44  │ 2019         │ 2             │ any    │ ig     │ 6.0            │ 5.4463       │ 4           │ 4.63171e5           │ 26000.0               │ 74.3602              │ 160546            │ 658              │ 266                │\n",
       "│ 45  │ 2019         │ 2             │ any    │ ig     │ 6.0            │ 5.4463       │ 5           │ 461161.0            │ 25000.0               │ 172.538              │ 374138            │ 1339             │ 412                │\n",
       "⋮\n",
       "│ 69  │ 2019         │ 2             │ otc    │ ig     │ 6.0            │ 5.42601      │ 5           │ 5.55449e5           │ 30000.0               │ 164.262              │ 295728            │ 1339             │ 412                │\n",
       "│ 70  │ 2019         │ 2             │ otc    │ ig     │ 6.0            │ 5.42601      │ 6           │ 5.4021e5            │ 30000.0               │ 154.327              │ 285680            │ 1267             │ 425                │\n",
       "│ 71  │ 2019         │ 2             │ otc    │ ig     │ 6.0            │ 5.42601      │ 7           │ 5.38498e5           │ 30000.0               │ 154.469              │ 286851            │ 1237             │ 371                │\n",
       "│ 72  │ 2019         │ 2             │ otc    │ ig     │ 6.0            │ 5.42601      │ 8           │ 5.23824e5           │ 30000.0               │ 128.23               │ 244796            │ 935              │ 283                │\n",
       "│ 73  │ 2019         │ 2             │ otc    │ ig     │ 6.0            │ 5.42601      │ 9           │ 5.28542e5           │ 35000.0               │ 9.7664               │ 18478             │ 82               │ 43                 │\n",
       "│ 74  │ 2019         │ 2             │ otc    │ ig     │ 6.0            │ 5.42601      │ 10          │ 5.65771e5           │ 40000.0               │ 1.92306              │ 3399              │ 17               │ 8                  │\n",
       "│ 75  │ 2019         │ 2             │ otc    │ ig     │ 6.0            │ 5.42601      │ 11          │ 3.10574e5           │ 39500.0               │ 0.118018             │ 380               │ 5                │ 4                  │\n",
       "│ 76  │ 2019         │ 2             │ any    │ hy     │ 7.0            │ 7.07077      │ 0           │ 4.78545e5           │ 35000.0               │ 2.76073              │ 5769              │ 66               │ 34                 │\n",
       "│ 77  │ 2019         │ 2             │ any    │ hy     │ 7.0            │ 7.07077      │ 1           │ 6.61571e5           │ 89500.0               │ 0.269921             │ 408               │ 3                │ 3                  │\n",
       "│ 78  │ 2019         │ 2             │ any    │ hy     │ 7.0            │ 7.07077      │ 2           │ 5.58283e5           │ 40000.0               │ 9.25131              │ 16571             │ 72               │ 57                 │\n",
       "│ 79  │ 2019         │ 2             │ any    │ hy     │ 7.0            │ 7.07077      │ 3           │ 7.41315e5           │ 49000.0               │ 21.0578              │ 28406             │ 127              │ 111                │\n",
       "│ 80  │ 2019         │ 2             │ any    │ hy     │ 7.0            │ 7.07077      │ 4           │ 440055.0            │ 34000.0               │ 13.507               │ 30694             │ 106              │ 86                 │\n",
       "│ 81  │ 2019         │ 2             │ any    │ hy     │ 7.0            │ 7.07077      │ 5           │ 5.06458e5           │ 40000.0               │ 39.0479              │ 77100             │ 226              │ 168                │\n",
       "│ 82  │ 2019         │ 2             │ any    │ hy     │ 7.0            │ 7.07077      │ 6           │ 5.34223e5           │ 40000.0               │ 57.5123              │ 107656            │ 276              │ 130                │\n",
       "│ 83  │ 2019         │ 2             │ any    │ hy     │ 7.0            │ 7.07077      │ 7           │ 3.5441e5            │ 25000.0               │ 57.7627              │ 162983            │ 371              │ 174                │\n",
       "│ 84  │ 2019         │ 2             │ any    │ hy     │ 7.0            │ 7.07077      │ 8           │ 3.19278e5           │ 25000.0               │ 52.4804              │ 164372            │ 297              │ 151                │\n",
       "│ 85  │ 2019         │ 2             │ any    │ hy     │ 7.0            │ 7.07077      │ 9           │ 4.23894e5           │ 25000.0               │ 24.1107              │ 56879             │ 160              │ 110                │\n",
       "│ 86  │ 2019         │ 2             │ any    │ hy     │ 7.0            │ 7.07077      │ 10          │ 4.057e5             │ 25000.0               │ 35.3632              │ 87166             │ 186              │ 124                │\n",
       "│ 87  │ 2019         │ 2             │ any    │ hy     │ 7.0            │ 7.07077      │ 11          │ 2.8602e5            │ 17000.0               │ 6.33821              │ 22160             │ 52               │ 39                 │\n",
       "│ 88  │ 2019         │ 2             │ any    │ hy     │ 7.0            │ 7.07077      │ 12          │ 5.18553e5           │ 50000.0               │ 1.97517              │ 3809              │ 10               │ 6                  │\n",
       "│ 89  │ 2019         │ 2             │ ats    │ hy     │ 7.0            │ 7.28436      │ 0           │ 1.27275e5           │ 15000.0               │ 0.130839             │ 1028              │ 39               │ 26                 │\n",
       "│ 90  │ 2019         │ 2             │ ats    │ hy     │ 7.0            │ 7.28436      │ 1           │ 361678.0            │ 20000.0               │ 0.021339             │ 59                │ 3                │ 3                  │\n",
       "│ 91  │ 2019         │ 2             │ ats    │ hy     │ 7.0            │ 7.28436      │ 2           │ 93620.4             │ 20000.0               │ 0.285074             │ 3045              │ 60               │ 46                 │\n",
       "│ 92  │ 2019         │ 2             │ ats    │ hy     │ 7.0            │ 7.28436      │ 3           │ 4.08509e5           │ 20000.0               │ 1.50576              │ 3686              │ 96               │ 84                 │\n",
       "│ 93  │ 2019         │ 2             │ ats    │ hy     │ 7.0            │ 7.28436      │ 4           │ 90700.5             │ 15000.0               │ 0.505746             │ 5576              │ 77               │ 60                 │\n",
       "│ 94  │ 2019         │ 2             │ ats    │ hy     │ 7.0            │ 7.28436      │ 5           │ 2.45352e5           │ 20000.0               │ 3.68838              │ 15033             │ 196              │ 141                │\n",
       "│ 95  │ 2019         │ 2             │ ats    │ hy     │ 7.0            │ 7.28436      │ 6           │ 2.13589e5           │ 20000.0               │ 4.85766              │ 22743             │ 270              │ 125                │\n",
       "│ 96  │ 2019         │ 2             │ ats    │ hy     │ 7.0            │ 7.28436      │ 7           │ 80861.6             │ 15000.0               │ 3.47608              │ 42988             │ 359              │ 169                │\n",
       "│ 97  │ 2019         │ 2             │ ats    │ hy     │ 7.0            │ 7.28436      │ 8           │ 74213.6             │ 15000.0               │ 3.09144              │ 41656             │ 291              │ 148                │\n",
       "│ 98  │ 2019         │ 2             │ ats    │ hy     │ 7.0            │ 7.28436      │ 9           │ 92824.4             │ 12000.0               │ 1.32024              │ 14223             │ 157              │ 108                │\n",
       "│ 99  │ 2019         │ 2             │ ats    │ hy     │ 7.0            │ 7.28436      │ 10          │ 1.01895e5           │ 14000.0               │ 2.11421              │ 20749             │ 183              │ 121                │\n",
       "│ 100 │ 2019         │ 2             │ ats    │ hy     │ 7.0            │ 7.28436      │ 11          │ 49700.8             │ 10000.0               │ 0.270919             │ 5451              │ 52               │ 39                 │\n",
       "│ 101 │ 2019         │ 2             │ ats    │ hy     │ 7.0            │ 7.28436      │ 12          │ 1.29397e5           │ 10000.0               │ 0.082814             │ 640               │ 10               │ 6                  │\n",
       "│ 102 │ 2019         │ 2             │ otc    │ hy     │ 7.0            │ 7.00642      │ 0           │ 5.54712e5           │ 50000.0               │ 2.62989              │ 4741              │ 66               │ 34                 │\n",
       "│ 103 │ 2019         │ 2             │ otc    │ hy     │ 7.0            │ 7.00642      │ 1           │ 7.12269e5           │ 100000.0              │ 0.248582             │ 349               │ 3                │ 3                  │\n",
       "│ 104 │ 2019         │ 2             │ otc    │ hy     │ 7.0            │ 7.00642      │ 2           │ 6.62889e5           │ 50000.0               │ 8.96624              │ 13526             │ 72               │ 57                 │\n",
       "│ 105 │ 2019         │ 2             │ otc    │ hy     │ 7.0            │ 7.00642      │ 3           │ 7.90939e5           │ 50000.0               │ 19.552               │ 24720             │ 127              │ 111                │\n",
       "│ 106 │ 2019         │ 2             │ otc    │ hy     │ 7.0            │ 7.00642      │ 4           │ 517609.0            │ 50000.0               │ 13.0013              │ 25118             │ 106              │ 86                 │\n",
       "│ 107 │ 2019         │ 2             │ otc    │ hy     │ 7.0            │ 7.00642      │ 5           │ 5.69699e5           │ 50000.0               │ 35.3595              │ 62067             │ 226              │ 168                │\n",
       "│ 108 │ 2019         │ 2             │ otc    │ hy     │ 7.0            │ 7.00642      │ 6           │ 6.20101e5           │ 50000.0               │ 52.6546              │ 84913             │ 276              │ 130                │\n",
       "│ 109 │ 2019         │ 2             │ otc    │ hy     │ 7.0            │ 7.00642      │ 7           │ 4.52408e5           │ 30000.0               │ 54.2866              │ 119995            │ 371              │ 174                │\n",
       "│ 110 │ 2019         │ 2             │ otc    │ hy     │ 7.0            │ 7.00642      │ 8           │ 4.02466e5           │ 30000.0               │ 49.389               │ 122716            │ 297              │ 151                │\n",
       "│ 111 │ 2019         │ 2             │ otc    │ hy     │ 7.0            │ 7.00642      │ 9           │ 5.34284e5           │ 40000.0               │ 22.7904              │ 42656             │ 160              │ 110                │\n",
       "│ 112 │ 2019         │ 2             │ otc    │ hy     │ 7.0            │ 7.00642      │ 10          │ 5.0061e5            │ 35000.0               │ 33.249               │ 66417             │ 186              │ 124                │\n",
       "│ 113 │ 2019         │ 2             │ otc    │ hy     │ 7.0            │ 7.00642      │ 11          │ 3.63115e5           │ 23000.0               │ 6.06729              │ 16709             │ 52               │ 39                 │\n",
       "│ 114 │ 2019         │ 2             │ otc    │ hy     │ 7.0            │ 7.00642      │ 12          │ 5.97145e5           │ 75000.0               │ 1.89235              │ 3169              │ 10               │ 6                  │"
      ]
     },
     "execution_count": 228,
     "metadata": {},
     "output_type": "execute_result"
    }
   ],
   "source": [
    "# TRACE\n",
    "yr = 2019\n",
    "qtr = 2\n",
    "\n",
    "# Merge TRACE and MERGENT\n",
    "empty!(ARGS)\n",
    "push!(ARGS, string(yr), string(qtr))\n",
    "@time include(string(script_path, \"/merge_trace_mergent.jl\"))\n",
    "\n",
    "dto = DataMod.data_obj_constructor()\n",
    "\n",
    "# Generate Trade Execution Quarter variable:\n",
    "if !(:trd_exctn_qtr in Symbol.(names(fdf)))\n",
    "    fdf[!, :trd_exctn_qtr] .= Int64.(ceil.(fdf[!, :trd_exctn_mo]/3))\n",
    "end\n",
    "\n",
    "# Groupby Date Variables:\n",
    "date_cols = [:trd_exctn_yr, :trd_exctn_qtr]\n",
    "# Form combinations of ATS, IG and COVENANT filters\n",
    "combdf =  StatsMod.get_filter_combinations()\n",
    "# Select cols and create smk indicator variable:\n",
    "ffdf = StatsMod.filter_selected(fdf; date_cols=date_cols)\n",
    "\n",
    "# STATS BY COVENANT CATEGORIES #######################################\n",
    "dfl_qtr = @time fetch(Distributed.@spawn [StatsMod.stats_generator(ffdf,\n",
    "                                       StatsMod.dfrow2dict(combdf, row);\n",
    "                                       groupby_date_cols=date_cols)\n",
    "                          for row in 1:size(combdf, 1)])\n",
    "dfa_qtr = sort(vcat(dfl_qtr...), names(combdf))\n",
    "dfa_qtr = StatsMod.gen_sbm_rt_cvt_cat_vars(dfa_qtr)\n",
    "StatsMod.save_stats_data(dto, dfa_qtr)\n",
    "\n"
   ]
  },
  {
   "cell_type": "code",
   "execution_count": null,
   "metadata": {},
   "outputs": [],
   "source": []
  },
  {
   "cell_type": "code",
   "execution_count": 249,
   "metadata": {},
   "outputs": [
    {
     "name": "stderr",
     "output_type": "stream",
     "text": [
      "Worker 5 terminated.\n"
     ]
    },
    {
     "ename": "LoadError",
     "evalue": "On worker 9:\nArgumentError: column name :bond_ats_otc not found in the data frame\nlookupname at /home/artur/.julia/packages/DataFrames/GtZ1l/src/other/index.jl:286 [inlined]\ngetindex at /home/artur/.julia/packages/DataFrames/GtZ1l/src/other/index.jl:295 [inlined]\ngetindex at /home/artur/.julia/packages/DataFrames/GtZ1l/src/dataframe/dataframe.jl:421\nget_filter_cond at /home/artur/BondPricing/bond-data/module/stats_module.jl:304\n#stats_generator#128 at /home/artur/BondPricing/bond-data/module/stats_module.jl:485\n#626 at ./none:0\niterate at ./generator.jl:47 [inlined]\ncollect_to! at ./array.jl:732\ncollect_to_with_first! at ./array.jl:710\ncollect at ./array.jl:691\n#625 at /buildworker/worker/package_linux64/build/usr/share/julia/stdlib/v1.5/Distributed/src/macros.jl:47\n#103 at /buildworker/worker/package_linux64/build/usr/share/julia/stdlib/v1.5/Distributed/src/process_messages.jl:290\nrun_work_thunk at /buildworker/worker/package_linux64/build/usr/share/julia/stdlib/v1.5/Distributed/src/process_messages.jl:79\nrun_work_thunk at /buildworker/worker/package_linux64/build/usr/share/julia/stdlib/v1.5/Distributed/src/process_messages.jl:88\n#96 at ./task.jl:356",
     "output_type": "error",
     "traceback": [
      "On worker 9:\nArgumentError: column name :bond_ats_otc not found in the data frame\nlookupname at /home/artur/.julia/packages/DataFrames/GtZ1l/src/other/index.jl:286 [inlined]\ngetindex at /home/artur/.julia/packages/DataFrames/GtZ1l/src/other/index.jl:295 [inlined]\ngetindex at /home/artur/.julia/packages/DataFrames/GtZ1l/src/dataframe/dataframe.jl:421\nget_filter_cond at /home/artur/BondPricing/bond-data/module/stats_module.jl:304\n#stats_generator#128 at /home/artur/BondPricing/bond-data/module/stats_module.jl:485\n#626 at ./none:0\niterate at ./generator.jl:47 [inlined]\ncollect_to! at ./array.jl:732\ncollect_to_with_first! at ./array.jl:710\ncollect at ./array.jl:691\n#625 at /buildworker/worker/package_linux64/build/usr/share/julia/stdlib/v1.5/Distributed/src/macros.jl:47\n#103 at /buildworker/worker/package_linux64/build/usr/share/julia/stdlib/v1.5/Distributed/src/process_messages.jl:290\nrun_work_thunk at /buildworker/worker/package_linux64/build/usr/share/julia/stdlib/v1.5/Distributed/src/process_messages.jl:79\nrun_work_thunk at /buildworker/worker/package_linux64/build/usr/share/julia/stdlib/v1.5/Distributed/src/process_messages.jl:88\n#96 at ./task.jl:356",
      "",
      "Stacktrace:",
      " [1] #remotecall_fetch#143 at /buildworker/worker/package_linux64/build/usr/share/julia/stdlib/v1.5/Distributed/src/remotecall.jl:394 [inlined]",
      " [2] remotecall_fetch(::Function, ::Distributed.Worker, ::Distributed.RRID) at /buildworker/worker/package_linux64/build/usr/share/julia/stdlib/v1.5/Distributed/src/remotecall.jl:386",
      " [3] #remotecall_fetch#146 at /buildworker/worker/package_linux64/build/usr/share/julia/stdlib/v1.5/Distributed/src/remotecall.jl:421 [inlined]",
      " [4] remotecall_fetch at /buildworker/worker/package_linux64/build/usr/share/julia/stdlib/v1.5/Distributed/src/remotecall.jl:421 [inlined]",
      " [5] call_on_owner at /buildworker/worker/package_linux64/build/usr/share/julia/stdlib/v1.5/Distributed/src/remotecall.jl:494 [inlined]",
      " [6] fetch(::Future) at /buildworker/worker/package_linux64/build/usr/share/julia/stdlib/v1.5/Distributed/src/remotecall.jl:533",
      " [7] top-level scope at timing.jl:174",
      " [8] include_string(::Function, ::Module, ::String, ::String) at ./loading.jl:1091",
      " [9] execute_code(::String, ::String) at /home/artur/.julia/packages/IJulia/rWZ9e/src/execute_request.jl:27",
      " [10] execute_request(::ZMQ.Socket, ::IJulia.Msg) at /home/artur/.julia/packages/IJulia/rWZ9e/src/execute_request.jl:86",
      " [11] #invokelatest#1 at ./essentials.jl:710 [inlined]",
      " [12] invokelatest at ./essentials.jl:709 [inlined]",
      " [13] eventloop(::ZMQ.Socket) at /home/artur/.julia/packages/IJulia/rWZ9e/src/eventloop.jl:8",
      " [14] (::IJulia.var\"#15#18\")() at ./task.jl:356"
     ]
    }
   ],
   "source": [
    "# Generate Trade Execution Quarter variable:\n",
    "if !(:trd_exctn_qtr in Symbol.(names(fdf)))\n",
    "    ffdf[!, :trd_exctn_qtr] .= Int64.(ceil.(ffdf[!, :trd_exctn_mo]/3))\n",
    "end\n",
    "\n",
    "date_cols = [:trd_exctn_yr, :trd_exctn_qtr]\n",
    "\n",
    "# STATS BY COVENANT CATEGORIES #######################################\n",
    "dfl_qtr = @time fetch(Distributed.@spawn [StatsMod.stats_generator(ffdf,\n",
    "                                       StatsMod.dfrow2dict(combdf, row);\n",
    "                                       groupby_date_cols=date_cols)\n",
    "                          for row in 1:5])# :size(combdf, 1)])\n",
    "dfa_qtr = sort(vcat(dfl_qtr...), names(combdf))\n",
    "dfa_qtr2 = StatsMod.gen_sbm_rt_cvt_cat_vars(dfa_qtr)\n",
    "StatsMod.save_stats_data(dto, dfa_qtr2)"
   ]
  },
  {
   "cell_type": "code",
   "execution_count": 240,
   "metadata": {},
   "outputs": [
    {
     "data": {
      "text/html": [
       "<table class=\"data-frame\"><thead><tr><th></th><th>trd_exctn_yr</th><th>trd_exctn_qtr</th><th>otc</th><th>hy</th><th>ig</th><th>ats</th><th>cov</th><th>ncov</th><th>total_trd_count</th><th>total_bonds</th><th>total_issuers</th><th>qt25_trd_vol</th><th>mean_trd_vol</th><th>median_trd_vol</th><th>qt75_trd_vol</th><th>total_trd_vol_tr</th><th>cg1_mean_trd_vol</th><th>cg2_mean_trd_vol</th><th>cg3_mean_trd_vol</th><th>cg4_mean_trd_vol</th><th>cg5_mean_trd_vol</th><th>cg6_mean_trd_vol</th><th>cg7_mean_trd_vol</th><th>cg8_mean_trd_vol</th><th>cg9_mean_trd_vol</th><th>cg10_mean_trd_vol</th><th>cg11_mean_trd_vol</th><th>cg12_mean_trd_vol</th><th>cg13_mean_trd_vol</th><th>cg14_mean_trd_vol</th><th>cg15_mean_trd_vol</th><th>cg1_median_trd_vol</th><th>cg2_median_trd_vol</th><th>cg3_median_trd_vol</th><th>cg4_median_trd_vol</th><th>cg5_median_trd_vol</th><th>cg6_median_trd_vol</th><th>cg7_median_trd_vol</th><th>cg8_median_trd_vol</th><th>cg9_median_trd_vol</th><th>cg10_median_trd_vol</th><th>cg11_median_trd_vol</th><th>cg12_median_trd_vol</th><th>cg13_median_trd_vol</th><th>cg14_median_trd_vol</th><th>cg15_median_trd_vol</th><th>cg1_trd_vol_tr</th><th>cg2_trd_vol_tr</th><th>cg3_trd_vol_tr</th><th>cg4_trd_vol_tr</th><th>cg5_trd_vol_tr</th><th>cg6_trd_vol_tr</th><th>cg7_trd_vol_tr</th><th>cg8_trd_vol_tr</th><th>cg9_trd_vol_tr</th><th>cg10_trd_vol_tr</th><th>cg11_trd_vol_tr</th><th>cg12_trd_vol_tr</th><th>cg13_trd_vol_tr</th><th>cg14_trd_vol_tr</th></tr><tr><th></th><th>Int64</th><th>Int64</th><th>Int64</th><th>Int64</th><th>Int64</th><th>Int64</th><th>Int64</th><th>Int64</th><th>Int64</th><th>Int64</th><th>Int64</th><th>Float64</th><th>Float64</th><th>Float64</th><th>Float64</th><th>Float64</th><th>Float64</th><th>Float64</th><th>Float64</th><th>Float64</th><th>Float64</th><th>Float64</th><th>Float64</th><th>Float64</th><th>Float64</th><th>Float64</th><th>Float64</th><th>Float64</th><th>Float64</th><th>Float64</th><th>Float64</th><th>Float64</th><th>Float64</th><th>Float64</th><th>Float64</th><th>Float64</th><th>Float64</th><th>Float64</th><th>Float64</th><th>Float64</th><th>Float64</th><th>Float64</th><th>Float64</th><th>Float64</th><th>Float64</th><th>Float64</th><th>Float64</th><th>Float64</th><th>Float64</th><th>Float64</th><th>Float64</th><th>Float64</th><th>Float64</th><th>Float64</th><th>Float64</th><th>Float64</th><th>Float64</th><th>Float64</th><th>Float64</th><th>Float64</th></tr></thead><tbody><p>1 rows × 109 columns (omitted printing of 49 columns)</p><tr><th>1</th><td>2019</td><td>2</td><td>0</td><td>0</td><td>0</td><td>0</td><td>0</td><td>0</td><td>3475580</td><td>19552</td><td>2269</td><td>10000.0</td><td>432484.0</td><td>25000.0</td><td>130000.0</td><td>1503.13</td><td>22508.7</td><td>2.71653e5</td><td>1614.6</td><td>6419.6</td><td>242.879</td><td>2.13689e5</td><td>343282.0</td><td>1.42794e5</td><td>13726.3</td><td>4148.6</td><td>2.91945e5</td><td>1.47597e5</td><td>2.72294e5</td><td>26237.7</td><td>2.69743e5</td><td>0.0</td><td>10000.0</td><td>0.0</td><td>0.0</td><td>0.0</td><td>0.0</td><td>15000.0</td><td>0.0</td><td>0.0</td><td>0.0</td><td>10000.0</td><td>0.0</td><td>8000.0</td><td>0.0</td><td>7000.0</td><td>78.2308</td><td>944.15</td><td>5.61167</td><td>22.3118</td><td>0.844147</td><td>742.694</td><td>1193.1</td><td>496.291</td><td>47.7069</td><td>14.4188</td><td>1014.68</td><td>512.984</td><td>946.379</td><td>91.1911</td></tr></tbody></table>"
      ],
      "text/latex": [
       "\\begin{tabular}{r|ccccccccccccccccccccccccccccccccccccccccccccccccccccccccccccc}\n",
       "\t& trd\\_exctn\\_yr & trd\\_exctn\\_qtr & otc & hy & ig & ats & cov & ncov & total\\_trd\\_count & total\\_bonds & total\\_issuers & qt25\\_trd\\_vol & mean\\_trd\\_vol & median\\_trd\\_vol & qt75\\_trd\\_vol & total\\_trd\\_vol\\_tr & cg1\\_mean\\_trd\\_vol & cg2\\_mean\\_trd\\_vol & cg3\\_mean\\_trd\\_vol & cg4\\_mean\\_trd\\_vol & cg5\\_mean\\_trd\\_vol & cg6\\_mean\\_trd\\_vol & cg7\\_mean\\_trd\\_vol & cg8\\_mean\\_trd\\_vol & cg9\\_mean\\_trd\\_vol & cg10\\_mean\\_trd\\_vol & cg11\\_mean\\_trd\\_vol & cg12\\_mean\\_trd\\_vol & cg13\\_mean\\_trd\\_vol & cg14\\_mean\\_trd\\_vol & cg15\\_mean\\_trd\\_vol & cg1\\_median\\_trd\\_vol & cg2\\_median\\_trd\\_vol & cg3\\_median\\_trd\\_vol & cg4\\_median\\_trd\\_vol & cg5\\_median\\_trd\\_vol & cg6\\_median\\_trd\\_vol & cg7\\_median\\_trd\\_vol & cg8\\_median\\_trd\\_vol & cg9\\_median\\_trd\\_vol & cg10\\_median\\_trd\\_vol & cg11\\_median\\_trd\\_vol & cg12\\_median\\_trd\\_vol & cg13\\_median\\_trd\\_vol & cg14\\_median\\_trd\\_vol & cg15\\_median\\_trd\\_vol & cg1\\_trd\\_vol\\_tr & cg2\\_trd\\_vol\\_tr & cg3\\_trd\\_vol\\_tr & cg4\\_trd\\_vol\\_tr & cg5\\_trd\\_vol\\_tr & cg6\\_trd\\_vol\\_tr & cg7\\_trd\\_vol\\_tr & cg8\\_trd\\_vol\\_tr & cg9\\_trd\\_vol\\_tr & cg10\\_trd\\_vol\\_tr & cg11\\_trd\\_vol\\_tr & cg12\\_trd\\_vol\\_tr & cg13\\_trd\\_vol\\_tr & cg14\\_trd\\_vol\\_tr & \\\\\n",
       "\t\\hline\n",
       "\t& Int64 & Int64 & Int64 & Int64 & Int64 & Int64 & Int64 & Int64 & Int64 & Int64 & Int64 & Float64 & Float64 & Float64 & Float64 & Float64 & Float64 & Float64 & Float64 & Float64 & Float64 & Float64 & Float64 & Float64 & Float64 & Float64 & Float64 & Float64 & Float64 & Float64 & Float64 & Float64 & Float64 & Float64 & Float64 & Float64 & Float64 & Float64 & Float64 & Float64 & Float64 & Float64 & Float64 & Float64 & Float64 & Float64 & Float64 & Float64 & Float64 & Float64 & Float64 & Float64 & Float64 & Float64 & Float64 & Float64 & Float64 & Float64 & Float64 & Float64 & \\\\\n",
       "\t\\hline\n",
       "\t1 & 2019 & 2 & 0 & 0 & 0 & 0 & 0 & 0 & 3475580 & 19552 & 2269 & 10000.0 & 432484.0 & 25000.0 & 130000.0 & 1503.13 & 22508.7 & 2.71653e5 & 1614.6 & 6419.6 & 242.879 & 2.13689e5 & 343282.0 & 1.42794e5 & 13726.3 & 4148.6 & 2.91945e5 & 1.47597e5 & 2.72294e5 & 26237.7 & 2.69743e5 & 0.0 & 10000.0 & 0.0 & 0.0 & 0.0 & 0.0 & 15000.0 & 0.0 & 0.0 & 0.0 & 10000.0 & 0.0 & 8000.0 & 0.0 & 7000.0 & 78.2308 & 944.15 & 5.61167 & 22.3118 & 0.844147 & 742.694 & 1193.1 & 496.291 & 47.7069 & 14.4188 & 1014.68 & 512.984 & 946.379 & 91.1911 & $\\dots$ \\\\\n",
       "\\end{tabular}\n"
      ],
      "text/plain": [
       "1×109 DataFrame. Omitted printing of 53 columns\n",
       "│ Row │ trd_exctn_yr │ trd_exctn_qtr │ otc   │ hy    │ ig    │ ats   │ cov   │ ncov  │ total_trd_count │ total_bonds │ total_issuers │ qt25_trd_vol │ mean_trd_vol │ median_trd_vol │ qt75_trd_vol │ total_trd_vol_tr │ cg1_mean_trd_vol │ cg2_mean_trd_vol │ cg3_mean_trd_vol │ cg4_mean_trd_vol │ cg5_mean_trd_vol │ cg6_mean_trd_vol │ cg7_mean_trd_vol │ cg8_mean_trd_vol │ cg9_mean_trd_vol │ cg10_mean_trd_vol │ cg11_mean_trd_vol │ cg12_mean_trd_vol │ cg13_mean_trd_vol │ cg14_mean_trd_vol │ cg15_mean_trd_vol │ cg1_median_trd_vol │ cg2_median_trd_vol │ cg3_median_trd_vol │ cg4_median_trd_vol │ cg5_median_trd_vol │ cg6_median_trd_vol │ cg7_median_trd_vol │ cg8_median_trd_vol │ cg9_median_trd_vol │ cg10_median_trd_vol │ cg11_median_trd_vol │ cg12_median_trd_vol │ cg13_median_trd_vol │ cg14_median_trd_vol │ cg15_median_trd_vol │ cg1_trd_vol_tr │ cg2_trd_vol_tr │ cg3_trd_vol_tr │ cg4_trd_vol_tr │ cg5_trd_vol_tr │ cg6_trd_vol_tr │ cg7_trd_vol_tr │ cg8_trd_vol_tr │ cg9_trd_vol_tr │ cg10_trd_vol_tr │\n",
       "│     │ \u001b[90mInt64\u001b[39m        │ \u001b[90mInt64\u001b[39m         │ \u001b[90mInt64\u001b[39m │ \u001b[90mInt64\u001b[39m │ \u001b[90mInt64\u001b[39m │ \u001b[90mInt64\u001b[39m │ \u001b[90mInt64\u001b[39m │ \u001b[90mInt64\u001b[39m │ \u001b[90mInt64\u001b[39m           │ \u001b[90mInt64\u001b[39m       │ \u001b[90mInt64\u001b[39m         │ \u001b[90mFloat64\u001b[39m      │ \u001b[90mFloat64\u001b[39m      │ \u001b[90mFloat64\u001b[39m        │ \u001b[90mFloat64\u001b[39m      │ \u001b[90mFloat64\u001b[39m          │ \u001b[90mFloat64\u001b[39m          │ \u001b[90mFloat64\u001b[39m          │ \u001b[90mFloat64\u001b[39m          │ \u001b[90mFloat64\u001b[39m          │ \u001b[90mFloat64\u001b[39m          │ \u001b[90mFloat64\u001b[39m          │ \u001b[90mFloat64\u001b[39m          │ \u001b[90mFloat64\u001b[39m          │ \u001b[90mFloat64\u001b[39m          │ \u001b[90mFloat64\u001b[39m           │ \u001b[90mFloat64\u001b[39m           │ \u001b[90mFloat64\u001b[39m           │ \u001b[90mFloat64\u001b[39m           │ \u001b[90mFloat64\u001b[39m           │ \u001b[90mFloat64\u001b[39m           │ \u001b[90mFloat64\u001b[39m            │ \u001b[90mFloat64\u001b[39m            │ \u001b[90mFloat64\u001b[39m            │ \u001b[90mFloat64\u001b[39m            │ \u001b[90mFloat64\u001b[39m            │ \u001b[90mFloat64\u001b[39m            │ \u001b[90mFloat64\u001b[39m            │ \u001b[90mFloat64\u001b[39m            │ \u001b[90mFloat64\u001b[39m            │ \u001b[90mFloat64\u001b[39m             │ \u001b[90mFloat64\u001b[39m             │ \u001b[90mFloat64\u001b[39m             │ \u001b[90mFloat64\u001b[39m             │ \u001b[90mFloat64\u001b[39m             │ \u001b[90mFloat64\u001b[39m             │ \u001b[90mFloat64\u001b[39m        │ \u001b[90mFloat64\u001b[39m        │ \u001b[90mFloat64\u001b[39m        │ \u001b[90mFloat64\u001b[39m        │ \u001b[90mFloat64\u001b[39m        │ \u001b[90mFloat64\u001b[39m        │ \u001b[90mFloat64\u001b[39m        │ \u001b[90mFloat64\u001b[39m        │ \u001b[90mFloat64\u001b[39m        │ \u001b[90mFloat64\u001b[39m         │\n",
       "├─────┼──────────────┼───────────────┼───────┼───────┼───────┼───────┼───────┼───────┼─────────────────┼─────────────┼───────────────┼──────────────┼──────────────┼────────────────┼──────────────┼──────────────────┼──────────────────┼──────────────────┼──────────────────┼──────────────────┼──────────────────┼──────────────────┼──────────────────┼──────────────────┼──────────────────┼───────────────────┼───────────────────┼───────────────────┼───────────────────┼───────────────────┼───────────────────┼────────────────────┼────────────────────┼────────────────────┼────────────────────┼────────────────────┼────────────────────┼────────────────────┼────────────────────┼────────────────────┼─────────────────────┼─────────────────────┼─────────────────────┼─────────────────────┼─────────────────────┼─────────────────────┼────────────────┼────────────────┼────────────────┼────────────────┼────────────────┼────────────────┼────────────────┼────────────────┼────────────────┼─────────────────┤\n",
       "│ 1   │ 2019         │ 2             │ 0     │ 0     │ 0     │ 0     │ 0     │ 0     │ 3475580         │ 19552       │ 2269          │ 10000.0      │ 432484.0     │ 25000.0        │ 130000.0     │ 1503.13          │ 22508.7          │ 2.71653e5        │ 1614.6           │ 6419.6           │ 242.879          │ 2.13689e5        │ 343282.0         │ 1.42794e5        │ 13726.3          │ 4148.6            │ 2.91945e5         │ 1.47597e5         │ 2.72294e5         │ 26237.7           │ 2.69743e5         │ 0.0                │ 10000.0            │ 0.0                │ 0.0                │ 0.0                │ 0.0                │ 15000.0            │ 0.0                │ 0.0                │ 0.0                 │ 10000.0             │ 0.0                 │ 8000.0              │ 0.0                 │ 7000.0              │ 78.2308        │ 944.15         │ 5.61167        │ 22.3118        │ 0.844147       │ 742.694        │ 1193.1         │ 496.291        │ 47.7069        │ 14.4188         │"
      ]
     },
     "execution_count": 240,
     "metadata": {},
     "output_type": "execute_result"
    }
   ],
   "source": [
    "dfa_qtr"
   ]
  },
  {
   "cell_type": "code",
   "execution_count": 250,
   "metadata": {},
   "outputs": [
    {
     "name": "stderr",
     "output_type": "stream",
     "text": [
      "Worker 9 terminated.\n"
     ]
    },
    {
     "name": "stdout",
     "output_type": "stream",
     "text": [
      "748.062549 seconds (81.21 M allocations: 2.280 GiB, 1.10% gc time)\n",
      " \n",
      "Filename: 2019Q2_stats_by_num_cov.csv\n",
      " \n",
      "Saving dataframe to folder: /home/artur/BondPricing/bond-data/data/Stats/2019...\n",
      "Done!\n"
     ]
    }
   ],
   "source": [
    "# Generate Trade Execution Quarter variable:\n",
    "if !(:trd_exctn_qtr in Symbol.(names(fdf)))\n",
    "    ffdf[!, :trd_exctn_qtr] .= Int64.(ceil.(ffdf[!, :trd_exctn_mo]/3))\n",
    "end\n",
    "\n",
    "date_cols = [:trd_exctn_yr, :trd_exctn_qtr]\n",
    "\n",
    "# STATS BY NUMBER OF COVENANTS #######################################\n",
    "ffdf[!, :sum_num_cov] .= sum([ffdf[:, Symbol(:cg, x)] for x in 1:15])\n",
    "dfl = []\n",
    "combdf =  StatsMod.get_filter_combinations()\n",
    "combdf = StatsMod.gen_sbm_rt_cvt_cat_vars(combdf)\n",
    "\n",
    "dfl = @time fetch(Distributed.@spawn [StatsMod.compute_stats_by_num_cov(ffdf, sbm, rt, combdf) for \n",
    "                    sbm in [:any, :ats, :otc], rt in [:any, :ig, :hy]])\n",
    "\n",
    "df = vcat(dfl...)\n",
    "StatsMod.save_stats_data(dto, df)"
   ]
  },
  {
   "cell_type": "code",
   "execution_count": 251,
   "metadata": {},
   "outputs": [
    {
     "data": {
      "text/html": [
       "<table class=\"data-frame\"><thead><tr><th></th><th>trd_exctn_yr</th><th>trd_exctn_qtr</th><th>sbm</th><th>rt</th><th>median_num_cov</th><th>mean_num_cov</th><th>sum_num_cov</th><th>mean_vol_by_num_cov</th><th>median_vol_by_num_cov</th><th>total_vol_by_num_cov</th><th>trades_by_num_cov</th><th>bonds_by_num_cov</th><th>issuers_by_num_cov</th></tr><tr><th></th><th>Int64</th><th>Int64</th><th>Symbol</th><th>Symbol</th><th>Float64</th><th>Float64</th><th>Int64</th><th>Float64</th><th>Float64</th><th>Float64</th><th>Int64</th><th>Int64</th><th>Int64</th></tr></thead><tbody><p>114 rows × 13 columns</p><tr><th>1</th><td>2019</td><td>2</td><td>any</td><td>any</td><td>5.0</td><td>4.68962</td><td>0</td><td>3.86077e5</td><td>25000.0</td><td>310.029</td><td>803023</td><td>11284</td><td>624</td></tr><tr><th>2</th><td>2019</td><td>2</td><td>any</td><td>any</td><td>5.0</td><td>4.68962</td><td>1</td><td>4.53358e5</td><td>40000.0</td><td>0.979254</td><td>2160</td><td>20</td><td>14</td></tr><tr><th>3</th><td>2019</td><td>2</td><td>any</td><td>any</td><td>5.0</td><td>4.68962</td><td>2</td><td>5.24264e5</td><td>35000.0</td><td>63.3725</td><td>120879</td><td>416</td><td>193</td></tr><tr><th>4</th><td>2019</td><td>2</td><td>any</td><td>any</td><td>5.0</td><td>4.68962</td><td>3</td><td>5.50453e5</td><td>36000.0</td><td>119.016</td><td>216214</td><td>643</td><td>318</td></tr><tr><th>5</th><td>2019</td><td>2</td><td>any</td><td>any</td><td>5.0</td><td>4.68962</td><td>4</td><td>4.57628e5</td><td>29000.0</td><td>88.2801</td><td>192908</td><td>768</td><td>342</td></tr><tr><th>6</th><td>2019</td><td>2</td><td>any</td><td>any</td><td>5.0</td><td>4.68962</td><td>5</td><td>4.69056e5</td><td>29000.0</td><td>211.749</td><td>451436</td><td>1560</td><td>572</td></tr><tr><th>7</th><td>2019</td><td>2</td><td>any</td><td>any</td><td>5.0</td><td>4.68962</td><td>6</td><td>4.64675e5</td><td>28000.0</td><td>220.754</td><td>475072</td><td>1529</td><td>539</td></tr><tr><th>8</th><td>2019</td><td>2</td><td>any</td><td>any</td><td>5.0</td><td>4.68962</td><td>7</td><td>4.16307e5</td><td>25000.0</td><td>221.014</td><td>530891</td><td>1597</td><td>527</td></tr><tr><th>9</th><td>2019</td><td>2</td><td>any</td><td>any</td><td>5.0</td><td>4.68962</td><td>8</td><td>3.88016e5</td><td>25000.0</td><td>187.857</td><td>484147</td><td>1229</td><td>424</td></tr><tr><th>10</th><td>2019</td><td>2</td><td>any</td><td>any</td><td>5.0</td><td>4.68962</td><td>9</td><td>4.23795e5</td><td>25000.0</td><td>34.2549</td><td>80829</td><td>238</td><td>149</td></tr><tr><th>11</th><td>2019</td><td>2</td><td>any</td><td>any</td><td>5.0</td><td>4.68962</td><td>10</td><td>408248.0</td><td>25000.0</td><td>37.3849</td><td>91574</td><td>203</td><td>132</td></tr><tr><th>12</th><td>2019</td><td>2</td><td>any</td><td>any</td><td>5.0</td><td>4.68962</td><td>11</td><td>2.8572e5</td><td>18000.0</td><td>6.46813</td><td>22638</td><td>55</td><td>42</td></tr><tr><th>13</th><td>2019</td><td>2</td><td>any</td><td>any</td><td>5.0</td><td>4.68962</td><td>12</td><td>5.18553e5</td><td>50000.0</td><td>1.97517</td><td>3809</td><td>10</td><td>6</td></tr><tr><th>14</th><td>2019</td><td>2</td><td>ats</td><td>any</td><td>6.0</td><td>4.78984</td><td>0</td><td>80112.1</td><td>20000.0</td><td>14.3209</td><td>178761</td><td>6616</td><td>541</td></tr><tr><th>15</th><td>2019</td><td>2</td><td>ats</td><td>any</td><td>6.0</td><td>4.78984</td><td>1</td><td>131619.0</td><td>24500.0</td><td>0.05528</td><td>420</td><td>17</td><td>12</td></tr><tr><th>16</th><td>2019</td><td>2</td><td>ats</td><td>any</td><td>6.0</td><td>4.78984</td><td>2</td><td>1.05871e5</td><td>20000.0</td><td>2.43991</td><td>23046</td><td>379</td><td>172</td></tr><tr><th>17</th><td>2019</td><td>2</td><td>ats</td><td>any</td><td>6.0</td><td>4.78984</td><td>3</td><td>302995.0</td><td>25000.0</td><td>13.0048</td><td>42921</td><td>584</td><td>277</td></tr><tr><th>18</th><td>2019</td><td>2</td><td>ats</td><td>any</td><td>6.0</td><td>4.78984</td><td>4</td><td>97961.3</td><td>20000.0</td><td>3.85184</td><td>39320</td><td>683</td><td>301</td></tr><tr><th>19</th><td>2019</td><td>2</td><td>ats</td><td>any</td><td>6.0</td><td>4.78984</td><td>5</td><td>128021.0</td><td>20000.0</td><td>11.9655</td><td>93465</td><td>1470</td><td>532</td></tr><tr><th>20</th><td>2019</td><td>2</td><td>ats</td><td>any</td><td>6.0</td><td>4.78984</td><td>6</td><td>1.3152e5</td><td>20000.0</td><td>13.7398</td><td>104469</td><td>1469</td><td>525</td></tr><tr><th>21</th><td>2019</td><td>2</td><td>ats</td><td>any</td><td>6.0</td><td>4.78984</td><td>7</td><td>98823.3</td><td>20000.0</td><td>12.2585</td><td>124045</td><td>1550</td><td>520</td></tr><tr><th>22</th><td>2019</td><td>2</td><td>ats</td><td>any</td><td>6.0</td><td>4.78984</td><td>8</td><td>87776.9</td><td>20000.0</td><td>10.2379</td><td>116635</td><td>1201</td><td>417</td></tr><tr><th>23</th><td>2019</td><td>2</td><td>ats</td><td>any</td><td>6.0</td><td>4.78984</td><td>9</td><td>86218.0</td><td>15000.0</td><td>1.69806</td><td>19695</td><td>234</td><td>146</td></tr><tr><th>24</th><td>2019</td><td>2</td><td>ats</td><td>any</td><td>6.0</td><td>4.78984</td><td>10</td><td>1.01703e5</td><td>15000.0</td><td>2.21285</td><td>21758</td><td>199</td><td>129</td></tr><tr><th>25</th><td>2019</td><td>2</td><td>ats</td><td>any</td><td>6.0</td><td>4.78984</td><td>11</td><td>50967.4</td><td>10000.0</td><td>0.282818</td><td>5549</td><td>55</td><td>42</td></tr><tr><th>26</th><td>2019</td><td>2</td><td>ats</td><td>any</td><td>6.0</td><td>4.78984</td><td>12</td><td>1.29397e5</td><td>10000.0</td><td>0.082814</td><td>640</td><td>10</td><td>6</td></tr><tr><th>27</th><td>2019</td><td>2</td><td>otc</td><td>any</td><td>5.0</td><td>4.66106</td><td>0</td><td>4.73692e5</td><td>25000.0</td><td>295.708</td><td>624262</td><td>11274</td><td>624</td></tr><tr><th>28</th><td>2019</td><td>2</td><td>otc</td><td>any</td><td>5.0</td><td>4.66106</td><td>1</td><td>5.3102e5</td><td>50000.0</td><td>0.923974</td><td>1740</td><td>20</td><td>14</td></tr><tr><th>29</th><td>2019</td><td>2</td><td>otc</td><td>any</td><td>5.0</td><td>4.66106</td><td>2</td><td>6.22822e5</td><td>50000.0</td><td>60.9326</td><td>97833</td><td>416</td><td>193</td></tr><tr><th>30</th><td>2019</td><td>2</td><td>otc</td><td>any</td><td>5.0</td><td>4.66106</td><td>3</td><td>6.11743e5</td><td>45000.0</td><td>106.011</td><td>173293</td><td>643</td><td>318</td></tr><tr><th>31</th><td>2019</td><td>2</td><td>otc</td><td>any</td><td>5.0</td><td>4.66106</td><td>4</td><td>5.49706e5</td><td>35000.0</td><td>84.4282</td><td>153588</td><td>768</td><td>342</td></tr><tr><th>32</th><td>2019</td><td>2</td><td>otc</td><td>any</td><td>5.0</td><td>4.66106</td><td>5</td><td>5.58098e5</td><td>35000.0</td><td>199.783</td><td>357971</td><td>1560</td><td>572</td></tr><tr><th>33</th><td>2019</td><td>2</td><td>otc</td><td>any</td><td>5.0</td><td>4.66106</td><td>6</td><td>5.58588e5</td><td>35000.0</td><td>207.014</td><td>370603</td><td>1529</td><td>539</td></tr><tr><th>34</th><td>2019</td><td>2</td><td>otc</td><td>any</td><td>5.0</td><td>4.66106</td><td>7</td><td>5.13107e5</td><td>30000.0</td><td>208.755</td><td>406846</td><td>1597</td><td>527</td></tr><tr><th>35</th><td>2019</td><td>2</td><td>otc</td><td>any</td><td>5.0</td><td>4.66106</td><td>8</td><td>4.83301e5</td><td>30000.0</td><td>177.619</td><td>367512</td><td>1229</td><td>424</td></tr><tr><th>36</th><td>2019</td><td>2</td><td>otc</td><td>any</td><td>5.0</td><td>4.66106</td><td>9</td><td>5.32549e5</td><td>39000.0</td><td>32.5568</td><td>61134</td><td>237</td><td>149</td></tr><tr><th>37</th><td>2019</td><td>2</td><td>otc</td><td>any</td><td>5.0</td><td>4.66106</td><td>10</td><td>5.03782e5</td><td>35000.0</td><td>35.172</td><td>69816</td><td>203</td><td>132</td></tr><tr><th>38</th><td>2019</td><td>2</td><td>otc</td><td>any</td><td>5.0</td><td>4.66106</td><td>11</td><td>3.61947e5</td><td>23000.0</td><td>6.18531</td><td>17089</td><td>55</td><td>42</td></tr><tr><th>39</th><td>2019</td><td>2</td><td>otc</td><td>any</td><td>5.0</td><td>4.66106</td><td>12</td><td>5.97145e5</td><td>75000.0</td><td>1.89235</td><td>3169</td><td>10</td><td>6</td></tr><tr><th>40</th><td>2019</td><td>2</td><td>any</td><td>ig</td><td>5.0</td><td>4.14459</td><td>0</td><td>3.87959e5</td><td>25000.0</td><td>277.39</td><td>714997</td><td>5878</td><td>475</td></tr><tr><th>41</th><td>2019</td><td>2</td><td>any</td><td>ig</td><td>5.0</td><td>4.14459</td><td>1</td><td>4.0487e5</td><td>35000.0</td><td>0.709333</td><td>1752</td><td>17</td><td>11</td></tr><tr><th>42</th><td>2019</td><td>2</td><td>any</td><td>ig</td><td>5.0</td><td>4.14459</td><td>2</td><td>5.1841e5</td><td>35000.0</td><td>54.0478</td><td>104257</td><td>352</td><td>142</td></tr><tr><th>43</th><td>2019</td><td>2</td><td>any</td><td>ig</td><td>5.0</td><td>4.14459</td><td>3</td><td>5.21887e5</td><td>35000.0</td><td>97.909</td><td>187606</td><td>512</td><td>207</td></tr><tr><th>44</th><td>2019</td><td>2</td><td>any</td><td>ig</td><td>5.0</td><td>4.14459</td><td>4</td><td>4.60678e5</td><td>26000.0</td><td>74.7261</td><td>162209</td><td>665</td><td>268</td></tr><tr><th>45</th><td>2019</td><td>2</td><td>any</td><td>ig</td><td>5.0</td><td>4.14459</td><td>5</td><td>4.61354e5</td><td>25000.0</td><td>172.69</td><td>374311</td><td>1340</td><td>413</td></tr><tr><th>46</th><td>2019</td><td>2</td><td>any</td><td>ig</td><td>5.0</td><td>4.14459</td><td>6</td><td>4.44297e5</td><td>25000.0</td><td>163.242</td><td>367416</td><td>1268</td><td>426</td></tr><tr><th>47</th><td>2019</td><td>2</td><td>any</td><td>ig</td><td>5.0</td><td>4.14459</td><td>7</td><td>4.43728e5</td><td>25000.0</td><td>163.251</td><td>367908</td><td>1237</td><td>371</td></tr><tr><th>48</th><td>2019</td><td>2</td><td>any</td><td>ig</td><td>5.0</td><td>4.14459</td><td>8</td><td>4.23349e5</td><td>25000.0</td><td>135.376</td><td>319775</td><td>935</td><td>283</td></tr><tr><th>49</th><td>2019</td><td>2</td><td>any</td><td>ig</td><td>5.0</td><td>4.14459</td><td>9</td><td>4.23558e5</td><td>25000.0</td><td>10.1442</td><td>23950</td><td>83</td><td>43</td></tr><tr><th>50</th><td>2019</td><td>2</td><td>any</td><td>ig</td><td>5.0</td><td>4.14459</td><td>10</td><td>458642.0</td><td>30000.0</td><td>2.02169</td><td>4408</td><td>17</td><td>8</td></tr><tr><th>51</th><td>2019</td><td>2</td><td>any</td><td>ig</td><td>5.0</td><td>4.14459</td><td>11</td><td>2.71793e5</td><td>30000.0</td><td>0.129917</td><td>478</td><td>5</td><td>4</td></tr><tr><th>52</th><td>2019</td><td>2</td><td>ats</td><td>ig</td><td>5.0</td><td>4.13382</td><td>0</td><td>78250.6</td><td>20000.0</td><td>12.9311</td><td>165252</td><td>5011</td><td>423</td></tr><tr><th>53</th><td>2019</td><td>2</td><td>ats</td><td>ig</td><td>5.0</td><td>4.13382</td><td>1</td><td>94019.4</td><td>25000.0</td><td>0.033941</td><td>361</td><td>14</td><td>9</td></tr><tr><th>54</th><td>2019</td><td>2</td><td>ats</td><td>ig</td><td>5.0</td><td>4.13382</td><td>2</td><td>1.07736e5</td><td>20000.0</td><td>2.15484</td><td>20001</td><td>329</td><td>134</td></tr><tr><th>55</th><td>2019</td><td>2</td><td>ats</td><td>ig</td><td>5.0</td><td>4.13382</td><td>3</td><td>2.93449e5</td><td>25000.0</td><td>11.4982</td><td>39183</td><td>484</td><td>193</td></tr><tr><th>56</th><td>2019</td><td>2</td><td>ats</td><td>ig</td><td>5.0</td><td>4.13382</td><td>4</td><td>99161.1</td><td>20000.0</td><td>3.34609</td><td>33744</td><td>610</td><td>252</td></tr><tr><th>57</th><td>2019</td><td>2</td><td>ats</td><td>ig</td><td>5.0</td><td>4.13382</td><td>5</td><td>105534.0</td><td>20000.0</td><td>8.27682</td><td>78428</td><td>1279</td><td>401</td></tr><tr><th>58</th><td>2019</td><td>2</td><td>ats</td><td>ig</td><td>5.0</td><td>4.13382</td><td>6</td><td>1.08682e5</td><td>20000.0</td><td>8.88215</td><td>81726</td><td>1214</td><td>417</td></tr><tr><th>59</th><td>2019</td><td>2</td><td>ats</td><td>ig</td><td>5.0</td><td>4.13382</td><td>7</td><td>1.08349e5</td><td>20000.0</td><td>8.78245</td><td>81057</td><td>1201</td><td>369</td></tr><tr><th>60</th><td>2019</td><td>2</td><td>ats</td><td>ig</td><td>5.0</td><td>4.13382</td><td>8</td><td>95312.2</td><td>20000.0</td><td>7.14641</td><td>74979</td><td>913</td><td>278</td></tr><tr><th>61</th><td>2019</td><td>2</td><td>ats</td><td>ig</td><td>5.0</td><td>4.13382</td><td>9</td><td>69046.2</td><td>20000.0</td><td>0.377821</td><td>5472</td><td>82</td><td>42</td></tr><tr><th>62</th><td>2019</td><td>2</td><td>ats</td><td>ig</td><td>5.0</td><td>4.13382</td><td>10</td><td>97758.2</td><td>20000.0</td><td>0.098638</td><td>1009</td><td>16</td><td>8</td></tr><tr><th>63</th><td>2019</td><td>2</td><td>ats</td><td>ig</td><td>5.0</td><td>4.13382</td><td>11</td><td>1.21418e5</td><td>25000.0</td><td>0.011899</td><td>98</td><td>5</td><td>4</td></tr><tr><th>64</th><td>2019</td><td>2</td><td>otc</td><td>ig</td><td>5.0</td><td>4.14765</td><td>0</td><td>4.81057e5</td><td>25000.0</td><td>264.458</td><td>549745</td><td>5872</td><td>475</td></tr><tr><th>65</th><td>2019</td><td>2</td><td>otc</td><td>ig</td><td>5.0</td><td>4.14765</td><td>1</td><td>4.85544e5</td><td>40000.0</td><td>0.675392</td><td>1391</td><td>17</td><td>11</td></tr><tr><th>66</th><td>2019</td><td>2</td><td>otc</td><td>ig</td><td>5.0</td><td>4.14765</td><td>2</td><td>6.15897e5</td><td>48000.0</td><td>51.893</td><td>84256</td><td>352</td><td>142</td></tr><tr><th>67</th><td>2019</td><td>2</td><td>otc</td><td>ig</td><td>5.0</td><td>4.14765</td><td>3</td><td>582193.0</td><td>43000.0</td><td>86.4108</td><td>148423</td><td>512</td><td>207</td></tr><tr><th>68</th><td>2019</td><td>2</td><td>otc</td><td>ig</td><td>5.0</td><td>4.14765</td><td>4</td><td>5.55637e5</td><td>34000.0</td><td>71.38</td><td>128465</td><td>665</td><td>268</td></tr><tr><th>69</th><td>2019</td><td>2</td><td>otc</td><td>ig</td><td>5.0</td><td>4.14765</td><td>5</td><td>5.55669e5</td><td>30000.0</td><td>164.413</td><td>295883</td><td>1340</td><td>413</td></tr><tr><th>70</th><td>2019</td><td>2</td><td>otc</td><td>ig</td><td>5.0</td><td>4.14765</td><td>6</td><td>5.40305e5</td><td>30000.0</td><td>154.36</td><td>285690</td><td>1268</td><td>426</td></tr><tr><th>71</th><td>2019</td><td>2</td><td>otc</td><td>ig</td><td>5.0</td><td>4.14765</td><td>7</td><td>5.38498e5</td><td>30000.0</td><td>154.469</td><td>286851</td><td>1237</td><td>371</td></tr><tr><th>72</th><td>2019</td><td>2</td><td>otc</td><td>ig</td><td>5.0</td><td>4.14765</td><td>8</td><td>5.23824e5</td><td>30000.0</td><td>128.23</td><td>244796</td><td>935</td><td>283</td></tr><tr><th>73</th><td>2019</td><td>2</td><td>otc</td><td>ig</td><td>5.0</td><td>4.14765</td><td>9</td><td>5.28542e5</td><td>35000.0</td><td>9.7664</td><td>18478</td><td>82</td><td>43</td></tr><tr><th>74</th><td>2019</td><td>2</td><td>otc</td><td>ig</td><td>5.0</td><td>4.14765</td><td>10</td><td>5.65771e5</td><td>40000.0</td><td>1.92306</td><td>3399</td><td>17</td><td>8</td></tr><tr><th>75</th><td>2019</td><td>2</td><td>otc</td><td>ig</td><td>5.0</td><td>4.14765</td><td>11</td><td>3.10574e5</td><td>39500.0</td><td>0.118018</td><td>380</td><td>5</td><td>4</td></tr><tr><th>76</th><td>2019</td><td>2</td><td>any</td><td>hy</td><td>7.0</td><td>6.38233</td><td>0</td><td>3.70789e5</td><td>25000.0</td><td>32.639</td><td>88026</td><td>5422</td><td>206</td></tr><tr><th>77</th><td>2019</td><td>2</td><td>any</td><td>hy</td><td>7.0</td><td>6.38233</td><td>1</td><td>6.61571e5</td><td>89500.0</td><td>0.269921</td><td>408</td><td>3</td><td>3</td></tr><tr><th>78</th><td>2019</td><td>2</td><td>any</td><td>hy</td><td>7.0</td><td>6.38233</td><td>2</td><td>5.60983e5</td><td>40000.0</td><td>9.32466</td><td>16622</td><td>74</td><td>59</td></tr><tr><th>79</th><td>2019</td><td>2</td><td>any</td><td>hy</td><td>7.0</td><td>6.38233</td><td>3</td><td>7.37788e5</td><td>46000.0</td><td>21.1066</td><td>28608</td><td>134</td><td>118</td></tr><tr><th>80</th><td>2019</td><td>2</td><td>any</td><td>hy</td><td>7.0</td><td>6.38233</td><td>4</td><td>4.41513e5</td><td>34000.0</td><td>13.554</td><td>30699</td><td>107</td><td>87</td></tr><tr><th>81</th><td>2019</td><td>2</td><td>any</td><td>hy</td><td>7.0</td><td>6.38233</td><td>5</td><td>5.06433e5</td><td>40000.0</td><td>39.0586</td><td>77125</td><td>228</td><td>170</td></tr><tr><th>82</th><td>2019</td><td>2</td><td>any</td><td>hy</td><td>7.0</td><td>6.38233</td><td>6</td><td>5.34223e5</td><td>40000.0</td><td>57.5123</td><td>107656</td><td>276</td><td>130</td></tr><tr><th>83</th><td>2019</td><td>2</td><td>any</td><td>hy</td><td>7.0</td><td>6.38233</td><td>7</td><td>3.5441e5</td><td>25000.0</td><td>57.7627</td><td>162983</td><td>371</td><td>174</td></tr><tr><th>84</th><td>2019</td><td>2</td><td>any</td><td>hy</td><td>7.0</td><td>6.38233</td><td>8</td><td>3.19278e5</td><td>25000.0</td><td>52.4804</td><td>164372</td><td>297</td><td>151</td></tr><tr><th>85</th><td>2019</td><td>2</td><td>any</td><td>hy</td><td>7.0</td><td>6.38233</td><td>9</td><td>4.23894e5</td><td>25000.0</td><td>24.1107</td><td>56879</td><td>160</td><td>110</td></tr><tr><th>86</th><td>2019</td><td>2</td><td>any</td><td>hy</td><td>7.0</td><td>6.38233</td><td>10</td><td>4.057e5</td><td>25000.0</td><td>35.3632</td><td>87166</td><td>186</td><td>124</td></tr><tr><th>87</th><td>2019</td><td>2</td><td>any</td><td>hy</td><td>7.0</td><td>6.38233</td><td>11</td><td>2.8602e5</td><td>17000.0</td><td>6.33821</td><td>22160</td><td>52</td><td>39</td></tr><tr><th>88</th><td>2019</td><td>2</td><td>any</td><td>hy</td><td>7.0</td><td>6.38233</td><td>12</td><td>5.18553e5</td><td>50000.0</td><td>1.97517</td><td>3809</td><td>10</td><td>6</td></tr><tr><th>89</th><td>2019</td><td>2</td><td>ats</td><td>hy</td><td>7.0</td><td>6.80315</td><td>0</td><td>1.02883e5</td><td>15000.0</td><td>1.38985</td><td>13509</td><td>1610</td><td>167</td></tr><tr><th>90</th><td>2019</td><td>2</td><td>ats</td><td>hy</td><td>7.0</td><td>6.80315</td><td>1</td><td>361678.0</td><td>20000.0</td><td>0.021339</td><td>59</td><td>3</td><td>3</td></tr><tr><th>91</th><td>2019</td><td>2</td><td>ats</td><td>hy</td><td>7.0</td><td>6.80315</td><td>2</td><td>93620.4</td><td>20000.0</td><td>0.285074</td><td>3045</td><td>60</td><td>46</td></tr><tr><th>92</th><td>2019</td><td>2</td><td>ats</td><td>hy</td><td>7.0</td><td>6.80315</td><td>3</td><td>4.03057e5</td><td>20000.0</td><td>1.50663</td><td>3738</td><td>102</td><td>90</td></tr><tr><th>93</th><td>2019</td><td>2</td><td>ats</td><td>hy</td><td>7.0</td><td>6.80315</td><td>4</td><td>90700.5</td><td>15000.0</td><td>0.505746</td><td>5576</td><td>77</td><td>60</td></tr><tr><th>94</th><td>2019</td><td>2</td><td>ats</td><td>hy</td><td>7.0</td><td>6.80315</td><td>5</td><td>2.45306e5</td><td>20000.0</td><td>3.68866</td><td>15037</td><td>197</td><td>142</td></tr><tr><th>95</th><td>2019</td><td>2</td><td>ats</td><td>hy</td><td>7.0</td><td>6.80315</td><td>6</td><td>2.13589e5</td><td>20000.0</td><td>4.85766</td><td>22743</td><td>270</td><td>125</td></tr><tr><th>96</th><td>2019</td><td>2</td><td>ats</td><td>hy</td><td>7.0</td><td>6.80315</td><td>7</td><td>80861.6</td><td>15000.0</td><td>3.47608</td><td>42988</td><td>359</td><td>169</td></tr><tr><th>97</th><td>2019</td><td>2</td><td>ats</td><td>hy</td><td>7.0</td><td>6.80315</td><td>8</td><td>74213.6</td><td>15000.0</td><td>3.09144</td><td>41656</td><td>291</td><td>148</td></tr><tr><th>98</th><td>2019</td><td>2</td><td>ats</td><td>hy</td><td>7.0</td><td>6.80315</td><td>9</td><td>92824.4</td><td>12000.0</td><td>1.32024</td><td>14223</td><td>157</td><td>108</td></tr><tr><th>99</th><td>2019</td><td>2</td><td>ats</td><td>hy</td><td>7.0</td><td>6.80315</td><td>10</td><td>1.01895e5</td><td>14000.0</td><td>2.11421</td><td>20749</td><td>183</td><td>121</td></tr><tr><th>100</th><td>2019</td><td>2</td><td>ats</td><td>hy</td><td>7.0</td><td>6.80315</td><td>11</td><td>49700.8</td><td>10000.0</td><td>0.270919</td><td>5451</td><td>52</td><td>39</td></tr><tr><th>&vellip;</th><td>&vellip;</td><td>&vellip;</td><td>&vellip;</td><td>&vellip;</td><td>&vellip;</td><td>&vellip;</td><td>&vellip;</td><td>&vellip;</td><td>&vellip;</td><td>&vellip;</td><td>&vellip;</td><td>&vellip;</td><td>&vellip;</td></tr></tbody></table>"
      ],
      "text/latex": [
       "\\begin{tabular}{r|ccccccccccccc}\n",
       "\t& trd\\_exctn\\_yr & trd\\_exctn\\_qtr & sbm & rt & median\\_num\\_cov & mean\\_num\\_cov & sum\\_num\\_cov & mean\\_vol\\_by\\_num\\_cov & median\\_vol\\_by\\_num\\_cov & total\\_vol\\_by\\_num\\_cov & trades\\_by\\_num\\_cov & bonds\\_by\\_num\\_cov & issuers\\_by\\_num\\_cov\\\\\n",
       "\t\\hline\n",
       "\t& Int64 & Int64 & Symbol & Symbol & Float64 & Float64 & Int64 & Float64 & Float64 & Float64 & Int64 & Int64 & Int64\\\\\n",
       "\t\\hline\n",
       "\t1 & 2019 & 2 & any & any & 5.0 & 4.68962 & 0 & 3.86077e5 & 25000.0 & 310.029 & 803023 & 11284 & 624 \\\\\n",
       "\t2 & 2019 & 2 & any & any & 5.0 & 4.68962 & 1 & 4.53358e5 & 40000.0 & 0.979254 & 2160 & 20 & 14 \\\\\n",
       "\t3 & 2019 & 2 & any & any & 5.0 & 4.68962 & 2 & 5.24264e5 & 35000.0 & 63.3725 & 120879 & 416 & 193 \\\\\n",
       "\t4 & 2019 & 2 & any & any & 5.0 & 4.68962 & 3 & 5.50453e5 & 36000.0 & 119.016 & 216214 & 643 & 318 \\\\\n",
       "\t5 & 2019 & 2 & any & any & 5.0 & 4.68962 & 4 & 4.57628e5 & 29000.0 & 88.2801 & 192908 & 768 & 342 \\\\\n",
       "\t6 & 2019 & 2 & any & any & 5.0 & 4.68962 & 5 & 4.69056e5 & 29000.0 & 211.749 & 451436 & 1560 & 572 \\\\\n",
       "\t7 & 2019 & 2 & any & any & 5.0 & 4.68962 & 6 & 4.64675e5 & 28000.0 & 220.754 & 475072 & 1529 & 539 \\\\\n",
       "\t8 & 2019 & 2 & any & any & 5.0 & 4.68962 & 7 & 4.16307e5 & 25000.0 & 221.014 & 530891 & 1597 & 527 \\\\\n",
       "\t9 & 2019 & 2 & any & any & 5.0 & 4.68962 & 8 & 3.88016e5 & 25000.0 & 187.857 & 484147 & 1229 & 424 \\\\\n",
       "\t10 & 2019 & 2 & any & any & 5.0 & 4.68962 & 9 & 4.23795e5 & 25000.0 & 34.2549 & 80829 & 238 & 149 \\\\\n",
       "\t11 & 2019 & 2 & any & any & 5.0 & 4.68962 & 10 & 408248.0 & 25000.0 & 37.3849 & 91574 & 203 & 132 \\\\\n",
       "\t12 & 2019 & 2 & any & any & 5.0 & 4.68962 & 11 & 2.8572e5 & 18000.0 & 6.46813 & 22638 & 55 & 42 \\\\\n",
       "\t13 & 2019 & 2 & any & any & 5.0 & 4.68962 & 12 & 5.18553e5 & 50000.0 & 1.97517 & 3809 & 10 & 6 \\\\\n",
       "\t14 & 2019 & 2 & ats & any & 6.0 & 4.78984 & 0 & 80112.1 & 20000.0 & 14.3209 & 178761 & 6616 & 541 \\\\\n",
       "\t15 & 2019 & 2 & ats & any & 6.0 & 4.78984 & 1 & 131619.0 & 24500.0 & 0.05528 & 420 & 17 & 12 \\\\\n",
       "\t16 & 2019 & 2 & ats & any & 6.0 & 4.78984 & 2 & 1.05871e5 & 20000.0 & 2.43991 & 23046 & 379 & 172 \\\\\n",
       "\t17 & 2019 & 2 & ats & any & 6.0 & 4.78984 & 3 & 302995.0 & 25000.0 & 13.0048 & 42921 & 584 & 277 \\\\\n",
       "\t18 & 2019 & 2 & ats & any & 6.0 & 4.78984 & 4 & 97961.3 & 20000.0 & 3.85184 & 39320 & 683 & 301 \\\\\n",
       "\t19 & 2019 & 2 & ats & any & 6.0 & 4.78984 & 5 & 128021.0 & 20000.0 & 11.9655 & 93465 & 1470 & 532 \\\\\n",
       "\t20 & 2019 & 2 & ats & any & 6.0 & 4.78984 & 6 & 1.3152e5 & 20000.0 & 13.7398 & 104469 & 1469 & 525 \\\\\n",
       "\t21 & 2019 & 2 & ats & any & 6.0 & 4.78984 & 7 & 98823.3 & 20000.0 & 12.2585 & 124045 & 1550 & 520 \\\\\n",
       "\t22 & 2019 & 2 & ats & any & 6.0 & 4.78984 & 8 & 87776.9 & 20000.0 & 10.2379 & 116635 & 1201 & 417 \\\\\n",
       "\t23 & 2019 & 2 & ats & any & 6.0 & 4.78984 & 9 & 86218.0 & 15000.0 & 1.69806 & 19695 & 234 & 146 \\\\\n",
       "\t24 & 2019 & 2 & ats & any & 6.0 & 4.78984 & 10 & 1.01703e5 & 15000.0 & 2.21285 & 21758 & 199 & 129 \\\\\n",
       "\t25 & 2019 & 2 & ats & any & 6.0 & 4.78984 & 11 & 50967.4 & 10000.0 & 0.282818 & 5549 & 55 & 42 \\\\\n",
       "\t26 & 2019 & 2 & ats & any & 6.0 & 4.78984 & 12 & 1.29397e5 & 10000.0 & 0.082814 & 640 & 10 & 6 \\\\\n",
       "\t27 & 2019 & 2 & otc & any & 5.0 & 4.66106 & 0 & 4.73692e5 & 25000.0 & 295.708 & 624262 & 11274 & 624 \\\\\n",
       "\t28 & 2019 & 2 & otc & any & 5.0 & 4.66106 & 1 & 5.3102e5 & 50000.0 & 0.923974 & 1740 & 20 & 14 \\\\\n",
       "\t29 & 2019 & 2 & otc & any & 5.0 & 4.66106 & 2 & 6.22822e5 & 50000.0 & 60.9326 & 97833 & 416 & 193 \\\\\n",
       "\t30 & 2019 & 2 & otc & any & 5.0 & 4.66106 & 3 & 6.11743e5 & 45000.0 & 106.011 & 173293 & 643 & 318 \\\\\n",
       "\t31 & 2019 & 2 & otc & any & 5.0 & 4.66106 & 4 & 5.49706e5 & 35000.0 & 84.4282 & 153588 & 768 & 342 \\\\\n",
       "\t32 & 2019 & 2 & otc & any & 5.0 & 4.66106 & 5 & 5.58098e5 & 35000.0 & 199.783 & 357971 & 1560 & 572 \\\\\n",
       "\t33 & 2019 & 2 & otc & any & 5.0 & 4.66106 & 6 & 5.58588e5 & 35000.0 & 207.014 & 370603 & 1529 & 539 \\\\\n",
       "\t34 & 2019 & 2 & otc & any & 5.0 & 4.66106 & 7 & 5.13107e5 & 30000.0 & 208.755 & 406846 & 1597 & 527 \\\\\n",
       "\t35 & 2019 & 2 & otc & any & 5.0 & 4.66106 & 8 & 4.83301e5 & 30000.0 & 177.619 & 367512 & 1229 & 424 \\\\\n",
       "\t36 & 2019 & 2 & otc & any & 5.0 & 4.66106 & 9 & 5.32549e5 & 39000.0 & 32.5568 & 61134 & 237 & 149 \\\\\n",
       "\t37 & 2019 & 2 & otc & any & 5.0 & 4.66106 & 10 & 5.03782e5 & 35000.0 & 35.172 & 69816 & 203 & 132 \\\\\n",
       "\t38 & 2019 & 2 & otc & any & 5.0 & 4.66106 & 11 & 3.61947e5 & 23000.0 & 6.18531 & 17089 & 55 & 42 \\\\\n",
       "\t39 & 2019 & 2 & otc & any & 5.0 & 4.66106 & 12 & 5.97145e5 & 75000.0 & 1.89235 & 3169 & 10 & 6 \\\\\n",
       "\t40 & 2019 & 2 & any & ig & 5.0 & 4.14459 & 0 & 3.87959e5 & 25000.0 & 277.39 & 714997 & 5878 & 475 \\\\\n",
       "\t41 & 2019 & 2 & any & ig & 5.0 & 4.14459 & 1 & 4.0487e5 & 35000.0 & 0.709333 & 1752 & 17 & 11 \\\\\n",
       "\t42 & 2019 & 2 & any & ig & 5.0 & 4.14459 & 2 & 5.1841e5 & 35000.0 & 54.0478 & 104257 & 352 & 142 \\\\\n",
       "\t43 & 2019 & 2 & any & ig & 5.0 & 4.14459 & 3 & 5.21887e5 & 35000.0 & 97.909 & 187606 & 512 & 207 \\\\\n",
       "\t44 & 2019 & 2 & any & ig & 5.0 & 4.14459 & 4 & 4.60678e5 & 26000.0 & 74.7261 & 162209 & 665 & 268 \\\\\n",
       "\t45 & 2019 & 2 & any & ig & 5.0 & 4.14459 & 5 & 4.61354e5 & 25000.0 & 172.69 & 374311 & 1340 & 413 \\\\\n",
       "\t46 & 2019 & 2 & any & ig & 5.0 & 4.14459 & 6 & 4.44297e5 & 25000.0 & 163.242 & 367416 & 1268 & 426 \\\\\n",
       "\t47 & 2019 & 2 & any & ig & 5.0 & 4.14459 & 7 & 4.43728e5 & 25000.0 & 163.251 & 367908 & 1237 & 371 \\\\\n",
       "\t48 & 2019 & 2 & any & ig & 5.0 & 4.14459 & 8 & 4.23349e5 & 25000.0 & 135.376 & 319775 & 935 & 283 \\\\\n",
       "\t49 & 2019 & 2 & any & ig & 5.0 & 4.14459 & 9 & 4.23558e5 & 25000.0 & 10.1442 & 23950 & 83 & 43 \\\\\n",
       "\t50 & 2019 & 2 & any & ig & 5.0 & 4.14459 & 10 & 458642.0 & 30000.0 & 2.02169 & 4408 & 17 & 8 \\\\\n",
       "\t51 & 2019 & 2 & any & ig & 5.0 & 4.14459 & 11 & 2.71793e5 & 30000.0 & 0.129917 & 478 & 5 & 4 \\\\\n",
       "\t52 & 2019 & 2 & ats & ig & 5.0 & 4.13382 & 0 & 78250.6 & 20000.0 & 12.9311 & 165252 & 5011 & 423 \\\\\n",
       "\t53 & 2019 & 2 & ats & ig & 5.0 & 4.13382 & 1 & 94019.4 & 25000.0 & 0.033941 & 361 & 14 & 9 \\\\\n",
       "\t54 & 2019 & 2 & ats & ig & 5.0 & 4.13382 & 2 & 1.07736e5 & 20000.0 & 2.15484 & 20001 & 329 & 134 \\\\\n",
       "\t55 & 2019 & 2 & ats & ig & 5.0 & 4.13382 & 3 & 2.93449e5 & 25000.0 & 11.4982 & 39183 & 484 & 193 \\\\\n",
       "\t56 & 2019 & 2 & ats & ig & 5.0 & 4.13382 & 4 & 99161.1 & 20000.0 & 3.34609 & 33744 & 610 & 252 \\\\\n",
       "\t57 & 2019 & 2 & ats & ig & 5.0 & 4.13382 & 5 & 105534.0 & 20000.0 & 8.27682 & 78428 & 1279 & 401 \\\\\n",
       "\t58 & 2019 & 2 & ats & ig & 5.0 & 4.13382 & 6 & 1.08682e5 & 20000.0 & 8.88215 & 81726 & 1214 & 417 \\\\\n",
       "\t59 & 2019 & 2 & ats & ig & 5.0 & 4.13382 & 7 & 1.08349e5 & 20000.0 & 8.78245 & 81057 & 1201 & 369 \\\\\n",
       "\t60 & 2019 & 2 & ats & ig & 5.0 & 4.13382 & 8 & 95312.2 & 20000.0 & 7.14641 & 74979 & 913 & 278 \\\\\n",
       "\t61 & 2019 & 2 & ats & ig & 5.0 & 4.13382 & 9 & 69046.2 & 20000.0 & 0.377821 & 5472 & 82 & 42 \\\\\n",
       "\t62 & 2019 & 2 & ats & ig & 5.0 & 4.13382 & 10 & 97758.2 & 20000.0 & 0.098638 & 1009 & 16 & 8 \\\\\n",
       "\t63 & 2019 & 2 & ats & ig & 5.0 & 4.13382 & 11 & 1.21418e5 & 25000.0 & 0.011899 & 98 & 5 & 4 \\\\\n",
       "\t64 & 2019 & 2 & otc & ig & 5.0 & 4.14765 & 0 & 4.81057e5 & 25000.0 & 264.458 & 549745 & 5872 & 475 \\\\\n",
       "\t65 & 2019 & 2 & otc & ig & 5.0 & 4.14765 & 1 & 4.85544e5 & 40000.0 & 0.675392 & 1391 & 17 & 11 \\\\\n",
       "\t66 & 2019 & 2 & otc & ig & 5.0 & 4.14765 & 2 & 6.15897e5 & 48000.0 & 51.893 & 84256 & 352 & 142 \\\\\n",
       "\t67 & 2019 & 2 & otc & ig & 5.0 & 4.14765 & 3 & 582193.0 & 43000.0 & 86.4108 & 148423 & 512 & 207 \\\\\n",
       "\t68 & 2019 & 2 & otc & ig & 5.0 & 4.14765 & 4 & 5.55637e5 & 34000.0 & 71.38 & 128465 & 665 & 268 \\\\\n",
       "\t69 & 2019 & 2 & otc & ig & 5.0 & 4.14765 & 5 & 5.55669e5 & 30000.0 & 164.413 & 295883 & 1340 & 413 \\\\\n",
       "\t70 & 2019 & 2 & otc & ig & 5.0 & 4.14765 & 6 & 5.40305e5 & 30000.0 & 154.36 & 285690 & 1268 & 426 \\\\\n",
       "\t71 & 2019 & 2 & otc & ig & 5.0 & 4.14765 & 7 & 5.38498e5 & 30000.0 & 154.469 & 286851 & 1237 & 371 \\\\\n",
       "\t72 & 2019 & 2 & otc & ig & 5.0 & 4.14765 & 8 & 5.23824e5 & 30000.0 & 128.23 & 244796 & 935 & 283 \\\\\n",
       "\t73 & 2019 & 2 & otc & ig & 5.0 & 4.14765 & 9 & 5.28542e5 & 35000.0 & 9.7664 & 18478 & 82 & 43 \\\\\n",
       "\t74 & 2019 & 2 & otc & ig & 5.0 & 4.14765 & 10 & 5.65771e5 & 40000.0 & 1.92306 & 3399 & 17 & 8 \\\\\n",
       "\t75 & 2019 & 2 & otc & ig & 5.0 & 4.14765 & 11 & 3.10574e5 & 39500.0 & 0.118018 & 380 & 5 & 4 \\\\\n",
       "\t76 & 2019 & 2 & any & hy & 7.0 & 6.38233 & 0 & 3.70789e5 & 25000.0 & 32.639 & 88026 & 5422 & 206 \\\\\n",
       "\t77 & 2019 & 2 & any & hy & 7.0 & 6.38233 & 1 & 6.61571e5 & 89500.0 & 0.269921 & 408 & 3 & 3 \\\\\n",
       "\t78 & 2019 & 2 & any & hy & 7.0 & 6.38233 & 2 & 5.60983e5 & 40000.0 & 9.32466 & 16622 & 74 & 59 \\\\\n",
       "\t79 & 2019 & 2 & any & hy & 7.0 & 6.38233 & 3 & 7.37788e5 & 46000.0 & 21.1066 & 28608 & 134 & 118 \\\\\n",
       "\t80 & 2019 & 2 & any & hy & 7.0 & 6.38233 & 4 & 4.41513e5 & 34000.0 & 13.554 & 30699 & 107 & 87 \\\\\n",
       "\t81 & 2019 & 2 & any & hy & 7.0 & 6.38233 & 5 & 5.06433e5 & 40000.0 & 39.0586 & 77125 & 228 & 170 \\\\\n",
       "\t82 & 2019 & 2 & any & hy & 7.0 & 6.38233 & 6 & 5.34223e5 & 40000.0 & 57.5123 & 107656 & 276 & 130 \\\\\n",
       "\t83 & 2019 & 2 & any & hy & 7.0 & 6.38233 & 7 & 3.5441e5 & 25000.0 & 57.7627 & 162983 & 371 & 174 \\\\\n",
       "\t84 & 2019 & 2 & any & hy & 7.0 & 6.38233 & 8 & 3.19278e5 & 25000.0 & 52.4804 & 164372 & 297 & 151 \\\\\n",
       "\t85 & 2019 & 2 & any & hy & 7.0 & 6.38233 & 9 & 4.23894e5 & 25000.0 & 24.1107 & 56879 & 160 & 110 \\\\\n",
       "\t86 & 2019 & 2 & any & hy & 7.0 & 6.38233 & 10 & 4.057e5 & 25000.0 & 35.3632 & 87166 & 186 & 124 \\\\\n",
       "\t87 & 2019 & 2 & any & hy & 7.0 & 6.38233 & 11 & 2.8602e5 & 17000.0 & 6.33821 & 22160 & 52 & 39 \\\\\n",
       "\t88 & 2019 & 2 & any & hy & 7.0 & 6.38233 & 12 & 5.18553e5 & 50000.0 & 1.97517 & 3809 & 10 & 6 \\\\\n",
       "\t89 & 2019 & 2 & ats & hy & 7.0 & 6.80315 & 0 & 1.02883e5 & 15000.0 & 1.38985 & 13509 & 1610 & 167 \\\\\n",
       "\t90 & 2019 & 2 & ats & hy & 7.0 & 6.80315 & 1 & 361678.0 & 20000.0 & 0.021339 & 59 & 3 & 3 \\\\\n",
       "\t91 & 2019 & 2 & ats & hy & 7.0 & 6.80315 & 2 & 93620.4 & 20000.0 & 0.285074 & 3045 & 60 & 46 \\\\\n",
       "\t92 & 2019 & 2 & ats & hy & 7.0 & 6.80315 & 3 & 4.03057e5 & 20000.0 & 1.50663 & 3738 & 102 & 90 \\\\\n",
       "\t93 & 2019 & 2 & ats & hy & 7.0 & 6.80315 & 4 & 90700.5 & 15000.0 & 0.505746 & 5576 & 77 & 60 \\\\\n",
       "\t94 & 2019 & 2 & ats & hy & 7.0 & 6.80315 & 5 & 2.45306e5 & 20000.0 & 3.68866 & 15037 & 197 & 142 \\\\\n",
       "\t95 & 2019 & 2 & ats & hy & 7.0 & 6.80315 & 6 & 2.13589e5 & 20000.0 & 4.85766 & 22743 & 270 & 125 \\\\\n",
       "\t96 & 2019 & 2 & ats & hy & 7.0 & 6.80315 & 7 & 80861.6 & 15000.0 & 3.47608 & 42988 & 359 & 169 \\\\\n",
       "\t97 & 2019 & 2 & ats & hy & 7.0 & 6.80315 & 8 & 74213.6 & 15000.0 & 3.09144 & 41656 & 291 & 148 \\\\\n",
       "\t98 & 2019 & 2 & ats & hy & 7.0 & 6.80315 & 9 & 92824.4 & 12000.0 & 1.32024 & 14223 & 157 & 108 \\\\\n",
       "\t99 & 2019 & 2 & ats & hy & 7.0 & 6.80315 & 10 & 1.01895e5 & 14000.0 & 2.11421 & 20749 & 183 & 121 \\\\\n",
       "\t100 & 2019 & 2 & ats & hy & 7.0 & 6.80315 & 11 & 49700.8 & 10000.0 & 0.270919 & 5451 & 52 & 39 \\\\\n",
       "\t$\\dots$ & $\\dots$ & $\\dots$ & $\\dots$ & $\\dots$ & $\\dots$ & $\\dots$ & $\\dots$ & $\\dots$ & $\\dots$ & $\\dots$ & $\\dots$ & $\\dots$ & $\\dots$ \\\\\n",
       "\\end{tabular}\n"
      ],
      "text/plain": [
       "114×13 DataFrame\n",
       "│ Row │ trd_exctn_yr │ trd_exctn_qtr │ sbm    │ rt     │ median_num_cov │ mean_num_cov │ sum_num_cov │ mean_vol_by_num_cov │ median_vol_by_num_cov │ total_vol_by_num_cov │ trades_by_num_cov │ bonds_by_num_cov │ issuers_by_num_cov │\n",
       "│     │ \u001b[90mInt64\u001b[39m        │ \u001b[90mInt64\u001b[39m         │ \u001b[90mSymbol\u001b[39m │ \u001b[90mSymbol\u001b[39m │ \u001b[90mFloat64\u001b[39m        │ \u001b[90mFloat64\u001b[39m      │ \u001b[90mInt64\u001b[39m       │ \u001b[90mFloat64\u001b[39m             │ \u001b[90mFloat64\u001b[39m               │ \u001b[90mFloat64\u001b[39m              │ \u001b[90mInt64\u001b[39m             │ \u001b[90mInt64\u001b[39m            │ \u001b[90mInt64\u001b[39m              │\n",
       "├─────┼──────────────┼───────────────┼────────┼────────┼────────────────┼──────────────┼─────────────┼─────────────────────┼───────────────────────┼──────────────────────┼───────────────────┼──────────────────┼────────────────────┤\n",
       "│ 1   │ 2019         │ 2             │ any    │ any    │ 5.0            │ 4.68962      │ 0           │ 3.86077e5           │ 25000.0               │ 310.029              │ 803023            │ 11284            │ 624                │\n",
       "│ 2   │ 2019         │ 2             │ any    │ any    │ 5.0            │ 4.68962      │ 1           │ 4.53358e5           │ 40000.0               │ 0.979254             │ 2160              │ 20               │ 14                 │\n",
       "│ 3   │ 2019         │ 2             │ any    │ any    │ 5.0            │ 4.68962      │ 2           │ 5.24264e5           │ 35000.0               │ 63.3725              │ 120879            │ 416              │ 193                │\n",
       "│ 4   │ 2019         │ 2             │ any    │ any    │ 5.0            │ 4.68962      │ 3           │ 5.50453e5           │ 36000.0               │ 119.016              │ 216214            │ 643              │ 318                │\n",
       "│ 5   │ 2019         │ 2             │ any    │ any    │ 5.0            │ 4.68962      │ 4           │ 4.57628e5           │ 29000.0               │ 88.2801              │ 192908            │ 768              │ 342                │\n",
       "│ 6   │ 2019         │ 2             │ any    │ any    │ 5.0            │ 4.68962      │ 5           │ 4.69056e5           │ 29000.0               │ 211.749              │ 451436            │ 1560             │ 572                │\n",
       "│ 7   │ 2019         │ 2             │ any    │ any    │ 5.0            │ 4.68962      │ 6           │ 4.64675e5           │ 28000.0               │ 220.754              │ 475072            │ 1529             │ 539                │\n",
       "│ 8   │ 2019         │ 2             │ any    │ any    │ 5.0            │ 4.68962      │ 7           │ 4.16307e5           │ 25000.0               │ 221.014              │ 530891            │ 1597             │ 527                │\n",
       "│ 9   │ 2019         │ 2             │ any    │ any    │ 5.0            │ 4.68962      │ 8           │ 3.88016e5           │ 25000.0               │ 187.857              │ 484147            │ 1229             │ 424                │\n",
       "│ 10  │ 2019         │ 2             │ any    │ any    │ 5.0            │ 4.68962      │ 9           │ 4.23795e5           │ 25000.0               │ 34.2549              │ 80829             │ 238              │ 149                │\n",
       "│ 11  │ 2019         │ 2             │ any    │ any    │ 5.0            │ 4.68962      │ 10          │ 408248.0            │ 25000.0               │ 37.3849              │ 91574             │ 203              │ 132                │\n",
       "│ 12  │ 2019         │ 2             │ any    │ any    │ 5.0            │ 4.68962      │ 11          │ 2.8572e5            │ 18000.0               │ 6.46813              │ 22638             │ 55               │ 42                 │\n",
       "│ 13  │ 2019         │ 2             │ any    │ any    │ 5.0            │ 4.68962      │ 12          │ 5.18553e5           │ 50000.0               │ 1.97517              │ 3809              │ 10               │ 6                  │\n",
       "│ 14  │ 2019         │ 2             │ ats    │ any    │ 6.0            │ 4.78984      │ 0           │ 80112.1             │ 20000.0               │ 14.3209              │ 178761            │ 6616             │ 541                │\n",
       "│ 15  │ 2019         │ 2             │ ats    │ any    │ 6.0            │ 4.78984      │ 1           │ 131619.0            │ 24500.0               │ 0.05528              │ 420               │ 17               │ 12                 │\n",
       "│ 16  │ 2019         │ 2             │ ats    │ any    │ 6.0            │ 4.78984      │ 2           │ 1.05871e5           │ 20000.0               │ 2.43991              │ 23046             │ 379              │ 172                │\n",
       "│ 17  │ 2019         │ 2             │ ats    │ any    │ 6.0            │ 4.78984      │ 3           │ 302995.0            │ 25000.0               │ 13.0048              │ 42921             │ 584              │ 277                │\n",
       "│ 18  │ 2019         │ 2             │ ats    │ any    │ 6.0            │ 4.78984      │ 4           │ 97961.3             │ 20000.0               │ 3.85184              │ 39320             │ 683              │ 301                │\n",
       "│ 19  │ 2019         │ 2             │ ats    │ any    │ 6.0            │ 4.78984      │ 5           │ 128021.0            │ 20000.0               │ 11.9655              │ 93465             │ 1470             │ 532                │\n",
       "│ 20  │ 2019         │ 2             │ ats    │ any    │ 6.0            │ 4.78984      │ 6           │ 1.3152e5            │ 20000.0               │ 13.7398              │ 104469            │ 1469             │ 525                │\n",
       "│ 21  │ 2019         │ 2             │ ats    │ any    │ 6.0            │ 4.78984      │ 7           │ 98823.3             │ 20000.0               │ 12.2585              │ 124045            │ 1550             │ 520                │\n",
       "│ 22  │ 2019         │ 2             │ ats    │ any    │ 6.0            │ 4.78984      │ 8           │ 87776.9             │ 20000.0               │ 10.2379              │ 116635            │ 1201             │ 417                │\n",
       "│ 23  │ 2019         │ 2             │ ats    │ any    │ 6.0            │ 4.78984      │ 9           │ 86218.0             │ 15000.0               │ 1.69806              │ 19695             │ 234              │ 146                │\n",
       "│ 24  │ 2019         │ 2             │ ats    │ any    │ 6.0            │ 4.78984      │ 10          │ 1.01703e5           │ 15000.0               │ 2.21285              │ 21758             │ 199              │ 129                │\n",
       "│ 25  │ 2019         │ 2             │ ats    │ any    │ 6.0            │ 4.78984      │ 11          │ 50967.4             │ 10000.0               │ 0.282818             │ 5549              │ 55               │ 42                 │\n",
       "│ 26  │ 2019         │ 2             │ ats    │ any    │ 6.0            │ 4.78984      │ 12          │ 1.29397e5           │ 10000.0               │ 0.082814             │ 640               │ 10               │ 6                  │\n",
       "│ 27  │ 2019         │ 2             │ otc    │ any    │ 5.0            │ 4.66106      │ 0           │ 4.73692e5           │ 25000.0               │ 295.708              │ 624262            │ 11274            │ 624                │\n",
       "│ 28  │ 2019         │ 2             │ otc    │ any    │ 5.0            │ 4.66106      │ 1           │ 5.3102e5            │ 50000.0               │ 0.923974             │ 1740              │ 20               │ 14                 │\n",
       "│ 29  │ 2019         │ 2             │ otc    │ any    │ 5.0            │ 4.66106      │ 2           │ 6.22822e5           │ 50000.0               │ 60.9326              │ 97833             │ 416              │ 193                │\n",
       "│ 30  │ 2019         │ 2             │ otc    │ any    │ 5.0            │ 4.66106      │ 3           │ 6.11743e5           │ 45000.0               │ 106.011              │ 173293            │ 643              │ 318                │\n",
       "│ 31  │ 2019         │ 2             │ otc    │ any    │ 5.0            │ 4.66106      │ 4           │ 5.49706e5           │ 35000.0               │ 84.4282              │ 153588            │ 768              │ 342                │\n",
       "│ 32  │ 2019         │ 2             │ otc    │ any    │ 5.0            │ 4.66106      │ 5           │ 5.58098e5           │ 35000.0               │ 199.783              │ 357971            │ 1560             │ 572                │\n",
       "│ 33  │ 2019         │ 2             │ otc    │ any    │ 5.0            │ 4.66106      │ 6           │ 5.58588e5           │ 35000.0               │ 207.014              │ 370603            │ 1529             │ 539                │\n",
       "│ 34  │ 2019         │ 2             │ otc    │ any    │ 5.0            │ 4.66106      │ 7           │ 5.13107e5           │ 30000.0               │ 208.755              │ 406846            │ 1597             │ 527                │\n",
       "│ 35  │ 2019         │ 2             │ otc    │ any    │ 5.0            │ 4.66106      │ 8           │ 4.83301e5           │ 30000.0               │ 177.619              │ 367512            │ 1229             │ 424                │\n",
       "│ 36  │ 2019         │ 2             │ otc    │ any    │ 5.0            │ 4.66106      │ 9           │ 5.32549e5           │ 39000.0               │ 32.5568              │ 61134             │ 237              │ 149                │\n",
       "│ 37  │ 2019         │ 2             │ otc    │ any    │ 5.0            │ 4.66106      │ 10          │ 5.03782e5           │ 35000.0               │ 35.172               │ 69816             │ 203              │ 132                │\n",
       "│ 38  │ 2019         │ 2             │ otc    │ any    │ 5.0            │ 4.66106      │ 11          │ 3.61947e5           │ 23000.0               │ 6.18531              │ 17089             │ 55               │ 42                 │\n",
       "│ 39  │ 2019         │ 2             │ otc    │ any    │ 5.0            │ 4.66106      │ 12          │ 5.97145e5           │ 75000.0               │ 1.89235              │ 3169              │ 10               │ 6                  │\n",
       "│ 40  │ 2019         │ 2             │ any    │ ig     │ 5.0            │ 4.14459      │ 0           │ 3.87959e5           │ 25000.0               │ 277.39               │ 714997            │ 5878             │ 475                │\n",
       "│ 41  │ 2019         │ 2             │ any    │ ig     │ 5.0            │ 4.14459      │ 1           │ 4.0487e5            │ 35000.0               │ 0.709333             │ 1752              │ 17               │ 11                 │\n",
       "│ 42  │ 2019         │ 2             │ any    │ ig     │ 5.0            │ 4.14459      │ 2           │ 5.1841e5            │ 35000.0               │ 54.0478              │ 104257            │ 352              │ 142                │\n",
       "│ 43  │ 2019         │ 2             │ any    │ ig     │ 5.0            │ 4.14459      │ 3           │ 5.21887e5           │ 35000.0               │ 97.909               │ 187606            │ 512              │ 207                │\n",
       "│ 44  │ 2019         │ 2             │ any    │ ig     │ 5.0            │ 4.14459      │ 4           │ 4.60678e5           │ 26000.0               │ 74.7261              │ 162209            │ 665              │ 268                │\n",
       "│ 45  │ 2019         │ 2             │ any    │ ig     │ 5.0            │ 4.14459      │ 5           │ 4.61354e5           │ 25000.0               │ 172.69               │ 374311            │ 1340             │ 413                │\n",
       "⋮\n",
       "│ 69  │ 2019         │ 2             │ otc    │ ig     │ 5.0            │ 4.14765      │ 5           │ 5.55669e5           │ 30000.0               │ 164.413              │ 295883            │ 1340             │ 413                │\n",
       "│ 70  │ 2019         │ 2             │ otc    │ ig     │ 5.0            │ 4.14765      │ 6           │ 5.40305e5           │ 30000.0               │ 154.36               │ 285690            │ 1268             │ 426                │\n",
       "│ 71  │ 2019         │ 2             │ otc    │ ig     │ 5.0            │ 4.14765      │ 7           │ 5.38498e5           │ 30000.0               │ 154.469              │ 286851            │ 1237             │ 371                │\n",
       "│ 72  │ 2019         │ 2             │ otc    │ ig     │ 5.0            │ 4.14765      │ 8           │ 5.23824e5           │ 30000.0               │ 128.23               │ 244796            │ 935              │ 283                │\n",
       "│ 73  │ 2019         │ 2             │ otc    │ ig     │ 5.0            │ 4.14765      │ 9           │ 5.28542e5           │ 35000.0               │ 9.7664               │ 18478             │ 82               │ 43                 │\n",
       "│ 74  │ 2019         │ 2             │ otc    │ ig     │ 5.0            │ 4.14765      │ 10          │ 5.65771e5           │ 40000.0               │ 1.92306              │ 3399              │ 17               │ 8                  │\n",
       "│ 75  │ 2019         │ 2             │ otc    │ ig     │ 5.0            │ 4.14765      │ 11          │ 3.10574e5           │ 39500.0               │ 0.118018             │ 380               │ 5                │ 4                  │\n",
       "│ 76  │ 2019         │ 2             │ any    │ hy     │ 7.0            │ 6.38233      │ 0           │ 3.70789e5           │ 25000.0               │ 32.639               │ 88026             │ 5422             │ 206                │\n",
       "│ 77  │ 2019         │ 2             │ any    │ hy     │ 7.0            │ 6.38233      │ 1           │ 6.61571e5           │ 89500.0               │ 0.269921             │ 408               │ 3                │ 3                  │\n",
       "│ 78  │ 2019         │ 2             │ any    │ hy     │ 7.0            │ 6.38233      │ 2           │ 5.60983e5           │ 40000.0               │ 9.32466              │ 16622             │ 74               │ 59                 │\n",
       "│ 79  │ 2019         │ 2             │ any    │ hy     │ 7.0            │ 6.38233      │ 3           │ 7.37788e5           │ 46000.0               │ 21.1066              │ 28608             │ 134              │ 118                │\n",
       "│ 80  │ 2019         │ 2             │ any    │ hy     │ 7.0            │ 6.38233      │ 4           │ 4.41513e5           │ 34000.0               │ 13.554               │ 30699             │ 107              │ 87                 │\n",
       "│ 81  │ 2019         │ 2             │ any    │ hy     │ 7.0            │ 6.38233      │ 5           │ 5.06433e5           │ 40000.0               │ 39.0586              │ 77125             │ 228              │ 170                │\n",
       "│ 82  │ 2019         │ 2             │ any    │ hy     │ 7.0            │ 6.38233      │ 6           │ 5.34223e5           │ 40000.0               │ 57.5123              │ 107656            │ 276              │ 130                │\n",
       "│ 83  │ 2019         │ 2             │ any    │ hy     │ 7.0            │ 6.38233      │ 7           │ 3.5441e5            │ 25000.0               │ 57.7627              │ 162983            │ 371              │ 174                │\n",
       "│ 84  │ 2019         │ 2             │ any    │ hy     │ 7.0            │ 6.38233      │ 8           │ 3.19278e5           │ 25000.0               │ 52.4804              │ 164372            │ 297              │ 151                │\n",
       "│ 85  │ 2019         │ 2             │ any    │ hy     │ 7.0            │ 6.38233      │ 9           │ 4.23894e5           │ 25000.0               │ 24.1107              │ 56879             │ 160              │ 110                │\n",
       "│ 86  │ 2019         │ 2             │ any    │ hy     │ 7.0            │ 6.38233      │ 10          │ 4.057e5             │ 25000.0               │ 35.3632              │ 87166             │ 186              │ 124                │\n",
       "│ 87  │ 2019         │ 2             │ any    │ hy     │ 7.0            │ 6.38233      │ 11          │ 2.8602e5            │ 17000.0               │ 6.33821              │ 22160             │ 52               │ 39                 │\n",
       "│ 88  │ 2019         │ 2             │ any    │ hy     │ 7.0            │ 6.38233      │ 12          │ 5.18553e5           │ 50000.0               │ 1.97517              │ 3809              │ 10               │ 6                  │\n",
       "│ 89  │ 2019         │ 2             │ ats    │ hy     │ 7.0            │ 6.80315      │ 0           │ 1.02883e5           │ 15000.0               │ 1.38985              │ 13509             │ 1610             │ 167                │\n",
       "│ 90  │ 2019         │ 2             │ ats    │ hy     │ 7.0            │ 6.80315      │ 1           │ 361678.0            │ 20000.0               │ 0.021339             │ 59                │ 3                │ 3                  │\n",
       "│ 91  │ 2019         │ 2             │ ats    │ hy     │ 7.0            │ 6.80315      │ 2           │ 93620.4             │ 20000.0               │ 0.285074             │ 3045              │ 60               │ 46                 │\n",
       "│ 92  │ 2019         │ 2             │ ats    │ hy     │ 7.0            │ 6.80315      │ 3           │ 4.03057e5           │ 20000.0               │ 1.50663              │ 3738              │ 102              │ 90                 │\n",
       "│ 93  │ 2019         │ 2             │ ats    │ hy     │ 7.0            │ 6.80315      │ 4           │ 90700.5             │ 15000.0               │ 0.505746             │ 5576              │ 77               │ 60                 │\n",
       "│ 94  │ 2019         │ 2             │ ats    │ hy     │ 7.0            │ 6.80315      │ 5           │ 2.45306e5           │ 20000.0               │ 3.68866              │ 15037             │ 197              │ 142                │\n",
       "│ 95  │ 2019         │ 2             │ ats    │ hy     │ 7.0            │ 6.80315      │ 6           │ 2.13589e5           │ 20000.0               │ 4.85766              │ 22743             │ 270              │ 125                │\n",
       "│ 96  │ 2019         │ 2             │ ats    │ hy     │ 7.0            │ 6.80315      │ 7           │ 80861.6             │ 15000.0               │ 3.47608              │ 42988             │ 359              │ 169                │\n",
       "│ 97  │ 2019         │ 2             │ ats    │ hy     │ 7.0            │ 6.80315      │ 8           │ 74213.6             │ 15000.0               │ 3.09144              │ 41656             │ 291              │ 148                │\n",
       "│ 98  │ 2019         │ 2             │ ats    │ hy     │ 7.0            │ 6.80315      │ 9           │ 92824.4             │ 12000.0               │ 1.32024              │ 14223             │ 157              │ 108                │\n",
       "│ 99  │ 2019         │ 2             │ ats    │ hy     │ 7.0            │ 6.80315      │ 10          │ 1.01895e5           │ 14000.0               │ 2.11421              │ 20749             │ 183              │ 121                │\n",
       "│ 100 │ 2019         │ 2             │ ats    │ hy     │ 7.0            │ 6.80315      │ 11          │ 49700.8             │ 10000.0               │ 0.270919             │ 5451              │ 52               │ 39                 │\n",
       "│ 101 │ 2019         │ 2             │ ats    │ hy     │ 7.0            │ 6.80315      │ 12          │ 1.29397e5           │ 10000.0               │ 0.082814             │ 640               │ 10               │ 6                  │\n",
       "│ 102 │ 2019         │ 2             │ otc    │ hy     │ 7.0            │ 6.26103      │ 0           │ 4.19357e5           │ 30000.0               │ 31.2492              │ 74517             │ 5418             │ 206                │\n",
       "│ 103 │ 2019         │ 2             │ otc    │ hy     │ 7.0            │ 6.26103      │ 1           │ 7.12269e5           │ 100000.0              │ 0.248582             │ 349               │ 3                │ 3                  │\n",
       "│ 104 │ 2019         │ 2             │ otc    │ hy     │ 7.0            │ 6.26103      │ 2           │ 6.65802e5           │ 50000.0               │ 9.03959              │ 13577             │ 74               │ 59                 │\n",
       "│ 105 │ 2019         │ 2             │ otc    │ hy     │ 7.0            │ 6.26103      │ 3           │ 7.88098e5           │ 50000.0               │ 19.6                 │ 24870             │ 134              │ 118                │\n",
       "│ 106 │ 2019         │ 2             │ otc    │ hy     │ 7.0            │ 6.26103      │ 4           │ 5.19375e5           │ 50000.0               │ 13.0483              │ 25123             │ 107              │ 87                 │\n",
       "│ 107 │ 2019         │ 2             │ otc    │ hy     │ 7.0            │ 6.26103      │ 5           │ 5.69675e5           │ 50000.0               │ 35.37                │ 62088             │ 228              │ 170                │\n",
       "│ 108 │ 2019         │ 2             │ otc    │ hy     │ 7.0            │ 6.26103      │ 6           │ 6.20101e5           │ 50000.0               │ 52.6546              │ 84913             │ 276              │ 130                │\n",
       "│ 109 │ 2019         │ 2             │ otc    │ hy     │ 7.0            │ 6.26103      │ 7           │ 4.52408e5           │ 30000.0               │ 54.2866              │ 119995            │ 371              │ 174                │\n",
       "│ 110 │ 2019         │ 2             │ otc    │ hy     │ 7.0            │ 6.26103      │ 8           │ 4.02466e5           │ 30000.0               │ 49.389               │ 122716            │ 297              │ 151                │\n",
       "│ 111 │ 2019         │ 2             │ otc    │ hy     │ 7.0            │ 6.26103      │ 9           │ 5.34284e5           │ 40000.0               │ 22.7904              │ 42656             │ 160              │ 110                │\n",
       "│ 112 │ 2019         │ 2             │ otc    │ hy     │ 7.0            │ 6.26103      │ 10          │ 5.0061e5            │ 35000.0               │ 33.249               │ 66417             │ 186              │ 124                │\n",
       "│ 113 │ 2019         │ 2             │ otc    │ hy     │ 7.0            │ 6.26103      │ 11          │ 3.63115e5           │ 23000.0               │ 6.06729              │ 16709             │ 52               │ 39                 │\n",
       "│ 114 │ 2019         │ 2             │ otc    │ hy     │ 7.0            │ 6.26103      │ 12          │ 5.97145e5           │ 75000.0               │ 1.89235              │ 3169              │ 10               │ 6                  │"
      ]
     },
     "execution_count": 251,
     "metadata": {},
     "output_type": "execute_result"
    }
   ],
   "source": [
    "df"
   ]
  },
  {
   "cell_type": "code",
   "execution_count": 239,
   "metadata": {},
   "outputs": [
    {
     "ename": "LoadError",
     "evalue": "UndefVarError: row not defined",
     "output_type": "error",
     "traceback": [
      "UndefVarError: row not defined",
      "",
      "Stacktrace:",
      " [1] top-level scope at In[239]:1",
      " [2] include_string(::Function, ::Module, ::String, ::String) at ./loading.jl:1091",
      " [3] execute_code(::String, ::String) at /home/artur/.julia/packages/IJulia/rWZ9e/src/execute_request.jl:27",
      " [4] execute_request(::ZMQ.Socket, ::IJulia.Msg) at /home/artur/.julia/packages/IJulia/rWZ9e/src/execute_request.jl:86",
      " [5] #invokelatest#1 at ./essentials.jl:710 [inlined]",
      " [6] invokelatest at ./essentials.jl:709 [inlined]",
      " [7] eventloop(::ZMQ.Socket) at /home/artur/.julia/packages/IJulia/rWZ9e/src/eventloop.jl:8",
      " [8] (::IJulia.var\"#15#18\")() at ./task.jl:356"
     ]
    }
   ],
   "source": [
    "StatsMod.dfrow2dict(combdf, row)"
   ]
  },
  {
   "cell_type": "code",
   "execution_count": null,
   "metadata": {},
   "outputs": [],
   "source": []
  },
  {
   "cell_type": "code",
   "execution_count": null,
   "metadata": {},
   "outputs": [],
   "source": []
  },
  {
   "cell_type": "code",
   "execution_count": 71,
   "metadata": {},
   "outputs": [
    {
     "name": "stderr",
     "output_type": "stream",
     "text": [
      "WARNING: replacing module StatsMod.\n",
      "WARNING: replacing module PlotMod.\n"
     ]
    },
    {
     "data": {
      "text/plain": [
       "12-element Array{Any,1}:\n",
       " VegaLite.VLSpec\n",
       " VegaLite.VLSpec\n",
       " VegaLite.VLSpec\n",
       " VegaLite.VLSpec\n",
       " VegaLite.VLSpec\n",
       " VegaLite.VLSpec\n",
       " VegaLite.VLSpec\n",
       " VegaLite.VLSpec\n",
       " VegaLite.VLSpec\n",
       " VegaLite.VLSpec\n",
       " VegaLite.VLSpec\n",
       " VegaLite.VLSpec"
      ]
     },
     "execution_count": 71,
     "metadata": {},
     "output_type": "execute_result"
    }
   ],
   "source": [
    "include(string(joinpath(script_path, \"plots_covenants\"), \".jl\"))"
   ]
  },
  {
   "cell_type": "code",
   "execution_count": 74,
   "metadata": {},
   "outputs": [
    {
     "data": {
      "application/vnd.vegalite.v4+json": {
       "config": {
        "axis": {
         "domainWidth": 3
        },
        "opacity": {
         "value": 0.7
        },
        "view": {
         "stroke": "transparent"
        }
       },
       "data": {
        "values": [
         {
          "cov_cat": 1,
          "cvt": "any",
          "perc_sbm_total": 6.820394695428579,
          "perc_total": 6.42579761034314,
          "period": "2019Q1",
          "rt": "any",
          "sbm": "otc",
          "value": 89.41483276472992,
          "variable": "cg1_trd_vol_tr"
         },
         {
          "cov_cat": 1,
          "cvt": "any",
          "perc_sbm_total": 4.86937516037982,
          "perc_total": 0.2817199488119354,
          "period": "2019Q1",
          "rt": "any",
          "sbm": "ats",
          "value": 3.92012690673,
          "variable": "cg1_trd_vol_tr"
         },
         {
          "cov_cat": 2,
          "cvt": "any",
          "perc_sbm_total": 75.45015672636751,
          "perc_total": 71.08495306250634,
          "period": "2019Q1",
          "rt": "any",
          "sbm": "otc",
          "value": 989.1455622476826,
          "variable": "cg2_trd_vol_tr"
         },
         {
          "cov_cat": 2,
          "cvt": "any",
          "perc_sbm_total": 65.95014299340443,
          "perc_total": 3.8155759817841766,
          "period": "2019Q1",
          "rt": "any",
          "sbm": "ats",
          "value": 53.093656072080016,
          "variable": "cg2_trd_vol_tr"
         },
         {
          "cov_cat": 3,
          "cvt": "any",
          "perc_sbm_total": 0.41551128916227337,
          "perc_total": 0.3914716916249899,
          "period": "2019Q1",
          "rt": "any",
          "sbm": "otc",
          "value": 5.44732,
          "variable": "cg3_trd_vol_tr"
         },
         {
          "cov_cat": 3,
          "cvt": "any",
          "perc_sbm_total": 0.39094848124590564,
          "perc_total": 0.022618504941013716,
          "period": "2019Q1",
          "rt": "any",
          "sbm": "ats",
          "value": 0.314736,
          "variable": "cg3_trd_vol_tr"
         },
         {
          "cov_cat": 4,
          "cvt": "any",
          "perc_sbm_total": 1.8872284430414972,
          "perc_total": 1.7780419698578198,
          "period": "2019Q1",
          "rt": "any",
          "sbm": "otc",
          "value": 24.741415,
          "variable": "cg4_trd_vol_tr"
         },
         {
          "cov_cat": 4,
          "cvt": "any",
          "perc_sbm_total": 1.4244299634353228,
          "perc_total": 0.08241105340379745,
          "period": "2019Q1",
          "rt": "any",
          "sbm": "ats",
          "value": 1.146748,
          "variable": "cg4_trd_vol_tr"
         },
         {
          "cov_cat": 5,
          "cvt": "any",
          "perc_sbm_total": 0.062443703999304274,
          "perc_total": 0.05883099466496345,
          "period": "2019Q1",
          "rt": "any",
          "sbm": "otc",
          "value": 0.818632,
          "variable": "cg5_trd_vol_tr"
         },
         {
          "cov_cat": 5,
          "cvt": "any",
          "perc_sbm_total": 0.04945236939963014,
          "perc_total": 0.0028610896710628522,
          "period": "2019Q1",
          "rt": "any",
          "sbm": "ats",
          "value": 0.039812,
          "variable": "cg5_trd_vol_tr"
         },
         {
          "cov_cat": 6,
          "cvt": "any",
          "perc_sbm_total": 62.175390836653335,
          "perc_total": 58.57820488425741,
          "period": "2019Q1",
          "rt": "any",
          "sbm": "otc",
          "value": 815.1144357477302,
          "variable": "cg6_trd_vol_tr"
         },
         {
          "cov_cat": 6,
          "cvt": "any",
          "perc_sbm_total": 71.8314791994681,
          "perc_total": 4.155843404265709,
          "period": "2019Q1",
          "rt": "any",
          "sbm": "ats",
          "value": 57.828469790380005,
          "variable": "cg6_trd_vol_tr"
         },
         {
          "cov_cat": 7,
          "cvt": "any",
          "perc_sbm_total": 96.69698204721816,
          "perc_total": 91.10253349162856,
          "period": "2019Q1",
          "rt": "any",
          "sbm": "otc",
          "value": 1267.6897547294802,
          "variable": "cg7_trd_vol_tr"
         },
         {
          "cov_cat": 7,
          "cvt": "any",
          "perc_sbm_total": 97.4860994368849,
          "perc_total": 5.640103306620603,
          "period": "2019Q1",
          "rt": "any",
          "sbm": "ats",
          "value": 78.48191376671001,
          "variable": "cg7_trd_vol_tr"
         },
         {
          "cov_cat": 8,
          "cvt": "any",
          "perc_sbm_total": 39.56903380836803,
          "perc_total": 37.27974908253032,
          "period": "2019Q1",
          "rt": "any",
          "sbm": "otc",
          "value": 518.7468905587799,
          "variable": "cg8_trd_vol_tr"
         },
         {
          "cov_cat": 8,
          "cvt": "any",
          "perc_sbm_total": 33.161238917371016,
          "perc_total": 1.9185587929958174,
          "period": "2019Q1",
          "rt": "any",
          "sbm": "ats",
          "value": 26.696703511,
          "variable": "cg8_trd_vol_tr"
         },
         {
          "cov_cat": 9,
          "cvt": "any",
          "perc_sbm_total": 4.321201570052708,
          "perc_total": 4.071196457481687,
          "period": "2019Q1",
          "rt": "any",
          "sbm": "otc",
          "value": 56.65060938305008,
          "variable": "cg9_trd_vol_tr"
         },
         {
          "cov_cat": 9,
          "cvt": "any",
          "perc_sbm_total": 3.134317784002364,
          "perc_total": 0.18133740296991394,
          "period": "2019Q1",
          "rt": "any",
          "sbm": "ats",
          "value": 2.52330598375,
          "variable": "cg9_trd_vol_tr"
         },
         {
          "cov_cat": 10,
          "cvt": "any",
          "perc_sbm_total": 1.1166489871837562,
          "perc_total": 1.0520447443088312,
          "period": "2019Q1",
          "rt": "any",
          "sbm": "otc",
          "value": 14.639179535,
          "variable": "cg10_trd_vol_tr"
         },
         {
          "cov_cat": 10,
          "cvt": "any",
          "perc_sbm_total": 1.0181267090550785,
          "perc_total": 0.05890419097153482,
          "period": "2019Q1",
          "rt": "any",
          "sbm": "ats",
          "value": 0.819650525,
          "variable": "cg10_trd_vol_tr"
         },
         {
          "cov_cat": 11,
          "cvt": "any",
          "perc_sbm_total": 81.21005318271737,
          "perc_total": 76.51160804918099,
          "period": "2019Q1",
          "rt": "any",
          "sbm": "otc",
          "value": 1064.6573473254405,
          "variable": "cg11_trd_vol_tr"
         },
         {
          "cov_cat": 11,
          "cvt": "any",
          "perc_sbm_total": 84.73981694152455,
          "perc_total": 4.902661246014354,
          "period": "2019Q1",
          "rt": "any",
          "sbm": "ats",
          "value": 68.22042367299002,
          "variable": "cg11_trd_vol_tr"
         },
         {
          "cov_cat": 12,
          "cvt": "any",
          "perc_sbm_total": 41.66043414656114,
          "perc_total": 39.250150488249496,
          "period": "2019Q1",
          "rt": "any",
          "sbm": "otc",
          "value": 546.1649828883889,
          "variable": "cg12_trd_vol_tr"
         },
         {
          "cov_cat": 12,
          "cvt": "any",
          "perc_sbm_total": 32.06263226408986,
          "perc_total": 1.854998397681631,
          "period": "2019Q1",
          "rt": "any",
          "sbm": "ats",
          "value": 25.812262004729995,
          "variable": "cg12_trd_vol_tr"
         },
         {
          "cov_cat": 13,
          "cvt": "any",
          "perc_sbm_total": 75.92174965256083,
          "perc_total": 71.52926176215078,
          "period": "2019Q1",
          "rt": "any",
          "sbm": "otc",
          "value": 995.3281080550196,
          "variable": "cg13_trd_vol_tr"
         },
         {
          "cov_cat": 13,
          "cvt": "any",
          "perc_sbm_total": 69.91901618969239,
          "perc_total": 4.045196973569105,
          "period": "2019Q1",
          "rt": "any",
          "sbm": "ats",
          "value": 56.28882713484002,
          "variable": "cg13_trd_vol_tr"
         },
         {
          "cov_cat": 14,
          "cvt": "any",
          "perc_sbm_total": 7.845982137013598,
          "perc_total": 7.392049216830385,
          "period": "2019Q1",
          "rt": "any",
          "sbm": "otc",
          "value": 102.86020266925995,
          "variable": "cg14_trd_vol_tr"
         },
         {
          "cov_cat": 14,
          "cvt": "any",
          "perc_sbm_total": 5.900713938429421,
          "perc_total": 0.34138853013710774,
          "period": "2019Q1",
          "rt": "any",
          "sbm": "ats",
          "value": 4.7504139067299995,
          "variable": "cg14_trd_vol_tr"
         },
         {
          "cov_cat": 15,
          "cvt": "any",
          "perc_sbm_total": 75.25966112470942,
          "perc_total": 70.90547867186208,
          "period": "2019Q1",
          "rt": "any",
          "sbm": "otc",
          "value": 986.6481800395693,
          "variable": "cg15_trd_vol_tr"
         },
         {
          "cov_cat": 15,
          "cvt": "any",
          "perc_sbm_total": 69.40104877144508,
          "perc_total": 4.015229729364512,
          "period": "2019Q1",
          "rt": "any",
          "sbm": "ats",
          "value": 55.87183358922002,
          "variable": "cg15_trd_vol_tr"
         }
        ]
       },
       "encoding": {
        "color": {
         "field": "sbm",
         "legend": {
          "title": "Secondary Market"
         },
         "scale": {
          "scheme": "viridis"
         },
         "type": "nominal"
        },
        "column": {
         "field": "cov_cat",
         "sort": "ascending",
         "title": "Covenant Category",
         "type": "ordinal"
        },
        "x": {
         "axis": {
          "title": " "
         },
         "field": "sbm",
         "type": "nominal"
        },
        "y": {
         "axis": {
          "grid": false,
          "stack": null,
          "title": "% of Total Trade Volume by Secondary Market"
         },
         "field": "perc_sbm_total",
         "type": "quantitative"
        }
       },
       "height": 250,
       "mark": "bar",
       "spacing": 1,
       "title": {
        "align": "center",
        "anchor": "middle",
        "fontSize": 14,
        "offset": 20,
        "text": [
         "Non-MTN-Bond Trades by Covenant Category as Percentage of Total ",
         "Non-MTN-Bond Trade Count by Secondary Bond Market - 2019Q1"
        ]
       },
       "width": {
        "step": 18
       }
      },
      "image/png": "[encoded data removed]",
      "image/svg+xml": [
       "<?xml version=\"1.0\" encoding=\"utf-8\"?>\n",
       "<!DOCTYPE svg PUBLIC \"-//W3C//DTD SVG 1.1//EN\" \"http://www.w3.org/Graphics/SVG/1.1/DTD/svg11.dtd\">\n",
       "<svg class=\"marks\" width=\"764\" height=\"401\" viewBox=\"0 0 764 401\" version=\"1.1\" xmlns=\"http://www.w3.org/2000/svg\" xmlns:xlink=\"http://www.w3.org/1999/xlink\"><rect width=\"764\" height=\"401\" fill=\"white\"></rect><g fill=\"none\" stroke-miterlimit=\"10\" transform=\"translate(47,107)\"><g class=\"mark-group role-frame root\" role=\"graphics-object\" aria-roledescription=\"group mark container\"><g transform=\"translate(0,0)\"><path class=\"background\" aria-hidden=\"true\" d=\"M0,0h0v0h0Z\"></path><g><g class=\"mark-group role-column-title column-title\" role=\"graphics-object\" aria-roledescription=\"group mark container\"><g transform=\"translate(291,-31)\"><path class=\"background\" aria-hidden=\"true\" d=\"M0,0h0v0h0Z\"></path><g><g class=\"mark-group role-title\"><g transform=\"translate(0,-21)\"><path class=\"background\" aria-hidden=\"true\" d=\"M0,0h0v0h0Z\" pointer-events=\"none\"></path><g><g class=\"mark-text role-title-text\" role=\"graphics-symbol\" aria-roledescription=\"title\" aria-label=\"Title text 'Covenant Category'\" pointer-events=\"none\"><text text-anchor=\"middle\" transform=\"translate(0,9)\" font-family=\"sans-serif\" font-size=\"11px\" font-weight=\"bold\" fill=\"#000\" opacity=\"1\">Covenant Category</text></g></g><path class=\"foreground\" aria-hidden=\"true\" d=\"\" pointer-events=\"none\" display=\"none\"></path></g></g></g><path class=\"foreground\" aria-hidden=\"true\" d=\"\" display=\"none\"></path></g></g><g class=\"mark-group role-row-header row_header\" role=\"graphics-object\" aria-roledescription=\"group mark container\"><g transform=\"translate(-1,0)\"><path class=\"background\" aria-hidden=\"true\" d=\"M0,0h0v250h0Z\"></path><g><g class=\"mark-group role-axis\" role=\"graphics-symbol\" aria-roledescription=\"axis\" aria-label=\"Y-axis titled '% of Total Trade Volume by Secondary Market' for a linear scale with values from 0 to 100\"><g transform=\"translate(0.5,0.5)\"><path class=\"background\" aria-hidden=\"true\" d=\"M0,0h0v0h0Z\" pointer-events=\"none\"></path><g><g class=\"mark-rule role-axis-tick\" pointer-events=\"none\"><line transform=\"translate(0,250)\" x2=\"-5\" y2=\"0\" stroke=\"#888\" stroke-width=\"1\" opacity=\"1\"></line><line transform=\"translate(0,200)\" x2=\"-5\" y2=\"0\" stroke=\"#888\" stroke-width=\"1\" opacity=\"1\"></line><line transform=\"translate(0,150)\" x2=\"-5\" y2=\"0\" stroke=\"#888\" stroke-width=\"1\" opacity=\"1\"></line><line transform=\"translate(0,100)\" x2=\"-5\" y2=\"0\" stroke=\"#888\" stroke-width=\"1\" opacity=\"1\"></line><line transform=\"translate(0,50)\" x2=\"-5\" y2=\"0\" stroke=\"#888\" stroke-width=\"1\" opacity=\"1\"></line><line transform=\"translate(0,0)\" x2=\"-5\" y2=\"0\" stroke=\"#888\" stroke-width=\"1\" opacity=\"1\"></line></g><g class=\"mark-text role-axis-label\" pointer-events=\"none\"><text text-anchor=\"end\" transform=\"translate(-7,253)\" font-family=\"sans-serif\" font-size=\"10px\" fill=\"#000\" opacity=\"1\">0</text><text text-anchor=\"end\" transform=\"translate(-7,203)\" font-family=\"sans-serif\" font-size=\"10px\" fill=\"#000\" opacity=\"1\">20</text><text text-anchor=\"end\" transform=\"translate(-7,153)\" font-family=\"sans-serif\" font-size=\"10px\" fill=\"#000\" opacity=\"1\">40</text><text text-anchor=\"end\" transform=\"translate(-7,103)\" font-family=\"sans-serif\" font-size=\"10px\" fill=\"#000\" opacity=\"1\">60</text><text text-anchor=\"end\" transform=\"translate(-7,52.999999999999986)\" font-family=\"sans-serif\" font-size=\"10px\" fill=\"#000\" opacity=\"1\">80</text><text text-anchor=\"end\" transform=\"translate(-7,3)\" font-family=\"sans-serif\" font-size=\"10px\" fill=\"#000\" opacity=\"1\">100</text></g><g class=\"mark-rule role-axis-domain\" pointer-events=\"none\"><line transform=\"translate(0,250)\" x2=\"0\" y2=\"-250\" stroke=\"#888\" stroke-width=\"3\" opacity=\"1\"></line></g><g class=\"mark-text role-axis-title\" pointer-events=\"none\"><text text-anchor=\"middle\" transform=\"translate(-29,125) rotate(-90) translate(0,-2)\" font-family=\"sans-serif\" font-size=\"11px\" font-weight=\"bold\" fill=\"#000\" opacity=\"1\">% of Total Trade Volume by Secondary Market</text></g></g><path class=\"foreground\" aria-hidden=\"true\" d=\"\" pointer-events=\"none\" display=\"none\"></path></g></g></g><path class=\"foreground\" aria-hidden=\"true\" d=\"\" display=\"none\"></path></g></g><g class=\"mark-group role-column-header column_header\" role=\"graphics-object\" aria-roledescription=\"group mark container\"><g transform=\"translate(0,-1)\"><path class=\"background\" aria-hidden=\"true\" d=\"M0,0h36v0h-36Z\"></path><g><g class=\"mark-group role-title\"><g transform=\"translate(18,-20)\"><path class=\"background\" aria-hidden=\"true\" d=\"M0,0h0v0h0Z\" pointer-events=\"none\"></path><g><g class=\"mark-text role-title-text\" role=\"graphics-symbol\" aria-roledescription=\"title\" aria-label=\"Title text '1'\" pointer-events=\"none\"><text text-anchor=\"middle\" transform=\"translate(0,8)\" font-family=\"sans-serif\" font-size=\"10px\" fill=\"#000\" opacity=\"1\">1</text></g></g><path class=\"foreground\" aria-hidden=\"true\" d=\"\" pointer-events=\"none\" display=\"none\"></path></g></g></g><path class=\"foreground\" aria-hidden=\"true\" d=\"\" display=\"none\"></path></g><g transform=\"translate(39,-1)\"><path class=\"background\" aria-hidden=\"true\" d=\"M0,0h36v0h-36Z\"></path><g><g class=\"mark-group role-title\"><g transform=\"translate(18,-20)\"><path class=\"background\" aria-hidden=\"true\" d=\"M0,0h0v0h0Z\" pointer-events=\"none\"></path><g><g class=\"mark-text role-title-text\" role=\"graphics-symbol\" aria-roledescription=\"title\" aria-label=\"Title text '2'\" pointer-events=\"none\"><text text-anchor=\"middle\" transform=\"translate(0,8)\" font-family=\"sans-serif\" font-size=\"10px\" fill=\"#000\" opacity=\"1\">2</text></g></g><path class=\"foreground\" aria-hidden=\"true\" d=\"\" pointer-events=\"none\" display=\"none\"></path></g></g></g><path class=\"foreground\" aria-hidden=\"true\" d=\"\" display=\"none\"></path></g><g transform=\"translate(78,-1)\"><path class=\"background\" aria-hidden=\"true\" d=\"M0,0h36v0h-36Z\"></path><g><g class=\"mark-group role-title\"><g transform=\"translate(18,-20)\"><path class=\"background\" aria-hidden=\"true\" d=\"M0,0h0v0h0Z\" pointer-events=\"none\"></path><g><g class=\"mark-text role-title-text\" role=\"graphics-symbol\" aria-roledescription=\"title\" aria-label=\"Title text '3'\" pointer-events=\"none\"><text text-anchor=\"middle\" transform=\"translate(0,8)\" font-family=\"sans-serif\" font-size=\"10px\" fill=\"#000\" opacity=\"1\">3</text></g></g><path class=\"foreground\" aria-hidden=\"true\" d=\"\" pointer-events=\"none\" display=\"none\"></path></g></g></g><path class=\"foreground\" aria-hidden=\"true\" d=\"\" display=\"none\"></path></g><g transform=\"translate(117,-1)\"><path class=\"background\" aria-hidden=\"true\" d=\"M0,0h36v0h-36Z\"></path><g><g class=\"mark-group role-title\"><g transform=\"translate(18,-20)\"><path class=\"background\" aria-hidden=\"true\" d=\"M0,0h0v0h0Z\" pointer-events=\"none\"></path><g><g class=\"mark-text role-title-text\" role=\"graphics-symbol\" aria-roledescription=\"title\" aria-label=\"Title text '4'\" pointer-events=\"none\"><text text-anchor=\"middle\" transform=\"translate(0,8)\" font-family=\"sans-serif\" font-size=\"10px\" fill=\"#000\" opacity=\"1\">4</text></g></g><path class=\"foreground\" aria-hidden=\"true\" d=\"\" pointer-events=\"none\" display=\"none\"></path></g></g></g><path class=\"foreground\" aria-hidden=\"true\" d=\"\" display=\"none\"></path></g><g transform=\"translate(156,-1)\"><path class=\"background\" aria-hidden=\"true\" d=\"M0,0h36v0h-36Z\"></path><g><g class=\"mark-group role-title\"><g transform=\"translate(18,-20)\"><path class=\"background\" aria-hidden=\"true\" d=\"M0,0h0v0h0Z\" pointer-events=\"none\"></path><g><g class=\"mark-text role-title-text\" role=\"graphics-symbol\" aria-roledescription=\"title\" aria-label=\"Title text '5'\" pointer-events=\"none\"><text text-anchor=\"middle\" transform=\"translate(0,8)\" font-family=\"sans-serif\" font-size=\"10px\" fill=\"#000\" opacity=\"1\">5</text></g></g><path class=\"foreground\" aria-hidden=\"true\" d=\"\" pointer-events=\"none\" display=\"none\"></path></g></g></g><path class=\"foreground\" aria-hidden=\"true\" d=\"\" display=\"none\"></path></g><g transform=\"translate(195,-1)\"><path class=\"background\" aria-hidden=\"true\" d=\"M0,0h36v0h-36Z\"></path><g><g class=\"mark-group role-title\"><g transform=\"translate(18,-20)\"><path class=\"background\" aria-hidden=\"true\" d=\"M0,0h0v0h0Z\" pointer-events=\"none\"></path><g><g class=\"mark-text role-title-text\" role=\"graphics-symbol\" aria-roledescription=\"title\" aria-label=\"Title text '6'\" pointer-events=\"none\"><text text-anchor=\"middle\" transform=\"translate(0,8)\" font-family=\"sans-serif\" font-size=\"10px\" fill=\"#000\" opacity=\"1\">6</text></g></g><path class=\"foreground\" aria-hidden=\"true\" d=\"\" pointer-events=\"none\" display=\"none\"></path></g></g></g><path class=\"foreground\" aria-hidden=\"true\" d=\"\" display=\"none\"></path></g><g transform=\"translate(234,-1)\"><path class=\"background\" aria-hidden=\"true\" d=\"M0,0h36v0h-36Z\"></path><g><g class=\"mark-group role-title\"><g transform=\"translate(18,-20)\"><path class=\"background\" aria-hidden=\"true\" d=\"M0,0h0v0h0Z\" pointer-events=\"none\"></path><g><g class=\"mark-text role-title-text\" role=\"graphics-symbol\" aria-roledescription=\"title\" aria-label=\"Title text '7'\" pointer-events=\"none\"><text text-anchor=\"middle\" transform=\"translate(0,8)\" font-family=\"sans-serif\" font-size=\"10px\" fill=\"#000\" opacity=\"1\">7</text></g></g><path class=\"foreground\" aria-hidden=\"true\" d=\"\" pointer-events=\"none\" display=\"none\"></path></g></g></g><path class=\"foreground\" aria-hidden=\"true\" d=\"\" display=\"none\"></path></g><g transform=\"translate(273,-1)\"><path class=\"background\" aria-hidden=\"true\" d=\"M0,0h36v0h-36Z\"></path><g><g class=\"mark-group role-title\"><g transform=\"translate(18,-20)\"><path class=\"background\" aria-hidden=\"true\" d=\"M0,0h0v0h0Z\" pointer-events=\"none\"></path><g><g class=\"mark-text role-title-text\" role=\"graphics-symbol\" aria-roledescription=\"title\" aria-label=\"Title text '8'\" pointer-events=\"none\"><text text-anchor=\"middle\" transform=\"translate(0,8)\" font-family=\"sans-serif\" font-size=\"10px\" fill=\"#000\" opacity=\"1\">8</text></g></g><path class=\"foreground\" aria-hidden=\"true\" d=\"\" pointer-events=\"none\" display=\"none\"></path></g></g></g><path class=\"foreground\" aria-hidden=\"true\" d=\"\" display=\"none\"></path></g><g transform=\"translate(312,-1)\"><path class=\"background\" aria-hidden=\"true\" d=\"M0,0h36v0h-36Z\"></path><g><g class=\"mark-group role-title\"><g transform=\"translate(18,-20)\"><path class=\"background\" aria-hidden=\"true\" d=\"M0,0h0v0h0Z\" pointer-events=\"none\"></path><g><g class=\"mark-text role-title-text\" role=\"graphics-symbol\" aria-roledescription=\"title\" aria-label=\"Title text '9'\" pointer-events=\"none\"><text text-anchor=\"middle\" transform=\"translate(0,8)\" font-family=\"sans-serif\" font-size=\"10px\" fill=\"#000\" opacity=\"1\">9</text></g></g><path class=\"foreground\" aria-hidden=\"true\" d=\"\" pointer-events=\"none\" display=\"none\"></path></g></g></g><path class=\"foreground\" aria-hidden=\"true\" d=\"\" display=\"none\"></path></g><g transform=\"translate(351,-1)\"><path class=\"background\" aria-hidden=\"true\" d=\"M0,0h36v0h-36Z\"></path><g><g class=\"mark-group role-title\"><g transform=\"translate(18,-20)\"><path class=\"background\" aria-hidden=\"true\" d=\"M0,0h0v0h0Z\" pointer-events=\"none\"></path><g><g class=\"mark-text role-title-text\" role=\"graphics-symbol\" aria-roledescription=\"title\" aria-label=\"Title text '10'\" pointer-events=\"none\"><text text-anchor=\"middle\" transform=\"translate(0,8)\" font-family=\"sans-serif\" font-size=\"10px\" fill=\"#000\" opacity=\"1\">10</text></g></g><path class=\"foreground\" aria-hidden=\"true\" d=\"\" pointer-events=\"none\" display=\"none\"></path></g></g></g><path class=\"foreground\" aria-hidden=\"true\" d=\"\" display=\"none\"></path></g><g transform=\"translate(390,-1)\"><path class=\"background\" aria-hidden=\"true\" d=\"M0,0h36v0h-36Z\"></path><g><g class=\"mark-group role-title\"><g transform=\"translate(18,-20)\"><path class=\"background\" aria-hidden=\"true\" d=\"M0,0h0v0h0Z\" pointer-events=\"none\"></path><g><g class=\"mark-text role-title-text\" role=\"graphics-symbol\" aria-roledescription=\"title\" aria-label=\"Title text '11'\" pointer-events=\"none\"><text text-anchor=\"middle\" transform=\"translate(0,8)\" font-family=\"sans-serif\" font-size=\"10px\" fill=\"#000\" opacity=\"1\">11</text></g></g><path class=\"foreground\" aria-hidden=\"true\" d=\"\" pointer-events=\"none\" display=\"none\"></path></g></g></g><path class=\"foreground\" aria-hidden=\"true\" d=\"\" display=\"none\"></path></g><g transform=\"translate(429,-1)\"><path class=\"background\" aria-hidden=\"true\" d=\"M0,0h36v0h-36Z\"></path><g><g class=\"mark-group role-title\"><g transform=\"translate(18,-20)\"><path class=\"background\" aria-hidden=\"true\" d=\"M0,0h0v0h0Z\" pointer-events=\"none\"></path><g><g class=\"mark-text role-title-text\" role=\"graphics-symbol\" aria-roledescription=\"title\" aria-label=\"Title text '12'\" pointer-events=\"none\"><text text-anchor=\"middle\" transform=\"translate(0,8)\" font-family=\"sans-serif\" font-size=\"10px\" fill=\"#000\" opacity=\"1\">12</text></g></g><path class=\"foreground\" aria-hidden=\"true\" d=\"\" pointer-events=\"none\" display=\"none\"></path></g></g></g><path class=\"foreground\" aria-hidden=\"true\" d=\"\" display=\"none\"></path></g><g transform=\"translate(468,-1)\"><path class=\"background\" aria-hidden=\"true\" d=\"M0,0h36v0h-36Z\"></path><g><g class=\"mark-group role-title\"><g transform=\"translate(18,-20)\"><path class=\"background\" aria-hidden=\"true\" d=\"M0,0h0v0h0Z\" pointer-events=\"none\"></path><g><g class=\"mark-text role-title-text\" role=\"graphics-symbol\" aria-roledescription=\"title\" aria-label=\"Title text '13'\" pointer-events=\"none\"><text text-anchor=\"middle\" transform=\"translate(0,8)\" font-family=\"sans-serif\" font-size=\"10px\" fill=\"#000\" opacity=\"1\">13</text></g></g><path class=\"foreground\" aria-hidden=\"true\" d=\"\" pointer-events=\"none\" display=\"none\"></path></g></g></g><path class=\"foreground\" aria-hidden=\"true\" d=\"\" display=\"none\"></path></g><g transform=\"translate(507,-1)\"><path class=\"background\" aria-hidden=\"true\" d=\"M0,0h36v0h-36Z\"></path><g><g class=\"mark-group role-title\"><g transform=\"translate(18,-20)\"><path class=\"background\" aria-hidden=\"true\" d=\"M0,0h0v0h0Z\" pointer-events=\"none\"></path><g><g class=\"mark-text role-title-text\" role=\"graphics-symbol\" aria-roledescription=\"title\" aria-label=\"Title text '14'\" pointer-events=\"none\"><text text-anchor=\"middle\" transform=\"translate(0,8)\" font-family=\"sans-serif\" font-size=\"10px\" fill=\"#000\" opacity=\"1\">14</text></g></g><path class=\"foreground\" aria-hidden=\"true\" d=\"\" pointer-events=\"none\" display=\"none\"></path></g></g></g><path class=\"foreground\" aria-hidden=\"true\" d=\"\" display=\"none\"></path></g><g transform=\"translate(546,-1)\"><path class=\"background\" aria-hidden=\"true\" d=\"M0,0h36v0h-36Z\"></path><g><g class=\"mark-group role-title\"><g transform=\"translate(18,-20)\"><path class=\"background\" aria-hidden=\"true\" d=\"M0,0h0v0h0Z\" pointer-events=\"none\"></path><g><g class=\"mark-text role-title-text\" role=\"graphics-symbol\" aria-roledescription=\"title\" aria-label=\"Title text '15'\" pointer-events=\"none\"><text text-anchor=\"middle\" transform=\"translate(0,8)\" font-family=\"sans-serif\" font-size=\"10px\" fill=\"#000\" opacity=\"1\">15</text></g></g><path class=\"foreground\" aria-hidden=\"true\" d=\"\" pointer-events=\"none\" display=\"none\"></path></g></g></g><path class=\"foreground\" aria-hidden=\"true\" d=\"\" display=\"none\"></path></g></g><g class=\"mark-group role-column-footer column_footer\" role=\"graphics-object\" aria-roledescription=\"group mark container\"><g transform=\"translate(0,251)\"><path class=\"background\" aria-hidden=\"true\" d=\"M0,0h36v0h-36Z\"></path><g><g class=\"mark-group role-axis\" role=\"graphics-symbol\" aria-roledescription=\"axis\" aria-label=\"X-axis titled ' ' for a discrete scale with 2 values: ats, otc\"><g transform=\"translate(0.5,0.5)\"><path class=\"background\" aria-hidden=\"true\" d=\"M0,0h0v0h0Z\" pointer-events=\"none\"></path><g><g class=\"mark-rule role-axis-tick\" pointer-events=\"none\"><line transform=\"translate(9,0)\" x2=\"0\" y2=\"5\" stroke=\"#888\" stroke-width=\"1\" opacity=\"1\"></line><line transform=\"translate(27,0)\" x2=\"0\" y2=\"5\" stroke=\"#888\" stroke-width=\"1\" opacity=\"1\"></line></g><g class=\"mark-text role-axis-label\" pointer-events=\"none\"><text text-anchor=\"end\" transform=\"translate(8.500000000000002,7) rotate(270) translate(0,3)\" font-family=\"sans-serif\" font-size=\"10px\" fill=\"#000\" opacity=\"1\">ats</text><text text-anchor=\"end\" transform=\"translate(26.5,7) rotate(270) translate(0,3)\" font-family=\"sans-serif\" font-size=\"10px\" fill=\"#000\" opacity=\"1\">otc</text></g><g class=\"mark-rule role-axis-domain\" pointer-events=\"none\"><line transform=\"translate(0,0)\" x2=\"36\" y2=\"0\" stroke=\"#888\" stroke-width=\"3\" opacity=\"1\"></line></g><g class=\"mark-text role-axis-title\" pointer-events=\"none\"><text text-anchor=\"middle\" transform=\"translate(18,36)\" font-family=\"sans-serif\" font-size=\"11px\" font-weight=\"bold\" fill=\"#000\" opacity=\"1\"></text></g></g><path class=\"foreground\" aria-hidden=\"true\" d=\"\" pointer-events=\"none\" display=\"none\"></path></g></g></g><path class=\"foreground\" aria-hidden=\"true\" d=\"\" display=\"none\"></path></g><g transform=\"translate(39,251)\"><path class=\"background\" aria-hidden=\"true\" d=\"M0,0h36v0h-36Z\"></path><g><g class=\"mark-group role-axis\" role=\"graphics-symbol\" aria-roledescription=\"axis\" aria-label=\"X-axis titled ' ' for a discrete scale with 2 values: ats, otc\"><g transform=\"translate(0.5,0.5)\"><path class=\"background\" aria-hidden=\"true\" d=\"M0,0h0v0h0Z\" pointer-events=\"none\"></path><g><g class=\"mark-rule role-axis-tick\" pointer-events=\"none\"><line transform=\"translate(9,0)\" x2=\"0\" y2=\"5\" stroke=\"#888\" stroke-width=\"1\" opacity=\"1\"></line><line transform=\"translate(27,0)\" x2=\"0\" y2=\"5\" stroke=\"#888\" stroke-width=\"1\" opacity=\"1\"></line></g><g class=\"mark-text role-axis-label\" pointer-events=\"none\"><text text-anchor=\"end\" transform=\"translate(8.500000000000002,7) rotate(270) translate(0,3)\" font-family=\"sans-serif\" font-size=\"10px\" fill=\"#000\" opacity=\"1\">ats</text><text text-anchor=\"end\" transform=\"translate(26.5,7) rotate(270) translate(0,3)\" font-family=\"sans-serif\" font-size=\"10px\" fill=\"#000\" opacity=\"1\">otc</text></g><g class=\"mark-rule role-axis-domain\" pointer-events=\"none\"><line transform=\"translate(0,0)\" x2=\"36\" y2=\"0\" stroke=\"#888\" stroke-width=\"3\" opacity=\"1\"></line></g><g class=\"mark-text role-axis-title\" pointer-events=\"none\"><text text-anchor=\"middle\" transform=\"translate(18,36)\" font-family=\"sans-serif\" font-size=\"11px\" font-weight=\"bold\" fill=\"#000\" opacity=\"1\"></text></g></g><path class=\"foreground\" aria-hidden=\"true\" d=\"\" pointer-events=\"none\" display=\"none\"></path></g></g></g><path class=\"foreground\" aria-hidden=\"true\" d=\"\" display=\"none\"></path></g><g transform=\"translate(78,251)\"><path class=\"background\" aria-hidden=\"true\" d=\"M0,0h36v0h-36Z\"></path><g><g class=\"mark-group role-axis\" role=\"graphics-symbol\" aria-roledescription=\"axis\" aria-label=\"X-axis titled ' ' for a discrete scale with 2 values: ats, otc\"><g transform=\"translate(0.5,0.5)\"><path class=\"background\" aria-hidden=\"true\" d=\"M0,0h0v0h0Z\" pointer-events=\"none\"></path><g><g class=\"mark-rule role-axis-tick\" pointer-events=\"none\"><line transform=\"translate(9,0)\" x2=\"0\" y2=\"5\" stroke=\"#888\" stroke-width=\"1\" opacity=\"1\"></line><line transform=\"translate(27,0)\" x2=\"0\" y2=\"5\" stroke=\"#888\" stroke-width=\"1\" opacity=\"1\"></line></g><g class=\"mark-text role-axis-label\" pointer-events=\"none\"><text text-anchor=\"end\" transform=\"translate(8.500000000000002,7) rotate(270) translate(0,3)\" font-family=\"sans-serif\" font-size=\"10px\" fill=\"#000\" opacity=\"1\">ats</text><text text-anchor=\"end\" transform=\"translate(26.5,7) rotate(270) translate(0,3)\" font-family=\"sans-serif\" font-size=\"10px\" fill=\"#000\" opacity=\"1\">otc</text></g><g class=\"mark-rule role-axis-domain\" pointer-events=\"none\"><line transform=\"translate(0,0)\" x2=\"36\" y2=\"0\" stroke=\"#888\" stroke-width=\"3\" opacity=\"1\"></line></g><g class=\"mark-text role-axis-title\" pointer-events=\"none\"><text text-anchor=\"middle\" transform=\"translate(18,36)\" font-family=\"sans-serif\" font-size=\"11px\" font-weight=\"bold\" fill=\"#000\" opacity=\"1\"></text></g></g><path class=\"foreground\" aria-hidden=\"true\" d=\"\" pointer-events=\"none\" display=\"none\"></path></g></g></g><path class=\"foreground\" aria-hidden=\"true\" d=\"\" display=\"none\"></path></g><g transform=\"translate(117,251)\"><path class=\"background\" aria-hidden=\"true\" d=\"M0,0h36v0h-36Z\"></path><g><g class=\"mark-group role-axis\" role=\"graphics-symbol\" aria-roledescription=\"axis\" aria-label=\"X-axis titled ' ' for a discrete scale with 2 values: ats, otc\"><g transform=\"translate(0.5,0.5)\"><path class=\"background\" aria-hidden=\"true\" d=\"M0,0h0v0h0Z\" pointer-events=\"none\"></path><g><g class=\"mark-rule role-axis-tick\" pointer-events=\"none\"><line transform=\"translate(9,0)\" x2=\"0\" y2=\"5\" stroke=\"#888\" stroke-width=\"1\" opacity=\"1\"></line><line transform=\"translate(27,0)\" x2=\"0\" y2=\"5\" stroke=\"#888\" stroke-width=\"1\" opacity=\"1\"></line></g><g class=\"mark-text role-axis-label\" pointer-events=\"none\"><text text-anchor=\"end\" transform=\"translate(8.500000000000002,7) rotate(270) translate(0,3)\" font-family=\"sans-serif\" font-size=\"10px\" fill=\"#000\" opacity=\"1\">ats</text><text text-anchor=\"end\" transform=\"translate(26.5,7) rotate(270) translate(0,3)\" font-family=\"sans-serif\" font-size=\"10px\" fill=\"#000\" opacity=\"1\">otc</text></g><g class=\"mark-rule role-axis-domain\" pointer-events=\"none\"><line transform=\"translate(0,0)\" x2=\"36\" y2=\"0\" stroke=\"#888\" stroke-width=\"3\" opacity=\"1\"></line></g><g class=\"mark-text role-axis-title\" pointer-events=\"none\"><text text-anchor=\"middle\" transform=\"translate(18,36)\" font-family=\"sans-serif\" font-size=\"11px\" font-weight=\"bold\" fill=\"#000\" opacity=\"1\"></text></g></g><path class=\"foreground\" aria-hidden=\"true\" d=\"\" pointer-events=\"none\" display=\"none\"></path></g></g></g><path class=\"foreground\" aria-hidden=\"true\" d=\"\" display=\"none\"></path></g><g transform=\"translate(156,251)\"><path class=\"background\" aria-hidden=\"true\" d=\"M0,0h36v0h-36Z\"></path><g><g class=\"mark-group role-axis\" role=\"graphics-symbol\" aria-roledescription=\"axis\" aria-label=\"X-axis titled ' ' for a discrete scale with 2 values: ats, otc\"><g transform=\"translate(0.5,0.5)\"><path class=\"background\" aria-hidden=\"true\" d=\"M0,0h0v0h0Z\" pointer-events=\"none\"></path><g><g class=\"mark-rule role-axis-tick\" pointer-events=\"none\"><line transform=\"translate(9,0)\" x2=\"0\" y2=\"5\" stroke=\"#888\" stroke-width=\"1\" opacity=\"1\"></line><line transform=\"translate(27,0)\" x2=\"0\" y2=\"5\" stroke=\"#888\" stroke-width=\"1\" opacity=\"1\"></line></g><g class=\"mark-text role-axis-label\" pointer-events=\"none\"><text text-anchor=\"end\" transform=\"translate(8.500000000000002,7) rotate(270) translate(0,3)\" font-family=\"sans-serif\" font-size=\"10px\" fill=\"#000\" opacity=\"1\">ats</text><text text-anchor=\"end\" transform=\"translate(26.5,7) rotate(270) translate(0,3)\" font-family=\"sans-serif\" font-size=\"10px\" fill=\"#000\" opacity=\"1\">otc</text></g><g class=\"mark-rule role-axis-domain\" pointer-events=\"none\"><line transform=\"translate(0,0)\" x2=\"36\" y2=\"0\" stroke=\"#888\" stroke-width=\"3\" opacity=\"1\"></line></g><g class=\"mark-text role-axis-title\" pointer-events=\"none\"><text text-anchor=\"middle\" transform=\"translate(18,36)\" font-family=\"sans-serif\" font-size=\"11px\" font-weight=\"bold\" fill=\"#000\" opacity=\"1\"></text></g></g><path class=\"foreground\" aria-hidden=\"true\" d=\"\" pointer-events=\"none\" display=\"none\"></path></g></g></g><path class=\"foreground\" aria-hidden=\"true\" d=\"\" display=\"none\"></path></g><g transform=\"translate(195,251)\"><path class=\"background\" aria-hidden=\"true\" d=\"M0,0h36v0h-36Z\"></path><g><g class=\"mark-group role-axis\" role=\"graphics-symbol\" aria-roledescription=\"axis\" aria-label=\"X-axis titled ' ' for a discrete scale with 2 values: ats, otc\"><g transform=\"translate(0.5,0.5)\"><path class=\"background\" aria-hidden=\"true\" d=\"M0,0h0v0h0Z\" pointer-events=\"none\"></path><g><g class=\"mark-rule role-axis-tick\" pointer-events=\"none\"><line transform=\"translate(9,0)\" x2=\"0\" y2=\"5\" stroke=\"#888\" stroke-width=\"1\" opacity=\"1\"></line><line transform=\"translate(27,0)\" x2=\"0\" y2=\"5\" stroke=\"#888\" stroke-width=\"1\" opacity=\"1\"></line></g><g class=\"mark-text role-axis-label\" pointer-events=\"none\"><text text-anchor=\"end\" transform=\"translate(8.500000000000002,7) rotate(270) translate(0,3)\" font-family=\"sans-serif\" font-size=\"10px\" fill=\"#000\" opacity=\"1\">ats</text><text text-anchor=\"end\" transform=\"translate(26.5,7) rotate(270) translate(0,3)\" font-family=\"sans-serif\" font-size=\"10px\" fill=\"#000\" opacity=\"1\">otc</text></g><g class=\"mark-rule role-axis-domain\" pointer-events=\"none\"><line transform=\"translate(0,0)\" x2=\"36\" y2=\"0\" stroke=\"#888\" stroke-width=\"3\" opacity=\"1\"></line></g><g class=\"mark-text role-axis-title\" pointer-events=\"none\"><text text-anchor=\"middle\" transform=\"translate(18,36)\" font-family=\"sans-serif\" font-size=\"11px\" font-weight=\"bold\" fill=\"#000\" opacity=\"1\"></text></g></g><path class=\"foreground\" aria-hidden=\"true\" d=\"\" pointer-events=\"none\" display=\"none\"></path></g></g></g><path class=\"foreground\" aria-hidden=\"true\" d=\"\" display=\"none\"></path></g><g transform=\"translate(234,251)\"><path class=\"background\" aria-hidden=\"true\" d=\"M0,0h36v0h-36Z\"></path><g><g class=\"mark-group role-axis\" role=\"graphics-symbol\" aria-roledescription=\"axis\" aria-label=\"X-axis titled ' ' for a discrete scale with 2 values: ats, otc\"><g transform=\"translate(0.5,0.5)\"><path class=\"background\" aria-hidden=\"true\" d=\"M0,0h0v0h0Z\" pointer-events=\"none\"></path><g><g class=\"mark-rule role-axis-tick\" pointer-events=\"none\"><line transform=\"translate(9,0)\" x2=\"0\" y2=\"5\" stroke=\"#888\" stroke-width=\"1\" opacity=\"1\"></line><line transform=\"translate(27,0)\" x2=\"0\" y2=\"5\" stroke=\"#888\" stroke-width=\"1\" opacity=\"1\"></line></g><g class=\"mark-text role-axis-label\" pointer-events=\"none\"><text text-anchor=\"end\" transform=\"translate(8.500000000000002,7) rotate(270) translate(0,3)\" font-family=\"sans-serif\" font-size=\"10px\" fill=\"#000\" opacity=\"1\">ats</text><text text-anchor=\"end\" transform=\"translate(26.5,7) rotate(270) translate(0,3)\" font-family=\"sans-serif\" font-size=\"10px\" fill=\"#000\" opacity=\"1\">otc</text></g><g class=\"mark-rule role-axis-domain\" pointer-events=\"none\"><line transform=\"translate(0,0)\" x2=\"36\" y2=\"0\" stroke=\"#888\" stroke-width=\"3\" opacity=\"1\"></line></g><g class=\"mark-text role-axis-title\" pointer-events=\"none\"><text text-anchor=\"middle\" transform=\"translate(18,36)\" font-family=\"sans-serif\" font-size=\"11px\" font-weight=\"bold\" fill=\"#000\" opacity=\"1\"></text></g></g><path class=\"foreground\" aria-hidden=\"true\" d=\"\" pointer-events=\"none\" display=\"none\"></path></g></g></g><path class=\"foreground\" aria-hidden=\"true\" d=\"\" display=\"none\"></path></g><g transform=\"translate(273,251)\"><path class=\"background\" aria-hidden=\"true\" d=\"M0,0h36v0h-36Z\"></path><g><g class=\"mark-group role-axis\" role=\"graphics-symbol\" aria-roledescription=\"axis\" aria-label=\"X-axis titled ' ' for a discrete scale with 2 values: ats, otc\"><g transform=\"translate(0.5,0.5)\"><path class=\"background\" aria-hidden=\"true\" d=\"M0,0h0v0h0Z\" pointer-events=\"none\"></path><g><g class=\"mark-rule role-axis-tick\" pointer-events=\"none\"><line transform=\"translate(9,0)\" x2=\"0\" y2=\"5\" stroke=\"#888\" stroke-width=\"1\" opacity=\"1\"></line><line transform=\"translate(27,0)\" x2=\"0\" y2=\"5\" stroke=\"#888\" stroke-width=\"1\" opacity=\"1\"></line></g><g class=\"mark-text role-axis-label\" pointer-events=\"none\"><text text-anchor=\"end\" transform=\"translate(8.500000000000002,7) rotate(270) translate(0,3)\" font-family=\"sans-serif\" font-size=\"10px\" fill=\"#000\" opacity=\"1\">ats</text><text text-anchor=\"end\" transform=\"translate(26.5,7) rotate(270) translate(0,3)\" font-family=\"sans-serif\" font-size=\"10px\" fill=\"#000\" opacity=\"1\">otc</text></g><g class=\"mark-rule role-axis-domain\" pointer-events=\"none\"><line transform=\"translate(0,0)\" x2=\"36\" y2=\"0\" stroke=\"#888\" stroke-width=\"3\" opacity=\"1\"></line></g><g class=\"mark-text role-axis-title\" pointer-events=\"none\"><text text-anchor=\"middle\" transform=\"translate(18,36)\" font-family=\"sans-serif\" font-size=\"11px\" font-weight=\"bold\" fill=\"#000\" opacity=\"1\"></text></g></g><path class=\"foreground\" aria-hidden=\"true\" d=\"\" pointer-events=\"none\" display=\"none\"></path></g></g></g><path class=\"foreground\" aria-hidden=\"true\" d=\"\" display=\"none\"></path></g><g transform=\"translate(312,251)\"><path class=\"background\" aria-hidden=\"true\" d=\"M0,0h36v0h-36Z\"></path><g><g class=\"mark-group role-axis\" role=\"graphics-symbol\" aria-roledescription=\"axis\" aria-label=\"X-axis titled ' ' for a discrete scale with 2 values: ats, otc\"><g transform=\"translate(0.5,0.5)\"><path class=\"background\" aria-hidden=\"true\" d=\"M0,0h0v0h0Z\" pointer-events=\"none\"></path><g><g class=\"mark-rule role-axis-tick\" pointer-events=\"none\"><line transform=\"translate(9,0)\" x2=\"0\" y2=\"5\" stroke=\"#888\" stroke-width=\"1\" opacity=\"1\"></line><line transform=\"translate(27,0)\" x2=\"0\" y2=\"5\" stroke=\"#888\" stroke-width=\"1\" opacity=\"1\"></line></g><g class=\"mark-text role-axis-label\" pointer-events=\"none\"><text text-anchor=\"end\" transform=\"translate(8.500000000000002,7) rotate(270) translate(0,3)\" font-family=\"sans-serif\" font-size=\"10px\" fill=\"#000\" opacity=\"1\">ats</text><text text-anchor=\"end\" transform=\"translate(26.5,7) rotate(270) translate(0,3)\" font-family=\"sans-serif\" font-size=\"10px\" fill=\"#000\" opacity=\"1\">otc</text></g><g class=\"mark-rule role-axis-domain\" pointer-events=\"none\"><line transform=\"translate(0,0)\" x2=\"36\" y2=\"0\" stroke=\"#888\" stroke-width=\"3\" opacity=\"1\"></line></g><g class=\"mark-text role-axis-title\" pointer-events=\"none\"><text text-anchor=\"middle\" transform=\"translate(18,36)\" font-family=\"sans-serif\" font-size=\"11px\" font-weight=\"bold\" fill=\"#000\" opacity=\"1\"></text></g></g><path class=\"foreground\" aria-hidden=\"true\" d=\"\" pointer-events=\"none\" display=\"none\"></path></g></g></g><path class=\"foreground\" aria-hidden=\"true\" d=\"\" display=\"none\"></path></g><g transform=\"translate(351,251)\"><path class=\"background\" aria-hidden=\"true\" d=\"M0,0h36v0h-36Z\"></path><g><g class=\"mark-group role-axis\" role=\"graphics-symbol\" aria-roledescription=\"axis\" aria-label=\"X-axis titled ' ' for a discrete scale with 2 values: ats, otc\"><g transform=\"translate(0.5,0.5)\"><path class=\"background\" aria-hidden=\"true\" d=\"M0,0h0v0h0Z\" pointer-events=\"none\"></path><g><g class=\"mark-rule role-axis-tick\" pointer-events=\"none\"><line transform=\"translate(9,0)\" x2=\"0\" y2=\"5\" stroke=\"#888\" stroke-width=\"1\" opacity=\"1\"></line><line transform=\"translate(27,0)\" x2=\"0\" y2=\"5\" stroke=\"#888\" stroke-width=\"1\" opacity=\"1\"></line></g><g class=\"mark-text role-axis-label\" pointer-events=\"none\"><text text-anchor=\"end\" transform=\"translate(8.500000000000002,7) rotate(270) translate(0,3)\" font-family=\"sans-serif\" font-size=\"10px\" fill=\"#000\" opacity=\"1\">ats</text><text text-anchor=\"end\" transform=\"translate(26.5,7) rotate(270) translate(0,3)\" font-family=\"sans-serif\" font-size=\"10px\" fill=\"#000\" opacity=\"1\">otc</text></g><g class=\"mark-rule role-axis-domain\" pointer-events=\"none\"><line transform=\"translate(0,0)\" x2=\"36\" y2=\"0\" stroke=\"#888\" stroke-width=\"3\" opacity=\"1\"></line></g><g class=\"mark-text role-axis-title\" pointer-events=\"none\"><text text-anchor=\"middle\" transform=\"translate(18,36)\" font-family=\"sans-serif\" font-size=\"11px\" font-weight=\"bold\" fill=\"#000\" opacity=\"1\"></text></g></g><path class=\"foreground\" aria-hidden=\"true\" d=\"\" pointer-events=\"none\" display=\"none\"></path></g></g></g><path class=\"foreground\" aria-hidden=\"true\" d=\"\" display=\"none\"></path></g><g transform=\"translate(390,251)\"><path class=\"background\" aria-hidden=\"true\" d=\"M0,0h36v0h-36Z\"></path><g><g class=\"mark-group role-axis\" role=\"graphics-symbol\" aria-roledescription=\"axis\" aria-label=\"X-axis titled ' ' for a discrete scale with 2 values: ats, otc\"><g transform=\"translate(0.5,0.5)\"><path class=\"background\" aria-hidden=\"true\" d=\"M0,0h0v0h0Z\" pointer-events=\"none\"></path><g><g class=\"mark-rule role-axis-tick\" pointer-events=\"none\"><line transform=\"translate(9,0)\" x2=\"0\" y2=\"5\" stroke=\"#888\" stroke-width=\"1\" opacity=\"1\"></line><line transform=\"translate(27,0)\" x2=\"0\" y2=\"5\" stroke=\"#888\" stroke-width=\"1\" opacity=\"1\"></line></g><g class=\"mark-text role-axis-label\" pointer-events=\"none\"><text text-anchor=\"end\" transform=\"translate(8.500000000000002,7) rotate(270) translate(0,3)\" font-family=\"sans-serif\" font-size=\"10px\" fill=\"#000\" opacity=\"1\">ats</text><text text-anchor=\"end\" transform=\"translate(26.5,7) rotate(270) translate(0,3)\" font-family=\"sans-serif\" font-size=\"10px\" fill=\"#000\" opacity=\"1\">otc</text></g><g class=\"mark-rule role-axis-domain\" pointer-events=\"none\"><line transform=\"translate(0,0)\" x2=\"36\" y2=\"0\" stroke=\"#888\" stroke-width=\"3\" opacity=\"1\"></line></g><g class=\"mark-text role-axis-title\" pointer-events=\"none\"><text text-anchor=\"middle\" transform=\"translate(18,36)\" font-family=\"sans-serif\" font-size=\"11px\" font-weight=\"bold\" fill=\"#000\" opacity=\"1\"></text></g></g><path class=\"foreground\" aria-hidden=\"true\" d=\"\" pointer-events=\"none\" display=\"none\"></path></g></g></g><path class=\"foreground\" aria-hidden=\"true\" d=\"\" display=\"none\"></path></g><g transform=\"translate(429,251)\"><path class=\"background\" aria-hidden=\"true\" d=\"M0,0h36v0h-36Z\"></path><g><g class=\"mark-group role-axis\" role=\"graphics-symbol\" aria-roledescription=\"axis\" aria-label=\"X-axis titled ' ' for a discrete scale with 2 values: ats, otc\"><g transform=\"translate(0.5,0.5)\"><path class=\"background\" aria-hidden=\"true\" d=\"M0,0h0v0h0Z\" pointer-events=\"none\"></path><g><g class=\"mark-rule role-axis-tick\" pointer-events=\"none\"><line transform=\"translate(9,0)\" x2=\"0\" y2=\"5\" stroke=\"#888\" stroke-width=\"1\" opacity=\"1\"></line><line transform=\"translate(27,0)\" x2=\"0\" y2=\"5\" stroke=\"#888\" stroke-width=\"1\" opacity=\"1\"></line></g><g class=\"mark-text role-axis-label\" pointer-events=\"none\"><text text-anchor=\"end\" transform=\"translate(8.500000000000002,7) rotate(270) translate(0,3)\" font-family=\"sans-serif\" font-size=\"10px\" fill=\"#000\" opacity=\"1\">ats</text><text text-anchor=\"end\" transform=\"translate(26.5,7) rotate(270) translate(0,3)\" font-family=\"sans-serif\" font-size=\"10px\" fill=\"#000\" opacity=\"1\">otc</text></g><g class=\"mark-rule role-axis-domain\" pointer-events=\"none\"><line transform=\"translate(0,0)\" x2=\"36\" y2=\"0\" stroke=\"#888\" stroke-width=\"3\" opacity=\"1\"></line></g><g class=\"mark-text role-axis-title\" pointer-events=\"none\"><text text-anchor=\"middle\" transform=\"translate(18,36)\" font-family=\"sans-serif\" font-size=\"11px\" font-weight=\"bold\" fill=\"#000\" opacity=\"1\"></text></g></g><path class=\"foreground\" aria-hidden=\"true\" d=\"\" pointer-events=\"none\" display=\"none\"></path></g></g></g><path class=\"foreground\" aria-hidden=\"true\" d=\"\" display=\"none\"></path></g><g transform=\"translate(468,251)\"><path class=\"background\" aria-hidden=\"true\" d=\"M0,0h36v0h-36Z\"></path><g><g class=\"mark-group role-axis\" role=\"graphics-symbol\" aria-roledescription=\"axis\" aria-label=\"X-axis titled ' ' for a discrete scale with 2 values: ats, otc\"><g transform=\"translate(0.5,0.5)\"><path class=\"background\" aria-hidden=\"true\" d=\"M0,0h0v0h0Z\" pointer-events=\"none\"></path><g><g class=\"mark-rule role-axis-tick\" pointer-events=\"none\"><line transform=\"translate(9,0)\" x2=\"0\" y2=\"5\" stroke=\"#888\" stroke-width=\"1\" opacity=\"1\"></line><line transform=\"translate(27,0)\" x2=\"0\" y2=\"5\" stroke=\"#888\" stroke-width=\"1\" opacity=\"1\"></line></g><g class=\"mark-text role-axis-label\" pointer-events=\"none\"><text text-anchor=\"end\" transform=\"translate(8.500000000000002,7) rotate(270) translate(0,3)\" font-family=\"sans-serif\" font-size=\"10px\" fill=\"#000\" opacity=\"1\">ats</text><text text-anchor=\"end\" transform=\"translate(26.5,7) rotate(270) translate(0,3)\" font-family=\"sans-serif\" font-size=\"10px\" fill=\"#000\" opacity=\"1\">otc</text></g><g class=\"mark-rule role-axis-domain\" pointer-events=\"none\"><line transform=\"translate(0,0)\" x2=\"36\" y2=\"0\" stroke=\"#888\" stroke-width=\"3\" opacity=\"1\"></line></g><g class=\"mark-text role-axis-title\" pointer-events=\"none\"><text text-anchor=\"middle\" transform=\"translate(18,36)\" font-family=\"sans-serif\" font-size=\"11px\" font-weight=\"bold\" fill=\"#000\" opacity=\"1\"></text></g></g><path class=\"foreground\" aria-hidden=\"true\" d=\"\" pointer-events=\"none\" display=\"none\"></path></g></g></g><path class=\"foreground\" aria-hidden=\"true\" d=\"\" display=\"none\"></path></g><g transform=\"translate(507,251)\"><path class=\"background\" aria-hidden=\"true\" d=\"M0,0h36v0h-36Z\"></path><g><g class=\"mark-group role-axis\" role=\"graphics-symbol\" aria-roledescription=\"axis\" aria-label=\"X-axis titled ' ' for a discrete scale with 2 values: ats, otc\"><g transform=\"translate(0.5,0.5)\"><path class=\"background\" aria-hidden=\"true\" d=\"M0,0h0v0h0Z\" pointer-events=\"none\"></path><g><g class=\"mark-rule role-axis-tick\" pointer-events=\"none\"><line transform=\"translate(9,0)\" x2=\"0\" y2=\"5\" stroke=\"#888\" stroke-width=\"1\" opacity=\"1\"></line><line transform=\"translate(27,0)\" x2=\"0\" y2=\"5\" stroke=\"#888\" stroke-width=\"1\" opacity=\"1\"></line></g><g class=\"mark-text role-axis-label\" pointer-events=\"none\"><text text-anchor=\"end\" transform=\"translate(8.500000000000002,7) rotate(270) translate(0,3)\" font-family=\"sans-serif\" font-size=\"10px\" fill=\"#000\" opacity=\"1\">ats</text><text text-anchor=\"end\" transform=\"translate(26.5,7) rotate(270) translate(0,3)\" font-family=\"sans-serif\" font-size=\"10px\" fill=\"#000\" opacity=\"1\">otc</text></g><g class=\"mark-rule role-axis-domain\" pointer-events=\"none\"><line transform=\"translate(0,0)\" x2=\"36\" y2=\"0\" stroke=\"#888\" stroke-width=\"3\" opacity=\"1\"></line></g><g class=\"mark-text role-axis-title\" pointer-events=\"none\"><text text-anchor=\"middle\" transform=\"translate(18,36)\" font-family=\"sans-serif\" font-size=\"11px\" font-weight=\"bold\" fill=\"#000\" opacity=\"1\"></text></g></g><path class=\"foreground\" aria-hidden=\"true\" d=\"\" pointer-events=\"none\" display=\"none\"></path></g></g></g><path class=\"foreground\" aria-hidden=\"true\" d=\"\" display=\"none\"></path></g><g transform=\"translate(546,251)\"><path class=\"background\" aria-hidden=\"true\" d=\"M0,0h36v0h-36Z\"></path><g><g class=\"mark-group role-axis\" role=\"graphics-symbol\" aria-roledescription=\"axis\" aria-label=\"X-axis titled ' ' for a discrete scale with 2 values: ats, otc\"><g transform=\"translate(0.5,0.5)\"><path class=\"background\" aria-hidden=\"true\" d=\"M0,0h0v0h0Z\" pointer-events=\"none\"></path><g><g class=\"mark-rule role-axis-tick\" pointer-events=\"none\"><line transform=\"translate(9,0)\" x2=\"0\" y2=\"5\" stroke=\"#888\" stroke-width=\"1\" opacity=\"1\"></line><line transform=\"translate(27,0)\" x2=\"0\" y2=\"5\" stroke=\"#888\" stroke-width=\"1\" opacity=\"1\"></line></g><g class=\"mark-text role-axis-label\" pointer-events=\"none\"><text text-anchor=\"end\" transform=\"translate(8.500000000000002,7) rotate(270) translate(0,3)\" font-family=\"sans-serif\" font-size=\"10px\" fill=\"#000\" opacity=\"1\">ats</text><text text-anchor=\"end\" transform=\"translate(26.5,7) rotate(270) translate(0,3)\" font-family=\"sans-serif\" font-size=\"10px\" fill=\"#000\" opacity=\"1\">otc</text></g><g class=\"mark-rule role-axis-domain\" pointer-events=\"none\"><line transform=\"translate(0,0)\" x2=\"36\" y2=\"0\" stroke=\"#888\" stroke-width=\"3\" opacity=\"1\"></line></g><g class=\"mark-text role-axis-title\" pointer-events=\"none\"><text text-anchor=\"middle\" transform=\"translate(18,36)\" font-family=\"sans-serif\" font-size=\"11px\" font-weight=\"bold\" fill=\"#000\" opacity=\"1\"></text></g></g><path class=\"foreground\" aria-hidden=\"true\" d=\"\" pointer-events=\"none\" display=\"none\"></path></g></g></g><path class=\"foreground\" aria-hidden=\"true\" d=\"\" display=\"none\"></path></g></g><g class=\"mark-group role-scope cell\" role=\"graphics-object\" aria-roledescription=\"group mark container\"><g transform=\"translate(0,0)\"><path class=\"background\" aria-hidden=\"true\" d=\"M0.5,0.5h36v250h-36Z\"></path><g><g class=\"mark-rect role-mark child_marks\" role=\"graphics-object\" aria-roledescription=\"rect mark container\"><path aria-label=\"% of Total Trade Volume by Secondary Market: 6.82039469543;  : otc; Secondary Market: otc\" role=\"graphics-symbol\" aria-roledescription=\"bar\" d=\"M18.900000000000002,232.94901326142855h16.2v17.050986738571453h-16.2Z\" fill=\"rgb(53, 183, 121)\"></path><path aria-label=\"% of Total Trade Volume by Secondary Market: 4.86937516038;  : ats; Secondary Market: ats\" role=\"graphics-symbol\" aria-roledescription=\"bar\" d=\"M0.9000000000000021,237.82656209905045h16.2v12.173437900949551h-16.2Z\" fill=\"rgb(49, 104, 142)\"></path></g></g><path class=\"foreground\" aria-hidden=\"true\" d=\"\" display=\"none\"></path></g><g transform=\"translate(39,0)\"><path class=\"background\" aria-hidden=\"true\" d=\"M0.5,0.5h36v250h-36Z\"></path><g><g class=\"mark-rect role-mark child_marks\" role=\"graphics-object\" aria-roledescription=\"rect mark container\"><path aria-label=\"% of Total Trade Volume by Secondary Market: 75.4501567264;  : otc; Secondary Market: otc\" role=\"graphics-symbol\" aria-roledescription=\"bar\" d=\"M18.900000000000002,61.37460818408122h16.2v188.6253918159188h-16.2Z\" fill=\"rgb(53, 183, 121)\"></path><path aria-label=\"% of Total Trade Volume by Secondary Market: 65.9501429934;  : ats; Secondary Market: ats\" role=\"graphics-symbol\" aria-roledescription=\"bar\" d=\"M0.9000000000000021,85.12464251648893h16.2v164.87535748351107h-16.2Z\" fill=\"rgb(49, 104, 142)\"></path></g></g><path class=\"foreground\" aria-hidden=\"true\" d=\"\" display=\"none\"></path></g><g transform=\"translate(78,0)\"><path class=\"background\" aria-hidden=\"true\" d=\"M0.5,0.5h36v250h-36Z\"></path><g><g class=\"mark-rect role-mark child_marks\" role=\"graphics-object\" aria-roledescription=\"rect mark container\"><path aria-label=\"% of Total Trade Volume by Secondary Market: 0.415511289162;  : otc; Secondary Market: otc\" role=\"graphics-symbol\" aria-roledescription=\"bar\" d=\"M18.900000000000002,248.96122177709432h16.2v1.0387782229056768h-16.2Z\" fill=\"rgb(53, 183, 121)\"></path><path aria-label=\"% of Total Trade Volume by Secondary Market: 0.390948481246;  : ats; Secondary Market: ats\" role=\"graphics-symbol\" aria-roledescription=\"bar\" d=\"M0.9000000000000021,249.02262879688524h16.2v0.9773712031147568h-16.2Z\" fill=\"rgb(49, 104, 142)\"></path></g></g><path class=\"foreground\" aria-hidden=\"true\" d=\"\" display=\"none\"></path></g><g transform=\"translate(117,0)\"><path class=\"background\" aria-hidden=\"true\" d=\"M0.5,0.5h36v250h-36Z\"></path><g><g class=\"mark-rect role-mark child_marks\" role=\"graphics-object\" aria-roledescription=\"rect mark container\"><path aria-label=\"% of Total Trade Volume by Secondary Market: 1.88722844304;  : otc; Secondary Market: otc\" role=\"graphics-symbol\" aria-roledescription=\"bar\" d=\"M18.900000000000002,245.28192889239625h16.2v4.718071107603748h-16.2Z\" fill=\"rgb(53, 183, 121)\"></path><path aria-label=\"% of Total Trade Volume by Secondary Market: 1.42442996344;  : ats; Secondary Market: ats\" role=\"graphics-symbol\" aria-roledescription=\"bar\" d=\"M0.9000000000000021,246.43892509141168h16.2v3.561074908588324h-16.2Z\" fill=\"rgb(49, 104, 142)\"></path></g></g><path class=\"foreground\" aria-hidden=\"true\" d=\"\" display=\"none\"></path></g><g transform=\"translate(156,0)\"><path class=\"background\" aria-hidden=\"true\" d=\"M0.5,0.5h36v250h-36Z\"></path><g><g class=\"mark-rect role-mark child_marks\" role=\"graphics-object\" aria-roledescription=\"rect mark container\"><path aria-label=\"% of Total Trade Volume by Secondary Market: 0.0624437039993;  : otc; Secondary Market: otc\" role=\"graphics-symbol\" aria-roledescription=\"bar\" d=\"M18.900000000000002,249.84389074000174h16.2v0.15610925999826009h-16.2Z\" fill=\"rgb(53, 183, 121)\"></path><path aria-label=\"% of Total Trade Volume by Secondary Market: 0.0494523693996;  : ats; Secondary Market: ats\" role=\"graphics-symbol\" aria-roledescription=\"bar\" d=\"M0.9000000000000021,249.87636907650094h16.2v0.12363092349906424h-16.2Z\" fill=\"rgb(49, 104, 142)\"></path></g></g><path class=\"foreground\" aria-hidden=\"true\" d=\"\" display=\"none\"></path></g><g transform=\"translate(195,0)\"><path class=\"background\" aria-hidden=\"true\" d=\"M0.5,0.5h36v250h-36Z\"></path><g><g class=\"mark-rect role-mark child_marks\" role=\"graphics-object\" aria-roledescription=\"rect mark container\"><path aria-label=\"% of Total Trade Volume by Secondary Market: 62.1753908367;  : otc; Secondary Market: otc\" role=\"graphics-symbol\" aria-roledescription=\"bar\" d=\"M18.900000000000002,94.56152290836667h16.2v155.43847709163333h-16.2Z\" fill=\"rgb(53, 183, 121)\"></path><path aria-label=\"% of Total Trade Volume by Secondary Market: 71.8314791995;  : ats; Secondary Market: ats\" role=\"graphics-symbol\" aria-roledescription=\"bar\" d=\"M0.9000000000000021,70.42130200132974h16.2v179.57869799867026h-16.2Z\" fill=\"rgb(49, 104, 142)\"></path></g></g><path class=\"foreground\" aria-hidden=\"true\" d=\"\" display=\"none\"></path></g><g transform=\"translate(234,0)\"><path class=\"background\" aria-hidden=\"true\" d=\"M0.5,0.5h36v250h-36Z\"></path><g><g class=\"mark-rect role-mark child_marks\" role=\"graphics-object\" aria-roledescription=\"rect mark container\"><path aria-label=\"% of Total Trade Volume by Secondary Market: 96.6969820472;  : otc; Secondary Market: otc\" role=\"graphics-symbol\" aria-roledescription=\"bar\" d=\"M18.900000000000002,8.257544881954598h16.2v241.7424551180454h-16.2Z\" fill=\"rgb(53, 183, 121)\"></path><path aria-label=\"% of Total Trade Volume by Secondary Market: 97.4860994369;  : ats; Secondary Market: ats\" role=\"graphics-symbol\" aria-roledescription=\"bar\" d=\"M0.9000000000000021,6.284751407787753h16.2v243.71524859221225h-16.2Z\" fill=\"rgb(49, 104, 142)\"></path></g></g><path class=\"foreground\" aria-hidden=\"true\" d=\"\" display=\"none\"></path></g><g transform=\"translate(273,0)\"><path class=\"background\" aria-hidden=\"true\" d=\"M0.5,0.5h36v250h-36Z\"></path><g><g class=\"mark-rect role-mark child_marks\" role=\"graphics-object\" aria-roledescription=\"rect mark container\"><path aria-label=\"% of Total Trade Volume by Secondary Market: 39.5690338084;  : otc; Secondary Market: otc\" role=\"graphics-symbol\" aria-roledescription=\"bar\" d=\"M18.900000000000002,151.07741547907995h16.2v98.92258452092005h-16.2Z\" fill=\"rgb(53, 183, 121)\"></path><path aria-label=\"% of Total Trade Volume by Secondary Market: 33.1612389174;  : ats; Secondary Market: ats\" role=\"graphics-symbol\" aria-roledescription=\"bar\" d=\"M0.9000000000000021,167.09690270657245h16.2v82.90309729342755h-16.2Z\" fill=\"rgb(49, 104, 142)\"></path></g></g><path class=\"foreground\" aria-hidden=\"true\" d=\"\" display=\"none\"></path></g><g transform=\"translate(312,0)\"><path class=\"background\" aria-hidden=\"true\" d=\"M0.5,0.5h36v250h-36Z\"></path><g><g class=\"mark-rect role-mark child_marks\" role=\"graphics-object\" aria-roledescription=\"rect mark container\"><path aria-label=\"% of Total Trade Volume by Secondary Market: 4.32120157005;  : otc; Secondary Market: otc\" role=\"graphics-symbol\" aria-roledescription=\"bar\" d=\"M18.900000000000002,239.19699607486822h16.2v10.803003925131776h-16.2Z\" fill=\"rgb(53, 183, 121)\"></path><path aria-label=\"% of Total Trade Volume by Secondary Market: 3.134317784;  : ats; Secondary Market: ats\" role=\"graphics-symbol\" aria-roledescription=\"bar\" d=\"M0.9000000000000021,242.1642055399941h16.2v7.8357944600059h-16.2Z\" fill=\"rgb(49, 104, 142)\"></path></g></g><path class=\"foreground\" aria-hidden=\"true\" d=\"\" display=\"none\"></path></g><g transform=\"translate(351,0)\"><path class=\"background\" aria-hidden=\"true\" d=\"M0.5,0.5h36v250h-36Z\"></path><g><g class=\"mark-rect role-mark child_marks\" role=\"graphics-object\" aria-roledescription=\"rect mark container\"><path aria-label=\"% of Total Trade Volume by Secondary Market: 1.11664898718;  : otc; Secondary Market: otc\" role=\"graphics-symbol\" aria-roledescription=\"bar\" d=\"M18.900000000000002,247.2083775320406h16.2v2.7916224679593995h-16.2Z\" fill=\"rgb(53, 183, 121)\"></path><path aria-label=\"% of Total Trade Volume by Secondary Market: 1.01812670906;  : ats; Secondary Market: ats\" role=\"graphics-symbol\" aria-roledescription=\"bar\" d=\"M0.9000000000000021,247.4546832273623h16.2v2.5453167726377046h-16.2Z\" fill=\"rgb(49, 104, 142)\"></path></g></g><path class=\"foreground\" aria-hidden=\"true\" d=\"\" display=\"none\"></path></g><g transform=\"translate(390,0)\"><path class=\"background\" aria-hidden=\"true\" d=\"M0.5,0.5h36v250h-36Z\"></path><g><g class=\"mark-rect role-mark child_marks\" role=\"graphics-object\" aria-roledescription=\"rect mark container\"><path aria-label=\"% of Total Trade Volume by Secondary Market: 81.2100531827;  : otc; Secondary Market: otc\" role=\"graphics-symbol\" aria-roledescription=\"bar\" d=\"M18.900000000000002,46.97486704320655h16.2v203.02513295679344h-16.2Z\" fill=\"rgb(53, 183, 121)\"></path><path aria-label=\"% of Total Trade Volume by Secondary Market: 84.7398169415;  : ats; Secondary Market: ats\" role=\"graphics-symbol\" aria-roledescription=\"bar\" d=\"M0.9000000000000021,38.15045764618863h16.2v211.8495423538114h-16.2Z\" fill=\"rgb(49, 104, 142)\"></path></g></g><path class=\"foreground\" aria-hidden=\"true\" d=\"\" display=\"none\"></path></g><g transform=\"translate(429,0)\"><path class=\"background\" aria-hidden=\"true\" d=\"M0.5,0.5h36v250h-36Z\"></path><g><g class=\"mark-rect role-mark child_marks\" role=\"graphics-object\" aria-roledescription=\"rect mark container\"><path aria-label=\"% of Total Trade Volume by Secondary Market: 41.6604341466;  : otc; Secondary Market: otc\" role=\"graphics-symbol\" aria-roledescription=\"bar\" d=\"M18.900000000000002,145.84891463359716h16.2v104.15108536640284h-16.2Z\" fill=\"rgb(53, 183, 121)\"></path><path aria-label=\"% of Total Trade Volume by Secondary Market: 32.0626322641;  : ats; Secondary Market: ats\" role=\"graphics-symbol\" aria-roledescription=\"bar\" d=\"M0.9000000000000021,169.84341933977538h16.2v80.15658066022462h-16.2Z\" fill=\"rgb(49, 104, 142)\"></path></g></g><path class=\"foreground\" aria-hidden=\"true\" d=\"\" display=\"none\"></path></g><g transform=\"translate(468,0)\"><path class=\"background\" aria-hidden=\"true\" d=\"M0.5,0.5h36v250h-36Z\"></path><g><g class=\"mark-rect role-mark child_marks\" role=\"graphics-object\" aria-roledescription=\"rect mark container\"><path aria-label=\"% of Total Trade Volume by Secondary Market: 75.9217496526;  : otc; Secondary Market: otc\" role=\"graphics-symbol\" aria-roledescription=\"bar\" d=\"M18.900000000000002,60.195625868597915h16.2v189.80437413140208h-16.2Z\" fill=\"rgb(53, 183, 121)\"></path><path aria-label=\"% of Total Trade Volume by Secondary Market: 69.9190161897;  : ats; Secondary Market: ats\" role=\"graphics-symbol\" aria-roledescription=\"bar\" d=\"M0.9000000000000021,75.20245952576904h16.2v174.79754047423097h-16.2Z\" fill=\"rgb(49, 104, 142)\"></path></g></g><path class=\"foreground\" aria-hidden=\"true\" d=\"\" display=\"none\"></path></g><g transform=\"translate(507,0)\"><path class=\"background\" aria-hidden=\"true\" d=\"M0.5,0.5h36v250h-36Z\"></path><g><g class=\"mark-rect role-mark child_marks\" role=\"graphics-object\" aria-roledescription=\"rect mark container\"><path aria-label=\"% of Total Trade Volume by Secondary Market: 7.84598213701;  : otc; Secondary Market: otc\" role=\"graphics-symbol\" aria-roledescription=\"bar\" d=\"M18.900000000000002,230.385044657466h16.2v19.61495534253399h-16.2Z\" fill=\"rgb(53, 183, 121)\"></path><path aria-label=\"% of Total Trade Volume by Secondary Market: 5.90071393843;  : ats; Secondary Market: ats\" role=\"graphics-symbol\" aria-roledescription=\"bar\" d=\"M0.9000000000000021,235.24821515392642h16.2v14.751784846073576h-16.2Z\" fill=\"rgb(49, 104, 142)\"></path></g></g><path class=\"foreground\" aria-hidden=\"true\" d=\"\" display=\"none\"></path></g><g transform=\"translate(546,0)\"><path class=\"background\" aria-hidden=\"true\" d=\"M0.5,0.5h36v250h-36Z\"></path><g><g class=\"mark-rect role-mark child_marks\" role=\"graphics-object\" aria-roledescription=\"rect mark container\"><path aria-label=\"% of Total Trade Volume by Secondary Market: 75.2596611247;  : otc; Secondary Market: otc\" role=\"graphics-symbol\" aria-roledescription=\"bar\" d=\"M18.900000000000002,61.850847188226446h16.2v188.14915281177355h-16.2Z\" fill=\"rgb(53, 183, 121)\"></path><path aria-label=\"% of Total Trade Volume by Secondary Market: 69.4010487714;  : ats; Secondary Market: ats\" role=\"graphics-symbol\" aria-roledescription=\"bar\" d=\"M0.9000000000000021,76.49737807138732h16.2v173.50262192861268h-16.2Z\" fill=\"rgb(49, 104, 142)\"></path></g></g><path class=\"foreground\" aria-hidden=\"true\" d=\"\" display=\"none\"></path></g></g><g class=\"mark-group role-legend\" role=\"graphics-symbol\" aria-roledescription=\"legend\" aria-label=\"Symbol legend titled 'Secondary Market' for fill color with 2 values: ats, otc\"><g transform=\"translate(601,0)\"><path class=\"background\" aria-hidden=\"true\" d=\"M0,0h111v40h-111Z\" pointer-events=\"none\"></path><g><g class=\"mark-group role-legend-entry\"><g transform=\"translate(0,16)\"><path class=\"background\" aria-hidden=\"true\" d=\"M0,0h0v0h0Z\" pointer-events=\"none\"></path><g><g class=\"mark-group role-scope\" role=\"graphics-object\" aria-roledescription=\"group mark container\"><g transform=\"translate(0,0)\"><path class=\"background\" aria-hidden=\"true\" d=\"M0,0h32v11h-32Z\" pointer-events=\"none\" opacity=\"1\"></path><g><g class=\"mark-symbol role-legend-symbol\" pointer-events=\"none\"><path transform=\"translate(6,6)\" d=\"M-5,-5h10v10h-10Z\" fill=\"rgb(49, 104, 142)\" stroke-width=\"1.5\" opacity=\"1\"></path></g><g class=\"mark-text role-legend-label\" pointer-events=\"none\"><text text-anchor=\"start\" transform=\"translate(16,9)\" font-family=\"sans-serif\" font-size=\"10px\" fill=\"#000\" opacity=\"1\">ats</text></g></g><path class=\"foreground\" aria-hidden=\"true\" d=\"\" pointer-events=\"none\" display=\"none\"></path></g><g transform=\"translate(0,13)\"><path class=\"background\" aria-hidden=\"true\" d=\"M0,0h32v11h-32Z\" pointer-events=\"none\" opacity=\"1\"></path><g><g class=\"mark-symbol role-legend-symbol\" pointer-events=\"none\"><path transform=\"translate(6,6)\" d=\"M-5,-5h10v10h-10Z\" fill=\"rgb(53, 183, 121)\" stroke-width=\"1.5\" opacity=\"1\"></path></g><g class=\"mark-text role-legend-label\" pointer-events=\"none\"><text text-anchor=\"start\" transform=\"translate(16,9)\" font-family=\"sans-serif\" font-size=\"10px\" fill=\"#000\" opacity=\"1\">otc</text></g></g><path class=\"foreground\" aria-hidden=\"true\" d=\"\" pointer-events=\"none\" display=\"none\"></path></g></g></g><path class=\"foreground\" aria-hidden=\"true\" d=\"\" pointer-events=\"none\" display=\"none\"></path></g></g><g class=\"mark-text role-legend-title\" pointer-events=\"none\"><text text-anchor=\"start\" transform=\"translate(0,9)\" font-family=\"sans-serif\" font-size=\"11px\" font-weight=\"bold\" fill=\"#000\" opacity=\"1\">Secondary Market</text></g></g><path class=\"foreground\" aria-hidden=\"true\" d=\"\" pointer-events=\"none\" display=\"none\"></path></g></g><g class=\"mark-group role-title\"><g transform=\"translate(335.5,-102)\"><path class=\"background\" aria-hidden=\"true\" d=\"M0,0h0v0h0Z\" pointer-events=\"none\"></path><g><g class=\"mark-text role-title-text\" role=\"graphics-symbol\" aria-roledescription=\"title\" aria-label=\"Title text 'Non-MTN-Bond Trades by Covenant Category as Percentage of Total  Non-MTN-Bond Trade Count by Secondary Bond Market - 2019Q1'\" pointer-events=\"none\"><text text-anchor=\"middle\" transform=\"translate(0,11)\" font-family=\"sans-serif\" font-size=\"14px\" font-weight=\"bold\" fill=\"#000\" opacity=\"1\"><tspan>Non-MTN-Bond Trades by Covenant Category as Percentage of Total</tspan><tspan x=\"0\" dy=\"16\">Non-MTN-Bond Trade Count by Secondary Bond Market - 2019Q1</tspan></text></g></g><path class=\"foreground\" aria-hidden=\"true\" d=\"\" pointer-events=\"none\" display=\"none\"></path></g></g></g><path class=\"foreground\" aria-hidden=\"true\" d=\"\" display=\"none\"></path></g></g></g></svg>\n"
      ],
      "text/plain": [
       "@vlplot(\n",
       "    config={\n",
       "        view={\n",
       "            stroke=\"transparent\"\n",
       "        },\n",
       "        axis={\n",
       "            domainWidth=3\n",
       "        },\n",
       "        opacity={\n",
       "            value=0.7\n",
       "        }\n",
       "    },\n",
       "    title={\n",
       "        text=[\n",
       "            \"Non-MTN-Bond Trades by Covenant Category as Percentage of Total \",\n",
       "            \"Non-MTN-Bond Trade Count by Secondary Bond Market - 2019Q1\"\n",
       "        ],\n",
       "        align=\"center\",\n",
       "        anchor=\"middle\",\n",
       "        fontSize=14,\n",
       "        offset=20\n",
       "    },\n",
       "    spacing=1,\n",
       "    width={\n",
       "        step=18\n",
       "    },\n",
       "    height=250,\n",
       "    mark=\"bar\",\n",
       "    encoding={\n",
       "        column={\n",
       "            type=\"ordinal\",\n",
       "            title=\"Covenant Category\",\n",
       "            sort=\"ascending\",\n",
       "            field=\"cov_cat\"\n",
       "        },\n",
       "        y={\n",
       "            axis={\n",
       "                title=\"% of Total Trade Volume by Secondary Market\",\n",
       "                grid=false,\n",
       "                stack=nothing\n",
       "            },\n",
       "            field=\"perc_sbm_total\"\n",
       "        },\n",
       "        x={\n",
       "            type=\"nominal\",\n",
       "            axis={\n",
       "                title=\" \"\n",
       "            },\n",
       "            field=\"sbm\"\n",
       "        },\n",
       "        color={\n",
       "            legend={\n",
       "                title=\"Secondary Market\"\n",
       "            },\n",
       "            scale={\n",
       "                scheme=\"viridis\"\n",
       "            },\n",
       "            field=\"sbm\",\n",
       "            type=\"nominal\"\n",
       "        }\n",
       "    },\n",
       "    data={\n",
       "        values=...\n",
       "    }\n",
       ")"
      ]
     },
     "execution_count": 74,
     "metadata": {},
     "output_type": "execute_result"
    }
   ],
   "source": [
    "pl[12]"
   ]
  },
  {
   "cell_type": "code",
   "execution_count": 82,
   "metadata": {},
   "outputs": [],
   "source": [
    "# scp -r artur@acropolis.uchicago.edu:/home/artur/BondPricing/bond-data/plots/ ~/Desktop/\n",
    "df = deepcopy(tt)\n",
    "period = string(df[1, :period])\n",
    "fpname = PlotMod.get_plt_fpath_name(plt_type, stats_var, \n",
    "                            y_var, period,  \n",
    "                            main_path, plt_dir;\n",
    "                            file_ext=\"svg\")\n",
    "pl[12] |> VegaLite.save(fpname)"
   ]
  },
  {
   "cell_type": "code",
   "execution_count": null,
   "metadata": {},
   "outputs": [],
   "source": []
  },
  {
   "cell_type": "code",
   "execution_count": null,
   "metadata": {},
   "outputs": [],
   "source": []
  },
  {
   "cell_type": "code",
   "execution_count": null,
   "metadata": {},
   "outputs": [],
   "source": []
  },
  {
   "cell_type": "code",
   "execution_count": null,
   "metadata": {},
   "outputs": [],
   "source": []
  },
  {
   "cell_type": "code",
   "execution_count": null,
   "metadata": {},
   "outputs": [],
   "source": []
  },
  {
   "cell_type": "code",
   "execution_count": null,
   "metadata": {},
   "outputs": [],
   "source": [
    "\n",
    "function prepare_cat_plot2(dfa::DataFrame; stat::Symbol=:volume, \n",
    "                          rt::Symbol=:any, cvt::Symbol=:any,\n",
    "                          date_cols::Array{Symbol, 1}=[:trd_exctn_yr, :trd_exctn_qtr])\n",
    "#     cond = .&(dfa[:, :sbm] .!= :both, dfa[:, :rt] .!= :any, dfa[:, :cvt] .== :any)\n",
    "#     df = dfa[cond, :]\n",
    "    rt_renamer(x) = x == :any ? \"ANY\" : x == :ig ? \"Investment Grade\" : \"High Yield\"\n",
    "    sbm_renamer(x) = uppercase(string(x))\n",
    "\n",
    "    df[!, :period] .= !isempty(date_cols) ? PlotMod.get_period(dfa, date_cols) : \"\"\n",
    "    \n",
    "    header_cols = [:period, :sbm, :rt, :cvt]\n",
    "    statd = Dict(:count => [\"count\", :_trd_count], \n",
    "                 :volume => [\"vol\", :_trd_vol_tr],\n",
    "                 :bonds => [\"bond\", :_bonds],\n",
    "                 :issuers => [\"issuers\", :_issuers])\n",
    "\n",
    "    stat_cols = [Symbol(x) for x in names(df) if .&(occursin(\"cg\", x), occursin(statd[stat][1], x))] \n",
    "    col_ord = vcat(header_cols, stat_cols)\n",
    "\n",
    "    # Get Volume by SBM\n",
    "    any_cond = .&(df[:, :sbm] .== :any, [df[:, x] .== :any for x in [:rt, :cvt]]...)\n",
    "    ats_cond = .&(df[:, :sbm] .== :ats, [df[:, x] .== :any for x in [:rt, :cvt]]...)\n",
    "    otc_cond = .&(df[:, :sbm] .== :otc, [df[:, x] .== :any for x in [:rt, :cvt]]...)\n",
    "\n",
    "    vold = Dict{Symbol, Float64}(Symbol(:total, statd[stat][2]) => df[any_cond, Symbol(:total, statd[stat][2])][1],\n",
    "                                 Symbol(:ats, statd[stat][2]) => df[ats_cond, Symbol(:total, statd[stat][2])][1],\n",
    "                                 Symbol(:otc, statd[stat][2]) => df[otc_cond, Symbol(:total, statd[stat][2])][1])\n",
    "\n",
    "    # Pivot Table\n",
    "    df = stack(df[:, col_ord], Not([:period, :sbm, :rt, :cvt]))\n",
    "    df = df[df[:, :sbm] .!= :any, :]\n",
    "\n",
    "    # Covenant Categories\n",
    "    var_renamer(x) = parse(Int64, rsplit(rsplit(string(x), \"_\")[1], \"cg\")[2])\n",
    "    df[!, :cov_cat] = var_renamer.(df[:, :variable])\n",
    "    \n",
    "    # Covenant Category's (Vol, Bond, Issuer, Trd) Count as Percentage of Total Count\n",
    "    df[:, :perc_total] = (df[:, :value]/vold[Symbol(:total, statd[stat][2])]) * 100\n",
    "\n",
    "    # Covenant Category's Trade Volume as Percentage of Total Trade Volume\n",
    "    # by Secondary Bond Market\n",
    "    f(sbm, value) =  (value/ vold[Symbol(sbm, statd[stat][2]) ]) .* 100\n",
    "    df[:,  :perc_sbm_total] = f.(df[:, :sbm], df[:, :value])\n",
    "    \n",
    "    return df\n",
    "end\n",
    "\n"
   ]
  },
  {
   "cell_type": "code",
   "execution_count": 140,
   "metadata": {},
   "outputs": [
    {
     "name": "stderr",
     "output_type": "stream",
     "text": [
      "WARNING: replacing module PlotMod.\n"
     ]
    },
    {
     "data": {
      "text/html": [
       "<table class=\"data-frame\"><thead><tr><th></th><th>period</th><th>sbm</th><th>rt</th><th>cvt</th><th>variable</th><th>value</th><th>cov_cat</th><th>perc_total</th><th>perc_sbm_total</th></tr><tr><th></th><th>Symbol</th><th>Symbol</th><th>Symbol</th><th>Symbol</th><th>Cat…</th><th>Int64</th><th>Int64</th><th>Float64</th><th>Float64</th></tr></thead><tbody><p>30 rows × 9 columns</p><tr><th>1</th><td>2019Q2</td><td>otc</td><td>any</td><td>any</td><td>cg1_bonds</td><td>499</td><td>1</td><td>5.74951</td><td>5.75017</td></tr><tr><th>2</th><td>2019Q2</td><td>ats</td><td>any</td><td>any</td><td>cg1_bonds</td><td>487</td><td>1</td><td>5.61125</td><td>5.94482</td></tr><tr><th>3</th><td>2019Q2</td><td>otc</td><td>any</td><td>any</td><td>cg2_bonds</td><td>6692</td><td>2</td><td>77.1057</td><td>77.1145</td></tr><tr><th>4</th><td>2019Q2</td><td>ats</td><td>any</td><td>any</td><td>cg2_bonds</td><td>6466</td><td>2</td><td>74.5017</td><td>78.9307</td></tr><tr><th>5</th><td>2019Q2</td><td>otc</td><td>any</td><td>any</td><td>cg3_bonds</td><td>74</td><td>3</td><td>0.852633</td><td>0.852731</td></tr><tr><th>6</th><td>2019Q2</td><td>ats</td><td>any</td><td>any</td><td>cg3_bonds</td><td>75</td><td>3</td><td>0.864155</td><td>0.915527</td></tr><tr><th>7</th><td>2019Q2</td><td>otc</td><td>any</td><td>any</td><td>cg4_bonds</td><td>106</td><td>4</td><td>1.22134</td><td>1.22148</td></tr><tr><th>8</th><td>2019Q2</td><td>ats</td><td>any</td><td>any</td><td>cg4_bonds</td><td>99</td><td>4</td><td>1.14068</td><td>1.2085</td></tr><tr><th>9</th><td>2019Q2</td><td>otc</td><td>any</td><td>any</td><td>cg5_bonds</td><td>10</td><td>5</td><td>0.115221</td><td>0.115234</td></tr><tr><th>10</th><td>2019Q2</td><td>ats</td><td>any</td><td>any</td><td>cg5_bonds</td><td>9</td><td>5</td><td>0.103699</td><td>0.109863</td></tr><tr><th>11</th><td>2019Q2</td><td>otc</td><td>any</td><td>any</td><td>cg6_bonds</td><td>5033</td><td>6</td><td>57.9906</td><td>57.9972</td></tr><tr><th>12</th><td>2019Q2</td><td>ats</td><td>any</td><td>any</td><td>cg6_bonds</td><td>4876</td><td>6</td><td>56.1816</td><td>59.5215</td></tr><tr><th>13</th><td>2019Q2</td><td>otc</td><td>any</td><td>any</td><td>cg7_bonds</td><td>8219</td><td>7</td><td>94.6999</td><td>94.7108</td></tr><tr><th>14</th><td>2019Q2</td><td>ats</td><td>any</td><td>any</td><td>cg7_bonds</td><td>7814</td><td>7</td><td>90.0334</td><td>95.3857</td></tr><tr><th>15</th><td>2019Q2</td><td>otc</td><td>any</td><td>any</td><td>cg8_bonds</td><td>3449</td><td>8</td><td>39.7396</td><td>39.7442</td></tr><tr><th>16</th><td>2019Q2</td><td>ats</td><td>any</td><td>any</td><td>cg8_bonds</td><td>3346</td><td>8</td><td>38.5528</td><td>40.8447</td></tr><tr><th>17</th><td>2019Q2</td><td>otc</td><td>any</td><td>any</td><td>cg9_bonds</td><td>356</td><td>9</td><td>4.10186</td><td>4.10233</td></tr><tr><th>18</th><td>2019Q2</td><td>ats</td><td>any</td><td>any</td><td>cg9_bonds</td><td>352</td><td>9</td><td>4.05577</td><td>4.29688</td></tr><tr><th>19</th><td>2019Q2</td><td>otc</td><td>any</td><td>any</td><td>cg10_bonds</td><td>113</td><td>10</td><td>1.30199</td><td>1.30214</td></tr><tr><th>20</th><td>2019Q2</td><td>ats</td><td>any</td><td>any</td><td>cg10_bonds</td><td>109</td><td>10</td><td>1.25591</td><td>1.33057</td></tr><tr><th>21</th><td>2019Q2</td><td>otc</td><td>any</td><td>any</td><td>cg11_bonds</td><td>6755</td><td>11</td><td>77.8315</td><td>77.8405</td></tr><tr><th>22</th><td>2019Q2</td><td>ats</td><td>any</td><td>any</td><td>cg11_bonds</td><td>6434</td><td>11</td><td>74.133</td><td>78.54</td></tr><tr><th>23</th><td>2019Q2</td><td>otc</td><td>any</td><td>any</td><td>cg12_bonds</td><td>3442</td><td>12</td><td>39.6589</td><td>39.6635</td></tr><tr><th>24</th><td>2019Q2</td><td>ats</td><td>any</td><td>any</td><td>cg12_bonds</td><td>3316</td><td>12</td><td>38.2072</td><td>40.4785</td></tr><tr><th>25</th><td>2019Q2</td><td>otc</td><td>any</td><td>any</td><td>cg13_bonds</td><td>6666</td><td>13</td><td>76.8061</td><td>76.8149</td></tr><tr><th>26</th><td>2019Q2</td><td>ats</td><td>any</td><td>any</td><td>cg13_bonds</td><td>6362</td><td>13</td><td>73.3034</td><td>77.6611</td></tr><tr><th>27</th><td>2019Q2</td><td>otc</td><td>any</td><td>any</td><td>cg14_bonds</td><td>561</td><td>14</td><td>6.46388</td><td>6.46462</td></tr><tr><th>28</th><td>2019Q2</td><td>ats</td><td>any</td><td>any</td><td>cg14_bonds</td><td>549</td><td>14</td><td>6.32561</td><td>6.70166</td></tr><tr><th>29</th><td>2019Q2</td><td>otc</td><td>any</td><td>any</td><td>cg15_bonds</td><td>6593</td><td>15</td><td>75.965</td><td>75.9737</td></tr><tr><th>30</th><td>2019Q2</td><td>ats</td><td>any</td><td>any</td><td>cg15_bonds</td><td>6290</td><td>15</td><td>72.4738</td><td>76.7822</td></tr></tbody></table>"
      ],
      "text/latex": [
       "\\begin{tabular}{r|ccccccccc}\n",
       "\t& period & sbm & rt & cvt & variable & value & cov\\_cat & perc\\_total & perc\\_sbm\\_total\\\\\n",
       "\t\\hline\n",
       "\t& Symbol & Symbol & Symbol & Symbol & Cat… & Int64 & Int64 & Float64 & Float64\\\\\n",
       "\t\\hline\n",
       "\t1 & 2019Q2 & otc & any & any & cg1\\_bonds & 499 & 1 & 5.74951 & 5.75017 \\\\\n",
       "\t2 & 2019Q2 & ats & any & any & cg1\\_bonds & 487 & 1 & 5.61125 & 5.94482 \\\\\n",
       "\t3 & 2019Q2 & otc & any & any & cg2\\_bonds & 6692 & 2 & 77.1057 & 77.1145 \\\\\n",
       "\t4 & 2019Q2 & ats & any & any & cg2\\_bonds & 6466 & 2 & 74.5017 & 78.9307 \\\\\n",
       "\t5 & 2019Q2 & otc & any & any & cg3\\_bonds & 74 & 3 & 0.852633 & 0.852731 \\\\\n",
       "\t6 & 2019Q2 & ats & any & any & cg3\\_bonds & 75 & 3 & 0.864155 & 0.915527 \\\\\n",
       "\t7 & 2019Q2 & otc & any & any & cg4\\_bonds & 106 & 4 & 1.22134 & 1.22148 \\\\\n",
       "\t8 & 2019Q2 & ats & any & any & cg4\\_bonds & 99 & 4 & 1.14068 & 1.2085 \\\\\n",
       "\t9 & 2019Q2 & otc & any & any & cg5\\_bonds & 10 & 5 & 0.115221 & 0.115234 \\\\\n",
       "\t10 & 2019Q2 & ats & any & any & cg5\\_bonds & 9 & 5 & 0.103699 & 0.109863 \\\\\n",
       "\t11 & 2019Q2 & otc & any & any & cg6\\_bonds & 5033 & 6 & 57.9906 & 57.9972 \\\\\n",
       "\t12 & 2019Q2 & ats & any & any & cg6\\_bonds & 4876 & 6 & 56.1816 & 59.5215 \\\\\n",
       "\t13 & 2019Q2 & otc & any & any & cg7\\_bonds & 8219 & 7 & 94.6999 & 94.7108 \\\\\n",
       "\t14 & 2019Q2 & ats & any & any & cg7\\_bonds & 7814 & 7 & 90.0334 & 95.3857 \\\\\n",
       "\t15 & 2019Q2 & otc & any & any & cg8\\_bonds & 3449 & 8 & 39.7396 & 39.7442 \\\\\n",
       "\t16 & 2019Q2 & ats & any & any & cg8\\_bonds & 3346 & 8 & 38.5528 & 40.8447 \\\\\n",
       "\t17 & 2019Q2 & otc & any & any & cg9\\_bonds & 356 & 9 & 4.10186 & 4.10233 \\\\\n",
       "\t18 & 2019Q2 & ats & any & any & cg9\\_bonds & 352 & 9 & 4.05577 & 4.29688 \\\\\n",
       "\t19 & 2019Q2 & otc & any & any & cg10\\_bonds & 113 & 10 & 1.30199 & 1.30214 \\\\\n",
       "\t20 & 2019Q2 & ats & any & any & cg10\\_bonds & 109 & 10 & 1.25591 & 1.33057 \\\\\n",
       "\t21 & 2019Q2 & otc & any & any & cg11\\_bonds & 6755 & 11 & 77.8315 & 77.8405 \\\\\n",
       "\t22 & 2019Q2 & ats & any & any & cg11\\_bonds & 6434 & 11 & 74.133 & 78.54 \\\\\n",
       "\t23 & 2019Q2 & otc & any & any & cg12\\_bonds & 3442 & 12 & 39.6589 & 39.6635 \\\\\n",
       "\t24 & 2019Q2 & ats & any & any & cg12\\_bonds & 3316 & 12 & 38.2072 & 40.4785 \\\\\n",
       "\t25 & 2019Q2 & otc & any & any & cg13\\_bonds & 6666 & 13 & 76.8061 & 76.8149 \\\\\n",
       "\t26 & 2019Q2 & ats & any & any & cg13\\_bonds & 6362 & 13 & 73.3034 & 77.6611 \\\\\n",
       "\t27 & 2019Q2 & otc & any & any & cg14\\_bonds & 561 & 14 & 6.46388 & 6.46462 \\\\\n",
       "\t28 & 2019Q2 & ats & any & any & cg14\\_bonds & 549 & 14 & 6.32561 & 6.70166 \\\\\n",
       "\t29 & 2019Q2 & otc & any & any & cg15\\_bonds & 6593 & 15 & 75.965 & 75.9737 \\\\\n",
       "\t30 & 2019Q2 & ats & any & any & cg15\\_bonds & 6290 & 15 & 72.4738 & 76.7822 \\\\\n",
       "\\end{tabular}\n"
      ],
      "text/plain": [
       "30×9 DataFrame\n",
       "│ Row │ period │ sbm    │ rt     │ cvt    │ variable   │ value │ cov_cat │ perc_total │ perc_sbm_total │\n",
       "│     │ \u001b[90mSymbol\u001b[39m │ \u001b[90mSymbol\u001b[39m │ \u001b[90mSymbol\u001b[39m │ \u001b[90mSymbol\u001b[39m │ \u001b[90mCat…\u001b[39m       │ \u001b[90mInt64\u001b[39m │ \u001b[90mInt64\u001b[39m   │ \u001b[90mFloat64\u001b[39m    │ \u001b[90mFloat64\u001b[39m        │\n",
       "├─────┼────────┼────────┼────────┼────────┼────────────┼───────┼─────────┼────────────┼────────────────┤\n",
       "│ 1   │ 2019Q2 │ otc    │ any    │ any    │ cg1_bonds  │ 499   │ 1       │ 5.74951    │ 5.75017        │\n",
       "│ 2   │ 2019Q2 │ ats    │ any    │ any    │ cg1_bonds  │ 487   │ 1       │ 5.61125    │ 5.94482        │\n",
       "│ 3   │ 2019Q2 │ otc    │ any    │ any    │ cg2_bonds  │ 6692  │ 2       │ 77.1057    │ 77.1145        │\n",
       "│ 4   │ 2019Q2 │ ats    │ any    │ any    │ cg2_bonds  │ 6466  │ 2       │ 74.5017    │ 78.9307        │\n",
       "│ 5   │ 2019Q2 │ otc    │ any    │ any    │ cg3_bonds  │ 74    │ 3       │ 0.852633   │ 0.852731       │\n",
       "│ 6   │ 2019Q2 │ ats    │ any    │ any    │ cg3_bonds  │ 75    │ 3       │ 0.864155   │ 0.915527       │\n",
       "│ 7   │ 2019Q2 │ otc    │ any    │ any    │ cg4_bonds  │ 106   │ 4       │ 1.22134    │ 1.22148        │\n",
       "│ 8   │ 2019Q2 │ ats    │ any    │ any    │ cg4_bonds  │ 99    │ 4       │ 1.14068    │ 1.2085         │\n",
       "│ 9   │ 2019Q2 │ otc    │ any    │ any    │ cg5_bonds  │ 10    │ 5       │ 0.115221   │ 0.115234       │\n",
       "│ 10  │ 2019Q2 │ ats    │ any    │ any    │ cg5_bonds  │ 9     │ 5       │ 0.103699   │ 0.109863       │\n",
       "│ 11  │ 2019Q2 │ otc    │ any    │ any    │ cg6_bonds  │ 5033  │ 6       │ 57.9906    │ 57.9972        │\n",
       "│ 12  │ 2019Q2 │ ats    │ any    │ any    │ cg6_bonds  │ 4876  │ 6       │ 56.1816    │ 59.5215        │\n",
       "│ 13  │ 2019Q2 │ otc    │ any    │ any    │ cg7_bonds  │ 8219  │ 7       │ 94.6999    │ 94.7108        │\n",
       "│ 14  │ 2019Q2 │ ats    │ any    │ any    │ cg7_bonds  │ 7814  │ 7       │ 90.0334    │ 95.3857        │\n",
       "│ 15  │ 2019Q2 │ otc    │ any    │ any    │ cg8_bonds  │ 3449  │ 8       │ 39.7396    │ 39.7442        │\n",
       "│ 16  │ 2019Q2 │ ats    │ any    │ any    │ cg8_bonds  │ 3346  │ 8       │ 38.5528    │ 40.8447        │\n",
       "│ 17  │ 2019Q2 │ otc    │ any    │ any    │ cg9_bonds  │ 356   │ 9       │ 4.10186    │ 4.10233        │\n",
       "│ 18  │ 2019Q2 │ ats    │ any    │ any    │ cg9_bonds  │ 352   │ 9       │ 4.05577    │ 4.29688        │\n",
       "│ 19  │ 2019Q2 │ otc    │ any    │ any    │ cg10_bonds │ 113   │ 10      │ 1.30199    │ 1.30214        │\n",
       "│ 20  │ 2019Q2 │ ats    │ any    │ any    │ cg10_bonds │ 109   │ 10      │ 1.25591    │ 1.33057        │\n",
       "│ 21  │ 2019Q2 │ otc    │ any    │ any    │ cg11_bonds │ 6755  │ 11      │ 77.8315    │ 77.8405        │\n",
       "│ 22  │ 2019Q2 │ ats    │ any    │ any    │ cg11_bonds │ 6434  │ 11      │ 74.133     │ 78.54          │\n",
       "│ 23  │ 2019Q2 │ otc    │ any    │ any    │ cg12_bonds │ 3442  │ 12      │ 39.6589    │ 39.6635        │\n",
       "│ 24  │ 2019Q2 │ ats    │ any    │ any    │ cg12_bonds │ 3316  │ 12      │ 38.2072    │ 40.4785        │\n",
       "│ 25  │ 2019Q2 │ otc    │ any    │ any    │ cg13_bonds │ 6666  │ 13      │ 76.8061    │ 76.8149        │\n",
       "│ 26  │ 2019Q2 │ ats    │ any    │ any    │ cg13_bonds │ 6362  │ 13      │ 73.3034    │ 77.6611        │\n",
       "│ 27  │ 2019Q2 │ otc    │ any    │ any    │ cg14_bonds │ 561   │ 14      │ 6.46388    │ 6.46462        │\n",
       "│ 28  │ 2019Q2 │ ats    │ any    │ any    │ cg14_bonds │ 549   │ 14      │ 6.32561    │ 6.70166        │\n",
       "│ 29  │ 2019Q2 │ otc    │ any    │ any    │ cg15_bonds │ 6593  │ 15      │ 75.965     │ 75.9737        │\n",
       "│ 30  │ 2019Q2 │ ats    │ any    │ any    │ cg15_bonds │ 6290  │ 15      │ 72.4738    │ 76.7822        │"
      ]
     },
     "execution_count": 140,
     "metadata": {},
     "output_type": "execute_result"
    }
   ],
   "source": [
    "include(string(joinpath(module_path, \"plot_module\"), \".jl\"))\n",
    "ats_tt = PlotMod.prepare_cat_plot(dfa_qtr, stat=:bonds)"
   ]
  },
  {
   "cell_type": "code",
   "execution_count": null,
   "metadata": {},
   "outputs": [],
   "source": [
    "include(string(joinpath(module_path, \"plot_module\"), \".jl\"))\n",
    "catdf = PlotMod.prepare_sbm_rt_cov_vol_df(dfa, catn)"
   ]
  },
  {
   "cell_type": "code",
   "execution_count": 381,
   "metadata": {},
   "outputs": [
    {
     "name": "stdout",
     "output_type": "stream",
     "text": [
      "7\n"
     ]
    },
    {
     "name": "stderr",
     "output_type": "stream",
     "text": [
      "WARNING: replacing module PlotMod.\n"
     ]
    },
    {
     "data": {
      "application/vnd.vegalite.v4+json": {
       "config": {
        "axis": {
         "domainWidth": 3
        },
        "opacity": {
         "value": 0.7
        },
        "view": {
         "stroke": "transparent"
        }
       },
       "data": {
        "values": [
         {
          "RT": "Investment Grade",
          "SBM": "ATS",
          "cg7_trd_vol_tr": 50.18855294836997,
          "cvt": "cov",
          "perc_trd_vol": 99.99999999999993,
          "period": "2019Q2",
          "rt": "ig",
          "sbm": "ats",
          "total_trd_vol_tr": 50.18855294837
         },
         {
          "RT": "Investment Grade",
          "SBM": "OTC",
          "cg7_trd_vol_tr": 821.3385584982539,
          "cvt": "cov",
          "perc_trd_vol": 100.00000000000054,
          "period": "2019Q2",
          "rt": "ig",
          "sbm": "otc",
          "total_trd_vol_tr": 821.3385584982495
         },
         {
          "RT": "High Yield",
          "SBM": "ATS",
          "cg7_trd_vol_tr": 21.219666413610003,
          "cvt": "cov",
          "perc_trd_vol": 100.00000000000004,
          "period": "2019Q2",
          "rt": "hy",
          "sbm": "ats",
          "total_trd_vol_tr": 21.219666413609993
         },
         {
          "RT": "High Yield",
          "SBM": "OTC",
          "cg7_trd_vol_tr": 297.4570099392697,
          "cvt": "cov",
          "perc_trd_vol": 99.99999999999983,
          "period": "2019Q2",
          "rt": "hy",
          "sbm": "otc",
          "total_trd_vol_tr": 297.4570099392702
         }
        ]
       },
       "encoding": {
        "color": {
         "field": "SBM",
         "legend": {
          "title": "Secondary Market"
         },
         "scale": {
          "scheme": "viridis"
         },
         "type": "nominal"
        },
        "column": {
         "field": "RT",
         "sort": "descending",
         "title": "Rating",
         "type": "nominal"
        },
        "x": {
         "axis": {
          "title": " "
         },
         "field": "SBM",
         "type": "nominal"
        },
        "y": {
         "axis": {
          "grid": false,
          "stack": null,
          "title": "%"
         },
         "field": "perc_trd_vol",
         "type": "quantitative"
        }
       },
       "height": 240,
       "mark": "bar",
       "spacing": 10,
       "title": {
        "align": "center",
        "anchor": "middle",
        "fontSize": 14,
        "offset": 20,
        "text": [
         "Category 7 Trade Volume as Percentage of Total Covenant-Restricted Bond Trade Volume",
         "by Secondary Bond Market and Rating - 2019Q2"
        ]
       },
       "width": 300
      },
      "image/png": "[encoded data removed]",
      "image/svg+xml": [
       "<?xml version=\"1.0\" encoding=\"utf-8\"?>\n",
       "<!DOCTYPE svg PUBLIC \"-//W3C//DTD SVG 1.1//EN\" \"http://www.w3.org/Graphics/SVG/1.1/DTD/svg11.dtd\">\n",
       "<svg class=\"marks\" width=\"793\" height=\"395\" viewBox=\"0 0 793 395\" version=\"1.1\" xmlns=\"http://www.w3.org/2000/svg\" xmlns:xlink=\"http://www.w3.org/1999/xlink\"><rect width=\"793\" height=\"395\" fill=\"white\"></rect><g fill=\"none\" stroke-miterlimit=\"10\" transform=\"translate(46,107)\"><g class=\"mark-group role-frame root\" role=\"graphics-object\" aria-roledescription=\"group mark container\"><g transform=\"translate(0,0)\"><path class=\"background\" aria-hidden=\"true\" d=\"M0,0h0v0h0Z\"></path><g><g class=\"mark-group role-column-title column-title\" role=\"graphics-object\" aria-roledescription=\"group mark container\"><g transform=\"translate(306,-31)\"><path class=\"background\" aria-hidden=\"true\" d=\"M0,0h0v0h0Z\"></path><g><g class=\"mark-group role-title\"><g transform=\"translate(0,-21)\"><path class=\"background\" aria-hidden=\"true\" d=\"M0,0h0v0h0Z\" pointer-events=\"none\"></path><g><g class=\"mark-text role-title-text\" role=\"graphics-symbol\" aria-roledescription=\"title\" aria-label=\"Title text 'Rating'\" pointer-events=\"none\"><text text-anchor=\"middle\" transform=\"translate(0,9)\" font-family=\"sans-serif\" font-size=\"11px\" font-weight=\"bold\" fill=\"#000\" opacity=\"1\">Rating</text></g></g><path class=\"foreground\" aria-hidden=\"true\" d=\"\" pointer-events=\"none\" display=\"none\"></path></g></g></g><path class=\"foreground\" aria-hidden=\"true\" d=\"\" display=\"none\"></path></g></g><g class=\"mark-group role-row-header row_header\" role=\"graphics-object\" aria-roledescription=\"group mark container\"><g transform=\"translate(-1,0)\"><path class=\"background\" aria-hidden=\"true\" d=\"M0,0h0v240h0Z\"></path><g><g class=\"mark-group role-axis\" role=\"graphics-symbol\" aria-roledescription=\"axis\" aria-label=\"Y-axis titled '%' for a linear scale with values from 0 to 110\"><g transform=\"translate(0.5,0.5)\"><path class=\"background\" aria-hidden=\"true\" d=\"M0,0h0v0h0Z\" pointer-events=\"none\"></path><g><g class=\"mark-rule role-axis-tick\" pointer-events=\"none\"><line transform=\"translate(0,240)\" x2=\"-5\" y2=\"0\" stroke=\"#888\" stroke-width=\"1\" opacity=\"1\"></line><line transform=\"translate(0,196)\" x2=\"-5\" y2=\"0\" stroke=\"#888\" stroke-width=\"1\" opacity=\"1\"></line><line transform=\"translate(0,153)\" x2=\"-5\" y2=\"0\" stroke=\"#888\" stroke-width=\"1\" opacity=\"1\"></line><line transform=\"translate(0,109)\" x2=\"-5\" y2=\"0\" stroke=\"#888\" stroke-width=\"1\" opacity=\"1\"></line><line transform=\"translate(0,65)\" x2=\"-5\" y2=\"0\" stroke=\"#888\" stroke-width=\"1\" opacity=\"1\"></line><line transform=\"translate(0,22)\" x2=\"-5\" y2=\"0\" stroke=\"#888\" stroke-width=\"1\" opacity=\"1\"></line></g><g class=\"mark-text role-axis-label\" pointer-events=\"none\"><text text-anchor=\"end\" transform=\"translate(-7,243)\" font-family=\"sans-serif\" font-size=\"10px\" fill=\"#000\" opacity=\"1\">0</text><text text-anchor=\"end\" transform=\"translate(-7,199.36363636363635)\" font-family=\"sans-serif\" font-size=\"10px\" fill=\"#000\" opacity=\"1\">20</text><text text-anchor=\"end\" transform=\"translate(-7,155.72727272727272)\" font-family=\"sans-serif\" font-size=\"10px\" fill=\"#000\" opacity=\"1\">40</text><text text-anchor=\"end\" transform=\"translate(-7,112.0909090909091)\" font-family=\"sans-serif\" font-size=\"10px\" fill=\"#000\" opacity=\"1\">60</text><text text-anchor=\"end\" transform=\"translate(-7,68.45454545454545)\" font-family=\"sans-serif\" font-size=\"10px\" fill=\"#000\" opacity=\"1\">80</text><text text-anchor=\"end\" transform=\"translate(-7,24.818181818181827)\" font-family=\"sans-serif\" font-size=\"10px\" fill=\"#000\" opacity=\"1\">100</text></g><g class=\"mark-rule role-axis-domain\" pointer-events=\"none\"><line transform=\"translate(0,240)\" x2=\"0\" y2=\"-240\" stroke=\"#888\" stroke-width=\"3\" opacity=\"1\"></line></g><g class=\"mark-text role-axis-title\" pointer-events=\"none\"><text text-anchor=\"middle\" transform=\"translate(-29,120) rotate(-90) translate(0,-2)\" font-family=\"sans-serif\" font-size=\"11px\" font-weight=\"bold\" fill=\"#000\" opacity=\"1\">%</text></g></g><path class=\"foreground\" aria-hidden=\"true\" d=\"\" pointer-events=\"none\" display=\"none\"></path></g></g></g><path class=\"foreground\" aria-hidden=\"true\" d=\"\" display=\"none\"></path></g></g><g class=\"mark-group role-column-header column_header\" role=\"graphics-object\" aria-roledescription=\"group mark container\"><g transform=\"translate(0,-1)\"><path class=\"background\" aria-hidden=\"true\" d=\"M0,0h300v0h-300Z\"></path><g><g class=\"mark-group role-title\"><g transform=\"translate(150,-20)\"><path class=\"background\" aria-hidden=\"true\" d=\"M0,0h0v0h0Z\" pointer-events=\"none\"></path><g><g class=\"mark-text role-title-text\" role=\"graphics-symbol\" aria-roledescription=\"title\" aria-label=\"Title text 'Investment Grade'\" pointer-events=\"none\"><text text-anchor=\"middle\" transform=\"translate(0,8)\" font-family=\"sans-serif\" font-size=\"10px\" fill=\"#000\" opacity=\"1\">Investment Grade</text></g></g><path class=\"foreground\" aria-hidden=\"true\" d=\"\" pointer-events=\"none\" display=\"none\"></path></g></g></g><path class=\"foreground\" aria-hidden=\"true\" d=\"\" display=\"none\"></path></g><g transform=\"translate(312,-1)\"><path class=\"background\" aria-hidden=\"true\" d=\"M0,0h300v0h-300Z\"></path><g><g class=\"mark-group role-title\"><g transform=\"translate(150,-20)\"><path class=\"background\" aria-hidden=\"true\" d=\"M0,0h0v0h0Z\" pointer-events=\"none\"></path><g><g class=\"mark-text role-title-text\" role=\"graphics-symbol\" aria-roledescription=\"title\" aria-label=\"Title text 'High Yield'\" pointer-events=\"none\"><text text-anchor=\"middle\" transform=\"translate(0,8)\" font-family=\"sans-serif\" font-size=\"10px\" fill=\"#000\" opacity=\"1\">High Yield</text></g></g><path class=\"foreground\" aria-hidden=\"true\" d=\"\" pointer-events=\"none\" display=\"none\"></path></g></g></g><path class=\"foreground\" aria-hidden=\"true\" d=\"\" display=\"none\"></path></g></g><g class=\"mark-group role-column-footer column_footer\" role=\"graphics-object\" aria-roledescription=\"group mark container\"><g transform=\"translate(0,241)\"><path class=\"background\" aria-hidden=\"true\" d=\"M0,0h300v0h-300Z\"></path><g><g class=\"mark-group role-axis\" role=\"graphics-symbol\" aria-roledescription=\"axis\" aria-label=\"X-axis titled ' ' for a discrete scale with 2 values: ATS, OTC\"><g transform=\"translate(0.5,0.5)\"><path class=\"background\" aria-hidden=\"true\" d=\"M0,0h0v0h0Z\" pointer-events=\"none\"></path><g><g class=\"mark-rule role-axis-tick\" pointer-events=\"none\"><line transform=\"translate(75,0)\" x2=\"0\" y2=\"5\" stroke=\"#888\" stroke-width=\"1\" opacity=\"1\"></line><line transform=\"translate(225,0)\" x2=\"0\" y2=\"5\" stroke=\"#888\" stroke-width=\"1\" opacity=\"1\"></line></g><g class=\"mark-text role-axis-label\" pointer-events=\"none\"><text text-anchor=\"end\" transform=\"translate(74.5,7) rotate(270) translate(0,3)\" font-family=\"sans-serif\" font-size=\"10px\" fill=\"#000\" opacity=\"1\">ATS</text><text text-anchor=\"end\" transform=\"translate(224.5,7) rotate(270) translate(0,3)\" font-family=\"sans-serif\" font-size=\"10px\" fill=\"#000\" opacity=\"1\">OTC</text></g><g class=\"mark-rule role-axis-domain\" pointer-events=\"none\"><line transform=\"translate(0,0)\" x2=\"300\" y2=\"0\" stroke=\"#888\" stroke-width=\"3\" opacity=\"1\"></line></g><g class=\"mark-text role-axis-title\" pointer-events=\"none\"><text text-anchor=\"middle\" transform=\"translate(150,40)\" font-family=\"sans-serif\" font-size=\"11px\" font-weight=\"bold\" fill=\"#000\" opacity=\"1\"></text></g></g><path class=\"foreground\" aria-hidden=\"true\" d=\"\" pointer-events=\"none\" display=\"none\"></path></g></g></g><path class=\"foreground\" aria-hidden=\"true\" d=\"\" display=\"none\"></path></g><g transform=\"translate(312,241)\"><path class=\"background\" aria-hidden=\"true\" d=\"M0,0h300v0h-300Z\"></path><g><g class=\"mark-group role-axis\" role=\"graphics-symbol\" aria-roledescription=\"axis\" aria-label=\"X-axis titled ' ' for a discrete scale with 2 values: ATS, OTC\"><g transform=\"translate(0.5,0.5)\"><path class=\"background\" aria-hidden=\"true\" d=\"M0,0h0v0h0Z\" pointer-events=\"none\"></path><g><g class=\"mark-rule role-axis-tick\" pointer-events=\"none\"><line transform=\"translate(75,0)\" x2=\"0\" y2=\"5\" stroke=\"#888\" stroke-width=\"1\" opacity=\"1\"></line><line transform=\"translate(225,0)\" x2=\"0\" y2=\"5\" stroke=\"#888\" stroke-width=\"1\" opacity=\"1\"></line></g><g class=\"mark-text role-axis-label\" pointer-events=\"none\"><text text-anchor=\"end\" transform=\"translate(74.5,7) rotate(270) translate(0,3)\" font-family=\"sans-serif\" font-size=\"10px\" fill=\"#000\" opacity=\"1\">ATS</text><text text-anchor=\"end\" transform=\"translate(224.5,7) rotate(270) translate(0,3)\" font-family=\"sans-serif\" font-size=\"10px\" fill=\"#000\" opacity=\"1\">OTC</text></g><g class=\"mark-rule role-axis-domain\" pointer-events=\"none\"><line transform=\"translate(0,0)\" x2=\"300\" y2=\"0\" stroke=\"#888\" stroke-width=\"3\" opacity=\"1\"></line></g><g class=\"mark-text role-axis-title\" pointer-events=\"none\"><text text-anchor=\"middle\" transform=\"translate(150,40)\" font-family=\"sans-serif\" font-size=\"11px\" font-weight=\"bold\" fill=\"#000\" opacity=\"1\"></text></g></g><path class=\"foreground\" aria-hidden=\"true\" d=\"\" pointer-events=\"none\" display=\"none\"></path></g></g></g><path class=\"foreground\" aria-hidden=\"true\" d=\"\" display=\"none\"></path></g></g><g class=\"mark-group role-scope cell\" role=\"graphics-object\" aria-roledescription=\"group mark container\"><g transform=\"translate(0,0)\"><path class=\"background\" aria-hidden=\"true\" d=\"M0.5,0.5h300v240h-300Z\"></path><g><g class=\"mark-rect role-mark child_marks\" role=\"graphics-object\" aria-roledescription=\"rect mark container\"><path aria-label=\"%: 100;  : ATS; Secondary Market: ATS\" role=\"graphics-symbol\" aria-roledescription=\"bar\" d=\"M7.5,21.818181818181984h135v218.18181818181802h-135Z\" fill=\"rgb(49, 104, 142)\"></path><path aria-label=\"%: 100;  : OTC; Secondary Market: OTC\" role=\"graphics-symbol\" aria-roledescription=\"bar\" d=\"M157.5,21.818181818180655h135v218.18181818181935h-135Z\" fill=\"rgb(53, 183, 121)\"></path></g></g><path class=\"foreground\" aria-hidden=\"true\" d=\"\" display=\"none\"></path></g><g transform=\"translate(312,0)\"><path class=\"background\" aria-hidden=\"true\" d=\"M0.5,0.5h300v240h-300Z\"></path><g><g class=\"mark-rect role-mark child_marks\" role=\"graphics-object\" aria-roledescription=\"rect mark container\"><path aria-label=\"%: 100;  : ATS; Secondary Market: ATS\" role=\"graphics-symbol\" aria-roledescription=\"bar\" d=\"M7.5,21.81818181818172h135v218.18181818181827h-135Z\" fill=\"rgb(49, 104, 142)\"></path><path aria-label=\"%: 100;  : OTC; Secondary Market: OTC\" role=\"graphics-symbol\" aria-roledescription=\"bar\" d=\"M157.5,21.818181818182197h135v218.1818181818178h-135Z\" fill=\"rgb(53, 183, 121)\"></path></g></g><path class=\"foreground\" aria-hidden=\"true\" d=\"\" display=\"none\"></path></g></g><g class=\"mark-group role-legend\" role=\"graphics-symbol\" aria-roledescription=\"legend\" aria-label=\"Symbol legend titled 'Secondary Market' for fill color with 2 values: ATS, OTC\"><g transform=\"translate(631,0)\"><path class=\"background\" aria-hidden=\"true\" d=\"M0,0h111v40h-111Z\" pointer-events=\"none\"></path><g><g class=\"mark-group role-legend-entry\"><g transform=\"translate(0,16)\"><path class=\"background\" aria-hidden=\"true\" d=\"M0,0h0v0h0Z\" pointer-events=\"none\"></path><g><g class=\"mark-group role-scope\" role=\"graphics-object\" aria-roledescription=\"group mark container\"><g transform=\"translate(0,0)\"><path class=\"background\" aria-hidden=\"true\" d=\"M0,0h36v11h-36Z\" pointer-events=\"none\" opacity=\"1\"></path><g><g class=\"mark-symbol role-legend-symbol\" pointer-events=\"none\"><path transform=\"translate(6,6)\" d=\"M-5,-5h10v10h-10Z\" fill=\"rgb(49, 104, 142)\" stroke-width=\"1.5\" opacity=\"1\"></path></g><g class=\"mark-text role-legend-label\" pointer-events=\"none\"><text text-anchor=\"start\" transform=\"translate(16,9)\" font-family=\"sans-serif\" font-size=\"10px\" fill=\"#000\" opacity=\"1\">ATS</text></g></g><path class=\"foreground\" aria-hidden=\"true\" d=\"\" pointer-events=\"none\" display=\"none\"></path></g><g transform=\"translate(0,13)\"><path class=\"background\" aria-hidden=\"true\" d=\"M0,0h36v11h-36Z\" pointer-events=\"none\" opacity=\"1\"></path><g><g class=\"mark-symbol role-legend-symbol\" pointer-events=\"none\"><path transform=\"translate(6,6)\" d=\"M-5,-5h10v10h-10Z\" fill=\"rgb(53, 183, 121)\" stroke-width=\"1.5\" opacity=\"1\"></path></g><g class=\"mark-text role-legend-label\" pointer-events=\"none\"><text text-anchor=\"start\" transform=\"translate(16,9)\" font-family=\"sans-serif\" font-size=\"10px\" fill=\"#000\" opacity=\"1\">OTC</text></g></g><path class=\"foreground\" aria-hidden=\"true\" d=\"\" pointer-events=\"none\" display=\"none\"></path></g></g></g><path class=\"foreground\" aria-hidden=\"true\" d=\"\" pointer-events=\"none\" display=\"none\"></path></g></g><g class=\"mark-text role-legend-title\" pointer-events=\"none\"><text text-anchor=\"start\" transform=\"translate(0,9)\" font-family=\"sans-serif\" font-size=\"11px\" font-weight=\"bold\" fill=\"#000\" opacity=\"1\">Secondary Market</text></g></g><path class=\"foreground\" aria-hidden=\"true\" d=\"\" pointer-events=\"none\" display=\"none\"></path></g></g><g class=\"mark-group role-title\"><g transform=\"translate(350.5,-102)\"><path class=\"background\" aria-hidden=\"true\" d=\"M0,0h0v0h0Z\" pointer-events=\"none\"></path><g><g class=\"mark-text role-title-text\" role=\"graphics-symbol\" aria-roledescription=\"title\" aria-label=\"Title text 'Category 7 Trade Volume as Percentage of Total Covenant-Restricted Bond Trade Volume by Secondary Bond Market and Rating - 2019Q2'\" pointer-events=\"none\"><text text-anchor=\"middle\" transform=\"translate(0,11)\" font-family=\"sans-serif\" font-size=\"14px\" font-weight=\"bold\" fill=\"#000\" opacity=\"1\"><tspan>Category 7 Trade Volume as Percentage of Total Covenant-Restricted Bond Trade Volume</tspan><tspan x=\"0\" dy=\"16\">by Secondary Bond Market and Rating - 2019Q2</tspan></text></g></g><path class=\"foreground\" aria-hidden=\"true\" d=\"\" pointer-events=\"none\" display=\"none\"></path></g></g></g><path class=\"foreground\" aria-hidden=\"true\" d=\"\" display=\"none\"></path></g></g></g></svg>\n"
      ],
      "text/plain": [
       "@vlplot(\n",
       "    config={\n",
       "        view={\n",
       "            stroke=\"transparent\"\n",
       "        },\n",
       "        axis={\n",
       "            domainWidth=3\n",
       "        },\n",
       "        opacity={\n",
       "            value=0.7\n",
       "        }\n",
       "    },\n",
       "    title={\n",
       "        text=[\n",
       "            \"Category 7 Trade Volume as Percentage of Total Covenant-Restricted Bond Trade Volume\",\n",
       "            \"by Secondary Bond Market and Rating - 2019Q2\"\n",
       "        ],\n",
       "        align=\"center\",\n",
       "        anchor=\"middle\",\n",
       "        fontSize=14,\n",
       "        offset=20\n",
       "    },\n",
       "    spacing=10,\n",
       "    width=300,\n",
       "    height=240,\n",
       "    mark=\"bar\",\n",
       "    encoding={\n",
       "        column={\n",
       "            type=\"nominal\",\n",
       "            title=\"Rating\",\n",
       "            sort=\"descending\",\n",
       "            field=\"RT\"\n",
       "        },\n",
       "        y={\n",
       "            axis={\n",
       "                title=\"%\",\n",
       "                grid=false,\n",
       "                stack=nothing\n",
       "            },\n",
       "            field=\"perc_trd_vol\"\n",
       "        },\n",
       "        x={\n",
       "            type=\"nominal\",\n",
       "            axis={\n",
       "                title=\" \"\n",
       "            },\n",
       "            field=\"SBM\"\n",
       "        },\n",
       "        color={\n",
       "            legend={\n",
       "                title=\"Secondary Market\"\n",
       "            },\n",
       "            scale={\n",
       "                scheme=\"viridis\"\n",
       "            },\n",
       "            field=\"SBM\"\n",
       "        }\n",
       "    },\n",
       "    data={\n",
       "        values=...\n",
       "    }\n",
       ")"
      ]
     },
     "execution_count": 381,
     "metadata": {},
     "output_type": "execute_result"
    }
   ],
   "source": [
    "include(string(joinpath(module_path, \"plot_module\"), \".jl\"))\n",
    "catn = 7\n",
    "\n",
    "pl = []\n",
    "# for catn in 1:15\n",
    "    println(catn)\n",
    "    catdf = PlotMod.prepare_sbm_rt_cov_vol_df(dfa, catn; date_cols=date_cols)\n",
    "\n",
    "    col_var=\"RT\"\n",
    "    col_var_type=\"nominal\"\n",
    "    x_var=\"SBM\"\n",
    "    x_var_type=\"nominal\"\n",
    "    y_var=\"perc_trd_vol\"\n",
    "    col_title=\"Rating\"\n",
    "    x_axis_title=\" \"\n",
    "    y_axis_title=\"%\"\n",
    "    legend_title=\"Secondary Market\"\n",
    "    title=[string(\"Category \", catn, \" Trade Volume as Percentage of Total \",\n",
    "                  \"Covenant-Restricted Bond Trade Volume\"),\n",
    "           \"by Secondary Bond Market and Rating\"]\n",
    "    \n",
    "    if :period in Symbol.(names(catdf))\n",
    "        title[end] = string(title[end], \" - \", catdf[1, :period])\n",
    "    end\n",
    "\n",
    "    save_plt=true\n",
    "\n",
    "    p = PlotMod.sbm_vega_plt(catdf, col_var, x_var, y_var;\n",
    "                     col_var_type=col_var_type,\n",
    "                     col_title=col_title, \n",
    "                     x_var_type=x_var_type,\n",
    "                     x_axis_title=x_axis_title, \n",
    "                     y_axis_title=y_axis_title, \n",
    "                     legend_title=legend_title, \n",
    "                     title=title, save_plt=save_plt)\n",
    "    \n",
    "#     push!(pl, p)\n",
    "# end"
   ]
  },
  {
   "cell_type": "code",
   "execution_count": null,
   "metadata": {},
   "outputs": [],
   "source": []
  }
 ],
 "metadata": {
  "@webio": {
   "lastCommId": null,
   "lastKernelId": null
  },
  "kernelspec": {
   "display_name": "Julia 1.5.2",
   "language": "julia",
   "name": "julia-1.5"
  },
  "language_info": {
   "file_extension": ".jl",
   "mimetype": "application/julia",
   "name": "julia",
   "version": "1.5.2"
  }
 },
 "nbformat": 4,
 "nbformat_minor": 4
}
