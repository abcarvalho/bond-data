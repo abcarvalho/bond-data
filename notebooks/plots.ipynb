{
 "cells": [
  {
   "cell_type": "code",
   "execution_count": 1,
   "metadata": {},
   "outputs": [
    {
     "data": {
      "text/plain": [
       "1000"
      ]
     },
     "execution_count": 1,
     "metadata": {},
     "output_type": "execute_result"
    }
   ],
   "source": [
    "using DataFrames\n",
    "using Printf\n",
    "using CSV\n",
    "using Dates\n",
    "using DayCounts\n",
    "# using Revise\n",
    "using FileIO\n",
    "using VegaLite, VegaDatasets\n",
    "\n",
    "main_path = \"/home/artur/BondPricing/bond-data\"\n",
    "module_path = string(main_path, \"/module\")\n",
    "script_path = string(main_path, \"/data-scripts/plots\")\n",
    "include(string(joinpath(module_path, \"data_module\"), \".jl\"))\n",
    "include(string(joinpath(module_path, \"stats_module\"), \".jl\"))\n",
    "include(string(joinpath(module_path, \"plot_module\"), \".jl\"))\n",
    "ENV[\"LINES\"] = 100\n",
    "ENV[\"COLUMNS\"] = 1000"
   ]
  },
  {
   "cell_type": "code",
   "execution_count": 2,
   "metadata": {},
   "outputs": [
    {
     "name": "stdout",
     "output_type": "stream",
     "text": [
      " \n",
      "Filename: 2019Q3_stats_by_num_cov.csv\n",
      " \n",
      "Reading dataframe in folder: "
     ]
    },
    {
     "name": "stderr",
     "output_type": "stream",
     "text": [
      "WARNING: replacing module StatsMod.\n"
     ]
    },
    {
     "name": "stdout",
     "output_type": "stream",
     "text": [
      "/home/artur/BondPricing/bond-data/data/Stats/2019...\n",
      " \n",
      "Filename: 2019Q3_stats_by_cov_cat.csv\n",
      " \n",
      "Reading dataframe in folder: /home/artur/BondPricing/bond-data/data/Stats/2019...\n"
     ]
    },
    {
     "data": {
      "text/html": [
       "<table class=\"data-frame\"><thead><tr><th></th><th>trd_exctn_yr</th><th>trd_exctn_qtr</th><th>otc</th><th>hy</th><th>ig</th><th>ats</th><th>cov</th><th>ncov</th><th>total_trd_count</th><th>total_bonds</th><th>total_issuers</th><th>qt25_trd_vol</th><th>mean_trd_vol</th><th>median_trd_vol</th><th>qt75_trd_vol</th><th>total_trd_vol_tr</th><th>cg1_mean_trd_vol</th><th>cg2_mean_trd_vol</th><th>cg3_mean_trd_vol</th><th>cg4_mean_trd_vol</th><th>cg5_mean_trd_vol</th><th>cg6_mean_trd_vol</th><th>cg7_mean_trd_vol</th><th>cg8_mean_trd_vol</th><th>cg9_mean_trd_vol</th><th>cg10_mean_trd_vol</th><th>cg11_mean_trd_vol</th><th>cg12_mean_trd_vol</th><th>cg13_mean_trd_vol</th><th>cg14_mean_trd_vol</th><th>cg15_mean_trd_vol</th><th>cg1_median_trd_vol</th><th>cg2_median_trd_vol</th><th>cg3_median_trd_vol</th><th>cg4_median_trd_vol</th><th>cg5_median_trd_vol</th><th>cg6_median_trd_vol</th><th>cg7_median_trd_vol</th><th>cg8_median_trd_vol</th><th>cg9_median_trd_vol</th><th>cg10_median_trd_vol</th><th>cg11_median_trd_vol</th><th>cg12_median_trd_vol</th><th>cg13_median_trd_vol</th><th>cg14_median_trd_vol</th><th>cg15_median_trd_vol</th><th>cg1_trd_vol_tr</th><th>cg2_trd_vol_tr</th><th>cg3_trd_vol_tr</th><th>cg4_trd_vol_tr</th><th>cg5_trd_vol_tr</th><th>cg6_trd_vol_tr</th><th>cg7_trd_vol_tr</th><th>cg8_trd_vol_tr</th><th>cg9_trd_vol_tr</th><th>cg10_trd_vol_tr</th><th>cg11_trd_vol_tr</th><th>cg12_trd_vol_tr</th><th>cg13_trd_vol_tr</th><th>cg14_trd_vol_tr</th></tr><tr><th></th><th>Int64</th><th>Int64</th><th>Int64</th><th>Int64</th><th>Int64</th><th>Int64</th><th>Int64</th><th>Int64</th><th>Int64</th><th>Int64</th><th>Int64</th><th>Float64</th><th>Float64</th><th>Float64</th><th>Float64</th><th>Float64</th><th>Float64</th><th>Float64</th><th>Float64</th><th>Float64</th><th>Float64</th><th>Float64</th><th>Float64</th><th>Float64</th><th>Float64</th><th>Float64</th><th>Float64</th><th>Float64</th><th>Float64</th><th>Float64</th><th>Float64</th><th>Float64</th><th>Float64</th><th>Float64</th><th>Float64</th><th>Float64</th><th>Float64</th><th>Float64</th><th>Float64</th><th>Float64</th><th>Float64</th><th>Float64</th><th>Float64</th><th>Float64</th><th>Float64</th><th>Float64</th><th>Float64</th><th>Float64</th><th>Float64</th><th>Float64</th><th>Float64</th><th>Float64</th><th>Float64</th><th>Float64</th><th>Float64</th><th>Float64</th><th>Float64</th><th>Float64</th><th>Float64</th><th>Float64</th></tr></thead><tbody><p>5 rows × 109 columns (omitted printing of 49 columns)</p><tr><th>1</th><td>2019</td><td>3</td><td>0</td><td>0</td><td>0</td><td>0</td><td>0</td><td>0</td><td>2648236</td><td>8571</td><td>1975</td><td>10000.0</td><td>4.06564e5</td><td>25000.0</td><td>135000.0</td><td>1076.68</td><td>28318.1</td><td>3.06298e5</td><td>2314.22</td><td>6359.46</td><td>239.917</td><td>2.46883e5</td><td>3.94606e5</td><td>1.56104e5</td><td>18366.2</td><td>5869.48</td><td>3.37148e5</td><td>1.74325e5</td><td>312482.0</td><td>32538.8</td><td>3.10277e5</td><td>0.0</td><td>15000.0</td><td>0.0</td><td>0.0</td><td>0.0</td><td>8000.0</td><td>25000.0</td><td>0.0</td><td>0.0</td><td>0.0</td><td>20000.0</td><td>0.0</td><td>15000.0</td><td>0.0</td><td>15000.0</td><td>74.993</td><td>811.15</td><td>6.1286</td><td>16.8413</td><td>0.635358</td><td>653.805</td><td>1045.01</td><td>413.401</td><td>48.6381</td><td>15.5438</td><td>892.847</td><td>461.653</td><td>827.526</td><td>86.1704</td></tr><tr><th>2</th><td>2019</td><td>3</td><td>0</td><td>0</td><td>0</td><td>0</td><td>0</td><td>1</td><td>88751</td><td>440</td><td>215</td><td>10000.0</td><td>3.5684e5</td><td>25000.0</td><td>102000.0</td><td>31.6699</td><td>0.0</td><td>0.0</td><td>0.0</td><td>0.0</td><td>0.0</td><td>0.0</td><td>0.0</td><td>0.0</td><td>0.0</td><td>0.0</td><td>0.0</td><td>0.0</td><td>0.0</td><td>0.0</td><td>0.0</td><td>0.0</td><td>0.0</td><td>0.0</td><td>0.0</td><td>0.0</td><td>0.0</td><td>0.0</td><td>0.0</td><td>0.0</td><td>0.0</td><td>0.0</td><td>0.0</td><td>0.0</td><td>0.0</td><td>0.0</td><td>0.0</td><td>0.0</td><td>0.0</td><td>0.0</td><td>0.0</td><td>0.0</td><td>0.0</td><td>0.0</td><td>0.0</td><td>0.0</td><td>0.0</td><td>0.0</td><td>0.0</td><td>0.0</td></tr><tr><th>3</th><td>2019</td><td>3</td><td>0</td><td>0</td><td>0</td><td>0</td><td>1</td><td>0</td><td>2559485</td><td>8131</td><td>1902</td><td>10000.0</td><td>4.08289e5</td><td>25000.0</td><td>136000.0</td><td>1045.01</td><td>29300.0</td><td>3.16919e5</td><td>2394.47</td><td>6579.98</td><td>248.237</td><td>2.55444e5</td><td>4.08289e5</td><td>1.61517e5</td><td>19003.1</td><td>6073.0</td><td>3.48838e5</td><td>1.80369e5</td><td>3.23317e5</td><td>33667.1</td><td>3.21036e5</td><td>0.0</td><td>18000.0</td><td>0.0</td><td>0.0</td><td>0.0</td><td>10000.0</td><td>25000.0</td><td>0.0</td><td>0.0</td><td>0.0</td><td>20000.0</td><td>0.0</td><td>15000.0</td><td>0.0</td><td>15000.0</td><td>74.993</td><td>811.15</td><td>6.1286</td><td>16.8413</td><td>0.635358</td><td>653.805</td><td>1045.01</td><td>413.401</td><td>48.6381</td><td>15.5438</td><td>892.847</td><td>461.653</td><td>827.526</td><td>86.1704</td></tr><tr><th>4</th><td>2019</td><td>3</td><td>0</td><td>1</td><td>0</td><td>0</td><td>0</td><td>0</td><td>774595</td><td>1900</td><td>847</td><td>10000.0</td><td>395235.0</td><td>25000.0</td><td>139000.0</td><td>306.147</td><td>85833.8</td><td>2.8823e5</td><td>903.568</td><td>2178.61</td><td>559.425</td><td>2.83204e5</td><td>3.92277e5</td><td>1.45538e5</td><td>56990.2</td><td>10470.9</td><td>3.47885e5</td><td>2.67901e5</td><td>332384.0</td><td>1.03096e5</td><td>3.31219e5</td><td>0.0</td><td>15000.0</td><td>0.0</td><td>0.0</td><td>0.0</td><td>13000.0</td><td>25000.0</td><td>0.0</td><td>0.0</td><td>0.0</td><td>20000.0</td><td>10000.0</td><td>20000.0</td><td>0.0</td><td>20000.0</td><td>66.4865</td><td>223.262</td><td>0.6999</td><td>1.68754</td><td>0.433328</td><td>219.368</td><td>303.856</td><td>112.733</td><td>44.1443</td><td>8.11067</td><td>269.47</td><td>207.515</td><td>257.463</td><td>79.8575</td></tr><tr><th>5</th><td>2019</td><td>3</td><td>0</td><td>1</td><td>0</td><td>0</td><td>0</td><td>1</td><td>5341</td><td>54</td><td>29</td><td>10000.0</td><td>4.28935e5</td><td>50000.0</td><td>200000.0</td><td>2.29094</td><td>0.0</td><td>0.0</td><td>0.0</td><td>0.0</td><td>0.0</td><td>0.0</td><td>0.0</td><td>0.0</td><td>0.0</td><td>0.0</td><td>0.0</td><td>0.0</td><td>0.0</td><td>0.0</td><td>0.0</td><td>0.0</td><td>0.0</td><td>0.0</td><td>0.0</td><td>0.0</td><td>0.0</td><td>0.0</td><td>0.0</td><td>0.0</td><td>0.0</td><td>0.0</td><td>0.0</td><td>0.0</td><td>0.0</td><td>0.0</td><td>0.0</td><td>0.0</td><td>0.0</td><td>0.0</td><td>0.0</td><td>0.0</td><td>0.0</td><td>0.0</td><td>0.0</td><td>0.0</td><td>0.0</td><td>0.0</td><td>0.0</td><td>0.0</td></tr></tbody></table>"
      ],
      "text/latex": [
       "\\begin{tabular}{r|ccccccccccccccccccccccccccccccccccccccccccccccccccccccccccccc}\n",
       "\t& trd\\_exctn\\_yr & trd\\_exctn\\_qtr & otc & hy & ig & ats & cov & ncov & total\\_trd\\_count & total\\_bonds & total\\_issuers & qt25\\_trd\\_vol & mean\\_trd\\_vol & median\\_trd\\_vol & qt75\\_trd\\_vol & total\\_trd\\_vol\\_tr & cg1\\_mean\\_trd\\_vol & cg2\\_mean\\_trd\\_vol & cg3\\_mean\\_trd\\_vol & cg4\\_mean\\_trd\\_vol & cg5\\_mean\\_trd\\_vol & cg6\\_mean\\_trd\\_vol & cg7\\_mean\\_trd\\_vol & cg8\\_mean\\_trd\\_vol & cg9\\_mean\\_trd\\_vol & cg10\\_mean\\_trd\\_vol & cg11\\_mean\\_trd\\_vol & cg12\\_mean\\_trd\\_vol & cg13\\_mean\\_trd\\_vol & cg14\\_mean\\_trd\\_vol & cg15\\_mean\\_trd\\_vol & cg1\\_median\\_trd\\_vol & cg2\\_median\\_trd\\_vol & cg3\\_median\\_trd\\_vol & cg4\\_median\\_trd\\_vol & cg5\\_median\\_trd\\_vol & cg6\\_median\\_trd\\_vol & cg7\\_median\\_trd\\_vol & cg8\\_median\\_trd\\_vol & cg9\\_median\\_trd\\_vol & cg10\\_median\\_trd\\_vol & cg11\\_median\\_trd\\_vol & cg12\\_median\\_trd\\_vol & cg13\\_median\\_trd\\_vol & cg14\\_median\\_trd\\_vol & cg15\\_median\\_trd\\_vol & cg1\\_trd\\_vol\\_tr & cg2\\_trd\\_vol\\_tr & cg3\\_trd\\_vol\\_tr & cg4\\_trd\\_vol\\_tr & cg5\\_trd\\_vol\\_tr & cg6\\_trd\\_vol\\_tr & cg7\\_trd\\_vol\\_tr & cg8\\_trd\\_vol\\_tr & cg9\\_trd\\_vol\\_tr & cg10\\_trd\\_vol\\_tr & cg11\\_trd\\_vol\\_tr & cg12\\_trd\\_vol\\_tr & cg13\\_trd\\_vol\\_tr & cg14\\_trd\\_vol\\_tr & \\\\\n",
       "\t\\hline\n",
       "\t& Int64 & Int64 & Int64 & Int64 & Int64 & Int64 & Int64 & Int64 & Int64 & Int64 & Int64 & Float64 & Float64 & Float64 & Float64 & Float64 & Float64 & Float64 & Float64 & Float64 & Float64 & Float64 & Float64 & Float64 & Float64 & Float64 & Float64 & Float64 & Float64 & Float64 & Float64 & Float64 & Float64 & Float64 & Float64 & Float64 & Float64 & Float64 & Float64 & Float64 & Float64 & Float64 & Float64 & Float64 & Float64 & Float64 & Float64 & Float64 & Float64 & Float64 & Float64 & Float64 & Float64 & Float64 & Float64 & Float64 & Float64 & Float64 & Float64 & Float64 & \\\\\n",
       "\t\\hline\n",
       "\t1 & 2019 & 3 & 0 & 0 & 0 & 0 & 0 & 0 & 2648236 & 8571 & 1975 & 10000.0 & 4.06564e5 & 25000.0 & 135000.0 & 1076.68 & 28318.1 & 3.06298e5 & 2314.22 & 6359.46 & 239.917 & 2.46883e5 & 3.94606e5 & 1.56104e5 & 18366.2 & 5869.48 & 3.37148e5 & 1.74325e5 & 312482.0 & 32538.8 & 3.10277e5 & 0.0 & 15000.0 & 0.0 & 0.0 & 0.0 & 8000.0 & 25000.0 & 0.0 & 0.0 & 0.0 & 20000.0 & 0.0 & 15000.0 & 0.0 & 15000.0 & 74.993 & 811.15 & 6.1286 & 16.8413 & 0.635358 & 653.805 & 1045.01 & 413.401 & 48.6381 & 15.5438 & 892.847 & 461.653 & 827.526 & 86.1704 & $\\dots$ \\\\\n",
       "\t2 & 2019 & 3 & 0 & 0 & 0 & 0 & 0 & 1 & 88751 & 440 & 215 & 10000.0 & 3.5684e5 & 25000.0 & 102000.0 & 31.6699 & 0.0 & 0.0 & 0.0 & 0.0 & 0.0 & 0.0 & 0.0 & 0.0 & 0.0 & 0.0 & 0.0 & 0.0 & 0.0 & 0.0 & 0.0 & 0.0 & 0.0 & 0.0 & 0.0 & 0.0 & 0.0 & 0.0 & 0.0 & 0.0 & 0.0 & 0.0 & 0.0 & 0.0 & 0.0 & 0.0 & 0.0 & 0.0 & 0.0 & 0.0 & 0.0 & 0.0 & 0.0 & 0.0 & 0.0 & 0.0 & 0.0 & 0.0 & 0.0 & 0.0 & $\\dots$ \\\\\n",
       "\t3 & 2019 & 3 & 0 & 0 & 0 & 0 & 1 & 0 & 2559485 & 8131 & 1902 & 10000.0 & 4.08289e5 & 25000.0 & 136000.0 & 1045.01 & 29300.0 & 3.16919e5 & 2394.47 & 6579.98 & 248.237 & 2.55444e5 & 4.08289e5 & 1.61517e5 & 19003.1 & 6073.0 & 3.48838e5 & 1.80369e5 & 3.23317e5 & 33667.1 & 3.21036e5 & 0.0 & 18000.0 & 0.0 & 0.0 & 0.0 & 10000.0 & 25000.0 & 0.0 & 0.0 & 0.0 & 20000.0 & 0.0 & 15000.0 & 0.0 & 15000.0 & 74.993 & 811.15 & 6.1286 & 16.8413 & 0.635358 & 653.805 & 1045.01 & 413.401 & 48.6381 & 15.5438 & 892.847 & 461.653 & 827.526 & 86.1704 & $\\dots$ \\\\\n",
       "\t4 & 2019 & 3 & 0 & 1 & 0 & 0 & 0 & 0 & 774595 & 1900 & 847 & 10000.0 & 395235.0 & 25000.0 & 139000.0 & 306.147 & 85833.8 & 2.8823e5 & 903.568 & 2178.61 & 559.425 & 2.83204e5 & 3.92277e5 & 1.45538e5 & 56990.2 & 10470.9 & 3.47885e5 & 2.67901e5 & 332384.0 & 1.03096e5 & 3.31219e5 & 0.0 & 15000.0 & 0.0 & 0.0 & 0.0 & 13000.0 & 25000.0 & 0.0 & 0.0 & 0.0 & 20000.0 & 10000.0 & 20000.0 & 0.0 & 20000.0 & 66.4865 & 223.262 & 0.6999 & 1.68754 & 0.433328 & 219.368 & 303.856 & 112.733 & 44.1443 & 8.11067 & 269.47 & 207.515 & 257.463 & 79.8575 & $\\dots$ \\\\\n",
       "\t5 & 2019 & 3 & 0 & 1 & 0 & 0 & 0 & 1 & 5341 & 54 & 29 & 10000.0 & 4.28935e5 & 50000.0 & 200000.0 & 2.29094 & 0.0 & 0.0 & 0.0 & 0.0 & 0.0 & 0.0 & 0.0 & 0.0 & 0.0 & 0.0 & 0.0 & 0.0 & 0.0 & 0.0 & 0.0 & 0.0 & 0.0 & 0.0 & 0.0 & 0.0 & 0.0 & 0.0 & 0.0 & 0.0 & 0.0 & 0.0 & 0.0 & 0.0 & 0.0 & 0.0 & 0.0 & 0.0 & 0.0 & 0.0 & 0.0 & 0.0 & 0.0 & 0.0 & 0.0 & 0.0 & 0.0 & 0.0 & 0.0 & 0.0 & $\\dots$ \\\\\n",
       "\\end{tabular}\n"
      ],
      "text/plain": [
       "5×109 DataFrame. Omitted printing of 53 columns\n",
       "│ Row │ trd_exctn_yr │ trd_exctn_qtr │ otc   │ hy    │ ig    │ ats   │ cov   │ ncov  │ total_trd_count │ total_bonds │ total_issuers │ qt25_trd_vol │ mean_trd_vol │ median_trd_vol │ qt75_trd_vol │ total_trd_vol_tr │ cg1_mean_trd_vol │ cg2_mean_trd_vol │ cg3_mean_trd_vol │ cg4_mean_trd_vol │ cg5_mean_trd_vol │ cg6_mean_trd_vol │ cg7_mean_trd_vol │ cg8_mean_trd_vol │ cg9_mean_trd_vol │ cg10_mean_trd_vol │ cg11_mean_trd_vol │ cg12_mean_trd_vol │ cg13_mean_trd_vol │ cg14_mean_trd_vol │ cg15_mean_trd_vol │ cg1_median_trd_vol │ cg2_median_trd_vol │ cg3_median_trd_vol │ cg4_median_trd_vol │ cg5_median_trd_vol │ cg6_median_trd_vol │ cg7_median_trd_vol │ cg8_median_trd_vol │ cg9_median_trd_vol │ cg10_median_trd_vol │ cg11_median_trd_vol │ cg12_median_trd_vol │ cg13_median_trd_vol │ cg14_median_trd_vol │ cg15_median_trd_vol │ cg1_trd_vol_tr │ cg2_trd_vol_tr │ cg3_trd_vol_tr │ cg4_trd_vol_tr │ cg5_trd_vol_tr │ cg6_trd_vol_tr │ cg7_trd_vol_tr │ cg8_trd_vol_tr │ cg9_trd_vol_tr │ cg10_trd_vol_tr │\n",
       "│     │ \u001b[90mInt64\u001b[39m        │ \u001b[90mInt64\u001b[39m         │ \u001b[90mInt64\u001b[39m │ \u001b[90mInt64\u001b[39m │ \u001b[90mInt64\u001b[39m │ \u001b[90mInt64\u001b[39m │ \u001b[90mInt64\u001b[39m │ \u001b[90mInt64\u001b[39m │ \u001b[90mInt64\u001b[39m           │ \u001b[90mInt64\u001b[39m       │ \u001b[90mInt64\u001b[39m         │ \u001b[90mFloat64\u001b[39m      │ \u001b[90mFloat64\u001b[39m      │ \u001b[90mFloat64\u001b[39m        │ \u001b[90mFloat64\u001b[39m      │ \u001b[90mFloat64\u001b[39m          │ \u001b[90mFloat64\u001b[39m          │ \u001b[90mFloat64\u001b[39m          │ \u001b[90mFloat64\u001b[39m          │ \u001b[90mFloat64\u001b[39m          │ \u001b[90mFloat64\u001b[39m          │ \u001b[90mFloat64\u001b[39m          │ \u001b[90mFloat64\u001b[39m          │ \u001b[90mFloat64\u001b[39m          │ \u001b[90mFloat64\u001b[39m          │ \u001b[90mFloat64\u001b[39m           │ \u001b[90mFloat64\u001b[39m           │ \u001b[90mFloat64\u001b[39m           │ \u001b[90mFloat64\u001b[39m           │ \u001b[90mFloat64\u001b[39m           │ \u001b[90mFloat64\u001b[39m           │ \u001b[90mFloat64\u001b[39m            │ \u001b[90mFloat64\u001b[39m            │ \u001b[90mFloat64\u001b[39m            │ \u001b[90mFloat64\u001b[39m            │ \u001b[90mFloat64\u001b[39m            │ \u001b[90mFloat64\u001b[39m            │ \u001b[90mFloat64\u001b[39m            │ \u001b[90mFloat64\u001b[39m            │ \u001b[90mFloat64\u001b[39m            │ \u001b[90mFloat64\u001b[39m             │ \u001b[90mFloat64\u001b[39m             │ \u001b[90mFloat64\u001b[39m             │ \u001b[90mFloat64\u001b[39m             │ \u001b[90mFloat64\u001b[39m             │ \u001b[90mFloat64\u001b[39m             │ \u001b[90mFloat64\u001b[39m        │ \u001b[90mFloat64\u001b[39m        │ \u001b[90mFloat64\u001b[39m        │ \u001b[90mFloat64\u001b[39m        │ \u001b[90mFloat64\u001b[39m        │ \u001b[90mFloat64\u001b[39m        │ \u001b[90mFloat64\u001b[39m        │ \u001b[90mFloat64\u001b[39m        │ \u001b[90mFloat64\u001b[39m        │ \u001b[90mFloat64\u001b[39m         │\n",
       "├─────┼──────────────┼───────────────┼───────┼───────┼───────┼───────┼───────┼───────┼─────────────────┼─────────────┼───────────────┼──────────────┼──────────────┼────────────────┼──────────────┼──────────────────┼──────────────────┼──────────────────┼──────────────────┼──────────────────┼──────────────────┼──────────────────┼──────────────────┼──────────────────┼──────────────────┼───────────────────┼───────────────────┼───────────────────┼───────────────────┼───────────────────┼───────────────────┼────────────────────┼────────────────────┼────────────────────┼────────────────────┼────────────────────┼────────────────────┼────────────────────┼────────────────────┼────────────────────┼─────────────────────┼─────────────────────┼─────────────────────┼─────────────────────┼─────────────────────┼─────────────────────┼────────────────┼────────────────┼────────────────┼────────────────┼────────────────┼────────────────┼────────────────┼────────────────┼────────────────┼─────────────────┤\n",
       "│ 1   │ 2019         │ 3             │ 0     │ 0     │ 0     │ 0     │ 0     │ 0     │ 2648236         │ 8571        │ 1975          │ 10000.0      │ 4.06564e5    │ 25000.0        │ 135000.0     │ 1076.68          │ 28318.1          │ 3.06298e5        │ 2314.22          │ 6359.46          │ 239.917          │ 2.46883e5        │ 3.94606e5        │ 1.56104e5        │ 18366.2          │ 5869.48           │ 3.37148e5         │ 1.74325e5         │ 312482.0          │ 32538.8           │ 3.10277e5         │ 0.0                │ 15000.0            │ 0.0                │ 0.0                │ 0.0                │ 8000.0             │ 25000.0            │ 0.0                │ 0.0                │ 0.0                 │ 20000.0             │ 0.0                 │ 15000.0             │ 0.0                 │ 15000.0             │ 74.993         │ 811.15         │ 6.1286         │ 16.8413        │ 0.635358       │ 653.805        │ 1045.01        │ 413.401        │ 48.6381        │ 15.5438         │\n",
       "│ 2   │ 2019         │ 3             │ 0     │ 0     │ 0     │ 0     │ 0     │ 1     │ 88751           │ 440         │ 215           │ 10000.0      │ 3.5684e5     │ 25000.0        │ 102000.0     │ 31.6699          │ 0.0              │ 0.0              │ 0.0              │ 0.0              │ 0.0              │ 0.0              │ 0.0              │ 0.0              │ 0.0              │ 0.0               │ 0.0               │ 0.0               │ 0.0               │ 0.0               │ 0.0               │ 0.0                │ 0.0                │ 0.0                │ 0.0                │ 0.0                │ 0.0                │ 0.0                │ 0.0                │ 0.0                │ 0.0                 │ 0.0                 │ 0.0                 │ 0.0                 │ 0.0                 │ 0.0                 │ 0.0            │ 0.0            │ 0.0            │ 0.0            │ 0.0            │ 0.0            │ 0.0            │ 0.0            │ 0.0            │ 0.0             │\n",
       "│ 3   │ 2019         │ 3             │ 0     │ 0     │ 0     │ 0     │ 1     │ 0     │ 2559485         │ 8131        │ 1902          │ 10000.0      │ 4.08289e5    │ 25000.0        │ 136000.0     │ 1045.01          │ 29300.0          │ 3.16919e5        │ 2394.47          │ 6579.98          │ 248.237          │ 2.55444e5        │ 4.08289e5        │ 1.61517e5        │ 19003.1          │ 6073.0            │ 3.48838e5         │ 1.80369e5         │ 3.23317e5         │ 33667.1           │ 3.21036e5         │ 0.0                │ 18000.0            │ 0.0                │ 0.0                │ 0.0                │ 10000.0            │ 25000.0            │ 0.0                │ 0.0                │ 0.0                 │ 20000.0             │ 0.0                 │ 15000.0             │ 0.0                 │ 15000.0             │ 74.993         │ 811.15         │ 6.1286         │ 16.8413        │ 0.635358       │ 653.805        │ 1045.01        │ 413.401        │ 48.6381        │ 15.5438         │\n",
       "│ 4   │ 2019         │ 3             │ 0     │ 1     │ 0     │ 0     │ 0     │ 0     │ 774595          │ 1900        │ 847           │ 10000.0      │ 395235.0     │ 25000.0        │ 139000.0     │ 306.147          │ 85833.8          │ 2.8823e5         │ 903.568          │ 2178.61          │ 559.425          │ 2.83204e5        │ 3.92277e5        │ 1.45538e5        │ 56990.2          │ 10470.9           │ 3.47885e5         │ 2.67901e5         │ 332384.0          │ 1.03096e5         │ 3.31219e5         │ 0.0                │ 15000.0            │ 0.0                │ 0.0                │ 0.0                │ 13000.0            │ 25000.0            │ 0.0                │ 0.0                │ 0.0                 │ 20000.0             │ 10000.0             │ 20000.0             │ 0.0                 │ 20000.0             │ 66.4865        │ 223.262        │ 0.6999         │ 1.68754        │ 0.433328       │ 219.368        │ 303.856        │ 112.733        │ 44.1443        │ 8.11067         │\n",
       "│ 5   │ 2019         │ 3             │ 0     │ 1     │ 0     │ 0     │ 0     │ 1     │ 5341            │ 54          │ 29            │ 10000.0      │ 4.28935e5    │ 50000.0        │ 200000.0     │ 2.29094          │ 0.0              │ 0.0              │ 0.0              │ 0.0              │ 0.0              │ 0.0              │ 0.0              │ 0.0              │ 0.0              │ 0.0               │ 0.0               │ 0.0               │ 0.0               │ 0.0               │ 0.0               │ 0.0                │ 0.0                │ 0.0                │ 0.0                │ 0.0                │ 0.0                │ 0.0                │ 0.0                │ 0.0                │ 0.0                 │ 0.0                 │ 0.0                 │ 0.0                 │ 0.0                 │ 0.0                 │ 0.0            │ 0.0            │ 0.0            │ 0.0            │ 0.0            │ 0.0            │ 0.0            │ 0.0            │ 0.0            │ 0.0             │"
      ]
     },
     "execution_count": 2,
     "metadata": {},
     "output_type": "execute_result"
    }
   ],
   "source": [
    "dto = DataMod.data_obj_constructor()\n",
    "\n",
    "yr = 2019\n",
    "qtr = 3\n",
    "\n",
    "include(string(joinpath(module_path, \"stats_module\"), \".jl\"))\n",
    "snc = StatsMod.load_stats_data(dto, yr, qtr; stats_by_num_cov=true)\n",
    "scc = StatsMod.load_stats_data(dto, yr, qtr; stats_by_num_cov=false)\n",
    "\n",
    "first(scc, 5)"
   ]
  },
  {
   "cell_type": "code",
   "execution_count": 7,
   "metadata": {},
   "outputs": [
    {
     "name": "stderr",
     "output_type": "stream",
     "text": [
      "WARNING: replacing module PlotMod.\n"
     ]
    },
    {
     "data": {
      "text/html": [
       "<table class=\"data-frame\"><thead><tr><th></th><th>period</th><th>sbm</th><th>rt</th><th>cvt</th><th>variable</th><th>value</th><th>cov_cat</th><th>perc_total</th><th>perc_sbm_rt_total</th><th>value_diff</th><th>perc_diff</th></tr><tr><th></th><th>Symbol</th><th>Symbol</th><th>Symbol</th><th>Symbol</th><th>String</th><th>Int64</th><th>Int64</th><th>Float64</th><th>Float64</th><th>Int64</th><th>Float64</th></tr></thead><tbody><p>10 rows × 11 columns</p><tr><th>1</th><td>2019Q3</td><td>otc</td><td>ig</td><td>any</td><td>cg1_bonds</td><td>113</td><td>1</td><td>1.68732</td><td>1.68808</td><td>-4</td><td>0.0360591</td></tr><tr><th>2</th><td>2019Q3</td><td>ats</td><td>ig</td><td>any</td><td>cg1_bonds</td><td>109</td><td>1</td><td>1.62759</td><td>1.72414</td><td>-4</td><td>0.0360591</td></tr><tr><th>3</th><td>2019Q3</td><td>otc</td><td>ig</td><td>any</td><td>cg2_bonds</td><td>5205</td><td>2</td><td>77.7214</td><td>77.7562</td><td>-218</td><td>1.12707</td></tr><tr><th>4</th><td>2019Q3</td><td>ats</td><td>ig</td><td>any</td><td>cg2_bonds</td><td>4987</td><td>2</td><td>74.4662</td><td>78.8833</td><td>-218</td><td>1.12707</td></tr><tr><th>5</th><td>2019Q3</td><td>otc</td><td>ig</td><td>any</td><td>cg3_bonds</td><td>68</td><td>3</td><td>1.01538</td><td>1.01584</td><td>-3</td><td>0.0123206</td></tr><tr><th>6</th><td>2019Q3</td><td>ats</td><td>ig</td><td>any</td><td>cg3_bonds</td><td>65</td><td>3</td><td>0.970584</td><td>1.02816</td><td>-3</td><td>0.0123206</td></tr><tr><th>7</th><td>2019Q3</td><td>otc</td><td>ig</td><td>any</td><td>cg4_bonds</td><td>90</td><td>4</td><td>1.34389</td><td>1.34449</td><td>-2</td><td>0.047477</td></tr><tr><th>8</th><td>2019Q3</td><td>ats</td><td>ig</td><td>any</td><td>cg4_bonds</td><td>88</td><td>4</td><td>1.31402</td><td>1.39196</td><td>-2</td><td>0.047477</td></tr><tr><th>9</th><td>2019Q3</td><td>otc</td><td>ig</td><td>any</td><td>cg5_bonds</td><td>6</td><td>5</td><td>0.0895924</td><td>0.0896325</td><td>-1</td><td>-0.0105436</td></tr><tr><th>10</th><td>2019Q3</td><td>ats</td><td>ig</td><td>any</td><td>cg5_bonds</td><td>5</td><td>5</td><td>0.0746603</td><td>0.0790889</td><td>-1</td><td>-0.0105436</td></tr></tbody></table>"
      ],
      "text/latex": [
       "\\begin{tabular}{r|ccccccccccc}\n",
       "\t& period & sbm & rt & cvt & variable & value & cov\\_cat & perc\\_total & perc\\_sbm\\_rt\\_total & value\\_diff & perc\\_diff\\\\\n",
       "\t\\hline\n",
       "\t& Symbol & Symbol & Symbol & Symbol & String & Int64 & Int64 & Float64 & Float64 & Int64 & Float64\\\\\n",
       "\t\\hline\n",
       "\t1 & 2019Q3 & otc & ig & any & cg1\\_bonds & 113 & 1 & 1.68732 & 1.68808 & -4 & 0.0360591 \\\\\n",
       "\t2 & 2019Q3 & ats & ig & any & cg1\\_bonds & 109 & 1 & 1.62759 & 1.72414 & -4 & 0.0360591 \\\\\n",
       "\t3 & 2019Q3 & otc & ig & any & cg2\\_bonds & 5205 & 2 & 77.7214 & 77.7562 & -218 & 1.12707 \\\\\n",
       "\t4 & 2019Q3 & ats & ig & any & cg2\\_bonds & 4987 & 2 & 74.4662 & 78.8833 & -218 & 1.12707 \\\\\n",
       "\t5 & 2019Q3 & otc & ig & any & cg3\\_bonds & 68 & 3 & 1.01538 & 1.01584 & -3 & 0.0123206 \\\\\n",
       "\t6 & 2019Q3 & ats & ig & any & cg3\\_bonds & 65 & 3 & 0.970584 & 1.02816 & -3 & 0.0123206 \\\\\n",
       "\t7 & 2019Q3 & otc & ig & any & cg4\\_bonds & 90 & 4 & 1.34389 & 1.34449 & -2 & 0.047477 \\\\\n",
       "\t8 & 2019Q3 & ats & ig & any & cg4\\_bonds & 88 & 4 & 1.31402 & 1.39196 & -2 & 0.047477 \\\\\n",
       "\t9 & 2019Q3 & otc & ig & any & cg5\\_bonds & 6 & 5 & 0.0895924 & 0.0896325 & -1 & -0.0105436 \\\\\n",
       "\t10 & 2019Q3 & ats & ig & any & cg5\\_bonds & 5 & 5 & 0.0746603 & 0.0790889 & -1 & -0.0105436 \\\\\n",
       "\\end{tabular}\n"
      ],
      "text/plain": [
       "10×11 DataFrame\n",
       "│ Row │ period │ sbm    │ rt     │ cvt    │ variable  │ value │ cov_cat │ perc_total │ perc_sbm_rt_total │ value_diff │ perc_diff  │\n",
       "│     │ \u001b[90mSymbol\u001b[39m │ \u001b[90mSymbol\u001b[39m │ \u001b[90mSymbol\u001b[39m │ \u001b[90mSymbol\u001b[39m │ \u001b[90mString\u001b[39m    │ \u001b[90mInt64\u001b[39m │ \u001b[90mInt64\u001b[39m   │ \u001b[90mFloat64\u001b[39m    │ \u001b[90mFloat64\u001b[39m           │ \u001b[90mInt64\u001b[39m      │ \u001b[90mFloat64\u001b[39m    │\n",
       "├─────┼────────┼────────┼────────┼────────┼───────────┼───────┼─────────┼────────────┼───────────────────┼────────────┼────────────┤\n",
       "│ 1   │ 2019Q3 │ otc    │ ig     │ any    │ cg1_bonds │ 113   │ 1       │ 1.68732    │ 1.68808           │ -4         │ 0.0360591  │\n",
       "│ 2   │ 2019Q3 │ ats    │ ig     │ any    │ cg1_bonds │ 109   │ 1       │ 1.62759    │ 1.72414           │ -4         │ 0.0360591  │\n",
       "│ 3   │ 2019Q3 │ otc    │ ig     │ any    │ cg2_bonds │ 5205  │ 2       │ 77.7214    │ 77.7562           │ -218       │ 1.12707    │\n",
       "│ 4   │ 2019Q3 │ ats    │ ig     │ any    │ cg2_bonds │ 4987  │ 2       │ 74.4662    │ 78.8833           │ -218       │ 1.12707    │\n",
       "│ 5   │ 2019Q3 │ otc    │ ig     │ any    │ cg3_bonds │ 68    │ 3       │ 1.01538    │ 1.01584           │ -3         │ 0.0123206  │\n",
       "│ 6   │ 2019Q3 │ ats    │ ig     │ any    │ cg3_bonds │ 65    │ 3       │ 0.970584   │ 1.02816           │ -3         │ 0.0123206  │\n",
       "│ 7   │ 2019Q3 │ otc    │ ig     │ any    │ cg4_bonds │ 90    │ 4       │ 1.34389    │ 1.34449           │ -2         │ 0.047477   │\n",
       "│ 8   │ 2019Q3 │ ats    │ ig     │ any    │ cg4_bonds │ 88    │ 4       │ 1.31402    │ 1.39196           │ -2         │ 0.047477   │\n",
       "│ 9   │ 2019Q3 │ otc    │ ig     │ any    │ cg5_bonds │ 6     │ 5       │ 0.0895924  │ 0.0896325         │ -1         │ -0.0105436 │\n",
       "│ 10  │ 2019Q3 │ ats    │ ig     │ any    │ cg5_bonds │ 5     │ 5       │ 0.0746603  │ 0.0790889         │ -1         │ -0.0105436 │"
      ]
     },
     "execution_count": 7,
     "metadata": {},
     "output_type": "execute_result"
    }
   ],
   "source": [
    "color_scale=\"viridis\"\n",
    "cal_formula=\"\"\n",
    "cal_var=\"\"\n",
    "col_var=\"cov_cat\"\n",
    "col_var_type=\"ordinal\"\n",
    "col_title=\"Covenant Category\"\n",
    "col_sort=\"ascending\"\n",
    "x_var=\"sbm:n\"\n",
    "x_var_type=\"nominal\"\n",
    "x_axis_title=\" \"\n",
    "width_step=18\n",
    "legend_title=\"Secondary Market\"\n",
    "spacing=4.5\n",
    "height=350\n",
    "save_plt=true\n",
    "plt_type = \"cov_cat\"\n",
    "file_ext=\"png\"\n",
    "# }}}1\n",
    "pl = [ ]\n",
    "\n",
    "# Issuers per Covenant Category {{{1\n",
    "include(string(joinpath(module_path, \"plot_module\"), \".jl\"))\n",
    "stats_var=:bonds\n",
    "tt = PlotMod.prepare_cat_plot(scc; stat=stats_var)\n",
    "rt_tt = PlotMod.get_ats_otc_diffs_by_rt(scc, stats_var)\n",
    "first(rt_tt, 10)"
   ]
  },
  {
   "cell_type": "code",
   "execution_count": 89,
   "metadata": {},
   "outputs": [
    {
     "name": "stderr",
     "output_type": "stream",
     "text": [
      "WARNING: replacing module PlotMod.\n"
     ]
    },
    {
     "data": {
      "text/html": [
       "<table class=\"data-frame\"><thead><tr><th></th><th>period</th><th>sbm</th><th>rt</th><th>cvt</th><th>variable</th><th>value</th><th>cov_cat</th><th>perc_total</th><th>perc_sbm_rt_total</th><th>value_diff</th><th>perc_diff</th></tr><tr><th></th><th>Symbol</th><th>Symbol</th><th>Symbol</th><th>Symbol</th><th>Cat…?</th><th>Int64</th><th>Int64</th><th>Float64</th><th>Float64</th><th>Int64</th><th>Float64</th></tr></thead><tbody><p>10 rows × 11 columns</p><tr><th>1</th><td>2019Q3</td><td>otc</td><td>ig</td><td>any</td><td>cg1_issuers</td><td>43</td><td>1</td><td>3.53909</td><td>3.53909</td><td>0</td><td>0.114261</td></tr><tr><th>2</th><td>2019Q3</td><td>ats</td><td>ig</td><td>any</td><td>cg1_issuers</td><td>43</td><td>1</td><td>3.53909</td><td>3.65336</td><td>0</td><td>0.114261</td></tr><tr><th>3</th><td>2019Q3</td><td>otc</td><td>ig</td><td>any</td><td>cg2_issuers</td><td>992</td><td>2</td><td>81.6461</td><td>81.6461</td><td>-16</td><td>1.27659</td></tr><tr><th>4</th><td>2019Q3</td><td>ats</td><td>ig</td><td>any</td><td>cg2_issuers</td><td>976</td><td>2</td><td>80.3292</td><td>82.9227</td><td>-16</td><td>1.27659</td></tr><tr><th>5</th><td>2019Q3</td><td>otc</td><td>ig</td><td>any</td><td>cg3_issuers</td><td>18</td><td>3</td><td>1.48148</td><td>1.48148</td><td>0</td><td>0.0478303</td></tr><tr><th>6</th><td>2019Q3</td><td>ats</td><td>ig</td><td>any</td><td>cg3_issuers</td><td>18</td><td>3</td><td>1.48148</td><td>1.52931</td><td>0</td><td>0.0478303</td></tr><tr><th>7</th><td>2019Q3</td><td>otc</td><td>ig</td><td>any</td><td>cg4_issuers</td><td>31</td><td>4</td><td>2.55144</td><td>2.55144</td><td>0</td><td>0.0823745</td></tr><tr><th>8</th><td>2019Q3</td><td>ats</td><td>ig</td><td>any</td><td>cg4_issuers</td><td>31</td><td>4</td><td>2.55144</td><td>2.63381</td><td>0</td><td>0.0823745</td></tr><tr><th>9</th><td>2019Q3</td><td>otc</td><td>ig</td><td>any</td><td>cg5_issuers</td><td>3</td><td>5</td><td>0.246914</td><td>0.246914</td><td>-1</td><td>-0.07699</td></tr><tr><th>10</th><td>2019Q3</td><td>ats</td><td>ig</td><td>any</td><td>cg5_issuers</td><td>2</td><td>5</td><td>0.164609</td><td>0.169924</td><td>-1</td><td>-0.07699</td></tr></tbody></table>"
      ],
      "text/latex": [
       "\\begin{tabular}{r|ccccccccccc}\n",
       "\t& period & sbm & rt & cvt & variable & value & cov\\_cat & perc\\_total & perc\\_sbm\\_rt\\_total & value\\_diff & perc\\_diff\\\\\n",
       "\t\\hline\n",
       "\t& Symbol & Symbol & Symbol & Symbol & Cat…? & Int64 & Int64 & Float64 & Float64 & Int64 & Float64\\\\\n",
       "\t\\hline\n",
       "\t1 & 2019Q3 & otc & ig & any & cg1\\_issuers & 43 & 1 & 3.53909 & 3.53909 & 0 & 0.114261 \\\\\n",
       "\t2 & 2019Q3 & ats & ig & any & cg1\\_issuers & 43 & 1 & 3.53909 & 3.65336 & 0 & 0.114261 \\\\\n",
       "\t3 & 2019Q3 & otc & ig & any & cg2\\_issuers & 992 & 2 & 81.6461 & 81.6461 & -16 & 1.27659 \\\\\n",
       "\t4 & 2019Q3 & ats & ig & any & cg2\\_issuers & 976 & 2 & 80.3292 & 82.9227 & -16 & 1.27659 \\\\\n",
       "\t5 & 2019Q3 & otc & ig & any & cg3\\_issuers & 18 & 3 & 1.48148 & 1.48148 & 0 & 0.0478303 \\\\\n",
       "\t6 & 2019Q3 & ats & ig & any & cg3\\_issuers & 18 & 3 & 1.48148 & 1.52931 & 0 & 0.0478303 \\\\\n",
       "\t7 & 2019Q3 & otc & ig & any & cg4\\_issuers & 31 & 4 & 2.55144 & 2.55144 & 0 & 0.0823745 \\\\\n",
       "\t8 & 2019Q3 & ats & ig & any & cg4\\_issuers & 31 & 4 & 2.55144 & 2.63381 & 0 & 0.0823745 \\\\\n",
       "\t9 & 2019Q3 & otc & ig & any & cg5\\_issuers & 3 & 5 & 0.246914 & 0.246914 & -1 & -0.07699 \\\\\n",
       "\t10 & 2019Q3 & ats & ig & any & cg5\\_issuers & 2 & 5 & 0.164609 & 0.169924 & -1 & -0.07699 \\\\\n",
       "\\end{tabular}\n"
      ],
      "text/plain": [
       "10×11 DataFrame\n",
       "│ Row │ period │ sbm    │ rt     │ cvt    │ variable    │ value │ cov_cat │ perc_total │ perc_sbm_rt_total │ value_diff │ perc_diff │\n",
       "│     │ \u001b[90mSymbol\u001b[39m │ \u001b[90mSymbol\u001b[39m │ \u001b[90mSymbol\u001b[39m │ \u001b[90mSymbol\u001b[39m │ \u001b[90mCat…?\u001b[39m       │ \u001b[90mInt64\u001b[39m │ \u001b[90mInt64\u001b[39m   │ \u001b[90mFloat64\u001b[39m    │ \u001b[90mFloat64\u001b[39m           │ \u001b[90mInt64\u001b[39m      │ \u001b[90mFloat64\u001b[39m   │\n",
       "├─────┼────────┼────────┼────────┼────────┼─────────────┼───────┼─────────┼────────────┼───────────────────┼────────────┼───────────┤\n",
       "│ 1   │ 2019Q3 │ otc    │ ig     │ any    │ cg1_issuers │ 43    │ 1       │ 3.53909    │ 3.53909           │ 0          │ 0.114261  │\n",
       "│ 2   │ 2019Q3 │ ats    │ ig     │ any    │ cg1_issuers │ 43    │ 1       │ 3.53909    │ 3.65336           │ 0          │ 0.114261  │\n",
       "│ 3   │ 2019Q3 │ otc    │ ig     │ any    │ cg2_issuers │ 992   │ 2       │ 81.6461    │ 81.6461           │ -16        │ 1.27659   │\n",
       "│ 4   │ 2019Q3 │ ats    │ ig     │ any    │ cg2_issuers │ 976   │ 2       │ 80.3292    │ 82.9227           │ -16        │ 1.27659   │\n",
       "│ 5   │ 2019Q3 │ otc    │ ig     │ any    │ cg3_issuers │ 18    │ 3       │ 1.48148    │ 1.48148           │ 0          │ 0.0478303 │\n",
       "│ 6   │ 2019Q3 │ ats    │ ig     │ any    │ cg3_issuers │ 18    │ 3       │ 1.48148    │ 1.52931           │ 0          │ 0.0478303 │\n",
       "│ 7   │ 2019Q3 │ otc    │ ig     │ any    │ cg4_issuers │ 31    │ 4       │ 2.55144    │ 2.55144           │ 0          │ 0.0823745 │\n",
       "│ 8   │ 2019Q3 │ ats    │ ig     │ any    │ cg4_issuers │ 31    │ 4       │ 2.55144    │ 2.63381           │ 0          │ 0.0823745 │\n",
       "│ 9   │ 2019Q3 │ otc    │ ig     │ any    │ cg5_issuers │ 3     │ 5       │ 0.246914   │ 0.246914          │ -1         │ -0.07699  │\n",
       "│ 10  │ 2019Q3 │ ats    │ ig     │ any    │ cg5_issuers │ 2     │ 5       │ 0.164609   │ 0.169924          │ -1         │ -0.07699  │"
      ]
     },
     "execution_count": 89,
     "metadata": {},
     "output_type": "execute_result"
    }
   ],
   "source": [
    "include(string(joinpath(module_path, \"plot_module\"), \".jl\"))\n",
    "stats_var = :issuers\n",
    "rt_tt = PlotMod.get_ats_otc_diffs_by_rt(scc, stats_var)\n",
    "first(rt_tt, 10)"
   ]
  },
  {
   "cell_type": "code",
   "execution_count": 21,
   "metadata": {},
   "outputs": [
    {
     "data": {
      "application/vnd.vegalite.v4+json": {
       "config": {
        "axis": {
         "domainWidth": 3
        },
        "opacity": {
         "value": 0.7
        },
        "view": {
         "stroke": "transparent"
        }
       },
       "data": {
        "values": [
         {
          "cov_cat": 1,
          "cvt": "any",
          "perc_diff": 0.11426133959882678,
          "perc_sbm_rt_total": 3.539094650205761,
          "perc_total": 3.539094650205761,
          "period": "2019Q3",
          "rt": "ig",
          "sbm": "otc",
          "value": 43,
          "value_diff": 0,
          "variable": "cg1_issuers"
         },
         {
          "cov_cat": 2,
          "cvt": "any",
          "perc_diff": 1.276594256864243,
          "perc_sbm_rt_total": 81.64609053497942,
          "perc_total": 81.64609053497942,
          "period": "2019Q3",
          "rt": "ig",
          "sbm": "otc",
          "value": 992,
          "value_diff": -16,
          "variable": "cg2_issuers"
         },
         {
          "cov_cat": 3,
          "cvt": "any",
          "perc_diff": 0.04783032820415989,
          "perc_sbm_rt_total": 1.4814814814814816,
          "perc_total": 1.4814814814814816,
          "period": "2019Q3",
          "rt": "ig",
          "sbm": "otc",
          "value": 18,
          "value_diff": 0,
          "variable": "cg3_issuers"
         },
         {
          "cov_cat": 4,
          "cvt": "any",
          "perc_diff": 0.08237445412938671,
          "perc_sbm_rt_total": 2.551440329218107,
          "perc_total": 2.551440329218107,
          "period": "2019Q3",
          "rt": "ig",
          "sbm": "otc",
          "value": 31,
          "value_diff": 0,
          "variable": "cg4_issuers"
         },
         {
          "cov_cat": 5,
          "cvt": "any",
          "perc_diff": -0.07699004583739785,
          "perc_sbm_rt_total": 0.24691358024691357,
          "perc_total": 0.24691358024691357,
          "period": "2019Q3",
          "rt": "ig",
          "sbm": "otc",
          "value": 3,
          "value_diff": -1,
          "variable": "cg5_issuers"
         },
         {
          "cov_cat": 6,
          "cvt": "any",
          "perc_diff": 0.883252742027409,
          "perc_sbm_rt_total": 66.83127572016461,
          "perc_total": 66.83127572016461,
          "period": "2019Q3",
          "rt": "ig",
          "sbm": "otc",
          "value": 812,
          "value_diff": -15,
          "variable": "cg6_issuers"
         },
         {
          "cov_cat": 7,
          "cvt": "any",
          "perc_diff": 0.5202597102908584,
          "perc_sbm_rt_total": 95.06172839506173,
          "perc_total": 95.06172839506173,
          "period": "2019Q3",
          "rt": "ig",
          "sbm": "otc",
          "value": 1155,
          "value_diff": -30,
          "variable": "cg7_issuers"
         },
         {
          "cov_cat": 8,
          "cvt": "any",
          "perc_diff": 0.6303953344451827,
          "perc_sbm_rt_total": 43.20987654320987,
          "perc_total": 43.20987654320987,
          "period": "2019Q3",
          "rt": "ig",
          "sbm": "otc",
          "value": 525,
          "value_diff": -9,
          "variable": "cg8_issuers"
         },
         {
          "cov_cat": 9,
          "cvt": "any",
          "perc_diff": 0.1275475418777603,
          "perc_sbm_rt_total": 3.950617283950617,
          "perc_total": 3.950617283950617,
          "period": "2019Q3",
          "rt": "ig",
          "sbm": "otc",
          "value": 48,
          "value_diff": 0,
          "variable": "cg9_issuers"
         },
         {
          "cov_cat": 10,
          "cvt": "any",
          "perc_diff": 0.0690882518504532,
          "perc_sbm_rt_total": 2.139917695473251,
          "perc_total": 2.139917695473251,
          "period": "2019Q3",
          "rt": "ig",
          "sbm": "otc",
          "value": 26,
          "value_diff": 0,
          "variable": "cg10_issuers"
         },
         {
          "cov_cat": 11,
          "cvt": "any",
          "perc_diff": 0.38718790536027825,
          "perc_sbm_rt_total": 83.04526748971193,
          "perc_total": 83.04526748971193,
          "period": "2019Q3",
          "rt": "ig",
          "sbm": "otc",
          "value": 1009,
          "value_diff": -27,
          "variable": "cg11_issuers"
         },
         {
          "cov_cat": 12,
          "cvt": "any",
          "perc_diff": 0.3169808154231788,
          "perc_sbm_rt_total": 38.76543209876544,
          "perc_total": 38.76543209876544,
          "period": "2019Q3",
          "rt": "ig",
          "sbm": "otc",
          "value": 471,
          "value_diff": -11,
          "variable": "cg12_issuers"
         },
         {
          "cov_cat": 13,
          "cvt": "any",
          "perc_diff": 0.2943942715489811,
          "perc_sbm_rt_total": 88.06584362139918,
          "perc_total": 88.06584362139918,
          "period": "2019Q3",
          "rt": "ig",
          "sbm": "otc",
          "value": 1070,
          "value_diff": -30,
          "variable": "cg13_issuers"
         },
         {
          "cov_cat": 14,
          "cvt": "any",
          "perc_diff": -0.02643254979703613,
          "perc_sbm_rt_total": 4.444444444444445,
          "perc_total": 4.444444444444445,
          "period": "2019Q3",
          "rt": "ig",
          "sbm": "otc",
          "value": 54,
          "value_diff": -2,
          "variable": "cg14_issuers"
         },
         {
          "cov_cat": 15,
          "cvt": "any",
          "perc_diff": 0.2678218669911274,
          "perc_sbm_rt_total": 87.24279835390946,
          "perc_total": 87.24279835390946,
          "period": "2019Q3",
          "rt": "ig",
          "sbm": "otc",
          "value": 1060,
          "value_diff": -30,
          "variable": "cg15_issuers"
         },
         {
          "cov_cat": 1,
          "cvt": "any",
          "perc_diff": 2.052289815447711,
          "perc_sbm_rt_total": 25.97402597402597,
          "perc_total": 25.97402597402597,
          "period": "2019Q3",
          "rt": "hy",
          "sbm": "otc",
          "value": 220,
          "value_diff": -7,
          "variable": "cg1_issuers"
         },
         {
          "cov_cat": 2,
          "cvt": "any",
          "perc_diff": 4.546541974771628,
          "perc_sbm_rt_total": 71.900826446281,
          "perc_total": 71.900826446281,
          "period": "2019Q3",
          "rt": "hy",
          "sbm": "otc",
          "value": 609,
          "value_diff": -28,
          "variable": "cg2_issuers"
         },
         {
          "cov_cat": 3,
          "cvt": "any",
          "perc_diff": 0.05406077176412105,
          "perc_sbm_rt_total": 0.47225501770956313,
          "perc_total": 0.47225501770956313,
          "period": "2019Q3",
          "rt": "hy",
          "sbm": "otc",
          "value": 4,
          "value_diff": 0,
          "variable": "cg3_issuers"
         },
         {
          "cov_cat": 4,
          "cvt": "any",
          "perc_diff": -0.023457403840179025,
          "perc_sbm_rt_total": 0.9445100354191263,
          "perc_total": 0.9445100354191263,
          "period": "2019Q3",
          "rt": "hy",
          "sbm": "otc",
          "value": 8,
          "value_diff": -1,
          "variable": "cg4_issuers"
         },
         {
          "cov_cat": 5,
          "cvt": "any",
          "perc_diff": 0.05406077176412105,
          "perc_sbm_rt_total": 0.47225501770956313,
          "perc_total": 0.47225501770956313,
          "period": "2019Q3",
          "rt": "hy",
          "sbm": "otc",
          "value": 4,
          "value_diff": 0,
          "variable": "cg5_issuers"
         },
         {
          "cov_cat": 6,
          "cvt": "any",
          "perc_diff": 5.0947616976325065,
          "perc_sbm_rt_total": 61.747343565525384,
          "perc_total": 61.747343565525384,
          "period": "2019Q3",
          "rt": "hy",
          "sbm": "otc",
          "value": 523,
          "value_diff": -15,
          "variable": "cg6_issuers"
         },
         {
          "cov_cat": 7,
          "cvt": "any",
          "perc_diff": 0.006369228857252551,
          "perc_sbm_rt_total": 97.75678866587958,
          "perc_total": 97.75678866587958,
          "period": "2019Q3",
          "rt": "hy",
          "sbm": "otc",
          "value": 828,
          "value_diff": -85,
          "variable": "cg7_issuers"
         },
         {
          "cov_cat": 8,
          "cvt": "any",
          "perc_diff": 2.913689181631767,
          "perc_sbm_rt_total": 32.349468713105075,
          "perc_total": 32.349468713105075,
          "period": "2019Q3",
          "rt": "hy",
          "sbm": "otc",
          "value": 274,
          "value_diff": -6,
          "variable": "cg8_issuers"
         },
         {
          "cov_cat": 9,
          "cvt": "any",
          "perc_diff": 1.568539116386006,
          "perc_sbm_rt_total": 18.299881936245573,
          "perc_total": 18.299881936245573,
          "period": "2019Q3",
          "rt": "hy",
          "sbm": "otc",
          "value": 155,
          "value_diff": -4,
          "variable": "cg9_issuers"
         },
         {
          "cov_cat": 10,
          "cvt": "any",
          "perc_diff": 0.3108494376436961,
          "perc_sbm_rt_total": 2.715466351829988,
          "perc_total": 2.715466351829988,
          "period": "2019Q3",
          "rt": "hy",
          "sbm": "otc",
          "value": 23,
          "value_diff": 0,
          "variable": "cg10_issuers"
         },
         {
          "cov_cat": 11,
          "cvt": "any",
          "perc_diff": 0.41306779345056555,
          "perc_sbm_rt_total": 88.66587957497049,
          "perc_total": 88.66587957497049,
          "period": "2019Q3",
          "rt": "hy",
          "sbm": "otc",
          "value": 751,
          "value_diff": -74,
          "variable": "cg11_issuers"
         },
         {
          "cov_cat": 12,
          "cvt": "any",
          "perc_diff": 1.104828186167893,
          "perc_sbm_rt_total": 69.42148760330579,
          "perc_total": 69.42148760330579,
          "period": "2019Q3",
          "rt": "hy",
          "sbm": "otc",
          "value": 588,
          "value_diff": -52,
          "variable": "cg12_issuers"
         },
         {
          "cov_cat": 13,
          "cvt": "any",
          "perc_diff": 1.7415957248493186,
          "perc_sbm_rt_total": 84.17945690672963,
          "perc_total": 84.17945690672963,
          "period": "2019Q3",
          "rt": "hy",
          "sbm": "otc",
          "value": 713,
          "value_diff": -60,
          "variable": "cg13_issuers"
         },
         {
          "cov_cat": 14,
          "cvt": "any",
          "perc_diff": 2.339681849251228,
          "perc_sbm_rt_total": 29.634002361275087,
          "perc_total": 29.634002361275087,
          "period": "2019Q3",
          "rt": "hy",
          "sbm": "otc",
          "value": 251,
          "value_diff": -8,
          "variable": "cg14_issuers"
         },
         {
          "cov_cat": 15,
          "cvt": "any",
          "perc_diff": 1.6875349530852048,
          "perc_sbm_rt_total": 83.70720188902007,
          "perc_total": 83.70720188902007,
          "period": "2019Q3",
          "rt": "hy",
          "sbm": "otc",
          "value": 709,
          "value_diff": -60,
          "variable": "cg15_issuers"
         }
        ]
       },
       "encoding": {
        "color": {
         "field": "rt",
         "legend": {
          "title": "Rating"
         },
         "scale": {
          "scheme": "bluepurple"
         },
         "type": "nominal"
        },
        "column": {
         "field": "cov_cat",
         "sort": "ascending",
         "title": "Covenant Category",
         "type": "ordinal"
        },
        "x": {
         "axis": {
          "title": " "
         },
         "field": "rt",
         "type": "nominal"
        },
        "y": {
         "axis": {
          "grid": false,
          "stack": null,
          "title": "% Difference in the Number of Issuers"
         },
         "field": "perc_diff",
         "type": "quantitative"
        }
       },
       "height": 350,
       "mark": "bar",
       "spacing": 4.5,
       "title": {
        "align": "center",
        "anchor": "middle",
        "fontSize": 14,
        "offset": 20,
        "text": [
         "ATS v.s. OTC % Difference in Rating- Contingent Number of Issuers of",
         "Non-MTN-Bonds by Covenant Categories - 2019Q3"
        ]
       },
       "width": {
        "step": 18
       }
      },
      "image/png": "[encoded data removed]",
      "image/svg+xml": [
       "<?xml version=\"1.0\" encoding=\"utf-8\"?>\n",
       "<!DOCTYPE svg PUBLIC \"-//W3C//DTD SVG 1.1//EN\" \"http://www.w3.org/Graphics/SVG/1.1/DTD/svg11.dtd\">\n",
       "<svg class=\"marks\" width=\"742\" height=\"497\" viewBox=\"0 0 742 497\" version=\"1.1\" xmlns=\"http://www.w3.org/2000/svg\" xmlns:xlink=\"http://www.w3.org/1999/xlink\"><rect width=\"742\" height=\"497\" fill=\"white\"></rect><g fill=\"none\" stroke-miterlimit=\"10\" transform=\"translate(47,107)\"><g class=\"mark-group role-frame root\" role=\"graphics-object\" aria-roledescription=\"group mark container\"><g transform=\"translate(0,0)\"><path class=\"background\" aria-hidden=\"true\" d=\"M0,0h0v0h0Z\"></path><g><g class=\"mark-group role-column-title column-title\" role=\"graphics-object\" aria-roledescription=\"group mark container\"><g transform=\"translate(316,-31)\"><path class=\"background\" aria-hidden=\"true\" d=\"M0,0h0v0h0Z\"></path><g><g class=\"mark-group role-title\"><g transform=\"translate(0,-21)\"><path class=\"background\" aria-hidden=\"true\" d=\"M0,0h0v0h0Z\" pointer-events=\"none\"></path><g><g class=\"mark-text role-title-text\" role=\"graphics-symbol\" aria-roledescription=\"title\" aria-label=\"Title text 'Covenant Category'\" pointer-events=\"none\"><text text-anchor=\"middle\" transform=\"translate(0,9)\" font-family=\"sans-serif\" font-size=\"11px\" font-weight=\"bold\" fill=\"#000\" opacity=\"1\">Covenant Category</text></g></g><path class=\"foreground\" aria-hidden=\"true\" d=\"\" pointer-events=\"none\" display=\"none\"></path></g></g></g><path class=\"foreground\" aria-hidden=\"true\" d=\"\" display=\"none\"></path></g></g><g class=\"mark-group role-row-header row_header\" role=\"graphics-object\" aria-roledescription=\"group mark container\"><g transform=\"translate(-1,0)\"><path class=\"background\" aria-hidden=\"true\" d=\"M0,0h0v350h0Z\"></path><g><g class=\"mark-group role-axis\" role=\"graphics-symbol\" aria-roledescription=\"axis\" aria-label=\"Y-axis titled '% Difference in the Number of Issuers' for a linear scale with values from -1 to 6\"><g transform=\"translate(0.5,0.5)\"><path class=\"background\" aria-hidden=\"true\" d=\"M0,0h0v0h0Z\" pointer-events=\"none\"></path><g><g class=\"mark-rule role-axis-tick\" pointer-events=\"none\"><line transform=\"translate(0,350)\" x2=\"-5\" y2=\"0\" stroke=\"#888\" stroke-width=\"1\" opacity=\"1\"></line><line transform=\"translate(0,321)\" x2=\"-5\" y2=\"0\" stroke=\"#888\" stroke-width=\"1\" opacity=\"1\"></line><line transform=\"translate(0,292)\" x2=\"-5\" y2=\"0\" stroke=\"#888\" stroke-width=\"1\" opacity=\"1\"></line><line transform=\"translate(0,263)\" x2=\"-5\" y2=\"0\" stroke=\"#888\" stroke-width=\"1\" opacity=\"1\"></line><line transform=\"translate(0,233)\" x2=\"-5\" y2=\"0\" stroke=\"#888\" stroke-width=\"1\" opacity=\"1\"></line><line transform=\"translate(0,204)\" x2=\"-5\" y2=\"0\" stroke=\"#888\" stroke-width=\"1\" opacity=\"1\"></line><line transform=\"translate(0,175)\" x2=\"-5\" y2=\"0\" stroke=\"#888\" stroke-width=\"1\" opacity=\"1\"></line><line transform=\"translate(0,146)\" x2=\"-5\" y2=\"0\" stroke=\"#888\" stroke-width=\"1\" opacity=\"1\"></line><line transform=\"translate(0,117)\" x2=\"-5\" y2=\"0\" stroke=\"#888\" stroke-width=\"1\" opacity=\"1\"></line><line transform=\"translate(0,88)\" x2=\"-5\" y2=\"0\" stroke=\"#888\" stroke-width=\"1\" opacity=\"1\"></line><line transform=\"translate(0,58)\" x2=\"-5\" y2=\"0\" stroke=\"#888\" stroke-width=\"1\" opacity=\"1\"></line><line transform=\"translate(0,29)\" x2=\"-5\" y2=\"0\" stroke=\"#888\" stroke-width=\"1\" opacity=\"1\"></line><line transform=\"translate(0,0)\" x2=\"-5\" y2=\"0\" stroke=\"#888\" stroke-width=\"1\" opacity=\"1\"></line></g><g class=\"mark-text role-axis-label\" pointer-events=\"none\"><text text-anchor=\"end\" transform=\"translate(-7,353)\" font-family=\"sans-serif\" font-size=\"10px\" fill=\"#000\" opacity=\"1\">-0.5</text><text text-anchor=\"end\" transform=\"translate(-7,323.8333333333333)\" font-family=\"sans-serif\" font-size=\"10px\" fill=\"#000\" opacity=\"1\">0.0</text><text text-anchor=\"end\" transform=\"translate(-7,294.6666666666667)\" font-family=\"sans-serif\" font-size=\"10px\" fill=\"#000\" opacity=\"1\">0.5</text><text text-anchor=\"end\" transform=\"translate(-7,265.5)\" font-family=\"sans-serif\" font-size=\"10px\" fill=\"#000\" opacity=\"1\">1.0</text><text text-anchor=\"end\" transform=\"translate(-7,236.33333333333337)\" font-family=\"sans-serif\" font-size=\"10px\" fill=\"#000\" opacity=\"1\">1.5</text><text text-anchor=\"end\" transform=\"translate(-7,207.16666666666663)\" font-family=\"sans-serif\" font-size=\"10px\" fill=\"#000\" opacity=\"1\">2.0</text><text text-anchor=\"end\" transform=\"translate(-7,178)\" font-family=\"sans-serif\" font-size=\"10px\" fill=\"#000\" opacity=\"1\">2.5</text><text text-anchor=\"end\" transform=\"translate(-7,148.83333333333331)\" font-family=\"sans-serif\" font-size=\"10px\" fill=\"#000\" opacity=\"1\">3.0</text><text text-anchor=\"end\" transform=\"translate(-7,119.66666666666669)\" font-family=\"sans-serif\" font-size=\"10px\" fill=\"#000\" opacity=\"1\">3.5</text><text text-anchor=\"end\" transform=\"translate(-7,90.5)\" font-family=\"sans-serif\" font-size=\"10px\" fill=\"#000\" opacity=\"1\">4.0</text><text text-anchor=\"end\" transform=\"translate(-7,61.33333333333332)\" font-family=\"sans-serif\" font-size=\"10px\" fill=\"#000\" opacity=\"1\">4.5</text><text text-anchor=\"end\" transform=\"translate(-7,32.16666666666668)\" font-family=\"sans-serif\" font-size=\"10px\" fill=\"#000\" opacity=\"1\">5.0</text><text text-anchor=\"end\" transform=\"translate(-7,3)\" font-family=\"sans-serif\" font-size=\"10px\" fill=\"#000\" opacity=\"1\">5.5</text></g><g class=\"mark-rule role-axis-domain\" pointer-events=\"none\"><line transform=\"translate(0,350)\" x2=\"0\" y2=\"-350\" stroke=\"#888\" stroke-width=\"3\" opacity=\"1\"></line></g><g class=\"mark-text role-axis-title\" pointer-events=\"none\"><text text-anchor=\"middle\" transform=\"translate(-30,175) rotate(-90) translate(0,-2)\" font-family=\"sans-serif\" font-size=\"11px\" font-weight=\"bold\" fill=\"#000\" opacity=\"1\">% Difference in the Number of Issuers</text></g></g><path class=\"foreground\" aria-hidden=\"true\" d=\"\" pointer-events=\"none\" display=\"none\"></path></g></g></g><path class=\"foreground\" aria-hidden=\"true\" d=\"\" display=\"none\"></path></g></g><g class=\"mark-group role-column-header column_header\" role=\"graphics-object\" aria-roledescription=\"group mark container\"><g transform=\"translate(0,-1)\"><path class=\"background\" aria-hidden=\"true\" d=\"M0,0h36v0h-36Z\"></path><g><g class=\"mark-group role-title\"><g transform=\"translate(18,-20)\"><path class=\"background\" aria-hidden=\"true\" d=\"M0,0h0v0h0Z\" pointer-events=\"none\"></path><g><g class=\"mark-text role-title-text\" role=\"graphics-symbol\" aria-roledescription=\"title\" aria-label=\"Title text '1'\" pointer-events=\"none\"><text text-anchor=\"middle\" transform=\"translate(0,8)\" font-family=\"sans-serif\" font-size=\"10px\" fill=\"#000\" opacity=\"1\">1</text></g></g><path class=\"foreground\" aria-hidden=\"true\" d=\"\" pointer-events=\"none\" display=\"none\"></path></g></g></g><path class=\"foreground\" aria-hidden=\"true\" d=\"\" display=\"none\"></path></g><g transform=\"translate(42.5,-1)\"><path class=\"background\" aria-hidden=\"true\" d=\"M0,0h36v0h-36Z\"></path><g><g class=\"mark-group role-title\"><g transform=\"translate(18,-20)\"><path class=\"background\" aria-hidden=\"true\" d=\"M0,0h0v0h0Z\" pointer-events=\"none\"></path><g><g class=\"mark-text role-title-text\" role=\"graphics-symbol\" aria-roledescription=\"title\" aria-label=\"Title text '2'\" pointer-events=\"none\"><text text-anchor=\"middle\" transform=\"translate(0,8)\" font-family=\"sans-serif\" font-size=\"10px\" fill=\"#000\" opacity=\"1\">2</text></g></g><path class=\"foreground\" aria-hidden=\"true\" d=\"\" pointer-events=\"none\" display=\"none\"></path></g></g></g><path class=\"foreground\" aria-hidden=\"true\" d=\"\" display=\"none\"></path></g><g transform=\"translate(85,-1)\"><path class=\"background\" aria-hidden=\"true\" d=\"M0,0h36v0h-36Z\"></path><g><g class=\"mark-group role-title\"><g transform=\"translate(18,-20)\"><path class=\"background\" aria-hidden=\"true\" d=\"M0,0h0v0h0Z\" pointer-events=\"none\"></path><g><g class=\"mark-text role-title-text\" role=\"graphics-symbol\" aria-roledescription=\"title\" aria-label=\"Title text '3'\" pointer-events=\"none\"><text text-anchor=\"middle\" transform=\"translate(0,8)\" font-family=\"sans-serif\" font-size=\"10px\" fill=\"#000\" opacity=\"1\">3</text></g></g><path class=\"foreground\" aria-hidden=\"true\" d=\"\" pointer-events=\"none\" display=\"none\"></path></g></g></g><path class=\"foreground\" aria-hidden=\"true\" d=\"\" display=\"none\"></path></g><g transform=\"translate(127.5,-1)\"><path class=\"background\" aria-hidden=\"true\" d=\"M0,0h36v0h-36Z\"></path><g><g class=\"mark-group role-title\"><g transform=\"translate(18,-20)\"><path class=\"background\" aria-hidden=\"true\" d=\"M0,0h0v0h0Z\" pointer-events=\"none\"></path><g><g class=\"mark-text role-title-text\" role=\"graphics-symbol\" aria-roledescription=\"title\" aria-label=\"Title text '4'\" pointer-events=\"none\"><text text-anchor=\"middle\" transform=\"translate(0,8)\" font-family=\"sans-serif\" font-size=\"10px\" fill=\"#000\" opacity=\"1\">4</text></g></g><path class=\"foreground\" aria-hidden=\"true\" d=\"\" pointer-events=\"none\" display=\"none\"></path></g></g></g><path class=\"foreground\" aria-hidden=\"true\" d=\"\" display=\"none\"></path></g><g transform=\"translate(170,-1)\"><path class=\"background\" aria-hidden=\"true\" d=\"M0,0h36v0h-36Z\"></path><g><g class=\"mark-group role-title\"><g transform=\"translate(18,-20)\"><path class=\"background\" aria-hidden=\"true\" d=\"M0,0h0v0h0Z\" pointer-events=\"none\"></path><g><g class=\"mark-text role-title-text\" role=\"graphics-symbol\" aria-roledescription=\"title\" aria-label=\"Title text '5'\" pointer-events=\"none\"><text text-anchor=\"middle\" transform=\"translate(0,8)\" font-family=\"sans-serif\" font-size=\"10px\" fill=\"#000\" opacity=\"1\">5</text></g></g><path class=\"foreground\" aria-hidden=\"true\" d=\"\" pointer-events=\"none\" display=\"none\"></path></g></g></g><path class=\"foreground\" aria-hidden=\"true\" d=\"\" display=\"none\"></path></g><g transform=\"translate(212.5,-1)\"><path class=\"background\" aria-hidden=\"true\" d=\"M0,0h36v0h-36Z\"></path><g><g class=\"mark-group role-title\"><g transform=\"translate(18,-20)\"><path class=\"background\" aria-hidden=\"true\" d=\"M0,0h0v0h0Z\" pointer-events=\"none\"></path><g><g class=\"mark-text role-title-text\" role=\"graphics-symbol\" aria-roledescription=\"title\" aria-label=\"Title text '6'\" pointer-events=\"none\"><text text-anchor=\"middle\" transform=\"translate(0,8)\" font-family=\"sans-serif\" font-size=\"10px\" fill=\"#000\" opacity=\"1\">6</text></g></g><path class=\"foreground\" aria-hidden=\"true\" d=\"\" pointer-events=\"none\" display=\"none\"></path></g></g></g><path class=\"foreground\" aria-hidden=\"true\" d=\"\" display=\"none\"></path></g><g transform=\"translate(255,-1)\"><path class=\"background\" aria-hidden=\"true\" d=\"M0,0h36v0h-36Z\"></path><g><g class=\"mark-group role-title\"><g transform=\"translate(18,-20)\"><path class=\"background\" aria-hidden=\"true\" d=\"M0,0h0v0h0Z\" pointer-events=\"none\"></path><g><g class=\"mark-text role-title-text\" role=\"graphics-symbol\" aria-roledescription=\"title\" aria-label=\"Title text '7'\" pointer-events=\"none\"><text text-anchor=\"middle\" transform=\"translate(0,8)\" font-family=\"sans-serif\" font-size=\"10px\" fill=\"#000\" opacity=\"1\">7</text></g></g><path class=\"foreground\" aria-hidden=\"true\" d=\"\" pointer-events=\"none\" display=\"none\"></path></g></g></g><path class=\"foreground\" aria-hidden=\"true\" d=\"\" display=\"none\"></path></g><g transform=\"translate(297.5,-1)\"><path class=\"background\" aria-hidden=\"true\" d=\"M0,0h36v0h-36Z\"></path><g><g class=\"mark-group role-title\"><g transform=\"translate(18,-20)\"><path class=\"background\" aria-hidden=\"true\" d=\"M0,0h0v0h0Z\" pointer-events=\"none\"></path><g><g class=\"mark-text role-title-text\" role=\"graphics-symbol\" aria-roledescription=\"title\" aria-label=\"Title text '8'\" pointer-events=\"none\"><text text-anchor=\"middle\" transform=\"translate(0,8)\" font-family=\"sans-serif\" font-size=\"10px\" fill=\"#000\" opacity=\"1\">8</text></g></g><path class=\"foreground\" aria-hidden=\"true\" d=\"\" pointer-events=\"none\" display=\"none\"></path></g></g></g><path class=\"foreground\" aria-hidden=\"true\" d=\"\" display=\"none\"></path></g><g transform=\"translate(340,-1)\"><path class=\"background\" aria-hidden=\"true\" d=\"M0,0h36v0h-36Z\"></path><g><g class=\"mark-group role-title\"><g transform=\"translate(18,-20)\"><path class=\"background\" aria-hidden=\"true\" d=\"M0,0h0v0h0Z\" pointer-events=\"none\"></path><g><g class=\"mark-text role-title-text\" role=\"graphics-symbol\" aria-roledescription=\"title\" aria-label=\"Title text '9'\" pointer-events=\"none\"><text text-anchor=\"middle\" transform=\"translate(0,8)\" font-family=\"sans-serif\" font-size=\"10px\" fill=\"#000\" opacity=\"1\">9</text></g></g><path class=\"foreground\" aria-hidden=\"true\" d=\"\" pointer-events=\"none\" display=\"none\"></path></g></g></g><path class=\"foreground\" aria-hidden=\"true\" d=\"\" display=\"none\"></path></g><g transform=\"translate(382.5,-1)\"><path class=\"background\" aria-hidden=\"true\" d=\"M0,0h36v0h-36Z\"></path><g><g class=\"mark-group role-title\"><g transform=\"translate(18,-20)\"><path class=\"background\" aria-hidden=\"true\" d=\"M0,0h0v0h0Z\" pointer-events=\"none\"></path><g><g class=\"mark-text role-title-text\" role=\"graphics-symbol\" aria-roledescription=\"title\" aria-label=\"Title text '10'\" pointer-events=\"none\"><text text-anchor=\"middle\" transform=\"translate(0,8)\" font-family=\"sans-serif\" font-size=\"10px\" fill=\"#000\" opacity=\"1\">10</text></g></g><path class=\"foreground\" aria-hidden=\"true\" d=\"\" pointer-events=\"none\" display=\"none\"></path></g></g></g><path class=\"foreground\" aria-hidden=\"true\" d=\"\" display=\"none\"></path></g><g transform=\"translate(425,-1)\"><path class=\"background\" aria-hidden=\"true\" d=\"M0,0h36v0h-36Z\"></path><g><g class=\"mark-group role-title\"><g transform=\"translate(18,-20)\"><path class=\"background\" aria-hidden=\"true\" d=\"M0,0h0v0h0Z\" pointer-events=\"none\"></path><g><g class=\"mark-text role-title-text\" role=\"graphics-symbol\" aria-roledescription=\"title\" aria-label=\"Title text '11'\" pointer-events=\"none\"><text text-anchor=\"middle\" transform=\"translate(0,8)\" font-family=\"sans-serif\" font-size=\"10px\" fill=\"#000\" opacity=\"1\">11</text></g></g><path class=\"foreground\" aria-hidden=\"true\" d=\"\" pointer-events=\"none\" display=\"none\"></path></g></g></g><path class=\"foreground\" aria-hidden=\"true\" d=\"\" display=\"none\"></path></g><g transform=\"translate(467.5,-1)\"><path class=\"background\" aria-hidden=\"true\" d=\"M0,0h36v0h-36Z\"></path><g><g class=\"mark-group role-title\"><g transform=\"translate(18,-20)\"><path class=\"background\" aria-hidden=\"true\" d=\"M0,0h0v0h0Z\" pointer-events=\"none\"></path><g><g class=\"mark-text role-title-text\" role=\"graphics-symbol\" aria-roledescription=\"title\" aria-label=\"Title text '12'\" pointer-events=\"none\"><text text-anchor=\"middle\" transform=\"translate(0,8)\" font-family=\"sans-serif\" font-size=\"10px\" fill=\"#000\" opacity=\"1\">12</text></g></g><path class=\"foreground\" aria-hidden=\"true\" d=\"\" pointer-events=\"none\" display=\"none\"></path></g></g></g><path class=\"foreground\" aria-hidden=\"true\" d=\"\" display=\"none\"></path></g><g transform=\"translate(510,-1)\"><path class=\"background\" aria-hidden=\"true\" d=\"M0,0h36v0h-36Z\"></path><g><g class=\"mark-group role-title\"><g transform=\"translate(18,-20)\"><path class=\"background\" aria-hidden=\"true\" d=\"M0,0h0v0h0Z\" pointer-events=\"none\"></path><g><g class=\"mark-text role-title-text\" role=\"graphics-symbol\" aria-roledescription=\"title\" aria-label=\"Title text '13'\" pointer-events=\"none\"><text text-anchor=\"middle\" transform=\"translate(0,8)\" font-family=\"sans-serif\" font-size=\"10px\" fill=\"#000\" opacity=\"1\">13</text></g></g><path class=\"foreground\" aria-hidden=\"true\" d=\"\" pointer-events=\"none\" display=\"none\"></path></g></g></g><path class=\"foreground\" aria-hidden=\"true\" d=\"\" display=\"none\"></path></g><g transform=\"translate(552.5,-1)\"><path class=\"background\" aria-hidden=\"true\" d=\"M0,0h36v0h-36Z\"></path><g><g class=\"mark-group role-title\"><g transform=\"translate(18,-20)\"><path class=\"background\" aria-hidden=\"true\" d=\"M0,0h0v0h0Z\" pointer-events=\"none\"></path><g><g class=\"mark-text role-title-text\" role=\"graphics-symbol\" aria-roledescription=\"title\" aria-label=\"Title text '14'\" pointer-events=\"none\"><text text-anchor=\"middle\" transform=\"translate(0,8)\" font-family=\"sans-serif\" font-size=\"10px\" fill=\"#000\" opacity=\"1\">14</text></g></g><path class=\"foreground\" aria-hidden=\"true\" d=\"\" pointer-events=\"none\" display=\"none\"></path></g></g></g><path class=\"foreground\" aria-hidden=\"true\" d=\"\" display=\"none\"></path></g><g transform=\"translate(595,-1)\"><path class=\"background\" aria-hidden=\"true\" d=\"M0,0h36v0h-36Z\"></path><g><g class=\"mark-group role-title\"><g transform=\"translate(18,-20)\"><path class=\"background\" aria-hidden=\"true\" d=\"M0,0h0v0h0Z\" pointer-events=\"none\"></path><g><g class=\"mark-text role-title-text\" role=\"graphics-symbol\" aria-roledescription=\"title\" aria-label=\"Title text '15'\" pointer-events=\"none\"><text text-anchor=\"middle\" transform=\"translate(0,8)\" font-family=\"sans-serif\" font-size=\"10px\" fill=\"#000\" opacity=\"1\">15</text></g></g><path class=\"foreground\" aria-hidden=\"true\" d=\"\" pointer-events=\"none\" display=\"none\"></path></g></g></g><path class=\"foreground\" aria-hidden=\"true\" d=\"\" display=\"none\"></path></g></g><g class=\"mark-group role-column-footer column_footer\" role=\"graphics-object\" aria-roledescription=\"group mark container\"><g transform=\"translate(0,351)\"><path class=\"background\" aria-hidden=\"true\" d=\"M0,0h36v0h-36Z\"></path><g><g class=\"mark-group role-axis\" role=\"graphics-symbol\" aria-roledescription=\"axis\" aria-label=\"X-axis titled ' ' for a discrete scale with 2 values: hy, ig\"><g transform=\"translate(0.5,0.5)\"><path class=\"background\" aria-hidden=\"true\" d=\"M0,0h0v0h0Z\" pointer-events=\"none\"></path><g><g class=\"mark-rule role-axis-tick\" pointer-events=\"none\"><line transform=\"translate(9,0)\" x2=\"0\" y2=\"5\" stroke=\"#888\" stroke-width=\"1\" opacity=\"1\"></line><line transform=\"translate(27,0)\" x2=\"0\" y2=\"5\" stroke=\"#888\" stroke-width=\"1\" opacity=\"1\"></line></g><g class=\"mark-text role-axis-label\" pointer-events=\"none\"><text text-anchor=\"end\" transform=\"translate(8.500000000000002,7) rotate(270) translate(0,3)\" font-family=\"sans-serif\" font-size=\"10px\" fill=\"#000\" opacity=\"1\">hy</text><text text-anchor=\"end\" transform=\"translate(26.5,7) rotate(270) translate(0,3)\" font-family=\"sans-serif\" font-size=\"10px\" fill=\"#000\" opacity=\"1\">ig</text></g><g class=\"mark-rule role-axis-domain\" pointer-events=\"none\"><line transform=\"translate(0,0)\" x2=\"36\" y2=\"0\" stroke=\"#888\" stroke-width=\"3\" opacity=\"1\"></line></g><g class=\"mark-text role-axis-title\" pointer-events=\"none\"><text text-anchor=\"middle\" transform=\"translate(18,32)\" font-family=\"sans-serif\" font-size=\"11px\" font-weight=\"bold\" fill=\"#000\" opacity=\"1\"></text></g></g><path class=\"foreground\" aria-hidden=\"true\" d=\"\" pointer-events=\"none\" display=\"none\"></path></g></g></g><path class=\"foreground\" aria-hidden=\"true\" d=\"\" display=\"none\"></path></g><g transform=\"translate(42.5,351)\"><path class=\"background\" aria-hidden=\"true\" d=\"M0,0h36v0h-36Z\"></path><g><g class=\"mark-group role-axis\" role=\"graphics-symbol\" aria-roledescription=\"axis\" aria-label=\"X-axis titled ' ' for a discrete scale with 2 values: hy, ig\"><g transform=\"translate(0.5,0.5)\"><path class=\"background\" aria-hidden=\"true\" d=\"M0,0h0v0h0Z\" pointer-events=\"none\"></path><g><g class=\"mark-rule role-axis-tick\" pointer-events=\"none\"><line transform=\"translate(9,0)\" x2=\"0\" y2=\"5\" stroke=\"#888\" stroke-width=\"1\" opacity=\"1\"></line><line transform=\"translate(27,0)\" x2=\"0\" y2=\"5\" stroke=\"#888\" stroke-width=\"1\" opacity=\"1\"></line></g><g class=\"mark-text role-axis-label\" pointer-events=\"none\"><text text-anchor=\"end\" transform=\"translate(8.500000000000002,7) rotate(270) translate(0,3)\" font-family=\"sans-serif\" font-size=\"10px\" fill=\"#000\" opacity=\"1\">hy</text><text text-anchor=\"end\" transform=\"translate(26.5,7) rotate(270) translate(0,3)\" font-family=\"sans-serif\" font-size=\"10px\" fill=\"#000\" opacity=\"1\">ig</text></g><g class=\"mark-rule role-axis-domain\" pointer-events=\"none\"><line transform=\"translate(0,0)\" x2=\"36\" y2=\"0\" stroke=\"#888\" stroke-width=\"3\" opacity=\"1\"></line></g><g class=\"mark-text role-axis-title\" pointer-events=\"none\"><text text-anchor=\"middle\" transform=\"translate(18,32)\" font-family=\"sans-serif\" font-size=\"11px\" font-weight=\"bold\" fill=\"#000\" opacity=\"1\"></text></g></g><path class=\"foreground\" aria-hidden=\"true\" d=\"\" pointer-events=\"none\" display=\"none\"></path></g></g></g><path class=\"foreground\" aria-hidden=\"true\" d=\"\" display=\"none\"></path></g><g transform=\"translate(85,351)\"><path class=\"background\" aria-hidden=\"true\" d=\"M0,0h36v0h-36Z\"></path><g><g class=\"mark-group role-axis\" role=\"graphics-symbol\" aria-roledescription=\"axis\" aria-label=\"X-axis titled ' ' for a discrete scale with 2 values: hy, ig\"><g transform=\"translate(0.5,0.5)\"><path class=\"background\" aria-hidden=\"true\" d=\"M0,0h0v0h0Z\" pointer-events=\"none\"></path><g><g class=\"mark-rule role-axis-tick\" pointer-events=\"none\"><line transform=\"translate(9,0)\" x2=\"0\" y2=\"5\" stroke=\"#888\" stroke-width=\"1\" opacity=\"1\"></line><line transform=\"translate(27,0)\" x2=\"0\" y2=\"5\" stroke=\"#888\" stroke-width=\"1\" opacity=\"1\"></line></g><g class=\"mark-text role-axis-label\" pointer-events=\"none\"><text text-anchor=\"end\" transform=\"translate(8.500000000000002,7) rotate(270) translate(0,3)\" font-family=\"sans-serif\" font-size=\"10px\" fill=\"#000\" opacity=\"1\">hy</text><text text-anchor=\"end\" transform=\"translate(26.5,7) rotate(270) translate(0,3)\" font-family=\"sans-serif\" font-size=\"10px\" fill=\"#000\" opacity=\"1\">ig</text></g><g class=\"mark-rule role-axis-domain\" pointer-events=\"none\"><line transform=\"translate(0,0)\" x2=\"36\" y2=\"0\" stroke=\"#888\" stroke-width=\"3\" opacity=\"1\"></line></g><g class=\"mark-text role-axis-title\" pointer-events=\"none\"><text text-anchor=\"middle\" transform=\"translate(18,32)\" font-family=\"sans-serif\" font-size=\"11px\" font-weight=\"bold\" fill=\"#000\" opacity=\"1\"></text></g></g><path class=\"foreground\" aria-hidden=\"true\" d=\"\" pointer-events=\"none\" display=\"none\"></path></g></g></g><path class=\"foreground\" aria-hidden=\"true\" d=\"\" display=\"none\"></path></g><g transform=\"translate(127.5,351)\"><path class=\"background\" aria-hidden=\"true\" d=\"M0,0h36v0h-36Z\"></path><g><g class=\"mark-group role-axis\" role=\"graphics-symbol\" aria-roledescription=\"axis\" aria-label=\"X-axis titled ' ' for a discrete scale with 2 values: hy, ig\"><g transform=\"translate(0.5,0.5)\"><path class=\"background\" aria-hidden=\"true\" d=\"M0,0h0v0h0Z\" pointer-events=\"none\"></path><g><g class=\"mark-rule role-axis-tick\" pointer-events=\"none\"><line transform=\"translate(9,0)\" x2=\"0\" y2=\"5\" stroke=\"#888\" stroke-width=\"1\" opacity=\"1\"></line><line transform=\"translate(27,0)\" x2=\"0\" y2=\"5\" stroke=\"#888\" stroke-width=\"1\" opacity=\"1\"></line></g><g class=\"mark-text role-axis-label\" pointer-events=\"none\"><text text-anchor=\"end\" transform=\"translate(8.500000000000002,7) rotate(270) translate(0,3)\" font-family=\"sans-serif\" font-size=\"10px\" fill=\"#000\" opacity=\"1\">hy</text><text text-anchor=\"end\" transform=\"translate(26.5,7) rotate(270) translate(0,3)\" font-family=\"sans-serif\" font-size=\"10px\" fill=\"#000\" opacity=\"1\">ig</text></g><g class=\"mark-rule role-axis-domain\" pointer-events=\"none\"><line transform=\"translate(0,0)\" x2=\"36\" y2=\"0\" stroke=\"#888\" stroke-width=\"3\" opacity=\"1\"></line></g><g class=\"mark-text role-axis-title\" pointer-events=\"none\"><text text-anchor=\"middle\" transform=\"translate(18,32)\" font-family=\"sans-serif\" font-size=\"11px\" font-weight=\"bold\" fill=\"#000\" opacity=\"1\"></text></g></g><path class=\"foreground\" aria-hidden=\"true\" d=\"\" pointer-events=\"none\" display=\"none\"></path></g></g></g><path class=\"foreground\" aria-hidden=\"true\" d=\"\" display=\"none\"></path></g><g transform=\"translate(170,351)\"><path class=\"background\" aria-hidden=\"true\" d=\"M0,0h36v0h-36Z\"></path><g><g class=\"mark-group role-axis\" role=\"graphics-symbol\" aria-roledescription=\"axis\" aria-label=\"X-axis titled ' ' for a discrete scale with 2 values: hy, ig\"><g transform=\"translate(0.5,0.5)\"><path class=\"background\" aria-hidden=\"true\" d=\"M0,0h0v0h0Z\" pointer-events=\"none\"></path><g><g class=\"mark-rule role-axis-tick\" pointer-events=\"none\"><line transform=\"translate(9,0)\" x2=\"0\" y2=\"5\" stroke=\"#888\" stroke-width=\"1\" opacity=\"1\"></line><line transform=\"translate(27,0)\" x2=\"0\" y2=\"5\" stroke=\"#888\" stroke-width=\"1\" opacity=\"1\"></line></g><g class=\"mark-text role-axis-label\" pointer-events=\"none\"><text text-anchor=\"end\" transform=\"translate(8.500000000000002,7) rotate(270) translate(0,3)\" font-family=\"sans-serif\" font-size=\"10px\" fill=\"#000\" opacity=\"1\">hy</text><text text-anchor=\"end\" transform=\"translate(26.5,7) rotate(270) translate(0,3)\" font-family=\"sans-serif\" font-size=\"10px\" fill=\"#000\" opacity=\"1\">ig</text></g><g class=\"mark-rule role-axis-domain\" pointer-events=\"none\"><line transform=\"translate(0,0)\" x2=\"36\" y2=\"0\" stroke=\"#888\" stroke-width=\"3\" opacity=\"1\"></line></g><g class=\"mark-text role-axis-title\" pointer-events=\"none\"><text text-anchor=\"middle\" transform=\"translate(18,32)\" font-family=\"sans-serif\" font-size=\"11px\" font-weight=\"bold\" fill=\"#000\" opacity=\"1\"></text></g></g><path class=\"foreground\" aria-hidden=\"true\" d=\"\" pointer-events=\"none\" display=\"none\"></path></g></g></g><path class=\"foreground\" aria-hidden=\"true\" d=\"\" display=\"none\"></path></g><g transform=\"translate(212.5,351)\"><path class=\"background\" aria-hidden=\"true\" d=\"M0,0h36v0h-36Z\"></path><g><g class=\"mark-group role-axis\" role=\"graphics-symbol\" aria-roledescription=\"axis\" aria-label=\"X-axis titled ' ' for a discrete scale with 2 values: hy, ig\"><g transform=\"translate(0.5,0.5)\"><path class=\"background\" aria-hidden=\"true\" d=\"M0,0h0v0h0Z\" pointer-events=\"none\"></path><g><g class=\"mark-rule role-axis-tick\" pointer-events=\"none\"><line transform=\"translate(9,0)\" x2=\"0\" y2=\"5\" stroke=\"#888\" stroke-width=\"1\" opacity=\"1\"></line><line transform=\"translate(27,0)\" x2=\"0\" y2=\"5\" stroke=\"#888\" stroke-width=\"1\" opacity=\"1\"></line></g><g class=\"mark-text role-axis-label\" pointer-events=\"none\"><text text-anchor=\"end\" transform=\"translate(8.500000000000002,7) rotate(270) translate(0,3)\" font-family=\"sans-serif\" font-size=\"10px\" fill=\"#000\" opacity=\"1\">hy</text><text text-anchor=\"end\" transform=\"translate(26.5,7) rotate(270) translate(0,3)\" font-family=\"sans-serif\" font-size=\"10px\" fill=\"#000\" opacity=\"1\">ig</text></g><g class=\"mark-rule role-axis-domain\" pointer-events=\"none\"><line transform=\"translate(0,0)\" x2=\"36\" y2=\"0\" stroke=\"#888\" stroke-width=\"3\" opacity=\"1\"></line></g><g class=\"mark-text role-axis-title\" pointer-events=\"none\"><text text-anchor=\"middle\" transform=\"translate(18,32)\" font-family=\"sans-serif\" font-size=\"11px\" font-weight=\"bold\" fill=\"#000\" opacity=\"1\"></text></g></g><path class=\"foreground\" aria-hidden=\"true\" d=\"\" pointer-events=\"none\" display=\"none\"></path></g></g></g><path class=\"foreground\" aria-hidden=\"true\" d=\"\" display=\"none\"></path></g><g transform=\"translate(255,351)\"><path class=\"background\" aria-hidden=\"true\" d=\"M0,0h36v0h-36Z\"></path><g><g class=\"mark-group role-axis\" role=\"graphics-symbol\" aria-roledescription=\"axis\" aria-label=\"X-axis titled ' ' for a discrete scale with 2 values: hy, ig\"><g transform=\"translate(0.5,0.5)\"><path class=\"background\" aria-hidden=\"true\" d=\"M0,0h0v0h0Z\" pointer-events=\"none\"></path><g><g class=\"mark-rule role-axis-tick\" pointer-events=\"none\"><line transform=\"translate(9,0)\" x2=\"0\" y2=\"5\" stroke=\"#888\" stroke-width=\"1\" opacity=\"1\"></line><line transform=\"translate(27,0)\" x2=\"0\" y2=\"5\" stroke=\"#888\" stroke-width=\"1\" opacity=\"1\"></line></g><g class=\"mark-text role-axis-label\" pointer-events=\"none\"><text text-anchor=\"end\" transform=\"translate(8.500000000000002,7) rotate(270) translate(0,3)\" font-family=\"sans-serif\" font-size=\"10px\" fill=\"#000\" opacity=\"1\">hy</text><text text-anchor=\"end\" transform=\"translate(26.5,7) rotate(270) translate(0,3)\" font-family=\"sans-serif\" font-size=\"10px\" fill=\"#000\" opacity=\"1\">ig</text></g><g class=\"mark-rule role-axis-domain\" pointer-events=\"none\"><line transform=\"translate(0,0)\" x2=\"36\" y2=\"0\" stroke=\"#888\" stroke-width=\"3\" opacity=\"1\"></line></g><g class=\"mark-text role-axis-title\" pointer-events=\"none\"><text text-anchor=\"middle\" transform=\"translate(18,32)\" font-family=\"sans-serif\" font-size=\"11px\" font-weight=\"bold\" fill=\"#000\" opacity=\"1\"></text></g></g><path class=\"foreground\" aria-hidden=\"true\" d=\"\" pointer-events=\"none\" display=\"none\"></path></g></g></g><path class=\"foreground\" aria-hidden=\"true\" d=\"\" display=\"none\"></path></g><g transform=\"translate(297.5,351)\"><path class=\"background\" aria-hidden=\"true\" d=\"M0,0h36v0h-36Z\"></path><g><g class=\"mark-group role-axis\" role=\"graphics-symbol\" aria-roledescription=\"axis\" aria-label=\"X-axis titled ' ' for a discrete scale with 2 values: hy, ig\"><g transform=\"translate(0.5,0.5)\"><path class=\"background\" aria-hidden=\"true\" d=\"M0,0h0v0h0Z\" pointer-events=\"none\"></path><g><g class=\"mark-rule role-axis-tick\" pointer-events=\"none\"><line transform=\"translate(9,0)\" x2=\"0\" y2=\"5\" stroke=\"#888\" stroke-width=\"1\" opacity=\"1\"></line><line transform=\"translate(27,0)\" x2=\"0\" y2=\"5\" stroke=\"#888\" stroke-width=\"1\" opacity=\"1\"></line></g><g class=\"mark-text role-axis-label\" pointer-events=\"none\"><text text-anchor=\"end\" transform=\"translate(8.500000000000002,7) rotate(270) translate(0,3)\" font-family=\"sans-serif\" font-size=\"10px\" fill=\"#000\" opacity=\"1\">hy</text><text text-anchor=\"end\" transform=\"translate(26.5,7) rotate(270) translate(0,3)\" font-family=\"sans-serif\" font-size=\"10px\" fill=\"#000\" opacity=\"1\">ig</text></g><g class=\"mark-rule role-axis-domain\" pointer-events=\"none\"><line transform=\"translate(0,0)\" x2=\"36\" y2=\"0\" stroke=\"#888\" stroke-width=\"3\" opacity=\"1\"></line></g><g class=\"mark-text role-axis-title\" pointer-events=\"none\"><text text-anchor=\"middle\" transform=\"translate(18,32)\" font-family=\"sans-serif\" font-size=\"11px\" font-weight=\"bold\" fill=\"#000\" opacity=\"1\"></text></g></g><path class=\"foreground\" aria-hidden=\"true\" d=\"\" pointer-events=\"none\" display=\"none\"></path></g></g></g><path class=\"foreground\" aria-hidden=\"true\" d=\"\" display=\"none\"></path></g><g transform=\"translate(340,351)\"><path class=\"background\" aria-hidden=\"true\" d=\"M0,0h36v0h-36Z\"></path><g><g class=\"mark-group role-axis\" role=\"graphics-symbol\" aria-roledescription=\"axis\" aria-label=\"X-axis titled ' ' for a discrete scale with 2 values: hy, ig\"><g transform=\"translate(0.5,0.5)\"><path class=\"background\" aria-hidden=\"true\" d=\"M0,0h0v0h0Z\" pointer-events=\"none\"></path><g><g class=\"mark-rule role-axis-tick\" pointer-events=\"none\"><line transform=\"translate(9,0)\" x2=\"0\" y2=\"5\" stroke=\"#888\" stroke-width=\"1\" opacity=\"1\"></line><line transform=\"translate(27,0)\" x2=\"0\" y2=\"5\" stroke=\"#888\" stroke-width=\"1\" opacity=\"1\"></line></g><g class=\"mark-text role-axis-label\" pointer-events=\"none\"><text text-anchor=\"end\" transform=\"translate(8.500000000000002,7) rotate(270) translate(0,3)\" font-family=\"sans-serif\" font-size=\"10px\" fill=\"#000\" opacity=\"1\">hy</text><text text-anchor=\"end\" transform=\"translate(26.5,7) rotate(270) translate(0,3)\" font-family=\"sans-serif\" font-size=\"10px\" fill=\"#000\" opacity=\"1\">ig</text></g><g class=\"mark-rule role-axis-domain\" pointer-events=\"none\"><line transform=\"translate(0,0)\" x2=\"36\" y2=\"0\" stroke=\"#888\" stroke-width=\"3\" opacity=\"1\"></line></g><g class=\"mark-text role-axis-title\" pointer-events=\"none\"><text text-anchor=\"middle\" transform=\"translate(18,32)\" font-family=\"sans-serif\" font-size=\"11px\" font-weight=\"bold\" fill=\"#000\" opacity=\"1\"></text></g></g><path class=\"foreground\" aria-hidden=\"true\" d=\"\" pointer-events=\"none\" display=\"none\"></path></g></g></g><path class=\"foreground\" aria-hidden=\"true\" d=\"\" display=\"none\"></path></g><g transform=\"translate(382.5,351)\"><path class=\"background\" aria-hidden=\"true\" d=\"M0,0h36v0h-36Z\"></path><g><g class=\"mark-group role-axis\" role=\"graphics-symbol\" aria-roledescription=\"axis\" aria-label=\"X-axis titled ' ' for a discrete scale with 2 values: hy, ig\"><g transform=\"translate(0.5,0.5)\"><path class=\"background\" aria-hidden=\"true\" d=\"M0,0h0v0h0Z\" pointer-events=\"none\"></path><g><g class=\"mark-rule role-axis-tick\" pointer-events=\"none\"><line transform=\"translate(9,0)\" x2=\"0\" y2=\"5\" stroke=\"#888\" stroke-width=\"1\" opacity=\"1\"></line><line transform=\"translate(27,0)\" x2=\"0\" y2=\"5\" stroke=\"#888\" stroke-width=\"1\" opacity=\"1\"></line></g><g class=\"mark-text role-axis-label\" pointer-events=\"none\"><text text-anchor=\"end\" transform=\"translate(8.500000000000002,7) rotate(270) translate(0,3)\" font-family=\"sans-serif\" font-size=\"10px\" fill=\"#000\" opacity=\"1\">hy</text><text text-anchor=\"end\" transform=\"translate(26.5,7) rotate(270) translate(0,3)\" font-family=\"sans-serif\" font-size=\"10px\" fill=\"#000\" opacity=\"1\">ig</text></g><g class=\"mark-rule role-axis-domain\" pointer-events=\"none\"><line transform=\"translate(0,0)\" x2=\"36\" y2=\"0\" stroke=\"#888\" stroke-width=\"3\" opacity=\"1\"></line></g><g class=\"mark-text role-axis-title\" pointer-events=\"none\"><text text-anchor=\"middle\" transform=\"translate(18,32)\" font-family=\"sans-serif\" font-size=\"11px\" font-weight=\"bold\" fill=\"#000\" opacity=\"1\"></text></g></g><path class=\"foreground\" aria-hidden=\"true\" d=\"\" pointer-events=\"none\" display=\"none\"></path></g></g></g><path class=\"foreground\" aria-hidden=\"true\" d=\"\" display=\"none\"></path></g><g transform=\"translate(425,351)\"><path class=\"background\" aria-hidden=\"true\" d=\"M0,0h36v0h-36Z\"></path><g><g class=\"mark-group role-axis\" role=\"graphics-symbol\" aria-roledescription=\"axis\" aria-label=\"X-axis titled ' ' for a discrete scale with 2 values: hy, ig\"><g transform=\"translate(0.5,0.5)\"><path class=\"background\" aria-hidden=\"true\" d=\"M0,0h0v0h0Z\" pointer-events=\"none\"></path><g><g class=\"mark-rule role-axis-tick\" pointer-events=\"none\"><line transform=\"translate(9,0)\" x2=\"0\" y2=\"5\" stroke=\"#888\" stroke-width=\"1\" opacity=\"1\"></line><line transform=\"translate(27,0)\" x2=\"0\" y2=\"5\" stroke=\"#888\" stroke-width=\"1\" opacity=\"1\"></line></g><g class=\"mark-text role-axis-label\" pointer-events=\"none\"><text text-anchor=\"end\" transform=\"translate(8.500000000000002,7) rotate(270) translate(0,3)\" font-family=\"sans-serif\" font-size=\"10px\" fill=\"#000\" opacity=\"1\">hy</text><text text-anchor=\"end\" transform=\"translate(26.5,7) rotate(270) translate(0,3)\" font-family=\"sans-serif\" font-size=\"10px\" fill=\"#000\" opacity=\"1\">ig</text></g><g class=\"mark-rule role-axis-domain\" pointer-events=\"none\"><line transform=\"translate(0,0)\" x2=\"36\" y2=\"0\" stroke=\"#888\" stroke-width=\"3\" opacity=\"1\"></line></g><g class=\"mark-text role-axis-title\" pointer-events=\"none\"><text text-anchor=\"middle\" transform=\"translate(18,32)\" font-family=\"sans-serif\" font-size=\"11px\" font-weight=\"bold\" fill=\"#000\" opacity=\"1\"></text></g></g><path class=\"foreground\" aria-hidden=\"true\" d=\"\" pointer-events=\"none\" display=\"none\"></path></g></g></g><path class=\"foreground\" aria-hidden=\"true\" d=\"\" display=\"none\"></path></g><g transform=\"translate(467.5,351)\"><path class=\"background\" aria-hidden=\"true\" d=\"M0,0h36v0h-36Z\"></path><g><g class=\"mark-group role-axis\" role=\"graphics-symbol\" aria-roledescription=\"axis\" aria-label=\"X-axis titled ' ' for a discrete scale with 2 values: hy, ig\"><g transform=\"translate(0.5,0.5)\"><path class=\"background\" aria-hidden=\"true\" d=\"M0,0h0v0h0Z\" pointer-events=\"none\"></path><g><g class=\"mark-rule role-axis-tick\" pointer-events=\"none\"><line transform=\"translate(9,0)\" x2=\"0\" y2=\"5\" stroke=\"#888\" stroke-width=\"1\" opacity=\"1\"></line><line transform=\"translate(27,0)\" x2=\"0\" y2=\"5\" stroke=\"#888\" stroke-width=\"1\" opacity=\"1\"></line></g><g class=\"mark-text role-axis-label\" pointer-events=\"none\"><text text-anchor=\"end\" transform=\"translate(8.500000000000002,7) rotate(270) translate(0,3)\" font-family=\"sans-serif\" font-size=\"10px\" fill=\"#000\" opacity=\"1\">hy</text><text text-anchor=\"end\" transform=\"translate(26.5,7) rotate(270) translate(0,3)\" font-family=\"sans-serif\" font-size=\"10px\" fill=\"#000\" opacity=\"1\">ig</text></g><g class=\"mark-rule role-axis-domain\" pointer-events=\"none\"><line transform=\"translate(0,0)\" x2=\"36\" y2=\"0\" stroke=\"#888\" stroke-width=\"3\" opacity=\"1\"></line></g><g class=\"mark-text role-axis-title\" pointer-events=\"none\"><text text-anchor=\"middle\" transform=\"translate(18,32)\" font-family=\"sans-serif\" font-size=\"11px\" font-weight=\"bold\" fill=\"#000\" opacity=\"1\"></text></g></g><path class=\"foreground\" aria-hidden=\"true\" d=\"\" pointer-events=\"none\" display=\"none\"></path></g></g></g><path class=\"foreground\" aria-hidden=\"true\" d=\"\" display=\"none\"></path></g><g transform=\"translate(510,351)\"><path class=\"background\" aria-hidden=\"true\" d=\"M0,0h36v0h-36Z\"></path><g><g class=\"mark-group role-axis\" role=\"graphics-symbol\" aria-roledescription=\"axis\" aria-label=\"X-axis titled ' ' for a discrete scale with 2 values: hy, ig\"><g transform=\"translate(0.5,0.5)\"><path class=\"background\" aria-hidden=\"true\" d=\"M0,0h0v0h0Z\" pointer-events=\"none\"></path><g><g class=\"mark-rule role-axis-tick\" pointer-events=\"none\"><line transform=\"translate(9,0)\" x2=\"0\" y2=\"5\" stroke=\"#888\" stroke-width=\"1\" opacity=\"1\"></line><line transform=\"translate(27,0)\" x2=\"0\" y2=\"5\" stroke=\"#888\" stroke-width=\"1\" opacity=\"1\"></line></g><g class=\"mark-text role-axis-label\" pointer-events=\"none\"><text text-anchor=\"end\" transform=\"translate(8.500000000000002,7) rotate(270) translate(0,3)\" font-family=\"sans-serif\" font-size=\"10px\" fill=\"#000\" opacity=\"1\">hy</text><text text-anchor=\"end\" transform=\"translate(26.5,7) rotate(270) translate(0,3)\" font-family=\"sans-serif\" font-size=\"10px\" fill=\"#000\" opacity=\"1\">ig</text></g><g class=\"mark-rule role-axis-domain\" pointer-events=\"none\"><line transform=\"translate(0,0)\" x2=\"36\" y2=\"0\" stroke=\"#888\" stroke-width=\"3\" opacity=\"1\"></line></g><g class=\"mark-text role-axis-title\" pointer-events=\"none\"><text text-anchor=\"middle\" transform=\"translate(18,32)\" font-family=\"sans-serif\" font-size=\"11px\" font-weight=\"bold\" fill=\"#000\" opacity=\"1\"></text></g></g><path class=\"foreground\" aria-hidden=\"true\" d=\"\" pointer-events=\"none\" display=\"none\"></path></g></g></g><path class=\"foreground\" aria-hidden=\"true\" d=\"\" display=\"none\"></path></g><g transform=\"translate(552.5,351)\"><path class=\"background\" aria-hidden=\"true\" d=\"M0,0h36v0h-36Z\"></path><g><g class=\"mark-group role-axis\" role=\"graphics-symbol\" aria-roledescription=\"axis\" aria-label=\"X-axis titled ' ' for a discrete scale with 2 values: hy, ig\"><g transform=\"translate(0.5,0.5)\"><path class=\"background\" aria-hidden=\"true\" d=\"M0,0h0v0h0Z\" pointer-events=\"none\"></path><g><g class=\"mark-rule role-axis-tick\" pointer-events=\"none\"><line transform=\"translate(9,0)\" x2=\"0\" y2=\"5\" stroke=\"#888\" stroke-width=\"1\" opacity=\"1\"></line><line transform=\"translate(27,0)\" x2=\"0\" y2=\"5\" stroke=\"#888\" stroke-width=\"1\" opacity=\"1\"></line></g><g class=\"mark-text role-axis-label\" pointer-events=\"none\"><text text-anchor=\"end\" transform=\"translate(8.500000000000002,7) rotate(270) translate(0,3)\" font-family=\"sans-serif\" font-size=\"10px\" fill=\"#000\" opacity=\"1\">hy</text><text text-anchor=\"end\" transform=\"translate(26.5,7) rotate(270) translate(0,3)\" font-family=\"sans-serif\" font-size=\"10px\" fill=\"#000\" opacity=\"1\">ig</text></g><g class=\"mark-rule role-axis-domain\" pointer-events=\"none\"><line transform=\"translate(0,0)\" x2=\"36\" y2=\"0\" stroke=\"#888\" stroke-width=\"3\" opacity=\"1\"></line></g><g class=\"mark-text role-axis-title\" pointer-events=\"none\"><text text-anchor=\"middle\" transform=\"translate(18,32)\" font-family=\"sans-serif\" font-size=\"11px\" font-weight=\"bold\" fill=\"#000\" opacity=\"1\"></text></g></g><path class=\"foreground\" aria-hidden=\"true\" d=\"\" pointer-events=\"none\" display=\"none\"></path></g></g></g><path class=\"foreground\" aria-hidden=\"true\" d=\"\" display=\"none\"></path></g><g transform=\"translate(595,351)\"><path class=\"background\" aria-hidden=\"true\" d=\"M0,0h36v0h-36Z\"></path><g><g class=\"mark-group role-axis\" role=\"graphics-symbol\" aria-roledescription=\"axis\" aria-label=\"X-axis titled ' ' for a discrete scale with 2 values: hy, ig\"><g transform=\"translate(0.5,0.5)\"><path class=\"background\" aria-hidden=\"true\" d=\"M0,0h0v0h0Z\" pointer-events=\"none\"></path><g><g class=\"mark-rule role-axis-tick\" pointer-events=\"none\"><line transform=\"translate(9,0)\" x2=\"0\" y2=\"5\" stroke=\"#888\" stroke-width=\"1\" opacity=\"1\"></line><line transform=\"translate(27,0)\" x2=\"0\" y2=\"5\" stroke=\"#888\" stroke-width=\"1\" opacity=\"1\"></line></g><g class=\"mark-text role-axis-label\" pointer-events=\"none\"><text text-anchor=\"end\" transform=\"translate(8.500000000000002,7) rotate(270) translate(0,3)\" font-family=\"sans-serif\" font-size=\"10px\" fill=\"#000\" opacity=\"1\">hy</text><text text-anchor=\"end\" transform=\"translate(26.5,7) rotate(270) translate(0,3)\" font-family=\"sans-serif\" font-size=\"10px\" fill=\"#000\" opacity=\"1\">ig</text></g><g class=\"mark-rule role-axis-domain\" pointer-events=\"none\"><line transform=\"translate(0,0)\" x2=\"36\" y2=\"0\" stroke=\"#888\" stroke-width=\"3\" opacity=\"1\"></line></g><g class=\"mark-text role-axis-title\" pointer-events=\"none\"><text text-anchor=\"middle\" transform=\"translate(18,32)\" font-family=\"sans-serif\" font-size=\"11px\" font-weight=\"bold\" fill=\"#000\" opacity=\"1\"></text></g></g><path class=\"foreground\" aria-hidden=\"true\" d=\"\" pointer-events=\"none\" display=\"none\"></path></g></g></g><path class=\"foreground\" aria-hidden=\"true\" d=\"\" display=\"none\"></path></g></g><g class=\"mark-group role-scope cell\" role=\"graphics-object\" aria-roledescription=\"group mark container\"><g transform=\"translate(0,0)\"><path class=\"background\" aria-hidden=\"true\" d=\"M0.5,0.5h36v350h-36Z\"></path><g><g class=\"mark-rect role-mark child_marks\" role=\"graphics-object\" aria-roledescription=\"rect mark container\"><path aria-label=\"% Difference in the Number of Issuers: 0.114261339599;  : ig; Rating: ig\" role=\"graphics-symbol\" aria-roledescription=\"bar\" d=\"M18.900000000000002,314.16808852340176h16.2v6.665244809931551h-16.2Z\" fill=\"rgb(138, 93, 170)\"></path><path aria-label=\"% Difference in the Number of Issuers: 2.05228981545;  : hy; Rating: hy\" role=\"graphics-symbol\" aria-roledescription=\"bar\" d=\"M0.9000000000000021,201.11642743221685h16.2v119.71690590111646h-16.2Z\" fill=\"rgb(151, 169, 208)\"></path></g></g><path class=\"foreground\" aria-hidden=\"true\" d=\"\" display=\"none\"></path></g><g transform=\"translate(42.5,0)\"><path class=\"background\" aria-hidden=\"true\" d=\"M0.5,0.5h36v350h-36Z\"></path><g><g class=\"mark-rect role-mark child_marks\" role=\"graphics-object\" aria-roledescription=\"rect mark container\"><path aria-label=\"% Difference in the Number of Issuers: 1.27659425686;  : ig; Rating: ig\" role=\"graphics-symbol\" aria-roledescription=\"bar\" d=\"M18.900000000000002,246.36533501625252h16.2v74.4679983170808h-16.2Z\" fill=\"rgb(138, 93, 170)\"></path><path aria-label=\"% Difference in the Number of Issuers: 4.54654197477;  : hy; Rating: hy\" role=\"graphics-symbol\" aria-roledescription=\"bar\" d=\"M0.9000000000000021,55.61838480498835h16.2v265.21494852834496h-16.2Z\" fill=\"rgb(151, 169, 208)\"></path></g></g><path class=\"foreground\" aria-hidden=\"true\" d=\"\" display=\"none\"></path></g><g transform=\"translate(85,0)\"><path class=\"background\" aria-hidden=\"true\" d=\"M0.5,0.5h36v350h-36Z\"></path><g><g class=\"mark-rect role-mark child_marks\" role=\"graphics-object\" aria-roledescription=\"rect mark container\"><path aria-label=\"% Difference in the Number of Issuers: 0.0478303282042;  : ig; Rating: ig\" role=\"graphics-symbol\" aria-roledescription=\"bar\" d=\"M18.900000000000002,318.0432308547573h16.2v2.7901024785759887h-16.2Z\" fill=\"rgb(138, 93, 170)\"></path><path aria-label=\"% Difference in the Number of Issuers: 0.0540607717641;  : hy; Rating: hy\" role=\"graphics-symbol\" aria-roledescription=\"bar\" d=\"M0.9000000000000021,317.6797883137596h16.2v3.1535450195736985h-16.2Z\" fill=\"rgb(151, 169, 208)\"></path></g></g><path class=\"foreground\" aria-hidden=\"true\" d=\"\" display=\"none\"></path></g><g transform=\"translate(127.5,0)\"><path class=\"background\" aria-hidden=\"true\" d=\"M0.5,0.5h36v350h-36Z\"></path><g><g class=\"mark-rect role-mark child_marks\" role=\"graphics-object\" aria-roledescription=\"rect mark container\"><path aria-label=\"% Difference in the Number of Issuers: 0.0823744541294;  : ig; Rating: ig\" role=\"graphics-symbol\" aria-roledescription=\"bar\" d=\"M18.900000000000002,316.0281568424524h16.2v4.8051764908809105h-16.2Z\" fill=\"rgb(138, 93, 170)\"></path><path aria-label=\"% Difference in the Number of Issuers: -0.0234574038402;  : hy; Rating: hy\" role=\"graphics-symbol\" aria-roledescription=\"bar\" d=\"M0.9000000000000021,320.8333333333333h16.2v1.3683485573437792h-16.2Z\" fill=\"rgb(151, 169, 208)\"></path></g></g><path class=\"foreground\" aria-hidden=\"true\" d=\"\" display=\"none\"></path></g><g transform=\"translate(170,0)\"><path class=\"background\" aria-hidden=\"true\" d=\"M0.5,0.5h36v350h-36Z\"></path><g><g class=\"mark-rect role-mark child_marks\" role=\"graphics-object\" aria-roledescription=\"rect mark container\"><path aria-label=\"% Difference in the Number of Issuers: -0.0769900458374;  : ig; Rating: ig\" role=\"graphics-symbol\" aria-roledescription=\"bar\" d=\"M18.900000000000002,320.8333333333333h16.2v4.491086007181536h-16.2Z\" fill=\"rgb(138, 93, 170)\"></path><path aria-label=\"% Difference in the Number of Issuers: 0.0540607717641;  : hy; Rating: hy\" role=\"graphics-symbol\" aria-roledescription=\"bar\" d=\"M0.9000000000000021,317.6797883137596h16.2v3.1535450195736985h-16.2Z\" fill=\"rgb(151, 169, 208)\"></path></g></g><path class=\"foreground\" aria-hidden=\"true\" d=\"\" display=\"none\"></path></g><g transform=\"translate(212.5,0)\"><path class=\"background\" aria-hidden=\"true\" d=\"M0.5,0.5h36v350h-36Z\"></path><g><g class=\"mark-rect role-mark child_marks\" role=\"graphics-object\" aria-roledescription=\"rect mark container\"><path aria-label=\"% Difference in the Number of Issuers: 0.883252742027;  : ig; Rating: ig\" role=\"graphics-symbol\" aria-roledescription=\"bar\" d=\"M18.900000000000002,269.3102567150678h16.2v51.52307661826552h-16.2Z\" fill=\"rgb(138, 93, 170)\"></path><path aria-label=\"% Difference in the Number of Issuers: 5.09476169763;  : hy; Rating: hy\" role=\"graphics-symbol\" aria-roledescription=\"bar\" d=\"M0.9000000000000021,23.63890097143713h16.2v297.1944323618962h-16.2Z\" fill=\"rgb(151, 169, 208)\"></path></g></g><path class=\"foreground\" aria-hidden=\"true\" d=\"\" display=\"none\"></path></g><g transform=\"translate(255,0)\"><path class=\"background\" aria-hidden=\"true\" d=\"M0.5,0.5h36v350h-36Z\"></path><g><g class=\"mark-rect role-mark child_marks\" role=\"graphics-object\" aria-roledescription=\"rect mark container\"><path aria-label=\"% Difference in the Number of Issuers: 0.520259710291;  : ig; Rating: ig\" role=\"graphics-symbol\" aria-roledescription=\"bar\" d=\"M18.900000000000002,290.4848502330332h16.2v30.348483100300086h-16.2Z\" fill=\"rgb(138, 93, 170)\"></path><path aria-label=\"% Difference in the Number of Issuers: 0.00636922885725;  : hy; Rating: hy\" role=\"graphics-symbol\" aria-roledescription=\"bar\" d=\"M0.9000000000000021,320.46179498332697h16.2v0.3715383500063467h-16.2Z\" fill=\"rgb(151, 169, 208)\"></path></g></g><path class=\"foreground\" aria-hidden=\"true\" d=\"\" display=\"none\"></path></g><g transform=\"translate(297.5,0)\"><path class=\"background\" aria-hidden=\"true\" d=\"M0.5,0.5h36v350h-36Z\"></path><g><g class=\"mark-rect role-mark child_marks\" role=\"graphics-object\" aria-roledescription=\"rect mark container\"><path aria-label=\"% Difference in the Number of Issuers: 0.630395334445;  : ig; Rating: ig\" role=\"graphics-symbol\" aria-roledescription=\"bar\" d=\"M18.900000000000002,284.06027215736435h16.2v36.77306117596896h-16.2Z\" fill=\"rgb(138, 93, 170)\"></path><path aria-label=\"% Difference in the Number of Issuers: 2.91368918163;  : hy; Rating: hy\" role=\"graphics-symbol\" aria-roledescription=\"bar\" d=\"M0.9000000000000021,150.86813107148026h16.2v169.96520226185305h-16.2Z\" fill=\"rgb(151, 169, 208)\"></path></g></g><path class=\"foreground\" aria-hidden=\"true\" d=\"\" display=\"none\"></path></g><g transform=\"translate(340,0)\"><path class=\"background\" aria-hidden=\"true\" d=\"M0.5,0.5h36v350h-36Z\"></path><g><g class=\"mark-rect role-mark child_marks\" role=\"graphics-object\" aria-roledescription=\"rect mark container\"><path aria-label=\"% Difference in the Number of Issuers: 0.127547541878;  : ig; Rating: ig\" role=\"graphics-symbol\" aria-roledescription=\"bar\" d=\"M18.900000000000002,313.39306005713064h16.2v7.440273276202674h-16.2Z\" fill=\"rgb(138, 93, 170)\"></path><path aria-label=\"% Difference in the Number of Issuers: 1.56853911639;  : hy; Rating: hy\" role=\"graphics-symbol\" aria-roledescription=\"bar\" d=\"M0.9000000000000021,229.33521821081635h16.2v91.49811512251696h-16.2Z\" fill=\"rgb(151, 169, 208)\"></path></g></g><path class=\"foreground\" aria-hidden=\"true\" d=\"\" display=\"none\"></path></g><g transform=\"translate(382.5,0)\"><path class=\"background\" aria-hidden=\"true\" d=\"M0.5,0.5h36v350h-36Z\"></path><g><g class=\"mark-rect role-mark child_marks\" role=\"graphics-object\" aria-roledescription=\"rect mark container\"><path aria-label=\"% Difference in the Number of Issuers: 0.0690882518505;  : ig; Rating: ig\" role=\"graphics-symbol\" aria-roledescription=\"bar\" d=\"M18.900000000000002,316.8031853087235h16.2v4.030148024609787h-16.2Z\" fill=\"rgb(138, 93, 170)\"></path><path aria-label=\"% Difference in the Number of Issuers: 0.310849437644;  : hy; Rating: hy\" role=\"graphics-symbol\" aria-roledescription=\"bar\" d=\"M0.9000000000000021,302.7004494707844h16.2v18.13288386254891h-16.2Z\" fill=\"rgb(151, 169, 208)\"></path></g></g><path class=\"foreground\" aria-hidden=\"true\" d=\"\" display=\"none\"></path></g><g transform=\"translate(425,0)\"><path class=\"background\" aria-hidden=\"true\" d=\"M0.5,0.5h36v350h-36Z\"></path><g><g class=\"mark-rect role-mark child_marks\" role=\"graphics-object\" aria-roledescription=\"rect mark container\"><path aria-label=\"% Difference in the Number of Issuers: 0.38718790536;  : ig; Rating: ig\" role=\"graphics-symbol\" aria-roledescription=\"bar\" d=\"M18.900000000000002,298.24737218731707h16.2v22.585961146016245h-16.2Z\" fill=\"rgb(138, 93, 170)\"></path><path aria-label=\"% Difference in the Number of Issuers: 0.413067793451;  : hy; Rating: hy\" role=\"graphics-symbol\" aria-roledescription=\"bar\" d=\"M0.9000000000000021,296.737712048717h16.2v24.0956212846163h-16.2Z\" fill=\"rgb(151, 169, 208)\"></path></g></g><path class=\"foreground\" aria-hidden=\"true\" d=\"\" display=\"none\"></path></g><g transform=\"translate(467.5,0)\"><path class=\"background\" aria-hidden=\"true\" d=\"M0.5,0.5h36v350h-36Z\"></path><g><g class=\"mark-rect role-mark child_marks\" role=\"graphics-object\" aria-roledescription=\"rect mark container\"><path aria-label=\"% Difference in the Number of Issuers: 0.316980815423;  : ig; Rating: ig\" role=\"graphics-symbol\" aria-roledescription=\"bar\" d=\"M18.900000000000002,302.34278576698125h16.2v18.490547566352063h-16.2Z\" fill=\"rgb(138, 93, 170)\"></path><path aria-label=\"% Difference in the Number of Issuers: 1.10482818617;  : hy; Rating: hy\" role=\"graphics-symbol\" aria-roledescription=\"bar\" d=\"M0.9000000000000021,256.38502247353955h16.2v64.44831085979376h-16.2Z\" fill=\"rgb(151, 169, 208)\"></path></g></g><path class=\"foreground\" aria-hidden=\"true\" d=\"\" display=\"none\"></path></g><g transform=\"translate(510,0)\"><path class=\"background\" aria-hidden=\"true\" d=\"M0.5,0.5h36v350h-36Z\"></path><g><g class=\"mark-rect role-mark child_marks\" role=\"graphics-object\" aria-roledescription=\"rect mark container\"><path aria-label=\"% Difference in the Number of Issuers: 0.294394271549;  : ig; Rating: ig\" role=\"graphics-symbol\" aria-roledescription=\"bar\" d=\"M18.900000000000002,303.6603341596428h16.2v17.172999173690528h-16.2Z\" fill=\"rgb(138, 93, 170)\"></path><path aria-label=\"% Difference in the Number of Issuers: 1.74159572485;  : hy; Rating: hy\" role=\"graphics-symbol\" aria-roledescription=\"bar\" d=\"M0.9000000000000021,219.24024938378977h16.2v101.59308394954354h-16.2Z\" fill=\"rgb(151, 169, 208)\"></path></g></g><path class=\"foreground\" aria-hidden=\"true\" d=\"\" display=\"none\"></path></g><g transform=\"translate(552.5,0)\"><path class=\"background\" aria-hidden=\"true\" d=\"M0.5,0.5h36v350h-36Z\"></path><g><g class=\"mark-rect role-mark child_marks\" role=\"graphics-object\" aria-roledescription=\"rect mark container\"><path aria-label=\"% Difference in the Number of Issuers: -0.026432549797;  : ig; Rating: ig\" role=\"graphics-symbol\" aria-roledescription=\"bar\" d=\"M18.900000000000002,320.8333333333333h16.2v1.5418987381604552h-16.2Z\" fill=\"rgb(138, 93, 170)\"></path><path aria-label=\"% Difference in the Number of Issuers: 2.33968184925;  : hy; Rating: hy\" role=\"graphics-symbol\" aria-roledescription=\"bar\" d=\"M0.9000000000000021,184.35189212701172h16.2v136.4814412063216h-16.2Z\" fill=\"rgb(151, 169, 208)\"></path></g></g><path class=\"foreground\" aria-hidden=\"true\" d=\"\" display=\"none\"></path></g><g transform=\"translate(595,0)\"><path class=\"background\" aria-hidden=\"true\" d=\"M0.5,0.5h36v350h-36Z\"></path><g><g class=\"mark-rect role-mark child_marks\" role=\"graphics-object\" aria-roledescription=\"rect mark container\"><path aria-label=\"% Difference in the Number of Issuers: 0.267821866991;  : ig; Rating: ig\" role=\"graphics-symbol\" aria-roledescription=\"bar\" d=\"M18.900000000000002,305.21039109218424h16.2v15.622942241149076h-16.2Z\" fill=\"rgb(138, 93, 170)\"></path><path aria-label=\"% Difference in the Number of Issuers: 1.68753495309;  : hy; Rating: hy\" role=\"graphics-symbol\" aria-roledescription=\"bar\" d=\"M0.9000000000000021,222.39379440336307h16.2v98.43953892997024h-16.2Z\" fill=\"rgb(151, 169, 208)\"></path></g></g><path class=\"foreground\" aria-hidden=\"true\" d=\"\" display=\"none\"></path></g></g><g class=\"mark-group role-legend\" role=\"graphics-symbol\" aria-roledescription=\"legend\" aria-label=\"Symbol legend titled 'Rating' for fill color with 2 values: hy, ig\"><g transform=\"translate(650,0)\"><path class=\"background\" aria-hidden=\"true\" d=\"M0,0h40v40h-40Z\" pointer-events=\"none\"></path><g><g class=\"mark-group role-legend-entry\"><g transform=\"translate(0,16)\"><path class=\"background\" aria-hidden=\"true\" d=\"M0,0h0v0h0Z\" pointer-events=\"none\"></path><g><g class=\"mark-group role-scope\" role=\"graphics-object\" aria-roledescription=\"group mark container\"><g transform=\"translate(0,0)\"><path class=\"background\" aria-hidden=\"true\" d=\"M0,0h28v11h-28Z\" pointer-events=\"none\" opacity=\"1\"></path><g><g class=\"mark-symbol role-legend-symbol\" pointer-events=\"none\"><path transform=\"translate(6,6)\" d=\"M-5,-5h10v10h-10Z\" fill=\"rgb(151, 169, 208)\" stroke-width=\"1.5\" opacity=\"1\"></path></g><g class=\"mark-text role-legend-label\" pointer-events=\"none\"><text text-anchor=\"start\" transform=\"translate(16,9)\" font-family=\"sans-serif\" font-size=\"10px\" fill=\"#000\" opacity=\"1\">hy</text></g></g><path class=\"foreground\" aria-hidden=\"true\" d=\"\" pointer-events=\"none\" display=\"none\"></path></g><g transform=\"translate(0,13)\"><path class=\"background\" aria-hidden=\"true\" d=\"M0,0h28v11h-28Z\" pointer-events=\"none\" opacity=\"1\"></path><g><g class=\"mark-symbol role-legend-symbol\" pointer-events=\"none\"><path transform=\"translate(6,6)\" d=\"M-5,-5h10v10h-10Z\" fill=\"rgb(138, 93, 170)\" stroke-width=\"1.5\" opacity=\"1\"></path></g><g class=\"mark-text role-legend-label\" pointer-events=\"none\"><text text-anchor=\"start\" transform=\"translate(16,9)\" font-family=\"sans-serif\" font-size=\"10px\" fill=\"#000\" opacity=\"1\">ig</text></g></g><path class=\"foreground\" aria-hidden=\"true\" d=\"\" pointer-events=\"none\" display=\"none\"></path></g></g></g><path class=\"foreground\" aria-hidden=\"true\" d=\"\" pointer-events=\"none\" display=\"none\"></path></g></g><g class=\"mark-text role-legend-title\" pointer-events=\"none\"><text text-anchor=\"start\" transform=\"translate(0,9)\" font-family=\"sans-serif\" font-size=\"11px\" font-weight=\"bold\" fill=\"#000\" opacity=\"1\">Rating</text></g></g><path class=\"foreground\" aria-hidden=\"true\" d=\"\" pointer-events=\"none\" display=\"none\"></path></g></g><g class=\"mark-group role-title\"><g transform=\"translate(324,-102)\"><path class=\"background\" aria-hidden=\"true\" d=\"M0,0h0v0h0Z\" pointer-events=\"none\"></path><g><g class=\"mark-text role-title-text\" role=\"graphics-symbol\" aria-roledescription=\"title\" aria-label=\"Title text 'ATS v.s. OTC % Difference in Rating- Contingent Number of Issuers of Non-MTN-Bonds by Covenant Categories - 2019Q3'\" pointer-events=\"none\"><text text-anchor=\"middle\" transform=\"translate(0,11)\" font-family=\"sans-serif\" font-size=\"14px\" font-weight=\"bold\" fill=\"#000\" opacity=\"1\"><tspan>ATS v.s. OTC % Difference in Rating- Contingent Number of Issuers of</tspan><tspan x=\"0\" dy=\"16\">Non-MTN-Bonds by Covenant Categories - 2019Q3</tspan></text></g></g><path class=\"foreground\" aria-hidden=\"true\" d=\"\" pointer-events=\"none\" display=\"none\"></path></g></g></g><path class=\"foreground\" aria-hidden=\"true\" d=\"\" display=\"none\"></path></g></g></g></svg>\n"
      ],
      "text/plain": [
       "@vlplot(\n",
       "    config={\n",
       "        view={\n",
       "            stroke=\"transparent\"\n",
       "        },\n",
       "        axis={\n",
       "            domainWidth=3\n",
       "        },\n",
       "        opacity={\n",
       "            value=0.7\n",
       "        }\n",
       "    },\n",
       "    title={\n",
       "        text=[\n",
       "            \"ATS v.s. OTC % Difference in Rating- Contingent Number of Issuers of\",\n",
       "            \"Non-MTN-Bonds by Covenant Categories - 2019Q3\"\n",
       "        ],\n",
       "        align=\"center\",\n",
       "        anchor=\"middle\",\n",
       "        fontSize=14,\n",
       "        offset=20\n",
       "    },\n",
       "    spacing=4.5,\n",
       "    width={\n",
       "        step=18\n",
       "    },\n",
       "    height=350,\n",
       "    mark=\"bar\",\n",
       "    encoding={\n",
       "        column={\n",
       "            type=\"ordinal\",\n",
       "            title=\"Covenant Category\",\n",
       "            sort=\"ascending\",\n",
       "            field=\"cov_cat\"\n",
       "        },\n",
       "        y={\n",
       "            axis={\n",
       "                title=\"% Difference in the Number of Issuers\",\n",
       "                grid=false,\n",
       "                stack=nothing\n",
       "            },\n",
       "            field=\"perc_diff\"\n",
       "        },\n",
       "        x={\n",
       "            type=\"nominal\",\n",
       "            axis={\n",
       "                title=\" \"\n",
       "            },\n",
       "            field=\"rt\"\n",
       "        },\n",
       "        color={\n",
       "            legend={\n",
       "                title=\"Rating\"\n",
       "            },\n",
       "            scale={\n",
       "                scheme=\"bluepurple\"\n",
       "            },\n",
       "            field=\"rt\",\n",
       "            type=\"nominal\"\n",
       "        }\n",
       "    },\n",
       "    data={\n",
       "        values=...\n",
       "    }\n",
       ")"
      ]
     },
     "execution_count": 21,
     "metadata": {},
     "output_type": "execute_result"
    }
   ],
   "source": [
    "# Common Parameters {{{1\n",
    "color_scale=\"viridis\"\n",
    "cal_formula=\"\"\n",
    "cal_var=\"\"\n",
    "col_var=\"cov_cat\"\n",
    "col_var_type=\"ordinal\"\n",
    "col_title=\"Covenant Category\"\n",
    "col_sort=\"ascending\"\n",
    "x_var=\"sbm:n\"\n",
    "x_var_type=\"nominal\"\n",
    "x_axis_title=\" \"\n",
    "width_step=18\n",
    "legend_title=\"Secondary Market\"\n",
    "spacing=4.5\n",
    "height=350\n",
    "save_plt=true\n",
    "plt_type = \"cov_cat\"\n",
    "file_ext=\"png\"\n",
    "# }}}1\n",
    "\n",
    "stats_var=:issuers\n",
    "tt = PlotMod.prepare_cat_plot(scc; stat=stats_var)\n",
    "rt_tt = PlotMod.get_ats_otc_diffs_by_rt(scc, stats_var)\n",
    "tt = deepcopy(rt_tt[rt_tt[:, :sbm] .== :otc, :])\n",
    "\n",
    "color_scale=\"bluepurple\"\n",
    "\n",
    "cal_formula = \"\"\n",
    "cal_legend=\"Secondary Bond Market\"\n",
    "cal_var=:sbm\n",
    "x_var=\"rt:n\"\n",
    "x_var_type=\"nominal\"\n",
    "legend_title=\"Rating\"\n",
    "#height=250\n",
    "\n",
    "y_var=\"perc_diff\"\n",
    "y_axis_title=\"% Difference in the Number of Issuers\"\n",
    "title=[\"ATS v.s. OTC % Difference in Rating- Contingent Number of Issuers of\" ,\n",
    "       \"Non-MTN-Bonds by Covenant Categories\"]\n",
    "if :period in Symbol.(names(tt))\n",
    "    title[end] = string(title[end], \" - \", tt[1, :period])\n",
    "end\n",
    "\n",
    "include(string(scripts_path, \"/\", \"single_vega_plt_script.jl\"))"
   ]
  },
  {
   "cell_type": "code",
   "execution_count": 15,
   "metadata": {},
   "outputs": [
    {
     "data": {
      "text/plain": [
       "3.786658762104608"
      ]
     },
     "execution_count": 15,
     "metadata": {},
     "output_type": "execute_result"
    }
   ],
   "source": [
    "maximum(rt_tt[:, :perc_diff])"
   ]
  },
  {
   "cell_type": "code",
   "execution_count": 16,
   "metadata": {},
   "outputs": [
    {
     "data": {
      "text/plain": [
       "-0.0122906300213097"
      ]
     },
     "execution_count": 16,
     "metadata": {},
     "output_type": "execute_result"
    }
   ],
   "source": [
    "minimum(rt_tt[:, :perc_diff])"
   ]
  },
  {
   "cell_type": "code",
   "execution_count": null,
   "metadata": {},
   "outputs": [],
   "source": []
  },
  {
   "cell_type": "code",
   "execution_count": 37,
   "metadata": {},
   "outputs": [
    {
     "name": "stdout",
     "output_type": "stream",
     "text": [
      " \n",
      "Filename: 2019Q3_stats_by_cov_cat.csv\n",
      " \n",
      "Reading dataframe in folder: /home/artur/BondPricing/bond-data/data/Stats/2019...\n"
     ]
    },
    {
     "name": "stderr",
     "output_type": "stream",
     "text": [
      "WARNING: replacing module DataMod.\n",
      "WARNING: replacing module StatsMod.\n",
      "WARNING: replacing module PlotMod.\n"
     ]
    },
    {
     "data": {
      "text/plain": [
       "12-element Array{Any,1}:\n",
       " VegaLite.VLSpec\n",
       " VegaLite.VLSpec\n",
       " VegaLite.VLSpec\n",
       " VegaLite.VLSpec\n",
       " VegaLite.VLSpec\n",
       " VegaLite.VLSpec\n",
       " VegaLite.VLSpec\n",
       " VegaLite.VLSpec\n",
       " VegaLite.VLSpec\n",
       " VegaLite.VLSpec\n",
       " VegaLite.VLSpec\n",
       " VegaLite.VLSpec"
      ]
     },
     "execution_count": 37,
     "metadata": {},
     "output_type": "execute_result"
    }
   ],
   "source": [
    "include(string(joinpath(scripts_path, \"plot_cov_cat\"), \".jl\"))\n",
    "pl"
   ]
  },
  {
   "cell_type": "code",
   "execution_count": 34,
   "metadata": {},
   "outputs": [
    {
     "name": "stdout",
     "output_type": "stream",
     "text": [
      " \n",
      "Filename: 2019Q3_stats_by_num_cov.csv\n",
      " \n",
      "Reading dataframe in folder: /home/artur/BondPricing/bond-data/data/Stats/2019...\n"
     ]
    },
    {
     "name": "stderr",
     "output_type": "stream",
     "text": [
      "WARNING: replacing module DataMod.\n",
      "WARNING: replacing module StatsMod.\n",
      "WARNING: replacing module PlotMod.\n",
      "WARNING: replacing module PlotMod.\n",
      "WARNING: replacing module PlotMod.\n"
     ]
    },
    {
     "data": {
      "text/plain": [
       "24-element Array{Any,1}:\n",
       " VegaLite.VLSpec\n",
       " VegaLite.VLSpec\n",
       " VegaLite.VLSpec\n",
       " VegaLite.VLSpec\n",
       " VegaLite.VLSpec\n",
       " VegaLite.VLSpec\n",
       " VegaLite.VLSpec\n",
       " VegaLite.VLSpec\n",
       " VegaLite.VLSpec\n",
       " VegaLite.VLSpec\n",
       " VegaLite.VLSpec\n",
       " VegaLite.VLSpec\n",
       " VegaLite.VLSpec\n",
       " VegaLite.VLSpec\n",
       " VegaLite.VLSpec\n",
       " VegaLite.VLSpec\n",
       " VegaLite.VLSpec\n",
       " VegaLite.VLSpec\n",
       " VegaLite.VLSpec\n",
       " VegaLite.VLSpec\n",
       " VegaLite.VLSpec\n",
       " VegaLite.VLSpec\n",
       " VegaLite.VLSpec\n",
       " VegaLite.VLSpec"
      ]
     },
     "execution_count": 34,
     "metadata": {},
     "output_type": "execute_result"
    }
   ],
   "source": [
    "scripts_path = string(main_path, \"/data-scripts/plots\")\n",
    "include(string(joinpath(scripts_path, \"plot_num_covs\"), \".jl\"))\n",
    "pl"
   ]
  },
  {
   "cell_type": "code",
   "execution_count": null,
   "metadata": {},
   "outputs": [],
   "source": []
  },
  {
   "cell_type": "code",
   "execution_count": null,
   "metadata": {},
   "outputs": [],
   "source": []
  }
 ],
 "metadata": {
  "@webio": {
   "lastCommId": null,
   "lastKernelId": null
  },
  "kernelspec": {
   "display_name": "Julia 1.5.2",
   "language": "julia",
   "name": "julia-1.5"
  },
  "language_info": {
   "file_extension": ".jl",
   "mimetype": "application/julia",
   "name": "julia",
   "version": "1.5.2"
  }
 },
 "nbformat": 4,
 "nbformat_minor": 4
}
