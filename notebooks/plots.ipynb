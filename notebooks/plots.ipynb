{
 "cells": [
  {
   "cell_type": "code",
   "execution_count": 3,
   "metadata": {},
   "outputs": [
    {
     "data": {
      "text/plain": [
       "1000"
      ]
     },
     "execution_count": 3,
     "metadata": {},
     "output_type": "execute_result"
    }
   ],
   "source": [
    "using DataFrames\n",
    "using Printf\n",
    "using CSV\n",
    "using Dates\n",
    "using DayCounts\n",
    "# using Revise\n",
    "using FileIO\n",
    "using VegaLite, VegaDatasets\n",
    "\n",
    "main_path = \"/home/artur/BondPricing/bond-data\"\n",
    "module_path = string(main_path, \"/module\")\n",
    "script_path = string(main_path, \"/data-scripts/plots\")\n",
    "include(string(joinpath(module_path, \"data_module\"), \".jl\"))\n",
    "include(string(joinpath(module_path, \"stats_module\"), \".jl\"))\n",
    "include(string(joinpath(module_path, \"plot_module\"), \".jl\"))\n",
    "ENV[\"LINES\"] = 100\n",
    "ENV[\"COLUMNS\"] = 1000"
   ]
  },
  {
   "cell_type": "code",
   "execution_count": 12,
   "metadata": {},
   "outputs": [
    {
     "name": "stdout",
     "output_type": "stream",
     "text": [
      " \n",
      "Filename: 2019Q3_stats_by_num_cov.csv\n",
      " \n",
      "Reading dataframe in folder: /home/artur/BondPricing/bond-data/data/Stats/2019...\n",
      " "
     ]
    },
    {
     "name": "stderr",
     "output_type": "stream",
     "text": [
      "WARNING: replacing module StatsMod.\n"
     ]
    },
    {
     "name": "stdout",
     "output_type": "stream",
     "text": [
      "\n",
      "Filename: 2019Q3_stats_by_cov_cat.csv\n",
      " \n",
      "Reading dataframe in folder: /home/artur/BondPricing/bond-data/data/Stats/2019...\n"
     ]
    },
    {
     "data": {
      "text/html": [
       "<table class=\"data-frame\"><thead><tr><th></th><th>trd_exctn_yr</th><th>trd_exctn_qtr</th><th>otc</th><th>hy</th><th>ig</th><th>ats</th><th>cov</th><th>ncov</th><th>total_trd_count</th><th>total_bonds</th><th>total_issuers</th><th>qt25_trd_vol</th><th>mean_trd_vol</th><th>median_trd_vol</th><th>qt75_trd_vol</th><th>total_trd_vol_tr</th><th>cg1_mean_trd_vol</th><th>cg2_mean_trd_vol</th><th>cg3_mean_trd_vol</th><th>cg4_mean_trd_vol</th><th>cg5_mean_trd_vol</th><th>cg6_mean_trd_vol</th><th>cg7_mean_trd_vol</th><th>cg8_mean_trd_vol</th><th>cg9_mean_trd_vol</th><th>cg10_mean_trd_vol</th><th>cg11_mean_trd_vol</th><th>cg12_mean_trd_vol</th><th>cg13_mean_trd_vol</th><th>cg14_mean_trd_vol</th><th>cg15_mean_trd_vol</th><th>cg1_median_trd_vol</th><th>cg2_median_trd_vol</th><th>cg3_median_trd_vol</th><th>cg4_median_trd_vol</th><th>cg5_median_trd_vol</th><th>cg6_median_trd_vol</th><th>cg7_median_trd_vol</th><th>cg8_median_trd_vol</th><th>cg9_median_trd_vol</th><th>cg10_median_trd_vol</th><th>cg11_median_trd_vol</th><th>cg12_median_trd_vol</th><th>cg13_median_trd_vol</th><th>cg14_median_trd_vol</th><th>cg15_median_trd_vol</th><th>cg1_trd_vol_tr</th><th>cg2_trd_vol_tr</th><th>cg3_trd_vol_tr</th><th>cg4_trd_vol_tr</th><th>cg5_trd_vol_tr</th><th>cg6_trd_vol_tr</th><th>cg7_trd_vol_tr</th><th>cg8_trd_vol_tr</th><th>cg9_trd_vol_tr</th><th>cg10_trd_vol_tr</th><th>cg11_trd_vol_tr</th><th>cg12_trd_vol_tr</th><th>cg13_trd_vol_tr</th><th>cg14_trd_vol_tr</th></tr><tr><th></th><th>Int64</th><th>Int64</th><th>Int64</th><th>Int64</th><th>Int64</th><th>Int64</th><th>Int64</th><th>Int64</th><th>Int64</th><th>Int64</th><th>Int64</th><th>Float64</th><th>Float64</th><th>Float64</th><th>Float64</th><th>Float64</th><th>Float64</th><th>Float64</th><th>Float64</th><th>Float64</th><th>Float64</th><th>Float64</th><th>Float64</th><th>Float64</th><th>Float64</th><th>Float64</th><th>Float64</th><th>Float64</th><th>Float64</th><th>Float64</th><th>Float64</th><th>Float64</th><th>Float64</th><th>Float64</th><th>Float64</th><th>Float64</th><th>Float64</th><th>Float64</th><th>Float64</th><th>Float64</th><th>Float64</th><th>Float64</th><th>Float64</th><th>Float64</th><th>Float64</th><th>Float64</th><th>Float64</th><th>Float64</th><th>Float64</th><th>Float64</th><th>Float64</th><th>Float64</th><th>Float64</th><th>Float64</th><th>Float64</th><th>Float64</th><th>Float64</th><th>Float64</th><th>Float64</th><th>Float64</th></tr></thead><tbody><p>5 rows × 109 columns (omitted printing of 49 columns)</p><tr><th>1</th><td>2019</td><td>3</td><td>0</td><td>0</td><td>0</td><td>0</td><td>0</td><td>0</td><td>2648236</td><td>8571</td><td>1975</td><td>10000.0</td><td>4.06564e5</td><td>25000.0</td><td>135000.0</td><td>1076.68</td><td>28318.1</td><td>3.06298e5</td><td>2314.22</td><td>6359.46</td><td>239.917</td><td>2.46883e5</td><td>3.94606e5</td><td>1.56104e5</td><td>18366.2</td><td>5869.48</td><td>3.37148e5</td><td>1.74325e5</td><td>312482.0</td><td>32538.8</td><td>3.10277e5</td><td>0.0</td><td>15000.0</td><td>0.0</td><td>0.0</td><td>0.0</td><td>8000.0</td><td>25000.0</td><td>0.0</td><td>0.0</td><td>0.0</td><td>20000.0</td><td>0.0</td><td>15000.0</td><td>0.0</td><td>15000.0</td><td>74.993</td><td>811.15</td><td>6.1286</td><td>16.8413</td><td>0.635358</td><td>653.805</td><td>1045.01</td><td>413.401</td><td>48.6381</td><td>15.5438</td><td>892.847</td><td>461.653</td><td>827.526</td><td>86.1704</td></tr><tr><th>2</th><td>2019</td><td>3</td><td>0</td><td>0</td><td>0</td><td>0</td><td>0</td><td>1</td><td>88751</td><td>440</td><td>215</td><td>10000.0</td><td>3.5684e5</td><td>25000.0</td><td>102000.0</td><td>31.6699</td><td>0.0</td><td>0.0</td><td>0.0</td><td>0.0</td><td>0.0</td><td>0.0</td><td>0.0</td><td>0.0</td><td>0.0</td><td>0.0</td><td>0.0</td><td>0.0</td><td>0.0</td><td>0.0</td><td>0.0</td><td>0.0</td><td>0.0</td><td>0.0</td><td>0.0</td><td>0.0</td><td>0.0</td><td>0.0</td><td>0.0</td><td>0.0</td><td>0.0</td><td>0.0</td><td>0.0</td><td>0.0</td><td>0.0</td><td>0.0</td><td>0.0</td><td>0.0</td><td>0.0</td><td>0.0</td><td>0.0</td><td>0.0</td><td>0.0</td><td>0.0</td><td>0.0</td><td>0.0</td><td>0.0</td><td>0.0</td><td>0.0</td><td>0.0</td></tr><tr><th>3</th><td>2019</td><td>3</td><td>0</td><td>0</td><td>0</td><td>0</td><td>1</td><td>0</td><td>2559485</td><td>8131</td><td>1902</td><td>10000.0</td><td>4.08289e5</td><td>25000.0</td><td>136000.0</td><td>1045.01</td><td>29300.0</td><td>3.16919e5</td><td>2394.47</td><td>6579.98</td><td>248.237</td><td>2.55444e5</td><td>4.08289e5</td><td>1.61517e5</td><td>19003.1</td><td>6073.0</td><td>3.48838e5</td><td>1.80369e5</td><td>3.23317e5</td><td>33667.1</td><td>3.21036e5</td><td>0.0</td><td>18000.0</td><td>0.0</td><td>0.0</td><td>0.0</td><td>10000.0</td><td>25000.0</td><td>0.0</td><td>0.0</td><td>0.0</td><td>20000.0</td><td>0.0</td><td>15000.0</td><td>0.0</td><td>15000.0</td><td>74.993</td><td>811.15</td><td>6.1286</td><td>16.8413</td><td>0.635358</td><td>653.805</td><td>1045.01</td><td>413.401</td><td>48.6381</td><td>15.5438</td><td>892.847</td><td>461.653</td><td>827.526</td><td>86.1704</td></tr><tr><th>4</th><td>2019</td><td>3</td><td>0</td><td>1</td><td>0</td><td>0</td><td>0</td><td>0</td><td>774595</td><td>1900</td><td>847</td><td>10000.0</td><td>395235.0</td><td>25000.0</td><td>139000.0</td><td>306.147</td><td>85833.8</td><td>2.8823e5</td><td>903.568</td><td>2178.61</td><td>559.425</td><td>2.83204e5</td><td>3.92277e5</td><td>1.45538e5</td><td>56990.2</td><td>10470.9</td><td>3.47885e5</td><td>2.67901e5</td><td>332384.0</td><td>1.03096e5</td><td>3.31219e5</td><td>0.0</td><td>15000.0</td><td>0.0</td><td>0.0</td><td>0.0</td><td>13000.0</td><td>25000.0</td><td>0.0</td><td>0.0</td><td>0.0</td><td>20000.0</td><td>10000.0</td><td>20000.0</td><td>0.0</td><td>20000.0</td><td>66.4865</td><td>223.262</td><td>0.6999</td><td>1.68754</td><td>0.433328</td><td>219.368</td><td>303.856</td><td>112.733</td><td>44.1443</td><td>8.11067</td><td>269.47</td><td>207.515</td><td>257.463</td><td>79.8575</td></tr><tr><th>5</th><td>2019</td><td>3</td><td>0</td><td>1</td><td>0</td><td>0</td><td>0</td><td>1</td><td>5341</td><td>54</td><td>29</td><td>10000.0</td><td>4.28935e5</td><td>50000.0</td><td>200000.0</td><td>2.29094</td><td>0.0</td><td>0.0</td><td>0.0</td><td>0.0</td><td>0.0</td><td>0.0</td><td>0.0</td><td>0.0</td><td>0.0</td><td>0.0</td><td>0.0</td><td>0.0</td><td>0.0</td><td>0.0</td><td>0.0</td><td>0.0</td><td>0.0</td><td>0.0</td><td>0.0</td><td>0.0</td><td>0.0</td><td>0.0</td><td>0.0</td><td>0.0</td><td>0.0</td><td>0.0</td><td>0.0</td><td>0.0</td><td>0.0</td><td>0.0</td><td>0.0</td><td>0.0</td><td>0.0</td><td>0.0</td><td>0.0</td><td>0.0</td><td>0.0</td><td>0.0</td><td>0.0</td><td>0.0</td><td>0.0</td><td>0.0</td><td>0.0</td><td>0.0</td></tr></tbody></table>"
      ],
      "text/latex": [
       "\\begin{tabular}{r|ccccccccccccccccccccccccccccccccccccccccccccccccccccccccccccc}\n",
       "\t& trd\\_exctn\\_yr & trd\\_exctn\\_qtr & otc & hy & ig & ats & cov & ncov & total\\_trd\\_count & total\\_bonds & total\\_issuers & qt25\\_trd\\_vol & mean\\_trd\\_vol & median\\_trd\\_vol & qt75\\_trd\\_vol & total\\_trd\\_vol\\_tr & cg1\\_mean\\_trd\\_vol & cg2\\_mean\\_trd\\_vol & cg3\\_mean\\_trd\\_vol & cg4\\_mean\\_trd\\_vol & cg5\\_mean\\_trd\\_vol & cg6\\_mean\\_trd\\_vol & cg7\\_mean\\_trd\\_vol & cg8\\_mean\\_trd\\_vol & cg9\\_mean\\_trd\\_vol & cg10\\_mean\\_trd\\_vol & cg11\\_mean\\_trd\\_vol & cg12\\_mean\\_trd\\_vol & cg13\\_mean\\_trd\\_vol & cg14\\_mean\\_trd\\_vol & cg15\\_mean\\_trd\\_vol & cg1\\_median\\_trd\\_vol & cg2\\_median\\_trd\\_vol & cg3\\_median\\_trd\\_vol & cg4\\_median\\_trd\\_vol & cg5\\_median\\_trd\\_vol & cg6\\_median\\_trd\\_vol & cg7\\_median\\_trd\\_vol & cg8\\_median\\_trd\\_vol & cg9\\_median\\_trd\\_vol & cg10\\_median\\_trd\\_vol & cg11\\_median\\_trd\\_vol & cg12\\_median\\_trd\\_vol & cg13\\_median\\_trd\\_vol & cg14\\_median\\_trd\\_vol & cg15\\_median\\_trd\\_vol & cg1\\_trd\\_vol\\_tr & cg2\\_trd\\_vol\\_tr & cg3\\_trd\\_vol\\_tr & cg4\\_trd\\_vol\\_tr & cg5\\_trd\\_vol\\_tr & cg6\\_trd\\_vol\\_tr & cg7\\_trd\\_vol\\_tr & cg8\\_trd\\_vol\\_tr & cg9\\_trd\\_vol\\_tr & cg10\\_trd\\_vol\\_tr & cg11\\_trd\\_vol\\_tr & cg12\\_trd\\_vol\\_tr & cg13\\_trd\\_vol\\_tr & cg14\\_trd\\_vol\\_tr & \\\\\n",
       "\t\\hline\n",
       "\t& Int64 & Int64 & Int64 & Int64 & Int64 & Int64 & Int64 & Int64 & Int64 & Int64 & Int64 & Float64 & Float64 & Float64 & Float64 & Float64 & Float64 & Float64 & Float64 & Float64 & Float64 & Float64 & Float64 & Float64 & Float64 & Float64 & Float64 & Float64 & Float64 & Float64 & Float64 & Float64 & Float64 & Float64 & Float64 & Float64 & Float64 & Float64 & Float64 & Float64 & Float64 & Float64 & Float64 & Float64 & Float64 & Float64 & Float64 & Float64 & Float64 & Float64 & Float64 & Float64 & Float64 & Float64 & Float64 & Float64 & Float64 & Float64 & Float64 & Float64 & \\\\\n",
       "\t\\hline\n",
       "\t1 & 2019 & 3 & 0 & 0 & 0 & 0 & 0 & 0 & 2648236 & 8571 & 1975 & 10000.0 & 4.06564e5 & 25000.0 & 135000.0 & 1076.68 & 28318.1 & 3.06298e5 & 2314.22 & 6359.46 & 239.917 & 2.46883e5 & 3.94606e5 & 1.56104e5 & 18366.2 & 5869.48 & 3.37148e5 & 1.74325e5 & 312482.0 & 32538.8 & 3.10277e5 & 0.0 & 15000.0 & 0.0 & 0.0 & 0.0 & 8000.0 & 25000.0 & 0.0 & 0.0 & 0.0 & 20000.0 & 0.0 & 15000.0 & 0.0 & 15000.0 & 74.993 & 811.15 & 6.1286 & 16.8413 & 0.635358 & 653.805 & 1045.01 & 413.401 & 48.6381 & 15.5438 & 892.847 & 461.653 & 827.526 & 86.1704 & $\\dots$ \\\\\n",
       "\t2 & 2019 & 3 & 0 & 0 & 0 & 0 & 0 & 1 & 88751 & 440 & 215 & 10000.0 & 3.5684e5 & 25000.0 & 102000.0 & 31.6699 & 0.0 & 0.0 & 0.0 & 0.0 & 0.0 & 0.0 & 0.0 & 0.0 & 0.0 & 0.0 & 0.0 & 0.0 & 0.0 & 0.0 & 0.0 & 0.0 & 0.0 & 0.0 & 0.0 & 0.0 & 0.0 & 0.0 & 0.0 & 0.0 & 0.0 & 0.0 & 0.0 & 0.0 & 0.0 & 0.0 & 0.0 & 0.0 & 0.0 & 0.0 & 0.0 & 0.0 & 0.0 & 0.0 & 0.0 & 0.0 & 0.0 & 0.0 & 0.0 & 0.0 & $\\dots$ \\\\\n",
       "\t3 & 2019 & 3 & 0 & 0 & 0 & 0 & 1 & 0 & 2559485 & 8131 & 1902 & 10000.0 & 4.08289e5 & 25000.0 & 136000.0 & 1045.01 & 29300.0 & 3.16919e5 & 2394.47 & 6579.98 & 248.237 & 2.55444e5 & 4.08289e5 & 1.61517e5 & 19003.1 & 6073.0 & 3.48838e5 & 1.80369e5 & 3.23317e5 & 33667.1 & 3.21036e5 & 0.0 & 18000.0 & 0.0 & 0.0 & 0.0 & 10000.0 & 25000.0 & 0.0 & 0.0 & 0.0 & 20000.0 & 0.0 & 15000.0 & 0.0 & 15000.0 & 74.993 & 811.15 & 6.1286 & 16.8413 & 0.635358 & 653.805 & 1045.01 & 413.401 & 48.6381 & 15.5438 & 892.847 & 461.653 & 827.526 & 86.1704 & $\\dots$ \\\\\n",
       "\t4 & 2019 & 3 & 0 & 1 & 0 & 0 & 0 & 0 & 774595 & 1900 & 847 & 10000.0 & 395235.0 & 25000.0 & 139000.0 & 306.147 & 85833.8 & 2.8823e5 & 903.568 & 2178.61 & 559.425 & 2.83204e5 & 3.92277e5 & 1.45538e5 & 56990.2 & 10470.9 & 3.47885e5 & 2.67901e5 & 332384.0 & 1.03096e5 & 3.31219e5 & 0.0 & 15000.0 & 0.0 & 0.0 & 0.0 & 13000.0 & 25000.0 & 0.0 & 0.0 & 0.0 & 20000.0 & 10000.0 & 20000.0 & 0.0 & 20000.0 & 66.4865 & 223.262 & 0.6999 & 1.68754 & 0.433328 & 219.368 & 303.856 & 112.733 & 44.1443 & 8.11067 & 269.47 & 207.515 & 257.463 & 79.8575 & $\\dots$ \\\\\n",
       "\t5 & 2019 & 3 & 0 & 1 & 0 & 0 & 0 & 1 & 5341 & 54 & 29 & 10000.0 & 4.28935e5 & 50000.0 & 200000.0 & 2.29094 & 0.0 & 0.0 & 0.0 & 0.0 & 0.0 & 0.0 & 0.0 & 0.0 & 0.0 & 0.0 & 0.0 & 0.0 & 0.0 & 0.0 & 0.0 & 0.0 & 0.0 & 0.0 & 0.0 & 0.0 & 0.0 & 0.0 & 0.0 & 0.0 & 0.0 & 0.0 & 0.0 & 0.0 & 0.0 & 0.0 & 0.0 & 0.0 & 0.0 & 0.0 & 0.0 & 0.0 & 0.0 & 0.0 & 0.0 & 0.0 & 0.0 & 0.0 & 0.0 & 0.0 & $\\dots$ \\\\\n",
       "\\end{tabular}\n"
      ],
      "text/plain": [
       "5×109 DataFrame. Omitted printing of 53 columns\n",
       "│ Row │ trd_exctn_yr │ trd_exctn_qtr │ otc   │ hy    │ ig    │ ats   │ cov   │ ncov  │ total_trd_count │ total_bonds │ total_issuers │ qt25_trd_vol │ mean_trd_vol │ median_trd_vol │ qt75_trd_vol │ total_trd_vol_tr │ cg1_mean_trd_vol │ cg2_mean_trd_vol │ cg3_mean_trd_vol │ cg4_mean_trd_vol │ cg5_mean_trd_vol │ cg6_mean_trd_vol │ cg7_mean_trd_vol │ cg8_mean_trd_vol │ cg9_mean_trd_vol │ cg10_mean_trd_vol │ cg11_mean_trd_vol │ cg12_mean_trd_vol │ cg13_mean_trd_vol │ cg14_mean_trd_vol │ cg15_mean_trd_vol │ cg1_median_trd_vol │ cg2_median_trd_vol │ cg3_median_trd_vol │ cg4_median_trd_vol │ cg5_median_trd_vol │ cg6_median_trd_vol │ cg7_median_trd_vol │ cg8_median_trd_vol │ cg9_median_trd_vol │ cg10_median_trd_vol │ cg11_median_trd_vol │ cg12_median_trd_vol │ cg13_median_trd_vol │ cg14_median_trd_vol │ cg15_median_trd_vol │ cg1_trd_vol_tr │ cg2_trd_vol_tr │ cg3_trd_vol_tr │ cg4_trd_vol_tr │ cg5_trd_vol_tr │ cg6_trd_vol_tr │ cg7_trd_vol_tr │ cg8_trd_vol_tr │ cg9_trd_vol_tr │ cg10_trd_vol_tr │\n",
       "│     │ \u001b[90mInt64\u001b[39m        │ \u001b[90mInt64\u001b[39m         │ \u001b[90mInt64\u001b[39m │ \u001b[90mInt64\u001b[39m │ \u001b[90mInt64\u001b[39m │ \u001b[90mInt64\u001b[39m │ \u001b[90mInt64\u001b[39m │ \u001b[90mInt64\u001b[39m │ \u001b[90mInt64\u001b[39m           │ \u001b[90mInt64\u001b[39m       │ \u001b[90mInt64\u001b[39m         │ \u001b[90mFloat64\u001b[39m      │ \u001b[90mFloat64\u001b[39m      │ \u001b[90mFloat64\u001b[39m        │ \u001b[90mFloat64\u001b[39m      │ \u001b[90mFloat64\u001b[39m          │ \u001b[90mFloat64\u001b[39m          │ \u001b[90mFloat64\u001b[39m          │ \u001b[90mFloat64\u001b[39m          │ \u001b[90mFloat64\u001b[39m          │ \u001b[90mFloat64\u001b[39m          │ \u001b[90mFloat64\u001b[39m          │ \u001b[90mFloat64\u001b[39m          │ \u001b[90mFloat64\u001b[39m          │ \u001b[90mFloat64\u001b[39m          │ \u001b[90mFloat64\u001b[39m           │ \u001b[90mFloat64\u001b[39m           │ \u001b[90mFloat64\u001b[39m           │ \u001b[90mFloat64\u001b[39m           │ \u001b[90mFloat64\u001b[39m           │ \u001b[90mFloat64\u001b[39m           │ \u001b[90mFloat64\u001b[39m            │ \u001b[90mFloat64\u001b[39m            │ \u001b[90mFloat64\u001b[39m            │ \u001b[90mFloat64\u001b[39m            │ \u001b[90mFloat64\u001b[39m            │ \u001b[90mFloat64\u001b[39m            │ \u001b[90mFloat64\u001b[39m            │ \u001b[90mFloat64\u001b[39m            │ \u001b[90mFloat64\u001b[39m            │ \u001b[90mFloat64\u001b[39m             │ \u001b[90mFloat64\u001b[39m             │ \u001b[90mFloat64\u001b[39m             │ \u001b[90mFloat64\u001b[39m             │ \u001b[90mFloat64\u001b[39m             │ \u001b[90mFloat64\u001b[39m             │ \u001b[90mFloat64\u001b[39m        │ \u001b[90mFloat64\u001b[39m        │ \u001b[90mFloat64\u001b[39m        │ \u001b[90mFloat64\u001b[39m        │ \u001b[90mFloat64\u001b[39m        │ \u001b[90mFloat64\u001b[39m        │ \u001b[90mFloat64\u001b[39m        │ \u001b[90mFloat64\u001b[39m        │ \u001b[90mFloat64\u001b[39m        │ \u001b[90mFloat64\u001b[39m         │\n",
       "├─────┼──────────────┼───────────────┼───────┼───────┼───────┼───────┼───────┼───────┼─────────────────┼─────────────┼───────────────┼──────────────┼──────────────┼────────────────┼──────────────┼──────────────────┼──────────────────┼──────────────────┼──────────────────┼──────────────────┼──────────────────┼──────────────────┼──────────────────┼──────────────────┼──────────────────┼───────────────────┼───────────────────┼───────────────────┼───────────────────┼───────────────────┼───────────────────┼────────────────────┼────────────────────┼────────────────────┼────────────────────┼────────────────────┼────────────────────┼────────────────────┼────────────────────┼────────────────────┼─────────────────────┼─────────────────────┼─────────────────────┼─────────────────────┼─────────────────────┼─────────────────────┼────────────────┼────────────────┼────────────────┼────────────────┼────────────────┼────────────────┼────────────────┼────────────────┼────────────────┼─────────────────┤\n",
       "│ 1   │ 2019         │ 3             │ 0     │ 0     │ 0     │ 0     │ 0     │ 0     │ 2648236         │ 8571        │ 1975          │ 10000.0      │ 4.06564e5    │ 25000.0        │ 135000.0     │ 1076.68          │ 28318.1          │ 3.06298e5        │ 2314.22          │ 6359.46          │ 239.917          │ 2.46883e5        │ 3.94606e5        │ 1.56104e5        │ 18366.2          │ 5869.48           │ 3.37148e5         │ 1.74325e5         │ 312482.0          │ 32538.8           │ 3.10277e5         │ 0.0                │ 15000.0            │ 0.0                │ 0.0                │ 0.0                │ 8000.0             │ 25000.0            │ 0.0                │ 0.0                │ 0.0                 │ 20000.0             │ 0.0                 │ 15000.0             │ 0.0                 │ 15000.0             │ 74.993         │ 811.15         │ 6.1286         │ 16.8413        │ 0.635358       │ 653.805        │ 1045.01        │ 413.401        │ 48.6381        │ 15.5438         │\n",
       "│ 2   │ 2019         │ 3             │ 0     │ 0     │ 0     │ 0     │ 0     │ 1     │ 88751           │ 440         │ 215           │ 10000.0      │ 3.5684e5     │ 25000.0        │ 102000.0     │ 31.6699          │ 0.0              │ 0.0              │ 0.0              │ 0.0              │ 0.0              │ 0.0              │ 0.0              │ 0.0              │ 0.0              │ 0.0               │ 0.0               │ 0.0               │ 0.0               │ 0.0               │ 0.0               │ 0.0                │ 0.0                │ 0.0                │ 0.0                │ 0.0                │ 0.0                │ 0.0                │ 0.0                │ 0.0                │ 0.0                 │ 0.0                 │ 0.0                 │ 0.0                 │ 0.0                 │ 0.0                 │ 0.0            │ 0.0            │ 0.0            │ 0.0            │ 0.0            │ 0.0            │ 0.0            │ 0.0            │ 0.0            │ 0.0             │\n",
       "│ 3   │ 2019         │ 3             │ 0     │ 0     │ 0     │ 0     │ 1     │ 0     │ 2559485         │ 8131        │ 1902          │ 10000.0      │ 4.08289e5    │ 25000.0        │ 136000.0     │ 1045.01          │ 29300.0          │ 3.16919e5        │ 2394.47          │ 6579.98          │ 248.237          │ 2.55444e5        │ 4.08289e5        │ 1.61517e5        │ 19003.1          │ 6073.0            │ 3.48838e5         │ 1.80369e5         │ 3.23317e5         │ 33667.1           │ 3.21036e5         │ 0.0                │ 18000.0            │ 0.0                │ 0.0                │ 0.0                │ 10000.0            │ 25000.0            │ 0.0                │ 0.0                │ 0.0                 │ 20000.0             │ 0.0                 │ 15000.0             │ 0.0                 │ 15000.0             │ 74.993         │ 811.15         │ 6.1286         │ 16.8413        │ 0.635358       │ 653.805        │ 1045.01        │ 413.401        │ 48.6381        │ 15.5438         │\n",
       "│ 4   │ 2019         │ 3             │ 0     │ 1     │ 0     │ 0     │ 0     │ 0     │ 774595          │ 1900        │ 847           │ 10000.0      │ 395235.0     │ 25000.0        │ 139000.0     │ 306.147          │ 85833.8          │ 2.8823e5         │ 903.568          │ 2178.61          │ 559.425          │ 2.83204e5        │ 3.92277e5        │ 1.45538e5        │ 56990.2          │ 10470.9           │ 3.47885e5         │ 2.67901e5         │ 332384.0          │ 1.03096e5         │ 3.31219e5         │ 0.0                │ 15000.0            │ 0.0                │ 0.0                │ 0.0                │ 13000.0            │ 25000.0            │ 0.0                │ 0.0                │ 0.0                 │ 20000.0             │ 10000.0             │ 20000.0             │ 0.0                 │ 20000.0             │ 66.4865        │ 223.262        │ 0.6999         │ 1.68754        │ 0.433328       │ 219.368        │ 303.856        │ 112.733        │ 44.1443        │ 8.11067         │\n",
       "│ 5   │ 2019         │ 3             │ 0     │ 1     │ 0     │ 0     │ 0     │ 1     │ 5341            │ 54          │ 29            │ 10000.0      │ 4.28935e5    │ 50000.0        │ 200000.0     │ 2.29094          │ 0.0              │ 0.0              │ 0.0              │ 0.0              │ 0.0              │ 0.0              │ 0.0              │ 0.0              │ 0.0              │ 0.0               │ 0.0               │ 0.0               │ 0.0               │ 0.0               │ 0.0               │ 0.0                │ 0.0                │ 0.0                │ 0.0                │ 0.0                │ 0.0                │ 0.0                │ 0.0                │ 0.0                │ 0.0                 │ 0.0                 │ 0.0                 │ 0.0                 │ 0.0                 │ 0.0                 │ 0.0            │ 0.0            │ 0.0            │ 0.0            │ 0.0            │ 0.0            │ 0.0            │ 0.0            │ 0.0            │ 0.0             │"
      ]
     },
     "execution_count": 12,
     "metadata": {},
     "output_type": "execute_result"
    }
   ],
   "source": [
    "dto = DataMod.data_obj_constructor()\n",
    "\n",
    "yr = 2019\n",
    "qtr = 3\n",
    "\n",
    "include(string(joinpath(module_path, \"stats_module\"), \".jl\"))\n",
    "snc = StatsMod.load_stats_data(dto, yr, qtr; stats_by_num_cov=true)\n",
    "scc = StatsMod.load_stats_data(dto, yr, qtr; stats_by_num_cov=false)\n",
    "\n",
    "first(scc, 5)"
   ]
  },
  {
   "cell_type": "code",
   "execution_count": 35,
   "metadata": {},
   "outputs": [
    {
     "data": {
      "text/html": [
       "<p>DataFrameRow (9 columns)</p><table class=\"data-frame\"><thead><tr><th></th><th>period</th><th>sbm</th><th>rt</th><th>cvt</th><th>variable</th><th>value</th><th>cov_cat</th><th>perc_total</th><th>perc_sbm_total</th></tr><tr><th></th><th>Symbol</th><th>Symbol</th><th>Symbol</th><th>Symbol</th><th>Cat…</th><th>Int64</th><th>Int64</th><th>Float64</th><th>Float64</th></tr></thead><tbody><tr><th>1</th><td>2019Q3</td><td>otc</td><td>any</td><td>any</td><td>cg1_issuers</td><td>262</td><td>1</td><td>13.2658</td><td>13.2658</td></tr></tbody></table>"
      ],
      "text/latex": [
       "\\begin{tabular}{r|ccccccccc}\n",
       "\t& period & sbm & rt & cvt & variable & value & cov\\_cat & perc\\_total & perc\\_sbm\\_total\\\\\n",
       "\t\\hline\n",
       "\t& Symbol & Symbol & Symbol & Symbol & Cat… & Int64 & Int64 & Float64 & Float64\\\\\n",
       "\t\\hline\n",
       "\t1 & 2019Q3 & otc & any & any & cg1\\_issuers & 262 & 1 & 13.2658 & 13.2658 \\\\\n",
       "\\end{tabular}\n"
      ],
      "text/plain": [
       "DataFrameRow\n",
       "│ Row │ period │ sbm    │ rt     │ cvt    │ variable    │ value │ cov_cat │ perc_total │ perc_sbm_total │\n",
       "│     │ \u001b[90mSymbol\u001b[39m │ \u001b[90mSymbol\u001b[39m │ \u001b[90mSymbol\u001b[39m │ \u001b[90mSymbol\u001b[39m │ \u001b[90mCat…\u001b[39m        │ \u001b[90mInt64\u001b[39m │ \u001b[90mInt64\u001b[39m   │ \u001b[90mFloat64\u001b[39m    │ \u001b[90mFloat64\u001b[39m        │\n",
       "├─────┼────────┼────────┼────────┼────────┼─────────────┼───────┼─────────┼────────────┼────────────────┤\n",
       "│ 1   │ 2019Q3 │ otc    │ any    │ any    │ cg1_issuers │ 262   │ 1       │ 13.2658    │ 13.2658        │"
      ]
     },
     "execution_count": 35,
     "metadata": {},
     "output_type": "execute_result"
    }
   ],
   "source": [
    "tt = PlotMod.prepare_cat_plot(scc; stat=stats_var)\n",
    "first(tt)"
   ]
  },
  {
   "cell_type": "code",
   "execution_count": 151,
   "metadata": {},
   "outputs": [
    {
     "name": "stderr",
     "output_type": "stream",
     "text": [
      "WARNING: replacing module PlotMod.\n"
     ]
    },
    {
     "data": {
      "text/html": [
       "<table class=\"data-frame\"><thead><tr><th></th><th>period</th><th>sbm</th><th>rt</th><th>cvt</th><th>variable</th><th>value</th><th>cov_cat</th><th>perc_total</th><th>perc_sbm_total</th></tr><tr><th></th><th>Symbol</th><th>Symbol</th><th>Symbol</th><th>Symbol</th><th>Cat…</th><th>Int64</th><th>Int64</th><th>Float64</th><th>Float64</th></tr></thead><tbody><p>5 rows × 9 columns</p><tr><th>1</th><td>2019Q3</td><td>otc</td><td>any</td><td>any</td><td>cg1_bonds</td><td>483</td><td>1</td><td>5.63528</td><td>5.63857</td></tr><tr><th>2</th><td>2019Q3</td><td>ats</td><td>any</td><td>any</td><td>cg1_bonds</td><td>471</td><td>1</td><td>5.49527</td><td>5.8444</td></tr><tr><th>3</th><td>2019Q3</td><td>otc</td><td>any</td><td>any</td><td>cg2_bonds</td><td>6609</td><td>2</td><td>77.1089</td><td>77.1539</td></tr><tr><th>4</th><td>2019Q3</td><td>ats</td><td>any</td><td>any</td><td>cg2_bonds</td><td>6351</td><td>2</td><td>74.0987</td><td>78.8063</td></tr><tr><th>5</th><td>2019Q3</td><td>otc</td><td>any</td><td>any</td><td>cg3_bonds</td><td>75</td><td>3</td><td>0.875044</td><td>0.875555</td></tr></tbody></table>"
      ],
      "text/latex": [
       "\\begin{tabular}{r|ccccccccc}\n",
       "\t& period & sbm & rt & cvt & variable & value & cov\\_cat & perc\\_total & perc\\_sbm\\_total\\\\\n",
       "\t\\hline\n",
       "\t& Symbol & Symbol & Symbol & Symbol & Cat… & Int64 & Int64 & Float64 & Float64\\\\\n",
       "\t\\hline\n",
       "\t1 & 2019Q3 & otc & any & any & cg1\\_bonds & 483 & 1 & 5.63528 & 5.63857 \\\\\n",
       "\t2 & 2019Q3 & ats & any & any & cg1\\_bonds & 471 & 1 & 5.49527 & 5.8444 \\\\\n",
       "\t3 & 2019Q3 & otc & any & any & cg2\\_bonds & 6609 & 2 & 77.1089 & 77.1539 \\\\\n",
       "\t4 & 2019Q3 & ats & any & any & cg2\\_bonds & 6351 & 2 & 74.0987 & 78.8063 \\\\\n",
       "\t5 & 2019Q3 & otc & any & any & cg3\\_bonds & 75 & 3 & 0.875044 & 0.875555 \\\\\n",
       "\\end{tabular}\n"
      ],
      "text/plain": [
       "5×9 DataFrame\n",
       "│ Row │ period │ sbm    │ rt     │ cvt    │ variable  │ value │ cov_cat │ perc_total │ perc_sbm_total │\n",
       "│     │ \u001b[90mSymbol\u001b[39m │ \u001b[90mSymbol\u001b[39m │ \u001b[90mSymbol\u001b[39m │ \u001b[90mSymbol\u001b[39m │ \u001b[90mCat…\u001b[39m      │ \u001b[90mInt64\u001b[39m │ \u001b[90mInt64\u001b[39m   │ \u001b[90mFloat64\u001b[39m    │ \u001b[90mFloat64\u001b[39m        │\n",
       "├─────┼────────┼────────┼────────┼────────┼───────────┼───────┼─────────┼────────────┼────────────────┤\n",
       "│ 1   │ 2019Q3 │ otc    │ any    │ any    │ cg1_bonds │ 483   │ 1       │ 5.63528    │ 5.63857        │\n",
       "│ 2   │ 2019Q3 │ ats    │ any    │ any    │ cg1_bonds │ 471   │ 1       │ 5.49527    │ 5.8444         │\n",
       "│ 3   │ 2019Q3 │ otc    │ any    │ any    │ cg2_bonds │ 6609  │ 2       │ 77.1089    │ 77.1539        │\n",
       "│ 4   │ 2019Q3 │ ats    │ any    │ any    │ cg2_bonds │ 6351  │ 2       │ 74.0987    │ 78.8063        │\n",
       "│ 5   │ 2019Q3 │ otc    │ any    │ any    │ cg3_bonds │ 75    │ 3       │ 0.875044   │ 0.875555       │"
      ]
     },
     "execution_count": 151,
     "metadata": {},
     "output_type": "execute_result"
    }
   ],
   "source": [
    "color_scale=\"viridis\"\n",
    "cal_formula=\"\"\n",
    "cal_var=\"\"\n",
    "col_var=\"cov_cat\"\n",
    "col_var_type=\"ordinal\"\n",
    "col_title=\"Covenant Category\"\n",
    "col_sort=\"ascending\"\n",
    "x_var=\"sbm:n\"\n",
    "x_var_type=\"nominal\"\n",
    "x_axis_title=\" \"\n",
    "width_step=18\n",
    "legend_title=\"Secondary Market\"\n",
    "spacing=4.5\n",
    "height=350\n",
    "save_plt=true\n",
    "plt_type = \"cov_cat\"\n",
    "file_ext=\"png\"\n",
    "# }}}1\n",
    "pl = [ ]\n",
    "\n",
    "# Issuers per Covenant Category {{{1\n",
    "include(string(joinpath(module_path, \"plot_module\"), \".jl\"))\n",
    "stats_var=:bonds\n",
    "tt = PlotMod.prepare_cat_plot(scc; stat=stats_var)\n",
    "ig_tt = PlotMod.prepare_cat_plot(scc; stat=stats_var, rt=:ig)\n",
    "hy_tt = PlotMod.prepare_cat_plot(scc; stat=stats_var, rt=:hy)\n",
    "rt_tt = vcat(ig_tt, hy_tt)\n",
    "\n",
    "first(tt, 5)"
   ]
  },
  {
   "cell_type": "code",
   "execution_count": 89,
   "metadata": {},
   "outputs": [
    {
     "name": "stderr",
     "output_type": "stream",
     "text": [
      "WARNING: replacing module PlotMod.\n"
     ]
    },
    {
     "data": {
      "text/html": [
       "<table class=\"data-frame\"><thead><tr><th></th><th>period</th><th>sbm</th><th>rt</th><th>cvt</th><th>variable</th><th>value</th><th>cov_cat</th><th>perc_total</th><th>perc_sbm_rt_total</th><th>value_diff</th><th>perc_diff</th></tr><tr><th></th><th>Symbol</th><th>Symbol</th><th>Symbol</th><th>Symbol</th><th>Cat…?</th><th>Int64</th><th>Int64</th><th>Float64</th><th>Float64</th><th>Int64</th><th>Float64</th></tr></thead><tbody><p>10 rows × 11 columns</p><tr><th>1</th><td>2019Q3</td><td>otc</td><td>ig</td><td>any</td><td>cg1_issuers</td><td>43</td><td>1</td><td>3.53909</td><td>3.53909</td><td>0</td><td>0.114261</td></tr><tr><th>2</th><td>2019Q3</td><td>ats</td><td>ig</td><td>any</td><td>cg1_issuers</td><td>43</td><td>1</td><td>3.53909</td><td>3.65336</td><td>0</td><td>0.114261</td></tr><tr><th>3</th><td>2019Q3</td><td>otc</td><td>ig</td><td>any</td><td>cg2_issuers</td><td>992</td><td>2</td><td>81.6461</td><td>81.6461</td><td>-16</td><td>1.27659</td></tr><tr><th>4</th><td>2019Q3</td><td>ats</td><td>ig</td><td>any</td><td>cg2_issuers</td><td>976</td><td>2</td><td>80.3292</td><td>82.9227</td><td>-16</td><td>1.27659</td></tr><tr><th>5</th><td>2019Q3</td><td>otc</td><td>ig</td><td>any</td><td>cg3_issuers</td><td>18</td><td>3</td><td>1.48148</td><td>1.48148</td><td>0</td><td>0.0478303</td></tr><tr><th>6</th><td>2019Q3</td><td>ats</td><td>ig</td><td>any</td><td>cg3_issuers</td><td>18</td><td>3</td><td>1.48148</td><td>1.52931</td><td>0</td><td>0.0478303</td></tr><tr><th>7</th><td>2019Q3</td><td>otc</td><td>ig</td><td>any</td><td>cg4_issuers</td><td>31</td><td>4</td><td>2.55144</td><td>2.55144</td><td>0</td><td>0.0823745</td></tr><tr><th>8</th><td>2019Q3</td><td>ats</td><td>ig</td><td>any</td><td>cg4_issuers</td><td>31</td><td>4</td><td>2.55144</td><td>2.63381</td><td>0</td><td>0.0823745</td></tr><tr><th>9</th><td>2019Q3</td><td>otc</td><td>ig</td><td>any</td><td>cg5_issuers</td><td>3</td><td>5</td><td>0.246914</td><td>0.246914</td><td>-1</td><td>-0.07699</td></tr><tr><th>10</th><td>2019Q3</td><td>ats</td><td>ig</td><td>any</td><td>cg5_issuers</td><td>2</td><td>5</td><td>0.164609</td><td>0.169924</td><td>-1</td><td>-0.07699</td></tr></tbody></table>"
      ],
      "text/latex": [
       "\\begin{tabular}{r|ccccccccccc}\n",
       "\t& period & sbm & rt & cvt & variable & value & cov\\_cat & perc\\_total & perc\\_sbm\\_rt\\_total & value\\_diff & perc\\_diff\\\\\n",
       "\t\\hline\n",
       "\t& Symbol & Symbol & Symbol & Symbol & Cat…? & Int64 & Int64 & Float64 & Float64 & Int64 & Float64\\\\\n",
       "\t\\hline\n",
       "\t1 & 2019Q3 & otc & ig & any & cg1\\_issuers & 43 & 1 & 3.53909 & 3.53909 & 0 & 0.114261 \\\\\n",
       "\t2 & 2019Q3 & ats & ig & any & cg1\\_issuers & 43 & 1 & 3.53909 & 3.65336 & 0 & 0.114261 \\\\\n",
       "\t3 & 2019Q3 & otc & ig & any & cg2\\_issuers & 992 & 2 & 81.6461 & 81.6461 & -16 & 1.27659 \\\\\n",
       "\t4 & 2019Q3 & ats & ig & any & cg2\\_issuers & 976 & 2 & 80.3292 & 82.9227 & -16 & 1.27659 \\\\\n",
       "\t5 & 2019Q3 & otc & ig & any & cg3\\_issuers & 18 & 3 & 1.48148 & 1.48148 & 0 & 0.0478303 \\\\\n",
       "\t6 & 2019Q3 & ats & ig & any & cg3\\_issuers & 18 & 3 & 1.48148 & 1.52931 & 0 & 0.0478303 \\\\\n",
       "\t7 & 2019Q3 & otc & ig & any & cg4\\_issuers & 31 & 4 & 2.55144 & 2.55144 & 0 & 0.0823745 \\\\\n",
       "\t8 & 2019Q3 & ats & ig & any & cg4\\_issuers & 31 & 4 & 2.55144 & 2.63381 & 0 & 0.0823745 \\\\\n",
       "\t9 & 2019Q3 & otc & ig & any & cg5\\_issuers & 3 & 5 & 0.246914 & 0.246914 & -1 & -0.07699 \\\\\n",
       "\t10 & 2019Q3 & ats & ig & any & cg5\\_issuers & 2 & 5 & 0.164609 & 0.169924 & -1 & -0.07699 \\\\\n",
       "\\end{tabular}\n"
      ],
      "text/plain": [
       "10×11 DataFrame\n",
       "│ Row │ period │ sbm    │ rt     │ cvt    │ variable    │ value │ cov_cat │ perc_total │ perc_sbm_rt_total │ value_diff │ perc_diff │\n",
       "│     │ \u001b[90mSymbol\u001b[39m │ \u001b[90mSymbol\u001b[39m │ \u001b[90mSymbol\u001b[39m │ \u001b[90mSymbol\u001b[39m │ \u001b[90mCat…?\u001b[39m       │ \u001b[90mInt64\u001b[39m │ \u001b[90mInt64\u001b[39m   │ \u001b[90mFloat64\u001b[39m    │ \u001b[90mFloat64\u001b[39m           │ \u001b[90mInt64\u001b[39m      │ \u001b[90mFloat64\u001b[39m   │\n",
       "├─────┼────────┼────────┼────────┼────────┼─────────────┼───────┼─────────┼────────────┼───────────────────┼────────────┼───────────┤\n",
       "│ 1   │ 2019Q3 │ otc    │ ig     │ any    │ cg1_issuers │ 43    │ 1       │ 3.53909    │ 3.53909           │ 0          │ 0.114261  │\n",
       "│ 2   │ 2019Q3 │ ats    │ ig     │ any    │ cg1_issuers │ 43    │ 1       │ 3.53909    │ 3.65336           │ 0          │ 0.114261  │\n",
       "│ 3   │ 2019Q3 │ otc    │ ig     │ any    │ cg2_issuers │ 992   │ 2       │ 81.6461    │ 81.6461           │ -16        │ 1.27659   │\n",
       "│ 4   │ 2019Q3 │ ats    │ ig     │ any    │ cg2_issuers │ 976   │ 2       │ 80.3292    │ 82.9227           │ -16        │ 1.27659   │\n",
       "│ 5   │ 2019Q3 │ otc    │ ig     │ any    │ cg3_issuers │ 18    │ 3       │ 1.48148    │ 1.48148           │ 0          │ 0.0478303 │\n",
       "│ 6   │ 2019Q3 │ ats    │ ig     │ any    │ cg3_issuers │ 18    │ 3       │ 1.48148    │ 1.52931           │ 0          │ 0.0478303 │\n",
       "│ 7   │ 2019Q3 │ otc    │ ig     │ any    │ cg4_issuers │ 31    │ 4       │ 2.55144    │ 2.55144           │ 0          │ 0.0823745 │\n",
       "│ 8   │ 2019Q3 │ ats    │ ig     │ any    │ cg4_issuers │ 31    │ 4       │ 2.55144    │ 2.63381           │ 0          │ 0.0823745 │\n",
       "│ 9   │ 2019Q3 │ otc    │ ig     │ any    │ cg5_issuers │ 3     │ 5       │ 0.246914   │ 0.246914          │ -1         │ -0.07699  │\n",
       "│ 10  │ 2019Q3 │ ats    │ ig     │ any    │ cg5_issuers │ 2     │ 5       │ 0.164609   │ 0.169924          │ -1         │ -0.07699  │"
      ]
     },
     "execution_count": 89,
     "metadata": {},
     "output_type": "execute_result"
    }
   ],
   "source": [
    "include(string(joinpath(module_path, \"plot_module\"), \".jl\"))\n",
    "stats_var = :issuers\n",
    "rt_tt = PlotMod.get_ats_otc_diffs_by_rt(scc, stats_var)\n",
    "first(rt_tt, 10)"
   ]
  },
  {
   "cell_type": "code",
   "execution_count": 41,
   "metadata": {},
   "outputs": [
    {
     "data": {
      "application/vnd.vegalite.v4+json": {
       "config": {
        "axis": {
         "domainWidth": 3
        },
        "opacity": {
         "value": 0.7
        },
        "view": {
         "stroke": "transparent"
        }
       },
       "data": {
        "values": [
         {
          "cov_cat": 1,
          "cvt": "any",
          "perc_sbm_total": 13.265822784810128,
          "perc_total": 13.265822784810128,
          "period": "2019Q3",
          "rt": "any",
          "sbm": "otc",
          "value": 262,
          "variable": "cg1_issuers"
         },
         {
          "cov_cat": 1,
          "cvt": "any",
          "perc_sbm_total": 13.717052178590642,
          "perc_total": 12.91139240506329,
          "period": "2019Q3",
          "rt": "any",
          "sbm": "ats",
          "value": 255,
          "variable": "cg1_issuers"
         },
         {
          "cov_cat": 2,
          "cvt": "any",
          "perc_sbm_total": 78.17721518987342,
          "perc_total": 78.17721518987342,
          "period": "2019Q3",
          "rt": "any",
          "sbm": "otc",
          "value": 1544,
          "variable": "cg2_issuers"
         },
         {
          "cov_cat": 2,
          "cvt": "any",
          "perc_sbm_total": 80.9575040344271,
          "perc_total": 76.20253164556962,
          "period": "2019Q3",
          "rt": "any",
          "sbm": "ats",
          "value": 1505,
          "variable": "cg2_issuers"
         },
         {
          "cov_cat": 3,
          "cvt": "any",
          "perc_sbm_total": 1.1139240506329113,
          "perc_total": 1.1139240506329113,
          "period": "2019Q3",
          "rt": "any",
          "sbm": "otc",
          "value": 22,
          "variable": "cg3_issuers"
         },
         {
          "cov_cat": 3,
          "cvt": "any",
          "perc_sbm_total": 1.183431952662722,
          "perc_total": 1.1139240506329113,
          "period": "2019Q3",
          "rt": "any",
          "sbm": "ats",
          "value": 22,
          "variable": "cg3_issuers"
         },
         {
          "cov_cat": 4,
          "cvt": "any",
          "perc_sbm_total": 1.9746835443037976,
          "perc_total": 1.9746835443037976,
          "period": "2019Q3",
          "rt": "any",
          "sbm": "otc",
          "value": 39,
          "variable": "cg4_issuers"
         },
         {
          "cov_cat": 4,
          "cvt": "any",
          "perc_sbm_total": 2.0441097364174285,
          "perc_total": 1.9240506329113924,
          "period": "2019Q3",
          "rt": "any",
          "sbm": "ats",
          "value": 38,
          "variable": "cg4_issuers"
         },
         {
          "cov_cat": 5,
          "cvt": "any",
          "perc_sbm_total": 0.35443037974683544,
          "perc_total": 0.35443037974683544,
          "period": "2019Q3",
          "rt": "any",
          "sbm": "otc",
          "value": 7,
          "variable": "cg5_issuers"
         },
         {
          "cov_cat": 5,
          "cvt": "any",
          "perc_sbm_total": 0.32275416890801506,
          "perc_total": 0.3037974683544304,
          "period": "2019Q3",
          "rt": "any",
          "sbm": "ats",
          "value": 6,
          "variable": "cg5_issuers"
         },
         {
          "cov_cat": 6,
          "cvt": "any",
          "perc_sbm_total": 65.41772151898734,
          "perc_total": 65.41772151898734,
          "period": "2019Q3",
          "rt": "any",
          "sbm": "otc",
          "value": 1292,
          "variable": "cg6_issuers"
         },
         {
          "cov_cat": 6,
          "cvt": "any",
          "perc_sbm_total": 68.15492200107585,
          "perc_total": 64.15189873417721,
          "period": "2019Q3",
          "rt": "any",
          "sbm": "ats",
          "value": 1267,
          "variable": "cg6_issuers"
         },
         {
          "cov_cat": 7,
          "cvt": "any",
          "perc_sbm_total": 96.30379746835443,
          "perc_total": 96.30379746835443,
          "period": "2019Q3",
          "rt": "any",
          "sbm": "otc",
          "value": 1902,
          "variable": "cg7_issuers"
         },
         {
          "cov_cat": 7,
          "cvt": "any",
          "perc_sbm_total": 96.61108122646584,
          "perc_total": 90.9367088607595,
          "period": "2019Q3",
          "rt": "any",
          "sbm": "ats",
          "value": 1796,
          "variable": "cg7_issuers"
         },
         {
          "cov_cat": 8,
          "cvt": "any",
          "perc_sbm_total": 39.139240506329116,
          "perc_total": 39.139240506329116,
          "period": "2019Q3",
          "rt": "any",
          "sbm": "otc",
          "value": 773,
          "variable": "cg8_issuers"
         },
         {
          "cov_cat": 8,
          "cvt": "any",
          "perc_sbm_total": 40.93598708983324,
          "perc_total": 38.53164556962025,
          "period": "2019Q3",
          "rt": "any",
          "sbm": "ats",
          "value": 761,
          "variable": "cg8_issuers"
         },
         {
          "cov_cat": 9,
          "cvt": "any",
          "perc_sbm_total": 10.227848101265822,
          "perc_total": 10.227848101265822,
          "period": "2019Q3",
          "rt": "any",
          "sbm": "otc",
          "value": 202,
          "variable": "cg9_issuers"
         },
         {
          "cov_cat": 9,
          "cvt": "any",
          "perc_sbm_total": 10.650887573964498,
          "perc_total": 10.025316455696203,
          "period": "2019Q3",
          "rt": "any",
          "sbm": "ats",
          "value": 198,
          "variable": "cg9_issuers"
         },
         {
          "cov_cat": 10,
          "cvt": "any",
          "perc_sbm_total": 2.481012658227848,
          "perc_total": 2.481012658227848,
          "period": "2019Q3",
          "rt": "any",
          "sbm": "otc",
          "value": 49,
          "variable": "cg10_issuers"
         },
         {
          "cov_cat": 10,
          "cvt": "any",
          "perc_sbm_total": 2.63582571274879,
          "perc_total": 2.481012658227848,
          "period": "2019Q3",
          "rt": "any",
          "sbm": "ats",
          "value": 49,
          "variable": "cg10_issuers"
         },
         {
          "cov_cat": 11,
          "cvt": "any",
          "perc_sbm_total": 85.9240506329114,
          "perc_total": 85.9240506329114,
          "period": "2019Q3",
          "rt": "any",
          "sbm": "otc",
          "value": 1697,
          "variable": "cg11_issuers"
         },
         {
          "cov_cat": 11,
          "cvt": "any",
          "perc_sbm_total": 86.3905325443787,
          "perc_total": 81.31645569620252,
          "period": "2019Q3",
          "rt": "any",
          "sbm": "ats",
          "value": 1606,
          "variable": "cg11_issuers"
         },
         {
          "cov_cat": 12,
          "cvt": "any",
          "perc_sbm_total": 51.49367088607595,
          "perc_total": 51.49367088607595,
          "period": "2019Q3",
          "rt": "any",
          "sbm": "otc",
          "value": 1017,
          "variable": "cg12_issuers"
         },
         {
          "cov_cat": 12,
          "cvt": "any",
          "perc_sbm_total": 51.586874663797744,
          "perc_total": 48.55696202531646,
          "period": "2019Q3",
          "rt": "any",
          "sbm": "ats",
          "value": 959,
          "variable": "cg12_issuers"
         },
         {
          "cov_cat": 13,
          "cvt": "any",
          "perc_sbm_total": 87.24050632911393,
          "perc_total": 87.24050632911393,
          "period": "2019Q3",
          "rt": "any",
          "sbm": "otc",
          "value": 1723,
          "variable": "cg13_issuers"
         },
         {
          "cov_cat": 13,
          "cvt": "any",
          "perc_sbm_total": 88.16568047337277,
          "perc_total": 82.98734177215191,
          "period": "2019Q3",
          "rt": "any",
          "sbm": "ats",
          "value": 1639,
          "variable": "cg13_issuers"
         },
         {
          "cov_cat": 14,
          "cvt": "any",
          "perc_sbm_total": 15.39240506329114,
          "perc_total": 15.39240506329114,
          "period": "2019Q3",
          "rt": "any",
          "sbm": "otc",
          "value": 304,
          "variable": "cg14_issuers"
         },
         {
          "cov_cat": 14,
          "cvt": "any",
          "perc_sbm_total": 15.814954276492738,
          "perc_total": 14.88607594936709,
          "period": "2019Q3",
          "rt": "any",
          "sbm": "ats",
          "value": 294,
          "variable": "cg14_issuers"
         },
         {
          "cov_cat": 15,
          "cvt": "any",
          "perc_sbm_total": 86.68354430379746,
          "perc_total": 86.68354430379746,
          "period": "2019Q3",
          "rt": "any",
          "sbm": "otc",
          "value": 1712,
          "variable": "cg15_issuers"
         },
         {
          "cov_cat": 15,
          "cvt": "any",
          "perc_sbm_total": 87.57396449704143,
          "perc_total": 82.43037974683544,
          "period": "2019Q3",
          "rt": "any",
          "sbm": "ats",
          "value": 1628,
          "variable": "cg15_issuers"
         }
        ]
       },
       "encoding": {
        "color": {
         "field": "sbm",
         "legend": {
          "title": "Secondary Market"
         },
         "scale": {
          "scheme": "viridis"
         },
         "type": "nominal"
        },
        "column": {
         "field": "cov_cat",
         "sort": "ascending",
         "title": "Covenant Category",
         "type": "ordinal"
        },
        "x": {
         "axis": {
          "title": " "
         },
         "field": "sbm",
         "type": "nominal"
        },
        "y": {
         "axis": {
          "grid": false,
          "stack": null,
          "title": "% of Total Number of Issuers"
         },
         "field": "perc_total",
         "type": "quantitative"
        }
       },
       "height": 350,
       "mark": "bar",
       "spacing": 4.5,
       "title": {
        "align": "center",
        "anchor": "middle",
        "fontSize": 14,
        "offset": 20,
        "text": [
         "Number of Issuers by Covenant Category as Percentage of ",
         "Number of Issuers of Non-MTN-Bonds Traded - 2019Q3"
        ]
       },
       "width": {
        "step": 18
       }
      },
      "image/png": "[encoded data removed]",
      "image/svg+xml": [
       "<?xml version=\"1.0\" encoding=\"utf-8\"?>\n",
       "<!DOCTYPE svg PUBLIC \"-//W3C//DTD SVG 1.1//EN\" \"http://www.w3.org/Graphics/SVG/1.1/DTD/svg11.dtd\">\n",
       "<svg class=\"marks\" width=\"812\" height=\"501\" viewBox=\"0 0 812 501\" version=\"1.1\" xmlns=\"http://www.w3.org/2000/svg\" xmlns:xlink=\"http://www.w3.org/1999/xlink\"><rect width=\"812\" height=\"501\" fill=\"white\"></rect><g fill=\"none\" stroke-miterlimit=\"10\" transform=\"translate(46,107)\"><g class=\"mark-group role-frame root\" role=\"graphics-object\" aria-roledescription=\"group mark container\"><g transform=\"translate(0,0)\"><path class=\"background\" aria-hidden=\"true\" d=\"M0,0h0v0h0Z\"></path><g><g class=\"mark-group role-column-title column-title\" role=\"graphics-object\" aria-roledescription=\"group mark container\"><g transform=\"translate(316,-31)\"><path class=\"background\" aria-hidden=\"true\" d=\"M0,0h0v0h0Z\"></path><g><g class=\"mark-group role-title\"><g transform=\"translate(0,-21)\"><path class=\"background\" aria-hidden=\"true\" d=\"M0,0h0v0h0Z\" pointer-events=\"none\"></path><g><g class=\"mark-text role-title-text\" role=\"graphics-symbol\" aria-roledescription=\"title\" aria-label=\"Title text 'Covenant Category'\" pointer-events=\"none\"><text text-anchor=\"middle\" transform=\"translate(0,9)\" font-family=\"sans-serif\" font-size=\"11px\" font-weight=\"bold\" fill=\"#000\" opacity=\"1\">Covenant Category</text></g></g><path class=\"foreground\" aria-hidden=\"true\" d=\"\" pointer-events=\"none\" display=\"none\"></path></g></g></g><path class=\"foreground\" aria-hidden=\"true\" d=\"\" display=\"none\"></path></g></g><g class=\"mark-group role-row-header row_header\" role=\"graphics-object\" aria-roledescription=\"group mark container\"><g transform=\"translate(-1,0)\"><path class=\"background\" aria-hidden=\"true\" d=\"M0,0h0v350h0Z\"></path><g><g class=\"mark-group role-axis\" role=\"graphics-symbol\" aria-roledescription=\"axis\" aria-label=\"Y-axis titled '% of Total Number of Issuers' for a linear scale with values from 0 to 100\"><g transform=\"translate(0.5,0.5)\"><path class=\"background\" aria-hidden=\"true\" d=\"M0,0h0v0h0Z\" pointer-events=\"none\"></path><g><g class=\"mark-rule role-axis-tick\" pointer-events=\"none\"><line transform=\"translate(0,350)\" x2=\"-5\" y2=\"0\" stroke=\"#888\" stroke-width=\"1\" opacity=\"1\"></line><line transform=\"translate(0,315)\" x2=\"-5\" y2=\"0\" stroke=\"#888\" stroke-width=\"1\" opacity=\"1\"></line><line transform=\"translate(0,280)\" x2=\"-5\" y2=\"0\" stroke=\"#888\" stroke-width=\"1\" opacity=\"1\"></line><line transform=\"translate(0,245)\" x2=\"-5\" y2=\"0\" stroke=\"#888\" stroke-width=\"1\" opacity=\"1\"></line><line transform=\"translate(0,210)\" x2=\"-5\" y2=\"0\" stroke=\"#888\" stroke-width=\"1\" opacity=\"1\"></line><line transform=\"translate(0,175)\" x2=\"-5\" y2=\"0\" stroke=\"#888\" stroke-width=\"1\" opacity=\"1\"></line><line transform=\"translate(0,140)\" x2=\"-5\" y2=\"0\" stroke=\"#888\" stroke-width=\"1\" opacity=\"1\"></line><line transform=\"translate(0,105)\" x2=\"-5\" y2=\"0\" stroke=\"#888\" stroke-width=\"1\" opacity=\"1\"></line><line transform=\"translate(0,70)\" x2=\"-5\" y2=\"0\" stroke=\"#888\" stroke-width=\"1\" opacity=\"1\"></line><line transform=\"translate(0,35)\" x2=\"-5\" y2=\"0\" stroke=\"#888\" stroke-width=\"1\" opacity=\"1\"></line><line transform=\"translate(0,0)\" x2=\"-5\" y2=\"0\" stroke=\"#888\" stroke-width=\"1\" opacity=\"1\"></line></g><g class=\"mark-text role-axis-label\" pointer-events=\"none\"><text text-anchor=\"end\" transform=\"translate(-7,353)\" font-family=\"sans-serif\" font-size=\"10px\" fill=\"#000\" opacity=\"1\">0</text><text text-anchor=\"end\" transform=\"translate(-7,318)\" font-family=\"sans-serif\" font-size=\"10px\" fill=\"#000\" opacity=\"1\">10</text><text text-anchor=\"end\" transform=\"translate(-7,283)\" font-family=\"sans-serif\" font-size=\"10px\" fill=\"#000\" opacity=\"1\">20</text><text text-anchor=\"end\" transform=\"translate(-7,247.99999999999997)\" font-family=\"sans-serif\" font-size=\"10px\" fill=\"#000\" opacity=\"1\">30</text><text text-anchor=\"end\" transform=\"translate(-7,213)\" font-family=\"sans-serif\" font-size=\"10px\" fill=\"#000\" opacity=\"1\">40</text><text text-anchor=\"end\" transform=\"translate(-7,178)\" font-family=\"sans-serif\" font-size=\"10px\" fill=\"#000\" opacity=\"1\">50</text><text text-anchor=\"end\" transform=\"translate(-7,143)\" font-family=\"sans-serif\" font-size=\"10px\" fill=\"#000\" opacity=\"1\">60</text><text text-anchor=\"end\" transform=\"translate(-7,108.00000000000001)\" font-family=\"sans-serif\" font-size=\"10px\" fill=\"#000\" opacity=\"1\">70</text><text text-anchor=\"end\" transform=\"translate(-7,72.99999999999999)\" font-family=\"sans-serif\" font-size=\"10px\" fill=\"#000\" opacity=\"1\">80</text><text text-anchor=\"end\" transform=\"translate(-7,37.99999999999999)\" font-family=\"sans-serif\" font-size=\"10px\" fill=\"#000\" opacity=\"1\">90</text><text text-anchor=\"end\" transform=\"translate(-7,3)\" font-family=\"sans-serif\" font-size=\"10px\" fill=\"#000\" opacity=\"1\">100</text></g><g class=\"mark-rule role-axis-domain\" pointer-events=\"none\"><line transform=\"translate(0,350)\" x2=\"0\" y2=\"-350\" stroke=\"#888\" stroke-width=\"3\" opacity=\"1\"></line></g><g class=\"mark-text role-axis-title\" pointer-events=\"none\"><text text-anchor=\"middle\" transform=\"translate(-29,175) rotate(-90) translate(0,-2)\" font-family=\"sans-serif\" font-size=\"11px\" font-weight=\"bold\" fill=\"#000\" opacity=\"1\">% of Total Number of Issuers</text></g></g><path class=\"foreground\" aria-hidden=\"true\" d=\"\" pointer-events=\"none\" display=\"none\"></path></g></g></g><path class=\"foreground\" aria-hidden=\"true\" d=\"\" display=\"none\"></path></g></g><g class=\"mark-group role-column-header column_header\" role=\"graphics-object\" aria-roledescription=\"group mark container\"><g transform=\"translate(0,-1)\"><path class=\"background\" aria-hidden=\"true\" d=\"M0,0h36v0h-36Z\"></path><g><g class=\"mark-group role-title\"><g transform=\"translate(18,-20)\"><path class=\"background\" aria-hidden=\"true\" d=\"M0,0h0v0h0Z\" pointer-events=\"none\"></path><g><g class=\"mark-text role-title-text\" role=\"graphics-symbol\" aria-roledescription=\"title\" aria-label=\"Title text '1'\" pointer-events=\"none\"><text text-anchor=\"middle\" transform=\"translate(0,8)\" font-family=\"sans-serif\" font-size=\"10px\" fill=\"#000\" opacity=\"1\">1</text></g></g><path class=\"foreground\" aria-hidden=\"true\" d=\"\" pointer-events=\"none\" display=\"none\"></path></g></g></g><path class=\"foreground\" aria-hidden=\"true\" d=\"\" display=\"none\"></path></g><g transform=\"translate(42.5,-1)\"><path class=\"background\" aria-hidden=\"true\" d=\"M0,0h36v0h-36Z\"></path><g><g class=\"mark-group role-title\"><g transform=\"translate(18,-20)\"><path class=\"background\" aria-hidden=\"true\" d=\"M0,0h0v0h0Z\" pointer-events=\"none\"></path><g><g class=\"mark-text role-title-text\" role=\"graphics-symbol\" aria-roledescription=\"title\" aria-label=\"Title text '2'\" pointer-events=\"none\"><text text-anchor=\"middle\" transform=\"translate(0,8)\" font-family=\"sans-serif\" font-size=\"10px\" fill=\"#000\" opacity=\"1\">2</text></g></g><path class=\"foreground\" aria-hidden=\"true\" d=\"\" pointer-events=\"none\" display=\"none\"></path></g></g></g><path class=\"foreground\" aria-hidden=\"true\" d=\"\" display=\"none\"></path></g><g transform=\"translate(85,-1)\"><path class=\"background\" aria-hidden=\"true\" d=\"M0,0h36v0h-36Z\"></path><g><g class=\"mark-group role-title\"><g transform=\"translate(18,-20)\"><path class=\"background\" aria-hidden=\"true\" d=\"M0,0h0v0h0Z\" pointer-events=\"none\"></path><g><g class=\"mark-text role-title-text\" role=\"graphics-symbol\" aria-roledescription=\"title\" aria-label=\"Title text '3'\" pointer-events=\"none\"><text text-anchor=\"middle\" transform=\"translate(0,8)\" font-family=\"sans-serif\" font-size=\"10px\" fill=\"#000\" opacity=\"1\">3</text></g></g><path class=\"foreground\" aria-hidden=\"true\" d=\"\" pointer-events=\"none\" display=\"none\"></path></g></g></g><path class=\"foreground\" aria-hidden=\"true\" d=\"\" display=\"none\"></path></g><g transform=\"translate(127.5,-1)\"><path class=\"background\" aria-hidden=\"true\" d=\"M0,0h36v0h-36Z\"></path><g><g class=\"mark-group role-title\"><g transform=\"translate(18,-20)\"><path class=\"background\" aria-hidden=\"true\" d=\"M0,0h0v0h0Z\" pointer-events=\"none\"></path><g><g class=\"mark-text role-title-text\" role=\"graphics-symbol\" aria-roledescription=\"title\" aria-label=\"Title text '4'\" pointer-events=\"none\"><text text-anchor=\"middle\" transform=\"translate(0,8)\" font-family=\"sans-serif\" font-size=\"10px\" fill=\"#000\" opacity=\"1\">4</text></g></g><path class=\"foreground\" aria-hidden=\"true\" d=\"\" pointer-events=\"none\" display=\"none\"></path></g></g></g><path class=\"foreground\" aria-hidden=\"true\" d=\"\" display=\"none\"></path></g><g transform=\"translate(170,-1)\"><path class=\"background\" aria-hidden=\"true\" d=\"M0,0h36v0h-36Z\"></path><g><g class=\"mark-group role-title\"><g transform=\"translate(18,-20)\"><path class=\"background\" aria-hidden=\"true\" d=\"M0,0h0v0h0Z\" pointer-events=\"none\"></path><g><g class=\"mark-text role-title-text\" role=\"graphics-symbol\" aria-roledescription=\"title\" aria-label=\"Title text '5'\" pointer-events=\"none\"><text text-anchor=\"middle\" transform=\"translate(0,8)\" font-family=\"sans-serif\" font-size=\"10px\" fill=\"#000\" opacity=\"1\">5</text></g></g><path class=\"foreground\" aria-hidden=\"true\" d=\"\" pointer-events=\"none\" display=\"none\"></path></g></g></g><path class=\"foreground\" aria-hidden=\"true\" d=\"\" display=\"none\"></path></g><g transform=\"translate(212.5,-1)\"><path class=\"background\" aria-hidden=\"true\" d=\"M0,0h36v0h-36Z\"></path><g><g class=\"mark-group role-title\"><g transform=\"translate(18,-20)\"><path class=\"background\" aria-hidden=\"true\" d=\"M0,0h0v0h0Z\" pointer-events=\"none\"></path><g><g class=\"mark-text role-title-text\" role=\"graphics-symbol\" aria-roledescription=\"title\" aria-label=\"Title text '6'\" pointer-events=\"none\"><text text-anchor=\"middle\" transform=\"translate(0,8)\" font-family=\"sans-serif\" font-size=\"10px\" fill=\"#000\" opacity=\"1\">6</text></g></g><path class=\"foreground\" aria-hidden=\"true\" d=\"\" pointer-events=\"none\" display=\"none\"></path></g></g></g><path class=\"foreground\" aria-hidden=\"true\" d=\"\" display=\"none\"></path></g><g transform=\"translate(255,-1)\"><path class=\"background\" aria-hidden=\"true\" d=\"M0,0h36v0h-36Z\"></path><g><g class=\"mark-group role-title\"><g transform=\"translate(18,-20)\"><path class=\"background\" aria-hidden=\"true\" d=\"M0,0h0v0h0Z\" pointer-events=\"none\"></path><g><g class=\"mark-text role-title-text\" role=\"graphics-symbol\" aria-roledescription=\"title\" aria-label=\"Title text '7'\" pointer-events=\"none\"><text text-anchor=\"middle\" transform=\"translate(0,8)\" font-family=\"sans-serif\" font-size=\"10px\" fill=\"#000\" opacity=\"1\">7</text></g></g><path class=\"foreground\" aria-hidden=\"true\" d=\"\" pointer-events=\"none\" display=\"none\"></path></g></g></g><path class=\"foreground\" aria-hidden=\"true\" d=\"\" display=\"none\"></path></g><g transform=\"translate(297.5,-1)\"><path class=\"background\" aria-hidden=\"true\" d=\"M0,0h36v0h-36Z\"></path><g><g class=\"mark-group role-title\"><g transform=\"translate(18,-20)\"><path class=\"background\" aria-hidden=\"true\" d=\"M0,0h0v0h0Z\" pointer-events=\"none\"></path><g><g class=\"mark-text role-title-text\" role=\"graphics-symbol\" aria-roledescription=\"title\" aria-label=\"Title text '8'\" pointer-events=\"none\"><text text-anchor=\"middle\" transform=\"translate(0,8)\" font-family=\"sans-serif\" font-size=\"10px\" fill=\"#000\" opacity=\"1\">8</text></g></g><path class=\"foreground\" aria-hidden=\"true\" d=\"\" pointer-events=\"none\" display=\"none\"></path></g></g></g><path class=\"foreground\" aria-hidden=\"true\" d=\"\" display=\"none\"></path></g><g transform=\"translate(340,-1)\"><path class=\"background\" aria-hidden=\"true\" d=\"M0,0h36v0h-36Z\"></path><g><g class=\"mark-group role-title\"><g transform=\"translate(18,-20)\"><path class=\"background\" aria-hidden=\"true\" d=\"M0,0h0v0h0Z\" pointer-events=\"none\"></path><g><g class=\"mark-text role-title-text\" role=\"graphics-symbol\" aria-roledescription=\"title\" aria-label=\"Title text '9'\" pointer-events=\"none\"><text text-anchor=\"middle\" transform=\"translate(0,8)\" font-family=\"sans-serif\" font-size=\"10px\" fill=\"#000\" opacity=\"1\">9</text></g></g><path class=\"foreground\" aria-hidden=\"true\" d=\"\" pointer-events=\"none\" display=\"none\"></path></g></g></g><path class=\"foreground\" aria-hidden=\"true\" d=\"\" display=\"none\"></path></g><g transform=\"translate(382.5,-1)\"><path class=\"background\" aria-hidden=\"true\" d=\"M0,0h36v0h-36Z\"></path><g><g class=\"mark-group role-title\"><g transform=\"translate(18,-20)\"><path class=\"background\" aria-hidden=\"true\" d=\"M0,0h0v0h0Z\" pointer-events=\"none\"></path><g><g class=\"mark-text role-title-text\" role=\"graphics-symbol\" aria-roledescription=\"title\" aria-label=\"Title text '10'\" pointer-events=\"none\"><text text-anchor=\"middle\" transform=\"translate(0,8)\" font-family=\"sans-serif\" font-size=\"10px\" fill=\"#000\" opacity=\"1\">10</text></g></g><path class=\"foreground\" aria-hidden=\"true\" d=\"\" pointer-events=\"none\" display=\"none\"></path></g></g></g><path class=\"foreground\" aria-hidden=\"true\" d=\"\" display=\"none\"></path></g><g transform=\"translate(425,-1)\"><path class=\"background\" aria-hidden=\"true\" d=\"M0,0h36v0h-36Z\"></path><g><g class=\"mark-group role-title\"><g transform=\"translate(18,-20)\"><path class=\"background\" aria-hidden=\"true\" d=\"M0,0h0v0h0Z\" pointer-events=\"none\"></path><g><g class=\"mark-text role-title-text\" role=\"graphics-symbol\" aria-roledescription=\"title\" aria-label=\"Title text '11'\" pointer-events=\"none\"><text text-anchor=\"middle\" transform=\"translate(0,8)\" font-family=\"sans-serif\" font-size=\"10px\" fill=\"#000\" opacity=\"1\">11</text></g></g><path class=\"foreground\" aria-hidden=\"true\" d=\"\" pointer-events=\"none\" display=\"none\"></path></g></g></g><path class=\"foreground\" aria-hidden=\"true\" d=\"\" display=\"none\"></path></g><g transform=\"translate(467.5,-1)\"><path class=\"background\" aria-hidden=\"true\" d=\"M0,0h36v0h-36Z\"></path><g><g class=\"mark-group role-title\"><g transform=\"translate(18,-20)\"><path class=\"background\" aria-hidden=\"true\" d=\"M0,0h0v0h0Z\" pointer-events=\"none\"></path><g><g class=\"mark-text role-title-text\" role=\"graphics-symbol\" aria-roledescription=\"title\" aria-label=\"Title text '12'\" pointer-events=\"none\"><text text-anchor=\"middle\" transform=\"translate(0,8)\" font-family=\"sans-serif\" font-size=\"10px\" fill=\"#000\" opacity=\"1\">12</text></g></g><path class=\"foreground\" aria-hidden=\"true\" d=\"\" pointer-events=\"none\" display=\"none\"></path></g></g></g><path class=\"foreground\" aria-hidden=\"true\" d=\"\" display=\"none\"></path></g><g transform=\"translate(510,-1)\"><path class=\"background\" aria-hidden=\"true\" d=\"M0,0h36v0h-36Z\"></path><g><g class=\"mark-group role-title\"><g transform=\"translate(18,-20)\"><path class=\"background\" aria-hidden=\"true\" d=\"M0,0h0v0h0Z\" pointer-events=\"none\"></path><g><g class=\"mark-text role-title-text\" role=\"graphics-symbol\" aria-roledescription=\"title\" aria-label=\"Title text '13'\" pointer-events=\"none\"><text text-anchor=\"middle\" transform=\"translate(0,8)\" font-family=\"sans-serif\" font-size=\"10px\" fill=\"#000\" opacity=\"1\">13</text></g></g><path class=\"foreground\" aria-hidden=\"true\" d=\"\" pointer-events=\"none\" display=\"none\"></path></g></g></g><path class=\"foreground\" aria-hidden=\"true\" d=\"\" display=\"none\"></path></g><g transform=\"translate(552.5,-1)\"><path class=\"background\" aria-hidden=\"true\" d=\"M0,0h36v0h-36Z\"></path><g><g class=\"mark-group role-title\"><g transform=\"translate(18,-20)\"><path class=\"background\" aria-hidden=\"true\" d=\"M0,0h0v0h0Z\" pointer-events=\"none\"></path><g><g class=\"mark-text role-title-text\" role=\"graphics-symbol\" aria-roledescription=\"title\" aria-label=\"Title text '14'\" pointer-events=\"none\"><text text-anchor=\"middle\" transform=\"translate(0,8)\" font-family=\"sans-serif\" font-size=\"10px\" fill=\"#000\" opacity=\"1\">14</text></g></g><path class=\"foreground\" aria-hidden=\"true\" d=\"\" pointer-events=\"none\" display=\"none\"></path></g></g></g><path class=\"foreground\" aria-hidden=\"true\" d=\"\" display=\"none\"></path></g><g transform=\"translate(595,-1)\"><path class=\"background\" aria-hidden=\"true\" d=\"M0,0h36v0h-36Z\"></path><g><g class=\"mark-group role-title\"><g transform=\"translate(18,-20)\"><path class=\"background\" aria-hidden=\"true\" d=\"M0,0h0v0h0Z\" pointer-events=\"none\"></path><g><g class=\"mark-text role-title-text\" role=\"graphics-symbol\" aria-roledescription=\"title\" aria-label=\"Title text '15'\" pointer-events=\"none\"><text text-anchor=\"middle\" transform=\"translate(0,8)\" font-family=\"sans-serif\" font-size=\"10px\" fill=\"#000\" opacity=\"1\">15</text></g></g><path class=\"foreground\" aria-hidden=\"true\" d=\"\" pointer-events=\"none\" display=\"none\"></path></g></g></g><path class=\"foreground\" aria-hidden=\"true\" d=\"\" display=\"none\"></path></g></g><g class=\"mark-group role-column-footer column_footer\" role=\"graphics-object\" aria-roledescription=\"group mark container\"><g transform=\"translate(0,351)\"><path class=\"background\" aria-hidden=\"true\" d=\"M0,0h36v0h-36Z\"></path><g><g class=\"mark-group role-axis\" role=\"graphics-symbol\" aria-roledescription=\"axis\" aria-label=\"X-axis titled ' ' for a discrete scale with 2 values: ats, otc\"><g transform=\"translate(0.5,0.5)\"><path class=\"background\" aria-hidden=\"true\" d=\"M0,0h0v0h0Z\" pointer-events=\"none\"></path><g><g class=\"mark-rule role-axis-tick\" pointer-events=\"none\"><line transform=\"translate(9,0)\" x2=\"0\" y2=\"5\" stroke=\"#888\" stroke-width=\"1\" opacity=\"1\"></line><line transform=\"translate(27,0)\" x2=\"0\" y2=\"5\" stroke=\"#888\" stroke-width=\"1\" opacity=\"1\"></line></g><g class=\"mark-text role-axis-label\" pointer-events=\"none\"><text text-anchor=\"end\" transform=\"translate(8.500000000000002,7) rotate(270) translate(0,3)\" font-family=\"sans-serif\" font-size=\"10px\" fill=\"#000\" opacity=\"1\">ats</text><text text-anchor=\"end\" transform=\"translate(26.5,7) rotate(270) translate(0,3)\" font-family=\"sans-serif\" font-size=\"10px\" fill=\"#000\" opacity=\"1\">otc</text></g><g class=\"mark-rule role-axis-domain\" pointer-events=\"none\"><line transform=\"translate(0,0)\" x2=\"36\" y2=\"0\" stroke=\"#888\" stroke-width=\"3\" opacity=\"1\"></line></g><g class=\"mark-text role-axis-title\" pointer-events=\"none\"><text text-anchor=\"middle\" transform=\"translate(18,36)\" font-family=\"sans-serif\" font-size=\"11px\" font-weight=\"bold\" fill=\"#000\" opacity=\"1\"></text></g></g><path class=\"foreground\" aria-hidden=\"true\" d=\"\" pointer-events=\"none\" display=\"none\"></path></g></g></g><path class=\"foreground\" aria-hidden=\"true\" d=\"\" display=\"none\"></path></g><g transform=\"translate(42.5,351)\"><path class=\"background\" aria-hidden=\"true\" d=\"M0,0h36v0h-36Z\"></path><g><g class=\"mark-group role-axis\" role=\"graphics-symbol\" aria-roledescription=\"axis\" aria-label=\"X-axis titled ' ' for a discrete scale with 2 values: ats, otc\"><g transform=\"translate(0.5,0.5)\"><path class=\"background\" aria-hidden=\"true\" d=\"M0,0h0v0h0Z\" pointer-events=\"none\"></path><g><g class=\"mark-rule role-axis-tick\" pointer-events=\"none\"><line transform=\"translate(9,0)\" x2=\"0\" y2=\"5\" stroke=\"#888\" stroke-width=\"1\" opacity=\"1\"></line><line transform=\"translate(27,0)\" x2=\"0\" y2=\"5\" stroke=\"#888\" stroke-width=\"1\" opacity=\"1\"></line></g><g class=\"mark-text role-axis-label\" pointer-events=\"none\"><text text-anchor=\"end\" transform=\"translate(8.500000000000002,7) rotate(270) translate(0,3)\" font-family=\"sans-serif\" font-size=\"10px\" fill=\"#000\" opacity=\"1\">ats</text><text text-anchor=\"end\" transform=\"translate(26.5,7) rotate(270) translate(0,3)\" font-family=\"sans-serif\" font-size=\"10px\" fill=\"#000\" opacity=\"1\">otc</text></g><g class=\"mark-rule role-axis-domain\" pointer-events=\"none\"><line transform=\"translate(0,0)\" x2=\"36\" y2=\"0\" stroke=\"#888\" stroke-width=\"3\" opacity=\"1\"></line></g><g class=\"mark-text role-axis-title\" pointer-events=\"none\"><text text-anchor=\"middle\" transform=\"translate(18,36)\" font-family=\"sans-serif\" font-size=\"11px\" font-weight=\"bold\" fill=\"#000\" opacity=\"1\"></text></g></g><path class=\"foreground\" aria-hidden=\"true\" d=\"\" pointer-events=\"none\" display=\"none\"></path></g></g></g><path class=\"foreground\" aria-hidden=\"true\" d=\"\" display=\"none\"></path></g><g transform=\"translate(85,351)\"><path class=\"background\" aria-hidden=\"true\" d=\"M0,0h36v0h-36Z\"></path><g><g class=\"mark-group role-axis\" role=\"graphics-symbol\" aria-roledescription=\"axis\" aria-label=\"X-axis titled ' ' for a discrete scale with 2 values: ats, otc\"><g transform=\"translate(0.5,0.5)\"><path class=\"background\" aria-hidden=\"true\" d=\"M0,0h0v0h0Z\" pointer-events=\"none\"></path><g><g class=\"mark-rule role-axis-tick\" pointer-events=\"none\"><line transform=\"translate(9,0)\" x2=\"0\" y2=\"5\" stroke=\"#888\" stroke-width=\"1\" opacity=\"1\"></line><line transform=\"translate(27,0)\" x2=\"0\" y2=\"5\" stroke=\"#888\" stroke-width=\"1\" opacity=\"1\"></line></g><g class=\"mark-text role-axis-label\" pointer-events=\"none\"><text text-anchor=\"end\" transform=\"translate(8.500000000000002,7) rotate(270) translate(0,3)\" font-family=\"sans-serif\" font-size=\"10px\" fill=\"#000\" opacity=\"1\">ats</text><text text-anchor=\"end\" transform=\"translate(26.5,7) rotate(270) translate(0,3)\" font-family=\"sans-serif\" font-size=\"10px\" fill=\"#000\" opacity=\"1\">otc</text></g><g class=\"mark-rule role-axis-domain\" pointer-events=\"none\"><line transform=\"translate(0,0)\" x2=\"36\" y2=\"0\" stroke=\"#888\" stroke-width=\"3\" opacity=\"1\"></line></g><g class=\"mark-text role-axis-title\" pointer-events=\"none\"><text text-anchor=\"middle\" transform=\"translate(18,36)\" font-family=\"sans-serif\" font-size=\"11px\" font-weight=\"bold\" fill=\"#000\" opacity=\"1\"></text></g></g><path class=\"foreground\" aria-hidden=\"true\" d=\"\" pointer-events=\"none\" display=\"none\"></path></g></g></g><path class=\"foreground\" aria-hidden=\"true\" d=\"\" display=\"none\"></path></g><g transform=\"translate(127.5,351)\"><path class=\"background\" aria-hidden=\"true\" d=\"M0,0h36v0h-36Z\"></path><g><g class=\"mark-group role-axis\" role=\"graphics-symbol\" aria-roledescription=\"axis\" aria-label=\"X-axis titled ' ' for a discrete scale with 2 values: ats, otc\"><g transform=\"translate(0.5,0.5)\"><path class=\"background\" aria-hidden=\"true\" d=\"M0,0h0v0h0Z\" pointer-events=\"none\"></path><g><g class=\"mark-rule role-axis-tick\" pointer-events=\"none\"><line transform=\"translate(9,0)\" x2=\"0\" y2=\"5\" stroke=\"#888\" stroke-width=\"1\" opacity=\"1\"></line><line transform=\"translate(27,0)\" x2=\"0\" y2=\"5\" stroke=\"#888\" stroke-width=\"1\" opacity=\"1\"></line></g><g class=\"mark-text role-axis-label\" pointer-events=\"none\"><text text-anchor=\"end\" transform=\"translate(8.500000000000002,7) rotate(270) translate(0,3)\" font-family=\"sans-serif\" font-size=\"10px\" fill=\"#000\" opacity=\"1\">ats</text><text text-anchor=\"end\" transform=\"translate(26.5,7) rotate(270) translate(0,3)\" font-family=\"sans-serif\" font-size=\"10px\" fill=\"#000\" opacity=\"1\">otc</text></g><g class=\"mark-rule role-axis-domain\" pointer-events=\"none\"><line transform=\"translate(0,0)\" x2=\"36\" y2=\"0\" stroke=\"#888\" stroke-width=\"3\" opacity=\"1\"></line></g><g class=\"mark-text role-axis-title\" pointer-events=\"none\"><text text-anchor=\"middle\" transform=\"translate(18,36)\" font-family=\"sans-serif\" font-size=\"11px\" font-weight=\"bold\" fill=\"#000\" opacity=\"1\"></text></g></g><path class=\"foreground\" aria-hidden=\"true\" d=\"\" pointer-events=\"none\" display=\"none\"></path></g></g></g><path class=\"foreground\" aria-hidden=\"true\" d=\"\" display=\"none\"></path></g><g transform=\"translate(170,351)\"><path class=\"background\" aria-hidden=\"true\" d=\"M0,0h36v0h-36Z\"></path><g><g class=\"mark-group role-axis\" role=\"graphics-symbol\" aria-roledescription=\"axis\" aria-label=\"X-axis titled ' ' for a discrete scale with 2 values: ats, otc\"><g transform=\"translate(0.5,0.5)\"><path class=\"background\" aria-hidden=\"true\" d=\"M0,0h0v0h0Z\" pointer-events=\"none\"></path><g><g class=\"mark-rule role-axis-tick\" pointer-events=\"none\"><line transform=\"translate(9,0)\" x2=\"0\" y2=\"5\" stroke=\"#888\" stroke-width=\"1\" opacity=\"1\"></line><line transform=\"translate(27,0)\" x2=\"0\" y2=\"5\" stroke=\"#888\" stroke-width=\"1\" opacity=\"1\"></line></g><g class=\"mark-text role-axis-label\" pointer-events=\"none\"><text text-anchor=\"end\" transform=\"translate(8.500000000000002,7) rotate(270) translate(0,3)\" font-family=\"sans-serif\" font-size=\"10px\" fill=\"#000\" opacity=\"1\">ats</text><text text-anchor=\"end\" transform=\"translate(26.5,7) rotate(270) translate(0,3)\" font-family=\"sans-serif\" font-size=\"10px\" fill=\"#000\" opacity=\"1\">otc</text></g><g class=\"mark-rule role-axis-domain\" pointer-events=\"none\"><line transform=\"translate(0,0)\" x2=\"36\" y2=\"0\" stroke=\"#888\" stroke-width=\"3\" opacity=\"1\"></line></g><g class=\"mark-text role-axis-title\" pointer-events=\"none\"><text text-anchor=\"middle\" transform=\"translate(18,36)\" font-family=\"sans-serif\" font-size=\"11px\" font-weight=\"bold\" fill=\"#000\" opacity=\"1\"></text></g></g><path class=\"foreground\" aria-hidden=\"true\" d=\"\" pointer-events=\"none\" display=\"none\"></path></g></g></g><path class=\"foreground\" aria-hidden=\"true\" d=\"\" display=\"none\"></path></g><g transform=\"translate(212.5,351)\"><path class=\"background\" aria-hidden=\"true\" d=\"M0,0h36v0h-36Z\"></path><g><g class=\"mark-group role-axis\" role=\"graphics-symbol\" aria-roledescription=\"axis\" aria-label=\"X-axis titled ' ' for a discrete scale with 2 values: ats, otc\"><g transform=\"translate(0.5,0.5)\"><path class=\"background\" aria-hidden=\"true\" d=\"M0,0h0v0h0Z\" pointer-events=\"none\"></path><g><g class=\"mark-rule role-axis-tick\" pointer-events=\"none\"><line transform=\"translate(9,0)\" x2=\"0\" y2=\"5\" stroke=\"#888\" stroke-width=\"1\" opacity=\"1\"></line><line transform=\"translate(27,0)\" x2=\"0\" y2=\"5\" stroke=\"#888\" stroke-width=\"1\" opacity=\"1\"></line></g><g class=\"mark-text role-axis-label\" pointer-events=\"none\"><text text-anchor=\"end\" transform=\"translate(8.500000000000002,7) rotate(270) translate(0,3)\" font-family=\"sans-serif\" font-size=\"10px\" fill=\"#000\" opacity=\"1\">ats</text><text text-anchor=\"end\" transform=\"translate(26.5,7) rotate(270) translate(0,3)\" font-family=\"sans-serif\" font-size=\"10px\" fill=\"#000\" opacity=\"1\">otc</text></g><g class=\"mark-rule role-axis-domain\" pointer-events=\"none\"><line transform=\"translate(0,0)\" x2=\"36\" y2=\"0\" stroke=\"#888\" stroke-width=\"3\" opacity=\"1\"></line></g><g class=\"mark-text role-axis-title\" pointer-events=\"none\"><text text-anchor=\"middle\" transform=\"translate(18,36)\" font-family=\"sans-serif\" font-size=\"11px\" font-weight=\"bold\" fill=\"#000\" opacity=\"1\"></text></g></g><path class=\"foreground\" aria-hidden=\"true\" d=\"\" pointer-events=\"none\" display=\"none\"></path></g></g></g><path class=\"foreground\" aria-hidden=\"true\" d=\"\" display=\"none\"></path></g><g transform=\"translate(255,351)\"><path class=\"background\" aria-hidden=\"true\" d=\"M0,0h36v0h-36Z\"></path><g><g class=\"mark-group role-axis\" role=\"graphics-symbol\" aria-roledescription=\"axis\" aria-label=\"X-axis titled ' ' for a discrete scale with 2 values: ats, otc\"><g transform=\"translate(0.5,0.5)\"><path class=\"background\" aria-hidden=\"true\" d=\"M0,0h0v0h0Z\" pointer-events=\"none\"></path><g><g class=\"mark-rule role-axis-tick\" pointer-events=\"none\"><line transform=\"translate(9,0)\" x2=\"0\" y2=\"5\" stroke=\"#888\" stroke-width=\"1\" opacity=\"1\"></line><line transform=\"translate(27,0)\" x2=\"0\" y2=\"5\" stroke=\"#888\" stroke-width=\"1\" opacity=\"1\"></line></g><g class=\"mark-text role-axis-label\" pointer-events=\"none\"><text text-anchor=\"end\" transform=\"translate(8.500000000000002,7) rotate(270) translate(0,3)\" font-family=\"sans-serif\" font-size=\"10px\" fill=\"#000\" opacity=\"1\">ats</text><text text-anchor=\"end\" transform=\"translate(26.5,7) rotate(270) translate(0,3)\" font-family=\"sans-serif\" font-size=\"10px\" fill=\"#000\" opacity=\"1\">otc</text></g><g class=\"mark-rule role-axis-domain\" pointer-events=\"none\"><line transform=\"translate(0,0)\" x2=\"36\" y2=\"0\" stroke=\"#888\" stroke-width=\"3\" opacity=\"1\"></line></g><g class=\"mark-text role-axis-title\" pointer-events=\"none\"><text text-anchor=\"middle\" transform=\"translate(18,36)\" font-family=\"sans-serif\" font-size=\"11px\" font-weight=\"bold\" fill=\"#000\" opacity=\"1\"></text></g></g><path class=\"foreground\" aria-hidden=\"true\" d=\"\" pointer-events=\"none\" display=\"none\"></path></g></g></g><path class=\"foreground\" aria-hidden=\"true\" d=\"\" display=\"none\"></path></g><g transform=\"translate(297.5,351)\"><path class=\"background\" aria-hidden=\"true\" d=\"M0,0h36v0h-36Z\"></path><g><g class=\"mark-group role-axis\" role=\"graphics-symbol\" aria-roledescription=\"axis\" aria-label=\"X-axis titled ' ' for a discrete scale with 2 values: ats, otc\"><g transform=\"translate(0.5,0.5)\"><path class=\"background\" aria-hidden=\"true\" d=\"M0,0h0v0h0Z\" pointer-events=\"none\"></path><g><g class=\"mark-rule role-axis-tick\" pointer-events=\"none\"><line transform=\"translate(9,0)\" x2=\"0\" y2=\"5\" stroke=\"#888\" stroke-width=\"1\" opacity=\"1\"></line><line transform=\"translate(27,0)\" x2=\"0\" y2=\"5\" stroke=\"#888\" stroke-width=\"1\" opacity=\"1\"></line></g><g class=\"mark-text role-axis-label\" pointer-events=\"none\"><text text-anchor=\"end\" transform=\"translate(8.500000000000002,7) rotate(270) translate(0,3)\" font-family=\"sans-serif\" font-size=\"10px\" fill=\"#000\" opacity=\"1\">ats</text><text text-anchor=\"end\" transform=\"translate(26.5,7) rotate(270) translate(0,3)\" font-family=\"sans-serif\" font-size=\"10px\" fill=\"#000\" opacity=\"1\">otc</text></g><g class=\"mark-rule role-axis-domain\" pointer-events=\"none\"><line transform=\"translate(0,0)\" x2=\"36\" y2=\"0\" stroke=\"#888\" stroke-width=\"3\" opacity=\"1\"></line></g><g class=\"mark-text role-axis-title\" pointer-events=\"none\"><text text-anchor=\"middle\" transform=\"translate(18,36)\" font-family=\"sans-serif\" font-size=\"11px\" font-weight=\"bold\" fill=\"#000\" opacity=\"1\"></text></g></g><path class=\"foreground\" aria-hidden=\"true\" d=\"\" pointer-events=\"none\" display=\"none\"></path></g></g></g><path class=\"foreground\" aria-hidden=\"true\" d=\"\" display=\"none\"></path></g><g transform=\"translate(340,351)\"><path class=\"background\" aria-hidden=\"true\" d=\"M0,0h36v0h-36Z\"></path><g><g class=\"mark-group role-axis\" role=\"graphics-symbol\" aria-roledescription=\"axis\" aria-label=\"X-axis titled ' ' for a discrete scale with 2 values: ats, otc\"><g transform=\"translate(0.5,0.5)\"><path class=\"background\" aria-hidden=\"true\" d=\"M0,0h0v0h0Z\" pointer-events=\"none\"></path><g><g class=\"mark-rule role-axis-tick\" pointer-events=\"none\"><line transform=\"translate(9,0)\" x2=\"0\" y2=\"5\" stroke=\"#888\" stroke-width=\"1\" opacity=\"1\"></line><line transform=\"translate(27,0)\" x2=\"0\" y2=\"5\" stroke=\"#888\" stroke-width=\"1\" opacity=\"1\"></line></g><g class=\"mark-text role-axis-label\" pointer-events=\"none\"><text text-anchor=\"end\" transform=\"translate(8.500000000000002,7) rotate(270) translate(0,3)\" font-family=\"sans-serif\" font-size=\"10px\" fill=\"#000\" opacity=\"1\">ats</text><text text-anchor=\"end\" transform=\"translate(26.5,7) rotate(270) translate(0,3)\" font-family=\"sans-serif\" font-size=\"10px\" fill=\"#000\" opacity=\"1\">otc</text></g><g class=\"mark-rule role-axis-domain\" pointer-events=\"none\"><line transform=\"translate(0,0)\" x2=\"36\" y2=\"0\" stroke=\"#888\" stroke-width=\"3\" opacity=\"1\"></line></g><g class=\"mark-text role-axis-title\" pointer-events=\"none\"><text text-anchor=\"middle\" transform=\"translate(18,36)\" font-family=\"sans-serif\" font-size=\"11px\" font-weight=\"bold\" fill=\"#000\" opacity=\"1\"></text></g></g><path class=\"foreground\" aria-hidden=\"true\" d=\"\" pointer-events=\"none\" display=\"none\"></path></g></g></g><path class=\"foreground\" aria-hidden=\"true\" d=\"\" display=\"none\"></path></g><g transform=\"translate(382.5,351)\"><path class=\"background\" aria-hidden=\"true\" d=\"M0,0h36v0h-36Z\"></path><g><g class=\"mark-group role-axis\" role=\"graphics-symbol\" aria-roledescription=\"axis\" aria-label=\"X-axis titled ' ' for a discrete scale with 2 values: ats, otc\"><g transform=\"translate(0.5,0.5)\"><path class=\"background\" aria-hidden=\"true\" d=\"M0,0h0v0h0Z\" pointer-events=\"none\"></path><g><g class=\"mark-rule role-axis-tick\" pointer-events=\"none\"><line transform=\"translate(9,0)\" x2=\"0\" y2=\"5\" stroke=\"#888\" stroke-width=\"1\" opacity=\"1\"></line><line transform=\"translate(27,0)\" x2=\"0\" y2=\"5\" stroke=\"#888\" stroke-width=\"1\" opacity=\"1\"></line></g><g class=\"mark-text role-axis-label\" pointer-events=\"none\"><text text-anchor=\"end\" transform=\"translate(8.500000000000002,7) rotate(270) translate(0,3)\" font-family=\"sans-serif\" font-size=\"10px\" fill=\"#000\" opacity=\"1\">ats</text><text text-anchor=\"end\" transform=\"translate(26.5,7) rotate(270) translate(0,3)\" font-family=\"sans-serif\" font-size=\"10px\" fill=\"#000\" opacity=\"1\">otc</text></g><g class=\"mark-rule role-axis-domain\" pointer-events=\"none\"><line transform=\"translate(0,0)\" x2=\"36\" y2=\"0\" stroke=\"#888\" stroke-width=\"3\" opacity=\"1\"></line></g><g class=\"mark-text role-axis-title\" pointer-events=\"none\"><text text-anchor=\"middle\" transform=\"translate(18,36)\" font-family=\"sans-serif\" font-size=\"11px\" font-weight=\"bold\" fill=\"#000\" opacity=\"1\"></text></g></g><path class=\"foreground\" aria-hidden=\"true\" d=\"\" pointer-events=\"none\" display=\"none\"></path></g></g></g><path class=\"foreground\" aria-hidden=\"true\" d=\"\" display=\"none\"></path></g><g transform=\"translate(425,351)\"><path class=\"background\" aria-hidden=\"true\" d=\"M0,0h36v0h-36Z\"></path><g><g class=\"mark-group role-axis\" role=\"graphics-symbol\" aria-roledescription=\"axis\" aria-label=\"X-axis titled ' ' for a discrete scale with 2 values: ats, otc\"><g transform=\"translate(0.5,0.5)\"><path class=\"background\" aria-hidden=\"true\" d=\"M0,0h0v0h0Z\" pointer-events=\"none\"></path><g><g class=\"mark-rule role-axis-tick\" pointer-events=\"none\"><line transform=\"translate(9,0)\" x2=\"0\" y2=\"5\" stroke=\"#888\" stroke-width=\"1\" opacity=\"1\"></line><line transform=\"translate(27,0)\" x2=\"0\" y2=\"5\" stroke=\"#888\" stroke-width=\"1\" opacity=\"1\"></line></g><g class=\"mark-text role-axis-label\" pointer-events=\"none\"><text text-anchor=\"end\" transform=\"translate(8.500000000000002,7) rotate(270) translate(0,3)\" font-family=\"sans-serif\" font-size=\"10px\" fill=\"#000\" opacity=\"1\">ats</text><text text-anchor=\"end\" transform=\"translate(26.5,7) rotate(270) translate(0,3)\" font-family=\"sans-serif\" font-size=\"10px\" fill=\"#000\" opacity=\"1\">otc</text></g><g class=\"mark-rule role-axis-domain\" pointer-events=\"none\"><line transform=\"translate(0,0)\" x2=\"36\" y2=\"0\" stroke=\"#888\" stroke-width=\"3\" opacity=\"1\"></line></g><g class=\"mark-text role-axis-title\" pointer-events=\"none\"><text text-anchor=\"middle\" transform=\"translate(18,36)\" font-family=\"sans-serif\" font-size=\"11px\" font-weight=\"bold\" fill=\"#000\" opacity=\"1\"></text></g></g><path class=\"foreground\" aria-hidden=\"true\" d=\"\" pointer-events=\"none\" display=\"none\"></path></g></g></g><path class=\"foreground\" aria-hidden=\"true\" d=\"\" display=\"none\"></path></g><g transform=\"translate(467.5,351)\"><path class=\"background\" aria-hidden=\"true\" d=\"M0,0h36v0h-36Z\"></path><g><g class=\"mark-group role-axis\" role=\"graphics-symbol\" aria-roledescription=\"axis\" aria-label=\"X-axis titled ' ' for a discrete scale with 2 values: ats, otc\"><g transform=\"translate(0.5,0.5)\"><path class=\"background\" aria-hidden=\"true\" d=\"M0,0h0v0h0Z\" pointer-events=\"none\"></path><g><g class=\"mark-rule role-axis-tick\" pointer-events=\"none\"><line transform=\"translate(9,0)\" x2=\"0\" y2=\"5\" stroke=\"#888\" stroke-width=\"1\" opacity=\"1\"></line><line transform=\"translate(27,0)\" x2=\"0\" y2=\"5\" stroke=\"#888\" stroke-width=\"1\" opacity=\"1\"></line></g><g class=\"mark-text role-axis-label\" pointer-events=\"none\"><text text-anchor=\"end\" transform=\"translate(8.500000000000002,7) rotate(270) translate(0,3)\" font-family=\"sans-serif\" font-size=\"10px\" fill=\"#000\" opacity=\"1\">ats</text><text text-anchor=\"end\" transform=\"translate(26.5,7) rotate(270) translate(0,3)\" font-family=\"sans-serif\" font-size=\"10px\" fill=\"#000\" opacity=\"1\">otc</text></g><g class=\"mark-rule role-axis-domain\" pointer-events=\"none\"><line transform=\"translate(0,0)\" x2=\"36\" y2=\"0\" stroke=\"#888\" stroke-width=\"3\" opacity=\"1\"></line></g><g class=\"mark-text role-axis-title\" pointer-events=\"none\"><text text-anchor=\"middle\" transform=\"translate(18,36)\" font-family=\"sans-serif\" font-size=\"11px\" font-weight=\"bold\" fill=\"#000\" opacity=\"1\"></text></g></g><path class=\"foreground\" aria-hidden=\"true\" d=\"\" pointer-events=\"none\" display=\"none\"></path></g></g></g><path class=\"foreground\" aria-hidden=\"true\" d=\"\" display=\"none\"></path></g><g transform=\"translate(510,351)\"><path class=\"background\" aria-hidden=\"true\" d=\"M0,0h36v0h-36Z\"></path><g><g class=\"mark-group role-axis\" role=\"graphics-symbol\" aria-roledescription=\"axis\" aria-label=\"X-axis titled ' ' for a discrete scale with 2 values: ats, otc\"><g transform=\"translate(0.5,0.5)\"><path class=\"background\" aria-hidden=\"true\" d=\"M0,0h0v0h0Z\" pointer-events=\"none\"></path><g><g class=\"mark-rule role-axis-tick\" pointer-events=\"none\"><line transform=\"translate(9,0)\" x2=\"0\" y2=\"5\" stroke=\"#888\" stroke-width=\"1\" opacity=\"1\"></line><line transform=\"translate(27,0)\" x2=\"0\" y2=\"5\" stroke=\"#888\" stroke-width=\"1\" opacity=\"1\"></line></g><g class=\"mark-text role-axis-label\" pointer-events=\"none\"><text text-anchor=\"end\" transform=\"translate(8.500000000000002,7) rotate(270) translate(0,3)\" font-family=\"sans-serif\" font-size=\"10px\" fill=\"#000\" opacity=\"1\">ats</text><text text-anchor=\"end\" transform=\"translate(26.5,7) rotate(270) translate(0,3)\" font-family=\"sans-serif\" font-size=\"10px\" fill=\"#000\" opacity=\"1\">otc</text></g><g class=\"mark-rule role-axis-domain\" pointer-events=\"none\"><line transform=\"translate(0,0)\" x2=\"36\" y2=\"0\" stroke=\"#888\" stroke-width=\"3\" opacity=\"1\"></line></g><g class=\"mark-text role-axis-title\" pointer-events=\"none\"><text text-anchor=\"middle\" transform=\"translate(18,36)\" font-family=\"sans-serif\" font-size=\"11px\" font-weight=\"bold\" fill=\"#000\" opacity=\"1\"></text></g></g><path class=\"foreground\" aria-hidden=\"true\" d=\"\" pointer-events=\"none\" display=\"none\"></path></g></g></g><path class=\"foreground\" aria-hidden=\"true\" d=\"\" display=\"none\"></path></g><g transform=\"translate(552.5,351)\"><path class=\"background\" aria-hidden=\"true\" d=\"M0,0h36v0h-36Z\"></path><g><g class=\"mark-group role-axis\" role=\"graphics-symbol\" aria-roledescription=\"axis\" aria-label=\"X-axis titled ' ' for a discrete scale with 2 values: ats, otc\"><g transform=\"translate(0.5,0.5)\"><path class=\"background\" aria-hidden=\"true\" d=\"M0,0h0v0h0Z\" pointer-events=\"none\"></path><g><g class=\"mark-rule role-axis-tick\" pointer-events=\"none\"><line transform=\"translate(9,0)\" x2=\"0\" y2=\"5\" stroke=\"#888\" stroke-width=\"1\" opacity=\"1\"></line><line transform=\"translate(27,0)\" x2=\"0\" y2=\"5\" stroke=\"#888\" stroke-width=\"1\" opacity=\"1\"></line></g><g class=\"mark-text role-axis-label\" pointer-events=\"none\"><text text-anchor=\"end\" transform=\"translate(8.500000000000002,7) rotate(270) translate(0,3)\" font-family=\"sans-serif\" font-size=\"10px\" fill=\"#000\" opacity=\"1\">ats</text><text text-anchor=\"end\" transform=\"translate(26.5,7) rotate(270) translate(0,3)\" font-family=\"sans-serif\" font-size=\"10px\" fill=\"#000\" opacity=\"1\">otc</text></g><g class=\"mark-rule role-axis-domain\" pointer-events=\"none\"><line transform=\"translate(0,0)\" x2=\"36\" y2=\"0\" stroke=\"#888\" stroke-width=\"3\" opacity=\"1\"></line></g><g class=\"mark-text role-axis-title\" pointer-events=\"none\"><text text-anchor=\"middle\" transform=\"translate(18,36)\" font-family=\"sans-serif\" font-size=\"11px\" font-weight=\"bold\" fill=\"#000\" opacity=\"1\"></text></g></g><path class=\"foreground\" aria-hidden=\"true\" d=\"\" pointer-events=\"none\" display=\"none\"></path></g></g></g><path class=\"foreground\" aria-hidden=\"true\" d=\"\" display=\"none\"></path></g><g transform=\"translate(595,351)\"><path class=\"background\" aria-hidden=\"true\" d=\"M0,0h36v0h-36Z\"></path><g><g class=\"mark-group role-axis\" role=\"graphics-symbol\" aria-roledescription=\"axis\" aria-label=\"X-axis titled ' ' for a discrete scale with 2 values: ats, otc\"><g transform=\"translate(0.5,0.5)\"><path class=\"background\" aria-hidden=\"true\" d=\"M0,0h0v0h0Z\" pointer-events=\"none\"></path><g><g class=\"mark-rule role-axis-tick\" pointer-events=\"none\"><line transform=\"translate(9,0)\" x2=\"0\" y2=\"5\" stroke=\"#888\" stroke-width=\"1\" opacity=\"1\"></line><line transform=\"translate(27,0)\" x2=\"0\" y2=\"5\" stroke=\"#888\" stroke-width=\"1\" opacity=\"1\"></line></g><g class=\"mark-text role-axis-label\" pointer-events=\"none\"><text text-anchor=\"end\" transform=\"translate(8.500000000000002,7) rotate(270) translate(0,3)\" font-family=\"sans-serif\" font-size=\"10px\" fill=\"#000\" opacity=\"1\">ats</text><text text-anchor=\"end\" transform=\"translate(26.5,7) rotate(270) translate(0,3)\" font-family=\"sans-serif\" font-size=\"10px\" fill=\"#000\" opacity=\"1\">otc</text></g><g class=\"mark-rule role-axis-domain\" pointer-events=\"none\"><line transform=\"translate(0,0)\" x2=\"36\" y2=\"0\" stroke=\"#888\" stroke-width=\"3\" opacity=\"1\"></line></g><g class=\"mark-text role-axis-title\" pointer-events=\"none\"><text text-anchor=\"middle\" transform=\"translate(18,36)\" font-family=\"sans-serif\" font-size=\"11px\" font-weight=\"bold\" fill=\"#000\" opacity=\"1\"></text></g></g><path class=\"foreground\" aria-hidden=\"true\" d=\"\" pointer-events=\"none\" display=\"none\"></path></g></g></g><path class=\"foreground\" aria-hidden=\"true\" d=\"\" display=\"none\"></path></g></g><g class=\"mark-group role-scope cell\" role=\"graphics-object\" aria-roledescription=\"group mark container\"><g transform=\"translate(0,0)\"><path class=\"background\" aria-hidden=\"true\" d=\"M0.5,0.5h36v350h-36Z\"></path><g><g class=\"mark-rect role-mark child_marks\" role=\"graphics-object\" aria-roledescription=\"rect mark container\"><path aria-label=\"% of Total Number of Issuers: 13.2658227848;  : otc; Secondary Market: otc\" role=\"graphics-symbol\" aria-roledescription=\"bar\" d=\"M18.900000000000002,303.5696202531646h16.2v46.4303797468354h-16.2Z\" fill=\"rgb(53, 183, 121)\"></path><path aria-label=\"% of Total Number of Issuers: 12.9113924051;  : ats; Secondary Market: ats\" role=\"graphics-symbol\" aria-roledescription=\"bar\" d=\"M0.9000000000000021,304.8101265822785h16.2v45.189873417721515h-16.2Z\" fill=\"rgb(49, 104, 142)\"></path></g></g><path class=\"foreground\" aria-hidden=\"true\" d=\"\" display=\"none\"></path></g><g transform=\"translate(42.5,0)\"><path class=\"background\" aria-hidden=\"true\" d=\"M0.5,0.5h36v350h-36Z\"></path><g><g class=\"mark-rect role-mark child_marks\" role=\"graphics-object\" aria-roledescription=\"rect mark container\"><path aria-label=\"% of Total Number of Issuers: 78.1772151899;  : otc; Secondary Market: otc\" role=\"graphics-symbol\" aria-roledescription=\"bar\" d=\"M18.900000000000002,76.37974683544304h16.2v273.62025316455697h-16.2Z\" fill=\"rgb(53, 183, 121)\"></path><path aria-label=\"% of Total Number of Issuers: 76.2025316456;  : ats; Secondary Market: ats\" role=\"graphics-symbol\" aria-roledescription=\"bar\" d=\"M0.9000000000000021,83.29113924050631h16.2v266.7088607594937h-16.2Z\" fill=\"rgb(49, 104, 142)\"></path></g></g><path class=\"foreground\" aria-hidden=\"true\" d=\"\" display=\"none\"></path></g><g transform=\"translate(85,0)\"><path class=\"background\" aria-hidden=\"true\" d=\"M0.5,0.5h36v350h-36Z\"></path><g><g class=\"mark-rect role-mark child_marks\" role=\"graphics-object\" aria-roledescription=\"rect mark container\"><path aria-label=\"% of Total Number of Issuers: 1.11392405063;  : otc; Secondary Market: otc\" role=\"graphics-symbol\" aria-roledescription=\"bar\" d=\"M18.900000000000002,346.1012658227848h16.2v3.8987341772152035h-16.2Z\" fill=\"rgb(53, 183, 121)\"></path><path aria-label=\"% of Total Number of Issuers: 1.11392405063;  : ats; Secondary Market: ats\" role=\"graphics-symbol\" aria-roledescription=\"bar\" d=\"M0.9000000000000021,346.1012658227848h16.2v3.8987341772152035h-16.2Z\" fill=\"rgb(49, 104, 142)\"></path></g></g><path class=\"foreground\" aria-hidden=\"true\" d=\"\" display=\"none\"></path></g><g transform=\"translate(127.5,0)\"><path class=\"background\" aria-hidden=\"true\" d=\"M0.5,0.5h36v350h-36Z\"></path><g><g class=\"mark-rect role-mark child_marks\" role=\"graphics-object\" aria-roledescription=\"rect mark container\"><path aria-label=\"% of Total Number of Issuers: 1.9746835443;  : otc; Secondary Market: otc\" role=\"graphics-symbol\" aria-roledescription=\"bar\" d=\"M18.900000000000002,343.0886075949367h16.2v6.911392405063282h-16.2Z\" fill=\"rgb(53, 183, 121)\"></path><path aria-label=\"% of Total Number of Issuers: 1.92405063291;  : ats; Secondary Market: ats\" role=\"graphics-symbol\" aria-roledescription=\"bar\" d=\"M0.9000000000000021,343.26582278481015h16.2v6.734177215189845h-16.2Z\" fill=\"rgb(49, 104, 142)\"></path></g></g><path class=\"foreground\" aria-hidden=\"true\" d=\"\" display=\"none\"></path></g><g transform=\"translate(170,0)\"><path class=\"background\" aria-hidden=\"true\" d=\"M0.5,0.5h36v350h-36Z\"></path><g><g class=\"mark-rect role-mark child_marks\" role=\"graphics-object\" aria-roledescription=\"rect mark container\"><path aria-label=\"% of Total Number of Issuers: 0.354430379747;  : otc; Secondary Market: otc\" role=\"graphics-symbol\" aria-roledescription=\"bar\" d=\"M18.900000000000002,348.75949367088606h16.2v1.2405063291139413h-16.2Z\" fill=\"rgb(53, 183, 121)\"></path><path aria-label=\"% of Total Number of Issuers: 0.303797468354;  : ats; Secondary Market: ats\" role=\"graphics-symbol\" aria-roledescription=\"bar\" d=\"M0.9000000000000021,348.9367088607595h16.2v1.063291139240505h-16.2Z\" fill=\"rgb(49, 104, 142)\"></path></g></g><path class=\"foreground\" aria-hidden=\"true\" d=\"\" display=\"none\"></path></g><g transform=\"translate(212.5,0)\"><path class=\"background\" aria-hidden=\"true\" d=\"M0.5,0.5h36v350h-36Z\"></path><g><g class=\"mark-rect role-mark child_marks\" role=\"graphics-object\" aria-roledescription=\"rect mark container\"><path aria-label=\"% of Total Number of Issuers: 65.417721519;  : otc; Secondary Market: otc\" role=\"graphics-symbol\" aria-roledescription=\"bar\" d=\"M18.900000000000002,121.03797468354432h16.2v228.96202531645568h-16.2Z\" fill=\"rgb(53, 183, 121)\"></path><path aria-label=\"% of Total Number of Issuers: 64.1518987342;  : ats; Secondary Market: ats\" role=\"graphics-symbol\" aria-roledescription=\"bar\" d=\"M0.9000000000000021,125.46835443037979h16.2v224.5316455696202h-16.2Z\" fill=\"rgb(49, 104, 142)\"></path></g></g><path class=\"foreground\" aria-hidden=\"true\" d=\"\" display=\"none\"></path></g><g transform=\"translate(255,0)\"><path class=\"background\" aria-hidden=\"true\" d=\"M0.5,0.5h36v350h-36Z\"></path><g><g class=\"mark-rect role-mark child_marks\" role=\"graphics-object\" aria-roledescription=\"rect mark container\"><path aria-label=\"% of Total Number of Issuers: 96.3037974684;  : otc; Secondary Market: otc\" role=\"graphics-symbol\" aria-roledescription=\"bar\" d=\"M18.900000000000002,12.936708860759477h16.2v337.0632911392405h-16.2Z\" fill=\"rgb(53, 183, 121)\"></path><path aria-label=\"% of Total Number of Issuers: 90.9367088608;  : ats; Secondary Market: ats\" role=\"graphics-symbol\" aria-roledescription=\"bar\" d=\"M0.9000000000000021,31.721518987341764h16.2v318.27848101265823h-16.2Z\" fill=\"rgb(49, 104, 142)\"></path></g></g><path class=\"foreground\" aria-hidden=\"true\" d=\"\" display=\"none\"></path></g><g transform=\"translate(297.5,0)\"><path class=\"background\" aria-hidden=\"true\" d=\"M0.5,0.5h36v350h-36Z\"></path><g><g class=\"mark-rect role-mark child_marks\" role=\"graphics-object\" aria-roledescription=\"rect mark container\"><path aria-label=\"% of Total Number of Issuers: 39.1392405063;  : otc; Secondary Market: otc\" role=\"graphics-symbol\" aria-roledescription=\"bar\" d=\"M18.900000000000002,213.0126582278481h16.2v136.9873417721519h-16.2Z\" fill=\"rgb(53, 183, 121)\"></path><path aria-label=\"% of Total Number of Issuers: 38.5316455696;  : ats; Secondary Market: ats\" role=\"graphics-symbol\" aria-roledescription=\"bar\" d=\"M0.9000000000000021,215.13924050632912h16.2v134.86075949367088h-16.2Z\" fill=\"rgb(49, 104, 142)\"></path></g></g><path class=\"foreground\" aria-hidden=\"true\" d=\"\" display=\"none\"></path></g><g transform=\"translate(340,0)\"><path class=\"background\" aria-hidden=\"true\" d=\"M0.5,0.5h36v350h-36Z\"></path><g><g class=\"mark-rect role-mark child_marks\" role=\"graphics-object\" aria-roledescription=\"rect mark container\"><path aria-label=\"% of Total Number of Issuers: 10.2278481013;  : otc; Secondary Market: otc\" role=\"graphics-symbol\" aria-roledescription=\"bar\" d=\"M18.900000000000002,314.2025316455696h16.2v35.79746835443041h-16.2Z\" fill=\"rgb(53, 183, 121)\"></path><path aria-label=\"% of Total Number of Issuers: 10.0253164557;  : ats; Secondary Market: ats\" role=\"graphics-symbol\" aria-roledescription=\"bar\" d=\"M0.9000000000000021,314.9113924050633h16.2v35.08860759493672h-16.2Z\" fill=\"rgb(49, 104, 142)\"></path></g></g><path class=\"foreground\" aria-hidden=\"true\" d=\"\" display=\"none\"></path></g><g transform=\"translate(382.5,0)\"><path class=\"background\" aria-hidden=\"true\" d=\"M0.5,0.5h36v350h-36Z\"></path><g><g class=\"mark-rect role-mark child_marks\" role=\"graphics-object\" aria-roledescription=\"rect mark container\"><path aria-label=\"% of Total Number of Issuers: 2.48101265823;  : otc; Secondary Market: otc\" role=\"graphics-symbol\" aria-roledescription=\"bar\" d=\"M18.900000000000002,341.3164556962025h16.2v8.683544303797476h-16.2Z\" fill=\"rgb(53, 183, 121)\"></path><path aria-label=\"% of Total Number of Issuers: 2.48101265823;  : ats; Secondary Market: ats\" role=\"graphics-symbol\" aria-roledescription=\"bar\" d=\"M0.9000000000000021,341.3164556962025h16.2v8.683544303797476h-16.2Z\" fill=\"rgb(49, 104, 142)\"></path></g></g><path class=\"foreground\" aria-hidden=\"true\" d=\"\" display=\"none\"></path></g><g transform=\"translate(425,0)\"><path class=\"background\" aria-hidden=\"true\" d=\"M0.5,0.5h36v350h-36Z\"></path><g><g class=\"mark-rect role-mark child_marks\" role=\"graphics-object\" aria-roledescription=\"rect mark container\"><path aria-label=\"% of Total Number of Issuers: 85.9240506329;  : otc; Secondary Market: otc\" role=\"graphics-symbol\" aria-roledescription=\"bar\" d=\"M18.900000000000002,49.26582278481011h16.2v300.7341772151899h-16.2Z\" fill=\"rgb(53, 183, 121)\"></path><path aria-label=\"% of Total Number of Issuers: 81.3164556962;  : ats; Secondary Market: ats\" role=\"graphics-symbol\" aria-roledescription=\"bar\" d=\"M0.9000000000000021,65.39240506329115h16.2v284.60759493670884h-16.2Z\" fill=\"rgb(49, 104, 142)\"></path></g></g><path class=\"foreground\" aria-hidden=\"true\" d=\"\" display=\"none\"></path></g><g transform=\"translate(467.5,0)\"><path class=\"background\" aria-hidden=\"true\" d=\"M0.5,0.5h36v350h-36Z\"></path><g><g class=\"mark-rect role-mark child_marks\" role=\"graphics-object\" aria-roledescription=\"rect mark container\"><path aria-label=\"% of Total Number of Issuers: 51.4936708861;  : otc; Secondary Market: otc\" role=\"graphics-symbol\" aria-roledescription=\"bar\" d=\"M18.900000000000002,169.7721518987342h16.2v180.2278481012658h-16.2Z\" fill=\"rgb(53, 183, 121)\"></path><path aria-label=\"% of Total Number of Issuers: 48.5569620253;  : ats; Secondary Market: ats\" role=\"graphics-symbol\" aria-roledescription=\"bar\" d=\"M0.9000000000000021,180.05063291139243h16.2v169.94936708860757h-16.2Z\" fill=\"rgb(49, 104, 142)\"></path></g></g><path class=\"foreground\" aria-hidden=\"true\" d=\"\" display=\"none\"></path></g><g transform=\"translate(510,0)\"><path class=\"background\" aria-hidden=\"true\" d=\"M0.5,0.5h36v350h-36Z\"></path><g><g class=\"mark-rect role-mark child_marks\" role=\"graphics-object\" aria-roledescription=\"rect mark container\"><path aria-label=\"% of Total Number of Issuers: 87.2405063291;  : otc; Secondary Market: otc\" role=\"graphics-symbol\" aria-roledescription=\"bar\" d=\"M18.900000000000002,44.65822784810124h16.2v305.34177215189874h-16.2Z\" fill=\"rgb(53, 183, 121)\"></path><path aria-label=\"% of Total Number of Issuers: 82.9873417722;  : ats; Secondary Market: ats\" role=\"graphics-symbol\" aria-roledescription=\"bar\" d=\"M0.9000000000000021,59.54430379746831h16.2v290.45569620253167h-16.2Z\" fill=\"rgb(49, 104, 142)\"></path></g></g><path class=\"foreground\" aria-hidden=\"true\" d=\"\" display=\"none\"></path></g><g transform=\"translate(552.5,0)\"><path class=\"background\" aria-hidden=\"true\" d=\"M0.5,0.5h36v350h-36Z\"></path><g><g class=\"mark-rect role-mark child_marks\" role=\"graphics-object\" aria-roledescription=\"rect mark container\"><path aria-label=\"% of Total Number of Issuers: 15.3924050633;  : otc; Secondary Market: otc\" role=\"graphics-symbol\" aria-roledescription=\"bar\" d=\"M18.900000000000002,296.126582278481h16.2v53.87341772151899h-16.2Z\" fill=\"rgb(53, 183, 121)\"></path><path aria-label=\"% of Total Number of Issuers: 14.8860759494;  : ats; Secondary Market: ats\" role=\"graphics-symbol\" aria-roledescription=\"bar\" d=\"M0.9000000000000021,297.8987341772152h16.2v52.1012658227848h-16.2Z\" fill=\"rgb(49, 104, 142)\"></path></g></g><path class=\"foreground\" aria-hidden=\"true\" d=\"\" display=\"none\"></path></g><g transform=\"translate(595,0)\"><path class=\"background\" aria-hidden=\"true\" d=\"M0.5,0.5h36v350h-36Z\"></path><g><g class=\"mark-rect role-mark child_marks\" role=\"graphics-object\" aria-roledescription=\"rect mark container\"><path aria-label=\"% of Total Number of Issuers: 86.6835443038;  : otc; Secondary Market: otc\" role=\"graphics-symbol\" aria-roledescription=\"bar\" d=\"M18.900000000000002,46.60759493670887h16.2v303.3924050632911h-16.2Z\" fill=\"rgb(53, 183, 121)\"></path><path aria-label=\"% of Total Number of Issuers: 82.4303797468;  : ats; Secondary Market: ats\" role=\"graphics-symbol\" aria-roledescription=\"bar\" d=\"M0.9000000000000021,61.49367088607593h16.2v288.50632911392404h-16.2Z\" fill=\"rgb(49, 104, 142)\"></path></g></g><path class=\"foreground\" aria-hidden=\"true\" d=\"\" display=\"none\"></path></g></g><g class=\"mark-group role-legend\" role=\"graphics-symbol\" aria-roledescription=\"legend\" aria-label=\"Symbol legend titled 'Secondary Market' for fill color with 2 values: ats, otc\"><g transform=\"translate(650,0)\"><path class=\"background\" aria-hidden=\"true\" d=\"M0,0h111v40h-111Z\" pointer-events=\"none\"></path><g><g class=\"mark-group role-legend-entry\"><g transform=\"translate(0,16)\"><path class=\"background\" aria-hidden=\"true\" d=\"M0,0h0v0h0Z\" pointer-events=\"none\"></path><g><g class=\"mark-group role-scope\" role=\"graphics-object\" aria-roledescription=\"group mark container\"><g transform=\"translate(0,0)\"><path class=\"background\" aria-hidden=\"true\" d=\"M0,0h32v11h-32Z\" pointer-events=\"none\" opacity=\"1\"></path><g><g class=\"mark-symbol role-legend-symbol\" pointer-events=\"none\"><path transform=\"translate(6,6)\" d=\"M-5,-5h10v10h-10Z\" fill=\"rgb(49, 104, 142)\" stroke-width=\"1.5\" opacity=\"1\"></path></g><g class=\"mark-text role-legend-label\" pointer-events=\"none\"><text text-anchor=\"start\" transform=\"translate(16,9)\" font-family=\"sans-serif\" font-size=\"10px\" fill=\"#000\" opacity=\"1\">ats</text></g></g><path class=\"foreground\" aria-hidden=\"true\" d=\"\" pointer-events=\"none\" display=\"none\"></path></g><g transform=\"translate(0,13)\"><path class=\"background\" aria-hidden=\"true\" d=\"M0,0h32v11h-32Z\" pointer-events=\"none\" opacity=\"1\"></path><g><g class=\"mark-symbol role-legend-symbol\" pointer-events=\"none\"><path transform=\"translate(6,6)\" d=\"M-5,-5h10v10h-10Z\" fill=\"rgb(53, 183, 121)\" stroke-width=\"1.5\" opacity=\"1\"></path></g><g class=\"mark-text role-legend-label\" pointer-events=\"none\"><text text-anchor=\"start\" transform=\"translate(16,9)\" font-family=\"sans-serif\" font-size=\"10px\" fill=\"#000\" opacity=\"1\">otc</text></g></g><path class=\"foreground\" aria-hidden=\"true\" d=\"\" pointer-events=\"none\" display=\"none\"></path></g></g></g><path class=\"foreground\" aria-hidden=\"true\" d=\"\" pointer-events=\"none\" display=\"none\"></path></g></g><g class=\"mark-text role-legend-title\" pointer-events=\"none\"><text text-anchor=\"start\" transform=\"translate(0,9)\" font-family=\"sans-serif\" font-size=\"11px\" font-weight=\"bold\" fill=\"#000\" opacity=\"1\">Secondary Market</text></g></g><path class=\"foreground\" aria-hidden=\"true\" d=\"\" pointer-events=\"none\" display=\"none\"></path></g></g><g class=\"mark-group role-title\"><g transform=\"translate(360,-102)\"><path class=\"background\" aria-hidden=\"true\" d=\"M0,0h0v0h0Z\" pointer-events=\"none\"></path><g><g class=\"mark-text role-title-text\" role=\"graphics-symbol\" aria-roledescription=\"title\" aria-label=\"Title text 'Number of Issuers by Covenant Category as Percentage of  Number of Issuers of Non-MTN-Bonds Traded - 2019Q3'\" pointer-events=\"none\"><text text-anchor=\"middle\" transform=\"translate(0,11)\" font-family=\"sans-serif\" font-size=\"14px\" font-weight=\"bold\" fill=\"#000\" opacity=\"1\"><tspan>Number of Issuers by Covenant Category as Percentage of</tspan><tspan x=\"0\" dy=\"16\">Number of Issuers of Non-MTN-Bonds Traded - 2019Q3</tspan></text></g></g><path class=\"foreground\" aria-hidden=\"true\" d=\"\" pointer-events=\"none\" display=\"none\"></path></g></g></g><path class=\"foreground\" aria-hidden=\"true\" d=\"\" display=\"none\"></path></g></g></g></svg>\n"
      ],
      "text/plain": [
       "@vlplot(\n",
       "    config={\n",
       "        view={\n",
       "            stroke=\"transparent\"\n",
       "        },\n",
       "        axis={\n",
       "            domainWidth=3\n",
       "        },\n",
       "        opacity={\n",
       "            value=0.7\n",
       "        }\n",
       "    },\n",
       "    title={\n",
       "        text=[\n",
       "            \"Number of Issuers by Covenant Category as Percentage of \",\n",
       "            \"Number of Issuers of Non-MTN-Bonds Traded - 2019Q3\"\n",
       "        ],\n",
       "        align=\"center\",\n",
       "        anchor=\"middle\",\n",
       "        fontSize=14,\n",
       "        offset=20\n",
       "    },\n",
       "    spacing=4.5,\n",
       "    width={\n",
       "        step=18\n",
       "    },\n",
       "    height=350,\n",
       "    mark=\"bar\",\n",
       "    encoding={\n",
       "        column={\n",
       "            type=\"ordinal\",\n",
       "            title=\"Covenant Category\",\n",
       "            sort=\"ascending\",\n",
       "            field=\"cov_cat\"\n",
       "        },\n",
       "        y={\n",
       "            axis={\n",
       "                title=\"% of Total Number of Issuers\",\n",
       "                grid=false,\n",
       "                stack=nothing\n",
       "            },\n",
       "            field=\"perc_total\"\n",
       "        },\n",
       "        x={\n",
       "            type=\"nominal\",\n",
       "            axis={\n",
       "                title=\" \"\n",
       "            },\n",
       "            field=\"sbm\"\n",
       "        },\n",
       "        color={\n",
       "            legend={\n",
       "                title=\"Secondary Market\"\n",
       "            },\n",
       "            scale={\n",
       "                scheme=\"viridis\"\n",
       "            },\n",
       "            field=\"sbm\",\n",
       "            type=\"nominal\"\n",
       "        }\n",
       "    },\n",
       "    data={\n",
       "        values=...\n",
       "    }\n",
       ")"
      ]
     },
     "execution_count": 41,
     "metadata": {},
     "output_type": "execute_result"
    }
   ],
   "source": [
    "main_path = \"/home/artur/BondPricing/bond-data\"\n",
    "scripts_path = string(main_path, \"/data-scripts/plots\")\n",
    "plt_dir = \"plots\"\n",
    "\n",
    "module_path = string(main_path, \"/module\")\n",
    "\n",
    "\n",
    "\n",
    "# Common Parameters {{{1\n",
    "color_scale=\"viridis\"\n",
    "cal_formula=\"\"\n",
    "cal_var=\"\"\n",
    "col_var=\"cov_cat\"\n",
    "col_var_type=\"ordinal\"\n",
    "col_title=\"Covenant Category\"\n",
    "col_sort=\"ascending\"\n",
    "x_var=\"sbm:n\"\n",
    "x_var_type=\"nominal\"\n",
    "x_axis_title=\" \"\n",
    "width_step=18\n",
    "legend_title=\"Secondary Market\"\n",
    "spacing=4.5\n",
    "height=350\n",
    "save_plt=false\n",
    "plt_type = \"cov_cat\"\n",
    "file_ext=\"png\"\n",
    "# }}}1\n",
    "pl = [ ]\n",
    "\n",
    "\n",
    "y_var=\"perc_total\"\n",
    "y_axis_title=\"% of Total Number of Issuers\"\n",
    "title=[string(\"Number of Issuers by Covenant Category as Percentage of \"),\n",
    "              \"Number of Issuers of Non-MTN-Bonds Traded\"]\n",
    "if :period in Symbol.(names(tt))\n",
    "    title[end] = string(title[end], \" - \", tt[1, :period])\n",
    "end\n",
    "\n",
    "include(string(scripts_path, \"/\", \"single_vega_plt_script.jl\"))"
   ]
  },
  {
   "cell_type": "code",
   "execution_count": 87,
   "metadata": {},
   "outputs": [
    {
     "data": {
      "text/html": [
       "<table class=\"data-frame\"><thead><tr><th></th><th>period</th><th>sbm</th><th>rt</th><th>cvt</th><th>variable</th><th>value</th><th>cov_cat</th><th>perc_total</th><th>perc_sbm_rt_total</th></tr><tr><th></th><th>Symbol</th><th>Symbol</th><th>Symbol</th><th>Symbol</th><th>Cat…</th><th>Int64</th><th>Int64</th><th>Float64</th><th>Float64</th></tr></thead><tbody><p>3 rows × 9 columns</p><tr><th>1</th><td>2019Q3</td><td>otc</td><td>ig</td><td>any</td><td>cg1_issuers</td><td>43</td><td>1</td><td>3.53909</td><td>3.53909</td></tr><tr><th>2</th><td>2019Q3</td><td>ats</td><td>ig</td><td>any</td><td>cg1_issuers</td><td>43</td><td>1</td><td>3.53909</td><td>3.65336</td></tr><tr><th>3</th><td>2019Q3</td><td>otc</td><td>ig</td><td>any</td><td>cg2_issuers</td><td>992</td><td>2</td><td>81.6461</td><td>81.6461</td></tr></tbody></table>"
      ],
      "text/latex": [
       "\\begin{tabular}{r|ccccccccc}\n",
       "\t& period & sbm & rt & cvt & variable & value & cov\\_cat & perc\\_total & perc\\_sbm\\_rt\\_total\\\\\n",
       "\t\\hline\n",
       "\t& Symbol & Symbol & Symbol & Symbol & Cat… & Int64 & Int64 & Float64 & Float64\\\\\n",
       "\t\\hline\n",
       "\t1 & 2019Q3 & otc & ig & any & cg1\\_issuers & 43 & 1 & 3.53909 & 3.53909 \\\\\n",
       "\t2 & 2019Q3 & ats & ig & any & cg1\\_issuers & 43 & 1 & 3.53909 & 3.65336 \\\\\n",
       "\t3 & 2019Q3 & otc & ig & any & cg2\\_issuers & 992 & 2 & 81.6461 & 81.6461 \\\\\n",
       "\\end{tabular}\n"
      ],
      "text/plain": [
       "3×9 DataFrame\n",
       "│ Row │ period │ sbm    │ rt     │ cvt    │ variable    │ value │ cov_cat │ perc_total │ perc_sbm_rt_total │\n",
       "│     │ \u001b[90mSymbol\u001b[39m │ \u001b[90mSymbol\u001b[39m │ \u001b[90mSymbol\u001b[39m │ \u001b[90mSymbol\u001b[39m │ \u001b[90mCat…\u001b[39m        │ \u001b[90mInt64\u001b[39m │ \u001b[90mInt64\u001b[39m   │ \u001b[90mFloat64\u001b[39m    │ \u001b[90mFloat64\u001b[39m           │\n",
       "├─────┼────────┼────────┼────────┼────────┼─────────────┼───────┼─────────┼────────────┼───────────────────┤\n",
       "│ 1   │ 2019Q3 │ otc    │ ig     │ any    │ cg1_issuers │ 43    │ 1       │ 3.53909    │ 3.53909           │\n",
       "│ 2   │ 2019Q3 │ ats    │ ig     │ any    │ cg1_issuers │ 43    │ 1       │ 3.53909    │ 3.65336           │\n",
       "│ 3   │ 2019Q3 │ otc    │ ig     │ any    │ cg2_issuers │ 992   │ 2       │ 81.6461    │ 81.6461           │"
      ]
     },
     "execution_count": 87,
     "metadata": {},
     "output_type": "execute_result"
    }
   ],
   "source": [
    "first(tt, 3)"
   ]
  },
  {
   "cell_type": "code",
   "execution_count": 88,
   "metadata": {},
   "outputs": [
    {
     "data": {
      "text/html": [
       "<table class=\"data-frame\"><thead><tr><th></th><th>period</th><th>sbm</th><th>rt</th><th>cvt</th><th>variable</th><th>value</th><th>cov_cat</th><th>perc_total</th><th>perc_sbm_rt_total</th><th>value_diff</th><th>perc_diff</th></tr><tr><th></th><th>Symbol</th><th>Symbol</th><th>Symbol</th><th>Symbol</th><th>Cat…?</th><th>Int64</th><th>Int64</th><th>Float64?</th><th>Float64</th><th>Int64</th><th>Float64</th></tr></thead><tbody><p>4 rows × 11 columns</p><tr><th>1</th><td>2019Q3</td><td>otc</td><td>ig</td><td>any</td><td>cg1_issuers</td><td>43</td><td>1</td><td>3.53909</td><td>3.53909</td><td>0</td><td>0.114261</td></tr><tr><th>2</th><td>2019Q3</td><td>otc</td><td>ig</td><td>any</td><td>cg2_issuers</td><td>992</td><td>2</td><td>81.6461</td><td>81.6461</td><td>-16</td><td>1.27659</td></tr><tr><th>3</th><td>2019Q3</td><td>otc</td><td>ig</td><td>any</td><td>cg3_issuers</td><td>18</td><td>3</td><td>1.48148</td><td>1.48148</td><td>0</td><td>0.0478303</td></tr><tr><th>4</th><td>2019Q3</td><td>otc</td><td>ig</td><td>any</td><td>cg4_issuers</td><td>31</td><td>4</td><td>2.55144</td><td>2.55144</td><td>0</td><td>0.0823745</td></tr></tbody></table>"
      ],
      "text/latex": [
       "\\begin{tabular}{r|ccccccccccc}\n",
       "\t& period & sbm & rt & cvt & variable & value & cov\\_cat & perc\\_total & perc\\_sbm\\_rt\\_total & value\\_diff & perc\\_diff\\\\\n",
       "\t\\hline\n",
       "\t& Symbol & Symbol & Symbol & Symbol & Cat…? & Int64 & Int64 & Float64? & Float64 & Int64 & Float64\\\\\n",
       "\t\\hline\n",
       "\t1 & 2019Q3 & otc & ig & any & cg1\\_issuers & 43 & 1 & 3.53909 & 3.53909 & 0 & 0.114261 \\\\\n",
       "\t2 & 2019Q3 & otc & ig & any & cg2\\_issuers & 992 & 2 & 81.6461 & 81.6461 & -16 & 1.27659 \\\\\n",
       "\t3 & 2019Q3 & otc & ig & any & cg3\\_issuers & 18 & 3 & 1.48148 & 1.48148 & 0 & 0.0478303 \\\\\n",
       "\t4 & 2019Q3 & otc & ig & any & cg4\\_issuers & 31 & 4 & 2.55144 & 2.55144 & 0 & 0.0823745 \\\\\n",
       "\\end{tabular}\n"
      ],
      "text/plain": [
       "4×11 DataFrame\n",
       "│ Row │ period │ sbm    │ rt     │ cvt    │ variable    │ value │ cov_cat │ perc_total │ perc_sbm_rt_total │ value_diff │ perc_diff │\n",
       "│     │ \u001b[90mSymbol\u001b[39m │ \u001b[90mSymbol\u001b[39m │ \u001b[90mSymbol\u001b[39m │ \u001b[90mSymbol\u001b[39m │ \u001b[90mCat…?\u001b[39m       │ \u001b[90mInt64\u001b[39m │ \u001b[90mInt64\u001b[39m   │ \u001b[90mFloat64?\u001b[39m   │ \u001b[90mFloat64\u001b[39m           │ \u001b[90mInt64\u001b[39m      │ \u001b[90mFloat64\u001b[39m   │\n",
       "├─────┼────────┼────────┼────────┼────────┼─────────────┼───────┼─────────┼────────────┼───────────────────┼────────────┼───────────┤\n",
       "│ 1   │ 2019Q3 │ otc    │ ig     │ any    │ cg1_issuers │ 43    │ 1       │ 3.53909    │ 3.53909           │ 0          │ 0.114261  │\n",
       "│ 2   │ 2019Q3 │ otc    │ ig     │ any    │ cg2_issuers │ 992   │ 2       │ 81.6461    │ 81.6461           │ -16        │ 1.27659   │\n",
       "│ 3   │ 2019Q3 │ otc    │ ig     │ any    │ cg3_issuers │ 18    │ 3       │ 1.48148    │ 1.48148           │ 0          │ 0.0478303 │\n",
       "│ 4   │ 2019Q3 │ otc    │ ig     │ any    │ cg4_issuers │ 31    │ 4       │ 2.55144    │ 2.55144           │ 0          │ 0.0823745 │"
      ]
     },
     "execution_count": 88,
     "metadata": {},
     "output_type": "execute_result"
    }
   ],
   "source": [
    "tmp = rt_tt[rt_tt[:, :sbm].==:otc, :]\n",
    "first(tmp, 4)"
   ]
  },
  {
   "cell_type": "code",
   "execution_count": 91,
   "metadata": {},
   "outputs": [
    {
     "data": {
      "application/vnd.vegalite.v4+json": {
       "config": {
        "axis": {
         "domainWidth": 3
        },
        "opacity": {
         "value": 0.7
        },
        "view": {
         "stroke": "transparent"
        }
       },
       "data": {
        "values": [
         {
          "cov_cat": 1,
          "cvt": "any",
          "perc_diff": 0.11426133959882678,
          "perc_sbm_rt_total": 3.539094650205761,
          "perc_total": 3.539094650205761,
          "period": "2019Q3",
          "rt": "ig",
          "sbm": "otc",
          "value": 43,
          "value_diff": 0
         },
         {
          "cov_cat": 2,
          "cvt": "any",
          "perc_diff": 1.276594256864243,
          "perc_sbm_rt_total": 81.64609053497942,
          "perc_total": 81.64609053497942,
          "period": "2019Q3",
          "rt": "ig",
          "sbm": "otc",
          "value": 992,
          "value_diff": -16
         },
         {
          "cov_cat": 3,
          "cvt": "any",
          "perc_diff": 0.04783032820415989,
          "perc_sbm_rt_total": 1.4814814814814816,
          "perc_total": 1.4814814814814816,
          "period": "2019Q3",
          "rt": "ig",
          "sbm": "otc",
          "value": 18,
          "value_diff": 0
         },
         {
          "cov_cat": 4,
          "cvt": "any",
          "perc_diff": 0.08237445412938671,
          "perc_sbm_rt_total": 2.551440329218107,
          "perc_total": 2.551440329218107,
          "period": "2019Q3",
          "rt": "ig",
          "sbm": "otc",
          "value": 31,
          "value_diff": 0
         },
         {
          "cov_cat": 5,
          "cvt": "any",
          "perc_diff": -0.07699004583739785,
          "perc_sbm_rt_total": 0.24691358024691357,
          "perc_total": 0.24691358024691357,
          "period": "2019Q3",
          "rt": "ig",
          "sbm": "otc",
          "value": 3,
          "value_diff": -1
         },
         {
          "cov_cat": 6,
          "cvt": "any",
          "perc_diff": 0.883252742027409,
          "perc_sbm_rt_total": 66.83127572016461,
          "perc_total": 66.83127572016461,
          "period": "2019Q3",
          "rt": "ig",
          "sbm": "otc",
          "value": 812,
          "value_diff": -15
         },
         {
          "cov_cat": 7,
          "cvt": "any",
          "perc_diff": 0.5202597102908584,
          "perc_sbm_rt_total": 95.06172839506173,
          "perc_total": 95.06172839506173,
          "period": "2019Q3",
          "rt": "ig",
          "sbm": "otc",
          "value": 1155,
          "value_diff": -30
         },
         {
          "cov_cat": 8,
          "cvt": "any",
          "perc_diff": 0.6303953344451827,
          "perc_sbm_rt_total": 43.20987654320987,
          "perc_total": 43.20987654320987,
          "period": "2019Q3",
          "rt": "ig",
          "sbm": "otc",
          "value": 525,
          "value_diff": -9
         },
         {
          "cov_cat": 9,
          "cvt": "any",
          "perc_diff": 0.1275475418777603,
          "perc_sbm_rt_total": 3.950617283950617,
          "perc_total": 3.950617283950617,
          "period": "2019Q3",
          "rt": "ig",
          "sbm": "otc",
          "value": 48,
          "value_diff": 0
         },
         {
          "cov_cat": 10,
          "cvt": "any",
          "perc_diff": 0.0690882518504532,
          "perc_sbm_rt_total": 2.139917695473251,
          "perc_total": 2.139917695473251,
          "period": "2019Q3",
          "rt": "ig",
          "sbm": "otc",
          "value": 26,
          "value_diff": 0
         },
         {
          "cov_cat": 11,
          "cvt": "any",
          "perc_diff": 0.38718790536027825,
          "perc_sbm_rt_total": 83.04526748971193,
          "perc_total": 83.04526748971193,
          "period": "2019Q3",
          "rt": "ig",
          "sbm": "otc",
          "value": 1009,
          "value_diff": -27
         },
         {
          "cov_cat": 12,
          "cvt": "any",
          "perc_diff": 0.3169808154231788,
          "perc_sbm_rt_total": 38.76543209876544,
          "perc_total": 38.76543209876544,
          "period": "2019Q3",
          "rt": "ig",
          "sbm": "otc",
          "value": 471,
          "value_diff": -11
         },
         {
          "cov_cat": 13,
          "cvt": "any",
          "perc_diff": 0.2943942715489811,
          "perc_sbm_rt_total": 88.06584362139918,
          "perc_total": 88.06584362139918,
          "period": "2019Q3",
          "rt": "ig",
          "sbm": "otc",
          "value": 1070,
          "value_diff": -30
         },
         {
          "cov_cat": 14,
          "cvt": "any",
          "perc_diff": -0.02643254979703613,
          "perc_sbm_rt_total": 4.444444444444445,
          "perc_total": 4.444444444444445,
          "period": "2019Q3",
          "rt": "ig",
          "sbm": "otc",
          "value": 54,
          "value_diff": -2
         },
         {
          "cov_cat": 15,
          "cvt": "any",
          "perc_diff": 0.2678218669911274,
          "perc_sbm_rt_total": 87.24279835390946,
          "perc_total": 87.24279835390946,
          "period": "2019Q3",
          "rt": "ig",
          "sbm": "otc",
          "value": 1060,
          "value_diff": -30
         },
         {
          "cov_cat": 1,
          "cvt": "any",
          "perc_diff": 2.052289815447711,
          "perc_sbm_rt_total": 25.97402597402597,
          "perc_total": 25.97402597402597,
          "period": "2019Q3",
          "rt": "hy",
          "sbm": "otc",
          "value": 220,
          "value_diff": -7
         },
         {
          "cov_cat": 2,
          "cvt": "any",
          "perc_diff": 4.546541974771628,
          "perc_sbm_rt_total": 71.900826446281,
          "perc_total": 71.900826446281,
          "period": "2019Q3",
          "rt": "hy",
          "sbm": "otc",
          "value": 609,
          "value_diff": -28
         },
         {
          "cov_cat": 3,
          "cvt": "any",
          "perc_diff": 0.05406077176412105,
          "perc_sbm_rt_total": 0.47225501770956313,
          "perc_total": 0.47225501770956313,
          "period": "2019Q3",
          "rt": "hy",
          "sbm": "otc",
          "value": 4,
          "value_diff": 0
         },
         {
          "cov_cat": 4,
          "cvt": "any",
          "perc_diff": -0.023457403840179025,
          "perc_sbm_rt_total": 0.9445100354191263,
          "perc_total": 0.9445100354191263,
          "period": "2019Q3",
          "rt": "hy",
          "sbm": "otc",
          "value": 8,
          "value_diff": -1
         },
         {
          "cov_cat": 5,
          "cvt": "any",
          "perc_diff": 0.05406077176412105,
          "perc_sbm_rt_total": 0.47225501770956313,
          "perc_total": 0.47225501770956313,
          "period": "2019Q3",
          "rt": "hy",
          "sbm": "otc",
          "value": 4,
          "value_diff": 0
         },
         {
          "cov_cat": 6,
          "cvt": "any",
          "perc_diff": 5.0947616976325065,
          "perc_sbm_rt_total": 61.747343565525384,
          "perc_total": 61.747343565525384,
          "period": "2019Q3",
          "rt": "hy",
          "sbm": "otc",
          "value": 523,
          "value_diff": -15
         },
         {
          "cov_cat": 7,
          "cvt": "any",
          "perc_diff": 0.006369228857252551,
          "perc_sbm_rt_total": 97.75678866587958,
          "perc_total": 97.75678866587958,
          "period": "2019Q3",
          "rt": "hy",
          "sbm": "otc",
          "value": 828,
          "value_diff": -85
         },
         {
          "cov_cat": 8,
          "cvt": "any",
          "perc_diff": 2.913689181631767,
          "perc_sbm_rt_total": 32.349468713105075,
          "perc_total": 32.349468713105075,
          "period": "2019Q3",
          "rt": "hy",
          "sbm": "otc",
          "value": 274,
          "value_diff": -6
         },
         {
          "cov_cat": 9,
          "cvt": "any",
          "perc_diff": 1.568539116386006,
          "perc_sbm_rt_total": 18.299881936245573,
          "perc_total": 18.299881936245573,
          "period": "2019Q3",
          "rt": "hy",
          "sbm": "otc",
          "value": 155,
          "value_diff": -4
         },
         {
          "cov_cat": 10,
          "cvt": "any",
          "perc_diff": 0.3108494376436961,
          "perc_sbm_rt_total": 2.715466351829988,
          "perc_total": 2.715466351829988,
          "period": "2019Q3",
          "rt": "hy",
          "sbm": "otc",
          "value": 23,
          "value_diff": 0
         },
         {
          "cov_cat": 11,
          "cvt": "any",
          "perc_diff": 0.41306779345056555,
          "perc_sbm_rt_total": 88.66587957497049,
          "perc_total": 88.66587957497049,
          "period": "2019Q3",
          "rt": "hy",
          "sbm": "otc",
          "value": 751,
          "value_diff": -74
         },
         {
          "cov_cat": 12,
          "cvt": "any",
          "perc_diff": 1.104828186167893,
          "perc_sbm_rt_total": 69.42148760330579,
          "perc_total": 69.42148760330579,
          "period": "2019Q3",
          "rt": "hy",
          "sbm": "otc",
          "value": 588,
          "value_diff": -52
         },
         {
          "cov_cat": 13,
          "cvt": "any",
          "perc_diff": 1.7415957248493186,
          "perc_sbm_rt_total": 84.17945690672963,
          "perc_total": 84.17945690672963,
          "period": "2019Q3",
          "rt": "hy",
          "sbm": "otc",
          "value": 713,
          "value_diff": -60
         },
         {
          "cov_cat": 14,
          "cvt": "any",
          "perc_diff": 2.339681849251228,
          "perc_sbm_rt_total": 29.634002361275087,
          "perc_total": 29.634002361275087,
          "period": "2019Q3",
          "rt": "hy",
          "sbm": "otc",
          "value": 251,
          "value_diff": -8
         },
         {
          "cov_cat": 15,
          "cvt": "any",
          "perc_diff": 1.6875349530852048,
          "perc_sbm_rt_total": 83.70720188902007,
          "perc_total": 83.70720188902007,
          "period": "2019Q3",
          "rt": "hy",
          "sbm": "otc",
          "value": 709,
          "value_diff": -60
         }
        ]
       },
       "encoding": {
        "color": {
         "field": "rt",
         "legend": {
          "title": "Rating"
         },
         "scale": {
          "scheme": "viridis"
         },
         "type": "nominal"
        },
        "column": {
         "field": "cov_cat",
         "sort": "ascending",
         "title": "Covenant Category",
         "type": "ordinal"
        },
        "x": {
         "axis": {
          "title": " "
         },
         "field": "rt",
         "type": "nominal"
        },
        "y": {
         "axis": {
          "grid": false,
          "stack": null,
          "title": ""
         },
         "field": "perc_diff",
         "type": "quantitative"
        }
       },
       "height": 350,
       "mark": "bar",
       "spacing": 4.5,
       "title": {
        "align": "center",
        "anchor": "middle",
        "fontSize": 14,
        "offset": 20,
        "text": [
         "smth smth"
        ]
       },
       "width": {
        "step": 18
       }
      },
      "image/png": "[encoded data removed]",
      "image/svg+xml": [
       "<?xml version=\"1.0\" encoding=\"utf-8\"?>\n",
       "<!DOCTYPE svg PUBLIC \"-//W3C//DTD SVG 1.1//EN\" \"http://www.w3.org/Graphics/SVG/1.1/DTD/svg11.dtd\">\n",
       "<svg class=\"marks\" width=\"727\" height=\"481\" viewBox=\"0 0 727 481\" version=\"1.1\" xmlns=\"http://www.w3.org/2000/svg\" xmlns:xlink=\"http://www.w3.org/1999/xlink\"><rect width=\"727\" height=\"481\" fill=\"white\"></rect><g fill=\"none\" stroke-miterlimit=\"10\" transform=\"translate(32,91)\"><g class=\"mark-group role-frame root\" role=\"graphics-object\" aria-roledescription=\"group mark container\"><g transform=\"translate(0,0)\"><path class=\"background\" aria-hidden=\"true\" d=\"M0,0h0v0h0Z\"></path><g><g class=\"mark-group role-column-title column-title\" role=\"graphics-object\" aria-roledescription=\"group mark container\"><g transform=\"translate(316,-31)\"><path class=\"background\" aria-hidden=\"true\" d=\"M0,0h0v0h0Z\"></path><g><g class=\"mark-group role-title\"><g transform=\"translate(0,-21)\"><path class=\"background\" aria-hidden=\"true\" d=\"M0,0h0v0h0Z\" pointer-events=\"none\"></path><g><g class=\"mark-text role-title-text\" role=\"graphics-symbol\" aria-roledescription=\"title\" aria-label=\"Title text 'Covenant Category'\" pointer-events=\"none\"><text text-anchor=\"middle\" transform=\"translate(0,9)\" font-family=\"sans-serif\" font-size=\"11px\" font-weight=\"bold\" fill=\"#000\" opacity=\"1\">Covenant Category</text></g></g><path class=\"foreground\" aria-hidden=\"true\" d=\"\" pointer-events=\"none\" display=\"none\"></path></g></g></g><path class=\"foreground\" aria-hidden=\"true\" d=\"\" display=\"none\"></path></g></g><g class=\"mark-group role-row-header row_header\" role=\"graphics-object\" aria-roledescription=\"group mark container\"><g transform=\"translate(-1,0)\"><path class=\"background\" aria-hidden=\"true\" d=\"M0,0h0v350h0Z\"></path><g><g class=\"mark-group role-axis\" role=\"graphics-symbol\" aria-roledescription=\"axis\" aria-label=\"Y-axis for a linear scale with values from -1 to 6\"><g transform=\"translate(0.5,0.5)\"><path class=\"background\" aria-hidden=\"true\" d=\"M0,0h0v0h0Z\" pointer-events=\"none\"></path><g><g class=\"mark-rule role-axis-tick\" pointer-events=\"none\"><line transform=\"translate(0,350)\" x2=\"-5\" y2=\"0\" stroke=\"#888\" stroke-width=\"1\" opacity=\"1\"></line><line transform=\"translate(0,321)\" x2=\"-5\" y2=\"0\" stroke=\"#888\" stroke-width=\"1\" opacity=\"1\"></line><line transform=\"translate(0,292)\" x2=\"-5\" y2=\"0\" stroke=\"#888\" stroke-width=\"1\" opacity=\"1\"></line><line transform=\"translate(0,263)\" x2=\"-5\" y2=\"0\" stroke=\"#888\" stroke-width=\"1\" opacity=\"1\"></line><line transform=\"translate(0,233)\" x2=\"-5\" y2=\"0\" stroke=\"#888\" stroke-width=\"1\" opacity=\"1\"></line><line transform=\"translate(0,204)\" x2=\"-5\" y2=\"0\" stroke=\"#888\" stroke-width=\"1\" opacity=\"1\"></line><line transform=\"translate(0,175)\" x2=\"-5\" y2=\"0\" stroke=\"#888\" stroke-width=\"1\" opacity=\"1\"></line><line transform=\"translate(0,146)\" x2=\"-5\" y2=\"0\" stroke=\"#888\" stroke-width=\"1\" opacity=\"1\"></line><line transform=\"translate(0,117)\" x2=\"-5\" y2=\"0\" stroke=\"#888\" stroke-width=\"1\" opacity=\"1\"></line><line transform=\"translate(0,88)\" x2=\"-5\" y2=\"0\" stroke=\"#888\" stroke-width=\"1\" opacity=\"1\"></line><line transform=\"translate(0,58)\" x2=\"-5\" y2=\"0\" stroke=\"#888\" stroke-width=\"1\" opacity=\"1\"></line><line transform=\"translate(0,29)\" x2=\"-5\" y2=\"0\" stroke=\"#888\" stroke-width=\"1\" opacity=\"1\"></line><line transform=\"translate(0,0)\" x2=\"-5\" y2=\"0\" stroke=\"#888\" stroke-width=\"1\" opacity=\"1\"></line></g><g class=\"mark-text role-axis-label\" pointer-events=\"none\"><text text-anchor=\"end\" transform=\"translate(-7,353)\" font-family=\"sans-serif\" font-size=\"10px\" fill=\"#000\" opacity=\"1\">-0.5</text><text text-anchor=\"end\" transform=\"translate(-7,323.8333333333333)\" font-family=\"sans-serif\" font-size=\"10px\" fill=\"#000\" opacity=\"1\">0.0</text><text text-anchor=\"end\" transform=\"translate(-7,294.6666666666667)\" font-family=\"sans-serif\" font-size=\"10px\" fill=\"#000\" opacity=\"1\">0.5</text><text text-anchor=\"end\" transform=\"translate(-7,265.5)\" font-family=\"sans-serif\" font-size=\"10px\" fill=\"#000\" opacity=\"1\">1.0</text><text text-anchor=\"end\" transform=\"translate(-7,236.33333333333337)\" font-family=\"sans-serif\" font-size=\"10px\" fill=\"#000\" opacity=\"1\">1.5</text><text text-anchor=\"end\" transform=\"translate(-7,207.16666666666663)\" font-family=\"sans-serif\" font-size=\"10px\" fill=\"#000\" opacity=\"1\">2.0</text><text text-anchor=\"end\" transform=\"translate(-7,178)\" font-family=\"sans-serif\" font-size=\"10px\" fill=\"#000\" opacity=\"1\">2.5</text><text text-anchor=\"end\" transform=\"translate(-7,148.83333333333331)\" font-family=\"sans-serif\" font-size=\"10px\" fill=\"#000\" opacity=\"1\">3.0</text><text text-anchor=\"end\" transform=\"translate(-7,119.66666666666669)\" font-family=\"sans-serif\" font-size=\"10px\" fill=\"#000\" opacity=\"1\">3.5</text><text text-anchor=\"end\" transform=\"translate(-7,90.5)\" font-family=\"sans-serif\" font-size=\"10px\" fill=\"#000\" opacity=\"1\">4.0</text><text text-anchor=\"end\" transform=\"translate(-7,61.33333333333332)\" font-family=\"sans-serif\" font-size=\"10px\" fill=\"#000\" opacity=\"1\">4.5</text><text text-anchor=\"end\" transform=\"translate(-7,32.16666666666668)\" font-family=\"sans-serif\" font-size=\"10px\" fill=\"#000\" opacity=\"1\">5.0</text><text text-anchor=\"end\" transform=\"translate(-7,3)\" font-family=\"sans-serif\" font-size=\"10px\" fill=\"#000\" opacity=\"1\">5.5</text></g><g class=\"mark-rule role-axis-domain\" pointer-events=\"none\"><line transform=\"translate(0,350)\" x2=\"0\" y2=\"-350\" stroke=\"#888\" stroke-width=\"3\" opacity=\"1\"></line></g></g><path class=\"foreground\" aria-hidden=\"true\" d=\"\" pointer-events=\"none\" display=\"none\"></path></g></g></g><path class=\"foreground\" aria-hidden=\"true\" d=\"\" display=\"none\"></path></g></g><g class=\"mark-group role-column-header column_header\" role=\"graphics-object\" aria-roledescription=\"group mark container\"><g transform=\"translate(0,-1)\"><path class=\"background\" aria-hidden=\"true\" d=\"M0,0h36v0h-36Z\"></path><g><g class=\"mark-group role-title\"><g transform=\"translate(18,-20)\"><path class=\"background\" aria-hidden=\"true\" d=\"M0,0h0v0h0Z\" pointer-events=\"none\"></path><g><g class=\"mark-text role-title-text\" role=\"graphics-symbol\" aria-roledescription=\"title\" aria-label=\"Title text '1'\" pointer-events=\"none\"><text text-anchor=\"middle\" transform=\"translate(0,8)\" font-family=\"sans-serif\" font-size=\"10px\" fill=\"#000\" opacity=\"1\">1</text></g></g><path class=\"foreground\" aria-hidden=\"true\" d=\"\" pointer-events=\"none\" display=\"none\"></path></g></g></g><path class=\"foreground\" aria-hidden=\"true\" d=\"\" display=\"none\"></path></g><g transform=\"translate(42.5,-1)\"><path class=\"background\" aria-hidden=\"true\" d=\"M0,0h36v0h-36Z\"></path><g><g class=\"mark-group role-title\"><g transform=\"translate(18,-20)\"><path class=\"background\" aria-hidden=\"true\" d=\"M0,0h0v0h0Z\" pointer-events=\"none\"></path><g><g class=\"mark-text role-title-text\" role=\"graphics-symbol\" aria-roledescription=\"title\" aria-label=\"Title text '2'\" pointer-events=\"none\"><text text-anchor=\"middle\" transform=\"translate(0,8)\" font-family=\"sans-serif\" font-size=\"10px\" fill=\"#000\" opacity=\"1\">2</text></g></g><path class=\"foreground\" aria-hidden=\"true\" d=\"\" pointer-events=\"none\" display=\"none\"></path></g></g></g><path class=\"foreground\" aria-hidden=\"true\" d=\"\" display=\"none\"></path></g><g transform=\"translate(85,-1)\"><path class=\"background\" aria-hidden=\"true\" d=\"M0,0h36v0h-36Z\"></path><g><g class=\"mark-group role-title\"><g transform=\"translate(18,-20)\"><path class=\"background\" aria-hidden=\"true\" d=\"M0,0h0v0h0Z\" pointer-events=\"none\"></path><g><g class=\"mark-text role-title-text\" role=\"graphics-symbol\" aria-roledescription=\"title\" aria-label=\"Title text '3'\" pointer-events=\"none\"><text text-anchor=\"middle\" transform=\"translate(0,8)\" font-family=\"sans-serif\" font-size=\"10px\" fill=\"#000\" opacity=\"1\">3</text></g></g><path class=\"foreground\" aria-hidden=\"true\" d=\"\" pointer-events=\"none\" display=\"none\"></path></g></g></g><path class=\"foreground\" aria-hidden=\"true\" d=\"\" display=\"none\"></path></g><g transform=\"translate(127.5,-1)\"><path class=\"background\" aria-hidden=\"true\" d=\"M0,0h36v0h-36Z\"></path><g><g class=\"mark-group role-title\"><g transform=\"translate(18,-20)\"><path class=\"background\" aria-hidden=\"true\" d=\"M0,0h0v0h0Z\" pointer-events=\"none\"></path><g><g class=\"mark-text role-title-text\" role=\"graphics-symbol\" aria-roledescription=\"title\" aria-label=\"Title text '4'\" pointer-events=\"none\"><text text-anchor=\"middle\" transform=\"translate(0,8)\" font-family=\"sans-serif\" font-size=\"10px\" fill=\"#000\" opacity=\"1\">4</text></g></g><path class=\"foreground\" aria-hidden=\"true\" d=\"\" pointer-events=\"none\" display=\"none\"></path></g></g></g><path class=\"foreground\" aria-hidden=\"true\" d=\"\" display=\"none\"></path></g><g transform=\"translate(170,-1)\"><path class=\"background\" aria-hidden=\"true\" d=\"M0,0h36v0h-36Z\"></path><g><g class=\"mark-group role-title\"><g transform=\"translate(18,-20)\"><path class=\"background\" aria-hidden=\"true\" d=\"M0,0h0v0h0Z\" pointer-events=\"none\"></path><g><g class=\"mark-text role-title-text\" role=\"graphics-symbol\" aria-roledescription=\"title\" aria-label=\"Title text '5'\" pointer-events=\"none\"><text text-anchor=\"middle\" transform=\"translate(0,8)\" font-family=\"sans-serif\" font-size=\"10px\" fill=\"#000\" opacity=\"1\">5</text></g></g><path class=\"foreground\" aria-hidden=\"true\" d=\"\" pointer-events=\"none\" display=\"none\"></path></g></g></g><path class=\"foreground\" aria-hidden=\"true\" d=\"\" display=\"none\"></path></g><g transform=\"translate(212.5,-1)\"><path class=\"background\" aria-hidden=\"true\" d=\"M0,0h36v0h-36Z\"></path><g><g class=\"mark-group role-title\"><g transform=\"translate(18,-20)\"><path class=\"background\" aria-hidden=\"true\" d=\"M0,0h0v0h0Z\" pointer-events=\"none\"></path><g><g class=\"mark-text role-title-text\" role=\"graphics-symbol\" aria-roledescription=\"title\" aria-label=\"Title text '6'\" pointer-events=\"none\"><text text-anchor=\"middle\" transform=\"translate(0,8)\" font-family=\"sans-serif\" font-size=\"10px\" fill=\"#000\" opacity=\"1\">6</text></g></g><path class=\"foreground\" aria-hidden=\"true\" d=\"\" pointer-events=\"none\" display=\"none\"></path></g></g></g><path class=\"foreground\" aria-hidden=\"true\" d=\"\" display=\"none\"></path></g><g transform=\"translate(255,-1)\"><path class=\"background\" aria-hidden=\"true\" d=\"M0,0h36v0h-36Z\"></path><g><g class=\"mark-group role-title\"><g transform=\"translate(18,-20)\"><path class=\"background\" aria-hidden=\"true\" d=\"M0,0h0v0h0Z\" pointer-events=\"none\"></path><g><g class=\"mark-text role-title-text\" role=\"graphics-symbol\" aria-roledescription=\"title\" aria-label=\"Title text '7'\" pointer-events=\"none\"><text text-anchor=\"middle\" transform=\"translate(0,8)\" font-family=\"sans-serif\" font-size=\"10px\" fill=\"#000\" opacity=\"1\">7</text></g></g><path class=\"foreground\" aria-hidden=\"true\" d=\"\" pointer-events=\"none\" display=\"none\"></path></g></g></g><path class=\"foreground\" aria-hidden=\"true\" d=\"\" display=\"none\"></path></g><g transform=\"translate(297.5,-1)\"><path class=\"background\" aria-hidden=\"true\" d=\"M0,0h36v0h-36Z\"></path><g><g class=\"mark-group role-title\"><g transform=\"translate(18,-20)\"><path class=\"background\" aria-hidden=\"true\" d=\"M0,0h0v0h0Z\" pointer-events=\"none\"></path><g><g class=\"mark-text role-title-text\" role=\"graphics-symbol\" aria-roledescription=\"title\" aria-label=\"Title text '8'\" pointer-events=\"none\"><text text-anchor=\"middle\" transform=\"translate(0,8)\" font-family=\"sans-serif\" font-size=\"10px\" fill=\"#000\" opacity=\"1\">8</text></g></g><path class=\"foreground\" aria-hidden=\"true\" d=\"\" pointer-events=\"none\" display=\"none\"></path></g></g></g><path class=\"foreground\" aria-hidden=\"true\" d=\"\" display=\"none\"></path></g><g transform=\"translate(340,-1)\"><path class=\"background\" aria-hidden=\"true\" d=\"M0,0h36v0h-36Z\"></path><g><g class=\"mark-group role-title\"><g transform=\"translate(18,-20)\"><path class=\"background\" aria-hidden=\"true\" d=\"M0,0h0v0h0Z\" pointer-events=\"none\"></path><g><g class=\"mark-text role-title-text\" role=\"graphics-symbol\" aria-roledescription=\"title\" aria-label=\"Title text '9'\" pointer-events=\"none\"><text text-anchor=\"middle\" transform=\"translate(0,8)\" font-family=\"sans-serif\" font-size=\"10px\" fill=\"#000\" opacity=\"1\">9</text></g></g><path class=\"foreground\" aria-hidden=\"true\" d=\"\" pointer-events=\"none\" display=\"none\"></path></g></g></g><path class=\"foreground\" aria-hidden=\"true\" d=\"\" display=\"none\"></path></g><g transform=\"translate(382.5,-1)\"><path class=\"background\" aria-hidden=\"true\" d=\"M0,0h36v0h-36Z\"></path><g><g class=\"mark-group role-title\"><g transform=\"translate(18,-20)\"><path class=\"background\" aria-hidden=\"true\" d=\"M0,0h0v0h0Z\" pointer-events=\"none\"></path><g><g class=\"mark-text role-title-text\" role=\"graphics-symbol\" aria-roledescription=\"title\" aria-label=\"Title text '10'\" pointer-events=\"none\"><text text-anchor=\"middle\" transform=\"translate(0,8)\" font-family=\"sans-serif\" font-size=\"10px\" fill=\"#000\" opacity=\"1\">10</text></g></g><path class=\"foreground\" aria-hidden=\"true\" d=\"\" pointer-events=\"none\" display=\"none\"></path></g></g></g><path class=\"foreground\" aria-hidden=\"true\" d=\"\" display=\"none\"></path></g><g transform=\"translate(425,-1)\"><path class=\"background\" aria-hidden=\"true\" d=\"M0,0h36v0h-36Z\"></path><g><g class=\"mark-group role-title\"><g transform=\"translate(18,-20)\"><path class=\"background\" aria-hidden=\"true\" d=\"M0,0h0v0h0Z\" pointer-events=\"none\"></path><g><g class=\"mark-text role-title-text\" role=\"graphics-symbol\" aria-roledescription=\"title\" aria-label=\"Title text '11'\" pointer-events=\"none\"><text text-anchor=\"middle\" transform=\"translate(0,8)\" font-family=\"sans-serif\" font-size=\"10px\" fill=\"#000\" opacity=\"1\">11</text></g></g><path class=\"foreground\" aria-hidden=\"true\" d=\"\" pointer-events=\"none\" display=\"none\"></path></g></g></g><path class=\"foreground\" aria-hidden=\"true\" d=\"\" display=\"none\"></path></g><g transform=\"translate(467.5,-1)\"><path class=\"background\" aria-hidden=\"true\" d=\"M0,0h36v0h-36Z\"></path><g><g class=\"mark-group role-title\"><g transform=\"translate(18,-20)\"><path class=\"background\" aria-hidden=\"true\" d=\"M0,0h0v0h0Z\" pointer-events=\"none\"></path><g><g class=\"mark-text role-title-text\" role=\"graphics-symbol\" aria-roledescription=\"title\" aria-label=\"Title text '12'\" pointer-events=\"none\"><text text-anchor=\"middle\" transform=\"translate(0,8)\" font-family=\"sans-serif\" font-size=\"10px\" fill=\"#000\" opacity=\"1\">12</text></g></g><path class=\"foreground\" aria-hidden=\"true\" d=\"\" pointer-events=\"none\" display=\"none\"></path></g></g></g><path class=\"foreground\" aria-hidden=\"true\" d=\"\" display=\"none\"></path></g><g transform=\"translate(510,-1)\"><path class=\"background\" aria-hidden=\"true\" d=\"M0,0h36v0h-36Z\"></path><g><g class=\"mark-group role-title\"><g transform=\"translate(18,-20)\"><path class=\"background\" aria-hidden=\"true\" d=\"M0,0h0v0h0Z\" pointer-events=\"none\"></path><g><g class=\"mark-text role-title-text\" role=\"graphics-symbol\" aria-roledescription=\"title\" aria-label=\"Title text '13'\" pointer-events=\"none\"><text text-anchor=\"middle\" transform=\"translate(0,8)\" font-family=\"sans-serif\" font-size=\"10px\" fill=\"#000\" opacity=\"1\">13</text></g></g><path class=\"foreground\" aria-hidden=\"true\" d=\"\" pointer-events=\"none\" display=\"none\"></path></g></g></g><path class=\"foreground\" aria-hidden=\"true\" d=\"\" display=\"none\"></path></g><g transform=\"translate(552.5,-1)\"><path class=\"background\" aria-hidden=\"true\" d=\"M0,0h36v0h-36Z\"></path><g><g class=\"mark-group role-title\"><g transform=\"translate(18,-20)\"><path class=\"background\" aria-hidden=\"true\" d=\"M0,0h0v0h0Z\" pointer-events=\"none\"></path><g><g class=\"mark-text role-title-text\" role=\"graphics-symbol\" aria-roledescription=\"title\" aria-label=\"Title text '14'\" pointer-events=\"none\"><text text-anchor=\"middle\" transform=\"translate(0,8)\" font-family=\"sans-serif\" font-size=\"10px\" fill=\"#000\" opacity=\"1\">14</text></g></g><path class=\"foreground\" aria-hidden=\"true\" d=\"\" pointer-events=\"none\" display=\"none\"></path></g></g></g><path class=\"foreground\" aria-hidden=\"true\" d=\"\" display=\"none\"></path></g><g transform=\"translate(595,-1)\"><path class=\"background\" aria-hidden=\"true\" d=\"M0,0h36v0h-36Z\"></path><g><g class=\"mark-group role-title\"><g transform=\"translate(18,-20)\"><path class=\"background\" aria-hidden=\"true\" d=\"M0,0h0v0h0Z\" pointer-events=\"none\"></path><g><g class=\"mark-text role-title-text\" role=\"graphics-symbol\" aria-roledescription=\"title\" aria-label=\"Title text '15'\" pointer-events=\"none\"><text text-anchor=\"middle\" transform=\"translate(0,8)\" font-family=\"sans-serif\" font-size=\"10px\" fill=\"#000\" opacity=\"1\">15</text></g></g><path class=\"foreground\" aria-hidden=\"true\" d=\"\" pointer-events=\"none\" display=\"none\"></path></g></g></g><path class=\"foreground\" aria-hidden=\"true\" d=\"\" display=\"none\"></path></g></g><g class=\"mark-group role-column-footer column_footer\" role=\"graphics-object\" aria-roledescription=\"group mark container\"><g transform=\"translate(0,351)\"><path class=\"background\" aria-hidden=\"true\" d=\"M0,0h36v0h-36Z\"></path><g><g class=\"mark-group role-axis\" role=\"graphics-symbol\" aria-roledescription=\"axis\" aria-label=\"X-axis titled ' ' for a discrete scale with 2 values: hy, ig\"><g transform=\"translate(0.5,0.5)\"><path class=\"background\" aria-hidden=\"true\" d=\"M0,0h0v0h0Z\" pointer-events=\"none\"></path><g><g class=\"mark-rule role-axis-tick\" pointer-events=\"none\"><line transform=\"translate(9,0)\" x2=\"0\" y2=\"5\" stroke=\"#888\" stroke-width=\"1\" opacity=\"1\"></line><line transform=\"translate(27,0)\" x2=\"0\" y2=\"5\" stroke=\"#888\" stroke-width=\"1\" opacity=\"1\"></line></g><g class=\"mark-text role-axis-label\" pointer-events=\"none\"><text text-anchor=\"end\" transform=\"translate(8.500000000000002,7) rotate(270) translate(0,3)\" font-family=\"sans-serif\" font-size=\"10px\" fill=\"#000\" opacity=\"1\">hy</text><text text-anchor=\"end\" transform=\"translate(26.5,7) rotate(270) translate(0,3)\" font-family=\"sans-serif\" font-size=\"10px\" fill=\"#000\" opacity=\"1\">ig</text></g><g class=\"mark-rule role-axis-domain\" pointer-events=\"none\"><line transform=\"translate(0,0)\" x2=\"36\" y2=\"0\" stroke=\"#888\" stroke-width=\"3\" opacity=\"1\"></line></g><g class=\"mark-text role-axis-title\" pointer-events=\"none\"><text text-anchor=\"middle\" transform=\"translate(18,32)\" font-family=\"sans-serif\" font-size=\"11px\" font-weight=\"bold\" fill=\"#000\" opacity=\"1\"></text></g></g><path class=\"foreground\" aria-hidden=\"true\" d=\"\" pointer-events=\"none\" display=\"none\"></path></g></g></g><path class=\"foreground\" aria-hidden=\"true\" d=\"\" display=\"none\"></path></g><g transform=\"translate(42.5,351)\"><path class=\"background\" aria-hidden=\"true\" d=\"M0,0h36v0h-36Z\"></path><g><g class=\"mark-group role-axis\" role=\"graphics-symbol\" aria-roledescription=\"axis\" aria-label=\"X-axis titled ' ' for a discrete scale with 2 values: hy, ig\"><g transform=\"translate(0.5,0.5)\"><path class=\"background\" aria-hidden=\"true\" d=\"M0,0h0v0h0Z\" pointer-events=\"none\"></path><g><g class=\"mark-rule role-axis-tick\" pointer-events=\"none\"><line transform=\"translate(9,0)\" x2=\"0\" y2=\"5\" stroke=\"#888\" stroke-width=\"1\" opacity=\"1\"></line><line transform=\"translate(27,0)\" x2=\"0\" y2=\"5\" stroke=\"#888\" stroke-width=\"1\" opacity=\"1\"></line></g><g class=\"mark-text role-axis-label\" pointer-events=\"none\"><text text-anchor=\"end\" transform=\"translate(8.500000000000002,7) rotate(270) translate(0,3)\" font-family=\"sans-serif\" font-size=\"10px\" fill=\"#000\" opacity=\"1\">hy</text><text text-anchor=\"end\" transform=\"translate(26.5,7) rotate(270) translate(0,3)\" font-family=\"sans-serif\" font-size=\"10px\" fill=\"#000\" opacity=\"1\">ig</text></g><g class=\"mark-rule role-axis-domain\" pointer-events=\"none\"><line transform=\"translate(0,0)\" x2=\"36\" y2=\"0\" stroke=\"#888\" stroke-width=\"3\" opacity=\"1\"></line></g><g class=\"mark-text role-axis-title\" pointer-events=\"none\"><text text-anchor=\"middle\" transform=\"translate(18,32)\" font-family=\"sans-serif\" font-size=\"11px\" font-weight=\"bold\" fill=\"#000\" opacity=\"1\"></text></g></g><path class=\"foreground\" aria-hidden=\"true\" d=\"\" pointer-events=\"none\" display=\"none\"></path></g></g></g><path class=\"foreground\" aria-hidden=\"true\" d=\"\" display=\"none\"></path></g><g transform=\"translate(85,351)\"><path class=\"background\" aria-hidden=\"true\" d=\"M0,0h36v0h-36Z\"></path><g><g class=\"mark-group role-axis\" role=\"graphics-symbol\" aria-roledescription=\"axis\" aria-label=\"X-axis titled ' ' for a discrete scale with 2 values: hy, ig\"><g transform=\"translate(0.5,0.5)\"><path class=\"background\" aria-hidden=\"true\" d=\"M0,0h0v0h0Z\" pointer-events=\"none\"></path><g><g class=\"mark-rule role-axis-tick\" pointer-events=\"none\"><line transform=\"translate(9,0)\" x2=\"0\" y2=\"5\" stroke=\"#888\" stroke-width=\"1\" opacity=\"1\"></line><line transform=\"translate(27,0)\" x2=\"0\" y2=\"5\" stroke=\"#888\" stroke-width=\"1\" opacity=\"1\"></line></g><g class=\"mark-text role-axis-label\" pointer-events=\"none\"><text text-anchor=\"end\" transform=\"translate(8.500000000000002,7) rotate(270) translate(0,3)\" font-family=\"sans-serif\" font-size=\"10px\" fill=\"#000\" opacity=\"1\">hy</text><text text-anchor=\"end\" transform=\"translate(26.5,7) rotate(270) translate(0,3)\" font-family=\"sans-serif\" font-size=\"10px\" fill=\"#000\" opacity=\"1\">ig</text></g><g class=\"mark-rule role-axis-domain\" pointer-events=\"none\"><line transform=\"translate(0,0)\" x2=\"36\" y2=\"0\" stroke=\"#888\" stroke-width=\"3\" opacity=\"1\"></line></g><g class=\"mark-text role-axis-title\" pointer-events=\"none\"><text text-anchor=\"middle\" transform=\"translate(18,32)\" font-family=\"sans-serif\" font-size=\"11px\" font-weight=\"bold\" fill=\"#000\" opacity=\"1\"></text></g></g><path class=\"foreground\" aria-hidden=\"true\" d=\"\" pointer-events=\"none\" display=\"none\"></path></g></g></g><path class=\"foreground\" aria-hidden=\"true\" d=\"\" display=\"none\"></path></g><g transform=\"translate(127.5,351)\"><path class=\"background\" aria-hidden=\"true\" d=\"M0,0h36v0h-36Z\"></path><g><g class=\"mark-group role-axis\" role=\"graphics-symbol\" aria-roledescription=\"axis\" aria-label=\"X-axis titled ' ' for a discrete scale with 2 values: hy, ig\"><g transform=\"translate(0.5,0.5)\"><path class=\"background\" aria-hidden=\"true\" d=\"M0,0h0v0h0Z\" pointer-events=\"none\"></path><g><g class=\"mark-rule role-axis-tick\" pointer-events=\"none\"><line transform=\"translate(9,0)\" x2=\"0\" y2=\"5\" stroke=\"#888\" stroke-width=\"1\" opacity=\"1\"></line><line transform=\"translate(27,0)\" x2=\"0\" y2=\"5\" stroke=\"#888\" stroke-width=\"1\" opacity=\"1\"></line></g><g class=\"mark-text role-axis-label\" pointer-events=\"none\"><text text-anchor=\"end\" transform=\"translate(8.500000000000002,7) rotate(270) translate(0,3)\" font-family=\"sans-serif\" font-size=\"10px\" fill=\"#000\" opacity=\"1\">hy</text><text text-anchor=\"end\" transform=\"translate(26.5,7) rotate(270) translate(0,3)\" font-family=\"sans-serif\" font-size=\"10px\" fill=\"#000\" opacity=\"1\">ig</text></g><g class=\"mark-rule role-axis-domain\" pointer-events=\"none\"><line transform=\"translate(0,0)\" x2=\"36\" y2=\"0\" stroke=\"#888\" stroke-width=\"3\" opacity=\"1\"></line></g><g class=\"mark-text role-axis-title\" pointer-events=\"none\"><text text-anchor=\"middle\" transform=\"translate(18,32)\" font-family=\"sans-serif\" font-size=\"11px\" font-weight=\"bold\" fill=\"#000\" opacity=\"1\"></text></g></g><path class=\"foreground\" aria-hidden=\"true\" d=\"\" pointer-events=\"none\" display=\"none\"></path></g></g></g><path class=\"foreground\" aria-hidden=\"true\" d=\"\" display=\"none\"></path></g><g transform=\"translate(170,351)\"><path class=\"background\" aria-hidden=\"true\" d=\"M0,0h36v0h-36Z\"></path><g><g class=\"mark-group role-axis\" role=\"graphics-symbol\" aria-roledescription=\"axis\" aria-label=\"X-axis titled ' ' for a discrete scale with 2 values: hy, ig\"><g transform=\"translate(0.5,0.5)\"><path class=\"background\" aria-hidden=\"true\" d=\"M0,0h0v0h0Z\" pointer-events=\"none\"></path><g><g class=\"mark-rule role-axis-tick\" pointer-events=\"none\"><line transform=\"translate(9,0)\" x2=\"0\" y2=\"5\" stroke=\"#888\" stroke-width=\"1\" opacity=\"1\"></line><line transform=\"translate(27,0)\" x2=\"0\" y2=\"5\" stroke=\"#888\" stroke-width=\"1\" opacity=\"1\"></line></g><g class=\"mark-text role-axis-label\" pointer-events=\"none\"><text text-anchor=\"end\" transform=\"translate(8.500000000000002,7) rotate(270) translate(0,3)\" font-family=\"sans-serif\" font-size=\"10px\" fill=\"#000\" opacity=\"1\">hy</text><text text-anchor=\"end\" transform=\"translate(26.5,7) rotate(270) translate(0,3)\" font-family=\"sans-serif\" font-size=\"10px\" fill=\"#000\" opacity=\"1\">ig</text></g><g class=\"mark-rule role-axis-domain\" pointer-events=\"none\"><line transform=\"translate(0,0)\" x2=\"36\" y2=\"0\" stroke=\"#888\" stroke-width=\"3\" opacity=\"1\"></line></g><g class=\"mark-text role-axis-title\" pointer-events=\"none\"><text text-anchor=\"middle\" transform=\"translate(18,32)\" font-family=\"sans-serif\" font-size=\"11px\" font-weight=\"bold\" fill=\"#000\" opacity=\"1\"></text></g></g><path class=\"foreground\" aria-hidden=\"true\" d=\"\" pointer-events=\"none\" display=\"none\"></path></g></g></g><path class=\"foreground\" aria-hidden=\"true\" d=\"\" display=\"none\"></path></g><g transform=\"translate(212.5,351)\"><path class=\"background\" aria-hidden=\"true\" d=\"M0,0h36v0h-36Z\"></path><g><g class=\"mark-group role-axis\" role=\"graphics-symbol\" aria-roledescription=\"axis\" aria-label=\"X-axis titled ' ' for a discrete scale with 2 values: hy, ig\"><g transform=\"translate(0.5,0.5)\"><path class=\"background\" aria-hidden=\"true\" d=\"M0,0h0v0h0Z\" pointer-events=\"none\"></path><g><g class=\"mark-rule role-axis-tick\" pointer-events=\"none\"><line transform=\"translate(9,0)\" x2=\"0\" y2=\"5\" stroke=\"#888\" stroke-width=\"1\" opacity=\"1\"></line><line transform=\"translate(27,0)\" x2=\"0\" y2=\"5\" stroke=\"#888\" stroke-width=\"1\" opacity=\"1\"></line></g><g class=\"mark-text role-axis-label\" pointer-events=\"none\"><text text-anchor=\"end\" transform=\"translate(8.500000000000002,7) rotate(270) translate(0,3)\" font-family=\"sans-serif\" font-size=\"10px\" fill=\"#000\" opacity=\"1\">hy</text><text text-anchor=\"end\" transform=\"translate(26.5,7) rotate(270) translate(0,3)\" font-family=\"sans-serif\" font-size=\"10px\" fill=\"#000\" opacity=\"1\">ig</text></g><g class=\"mark-rule role-axis-domain\" pointer-events=\"none\"><line transform=\"translate(0,0)\" x2=\"36\" y2=\"0\" stroke=\"#888\" stroke-width=\"3\" opacity=\"1\"></line></g><g class=\"mark-text role-axis-title\" pointer-events=\"none\"><text text-anchor=\"middle\" transform=\"translate(18,32)\" font-family=\"sans-serif\" font-size=\"11px\" font-weight=\"bold\" fill=\"#000\" opacity=\"1\"></text></g></g><path class=\"foreground\" aria-hidden=\"true\" d=\"\" pointer-events=\"none\" display=\"none\"></path></g></g></g><path class=\"foreground\" aria-hidden=\"true\" d=\"\" display=\"none\"></path></g><g transform=\"translate(255,351)\"><path class=\"background\" aria-hidden=\"true\" d=\"M0,0h36v0h-36Z\"></path><g><g class=\"mark-group role-axis\" role=\"graphics-symbol\" aria-roledescription=\"axis\" aria-label=\"X-axis titled ' ' for a discrete scale with 2 values: hy, ig\"><g transform=\"translate(0.5,0.5)\"><path class=\"background\" aria-hidden=\"true\" d=\"M0,0h0v0h0Z\" pointer-events=\"none\"></path><g><g class=\"mark-rule role-axis-tick\" pointer-events=\"none\"><line transform=\"translate(9,0)\" x2=\"0\" y2=\"5\" stroke=\"#888\" stroke-width=\"1\" opacity=\"1\"></line><line transform=\"translate(27,0)\" x2=\"0\" y2=\"5\" stroke=\"#888\" stroke-width=\"1\" opacity=\"1\"></line></g><g class=\"mark-text role-axis-label\" pointer-events=\"none\"><text text-anchor=\"end\" transform=\"translate(8.500000000000002,7) rotate(270) translate(0,3)\" font-family=\"sans-serif\" font-size=\"10px\" fill=\"#000\" opacity=\"1\">hy</text><text text-anchor=\"end\" transform=\"translate(26.5,7) rotate(270) translate(0,3)\" font-family=\"sans-serif\" font-size=\"10px\" fill=\"#000\" opacity=\"1\">ig</text></g><g class=\"mark-rule role-axis-domain\" pointer-events=\"none\"><line transform=\"translate(0,0)\" x2=\"36\" y2=\"0\" stroke=\"#888\" stroke-width=\"3\" opacity=\"1\"></line></g><g class=\"mark-text role-axis-title\" pointer-events=\"none\"><text text-anchor=\"middle\" transform=\"translate(18,32)\" font-family=\"sans-serif\" font-size=\"11px\" font-weight=\"bold\" fill=\"#000\" opacity=\"1\"></text></g></g><path class=\"foreground\" aria-hidden=\"true\" d=\"\" pointer-events=\"none\" display=\"none\"></path></g></g></g><path class=\"foreground\" aria-hidden=\"true\" d=\"\" display=\"none\"></path></g><g transform=\"translate(297.5,351)\"><path class=\"background\" aria-hidden=\"true\" d=\"M0,0h36v0h-36Z\"></path><g><g class=\"mark-group role-axis\" role=\"graphics-symbol\" aria-roledescription=\"axis\" aria-label=\"X-axis titled ' ' for a discrete scale with 2 values: hy, ig\"><g transform=\"translate(0.5,0.5)\"><path class=\"background\" aria-hidden=\"true\" d=\"M0,0h0v0h0Z\" pointer-events=\"none\"></path><g><g class=\"mark-rule role-axis-tick\" pointer-events=\"none\"><line transform=\"translate(9,0)\" x2=\"0\" y2=\"5\" stroke=\"#888\" stroke-width=\"1\" opacity=\"1\"></line><line transform=\"translate(27,0)\" x2=\"0\" y2=\"5\" stroke=\"#888\" stroke-width=\"1\" opacity=\"1\"></line></g><g class=\"mark-text role-axis-label\" pointer-events=\"none\"><text text-anchor=\"end\" transform=\"translate(8.500000000000002,7) rotate(270) translate(0,3)\" font-family=\"sans-serif\" font-size=\"10px\" fill=\"#000\" opacity=\"1\">hy</text><text text-anchor=\"end\" transform=\"translate(26.5,7) rotate(270) translate(0,3)\" font-family=\"sans-serif\" font-size=\"10px\" fill=\"#000\" opacity=\"1\">ig</text></g><g class=\"mark-rule role-axis-domain\" pointer-events=\"none\"><line transform=\"translate(0,0)\" x2=\"36\" y2=\"0\" stroke=\"#888\" stroke-width=\"3\" opacity=\"1\"></line></g><g class=\"mark-text role-axis-title\" pointer-events=\"none\"><text text-anchor=\"middle\" transform=\"translate(18,32)\" font-family=\"sans-serif\" font-size=\"11px\" font-weight=\"bold\" fill=\"#000\" opacity=\"1\"></text></g></g><path class=\"foreground\" aria-hidden=\"true\" d=\"\" pointer-events=\"none\" display=\"none\"></path></g></g></g><path class=\"foreground\" aria-hidden=\"true\" d=\"\" display=\"none\"></path></g><g transform=\"translate(340,351)\"><path class=\"background\" aria-hidden=\"true\" d=\"M0,0h36v0h-36Z\"></path><g><g class=\"mark-group role-axis\" role=\"graphics-symbol\" aria-roledescription=\"axis\" aria-label=\"X-axis titled ' ' for a discrete scale with 2 values: hy, ig\"><g transform=\"translate(0.5,0.5)\"><path class=\"background\" aria-hidden=\"true\" d=\"M0,0h0v0h0Z\" pointer-events=\"none\"></path><g><g class=\"mark-rule role-axis-tick\" pointer-events=\"none\"><line transform=\"translate(9,0)\" x2=\"0\" y2=\"5\" stroke=\"#888\" stroke-width=\"1\" opacity=\"1\"></line><line transform=\"translate(27,0)\" x2=\"0\" y2=\"5\" stroke=\"#888\" stroke-width=\"1\" opacity=\"1\"></line></g><g class=\"mark-text role-axis-label\" pointer-events=\"none\"><text text-anchor=\"end\" transform=\"translate(8.500000000000002,7) rotate(270) translate(0,3)\" font-family=\"sans-serif\" font-size=\"10px\" fill=\"#000\" opacity=\"1\">hy</text><text text-anchor=\"end\" transform=\"translate(26.5,7) rotate(270) translate(0,3)\" font-family=\"sans-serif\" font-size=\"10px\" fill=\"#000\" opacity=\"1\">ig</text></g><g class=\"mark-rule role-axis-domain\" pointer-events=\"none\"><line transform=\"translate(0,0)\" x2=\"36\" y2=\"0\" stroke=\"#888\" stroke-width=\"3\" opacity=\"1\"></line></g><g class=\"mark-text role-axis-title\" pointer-events=\"none\"><text text-anchor=\"middle\" transform=\"translate(18,32)\" font-family=\"sans-serif\" font-size=\"11px\" font-weight=\"bold\" fill=\"#000\" opacity=\"1\"></text></g></g><path class=\"foreground\" aria-hidden=\"true\" d=\"\" pointer-events=\"none\" display=\"none\"></path></g></g></g><path class=\"foreground\" aria-hidden=\"true\" d=\"\" display=\"none\"></path></g><g transform=\"translate(382.5,351)\"><path class=\"background\" aria-hidden=\"true\" d=\"M0,0h36v0h-36Z\"></path><g><g class=\"mark-group role-axis\" role=\"graphics-symbol\" aria-roledescription=\"axis\" aria-label=\"X-axis titled ' ' for a discrete scale with 2 values: hy, ig\"><g transform=\"translate(0.5,0.5)\"><path class=\"background\" aria-hidden=\"true\" d=\"M0,0h0v0h0Z\" pointer-events=\"none\"></path><g><g class=\"mark-rule role-axis-tick\" pointer-events=\"none\"><line transform=\"translate(9,0)\" x2=\"0\" y2=\"5\" stroke=\"#888\" stroke-width=\"1\" opacity=\"1\"></line><line transform=\"translate(27,0)\" x2=\"0\" y2=\"5\" stroke=\"#888\" stroke-width=\"1\" opacity=\"1\"></line></g><g class=\"mark-text role-axis-label\" pointer-events=\"none\"><text text-anchor=\"end\" transform=\"translate(8.500000000000002,7) rotate(270) translate(0,3)\" font-family=\"sans-serif\" font-size=\"10px\" fill=\"#000\" opacity=\"1\">hy</text><text text-anchor=\"end\" transform=\"translate(26.5,7) rotate(270) translate(0,3)\" font-family=\"sans-serif\" font-size=\"10px\" fill=\"#000\" opacity=\"1\">ig</text></g><g class=\"mark-rule role-axis-domain\" pointer-events=\"none\"><line transform=\"translate(0,0)\" x2=\"36\" y2=\"0\" stroke=\"#888\" stroke-width=\"3\" opacity=\"1\"></line></g><g class=\"mark-text role-axis-title\" pointer-events=\"none\"><text text-anchor=\"middle\" transform=\"translate(18,32)\" font-family=\"sans-serif\" font-size=\"11px\" font-weight=\"bold\" fill=\"#000\" opacity=\"1\"></text></g></g><path class=\"foreground\" aria-hidden=\"true\" d=\"\" pointer-events=\"none\" display=\"none\"></path></g></g></g><path class=\"foreground\" aria-hidden=\"true\" d=\"\" display=\"none\"></path></g><g transform=\"translate(425,351)\"><path class=\"background\" aria-hidden=\"true\" d=\"M0,0h36v0h-36Z\"></path><g><g class=\"mark-group role-axis\" role=\"graphics-symbol\" aria-roledescription=\"axis\" aria-label=\"X-axis titled ' ' for a discrete scale with 2 values: hy, ig\"><g transform=\"translate(0.5,0.5)\"><path class=\"background\" aria-hidden=\"true\" d=\"M0,0h0v0h0Z\" pointer-events=\"none\"></path><g><g class=\"mark-rule role-axis-tick\" pointer-events=\"none\"><line transform=\"translate(9,0)\" x2=\"0\" y2=\"5\" stroke=\"#888\" stroke-width=\"1\" opacity=\"1\"></line><line transform=\"translate(27,0)\" x2=\"0\" y2=\"5\" stroke=\"#888\" stroke-width=\"1\" opacity=\"1\"></line></g><g class=\"mark-text role-axis-label\" pointer-events=\"none\"><text text-anchor=\"end\" transform=\"translate(8.500000000000002,7) rotate(270) translate(0,3)\" font-family=\"sans-serif\" font-size=\"10px\" fill=\"#000\" opacity=\"1\">hy</text><text text-anchor=\"end\" transform=\"translate(26.5,7) rotate(270) translate(0,3)\" font-family=\"sans-serif\" font-size=\"10px\" fill=\"#000\" opacity=\"1\">ig</text></g><g class=\"mark-rule role-axis-domain\" pointer-events=\"none\"><line transform=\"translate(0,0)\" x2=\"36\" y2=\"0\" stroke=\"#888\" stroke-width=\"3\" opacity=\"1\"></line></g><g class=\"mark-text role-axis-title\" pointer-events=\"none\"><text text-anchor=\"middle\" transform=\"translate(18,32)\" font-family=\"sans-serif\" font-size=\"11px\" font-weight=\"bold\" fill=\"#000\" opacity=\"1\"></text></g></g><path class=\"foreground\" aria-hidden=\"true\" d=\"\" pointer-events=\"none\" display=\"none\"></path></g></g></g><path class=\"foreground\" aria-hidden=\"true\" d=\"\" display=\"none\"></path></g><g transform=\"translate(467.5,351)\"><path class=\"background\" aria-hidden=\"true\" d=\"M0,0h36v0h-36Z\"></path><g><g class=\"mark-group role-axis\" role=\"graphics-symbol\" aria-roledescription=\"axis\" aria-label=\"X-axis titled ' ' for a discrete scale with 2 values: hy, ig\"><g transform=\"translate(0.5,0.5)\"><path class=\"background\" aria-hidden=\"true\" d=\"M0,0h0v0h0Z\" pointer-events=\"none\"></path><g><g class=\"mark-rule role-axis-tick\" pointer-events=\"none\"><line transform=\"translate(9,0)\" x2=\"0\" y2=\"5\" stroke=\"#888\" stroke-width=\"1\" opacity=\"1\"></line><line transform=\"translate(27,0)\" x2=\"0\" y2=\"5\" stroke=\"#888\" stroke-width=\"1\" opacity=\"1\"></line></g><g class=\"mark-text role-axis-label\" pointer-events=\"none\"><text text-anchor=\"end\" transform=\"translate(8.500000000000002,7) rotate(270) translate(0,3)\" font-family=\"sans-serif\" font-size=\"10px\" fill=\"#000\" opacity=\"1\">hy</text><text text-anchor=\"end\" transform=\"translate(26.5,7) rotate(270) translate(0,3)\" font-family=\"sans-serif\" font-size=\"10px\" fill=\"#000\" opacity=\"1\">ig</text></g><g class=\"mark-rule role-axis-domain\" pointer-events=\"none\"><line transform=\"translate(0,0)\" x2=\"36\" y2=\"0\" stroke=\"#888\" stroke-width=\"3\" opacity=\"1\"></line></g><g class=\"mark-text role-axis-title\" pointer-events=\"none\"><text text-anchor=\"middle\" transform=\"translate(18,32)\" font-family=\"sans-serif\" font-size=\"11px\" font-weight=\"bold\" fill=\"#000\" opacity=\"1\"></text></g></g><path class=\"foreground\" aria-hidden=\"true\" d=\"\" pointer-events=\"none\" display=\"none\"></path></g></g></g><path class=\"foreground\" aria-hidden=\"true\" d=\"\" display=\"none\"></path></g><g transform=\"translate(510,351)\"><path class=\"background\" aria-hidden=\"true\" d=\"M0,0h36v0h-36Z\"></path><g><g class=\"mark-group role-axis\" role=\"graphics-symbol\" aria-roledescription=\"axis\" aria-label=\"X-axis titled ' ' for a discrete scale with 2 values: hy, ig\"><g transform=\"translate(0.5,0.5)\"><path class=\"background\" aria-hidden=\"true\" d=\"M0,0h0v0h0Z\" pointer-events=\"none\"></path><g><g class=\"mark-rule role-axis-tick\" pointer-events=\"none\"><line transform=\"translate(9,0)\" x2=\"0\" y2=\"5\" stroke=\"#888\" stroke-width=\"1\" opacity=\"1\"></line><line transform=\"translate(27,0)\" x2=\"0\" y2=\"5\" stroke=\"#888\" stroke-width=\"1\" opacity=\"1\"></line></g><g class=\"mark-text role-axis-label\" pointer-events=\"none\"><text text-anchor=\"end\" transform=\"translate(8.500000000000002,7) rotate(270) translate(0,3)\" font-family=\"sans-serif\" font-size=\"10px\" fill=\"#000\" opacity=\"1\">hy</text><text text-anchor=\"end\" transform=\"translate(26.5,7) rotate(270) translate(0,3)\" font-family=\"sans-serif\" font-size=\"10px\" fill=\"#000\" opacity=\"1\">ig</text></g><g class=\"mark-rule role-axis-domain\" pointer-events=\"none\"><line transform=\"translate(0,0)\" x2=\"36\" y2=\"0\" stroke=\"#888\" stroke-width=\"3\" opacity=\"1\"></line></g><g class=\"mark-text role-axis-title\" pointer-events=\"none\"><text text-anchor=\"middle\" transform=\"translate(18,32)\" font-family=\"sans-serif\" font-size=\"11px\" font-weight=\"bold\" fill=\"#000\" opacity=\"1\"></text></g></g><path class=\"foreground\" aria-hidden=\"true\" d=\"\" pointer-events=\"none\" display=\"none\"></path></g></g></g><path class=\"foreground\" aria-hidden=\"true\" d=\"\" display=\"none\"></path></g><g transform=\"translate(552.5,351)\"><path class=\"background\" aria-hidden=\"true\" d=\"M0,0h36v0h-36Z\"></path><g><g class=\"mark-group role-axis\" role=\"graphics-symbol\" aria-roledescription=\"axis\" aria-label=\"X-axis titled ' ' for a discrete scale with 2 values: hy, ig\"><g transform=\"translate(0.5,0.5)\"><path class=\"background\" aria-hidden=\"true\" d=\"M0,0h0v0h0Z\" pointer-events=\"none\"></path><g><g class=\"mark-rule role-axis-tick\" pointer-events=\"none\"><line transform=\"translate(9,0)\" x2=\"0\" y2=\"5\" stroke=\"#888\" stroke-width=\"1\" opacity=\"1\"></line><line transform=\"translate(27,0)\" x2=\"0\" y2=\"5\" stroke=\"#888\" stroke-width=\"1\" opacity=\"1\"></line></g><g class=\"mark-text role-axis-label\" pointer-events=\"none\"><text text-anchor=\"end\" transform=\"translate(8.500000000000002,7) rotate(270) translate(0,3)\" font-family=\"sans-serif\" font-size=\"10px\" fill=\"#000\" opacity=\"1\">hy</text><text text-anchor=\"end\" transform=\"translate(26.5,7) rotate(270) translate(0,3)\" font-family=\"sans-serif\" font-size=\"10px\" fill=\"#000\" opacity=\"1\">ig</text></g><g class=\"mark-rule role-axis-domain\" pointer-events=\"none\"><line transform=\"translate(0,0)\" x2=\"36\" y2=\"0\" stroke=\"#888\" stroke-width=\"3\" opacity=\"1\"></line></g><g class=\"mark-text role-axis-title\" pointer-events=\"none\"><text text-anchor=\"middle\" transform=\"translate(18,32)\" font-family=\"sans-serif\" font-size=\"11px\" font-weight=\"bold\" fill=\"#000\" opacity=\"1\"></text></g></g><path class=\"foreground\" aria-hidden=\"true\" d=\"\" pointer-events=\"none\" display=\"none\"></path></g></g></g><path class=\"foreground\" aria-hidden=\"true\" d=\"\" display=\"none\"></path></g><g transform=\"translate(595,351)\"><path class=\"background\" aria-hidden=\"true\" d=\"M0,0h36v0h-36Z\"></path><g><g class=\"mark-group role-axis\" role=\"graphics-symbol\" aria-roledescription=\"axis\" aria-label=\"X-axis titled ' ' for a discrete scale with 2 values: hy, ig\"><g transform=\"translate(0.5,0.5)\"><path class=\"background\" aria-hidden=\"true\" d=\"M0,0h0v0h0Z\" pointer-events=\"none\"></path><g><g class=\"mark-rule role-axis-tick\" pointer-events=\"none\"><line transform=\"translate(9,0)\" x2=\"0\" y2=\"5\" stroke=\"#888\" stroke-width=\"1\" opacity=\"1\"></line><line transform=\"translate(27,0)\" x2=\"0\" y2=\"5\" stroke=\"#888\" stroke-width=\"1\" opacity=\"1\"></line></g><g class=\"mark-text role-axis-label\" pointer-events=\"none\"><text text-anchor=\"end\" transform=\"translate(8.500000000000002,7) rotate(270) translate(0,3)\" font-family=\"sans-serif\" font-size=\"10px\" fill=\"#000\" opacity=\"1\">hy</text><text text-anchor=\"end\" transform=\"translate(26.5,7) rotate(270) translate(0,3)\" font-family=\"sans-serif\" font-size=\"10px\" fill=\"#000\" opacity=\"1\">ig</text></g><g class=\"mark-rule role-axis-domain\" pointer-events=\"none\"><line transform=\"translate(0,0)\" x2=\"36\" y2=\"0\" stroke=\"#888\" stroke-width=\"3\" opacity=\"1\"></line></g><g class=\"mark-text role-axis-title\" pointer-events=\"none\"><text text-anchor=\"middle\" transform=\"translate(18,32)\" font-family=\"sans-serif\" font-size=\"11px\" font-weight=\"bold\" fill=\"#000\" opacity=\"1\"></text></g></g><path class=\"foreground\" aria-hidden=\"true\" d=\"\" pointer-events=\"none\" display=\"none\"></path></g></g></g><path class=\"foreground\" aria-hidden=\"true\" d=\"\" display=\"none\"></path></g></g><g class=\"mark-group role-scope cell\" role=\"graphics-object\" aria-roledescription=\"group mark container\"><g transform=\"translate(0,0)\"><path class=\"background\" aria-hidden=\"true\" d=\"M0.5,0.5h36v350h-36Z\"></path><g><g class=\"mark-rect role-mark child_marks\" role=\"graphics-object\" aria-roledescription=\"rect mark container\"><path aria-label=\": 0.114261339599;  : ig; Rating: ig\" role=\"graphics-symbol\" aria-roledescription=\"bar\" d=\"M18.900000000000002,314.16808852340176h16.2v6.665244809931551h-16.2Z\" fill=\"rgb(53, 183, 121)\"></path><path aria-label=\": 2.05228981545;  : hy; Rating: hy\" role=\"graphics-symbol\" aria-roledescription=\"bar\" d=\"M0.9000000000000021,201.11642743221685h16.2v119.71690590111646h-16.2Z\" fill=\"rgb(49, 104, 142)\"></path></g></g><path class=\"foreground\" aria-hidden=\"true\" d=\"\" display=\"none\"></path></g><g transform=\"translate(42.5,0)\"><path class=\"background\" aria-hidden=\"true\" d=\"M0.5,0.5h36v350h-36Z\"></path><g><g class=\"mark-rect role-mark child_marks\" role=\"graphics-object\" aria-roledescription=\"rect mark container\"><path aria-label=\": 1.27659425686;  : ig; Rating: ig\" role=\"graphics-symbol\" aria-roledescription=\"bar\" d=\"M18.900000000000002,246.36533501625252h16.2v74.4679983170808h-16.2Z\" fill=\"rgb(53, 183, 121)\"></path><path aria-label=\": 4.54654197477;  : hy; Rating: hy\" role=\"graphics-symbol\" aria-roledescription=\"bar\" d=\"M0.9000000000000021,55.61838480498835h16.2v265.21494852834496h-16.2Z\" fill=\"rgb(49, 104, 142)\"></path></g></g><path class=\"foreground\" aria-hidden=\"true\" d=\"\" display=\"none\"></path></g><g transform=\"translate(85,0)\"><path class=\"background\" aria-hidden=\"true\" d=\"M0.5,0.5h36v350h-36Z\"></path><g><g class=\"mark-rect role-mark child_marks\" role=\"graphics-object\" aria-roledescription=\"rect mark container\"><path aria-label=\": 0.0478303282042;  : ig; Rating: ig\" role=\"graphics-symbol\" aria-roledescription=\"bar\" d=\"M18.900000000000002,318.0432308547573h16.2v2.7901024785759887h-16.2Z\" fill=\"rgb(53, 183, 121)\"></path><path aria-label=\": 0.0540607717641;  : hy; Rating: hy\" role=\"graphics-symbol\" aria-roledescription=\"bar\" d=\"M0.9000000000000021,317.6797883137596h16.2v3.1535450195736985h-16.2Z\" fill=\"rgb(49, 104, 142)\"></path></g></g><path class=\"foreground\" aria-hidden=\"true\" d=\"\" display=\"none\"></path></g><g transform=\"translate(127.5,0)\"><path class=\"background\" aria-hidden=\"true\" d=\"M0.5,0.5h36v350h-36Z\"></path><g><g class=\"mark-rect role-mark child_marks\" role=\"graphics-object\" aria-roledescription=\"rect mark container\"><path aria-label=\": 0.0823744541294;  : ig; Rating: ig\" role=\"graphics-symbol\" aria-roledescription=\"bar\" d=\"M18.900000000000002,316.0281568424524h16.2v4.8051764908809105h-16.2Z\" fill=\"rgb(53, 183, 121)\"></path><path aria-label=\": -0.0234574038402;  : hy; Rating: hy\" role=\"graphics-symbol\" aria-roledescription=\"bar\" d=\"M0.9000000000000021,320.8333333333333h16.2v1.3683485573437792h-16.2Z\" fill=\"rgb(49, 104, 142)\"></path></g></g><path class=\"foreground\" aria-hidden=\"true\" d=\"\" display=\"none\"></path></g><g transform=\"translate(170,0)\"><path class=\"background\" aria-hidden=\"true\" d=\"M0.5,0.5h36v350h-36Z\"></path><g><g class=\"mark-rect role-mark child_marks\" role=\"graphics-object\" aria-roledescription=\"rect mark container\"><path aria-label=\": -0.0769900458374;  : ig; Rating: ig\" role=\"graphics-symbol\" aria-roledescription=\"bar\" d=\"M18.900000000000002,320.8333333333333h16.2v4.491086007181536h-16.2Z\" fill=\"rgb(53, 183, 121)\"></path><path aria-label=\": 0.0540607717641;  : hy; Rating: hy\" role=\"graphics-symbol\" aria-roledescription=\"bar\" d=\"M0.9000000000000021,317.6797883137596h16.2v3.1535450195736985h-16.2Z\" fill=\"rgb(49, 104, 142)\"></path></g></g><path class=\"foreground\" aria-hidden=\"true\" d=\"\" display=\"none\"></path></g><g transform=\"translate(212.5,0)\"><path class=\"background\" aria-hidden=\"true\" d=\"M0.5,0.5h36v350h-36Z\"></path><g><g class=\"mark-rect role-mark child_marks\" role=\"graphics-object\" aria-roledescription=\"rect mark container\"><path aria-label=\": 0.883252742027;  : ig; Rating: ig\" role=\"graphics-symbol\" aria-roledescription=\"bar\" d=\"M18.900000000000002,269.3102567150678h16.2v51.52307661826552h-16.2Z\" fill=\"rgb(53, 183, 121)\"></path><path aria-label=\": 5.09476169763;  : hy; Rating: hy\" role=\"graphics-symbol\" aria-roledescription=\"bar\" d=\"M0.9000000000000021,23.63890097143713h16.2v297.1944323618962h-16.2Z\" fill=\"rgb(49, 104, 142)\"></path></g></g><path class=\"foreground\" aria-hidden=\"true\" d=\"\" display=\"none\"></path></g><g transform=\"translate(255,0)\"><path class=\"background\" aria-hidden=\"true\" d=\"M0.5,0.5h36v350h-36Z\"></path><g><g class=\"mark-rect role-mark child_marks\" role=\"graphics-object\" aria-roledescription=\"rect mark container\"><path aria-label=\": 0.520259710291;  : ig; Rating: ig\" role=\"graphics-symbol\" aria-roledescription=\"bar\" d=\"M18.900000000000002,290.4848502330332h16.2v30.348483100300086h-16.2Z\" fill=\"rgb(53, 183, 121)\"></path><path aria-label=\": 0.00636922885725;  : hy; Rating: hy\" role=\"graphics-symbol\" aria-roledescription=\"bar\" d=\"M0.9000000000000021,320.46179498332697h16.2v0.3715383500063467h-16.2Z\" fill=\"rgb(49, 104, 142)\"></path></g></g><path class=\"foreground\" aria-hidden=\"true\" d=\"\" display=\"none\"></path></g><g transform=\"translate(297.5,0)\"><path class=\"background\" aria-hidden=\"true\" d=\"M0.5,0.5h36v350h-36Z\"></path><g><g class=\"mark-rect role-mark child_marks\" role=\"graphics-object\" aria-roledescription=\"rect mark container\"><path aria-label=\": 0.630395334445;  : ig; Rating: ig\" role=\"graphics-symbol\" aria-roledescription=\"bar\" d=\"M18.900000000000002,284.06027215736435h16.2v36.77306117596896h-16.2Z\" fill=\"rgb(53, 183, 121)\"></path><path aria-label=\": 2.91368918163;  : hy; Rating: hy\" role=\"graphics-symbol\" aria-roledescription=\"bar\" d=\"M0.9000000000000021,150.86813107148026h16.2v169.96520226185305h-16.2Z\" fill=\"rgb(49, 104, 142)\"></path></g></g><path class=\"foreground\" aria-hidden=\"true\" d=\"\" display=\"none\"></path></g><g transform=\"translate(340,0)\"><path class=\"background\" aria-hidden=\"true\" d=\"M0.5,0.5h36v350h-36Z\"></path><g><g class=\"mark-rect role-mark child_marks\" role=\"graphics-object\" aria-roledescription=\"rect mark container\"><path aria-label=\": 0.127547541878;  : ig; Rating: ig\" role=\"graphics-symbol\" aria-roledescription=\"bar\" d=\"M18.900000000000002,313.39306005713064h16.2v7.440273276202674h-16.2Z\" fill=\"rgb(53, 183, 121)\"></path><path aria-label=\": 1.56853911639;  : hy; Rating: hy\" role=\"graphics-symbol\" aria-roledescription=\"bar\" d=\"M0.9000000000000021,229.33521821081635h16.2v91.49811512251696h-16.2Z\" fill=\"rgb(49, 104, 142)\"></path></g></g><path class=\"foreground\" aria-hidden=\"true\" d=\"\" display=\"none\"></path></g><g transform=\"translate(382.5,0)\"><path class=\"background\" aria-hidden=\"true\" d=\"M0.5,0.5h36v350h-36Z\"></path><g><g class=\"mark-rect role-mark child_marks\" role=\"graphics-object\" aria-roledescription=\"rect mark container\"><path aria-label=\": 0.0690882518505;  : ig; Rating: ig\" role=\"graphics-symbol\" aria-roledescription=\"bar\" d=\"M18.900000000000002,316.8031853087235h16.2v4.030148024609787h-16.2Z\" fill=\"rgb(53, 183, 121)\"></path><path aria-label=\": 0.310849437644;  : hy; Rating: hy\" role=\"graphics-symbol\" aria-roledescription=\"bar\" d=\"M0.9000000000000021,302.7004494707844h16.2v18.13288386254891h-16.2Z\" fill=\"rgb(49, 104, 142)\"></path></g></g><path class=\"foreground\" aria-hidden=\"true\" d=\"\" display=\"none\"></path></g><g transform=\"translate(425,0)\"><path class=\"background\" aria-hidden=\"true\" d=\"M0.5,0.5h36v350h-36Z\"></path><g><g class=\"mark-rect role-mark child_marks\" role=\"graphics-object\" aria-roledescription=\"rect mark container\"><path aria-label=\": 0.38718790536;  : ig; Rating: ig\" role=\"graphics-symbol\" aria-roledescription=\"bar\" d=\"M18.900000000000002,298.24737218731707h16.2v22.585961146016245h-16.2Z\" fill=\"rgb(53, 183, 121)\"></path><path aria-label=\": 0.413067793451;  : hy; Rating: hy\" role=\"graphics-symbol\" aria-roledescription=\"bar\" d=\"M0.9000000000000021,296.737712048717h16.2v24.0956212846163h-16.2Z\" fill=\"rgb(49, 104, 142)\"></path></g></g><path class=\"foreground\" aria-hidden=\"true\" d=\"\" display=\"none\"></path></g><g transform=\"translate(467.5,0)\"><path class=\"background\" aria-hidden=\"true\" d=\"M0.5,0.5h36v350h-36Z\"></path><g><g class=\"mark-rect role-mark child_marks\" role=\"graphics-object\" aria-roledescription=\"rect mark container\"><path aria-label=\": 0.316980815423;  : ig; Rating: ig\" role=\"graphics-symbol\" aria-roledescription=\"bar\" d=\"M18.900000000000002,302.34278576698125h16.2v18.490547566352063h-16.2Z\" fill=\"rgb(53, 183, 121)\"></path><path aria-label=\": 1.10482818617;  : hy; Rating: hy\" role=\"graphics-symbol\" aria-roledescription=\"bar\" d=\"M0.9000000000000021,256.38502247353955h16.2v64.44831085979376h-16.2Z\" fill=\"rgb(49, 104, 142)\"></path></g></g><path class=\"foreground\" aria-hidden=\"true\" d=\"\" display=\"none\"></path></g><g transform=\"translate(510,0)\"><path class=\"background\" aria-hidden=\"true\" d=\"M0.5,0.5h36v350h-36Z\"></path><g><g class=\"mark-rect role-mark child_marks\" role=\"graphics-object\" aria-roledescription=\"rect mark container\"><path aria-label=\": 0.294394271549;  : ig; Rating: ig\" role=\"graphics-symbol\" aria-roledescription=\"bar\" d=\"M18.900000000000002,303.6603341596428h16.2v17.172999173690528h-16.2Z\" fill=\"rgb(53, 183, 121)\"></path><path aria-label=\": 1.74159572485;  : hy; Rating: hy\" role=\"graphics-symbol\" aria-roledescription=\"bar\" d=\"M0.9000000000000021,219.24024938378977h16.2v101.59308394954354h-16.2Z\" fill=\"rgb(49, 104, 142)\"></path></g></g><path class=\"foreground\" aria-hidden=\"true\" d=\"\" display=\"none\"></path></g><g transform=\"translate(552.5,0)\"><path class=\"background\" aria-hidden=\"true\" d=\"M0.5,0.5h36v350h-36Z\"></path><g><g class=\"mark-rect role-mark child_marks\" role=\"graphics-object\" aria-roledescription=\"rect mark container\"><path aria-label=\": -0.026432549797;  : ig; Rating: ig\" role=\"graphics-symbol\" aria-roledescription=\"bar\" d=\"M18.900000000000002,320.8333333333333h16.2v1.5418987381604552h-16.2Z\" fill=\"rgb(53, 183, 121)\"></path><path aria-label=\": 2.33968184925;  : hy; Rating: hy\" role=\"graphics-symbol\" aria-roledescription=\"bar\" d=\"M0.9000000000000021,184.35189212701172h16.2v136.4814412063216h-16.2Z\" fill=\"rgb(49, 104, 142)\"></path></g></g><path class=\"foreground\" aria-hidden=\"true\" d=\"\" display=\"none\"></path></g><g transform=\"translate(595,0)\"><path class=\"background\" aria-hidden=\"true\" d=\"M0.5,0.5h36v350h-36Z\"></path><g><g class=\"mark-rect role-mark child_marks\" role=\"graphics-object\" aria-roledescription=\"rect mark container\"><path aria-label=\": 0.267821866991;  : ig; Rating: ig\" role=\"graphics-symbol\" aria-roledescription=\"bar\" d=\"M18.900000000000002,305.21039109218424h16.2v15.622942241149076h-16.2Z\" fill=\"rgb(53, 183, 121)\"></path><path aria-label=\": 1.68753495309;  : hy; Rating: hy\" role=\"graphics-symbol\" aria-roledescription=\"bar\" d=\"M0.9000000000000021,222.39379440336307h16.2v98.43953892997024h-16.2Z\" fill=\"rgb(49, 104, 142)\"></path></g></g><path class=\"foreground\" aria-hidden=\"true\" d=\"\" display=\"none\"></path></g></g><g class=\"mark-group role-legend\" role=\"graphics-symbol\" aria-roledescription=\"legend\" aria-label=\"Symbol legend titled 'Rating' for fill color with 2 values: hy, ig\"><g transform=\"translate(650,0)\"><path class=\"background\" aria-hidden=\"true\" d=\"M0,0h40v40h-40Z\" pointer-events=\"none\"></path><g><g class=\"mark-group role-legend-entry\"><g transform=\"translate(0,16)\"><path class=\"background\" aria-hidden=\"true\" d=\"M0,0h0v0h0Z\" pointer-events=\"none\"></path><g><g class=\"mark-group role-scope\" role=\"graphics-object\" aria-roledescription=\"group mark container\"><g transform=\"translate(0,0)\"><path class=\"background\" aria-hidden=\"true\" d=\"M0,0h28v11h-28Z\" pointer-events=\"none\" opacity=\"1\"></path><g><g class=\"mark-symbol role-legend-symbol\" pointer-events=\"none\"><path transform=\"translate(6,6)\" d=\"M-5,-5h10v10h-10Z\" fill=\"rgb(49, 104, 142)\" stroke-width=\"1.5\" opacity=\"1\"></path></g><g class=\"mark-text role-legend-label\" pointer-events=\"none\"><text text-anchor=\"start\" transform=\"translate(16,9)\" font-family=\"sans-serif\" font-size=\"10px\" fill=\"#000\" opacity=\"1\">hy</text></g></g><path class=\"foreground\" aria-hidden=\"true\" d=\"\" pointer-events=\"none\" display=\"none\"></path></g><g transform=\"translate(0,13)\"><path class=\"background\" aria-hidden=\"true\" d=\"M0,0h28v11h-28Z\" pointer-events=\"none\" opacity=\"1\"></path><g><g class=\"mark-symbol role-legend-symbol\" pointer-events=\"none\"><path transform=\"translate(6,6)\" d=\"M-5,-5h10v10h-10Z\" fill=\"rgb(53, 183, 121)\" stroke-width=\"1.5\" opacity=\"1\"></path></g><g class=\"mark-text role-legend-label\" pointer-events=\"none\"><text text-anchor=\"start\" transform=\"translate(16,9)\" font-family=\"sans-serif\" font-size=\"10px\" fill=\"#000\" opacity=\"1\">ig</text></g></g><path class=\"foreground\" aria-hidden=\"true\" d=\"\" pointer-events=\"none\" display=\"none\"></path></g></g></g><path class=\"foreground\" aria-hidden=\"true\" d=\"\" pointer-events=\"none\" display=\"none\"></path></g></g><g class=\"mark-text role-legend-title\" pointer-events=\"none\"><text text-anchor=\"start\" transform=\"translate(0,9)\" font-family=\"sans-serif\" font-size=\"11px\" font-weight=\"bold\" fill=\"#000\" opacity=\"1\">Rating</text></g></g><path class=\"foreground\" aria-hidden=\"true\" d=\"\" pointer-events=\"none\" display=\"none\"></path></g></g><g class=\"mark-group role-title\"><g transform=\"translate(331.5,-86)\"><path class=\"background\" aria-hidden=\"true\" d=\"M0,0h0v0h0Z\" pointer-events=\"none\"></path><g><g class=\"mark-text role-title-text\" role=\"graphics-symbol\" aria-roledescription=\"title\" aria-label=\"Title text 'smth smth'\" pointer-events=\"none\"><text text-anchor=\"middle\" transform=\"translate(0,11)\" font-family=\"sans-serif\" font-size=\"14px\" font-weight=\"bold\" fill=\"#000\" opacity=\"1\">smth smth</text></g></g><path class=\"foreground\" aria-hidden=\"true\" d=\"\" pointer-events=\"none\" display=\"none\"></path></g></g></g><path class=\"foreground\" aria-hidden=\"true\" d=\"\" display=\"none\"></path></g></g></g></svg>\n"
      ],
      "text/plain": [
       "@vlplot(\n",
       "    config={\n",
       "        view={\n",
       "            stroke=\"transparent\"\n",
       "        },\n",
       "        axis={\n",
       "            domainWidth=3\n",
       "        },\n",
       "        opacity={\n",
       "            value=0.7\n",
       "        }\n",
       "    },\n",
       "    title={\n",
       "        text=[\n",
       "            \"smth smth\"\n",
       "        ],\n",
       "        align=\"center\",\n",
       "        anchor=\"middle\",\n",
       "        fontSize=14,\n",
       "        offset=20\n",
       "    },\n",
       "    spacing=4.5,\n",
       "    width={\n",
       "        step=18\n",
       "    },\n",
       "    height=350,\n",
       "    mark=\"bar\",\n",
       "    encoding={\n",
       "        column={\n",
       "            type=\"ordinal\",\n",
       "            title=\"Covenant Category\",\n",
       "            sort=\"ascending\",\n",
       "            field=\"cov_cat\"\n",
       "        },\n",
       "        y={\n",
       "            axis={\n",
       "                title=\"\",\n",
       "                grid=false,\n",
       "                stack=nothing\n",
       "            },\n",
       "            field=\"perc_diff\"\n",
       "        },\n",
       "        x={\n",
       "            type=\"nominal\",\n",
       "            axis={\n",
       "                title=\" \"\n",
       "            },\n",
       "            field=\"rt\"\n",
       "        },\n",
       "        color={\n",
       "            legend={\n",
       "                title=\"Rating\"\n",
       "            },\n",
       "            scale={\n",
       "                scheme=\"viridis\"\n",
       "            },\n",
       "            field=\"rt\",\n",
       "            type=\"nominal\"\n",
       "        }\n",
       "    },\n",
       "    data={\n",
       "        values=...\n",
       "    }\n",
       ")"
      ]
     },
     "execution_count": 91,
     "metadata": {},
     "output_type": "execute_result"
    }
   ],
   "source": [
    "color_scale=\"viridis\"\n",
    "cal_formula=\"\"\n",
    "cal_var=\"\"\n",
    "col_var=\"cov_cat\"\n",
    "col_var_type=\"ordinal\"\n",
    "col_title=\"Covenant Category\"\n",
    "col_sort=\"ascending\"\n",
    "x_var=\"sbm:n\"\n",
    "x_var_type=\"nominal\"\n",
    "x_axis_title=\" \"\n",
    "width_step=18\n",
    "legend_title=\"Secondary Market\"\n",
    "spacing=4.5\n",
    "height=350\n",
    "save_plt=true\n",
    "plt_type = \"cov_cat\"\n",
    "file_ext=\"png\"\n",
    "\n",
    "y_var=\"perc_diff\"\n",
    "y_axis_title=\"% Diff in the Number of Issuers\"\n",
    "# title=[\"ATS v.s. OTC % Difference in Rating- Contingent Number of Non-MTN-Bond Issuers\" ,\n",
    "#        \" by Number of Covenant Categories per Bond\"]\n",
    "# if :period in Symbol.(names(tt))\n",
    "#     title[end] = string(title[end], \" - \", tt[1, :period])\n",
    "# end\n",
    "\n",
    "\n",
    "x_var=\"rt:n\"\n",
    "x_var_type=\"nominal\"\n",
    "legend_title=\"Rating\"\n",
    "\n",
    "# rt_tt[:, \"sbm2\"] .= uppercase.(string.(rt_tt[:, :sbm]))\n",
    "# row_var=\"sbm2\"\n",
    "# y_var = \"perc_sbm_total\"\n",
    "col_var = \"cov_cat\"\n",
    "# row_var_type=\"ordinal\"\n",
    "# row_var_title=\"Covenant Categories\"\n",
    "y_axis_title=\"\"\n",
    "title = [\"smth smth\"]\n",
    "save_plt = false\n",
    "\n",
    "tmp = rt_tt[rt_tt[:, :sbm].==:otc, [x for x in names(rt_tt) if x != \"variable\"]]\n",
    "p = PlotMod.sbm_vega_plt(tmp, col_var, x_var, y_var;\n",
    "                         col_var_type=col_var_type,\n",
    "                         col_title=col_title, \n",
    "                         col_sort=col_sort,\n",
    "                         x_var_type=x_var_type,\n",
    "                         x_axis_title=x_axis_title, \n",
    "                         y_axis_title=y_axis_title, \n",
    "                         legend_title=legend_title, \n",
    "                         color_scale=color_scale,\n",
    "                         title=title, \n",
    "                         spacing=spacing,\n",
    "                         width_step=width_step,\n",
    "                         height=height,\n",
    "                         save_plt=save_plt)\n",
    "#     ,\n",
    "#                          plt_type=plt_type,\n",
    "#                          stats_var=stats_var)\n",
    "\n",
    "\n",
    "\n",
    "# include(string(scripts_path, \"/\", \"single_vega_plt_script.jl\"))\n",
    "# push!(pl, p)\n"
   ]
  },
  {
   "cell_type": "code",
   "execution_count": 11,
   "metadata": {},
   "outputs": [
    {
     "data": {
      "application/vnd.vegalite.v4+json": {
       "config": {
        "axis": {
         "domainWidth": 3
        },
        "opacity": {
         "value": 0.7
        },
        "view": {
         "stroke": "transparent"
        }
       },
       "data": {
        "values": [
         {
          "cov_cat": 1,
          "perc_ats": 20.754716981132077,
          "perc_diff": 1.2078255164323934,
          "perc_otc": 19.546891464699684,
          "rt": "hy",
          "value_ats": 363,
          "value_diff": -8,
          "value_otc": 371
         },
         {
          "cov_cat": 2,
          "perc_ats": 78.6735277301315,
          "perc_diff": 3.383749015695244,
          "perc_otc": 75.28977871443625,
          "rt": "hy",
          "value_ats": 1376,
          "value_diff": -53,
          "value_otc": 1429
         },
         {
          "cov_cat": 3,
          "perc_ats": 0.4002287021154946,
          "perc_diff": 0.03141942919663265,
          "perc_otc": 0.36880927291886195,
          "rt": "hy",
          "value_ats": 7,
          "value_diff": 0,
          "value_otc": 7
         },
         {
          "cov_cat": 4,
          "perc_ats": 0.5145797598627788,
          "perc_diff": -0.0122906300213097,
          "perc_otc": 0.5268703898840885,
          "rt": "hy",
          "value_ats": 9,
          "value_diff": -1,
          "value_otc": 10
         },
         {
          "cov_cat": 5,
          "perc_ats": 0.22870211549456831,
          "perc_diff": 0.01795395954093293,
          "perc_otc": 0.21074815595363539,
          "rt": "hy",
          "value_ats": 4,
          "value_diff": 0,
          "value_otc": 4
         },
         {
          "cov_cat": 6,
          "perc_ats": 70.3830760434534,
          "perc_diff": 3.786658762104608,
          "perc_otc": 66.59641728134879,
          "rt": "hy",
          "value_ats": 1231,
          "value_diff": -33,
          "value_otc": 1264
         },
         {
          "cov_cat": 7,
          "perc_ats": 97.77015437392797,
          "perc_diff": 0.6152544793020382,
          "perc_otc": 97.15489989462593,
          "rt": "hy",
          "value_ats": 1710,
          "value_diff": -134,
          "value_otc": 1844
         },
         {
          "cov_cat": 8,
          "perc_ats": 42.02401372212693,
          "perc_diff": 2.5614215198086967,
          "perc_otc": 39.462592202318234,
          "rt": "hy",
          "value_ats": 735,
          "value_diff": -14,
          "value_otc": 749
         },
         {
          "cov_cat": 9,
          "perc_ats": 13.893653516295027,
          "perc_diff": 0.8272678471696331,
          "perc_otc": 13.066385669125394,
          "rt": "hy",
          "value_ats": 243,
          "value_diff": -5,
          "value_otc": 248
         },
         {
          "cov_cat": 10,
          "perc_ats": 2.7444253859348198,
          "perc_diff": 0.2154475144911947,
          "perc_otc": 2.528977871443625,
          "rt": "hy",
          "value_ats": 48,
          "value_diff": 0,
          "value_otc": 48
         },
         {
          "cov_cat": 11,
          "perc_ats": 84.96283590623214,
          "perc_diff": 0.610886485789564,
          "perc_otc": 84.35194942044258,
          "rt": "hy",
          "value_ats": 1486,
          "value_diff": -115,
          "value_otc": 1601
         },
         {
          "cov_cat": 12,
          "perc_ats": 67.63865065751858,
          "perc_diff": 1.3056685711118377,
          "perc_otc": 66.33298208640674,
          "rt": "hy",
          "value_ats": 1183,
          "value_diff": -76,
          "value_otc": 1259
         },
         {
          "cov_cat": 13,
          "perc_ats": 84.61978273299027,
          "perc_diff": 1.6903833652347373,
          "perc_otc": 82.92939936775554,
          "rt": "hy",
          "value_ats": 1480,
          "value_diff": -94,
          "value_otc": 1574
         },
         {
          "cov_cat": 14,
          "perc_ats": 25.10005717552887,
          "perc_diff": 1.3908896307448906,
          "perc_otc": 23.70916754478398,
          "rt": "hy",
          "value_ats": 439,
          "value_diff": -11,
          "value_otc": 450
         },
         {
          "cov_cat": 15,
          "perc_ats": 84.44825614636935,
          "perc_diff": 1.676917895579038,
          "perc_otc": 82.77133825079031,
          "rt": "hy",
          "value_ats": 1477,
          "value_diff": -94,
          "value_otc": 1571
         },
         {
          "cov_cat": 1,
          "perc_ats": 1.7241379310344827,
          "perc_diff": 0.03605905442856683,
          "perc_otc": 1.6880788766059158,
          "rt": "ig",
          "value_ats": 109,
          "value_diff": -4,
          "value_otc": 113
         },
         {
          "cov_cat": 2,
          "perc_ats": 78.88326478962354,
          "perc_diff": 1.1270652079085721,
          "perc_otc": 77.75619958171497,
          "rt": "ig",
          "value_ats": 4987,
          "value_diff": -218,
          "value_otc": 5205
         },
         {
          "cov_cat": 3,
          "perc_ats": 1.0281556469471687,
          "perc_diff": 0.012320570759537963,
          "perc_otc": 1.0158350761876307,
          "rt": "ig",
          "value_ats": 65,
          "value_diff": -3,
          "value_otc": 68
         },
         {
          "cov_cat": 4,
          "perc_ats": 1.3919645681746282,
          "perc_diff": 0.047476967338058174,
          "perc_otc": 1.34448760083657,
          "rt": "ig",
          "value_ats": 88,
          "value_diff": -2,
          "value_otc": 90
         },
         {
          "cov_cat": 5,
          "perc_ats": 0.07908889591901297,
          "perc_diff": -0.01054361080342503,
          "perc_otc": 0.089632506722438,
          "rt": "ig",
          "value_ats": 5,
          "value_diff": -1,
          "value_otc": 6
         },
         {
          "cov_cat": 6,
          "perc_ats": 56.35874723188864,
          "perc_diff": 0.8164705662178875,
          "perc_otc": 55.542276665670755,
          "rt": "ig",
          "value_ats": 3563,
          "value_diff": -155,
          "value_otc": 3718
         },
         {
          "cov_cat": 7,
          "perc_ats": 94.73267953179374,
          "perc_diff": 0.4990374642705717,
          "perc_otc": 94.23364206752316,
          "rt": "ig",
          "value_ats": 5989,
          "value_diff": -319,
          "value_otc": 6308
         },
         {
          "cov_cat": 8,
          "perc_ats": 40.49351471053464,
          "perc_diff": 0.7713754813742,
          "perc_otc": 39.72213922916044,
          "rt": "ig",
          "value_ats": 2560,
          "value_diff": -99,
          "value_otc": 2659
         },
         {
          "cov_cat": 9,
          "perc_ats": 1.5659601391964566,
          "perc_diff": 0.04220752491501045,
          "perc_otc": 1.5237526142814461,
          "rt": "ig",
          "value_ats": 99,
          "value_diff": -3,
          "value_otc": 102
         },
         {
          "cov_cat": 10,
          "perc_ats": 0.9174311926605505,
          "perc_diff": 0.036044876556576844,
          "perc_otc": 0.8813863161039737,
          "rt": "ig",
          "value_ats": 58,
          "value_diff": -1,
          "value_otc": 59
         },
         {
          "cov_cat": 11,
          "perc_ats": 76.7953179373616,
          "perc_diff": 0.5479322188076736,
          "perc_otc": 76.24738571855393,
          "rt": "ig",
          "value_ats": 4855,
          "value_diff": -249,
          "value_otc": 5104
         },
         {
          "cov_cat": 12,
          "perc_ats": 32.79025624802278,
          "perc_diff": 0.9259001081960676,
          "perc_otc": 31.86435613982671,
          "rt": "ig",
          "value_ats": 2073,
          "value_diff": -60,
          "value_otc": 2133
         },
         {
          "cov_cat": 13,
          "perc_ats": 76.08351787409048,
          "perc_diff": 0.2992334402691341,
          "perc_otc": 75.78428443382134,
          "rt": "ig",
          "value_ats": 4810,
          "value_diff": -263,
          "value_otc": 5073
         },
         {
          "cov_cat": 14,
          "perc_ats": 1.4236001265422336,
          "perc_diff": 0.034296272344444434,
          "perc_otc": 1.3893038541977891,
          "rt": "ig",
          "value_ats": 90,
          "value_diff": -3,
          "value_otc": 93
         },
         {
          "cov_cat": 15,
          "perc_ats": 75.08699778551092,
          "perc_diff": 0.27373217451599885,
          "perc_otc": 74.81326561099492,
          "rt": "ig",
          "value_ats": 4747,
          "value_diff": -261,
          "value_otc": 5008
         }
        ]
       },
       "encoding": {
        "color": {
         "field": "rt",
         "legend": {
          "title": "Rating"
         },
         "scale": {
          "scheme": "viridis"
         },
         "type": "nominal"
        },
        "column": {
         "field": "cov_cat",
         "sort": "ascending",
         "title": "Covenant Category",
         "type": "ordinal"
        },
        "x": {
         "axis": {
          "title": " "
         },
         "field": "rt",
         "type": "nominal"
        },
        "y": {
         "axis": {
          "grid": false,
          "stack": null,
          "title": ""
         },
         "field": "perc_diff",
         "type": "quantitative"
        }
       },
       "height": 350,
       "mark": "bar",
       "spacing": 4.5,
       "title": {
        "align": "center",
        "anchor": "middle",
        "fontSize": 14,
        "offset": 20,
        "text": [
         "smth smth"
        ]
       },
       "width": {
        "step": 18
       }
      },
      "image/png": "[encoded data removed]",
      "image/svg+xml": [
       "<?xml version=\"1.0\" encoding=\"utf-8\"?>\n",
       "<!DOCTYPE svg PUBLIC \"-//W3C//DTD SVG 1.1//EN\" \"http://www.w3.org/Graphics/SVG/1.1/DTD/svg11.dtd\">\n",
       "<svg class=\"marks\" width=\"727\" height=\"481\" viewBox=\"0 0 727 481\" version=\"1.1\" xmlns=\"http://www.w3.org/2000/svg\" xmlns:xlink=\"http://www.w3.org/1999/xlink\"><rect width=\"727\" height=\"481\" fill=\"white\"></rect><g fill=\"none\" stroke-miterlimit=\"10\" transform=\"translate(32,91)\"><g class=\"mark-group role-frame root\" role=\"graphics-object\" aria-roledescription=\"group mark container\"><g transform=\"translate(0,0)\"><path class=\"background\" aria-hidden=\"true\" d=\"M0,0h0v0h0Z\"></path><g><g class=\"mark-group role-column-title column-title\" role=\"graphics-object\" aria-roledescription=\"group mark container\"><g transform=\"translate(316,-31)\"><path class=\"background\" aria-hidden=\"true\" d=\"M0,0h0v0h0Z\"></path><g><g class=\"mark-group role-title\"><g transform=\"translate(0,-21)\"><path class=\"background\" aria-hidden=\"true\" d=\"M0,0h0v0h0Z\" pointer-events=\"none\"></path><g><g class=\"mark-text role-title-text\" role=\"graphics-symbol\" aria-roledescription=\"title\" aria-label=\"Title text 'Covenant Category'\" pointer-events=\"none\"><text text-anchor=\"middle\" transform=\"translate(0,9)\" font-family=\"sans-serif\" font-size=\"11px\" font-weight=\"bold\" fill=\"#000\" opacity=\"1\">Covenant Category</text></g></g><path class=\"foreground\" aria-hidden=\"true\" d=\"\" pointer-events=\"none\" display=\"none\"></path></g></g></g><path class=\"foreground\" aria-hidden=\"true\" d=\"\" display=\"none\"></path></g></g><g class=\"mark-group role-row-header row_header\" role=\"graphics-object\" aria-roledescription=\"group mark container\"><g transform=\"translate(-1,0)\"><path class=\"background\" aria-hidden=\"true\" d=\"M0,0h0v350h0Z\"></path><g><g class=\"mark-group role-axis\" role=\"graphics-symbol\" aria-roledescription=\"axis\" aria-label=\"Y-axis for a linear scale with values from -1 to 4\"><g transform=\"translate(0.5,0.5)\"><path class=\"background\" aria-hidden=\"true\" d=\"M0,0h0v0h0Z\" pointer-events=\"none\"></path><g><g class=\"mark-rule role-axis-tick\" pointer-events=\"none\"><line transform=\"translate(0,350)\" x2=\"-5\" y2=\"0\" stroke=\"#888\" stroke-width=\"1\" opacity=\"1\"></line><line transform=\"translate(0,311)\" x2=\"-5\" y2=\"0\" stroke=\"#888\" stroke-width=\"1\" opacity=\"1\"></line><line transform=\"translate(0,272)\" x2=\"-5\" y2=\"0\" stroke=\"#888\" stroke-width=\"1\" opacity=\"1\"></line><line transform=\"translate(0,233)\" x2=\"-5\" y2=\"0\" stroke=\"#888\" stroke-width=\"1\" opacity=\"1\"></line><line transform=\"translate(0,194)\" x2=\"-5\" y2=\"0\" stroke=\"#888\" stroke-width=\"1\" opacity=\"1\"></line><line transform=\"translate(0,156)\" x2=\"-5\" y2=\"0\" stroke=\"#888\" stroke-width=\"1\" opacity=\"1\"></line><line transform=\"translate(0,117)\" x2=\"-5\" y2=\"0\" stroke=\"#888\" stroke-width=\"1\" opacity=\"1\"></line><line transform=\"translate(0,78)\" x2=\"-5\" y2=\"0\" stroke=\"#888\" stroke-width=\"1\" opacity=\"1\"></line><line transform=\"translate(0,39)\" x2=\"-5\" y2=\"0\" stroke=\"#888\" stroke-width=\"1\" opacity=\"1\"></line><line transform=\"translate(0,0)\" x2=\"-5\" y2=\"0\" stroke=\"#888\" stroke-width=\"1\" opacity=\"1\"></line></g><g class=\"mark-text role-axis-label\" pointer-events=\"none\"><text text-anchor=\"end\" transform=\"translate(-7,353)\" font-family=\"sans-serif\" font-size=\"10px\" fill=\"#000\" opacity=\"1\">-0.5</text><text text-anchor=\"end\" transform=\"translate(-7,314.1111111111111)\" font-family=\"sans-serif\" font-size=\"10px\" fill=\"#000\" opacity=\"1\">0.0</text><text text-anchor=\"end\" transform=\"translate(-7,275.22222222222223)\" font-family=\"sans-serif\" font-size=\"10px\" fill=\"#000\" opacity=\"1\">0.5</text><text text-anchor=\"end\" transform=\"translate(-7,236.33333333333337)\" font-family=\"sans-serif\" font-size=\"10px\" fill=\"#000\" opacity=\"1\">1.0</text><text text-anchor=\"end\" transform=\"translate(-7,197.44444444444446)\" font-family=\"sans-serif\" font-size=\"10px\" fill=\"#000\" opacity=\"1\">1.5</text><text text-anchor=\"end\" transform=\"translate(-7,158.55555555555554)\" font-family=\"sans-serif\" font-size=\"10px\" fill=\"#000\" opacity=\"1\">2.0</text><text text-anchor=\"end\" transform=\"translate(-7,119.66666666666669)\" font-family=\"sans-serif\" font-size=\"10px\" fill=\"#000\" opacity=\"1\">2.5</text><text text-anchor=\"end\" transform=\"translate(-7,80.77777777777777)\" font-family=\"sans-serif\" font-size=\"10px\" fill=\"#000\" opacity=\"1\">3.0</text><text text-anchor=\"end\" transform=\"translate(-7,41.88888888888891)\" font-family=\"sans-serif\" font-size=\"10px\" fill=\"#000\" opacity=\"1\">3.5</text><text text-anchor=\"end\" transform=\"translate(-7,3)\" font-family=\"sans-serif\" font-size=\"10px\" fill=\"#000\" opacity=\"1\">4.0</text></g><g class=\"mark-rule role-axis-domain\" pointer-events=\"none\"><line transform=\"translate(0,350)\" x2=\"0\" y2=\"-350\" stroke=\"#888\" stroke-width=\"3\" opacity=\"1\"></line></g></g><path class=\"foreground\" aria-hidden=\"true\" d=\"\" pointer-events=\"none\" display=\"none\"></path></g></g></g><path class=\"foreground\" aria-hidden=\"true\" d=\"\" display=\"none\"></path></g></g><g class=\"mark-group role-column-header column_header\" role=\"graphics-object\" aria-roledescription=\"group mark container\"><g transform=\"translate(0,-1)\"><path class=\"background\" aria-hidden=\"true\" d=\"M0,0h36v0h-36Z\"></path><g><g class=\"mark-group role-title\"><g transform=\"translate(18,-20)\"><path class=\"background\" aria-hidden=\"true\" d=\"M0,0h0v0h0Z\" pointer-events=\"none\"></path><g><g class=\"mark-text role-title-text\" role=\"graphics-symbol\" aria-roledescription=\"title\" aria-label=\"Title text '1'\" pointer-events=\"none\"><text text-anchor=\"middle\" transform=\"translate(0,8)\" font-family=\"sans-serif\" font-size=\"10px\" fill=\"#000\" opacity=\"1\">1</text></g></g><path class=\"foreground\" aria-hidden=\"true\" d=\"\" pointer-events=\"none\" display=\"none\"></path></g></g></g><path class=\"foreground\" aria-hidden=\"true\" d=\"\" display=\"none\"></path></g><g transform=\"translate(42.5,-1)\"><path class=\"background\" aria-hidden=\"true\" d=\"M0,0h36v0h-36Z\"></path><g><g class=\"mark-group role-title\"><g transform=\"translate(18,-20)\"><path class=\"background\" aria-hidden=\"true\" d=\"M0,0h0v0h0Z\" pointer-events=\"none\"></path><g><g class=\"mark-text role-title-text\" role=\"graphics-symbol\" aria-roledescription=\"title\" aria-label=\"Title text '2'\" pointer-events=\"none\"><text text-anchor=\"middle\" transform=\"translate(0,8)\" font-family=\"sans-serif\" font-size=\"10px\" fill=\"#000\" opacity=\"1\">2</text></g></g><path class=\"foreground\" aria-hidden=\"true\" d=\"\" pointer-events=\"none\" display=\"none\"></path></g></g></g><path class=\"foreground\" aria-hidden=\"true\" d=\"\" display=\"none\"></path></g><g transform=\"translate(85,-1)\"><path class=\"background\" aria-hidden=\"true\" d=\"M0,0h36v0h-36Z\"></path><g><g class=\"mark-group role-title\"><g transform=\"translate(18,-20)\"><path class=\"background\" aria-hidden=\"true\" d=\"M0,0h0v0h0Z\" pointer-events=\"none\"></path><g><g class=\"mark-text role-title-text\" role=\"graphics-symbol\" aria-roledescription=\"title\" aria-label=\"Title text '3'\" pointer-events=\"none\"><text text-anchor=\"middle\" transform=\"translate(0,8)\" font-family=\"sans-serif\" font-size=\"10px\" fill=\"#000\" opacity=\"1\">3</text></g></g><path class=\"foreground\" aria-hidden=\"true\" d=\"\" pointer-events=\"none\" display=\"none\"></path></g></g></g><path class=\"foreground\" aria-hidden=\"true\" d=\"\" display=\"none\"></path></g><g transform=\"translate(127.5,-1)\"><path class=\"background\" aria-hidden=\"true\" d=\"M0,0h36v0h-36Z\"></path><g><g class=\"mark-group role-title\"><g transform=\"translate(18,-20)\"><path class=\"background\" aria-hidden=\"true\" d=\"M0,0h0v0h0Z\" pointer-events=\"none\"></path><g><g class=\"mark-text role-title-text\" role=\"graphics-symbol\" aria-roledescription=\"title\" aria-label=\"Title text '4'\" pointer-events=\"none\"><text text-anchor=\"middle\" transform=\"translate(0,8)\" font-family=\"sans-serif\" font-size=\"10px\" fill=\"#000\" opacity=\"1\">4</text></g></g><path class=\"foreground\" aria-hidden=\"true\" d=\"\" pointer-events=\"none\" display=\"none\"></path></g></g></g><path class=\"foreground\" aria-hidden=\"true\" d=\"\" display=\"none\"></path></g><g transform=\"translate(170,-1)\"><path class=\"background\" aria-hidden=\"true\" d=\"M0,0h36v0h-36Z\"></path><g><g class=\"mark-group role-title\"><g transform=\"translate(18,-20)\"><path class=\"background\" aria-hidden=\"true\" d=\"M0,0h0v0h0Z\" pointer-events=\"none\"></path><g><g class=\"mark-text role-title-text\" role=\"graphics-symbol\" aria-roledescription=\"title\" aria-label=\"Title text '5'\" pointer-events=\"none\"><text text-anchor=\"middle\" transform=\"translate(0,8)\" font-family=\"sans-serif\" font-size=\"10px\" fill=\"#000\" opacity=\"1\">5</text></g></g><path class=\"foreground\" aria-hidden=\"true\" d=\"\" pointer-events=\"none\" display=\"none\"></path></g></g></g><path class=\"foreground\" aria-hidden=\"true\" d=\"\" display=\"none\"></path></g><g transform=\"translate(212.5,-1)\"><path class=\"background\" aria-hidden=\"true\" d=\"M0,0h36v0h-36Z\"></path><g><g class=\"mark-group role-title\"><g transform=\"translate(18,-20)\"><path class=\"background\" aria-hidden=\"true\" d=\"M0,0h0v0h0Z\" pointer-events=\"none\"></path><g><g class=\"mark-text role-title-text\" role=\"graphics-symbol\" aria-roledescription=\"title\" aria-label=\"Title text '6'\" pointer-events=\"none\"><text text-anchor=\"middle\" transform=\"translate(0,8)\" font-family=\"sans-serif\" font-size=\"10px\" fill=\"#000\" opacity=\"1\">6</text></g></g><path class=\"foreground\" aria-hidden=\"true\" d=\"\" pointer-events=\"none\" display=\"none\"></path></g></g></g><path class=\"foreground\" aria-hidden=\"true\" d=\"\" display=\"none\"></path></g><g transform=\"translate(255,-1)\"><path class=\"background\" aria-hidden=\"true\" d=\"M0,0h36v0h-36Z\"></path><g><g class=\"mark-group role-title\"><g transform=\"translate(18,-20)\"><path class=\"background\" aria-hidden=\"true\" d=\"M0,0h0v0h0Z\" pointer-events=\"none\"></path><g><g class=\"mark-text role-title-text\" role=\"graphics-symbol\" aria-roledescription=\"title\" aria-label=\"Title text '7'\" pointer-events=\"none\"><text text-anchor=\"middle\" transform=\"translate(0,8)\" font-family=\"sans-serif\" font-size=\"10px\" fill=\"#000\" opacity=\"1\">7</text></g></g><path class=\"foreground\" aria-hidden=\"true\" d=\"\" pointer-events=\"none\" display=\"none\"></path></g></g></g><path class=\"foreground\" aria-hidden=\"true\" d=\"\" display=\"none\"></path></g><g transform=\"translate(297.5,-1)\"><path class=\"background\" aria-hidden=\"true\" d=\"M0,0h36v0h-36Z\"></path><g><g class=\"mark-group role-title\"><g transform=\"translate(18,-20)\"><path class=\"background\" aria-hidden=\"true\" d=\"M0,0h0v0h0Z\" pointer-events=\"none\"></path><g><g class=\"mark-text role-title-text\" role=\"graphics-symbol\" aria-roledescription=\"title\" aria-label=\"Title text '8'\" pointer-events=\"none\"><text text-anchor=\"middle\" transform=\"translate(0,8)\" font-family=\"sans-serif\" font-size=\"10px\" fill=\"#000\" opacity=\"1\">8</text></g></g><path class=\"foreground\" aria-hidden=\"true\" d=\"\" pointer-events=\"none\" display=\"none\"></path></g></g></g><path class=\"foreground\" aria-hidden=\"true\" d=\"\" display=\"none\"></path></g><g transform=\"translate(340,-1)\"><path class=\"background\" aria-hidden=\"true\" d=\"M0,0h36v0h-36Z\"></path><g><g class=\"mark-group role-title\"><g transform=\"translate(18,-20)\"><path class=\"background\" aria-hidden=\"true\" d=\"M0,0h0v0h0Z\" pointer-events=\"none\"></path><g><g class=\"mark-text role-title-text\" role=\"graphics-symbol\" aria-roledescription=\"title\" aria-label=\"Title text '9'\" pointer-events=\"none\"><text text-anchor=\"middle\" transform=\"translate(0,8)\" font-family=\"sans-serif\" font-size=\"10px\" fill=\"#000\" opacity=\"1\">9</text></g></g><path class=\"foreground\" aria-hidden=\"true\" d=\"\" pointer-events=\"none\" display=\"none\"></path></g></g></g><path class=\"foreground\" aria-hidden=\"true\" d=\"\" display=\"none\"></path></g><g transform=\"translate(382.5,-1)\"><path class=\"background\" aria-hidden=\"true\" d=\"M0,0h36v0h-36Z\"></path><g><g class=\"mark-group role-title\"><g transform=\"translate(18,-20)\"><path class=\"background\" aria-hidden=\"true\" d=\"M0,0h0v0h0Z\" pointer-events=\"none\"></path><g><g class=\"mark-text role-title-text\" role=\"graphics-symbol\" aria-roledescription=\"title\" aria-label=\"Title text '10'\" pointer-events=\"none\"><text text-anchor=\"middle\" transform=\"translate(0,8)\" font-family=\"sans-serif\" font-size=\"10px\" fill=\"#000\" opacity=\"1\">10</text></g></g><path class=\"foreground\" aria-hidden=\"true\" d=\"\" pointer-events=\"none\" display=\"none\"></path></g></g></g><path class=\"foreground\" aria-hidden=\"true\" d=\"\" display=\"none\"></path></g><g transform=\"translate(425,-1)\"><path class=\"background\" aria-hidden=\"true\" d=\"M0,0h36v0h-36Z\"></path><g><g class=\"mark-group role-title\"><g transform=\"translate(18,-20)\"><path class=\"background\" aria-hidden=\"true\" d=\"M0,0h0v0h0Z\" pointer-events=\"none\"></path><g><g class=\"mark-text role-title-text\" role=\"graphics-symbol\" aria-roledescription=\"title\" aria-label=\"Title text '11'\" pointer-events=\"none\"><text text-anchor=\"middle\" transform=\"translate(0,8)\" font-family=\"sans-serif\" font-size=\"10px\" fill=\"#000\" opacity=\"1\">11</text></g></g><path class=\"foreground\" aria-hidden=\"true\" d=\"\" pointer-events=\"none\" display=\"none\"></path></g></g></g><path class=\"foreground\" aria-hidden=\"true\" d=\"\" display=\"none\"></path></g><g transform=\"translate(467.5,-1)\"><path class=\"background\" aria-hidden=\"true\" d=\"M0,0h36v0h-36Z\"></path><g><g class=\"mark-group role-title\"><g transform=\"translate(18,-20)\"><path class=\"background\" aria-hidden=\"true\" d=\"M0,0h0v0h0Z\" pointer-events=\"none\"></path><g><g class=\"mark-text role-title-text\" role=\"graphics-symbol\" aria-roledescription=\"title\" aria-label=\"Title text '12'\" pointer-events=\"none\"><text text-anchor=\"middle\" transform=\"translate(0,8)\" font-family=\"sans-serif\" font-size=\"10px\" fill=\"#000\" opacity=\"1\">12</text></g></g><path class=\"foreground\" aria-hidden=\"true\" d=\"\" pointer-events=\"none\" display=\"none\"></path></g></g></g><path class=\"foreground\" aria-hidden=\"true\" d=\"\" display=\"none\"></path></g><g transform=\"translate(510,-1)\"><path class=\"background\" aria-hidden=\"true\" d=\"M0,0h36v0h-36Z\"></path><g><g class=\"mark-group role-title\"><g transform=\"translate(18,-20)\"><path class=\"background\" aria-hidden=\"true\" d=\"M0,0h0v0h0Z\" pointer-events=\"none\"></path><g><g class=\"mark-text role-title-text\" role=\"graphics-symbol\" aria-roledescription=\"title\" aria-label=\"Title text '13'\" pointer-events=\"none\"><text text-anchor=\"middle\" transform=\"translate(0,8)\" font-family=\"sans-serif\" font-size=\"10px\" fill=\"#000\" opacity=\"1\">13</text></g></g><path class=\"foreground\" aria-hidden=\"true\" d=\"\" pointer-events=\"none\" display=\"none\"></path></g></g></g><path class=\"foreground\" aria-hidden=\"true\" d=\"\" display=\"none\"></path></g><g transform=\"translate(552.5,-1)\"><path class=\"background\" aria-hidden=\"true\" d=\"M0,0h36v0h-36Z\"></path><g><g class=\"mark-group role-title\"><g transform=\"translate(18,-20)\"><path class=\"background\" aria-hidden=\"true\" d=\"M0,0h0v0h0Z\" pointer-events=\"none\"></path><g><g class=\"mark-text role-title-text\" role=\"graphics-symbol\" aria-roledescription=\"title\" aria-label=\"Title text '14'\" pointer-events=\"none\"><text text-anchor=\"middle\" transform=\"translate(0,8)\" font-family=\"sans-serif\" font-size=\"10px\" fill=\"#000\" opacity=\"1\">14</text></g></g><path class=\"foreground\" aria-hidden=\"true\" d=\"\" pointer-events=\"none\" display=\"none\"></path></g></g></g><path class=\"foreground\" aria-hidden=\"true\" d=\"\" display=\"none\"></path></g><g transform=\"translate(595,-1)\"><path class=\"background\" aria-hidden=\"true\" d=\"M0,0h36v0h-36Z\"></path><g><g class=\"mark-group role-title\"><g transform=\"translate(18,-20)\"><path class=\"background\" aria-hidden=\"true\" d=\"M0,0h0v0h0Z\" pointer-events=\"none\"></path><g><g class=\"mark-text role-title-text\" role=\"graphics-symbol\" aria-roledescription=\"title\" aria-label=\"Title text '15'\" pointer-events=\"none\"><text text-anchor=\"middle\" transform=\"translate(0,8)\" font-family=\"sans-serif\" font-size=\"10px\" fill=\"#000\" opacity=\"1\">15</text></g></g><path class=\"foreground\" aria-hidden=\"true\" d=\"\" pointer-events=\"none\" display=\"none\"></path></g></g></g><path class=\"foreground\" aria-hidden=\"true\" d=\"\" display=\"none\"></path></g></g><g class=\"mark-group role-column-footer column_footer\" role=\"graphics-object\" aria-roledescription=\"group mark container\"><g transform=\"translate(0,351)\"><path class=\"background\" aria-hidden=\"true\" d=\"M0,0h36v0h-36Z\"></path><g><g class=\"mark-group role-axis\" role=\"graphics-symbol\" aria-roledescription=\"axis\" aria-label=\"X-axis titled ' ' for a discrete scale with 2 values: hy, ig\"><g transform=\"translate(0.5,0.5)\"><path class=\"background\" aria-hidden=\"true\" d=\"M0,0h0v0h0Z\" pointer-events=\"none\"></path><g><g class=\"mark-rule role-axis-tick\" pointer-events=\"none\"><line transform=\"translate(9,0)\" x2=\"0\" y2=\"5\" stroke=\"#888\" stroke-width=\"1\" opacity=\"1\"></line><line transform=\"translate(27,0)\" x2=\"0\" y2=\"5\" stroke=\"#888\" stroke-width=\"1\" opacity=\"1\"></line></g><g class=\"mark-text role-axis-label\" pointer-events=\"none\"><text text-anchor=\"end\" transform=\"translate(8.500000000000002,7) rotate(270) translate(0,3)\" font-family=\"sans-serif\" font-size=\"10px\" fill=\"#000\" opacity=\"1\">hy</text><text text-anchor=\"end\" transform=\"translate(26.5,7) rotate(270) translate(0,3)\" font-family=\"sans-serif\" font-size=\"10px\" fill=\"#000\" opacity=\"1\">ig</text></g><g class=\"mark-rule role-axis-domain\" pointer-events=\"none\"><line transform=\"translate(0,0)\" x2=\"36\" y2=\"0\" stroke=\"#888\" stroke-width=\"3\" opacity=\"1\"></line></g><g class=\"mark-text role-axis-title\" pointer-events=\"none\"><text text-anchor=\"middle\" transform=\"translate(18,32)\" font-family=\"sans-serif\" font-size=\"11px\" font-weight=\"bold\" fill=\"#000\" opacity=\"1\"></text></g></g><path class=\"foreground\" aria-hidden=\"true\" d=\"\" pointer-events=\"none\" display=\"none\"></path></g></g></g><path class=\"foreground\" aria-hidden=\"true\" d=\"\" display=\"none\"></path></g><g transform=\"translate(42.5,351)\"><path class=\"background\" aria-hidden=\"true\" d=\"M0,0h36v0h-36Z\"></path><g><g class=\"mark-group role-axis\" role=\"graphics-symbol\" aria-roledescription=\"axis\" aria-label=\"X-axis titled ' ' for a discrete scale with 2 values: hy, ig\"><g transform=\"translate(0.5,0.5)\"><path class=\"background\" aria-hidden=\"true\" d=\"M0,0h0v0h0Z\" pointer-events=\"none\"></path><g><g class=\"mark-rule role-axis-tick\" pointer-events=\"none\"><line transform=\"translate(9,0)\" x2=\"0\" y2=\"5\" stroke=\"#888\" stroke-width=\"1\" opacity=\"1\"></line><line transform=\"translate(27,0)\" x2=\"0\" y2=\"5\" stroke=\"#888\" stroke-width=\"1\" opacity=\"1\"></line></g><g class=\"mark-text role-axis-label\" pointer-events=\"none\"><text text-anchor=\"end\" transform=\"translate(8.500000000000002,7) rotate(270) translate(0,3)\" font-family=\"sans-serif\" font-size=\"10px\" fill=\"#000\" opacity=\"1\">hy</text><text text-anchor=\"end\" transform=\"translate(26.5,7) rotate(270) translate(0,3)\" font-family=\"sans-serif\" font-size=\"10px\" fill=\"#000\" opacity=\"1\">ig</text></g><g class=\"mark-rule role-axis-domain\" pointer-events=\"none\"><line transform=\"translate(0,0)\" x2=\"36\" y2=\"0\" stroke=\"#888\" stroke-width=\"3\" opacity=\"1\"></line></g><g class=\"mark-text role-axis-title\" pointer-events=\"none\"><text text-anchor=\"middle\" transform=\"translate(18,32)\" font-family=\"sans-serif\" font-size=\"11px\" font-weight=\"bold\" fill=\"#000\" opacity=\"1\"></text></g></g><path class=\"foreground\" aria-hidden=\"true\" d=\"\" pointer-events=\"none\" display=\"none\"></path></g></g></g><path class=\"foreground\" aria-hidden=\"true\" d=\"\" display=\"none\"></path></g><g transform=\"translate(85,351)\"><path class=\"background\" aria-hidden=\"true\" d=\"M0,0h36v0h-36Z\"></path><g><g class=\"mark-group role-axis\" role=\"graphics-symbol\" aria-roledescription=\"axis\" aria-label=\"X-axis titled ' ' for a discrete scale with 2 values: hy, ig\"><g transform=\"translate(0.5,0.5)\"><path class=\"background\" aria-hidden=\"true\" d=\"M0,0h0v0h0Z\" pointer-events=\"none\"></path><g><g class=\"mark-rule role-axis-tick\" pointer-events=\"none\"><line transform=\"translate(9,0)\" x2=\"0\" y2=\"5\" stroke=\"#888\" stroke-width=\"1\" opacity=\"1\"></line><line transform=\"translate(27,0)\" x2=\"0\" y2=\"5\" stroke=\"#888\" stroke-width=\"1\" opacity=\"1\"></line></g><g class=\"mark-text role-axis-label\" pointer-events=\"none\"><text text-anchor=\"end\" transform=\"translate(8.500000000000002,7) rotate(270) translate(0,3)\" font-family=\"sans-serif\" font-size=\"10px\" fill=\"#000\" opacity=\"1\">hy</text><text text-anchor=\"end\" transform=\"translate(26.5,7) rotate(270) translate(0,3)\" font-family=\"sans-serif\" font-size=\"10px\" fill=\"#000\" opacity=\"1\">ig</text></g><g class=\"mark-rule role-axis-domain\" pointer-events=\"none\"><line transform=\"translate(0,0)\" x2=\"36\" y2=\"0\" stroke=\"#888\" stroke-width=\"3\" opacity=\"1\"></line></g><g class=\"mark-text role-axis-title\" pointer-events=\"none\"><text text-anchor=\"middle\" transform=\"translate(18,32)\" font-family=\"sans-serif\" font-size=\"11px\" font-weight=\"bold\" fill=\"#000\" opacity=\"1\"></text></g></g><path class=\"foreground\" aria-hidden=\"true\" d=\"\" pointer-events=\"none\" display=\"none\"></path></g></g></g><path class=\"foreground\" aria-hidden=\"true\" d=\"\" display=\"none\"></path></g><g transform=\"translate(127.5,351)\"><path class=\"background\" aria-hidden=\"true\" d=\"M0,0h36v0h-36Z\"></path><g><g class=\"mark-group role-axis\" role=\"graphics-symbol\" aria-roledescription=\"axis\" aria-label=\"X-axis titled ' ' for a discrete scale with 2 values: hy, ig\"><g transform=\"translate(0.5,0.5)\"><path class=\"background\" aria-hidden=\"true\" d=\"M0,0h0v0h0Z\" pointer-events=\"none\"></path><g><g class=\"mark-rule role-axis-tick\" pointer-events=\"none\"><line transform=\"translate(9,0)\" x2=\"0\" y2=\"5\" stroke=\"#888\" stroke-width=\"1\" opacity=\"1\"></line><line transform=\"translate(27,0)\" x2=\"0\" y2=\"5\" stroke=\"#888\" stroke-width=\"1\" opacity=\"1\"></line></g><g class=\"mark-text role-axis-label\" pointer-events=\"none\"><text text-anchor=\"end\" transform=\"translate(8.500000000000002,7) rotate(270) translate(0,3)\" font-family=\"sans-serif\" font-size=\"10px\" fill=\"#000\" opacity=\"1\">hy</text><text text-anchor=\"end\" transform=\"translate(26.5,7) rotate(270) translate(0,3)\" font-family=\"sans-serif\" font-size=\"10px\" fill=\"#000\" opacity=\"1\">ig</text></g><g class=\"mark-rule role-axis-domain\" pointer-events=\"none\"><line transform=\"translate(0,0)\" x2=\"36\" y2=\"0\" stroke=\"#888\" stroke-width=\"3\" opacity=\"1\"></line></g><g class=\"mark-text role-axis-title\" pointer-events=\"none\"><text text-anchor=\"middle\" transform=\"translate(18,32)\" font-family=\"sans-serif\" font-size=\"11px\" font-weight=\"bold\" fill=\"#000\" opacity=\"1\"></text></g></g><path class=\"foreground\" aria-hidden=\"true\" d=\"\" pointer-events=\"none\" display=\"none\"></path></g></g></g><path class=\"foreground\" aria-hidden=\"true\" d=\"\" display=\"none\"></path></g><g transform=\"translate(170,351)\"><path class=\"background\" aria-hidden=\"true\" d=\"M0,0h36v0h-36Z\"></path><g><g class=\"mark-group role-axis\" role=\"graphics-symbol\" aria-roledescription=\"axis\" aria-label=\"X-axis titled ' ' for a discrete scale with 2 values: hy, ig\"><g transform=\"translate(0.5,0.5)\"><path class=\"background\" aria-hidden=\"true\" d=\"M0,0h0v0h0Z\" pointer-events=\"none\"></path><g><g class=\"mark-rule role-axis-tick\" pointer-events=\"none\"><line transform=\"translate(9,0)\" x2=\"0\" y2=\"5\" stroke=\"#888\" stroke-width=\"1\" opacity=\"1\"></line><line transform=\"translate(27,0)\" x2=\"0\" y2=\"5\" stroke=\"#888\" stroke-width=\"1\" opacity=\"1\"></line></g><g class=\"mark-text role-axis-label\" pointer-events=\"none\"><text text-anchor=\"end\" transform=\"translate(8.500000000000002,7) rotate(270) translate(0,3)\" font-family=\"sans-serif\" font-size=\"10px\" fill=\"#000\" opacity=\"1\">hy</text><text text-anchor=\"end\" transform=\"translate(26.5,7) rotate(270) translate(0,3)\" font-family=\"sans-serif\" font-size=\"10px\" fill=\"#000\" opacity=\"1\">ig</text></g><g class=\"mark-rule role-axis-domain\" pointer-events=\"none\"><line transform=\"translate(0,0)\" x2=\"36\" y2=\"0\" stroke=\"#888\" stroke-width=\"3\" opacity=\"1\"></line></g><g class=\"mark-text role-axis-title\" pointer-events=\"none\"><text text-anchor=\"middle\" transform=\"translate(18,32)\" font-family=\"sans-serif\" font-size=\"11px\" font-weight=\"bold\" fill=\"#000\" opacity=\"1\"></text></g></g><path class=\"foreground\" aria-hidden=\"true\" d=\"\" pointer-events=\"none\" display=\"none\"></path></g></g></g><path class=\"foreground\" aria-hidden=\"true\" d=\"\" display=\"none\"></path></g><g transform=\"translate(212.5,351)\"><path class=\"background\" aria-hidden=\"true\" d=\"M0,0h36v0h-36Z\"></path><g><g class=\"mark-group role-axis\" role=\"graphics-symbol\" aria-roledescription=\"axis\" aria-label=\"X-axis titled ' ' for a discrete scale with 2 values: hy, ig\"><g transform=\"translate(0.5,0.5)\"><path class=\"background\" aria-hidden=\"true\" d=\"M0,0h0v0h0Z\" pointer-events=\"none\"></path><g><g class=\"mark-rule role-axis-tick\" pointer-events=\"none\"><line transform=\"translate(9,0)\" x2=\"0\" y2=\"5\" stroke=\"#888\" stroke-width=\"1\" opacity=\"1\"></line><line transform=\"translate(27,0)\" x2=\"0\" y2=\"5\" stroke=\"#888\" stroke-width=\"1\" opacity=\"1\"></line></g><g class=\"mark-text role-axis-label\" pointer-events=\"none\"><text text-anchor=\"end\" transform=\"translate(8.500000000000002,7) rotate(270) translate(0,3)\" font-family=\"sans-serif\" font-size=\"10px\" fill=\"#000\" opacity=\"1\">hy</text><text text-anchor=\"end\" transform=\"translate(26.5,7) rotate(270) translate(0,3)\" font-family=\"sans-serif\" font-size=\"10px\" fill=\"#000\" opacity=\"1\">ig</text></g><g class=\"mark-rule role-axis-domain\" pointer-events=\"none\"><line transform=\"translate(0,0)\" x2=\"36\" y2=\"0\" stroke=\"#888\" stroke-width=\"3\" opacity=\"1\"></line></g><g class=\"mark-text role-axis-title\" pointer-events=\"none\"><text text-anchor=\"middle\" transform=\"translate(18,32)\" font-family=\"sans-serif\" font-size=\"11px\" font-weight=\"bold\" fill=\"#000\" opacity=\"1\"></text></g></g><path class=\"foreground\" aria-hidden=\"true\" d=\"\" pointer-events=\"none\" display=\"none\"></path></g></g></g><path class=\"foreground\" aria-hidden=\"true\" d=\"\" display=\"none\"></path></g><g transform=\"translate(255,351)\"><path class=\"background\" aria-hidden=\"true\" d=\"M0,0h36v0h-36Z\"></path><g><g class=\"mark-group role-axis\" role=\"graphics-symbol\" aria-roledescription=\"axis\" aria-label=\"X-axis titled ' ' for a discrete scale with 2 values: hy, ig\"><g transform=\"translate(0.5,0.5)\"><path class=\"background\" aria-hidden=\"true\" d=\"M0,0h0v0h0Z\" pointer-events=\"none\"></path><g><g class=\"mark-rule role-axis-tick\" pointer-events=\"none\"><line transform=\"translate(9,0)\" x2=\"0\" y2=\"5\" stroke=\"#888\" stroke-width=\"1\" opacity=\"1\"></line><line transform=\"translate(27,0)\" x2=\"0\" y2=\"5\" stroke=\"#888\" stroke-width=\"1\" opacity=\"1\"></line></g><g class=\"mark-text role-axis-label\" pointer-events=\"none\"><text text-anchor=\"end\" transform=\"translate(8.500000000000002,7) rotate(270) translate(0,3)\" font-family=\"sans-serif\" font-size=\"10px\" fill=\"#000\" opacity=\"1\">hy</text><text text-anchor=\"end\" transform=\"translate(26.5,7) rotate(270) translate(0,3)\" font-family=\"sans-serif\" font-size=\"10px\" fill=\"#000\" opacity=\"1\">ig</text></g><g class=\"mark-rule role-axis-domain\" pointer-events=\"none\"><line transform=\"translate(0,0)\" x2=\"36\" y2=\"0\" stroke=\"#888\" stroke-width=\"3\" opacity=\"1\"></line></g><g class=\"mark-text role-axis-title\" pointer-events=\"none\"><text text-anchor=\"middle\" transform=\"translate(18,32)\" font-family=\"sans-serif\" font-size=\"11px\" font-weight=\"bold\" fill=\"#000\" opacity=\"1\"></text></g></g><path class=\"foreground\" aria-hidden=\"true\" d=\"\" pointer-events=\"none\" display=\"none\"></path></g></g></g><path class=\"foreground\" aria-hidden=\"true\" d=\"\" display=\"none\"></path></g><g transform=\"translate(297.5,351)\"><path class=\"background\" aria-hidden=\"true\" d=\"M0,0h36v0h-36Z\"></path><g><g class=\"mark-group role-axis\" role=\"graphics-symbol\" aria-roledescription=\"axis\" aria-label=\"X-axis titled ' ' for a discrete scale with 2 values: hy, ig\"><g transform=\"translate(0.5,0.5)\"><path class=\"background\" aria-hidden=\"true\" d=\"M0,0h0v0h0Z\" pointer-events=\"none\"></path><g><g class=\"mark-rule role-axis-tick\" pointer-events=\"none\"><line transform=\"translate(9,0)\" x2=\"0\" y2=\"5\" stroke=\"#888\" stroke-width=\"1\" opacity=\"1\"></line><line transform=\"translate(27,0)\" x2=\"0\" y2=\"5\" stroke=\"#888\" stroke-width=\"1\" opacity=\"1\"></line></g><g class=\"mark-text role-axis-label\" pointer-events=\"none\"><text text-anchor=\"end\" transform=\"translate(8.500000000000002,7) rotate(270) translate(0,3)\" font-family=\"sans-serif\" font-size=\"10px\" fill=\"#000\" opacity=\"1\">hy</text><text text-anchor=\"end\" transform=\"translate(26.5,7) rotate(270) translate(0,3)\" font-family=\"sans-serif\" font-size=\"10px\" fill=\"#000\" opacity=\"1\">ig</text></g><g class=\"mark-rule role-axis-domain\" pointer-events=\"none\"><line transform=\"translate(0,0)\" x2=\"36\" y2=\"0\" stroke=\"#888\" stroke-width=\"3\" opacity=\"1\"></line></g><g class=\"mark-text role-axis-title\" pointer-events=\"none\"><text text-anchor=\"middle\" transform=\"translate(18,32)\" font-family=\"sans-serif\" font-size=\"11px\" font-weight=\"bold\" fill=\"#000\" opacity=\"1\"></text></g></g><path class=\"foreground\" aria-hidden=\"true\" d=\"\" pointer-events=\"none\" display=\"none\"></path></g></g></g><path class=\"foreground\" aria-hidden=\"true\" d=\"\" display=\"none\"></path></g><g transform=\"translate(340,351)\"><path class=\"background\" aria-hidden=\"true\" d=\"M0,0h36v0h-36Z\"></path><g><g class=\"mark-group role-axis\" role=\"graphics-symbol\" aria-roledescription=\"axis\" aria-label=\"X-axis titled ' ' for a discrete scale with 2 values: hy, ig\"><g transform=\"translate(0.5,0.5)\"><path class=\"background\" aria-hidden=\"true\" d=\"M0,0h0v0h0Z\" pointer-events=\"none\"></path><g><g class=\"mark-rule role-axis-tick\" pointer-events=\"none\"><line transform=\"translate(9,0)\" x2=\"0\" y2=\"5\" stroke=\"#888\" stroke-width=\"1\" opacity=\"1\"></line><line transform=\"translate(27,0)\" x2=\"0\" y2=\"5\" stroke=\"#888\" stroke-width=\"1\" opacity=\"1\"></line></g><g class=\"mark-text role-axis-label\" pointer-events=\"none\"><text text-anchor=\"end\" transform=\"translate(8.500000000000002,7) rotate(270) translate(0,3)\" font-family=\"sans-serif\" font-size=\"10px\" fill=\"#000\" opacity=\"1\">hy</text><text text-anchor=\"end\" transform=\"translate(26.5,7) rotate(270) translate(0,3)\" font-family=\"sans-serif\" font-size=\"10px\" fill=\"#000\" opacity=\"1\">ig</text></g><g class=\"mark-rule role-axis-domain\" pointer-events=\"none\"><line transform=\"translate(0,0)\" x2=\"36\" y2=\"0\" stroke=\"#888\" stroke-width=\"3\" opacity=\"1\"></line></g><g class=\"mark-text role-axis-title\" pointer-events=\"none\"><text text-anchor=\"middle\" transform=\"translate(18,32)\" font-family=\"sans-serif\" font-size=\"11px\" font-weight=\"bold\" fill=\"#000\" opacity=\"1\"></text></g></g><path class=\"foreground\" aria-hidden=\"true\" d=\"\" pointer-events=\"none\" display=\"none\"></path></g></g></g><path class=\"foreground\" aria-hidden=\"true\" d=\"\" display=\"none\"></path></g><g transform=\"translate(382.5,351)\"><path class=\"background\" aria-hidden=\"true\" d=\"M0,0h36v0h-36Z\"></path><g><g class=\"mark-group role-axis\" role=\"graphics-symbol\" aria-roledescription=\"axis\" aria-label=\"X-axis titled ' ' for a discrete scale with 2 values: hy, ig\"><g transform=\"translate(0.5,0.5)\"><path class=\"background\" aria-hidden=\"true\" d=\"M0,0h0v0h0Z\" pointer-events=\"none\"></path><g><g class=\"mark-rule role-axis-tick\" pointer-events=\"none\"><line transform=\"translate(9,0)\" x2=\"0\" y2=\"5\" stroke=\"#888\" stroke-width=\"1\" opacity=\"1\"></line><line transform=\"translate(27,0)\" x2=\"0\" y2=\"5\" stroke=\"#888\" stroke-width=\"1\" opacity=\"1\"></line></g><g class=\"mark-text role-axis-label\" pointer-events=\"none\"><text text-anchor=\"end\" transform=\"translate(8.500000000000002,7) rotate(270) translate(0,3)\" font-family=\"sans-serif\" font-size=\"10px\" fill=\"#000\" opacity=\"1\">hy</text><text text-anchor=\"end\" transform=\"translate(26.5,7) rotate(270) translate(0,3)\" font-family=\"sans-serif\" font-size=\"10px\" fill=\"#000\" opacity=\"1\">ig</text></g><g class=\"mark-rule role-axis-domain\" pointer-events=\"none\"><line transform=\"translate(0,0)\" x2=\"36\" y2=\"0\" stroke=\"#888\" stroke-width=\"3\" opacity=\"1\"></line></g><g class=\"mark-text role-axis-title\" pointer-events=\"none\"><text text-anchor=\"middle\" transform=\"translate(18,32)\" font-family=\"sans-serif\" font-size=\"11px\" font-weight=\"bold\" fill=\"#000\" opacity=\"1\"></text></g></g><path class=\"foreground\" aria-hidden=\"true\" d=\"\" pointer-events=\"none\" display=\"none\"></path></g></g></g><path class=\"foreground\" aria-hidden=\"true\" d=\"\" display=\"none\"></path></g><g transform=\"translate(425,351)\"><path class=\"background\" aria-hidden=\"true\" d=\"M0,0h36v0h-36Z\"></path><g><g class=\"mark-group role-axis\" role=\"graphics-symbol\" aria-roledescription=\"axis\" aria-label=\"X-axis titled ' ' for a discrete scale with 2 values: hy, ig\"><g transform=\"translate(0.5,0.5)\"><path class=\"background\" aria-hidden=\"true\" d=\"M0,0h0v0h0Z\" pointer-events=\"none\"></path><g><g class=\"mark-rule role-axis-tick\" pointer-events=\"none\"><line transform=\"translate(9,0)\" x2=\"0\" y2=\"5\" stroke=\"#888\" stroke-width=\"1\" opacity=\"1\"></line><line transform=\"translate(27,0)\" x2=\"0\" y2=\"5\" stroke=\"#888\" stroke-width=\"1\" opacity=\"1\"></line></g><g class=\"mark-text role-axis-label\" pointer-events=\"none\"><text text-anchor=\"end\" transform=\"translate(8.500000000000002,7) rotate(270) translate(0,3)\" font-family=\"sans-serif\" font-size=\"10px\" fill=\"#000\" opacity=\"1\">hy</text><text text-anchor=\"end\" transform=\"translate(26.5,7) rotate(270) translate(0,3)\" font-family=\"sans-serif\" font-size=\"10px\" fill=\"#000\" opacity=\"1\">ig</text></g><g class=\"mark-rule role-axis-domain\" pointer-events=\"none\"><line transform=\"translate(0,0)\" x2=\"36\" y2=\"0\" stroke=\"#888\" stroke-width=\"3\" opacity=\"1\"></line></g><g class=\"mark-text role-axis-title\" pointer-events=\"none\"><text text-anchor=\"middle\" transform=\"translate(18,32)\" font-family=\"sans-serif\" font-size=\"11px\" font-weight=\"bold\" fill=\"#000\" opacity=\"1\"></text></g></g><path class=\"foreground\" aria-hidden=\"true\" d=\"\" pointer-events=\"none\" display=\"none\"></path></g></g></g><path class=\"foreground\" aria-hidden=\"true\" d=\"\" display=\"none\"></path></g><g transform=\"translate(467.5,351)\"><path class=\"background\" aria-hidden=\"true\" d=\"M0,0h36v0h-36Z\"></path><g><g class=\"mark-group role-axis\" role=\"graphics-symbol\" aria-roledescription=\"axis\" aria-label=\"X-axis titled ' ' for a discrete scale with 2 values: hy, ig\"><g transform=\"translate(0.5,0.5)\"><path class=\"background\" aria-hidden=\"true\" d=\"M0,0h0v0h0Z\" pointer-events=\"none\"></path><g><g class=\"mark-rule role-axis-tick\" pointer-events=\"none\"><line transform=\"translate(9,0)\" x2=\"0\" y2=\"5\" stroke=\"#888\" stroke-width=\"1\" opacity=\"1\"></line><line transform=\"translate(27,0)\" x2=\"0\" y2=\"5\" stroke=\"#888\" stroke-width=\"1\" opacity=\"1\"></line></g><g class=\"mark-text role-axis-label\" pointer-events=\"none\"><text text-anchor=\"end\" transform=\"translate(8.500000000000002,7) rotate(270) translate(0,3)\" font-family=\"sans-serif\" font-size=\"10px\" fill=\"#000\" opacity=\"1\">hy</text><text text-anchor=\"end\" transform=\"translate(26.5,7) rotate(270) translate(0,3)\" font-family=\"sans-serif\" font-size=\"10px\" fill=\"#000\" opacity=\"1\">ig</text></g><g class=\"mark-rule role-axis-domain\" pointer-events=\"none\"><line transform=\"translate(0,0)\" x2=\"36\" y2=\"0\" stroke=\"#888\" stroke-width=\"3\" opacity=\"1\"></line></g><g class=\"mark-text role-axis-title\" pointer-events=\"none\"><text text-anchor=\"middle\" transform=\"translate(18,32)\" font-family=\"sans-serif\" font-size=\"11px\" font-weight=\"bold\" fill=\"#000\" opacity=\"1\"></text></g></g><path class=\"foreground\" aria-hidden=\"true\" d=\"\" pointer-events=\"none\" display=\"none\"></path></g></g></g><path class=\"foreground\" aria-hidden=\"true\" d=\"\" display=\"none\"></path></g><g transform=\"translate(510,351)\"><path class=\"background\" aria-hidden=\"true\" d=\"M0,0h36v0h-36Z\"></path><g><g class=\"mark-group role-axis\" role=\"graphics-symbol\" aria-roledescription=\"axis\" aria-label=\"X-axis titled ' ' for a discrete scale with 2 values: hy, ig\"><g transform=\"translate(0.5,0.5)\"><path class=\"background\" aria-hidden=\"true\" d=\"M0,0h0v0h0Z\" pointer-events=\"none\"></path><g><g class=\"mark-rule role-axis-tick\" pointer-events=\"none\"><line transform=\"translate(9,0)\" x2=\"0\" y2=\"5\" stroke=\"#888\" stroke-width=\"1\" opacity=\"1\"></line><line transform=\"translate(27,0)\" x2=\"0\" y2=\"5\" stroke=\"#888\" stroke-width=\"1\" opacity=\"1\"></line></g><g class=\"mark-text role-axis-label\" pointer-events=\"none\"><text text-anchor=\"end\" transform=\"translate(8.500000000000002,7) rotate(270) translate(0,3)\" font-family=\"sans-serif\" font-size=\"10px\" fill=\"#000\" opacity=\"1\">hy</text><text text-anchor=\"end\" transform=\"translate(26.5,7) rotate(270) translate(0,3)\" font-family=\"sans-serif\" font-size=\"10px\" fill=\"#000\" opacity=\"1\">ig</text></g><g class=\"mark-rule role-axis-domain\" pointer-events=\"none\"><line transform=\"translate(0,0)\" x2=\"36\" y2=\"0\" stroke=\"#888\" stroke-width=\"3\" opacity=\"1\"></line></g><g class=\"mark-text role-axis-title\" pointer-events=\"none\"><text text-anchor=\"middle\" transform=\"translate(18,32)\" font-family=\"sans-serif\" font-size=\"11px\" font-weight=\"bold\" fill=\"#000\" opacity=\"1\"></text></g></g><path class=\"foreground\" aria-hidden=\"true\" d=\"\" pointer-events=\"none\" display=\"none\"></path></g></g></g><path class=\"foreground\" aria-hidden=\"true\" d=\"\" display=\"none\"></path></g><g transform=\"translate(552.5,351)\"><path class=\"background\" aria-hidden=\"true\" d=\"M0,0h36v0h-36Z\"></path><g><g class=\"mark-group role-axis\" role=\"graphics-symbol\" aria-roledescription=\"axis\" aria-label=\"X-axis titled ' ' for a discrete scale with 2 values: hy, ig\"><g transform=\"translate(0.5,0.5)\"><path class=\"background\" aria-hidden=\"true\" d=\"M0,0h0v0h0Z\" pointer-events=\"none\"></path><g><g class=\"mark-rule role-axis-tick\" pointer-events=\"none\"><line transform=\"translate(9,0)\" x2=\"0\" y2=\"5\" stroke=\"#888\" stroke-width=\"1\" opacity=\"1\"></line><line transform=\"translate(27,0)\" x2=\"0\" y2=\"5\" stroke=\"#888\" stroke-width=\"1\" opacity=\"1\"></line></g><g class=\"mark-text role-axis-label\" pointer-events=\"none\"><text text-anchor=\"end\" transform=\"translate(8.500000000000002,7) rotate(270) translate(0,3)\" font-family=\"sans-serif\" font-size=\"10px\" fill=\"#000\" opacity=\"1\">hy</text><text text-anchor=\"end\" transform=\"translate(26.5,7) rotate(270) translate(0,3)\" font-family=\"sans-serif\" font-size=\"10px\" fill=\"#000\" opacity=\"1\">ig</text></g><g class=\"mark-rule role-axis-domain\" pointer-events=\"none\"><line transform=\"translate(0,0)\" x2=\"36\" y2=\"0\" stroke=\"#888\" stroke-width=\"3\" opacity=\"1\"></line></g><g class=\"mark-text role-axis-title\" pointer-events=\"none\"><text text-anchor=\"middle\" transform=\"translate(18,32)\" font-family=\"sans-serif\" font-size=\"11px\" font-weight=\"bold\" fill=\"#000\" opacity=\"1\"></text></g></g><path class=\"foreground\" aria-hidden=\"true\" d=\"\" pointer-events=\"none\" display=\"none\"></path></g></g></g><path class=\"foreground\" aria-hidden=\"true\" d=\"\" display=\"none\"></path></g><g transform=\"translate(595,351)\"><path class=\"background\" aria-hidden=\"true\" d=\"M0,0h36v0h-36Z\"></path><g><g class=\"mark-group role-axis\" role=\"graphics-symbol\" aria-roledescription=\"axis\" aria-label=\"X-axis titled ' ' for a discrete scale with 2 values: hy, ig\"><g transform=\"translate(0.5,0.5)\"><path class=\"background\" aria-hidden=\"true\" d=\"M0,0h0v0h0Z\" pointer-events=\"none\"></path><g><g class=\"mark-rule role-axis-tick\" pointer-events=\"none\"><line transform=\"translate(9,0)\" x2=\"0\" y2=\"5\" stroke=\"#888\" stroke-width=\"1\" opacity=\"1\"></line><line transform=\"translate(27,0)\" x2=\"0\" y2=\"5\" stroke=\"#888\" stroke-width=\"1\" opacity=\"1\"></line></g><g class=\"mark-text role-axis-label\" pointer-events=\"none\"><text text-anchor=\"end\" transform=\"translate(8.500000000000002,7) rotate(270) translate(0,3)\" font-family=\"sans-serif\" font-size=\"10px\" fill=\"#000\" opacity=\"1\">hy</text><text text-anchor=\"end\" transform=\"translate(26.5,7) rotate(270) translate(0,3)\" font-family=\"sans-serif\" font-size=\"10px\" fill=\"#000\" opacity=\"1\">ig</text></g><g class=\"mark-rule role-axis-domain\" pointer-events=\"none\"><line transform=\"translate(0,0)\" x2=\"36\" y2=\"0\" stroke=\"#888\" stroke-width=\"3\" opacity=\"1\"></line></g><g class=\"mark-text role-axis-title\" pointer-events=\"none\"><text text-anchor=\"middle\" transform=\"translate(18,32)\" font-family=\"sans-serif\" font-size=\"11px\" font-weight=\"bold\" fill=\"#000\" opacity=\"1\"></text></g></g><path class=\"foreground\" aria-hidden=\"true\" d=\"\" pointer-events=\"none\" display=\"none\"></path></g></g></g><path class=\"foreground\" aria-hidden=\"true\" d=\"\" display=\"none\"></path></g></g><g class=\"mark-group role-scope cell\" role=\"graphics-object\" aria-roledescription=\"group mark container\"><g transform=\"translate(0,0)\"><path class=\"background\" aria-hidden=\"true\" d=\"M0.5,0.5h36v350h-36Z\"></path><g><g class=\"mark-rect role-mark child_marks\" role=\"graphics-object\" aria-roledescription=\"rect mark container\"><path aria-label=\": 1.20782551643;  : hy; Rating: hy\" role=\"graphics-symbol\" aria-roledescription=\"bar\" d=\"M0.9000000000000021,217.16912649970277h16.2v93.94198461140832h-16.2Z\" fill=\"rgb(49, 104, 142)\"></path><path aria-label=\": 0.0360590544286;  : ig; Rating: ig\" role=\"graphics-symbol\" aria-roledescription=\"bar\" d=\"M18.900000000000002,308.30651798888925h16.2v2.8045931222218314h-16.2Z\" fill=\"rgb(53, 183, 121)\"></path></g></g><path class=\"foreground\" aria-hidden=\"true\" d=\"\" display=\"none\"></path></g><g transform=\"translate(42.5,0)\"><path class=\"background\" aria-hidden=\"true\" d=\"M0.5,0.5h36v350h-36Z\"></path><g><g class=\"mark-rect role-mark child_marks\" role=\"graphics-object\" aria-roledescription=\"rect mark container\"><path aria-label=\": 3.3837490157;  : hy; Rating: hy\" role=\"graphics-symbol\" aria-roledescription=\"bar\" d=\"M0.9000000000000021,47.93063211259214h16.2v263.18047899851894h-16.2Z\" fill=\"rgb(49, 104, 142)\"></path><path aria-label=\": 1.12706520791;  : ig; Rating: ig\" role=\"graphics-symbol\" aria-roledescription=\"bar\" d=\"M18.900000000000002,223.45048382933328h16.2v87.6606272817778h-16.2Z\" fill=\"rgb(53, 183, 121)\"></path></g></g><path class=\"foreground\" aria-hidden=\"true\" d=\"\" display=\"none\"></path></g><g transform=\"translate(85,0)\"><path class=\"background\" aria-hidden=\"true\" d=\"M0.5,0.5h36v350h-36Z\"></path><g><g class=\"mark-rect role-mark child_marks\" role=\"graphics-object\" aria-roledescription=\"rect mark container\"><path aria-label=\": 0.0314194291966;  : hy; Rating: hy\" role=\"graphics-symbol\" aria-roledescription=\"bar\" d=\"M0.9000000000000021,308.6673777291508h16.2v2.4437333819602713h-16.2Z\" fill=\"rgb(49, 104, 142)\"></path><path aria-label=\": 0.0123205707595;  : ig; Rating: ig\" role=\"graphics-symbol\" aria-roledescription=\"bar\" d=\"M18.900000000000002,310.1528444964804h16.2v0.958266614630702h-16.2Z\" fill=\"rgb(53, 183, 121)\"></path></g></g><path class=\"foreground\" aria-hidden=\"true\" d=\"\" display=\"none\"></path></g><g transform=\"translate(127.5,0)\"><path class=\"background\" aria-hidden=\"true\" d=\"M0.5,0.5h36v350h-36Z\"></path><g><g class=\"mark-rect role-mark child_marks\" role=\"graphics-object\" aria-roledescription=\"rect mark container\"><path aria-label=\": -0.0122906300213;  : hy; Rating: hy\" role=\"graphics-symbol\" aria-roledescription=\"bar\" d=\"M0.9000000000000021,311.1111111111111h16.2v0.955937890546295h-16.2Z\" fill=\"rgb(49, 104, 142)\"></path><path aria-label=\": 0.0474769673381;  : ig; Rating: ig\" role=\"graphics-symbol\" aria-roledescription=\"bar\" d=\"M18.900000000000002,307.4184580959288h16.2v3.692653015182259h-16.2Z\" fill=\"rgb(53, 183, 121)\"></path></g></g><path class=\"foreground\" aria-hidden=\"true\" d=\"\" display=\"none\"></path></g><g transform=\"translate(170,0)\"><path class=\"background\" aria-hidden=\"true\" d=\"M0.5,0.5h36v350h-36Z\"></path><g><g class=\"mark-rect role-mark child_marks\" role=\"graphics-object\" aria-roledescription=\"rect mark container\"><path aria-label=\": 0.0179539595409;  : hy; Rating: hy\" role=\"graphics-symbol\" aria-roledescription=\"bar\" d=\"M0.9000000000000021,309.7146920357052h16.2v1.3964190754059018h-16.2Z\" fill=\"rgb(49, 104, 142)\"></path><path aria-label=\": -0.0105436108034;  : ig; Rating: ig\" role=\"graphics-symbol\" aria-roledescription=\"bar\" d=\"M18.900000000000002,311.1111111111111h16.2v0.820058618044186h-16.2Z\" fill=\"rgb(53, 183, 121)\"></path></g></g><path class=\"foreground\" aria-hidden=\"true\" d=\"\" display=\"none\"></path></g><g transform=\"translate(212.5,0)\"><path class=\"background\" aria-hidden=\"true\" d=\"M0.5,0.5h36v350h-36Z\"></path><g><g class=\"mark-rect role-mark child_marks\" role=\"graphics-object\" aria-roledescription=\"rect mark container\"><path aria-label=\": 3.7866587621;  : hy; Rating: hy\" role=\"graphics-symbol\" aria-roledescription=\"bar\" d=\"M0.9000000000000021,16.593207391863817h16.2v294.5179037192473h-16.2Z\" fill=\"rgb(49, 104, 142)\"></path><path aria-label=\": 0.816470566218;  : ig; Rating: ig\" role=\"graphics-symbol\" aria-roledescription=\"bar\" d=\"M18.900000000000002,247.60784484971987h16.2v63.50326626139122h-16.2Z\" fill=\"rgb(53, 183, 121)\"></path></g></g><path class=\"foreground\" aria-hidden=\"true\" d=\"\" display=\"none\"></path></g><g transform=\"translate(255,0)\"><path class=\"background\" aria-hidden=\"true\" d=\"M0.5,0.5h36v350h-36Z\"></path><g><g class=\"mark-rect role-mark child_marks\" role=\"graphics-object\" aria-roledescription=\"rect mark container\"><path aria-label=\": 0.615254479302;  : hy; Rating: hy\" role=\"graphics-symbol\" aria-roledescription=\"bar\" d=\"M0.9000000000000021,263.2579849431748h16.2v47.853126167936296h-16.2Z\" fill=\"rgb(49, 104, 142)\"></path><path aria-label=\": 0.499037464271;  : ig; Rating: ig\" role=\"graphics-symbol\" aria-roledescription=\"bar\" d=\"M18.900000000000002,272.29708611228887h16.2v38.81402499882222h-16.2Z\" fill=\"rgb(53, 183, 121)\"></path></g></g><path class=\"foreground\" aria-hidden=\"true\" d=\"\" display=\"none\"></path></g><g transform=\"translate(297.5,0)\"><path class=\"background\" aria-hidden=\"true\" d=\"M0.5,0.5h36v350h-36Z\"></path><g><g class=\"mark-rect role-mark child_marks\" role=\"graphics-object\" aria-roledescription=\"rect mark container\"><path aria-label=\": 2.56142151981;  : hy; Rating: hy\" role=\"graphics-symbol\" aria-roledescription=\"bar\" d=\"M0.9000000000000021,111.88943734821247h16.2v199.2216737628986h-16.2Z\" fill=\"rgb(49, 104, 142)\"></path><path aria-label=\": 0.771375481374;  : ig; Rating: ig\" role=\"graphics-symbol\" aria-roledescription=\"bar\" d=\"M18.900000000000002,251.1152403375622h16.2v59.99587077354889h-16.2Z\" fill=\"rgb(53, 183, 121)\"></path></g></g><path class=\"foreground\" aria-hidden=\"true\" d=\"\" display=\"none\"></path></g><g transform=\"translate(340,0)\"><path class=\"background\" aria-hidden=\"true\" d=\"M0.5,0.5h36v350h-36Z\"></path><g><g class=\"mark-rect role-mark child_marks\" role=\"graphics-object\" aria-roledescription=\"rect mark container\"><path aria-label=\": 0.82726784717;  : hy; Rating: hy\" role=\"graphics-symbol\" aria-roledescription=\"bar\" d=\"M0.9000000000000021,246.76805633125076h16.2v64.34305477986032h-16.2Z\" fill=\"rgb(49, 104, 142)\"></path><path aria-label=\": 0.042207524915;  : ig; Rating: ig\" role=\"graphics-symbol\" aria-roledescription=\"bar\" d=\"M18.900000000000002,307.8283036177214h16.2v3.2828074933896687h-16.2Z\" fill=\"rgb(53, 183, 121)\"></path></g></g><path class=\"foreground\" aria-hidden=\"true\" d=\"\" display=\"none\"></path></g><g transform=\"translate(382.5,0)\"><path class=\"background\" aria-hidden=\"true\" d=\"M0.5,0.5h36v350h-36Z\"></path><g><g class=\"mark-rect role-mark child_marks\" role=\"graphics-object\" aria-roledescription=\"rect mark container\"><path aria-label=\": 0.215447514491;  : hy; Rating: hy\" role=\"graphics-symbol\" aria-roledescription=\"bar\" d=\"M0.9000000000000021,294.35408220624043h16.2v16.75702890487065h-16.2Z\" fill=\"rgb(49, 104, 142)\"></path><path aria-label=\": 0.0360448765566;  : ig; Rating: ig\" role=\"graphics-symbol\" aria-roledescription=\"bar\" d=\"M18.900000000000002,308.3076207122662h16.2v2.803490398844872h-16.2Z\" fill=\"rgb(53, 183, 121)\"></path></g></g><path class=\"foreground\" aria-hidden=\"true\" d=\"\" display=\"none\"></path></g><g transform=\"translate(425,0)\"><path class=\"background\" aria-hidden=\"true\" d=\"M0.5,0.5h36v350h-36Z\"></path><g><g class=\"mark-rect role-mark child_marks\" role=\"graphics-object\" aria-roledescription=\"rect mark container\"><path aria-label=\": 0.61088648579;  : hy; Rating: hy\" role=\"graphics-symbol\" aria-roledescription=\"bar\" d=\"M0.9000000000000021,263.5977177719228h16.2v47.51339333918827h-16.2Z\" fill=\"rgb(49, 104, 142)\"></path><path aria-label=\": 0.547932218808;  : ig; Rating: ig\" role=\"graphics-symbol\" aria-roledescription=\"bar\" d=\"M18.900000000000002,268.49416075940314h16.2v42.61695035170794h-16.2Z\" fill=\"rgb(53, 183, 121)\"></path></g></g><path class=\"foreground\" aria-hidden=\"true\" d=\"\" display=\"none\"></path></g><g transform=\"translate(467.5,0)\"><path class=\"background\" aria-hidden=\"true\" d=\"M0.5,0.5h36v350h-36Z\"></path><g><g class=\"mark-rect role-mark child_marks\" role=\"graphics-object\" aria-roledescription=\"rect mark container\"><path aria-label=\": 1.30566857111;  : hy; Rating: hy\" role=\"graphics-symbol\" aria-roledescription=\"bar\" d=\"M0.9000000000000021,209.55911113574592h16.2v101.55199997536516h-16.2Z\" fill=\"rgb(49, 104, 142)\"></path><path aria-label=\": 0.925900108196;  : ig; Rating: ig\" role=\"graphics-symbol\" aria-roledescription=\"bar\" d=\"M18.900000000000002,239.09665825141693h16.2v72.01445285969416h-16.2Z\" fill=\"rgb(53, 183, 121)\"></path></g></g><path class=\"foreground\" aria-hidden=\"true\" d=\"\" display=\"none\"></path></g><g transform=\"translate(510,0)\"><path class=\"background\" aria-hidden=\"true\" d=\"M0.5,0.5h36v350h-36Z\"></path><g><g class=\"mark-rect role-mark child_marks\" role=\"graphics-object\" aria-roledescription=\"rect mark container\"><path aria-label=\": 1.69038336523;  : hy; Rating: hy\" role=\"graphics-symbol\" aria-roledescription=\"bar\" d=\"M0.9000000000000021,179.63684937063158h16.2v131.4742617404795h-16.2Z\" fill=\"rgb(49, 104, 142)\"></path><path aria-label=\": 0.299233440269;  : ig; Rating: ig\" role=\"graphics-symbol\" aria-roledescription=\"bar\" d=\"M18.900000000000002,287.83739909017845h16.2v23.273712020932635h-16.2Z\" fill=\"rgb(53, 183, 121)\"></path></g></g><path class=\"foreground\" aria-hidden=\"true\" d=\"\" display=\"none\"></path></g><g transform=\"translate(552.5,0)\"><path class=\"background\" aria-hidden=\"true\" d=\"M0.5,0.5h36v350h-36Z\"></path><g><g class=\"mark-rect role-mark child_marks\" role=\"graphics-object\" aria-roledescription=\"rect mark container\"><path aria-label=\": 1.39088963074;  : hy; Rating: hy\" role=\"graphics-symbol\" aria-roledescription=\"bar\" d=\"M0.9000000000000021,202.9308064976196h16.2v108.18030461349147h-16.2Z\" fill=\"rgb(49, 104, 142)\"></path><path aria-label=\": 0.0342962723444;  : ig; Rating: ig\" role=\"graphics-symbol\" aria-roledescription=\"bar\" d=\"M18.900000000000002,308.44362326209875h16.2v2.667487849012332h-16.2Z\" fill=\"rgb(53, 183, 121)\"></path></g></g><path class=\"foreground\" aria-hidden=\"true\" d=\"\" display=\"none\"></path></g><g transform=\"translate(595,0)\"><path class=\"background\" aria-hidden=\"true\" d=\"M0.5,0.5h36v350h-36Z\"></path><g><g class=\"mark-rect role-mark child_marks\" role=\"graphics-object\" aria-roledescription=\"rect mark container\"><path aria-label=\": 1.67691789558;  : hy; Rating: hy\" role=\"graphics-symbol\" aria-roledescription=\"bar\" d=\"M0.9000000000000021,180.6841636771859h16.2v130.4269474339252h-16.2Z\" fill=\"rgb(49, 104, 142)\"></path><path aria-label=\": 0.273732174516;  : ig; Rating: ig\" role=\"graphics-symbol\" aria-roledescription=\"bar\" d=\"M18.900000000000002,289.8208308709779h16.2v21.2902802401332h-16.2Z\" fill=\"rgb(53, 183, 121)\"></path></g></g><path class=\"foreground\" aria-hidden=\"true\" d=\"\" display=\"none\"></path></g></g><g class=\"mark-group role-legend\" role=\"graphics-symbol\" aria-roledescription=\"legend\" aria-label=\"Symbol legend titled 'Rating' for fill color with 2 values: hy, ig\"><g transform=\"translate(650,0)\"><path class=\"background\" aria-hidden=\"true\" d=\"M0,0h40v40h-40Z\" pointer-events=\"none\"></path><g><g class=\"mark-group role-legend-entry\"><g transform=\"translate(0,16)\"><path class=\"background\" aria-hidden=\"true\" d=\"M0,0h0v0h0Z\" pointer-events=\"none\"></path><g><g class=\"mark-group role-scope\" role=\"graphics-object\" aria-roledescription=\"group mark container\"><g transform=\"translate(0,0)\"><path class=\"background\" aria-hidden=\"true\" d=\"M0,0h28v11h-28Z\" pointer-events=\"none\" opacity=\"1\"></path><g><g class=\"mark-symbol role-legend-symbol\" pointer-events=\"none\"><path transform=\"translate(6,6)\" d=\"M-5,-5h10v10h-10Z\" fill=\"rgb(49, 104, 142)\" stroke-width=\"1.5\" opacity=\"1\"></path></g><g class=\"mark-text role-legend-label\" pointer-events=\"none\"><text text-anchor=\"start\" transform=\"translate(16,9)\" font-family=\"sans-serif\" font-size=\"10px\" fill=\"#000\" opacity=\"1\">hy</text></g></g><path class=\"foreground\" aria-hidden=\"true\" d=\"\" pointer-events=\"none\" display=\"none\"></path></g><g transform=\"translate(0,13)\"><path class=\"background\" aria-hidden=\"true\" d=\"M0,0h28v11h-28Z\" pointer-events=\"none\" opacity=\"1\"></path><g><g class=\"mark-symbol role-legend-symbol\" pointer-events=\"none\"><path transform=\"translate(6,6)\" d=\"M-5,-5h10v10h-10Z\" fill=\"rgb(53, 183, 121)\" stroke-width=\"1.5\" opacity=\"1\"></path></g><g class=\"mark-text role-legend-label\" pointer-events=\"none\"><text text-anchor=\"start\" transform=\"translate(16,9)\" font-family=\"sans-serif\" font-size=\"10px\" fill=\"#000\" opacity=\"1\">ig</text></g></g><path class=\"foreground\" aria-hidden=\"true\" d=\"\" pointer-events=\"none\" display=\"none\"></path></g></g></g><path class=\"foreground\" aria-hidden=\"true\" d=\"\" pointer-events=\"none\" display=\"none\"></path></g></g><g class=\"mark-text role-legend-title\" pointer-events=\"none\"><text text-anchor=\"start\" transform=\"translate(0,9)\" font-family=\"sans-serif\" font-size=\"11px\" font-weight=\"bold\" fill=\"#000\" opacity=\"1\">Rating</text></g></g><path class=\"foreground\" aria-hidden=\"true\" d=\"\" pointer-events=\"none\" display=\"none\"></path></g></g><g class=\"mark-group role-title\"><g transform=\"translate(331.5,-86)\"><path class=\"background\" aria-hidden=\"true\" d=\"M0,0h0v0h0Z\" pointer-events=\"none\"></path><g><g class=\"mark-text role-title-text\" role=\"graphics-symbol\" aria-roledescription=\"title\" aria-label=\"Title text 'smth smth'\" pointer-events=\"none\"><text text-anchor=\"middle\" transform=\"translate(0,11)\" font-family=\"sans-serif\" font-size=\"14px\" font-weight=\"bold\" fill=\"#000\" opacity=\"1\">smth smth</text></g></g><path class=\"foreground\" aria-hidden=\"true\" d=\"\" pointer-events=\"none\" display=\"none\"></path></g></g></g><path class=\"foreground\" aria-hidden=\"true\" d=\"\" display=\"none\"></path></g></g></g></svg>\n"
      ],
      "text/plain": [
       "@vlplot(\n",
       "    config={\n",
       "        view={\n",
       "            stroke=\"transparent\"\n",
       "        },\n",
       "        axis={\n",
       "            domainWidth=3\n",
       "        },\n",
       "        opacity={\n",
       "            value=0.7\n",
       "        }\n",
       "    },\n",
       "    title={\n",
       "        text=[\n",
       "            \"smth smth\"\n",
       "        ],\n",
       "        align=\"center\",\n",
       "        anchor=\"middle\",\n",
       "        fontSize=14,\n",
       "        offset=20\n",
       "    },\n",
       "    spacing=4.5,\n",
       "    width={\n",
       "        step=18\n",
       "    },\n",
       "    height=350,\n",
       "    mark=\"bar\",\n",
       "    encoding={\n",
       "        column={\n",
       "            type=\"ordinal\",\n",
       "            title=\"Covenant Category\",\n",
       "            sort=\"ascending\",\n",
       "            field=\"cov_cat\"\n",
       "        },\n",
       "        y={\n",
       "            axis={\n",
       "                title=\"\",\n",
       "                grid=false,\n",
       "                stack=nothing\n",
       "            },\n",
       "            field=\"perc_diff\"\n",
       "        },\n",
       "        x={\n",
       "            type=\"nominal\",\n",
       "            axis={\n",
       "                title=\" \"\n",
       "            },\n",
       "            field=\"rt\"\n",
       "        },\n",
       "        color={\n",
       "            legend={\n",
       "                title=\"Rating\"\n",
       "            },\n",
       "            scale={\n",
       "                scheme=\"viridis\"\n",
       "            },\n",
       "            field=\"rt\",\n",
       "            type=\"nominal\"\n",
       "        }\n",
       "    },\n",
       "    data={\n",
       "        values=...\n",
       "    }\n",
       ")"
      ]
     },
     "execution_count": 11,
     "metadata": {},
     "output_type": "execute_result"
    }
   ],
   "source": [
    "color_scale=\"viridis\"\n",
    "cal_formula=\"\"\n",
    "cal_var=\"\"\n",
    "col_var=\"cov_cat\"\n",
    "col_var_type=\"ordinal\"\n",
    "col_title=\"Covenant Category\"\n",
    "col_sort=\"ascending\"\n",
    "x_var=\"sbm:n\"\n",
    "x_var_type=\"nominal\"\n",
    "x_axis_title=\" \"\n",
    "width_step=18\n",
    "legend_title=\"Secondary Market\"\n",
    "spacing=4.5\n",
    "height=350\n",
    "save_plt=true\n",
    "plt_type = \"cov_cat\"\n",
    "file_ext=\"png\"\n",
    "\n",
    "y_var=\"perc_diff\"\n",
    "y_axis_title=\"% Diff in the Number of Issuers\"\n",
    "title=[\"ATS v.s. OTC % Difference in Rating- Contingent Number of Non-MTN-Bond Issuers\" ,\n",
    "       \" by Number of Covenant Categories per Bond\"]\n",
    "# if :period in Symbol.(names(tt))\n",
    "#     title[end] = string(title[end], \" - \", tt[1, :period])\n",
    "# end\n",
    "\n",
    "\n",
    "x_var=\"rt:n\"\n",
    "x_var_type=\"nominal\"\n",
    "legend_title=\"Rating\"\n",
    "\n",
    "# rt_tt[:, \"sbm2\"] .= uppercase.(string.(rt_tt[:, :sbm]))\n",
    "# row_var=\"sbm2\"\n",
    "# y_var = \"perc_sbm_total\"\n",
    "col_var = \"cov_cat\"\n",
    "row_var_type=\"ordinal\"\n",
    "row_var_title=\"Covenant Categories\"\n",
    "y_axis_title=\"\"\n",
    "title = [\"smth smth\"]\n",
    "save_plt = false\n",
    "\n",
    "p = PlotMod.sbm_vega_plt(rt_tt, col_var, x_var, y_var;\n",
    "                         col_var_type=col_var_type,\n",
    "                         col_title=col_title, \n",
    "                         col_sort=col_sort,\n",
    "                         x_var_type=x_var_type,\n",
    "                         x_axis_title=x_axis_title, \n",
    "                         y_axis_title=y_axis_title, \n",
    "                         legend_title=legend_title, \n",
    "                         color_scale=color_scale,\n",
    "                         title=title, \n",
    "                         spacing=spacing,\n",
    "                         width_step=width_step,\n",
    "                         height=height,\n",
    "                         save_plt=save_plt,\n",
    "                         plt_type=plt_type,\n",
    "                         stats_var=stats_var)\n",
    "\n",
    "\n",
    "\n",
    "# include(string(scripts_path, \"/\", \"single_vega_plt_script.jl\"))\n",
    "# push!(pl, p)\n"
   ]
  },
  {
   "cell_type": "code",
   "execution_count": null,
   "metadata": {},
   "outputs": [],
   "source": []
  },
  {
   "cell_type": "code",
   "execution_count": 124,
   "metadata": {},
   "outputs": [
    {
     "data": {
      "application/vnd.vegalite.v4+json": {
       "config": {
        "axis": {
         "domainWidth": 3
        },
        "opacity": {
         "value": 0.7
        },
        "view": {
         "stroke": "transparent"
        }
       },
       "data": {
        "values": [
         {
          "cov_cat": 1,
          "perc_ats": 28.02631578947368,
          "perc_diff": 2.052289815447711,
          "perc_otc": 25.97402597402597,
          "rt": "hy",
          "value_ats": 213,
          "value_diff": -7,
          "value_otc": 220
         },
         {
          "cov_cat": 2,
          "perc_ats": 76.44736842105263,
          "perc_diff": 4.546541974771628,
          "perc_otc": 71.900826446281,
          "rt": "hy",
          "value_ats": 581,
          "value_diff": -28,
          "value_otc": 609
         },
         {
          "cov_cat": 3,
          "perc_ats": 0.5263157894736842,
          "perc_diff": 0.05406077176412105,
          "perc_otc": 0.47225501770956313,
          "rt": "hy",
          "value_ats": 4,
          "value_diff": 0,
          "value_otc": 4
         },
         {
          "cov_cat": 4,
          "perc_ats": 0.9210526315789472,
          "perc_diff": -0.023457403840179025,
          "perc_otc": 0.9445100354191263,
          "rt": "hy",
          "value_ats": 7,
          "value_diff": -1,
          "value_otc": 8
         },
         {
          "cov_cat": 5,
          "perc_ats": 0.5263157894736842,
          "perc_diff": 0.05406077176412105,
          "perc_otc": 0.47225501770956313,
          "rt": "hy",
          "value_ats": 4,
          "value_diff": 0,
          "value_otc": 4
         },
         {
          "cov_cat": 6,
          "perc_ats": 66.84210526315789,
          "perc_diff": 5.0947616976325065,
          "perc_otc": 61.747343565525384,
          "rt": "hy",
          "value_ats": 508,
          "value_diff": -15,
          "value_otc": 523
         },
         {
          "cov_cat": 7,
          "perc_ats": 97.76315789473684,
          "perc_diff": 0.006369228857252551,
          "perc_otc": 97.75678866587958,
          "rt": "hy",
          "value_ats": 743,
          "value_diff": -85,
          "value_otc": 828
         },
         {
          "cov_cat": 8,
          "perc_ats": 35.26315789473684,
          "perc_diff": 2.913689181631767,
          "perc_otc": 32.349468713105075,
          "rt": "hy",
          "value_ats": 268,
          "value_diff": -6,
          "value_otc": 274
         },
         {
          "cov_cat": 9,
          "perc_ats": 19.86842105263158,
          "perc_diff": 1.568539116386006,
          "perc_otc": 18.299881936245573,
          "rt": "hy",
          "value_ats": 151,
          "value_diff": -4,
          "value_otc": 155
         },
         {
          "cov_cat": 10,
          "perc_ats": 3.026315789473684,
          "perc_diff": 0.3108494376436961,
          "perc_otc": 2.715466351829988,
          "rt": "hy",
          "value_ats": 23,
          "value_diff": 0,
          "value_otc": 23
         },
         {
          "cov_cat": 11,
          "perc_ats": 89.07894736842105,
          "perc_diff": 0.41306779345056555,
          "perc_otc": 88.66587957497049,
          "rt": "hy",
          "value_ats": 677,
          "value_diff": -74,
          "value_otc": 751
         },
         {
          "cov_cat": 12,
          "perc_ats": 70.52631578947368,
          "perc_diff": 1.104828186167893,
          "perc_otc": 69.42148760330579,
          "rt": "hy",
          "value_ats": 536,
          "value_diff": -52,
          "value_otc": 588
         },
         {
          "cov_cat": 13,
          "perc_ats": 85.92105263157895,
          "perc_diff": 1.7415957248493186,
          "perc_otc": 84.17945690672963,
          "rt": "hy",
          "value_ats": 653,
          "value_diff": -60,
          "value_otc": 713
         },
         {
          "cov_cat": 14,
          "perc_ats": 31.973684210526315,
          "perc_diff": 2.339681849251228,
          "perc_otc": 29.634002361275087,
          "rt": "hy",
          "value_ats": 243,
          "value_diff": -8,
          "value_otc": 251
         },
         {
          "cov_cat": 15,
          "perc_ats": 85.39473684210527,
          "perc_diff": 1.6875349530852048,
          "perc_otc": 83.70720188902007,
          "rt": "hy",
          "value_ats": 649,
          "value_diff": -60,
          "value_otc": 709
         },
         {
          "cov_cat": 1,
          "perc_ats": 3.653355989804588,
          "perc_diff": 0.11426133959882678,
          "perc_otc": 3.539094650205761,
          "rt": "ig",
          "value_ats": 43,
          "value_diff": 0,
          "value_otc": 43
         },
         {
          "cov_cat": 2,
          "perc_ats": 82.92268479184366,
          "perc_diff": 1.276594256864243,
          "perc_otc": 81.64609053497942,
          "rt": "ig",
          "value_ats": 976,
          "value_diff": -16,
          "value_otc": 992
         },
         {
          "cov_cat": 3,
          "perc_ats": 1.5293118096856415,
          "perc_diff": 0.04783032820415989,
          "perc_otc": 1.4814814814814816,
          "rt": "ig",
          "value_ats": 18,
          "value_diff": 0,
          "value_otc": 18
         },
         {
          "cov_cat": 4,
          "perc_ats": 2.6338147833474936,
          "perc_diff": 0.08237445412938671,
          "perc_otc": 2.551440329218107,
          "rt": "ig",
          "value_ats": 31,
          "value_diff": 0,
          "value_otc": 31
         },
         {
          "cov_cat": 5,
          "perc_ats": 0.16992353440951571,
          "perc_diff": -0.07699004583739785,
          "perc_otc": 0.24691358024691357,
          "rt": "ig",
          "value_ats": 2,
          "value_diff": -1,
          "value_otc": 3
         },
         {
          "cov_cat": 6,
          "perc_ats": 67.71452846219202,
          "perc_diff": 0.883252742027409,
          "perc_otc": 66.83127572016461,
          "rt": "ig",
          "value_ats": 797,
          "value_diff": -15,
          "value_otc": 812
         },
         {
          "cov_cat": 7,
          "perc_ats": 95.5819881053526,
          "perc_diff": 0.5202597102908584,
          "perc_otc": 95.06172839506173,
          "rt": "ig",
          "value_ats": 1125,
          "value_diff": -30,
          "value_otc": 1155
         },
         {
          "cov_cat": 8,
          "perc_ats": 43.840271877655056,
          "perc_diff": 0.6303953344451827,
          "perc_otc": 43.20987654320987,
          "rt": "ig",
          "value_ats": 516,
          "value_diff": -9,
          "value_otc": 525
         },
         {
          "cov_cat": 9,
          "perc_ats": 4.078164825828377,
          "perc_diff": 0.1275475418777603,
          "perc_otc": 3.950617283950617,
          "rt": "ig",
          "value_ats": 48,
          "value_diff": 0,
          "value_otc": 48
         },
         {
          "cov_cat": 10,
          "perc_ats": 2.2090059473237043,
          "perc_diff": 0.0690882518504532,
          "perc_otc": 2.139917695473251,
          "rt": "ig",
          "value_ats": 26,
          "value_diff": 0,
          "value_otc": 26
         },
         {
          "cov_cat": 11,
          "perc_ats": 83.43245539507221,
          "perc_diff": 0.38718790536027825,
          "perc_otc": 83.04526748971193,
          "rt": "ig",
          "value_ats": 982,
          "value_diff": -27,
          "value_otc": 1009
         },
         {
          "cov_cat": 12,
          "perc_ats": 39.082412914188616,
          "perc_diff": 0.3169808154231788,
          "perc_otc": 38.76543209876544,
          "rt": "ig",
          "value_ats": 460,
          "value_diff": -11,
          "value_otc": 471
         },
         {
          "cov_cat": 13,
          "perc_ats": 88.36023789294816,
          "perc_diff": 0.2943942715489811,
          "perc_otc": 88.06584362139918,
          "rt": "ig",
          "value_ats": 1040,
          "value_diff": -30,
          "value_otc": 1070
         },
         {
          "cov_cat": 14,
          "perc_ats": 4.4180118946474085,
          "perc_diff": -0.02643254979703613,
          "perc_otc": 4.444444444444445,
          "rt": "ig",
          "value_ats": 52,
          "value_diff": -2,
          "value_otc": 54
         },
         {
          "cov_cat": 15,
          "perc_ats": 87.51062022090059,
          "perc_diff": 0.2678218669911274,
          "perc_otc": 87.24279835390946,
          "rt": "ig",
          "value_ats": 1030,
          "value_diff": -30,
          "value_otc": 1060
         }
        ]
       },
       "encoding": {
        "color": {
         "field": "rt",
         "legend": {
          "title": "Rating"
         },
         "scale": {
          "scheme": "viridis"
         },
         "type": "nominal"
        },
        "column": {
         "field": "cov_cat",
         "sort": "ascending",
         "title": "Covenant Category",
         "type": "ordinal"
        },
        "x": {
         "axis": {
          "title": " "
         },
         "field": "rt",
         "type": "nominal"
        },
        "y": {
         "axis": {
          "grid": false,
          "stack": null,
          "title": ""
         },
         "field": "perc_diff",
         "type": "quantitative"
        }
       },
       "height": 350,
       "mark": "bar",
       "spacing": 4.5,
       "title": {
        "align": "center",
        "anchor": "middle",
        "fontSize": 14,
        "offset": 20,
        "text": [
         "smth smth"
        ]
       },
       "width": {
        "step": 18
       }
      },
      "image/png": "[encoded data removed]",
      "image/svg+xml": [
       "<?xml version=\"1.0\" encoding=\"utf-8\"?>\n",
       "<!DOCTYPE svg PUBLIC \"-//W3C//DTD SVG 1.1//EN\" \"http://www.w3.org/Graphics/SVG/1.1/DTD/svg11.dtd\">\n",
       "<svg class=\"marks\" width=\"727\" height=\"481\" viewBox=\"0 0 727 481\" version=\"1.1\" xmlns=\"http://www.w3.org/2000/svg\" xmlns:xlink=\"http://www.w3.org/1999/xlink\"><rect width=\"727\" height=\"481\" fill=\"white\"></rect><g fill=\"none\" stroke-miterlimit=\"10\" transform=\"translate(32,91)\"><g class=\"mark-group role-frame root\" role=\"graphics-object\" aria-roledescription=\"group mark container\"><g transform=\"translate(0,0)\"><path class=\"background\" aria-hidden=\"true\" d=\"M0,0h0v0h0Z\"></path><g><g class=\"mark-group role-column-title column-title\" role=\"graphics-object\" aria-roledescription=\"group mark container\"><g transform=\"translate(316,-31)\"><path class=\"background\" aria-hidden=\"true\" d=\"M0,0h0v0h0Z\"></path><g><g class=\"mark-group role-title\"><g transform=\"translate(0,-21)\"><path class=\"background\" aria-hidden=\"true\" d=\"M0,0h0v0h0Z\" pointer-events=\"none\"></path><g><g class=\"mark-text role-title-text\" role=\"graphics-symbol\" aria-roledescription=\"title\" aria-label=\"Title text 'Covenant Category'\" pointer-events=\"none\"><text text-anchor=\"middle\" transform=\"translate(0,9)\" font-family=\"sans-serif\" font-size=\"11px\" font-weight=\"bold\" fill=\"#000\" opacity=\"1\">Covenant Category</text></g></g><path class=\"foreground\" aria-hidden=\"true\" d=\"\" pointer-events=\"none\" display=\"none\"></path></g></g></g><path class=\"foreground\" aria-hidden=\"true\" d=\"\" display=\"none\"></path></g></g><g class=\"mark-group role-row-header row_header\" role=\"graphics-object\" aria-roledescription=\"group mark container\"><g transform=\"translate(-1,0)\"><path class=\"background\" aria-hidden=\"true\" d=\"M0,0h0v350h0Z\"></path><g><g class=\"mark-group role-axis\" role=\"graphics-symbol\" aria-roledescription=\"axis\" aria-label=\"Y-axis for a linear scale with values from -1 to 6\"><g transform=\"translate(0.5,0.5)\"><path class=\"background\" aria-hidden=\"true\" d=\"M0,0h0v0h0Z\" pointer-events=\"none\"></path><g><g class=\"mark-rule role-axis-tick\" pointer-events=\"none\"><line transform=\"translate(0,350)\" x2=\"-5\" y2=\"0\" stroke=\"#888\" stroke-width=\"1\" opacity=\"1\"></line><line transform=\"translate(0,321)\" x2=\"-5\" y2=\"0\" stroke=\"#888\" stroke-width=\"1\" opacity=\"1\"></line><line transform=\"translate(0,292)\" x2=\"-5\" y2=\"0\" stroke=\"#888\" stroke-width=\"1\" opacity=\"1\"></line><line transform=\"translate(0,263)\" x2=\"-5\" y2=\"0\" stroke=\"#888\" stroke-width=\"1\" opacity=\"1\"></line><line transform=\"translate(0,233)\" x2=\"-5\" y2=\"0\" stroke=\"#888\" stroke-width=\"1\" opacity=\"1\"></line><line transform=\"translate(0,204)\" x2=\"-5\" y2=\"0\" stroke=\"#888\" stroke-width=\"1\" opacity=\"1\"></line><line transform=\"translate(0,175)\" x2=\"-5\" y2=\"0\" stroke=\"#888\" stroke-width=\"1\" opacity=\"1\"></line><line transform=\"translate(0,146)\" x2=\"-5\" y2=\"0\" stroke=\"#888\" stroke-width=\"1\" opacity=\"1\"></line><line transform=\"translate(0,117)\" x2=\"-5\" y2=\"0\" stroke=\"#888\" stroke-width=\"1\" opacity=\"1\"></line><line transform=\"translate(0,88)\" x2=\"-5\" y2=\"0\" stroke=\"#888\" stroke-width=\"1\" opacity=\"1\"></line><line transform=\"translate(0,58)\" x2=\"-5\" y2=\"0\" stroke=\"#888\" stroke-width=\"1\" opacity=\"1\"></line><line transform=\"translate(0,29)\" x2=\"-5\" y2=\"0\" stroke=\"#888\" stroke-width=\"1\" opacity=\"1\"></line><line transform=\"translate(0,0)\" x2=\"-5\" y2=\"0\" stroke=\"#888\" stroke-width=\"1\" opacity=\"1\"></line></g><g class=\"mark-text role-axis-label\" pointer-events=\"none\"><text text-anchor=\"end\" transform=\"translate(-7,353)\" font-family=\"sans-serif\" font-size=\"10px\" fill=\"#000\" opacity=\"1\">-0.5</text><text text-anchor=\"end\" transform=\"translate(-7,323.8333333333333)\" font-family=\"sans-serif\" font-size=\"10px\" fill=\"#000\" opacity=\"1\">0.0</text><text text-anchor=\"end\" transform=\"translate(-7,294.6666666666667)\" font-family=\"sans-serif\" font-size=\"10px\" fill=\"#000\" opacity=\"1\">0.5</text><text text-anchor=\"end\" transform=\"translate(-7,265.5)\" font-family=\"sans-serif\" font-size=\"10px\" fill=\"#000\" opacity=\"1\">1.0</text><text text-anchor=\"end\" transform=\"translate(-7,236.33333333333337)\" font-family=\"sans-serif\" font-size=\"10px\" fill=\"#000\" opacity=\"1\">1.5</text><text text-anchor=\"end\" transform=\"translate(-7,207.16666666666663)\" font-family=\"sans-serif\" font-size=\"10px\" fill=\"#000\" opacity=\"1\">2.0</text><text text-anchor=\"end\" transform=\"translate(-7,178)\" font-family=\"sans-serif\" font-size=\"10px\" fill=\"#000\" opacity=\"1\">2.5</text><text text-anchor=\"end\" transform=\"translate(-7,148.83333333333331)\" font-family=\"sans-serif\" font-size=\"10px\" fill=\"#000\" opacity=\"1\">3.0</text><text text-anchor=\"end\" transform=\"translate(-7,119.66666666666669)\" font-family=\"sans-serif\" font-size=\"10px\" fill=\"#000\" opacity=\"1\">3.5</text><text text-anchor=\"end\" transform=\"translate(-7,90.5)\" font-family=\"sans-serif\" font-size=\"10px\" fill=\"#000\" opacity=\"1\">4.0</text><text text-anchor=\"end\" transform=\"translate(-7,61.33333333333332)\" font-family=\"sans-serif\" font-size=\"10px\" fill=\"#000\" opacity=\"1\">4.5</text><text text-anchor=\"end\" transform=\"translate(-7,32.16666666666668)\" font-family=\"sans-serif\" font-size=\"10px\" fill=\"#000\" opacity=\"1\">5.0</text><text text-anchor=\"end\" transform=\"translate(-7,3)\" font-family=\"sans-serif\" font-size=\"10px\" fill=\"#000\" opacity=\"1\">5.5</text></g><g class=\"mark-rule role-axis-domain\" pointer-events=\"none\"><line transform=\"translate(0,350)\" x2=\"0\" y2=\"-350\" stroke=\"#888\" stroke-width=\"3\" opacity=\"1\"></line></g></g><path class=\"foreground\" aria-hidden=\"true\" d=\"\" pointer-events=\"none\" display=\"none\"></path></g></g></g><path class=\"foreground\" aria-hidden=\"true\" d=\"\" display=\"none\"></path></g></g><g class=\"mark-group role-column-header column_header\" role=\"graphics-object\" aria-roledescription=\"group mark container\"><g transform=\"translate(0,-1)\"><path class=\"background\" aria-hidden=\"true\" d=\"M0,0h36v0h-36Z\"></path><g><g class=\"mark-group role-title\"><g transform=\"translate(18,-20)\"><path class=\"background\" aria-hidden=\"true\" d=\"M0,0h0v0h0Z\" pointer-events=\"none\"></path><g><g class=\"mark-text role-title-text\" role=\"graphics-symbol\" aria-roledescription=\"title\" aria-label=\"Title text '1'\" pointer-events=\"none\"><text text-anchor=\"middle\" transform=\"translate(0,8)\" font-family=\"sans-serif\" font-size=\"10px\" fill=\"#000\" opacity=\"1\">1</text></g></g><path class=\"foreground\" aria-hidden=\"true\" d=\"\" pointer-events=\"none\" display=\"none\"></path></g></g></g><path class=\"foreground\" aria-hidden=\"true\" d=\"\" display=\"none\"></path></g><g transform=\"translate(42.5,-1)\"><path class=\"background\" aria-hidden=\"true\" d=\"M0,0h36v0h-36Z\"></path><g><g class=\"mark-group role-title\"><g transform=\"translate(18,-20)\"><path class=\"background\" aria-hidden=\"true\" d=\"M0,0h0v0h0Z\" pointer-events=\"none\"></path><g><g class=\"mark-text role-title-text\" role=\"graphics-symbol\" aria-roledescription=\"title\" aria-label=\"Title text '2'\" pointer-events=\"none\"><text text-anchor=\"middle\" transform=\"translate(0,8)\" font-family=\"sans-serif\" font-size=\"10px\" fill=\"#000\" opacity=\"1\">2</text></g></g><path class=\"foreground\" aria-hidden=\"true\" d=\"\" pointer-events=\"none\" display=\"none\"></path></g></g></g><path class=\"foreground\" aria-hidden=\"true\" d=\"\" display=\"none\"></path></g><g transform=\"translate(85,-1)\"><path class=\"background\" aria-hidden=\"true\" d=\"M0,0h36v0h-36Z\"></path><g><g class=\"mark-group role-title\"><g transform=\"translate(18,-20)\"><path class=\"background\" aria-hidden=\"true\" d=\"M0,0h0v0h0Z\" pointer-events=\"none\"></path><g><g class=\"mark-text role-title-text\" role=\"graphics-symbol\" aria-roledescription=\"title\" aria-label=\"Title text '3'\" pointer-events=\"none\"><text text-anchor=\"middle\" transform=\"translate(0,8)\" font-family=\"sans-serif\" font-size=\"10px\" fill=\"#000\" opacity=\"1\">3</text></g></g><path class=\"foreground\" aria-hidden=\"true\" d=\"\" pointer-events=\"none\" display=\"none\"></path></g></g></g><path class=\"foreground\" aria-hidden=\"true\" d=\"\" display=\"none\"></path></g><g transform=\"translate(127.5,-1)\"><path class=\"background\" aria-hidden=\"true\" d=\"M0,0h36v0h-36Z\"></path><g><g class=\"mark-group role-title\"><g transform=\"translate(18,-20)\"><path class=\"background\" aria-hidden=\"true\" d=\"M0,0h0v0h0Z\" pointer-events=\"none\"></path><g><g class=\"mark-text role-title-text\" role=\"graphics-symbol\" aria-roledescription=\"title\" aria-label=\"Title text '4'\" pointer-events=\"none\"><text text-anchor=\"middle\" transform=\"translate(0,8)\" font-family=\"sans-serif\" font-size=\"10px\" fill=\"#000\" opacity=\"1\">4</text></g></g><path class=\"foreground\" aria-hidden=\"true\" d=\"\" pointer-events=\"none\" display=\"none\"></path></g></g></g><path class=\"foreground\" aria-hidden=\"true\" d=\"\" display=\"none\"></path></g><g transform=\"translate(170,-1)\"><path class=\"background\" aria-hidden=\"true\" d=\"M0,0h36v0h-36Z\"></path><g><g class=\"mark-group role-title\"><g transform=\"translate(18,-20)\"><path class=\"background\" aria-hidden=\"true\" d=\"M0,0h0v0h0Z\" pointer-events=\"none\"></path><g><g class=\"mark-text role-title-text\" role=\"graphics-symbol\" aria-roledescription=\"title\" aria-label=\"Title text '5'\" pointer-events=\"none\"><text text-anchor=\"middle\" transform=\"translate(0,8)\" font-family=\"sans-serif\" font-size=\"10px\" fill=\"#000\" opacity=\"1\">5</text></g></g><path class=\"foreground\" aria-hidden=\"true\" d=\"\" pointer-events=\"none\" display=\"none\"></path></g></g></g><path class=\"foreground\" aria-hidden=\"true\" d=\"\" display=\"none\"></path></g><g transform=\"translate(212.5,-1)\"><path class=\"background\" aria-hidden=\"true\" d=\"M0,0h36v0h-36Z\"></path><g><g class=\"mark-group role-title\"><g transform=\"translate(18,-20)\"><path class=\"background\" aria-hidden=\"true\" d=\"M0,0h0v0h0Z\" pointer-events=\"none\"></path><g><g class=\"mark-text role-title-text\" role=\"graphics-symbol\" aria-roledescription=\"title\" aria-label=\"Title text '6'\" pointer-events=\"none\"><text text-anchor=\"middle\" transform=\"translate(0,8)\" font-family=\"sans-serif\" font-size=\"10px\" fill=\"#000\" opacity=\"1\">6</text></g></g><path class=\"foreground\" aria-hidden=\"true\" d=\"\" pointer-events=\"none\" display=\"none\"></path></g></g></g><path class=\"foreground\" aria-hidden=\"true\" d=\"\" display=\"none\"></path></g><g transform=\"translate(255,-1)\"><path class=\"background\" aria-hidden=\"true\" d=\"M0,0h36v0h-36Z\"></path><g><g class=\"mark-group role-title\"><g transform=\"translate(18,-20)\"><path class=\"background\" aria-hidden=\"true\" d=\"M0,0h0v0h0Z\" pointer-events=\"none\"></path><g><g class=\"mark-text role-title-text\" role=\"graphics-symbol\" aria-roledescription=\"title\" aria-label=\"Title text '7'\" pointer-events=\"none\"><text text-anchor=\"middle\" transform=\"translate(0,8)\" font-family=\"sans-serif\" font-size=\"10px\" fill=\"#000\" opacity=\"1\">7</text></g></g><path class=\"foreground\" aria-hidden=\"true\" d=\"\" pointer-events=\"none\" display=\"none\"></path></g></g></g><path class=\"foreground\" aria-hidden=\"true\" d=\"\" display=\"none\"></path></g><g transform=\"translate(297.5,-1)\"><path class=\"background\" aria-hidden=\"true\" d=\"M0,0h36v0h-36Z\"></path><g><g class=\"mark-group role-title\"><g transform=\"translate(18,-20)\"><path class=\"background\" aria-hidden=\"true\" d=\"M0,0h0v0h0Z\" pointer-events=\"none\"></path><g><g class=\"mark-text role-title-text\" role=\"graphics-symbol\" aria-roledescription=\"title\" aria-label=\"Title text '8'\" pointer-events=\"none\"><text text-anchor=\"middle\" transform=\"translate(0,8)\" font-family=\"sans-serif\" font-size=\"10px\" fill=\"#000\" opacity=\"1\">8</text></g></g><path class=\"foreground\" aria-hidden=\"true\" d=\"\" pointer-events=\"none\" display=\"none\"></path></g></g></g><path class=\"foreground\" aria-hidden=\"true\" d=\"\" display=\"none\"></path></g><g transform=\"translate(340,-1)\"><path class=\"background\" aria-hidden=\"true\" d=\"M0,0h36v0h-36Z\"></path><g><g class=\"mark-group role-title\"><g transform=\"translate(18,-20)\"><path class=\"background\" aria-hidden=\"true\" d=\"M0,0h0v0h0Z\" pointer-events=\"none\"></path><g><g class=\"mark-text role-title-text\" role=\"graphics-symbol\" aria-roledescription=\"title\" aria-label=\"Title text '9'\" pointer-events=\"none\"><text text-anchor=\"middle\" transform=\"translate(0,8)\" font-family=\"sans-serif\" font-size=\"10px\" fill=\"#000\" opacity=\"1\">9</text></g></g><path class=\"foreground\" aria-hidden=\"true\" d=\"\" pointer-events=\"none\" display=\"none\"></path></g></g></g><path class=\"foreground\" aria-hidden=\"true\" d=\"\" display=\"none\"></path></g><g transform=\"translate(382.5,-1)\"><path class=\"background\" aria-hidden=\"true\" d=\"M0,0h36v0h-36Z\"></path><g><g class=\"mark-group role-title\"><g transform=\"translate(18,-20)\"><path class=\"background\" aria-hidden=\"true\" d=\"M0,0h0v0h0Z\" pointer-events=\"none\"></path><g><g class=\"mark-text role-title-text\" role=\"graphics-symbol\" aria-roledescription=\"title\" aria-label=\"Title text '10'\" pointer-events=\"none\"><text text-anchor=\"middle\" transform=\"translate(0,8)\" font-family=\"sans-serif\" font-size=\"10px\" fill=\"#000\" opacity=\"1\">10</text></g></g><path class=\"foreground\" aria-hidden=\"true\" d=\"\" pointer-events=\"none\" display=\"none\"></path></g></g></g><path class=\"foreground\" aria-hidden=\"true\" d=\"\" display=\"none\"></path></g><g transform=\"translate(425,-1)\"><path class=\"background\" aria-hidden=\"true\" d=\"M0,0h36v0h-36Z\"></path><g><g class=\"mark-group role-title\"><g transform=\"translate(18,-20)\"><path class=\"background\" aria-hidden=\"true\" d=\"M0,0h0v0h0Z\" pointer-events=\"none\"></path><g><g class=\"mark-text role-title-text\" role=\"graphics-symbol\" aria-roledescription=\"title\" aria-label=\"Title text '11'\" pointer-events=\"none\"><text text-anchor=\"middle\" transform=\"translate(0,8)\" font-family=\"sans-serif\" font-size=\"10px\" fill=\"#000\" opacity=\"1\">11</text></g></g><path class=\"foreground\" aria-hidden=\"true\" d=\"\" pointer-events=\"none\" display=\"none\"></path></g></g></g><path class=\"foreground\" aria-hidden=\"true\" d=\"\" display=\"none\"></path></g><g transform=\"translate(467.5,-1)\"><path class=\"background\" aria-hidden=\"true\" d=\"M0,0h36v0h-36Z\"></path><g><g class=\"mark-group role-title\"><g transform=\"translate(18,-20)\"><path class=\"background\" aria-hidden=\"true\" d=\"M0,0h0v0h0Z\" pointer-events=\"none\"></path><g><g class=\"mark-text role-title-text\" role=\"graphics-symbol\" aria-roledescription=\"title\" aria-label=\"Title text '12'\" pointer-events=\"none\"><text text-anchor=\"middle\" transform=\"translate(0,8)\" font-family=\"sans-serif\" font-size=\"10px\" fill=\"#000\" opacity=\"1\">12</text></g></g><path class=\"foreground\" aria-hidden=\"true\" d=\"\" pointer-events=\"none\" display=\"none\"></path></g></g></g><path class=\"foreground\" aria-hidden=\"true\" d=\"\" display=\"none\"></path></g><g transform=\"translate(510,-1)\"><path class=\"background\" aria-hidden=\"true\" d=\"M0,0h36v0h-36Z\"></path><g><g class=\"mark-group role-title\"><g transform=\"translate(18,-20)\"><path class=\"background\" aria-hidden=\"true\" d=\"M0,0h0v0h0Z\" pointer-events=\"none\"></path><g><g class=\"mark-text role-title-text\" role=\"graphics-symbol\" aria-roledescription=\"title\" aria-label=\"Title text '13'\" pointer-events=\"none\"><text text-anchor=\"middle\" transform=\"translate(0,8)\" font-family=\"sans-serif\" font-size=\"10px\" fill=\"#000\" opacity=\"1\">13</text></g></g><path class=\"foreground\" aria-hidden=\"true\" d=\"\" pointer-events=\"none\" display=\"none\"></path></g></g></g><path class=\"foreground\" aria-hidden=\"true\" d=\"\" display=\"none\"></path></g><g transform=\"translate(552.5,-1)\"><path class=\"background\" aria-hidden=\"true\" d=\"M0,0h36v0h-36Z\"></path><g><g class=\"mark-group role-title\"><g transform=\"translate(18,-20)\"><path class=\"background\" aria-hidden=\"true\" d=\"M0,0h0v0h0Z\" pointer-events=\"none\"></path><g><g class=\"mark-text role-title-text\" role=\"graphics-symbol\" aria-roledescription=\"title\" aria-label=\"Title text '14'\" pointer-events=\"none\"><text text-anchor=\"middle\" transform=\"translate(0,8)\" font-family=\"sans-serif\" font-size=\"10px\" fill=\"#000\" opacity=\"1\">14</text></g></g><path class=\"foreground\" aria-hidden=\"true\" d=\"\" pointer-events=\"none\" display=\"none\"></path></g></g></g><path class=\"foreground\" aria-hidden=\"true\" d=\"\" display=\"none\"></path></g><g transform=\"translate(595,-1)\"><path class=\"background\" aria-hidden=\"true\" d=\"M0,0h36v0h-36Z\"></path><g><g class=\"mark-group role-title\"><g transform=\"translate(18,-20)\"><path class=\"background\" aria-hidden=\"true\" d=\"M0,0h0v0h0Z\" pointer-events=\"none\"></path><g><g class=\"mark-text role-title-text\" role=\"graphics-symbol\" aria-roledescription=\"title\" aria-label=\"Title text '15'\" pointer-events=\"none\"><text text-anchor=\"middle\" transform=\"translate(0,8)\" font-family=\"sans-serif\" font-size=\"10px\" fill=\"#000\" opacity=\"1\">15</text></g></g><path class=\"foreground\" aria-hidden=\"true\" d=\"\" pointer-events=\"none\" display=\"none\"></path></g></g></g><path class=\"foreground\" aria-hidden=\"true\" d=\"\" display=\"none\"></path></g></g><g class=\"mark-group role-column-footer column_footer\" role=\"graphics-object\" aria-roledescription=\"group mark container\"><g transform=\"translate(0,351)\"><path class=\"background\" aria-hidden=\"true\" d=\"M0,0h36v0h-36Z\"></path><g><g class=\"mark-group role-axis\" role=\"graphics-symbol\" aria-roledescription=\"axis\" aria-label=\"X-axis titled ' ' for a discrete scale with 2 values: hy, ig\"><g transform=\"translate(0.5,0.5)\"><path class=\"background\" aria-hidden=\"true\" d=\"M0,0h0v0h0Z\" pointer-events=\"none\"></path><g><g class=\"mark-rule role-axis-tick\" pointer-events=\"none\"><line transform=\"translate(9,0)\" x2=\"0\" y2=\"5\" stroke=\"#888\" stroke-width=\"1\" opacity=\"1\"></line><line transform=\"translate(27,0)\" x2=\"0\" y2=\"5\" stroke=\"#888\" stroke-width=\"1\" opacity=\"1\"></line></g><g class=\"mark-text role-axis-label\" pointer-events=\"none\"><text text-anchor=\"end\" transform=\"translate(8.500000000000002,7) rotate(270) translate(0,3)\" font-family=\"sans-serif\" font-size=\"10px\" fill=\"#000\" opacity=\"1\">hy</text><text text-anchor=\"end\" transform=\"translate(26.5,7) rotate(270) translate(0,3)\" font-family=\"sans-serif\" font-size=\"10px\" fill=\"#000\" opacity=\"1\">ig</text></g><g class=\"mark-rule role-axis-domain\" pointer-events=\"none\"><line transform=\"translate(0,0)\" x2=\"36\" y2=\"0\" stroke=\"#888\" stroke-width=\"3\" opacity=\"1\"></line></g><g class=\"mark-text role-axis-title\" pointer-events=\"none\"><text text-anchor=\"middle\" transform=\"translate(18,32)\" font-family=\"sans-serif\" font-size=\"11px\" font-weight=\"bold\" fill=\"#000\" opacity=\"1\"></text></g></g><path class=\"foreground\" aria-hidden=\"true\" d=\"\" pointer-events=\"none\" display=\"none\"></path></g></g></g><path class=\"foreground\" aria-hidden=\"true\" d=\"\" display=\"none\"></path></g><g transform=\"translate(42.5,351)\"><path class=\"background\" aria-hidden=\"true\" d=\"M0,0h36v0h-36Z\"></path><g><g class=\"mark-group role-axis\" role=\"graphics-symbol\" aria-roledescription=\"axis\" aria-label=\"X-axis titled ' ' for a discrete scale with 2 values: hy, ig\"><g transform=\"translate(0.5,0.5)\"><path class=\"background\" aria-hidden=\"true\" d=\"M0,0h0v0h0Z\" pointer-events=\"none\"></path><g><g class=\"mark-rule role-axis-tick\" pointer-events=\"none\"><line transform=\"translate(9,0)\" x2=\"0\" y2=\"5\" stroke=\"#888\" stroke-width=\"1\" opacity=\"1\"></line><line transform=\"translate(27,0)\" x2=\"0\" y2=\"5\" stroke=\"#888\" stroke-width=\"1\" opacity=\"1\"></line></g><g class=\"mark-text role-axis-label\" pointer-events=\"none\"><text text-anchor=\"end\" transform=\"translate(8.500000000000002,7) rotate(270) translate(0,3)\" font-family=\"sans-serif\" font-size=\"10px\" fill=\"#000\" opacity=\"1\">hy</text><text text-anchor=\"end\" transform=\"translate(26.5,7) rotate(270) translate(0,3)\" font-family=\"sans-serif\" font-size=\"10px\" fill=\"#000\" opacity=\"1\">ig</text></g><g class=\"mark-rule role-axis-domain\" pointer-events=\"none\"><line transform=\"translate(0,0)\" x2=\"36\" y2=\"0\" stroke=\"#888\" stroke-width=\"3\" opacity=\"1\"></line></g><g class=\"mark-text role-axis-title\" pointer-events=\"none\"><text text-anchor=\"middle\" transform=\"translate(18,32)\" font-family=\"sans-serif\" font-size=\"11px\" font-weight=\"bold\" fill=\"#000\" opacity=\"1\"></text></g></g><path class=\"foreground\" aria-hidden=\"true\" d=\"\" pointer-events=\"none\" display=\"none\"></path></g></g></g><path class=\"foreground\" aria-hidden=\"true\" d=\"\" display=\"none\"></path></g><g transform=\"translate(85,351)\"><path class=\"background\" aria-hidden=\"true\" d=\"M0,0h36v0h-36Z\"></path><g><g class=\"mark-group role-axis\" role=\"graphics-symbol\" aria-roledescription=\"axis\" aria-label=\"X-axis titled ' ' for a discrete scale with 2 values: hy, ig\"><g transform=\"translate(0.5,0.5)\"><path class=\"background\" aria-hidden=\"true\" d=\"M0,0h0v0h0Z\" pointer-events=\"none\"></path><g><g class=\"mark-rule role-axis-tick\" pointer-events=\"none\"><line transform=\"translate(9,0)\" x2=\"0\" y2=\"5\" stroke=\"#888\" stroke-width=\"1\" opacity=\"1\"></line><line transform=\"translate(27,0)\" x2=\"0\" y2=\"5\" stroke=\"#888\" stroke-width=\"1\" opacity=\"1\"></line></g><g class=\"mark-text role-axis-label\" pointer-events=\"none\"><text text-anchor=\"end\" transform=\"translate(8.500000000000002,7) rotate(270) translate(0,3)\" font-family=\"sans-serif\" font-size=\"10px\" fill=\"#000\" opacity=\"1\">hy</text><text text-anchor=\"end\" transform=\"translate(26.5,7) rotate(270) translate(0,3)\" font-family=\"sans-serif\" font-size=\"10px\" fill=\"#000\" opacity=\"1\">ig</text></g><g class=\"mark-rule role-axis-domain\" pointer-events=\"none\"><line transform=\"translate(0,0)\" x2=\"36\" y2=\"0\" stroke=\"#888\" stroke-width=\"3\" opacity=\"1\"></line></g><g class=\"mark-text role-axis-title\" pointer-events=\"none\"><text text-anchor=\"middle\" transform=\"translate(18,32)\" font-family=\"sans-serif\" font-size=\"11px\" font-weight=\"bold\" fill=\"#000\" opacity=\"1\"></text></g></g><path class=\"foreground\" aria-hidden=\"true\" d=\"\" pointer-events=\"none\" display=\"none\"></path></g></g></g><path class=\"foreground\" aria-hidden=\"true\" d=\"\" display=\"none\"></path></g><g transform=\"translate(127.5,351)\"><path class=\"background\" aria-hidden=\"true\" d=\"M0,0h36v0h-36Z\"></path><g><g class=\"mark-group role-axis\" role=\"graphics-symbol\" aria-roledescription=\"axis\" aria-label=\"X-axis titled ' ' for a discrete scale with 2 values: hy, ig\"><g transform=\"translate(0.5,0.5)\"><path class=\"background\" aria-hidden=\"true\" d=\"M0,0h0v0h0Z\" pointer-events=\"none\"></path><g><g class=\"mark-rule role-axis-tick\" pointer-events=\"none\"><line transform=\"translate(9,0)\" x2=\"0\" y2=\"5\" stroke=\"#888\" stroke-width=\"1\" opacity=\"1\"></line><line transform=\"translate(27,0)\" x2=\"0\" y2=\"5\" stroke=\"#888\" stroke-width=\"1\" opacity=\"1\"></line></g><g class=\"mark-text role-axis-label\" pointer-events=\"none\"><text text-anchor=\"end\" transform=\"translate(8.500000000000002,7) rotate(270) translate(0,3)\" font-family=\"sans-serif\" font-size=\"10px\" fill=\"#000\" opacity=\"1\">hy</text><text text-anchor=\"end\" transform=\"translate(26.5,7) rotate(270) translate(0,3)\" font-family=\"sans-serif\" font-size=\"10px\" fill=\"#000\" opacity=\"1\">ig</text></g><g class=\"mark-rule role-axis-domain\" pointer-events=\"none\"><line transform=\"translate(0,0)\" x2=\"36\" y2=\"0\" stroke=\"#888\" stroke-width=\"3\" opacity=\"1\"></line></g><g class=\"mark-text role-axis-title\" pointer-events=\"none\"><text text-anchor=\"middle\" transform=\"translate(18,32)\" font-family=\"sans-serif\" font-size=\"11px\" font-weight=\"bold\" fill=\"#000\" opacity=\"1\"></text></g></g><path class=\"foreground\" aria-hidden=\"true\" d=\"\" pointer-events=\"none\" display=\"none\"></path></g></g></g><path class=\"foreground\" aria-hidden=\"true\" d=\"\" display=\"none\"></path></g><g transform=\"translate(170,351)\"><path class=\"background\" aria-hidden=\"true\" d=\"M0,0h36v0h-36Z\"></path><g><g class=\"mark-group role-axis\" role=\"graphics-symbol\" aria-roledescription=\"axis\" aria-label=\"X-axis titled ' ' for a discrete scale with 2 values: hy, ig\"><g transform=\"translate(0.5,0.5)\"><path class=\"background\" aria-hidden=\"true\" d=\"M0,0h0v0h0Z\" pointer-events=\"none\"></path><g><g class=\"mark-rule role-axis-tick\" pointer-events=\"none\"><line transform=\"translate(9,0)\" x2=\"0\" y2=\"5\" stroke=\"#888\" stroke-width=\"1\" opacity=\"1\"></line><line transform=\"translate(27,0)\" x2=\"0\" y2=\"5\" stroke=\"#888\" stroke-width=\"1\" opacity=\"1\"></line></g><g class=\"mark-text role-axis-label\" pointer-events=\"none\"><text text-anchor=\"end\" transform=\"translate(8.500000000000002,7) rotate(270) translate(0,3)\" font-family=\"sans-serif\" font-size=\"10px\" fill=\"#000\" opacity=\"1\">hy</text><text text-anchor=\"end\" transform=\"translate(26.5,7) rotate(270) translate(0,3)\" font-family=\"sans-serif\" font-size=\"10px\" fill=\"#000\" opacity=\"1\">ig</text></g><g class=\"mark-rule role-axis-domain\" pointer-events=\"none\"><line transform=\"translate(0,0)\" x2=\"36\" y2=\"0\" stroke=\"#888\" stroke-width=\"3\" opacity=\"1\"></line></g><g class=\"mark-text role-axis-title\" pointer-events=\"none\"><text text-anchor=\"middle\" transform=\"translate(18,32)\" font-family=\"sans-serif\" font-size=\"11px\" font-weight=\"bold\" fill=\"#000\" opacity=\"1\"></text></g></g><path class=\"foreground\" aria-hidden=\"true\" d=\"\" pointer-events=\"none\" display=\"none\"></path></g></g></g><path class=\"foreground\" aria-hidden=\"true\" d=\"\" display=\"none\"></path></g><g transform=\"translate(212.5,351)\"><path class=\"background\" aria-hidden=\"true\" d=\"M0,0h36v0h-36Z\"></path><g><g class=\"mark-group role-axis\" role=\"graphics-symbol\" aria-roledescription=\"axis\" aria-label=\"X-axis titled ' ' for a discrete scale with 2 values: hy, ig\"><g transform=\"translate(0.5,0.5)\"><path class=\"background\" aria-hidden=\"true\" d=\"M0,0h0v0h0Z\" pointer-events=\"none\"></path><g><g class=\"mark-rule role-axis-tick\" pointer-events=\"none\"><line transform=\"translate(9,0)\" x2=\"0\" y2=\"5\" stroke=\"#888\" stroke-width=\"1\" opacity=\"1\"></line><line transform=\"translate(27,0)\" x2=\"0\" y2=\"5\" stroke=\"#888\" stroke-width=\"1\" opacity=\"1\"></line></g><g class=\"mark-text role-axis-label\" pointer-events=\"none\"><text text-anchor=\"end\" transform=\"translate(8.500000000000002,7) rotate(270) translate(0,3)\" font-family=\"sans-serif\" font-size=\"10px\" fill=\"#000\" opacity=\"1\">hy</text><text text-anchor=\"end\" transform=\"translate(26.5,7) rotate(270) translate(0,3)\" font-family=\"sans-serif\" font-size=\"10px\" fill=\"#000\" opacity=\"1\">ig</text></g><g class=\"mark-rule role-axis-domain\" pointer-events=\"none\"><line transform=\"translate(0,0)\" x2=\"36\" y2=\"0\" stroke=\"#888\" stroke-width=\"3\" opacity=\"1\"></line></g><g class=\"mark-text role-axis-title\" pointer-events=\"none\"><text text-anchor=\"middle\" transform=\"translate(18,32)\" font-family=\"sans-serif\" font-size=\"11px\" font-weight=\"bold\" fill=\"#000\" opacity=\"1\"></text></g></g><path class=\"foreground\" aria-hidden=\"true\" d=\"\" pointer-events=\"none\" display=\"none\"></path></g></g></g><path class=\"foreground\" aria-hidden=\"true\" d=\"\" display=\"none\"></path></g><g transform=\"translate(255,351)\"><path class=\"background\" aria-hidden=\"true\" d=\"M0,0h36v0h-36Z\"></path><g><g class=\"mark-group role-axis\" role=\"graphics-symbol\" aria-roledescription=\"axis\" aria-label=\"X-axis titled ' ' for a discrete scale with 2 values: hy, ig\"><g transform=\"translate(0.5,0.5)\"><path class=\"background\" aria-hidden=\"true\" d=\"M0,0h0v0h0Z\" pointer-events=\"none\"></path><g><g class=\"mark-rule role-axis-tick\" pointer-events=\"none\"><line transform=\"translate(9,0)\" x2=\"0\" y2=\"5\" stroke=\"#888\" stroke-width=\"1\" opacity=\"1\"></line><line transform=\"translate(27,0)\" x2=\"0\" y2=\"5\" stroke=\"#888\" stroke-width=\"1\" opacity=\"1\"></line></g><g class=\"mark-text role-axis-label\" pointer-events=\"none\"><text text-anchor=\"end\" transform=\"translate(8.500000000000002,7) rotate(270) translate(0,3)\" font-family=\"sans-serif\" font-size=\"10px\" fill=\"#000\" opacity=\"1\">hy</text><text text-anchor=\"end\" transform=\"translate(26.5,7) rotate(270) translate(0,3)\" font-family=\"sans-serif\" font-size=\"10px\" fill=\"#000\" opacity=\"1\">ig</text></g><g class=\"mark-rule role-axis-domain\" pointer-events=\"none\"><line transform=\"translate(0,0)\" x2=\"36\" y2=\"0\" stroke=\"#888\" stroke-width=\"3\" opacity=\"1\"></line></g><g class=\"mark-text role-axis-title\" pointer-events=\"none\"><text text-anchor=\"middle\" transform=\"translate(18,32)\" font-family=\"sans-serif\" font-size=\"11px\" font-weight=\"bold\" fill=\"#000\" opacity=\"1\"></text></g></g><path class=\"foreground\" aria-hidden=\"true\" d=\"\" pointer-events=\"none\" display=\"none\"></path></g></g></g><path class=\"foreground\" aria-hidden=\"true\" d=\"\" display=\"none\"></path></g><g transform=\"translate(297.5,351)\"><path class=\"background\" aria-hidden=\"true\" d=\"M0,0h36v0h-36Z\"></path><g><g class=\"mark-group role-axis\" role=\"graphics-symbol\" aria-roledescription=\"axis\" aria-label=\"X-axis titled ' ' for a discrete scale with 2 values: hy, ig\"><g transform=\"translate(0.5,0.5)\"><path class=\"background\" aria-hidden=\"true\" d=\"M0,0h0v0h0Z\" pointer-events=\"none\"></path><g><g class=\"mark-rule role-axis-tick\" pointer-events=\"none\"><line transform=\"translate(9,0)\" x2=\"0\" y2=\"5\" stroke=\"#888\" stroke-width=\"1\" opacity=\"1\"></line><line transform=\"translate(27,0)\" x2=\"0\" y2=\"5\" stroke=\"#888\" stroke-width=\"1\" opacity=\"1\"></line></g><g class=\"mark-text role-axis-label\" pointer-events=\"none\"><text text-anchor=\"end\" transform=\"translate(8.500000000000002,7) rotate(270) translate(0,3)\" font-family=\"sans-serif\" font-size=\"10px\" fill=\"#000\" opacity=\"1\">hy</text><text text-anchor=\"end\" transform=\"translate(26.5,7) rotate(270) translate(0,3)\" font-family=\"sans-serif\" font-size=\"10px\" fill=\"#000\" opacity=\"1\">ig</text></g><g class=\"mark-rule role-axis-domain\" pointer-events=\"none\"><line transform=\"translate(0,0)\" x2=\"36\" y2=\"0\" stroke=\"#888\" stroke-width=\"3\" opacity=\"1\"></line></g><g class=\"mark-text role-axis-title\" pointer-events=\"none\"><text text-anchor=\"middle\" transform=\"translate(18,32)\" font-family=\"sans-serif\" font-size=\"11px\" font-weight=\"bold\" fill=\"#000\" opacity=\"1\"></text></g></g><path class=\"foreground\" aria-hidden=\"true\" d=\"\" pointer-events=\"none\" display=\"none\"></path></g></g></g><path class=\"foreground\" aria-hidden=\"true\" d=\"\" display=\"none\"></path></g><g transform=\"translate(340,351)\"><path class=\"background\" aria-hidden=\"true\" d=\"M0,0h36v0h-36Z\"></path><g><g class=\"mark-group role-axis\" role=\"graphics-symbol\" aria-roledescription=\"axis\" aria-label=\"X-axis titled ' ' for a discrete scale with 2 values: hy, ig\"><g transform=\"translate(0.5,0.5)\"><path class=\"background\" aria-hidden=\"true\" d=\"M0,0h0v0h0Z\" pointer-events=\"none\"></path><g><g class=\"mark-rule role-axis-tick\" pointer-events=\"none\"><line transform=\"translate(9,0)\" x2=\"0\" y2=\"5\" stroke=\"#888\" stroke-width=\"1\" opacity=\"1\"></line><line transform=\"translate(27,0)\" x2=\"0\" y2=\"5\" stroke=\"#888\" stroke-width=\"1\" opacity=\"1\"></line></g><g class=\"mark-text role-axis-label\" pointer-events=\"none\"><text text-anchor=\"end\" transform=\"translate(8.500000000000002,7) rotate(270) translate(0,3)\" font-family=\"sans-serif\" font-size=\"10px\" fill=\"#000\" opacity=\"1\">hy</text><text text-anchor=\"end\" transform=\"translate(26.5,7) rotate(270) translate(0,3)\" font-family=\"sans-serif\" font-size=\"10px\" fill=\"#000\" opacity=\"1\">ig</text></g><g class=\"mark-rule role-axis-domain\" pointer-events=\"none\"><line transform=\"translate(0,0)\" x2=\"36\" y2=\"0\" stroke=\"#888\" stroke-width=\"3\" opacity=\"1\"></line></g><g class=\"mark-text role-axis-title\" pointer-events=\"none\"><text text-anchor=\"middle\" transform=\"translate(18,32)\" font-family=\"sans-serif\" font-size=\"11px\" font-weight=\"bold\" fill=\"#000\" opacity=\"1\"></text></g></g><path class=\"foreground\" aria-hidden=\"true\" d=\"\" pointer-events=\"none\" display=\"none\"></path></g></g></g><path class=\"foreground\" aria-hidden=\"true\" d=\"\" display=\"none\"></path></g><g transform=\"translate(382.5,351)\"><path class=\"background\" aria-hidden=\"true\" d=\"M0,0h36v0h-36Z\"></path><g><g class=\"mark-group role-axis\" role=\"graphics-symbol\" aria-roledescription=\"axis\" aria-label=\"X-axis titled ' ' for a discrete scale with 2 values: hy, ig\"><g transform=\"translate(0.5,0.5)\"><path class=\"background\" aria-hidden=\"true\" d=\"M0,0h0v0h0Z\" pointer-events=\"none\"></path><g><g class=\"mark-rule role-axis-tick\" pointer-events=\"none\"><line transform=\"translate(9,0)\" x2=\"0\" y2=\"5\" stroke=\"#888\" stroke-width=\"1\" opacity=\"1\"></line><line transform=\"translate(27,0)\" x2=\"0\" y2=\"5\" stroke=\"#888\" stroke-width=\"1\" opacity=\"1\"></line></g><g class=\"mark-text role-axis-label\" pointer-events=\"none\"><text text-anchor=\"end\" transform=\"translate(8.500000000000002,7) rotate(270) translate(0,3)\" font-family=\"sans-serif\" font-size=\"10px\" fill=\"#000\" opacity=\"1\">hy</text><text text-anchor=\"end\" transform=\"translate(26.5,7) rotate(270) translate(0,3)\" font-family=\"sans-serif\" font-size=\"10px\" fill=\"#000\" opacity=\"1\">ig</text></g><g class=\"mark-rule role-axis-domain\" pointer-events=\"none\"><line transform=\"translate(0,0)\" x2=\"36\" y2=\"0\" stroke=\"#888\" stroke-width=\"3\" opacity=\"1\"></line></g><g class=\"mark-text role-axis-title\" pointer-events=\"none\"><text text-anchor=\"middle\" transform=\"translate(18,32)\" font-family=\"sans-serif\" font-size=\"11px\" font-weight=\"bold\" fill=\"#000\" opacity=\"1\"></text></g></g><path class=\"foreground\" aria-hidden=\"true\" d=\"\" pointer-events=\"none\" display=\"none\"></path></g></g></g><path class=\"foreground\" aria-hidden=\"true\" d=\"\" display=\"none\"></path></g><g transform=\"translate(425,351)\"><path class=\"background\" aria-hidden=\"true\" d=\"M0,0h36v0h-36Z\"></path><g><g class=\"mark-group role-axis\" role=\"graphics-symbol\" aria-roledescription=\"axis\" aria-label=\"X-axis titled ' ' for a discrete scale with 2 values: hy, ig\"><g transform=\"translate(0.5,0.5)\"><path class=\"background\" aria-hidden=\"true\" d=\"M0,0h0v0h0Z\" pointer-events=\"none\"></path><g><g class=\"mark-rule role-axis-tick\" pointer-events=\"none\"><line transform=\"translate(9,0)\" x2=\"0\" y2=\"5\" stroke=\"#888\" stroke-width=\"1\" opacity=\"1\"></line><line transform=\"translate(27,0)\" x2=\"0\" y2=\"5\" stroke=\"#888\" stroke-width=\"1\" opacity=\"1\"></line></g><g class=\"mark-text role-axis-label\" pointer-events=\"none\"><text text-anchor=\"end\" transform=\"translate(8.500000000000002,7) rotate(270) translate(0,3)\" font-family=\"sans-serif\" font-size=\"10px\" fill=\"#000\" opacity=\"1\">hy</text><text text-anchor=\"end\" transform=\"translate(26.5,7) rotate(270) translate(0,3)\" font-family=\"sans-serif\" font-size=\"10px\" fill=\"#000\" opacity=\"1\">ig</text></g><g class=\"mark-rule role-axis-domain\" pointer-events=\"none\"><line transform=\"translate(0,0)\" x2=\"36\" y2=\"0\" stroke=\"#888\" stroke-width=\"3\" opacity=\"1\"></line></g><g class=\"mark-text role-axis-title\" pointer-events=\"none\"><text text-anchor=\"middle\" transform=\"translate(18,32)\" font-family=\"sans-serif\" font-size=\"11px\" font-weight=\"bold\" fill=\"#000\" opacity=\"1\"></text></g></g><path class=\"foreground\" aria-hidden=\"true\" d=\"\" pointer-events=\"none\" display=\"none\"></path></g></g></g><path class=\"foreground\" aria-hidden=\"true\" d=\"\" display=\"none\"></path></g><g transform=\"translate(467.5,351)\"><path class=\"background\" aria-hidden=\"true\" d=\"M0,0h36v0h-36Z\"></path><g><g class=\"mark-group role-axis\" role=\"graphics-symbol\" aria-roledescription=\"axis\" aria-label=\"X-axis titled ' ' for a discrete scale with 2 values: hy, ig\"><g transform=\"translate(0.5,0.5)\"><path class=\"background\" aria-hidden=\"true\" d=\"M0,0h0v0h0Z\" pointer-events=\"none\"></path><g><g class=\"mark-rule role-axis-tick\" pointer-events=\"none\"><line transform=\"translate(9,0)\" x2=\"0\" y2=\"5\" stroke=\"#888\" stroke-width=\"1\" opacity=\"1\"></line><line transform=\"translate(27,0)\" x2=\"0\" y2=\"5\" stroke=\"#888\" stroke-width=\"1\" opacity=\"1\"></line></g><g class=\"mark-text role-axis-label\" pointer-events=\"none\"><text text-anchor=\"end\" transform=\"translate(8.500000000000002,7) rotate(270) translate(0,3)\" font-family=\"sans-serif\" font-size=\"10px\" fill=\"#000\" opacity=\"1\">hy</text><text text-anchor=\"end\" transform=\"translate(26.5,7) rotate(270) translate(0,3)\" font-family=\"sans-serif\" font-size=\"10px\" fill=\"#000\" opacity=\"1\">ig</text></g><g class=\"mark-rule role-axis-domain\" pointer-events=\"none\"><line transform=\"translate(0,0)\" x2=\"36\" y2=\"0\" stroke=\"#888\" stroke-width=\"3\" opacity=\"1\"></line></g><g class=\"mark-text role-axis-title\" pointer-events=\"none\"><text text-anchor=\"middle\" transform=\"translate(18,32)\" font-family=\"sans-serif\" font-size=\"11px\" font-weight=\"bold\" fill=\"#000\" opacity=\"1\"></text></g></g><path class=\"foreground\" aria-hidden=\"true\" d=\"\" pointer-events=\"none\" display=\"none\"></path></g></g></g><path class=\"foreground\" aria-hidden=\"true\" d=\"\" display=\"none\"></path></g><g transform=\"translate(510,351)\"><path class=\"background\" aria-hidden=\"true\" d=\"M0,0h36v0h-36Z\"></path><g><g class=\"mark-group role-axis\" role=\"graphics-symbol\" aria-roledescription=\"axis\" aria-label=\"X-axis titled ' ' for a discrete scale with 2 values: hy, ig\"><g transform=\"translate(0.5,0.5)\"><path class=\"background\" aria-hidden=\"true\" d=\"M0,0h0v0h0Z\" pointer-events=\"none\"></path><g><g class=\"mark-rule role-axis-tick\" pointer-events=\"none\"><line transform=\"translate(9,0)\" x2=\"0\" y2=\"5\" stroke=\"#888\" stroke-width=\"1\" opacity=\"1\"></line><line transform=\"translate(27,0)\" x2=\"0\" y2=\"5\" stroke=\"#888\" stroke-width=\"1\" opacity=\"1\"></line></g><g class=\"mark-text role-axis-label\" pointer-events=\"none\"><text text-anchor=\"end\" transform=\"translate(8.500000000000002,7) rotate(270) translate(0,3)\" font-family=\"sans-serif\" font-size=\"10px\" fill=\"#000\" opacity=\"1\">hy</text><text text-anchor=\"end\" transform=\"translate(26.5,7) rotate(270) translate(0,3)\" font-family=\"sans-serif\" font-size=\"10px\" fill=\"#000\" opacity=\"1\">ig</text></g><g class=\"mark-rule role-axis-domain\" pointer-events=\"none\"><line transform=\"translate(0,0)\" x2=\"36\" y2=\"0\" stroke=\"#888\" stroke-width=\"3\" opacity=\"1\"></line></g><g class=\"mark-text role-axis-title\" pointer-events=\"none\"><text text-anchor=\"middle\" transform=\"translate(18,32)\" font-family=\"sans-serif\" font-size=\"11px\" font-weight=\"bold\" fill=\"#000\" opacity=\"1\"></text></g></g><path class=\"foreground\" aria-hidden=\"true\" d=\"\" pointer-events=\"none\" display=\"none\"></path></g></g></g><path class=\"foreground\" aria-hidden=\"true\" d=\"\" display=\"none\"></path></g><g transform=\"translate(552.5,351)\"><path class=\"background\" aria-hidden=\"true\" d=\"M0,0h36v0h-36Z\"></path><g><g class=\"mark-group role-axis\" role=\"graphics-symbol\" aria-roledescription=\"axis\" aria-label=\"X-axis titled ' ' for a discrete scale with 2 values: hy, ig\"><g transform=\"translate(0.5,0.5)\"><path class=\"background\" aria-hidden=\"true\" d=\"M0,0h0v0h0Z\" pointer-events=\"none\"></path><g><g class=\"mark-rule role-axis-tick\" pointer-events=\"none\"><line transform=\"translate(9,0)\" x2=\"0\" y2=\"5\" stroke=\"#888\" stroke-width=\"1\" opacity=\"1\"></line><line transform=\"translate(27,0)\" x2=\"0\" y2=\"5\" stroke=\"#888\" stroke-width=\"1\" opacity=\"1\"></line></g><g class=\"mark-text role-axis-label\" pointer-events=\"none\"><text text-anchor=\"end\" transform=\"translate(8.500000000000002,7) rotate(270) translate(0,3)\" font-family=\"sans-serif\" font-size=\"10px\" fill=\"#000\" opacity=\"1\">hy</text><text text-anchor=\"end\" transform=\"translate(26.5,7) rotate(270) translate(0,3)\" font-family=\"sans-serif\" font-size=\"10px\" fill=\"#000\" opacity=\"1\">ig</text></g><g class=\"mark-rule role-axis-domain\" pointer-events=\"none\"><line transform=\"translate(0,0)\" x2=\"36\" y2=\"0\" stroke=\"#888\" stroke-width=\"3\" opacity=\"1\"></line></g><g class=\"mark-text role-axis-title\" pointer-events=\"none\"><text text-anchor=\"middle\" transform=\"translate(18,32)\" font-family=\"sans-serif\" font-size=\"11px\" font-weight=\"bold\" fill=\"#000\" opacity=\"1\"></text></g></g><path class=\"foreground\" aria-hidden=\"true\" d=\"\" pointer-events=\"none\" display=\"none\"></path></g></g></g><path class=\"foreground\" aria-hidden=\"true\" d=\"\" display=\"none\"></path></g><g transform=\"translate(595,351)\"><path class=\"background\" aria-hidden=\"true\" d=\"M0,0h36v0h-36Z\"></path><g><g class=\"mark-group role-axis\" role=\"graphics-symbol\" aria-roledescription=\"axis\" aria-label=\"X-axis titled ' ' for a discrete scale with 2 values: hy, ig\"><g transform=\"translate(0.5,0.5)\"><path class=\"background\" aria-hidden=\"true\" d=\"M0,0h0v0h0Z\" pointer-events=\"none\"></path><g><g class=\"mark-rule role-axis-tick\" pointer-events=\"none\"><line transform=\"translate(9,0)\" x2=\"0\" y2=\"5\" stroke=\"#888\" stroke-width=\"1\" opacity=\"1\"></line><line transform=\"translate(27,0)\" x2=\"0\" y2=\"5\" stroke=\"#888\" stroke-width=\"1\" opacity=\"1\"></line></g><g class=\"mark-text role-axis-label\" pointer-events=\"none\"><text text-anchor=\"end\" transform=\"translate(8.500000000000002,7) rotate(270) translate(0,3)\" font-family=\"sans-serif\" font-size=\"10px\" fill=\"#000\" opacity=\"1\">hy</text><text text-anchor=\"end\" transform=\"translate(26.5,7) rotate(270) translate(0,3)\" font-family=\"sans-serif\" font-size=\"10px\" fill=\"#000\" opacity=\"1\">ig</text></g><g class=\"mark-rule role-axis-domain\" pointer-events=\"none\"><line transform=\"translate(0,0)\" x2=\"36\" y2=\"0\" stroke=\"#888\" stroke-width=\"3\" opacity=\"1\"></line></g><g class=\"mark-text role-axis-title\" pointer-events=\"none\"><text text-anchor=\"middle\" transform=\"translate(18,32)\" font-family=\"sans-serif\" font-size=\"11px\" font-weight=\"bold\" fill=\"#000\" opacity=\"1\"></text></g></g><path class=\"foreground\" aria-hidden=\"true\" d=\"\" pointer-events=\"none\" display=\"none\"></path></g></g></g><path class=\"foreground\" aria-hidden=\"true\" d=\"\" display=\"none\"></path></g></g><g class=\"mark-group role-scope cell\" role=\"graphics-object\" aria-roledescription=\"group mark container\"><g transform=\"translate(0,0)\"><path class=\"background\" aria-hidden=\"true\" d=\"M0.5,0.5h36v350h-36Z\"></path><g><g class=\"mark-rect role-mark child_marks\" role=\"graphics-object\" aria-roledescription=\"rect mark container\"><path aria-label=\": 2.05228981545;  : hy; Rating: hy\" role=\"graphics-symbol\" aria-roledescription=\"bar\" d=\"M0.9000000000000021,201.11642743221685h16.2v119.71690590111646h-16.2Z\" fill=\"rgb(49, 104, 142)\"></path><path aria-label=\": 0.114261339599;  : ig; Rating: ig\" role=\"graphics-symbol\" aria-roledescription=\"bar\" d=\"M18.900000000000002,314.16808852340176h16.2v6.665244809931551h-16.2Z\" fill=\"rgb(53, 183, 121)\"></path></g></g><path class=\"foreground\" aria-hidden=\"true\" d=\"\" display=\"none\"></path></g><g transform=\"translate(42.5,0)\"><path class=\"background\" aria-hidden=\"true\" d=\"M0.5,0.5h36v350h-36Z\"></path><g><g class=\"mark-rect role-mark child_marks\" role=\"graphics-object\" aria-roledescription=\"rect mark container\"><path aria-label=\": 4.54654197477;  : hy; Rating: hy\" role=\"graphics-symbol\" aria-roledescription=\"bar\" d=\"M0.9000000000000021,55.61838480498835h16.2v265.21494852834496h-16.2Z\" fill=\"rgb(49, 104, 142)\"></path><path aria-label=\": 1.27659425686;  : ig; Rating: ig\" role=\"graphics-symbol\" aria-roledescription=\"bar\" d=\"M18.900000000000002,246.36533501625252h16.2v74.4679983170808h-16.2Z\" fill=\"rgb(53, 183, 121)\"></path></g></g><path class=\"foreground\" aria-hidden=\"true\" d=\"\" display=\"none\"></path></g><g transform=\"translate(85,0)\"><path class=\"background\" aria-hidden=\"true\" d=\"M0.5,0.5h36v350h-36Z\"></path><g><g class=\"mark-rect role-mark child_marks\" role=\"graphics-object\" aria-roledescription=\"rect mark container\"><path aria-label=\": 0.0540607717641;  : hy; Rating: hy\" role=\"graphics-symbol\" aria-roledescription=\"bar\" d=\"M0.9000000000000021,317.6797883137596h16.2v3.1535450195736985h-16.2Z\" fill=\"rgb(49, 104, 142)\"></path><path aria-label=\": 0.0478303282042;  : ig; Rating: ig\" role=\"graphics-symbol\" aria-roledescription=\"bar\" d=\"M18.900000000000002,318.0432308547573h16.2v2.7901024785759887h-16.2Z\" fill=\"rgb(53, 183, 121)\"></path></g></g><path class=\"foreground\" aria-hidden=\"true\" d=\"\" display=\"none\"></path></g><g transform=\"translate(127.5,0)\"><path class=\"background\" aria-hidden=\"true\" d=\"M0.5,0.5h36v350h-36Z\"></path><g><g class=\"mark-rect role-mark child_marks\" role=\"graphics-object\" aria-roledescription=\"rect mark container\"><path aria-label=\": -0.0234574038402;  : hy; Rating: hy\" role=\"graphics-symbol\" aria-roledescription=\"bar\" d=\"M0.9000000000000021,320.8333333333333h16.2v1.3683485573437792h-16.2Z\" fill=\"rgb(49, 104, 142)\"></path><path aria-label=\": 0.0823744541294;  : ig; Rating: ig\" role=\"graphics-symbol\" aria-roledescription=\"bar\" d=\"M18.900000000000002,316.0281568424524h16.2v4.8051764908809105h-16.2Z\" fill=\"rgb(53, 183, 121)\"></path></g></g><path class=\"foreground\" aria-hidden=\"true\" d=\"\" display=\"none\"></path></g><g transform=\"translate(170,0)\"><path class=\"background\" aria-hidden=\"true\" d=\"M0.5,0.5h36v350h-36Z\"></path><g><g class=\"mark-rect role-mark child_marks\" role=\"graphics-object\" aria-roledescription=\"rect mark container\"><path aria-label=\": 0.0540607717641;  : hy; Rating: hy\" role=\"graphics-symbol\" aria-roledescription=\"bar\" d=\"M0.9000000000000021,317.6797883137596h16.2v3.1535450195736985h-16.2Z\" fill=\"rgb(49, 104, 142)\"></path><path aria-label=\": -0.0769900458374;  : ig; Rating: ig\" role=\"graphics-symbol\" aria-roledescription=\"bar\" d=\"M18.900000000000002,320.8333333333333h16.2v4.491086007181536h-16.2Z\" fill=\"rgb(53, 183, 121)\"></path></g></g><path class=\"foreground\" aria-hidden=\"true\" d=\"\" display=\"none\"></path></g><g transform=\"translate(212.5,0)\"><path class=\"background\" aria-hidden=\"true\" d=\"M0.5,0.5h36v350h-36Z\"></path><g><g class=\"mark-rect role-mark child_marks\" role=\"graphics-object\" aria-roledescription=\"rect mark container\"><path aria-label=\": 5.09476169763;  : hy; Rating: hy\" role=\"graphics-symbol\" aria-roledescription=\"bar\" d=\"M0.9000000000000021,23.63890097143713h16.2v297.1944323618962h-16.2Z\" fill=\"rgb(49, 104, 142)\"></path><path aria-label=\": 0.883252742027;  : ig; Rating: ig\" role=\"graphics-symbol\" aria-roledescription=\"bar\" d=\"M18.900000000000002,269.3102567150678h16.2v51.52307661826552h-16.2Z\" fill=\"rgb(53, 183, 121)\"></path></g></g><path class=\"foreground\" aria-hidden=\"true\" d=\"\" display=\"none\"></path></g><g transform=\"translate(255,0)\"><path class=\"background\" aria-hidden=\"true\" d=\"M0.5,0.5h36v350h-36Z\"></path><g><g class=\"mark-rect role-mark child_marks\" role=\"graphics-object\" aria-roledescription=\"rect mark container\"><path aria-label=\": 0.00636922885725;  : hy; Rating: hy\" role=\"graphics-symbol\" aria-roledescription=\"bar\" d=\"M0.9000000000000021,320.46179498332697h16.2v0.3715383500063467h-16.2Z\" fill=\"rgb(49, 104, 142)\"></path><path aria-label=\": 0.520259710291;  : ig; Rating: ig\" role=\"graphics-symbol\" aria-roledescription=\"bar\" d=\"M18.900000000000002,290.4848502330332h16.2v30.348483100300086h-16.2Z\" fill=\"rgb(53, 183, 121)\"></path></g></g><path class=\"foreground\" aria-hidden=\"true\" d=\"\" display=\"none\"></path></g><g transform=\"translate(297.5,0)\"><path class=\"background\" aria-hidden=\"true\" d=\"M0.5,0.5h36v350h-36Z\"></path><g><g class=\"mark-rect role-mark child_marks\" role=\"graphics-object\" aria-roledescription=\"rect mark container\"><path aria-label=\": 2.91368918163;  : hy; Rating: hy\" role=\"graphics-symbol\" aria-roledescription=\"bar\" d=\"M0.9000000000000021,150.86813107148026h16.2v169.96520226185305h-16.2Z\" fill=\"rgb(49, 104, 142)\"></path><path aria-label=\": 0.630395334445;  : ig; Rating: ig\" role=\"graphics-symbol\" aria-roledescription=\"bar\" d=\"M18.900000000000002,284.06027215736435h16.2v36.77306117596896h-16.2Z\" fill=\"rgb(53, 183, 121)\"></path></g></g><path class=\"foreground\" aria-hidden=\"true\" d=\"\" display=\"none\"></path></g><g transform=\"translate(340,0)\"><path class=\"background\" aria-hidden=\"true\" d=\"M0.5,0.5h36v350h-36Z\"></path><g><g class=\"mark-rect role-mark child_marks\" role=\"graphics-object\" aria-roledescription=\"rect mark container\"><path aria-label=\": 1.56853911639;  : hy; Rating: hy\" role=\"graphics-symbol\" aria-roledescription=\"bar\" d=\"M0.9000000000000021,229.33521821081635h16.2v91.49811512251696h-16.2Z\" fill=\"rgb(49, 104, 142)\"></path><path aria-label=\": 0.127547541878;  : ig; Rating: ig\" role=\"graphics-symbol\" aria-roledescription=\"bar\" d=\"M18.900000000000002,313.39306005713064h16.2v7.440273276202674h-16.2Z\" fill=\"rgb(53, 183, 121)\"></path></g></g><path class=\"foreground\" aria-hidden=\"true\" d=\"\" display=\"none\"></path></g><g transform=\"translate(382.5,0)\"><path class=\"background\" aria-hidden=\"true\" d=\"M0.5,0.5h36v350h-36Z\"></path><g><g class=\"mark-rect role-mark child_marks\" role=\"graphics-object\" aria-roledescription=\"rect mark container\"><path aria-label=\": 0.310849437644;  : hy; Rating: hy\" role=\"graphics-symbol\" aria-roledescription=\"bar\" d=\"M0.9000000000000021,302.7004494707844h16.2v18.13288386254891h-16.2Z\" fill=\"rgb(49, 104, 142)\"></path><path aria-label=\": 0.0690882518505;  : ig; Rating: ig\" role=\"graphics-symbol\" aria-roledescription=\"bar\" d=\"M18.900000000000002,316.8031853087235h16.2v4.030148024609787h-16.2Z\" fill=\"rgb(53, 183, 121)\"></path></g></g><path class=\"foreground\" aria-hidden=\"true\" d=\"\" display=\"none\"></path></g><g transform=\"translate(425,0)\"><path class=\"background\" aria-hidden=\"true\" d=\"M0.5,0.5h36v350h-36Z\"></path><g><g class=\"mark-rect role-mark child_marks\" role=\"graphics-object\" aria-roledescription=\"rect mark container\"><path aria-label=\": 0.413067793451;  : hy; Rating: hy\" role=\"graphics-symbol\" aria-roledescription=\"bar\" d=\"M0.9000000000000021,296.737712048717h16.2v24.0956212846163h-16.2Z\" fill=\"rgb(49, 104, 142)\"></path><path aria-label=\": 0.38718790536;  : ig; Rating: ig\" role=\"graphics-symbol\" aria-roledescription=\"bar\" d=\"M18.900000000000002,298.24737218731707h16.2v22.585961146016245h-16.2Z\" fill=\"rgb(53, 183, 121)\"></path></g></g><path class=\"foreground\" aria-hidden=\"true\" d=\"\" display=\"none\"></path></g><g transform=\"translate(467.5,0)\"><path class=\"background\" aria-hidden=\"true\" d=\"M0.5,0.5h36v350h-36Z\"></path><g><g class=\"mark-rect role-mark child_marks\" role=\"graphics-object\" aria-roledescription=\"rect mark container\"><path aria-label=\": 1.10482818617;  : hy; Rating: hy\" role=\"graphics-symbol\" aria-roledescription=\"bar\" d=\"M0.9000000000000021,256.38502247353955h16.2v64.44831085979376h-16.2Z\" fill=\"rgb(49, 104, 142)\"></path><path aria-label=\": 0.316980815423;  : ig; Rating: ig\" role=\"graphics-symbol\" aria-roledescription=\"bar\" d=\"M18.900000000000002,302.34278576698125h16.2v18.490547566352063h-16.2Z\" fill=\"rgb(53, 183, 121)\"></path></g></g><path class=\"foreground\" aria-hidden=\"true\" d=\"\" display=\"none\"></path></g><g transform=\"translate(510,0)\"><path class=\"background\" aria-hidden=\"true\" d=\"M0.5,0.5h36v350h-36Z\"></path><g><g class=\"mark-rect role-mark child_marks\" role=\"graphics-object\" aria-roledescription=\"rect mark container\"><path aria-label=\": 1.74159572485;  : hy; Rating: hy\" role=\"graphics-symbol\" aria-roledescription=\"bar\" d=\"M0.9000000000000021,219.24024938378977h16.2v101.59308394954354h-16.2Z\" fill=\"rgb(49, 104, 142)\"></path><path aria-label=\": 0.294394271549;  : ig; Rating: ig\" role=\"graphics-symbol\" aria-roledescription=\"bar\" d=\"M18.900000000000002,303.6603341596428h16.2v17.172999173690528h-16.2Z\" fill=\"rgb(53, 183, 121)\"></path></g></g><path class=\"foreground\" aria-hidden=\"true\" d=\"\" display=\"none\"></path></g><g transform=\"translate(552.5,0)\"><path class=\"background\" aria-hidden=\"true\" d=\"M0.5,0.5h36v350h-36Z\"></path><g><g class=\"mark-rect role-mark child_marks\" role=\"graphics-object\" aria-roledescription=\"rect mark container\"><path aria-label=\": 2.33968184925;  : hy; Rating: hy\" role=\"graphics-symbol\" aria-roledescription=\"bar\" d=\"M0.9000000000000021,184.35189212701172h16.2v136.4814412063216h-16.2Z\" fill=\"rgb(49, 104, 142)\"></path><path aria-label=\": -0.026432549797;  : ig; Rating: ig\" role=\"graphics-symbol\" aria-roledescription=\"bar\" d=\"M18.900000000000002,320.8333333333333h16.2v1.5418987381604552h-16.2Z\" fill=\"rgb(53, 183, 121)\"></path></g></g><path class=\"foreground\" aria-hidden=\"true\" d=\"\" display=\"none\"></path></g><g transform=\"translate(595,0)\"><path class=\"background\" aria-hidden=\"true\" d=\"M0.5,0.5h36v350h-36Z\"></path><g><g class=\"mark-rect role-mark child_marks\" role=\"graphics-object\" aria-roledescription=\"rect mark container\"><path aria-label=\": 1.68753495309;  : hy; Rating: hy\" role=\"graphics-symbol\" aria-roledescription=\"bar\" d=\"M0.9000000000000021,222.39379440336307h16.2v98.43953892997024h-16.2Z\" fill=\"rgb(49, 104, 142)\"></path><path aria-label=\": 0.267821866991;  : ig; Rating: ig\" role=\"graphics-symbol\" aria-roledescription=\"bar\" d=\"M18.900000000000002,305.21039109218424h16.2v15.622942241149076h-16.2Z\" fill=\"rgb(53, 183, 121)\"></path></g></g><path class=\"foreground\" aria-hidden=\"true\" d=\"\" display=\"none\"></path></g></g><g class=\"mark-group role-legend\" role=\"graphics-symbol\" aria-roledescription=\"legend\" aria-label=\"Symbol legend titled 'Rating' for fill color with 2 values: hy, ig\"><g transform=\"translate(650,0)\"><path class=\"background\" aria-hidden=\"true\" d=\"M0,0h40v40h-40Z\" pointer-events=\"none\"></path><g><g class=\"mark-group role-legend-entry\"><g transform=\"translate(0,16)\"><path class=\"background\" aria-hidden=\"true\" d=\"M0,0h0v0h0Z\" pointer-events=\"none\"></path><g><g class=\"mark-group role-scope\" role=\"graphics-object\" aria-roledescription=\"group mark container\"><g transform=\"translate(0,0)\"><path class=\"background\" aria-hidden=\"true\" d=\"M0,0h28v11h-28Z\" pointer-events=\"none\" opacity=\"1\"></path><g><g class=\"mark-symbol role-legend-symbol\" pointer-events=\"none\"><path transform=\"translate(6,6)\" d=\"M-5,-5h10v10h-10Z\" fill=\"rgb(49, 104, 142)\" stroke-width=\"1.5\" opacity=\"1\"></path></g><g class=\"mark-text role-legend-label\" pointer-events=\"none\"><text text-anchor=\"start\" transform=\"translate(16,9)\" font-family=\"sans-serif\" font-size=\"10px\" fill=\"#000\" opacity=\"1\">hy</text></g></g><path class=\"foreground\" aria-hidden=\"true\" d=\"\" pointer-events=\"none\" display=\"none\"></path></g><g transform=\"translate(0,13)\"><path class=\"background\" aria-hidden=\"true\" d=\"M0,0h28v11h-28Z\" pointer-events=\"none\" opacity=\"1\"></path><g><g class=\"mark-symbol role-legend-symbol\" pointer-events=\"none\"><path transform=\"translate(6,6)\" d=\"M-5,-5h10v10h-10Z\" fill=\"rgb(53, 183, 121)\" stroke-width=\"1.5\" opacity=\"1\"></path></g><g class=\"mark-text role-legend-label\" pointer-events=\"none\"><text text-anchor=\"start\" transform=\"translate(16,9)\" font-family=\"sans-serif\" font-size=\"10px\" fill=\"#000\" opacity=\"1\">ig</text></g></g><path class=\"foreground\" aria-hidden=\"true\" d=\"\" pointer-events=\"none\" display=\"none\"></path></g></g></g><path class=\"foreground\" aria-hidden=\"true\" d=\"\" pointer-events=\"none\" display=\"none\"></path></g></g><g class=\"mark-text role-legend-title\" pointer-events=\"none\"><text text-anchor=\"start\" transform=\"translate(0,9)\" font-family=\"sans-serif\" font-size=\"11px\" font-weight=\"bold\" fill=\"#000\" opacity=\"1\">Rating</text></g></g><path class=\"foreground\" aria-hidden=\"true\" d=\"\" pointer-events=\"none\" display=\"none\"></path></g></g><g class=\"mark-group role-title\"><g transform=\"translate(331.5,-86)\"><path class=\"background\" aria-hidden=\"true\" d=\"M0,0h0v0h0Z\" pointer-events=\"none\"></path><g><g class=\"mark-text role-title-text\" role=\"graphics-symbol\" aria-roledescription=\"title\" aria-label=\"Title text 'smth smth'\" pointer-events=\"none\"><text text-anchor=\"middle\" transform=\"translate(0,11)\" font-family=\"sans-serif\" font-size=\"14px\" font-weight=\"bold\" fill=\"#000\" opacity=\"1\">smth smth</text></g></g><path class=\"foreground\" aria-hidden=\"true\" d=\"\" pointer-events=\"none\" display=\"none\"></path></g></g></g><path class=\"foreground\" aria-hidden=\"true\" d=\"\" display=\"none\"></path></g></g></g></svg>\n"
      ],
      "text/plain": [
       "@vlplot(\n",
       "    config={\n",
       "        view={\n",
       "            stroke=\"transparent\"\n",
       "        },\n",
       "        axis={\n",
       "            domainWidth=3\n",
       "        },\n",
       "        opacity={\n",
       "            value=0.7\n",
       "        }\n",
       "    },\n",
       "    title={\n",
       "        text=[\n",
       "            \"smth smth\"\n",
       "        ],\n",
       "        align=\"center\",\n",
       "        anchor=\"middle\",\n",
       "        fontSize=14,\n",
       "        offset=20\n",
       "    },\n",
       "    spacing=4.5,\n",
       "    width={\n",
       "        step=18\n",
       "    },\n",
       "    height=350,\n",
       "    mark=\"bar\",\n",
       "    encoding={\n",
       "        column={\n",
       "            type=\"ordinal\",\n",
       "            title=\"Covenant Category\",\n",
       "            sort=\"ascending\",\n",
       "            field=\"cov_cat\"\n",
       "        },\n",
       "        y={\n",
       "            axis={\n",
       "                title=\"\",\n",
       "                grid=false,\n",
       "                stack=nothing\n",
       "            },\n",
       "            field=\"perc_diff\"\n",
       "        },\n",
       "        x={\n",
       "            type=\"nominal\",\n",
       "            axis={\n",
       "                title=\" \"\n",
       "            },\n",
       "            field=\"rt\"\n",
       "        },\n",
       "        color={\n",
       "            legend={\n",
       "                title=\"Rating\"\n",
       "            },\n",
       "            scale={\n",
       "                scheme=\"viridis\"\n",
       "            },\n",
       "            field=\"rt\",\n",
       "            type=\"nominal\"\n",
       "        }\n",
       "    },\n",
       "    data={\n",
       "        values=...\n",
       "    }\n",
       ")"
      ]
     },
     "execution_count": 124,
     "metadata": {},
     "output_type": "execute_result"
    }
   ],
   "source": [
    "y_var=\"perc_diff\"\n",
    "y_axis_title=\"% Diff in the Number of Issuers\"\n",
    "title=[\"ATS v.s. OTC % Difference in Rating- Contingent Number of Non-MTN-Bond Issuers\" ,\n",
    "       \" by Number of Covenant Categories per Bond\"]\n",
    "# if :period in Symbol.(names(tt))\n",
    "#     title[end] = string(title[end], \" - \", tt[1, :period])\n",
    "# end\n",
    "\n",
    "\n",
    "x_var=\"rt:n\"\n",
    "x_var_type=\"nominal\"\n",
    "legend_title=\"Rating\"\n",
    "\n",
    "# rt_tt[:, \"sbm2\"] .= uppercase.(string.(rt_tt[:, :sbm]))\n",
    "# row_var=\"sbm2\"\n",
    "# y_var = \"perc_sbm_total\"\n",
    "col_var = \"cov_cat\"\n",
    "row_var_type=\"ordinal\"\n",
    "row_var_title=\"Covenant Categories\"\n",
    "y_axis_title=\"\"\n",
    "title = [\"smth smth\"]\n",
    "save_plt = false\n",
    "\n",
    "p = PlotMod.sbm_vega_plt(rt_tt, col_var, x_var, y_var;\n",
    "                         col_var_type=col_var_type,\n",
    "                         col_title=col_title, \n",
    "                         col_sort=col_sort,\n",
    "                         x_var_type=x_var_type,\n",
    "                         x_axis_title=x_axis_title, \n",
    "                         y_axis_title=y_axis_title, \n",
    "                         legend_title=legend_title, \n",
    "                         color_scale=color_scale,\n",
    "                         title=title, \n",
    "                         spacing=spacing,\n",
    "                         width_step=width_step,\n",
    "                         height=height,\n",
    "                         save_plt=save_plt,\n",
    "                         plt_type=plt_type,\n",
    "                         stats_var=stats_var)\n",
    "\n",
    "\n",
    "\n",
    "# include(string(scripts_path, \"/\", \"single_vega_plt_script.jl\"))\n",
    "# push!(pl, p)\n"
   ]
  },
  {
   "cell_type": "code",
   "execution_count": 132,
   "metadata": {},
   "outputs": [
    {
     "data": {
      "text/html": [
       "<table class=\"data-frame\"><thead><tr><th></th><th>period</th><th>sbm</th><th>rt</th><th>sum_num_cov</th><th>variable</th><th>value</th><th>perc_sbm_total</th><th>perc_sbm_rt_total</th></tr><tr><th></th><th>Symbol</th><th>Symbol</th><th>Symbol</th><th>Int64</th><th>Cat…</th><th>Int64</th><th>Float64</th><th>Float64</th></tr></thead><tbody><p>24 rows × 8 columns</p><tr><th>1</th><td>2019Q3</td><td>ats</td><td>ig</td><td>0</td><td>issuers_by_num_cov</td><td>431</td><td>12.019</td><td>17.2953</td></tr><tr><th>2</th><td>2019Q3</td><td>ats</td><td>ig</td><td>1</td><td>issuers_by_num_cov</td><td>10</td><td>0.278862</td><td>0.401284</td></tr><tr><th>3</th><td>2019Q3</td><td>ats</td><td>ig</td><td>2</td><td>issuers_by_num_cov</td><td>126</td><td>3.51366</td><td>5.05618</td></tr><tr><th>4</th><td>2019Q3</td><td>ats</td><td>ig</td><td>3</td><td>issuers_by_num_cov</td><td>185</td><td>5.15895</td><td>7.42376</td></tr><tr><th>5</th><td>2019Q3</td><td>ats</td><td>ig</td><td>4</td><td>issuers_by_num_cov</td><td>245</td><td>6.83212</td><td>9.83146</td></tr><tr><th>6</th><td>2019Q3</td><td>ats</td><td>ig</td><td>5</td><td>issuers_by_num_cov</td><td>389</td><td>10.8477</td><td>15.61</td></tr><tr><th>7</th><td>2019Q3</td><td>ats</td><td>ig</td><td>6</td><td>issuers_by_num_cov</td><td>413</td><td>11.517</td><td>16.573</td></tr><tr><th>8</th><td>2019Q3</td><td>ats</td><td>ig</td><td>7</td><td>issuers_by_num_cov</td><td>365</td><td>10.1785</td><td>14.6469</td></tr><tr><th>9</th><td>2019Q3</td><td>ats</td><td>ig</td><td>8</td><td>issuers_by_num_cov</td><td>279</td><td>7.78026</td><td>11.1958</td></tr><tr><th>10</th><td>2019Q3</td><td>ats</td><td>ig</td><td>9</td><td>issuers_by_num_cov</td><td>37</td><td>1.03179</td><td>1.48475</td></tr><tr><th>11</th><td>2019Q3</td><td>ats</td><td>ig</td><td>10</td><td>issuers_by_num_cov</td><td>8</td><td>0.22309</td><td>0.321027</td></tr><tr><th>12</th><td>2019Q3</td><td>ats</td><td>ig</td><td>11</td><td>issuers_by_num_cov</td><td>4</td><td>0.111545</td><td>0.160514</td></tr><tr><th>13</th><td>2019Q3</td><td>otc</td><td>ig</td><td>0</td><td>issuers_by_num_cov</td><td>476</td><td>12.4088</td><td>18.2306</td></tr><tr><th>14</th><td>2019Q3</td><td>otc</td><td>ig</td><td>1</td><td>issuers_by_num_cov</td><td>11</td><td>0.286757</td><td>0.421295</td></tr><tr><th>15</th><td>2019Q3</td><td>otc</td><td>ig</td><td>2</td><td>issuers_by_num_cov</td><td>132</td><td>3.44108</td><td>5.05553</td></tr><tr><th>16</th><td>2019Q3</td><td>otc</td><td>ig</td><td>3</td><td>issuers_by_num_cov</td><td>199</td><td>5.1877</td><td>7.6216</td></tr><tr><th>17</th><td>2019Q3</td><td>otc</td><td>ig</td><td>4</td><td>issuers_by_num_cov</td><td>264</td><td>6.88217</td><td>10.1111</td></tr><tr><th>18</th><td>2019Q3</td><td>otc</td><td>ig</td><td>5</td><td>issuers_by_num_cov</td><td>402</td><td>10.4797</td><td>15.3964</td></tr><tr><th>19</th><td>2019Q3</td><td>otc</td><td>ig</td><td>6</td><td>issuers_by_num_cov</td><td>421</td><td>10.975</td><td>16.1241</td></tr><tr><th>20</th><td>2019Q3</td><td>otc</td><td>ig</td><td>7</td><td>issuers_by_num_cov</td><td>373</td><td>9.72367</td><td>14.2857</td></tr><tr><th>21</th><td>2019Q3</td><td>otc</td><td>ig</td><td>8</td><td>issuers_by_num_cov</td><td>283</td><td>7.37748</td><td>10.8388</td></tr><tr><th>22</th><td>2019Q3</td><td>otc</td><td>ig</td><td>9</td><td>issuers_by_num_cov</td><td>38</td><td>0.990615</td><td>1.45538</td></tr><tr><th>23</th><td>2019Q3</td><td>otc</td><td>ig</td><td>10</td><td>issuers_by_num_cov</td><td>8</td><td>0.208551</td><td>0.306396</td></tr><tr><th>24</th><td>2019Q3</td><td>otc</td><td>ig</td><td>11</td><td>issuers_by_num_cov</td><td>4</td><td>0.104275</td><td>0.153198</td></tr></tbody></table>"
      ],
      "text/latex": [
       "\\begin{tabular}{r|cccccccc}\n",
       "\t& period & sbm & rt & sum\\_num\\_cov & variable & value & perc\\_sbm\\_total & perc\\_sbm\\_rt\\_total\\\\\n",
       "\t\\hline\n",
       "\t& Symbol & Symbol & Symbol & Int64 & Cat… & Int64 & Float64 & Float64\\\\\n",
       "\t\\hline\n",
       "\t1 & 2019Q3 & ats & ig & 0 & issuers\\_by\\_num\\_cov & 431 & 12.019 & 17.2953 \\\\\n",
       "\t2 & 2019Q3 & ats & ig & 1 & issuers\\_by\\_num\\_cov & 10 & 0.278862 & 0.401284 \\\\\n",
       "\t3 & 2019Q3 & ats & ig & 2 & issuers\\_by\\_num\\_cov & 126 & 3.51366 & 5.05618 \\\\\n",
       "\t4 & 2019Q3 & ats & ig & 3 & issuers\\_by\\_num\\_cov & 185 & 5.15895 & 7.42376 \\\\\n",
       "\t5 & 2019Q3 & ats & ig & 4 & issuers\\_by\\_num\\_cov & 245 & 6.83212 & 9.83146 \\\\\n",
       "\t6 & 2019Q3 & ats & ig & 5 & issuers\\_by\\_num\\_cov & 389 & 10.8477 & 15.61 \\\\\n",
       "\t7 & 2019Q3 & ats & ig & 6 & issuers\\_by\\_num\\_cov & 413 & 11.517 & 16.573 \\\\\n",
       "\t8 & 2019Q3 & ats & ig & 7 & issuers\\_by\\_num\\_cov & 365 & 10.1785 & 14.6469 \\\\\n",
       "\t9 & 2019Q3 & ats & ig & 8 & issuers\\_by\\_num\\_cov & 279 & 7.78026 & 11.1958 \\\\\n",
       "\t10 & 2019Q3 & ats & ig & 9 & issuers\\_by\\_num\\_cov & 37 & 1.03179 & 1.48475 \\\\\n",
       "\t11 & 2019Q3 & ats & ig & 10 & issuers\\_by\\_num\\_cov & 8 & 0.22309 & 0.321027 \\\\\n",
       "\t12 & 2019Q3 & ats & ig & 11 & issuers\\_by\\_num\\_cov & 4 & 0.111545 & 0.160514 \\\\\n",
       "\t13 & 2019Q3 & otc & ig & 0 & issuers\\_by\\_num\\_cov & 476 & 12.4088 & 18.2306 \\\\\n",
       "\t14 & 2019Q3 & otc & ig & 1 & issuers\\_by\\_num\\_cov & 11 & 0.286757 & 0.421295 \\\\\n",
       "\t15 & 2019Q3 & otc & ig & 2 & issuers\\_by\\_num\\_cov & 132 & 3.44108 & 5.05553 \\\\\n",
       "\t16 & 2019Q3 & otc & ig & 3 & issuers\\_by\\_num\\_cov & 199 & 5.1877 & 7.6216 \\\\\n",
       "\t17 & 2019Q3 & otc & ig & 4 & issuers\\_by\\_num\\_cov & 264 & 6.88217 & 10.1111 \\\\\n",
       "\t18 & 2019Q3 & otc & ig & 5 & issuers\\_by\\_num\\_cov & 402 & 10.4797 & 15.3964 \\\\\n",
       "\t19 & 2019Q3 & otc & ig & 6 & issuers\\_by\\_num\\_cov & 421 & 10.975 & 16.1241 \\\\\n",
       "\t20 & 2019Q3 & otc & ig & 7 & issuers\\_by\\_num\\_cov & 373 & 9.72367 & 14.2857 \\\\\n",
       "\t21 & 2019Q3 & otc & ig & 8 & issuers\\_by\\_num\\_cov & 283 & 7.37748 & 10.8388 \\\\\n",
       "\t22 & 2019Q3 & otc & ig & 9 & issuers\\_by\\_num\\_cov & 38 & 0.990615 & 1.45538 \\\\\n",
       "\t23 & 2019Q3 & otc & ig & 10 & issuers\\_by\\_num\\_cov & 8 & 0.208551 & 0.306396 \\\\\n",
       "\t24 & 2019Q3 & otc & ig & 11 & issuers\\_by\\_num\\_cov & 4 & 0.104275 & 0.153198 \\\\\n",
       "\\end{tabular}\n"
      ],
      "text/plain": [
       "24×8 DataFrame\n",
       "│ Row │ period │ sbm    │ rt     │ sum_num_cov │ variable           │ value │ perc_sbm_total │ perc_sbm_rt_total │\n",
       "│     │ \u001b[90mSymbol\u001b[39m │ \u001b[90mSymbol\u001b[39m │ \u001b[90mSymbol\u001b[39m │ \u001b[90mInt64\u001b[39m       │ \u001b[90mCategoricalValue…\u001b[39m  │ \u001b[90mInt64\u001b[39m │ \u001b[90mFloat64\u001b[39m        │ \u001b[90mFloat64\u001b[39m           │\n",
       "├─────┼────────┼────────┼────────┼─────────────┼────────────────────┼───────┼────────────────┼───────────────────┤\n",
       "│ 1   │ 2019Q3 │ ats    │ ig     │ 0           │ issuers_by_num_cov │ 431   │ 12.019         │ 17.2953           │\n",
       "│ 2   │ 2019Q3 │ ats    │ ig     │ 1           │ issuers_by_num_cov │ 10    │ 0.278862       │ 0.401284          │\n",
       "│ 3   │ 2019Q3 │ ats    │ ig     │ 2           │ issuers_by_num_cov │ 126   │ 3.51366        │ 5.05618           │\n",
       "│ 4   │ 2019Q3 │ ats    │ ig     │ 3           │ issuers_by_num_cov │ 185   │ 5.15895        │ 7.42376           │\n",
       "│ 5   │ 2019Q3 │ ats    │ ig     │ 4           │ issuers_by_num_cov │ 245   │ 6.83212        │ 9.83146           │\n",
       "│ 6   │ 2019Q3 │ ats    │ ig     │ 5           │ issuers_by_num_cov │ 389   │ 10.8477        │ 15.61             │\n",
       "│ 7   │ 2019Q3 │ ats    │ ig     │ 6           │ issuers_by_num_cov │ 413   │ 11.517         │ 16.573            │\n",
       "│ 8   │ 2019Q3 │ ats    │ ig     │ 7           │ issuers_by_num_cov │ 365   │ 10.1785        │ 14.6469           │\n",
       "│ 9   │ 2019Q3 │ ats    │ ig     │ 8           │ issuers_by_num_cov │ 279   │ 7.78026        │ 11.1958           │\n",
       "│ 10  │ 2019Q3 │ ats    │ ig     │ 9           │ issuers_by_num_cov │ 37    │ 1.03179        │ 1.48475           │\n",
       "│ 11  │ 2019Q3 │ ats    │ ig     │ 10          │ issuers_by_num_cov │ 8     │ 0.22309        │ 0.321027          │\n",
       "│ 12  │ 2019Q3 │ ats    │ ig     │ 11          │ issuers_by_num_cov │ 4     │ 0.111545       │ 0.160514          │\n",
       "│ 13  │ 2019Q3 │ otc    │ ig     │ 0           │ issuers_by_num_cov │ 476   │ 12.4088        │ 18.2306           │\n",
       "│ 14  │ 2019Q3 │ otc    │ ig     │ 1           │ issuers_by_num_cov │ 11    │ 0.286757       │ 0.421295          │\n",
       "│ 15  │ 2019Q3 │ otc    │ ig     │ 2           │ issuers_by_num_cov │ 132   │ 3.44108        │ 5.05553           │\n",
       "│ 16  │ 2019Q3 │ otc    │ ig     │ 3           │ issuers_by_num_cov │ 199   │ 5.1877         │ 7.6216            │\n",
       "│ 17  │ 2019Q3 │ otc    │ ig     │ 4           │ issuers_by_num_cov │ 264   │ 6.88217        │ 10.1111           │\n",
       "│ 18  │ 2019Q3 │ otc    │ ig     │ 5           │ issuers_by_num_cov │ 402   │ 10.4797        │ 15.3964           │\n",
       "│ 19  │ 2019Q3 │ otc    │ ig     │ 6           │ issuers_by_num_cov │ 421   │ 10.975         │ 16.1241           │\n",
       "│ 20  │ 2019Q3 │ otc    │ ig     │ 7           │ issuers_by_num_cov │ 373   │ 9.72367        │ 14.2857           │\n",
       "│ 21  │ 2019Q3 │ otc    │ ig     │ 8           │ issuers_by_num_cov │ 283   │ 7.37748        │ 10.8388           │\n",
       "│ 22  │ 2019Q3 │ otc    │ ig     │ 9           │ issuers_by_num_cov │ 38    │ 0.990615       │ 1.45538           │\n",
       "│ 23  │ 2019Q3 │ otc    │ ig     │ 10          │ issuers_by_num_cov │ 8     │ 0.208551       │ 0.306396          │\n",
       "│ 24  │ 2019Q3 │ otc    │ ig     │ 11          │ issuers_by_num_cov │ 4     │ 0.104275       │ 0.153198          │"
      ]
     },
     "execution_count": 132,
     "metadata": {},
     "output_type": "execute_result"
    }
   ],
   "source": [
    "df[.&(df[:, :sbm] .!= :any, df[:, :rt] .== :ig) , :]"
   ]
  },
  {
   "cell_type": "code",
   "execution_count": null,
   "metadata": {},
   "outputs": [],
   "source": []
  },
  {
   "cell_type": "code",
   "execution_count": 10,
   "metadata": {},
   "outputs": [
    {
     "data": {
      "application/vnd.vegalite.v4+json": {
       "config": {
        "axis": {
         "domainWidth": 3
        },
        "opacity": {
         "value": 0.7
        },
        "view": {
         "stroke": "transparent"
        }
       },
       "data": {
        "values": [
         {
          "cov_cat": 1,
          "cvt": "any",
          "perc_sbm_total": 13.618290258449303,
          "perc_total": 13.618290258449303,
          "period": "2019Q2",
          "rt": "any",
          "sbm": "otc",
          "value": 274,
          "variable": "cg1_issuers"
         },
         {
          "cov_cat": 1,
          "cvt": "any",
          "perc_sbm_total": 14.240170031880977,
          "perc_total": 13.320079522862823,
          "period": "2019Q2",
          "rt": "any",
          "sbm": "ats",
          "value": 268,
          "variable": "cg1_issuers"
         },
         {
          "cov_cat": 2,
          "cvt": "any",
          "perc_sbm_total": 77.5844930417495,
          "perc_total": 77.5844930417495,
          "period": "2019Q2",
          "rt": "any",
          "sbm": "otc",
          "value": 1561,
          "variable": "cg2_issuers"
         },
         {
          "cov_cat": 2,
          "cvt": "any",
          "perc_sbm_total": 80.97768331562168,
          "perc_total": 75.7455268389662,
          "period": "2019Q2",
          "rt": "any",
          "sbm": "ats",
          "value": 1524,
          "variable": "cg2_issuers"
         },
         {
          "cov_cat": 3,
          "cvt": "any",
          "perc_sbm_total": 1.0934393638170974,
          "perc_total": 1.0934393638170974,
          "period": "2019Q2",
          "rt": "any",
          "sbm": "otc",
          "value": 22,
          "variable": "cg3_issuers"
         },
         {
          "cov_cat": 3,
          "cvt": "any",
          "perc_sbm_total": 1.1689691817215728,
          "perc_total": 1.0934393638170974,
          "period": "2019Q2",
          "rt": "any",
          "sbm": "ats",
          "value": 22,
          "variable": "cg3_issuers"
         },
         {
          "cov_cat": 4,
          "cvt": "any",
          "perc_sbm_total": 1.9880715705765408,
          "perc_total": 1.9880715705765408,
          "period": "2019Q2",
          "rt": "any",
          "sbm": "otc",
          "value": 40,
          "variable": "cg4_issuers"
         },
         {
          "cov_cat": 4,
          "cvt": "any",
          "perc_sbm_total": 2.0722635494155153,
          "perc_total": 1.9383697813121274,
          "period": "2019Q2",
          "rt": "any",
          "sbm": "ats",
          "value": 39,
          "variable": "cg4_issuers"
         },
         {
          "cov_cat": 5,
          "cvt": "any",
          "perc_sbm_total": 0.34791252485089463,
          "perc_total": 0.34791252485089463,
          "period": "2019Q2",
          "rt": "any",
          "sbm": "otc",
          "value": 7,
          "variable": "cg5_issuers"
         },
         {
          "cov_cat": 5,
          "cvt": "any",
          "perc_sbm_total": 0.3188097768331562,
          "perc_total": 0.2982107355864811,
          "period": "2019Q2",
          "rt": "any",
          "sbm": "ats",
          "value": 6,
          "variable": "cg5_issuers"
         },
         {
          "cov_cat": 6,
          "cvt": "any",
          "perc_sbm_total": 64.86083499005964,
          "perc_total": 64.86083499005964,
          "period": "2019Q2",
          "rt": "any",
          "sbm": "otc",
          "value": 1305,
          "variable": "cg6_issuers"
         },
         {
          "cov_cat": 6,
          "cvt": "any",
          "perc_sbm_total": 67.7470775770457,
          "perc_total": 63.36978131212724,
          "period": "2019Q2",
          "rt": "any",
          "sbm": "ats",
          "value": 1275,
          "variable": "cg6_issuers"
         },
         {
          "cov_cat": 7,
          "cvt": "any",
          "perc_sbm_total": 96.27236580516899,
          "perc_total": 96.27236580516899,
          "period": "2019Q2",
          "rt": "any",
          "sbm": "otc",
          "value": 1937,
          "variable": "cg7_issuers"
         },
         {
          "cov_cat": 7,
          "cvt": "any",
          "perc_sbm_total": 96.86503719447397,
          "perc_total": 90.60636182902584,
          "period": "2019Q2",
          "rt": "any",
          "sbm": "ats",
          "value": 1823,
          "variable": "cg7_issuers"
         },
         {
          "cov_cat": 8,
          "cvt": "any",
          "perc_sbm_total": 38.618290258449306,
          "perc_total": 38.618290258449306,
          "period": "2019Q2",
          "rt": "any",
          "sbm": "otc",
          "value": 777,
          "variable": "cg8_issuers"
         },
         {
          "cov_cat": 8,
          "cvt": "any",
          "perc_sbm_total": 40.75451647183847,
          "perc_total": 38.12127236580517,
          "period": "2019Q2",
          "rt": "any",
          "sbm": "ats",
          "value": 767,
          "variable": "cg8_issuers"
         },
         {
          "cov_cat": 9,
          "cvt": "any",
          "perc_sbm_total": 10.288270377733598,
          "perc_total": 10.288270377733598,
          "period": "2019Q2",
          "rt": "any",
          "sbm": "otc",
          "value": 207,
          "variable": "cg9_issuers"
         },
         {
          "cov_cat": 9,
          "cvt": "any",
          "perc_sbm_total": 10.892667375132838,
          "perc_total": 10.18886679920477,
          "period": "2019Q2",
          "rt": "any",
          "sbm": "ats",
          "value": 205,
          "variable": "cg9_issuers"
         },
         {
          "cov_cat": 10,
          "cvt": "any",
          "perc_sbm_total": 2.584493041749503,
          "perc_total": 2.584493041749503,
          "period": "2019Q2",
          "rt": "any",
          "sbm": "otc",
          "value": 52,
          "variable": "cg10_issuers"
         },
         {
          "cov_cat": 10,
          "cvt": "any",
          "perc_sbm_total": 2.709883103081828,
          "perc_total": 2.5347912524850895,
          "period": "2019Q2",
          "rt": "any",
          "sbm": "ats",
          "value": 51,
          "variable": "cg10_issuers"
         },
         {
          "cov_cat": 11,
          "cvt": "any",
          "perc_sbm_total": 85.48707753479125,
          "perc_total": 85.48707753479125,
          "period": "2019Q2",
          "rt": "any",
          "sbm": "otc",
          "value": 1720,
          "variable": "cg11_issuers"
         },
         {
          "cov_cat": 11,
          "cvt": "any",
          "perc_sbm_total": 86.3443145589798,
          "perc_total": 80.76540755467197,
          "period": "2019Q2",
          "rt": "any",
          "sbm": "ats",
          "value": 1625,
          "variable": "cg11_issuers"
         },
         {
          "cov_cat": 12,
          "cvt": "any",
          "perc_sbm_total": 51.93836978131213,
          "perc_total": 51.93836978131213,
          "period": "2019Q2",
          "rt": "any",
          "sbm": "otc",
          "value": 1045,
          "variable": "cg12_issuers"
         },
         {
          "cov_cat": 12,
          "cvt": "any",
          "perc_sbm_total": 52.33793836344315,
          "perc_total": 48.95626242544731,
          "period": "2019Q2",
          "rt": "any",
          "sbm": "ats",
          "value": 985,
          "variable": "cg12_issuers"
         },
         {
          "cov_cat": 13,
          "cvt": "any",
          "perc_sbm_total": 86.28230616302187,
          "perc_total": 86.28230616302187,
          "period": "2019Q2",
          "rt": "any",
          "sbm": "otc",
          "value": 1736,
          "variable": "cg13_issuers"
         },
         {
          "cov_cat": 13,
          "cvt": "any",
          "perc_sbm_total": 87.61955366631243,
          "perc_total": 81.95825049701789,
          "period": "2019Q2",
          "rt": "any",
          "sbm": "ats",
          "value": 1649,
          "variable": "cg13_issuers"
         },
         {
          "cov_cat": 14,
          "cvt": "any",
          "perc_sbm_total": 15.656063618290258,
          "perc_total": 15.656063618290258,
          "period": "2019Q2",
          "rt": "any",
          "sbm": "otc",
          "value": 315,
          "variable": "cg14_issuers"
         },
         {
          "cov_cat": 14,
          "cvt": "any",
          "perc_sbm_total": 16.312433581296492,
          "perc_total": 15.25844930417495,
          "period": "2019Q2",
          "rt": "any",
          "sbm": "ats",
          "value": 307,
          "variable": "cg14_issuers"
         },
         {
          "cov_cat": 15,
          "cvt": "any",
          "perc_sbm_total": 85.6361829025845,
          "perc_total": 85.6361829025845,
          "period": "2019Q2",
          "rt": "any",
          "sbm": "otc",
          "value": 1723,
          "variable": "cg15_issuers"
         },
         {
          "cov_cat": 15,
          "cvt": "any",
          "perc_sbm_total": 86.9287991498406,
          "perc_total": 81.31212723658051,
          "period": "2019Q2",
          "rt": "any",
          "sbm": "ats",
          "value": 1636,
          "variable": "cg15_issuers"
         }
        ]
       },
       "encoding": {
        "color": {
         "field": "sbm",
         "legend": {
          "title": "Secondary Market"
         },
         "scale": {
          "scheme": "viridis"
         },
         "type": "nominal"
        },
        "column": {
         "field": "cov_cat",
         "sort": "ascending",
         "title": "Covenant Category",
         "type": "ordinal"
        },
        "x": {
         "axis": {
          "title": " "
         },
         "field": "sbm",
         "type": "nominal"
        },
        "y": {
         "axis": {
          "grid": false,
          "stack": null,
          "title": "Number of Issuers"
         },
         "field": "value",
         "type": "quantitative"
        }
       },
       "height": 350,
       "mark": "bar",
       "spacing": 4.5,
       "title": {
        "align": "center",
        "anchor": "middle",
        "fontSize": 14,
        "offset": 20,
        "text": [
         "Number of Issuers of Non-MTN-Bonds Traded per Covenant Category - 2019Q2"
        ]
       },
       "width": {
        "step": 18
       }
      },
      "image/png": "[encoded data removed]",
      "image/svg+xml": [
       "<?xml version=\"1.0\" encoding=\"utf-8\"?>\n",
       "<!DOCTYPE svg PUBLIC \"-//W3C//DTD SVG 1.1//EN\" \"http://www.w3.org/Graphics/SVG/1.1/DTD/svg11.dtd\">\n",
       "<svg class=\"marks\" width=\"821\" height=\"485\" viewBox=\"0 0 821 485\" version=\"1.1\" xmlns=\"http://www.w3.org/2000/svg\" xmlns:xlink=\"http://www.w3.org/1999/xlink\"><rect width=\"821\" height=\"485\" fill=\"white\"></rect><g fill=\"none\" stroke-miterlimit=\"10\" transform=\"translate(55,91)\"><g class=\"mark-group role-frame root\" role=\"graphics-object\" aria-roledescription=\"group mark container\"><g transform=\"translate(0,0)\"><path class=\"background\" aria-hidden=\"true\" d=\"M0,0h0v0h0Z\"></path><g><g class=\"mark-group role-column-title column-title\" role=\"graphics-object\" aria-roledescription=\"group mark container\"><g transform=\"translate(316,-31)\"><path class=\"background\" aria-hidden=\"true\" d=\"M0,0h0v0h0Z\"></path><g><g class=\"mark-group role-title\"><g transform=\"translate(0,-21)\"><path class=\"background\" aria-hidden=\"true\" d=\"M0,0h0v0h0Z\" pointer-events=\"none\"></path><g><g class=\"mark-text role-title-text\" role=\"graphics-symbol\" aria-roledescription=\"title\" aria-label=\"Title text 'Covenant Category'\" pointer-events=\"none\"><text text-anchor=\"middle\" transform=\"translate(0,9)\" font-family=\"sans-serif\" font-size=\"11px\" font-weight=\"bold\" fill=\"#000\" opacity=\"1\">Covenant Category</text></g></g><path class=\"foreground\" aria-hidden=\"true\" d=\"\" pointer-events=\"none\" display=\"none\"></path></g></g></g><path class=\"foreground\" aria-hidden=\"true\" d=\"\" display=\"none\"></path></g></g><g class=\"mark-group role-row-header row_header\" role=\"graphics-object\" aria-roledescription=\"group mark container\"><g transform=\"translate(-1,0)\"><path class=\"background\" aria-hidden=\"true\" d=\"M0,0h0v350h0Z\"></path><g><g class=\"mark-group role-axis\" role=\"graphics-symbol\" aria-roledescription=\"axis\" aria-label=\"Y-axis titled 'Number of Issuers' for a linear scale with values from 0 to 2,000\"><g transform=\"translate(0.5,0.5)\"><path class=\"background\" aria-hidden=\"true\" d=\"M0,0h0v0h0Z\" pointer-events=\"none\"></path><g><g class=\"mark-rule role-axis-tick\" pointer-events=\"none\"><line transform=\"translate(0,350)\" x2=\"-5\" y2=\"0\" stroke=\"#888\" stroke-width=\"1\" opacity=\"1\"></line><line transform=\"translate(0,315)\" x2=\"-5\" y2=\"0\" stroke=\"#888\" stroke-width=\"1\" opacity=\"1\"></line><line transform=\"translate(0,280)\" x2=\"-5\" y2=\"0\" stroke=\"#888\" stroke-width=\"1\" opacity=\"1\"></line><line transform=\"translate(0,245)\" x2=\"-5\" y2=\"0\" stroke=\"#888\" stroke-width=\"1\" opacity=\"1\"></line><line transform=\"translate(0,210)\" x2=\"-5\" y2=\"0\" stroke=\"#888\" stroke-width=\"1\" opacity=\"1\"></line><line transform=\"translate(0,175)\" x2=\"-5\" y2=\"0\" stroke=\"#888\" stroke-width=\"1\" opacity=\"1\"></line><line transform=\"translate(0,140)\" x2=\"-5\" y2=\"0\" stroke=\"#888\" stroke-width=\"1\" opacity=\"1\"></line><line transform=\"translate(0,105)\" x2=\"-5\" y2=\"0\" stroke=\"#888\" stroke-width=\"1\" opacity=\"1\"></line><line transform=\"translate(0,70)\" x2=\"-5\" y2=\"0\" stroke=\"#888\" stroke-width=\"1\" opacity=\"1\"></line><line transform=\"translate(0,35)\" x2=\"-5\" y2=\"0\" stroke=\"#888\" stroke-width=\"1\" opacity=\"1\"></line><line transform=\"translate(0,0)\" x2=\"-5\" y2=\"0\" stroke=\"#888\" stroke-width=\"1\" opacity=\"1\"></line></g><g class=\"mark-text role-axis-label\" pointer-events=\"none\"><text text-anchor=\"end\" transform=\"translate(-7,353)\" font-family=\"sans-serif\" font-size=\"10px\" fill=\"#000\" opacity=\"1\">0</text><text text-anchor=\"end\" transform=\"translate(-7,318)\" font-family=\"sans-serif\" font-size=\"10px\" fill=\"#000\" opacity=\"1\">200</text><text text-anchor=\"end\" transform=\"translate(-7,283)\" font-family=\"sans-serif\" font-size=\"10px\" fill=\"#000\" opacity=\"1\">400</text><text text-anchor=\"end\" transform=\"translate(-7,247.99999999999997)\" font-family=\"sans-serif\" font-size=\"10px\" fill=\"#000\" opacity=\"1\">600</text><text text-anchor=\"end\" transform=\"translate(-7,213)\" font-family=\"sans-serif\" font-size=\"10px\" fill=\"#000\" opacity=\"1\">800</text><text text-anchor=\"end\" transform=\"translate(-7,178)\" font-family=\"sans-serif\" font-size=\"10px\" fill=\"#000\" opacity=\"1\">1,000</text><text text-anchor=\"end\" transform=\"translate(-7,143)\" font-family=\"sans-serif\" font-size=\"10px\" fill=\"#000\" opacity=\"1\">1,200</text><text text-anchor=\"end\" transform=\"translate(-7,108.00000000000001)\" font-family=\"sans-serif\" font-size=\"10px\" fill=\"#000\" opacity=\"1\">1,400</text><text text-anchor=\"end\" transform=\"translate(-7,72.99999999999999)\" font-family=\"sans-serif\" font-size=\"10px\" fill=\"#000\" opacity=\"1\">1,600</text><text text-anchor=\"end\" transform=\"translate(-7,37.99999999999999)\" font-family=\"sans-serif\" font-size=\"10px\" fill=\"#000\" opacity=\"1\">1,800</text><text text-anchor=\"end\" transform=\"translate(-7,3)\" font-family=\"sans-serif\" font-size=\"10px\" fill=\"#000\" opacity=\"1\">2,000</text></g><g class=\"mark-rule role-axis-domain\" pointer-events=\"none\"><line transform=\"translate(0,350)\" x2=\"0\" y2=\"-350\" stroke=\"#888\" stroke-width=\"3\" opacity=\"1\"></line></g><g class=\"mark-text role-axis-title\" pointer-events=\"none\"><text text-anchor=\"middle\" transform=\"translate(-38,175) rotate(-90) translate(0,-2)\" font-family=\"sans-serif\" font-size=\"11px\" font-weight=\"bold\" fill=\"#000\" opacity=\"1\">Number of Issuers</text></g></g><path class=\"foreground\" aria-hidden=\"true\" d=\"\" pointer-events=\"none\" display=\"none\"></path></g></g></g><path class=\"foreground\" aria-hidden=\"true\" d=\"\" display=\"none\"></path></g></g><g class=\"mark-group role-column-header column_header\" role=\"graphics-object\" aria-roledescription=\"group mark container\"><g transform=\"translate(0,-1)\"><path class=\"background\" aria-hidden=\"true\" d=\"M0,0h36v0h-36Z\"></path><g><g class=\"mark-group role-title\"><g transform=\"translate(18,-20)\"><path class=\"background\" aria-hidden=\"true\" d=\"M0,0h0v0h0Z\" pointer-events=\"none\"></path><g><g class=\"mark-text role-title-text\" role=\"graphics-symbol\" aria-roledescription=\"title\" aria-label=\"Title text '1'\" pointer-events=\"none\"><text text-anchor=\"middle\" transform=\"translate(0,8)\" font-family=\"sans-serif\" font-size=\"10px\" fill=\"#000\" opacity=\"1\">1</text></g></g><path class=\"foreground\" aria-hidden=\"true\" d=\"\" pointer-events=\"none\" display=\"none\"></path></g></g></g><path class=\"foreground\" aria-hidden=\"true\" d=\"\" display=\"none\"></path></g><g transform=\"translate(42.5,-1)\"><path class=\"background\" aria-hidden=\"true\" d=\"M0,0h36v0h-36Z\"></path><g><g class=\"mark-group role-title\"><g transform=\"translate(18,-20)\"><path class=\"background\" aria-hidden=\"true\" d=\"M0,0h0v0h0Z\" pointer-events=\"none\"></path><g><g class=\"mark-text role-title-text\" role=\"graphics-symbol\" aria-roledescription=\"title\" aria-label=\"Title text '2'\" pointer-events=\"none\"><text text-anchor=\"middle\" transform=\"translate(0,8)\" font-family=\"sans-serif\" font-size=\"10px\" fill=\"#000\" opacity=\"1\">2</text></g></g><path class=\"foreground\" aria-hidden=\"true\" d=\"\" pointer-events=\"none\" display=\"none\"></path></g></g></g><path class=\"foreground\" aria-hidden=\"true\" d=\"\" display=\"none\"></path></g><g transform=\"translate(85,-1)\"><path class=\"background\" aria-hidden=\"true\" d=\"M0,0h36v0h-36Z\"></path><g><g class=\"mark-group role-title\"><g transform=\"translate(18,-20)\"><path class=\"background\" aria-hidden=\"true\" d=\"M0,0h0v0h0Z\" pointer-events=\"none\"></path><g><g class=\"mark-text role-title-text\" role=\"graphics-symbol\" aria-roledescription=\"title\" aria-label=\"Title text '3'\" pointer-events=\"none\"><text text-anchor=\"middle\" transform=\"translate(0,8)\" font-family=\"sans-serif\" font-size=\"10px\" fill=\"#000\" opacity=\"1\">3</text></g></g><path class=\"foreground\" aria-hidden=\"true\" d=\"\" pointer-events=\"none\" display=\"none\"></path></g></g></g><path class=\"foreground\" aria-hidden=\"true\" d=\"\" display=\"none\"></path></g><g transform=\"translate(127.5,-1)\"><path class=\"background\" aria-hidden=\"true\" d=\"M0,0h36v0h-36Z\"></path><g><g class=\"mark-group role-title\"><g transform=\"translate(18,-20)\"><path class=\"background\" aria-hidden=\"true\" d=\"M0,0h0v0h0Z\" pointer-events=\"none\"></path><g><g class=\"mark-text role-title-text\" role=\"graphics-symbol\" aria-roledescription=\"title\" aria-label=\"Title text '4'\" pointer-events=\"none\"><text text-anchor=\"middle\" transform=\"translate(0,8)\" font-family=\"sans-serif\" font-size=\"10px\" fill=\"#000\" opacity=\"1\">4</text></g></g><path class=\"foreground\" aria-hidden=\"true\" d=\"\" pointer-events=\"none\" display=\"none\"></path></g></g></g><path class=\"foreground\" aria-hidden=\"true\" d=\"\" display=\"none\"></path></g><g transform=\"translate(170,-1)\"><path class=\"background\" aria-hidden=\"true\" d=\"M0,0h36v0h-36Z\"></path><g><g class=\"mark-group role-title\"><g transform=\"translate(18,-20)\"><path class=\"background\" aria-hidden=\"true\" d=\"M0,0h0v0h0Z\" pointer-events=\"none\"></path><g><g class=\"mark-text role-title-text\" role=\"graphics-symbol\" aria-roledescription=\"title\" aria-label=\"Title text '5'\" pointer-events=\"none\"><text text-anchor=\"middle\" transform=\"translate(0,8)\" font-family=\"sans-serif\" font-size=\"10px\" fill=\"#000\" opacity=\"1\">5</text></g></g><path class=\"foreground\" aria-hidden=\"true\" d=\"\" pointer-events=\"none\" display=\"none\"></path></g></g></g><path class=\"foreground\" aria-hidden=\"true\" d=\"\" display=\"none\"></path></g><g transform=\"translate(212.5,-1)\"><path class=\"background\" aria-hidden=\"true\" d=\"M0,0h36v0h-36Z\"></path><g><g class=\"mark-group role-title\"><g transform=\"translate(18,-20)\"><path class=\"background\" aria-hidden=\"true\" d=\"M0,0h0v0h0Z\" pointer-events=\"none\"></path><g><g class=\"mark-text role-title-text\" role=\"graphics-symbol\" aria-roledescription=\"title\" aria-label=\"Title text '6'\" pointer-events=\"none\"><text text-anchor=\"middle\" transform=\"translate(0,8)\" font-family=\"sans-serif\" font-size=\"10px\" fill=\"#000\" opacity=\"1\">6</text></g></g><path class=\"foreground\" aria-hidden=\"true\" d=\"\" pointer-events=\"none\" display=\"none\"></path></g></g></g><path class=\"foreground\" aria-hidden=\"true\" d=\"\" display=\"none\"></path></g><g transform=\"translate(255,-1)\"><path class=\"background\" aria-hidden=\"true\" d=\"M0,0h36v0h-36Z\"></path><g><g class=\"mark-group role-title\"><g transform=\"translate(18,-20)\"><path class=\"background\" aria-hidden=\"true\" d=\"M0,0h0v0h0Z\" pointer-events=\"none\"></path><g><g class=\"mark-text role-title-text\" role=\"graphics-symbol\" aria-roledescription=\"title\" aria-label=\"Title text '7'\" pointer-events=\"none\"><text text-anchor=\"middle\" transform=\"translate(0,8)\" font-family=\"sans-serif\" font-size=\"10px\" fill=\"#000\" opacity=\"1\">7</text></g></g><path class=\"foreground\" aria-hidden=\"true\" d=\"\" pointer-events=\"none\" display=\"none\"></path></g></g></g><path class=\"foreground\" aria-hidden=\"true\" d=\"\" display=\"none\"></path></g><g transform=\"translate(297.5,-1)\"><path class=\"background\" aria-hidden=\"true\" d=\"M0,0h36v0h-36Z\"></path><g><g class=\"mark-group role-title\"><g transform=\"translate(18,-20)\"><path class=\"background\" aria-hidden=\"true\" d=\"M0,0h0v0h0Z\" pointer-events=\"none\"></path><g><g class=\"mark-text role-title-text\" role=\"graphics-symbol\" aria-roledescription=\"title\" aria-label=\"Title text '8'\" pointer-events=\"none\"><text text-anchor=\"middle\" transform=\"translate(0,8)\" font-family=\"sans-serif\" font-size=\"10px\" fill=\"#000\" opacity=\"1\">8</text></g></g><path class=\"foreground\" aria-hidden=\"true\" d=\"\" pointer-events=\"none\" display=\"none\"></path></g></g></g><path class=\"foreground\" aria-hidden=\"true\" d=\"\" display=\"none\"></path></g><g transform=\"translate(340,-1)\"><path class=\"background\" aria-hidden=\"true\" d=\"M0,0h36v0h-36Z\"></path><g><g class=\"mark-group role-title\"><g transform=\"translate(18,-20)\"><path class=\"background\" aria-hidden=\"true\" d=\"M0,0h0v0h0Z\" pointer-events=\"none\"></path><g><g class=\"mark-text role-title-text\" role=\"graphics-symbol\" aria-roledescription=\"title\" aria-label=\"Title text '9'\" pointer-events=\"none\"><text text-anchor=\"middle\" transform=\"translate(0,8)\" font-family=\"sans-serif\" font-size=\"10px\" fill=\"#000\" opacity=\"1\">9</text></g></g><path class=\"foreground\" aria-hidden=\"true\" d=\"\" pointer-events=\"none\" display=\"none\"></path></g></g></g><path class=\"foreground\" aria-hidden=\"true\" d=\"\" display=\"none\"></path></g><g transform=\"translate(382.5,-1)\"><path class=\"background\" aria-hidden=\"true\" d=\"M0,0h36v0h-36Z\"></path><g><g class=\"mark-group role-title\"><g transform=\"translate(18,-20)\"><path class=\"background\" aria-hidden=\"true\" d=\"M0,0h0v0h0Z\" pointer-events=\"none\"></path><g><g class=\"mark-text role-title-text\" role=\"graphics-symbol\" aria-roledescription=\"title\" aria-label=\"Title text '10'\" pointer-events=\"none\"><text text-anchor=\"middle\" transform=\"translate(0,8)\" font-family=\"sans-serif\" font-size=\"10px\" fill=\"#000\" opacity=\"1\">10</text></g></g><path class=\"foreground\" aria-hidden=\"true\" d=\"\" pointer-events=\"none\" display=\"none\"></path></g></g></g><path class=\"foreground\" aria-hidden=\"true\" d=\"\" display=\"none\"></path></g><g transform=\"translate(425,-1)\"><path class=\"background\" aria-hidden=\"true\" d=\"M0,0h36v0h-36Z\"></path><g><g class=\"mark-group role-title\"><g transform=\"translate(18,-20)\"><path class=\"background\" aria-hidden=\"true\" d=\"M0,0h0v0h0Z\" pointer-events=\"none\"></path><g><g class=\"mark-text role-title-text\" role=\"graphics-symbol\" aria-roledescription=\"title\" aria-label=\"Title text '11'\" pointer-events=\"none\"><text text-anchor=\"middle\" transform=\"translate(0,8)\" font-family=\"sans-serif\" font-size=\"10px\" fill=\"#000\" opacity=\"1\">11</text></g></g><path class=\"foreground\" aria-hidden=\"true\" d=\"\" pointer-events=\"none\" display=\"none\"></path></g></g></g><path class=\"foreground\" aria-hidden=\"true\" d=\"\" display=\"none\"></path></g><g transform=\"translate(467.5,-1)\"><path class=\"background\" aria-hidden=\"true\" d=\"M0,0h36v0h-36Z\"></path><g><g class=\"mark-group role-title\"><g transform=\"translate(18,-20)\"><path class=\"background\" aria-hidden=\"true\" d=\"M0,0h0v0h0Z\" pointer-events=\"none\"></path><g><g class=\"mark-text role-title-text\" role=\"graphics-symbol\" aria-roledescription=\"title\" aria-label=\"Title text '12'\" pointer-events=\"none\"><text text-anchor=\"middle\" transform=\"translate(0,8)\" font-family=\"sans-serif\" font-size=\"10px\" fill=\"#000\" opacity=\"1\">12</text></g></g><path class=\"foreground\" aria-hidden=\"true\" d=\"\" pointer-events=\"none\" display=\"none\"></path></g></g></g><path class=\"foreground\" aria-hidden=\"true\" d=\"\" display=\"none\"></path></g><g transform=\"translate(510,-1)\"><path class=\"background\" aria-hidden=\"true\" d=\"M0,0h36v0h-36Z\"></path><g><g class=\"mark-group role-title\"><g transform=\"translate(18,-20)\"><path class=\"background\" aria-hidden=\"true\" d=\"M0,0h0v0h0Z\" pointer-events=\"none\"></path><g><g class=\"mark-text role-title-text\" role=\"graphics-symbol\" aria-roledescription=\"title\" aria-label=\"Title text '13'\" pointer-events=\"none\"><text text-anchor=\"middle\" transform=\"translate(0,8)\" font-family=\"sans-serif\" font-size=\"10px\" fill=\"#000\" opacity=\"1\">13</text></g></g><path class=\"foreground\" aria-hidden=\"true\" d=\"\" pointer-events=\"none\" display=\"none\"></path></g></g></g><path class=\"foreground\" aria-hidden=\"true\" d=\"\" display=\"none\"></path></g><g transform=\"translate(552.5,-1)\"><path class=\"background\" aria-hidden=\"true\" d=\"M0,0h36v0h-36Z\"></path><g><g class=\"mark-group role-title\"><g transform=\"translate(18,-20)\"><path class=\"background\" aria-hidden=\"true\" d=\"M0,0h0v0h0Z\" pointer-events=\"none\"></path><g><g class=\"mark-text role-title-text\" role=\"graphics-symbol\" aria-roledescription=\"title\" aria-label=\"Title text '14'\" pointer-events=\"none\"><text text-anchor=\"middle\" transform=\"translate(0,8)\" font-family=\"sans-serif\" font-size=\"10px\" fill=\"#000\" opacity=\"1\">14</text></g></g><path class=\"foreground\" aria-hidden=\"true\" d=\"\" pointer-events=\"none\" display=\"none\"></path></g></g></g><path class=\"foreground\" aria-hidden=\"true\" d=\"\" display=\"none\"></path></g><g transform=\"translate(595,-1)\"><path class=\"background\" aria-hidden=\"true\" d=\"M0,0h36v0h-36Z\"></path><g><g class=\"mark-group role-title\"><g transform=\"translate(18,-20)\"><path class=\"background\" aria-hidden=\"true\" d=\"M0,0h0v0h0Z\" pointer-events=\"none\"></path><g><g class=\"mark-text role-title-text\" role=\"graphics-symbol\" aria-roledescription=\"title\" aria-label=\"Title text '15'\" pointer-events=\"none\"><text text-anchor=\"middle\" transform=\"translate(0,8)\" font-family=\"sans-serif\" font-size=\"10px\" fill=\"#000\" opacity=\"1\">15</text></g></g><path class=\"foreground\" aria-hidden=\"true\" d=\"\" pointer-events=\"none\" display=\"none\"></path></g></g></g><path class=\"foreground\" aria-hidden=\"true\" d=\"\" display=\"none\"></path></g></g><g class=\"mark-group role-column-footer column_footer\" role=\"graphics-object\" aria-roledescription=\"group mark container\"><g transform=\"translate(0,351)\"><path class=\"background\" aria-hidden=\"true\" d=\"M0,0h36v0h-36Z\"></path><g><g class=\"mark-group role-axis\" role=\"graphics-symbol\" aria-roledescription=\"axis\" aria-label=\"X-axis titled ' ' for a discrete scale with 2 values: ats, otc\"><g transform=\"translate(0.5,0.5)\"><path class=\"background\" aria-hidden=\"true\" d=\"M0,0h0v0h0Z\" pointer-events=\"none\"></path><g><g class=\"mark-rule role-axis-tick\" pointer-events=\"none\"><line transform=\"translate(9,0)\" x2=\"0\" y2=\"5\" stroke=\"#888\" stroke-width=\"1\" opacity=\"1\"></line><line transform=\"translate(27,0)\" x2=\"0\" y2=\"5\" stroke=\"#888\" stroke-width=\"1\" opacity=\"1\"></line></g><g class=\"mark-text role-axis-label\" pointer-events=\"none\"><text text-anchor=\"end\" transform=\"translate(8.500000000000002,7) rotate(270) translate(0,3)\" font-family=\"sans-serif\" font-size=\"10px\" fill=\"#000\" opacity=\"1\">ats</text><text text-anchor=\"end\" transform=\"translate(26.5,7) rotate(270) translate(0,3)\" font-family=\"sans-serif\" font-size=\"10px\" fill=\"#000\" opacity=\"1\">otc</text></g><g class=\"mark-rule role-axis-domain\" pointer-events=\"none\"><line transform=\"translate(0,0)\" x2=\"36\" y2=\"0\" stroke=\"#888\" stroke-width=\"3\" opacity=\"1\"></line></g><g class=\"mark-text role-axis-title\" pointer-events=\"none\"><text text-anchor=\"middle\" transform=\"translate(18,36)\" font-family=\"sans-serif\" font-size=\"11px\" font-weight=\"bold\" fill=\"#000\" opacity=\"1\"></text></g></g><path class=\"foreground\" aria-hidden=\"true\" d=\"\" pointer-events=\"none\" display=\"none\"></path></g></g></g><path class=\"foreground\" aria-hidden=\"true\" d=\"\" display=\"none\"></path></g><g transform=\"translate(42.5,351)\"><path class=\"background\" aria-hidden=\"true\" d=\"M0,0h36v0h-36Z\"></path><g><g class=\"mark-group role-axis\" role=\"graphics-symbol\" aria-roledescription=\"axis\" aria-label=\"X-axis titled ' ' for a discrete scale with 2 values: ats, otc\"><g transform=\"translate(0.5,0.5)\"><path class=\"background\" aria-hidden=\"true\" d=\"M0,0h0v0h0Z\" pointer-events=\"none\"></path><g><g class=\"mark-rule role-axis-tick\" pointer-events=\"none\"><line transform=\"translate(9,0)\" x2=\"0\" y2=\"5\" stroke=\"#888\" stroke-width=\"1\" opacity=\"1\"></line><line transform=\"translate(27,0)\" x2=\"0\" y2=\"5\" stroke=\"#888\" stroke-width=\"1\" opacity=\"1\"></line></g><g class=\"mark-text role-axis-label\" pointer-events=\"none\"><text text-anchor=\"end\" transform=\"translate(8.500000000000002,7) rotate(270) translate(0,3)\" font-family=\"sans-serif\" font-size=\"10px\" fill=\"#000\" opacity=\"1\">ats</text><text text-anchor=\"end\" transform=\"translate(26.5,7) rotate(270) translate(0,3)\" font-family=\"sans-serif\" font-size=\"10px\" fill=\"#000\" opacity=\"1\">otc</text></g><g class=\"mark-rule role-axis-domain\" pointer-events=\"none\"><line transform=\"translate(0,0)\" x2=\"36\" y2=\"0\" stroke=\"#888\" stroke-width=\"3\" opacity=\"1\"></line></g><g class=\"mark-text role-axis-title\" pointer-events=\"none\"><text text-anchor=\"middle\" transform=\"translate(18,36)\" font-family=\"sans-serif\" font-size=\"11px\" font-weight=\"bold\" fill=\"#000\" opacity=\"1\"></text></g></g><path class=\"foreground\" aria-hidden=\"true\" d=\"\" pointer-events=\"none\" display=\"none\"></path></g></g></g><path class=\"foreground\" aria-hidden=\"true\" d=\"\" display=\"none\"></path></g><g transform=\"translate(85,351)\"><path class=\"background\" aria-hidden=\"true\" d=\"M0,0h36v0h-36Z\"></path><g><g class=\"mark-group role-axis\" role=\"graphics-symbol\" aria-roledescription=\"axis\" aria-label=\"X-axis titled ' ' for a discrete scale with 2 values: ats, otc\"><g transform=\"translate(0.5,0.5)\"><path class=\"background\" aria-hidden=\"true\" d=\"M0,0h0v0h0Z\" pointer-events=\"none\"></path><g><g class=\"mark-rule role-axis-tick\" pointer-events=\"none\"><line transform=\"translate(9,0)\" x2=\"0\" y2=\"5\" stroke=\"#888\" stroke-width=\"1\" opacity=\"1\"></line><line transform=\"translate(27,0)\" x2=\"0\" y2=\"5\" stroke=\"#888\" stroke-width=\"1\" opacity=\"1\"></line></g><g class=\"mark-text role-axis-label\" pointer-events=\"none\"><text text-anchor=\"end\" transform=\"translate(8.500000000000002,7) rotate(270) translate(0,3)\" font-family=\"sans-serif\" font-size=\"10px\" fill=\"#000\" opacity=\"1\">ats</text><text text-anchor=\"end\" transform=\"translate(26.5,7) rotate(270) translate(0,3)\" font-family=\"sans-serif\" font-size=\"10px\" fill=\"#000\" opacity=\"1\">otc</text></g><g class=\"mark-rule role-axis-domain\" pointer-events=\"none\"><line transform=\"translate(0,0)\" x2=\"36\" y2=\"0\" stroke=\"#888\" stroke-width=\"3\" opacity=\"1\"></line></g><g class=\"mark-text role-axis-title\" pointer-events=\"none\"><text text-anchor=\"middle\" transform=\"translate(18,36)\" font-family=\"sans-serif\" font-size=\"11px\" font-weight=\"bold\" fill=\"#000\" opacity=\"1\"></text></g></g><path class=\"foreground\" aria-hidden=\"true\" d=\"\" pointer-events=\"none\" display=\"none\"></path></g></g></g><path class=\"foreground\" aria-hidden=\"true\" d=\"\" display=\"none\"></path></g><g transform=\"translate(127.5,351)\"><path class=\"background\" aria-hidden=\"true\" d=\"M0,0h36v0h-36Z\"></path><g><g class=\"mark-group role-axis\" role=\"graphics-symbol\" aria-roledescription=\"axis\" aria-label=\"X-axis titled ' ' for a discrete scale with 2 values: ats, otc\"><g transform=\"translate(0.5,0.5)\"><path class=\"background\" aria-hidden=\"true\" d=\"M0,0h0v0h0Z\" pointer-events=\"none\"></path><g><g class=\"mark-rule role-axis-tick\" pointer-events=\"none\"><line transform=\"translate(9,0)\" x2=\"0\" y2=\"5\" stroke=\"#888\" stroke-width=\"1\" opacity=\"1\"></line><line transform=\"translate(27,0)\" x2=\"0\" y2=\"5\" stroke=\"#888\" stroke-width=\"1\" opacity=\"1\"></line></g><g class=\"mark-text role-axis-label\" pointer-events=\"none\"><text text-anchor=\"end\" transform=\"translate(8.500000000000002,7) rotate(270) translate(0,3)\" font-family=\"sans-serif\" font-size=\"10px\" fill=\"#000\" opacity=\"1\">ats</text><text text-anchor=\"end\" transform=\"translate(26.5,7) rotate(270) translate(0,3)\" font-family=\"sans-serif\" font-size=\"10px\" fill=\"#000\" opacity=\"1\">otc</text></g><g class=\"mark-rule role-axis-domain\" pointer-events=\"none\"><line transform=\"translate(0,0)\" x2=\"36\" y2=\"0\" stroke=\"#888\" stroke-width=\"3\" opacity=\"1\"></line></g><g class=\"mark-text role-axis-title\" pointer-events=\"none\"><text text-anchor=\"middle\" transform=\"translate(18,36)\" font-family=\"sans-serif\" font-size=\"11px\" font-weight=\"bold\" fill=\"#000\" opacity=\"1\"></text></g></g><path class=\"foreground\" aria-hidden=\"true\" d=\"\" pointer-events=\"none\" display=\"none\"></path></g></g></g><path class=\"foreground\" aria-hidden=\"true\" d=\"\" display=\"none\"></path></g><g transform=\"translate(170,351)\"><path class=\"background\" aria-hidden=\"true\" d=\"M0,0h36v0h-36Z\"></path><g><g class=\"mark-group role-axis\" role=\"graphics-symbol\" aria-roledescription=\"axis\" aria-label=\"X-axis titled ' ' for a discrete scale with 2 values: ats, otc\"><g transform=\"translate(0.5,0.5)\"><path class=\"background\" aria-hidden=\"true\" d=\"M0,0h0v0h0Z\" pointer-events=\"none\"></path><g><g class=\"mark-rule role-axis-tick\" pointer-events=\"none\"><line transform=\"translate(9,0)\" x2=\"0\" y2=\"5\" stroke=\"#888\" stroke-width=\"1\" opacity=\"1\"></line><line transform=\"translate(27,0)\" x2=\"0\" y2=\"5\" stroke=\"#888\" stroke-width=\"1\" opacity=\"1\"></line></g><g class=\"mark-text role-axis-label\" pointer-events=\"none\"><text text-anchor=\"end\" transform=\"translate(8.500000000000002,7) rotate(270) translate(0,3)\" font-family=\"sans-serif\" font-size=\"10px\" fill=\"#000\" opacity=\"1\">ats</text><text text-anchor=\"end\" transform=\"translate(26.5,7) rotate(270) translate(0,3)\" font-family=\"sans-serif\" font-size=\"10px\" fill=\"#000\" opacity=\"1\">otc</text></g><g class=\"mark-rule role-axis-domain\" pointer-events=\"none\"><line transform=\"translate(0,0)\" x2=\"36\" y2=\"0\" stroke=\"#888\" stroke-width=\"3\" opacity=\"1\"></line></g><g class=\"mark-text role-axis-title\" pointer-events=\"none\"><text text-anchor=\"middle\" transform=\"translate(18,36)\" font-family=\"sans-serif\" font-size=\"11px\" font-weight=\"bold\" fill=\"#000\" opacity=\"1\"></text></g></g><path class=\"foreground\" aria-hidden=\"true\" d=\"\" pointer-events=\"none\" display=\"none\"></path></g></g></g><path class=\"foreground\" aria-hidden=\"true\" d=\"\" display=\"none\"></path></g><g transform=\"translate(212.5,351)\"><path class=\"background\" aria-hidden=\"true\" d=\"M0,0h36v0h-36Z\"></path><g><g class=\"mark-group role-axis\" role=\"graphics-symbol\" aria-roledescription=\"axis\" aria-label=\"X-axis titled ' ' for a discrete scale with 2 values: ats, otc\"><g transform=\"translate(0.5,0.5)\"><path class=\"background\" aria-hidden=\"true\" d=\"M0,0h0v0h0Z\" pointer-events=\"none\"></path><g><g class=\"mark-rule role-axis-tick\" pointer-events=\"none\"><line transform=\"translate(9,0)\" x2=\"0\" y2=\"5\" stroke=\"#888\" stroke-width=\"1\" opacity=\"1\"></line><line transform=\"translate(27,0)\" x2=\"0\" y2=\"5\" stroke=\"#888\" stroke-width=\"1\" opacity=\"1\"></line></g><g class=\"mark-text role-axis-label\" pointer-events=\"none\"><text text-anchor=\"end\" transform=\"translate(8.500000000000002,7) rotate(270) translate(0,3)\" font-family=\"sans-serif\" font-size=\"10px\" fill=\"#000\" opacity=\"1\">ats</text><text text-anchor=\"end\" transform=\"translate(26.5,7) rotate(270) translate(0,3)\" font-family=\"sans-serif\" font-size=\"10px\" fill=\"#000\" opacity=\"1\">otc</text></g><g class=\"mark-rule role-axis-domain\" pointer-events=\"none\"><line transform=\"translate(0,0)\" x2=\"36\" y2=\"0\" stroke=\"#888\" stroke-width=\"3\" opacity=\"1\"></line></g><g class=\"mark-text role-axis-title\" pointer-events=\"none\"><text text-anchor=\"middle\" transform=\"translate(18,36)\" font-family=\"sans-serif\" font-size=\"11px\" font-weight=\"bold\" fill=\"#000\" opacity=\"1\"></text></g></g><path class=\"foreground\" aria-hidden=\"true\" d=\"\" pointer-events=\"none\" display=\"none\"></path></g></g></g><path class=\"foreground\" aria-hidden=\"true\" d=\"\" display=\"none\"></path></g><g transform=\"translate(255,351)\"><path class=\"background\" aria-hidden=\"true\" d=\"M0,0h36v0h-36Z\"></path><g><g class=\"mark-group role-axis\" role=\"graphics-symbol\" aria-roledescription=\"axis\" aria-label=\"X-axis titled ' ' for a discrete scale with 2 values: ats, otc\"><g transform=\"translate(0.5,0.5)\"><path class=\"background\" aria-hidden=\"true\" d=\"M0,0h0v0h0Z\" pointer-events=\"none\"></path><g><g class=\"mark-rule role-axis-tick\" pointer-events=\"none\"><line transform=\"translate(9,0)\" x2=\"0\" y2=\"5\" stroke=\"#888\" stroke-width=\"1\" opacity=\"1\"></line><line transform=\"translate(27,0)\" x2=\"0\" y2=\"5\" stroke=\"#888\" stroke-width=\"1\" opacity=\"1\"></line></g><g class=\"mark-text role-axis-label\" pointer-events=\"none\"><text text-anchor=\"end\" transform=\"translate(8.500000000000002,7) rotate(270) translate(0,3)\" font-family=\"sans-serif\" font-size=\"10px\" fill=\"#000\" opacity=\"1\">ats</text><text text-anchor=\"end\" transform=\"translate(26.5,7) rotate(270) translate(0,3)\" font-family=\"sans-serif\" font-size=\"10px\" fill=\"#000\" opacity=\"1\">otc</text></g><g class=\"mark-rule role-axis-domain\" pointer-events=\"none\"><line transform=\"translate(0,0)\" x2=\"36\" y2=\"0\" stroke=\"#888\" stroke-width=\"3\" opacity=\"1\"></line></g><g class=\"mark-text role-axis-title\" pointer-events=\"none\"><text text-anchor=\"middle\" transform=\"translate(18,36)\" font-family=\"sans-serif\" font-size=\"11px\" font-weight=\"bold\" fill=\"#000\" opacity=\"1\"></text></g></g><path class=\"foreground\" aria-hidden=\"true\" d=\"\" pointer-events=\"none\" display=\"none\"></path></g></g></g><path class=\"foreground\" aria-hidden=\"true\" d=\"\" display=\"none\"></path></g><g transform=\"translate(297.5,351)\"><path class=\"background\" aria-hidden=\"true\" d=\"M0,0h36v0h-36Z\"></path><g><g class=\"mark-group role-axis\" role=\"graphics-symbol\" aria-roledescription=\"axis\" aria-label=\"X-axis titled ' ' for a discrete scale with 2 values: ats, otc\"><g transform=\"translate(0.5,0.5)\"><path class=\"background\" aria-hidden=\"true\" d=\"M0,0h0v0h0Z\" pointer-events=\"none\"></path><g><g class=\"mark-rule role-axis-tick\" pointer-events=\"none\"><line transform=\"translate(9,0)\" x2=\"0\" y2=\"5\" stroke=\"#888\" stroke-width=\"1\" opacity=\"1\"></line><line transform=\"translate(27,0)\" x2=\"0\" y2=\"5\" stroke=\"#888\" stroke-width=\"1\" opacity=\"1\"></line></g><g class=\"mark-text role-axis-label\" pointer-events=\"none\"><text text-anchor=\"end\" transform=\"translate(8.500000000000002,7) rotate(270) translate(0,3)\" font-family=\"sans-serif\" font-size=\"10px\" fill=\"#000\" opacity=\"1\">ats</text><text text-anchor=\"end\" transform=\"translate(26.5,7) rotate(270) translate(0,3)\" font-family=\"sans-serif\" font-size=\"10px\" fill=\"#000\" opacity=\"1\">otc</text></g><g class=\"mark-rule role-axis-domain\" pointer-events=\"none\"><line transform=\"translate(0,0)\" x2=\"36\" y2=\"0\" stroke=\"#888\" stroke-width=\"3\" opacity=\"1\"></line></g><g class=\"mark-text role-axis-title\" pointer-events=\"none\"><text text-anchor=\"middle\" transform=\"translate(18,36)\" font-family=\"sans-serif\" font-size=\"11px\" font-weight=\"bold\" fill=\"#000\" opacity=\"1\"></text></g></g><path class=\"foreground\" aria-hidden=\"true\" d=\"\" pointer-events=\"none\" display=\"none\"></path></g></g></g><path class=\"foreground\" aria-hidden=\"true\" d=\"\" display=\"none\"></path></g><g transform=\"translate(340,351)\"><path class=\"background\" aria-hidden=\"true\" d=\"M0,0h36v0h-36Z\"></path><g><g class=\"mark-group role-axis\" role=\"graphics-symbol\" aria-roledescription=\"axis\" aria-label=\"X-axis titled ' ' for a discrete scale with 2 values: ats, otc\"><g transform=\"translate(0.5,0.5)\"><path class=\"background\" aria-hidden=\"true\" d=\"M0,0h0v0h0Z\" pointer-events=\"none\"></path><g><g class=\"mark-rule role-axis-tick\" pointer-events=\"none\"><line transform=\"translate(9,0)\" x2=\"0\" y2=\"5\" stroke=\"#888\" stroke-width=\"1\" opacity=\"1\"></line><line transform=\"translate(27,0)\" x2=\"0\" y2=\"5\" stroke=\"#888\" stroke-width=\"1\" opacity=\"1\"></line></g><g class=\"mark-text role-axis-label\" pointer-events=\"none\"><text text-anchor=\"end\" transform=\"translate(8.500000000000002,7) rotate(270) translate(0,3)\" font-family=\"sans-serif\" font-size=\"10px\" fill=\"#000\" opacity=\"1\">ats</text><text text-anchor=\"end\" transform=\"translate(26.5,7) rotate(270) translate(0,3)\" font-family=\"sans-serif\" font-size=\"10px\" fill=\"#000\" opacity=\"1\">otc</text></g><g class=\"mark-rule role-axis-domain\" pointer-events=\"none\"><line transform=\"translate(0,0)\" x2=\"36\" y2=\"0\" stroke=\"#888\" stroke-width=\"3\" opacity=\"1\"></line></g><g class=\"mark-text role-axis-title\" pointer-events=\"none\"><text text-anchor=\"middle\" transform=\"translate(18,36)\" font-family=\"sans-serif\" font-size=\"11px\" font-weight=\"bold\" fill=\"#000\" opacity=\"1\"></text></g></g><path class=\"foreground\" aria-hidden=\"true\" d=\"\" pointer-events=\"none\" display=\"none\"></path></g></g></g><path class=\"foreground\" aria-hidden=\"true\" d=\"\" display=\"none\"></path></g><g transform=\"translate(382.5,351)\"><path class=\"background\" aria-hidden=\"true\" d=\"M0,0h36v0h-36Z\"></path><g><g class=\"mark-group role-axis\" role=\"graphics-symbol\" aria-roledescription=\"axis\" aria-label=\"X-axis titled ' ' for a discrete scale with 2 values: ats, otc\"><g transform=\"translate(0.5,0.5)\"><path class=\"background\" aria-hidden=\"true\" d=\"M0,0h0v0h0Z\" pointer-events=\"none\"></path><g><g class=\"mark-rule role-axis-tick\" pointer-events=\"none\"><line transform=\"translate(9,0)\" x2=\"0\" y2=\"5\" stroke=\"#888\" stroke-width=\"1\" opacity=\"1\"></line><line transform=\"translate(27,0)\" x2=\"0\" y2=\"5\" stroke=\"#888\" stroke-width=\"1\" opacity=\"1\"></line></g><g class=\"mark-text role-axis-label\" pointer-events=\"none\"><text text-anchor=\"end\" transform=\"translate(8.500000000000002,7) rotate(270) translate(0,3)\" font-family=\"sans-serif\" font-size=\"10px\" fill=\"#000\" opacity=\"1\">ats</text><text text-anchor=\"end\" transform=\"translate(26.5,7) rotate(270) translate(0,3)\" font-family=\"sans-serif\" font-size=\"10px\" fill=\"#000\" opacity=\"1\">otc</text></g><g class=\"mark-rule role-axis-domain\" pointer-events=\"none\"><line transform=\"translate(0,0)\" x2=\"36\" y2=\"0\" stroke=\"#888\" stroke-width=\"3\" opacity=\"1\"></line></g><g class=\"mark-text role-axis-title\" pointer-events=\"none\"><text text-anchor=\"middle\" transform=\"translate(18,36)\" font-family=\"sans-serif\" font-size=\"11px\" font-weight=\"bold\" fill=\"#000\" opacity=\"1\"></text></g></g><path class=\"foreground\" aria-hidden=\"true\" d=\"\" pointer-events=\"none\" display=\"none\"></path></g></g></g><path class=\"foreground\" aria-hidden=\"true\" d=\"\" display=\"none\"></path></g><g transform=\"translate(425,351)\"><path class=\"background\" aria-hidden=\"true\" d=\"M0,0h36v0h-36Z\"></path><g><g class=\"mark-group role-axis\" role=\"graphics-symbol\" aria-roledescription=\"axis\" aria-label=\"X-axis titled ' ' for a discrete scale with 2 values: ats, otc\"><g transform=\"translate(0.5,0.5)\"><path class=\"background\" aria-hidden=\"true\" d=\"M0,0h0v0h0Z\" pointer-events=\"none\"></path><g><g class=\"mark-rule role-axis-tick\" pointer-events=\"none\"><line transform=\"translate(9,0)\" x2=\"0\" y2=\"5\" stroke=\"#888\" stroke-width=\"1\" opacity=\"1\"></line><line transform=\"translate(27,0)\" x2=\"0\" y2=\"5\" stroke=\"#888\" stroke-width=\"1\" opacity=\"1\"></line></g><g class=\"mark-text role-axis-label\" pointer-events=\"none\"><text text-anchor=\"end\" transform=\"translate(8.500000000000002,7) rotate(270) translate(0,3)\" font-family=\"sans-serif\" font-size=\"10px\" fill=\"#000\" opacity=\"1\">ats</text><text text-anchor=\"end\" transform=\"translate(26.5,7) rotate(270) translate(0,3)\" font-family=\"sans-serif\" font-size=\"10px\" fill=\"#000\" opacity=\"1\">otc</text></g><g class=\"mark-rule role-axis-domain\" pointer-events=\"none\"><line transform=\"translate(0,0)\" x2=\"36\" y2=\"0\" stroke=\"#888\" stroke-width=\"3\" opacity=\"1\"></line></g><g class=\"mark-text role-axis-title\" pointer-events=\"none\"><text text-anchor=\"middle\" transform=\"translate(18,36)\" font-family=\"sans-serif\" font-size=\"11px\" font-weight=\"bold\" fill=\"#000\" opacity=\"1\"></text></g></g><path class=\"foreground\" aria-hidden=\"true\" d=\"\" pointer-events=\"none\" display=\"none\"></path></g></g></g><path class=\"foreground\" aria-hidden=\"true\" d=\"\" display=\"none\"></path></g><g transform=\"translate(467.5,351)\"><path class=\"background\" aria-hidden=\"true\" d=\"M0,0h36v0h-36Z\"></path><g><g class=\"mark-group role-axis\" role=\"graphics-symbol\" aria-roledescription=\"axis\" aria-label=\"X-axis titled ' ' for a discrete scale with 2 values: ats, otc\"><g transform=\"translate(0.5,0.5)\"><path class=\"background\" aria-hidden=\"true\" d=\"M0,0h0v0h0Z\" pointer-events=\"none\"></path><g><g class=\"mark-rule role-axis-tick\" pointer-events=\"none\"><line transform=\"translate(9,0)\" x2=\"0\" y2=\"5\" stroke=\"#888\" stroke-width=\"1\" opacity=\"1\"></line><line transform=\"translate(27,0)\" x2=\"0\" y2=\"5\" stroke=\"#888\" stroke-width=\"1\" opacity=\"1\"></line></g><g class=\"mark-text role-axis-label\" pointer-events=\"none\"><text text-anchor=\"end\" transform=\"translate(8.500000000000002,7) rotate(270) translate(0,3)\" font-family=\"sans-serif\" font-size=\"10px\" fill=\"#000\" opacity=\"1\">ats</text><text text-anchor=\"end\" transform=\"translate(26.5,7) rotate(270) translate(0,3)\" font-family=\"sans-serif\" font-size=\"10px\" fill=\"#000\" opacity=\"1\">otc</text></g><g class=\"mark-rule role-axis-domain\" pointer-events=\"none\"><line transform=\"translate(0,0)\" x2=\"36\" y2=\"0\" stroke=\"#888\" stroke-width=\"3\" opacity=\"1\"></line></g><g class=\"mark-text role-axis-title\" pointer-events=\"none\"><text text-anchor=\"middle\" transform=\"translate(18,36)\" font-family=\"sans-serif\" font-size=\"11px\" font-weight=\"bold\" fill=\"#000\" opacity=\"1\"></text></g></g><path class=\"foreground\" aria-hidden=\"true\" d=\"\" pointer-events=\"none\" display=\"none\"></path></g></g></g><path class=\"foreground\" aria-hidden=\"true\" d=\"\" display=\"none\"></path></g><g transform=\"translate(510,351)\"><path class=\"background\" aria-hidden=\"true\" d=\"M0,0h36v0h-36Z\"></path><g><g class=\"mark-group role-axis\" role=\"graphics-symbol\" aria-roledescription=\"axis\" aria-label=\"X-axis titled ' ' for a discrete scale with 2 values: ats, otc\"><g transform=\"translate(0.5,0.5)\"><path class=\"background\" aria-hidden=\"true\" d=\"M0,0h0v0h0Z\" pointer-events=\"none\"></path><g><g class=\"mark-rule role-axis-tick\" pointer-events=\"none\"><line transform=\"translate(9,0)\" x2=\"0\" y2=\"5\" stroke=\"#888\" stroke-width=\"1\" opacity=\"1\"></line><line transform=\"translate(27,0)\" x2=\"0\" y2=\"5\" stroke=\"#888\" stroke-width=\"1\" opacity=\"1\"></line></g><g class=\"mark-text role-axis-label\" pointer-events=\"none\"><text text-anchor=\"end\" transform=\"translate(8.500000000000002,7) rotate(270) translate(0,3)\" font-family=\"sans-serif\" font-size=\"10px\" fill=\"#000\" opacity=\"1\">ats</text><text text-anchor=\"end\" transform=\"translate(26.5,7) rotate(270) translate(0,3)\" font-family=\"sans-serif\" font-size=\"10px\" fill=\"#000\" opacity=\"1\">otc</text></g><g class=\"mark-rule role-axis-domain\" pointer-events=\"none\"><line transform=\"translate(0,0)\" x2=\"36\" y2=\"0\" stroke=\"#888\" stroke-width=\"3\" opacity=\"1\"></line></g><g class=\"mark-text role-axis-title\" pointer-events=\"none\"><text text-anchor=\"middle\" transform=\"translate(18,36)\" font-family=\"sans-serif\" font-size=\"11px\" font-weight=\"bold\" fill=\"#000\" opacity=\"1\"></text></g></g><path class=\"foreground\" aria-hidden=\"true\" d=\"\" pointer-events=\"none\" display=\"none\"></path></g></g></g><path class=\"foreground\" aria-hidden=\"true\" d=\"\" display=\"none\"></path></g><g transform=\"translate(552.5,351)\"><path class=\"background\" aria-hidden=\"true\" d=\"M0,0h36v0h-36Z\"></path><g><g class=\"mark-group role-axis\" role=\"graphics-symbol\" aria-roledescription=\"axis\" aria-label=\"X-axis titled ' ' for a discrete scale with 2 values: ats, otc\"><g transform=\"translate(0.5,0.5)\"><path class=\"background\" aria-hidden=\"true\" d=\"M0,0h0v0h0Z\" pointer-events=\"none\"></path><g><g class=\"mark-rule role-axis-tick\" pointer-events=\"none\"><line transform=\"translate(9,0)\" x2=\"0\" y2=\"5\" stroke=\"#888\" stroke-width=\"1\" opacity=\"1\"></line><line transform=\"translate(27,0)\" x2=\"0\" y2=\"5\" stroke=\"#888\" stroke-width=\"1\" opacity=\"1\"></line></g><g class=\"mark-text role-axis-label\" pointer-events=\"none\"><text text-anchor=\"end\" transform=\"translate(8.500000000000002,7) rotate(270) translate(0,3)\" font-family=\"sans-serif\" font-size=\"10px\" fill=\"#000\" opacity=\"1\">ats</text><text text-anchor=\"end\" transform=\"translate(26.5,7) rotate(270) translate(0,3)\" font-family=\"sans-serif\" font-size=\"10px\" fill=\"#000\" opacity=\"1\">otc</text></g><g class=\"mark-rule role-axis-domain\" pointer-events=\"none\"><line transform=\"translate(0,0)\" x2=\"36\" y2=\"0\" stroke=\"#888\" stroke-width=\"3\" opacity=\"1\"></line></g><g class=\"mark-text role-axis-title\" pointer-events=\"none\"><text text-anchor=\"middle\" transform=\"translate(18,36)\" font-family=\"sans-serif\" font-size=\"11px\" font-weight=\"bold\" fill=\"#000\" opacity=\"1\"></text></g></g><path class=\"foreground\" aria-hidden=\"true\" d=\"\" pointer-events=\"none\" display=\"none\"></path></g></g></g><path class=\"foreground\" aria-hidden=\"true\" d=\"\" display=\"none\"></path></g><g transform=\"translate(595,351)\"><path class=\"background\" aria-hidden=\"true\" d=\"M0,0h36v0h-36Z\"></path><g><g class=\"mark-group role-axis\" role=\"graphics-symbol\" aria-roledescription=\"axis\" aria-label=\"X-axis titled ' ' for a discrete scale with 2 values: ats, otc\"><g transform=\"translate(0.5,0.5)\"><path class=\"background\" aria-hidden=\"true\" d=\"M0,0h0v0h0Z\" pointer-events=\"none\"></path><g><g class=\"mark-rule role-axis-tick\" pointer-events=\"none\"><line transform=\"translate(9,0)\" x2=\"0\" y2=\"5\" stroke=\"#888\" stroke-width=\"1\" opacity=\"1\"></line><line transform=\"translate(27,0)\" x2=\"0\" y2=\"5\" stroke=\"#888\" stroke-width=\"1\" opacity=\"1\"></line></g><g class=\"mark-text role-axis-label\" pointer-events=\"none\"><text text-anchor=\"end\" transform=\"translate(8.500000000000002,7) rotate(270) translate(0,3)\" font-family=\"sans-serif\" font-size=\"10px\" fill=\"#000\" opacity=\"1\">ats</text><text text-anchor=\"end\" transform=\"translate(26.5,7) rotate(270) translate(0,3)\" font-family=\"sans-serif\" font-size=\"10px\" fill=\"#000\" opacity=\"1\">otc</text></g><g class=\"mark-rule role-axis-domain\" pointer-events=\"none\"><line transform=\"translate(0,0)\" x2=\"36\" y2=\"0\" stroke=\"#888\" stroke-width=\"3\" opacity=\"1\"></line></g><g class=\"mark-text role-axis-title\" pointer-events=\"none\"><text text-anchor=\"middle\" transform=\"translate(18,36)\" font-family=\"sans-serif\" font-size=\"11px\" font-weight=\"bold\" fill=\"#000\" opacity=\"1\"></text></g></g><path class=\"foreground\" aria-hidden=\"true\" d=\"\" pointer-events=\"none\" display=\"none\"></path></g></g></g><path class=\"foreground\" aria-hidden=\"true\" d=\"\" display=\"none\"></path></g></g><g class=\"mark-group role-scope cell\" role=\"graphics-object\" aria-roledescription=\"group mark container\"><g transform=\"translate(0,0)\"><path class=\"background\" aria-hidden=\"true\" d=\"M0.5,0.5h36v350h-36Z\"></path><g><g class=\"mark-rect role-mark child_marks\" role=\"graphics-object\" aria-roledescription=\"rect mark container\"><path aria-label=\"Number of Issuers: 274;  : otc; Secondary Market: otc\" role=\"graphics-symbol\" aria-roledescription=\"bar\" d=\"M18.900000000000002,302.05h16.2v47.94999999999999h-16.2Z\" fill=\"rgb(53, 183, 121)\"></path><path aria-label=\"Number of Issuers: 268;  : ats; Secondary Market: ats\" role=\"graphics-symbol\" aria-roledescription=\"bar\" d=\"M0.9000000000000021,303.1h16.2v46.89999999999998h-16.2Z\" fill=\"rgb(49, 104, 142)\"></path></g></g><path class=\"foreground\" aria-hidden=\"true\" d=\"\" display=\"none\"></path></g><g transform=\"translate(42.5,0)\"><path class=\"background\" aria-hidden=\"true\" d=\"M0.5,0.5h36v350h-36Z\"></path><g><g class=\"mark-rect role-mark child_marks\" role=\"graphics-object\" aria-roledescription=\"rect mark container\"><path aria-label=\"Number of Issuers: 1561;  : otc; Secondary Market: otc\" role=\"graphics-symbol\" aria-roledescription=\"bar\" d=\"M18.900000000000002,76.82500000000002h16.2v273.17499999999995h-16.2Z\" fill=\"rgb(53, 183, 121)\"></path><path aria-label=\"Number of Issuers: 1524;  : ats; Secondary Market: ats\" role=\"graphics-symbol\" aria-roledescription=\"bar\" d=\"M0.9000000000000021,83.3h16.2v266.7h-16.2Z\" fill=\"rgb(49, 104, 142)\"></path></g></g><path class=\"foreground\" aria-hidden=\"true\" d=\"\" display=\"none\"></path></g><g transform=\"translate(85,0)\"><path class=\"background\" aria-hidden=\"true\" d=\"M0.5,0.5h36v350h-36Z\"></path><g><g class=\"mark-rect role-mark child_marks\" role=\"graphics-object\" aria-roledescription=\"rect mark container\"><path aria-label=\"Number of Issuers: 22;  : otc; Secondary Market: otc\" role=\"graphics-symbol\" aria-roledescription=\"bar\" d=\"M18.900000000000002,346.15h16.2v3.8500000000000227h-16.2Z\" fill=\"rgb(53, 183, 121)\"></path><path aria-label=\"Number of Issuers: 22;  : ats; Secondary Market: ats\" role=\"graphics-symbol\" aria-roledescription=\"bar\" d=\"M0.9000000000000021,346.15h16.2v3.8500000000000227h-16.2Z\" fill=\"rgb(49, 104, 142)\"></path></g></g><path class=\"foreground\" aria-hidden=\"true\" d=\"\" display=\"none\"></path></g><g transform=\"translate(127.5,0)\"><path class=\"background\" aria-hidden=\"true\" d=\"M0.5,0.5h36v350h-36Z\"></path><g><g class=\"mark-rect role-mark child_marks\" role=\"graphics-object\" aria-roledescription=\"rect mark container\"><path aria-label=\"Number of Issuers: 40;  : otc; Secondary Market: otc\" role=\"graphics-symbol\" aria-roledescription=\"bar\" d=\"M18.900000000000002,343h16.2v7h-16.2Z\" fill=\"rgb(53, 183, 121)\"></path><path aria-label=\"Number of Issuers: 39;  : ats; Secondary Market: ats\" role=\"graphics-symbol\" aria-roledescription=\"bar\" d=\"M0.9000000000000021,343.175h16.2v6.824999999999989h-16.2Z\" fill=\"rgb(49, 104, 142)\"></path></g></g><path class=\"foreground\" aria-hidden=\"true\" d=\"\" display=\"none\"></path></g><g transform=\"translate(170,0)\"><path class=\"background\" aria-hidden=\"true\" d=\"M0.5,0.5h36v350h-36Z\"></path><g><g class=\"mark-rect role-mark child_marks\" role=\"graphics-object\" aria-roledescription=\"rect mark container\"><path aria-label=\"Number of Issuers: 7;  : otc; Secondary Market: otc\" role=\"graphics-symbol\" aria-roledescription=\"bar\" d=\"M18.900000000000002,348.77500000000003h16.2v1.224999999999966h-16.2Z\" fill=\"rgb(53, 183, 121)\"></path><path aria-label=\"Number of Issuers: 6;  : ats; Secondary Market: ats\" role=\"graphics-symbol\" aria-roledescription=\"bar\" d=\"M0.9000000000000021,348.95h16.2v1.0500000000000114h-16.2Z\" fill=\"rgb(49, 104, 142)\"></path></g></g><path class=\"foreground\" aria-hidden=\"true\" d=\"\" display=\"none\"></path></g><g transform=\"translate(212.5,0)\"><path class=\"background\" aria-hidden=\"true\" d=\"M0.5,0.5h36v350h-36Z\"></path><g><g class=\"mark-rect role-mark child_marks\" role=\"graphics-object\" aria-roledescription=\"rect mark container\"><path aria-label=\"Number of Issuers: 1305;  : otc; Secondary Market: otc\" role=\"graphics-symbol\" aria-roledescription=\"bar\" d=\"M18.900000000000002,121.62500000000001h16.2v228.375h-16.2Z\" fill=\"rgb(53, 183, 121)\"></path><path aria-label=\"Number of Issuers: 1275;  : ats; Secondary Market: ats\" role=\"graphics-symbol\" aria-roledescription=\"bar\" d=\"M0.9000000000000021,126.87500000000001h16.2v223.125h-16.2Z\" fill=\"rgb(49, 104, 142)\"></path></g></g><path class=\"foreground\" aria-hidden=\"true\" d=\"\" display=\"none\"></path></g><g transform=\"translate(255,0)\"><path class=\"background\" aria-hidden=\"true\" d=\"M0.5,0.5h36v350h-36Z\"></path><g><g class=\"mark-rect role-mark child_marks\" role=\"graphics-object\" aria-roledescription=\"rect mark container\"><path aria-label=\"Number of Issuers: 1937;  : otc; Secondary Market: otc\" role=\"graphics-symbol\" aria-roledescription=\"bar\" d=\"M18.900000000000002,11.02499999999999h16.2v338.975h-16.2Z\" fill=\"rgb(53, 183, 121)\"></path><path aria-label=\"Number of Issuers: 1823;  : ats; Secondary Market: ats\" role=\"graphics-symbol\" aria-roledescription=\"bar\" d=\"M0.9000000000000021,30.97500000000001h16.2v319.025h-16.2Z\" fill=\"rgb(49, 104, 142)\"></path></g></g><path class=\"foreground\" aria-hidden=\"true\" d=\"\" display=\"none\"></path></g><g transform=\"translate(297.5,0)\"><path class=\"background\" aria-hidden=\"true\" d=\"M0.5,0.5h36v350h-36Z\"></path><g><g class=\"mark-rect role-mark child_marks\" role=\"graphics-object\" aria-roledescription=\"rect mark container\"><path aria-label=\"Number of Issuers: 777;  : otc; Secondary Market: otc\" role=\"graphics-symbol\" aria-roledescription=\"bar\" d=\"M18.900000000000002,214.02499999999998h16.2v135.97500000000002h-16.2Z\" fill=\"rgb(53, 183, 121)\"></path><path aria-label=\"Number of Issuers: 767;  : ats; Secondary Market: ats\" role=\"graphics-symbol\" aria-roledescription=\"bar\" d=\"M0.9000000000000021,215.775h16.2v134.225h-16.2Z\" fill=\"rgb(49, 104, 142)\"></path></g></g><path class=\"foreground\" aria-hidden=\"true\" d=\"\" display=\"none\"></path></g><g transform=\"translate(340,0)\"><path class=\"background\" aria-hidden=\"true\" d=\"M0.5,0.5h36v350h-36Z\"></path><g><g class=\"mark-rect role-mark child_marks\" role=\"graphics-object\" aria-roledescription=\"rect mark container\"><path aria-label=\"Number of Issuers: 207;  : otc; Secondary Market: otc\" role=\"graphics-symbol\" aria-roledescription=\"bar\" d=\"M18.900000000000002,313.775h16.2v36.22500000000002h-16.2Z\" fill=\"rgb(53, 183, 121)\"></path><path aria-label=\"Number of Issuers: 205;  : ats; Secondary Market: ats\" role=\"graphics-symbol\" aria-roledescription=\"bar\" d=\"M0.9000000000000021,314.125h16.2v35.875h-16.2Z\" fill=\"rgb(49, 104, 142)\"></path></g></g><path class=\"foreground\" aria-hidden=\"true\" d=\"\" display=\"none\"></path></g><g transform=\"translate(382.5,0)\"><path class=\"background\" aria-hidden=\"true\" d=\"M0.5,0.5h36v350h-36Z\"></path><g><g class=\"mark-rect role-mark child_marks\" role=\"graphics-object\" aria-roledescription=\"rect mark container\"><path aria-label=\"Number of Issuers: 52;  : otc; Secondary Market: otc\" role=\"graphics-symbol\" aria-roledescription=\"bar\" d=\"M18.900000000000002,340.9h16.2v9.100000000000023h-16.2Z\" fill=\"rgb(53, 183, 121)\"></path><path aria-label=\"Number of Issuers: 51;  : ats; Secondary Market: ats\" role=\"graphics-symbol\" aria-roledescription=\"bar\" d=\"M0.9000000000000021,341.075h16.2v8.925000000000011h-16.2Z\" fill=\"rgb(49, 104, 142)\"></path></g></g><path class=\"foreground\" aria-hidden=\"true\" d=\"\" display=\"none\"></path></g><g transform=\"translate(425,0)\"><path class=\"background\" aria-hidden=\"true\" d=\"M0.5,0.5h36v350h-36Z\"></path><g><g class=\"mark-rect role-mark child_marks\" role=\"graphics-object\" aria-roledescription=\"rect mark container\"><path aria-label=\"Number of Issuers: 1720;  : otc; Secondary Market: otc\" role=\"graphics-symbol\" aria-roledescription=\"bar\" d=\"M18.900000000000002,49.00000000000001h16.2v301h-16.2Z\" fill=\"rgb(53, 183, 121)\"></path><path aria-label=\"Number of Issuers: 1625;  : ats; Secondary Market: ats\" role=\"graphics-symbol\" aria-roledescription=\"bar\" d=\"M0.9000000000000021,65.625h16.2v284.375h-16.2Z\" fill=\"rgb(49, 104, 142)\"></path></g></g><path class=\"foreground\" aria-hidden=\"true\" d=\"\" display=\"none\"></path></g><g transform=\"translate(467.5,0)\"><path class=\"background\" aria-hidden=\"true\" d=\"M0.5,0.5h36v350h-36Z\"></path><g><g class=\"mark-rect role-mark child_marks\" role=\"graphics-object\" aria-roledescription=\"rect mark container\"><path aria-label=\"Number of Issuers: 1045;  : otc; Secondary Market: otc\" role=\"graphics-symbol\" aria-roledescription=\"bar\" d=\"M18.900000000000002,167.125h16.2v182.875h-16.2Z\" fill=\"rgb(53, 183, 121)\"></path><path aria-label=\"Number of Issuers: 985;  : ats; Secondary Market: ats\" role=\"graphics-symbol\" aria-roledescription=\"bar\" d=\"M0.9000000000000021,177.62500000000003h16.2v172.37499999999997h-16.2Z\" fill=\"rgb(49, 104, 142)\"></path></g></g><path class=\"foreground\" aria-hidden=\"true\" d=\"\" display=\"none\"></path></g><g transform=\"translate(510,0)\"><path class=\"background\" aria-hidden=\"true\" d=\"M0.5,0.5h36v350h-36Z\"></path><g><g class=\"mark-rect role-mark child_marks\" role=\"graphics-object\" aria-roledescription=\"rect mark container\"><path aria-label=\"Number of Issuers: 1736;  : otc; Secondary Market: otc\" role=\"graphics-symbol\" aria-roledescription=\"bar\" d=\"M18.900000000000002,46.2h16.2v303.8h-16.2Z\" fill=\"rgb(53, 183, 121)\"></path><path aria-label=\"Number of Issuers: 1649;  : ats; Secondary Market: ats\" role=\"graphics-symbol\" aria-roledescription=\"bar\" d=\"M0.9000000000000021,61.425h16.2v288.575h-16.2Z\" fill=\"rgb(49, 104, 142)\"></path></g></g><path class=\"foreground\" aria-hidden=\"true\" d=\"\" display=\"none\"></path></g><g transform=\"translate(552.5,0)\"><path class=\"background\" aria-hidden=\"true\" d=\"M0.5,0.5h36v350h-36Z\"></path><g><g class=\"mark-rect role-mark child_marks\" role=\"graphics-object\" aria-roledescription=\"rect mark container\"><path aria-label=\"Number of Issuers: 315;  : otc; Secondary Market: otc\" role=\"graphics-symbol\" aria-roledescription=\"bar\" d=\"M18.900000000000002,294.875h16.2v55.125h-16.2Z\" fill=\"rgb(53, 183, 121)\"></path><path aria-label=\"Number of Issuers: 307;  : ats; Secondary Market: ats\" role=\"graphics-symbol\" aria-roledescription=\"bar\" d=\"M0.9000000000000021,296.27500000000003h16.2v53.724999999999966h-16.2Z\" fill=\"rgb(49, 104, 142)\"></path></g></g><path class=\"foreground\" aria-hidden=\"true\" d=\"\" display=\"none\"></path></g><g transform=\"translate(595,0)\"><path class=\"background\" aria-hidden=\"true\" d=\"M0.5,0.5h36v350h-36Z\"></path><g><g class=\"mark-rect role-mark child_marks\" role=\"graphics-object\" aria-roledescription=\"rect mark container\"><path aria-label=\"Number of Issuers: 1723;  : otc; Secondary Market: otc\" role=\"graphics-symbol\" aria-roledescription=\"bar\" d=\"M18.900000000000002,48.47499999999999h16.2v301.52500000000003h-16.2Z\" fill=\"rgb(53, 183, 121)\"></path><path aria-label=\"Number of Issuers: 1636;  : ats; Secondary Market: ats\" role=\"graphics-symbol\" aria-roledescription=\"bar\" d=\"M0.9000000000000021,63.70000000000002h16.2v286.29999999999995h-16.2Z\" fill=\"rgb(49, 104, 142)\"></path></g></g><path class=\"foreground\" aria-hidden=\"true\" d=\"\" display=\"none\"></path></g></g><g class=\"mark-group role-legend\" role=\"graphics-symbol\" aria-roledescription=\"legend\" aria-label=\"Symbol legend titled 'Secondary Market' for fill color with 2 values: ats, otc\"><g transform=\"translate(650,0)\"><path class=\"background\" aria-hidden=\"true\" d=\"M0,0h111v40h-111Z\" pointer-events=\"none\"></path><g><g class=\"mark-group role-legend-entry\"><g transform=\"translate(0,16)\"><path class=\"background\" aria-hidden=\"true\" d=\"M0,0h0v0h0Z\" pointer-events=\"none\"></path><g><g class=\"mark-group role-scope\" role=\"graphics-object\" aria-roledescription=\"group mark container\"><g transform=\"translate(0,0)\"><path class=\"background\" aria-hidden=\"true\" d=\"M0,0h32v11h-32Z\" pointer-events=\"none\" opacity=\"1\"></path><g><g class=\"mark-symbol role-legend-symbol\" pointer-events=\"none\"><path transform=\"translate(6,6)\" d=\"M-5,-5h10v10h-10Z\" fill=\"rgb(49, 104, 142)\" stroke-width=\"1.5\" opacity=\"1\"></path></g><g class=\"mark-text role-legend-label\" pointer-events=\"none\"><text text-anchor=\"start\" transform=\"translate(16,9)\" font-family=\"sans-serif\" font-size=\"10px\" fill=\"#000\" opacity=\"1\">ats</text></g></g><path class=\"foreground\" aria-hidden=\"true\" d=\"\" pointer-events=\"none\" display=\"none\"></path></g><g transform=\"translate(0,13)\"><path class=\"background\" aria-hidden=\"true\" d=\"M0,0h32v11h-32Z\" pointer-events=\"none\" opacity=\"1\"></path><g><g class=\"mark-symbol role-legend-symbol\" pointer-events=\"none\"><path transform=\"translate(6,6)\" d=\"M-5,-5h10v10h-10Z\" fill=\"rgb(53, 183, 121)\" stroke-width=\"1.5\" opacity=\"1\"></path></g><g class=\"mark-text role-legend-label\" pointer-events=\"none\"><text text-anchor=\"start\" transform=\"translate(16,9)\" font-family=\"sans-serif\" font-size=\"10px\" fill=\"#000\" opacity=\"1\">otc</text></g></g><path class=\"foreground\" aria-hidden=\"true\" d=\"\" pointer-events=\"none\" display=\"none\"></path></g></g></g><path class=\"foreground\" aria-hidden=\"true\" d=\"\" pointer-events=\"none\" display=\"none\"></path></g></g><g class=\"mark-text role-legend-title\" pointer-events=\"none\"><text text-anchor=\"start\" transform=\"translate(0,9)\" font-family=\"sans-serif\" font-size=\"11px\" font-weight=\"bold\" fill=\"#000\" opacity=\"1\">Secondary Market</text></g></g><path class=\"foreground\" aria-hidden=\"true\" d=\"\" pointer-events=\"none\" display=\"none\"></path></g></g><g class=\"mark-group role-title\"><g transform=\"translate(355.5,-86)\"><path class=\"background\" aria-hidden=\"true\" d=\"M0,0h0v0h0Z\" pointer-events=\"none\"></path><g><g class=\"mark-text role-title-text\" role=\"graphics-symbol\" aria-roledescription=\"title\" aria-label=\"Title text 'Number of Issuers of Non-MTN-Bonds Traded per Covenant Category - 2019Q2'\" pointer-events=\"none\"><text text-anchor=\"middle\" transform=\"translate(0,11)\" font-family=\"sans-serif\" font-size=\"14px\" font-weight=\"bold\" fill=\"#000\" opacity=\"1\">Number of Issuers of Non-MTN-Bonds Traded per Covenant Category - 2019Q2</text></g></g><path class=\"foreground\" aria-hidden=\"true\" d=\"\" pointer-events=\"none\" display=\"none\"></path></g></g></g><path class=\"foreground\" aria-hidden=\"true\" d=\"\" display=\"none\"></path></g></g></g></svg>\n"
      ],
      "text/plain": [
       "@vlplot(\n",
       "    config={\n",
       "        view={\n",
       "            stroke=\"transparent\"\n",
       "        },\n",
       "        axis={\n",
       "            domainWidth=3\n",
       "        },\n",
       "        opacity={\n",
       "            value=0.7\n",
       "        }\n",
       "    },\n",
       "    title={\n",
       "        text=[\n",
       "            \"Number of Issuers of Non-MTN-Bonds Traded per Covenant Category - 2019Q2\"\n",
       "        ],\n",
       "        align=\"center\",\n",
       "        anchor=\"middle\",\n",
       "        fontSize=14,\n",
       "        offset=20\n",
       "    },\n",
       "    spacing=4.5,\n",
       "    width={\n",
       "        step=18\n",
       "    },\n",
       "    height=350,\n",
       "    mark=\"bar\",\n",
       "    encoding={\n",
       "        column={\n",
       "            type=\"ordinal\",\n",
       "            title=\"Covenant Category\",\n",
       "            sort=\"ascending\",\n",
       "            field=\"cov_cat\"\n",
       "        },\n",
       "        y={\n",
       "            axis={\n",
       "                title=\"Number of Issuers\",\n",
       "                grid=false,\n",
       "                stack=nothing\n",
       "            },\n",
       "            field=\"value\"\n",
       "        },\n",
       "        x={\n",
       "            type=\"nominal\",\n",
       "            axis={\n",
       "                title=\" \"\n",
       "            },\n",
       "            field=\"sbm\"\n",
       "        },\n",
       "        color={\n",
       "            legend={\n",
       "                title=\"Secondary Market\"\n",
       "            },\n",
       "            scale={\n",
       "                scheme=\"viridis\"\n",
       "            },\n",
       "            field=\"sbm\",\n",
       "            type=\"nominal\"\n",
       "        }\n",
       "    },\n",
       "    data={\n",
       "        values=...\n",
       "    }\n",
       ")"
      ]
     },
     "execution_count": 10,
     "metadata": {},
     "output_type": "execute_result"
    }
   ],
   "source": [
    "scripts_path = string(main_path, \"/data-scripts/plots\")\n",
    "plt_dir = \"plots\"\n",
    "\n",
    "color_scale=\"viridis\"\n",
    "cal_formula=\"\"\n",
    "cal_var=\"\"\n",
    "col_var=\"cov_cat\"\n",
    "col_var_type=\"ordinal\"\n",
    "col_title=\"Covenant Category\"\n",
    "col_sort=\"ascending\"\n",
    "x_var=\"sbm:n\"\n",
    "x_var_type=\"nominal\"\n",
    "x_axis_title=\" \"\n",
    "width_step=18\n",
    "legend_title=\"Secondary Market\"\n",
    "spacing=4.5\n",
    "height=350\n",
    "save_plt= false\n",
    "plt_type = \"cov_cat\"\n",
    "file_ext=\"png\"\n",
    "# }}}\n",
    "pl = [ ]\n",
    "\n",
    "# Issuers per Covenant Category {{{1\n",
    "stats_var=:issuers\n",
    "tt = PlotMod.prepare_cat_plot(scc; stat=stats_var)\n",
    "\n",
    "## Issuer Count\n",
    "y_var=\"value\"\n",
    "y_axis_title=\"Number of Issuers\"\n",
    "title=[string(\"Number of Issuers of Non-MTN-Bonds Traded per Covenant Category\")]\n",
    "if :period in Symbol.(names(tt))\n",
    "    title[end] = string(title[end], \" - \", tt[1, :period])\n",
    "end\n",
    "\n",
    "include(string(scripts_path, \"/\", \"single_vega_plt_script.jl\"))"
   ]
  },
  {
   "cell_type": "code",
   "execution_count": 24,
   "metadata": {},
   "outputs": [
    {
     "data": {
      "text/html": [
       "<table class=\"data-frame\"><thead><tr><th></th><th>period</th><th>sbm</th><th>rt</th><th>sum_num_cov</th><th>variable</th><th>value</th><th>perc_sbm_total</th><th>perc_sbm_rt_total</th></tr><tr><th></th><th>Symbol</th><th>Symbol</th><th>Symbol</th><th>Int64</th><th>Cat…</th><th>Int64</th><th>Float64</th><th>Float64</th></tr></thead><tbody><p>114 rows × 8 columns</p><tr><th>1</th><td>2019Q2</td><td>any</td><td>any</td><td>0</td><td>trades_by_num_cov</td><td>94837</td><td>3.43503</td><td>3.43503</td></tr><tr><th>2</th><td>2019Q2</td><td>any</td><td>any</td><td>1</td><td>trades_by_num_cov</td><td>2160</td><td>0.078236</td><td>0.078236</td></tr><tr><th>3</th><td>2019Q2</td><td>any</td><td>any</td><td>2</td><td>trades_by_num_cov</td><td>120755</td><td>4.37379</td><td>4.37379</td></tr><tr><th>4</th><td>2019Q2</td><td>any</td><td>any</td><td>3</td><td>trades_by_num_cov</td><td>211699</td><td>7.66781</td><td>7.66781</td></tr><tr><th>5</th><td>2019Q2</td><td>any</td><td>any</td><td>4</td><td>trades_by_num_cov</td><td>191240</td><td>6.92678</td><td>6.92678</td></tr><tr><th>6</th><td>2019Q2</td><td>any</td><td>any</td><td>5</td><td>trades_by_num_cov</td><td>451238</td><td>16.344</td><td>16.344</td></tr><tr><th>7</th><td>2019Q2</td><td>any</td><td>any</td><td>6</td><td>trades_by_num_cov</td><td>475062</td><td>17.2069</td><td>17.2069</td></tr><tr><th>8</th><td>2019Q2</td><td>any</td><td>any</td><td>7</td><td>trades_by_num_cov</td><td>530891</td><td>19.2291</td><td>19.2291</td></tr><tr><th>9</th><td>2019Q2</td><td>any</td><td>any</td><td>8</td><td>trades_by_num_cov</td><td>484147</td><td>17.536</td><td>17.536</td></tr><tr><th>10</th><td>2019Q2</td><td>any</td><td>any</td><td>9</td><td>trades_by_num_cov</td><td>80829</td><td>2.92765</td><td>2.92765</td></tr><tr><th>11</th><td>2019Q2</td><td>any</td><td>any</td><td>10</td><td>trades_by_num_cov</td><td>91574</td><td>3.31684</td><td>3.31684</td></tr><tr><th>12</th><td>2019Q2</td><td>any</td><td>any</td><td>11</td><td>trades_by_num_cov</td><td>22638</td><td>0.819956</td><td>0.819956</td></tr><tr><th>13</th><td>2019Q2</td><td>any</td><td>any</td><td>12</td><td>trades_by_num_cov</td><td>3809</td><td>0.137963</td><td>0.137963</td></tr><tr><th>14</th><td>2019Q2</td><td>ats</td><td>any</td><td>0</td><td>trades_by_num_cov</td><td>20868</td><td>3.41204</td><td>3.41204</td></tr><tr><th>15</th><td>2019Q2</td><td>ats</td><td>any</td><td>1</td><td>trades_by_num_cov</td><td>420</td><td>0.0686724</td><td>0.0686724</td></tr><tr><th>16</th><td>2019Q2</td><td>ats</td><td>any</td><td>2</td><td>trades_by_num_cov</td><td>23035</td><td>3.76636</td><td>3.76636</td></tr><tr><th>17</th><td>2019Q2</td><td>ats</td><td>any</td><td>3</td><td>trades_by_num_cov</td><td>41875</td><td>6.84681</td><td>6.84681</td></tr><tr><th>18</th><td>2019Q2</td><td>ats</td><td>any</td><td>4</td><td>trades_by_num_cov</td><td>39167</td><td>6.40403</td><td>6.40403</td></tr><tr><th>19</th><td>2019Q2</td><td>ats</td><td>any</td><td>5</td><td>trades_by_num_cov</td><td>93443</td><td>15.2785</td><td>15.2785</td></tr><tr><th>20</th><td>2019Q2</td><td>ats</td><td>any</td><td>6</td><td>trades_by_num_cov</td><td>104469</td><td>17.0813</td><td>17.0813</td></tr><tr><th>21</th><td>2019Q2</td><td>ats</td><td>any</td><td>7</td><td>trades_by_num_cov</td><td>124045</td><td>20.2821</td><td>20.2821</td></tr><tr><th>22</th><td>2019Q2</td><td>ats</td><td>any</td><td>8</td><td>trades_by_num_cov</td><td>116635</td><td>19.0705</td><td>19.0705</td></tr><tr><th>23</th><td>2019Q2</td><td>ats</td><td>any</td><td>9</td><td>trades_by_num_cov</td><td>19695</td><td>3.22025</td><td>3.22025</td></tr><tr><th>24</th><td>2019Q2</td><td>ats</td><td>any</td><td>10</td><td>trades_by_num_cov</td><td>21758</td><td>3.55756</td><td>3.55756</td></tr><tr><th>25</th><td>2019Q2</td><td>ats</td><td>any</td><td>11</td><td>trades_by_num_cov</td><td>5549</td><td>0.907294</td><td>0.907294</td></tr><tr><th>26</th><td>2019Q2</td><td>ats</td><td>any</td><td>12</td><td>trades_by_num_cov</td><td>640</td><td>0.104644</td><td>0.104644</td></tr><tr><th>27</th><td>2019Q2</td><td>otc</td><td>any</td><td>0</td><td>trades_by_num_cov</td><td>73969</td><td>3.44157</td><td>3.44157</td></tr><tr><th>28</th><td>2019Q2</td><td>otc</td><td>any</td><td>1</td><td>trades_by_num_cov</td><td>1740</td><td>0.0809573</td><td>0.0809573</td></tr><tr><th>29</th><td>2019Q2</td><td>otc</td><td>any</td><td>2</td><td>trades_by_num_cov</td><td>97720</td><td>4.54664</td><td>4.54664</td></tr><tr><th>30</th><td>2019Q2</td><td>otc</td><td>any</td><td>3</td><td>trades_by_num_cov</td><td>169824</td><td>7.90144</td><td>7.90144</td></tr><tr><th>31</th><td>2019Q2</td><td>otc</td><td>any</td><td>4</td><td>trades_by_num_cov</td><td>152073</td><td>7.07553</td><td>7.07553</td></tr><tr><th>32</th><td>2019Q2</td><td>otc</td><td>any</td><td>5</td><td>trades_by_num_cov</td><td>357795</td><td>16.6472</td><td>16.6472</td></tr><tr><th>33</th><td>2019Q2</td><td>otc</td><td>any</td><td>6</td><td>trades_by_num_cov</td><td>370593</td><td>17.2427</td><td>17.2427</td></tr><tr><th>34</th><td>2019Q2</td><td>otc</td><td>any</td><td>7</td><td>trades_by_num_cov</td><td>406846</td><td>18.9294</td><td>18.9294</td></tr><tr><th>35</th><td>2019Q2</td><td>otc</td><td>any</td><td>8</td><td>trades_by_num_cov</td><td>367512</td><td>17.0993</td><td>17.0993</td></tr><tr><th>36</th><td>2019Q2</td><td>otc</td><td>any</td><td>9</td><td>trades_by_num_cov</td><td>61134</td><td>2.84439</td><td>2.84439</td></tr><tr><th>37</th><td>2019Q2</td><td>otc</td><td>any</td><td>10</td><td>trades_by_num_cov</td><td>69816</td><td>3.24834</td><td>3.24834</td></tr><tr><th>38</th><td>2019Q2</td><td>otc</td><td>any</td><td>11</td><td>trades_by_num_cov</td><td>17089</td><td>0.795103</td><td>0.795103</td></tr><tr><th>39</th><td>2019Q2</td><td>otc</td><td>any</td><td>12</td><td>trades_by_num_cov</td><td>3169</td><td>0.147445</td><td>0.147445</td></tr><tr><th>40</th><td>2019Q2</td><td>any</td><td>ig</td><td>0</td><td>trades_by_num_cov</td><td>89068</td><td>3.22607</td><td>4.4603</td></tr><tr><th>41</th><td>2019Q2</td><td>any</td><td>ig</td><td>1</td><td>trades_by_num_cov</td><td>1752</td><td>0.0634581</td><td>0.0877357</td></tr><tr><th>42</th><td>2019Q2</td><td>any</td><td>ig</td><td>2</td><td>trades_by_num_cov</td><td>104184</td><td>3.77358</td><td>5.21727</td></tr><tr><th>43</th><td>2019Q2</td><td>any</td><td>ig</td><td>3</td><td>trades_by_num_cov</td><td>183293</td><td>6.63894</td><td>9.17885</td></tr><tr><th>44</th><td>2019Q2</td><td>any</td><td>ig</td><td>4</td><td>trades_by_num_cov</td><td>160546</td><td>5.81503</td><td>8.03974</td></tr><tr><th>45</th><td>2019Q2</td><td>any</td><td>ig</td><td>5</td><td>trades_by_num_cov</td><td>374138</td><td>13.5514</td><td>18.7359</td></tr><tr><th>46</th><td>2019Q2</td><td>any</td><td>ig</td><td>6</td><td>trades_by_num_cov</td><td>367406</td><td>13.3076</td><td>18.3988</td></tr><tr><th>47</th><td>2019Q2</td><td>any</td><td>ig</td><td>7</td><td>trades_by_num_cov</td><td>367908</td><td>13.3258</td><td>18.4239</td></tr><tr><th>48</th><td>2019Q2</td><td>any</td><td>ig</td><td>8</td><td>trades_by_num_cov</td><td>319775</td><td>11.5824</td><td>16.0135</td></tr><tr><th>49</th><td>2019Q2</td><td>any</td><td>ig</td><td>9</td><td>trades_by_num_cov</td><td>23950</td><td>0.867477</td><td>1.19936</td></tr><tr><th>50</th><td>2019Q2</td><td>any</td><td>ig</td><td>10</td><td>trades_by_num_cov</td><td>4408</td><td>0.159659</td><td>0.220741</td></tr><tr><th>51</th><td>2019Q2</td><td>any</td><td>ig</td><td>11</td><td>trades_by_num_cov</td><td>478</td><td>0.0173133</td><td>0.023937</td></tr><tr><th>52</th><td>2019Q2</td><td>ats</td><td>ig</td><td>0</td><td>trades_by_num_cov</td><td>19840</td><td>3.24396</td><td>4.56384</td></tr><tr><th>53</th><td>2019Q2</td><td>ats</td><td>ig</td><td>1</td><td>trades_by_num_cov</td><td>361</td><td>0.0590256</td><td>0.0830416</td></tr><tr><th>54</th><td>2019Q2</td><td>ats</td><td>ig</td><td>2</td><td>trades_by_num_cov</td><td>19990</td><td>3.26848</td><td>4.59834</td></tr><tr><th>55</th><td>2019Q2</td><td>ats</td><td>ig</td><td>3</td><td>trades_by_num_cov</td><td>38189</td><td>6.24412</td><td>8.78469</td></tr><tr><th>56</th><td>2019Q2</td><td>ats</td><td>ig</td><td>4</td><td>trades_by_num_cov</td><td>33591</td><td>5.49232</td><td>7.72701</td></tr><tr><th>57</th><td>2019Q2</td><td>ats</td><td>ig</td><td>5</td><td>trades_by_num_cov</td><td>78410</td><td>12.8205</td><td>18.0368</td></tr><tr><th>58</th><td>2019Q2</td><td>ats</td><td>ig</td><td>6</td><td>trades_by_num_cov</td><td>81726</td><td>13.3627</td><td>18.7996</td></tr><tr><th>59</th><td>2019Q2</td><td>ats</td><td>ig</td><td>7</td><td>trades_by_num_cov</td><td>81057</td><td>13.2533</td><td>18.6457</td></tr><tr><th>60</th><td>2019Q2</td><td>ats</td><td>ig</td><td>8</td><td>trades_by_num_cov</td><td>74979</td><td>12.2595</td><td>17.2476</td></tr><tr><th>61</th><td>2019Q2</td><td>ats</td><td>ig</td><td>9</td><td>trades_by_num_cov</td><td>5472</td><td>0.894704</td><td>1.25874</td></tr><tr><th>62</th><td>2019Q2</td><td>ats</td><td>ig</td><td>10</td><td>trades_by_num_cov</td><td>1009</td><td>0.164977</td><td>0.232102</td></tr><tr><th>63</th><td>2019Q2</td><td>ats</td><td>ig</td><td>11</td><td>trades_by_num_cov</td><td>98</td><td>0.0160236</td><td>0.0225431</td></tr><tr><th>64</th><td>2019Q2</td><td>otc</td><td>ig</td><td>0</td><td>trades_by_num_cov</td><td>69228</td><td>3.22099</td><td>4.43149</td></tr><tr><th>65</th><td>2019Q2</td><td>otc</td><td>ig</td><td>1</td><td>trades_by_num_cov</td><td>1391</td><td>0.0647193</td><td>0.089042</td></tr><tr><th>66</th><td>2019Q2</td><td>otc</td><td>ig</td><td>2</td><td>trades_by_num_cov</td><td>84194</td><td>3.91731</td><td>5.38951</td></tr><tr><th>67</th><td>2019Q2</td><td>otc</td><td>ig</td><td>3</td><td>trades_by_num_cov</td><td>145104</td><td>6.75128</td><td>9.28853</td></tr><tr><th>68</th><td>2019Q2</td><td>otc</td><td>ig</td><td>4</td><td>trades_by_num_cov</td><td>126955</td><td>5.90686</td><td>8.12676</td></tr><tr><th>69</th><td>2019Q2</td><td>otc</td><td>ig</td><td>5</td><td>trades_by_num_cov</td><td>295728</td><td>13.7594</td><td>18.9304</td></tr><tr><th>70</th><td>2019Q2</td><td>otc</td><td>ig</td><td>6</td><td>trades_by_num_cov</td><td>285680</td><td>13.2919</td><td>18.2872</td></tr><tr><th>71</th><td>2019Q2</td><td>otc</td><td>ig</td><td>7</td><td>trades_by_num_cov</td><td>286851</td><td>13.3464</td><td>18.3622</td></tr><tr><th>72</th><td>2019Q2</td><td>otc</td><td>ig</td><td>8</td><td>trades_by_num_cov</td><td>244796</td><td>11.3897</td><td>15.6701</td></tr><tr><th>73</th><td>2019Q2</td><td>otc</td><td>ig</td><td>9</td><td>trades_by_num_cov</td><td>18478</td><td>0.85973</td><td>1.18283</td></tr><tr><th>74</th><td>2019Q2</td><td>otc</td><td>ig</td><td>10</td><td>trades_by_num_cov</td><td>3399</td><td>0.158146</td><td>0.21758</td></tr><tr><th>75</th><td>2019Q2</td><td>otc</td><td>ig</td><td>11</td><td>trades_by_num_cov</td><td>380</td><td>0.0176803</td><td>0.0243249</td></tr><tr><th>76</th><td>2019Q2</td><td>any</td><td>hy</td><td>0</td><td>trades_by_num_cov</td><td>5769</td><td>0.208955</td><td>0.755131</td></tr><tr><th>77</th><td>2019Q2</td><td>any</td><td>hy</td><td>1</td><td>trades_by_num_cov</td><td>408</td><td>0.0147779</td><td>0.053405</td></tr><tr><th>78</th><td>2019Q2</td><td>any</td><td>hy</td><td>2</td><td>trades_by_num_cov</td><td>16571</td><td>0.600207</td><td>2.16906</td></tr><tr><th>79</th><td>2019Q2</td><td>any</td><td>hy</td><td>3</td><td>trades_by_num_cov</td><td>28406</td><td>1.02888</td><td>3.71819</td></tr><tr><th>80</th><td>2019Q2</td><td>any</td><td>hy</td><td>4</td><td>trades_by_num_cov</td><td>30694</td><td>1.11175</td><td>4.01768</td></tr><tr><th>81</th><td>2019Q2</td><td>any</td><td>hy</td><td>5</td><td>trades_by_num_cov</td><td>77100</td><td>2.79259</td><td>10.092</td></tr><tr><th>82</th><td>2019Q2</td><td>any</td><td>hy</td><td>6</td><td>trades_by_num_cov</td><td>107656</td><td>3.89934</td><td>14.0916</td></tr><tr><th>83</th><td>2019Q2</td><td>any</td><td>hy</td><td>7</td><td>trades_by_num_cov</td><td>162983</td><td>5.9033</td><td>21.3336</td></tr><tr><th>84</th><td>2019Q2</td><td>any</td><td>hy</td><td>8</td><td>trades_by_num_cov</td><td>164372</td><td>5.95361</td><td>21.5154</td></tr><tr><th>85</th><td>2019Q2</td><td>any</td><td>hy</td><td>9</td><td>trades_by_num_cov</td><td>56879</td><td>2.06018</td><td>7.44516</td></tr><tr><th>86</th><td>2019Q2</td><td>any</td><td>hy</td><td>10</td><td>trades_by_num_cov</td><td>87166</td><td>3.15718</td><td>11.4096</td></tr><tr><th>87</th><td>2019Q2</td><td>any</td><td>hy</td><td>11</td><td>trades_by_num_cov</td><td>22160</td><td>0.802643</td><td>2.90063</td></tr><tr><th>88</th><td>2019Q2</td><td>any</td><td>hy</td><td>12</td><td>trades_by_num_cov</td><td>3809</td><td>0.137963</td><td>0.498578</td></tr><tr><th>89</th><td>2019Q2</td><td>ats</td><td>hy</td><td>0</td><td>trades_by_num_cov</td><td>1028</td><td>0.168084</td><td>0.581195</td></tr><tr><th>90</th><td>2019Q2</td><td>ats</td><td>hy</td><td>1</td><td>trades_by_num_cov</td><td>59</td><td>0.00964684</td><td>0.0333565</td></tr><tr><th>91</th><td>2019Q2</td><td>ats</td><td>hy</td><td>2</td><td>trades_by_num_cov</td><td>3045</td><td>0.497875</td><td>1.72154</td></tr><tr><th>92</th><td>2019Q2</td><td>ats</td><td>hy</td><td>3</td><td>trades_by_num_cov</td><td>3686</td><td>0.602682</td><td>2.08393</td></tr><tr><th>93</th><td>2019Q2</td><td>ats</td><td>hy</td><td>4</td><td>trades_by_num_cov</td><td>5576</td><td>0.911708</td><td>3.15247</td></tr><tr><th>94</th><td>2019Q2</td><td>ats</td><td>hy</td><td>5</td><td>trades_by_num_cov</td><td>15033</td><td>2.45798</td><td>8.49913</td></tr><tr><th>95</th><td>2019Q2</td><td>ats</td><td>hy</td><td>6</td><td>trades_by_num_cov</td><td>22743</td><td>3.71861</td><td>12.8581</td></tr><tr><th>96</th><td>2019Q2</td><td>ats</td><td>hy</td><td>7</td><td>trades_by_num_cov</td><td>42988</td><td>7.02879</td><td>24.3039</td></tr><tr><th>97</th><td>2019Q2</td><td>ats</td><td>hy</td><td>8</td><td>trades_by_num_cov</td><td>41656</td><td>6.811</td><td>23.5508</td></tr><tr><th>98</th><td>2019Q2</td><td>ats</td><td>hy</td><td>9</td><td>trades_by_num_cov</td><td>14223</td><td>2.32554</td><td>8.04118</td></tr><tr><th>99</th><td>2019Q2</td><td>ats</td><td>hy</td><td>10</td><td>trades_by_num_cov</td><td>20749</td><td>3.39258</td><td>11.7308</td></tr><tr><th>100</th><td>2019Q2</td><td>ats</td><td>hy</td><td>11</td><td>trades_by_num_cov</td><td>5451</td><td>0.89127</td><td>3.0818</td></tr><tr><th>&vellip;</th><td>&vellip;</td><td>&vellip;</td><td>&vellip;</td><td>&vellip;</td><td>&vellip;</td><td>&vellip;</td><td>&vellip;</td><td>&vellip;</td></tr></tbody></table>"
      ],
      "text/latex": [
       "\\begin{tabular}{r|cccccccc}\n",
       "\t& period & sbm & rt & sum\\_num\\_cov & variable & value & perc\\_sbm\\_total & perc\\_sbm\\_rt\\_total\\\\\n",
       "\t\\hline\n",
       "\t& Symbol & Symbol & Symbol & Int64 & Cat… & Int64 & Float64 & Float64\\\\\n",
       "\t\\hline\n",
       "\t1 & 2019Q2 & any & any & 0 & trades\\_by\\_num\\_cov & 94837 & 3.43503 & 3.43503 \\\\\n",
       "\t2 & 2019Q2 & any & any & 1 & trades\\_by\\_num\\_cov & 2160 & 0.078236 & 0.078236 \\\\\n",
       "\t3 & 2019Q2 & any & any & 2 & trades\\_by\\_num\\_cov & 120755 & 4.37379 & 4.37379 \\\\\n",
       "\t4 & 2019Q2 & any & any & 3 & trades\\_by\\_num\\_cov & 211699 & 7.66781 & 7.66781 \\\\\n",
       "\t5 & 2019Q2 & any & any & 4 & trades\\_by\\_num\\_cov & 191240 & 6.92678 & 6.92678 \\\\\n",
       "\t6 & 2019Q2 & any & any & 5 & trades\\_by\\_num\\_cov & 451238 & 16.344 & 16.344 \\\\\n",
       "\t7 & 2019Q2 & any & any & 6 & trades\\_by\\_num\\_cov & 475062 & 17.2069 & 17.2069 \\\\\n",
       "\t8 & 2019Q2 & any & any & 7 & trades\\_by\\_num\\_cov & 530891 & 19.2291 & 19.2291 \\\\\n",
       "\t9 & 2019Q2 & any & any & 8 & trades\\_by\\_num\\_cov & 484147 & 17.536 & 17.536 \\\\\n",
       "\t10 & 2019Q2 & any & any & 9 & trades\\_by\\_num\\_cov & 80829 & 2.92765 & 2.92765 \\\\\n",
       "\t11 & 2019Q2 & any & any & 10 & trades\\_by\\_num\\_cov & 91574 & 3.31684 & 3.31684 \\\\\n",
       "\t12 & 2019Q2 & any & any & 11 & trades\\_by\\_num\\_cov & 22638 & 0.819956 & 0.819956 \\\\\n",
       "\t13 & 2019Q2 & any & any & 12 & trades\\_by\\_num\\_cov & 3809 & 0.137963 & 0.137963 \\\\\n",
       "\t14 & 2019Q2 & ats & any & 0 & trades\\_by\\_num\\_cov & 20868 & 3.41204 & 3.41204 \\\\\n",
       "\t15 & 2019Q2 & ats & any & 1 & trades\\_by\\_num\\_cov & 420 & 0.0686724 & 0.0686724 \\\\\n",
       "\t16 & 2019Q2 & ats & any & 2 & trades\\_by\\_num\\_cov & 23035 & 3.76636 & 3.76636 \\\\\n",
       "\t17 & 2019Q2 & ats & any & 3 & trades\\_by\\_num\\_cov & 41875 & 6.84681 & 6.84681 \\\\\n",
       "\t18 & 2019Q2 & ats & any & 4 & trades\\_by\\_num\\_cov & 39167 & 6.40403 & 6.40403 \\\\\n",
       "\t19 & 2019Q2 & ats & any & 5 & trades\\_by\\_num\\_cov & 93443 & 15.2785 & 15.2785 \\\\\n",
       "\t20 & 2019Q2 & ats & any & 6 & trades\\_by\\_num\\_cov & 104469 & 17.0813 & 17.0813 \\\\\n",
       "\t21 & 2019Q2 & ats & any & 7 & trades\\_by\\_num\\_cov & 124045 & 20.2821 & 20.2821 \\\\\n",
       "\t22 & 2019Q2 & ats & any & 8 & trades\\_by\\_num\\_cov & 116635 & 19.0705 & 19.0705 \\\\\n",
       "\t23 & 2019Q2 & ats & any & 9 & trades\\_by\\_num\\_cov & 19695 & 3.22025 & 3.22025 \\\\\n",
       "\t24 & 2019Q2 & ats & any & 10 & trades\\_by\\_num\\_cov & 21758 & 3.55756 & 3.55756 \\\\\n",
       "\t25 & 2019Q2 & ats & any & 11 & trades\\_by\\_num\\_cov & 5549 & 0.907294 & 0.907294 \\\\\n",
       "\t26 & 2019Q2 & ats & any & 12 & trades\\_by\\_num\\_cov & 640 & 0.104644 & 0.104644 \\\\\n",
       "\t27 & 2019Q2 & otc & any & 0 & trades\\_by\\_num\\_cov & 73969 & 3.44157 & 3.44157 \\\\\n",
       "\t28 & 2019Q2 & otc & any & 1 & trades\\_by\\_num\\_cov & 1740 & 0.0809573 & 0.0809573 \\\\\n",
       "\t29 & 2019Q2 & otc & any & 2 & trades\\_by\\_num\\_cov & 97720 & 4.54664 & 4.54664 \\\\\n",
       "\t30 & 2019Q2 & otc & any & 3 & trades\\_by\\_num\\_cov & 169824 & 7.90144 & 7.90144 \\\\\n",
       "\t31 & 2019Q2 & otc & any & 4 & trades\\_by\\_num\\_cov & 152073 & 7.07553 & 7.07553 \\\\\n",
       "\t32 & 2019Q2 & otc & any & 5 & trades\\_by\\_num\\_cov & 357795 & 16.6472 & 16.6472 \\\\\n",
       "\t33 & 2019Q2 & otc & any & 6 & trades\\_by\\_num\\_cov & 370593 & 17.2427 & 17.2427 \\\\\n",
       "\t34 & 2019Q2 & otc & any & 7 & trades\\_by\\_num\\_cov & 406846 & 18.9294 & 18.9294 \\\\\n",
       "\t35 & 2019Q2 & otc & any & 8 & trades\\_by\\_num\\_cov & 367512 & 17.0993 & 17.0993 \\\\\n",
       "\t36 & 2019Q2 & otc & any & 9 & trades\\_by\\_num\\_cov & 61134 & 2.84439 & 2.84439 \\\\\n",
       "\t37 & 2019Q2 & otc & any & 10 & trades\\_by\\_num\\_cov & 69816 & 3.24834 & 3.24834 \\\\\n",
       "\t38 & 2019Q2 & otc & any & 11 & trades\\_by\\_num\\_cov & 17089 & 0.795103 & 0.795103 \\\\\n",
       "\t39 & 2019Q2 & otc & any & 12 & trades\\_by\\_num\\_cov & 3169 & 0.147445 & 0.147445 \\\\\n",
       "\t40 & 2019Q2 & any & ig & 0 & trades\\_by\\_num\\_cov & 89068 & 3.22607 & 4.4603 \\\\\n",
       "\t41 & 2019Q2 & any & ig & 1 & trades\\_by\\_num\\_cov & 1752 & 0.0634581 & 0.0877357 \\\\\n",
       "\t42 & 2019Q2 & any & ig & 2 & trades\\_by\\_num\\_cov & 104184 & 3.77358 & 5.21727 \\\\\n",
       "\t43 & 2019Q2 & any & ig & 3 & trades\\_by\\_num\\_cov & 183293 & 6.63894 & 9.17885 \\\\\n",
       "\t44 & 2019Q2 & any & ig & 4 & trades\\_by\\_num\\_cov & 160546 & 5.81503 & 8.03974 \\\\\n",
       "\t45 & 2019Q2 & any & ig & 5 & trades\\_by\\_num\\_cov & 374138 & 13.5514 & 18.7359 \\\\\n",
       "\t46 & 2019Q2 & any & ig & 6 & trades\\_by\\_num\\_cov & 367406 & 13.3076 & 18.3988 \\\\\n",
       "\t47 & 2019Q2 & any & ig & 7 & trades\\_by\\_num\\_cov & 367908 & 13.3258 & 18.4239 \\\\\n",
       "\t48 & 2019Q2 & any & ig & 8 & trades\\_by\\_num\\_cov & 319775 & 11.5824 & 16.0135 \\\\\n",
       "\t49 & 2019Q2 & any & ig & 9 & trades\\_by\\_num\\_cov & 23950 & 0.867477 & 1.19936 \\\\\n",
       "\t50 & 2019Q2 & any & ig & 10 & trades\\_by\\_num\\_cov & 4408 & 0.159659 & 0.220741 \\\\\n",
       "\t51 & 2019Q2 & any & ig & 11 & trades\\_by\\_num\\_cov & 478 & 0.0173133 & 0.023937 \\\\\n",
       "\t52 & 2019Q2 & ats & ig & 0 & trades\\_by\\_num\\_cov & 19840 & 3.24396 & 4.56384 \\\\\n",
       "\t53 & 2019Q2 & ats & ig & 1 & trades\\_by\\_num\\_cov & 361 & 0.0590256 & 0.0830416 \\\\\n",
       "\t54 & 2019Q2 & ats & ig & 2 & trades\\_by\\_num\\_cov & 19990 & 3.26848 & 4.59834 \\\\\n",
       "\t55 & 2019Q2 & ats & ig & 3 & trades\\_by\\_num\\_cov & 38189 & 6.24412 & 8.78469 \\\\\n",
       "\t56 & 2019Q2 & ats & ig & 4 & trades\\_by\\_num\\_cov & 33591 & 5.49232 & 7.72701 \\\\\n",
       "\t57 & 2019Q2 & ats & ig & 5 & trades\\_by\\_num\\_cov & 78410 & 12.8205 & 18.0368 \\\\\n",
       "\t58 & 2019Q2 & ats & ig & 6 & trades\\_by\\_num\\_cov & 81726 & 13.3627 & 18.7996 \\\\\n",
       "\t59 & 2019Q2 & ats & ig & 7 & trades\\_by\\_num\\_cov & 81057 & 13.2533 & 18.6457 \\\\\n",
       "\t60 & 2019Q2 & ats & ig & 8 & trades\\_by\\_num\\_cov & 74979 & 12.2595 & 17.2476 \\\\\n",
       "\t61 & 2019Q2 & ats & ig & 9 & trades\\_by\\_num\\_cov & 5472 & 0.894704 & 1.25874 \\\\\n",
       "\t62 & 2019Q2 & ats & ig & 10 & trades\\_by\\_num\\_cov & 1009 & 0.164977 & 0.232102 \\\\\n",
       "\t63 & 2019Q2 & ats & ig & 11 & trades\\_by\\_num\\_cov & 98 & 0.0160236 & 0.0225431 \\\\\n",
       "\t64 & 2019Q2 & otc & ig & 0 & trades\\_by\\_num\\_cov & 69228 & 3.22099 & 4.43149 \\\\\n",
       "\t65 & 2019Q2 & otc & ig & 1 & trades\\_by\\_num\\_cov & 1391 & 0.0647193 & 0.089042 \\\\\n",
       "\t66 & 2019Q2 & otc & ig & 2 & trades\\_by\\_num\\_cov & 84194 & 3.91731 & 5.38951 \\\\\n",
       "\t67 & 2019Q2 & otc & ig & 3 & trades\\_by\\_num\\_cov & 145104 & 6.75128 & 9.28853 \\\\\n",
       "\t68 & 2019Q2 & otc & ig & 4 & trades\\_by\\_num\\_cov & 126955 & 5.90686 & 8.12676 \\\\\n",
       "\t69 & 2019Q2 & otc & ig & 5 & trades\\_by\\_num\\_cov & 295728 & 13.7594 & 18.9304 \\\\\n",
       "\t70 & 2019Q2 & otc & ig & 6 & trades\\_by\\_num\\_cov & 285680 & 13.2919 & 18.2872 \\\\\n",
       "\t71 & 2019Q2 & otc & ig & 7 & trades\\_by\\_num\\_cov & 286851 & 13.3464 & 18.3622 \\\\\n",
       "\t72 & 2019Q2 & otc & ig & 8 & trades\\_by\\_num\\_cov & 244796 & 11.3897 & 15.6701 \\\\\n",
       "\t73 & 2019Q2 & otc & ig & 9 & trades\\_by\\_num\\_cov & 18478 & 0.85973 & 1.18283 \\\\\n",
       "\t74 & 2019Q2 & otc & ig & 10 & trades\\_by\\_num\\_cov & 3399 & 0.158146 & 0.21758 \\\\\n",
       "\t75 & 2019Q2 & otc & ig & 11 & trades\\_by\\_num\\_cov & 380 & 0.0176803 & 0.0243249 \\\\\n",
       "\t76 & 2019Q2 & any & hy & 0 & trades\\_by\\_num\\_cov & 5769 & 0.208955 & 0.755131 \\\\\n",
       "\t77 & 2019Q2 & any & hy & 1 & trades\\_by\\_num\\_cov & 408 & 0.0147779 & 0.053405 \\\\\n",
       "\t78 & 2019Q2 & any & hy & 2 & trades\\_by\\_num\\_cov & 16571 & 0.600207 & 2.16906 \\\\\n",
       "\t79 & 2019Q2 & any & hy & 3 & trades\\_by\\_num\\_cov & 28406 & 1.02888 & 3.71819 \\\\\n",
       "\t80 & 2019Q2 & any & hy & 4 & trades\\_by\\_num\\_cov & 30694 & 1.11175 & 4.01768 \\\\\n",
       "\t81 & 2019Q2 & any & hy & 5 & trades\\_by\\_num\\_cov & 77100 & 2.79259 & 10.092 \\\\\n",
       "\t82 & 2019Q2 & any & hy & 6 & trades\\_by\\_num\\_cov & 107656 & 3.89934 & 14.0916 \\\\\n",
       "\t83 & 2019Q2 & any & hy & 7 & trades\\_by\\_num\\_cov & 162983 & 5.9033 & 21.3336 \\\\\n",
       "\t84 & 2019Q2 & any & hy & 8 & trades\\_by\\_num\\_cov & 164372 & 5.95361 & 21.5154 \\\\\n",
       "\t85 & 2019Q2 & any & hy & 9 & trades\\_by\\_num\\_cov & 56879 & 2.06018 & 7.44516 \\\\\n",
       "\t86 & 2019Q2 & any & hy & 10 & trades\\_by\\_num\\_cov & 87166 & 3.15718 & 11.4096 \\\\\n",
       "\t87 & 2019Q2 & any & hy & 11 & trades\\_by\\_num\\_cov & 22160 & 0.802643 & 2.90063 \\\\\n",
       "\t88 & 2019Q2 & any & hy & 12 & trades\\_by\\_num\\_cov & 3809 & 0.137963 & 0.498578 \\\\\n",
       "\t89 & 2019Q2 & ats & hy & 0 & trades\\_by\\_num\\_cov & 1028 & 0.168084 & 0.581195 \\\\\n",
       "\t90 & 2019Q2 & ats & hy & 1 & trades\\_by\\_num\\_cov & 59 & 0.00964684 & 0.0333565 \\\\\n",
       "\t91 & 2019Q2 & ats & hy & 2 & trades\\_by\\_num\\_cov & 3045 & 0.497875 & 1.72154 \\\\\n",
       "\t92 & 2019Q2 & ats & hy & 3 & trades\\_by\\_num\\_cov & 3686 & 0.602682 & 2.08393 \\\\\n",
       "\t93 & 2019Q2 & ats & hy & 4 & trades\\_by\\_num\\_cov & 5576 & 0.911708 & 3.15247 \\\\\n",
       "\t94 & 2019Q2 & ats & hy & 5 & trades\\_by\\_num\\_cov & 15033 & 2.45798 & 8.49913 \\\\\n",
       "\t95 & 2019Q2 & ats & hy & 6 & trades\\_by\\_num\\_cov & 22743 & 3.71861 & 12.8581 \\\\\n",
       "\t96 & 2019Q2 & ats & hy & 7 & trades\\_by\\_num\\_cov & 42988 & 7.02879 & 24.3039 \\\\\n",
       "\t97 & 2019Q2 & ats & hy & 8 & trades\\_by\\_num\\_cov & 41656 & 6.811 & 23.5508 \\\\\n",
       "\t98 & 2019Q2 & ats & hy & 9 & trades\\_by\\_num\\_cov & 14223 & 2.32554 & 8.04118 \\\\\n",
       "\t99 & 2019Q2 & ats & hy & 10 & trades\\_by\\_num\\_cov & 20749 & 3.39258 & 11.7308 \\\\\n",
       "\t100 & 2019Q2 & ats & hy & 11 & trades\\_by\\_num\\_cov & 5451 & 0.89127 & 3.0818 \\\\\n",
       "\t$\\dots$ & $\\dots$ & $\\dots$ & $\\dots$ & $\\dots$ & $\\dots$ & $\\dots$ & $\\dots$ & $\\dots$ \\\\\n",
       "\\end{tabular}\n"
      ],
      "text/plain": [
       "114×8 DataFrame\n",
       "│ Row │ period │ sbm    │ rt     │ sum_num_cov │ variable          │ value  │ perc_sbm_total │ perc_sbm_rt_total │\n",
       "│     │ \u001b[90mSymbol\u001b[39m │ \u001b[90mSymbol\u001b[39m │ \u001b[90mSymbol\u001b[39m │ \u001b[90mInt64\u001b[39m       │ \u001b[90mCategoricalValue…\u001b[39m │ \u001b[90mInt64\u001b[39m  │ \u001b[90mFloat64\u001b[39m        │ \u001b[90mFloat64\u001b[39m           │\n",
       "├─────┼────────┼────────┼────────┼─────────────┼───────────────────┼────────┼────────────────┼───────────────────┤\n",
       "│ 1   │ 2019Q2 │ any    │ any    │ 0           │ trades_by_num_cov │ 94837  │ 3.43503        │ 3.43503           │\n",
       "│ 2   │ 2019Q2 │ any    │ any    │ 1           │ trades_by_num_cov │ 2160   │ 0.078236       │ 0.078236          │\n",
       "│ 3   │ 2019Q2 │ any    │ any    │ 2           │ trades_by_num_cov │ 120755 │ 4.37379        │ 4.37379           │\n",
       "│ 4   │ 2019Q2 │ any    │ any    │ 3           │ trades_by_num_cov │ 211699 │ 7.66781        │ 7.66781           │\n",
       "│ 5   │ 2019Q2 │ any    │ any    │ 4           │ trades_by_num_cov │ 191240 │ 6.92678        │ 6.92678           │\n",
       "│ 6   │ 2019Q2 │ any    │ any    │ 5           │ trades_by_num_cov │ 451238 │ 16.344         │ 16.344            │\n",
       "│ 7   │ 2019Q2 │ any    │ any    │ 6           │ trades_by_num_cov │ 475062 │ 17.2069        │ 17.2069           │\n",
       "│ 8   │ 2019Q2 │ any    │ any    │ 7           │ trades_by_num_cov │ 530891 │ 19.2291        │ 19.2291           │\n",
       "│ 9   │ 2019Q2 │ any    │ any    │ 8           │ trades_by_num_cov │ 484147 │ 17.536         │ 17.536            │\n",
       "│ 10  │ 2019Q2 │ any    │ any    │ 9           │ trades_by_num_cov │ 80829  │ 2.92765        │ 2.92765           │\n",
       "│ 11  │ 2019Q2 │ any    │ any    │ 10          │ trades_by_num_cov │ 91574  │ 3.31684        │ 3.31684           │\n",
       "│ 12  │ 2019Q2 │ any    │ any    │ 11          │ trades_by_num_cov │ 22638  │ 0.819956       │ 0.819956          │\n",
       "│ 13  │ 2019Q2 │ any    │ any    │ 12          │ trades_by_num_cov │ 3809   │ 0.137963       │ 0.137963          │\n",
       "│ 14  │ 2019Q2 │ ats    │ any    │ 0           │ trades_by_num_cov │ 20868  │ 3.41204        │ 3.41204           │\n",
       "│ 15  │ 2019Q2 │ ats    │ any    │ 1           │ trades_by_num_cov │ 420    │ 0.0686724      │ 0.0686724         │\n",
       "│ 16  │ 2019Q2 │ ats    │ any    │ 2           │ trades_by_num_cov │ 23035  │ 3.76636        │ 3.76636           │\n",
       "│ 17  │ 2019Q2 │ ats    │ any    │ 3           │ trades_by_num_cov │ 41875  │ 6.84681        │ 6.84681           │\n",
       "│ 18  │ 2019Q2 │ ats    │ any    │ 4           │ trades_by_num_cov │ 39167  │ 6.40403        │ 6.40403           │\n",
       "│ 19  │ 2019Q2 │ ats    │ any    │ 5           │ trades_by_num_cov │ 93443  │ 15.2785        │ 15.2785           │\n",
       "│ 20  │ 2019Q2 │ ats    │ any    │ 6           │ trades_by_num_cov │ 104469 │ 17.0813        │ 17.0813           │\n",
       "│ 21  │ 2019Q2 │ ats    │ any    │ 7           │ trades_by_num_cov │ 124045 │ 20.2821        │ 20.2821           │\n",
       "│ 22  │ 2019Q2 │ ats    │ any    │ 8           │ trades_by_num_cov │ 116635 │ 19.0705        │ 19.0705           │\n",
       "│ 23  │ 2019Q2 │ ats    │ any    │ 9           │ trades_by_num_cov │ 19695  │ 3.22025        │ 3.22025           │\n",
       "│ 24  │ 2019Q2 │ ats    │ any    │ 10          │ trades_by_num_cov │ 21758  │ 3.55756        │ 3.55756           │\n",
       "│ 25  │ 2019Q2 │ ats    │ any    │ 11          │ trades_by_num_cov │ 5549   │ 0.907294       │ 0.907294          │\n",
       "│ 26  │ 2019Q2 │ ats    │ any    │ 12          │ trades_by_num_cov │ 640    │ 0.104644       │ 0.104644          │\n",
       "│ 27  │ 2019Q2 │ otc    │ any    │ 0           │ trades_by_num_cov │ 73969  │ 3.44157        │ 3.44157           │\n",
       "│ 28  │ 2019Q2 │ otc    │ any    │ 1           │ trades_by_num_cov │ 1740   │ 0.0809573      │ 0.0809573         │\n",
       "│ 29  │ 2019Q2 │ otc    │ any    │ 2           │ trades_by_num_cov │ 97720  │ 4.54664        │ 4.54664           │\n",
       "│ 30  │ 2019Q2 │ otc    │ any    │ 3           │ trades_by_num_cov │ 169824 │ 7.90144        │ 7.90144           │\n",
       "│ 31  │ 2019Q2 │ otc    │ any    │ 4           │ trades_by_num_cov │ 152073 │ 7.07553        │ 7.07553           │\n",
       "│ 32  │ 2019Q2 │ otc    │ any    │ 5           │ trades_by_num_cov │ 357795 │ 16.6472        │ 16.6472           │\n",
       "│ 33  │ 2019Q2 │ otc    │ any    │ 6           │ trades_by_num_cov │ 370593 │ 17.2427        │ 17.2427           │\n",
       "│ 34  │ 2019Q2 │ otc    │ any    │ 7           │ trades_by_num_cov │ 406846 │ 18.9294        │ 18.9294           │\n",
       "│ 35  │ 2019Q2 │ otc    │ any    │ 8           │ trades_by_num_cov │ 367512 │ 17.0993        │ 17.0993           │\n",
       "│ 36  │ 2019Q2 │ otc    │ any    │ 9           │ trades_by_num_cov │ 61134  │ 2.84439        │ 2.84439           │\n",
       "│ 37  │ 2019Q2 │ otc    │ any    │ 10          │ trades_by_num_cov │ 69816  │ 3.24834        │ 3.24834           │\n",
       "│ 38  │ 2019Q2 │ otc    │ any    │ 11          │ trades_by_num_cov │ 17089  │ 0.795103       │ 0.795103          │\n",
       "│ 39  │ 2019Q2 │ otc    │ any    │ 12          │ trades_by_num_cov │ 3169   │ 0.147445       │ 0.147445          │\n",
       "│ 40  │ 2019Q2 │ any    │ ig     │ 0           │ trades_by_num_cov │ 89068  │ 3.22607        │ 4.4603            │\n",
       "│ 41  │ 2019Q2 │ any    │ ig     │ 1           │ trades_by_num_cov │ 1752   │ 0.0634581      │ 0.0877357         │\n",
       "│ 42  │ 2019Q2 │ any    │ ig     │ 2           │ trades_by_num_cov │ 104184 │ 3.77358        │ 5.21727           │\n",
       "│ 43  │ 2019Q2 │ any    │ ig     │ 3           │ trades_by_num_cov │ 183293 │ 6.63894        │ 9.17885           │\n",
       "│ 44  │ 2019Q2 │ any    │ ig     │ 4           │ trades_by_num_cov │ 160546 │ 5.81503        │ 8.03974           │\n",
       "│ 45  │ 2019Q2 │ any    │ ig     │ 5           │ trades_by_num_cov │ 374138 │ 13.5514        │ 18.7359           │\n",
       "⋮\n",
       "│ 69  │ 2019Q2 │ otc    │ ig     │ 5           │ trades_by_num_cov │ 295728 │ 13.7594        │ 18.9304           │\n",
       "│ 70  │ 2019Q2 │ otc    │ ig     │ 6           │ trades_by_num_cov │ 285680 │ 13.2919        │ 18.2872           │\n",
       "│ 71  │ 2019Q2 │ otc    │ ig     │ 7           │ trades_by_num_cov │ 286851 │ 13.3464        │ 18.3622           │\n",
       "│ 72  │ 2019Q2 │ otc    │ ig     │ 8           │ trades_by_num_cov │ 244796 │ 11.3897        │ 15.6701           │\n",
       "│ 73  │ 2019Q2 │ otc    │ ig     │ 9           │ trades_by_num_cov │ 18478  │ 0.85973        │ 1.18283           │\n",
       "│ 74  │ 2019Q2 │ otc    │ ig     │ 10          │ trades_by_num_cov │ 3399   │ 0.158146       │ 0.21758           │\n",
       "│ 75  │ 2019Q2 │ otc    │ ig     │ 11          │ trades_by_num_cov │ 380    │ 0.0176803      │ 0.0243249         │\n",
       "│ 76  │ 2019Q2 │ any    │ hy     │ 0           │ trades_by_num_cov │ 5769   │ 0.208955       │ 0.755131          │\n",
       "│ 77  │ 2019Q2 │ any    │ hy     │ 1           │ trades_by_num_cov │ 408    │ 0.0147779      │ 0.053405          │\n",
       "│ 78  │ 2019Q2 │ any    │ hy     │ 2           │ trades_by_num_cov │ 16571  │ 0.600207       │ 2.16906           │\n",
       "│ 79  │ 2019Q2 │ any    │ hy     │ 3           │ trades_by_num_cov │ 28406  │ 1.02888        │ 3.71819           │\n",
       "│ 80  │ 2019Q2 │ any    │ hy     │ 4           │ trades_by_num_cov │ 30694  │ 1.11175        │ 4.01768           │\n",
       "│ 81  │ 2019Q2 │ any    │ hy     │ 5           │ trades_by_num_cov │ 77100  │ 2.79259        │ 10.092            │\n",
       "│ 82  │ 2019Q2 │ any    │ hy     │ 6           │ trades_by_num_cov │ 107656 │ 3.89934        │ 14.0916           │\n",
       "│ 83  │ 2019Q2 │ any    │ hy     │ 7           │ trades_by_num_cov │ 162983 │ 5.9033         │ 21.3336           │\n",
       "│ 84  │ 2019Q2 │ any    │ hy     │ 8           │ trades_by_num_cov │ 164372 │ 5.95361        │ 21.5154           │\n",
       "│ 85  │ 2019Q2 │ any    │ hy     │ 9           │ trades_by_num_cov │ 56879  │ 2.06018        │ 7.44516           │\n",
       "│ 86  │ 2019Q2 │ any    │ hy     │ 10          │ trades_by_num_cov │ 87166  │ 3.15718        │ 11.4096           │\n",
       "│ 87  │ 2019Q2 │ any    │ hy     │ 11          │ trades_by_num_cov │ 22160  │ 0.802643       │ 2.90063           │\n",
       "│ 88  │ 2019Q2 │ any    │ hy     │ 12          │ trades_by_num_cov │ 3809   │ 0.137963       │ 0.498578          │\n",
       "│ 89  │ 2019Q2 │ ats    │ hy     │ 0           │ trades_by_num_cov │ 1028   │ 0.168084       │ 0.581195          │\n",
       "│ 90  │ 2019Q2 │ ats    │ hy     │ 1           │ trades_by_num_cov │ 59     │ 0.00964684     │ 0.0333565         │\n",
       "│ 91  │ 2019Q2 │ ats    │ hy     │ 2           │ trades_by_num_cov │ 3045   │ 0.497875       │ 1.72154           │\n",
       "│ 92  │ 2019Q2 │ ats    │ hy     │ 3           │ trades_by_num_cov │ 3686   │ 0.602682       │ 2.08393           │\n",
       "│ 93  │ 2019Q2 │ ats    │ hy     │ 4           │ trades_by_num_cov │ 5576   │ 0.911708       │ 3.15247           │\n",
       "│ 94  │ 2019Q2 │ ats    │ hy     │ 5           │ trades_by_num_cov │ 15033  │ 2.45798        │ 8.49913           │\n",
       "│ 95  │ 2019Q2 │ ats    │ hy     │ 6           │ trades_by_num_cov │ 22743  │ 3.71861        │ 12.8581           │\n",
       "│ 96  │ 2019Q2 │ ats    │ hy     │ 7           │ trades_by_num_cov │ 42988  │ 7.02879        │ 24.3039           │\n",
       "│ 97  │ 2019Q2 │ ats    │ hy     │ 8           │ trades_by_num_cov │ 41656  │ 6.811          │ 23.5508           │\n",
       "│ 98  │ 2019Q2 │ ats    │ hy     │ 9           │ trades_by_num_cov │ 14223  │ 2.32554        │ 8.04118           │\n",
       "│ 99  │ 2019Q2 │ ats    │ hy     │ 10          │ trades_by_num_cov │ 20749  │ 3.39258        │ 11.7308           │\n",
       "│ 100 │ 2019Q2 │ ats    │ hy     │ 11          │ trades_by_num_cov │ 5451   │ 0.89127        │ 3.0818            │\n",
       "│ 101 │ 2019Q2 │ ats    │ hy     │ 12          │ trades_by_num_cov │ 640    │ 0.104644       │ 0.361833          │\n",
       "│ 102 │ 2019Q2 │ otc    │ hy     │ 0           │ trades_by_num_cov │ 4741   │ 0.220585       │ 0.807534          │\n",
       "│ 103 │ 2019Q2 │ otc    │ hy     │ 1           │ trades_by_num_cov │ 349    │ 0.016238       │ 0.0594451         │\n",
       "│ 104 │ 2019Q2 │ otc    │ hy     │ 2           │ trades_by_num_cov │ 13526  │ 0.629327       │ 2.30388           │\n",
       "│ 105 │ 2019Q2 │ otc    │ hy     │ 3           │ trades_by_num_cov │ 24720  │ 1.15015        │ 4.21056           │\n",
       "│ 106 │ 2019Q2 │ otc    │ hy     │ 4           │ trades_by_num_cov │ 25118  │ 1.16867        │ 4.27835           │\n",
       "│ 107 │ 2019Q2 │ otc    │ hy     │ 5           │ trades_by_num_cov │ 62067  │ 2.8878         │ 10.5719           │\n",
       "│ 108 │ 2019Q2 │ otc    │ hy     │ 6           │ trades_by_num_cov │ 84913  │ 3.95076        │ 14.4632           │\n",
       "│ 109 │ 2019Q2 │ otc    │ hy     │ 7           │ trades_by_num_cov │ 119995 │ 5.58303        │ 20.4387           │\n",
       "│ 110 │ 2019Q2 │ otc    │ hy     │ 8           │ trades_by_num_cov │ 122716 │ 5.70963        │ 20.9022           │\n",
       "│ 111 │ 2019Q2 │ otc    │ hy     │ 9           │ trades_by_num_cov │ 42656  │ 1.98466        │ 7.26559           │\n",
       "│ 112 │ 2019Q2 │ otc    │ hy     │ 10          │ trades_by_num_cov │ 66417  │ 3.0902         │ 11.3128           │\n",
       "│ 113 │ 2019Q2 │ otc    │ hy     │ 11          │ trades_by_num_cov │ 16709  │ 0.777423       │ 2.84604           │\n",
       "│ 114 │ 2019Q2 │ otc    │ hy     │ 12          │ trades_by_num_cov │ 3169   │ 0.147445       │ 0.539775          │"
      ]
     },
     "execution_count": 24,
     "metadata": {},
     "output_type": "execute_result"
    }
   ],
   "source": [
    "df"
   ]
  },
  {
   "cell_type": "code",
   "execution_count": 22,
   "metadata": {},
   "outputs": [
    {
     "data": {
      "text/plain": [
       "13-element Array{Any,1}:\n",
       " VegaLite.VLSpec\n",
       " VegaLite.VLSpec\n",
       " VegaLite.VLSpec\n",
       " VegaLite.VLSpec\n",
       " VegaLite.VLSpec\n",
       " VegaLite.VLSpec\n",
       " VegaLite.VLSpec\n",
       " VegaLite.VLSpec\n",
       " VegaLite.VLSpec\n",
       " VegaLite.VLSpec\n",
       " VegaLite.VLSpec\n",
       " VegaLite.VLSpec\n",
       " VegaLite.VLSpec"
      ]
     },
     "execution_count": 22,
     "metadata": {},
     "output_type": "execute_result"
    }
   ],
   "source": [
    "stats_var=:count\n",
    "df = PlotMod.prepare_num_cov_plot(snc; stat=stats_var)\n",
    "\n",
    "# Trade Count {{{2\n",
    "color_scale=\"viridis\"\n",
    "\n",
    "cond = .&(df[:, :sbm] .!= :any, df[:, :rt] .== :any)\n",
    "tt = df[cond, :]\n",
    "\n",
    "x_var=\"sbm:n\"\n",
    "x_var_type=\"nominal\"\n",
    "legend_title=\"Secondary Market\"\n",
    "\n",
    "y_var=\"value\"\n",
    "y_axis_title=\"Trade Count\"\n",
    "title=[\"Number of Trades of Non-MTN-Bonds Traded\",\n",
    "        \" by Number of Covenant Categories per Bond\"]\n",
    "if :period in Symbol.(names(tt))\n",
    "    title[end] = string(title[end], \" - \", tt[1, :period])\n",
    "end\n",
    "\n",
    "include(string(scripts_path, \"/\", \"single_vega_plt_script.jl\"))\n",
    "push!(pl, p)"
   ]
  },
  {
   "cell_type": "code",
   "execution_count": null,
   "metadata": {},
   "outputs": [],
   "source": []
  },
  {
   "cell_type": "code",
   "execution_count": 5,
   "metadata": {},
   "outputs": [
    {
     "data": {
      "text/plain": [
       "\"plots\""
      ]
     },
     "execution_count": 5,
     "metadata": {},
     "output_type": "execute_result"
    }
   ],
   "source": [
    "# Common Parameters {{{1\n",
    "col_var=\"sum_num_cov\"\n",
    "col_var_type=\"ordinal\"\n",
    "col_title=\"Number of Covenant Categories per Bond\"\n",
    "col_sort=\"ascending\"\n",
    "x_var=\"sbm:n\"\n",
    "x_var_type=\"nominal\"\n",
    "x_axis_title=\" \"\n",
    "width_step=18\n",
    "legend_title=\"Secondary Market\"\n",
    "spacing=1\n",
    "height=250\n",
    "save_plt=true\n",
    "plt_type = \"num_cov\"\n",
    "file_ext=\"png\"\n",
    "#\n",
    "save_plt=false\n",
    "scripts_path = string(main_path, \"/data-scripts\")\n",
    "plt_dir = \"plots\""
   ]
  },
  {
   "cell_type": "code",
   "execution_count": 37,
   "metadata": {},
   "outputs": [
    {
     "name": "stdout",
     "output_type": "stream",
     "text": [
      " \n",
      "Filename: 2019Q3_stats_by_cov_cat.csv\n",
      " \n",
      "Reading dataframe in folder: /home/artur/BondPricing/bond-data/data/Stats/2019...\n"
     ]
    },
    {
     "name": "stderr",
     "output_type": "stream",
     "text": [
      "WARNING: replacing module DataMod.\n",
      "WARNING: replacing module StatsMod.\n",
      "WARNING: replacing module PlotMod.\n"
     ]
    },
    {
     "data": {
      "text/plain": [
       "12-element Array{Any,1}:\n",
       " VegaLite.VLSpec\n",
       " VegaLite.VLSpec\n",
       " VegaLite.VLSpec\n",
       " VegaLite.VLSpec\n",
       " VegaLite.VLSpec\n",
       " VegaLite.VLSpec\n",
       " VegaLite.VLSpec\n",
       " VegaLite.VLSpec\n",
       " VegaLite.VLSpec\n",
       " VegaLite.VLSpec\n",
       " VegaLite.VLSpec\n",
       " VegaLite.VLSpec"
      ]
     },
     "execution_count": 37,
     "metadata": {},
     "output_type": "execute_result"
    }
   ],
   "source": [
    "include(string(joinpath(scripts_path, \"plot_cov_cat\"), \".jl\"))\n",
    "pl"
   ]
  },
  {
   "cell_type": "code",
   "execution_count": 34,
   "metadata": {},
   "outputs": [
    {
     "name": "stdout",
     "output_type": "stream",
     "text": [
      " \n",
      "Filename: 2019Q3_stats_by_num_cov.csv\n",
      " \n",
      "Reading dataframe in folder: /home/artur/BondPricing/bond-data/data/Stats/2019...\n"
     ]
    },
    {
     "name": "stderr",
     "output_type": "stream",
     "text": [
      "WARNING: replacing module DataMod.\n",
      "WARNING: replacing module StatsMod.\n",
      "WARNING: replacing module PlotMod.\n",
      "WARNING: replacing module PlotMod.\n",
      "WARNING: replacing module PlotMod.\n"
     ]
    },
    {
     "data": {
      "text/plain": [
       "24-element Array{Any,1}:\n",
       " VegaLite.VLSpec\n",
       " VegaLite.VLSpec\n",
       " VegaLite.VLSpec\n",
       " VegaLite.VLSpec\n",
       " VegaLite.VLSpec\n",
       " VegaLite.VLSpec\n",
       " VegaLite.VLSpec\n",
       " VegaLite.VLSpec\n",
       " VegaLite.VLSpec\n",
       " VegaLite.VLSpec\n",
       " VegaLite.VLSpec\n",
       " VegaLite.VLSpec\n",
       " VegaLite.VLSpec\n",
       " VegaLite.VLSpec\n",
       " VegaLite.VLSpec\n",
       " VegaLite.VLSpec\n",
       " VegaLite.VLSpec\n",
       " VegaLite.VLSpec\n",
       " VegaLite.VLSpec\n",
       " VegaLite.VLSpec\n",
       " VegaLite.VLSpec\n",
       " VegaLite.VLSpec\n",
       " VegaLite.VLSpec\n",
       " VegaLite.VLSpec"
      ]
     },
     "execution_count": 34,
     "metadata": {},
     "output_type": "execute_result"
    }
   ],
   "source": [
    "scripts_path = string(main_path, \"/data-scripts/plots\")\n",
    "include(string(joinpath(scripts_path, \"plot_num_covs\"), \".jl\"))\n",
    "pl"
   ]
  },
  {
   "cell_type": "code",
   "execution_count": null,
   "metadata": {},
   "outputs": [],
   "source": []
  },
  {
   "cell_type": "code",
   "execution_count": null,
   "metadata": {},
   "outputs": [],
   "source": []
  }
 ],
 "metadata": {
  "@webio": {
   "lastCommId": null,
   "lastKernelId": null
  },
  "kernelspec": {
   "display_name": "Julia 1.5.2",
   "language": "julia",
   "name": "julia-1.5"
  },
  "language_info": {
   "file_extension": ".jl",
   "mimetype": "application/julia",
   "name": "julia",
   "version": "1.5.2"
  }
 },
 "nbformat": 4,
 "nbformat_minor": 4
}
