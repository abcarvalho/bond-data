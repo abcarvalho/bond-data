{
 "cells": [
  {
   "cell_type": "code",
   "execution_count": 1,
   "metadata": {},
   "outputs": [
    {
     "name": "stderr",
     "output_type": "stream",
     "text": [
      "┌ Info: Precompiling VegaDatasets [0ae4a718-28b7-58ec-9efb-cded64d6d5b4]\n",
      "└ @ Base loading.jl:1278\n"
     ]
    },
    {
     "data": {
      "text/plain": [
       "1000"
      ]
     },
     "execution_count": 1,
     "metadata": {},
     "output_type": "execute_result"
    }
   ],
   "source": [
    "using DataFrames\n",
    "using Printf\n",
    "using CSV\n",
    "using Dates\n",
    "using DayCounts\n",
    "# using Revise\n",
    "using FileIO\n",
    "using VegaLite, VegaDatasets\n",
    "\n",
    "main_path = \"/home/artur/BondPricing/bond-data\"\n",
    "module_path = string(main_path, \"/module\")\n",
    "script_path = string(main_path, \"/data-scripts/plots\")\n",
    "include(string(joinpath(module_path, \"data_module\"), \".jl\"))\n",
    "include(string(joinpath(module_path, \"stats_module\"), \".jl\"))\n",
    "include(string(joinpath(module_path, \"plot_module\"), \".jl\"))\n",
    "ENV[\"LINES\"] = 100\n",
    "ENV[\"COLUMNS\"] = 1000"
   ]
  },
  {
   "cell_type": "code",
   "execution_count": 9,
   "metadata": {},
   "outputs": [
    {
     "data": {
      "text/plain": [
       "Main.DataMod.data_obj(\"/home/artur/BondPricing/bond-data\", \"data\", \"MERGED\", \"Stats\", \"merged\", Main.DataMod.trace_obj(\"TRACE\", \"/home/artur/BondPricing/bond-data/data/TRACE\", \"raw\", \"pre-processed\", \"processed\", \"filtered\", \"trace_enhanced\", \"cancel_trd\", \"reverse_trd\", \"original_trd\", \"processed\", \"filtered\", [\"cusip_id\", \"entrd_vol_qt\", \"rptd_pr\", \"trd_exctn_dt\", \"trd_exctn_tm\", \"trc_st\", \"rpt_side_cd\", \"cntra_mp_id\", \"msg_seq_nb\"], [\"cusip_id\", \"entrd_vol_qt\", \"rptd_pr\", \"trd_exctn_dt\", \"trd_exctn_tm\", \"trc_st\", \"rpt_side_cd\", \"cntra_mp_id\", \"orig_msg_seq_nb\"], Dict{String,DataType}(\"yld_sign_cd\" => String,\"first_trade_ctrl_num\" => Int64,\"sale_cndtn2_cd\" => String,\"yld_pt\" => Float64,\"asof_cd\" => String,\"sell_cmsn_rt\" => Float64,\"trd_exctn_tm\" => String,\"sale_cndtn_cd\" => String,\"days_to_sttl_ct\" => String,\"rptd_pr\" => Float64…)), Main.DataMod.mergent_obj(\"MERGENT\", \"/home/artur/BondPricing/bond-data/data/MERGENT\", \"mergent_fisd\", \"filtered\", Dict(:COUPON_INFO => [:ISSUE_ID, :DATED_DATE, :FIRST_INTEREST_DATE, :INTEREST_FREQUENCY, :COUPON, :PAY_IN_KIND, :PAY_IN_KIND_EXP_DATE, :COUPON_CHANGE_INDICATOR, :DAY_COUNT_BASIS, :LAST_INTEREST_DATE, :NEXT_INTEREST_DATE],:ISSUE_AFFECTED => [:ISSUER_ID_AFFECTED, :FILING_DATE, :ISSUE_ID, :SETTLEMENT],:ISSUE_OTHER => [:PROSPECTUS_ISSUER_NAME, :ISSUE_NAME, :COUPON_TYPE, :MTN, :YANKEE, :CANADIAN, :OID, :FOREIGN_CURRENCY, :SLOB, :SETTLEMENT_TYPE  …  :DEFAULTED, :TENDER_EXCH_OFFER, :REFUNDING_DATE, :OVERALLOTMENT_OPT, :ANNOUNCED_CALL, :DEP_ELIGIBILITY, :SUBSEQUENT_DATA, :PRESS_RELEASE, :ISIN, :SEDOL],:SUBS_RESTRICTIVE => [:ISSUE_ID, :DIVIDENDS_RELATED_PAYMENTS_SUB, :FUNDED_DEBT_SUB, :INDEBTEDNESS_SUB, :INVESTMENTS_UNRESTRICTED_SUBS, :SALES_LEASEBACK_SUB, :LIENS_SUB, :FIXED_CHARGE_COVERAGE_SUB, :LEVERAGE_TEST_SUB, :BORROWING_RESTRICTED, :STOCK_ISSUANCE, :PREFERRED_STOCK_ISSUANCE, :SALE_XFER_ASSETS_UNRESTRICTED, :SUBSIDIARY_REDESIGNATION, :SUBSIDIARY_GUARANTEE],:CONVERTIBLE => [:ISSUE_ID, :CONV_COMMOD_ISSUER, :CONV_COMMOD_TYPE, :CONV_COMMOD_CUSIP, :EXCHANGE, :TICKER, :CONV_PRICE, :QTY_OF_COMMOD, :PERCENT_OF_OUTSTANDING_COMMOD, :CONV_CASH  …  :REASON, :CHANGE_DATE, :SPLIT_DATE, :SPLIT_RATIO, :CONDITIONAL_CONV_TERMS, :SOFT_CALL_MAKE_WHOLE, :PEPS, :PERCS, :CONV_PROHIBITED_FROM, :CONVERT_ON_CALL],:ISSUER => [:ISSUER_ID, :AGENT_ID, :CUSIP_NAME, :INDUSTRY_GROUP, :INDUSTRY_CODE, :ESOP, :IN_BANKRUPTCY, :PARENT_ID, :NAICS_CODE, :COUNTRY_DOMICILE],:RATING => [:ISSUE_ID, :RATING_TYPE, :RATING_DATE, :RATING, :RATING_STATUS, :REASON, :RATING_STATUS_DATE, :INVESTMENT_GRADE],:CONVERTIBLE_ISSUER_HISTORY => [:ISSUE_ID, :AS_OF_DATE, :CONV_COMMOD_ISSUER, :AGENT_ID, :CONV_COMMOD_TYPE, :EXCHANGE, :CONV_COMMOD_CUSIP, :TICKER, :REASON, :DILUTION_PROTECTION, :CONV_EFF_DATE, :CONV_EXP_DATE, :CONV_CASH],:PUT => [:ISSUE_ID, :NOTIFICATION_PERIOD, :NEXT_PUT_DATE, :NEXT_PUT_PRICE],:CONVERTIBLE_ADDITIONAL_TERMS => [:ISSUE_ID, :COCO_START_DATE, :COCO_END_DATE, :COCO_INITIAL_TRIGGER_PERCENT, :COCO_TRIGGER_EXPRESSED_AS, :COCO_CHANGE_RATE, :COCO_MIN_TRIGGER_LEVEL, :COCO_CHANGE_FREQUENCY, :COCO_TRADE_DAYS, :COCO_TRADE_DAYS_IN_PREVIOUS  …  :SC_MAKE_WHOLE_END_DATE, :SC_MAKE_WHOLE_DECREMENT_TYPE, :SC_MAKE_WHOLE_INITIAL_AMOUNT, :SC_MAKE_WHOLE_CHANGE_PERCENT, :PEPS_MAX_CONVERSION_RATIO, :PEPS_MIN_CONVERSION_RATIO, :PEPS_HIGHER_PRICE, :PEPS_LOWER_PRICE, :PEPS_ISSUE_PRICE, :PERCS_MAX_PAYOFF]…)))"
      ]
     },
     "execution_count": 9,
     "metadata": {},
     "output_type": "execute_result"
    }
   ],
   "source": [
    "dto = DataMod.data_obj_constructor()"
   ]
  },
  {
   "cell_type": "code",
   "execution_count": 3,
   "metadata": {},
   "outputs": [
    {
     "name": "stdout",
     "output_type": "stream",
     "text": [
      " \n",
      "Filename: 2019Q2_stats_by_num_cov.csv\n",
      " \n",
      "Reading dataframe in folder: /home/artur/BondPricing/bond-data/data/Stats/2019...\n",
      " "
     ]
    },
    {
     "name": "stderr",
     "output_type": "stream",
     "text": [
      "WARNING: replacing module StatsMod.\n"
     ]
    },
    {
     "name": "stdout",
     "output_type": "stream",
     "text": [
      "\n",
      "Filename: 2019Q2_stats_by_cov_cat.csv\n",
      " \n",
      "Reading dataframe in folder: /home/artur/BondPricing/bond-data/data/Stats/2019...\n"
     ]
    },
    {
     "data": {
      "text/html": [
       "<table class=\"data-frame\"><thead><tr><th></th><th>trd_exctn_yr</th><th>trd_exctn_qtr</th><th>otc</th><th>hy</th><th>ig</th><th>ats</th><th>cov</th><th>ncov</th><th>total_trd_count</th><th>total_bonds</th><th>total_issuers</th><th>qt25_trd_vol</th><th>mean_trd_vol</th><th>median_trd_vol</th><th>qt75_trd_vol</th><th>total_trd_vol_tr</th><th>cg1_mean_trd_vol</th><th>cg2_mean_trd_vol</th><th>cg3_mean_trd_vol</th><th>cg4_mean_trd_vol</th><th>cg5_mean_trd_vol</th><th>cg6_mean_trd_vol</th><th>cg7_mean_trd_vol</th><th>cg8_mean_trd_vol</th><th>cg9_mean_trd_vol</th><th>cg10_mean_trd_vol</th><th>cg11_mean_trd_vol</th><th>cg12_mean_trd_vol</th><th>cg13_mean_trd_vol</th><th>cg14_mean_trd_vol</th><th>cg15_mean_trd_vol</th><th>cg1_median_trd_vol</th><th>cg2_median_trd_vol</th><th>cg3_median_trd_vol</th><th>cg4_median_trd_vol</th><th>cg5_median_trd_vol</th><th>cg6_median_trd_vol</th><th>cg7_median_trd_vol</th><th>cg8_median_trd_vol</th><th>cg9_median_trd_vol</th><th>cg10_median_trd_vol</th><th>cg11_median_trd_vol</th><th>cg12_median_trd_vol</th><th>cg13_median_trd_vol</th><th>cg14_median_trd_vol</th><th>cg15_median_trd_vol</th><th>cg1_trd_vol_tr</th><th>cg2_trd_vol_tr</th><th>cg3_trd_vol_tr</th><th>cg4_trd_vol_tr</th><th>cg5_trd_vol_tr</th><th>cg6_trd_vol_tr</th><th>cg7_trd_vol_tr</th><th>cg8_trd_vol_tr</th><th>cg9_trd_vol_tr</th><th>cg10_trd_vol_tr</th><th>cg11_trd_vol_tr</th><th>cg12_trd_vol_tr</th><th>cg13_trd_vol_tr</th><th>cg14_trd_vol_tr</th></tr><tr><th></th><th>Int64</th><th>Int64</th><th>Int64</th><th>Int64</th><th>Int64</th><th>Int64</th><th>Int64</th><th>Int64</th><th>Int64</th><th>Int64</th><th>Int64</th><th>Float64</th><th>Float64</th><th>Float64</th><th>Float64</th><th>Float64</th><th>Float64</th><th>Float64</th><th>Float64</th><th>Float64</th><th>Float64</th><th>Float64</th><th>Float64</th><th>Float64</th><th>Float64</th><th>Float64</th><th>Float64</th><th>Float64</th><th>Float64</th><th>Float64</th><th>Float64</th><th>Float64</th><th>Float64</th><th>Float64</th><th>Float64</th><th>Float64</th><th>Float64</th><th>Float64</th><th>Float64</th><th>Float64</th><th>Float64</th><th>Float64</th><th>Float64</th><th>Float64</th><th>Float64</th><th>Float64</th><th>Float64</th><th>Float64</th><th>Float64</th><th>Float64</th><th>Float64</th><th>Float64</th><th>Float64</th><th>Float64</th><th>Float64</th><th>Float64</th><th>Float64</th><th>Float64</th><th>Float64</th><th>Float64</th></tr></thead><tbody><p>5 rows × 109 columns (omitted printing of 49 columns)</p><tr><th>1</th><td>2019</td><td>2</td><td>0</td><td>0</td><td>0</td><td>0</td><td>0</td><td>0</td><td>2760879</td><td>8679</td><td>2012</td><td>10000.0</td><td>4.43138e5</td><td>25000.0</td><td>150000.0</td><td>1223.45</td><td>28335.5</td><td>3.4181e5</td><td>2032.56</td><td>8081.42</td><td>305.753</td><td>2.68352e5</td><td>431096.0</td><td>179758.0</td><td>17279.6</td><td>5222.53</td><td>3.66723e5</td><td>1.85804e5</td><td>3.42402e5</td><td>33029.7</td><td>3.39191e5</td><td>0.0</td><td>17000.0</td><td>0.0</td><td>0.0</td><td>0.0</td><td>8000.0</td><td>25000.0</td><td>0.0</td><td>0.0</td><td>0.0</td><td>20000.0</td><td>0.0</td><td>15000.0</td><td>0.0</td><td>15000.0</td><td>78.2308</td><td>943.695</td><td>5.61167</td><td>22.3118</td><td>0.844147</td><td>740.888</td><td>1190.2</td><td>496.29</td><td>47.7069</td><td>14.4188</td><td>1012.48</td><td>512.984</td><td>945.33</td><td>91.1911</td></tr><tr><th>2</th><td>2019</td><td>2</td><td>0</td><td>0</td><td>0</td><td>0</td><td>0</td><td>1</td><td>94837</td><td>459</td><td>220</td><td>10000.0</td><td>350554.0</td><td>25000.0</td><td>105000.0</td><td>33.2455</td><td>0.0</td><td>0.0</td><td>0.0</td><td>0.0</td><td>0.0</td><td>0.0</td><td>0.0</td><td>0.0</td><td>0.0</td><td>0.0</td><td>0.0</td><td>0.0</td><td>0.0</td><td>0.0</td><td>0.0</td><td>0.0</td><td>0.0</td><td>0.0</td><td>0.0</td><td>0.0</td><td>0.0</td><td>0.0</td><td>0.0</td><td>0.0</td><td>0.0</td><td>0.0</td><td>0.0</td><td>0.0</td><td>0.0</td><td>0.0</td><td>0.0</td><td>0.0</td><td>0.0</td><td>0.0</td><td>0.0</td><td>0.0</td><td>0.0</td><td>0.0</td><td>0.0</td><td>0.0</td><td>0.0</td><td>0.0</td><td>0.0</td><td>0.0</td></tr><tr><th>3</th><td>2019</td><td>2</td><td>0</td><td>0</td><td>0</td><td>0</td><td>1</td><td>0</td><td>2666042</td><td>8220</td><td>1937</td><td>10000.0</td><td>446431.0</td><td>25000.0</td><td>150000.0</td><td>1190.2</td><td>29343.4</td><td>3.53969e5</td><td>2104.87</td><td>8368.9</td><td>316.629</td><td>277898.0</td><td>446431.0</td><td>1.86152e5</td><td>17894.3</td><td>5408.31</td><td>379768.0</td><td>1.92414e5</td><td>3.54582e5</td><td>34204.7</td><td>3.51256e5</td><td>0.0</td><td>20000.0</td><td>0.0</td><td>0.0</td><td>0.0</td><td>10000.0</td><td>25000.0</td><td>0.0</td><td>0.0</td><td>0.0</td><td>20000.0</td><td>0.0</td><td>18000.0</td><td>0.0</td><td>16000.0</td><td>78.2308</td><td>943.695</td><td>5.61167</td><td>22.3118</td><td>0.844147</td><td>740.888</td><td>1190.2</td><td>496.29</td><td>47.7069</td><td>14.4188</td><td>1012.48</td><td>512.984</td><td>945.33</td><td>91.1911</td></tr><tr><th>4</th><td>2019</td><td>2</td><td>0</td><td>1</td><td>0</td><td>0</td><td>0</td><td>0</td><td>763973</td><td>1952</td><td>876</td><td>10000.0</td><td>4.20744e5</td><td>25000.0</td><td>151000.0</td><td>321.437</td><td>85719.4</td><td>3.12114e5</td><td>1333.11</td><td>2695.89</td><td>670.647</td><td>3.12714e5</td><td>4.17131e5</td><td>1.6254e5</td><td>55419.6</td><td>9563.03</td><td>3.79538e5</td><td>2.73063e5</td><td>358680.0</td><td>1.03521e5</td><td>3.5854e5</td><td>0.0</td><td>18000.0</td><td>0.0</td><td>0.0</td><td>0.0</td><td>15000.0</td><td>25000.0</td><td>0.0</td><td>0.0</td><td>0.0</td><td>20000.0</td><td>10000.0</td><td>20000.0</td><td>0.0</td><td>20000.0</td><td>65.4873</td><td>238.446</td><td>1.01846</td><td>2.05959</td><td>0.512356</td><td>238.905</td><td>318.677</td><td>124.176</td><td>42.3391</td><td>7.3059</td><td>289.957</td><td>208.613</td><td>274.022</td><td>79.0875</td></tr><tr><th>5</th><td>2019</td><td>2</td><td>0</td><td>1</td><td>0</td><td>0</td><td>0</td><td>1</td><td>5769</td><td>66</td><td>34</td><td>10000.0</td><td>4.78545e5</td><td>35000.0</td><td>200000.0</td><td>2.76073</td><td>0.0</td><td>0.0</td><td>0.0</td><td>0.0</td><td>0.0</td><td>0.0</td><td>0.0</td><td>0.0</td><td>0.0</td><td>0.0</td><td>0.0</td><td>0.0</td><td>0.0</td><td>0.0</td><td>0.0</td><td>0.0</td><td>0.0</td><td>0.0</td><td>0.0</td><td>0.0</td><td>0.0</td><td>0.0</td><td>0.0</td><td>0.0</td><td>0.0</td><td>0.0</td><td>0.0</td><td>0.0</td><td>0.0</td><td>0.0</td><td>0.0</td><td>0.0</td><td>0.0</td><td>0.0</td><td>0.0</td><td>0.0</td><td>0.0</td><td>0.0</td><td>0.0</td><td>0.0</td><td>0.0</td><td>0.0</td><td>0.0</td><td>0.0</td></tr></tbody></table>"
      ],
      "text/latex": [
       "\\begin{tabular}{r|ccccccccccccccccccccccccccccccccccccccccccccccccccccccccccccc}\n",
       "\t& trd\\_exctn\\_yr & trd\\_exctn\\_qtr & otc & hy & ig & ats & cov & ncov & total\\_trd\\_count & total\\_bonds & total\\_issuers & qt25\\_trd\\_vol & mean\\_trd\\_vol & median\\_trd\\_vol & qt75\\_trd\\_vol & total\\_trd\\_vol\\_tr & cg1\\_mean\\_trd\\_vol & cg2\\_mean\\_trd\\_vol & cg3\\_mean\\_trd\\_vol & cg4\\_mean\\_trd\\_vol & cg5\\_mean\\_trd\\_vol & cg6\\_mean\\_trd\\_vol & cg7\\_mean\\_trd\\_vol & cg8\\_mean\\_trd\\_vol & cg9\\_mean\\_trd\\_vol & cg10\\_mean\\_trd\\_vol & cg11\\_mean\\_trd\\_vol & cg12\\_mean\\_trd\\_vol & cg13\\_mean\\_trd\\_vol & cg14\\_mean\\_trd\\_vol & cg15\\_mean\\_trd\\_vol & cg1\\_median\\_trd\\_vol & cg2\\_median\\_trd\\_vol & cg3\\_median\\_trd\\_vol & cg4\\_median\\_trd\\_vol & cg5\\_median\\_trd\\_vol & cg6\\_median\\_trd\\_vol & cg7\\_median\\_trd\\_vol & cg8\\_median\\_trd\\_vol & cg9\\_median\\_trd\\_vol & cg10\\_median\\_trd\\_vol & cg11\\_median\\_trd\\_vol & cg12\\_median\\_trd\\_vol & cg13\\_median\\_trd\\_vol & cg14\\_median\\_trd\\_vol & cg15\\_median\\_trd\\_vol & cg1\\_trd\\_vol\\_tr & cg2\\_trd\\_vol\\_tr & cg3\\_trd\\_vol\\_tr & cg4\\_trd\\_vol\\_tr & cg5\\_trd\\_vol\\_tr & cg6\\_trd\\_vol\\_tr & cg7\\_trd\\_vol\\_tr & cg8\\_trd\\_vol\\_tr & cg9\\_trd\\_vol\\_tr & cg10\\_trd\\_vol\\_tr & cg11\\_trd\\_vol\\_tr & cg12\\_trd\\_vol\\_tr & cg13\\_trd\\_vol\\_tr & cg14\\_trd\\_vol\\_tr & \\\\\n",
       "\t\\hline\n",
       "\t& Int64 & Int64 & Int64 & Int64 & Int64 & Int64 & Int64 & Int64 & Int64 & Int64 & Int64 & Float64 & Float64 & Float64 & Float64 & Float64 & Float64 & Float64 & Float64 & Float64 & Float64 & Float64 & Float64 & Float64 & Float64 & Float64 & Float64 & Float64 & Float64 & Float64 & Float64 & Float64 & Float64 & Float64 & Float64 & Float64 & Float64 & Float64 & Float64 & Float64 & Float64 & Float64 & Float64 & Float64 & Float64 & Float64 & Float64 & Float64 & Float64 & Float64 & Float64 & Float64 & Float64 & Float64 & Float64 & Float64 & Float64 & Float64 & Float64 & Float64 & \\\\\n",
       "\t\\hline\n",
       "\t1 & 2019 & 2 & 0 & 0 & 0 & 0 & 0 & 0 & 2760879 & 8679 & 2012 & 10000.0 & 4.43138e5 & 25000.0 & 150000.0 & 1223.45 & 28335.5 & 3.4181e5 & 2032.56 & 8081.42 & 305.753 & 2.68352e5 & 431096.0 & 179758.0 & 17279.6 & 5222.53 & 3.66723e5 & 1.85804e5 & 3.42402e5 & 33029.7 & 3.39191e5 & 0.0 & 17000.0 & 0.0 & 0.0 & 0.0 & 8000.0 & 25000.0 & 0.0 & 0.0 & 0.0 & 20000.0 & 0.0 & 15000.0 & 0.0 & 15000.0 & 78.2308 & 943.695 & 5.61167 & 22.3118 & 0.844147 & 740.888 & 1190.2 & 496.29 & 47.7069 & 14.4188 & 1012.48 & 512.984 & 945.33 & 91.1911 & $\\dots$ \\\\\n",
       "\t2 & 2019 & 2 & 0 & 0 & 0 & 0 & 0 & 1 & 94837 & 459 & 220 & 10000.0 & 350554.0 & 25000.0 & 105000.0 & 33.2455 & 0.0 & 0.0 & 0.0 & 0.0 & 0.0 & 0.0 & 0.0 & 0.0 & 0.0 & 0.0 & 0.0 & 0.0 & 0.0 & 0.0 & 0.0 & 0.0 & 0.0 & 0.0 & 0.0 & 0.0 & 0.0 & 0.0 & 0.0 & 0.0 & 0.0 & 0.0 & 0.0 & 0.0 & 0.0 & 0.0 & 0.0 & 0.0 & 0.0 & 0.0 & 0.0 & 0.0 & 0.0 & 0.0 & 0.0 & 0.0 & 0.0 & 0.0 & 0.0 & 0.0 & $\\dots$ \\\\\n",
       "\t3 & 2019 & 2 & 0 & 0 & 0 & 0 & 1 & 0 & 2666042 & 8220 & 1937 & 10000.0 & 446431.0 & 25000.0 & 150000.0 & 1190.2 & 29343.4 & 3.53969e5 & 2104.87 & 8368.9 & 316.629 & 277898.0 & 446431.0 & 1.86152e5 & 17894.3 & 5408.31 & 379768.0 & 1.92414e5 & 3.54582e5 & 34204.7 & 3.51256e5 & 0.0 & 20000.0 & 0.0 & 0.0 & 0.0 & 10000.0 & 25000.0 & 0.0 & 0.0 & 0.0 & 20000.0 & 0.0 & 18000.0 & 0.0 & 16000.0 & 78.2308 & 943.695 & 5.61167 & 22.3118 & 0.844147 & 740.888 & 1190.2 & 496.29 & 47.7069 & 14.4188 & 1012.48 & 512.984 & 945.33 & 91.1911 & $\\dots$ \\\\\n",
       "\t4 & 2019 & 2 & 0 & 1 & 0 & 0 & 0 & 0 & 763973 & 1952 & 876 & 10000.0 & 4.20744e5 & 25000.0 & 151000.0 & 321.437 & 85719.4 & 3.12114e5 & 1333.11 & 2695.89 & 670.647 & 3.12714e5 & 4.17131e5 & 1.6254e5 & 55419.6 & 9563.03 & 3.79538e5 & 2.73063e5 & 358680.0 & 1.03521e5 & 3.5854e5 & 0.0 & 18000.0 & 0.0 & 0.0 & 0.0 & 15000.0 & 25000.0 & 0.0 & 0.0 & 0.0 & 20000.0 & 10000.0 & 20000.0 & 0.0 & 20000.0 & 65.4873 & 238.446 & 1.01846 & 2.05959 & 0.512356 & 238.905 & 318.677 & 124.176 & 42.3391 & 7.3059 & 289.957 & 208.613 & 274.022 & 79.0875 & $\\dots$ \\\\\n",
       "\t5 & 2019 & 2 & 0 & 1 & 0 & 0 & 0 & 1 & 5769 & 66 & 34 & 10000.0 & 4.78545e5 & 35000.0 & 200000.0 & 2.76073 & 0.0 & 0.0 & 0.0 & 0.0 & 0.0 & 0.0 & 0.0 & 0.0 & 0.0 & 0.0 & 0.0 & 0.0 & 0.0 & 0.0 & 0.0 & 0.0 & 0.0 & 0.0 & 0.0 & 0.0 & 0.0 & 0.0 & 0.0 & 0.0 & 0.0 & 0.0 & 0.0 & 0.0 & 0.0 & 0.0 & 0.0 & 0.0 & 0.0 & 0.0 & 0.0 & 0.0 & 0.0 & 0.0 & 0.0 & 0.0 & 0.0 & 0.0 & 0.0 & 0.0 & $\\dots$ \\\\\n",
       "\\end{tabular}\n"
      ],
      "text/plain": [
       "5×109 DataFrame. Omitted printing of 53 columns\n",
       "│ Row │ trd_exctn_yr │ trd_exctn_qtr │ otc   │ hy    │ ig    │ ats   │ cov   │ ncov  │ total_trd_count │ total_bonds │ total_issuers │ qt25_trd_vol │ mean_trd_vol │ median_trd_vol │ qt75_trd_vol │ total_trd_vol_tr │ cg1_mean_trd_vol │ cg2_mean_trd_vol │ cg3_mean_trd_vol │ cg4_mean_trd_vol │ cg5_mean_trd_vol │ cg6_mean_trd_vol │ cg7_mean_trd_vol │ cg8_mean_trd_vol │ cg9_mean_trd_vol │ cg10_mean_trd_vol │ cg11_mean_trd_vol │ cg12_mean_trd_vol │ cg13_mean_trd_vol │ cg14_mean_trd_vol │ cg15_mean_trd_vol │ cg1_median_trd_vol │ cg2_median_trd_vol │ cg3_median_trd_vol │ cg4_median_trd_vol │ cg5_median_trd_vol │ cg6_median_trd_vol │ cg7_median_trd_vol │ cg8_median_trd_vol │ cg9_median_trd_vol │ cg10_median_trd_vol │ cg11_median_trd_vol │ cg12_median_trd_vol │ cg13_median_trd_vol │ cg14_median_trd_vol │ cg15_median_trd_vol │ cg1_trd_vol_tr │ cg2_trd_vol_tr │ cg3_trd_vol_tr │ cg4_trd_vol_tr │ cg5_trd_vol_tr │ cg6_trd_vol_tr │ cg7_trd_vol_tr │ cg8_trd_vol_tr │ cg9_trd_vol_tr │ cg10_trd_vol_tr │\n",
       "│     │ \u001b[90mInt64\u001b[39m        │ \u001b[90mInt64\u001b[39m         │ \u001b[90mInt64\u001b[39m │ \u001b[90mInt64\u001b[39m │ \u001b[90mInt64\u001b[39m │ \u001b[90mInt64\u001b[39m │ \u001b[90mInt64\u001b[39m │ \u001b[90mInt64\u001b[39m │ \u001b[90mInt64\u001b[39m           │ \u001b[90mInt64\u001b[39m       │ \u001b[90mInt64\u001b[39m         │ \u001b[90mFloat64\u001b[39m      │ \u001b[90mFloat64\u001b[39m      │ \u001b[90mFloat64\u001b[39m        │ \u001b[90mFloat64\u001b[39m      │ \u001b[90mFloat64\u001b[39m          │ \u001b[90mFloat64\u001b[39m          │ \u001b[90mFloat64\u001b[39m          │ \u001b[90mFloat64\u001b[39m          │ \u001b[90mFloat64\u001b[39m          │ \u001b[90mFloat64\u001b[39m          │ \u001b[90mFloat64\u001b[39m          │ \u001b[90mFloat64\u001b[39m          │ \u001b[90mFloat64\u001b[39m          │ \u001b[90mFloat64\u001b[39m          │ \u001b[90mFloat64\u001b[39m           │ \u001b[90mFloat64\u001b[39m           │ \u001b[90mFloat64\u001b[39m           │ \u001b[90mFloat64\u001b[39m           │ \u001b[90mFloat64\u001b[39m           │ \u001b[90mFloat64\u001b[39m           │ \u001b[90mFloat64\u001b[39m            │ \u001b[90mFloat64\u001b[39m            │ \u001b[90mFloat64\u001b[39m            │ \u001b[90mFloat64\u001b[39m            │ \u001b[90mFloat64\u001b[39m            │ \u001b[90mFloat64\u001b[39m            │ \u001b[90mFloat64\u001b[39m            │ \u001b[90mFloat64\u001b[39m            │ \u001b[90mFloat64\u001b[39m            │ \u001b[90mFloat64\u001b[39m             │ \u001b[90mFloat64\u001b[39m             │ \u001b[90mFloat64\u001b[39m             │ \u001b[90mFloat64\u001b[39m             │ \u001b[90mFloat64\u001b[39m             │ \u001b[90mFloat64\u001b[39m             │ \u001b[90mFloat64\u001b[39m        │ \u001b[90mFloat64\u001b[39m        │ \u001b[90mFloat64\u001b[39m        │ \u001b[90mFloat64\u001b[39m        │ \u001b[90mFloat64\u001b[39m        │ \u001b[90mFloat64\u001b[39m        │ \u001b[90mFloat64\u001b[39m        │ \u001b[90mFloat64\u001b[39m        │ \u001b[90mFloat64\u001b[39m        │ \u001b[90mFloat64\u001b[39m         │\n",
       "├─────┼──────────────┼───────────────┼───────┼───────┼───────┼───────┼───────┼───────┼─────────────────┼─────────────┼───────────────┼──────────────┼──────────────┼────────────────┼──────────────┼──────────────────┼──────────────────┼──────────────────┼──────────────────┼──────────────────┼──────────────────┼──────────────────┼──────────────────┼──────────────────┼──────────────────┼───────────────────┼───────────────────┼───────────────────┼───────────────────┼───────────────────┼───────────────────┼────────────────────┼────────────────────┼────────────────────┼────────────────────┼────────────────────┼────────────────────┼────────────────────┼────────────────────┼────────────────────┼─────────────────────┼─────────────────────┼─────────────────────┼─────────────────────┼─────────────────────┼─────────────────────┼────────────────┼────────────────┼────────────────┼────────────────┼────────────────┼────────────────┼────────────────┼────────────────┼────────────────┼─────────────────┤\n",
       "│ 1   │ 2019         │ 2             │ 0     │ 0     │ 0     │ 0     │ 0     │ 0     │ 2760879         │ 8679        │ 2012          │ 10000.0      │ 4.43138e5    │ 25000.0        │ 150000.0     │ 1223.45          │ 28335.5          │ 3.4181e5         │ 2032.56          │ 8081.42          │ 305.753          │ 2.68352e5        │ 431096.0         │ 179758.0         │ 17279.6          │ 5222.53           │ 3.66723e5         │ 1.85804e5         │ 3.42402e5         │ 33029.7           │ 3.39191e5         │ 0.0                │ 17000.0            │ 0.0                │ 0.0                │ 0.0                │ 8000.0             │ 25000.0            │ 0.0                │ 0.0                │ 0.0                 │ 20000.0             │ 0.0                 │ 15000.0             │ 0.0                 │ 15000.0             │ 78.2308        │ 943.695        │ 5.61167        │ 22.3118        │ 0.844147       │ 740.888        │ 1190.2         │ 496.29         │ 47.7069        │ 14.4188         │\n",
       "│ 2   │ 2019         │ 2             │ 0     │ 0     │ 0     │ 0     │ 0     │ 1     │ 94837           │ 459         │ 220           │ 10000.0      │ 350554.0     │ 25000.0        │ 105000.0     │ 33.2455          │ 0.0              │ 0.0              │ 0.0              │ 0.0              │ 0.0              │ 0.0              │ 0.0              │ 0.0              │ 0.0              │ 0.0               │ 0.0               │ 0.0               │ 0.0               │ 0.0               │ 0.0               │ 0.0                │ 0.0                │ 0.0                │ 0.0                │ 0.0                │ 0.0                │ 0.0                │ 0.0                │ 0.0                │ 0.0                 │ 0.0                 │ 0.0                 │ 0.0                 │ 0.0                 │ 0.0                 │ 0.0            │ 0.0            │ 0.0            │ 0.0            │ 0.0            │ 0.0            │ 0.0            │ 0.0            │ 0.0            │ 0.0             │\n",
       "│ 3   │ 2019         │ 2             │ 0     │ 0     │ 0     │ 0     │ 1     │ 0     │ 2666042         │ 8220        │ 1937          │ 10000.0      │ 446431.0     │ 25000.0        │ 150000.0     │ 1190.2           │ 29343.4          │ 3.53969e5        │ 2104.87          │ 8368.9           │ 316.629          │ 277898.0         │ 446431.0         │ 1.86152e5        │ 17894.3          │ 5408.31           │ 379768.0          │ 1.92414e5         │ 3.54582e5         │ 34204.7           │ 3.51256e5         │ 0.0                │ 20000.0            │ 0.0                │ 0.0                │ 0.0                │ 10000.0            │ 25000.0            │ 0.0                │ 0.0                │ 0.0                 │ 20000.0             │ 0.0                 │ 18000.0             │ 0.0                 │ 16000.0             │ 78.2308        │ 943.695        │ 5.61167        │ 22.3118        │ 0.844147       │ 740.888        │ 1190.2         │ 496.29         │ 47.7069        │ 14.4188         │\n",
       "│ 4   │ 2019         │ 2             │ 0     │ 1     │ 0     │ 0     │ 0     │ 0     │ 763973          │ 1952        │ 876           │ 10000.0      │ 4.20744e5    │ 25000.0        │ 151000.0     │ 321.437          │ 85719.4          │ 3.12114e5        │ 1333.11          │ 2695.89          │ 670.647          │ 3.12714e5        │ 4.17131e5        │ 1.6254e5         │ 55419.6          │ 9563.03           │ 3.79538e5         │ 2.73063e5         │ 358680.0          │ 1.03521e5         │ 3.5854e5          │ 0.0                │ 18000.0            │ 0.0                │ 0.0                │ 0.0                │ 15000.0            │ 25000.0            │ 0.0                │ 0.0                │ 0.0                 │ 20000.0             │ 10000.0             │ 20000.0             │ 0.0                 │ 20000.0             │ 65.4873        │ 238.446        │ 1.01846        │ 2.05959        │ 0.512356       │ 238.905        │ 318.677        │ 124.176        │ 42.3391        │ 7.3059          │\n",
       "│ 5   │ 2019         │ 2             │ 0     │ 1     │ 0     │ 0     │ 0     │ 1     │ 5769            │ 66          │ 34            │ 10000.0      │ 4.78545e5    │ 35000.0        │ 200000.0     │ 2.76073          │ 0.0              │ 0.0              │ 0.0              │ 0.0              │ 0.0              │ 0.0              │ 0.0              │ 0.0              │ 0.0              │ 0.0               │ 0.0               │ 0.0               │ 0.0               │ 0.0               │ 0.0               │ 0.0                │ 0.0                │ 0.0                │ 0.0                │ 0.0                │ 0.0                │ 0.0                │ 0.0                │ 0.0                │ 0.0                 │ 0.0                 │ 0.0                 │ 0.0                 │ 0.0                 │ 0.0                 │ 0.0            │ 0.0            │ 0.0            │ 0.0            │ 0.0            │ 0.0            │ 0.0            │ 0.0            │ 0.0            │ 0.0             │"
      ]
     },
     "execution_count": 3,
     "metadata": {},
     "output_type": "execute_result"
    }
   ],
   "source": [
    "yr = 2019\n",
    "qtr = 2\n",
    "include(string(joinpath(module_path, \"stats_module\"), \".jl\"))\n",
    "snc = StatsMod.load_stats_data(dto, yr, qtr; stats_by_num_cov=true)\n",
    "scc = StatsMod.load_stats_data(dto, yr, qtr; stats_by_num_cov=false)\n",
    "\n",
    "first(scc, 5)"
   ]
  },
  {
   "cell_type": "code",
   "execution_count": 10,
   "metadata": {},
   "outputs": [
    {
     "data": {
      "application/vnd.vegalite.v4+json": {
       "config": {
        "axis": {
         "domainWidth": 3
        },
        "opacity": {
         "value": 0.7
        },
        "view": {
         "stroke": "transparent"
        }
       },
       "data": {
        "values": [
         {
          "cov_cat": 1,
          "cvt": "any",
          "perc_sbm_total": 13.618290258449303,
          "perc_total": 13.618290258449303,
          "period": "2019Q2",
          "rt": "any",
          "sbm": "otc",
          "value": 274,
          "variable": "cg1_issuers"
         },
         {
          "cov_cat": 1,
          "cvt": "any",
          "perc_sbm_total": 14.240170031880977,
          "perc_total": 13.320079522862823,
          "period": "2019Q2",
          "rt": "any",
          "sbm": "ats",
          "value": 268,
          "variable": "cg1_issuers"
         },
         {
          "cov_cat": 2,
          "cvt": "any",
          "perc_sbm_total": 77.5844930417495,
          "perc_total": 77.5844930417495,
          "period": "2019Q2",
          "rt": "any",
          "sbm": "otc",
          "value": 1561,
          "variable": "cg2_issuers"
         },
         {
          "cov_cat": 2,
          "cvt": "any",
          "perc_sbm_total": 80.97768331562168,
          "perc_total": 75.7455268389662,
          "period": "2019Q2",
          "rt": "any",
          "sbm": "ats",
          "value": 1524,
          "variable": "cg2_issuers"
         },
         {
          "cov_cat": 3,
          "cvt": "any",
          "perc_sbm_total": 1.0934393638170974,
          "perc_total": 1.0934393638170974,
          "period": "2019Q2",
          "rt": "any",
          "sbm": "otc",
          "value": 22,
          "variable": "cg3_issuers"
         },
         {
          "cov_cat": 3,
          "cvt": "any",
          "perc_sbm_total": 1.1689691817215728,
          "perc_total": 1.0934393638170974,
          "period": "2019Q2",
          "rt": "any",
          "sbm": "ats",
          "value": 22,
          "variable": "cg3_issuers"
         },
         {
          "cov_cat": 4,
          "cvt": "any",
          "perc_sbm_total": 1.9880715705765408,
          "perc_total": 1.9880715705765408,
          "period": "2019Q2",
          "rt": "any",
          "sbm": "otc",
          "value": 40,
          "variable": "cg4_issuers"
         },
         {
          "cov_cat": 4,
          "cvt": "any",
          "perc_sbm_total": 2.0722635494155153,
          "perc_total": 1.9383697813121274,
          "period": "2019Q2",
          "rt": "any",
          "sbm": "ats",
          "value": 39,
          "variable": "cg4_issuers"
         },
         {
          "cov_cat": 5,
          "cvt": "any",
          "perc_sbm_total": 0.34791252485089463,
          "perc_total": 0.34791252485089463,
          "period": "2019Q2",
          "rt": "any",
          "sbm": "otc",
          "value": 7,
          "variable": "cg5_issuers"
         },
         {
          "cov_cat": 5,
          "cvt": "any",
          "perc_sbm_total": 0.3188097768331562,
          "perc_total": 0.2982107355864811,
          "period": "2019Q2",
          "rt": "any",
          "sbm": "ats",
          "value": 6,
          "variable": "cg5_issuers"
         },
         {
          "cov_cat": 6,
          "cvt": "any",
          "perc_sbm_total": 64.86083499005964,
          "perc_total": 64.86083499005964,
          "period": "2019Q2",
          "rt": "any",
          "sbm": "otc",
          "value": 1305,
          "variable": "cg6_issuers"
         },
         {
          "cov_cat": 6,
          "cvt": "any",
          "perc_sbm_total": 67.7470775770457,
          "perc_total": 63.36978131212724,
          "period": "2019Q2",
          "rt": "any",
          "sbm": "ats",
          "value": 1275,
          "variable": "cg6_issuers"
         },
         {
          "cov_cat": 7,
          "cvt": "any",
          "perc_sbm_total": 96.27236580516899,
          "perc_total": 96.27236580516899,
          "period": "2019Q2",
          "rt": "any",
          "sbm": "otc",
          "value": 1937,
          "variable": "cg7_issuers"
         },
         {
          "cov_cat": 7,
          "cvt": "any",
          "perc_sbm_total": 96.86503719447397,
          "perc_total": 90.60636182902584,
          "period": "2019Q2",
          "rt": "any",
          "sbm": "ats",
          "value": 1823,
          "variable": "cg7_issuers"
         },
         {
          "cov_cat": 8,
          "cvt": "any",
          "perc_sbm_total": 38.618290258449306,
          "perc_total": 38.618290258449306,
          "period": "2019Q2",
          "rt": "any",
          "sbm": "otc",
          "value": 777,
          "variable": "cg8_issuers"
         },
         {
          "cov_cat": 8,
          "cvt": "any",
          "perc_sbm_total": 40.75451647183847,
          "perc_total": 38.12127236580517,
          "period": "2019Q2",
          "rt": "any",
          "sbm": "ats",
          "value": 767,
          "variable": "cg8_issuers"
         },
         {
          "cov_cat": 9,
          "cvt": "any",
          "perc_sbm_total": 10.288270377733598,
          "perc_total": 10.288270377733598,
          "period": "2019Q2",
          "rt": "any",
          "sbm": "otc",
          "value": 207,
          "variable": "cg9_issuers"
         },
         {
          "cov_cat": 9,
          "cvt": "any",
          "perc_sbm_total": 10.892667375132838,
          "perc_total": 10.18886679920477,
          "period": "2019Q2",
          "rt": "any",
          "sbm": "ats",
          "value": 205,
          "variable": "cg9_issuers"
         },
         {
          "cov_cat": 10,
          "cvt": "any",
          "perc_sbm_total": 2.584493041749503,
          "perc_total": 2.584493041749503,
          "period": "2019Q2",
          "rt": "any",
          "sbm": "otc",
          "value": 52,
          "variable": "cg10_issuers"
         },
         {
          "cov_cat": 10,
          "cvt": "any",
          "perc_sbm_total": 2.709883103081828,
          "perc_total": 2.5347912524850895,
          "period": "2019Q2",
          "rt": "any",
          "sbm": "ats",
          "value": 51,
          "variable": "cg10_issuers"
         },
         {
          "cov_cat": 11,
          "cvt": "any",
          "perc_sbm_total": 85.48707753479125,
          "perc_total": 85.48707753479125,
          "period": "2019Q2",
          "rt": "any",
          "sbm": "otc",
          "value": 1720,
          "variable": "cg11_issuers"
         },
         {
          "cov_cat": 11,
          "cvt": "any",
          "perc_sbm_total": 86.3443145589798,
          "perc_total": 80.76540755467197,
          "period": "2019Q2",
          "rt": "any",
          "sbm": "ats",
          "value": 1625,
          "variable": "cg11_issuers"
         },
         {
          "cov_cat": 12,
          "cvt": "any",
          "perc_sbm_total": 51.93836978131213,
          "perc_total": 51.93836978131213,
          "period": "2019Q2",
          "rt": "any",
          "sbm": "otc",
          "value": 1045,
          "variable": "cg12_issuers"
         },
         {
          "cov_cat": 12,
          "cvt": "any",
          "perc_sbm_total": 52.33793836344315,
          "perc_total": 48.95626242544731,
          "period": "2019Q2",
          "rt": "any",
          "sbm": "ats",
          "value": 985,
          "variable": "cg12_issuers"
         },
         {
          "cov_cat": 13,
          "cvt": "any",
          "perc_sbm_total": 86.28230616302187,
          "perc_total": 86.28230616302187,
          "period": "2019Q2",
          "rt": "any",
          "sbm": "otc",
          "value": 1736,
          "variable": "cg13_issuers"
         },
         {
          "cov_cat": 13,
          "cvt": "any",
          "perc_sbm_total": 87.61955366631243,
          "perc_total": 81.95825049701789,
          "period": "2019Q2",
          "rt": "any",
          "sbm": "ats",
          "value": 1649,
          "variable": "cg13_issuers"
         },
         {
          "cov_cat": 14,
          "cvt": "any",
          "perc_sbm_total": 15.656063618290258,
          "perc_total": 15.656063618290258,
          "period": "2019Q2",
          "rt": "any",
          "sbm": "otc",
          "value": 315,
          "variable": "cg14_issuers"
         },
         {
          "cov_cat": 14,
          "cvt": "any",
          "perc_sbm_total": 16.312433581296492,
          "perc_total": 15.25844930417495,
          "period": "2019Q2",
          "rt": "any",
          "sbm": "ats",
          "value": 307,
          "variable": "cg14_issuers"
         },
         {
          "cov_cat": 15,
          "cvt": "any",
          "perc_sbm_total": 85.6361829025845,
          "perc_total": 85.6361829025845,
          "period": "2019Q2",
          "rt": "any",
          "sbm": "otc",
          "value": 1723,
          "variable": "cg15_issuers"
         },
         {
          "cov_cat": 15,
          "cvt": "any",
          "perc_sbm_total": 86.9287991498406,
          "perc_total": 81.31212723658051,
          "period": "2019Q2",
          "rt": "any",
          "sbm": "ats",
          "value": 1636,
          "variable": "cg15_issuers"
         }
        ]
       },
       "encoding": {
        "color": {
         "field": "sbm",
         "legend": {
          "title": "Secondary Market"
         },
         "scale": {
          "scheme": "viridis"
         },
         "type": "nominal"
        },
        "column": {
         "field": "cov_cat",
         "sort": "ascending",
         "title": "Covenant Category",
         "type": "ordinal"
        },
        "x": {
         "axis": {
          "title": " "
         },
         "field": "sbm",
         "type": "nominal"
        },
        "y": {
         "axis": {
          "grid": false,
          "stack": null,
          "title": "Number of Issuers"
         },
         "field": "value",
         "type": "quantitative"
        }
       },
       "height": 350,
       "mark": "bar",
       "spacing": 4.5,
       "title": {
        "align": "center",
        "anchor": "middle",
        "fontSize": 14,
        "offset": 20,
        "text": [
         "Number of Issuers of Non-MTN-Bonds Traded per Covenant Category - 2019Q2"
        ]
       },
       "width": {
        "step": 18
       }
      },
      "image/png": "[encoded data removed]",
      "image/svg+xml": [
       "<?xml version=\"1.0\" encoding=\"utf-8\"?>\n",
       "<!DOCTYPE svg PUBLIC \"-//W3C//DTD SVG 1.1//EN\" \"http://www.w3.org/Graphics/SVG/1.1/DTD/svg11.dtd\">\n",
       "<svg class=\"marks\" width=\"821\" height=\"485\" viewBox=\"0 0 821 485\" version=\"1.1\" xmlns=\"http://www.w3.org/2000/svg\" xmlns:xlink=\"http://www.w3.org/1999/xlink\"><rect width=\"821\" height=\"485\" fill=\"white\"></rect><g fill=\"none\" stroke-miterlimit=\"10\" transform=\"translate(55,91)\"><g class=\"mark-group role-frame root\" role=\"graphics-object\" aria-roledescription=\"group mark container\"><g transform=\"translate(0,0)\"><path class=\"background\" aria-hidden=\"true\" d=\"M0,0h0v0h0Z\"></path><g><g class=\"mark-group role-column-title column-title\" role=\"graphics-object\" aria-roledescription=\"group mark container\"><g transform=\"translate(316,-31)\"><path class=\"background\" aria-hidden=\"true\" d=\"M0,0h0v0h0Z\"></path><g><g class=\"mark-group role-title\"><g transform=\"translate(0,-21)\"><path class=\"background\" aria-hidden=\"true\" d=\"M0,0h0v0h0Z\" pointer-events=\"none\"></path><g><g class=\"mark-text role-title-text\" role=\"graphics-symbol\" aria-roledescription=\"title\" aria-label=\"Title text 'Covenant Category'\" pointer-events=\"none\"><text text-anchor=\"middle\" transform=\"translate(0,9)\" font-family=\"sans-serif\" font-size=\"11px\" font-weight=\"bold\" fill=\"#000\" opacity=\"1\">Covenant Category</text></g></g><path class=\"foreground\" aria-hidden=\"true\" d=\"\" pointer-events=\"none\" display=\"none\"></path></g></g></g><path class=\"foreground\" aria-hidden=\"true\" d=\"\" display=\"none\"></path></g></g><g class=\"mark-group role-row-header row_header\" role=\"graphics-object\" aria-roledescription=\"group mark container\"><g transform=\"translate(-1,0)\"><path class=\"background\" aria-hidden=\"true\" d=\"M0,0h0v350h0Z\"></path><g><g class=\"mark-group role-axis\" role=\"graphics-symbol\" aria-roledescription=\"axis\" aria-label=\"Y-axis titled 'Number of Issuers' for a linear scale with values from 0 to 2,000\"><g transform=\"translate(0.5,0.5)\"><path class=\"background\" aria-hidden=\"true\" d=\"M0,0h0v0h0Z\" pointer-events=\"none\"></path><g><g class=\"mark-rule role-axis-tick\" pointer-events=\"none\"><line transform=\"translate(0,350)\" x2=\"-5\" y2=\"0\" stroke=\"#888\" stroke-width=\"1\" opacity=\"1\"></line><line transform=\"translate(0,315)\" x2=\"-5\" y2=\"0\" stroke=\"#888\" stroke-width=\"1\" opacity=\"1\"></line><line transform=\"translate(0,280)\" x2=\"-5\" y2=\"0\" stroke=\"#888\" stroke-width=\"1\" opacity=\"1\"></line><line transform=\"translate(0,245)\" x2=\"-5\" y2=\"0\" stroke=\"#888\" stroke-width=\"1\" opacity=\"1\"></line><line transform=\"translate(0,210)\" x2=\"-5\" y2=\"0\" stroke=\"#888\" stroke-width=\"1\" opacity=\"1\"></line><line transform=\"translate(0,175)\" x2=\"-5\" y2=\"0\" stroke=\"#888\" stroke-width=\"1\" opacity=\"1\"></line><line transform=\"translate(0,140)\" x2=\"-5\" y2=\"0\" stroke=\"#888\" stroke-width=\"1\" opacity=\"1\"></line><line transform=\"translate(0,105)\" x2=\"-5\" y2=\"0\" stroke=\"#888\" stroke-width=\"1\" opacity=\"1\"></line><line transform=\"translate(0,70)\" x2=\"-5\" y2=\"0\" stroke=\"#888\" stroke-width=\"1\" opacity=\"1\"></line><line transform=\"translate(0,35)\" x2=\"-5\" y2=\"0\" stroke=\"#888\" stroke-width=\"1\" opacity=\"1\"></line><line transform=\"translate(0,0)\" x2=\"-5\" y2=\"0\" stroke=\"#888\" stroke-width=\"1\" opacity=\"1\"></line></g><g class=\"mark-text role-axis-label\" pointer-events=\"none\"><text text-anchor=\"end\" transform=\"translate(-7,353)\" font-family=\"sans-serif\" font-size=\"10px\" fill=\"#000\" opacity=\"1\">0</text><text text-anchor=\"end\" transform=\"translate(-7,318)\" font-family=\"sans-serif\" font-size=\"10px\" fill=\"#000\" opacity=\"1\">200</text><text text-anchor=\"end\" transform=\"translate(-7,283)\" font-family=\"sans-serif\" font-size=\"10px\" fill=\"#000\" opacity=\"1\">400</text><text text-anchor=\"end\" transform=\"translate(-7,247.99999999999997)\" font-family=\"sans-serif\" font-size=\"10px\" fill=\"#000\" opacity=\"1\">600</text><text text-anchor=\"end\" transform=\"translate(-7,213)\" font-family=\"sans-serif\" font-size=\"10px\" fill=\"#000\" opacity=\"1\">800</text><text text-anchor=\"end\" transform=\"translate(-7,178)\" font-family=\"sans-serif\" font-size=\"10px\" fill=\"#000\" opacity=\"1\">1,000</text><text text-anchor=\"end\" transform=\"translate(-7,143)\" font-family=\"sans-serif\" font-size=\"10px\" fill=\"#000\" opacity=\"1\">1,200</text><text text-anchor=\"end\" transform=\"translate(-7,108.00000000000001)\" font-family=\"sans-serif\" font-size=\"10px\" fill=\"#000\" opacity=\"1\">1,400</text><text text-anchor=\"end\" transform=\"translate(-7,72.99999999999999)\" font-family=\"sans-serif\" font-size=\"10px\" fill=\"#000\" opacity=\"1\">1,600</text><text text-anchor=\"end\" transform=\"translate(-7,37.99999999999999)\" font-family=\"sans-serif\" font-size=\"10px\" fill=\"#000\" opacity=\"1\">1,800</text><text text-anchor=\"end\" transform=\"translate(-7,3)\" font-family=\"sans-serif\" font-size=\"10px\" fill=\"#000\" opacity=\"1\">2,000</text></g><g class=\"mark-rule role-axis-domain\" pointer-events=\"none\"><line transform=\"translate(0,350)\" x2=\"0\" y2=\"-350\" stroke=\"#888\" stroke-width=\"3\" opacity=\"1\"></line></g><g class=\"mark-text role-axis-title\" pointer-events=\"none\"><text text-anchor=\"middle\" transform=\"translate(-38,175) rotate(-90) translate(0,-2)\" font-family=\"sans-serif\" font-size=\"11px\" font-weight=\"bold\" fill=\"#000\" opacity=\"1\">Number of Issuers</text></g></g><path class=\"foreground\" aria-hidden=\"true\" d=\"\" pointer-events=\"none\" display=\"none\"></path></g></g></g><path class=\"foreground\" aria-hidden=\"true\" d=\"\" display=\"none\"></path></g></g><g class=\"mark-group role-column-header column_header\" role=\"graphics-object\" aria-roledescription=\"group mark container\"><g transform=\"translate(0,-1)\"><path class=\"background\" aria-hidden=\"true\" d=\"M0,0h36v0h-36Z\"></path><g><g class=\"mark-group role-title\"><g transform=\"translate(18,-20)\"><path class=\"background\" aria-hidden=\"true\" d=\"M0,0h0v0h0Z\" pointer-events=\"none\"></path><g><g class=\"mark-text role-title-text\" role=\"graphics-symbol\" aria-roledescription=\"title\" aria-label=\"Title text '1'\" pointer-events=\"none\"><text text-anchor=\"middle\" transform=\"translate(0,8)\" font-family=\"sans-serif\" font-size=\"10px\" fill=\"#000\" opacity=\"1\">1</text></g></g><path class=\"foreground\" aria-hidden=\"true\" d=\"\" pointer-events=\"none\" display=\"none\"></path></g></g></g><path class=\"foreground\" aria-hidden=\"true\" d=\"\" display=\"none\"></path></g><g transform=\"translate(42.5,-1)\"><path class=\"background\" aria-hidden=\"true\" d=\"M0,0h36v0h-36Z\"></path><g><g class=\"mark-group role-title\"><g transform=\"translate(18,-20)\"><path class=\"background\" aria-hidden=\"true\" d=\"M0,0h0v0h0Z\" pointer-events=\"none\"></path><g><g class=\"mark-text role-title-text\" role=\"graphics-symbol\" aria-roledescription=\"title\" aria-label=\"Title text '2'\" pointer-events=\"none\"><text text-anchor=\"middle\" transform=\"translate(0,8)\" font-family=\"sans-serif\" font-size=\"10px\" fill=\"#000\" opacity=\"1\">2</text></g></g><path class=\"foreground\" aria-hidden=\"true\" d=\"\" pointer-events=\"none\" display=\"none\"></path></g></g></g><path class=\"foreground\" aria-hidden=\"true\" d=\"\" display=\"none\"></path></g><g transform=\"translate(85,-1)\"><path class=\"background\" aria-hidden=\"true\" d=\"M0,0h36v0h-36Z\"></path><g><g class=\"mark-group role-title\"><g transform=\"translate(18,-20)\"><path class=\"background\" aria-hidden=\"true\" d=\"M0,0h0v0h0Z\" pointer-events=\"none\"></path><g><g class=\"mark-text role-title-text\" role=\"graphics-symbol\" aria-roledescription=\"title\" aria-label=\"Title text '3'\" pointer-events=\"none\"><text text-anchor=\"middle\" transform=\"translate(0,8)\" font-family=\"sans-serif\" font-size=\"10px\" fill=\"#000\" opacity=\"1\">3</text></g></g><path class=\"foreground\" aria-hidden=\"true\" d=\"\" pointer-events=\"none\" display=\"none\"></path></g></g></g><path class=\"foreground\" aria-hidden=\"true\" d=\"\" display=\"none\"></path></g><g transform=\"translate(127.5,-1)\"><path class=\"background\" aria-hidden=\"true\" d=\"M0,0h36v0h-36Z\"></path><g><g class=\"mark-group role-title\"><g transform=\"translate(18,-20)\"><path class=\"background\" aria-hidden=\"true\" d=\"M0,0h0v0h0Z\" pointer-events=\"none\"></path><g><g class=\"mark-text role-title-text\" role=\"graphics-symbol\" aria-roledescription=\"title\" aria-label=\"Title text '4'\" pointer-events=\"none\"><text text-anchor=\"middle\" transform=\"translate(0,8)\" font-family=\"sans-serif\" font-size=\"10px\" fill=\"#000\" opacity=\"1\">4</text></g></g><path class=\"foreground\" aria-hidden=\"true\" d=\"\" pointer-events=\"none\" display=\"none\"></path></g></g></g><path class=\"foreground\" aria-hidden=\"true\" d=\"\" display=\"none\"></path></g><g transform=\"translate(170,-1)\"><path class=\"background\" aria-hidden=\"true\" d=\"M0,0h36v0h-36Z\"></path><g><g class=\"mark-group role-title\"><g transform=\"translate(18,-20)\"><path class=\"background\" aria-hidden=\"true\" d=\"M0,0h0v0h0Z\" pointer-events=\"none\"></path><g><g class=\"mark-text role-title-text\" role=\"graphics-symbol\" aria-roledescription=\"title\" aria-label=\"Title text '5'\" pointer-events=\"none\"><text text-anchor=\"middle\" transform=\"translate(0,8)\" font-family=\"sans-serif\" font-size=\"10px\" fill=\"#000\" opacity=\"1\">5</text></g></g><path class=\"foreground\" aria-hidden=\"true\" d=\"\" pointer-events=\"none\" display=\"none\"></path></g></g></g><path class=\"foreground\" aria-hidden=\"true\" d=\"\" display=\"none\"></path></g><g transform=\"translate(212.5,-1)\"><path class=\"background\" aria-hidden=\"true\" d=\"M0,0h36v0h-36Z\"></path><g><g class=\"mark-group role-title\"><g transform=\"translate(18,-20)\"><path class=\"background\" aria-hidden=\"true\" d=\"M0,0h0v0h0Z\" pointer-events=\"none\"></path><g><g class=\"mark-text role-title-text\" role=\"graphics-symbol\" aria-roledescription=\"title\" aria-label=\"Title text '6'\" pointer-events=\"none\"><text text-anchor=\"middle\" transform=\"translate(0,8)\" font-family=\"sans-serif\" font-size=\"10px\" fill=\"#000\" opacity=\"1\">6</text></g></g><path class=\"foreground\" aria-hidden=\"true\" d=\"\" pointer-events=\"none\" display=\"none\"></path></g></g></g><path class=\"foreground\" aria-hidden=\"true\" d=\"\" display=\"none\"></path></g><g transform=\"translate(255,-1)\"><path class=\"background\" aria-hidden=\"true\" d=\"M0,0h36v0h-36Z\"></path><g><g class=\"mark-group role-title\"><g transform=\"translate(18,-20)\"><path class=\"background\" aria-hidden=\"true\" d=\"M0,0h0v0h0Z\" pointer-events=\"none\"></path><g><g class=\"mark-text role-title-text\" role=\"graphics-symbol\" aria-roledescription=\"title\" aria-label=\"Title text '7'\" pointer-events=\"none\"><text text-anchor=\"middle\" transform=\"translate(0,8)\" font-family=\"sans-serif\" font-size=\"10px\" fill=\"#000\" opacity=\"1\">7</text></g></g><path class=\"foreground\" aria-hidden=\"true\" d=\"\" pointer-events=\"none\" display=\"none\"></path></g></g></g><path class=\"foreground\" aria-hidden=\"true\" d=\"\" display=\"none\"></path></g><g transform=\"translate(297.5,-1)\"><path class=\"background\" aria-hidden=\"true\" d=\"M0,0h36v0h-36Z\"></path><g><g class=\"mark-group role-title\"><g transform=\"translate(18,-20)\"><path class=\"background\" aria-hidden=\"true\" d=\"M0,0h0v0h0Z\" pointer-events=\"none\"></path><g><g class=\"mark-text role-title-text\" role=\"graphics-symbol\" aria-roledescription=\"title\" aria-label=\"Title text '8'\" pointer-events=\"none\"><text text-anchor=\"middle\" transform=\"translate(0,8)\" font-family=\"sans-serif\" font-size=\"10px\" fill=\"#000\" opacity=\"1\">8</text></g></g><path class=\"foreground\" aria-hidden=\"true\" d=\"\" pointer-events=\"none\" display=\"none\"></path></g></g></g><path class=\"foreground\" aria-hidden=\"true\" d=\"\" display=\"none\"></path></g><g transform=\"translate(340,-1)\"><path class=\"background\" aria-hidden=\"true\" d=\"M0,0h36v0h-36Z\"></path><g><g class=\"mark-group role-title\"><g transform=\"translate(18,-20)\"><path class=\"background\" aria-hidden=\"true\" d=\"M0,0h0v0h0Z\" pointer-events=\"none\"></path><g><g class=\"mark-text role-title-text\" role=\"graphics-symbol\" aria-roledescription=\"title\" aria-label=\"Title text '9'\" pointer-events=\"none\"><text text-anchor=\"middle\" transform=\"translate(0,8)\" font-family=\"sans-serif\" font-size=\"10px\" fill=\"#000\" opacity=\"1\">9</text></g></g><path class=\"foreground\" aria-hidden=\"true\" d=\"\" pointer-events=\"none\" display=\"none\"></path></g></g></g><path class=\"foreground\" aria-hidden=\"true\" d=\"\" display=\"none\"></path></g><g transform=\"translate(382.5,-1)\"><path class=\"background\" aria-hidden=\"true\" d=\"M0,0h36v0h-36Z\"></path><g><g class=\"mark-group role-title\"><g transform=\"translate(18,-20)\"><path class=\"background\" aria-hidden=\"true\" d=\"M0,0h0v0h0Z\" pointer-events=\"none\"></path><g><g class=\"mark-text role-title-text\" role=\"graphics-symbol\" aria-roledescription=\"title\" aria-label=\"Title text '10'\" pointer-events=\"none\"><text text-anchor=\"middle\" transform=\"translate(0,8)\" font-family=\"sans-serif\" font-size=\"10px\" fill=\"#000\" opacity=\"1\">10</text></g></g><path class=\"foreground\" aria-hidden=\"true\" d=\"\" pointer-events=\"none\" display=\"none\"></path></g></g></g><path class=\"foreground\" aria-hidden=\"true\" d=\"\" display=\"none\"></path></g><g transform=\"translate(425,-1)\"><path class=\"background\" aria-hidden=\"true\" d=\"M0,0h36v0h-36Z\"></path><g><g class=\"mark-group role-title\"><g transform=\"translate(18,-20)\"><path class=\"background\" aria-hidden=\"true\" d=\"M0,0h0v0h0Z\" pointer-events=\"none\"></path><g><g class=\"mark-text role-title-text\" role=\"graphics-symbol\" aria-roledescription=\"title\" aria-label=\"Title text '11'\" pointer-events=\"none\"><text text-anchor=\"middle\" transform=\"translate(0,8)\" font-family=\"sans-serif\" font-size=\"10px\" fill=\"#000\" opacity=\"1\">11</text></g></g><path class=\"foreground\" aria-hidden=\"true\" d=\"\" pointer-events=\"none\" display=\"none\"></path></g></g></g><path class=\"foreground\" aria-hidden=\"true\" d=\"\" display=\"none\"></path></g><g transform=\"translate(467.5,-1)\"><path class=\"background\" aria-hidden=\"true\" d=\"M0,0h36v0h-36Z\"></path><g><g class=\"mark-group role-title\"><g transform=\"translate(18,-20)\"><path class=\"background\" aria-hidden=\"true\" d=\"M0,0h0v0h0Z\" pointer-events=\"none\"></path><g><g class=\"mark-text role-title-text\" role=\"graphics-symbol\" aria-roledescription=\"title\" aria-label=\"Title text '12'\" pointer-events=\"none\"><text text-anchor=\"middle\" transform=\"translate(0,8)\" font-family=\"sans-serif\" font-size=\"10px\" fill=\"#000\" opacity=\"1\">12</text></g></g><path class=\"foreground\" aria-hidden=\"true\" d=\"\" pointer-events=\"none\" display=\"none\"></path></g></g></g><path class=\"foreground\" aria-hidden=\"true\" d=\"\" display=\"none\"></path></g><g transform=\"translate(510,-1)\"><path class=\"background\" aria-hidden=\"true\" d=\"M0,0h36v0h-36Z\"></path><g><g class=\"mark-group role-title\"><g transform=\"translate(18,-20)\"><path class=\"background\" aria-hidden=\"true\" d=\"M0,0h0v0h0Z\" pointer-events=\"none\"></path><g><g class=\"mark-text role-title-text\" role=\"graphics-symbol\" aria-roledescription=\"title\" aria-label=\"Title text '13'\" pointer-events=\"none\"><text text-anchor=\"middle\" transform=\"translate(0,8)\" font-family=\"sans-serif\" font-size=\"10px\" fill=\"#000\" opacity=\"1\">13</text></g></g><path class=\"foreground\" aria-hidden=\"true\" d=\"\" pointer-events=\"none\" display=\"none\"></path></g></g></g><path class=\"foreground\" aria-hidden=\"true\" d=\"\" display=\"none\"></path></g><g transform=\"translate(552.5,-1)\"><path class=\"background\" aria-hidden=\"true\" d=\"M0,0h36v0h-36Z\"></path><g><g class=\"mark-group role-title\"><g transform=\"translate(18,-20)\"><path class=\"background\" aria-hidden=\"true\" d=\"M0,0h0v0h0Z\" pointer-events=\"none\"></path><g><g class=\"mark-text role-title-text\" role=\"graphics-symbol\" aria-roledescription=\"title\" aria-label=\"Title text '14'\" pointer-events=\"none\"><text text-anchor=\"middle\" transform=\"translate(0,8)\" font-family=\"sans-serif\" font-size=\"10px\" fill=\"#000\" opacity=\"1\">14</text></g></g><path class=\"foreground\" aria-hidden=\"true\" d=\"\" pointer-events=\"none\" display=\"none\"></path></g></g></g><path class=\"foreground\" aria-hidden=\"true\" d=\"\" display=\"none\"></path></g><g transform=\"translate(595,-1)\"><path class=\"background\" aria-hidden=\"true\" d=\"M0,0h36v0h-36Z\"></path><g><g class=\"mark-group role-title\"><g transform=\"translate(18,-20)\"><path class=\"background\" aria-hidden=\"true\" d=\"M0,0h0v0h0Z\" pointer-events=\"none\"></path><g><g class=\"mark-text role-title-text\" role=\"graphics-symbol\" aria-roledescription=\"title\" aria-label=\"Title text '15'\" pointer-events=\"none\"><text text-anchor=\"middle\" transform=\"translate(0,8)\" font-family=\"sans-serif\" font-size=\"10px\" fill=\"#000\" opacity=\"1\">15</text></g></g><path class=\"foreground\" aria-hidden=\"true\" d=\"\" pointer-events=\"none\" display=\"none\"></path></g></g></g><path class=\"foreground\" aria-hidden=\"true\" d=\"\" display=\"none\"></path></g></g><g class=\"mark-group role-column-footer column_footer\" role=\"graphics-object\" aria-roledescription=\"group mark container\"><g transform=\"translate(0,351)\"><path class=\"background\" aria-hidden=\"true\" d=\"M0,0h36v0h-36Z\"></path><g><g class=\"mark-group role-axis\" role=\"graphics-symbol\" aria-roledescription=\"axis\" aria-label=\"X-axis titled ' ' for a discrete scale with 2 values: ats, otc\"><g transform=\"translate(0.5,0.5)\"><path class=\"background\" aria-hidden=\"true\" d=\"M0,0h0v0h0Z\" pointer-events=\"none\"></path><g><g class=\"mark-rule role-axis-tick\" pointer-events=\"none\"><line transform=\"translate(9,0)\" x2=\"0\" y2=\"5\" stroke=\"#888\" stroke-width=\"1\" opacity=\"1\"></line><line transform=\"translate(27,0)\" x2=\"0\" y2=\"5\" stroke=\"#888\" stroke-width=\"1\" opacity=\"1\"></line></g><g class=\"mark-text role-axis-label\" pointer-events=\"none\"><text text-anchor=\"end\" transform=\"translate(8.500000000000002,7) rotate(270) translate(0,3)\" font-family=\"sans-serif\" font-size=\"10px\" fill=\"#000\" opacity=\"1\">ats</text><text text-anchor=\"end\" transform=\"translate(26.5,7) rotate(270) translate(0,3)\" font-family=\"sans-serif\" font-size=\"10px\" fill=\"#000\" opacity=\"1\">otc</text></g><g class=\"mark-rule role-axis-domain\" pointer-events=\"none\"><line transform=\"translate(0,0)\" x2=\"36\" y2=\"0\" stroke=\"#888\" stroke-width=\"3\" opacity=\"1\"></line></g><g class=\"mark-text role-axis-title\" pointer-events=\"none\"><text text-anchor=\"middle\" transform=\"translate(18,36)\" font-family=\"sans-serif\" font-size=\"11px\" font-weight=\"bold\" fill=\"#000\" opacity=\"1\"></text></g></g><path class=\"foreground\" aria-hidden=\"true\" d=\"\" pointer-events=\"none\" display=\"none\"></path></g></g></g><path class=\"foreground\" aria-hidden=\"true\" d=\"\" display=\"none\"></path></g><g transform=\"translate(42.5,351)\"><path class=\"background\" aria-hidden=\"true\" d=\"M0,0h36v0h-36Z\"></path><g><g class=\"mark-group role-axis\" role=\"graphics-symbol\" aria-roledescription=\"axis\" aria-label=\"X-axis titled ' ' for a discrete scale with 2 values: ats, otc\"><g transform=\"translate(0.5,0.5)\"><path class=\"background\" aria-hidden=\"true\" d=\"M0,0h0v0h0Z\" pointer-events=\"none\"></path><g><g class=\"mark-rule role-axis-tick\" pointer-events=\"none\"><line transform=\"translate(9,0)\" x2=\"0\" y2=\"5\" stroke=\"#888\" stroke-width=\"1\" opacity=\"1\"></line><line transform=\"translate(27,0)\" x2=\"0\" y2=\"5\" stroke=\"#888\" stroke-width=\"1\" opacity=\"1\"></line></g><g class=\"mark-text role-axis-label\" pointer-events=\"none\"><text text-anchor=\"end\" transform=\"translate(8.500000000000002,7) rotate(270) translate(0,3)\" font-family=\"sans-serif\" font-size=\"10px\" fill=\"#000\" opacity=\"1\">ats</text><text text-anchor=\"end\" transform=\"translate(26.5,7) rotate(270) translate(0,3)\" font-family=\"sans-serif\" font-size=\"10px\" fill=\"#000\" opacity=\"1\">otc</text></g><g class=\"mark-rule role-axis-domain\" pointer-events=\"none\"><line transform=\"translate(0,0)\" x2=\"36\" y2=\"0\" stroke=\"#888\" stroke-width=\"3\" opacity=\"1\"></line></g><g class=\"mark-text role-axis-title\" pointer-events=\"none\"><text text-anchor=\"middle\" transform=\"translate(18,36)\" font-family=\"sans-serif\" font-size=\"11px\" font-weight=\"bold\" fill=\"#000\" opacity=\"1\"></text></g></g><path class=\"foreground\" aria-hidden=\"true\" d=\"\" pointer-events=\"none\" display=\"none\"></path></g></g></g><path class=\"foreground\" aria-hidden=\"true\" d=\"\" display=\"none\"></path></g><g transform=\"translate(85,351)\"><path class=\"background\" aria-hidden=\"true\" d=\"M0,0h36v0h-36Z\"></path><g><g class=\"mark-group role-axis\" role=\"graphics-symbol\" aria-roledescription=\"axis\" aria-label=\"X-axis titled ' ' for a discrete scale with 2 values: ats, otc\"><g transform=\"translate(0.5,0.5)\"><path class=\"background\" aria-hidden=\"true\" d=\"M0,0h0v0h0Z\" pointer-events=\"none\"></path><g><g class=\"mark-rule role-axis-tick\" pointer-events=\"none\"><line transform=\"translate(9,0)\" x2=\"0\" y2=\"5\" stroke=\"#888\" stroke-width=\"1\" opacity=\"1\"></line><line transform=\"translate(27,0)\" x2=\"0\" y2=\"5\" stroke=\"#888\" stroke-width=\"1\" opacity=\"1\"></line></g><g class=\"mark-text role-axis-label\" pointer-events=\"none\"><text text-anchor=\"end\" transform=\"translate(8.500000000000002,7) rotate(270) translate(0,3)\" font-family=\"sans-serif\" font-size=\"10px\" fill=\"#000\" opacity=\"1\">ats</text><text text-anchor=\"end\" transform=\"translate(26.5,7) rotate(270) translate(0,3)\" font-family=\"sans-serif\" font-size=\"10px\" fill=\"#000\" opacity=\"1\">otc</text></g><g class=\"mark-rule role-axis-domain\" pointer-events=\"none\"><line transform=\"translate(0,0)\" x2=\"36\" y2=\"0\" stroke=\"#888\" stroke-width=\"3\" opacity=\"1\"></line></g><g class=\"mark-text role-axis-title\" pointer-events=\"none\"><text text-anchor=\"middle\" transform=\"translate(18,36)\" font-family=\"sans-serif\" font-size=\"11px\" font-weight=\"bold\" fill=\"#000\" opacity=\"1\"></text></g></g><path class=\"foreground\" aria-hidden=\"true\" d=\"\" pointer-events=\"none\" display=\"none\"></path></g></g></g><path class=\"foreground\" aria-hidden=\"true\" d=\"\" display=\"none\"></path></g><g transform=\"translate(127.5,351)\"><path class=\"background\" aria-hidden=\"true\" d=\"M0,0h36v0h-36Z\"></path><g><g class=\"mark-group role-axis\" role=\"graphics-symbol\" aria-roledescription=\"axis\" aria-label=\"X-axis titled ' ' for a discrete scale with 2 values: ats, otc\"><g transform=\"translate(0.5,0.5)\"><path class=\"background\" aria-hidden=\"true\" d=\"M0,0h0v0h0Z\" pointer-events=\"none\"></path><g><g class=\"mark-rule role-axis-tick\" pointer-events=\"none\"><line transform=\"translate(9,0)\" x2=\"0\" y2=\"5\" stroke=\"#888\" stroke-width=\"1\" opacity=\"1\"></line><line transform=\"translate(27,0)\" x2=\"0\" y2=\"5\" stroke=\"#888\" stroke-width=\"1\" opacity=\"1\"></line></g><g class=\"mark-text role-axis-label\" pointer-events=\"none\"><text text-anchor=\"end\" transform=\"translate(8.500000000000002,7) rotate(270) translate(0,3)\" font-family=\"sans-serif\" font-size=\"10px\" fill=\"#000\" opacity=\"1\">ats</text><text text-anchor=\"end\" transform=\"translate(26.5,7) rotate(270) translate(0,3)\" font-family=\"sans-serif\" font-size=\"10px\" fill=\"#000\" opacity=\"1\">otc</text></g><g class=\"mark-rule role-axis-domain\" pointer-events=\"none\"><line transform=\"translate(0,0)\" x2=\"36\" y2=\"0\" stroke=\"#888\" stroke-width=\"3\" opacity=\"1\"></line></g><g class=\"mark-text role-axis-title\" pointer-events=\"none\"><text text-anchor=\"middle\" transform=\"translate(18,36)\" font-family=\"sans-serif\" font-size=\"11px\" font-weight=\"bold\" fill=\"#000\" opacity=\"1\"></text></g></g><path class=\"foreground\" aria-hidden=\"true\" d=\"\" pointer-events=\"none\" display=\"none\"></path></g></g></g><path class=\"foreground\" aria-hidden=\"true\" d=\"\" display=\"none\"></path></g><g transform=\"translate(170,351)\"><path class=\"background\" aria-hidden=\"true\" d=\"M0,0h36v0h-36Z\"></path><g><g class=\"mark-group role-axis\" role=\"graphics-symbol\" aria-roledescription=\"axis\" aria-label=\"X-axis titled ' ' for a discrete scale with 2 values: ats, otc\"><g transform=\"translate(0.5,0.5)\"><path class=\"background\" aria-hidden=\"true\" d=\"M0,0h0v0h0Z\" pointer-events=\"none\"></path><g><g class=\"mark-rule role-axis-tick\" pointer-events=\"none\"><line transform=\"translate(9,0)\" x2=\"0\" y2=\"5\" stroke=\"#888\" stroke-width=\"1\" opacity=\"1\"></line><line transform=\"translate(27,0)\" x2=\"0\" y2=\"5\" stroke=\"#888\" stroke-width=\"1\" opacity=\"1\"></line></g><g class=\"mark-text role-axis-label\" pointer-events=\"none\"><text text-anchor=\"end\" transform=\"translate(8.500000000000002,7) rotate(270) translate(0,3)\" font-family=\"sans-serif\" font-size=\"10px\" fill=\"#000\" opacity=\"1\">ats</text><text text-anchor=\"end\" transform=\"translate(26.5,7) rotate(270) translate(0,3)\" font-family=\"sans-serif\" font-size=\"10px\" fill=\"#000\" opacity=\"1\">otc</text></g><g class=\"mark-rule role-axis-domain\" pointer-events=\"none\"><line transform=\"translate(0,0)\" x2=\"36\" y2=\"0\" stroke=\"#888\" stroke-width=\"3\" opacity=\"1\"></line></g><g class=\"mark-text role-axis-title\" pointer-events=\"none\"><text text-anchor=\"middle\" transform=\"translate(18,36)\" font-family=\"sans-serif\" font-size=\"11px\" font-weight=\"bold\" fill=\"#000\" opacity=\"1\"></text></g></g><path class=\"foreground\" aria-hidden=\"true\" d=\"\" pointer-events=\"none\" display=\"none\"></path></g></g></g><path class=\"foreground\" aria-hidden=\"true\" d=\"\" display=\"none\"></path></g><g transform=\"translate(212.5,351)\"><path class=\"background\" aria-hidden=\"true\" d=\"M0,0h36v0h-36Z\"></path><g><g class=\"mark-group role-axis\" role=\"graphics-symbol\" aria-roledescription=\"axis\" aria-label=\"X-axis titled ' ' for a discrete scale with 2 values: ats, otc\"><g transform=\"translate(0.5,0.5)\"><path class=\"background\" aria-hidden=\"true\" d=\"M0,0h0v0h0Z\" pointer-events=\"none\"></path><g><g class=\"mark-rule role-axis-tick\" pointer-events=\"none\"><line transform=\"translate(9,0)\" x2=\"0\" y2=\"5\" stroke=\"#888\" stroke-width=\"1\" opacity=\"1\"></line><line transform=\"translate(27,0)\" x2=\"0\" y2=\"5\" stroke=\"#888\" stroke-width=\"1\" opacity=\"1\"></line></g><g class=\"mark-text role-axis-label\" pointer-events=\"none\"><text text-anchor=\"end\" transform=\"translate(8.500000000000002,7) rotate(270) translate(0,3)\" font-family=\"sans-serif\" font-size=\"10px\" fill=\"#000\" opacity=\"1\">ats</text><text text-anchor=\"end\" transform=\"translate(26.5,7) rotate(270) translate(0,3)\" font-family=\"sans-serif\" font-size=\"10px\" fill=\"#000\" opacity=\"1\">otc</text></g><g class=\"mark-rule role-axis-domain\" pointer-events=\"none\"><line transform=\"translate(0,0)\" x2=\"36\" y2=\"0\" stroke=\"#888\" stroke-width=\"3\" opacity=\"1\"></line></g><g class=\"mark-text role-axis-title\" pointer-events=\"none\"><text text-anchor=\"middle\" transform=\"translate(18,36)\" font-family=\"sans-serif\" font-size=\"11px\" font-weight=\"bold\" fill=\"#000\" opacity=\"1\"></text></g></g><path class=\"foreground\" aria-hidden=\"true\" d=\"\" pointer-events=\"none\" display=\"none\"></path></g></g></g><path class=\"foreground\" aria-hidden=\"true\" d=\"\" display=\"none\"></path></g><g transform=\"translate(255,351)\"><path class=\"background\" aria-hidden=\"true\" d=\"M0,0h36v0h-36Z\"></path><g><g class=\"mark-group role-axis\" role=\"graphics-symbol\" aria-roledescription=\"axis\" aria-label=\"X-axis titled ' ' for a discrete scale with 2 values: ats, otc\"><g transform=\"translate(0.5,0.5)\"><path class=\"background\" aria-hidden=\"true\" d=\"M0,0h0v0h0Z\" pointer-events=\"none\"></path><g><g class=\"mark-rule role-axis-tick\" pointer-events=\"none\"><line transform=\"translate(9,0)\" x2=\"0\" y2=\"5\" stroke=\"#888\" stroke-width=\"1\" opacity=\"1\"></line><line transform=\"translate(27,0)\" x2=\"0\" y2=\"5\" stroke=\"#888\" stroke-width=\"1\" opacity=\"1\"></line></g><g class=\"mark-text role-axis-label\" pointer-events=\"none\"><text text-anchor=\"end\" transform=\"translate(8.500000000000002,7) rotate(270) translate(0,3)\" font-family=\"sans-serif\" font-size=\"10px\" fill=\"#000\" opacity=\"1\">ats</text><text text-anchor=\"end\" transform=\"translate(26.5,7) rotate(270) translate(0,3)\" font-family=\"sans-serif\" font-size=\"10px\" fill=\"#000\" opacity=\"1\">otc</text></g><g class=\"mark-rule role-axis-domain\" pointer-events=\"none\"><line transform=\"translate(0,0)\" x2=\"36\" y2=\"0\" stroke=\"#888\" stroke-width=\"3\" opacity=\"1\"></line></g><g class=\"mark-text role-axis-title\" pointer-events=\"none\"><text text-anchor=\"middle\" transform=\"translate(18,36)\" font-family=\"sans-serif\" font-size=\"11px\" font-weight=\"bold\" fill=\"#000\" opacity=\"1\"></text></g></g><path class=\"foreground\" aria-hidden=\"true\" d=\"\" pointer-events=\"none\" display=\"none\"></path></g></g></g><path class=\"foreground\" aria-hidden=\"true\" d=\"\" display=\"none\"></path></g><g transform=\"translate(297.5,351)\"><path class=\"background\" aria-hidden=\"true\" d=\"M0,0h36v0h-36Z\"></path><g><g class=\"mark-group role-axis\" role=\"graphics-symbol\" aria-roledescription=\"axis\" aria-label=\"X-axis titled ' ' for a discrete scale with 2 values: ats, otc\"><g transform=\"translate(0.5,0.5)\"><path class=\"background\" aria-hidden=\"true\" d=\"M0,0h0v0h0Z\" pointer-events=\"none\"></path><g><g class=\"mark-rule role-axis-tick\" pointer-events=\"none\"><line transform=\"translate(9,0)\" x2=\"0\" y2=\"5\" stroke=\"#888\" stroke-width=\"1\" opacity=\"1\"></line><line transform=\"translate(27,0)\" x2=\"0\" y2=\"5\" stroke=\"#888\" stroke-width=\"1\" opacity=\"1\"></line></g><g class=\"mark-text role-axis-label\" pointer-events=\"none\"><text text-anchor=\"end\" transform=\"translate(8.500000000000002,7) rotate(270) translate(0,3)\" font-family=\"sans-serif\" font-size=\"10px\" fill=\"#000\" opacity=\"1\">ats</text><text text-anchor=\"end\" transform=\"translate(26.5,7) rotate(270) translate(0,3)\" font-family=\"sans-serif\" font-size=\"10px\" fill=\"#000\" opacity=\"1\">otc</text></g><g class=\"mark-rule role-axis-domain\" pointer-events=\"none\"><line transform=\"translate(0,0)\" x2=\"36\" y2=\"0\" stroke=\"#888\" stroke-width=\"3\" opacity=\"1\"></line></g><g class=\"mark-text role-axis-title\" pointer-events=\"none\"><text text-anchor=\"middle\" transform=\"translate(18,36)\" font-family=\"sans-serif\" font-size=\"11px\" font-weight=\"bold\" fill=\"#000\" opacity=\"1\"></text></g></g><path class=\"foreground\" aria-hidden=\"true\" d=\"\" pointer-events=\"none\" display=\"none\"></path></g></g></g><path class=\"foreground\" aria-hidden=\"true\" d=\"\" display=\"none\"></path></g><g transform=\"translate(340,351)\"><path class=\"background\" aria-hidden=\"true\" d=\"M0,0h36v0h-36Z\"></path><g><g class=\"mark-group role-axis\" role=\"graphics-symbol\" aria-roledescription=\"axis\" aria-label=\"X-axis titled ' ' for a discrete scale with 2 values: ats, otc\"><g transform=\"translate(0.5,0.5)\"><path class=\"background\" aria-hidden=\"true\" d=\"M0,0h0v0h0Z\" pointer-events=\"none\"></path><g><g class=\"mark-rule role-axis-tick\" pointer-events=\"none\"><line transform=\"translate(9,0)\" x2=\"0\" y2=\"5\" stroke=\"#888\" stroke-width=\"1\" opacity=\"1\"></line><line transform=\"translate(27,0)\" x2=\"0\" y2=\"5\" stroke=\"#888\" stroke-width=\"1\" opacity=\"1\"></line></g><g class=\"mark-text role-axis-label\" pointer-events=\"none\"><text text-anchor=\"end\" transform=\"translate(8.500000000000002,7) rotate(270) translate(0,3)\" font-family=\"sans-serif\" font-size=\"10px\" fill=\"#000\" opacity=\"1\">ats</text><text text-anchor=\"end\" transform=\"translate(26.5,7) rotate(270) translate(0,3)\" font-family=\"sans-serif\" font-size=\"10px\" fill=\"#000\" opacity=\"1\">otc</text></g><g class=\"mark-rule role-axis-domain\" pointer-events=\"none\"><line transform=\"translate(0,0)\" x2=\"36\" y2=\"0\" stroke=\"#888\" stroke-width=\"3\" opacity=\"1\"></line></g><g class=\"mark-text role-axis-title\" pointer-events=\"none\"><text text-anchor=\"middle\" transform=\"translate(18,36)\" font-family=\"sans-serif\" font-size=\"11px\" font-weight=\"bold\" fill=\"#000\" opacity=\"1\"></text></g></g><path class=\"foreground\" aria-hidden=\"true\" d=\"\" pointer-events=\"none\" display=\"none\"></path></g></g></g><path class=\"foreground\" aria-hidden=\"true\" d=\"\" display=\"none\"></path></g><g transform=\"translate(382.5,351)\"><path class=\"background\" aria-hidden=\"true\" d=\"M0,0h36v0h-36Z\"></path><g><g class=\"mark-group role-axis\" role=\"graphics-symbol\" aria-roledescription=\"axis\" aria-label=\"X-axis titled ' ' for a discrete scale with 2 values: ats, otc\"><g transform=\"translate(0.5,0.5)\"><path class=\"background\" aria-hidden=\"true\" d=\"M0,0h0v0h0Z\" pointer-events=\"none\"></path><g><g class=\"mark-rule role-axis-tick\" pointer-events=\"none\"><line transform=\"translate(9,0)\" x2=\"0\" y2=\"5\" stroke=\"#888\" stroke-width=\"1\" opacity=\"1\"></line><line transform=\"translate(27,0)\" x2=\"0\" y2=\"5\" stroke=\"#888\" stroke-width=\"1\" opacity=\"1\"></line></g><g class=\"mark-text role-axis-label\" pointer-events=\"none\"><text text-anchor=\"end\" transform=\"translate(8.500000000000002,7) rotate(270) translate(0,3)\" font-family=\"sans-serif\" font-size=\"10px\" fill=\"#000\" opacity=\"1\">ats</text><text text-anchor=\"end\" transform=\"translate(26.5,7) rotate(270) translate(0,3)\" font-family=\"sans-serif\" font-size=\"10px\" fill=\"#000\" opacity=\"1\">otc</text></g><g class=\"mark-rule role-axis-domain\" pointer-events=\"none\"><line transform=\"translate(0,0)\" x2=\"36\" y2=\"0\" stroke=\"#888\" stroke-width=\"3\" opacity=\"1\"></line></g><g class=\"mark-text role-axis-title\" pointer-events=\"none\"><text text-anchor=\"middle\" transform=\"translate(18,36)\" font-family=\"sans-serif\" font-size=\"11px\" font-weight=\"bold\" fill=\"#000\" opacity=\"1\"></text></g></g><path class=\"foreground\" aria-hidden=\"true\" d=\"\" pointer-events=\"none\" display=\"none\"></path></g></g></g><path class=\"foreground\" aria-hidden=\"true\" d=\"\" display=\"none\"></path></g><g transform=\"translate(425,351)\"><path class=\"background\" aria-hidden=\"true\" d=\"M0,0h36v0h-36Z\"></path><g><g class=\"mark-group role-axis\" role=\"graphics-symbol\" aria-roledescription=\"axis\" aria-label=\"X-axis titled ' ' for a discrete scale with 2 values: ats, otc\"><g transform=\"translate(0.5,0.5)\"><path class=\"background\" aria-hidden=\"true\" d=\"M0,0h0v0h0Z\" pointer-events=\"none\"></path><g><g class=\"mark-rule role-axis-tick\" pointer-events=\"none\"><line transform=\"translate(9,0)\" x2=\"0\" y2=\"5\" stroke=\"#888\" stroke-width=\"1\" opacity=\"1\"></line><line transform=\"translate(27,0)\" x2=\"0\" y2=\"5\" stroke=\"#888\" stroke-width=\"1\" opacity=\"1\"></line></g><g class=\"mark-text role-axis-label\" pointer-events=\"none\"><text text-anchor=\"end\" transform=\"translate(8.500000000000002,7) rotate(270) translate(0,3)\" font-family=\"sans-serif\" font-size=\"10px\" fill=\"#000\" opacity=\"1\">ats</text><text text-anchor=\"end\" transform=\"translate(26.5,7) rotate(270) translate(0,3)\" font-family=\"sans-serif\" font-size=\"10px\" fill=\"#000\" opacity=\"1\">otc</text></g><g class=\"mark-rule role-axis-domain\" pointer-events=\"none\"><line transform=\"translate(0,0)\" x2=\"36\" y2=\"0\" stroke=\"#888\" stroke-width=\"3\" opacity=\"1\"></line></g><g class=\"mark-text role-axis-title\" pointer-events=\"none\"><text text-anchor=\"middle\" transform=\"translate(18,36)\" font-family=\"sans-serif\" font-size=\"11px\" font-weight=\"bold\" fill=\"#000\" opacity=\"1\"></text></g></g><path class=\"foreground\" aria-hidden=\"true\" d=\"\" pointer-events=\"none\" display=\"none\"></path></g></g></g><path class=\"foreground\" aria-hidden=\"true\" d=\"\" display=\"none\"></path></g><g transform=\"translate(467.5,351)\"><path class=\"background\" aria-hidden=\"true\" d=\"M0,0h36v0h-36Z\"></path><g><g class=\"mark-group role-axis\" role=\"graphics-symbol\" aria-roledescription=\"axis\" aria-label=\"X-axis titled ' ' for a discrete scale with 2 values: ats, otc\"><g transform=\"translate(0.5,0.5)\"><path class=\"background\" aria-hidden=\"true\" d=\"M0,0h0v0h0Z\" pointer-events=\"none\"></path><g><g class=\"mark-rule role-axis-tick\" pointer-events=\"none\"><line transform=\"translate(9,0)\" x2=\"0\" y2=\"5\" stroke=\"#888\" stroke-width=\"1\" opacity=\"1\"></line><line transform=\"translate(27,0)\" x2=\"0\" y2=\"5\" stroke=\"#888\" stroke-width=\"1\" opacity=\"1\"></line></g><g class=\"mark-text role-axis-label\" pointer-events=\"none\"><text text-anchor=\"end\" transform=\"translate(8.500000000000002,7) rotate(270) translate(0,3)\" font-family=\"sans-serif\" font-size=\"10px\" fill=\"#000\" opacity=\"1\">ats</text><text text-anchor=\"end\" transform=\"translate(26.5,7) rotate(270) translate(0,3)\" font-family=\"sans-serif\" font-size=\"10px\" fill=\"#000\" opacity=\"1\">otc</text></g><g class=\"mark-rule role-axis-domain\" pointer-events=\"none\"><line transform=\"translate(0,0)\" x2=\"36\" y2=\"0\" stroke=\"#888\" stroke-width=\"3\" opacity=\"1\"></line></g><g class=\"mark-text role-axis-title\" pointer-events=\"none\"><text text-anchor=\"middle\" transform=\"translate(18,36)\" font-family=\"sans-serif\" font-size=\"11px\" font-weight=\"bold\" fill=\"#000\" opacity=\"1\"></text></g></g><path class=\"foreground\" aria-hidden=\"true\" d=\"\" pointer-events=\"none\" display=\"none\"></path></g></g></g><path class=\"foreground\" aria-hidden=\"true\" d=\"\" display=\"none\"></path></g><g transform=\"translate(510,351)\"><path class=\"background\" aria-hidden=\"true\" d=\"M0,0h36v0h-36Z\"></path><g><g class=\"mark-group role-axis\" role=\"graphics-symbol\" aria-roledescription=\"axis\" aria-label=\"X-axis titled ' ' for a discrete scale with 2 values: ats, otc\"><g transform=\"translate(0.5,0.5)\"><path class=\"background\" aria-hidden=\"true\" d=\"M0,0h0v0h0Z\" pointer-events=\"none\"></path><g><g class=\"mark-rule role-axis-tick\" pointer-events=\"none\"><line transform=\"translate(9,0)\" x2=\"0\" y2=\"5\" stroke=\"#888\" stroke-width=\"1\" opacity=\"1\"></line><line transform=\"translate(27,0)\" x2=\"0\" y2=\"5\" stroke=\"#888\" stroke-width=\"1\" opacity=\"1\"></line></g><g class=\"mark-text role-axis-label\" pointer-events=\"none\"><text text-anchor=\"end\" transform=\"translate(8.500000000000002,7) rotate(270) translate(0,3)\" font-family=\"sans-serif\" font-size=\"10px\" fill=\"#000\" opacity=\"1\">ats</text><text text-anchor=\"end\" transform=\"translate(26.5,7) rotate(270) translate(0,3)\" font-family=\"sans-serif\" font-size=\"10px\" fill=\"#000\" opacity=\"1\">otc</text></g><g class=\"mark-rule role-axis-domain\" pointer-events=\"none\"><line transform=\"translate(0,0)\" x2=\"36\" y2=\"0\" stroke=\"#888\" stroke-width=\"3\" opacity=\"1\"></line></g><g class=\"mark-text role-axis-title\" pointer-events=\"none\"><text text-anchor=\"middle\" transform=\"translate(18,36)\" font-family=\"sans-serif\" font-size=\"11px\" font-weight=\"bold\" fill=\"#000\" opacity=\"1\"></text></g></g><path class=\"foreground\" aria-hidden=\"true\" d=\"\" pointer-events=\"none\" display=\"none\"></path></g></g></g><path class=\"foreground\" aria-hidden=\"true\" d=\"\" display=\"none\"></path></g><g transform=\"translate(552.5,351)\"><path class=\"background\" aria-hidden=\"true\" d=\"M0,0h36v0h-36Z\"></path><g><g class=\"mark-group role-axis\" role=\"graphics-symbol\" aria-roledescription=\"axis\" aria-label=\"X-axis titled ' ' for a discrete scale with 2 values: ats, otc\"><g transform=\"translate(0.5,0.5)\"><path class=\"background\" aria-hidden=\"true\" d=\"M0,0h0v0h0Z\" pointer-events=\"none\"></path><g><g class=\"mark-rule role-axis-tick\" pointer-events=\"none\"><line transform=\"translate(9,0)\" x2=\"0\" y2=\"5\" stroke=\"#888\" stroke-width=\"1\" opacity=\"1\"></line><line transform=\"translate(27,0)\" x2=\"0\" y2=\"5\" stroke=\"#888\" stroke-width=\"1\" opacity=\"1\"></line></g><g class=\"mark-text role-axis-label\" pointer-events=\"none\"><text text-anchor=\"end\" transform=\"translate(8.500000000000002,7) rotate(270) translate(0,3)\" font-family=\"sans-serif\" font-size=\"10px\" fill=\"#000\" opacity=\"1\">ats</text><text text-anchor=\"end\" transform=\"translate(26.5,7) rotate(270) translate(0,3)\" font-family=\"sans-serif\" font-size=\"10px\" fill=\"#000\" opacity=\"1\">otc</text></g><g class=\"mark-rule role-axis-domain\" pointer-events=\"none\"><line transform=\"translate(0,0)\" x2=\"36\" y2=\"0\" stroke=\"#888\" stroke-width=\"3\" opacity=\"1\"></line></g><g class=\"mark-text role-axis-title\" pointer-events=\"none\"><text text-anchor=\"middle\" transform=\"translate(18,36)\" font-family=\"sans-serif\" font-size=\"11px\" font-weight=\"bold\" fill=\"#000\" opacity=\"1\"></text></g></g><path class=\"foreground\" aria-hidden=\"true\" d=\"\" pointer-events=\"none\" display=\"none\"></path></g></g></g><path class=\"foreground\" aria-hidden=\"true\" d=\"\" display=\"none\"></path></g><g transform=\"translate(595,351)\"><path class=\"background\" aria-hidden=\"true\" d=\"M0,0h36v0h-36Z\"></path><g><g class=\"mark-group role-axis\" role=\"graphics-symbol\" aria-roledescription=\"axis\" aria-label=\"X-axis titled ' ' for a discrete scale with 2 values: ats, otc\"><g transform=\"translate(0.5,0.5)\"><path class=\"background\" aria-hidden=\"true\" d=\"M0,0h0v0h0Z\" pointer-events=\"none\"></path><g><g class=\"mark-rule role-axis-tick\" pointer-events=\"none\"><line transform=\"translate(9,0)\" x2=\"0\" y2=\"5\" stroke=\"#888\" stroke-width=\"1\" opacity=\"1\"></line><line transform=\"translate(27,0)\" x2=\"0\" y2=\"5\" stroke=\"#888\" stroke-width=\"1\" opacity=\"1\"></line></g><g class=\"mark-text role-axis-label\" pointer-events=\"none\"><text text-anchor=\"end\" transform=\"translate(8.500000000000002,7) rotate(270) translate(0,3)\" font-family=\"sans-serif\" font-size=\"10px\" fill=\"#000\" opacity=\"1\">ats</text><text text-anchor=\"end\" transform=\"translate(26.5,7) rotate(270) translate(0,3)\" font-family=\"sans-serif\" font-size=\"10px\" fill=\"#000\" opacity=\"1\">otc</text></g><g class=\"mark-rule role-axis-domain\" pointer-events=\"none\"><line transform=\"translate(0,0)\" x2=\"36\" y2=\"0\" stroke=\"#888\" stroke-width=\"3\" opacity=\"1\"></line></g><g class=\"mark-text role-axis-title\" pointer-events=\"none\"><text text-anchor=\"middle\" transform=\"translate(18,36)\" font-family=\"sans-serif\" font-size=\"11px\" font-weight=\"bold\" fill=\"#000\" opacity=\"1\"></text></g></g><path class=\"foreground\" aria-hidden=\"true\" d=\"\" pointer-events=\"none\" display=\"none\"></path></g></g></g><path class=\"foreground\" aria-hidden=\"true\" d=\"\" display=\"none\"></path></g></g><g class=\"mark-group role-scope cell\" role=\"graphics-object\" aria-roledescription=\"group mark container\"><g transform=\"translate(0,0)\"><path class=\"background\" aria-hidden=\"true\" d=\"M0.5,0.5h36v350h-36Z\"></path><g><g class=\"mark-rect role-mark child_marks\" role=\"graphics-object\" aria-roledescription=\"rect mark container\"><path aria-label=\"Number of Issuers: 274;  : otc; Secondary Market: otc\" role=\"graphics-symbol\" aria-roledescription=\"bar\" d=\"M18.900000000000002,302.05h16.2v47.94999999999999h-16.2Z\" fill=\"rgb(53, 183, 121)\"></path><path aria-label=\"Number of Issuers: 268;  : ats; Secondary Market: ats\" role=\"graphics-symbol\" aria-roledescription=\"bar\" d=\"M0.9000000000000021,303.1h16.2v46.89999999999998h-16.2Z\" fill=\"rgb(49, 104, 142)\"></path></g></g><path class=\"foreground\" aria-hidden=\"true\" d=\"\" display=\"none\"></path></g><g transform=\"translate(42.5,0)\"><path class=\"background\" aria-hidden=\"true\" d=\"M0.5,0.5h36v350h-36Z\"></path><g><g class=\"mark-rect role-mark child_marks\" role=\"graphics-object\" aria-roledescription=\"rect mark container\"><path aria-label=\"Number of Issuers: 1561;  : otc; Secondary Market: otc\" role=\"graphics-symbol\" aria-roledescription=\"bar\" d=\"M18.900000000000002,76.82500000000002h16.2v273.17499999999995h-16.2Z\" fill=\"rgb(53, 183, 121)\"></path><path aria-label=\"Number of Issuers: 1524;  : ats; Secondary Market: ats\" role=\"graphics-symbol\" aria-roledescription=\"bar\" d=\"M0.9000000000000021,83.3h16.2v266.7h-16.2Z\" fill=\"rgb(49, 104, 142)\"></path></g></g><path class=\"foreground\" aria-hidden=\"true\" d=\"\" display=\"none\"></path></g><g transform=\"translate(85,0)\"><path class=\"background\" aria-hidden=\"true\" d=\"M0.5,0.5h36v350h-36Z\"></path><g><g class=\"mark-rect role-mark child_marks\" role=\"graphics-object\" aria-roledescription=\"rect mark container\"><path aria-label=\"Number of Issuers: 22;  : otc; Secondary Market: otc\" role=\"graphics-symbol\" aria-roledescription=\"bar\" d=\"M18.900000000000002,346.15h16.2v3.8500000000000227h-16.2Z\" fill=\"rgb(53, 183, 121)\"></path><path aria-label=\"Number of Issuers: 22;  : ats; Secondary Market: ats\" role=\"graphics-symbol\" aria-roledescription=\"bar\" d=\"M0.9000000000000021,346.15h16.2v3.8500000000000227h-16.2Z\" fill=\"rgb(49, 104, 142)\"></path></g></g><path class=\"foreground\" aria-hidden=\"true\" d=\"\" display=\"none\"></path></g><g transform=\"translate(127.5,0)\"><path class=\"background\" aria-hidden=\"true\" d=\"M0.5,0.5h36v350h-36Z\"></path><g><g class=\"mark-rect role-mark child_marks\" role=\"graphics-object\" aria-roledescription=\"rect mark container\"><path aria-label=\"Number of Issuers: 40;  : otc; Secondary Market: otc\" role=\"graphics-symbol\" aria-roledescription=\"bar\" d=\"M18.900000000000002,343h16.2v7h-16.2Z\" fill=\"rgb(53, 183, 121)\"></path><path aria-label=\"Number of Issuers: 39;  : ats; Secondary Market: ats\" role=\"graphics-symbol\" aria-roledescription=\"bar\" d=\"M0.9000000000000021,343.175h16.2v6.824999999999989h-16.2Z\" fill=\"rgb(49, 104, 142)\"></path></g></g><path class=\"foreground\" aria-hidden=\"true\" d=\"\" display=\"none\"></path></g><g transform=\"translate(170,0)\"><path class=\"background\" aria-hidden=\"true\" d=\"M0.5,0.5h36v350h-36Z\"></path><g><g class=\"mark-rect role-mark child_marks\" role=\"graphics-object\" aria-roledescription=\"rect mark container\"><path aria-label=\"Number of Issuers: 7;  : otc; Secondary Market: otc\" role=\"graphics-symbol\" aria-roledescription=\"bar\" d=\"M18.900000000000002,348.77500000000003h16.2v1.224999999999966h-16.2Z\" fill=\"rgb(53, 183, 121)\"></path><path aria-label=\"Number of Issuers: 6;  : ats; Secondary Market: ats\" role=\"graphics-symbol\" aria-roledescription=\"bar\" d=\"M0.9000000000000021,348.95h16.2v1.0500000000000114h-16.2Z\" fill=\"rgb(49, 104, 142)\"></path></g></g><path class=\"foreground\" aria-hidden=\"true\" d=\"\" display=\"none\"></path></g><g transform=\"translate(212.5,0)\"><path class=\"background\" aria-hidden=\"true\" d=\"M0.5,0.5h36v350h-36Z\"></path><g><g class=\"mark-rect role-mark child_marks\" role=\"graphics-object\" aria-roledescription=\"rect mark container\"><path aria-label=\"Number of Issuers: 1305;  : otc; Secondary Market: otc\" role=\"graphics-symbol\" aria-roledescription=\"bar\" d=\"M18.900000000000002,121.62500000000001h16.2v228.375h-16.2Z\" fill=\"rgb(53, 183, 121)\"></path><path aria-label=\"Number of Issuers: 1275;  : ats; Secondary Market: ats\" role=\"graphics-symbol\" aria-roledescription=\"bar\" d=\"M0.9000000000000021,126.87500000000001h16.2v223.125h-16.2Z\" fill=\"rgb(49, 104, 142)\"></path></g></g><path class=\"foreground\" aria-hidden=\"true\" d=\"\" display=\"none\"></path></g><g transform=\"translate(255,0)\"><path class=\"background\" aria-hidden=\"true\" d=\"M0.5,0.5h36v350h-36Z\"></path><g><g class=\"mark-rect role-mark child_marks\" role=\"graphics-object\" aria-roledescription=\"rect mark container\"><path aria-label=\"Number of Issuers: 1937;  : otc; Secondary Market: otc\" role=\"graphics-symbol\" aria-roledescription=\"bar\" d=\"M18.900000000000002,11.02499999999999h16.2v338.975h-16.2Z\" fill=\"rgb(53, 183, 121)\"></path><path aria-label=\"Number of Issuers: 1823;  : ats; Secondary Market: ats\" role=\"graphics-symbol\" aria-roledescription=\"bar\" d=\"M0.9000000000000021,30.97500000000001h16.2v319.025h-16.2Z\" fill=\"rgb(49, 104, 142)\"></path></g></g><path class=\"foreground\" aria-hidden=\"true\" d=\"\" display=\"none\"></path></g><g transform=\"translate(297.5,0)\"><path class=\"background\" aria-hidden=\"true\" d=\"M0.5,0.5h36v350h-36Z\"></path><g><g class=\"mark-rect role-mark child_marks\" role=\"graphics-object\" aria-roledescription=\"rect mark container\"><path aria-label=\"Number of Issuers: 777;  : otc; Secondary Market: otc\" role=\"graphics-symbol\" aria-roledescription=\"bar\" d=\"M18.900000000000002,214.02499999999998h16.2v135.97500000000002h-16.2Z\" fill=\"rgb(53, 183, 121)\"></path><path aria-label=\"Number of Issuers: 767;  : ats; Secondary Market: ats\" role=\"graphics-symbol\" aria-roledescription=\"bar\" d=\"M0.9000000000000021,215.775h16.2v134.225h-16.2Z\" fill=\"rgb(49, 104, 142)\"></path></g></g><path class=\"foreground\" aria-hidden=\"true\" d=\"\" display=\"none\"></path></g><g transform=\"translate(340,0)\"><path class=\"background\" aria-hidden=\"true\" d=\"M0.5,0.5h36v350h-36Z\"></path><g><g class=\"mark-rect role-mark child_marks\" role=\"graphics-object\" aria-roledescription=\"rect mark container\"><path aria-label=\"Number of Issuers: 207;  : otc; Secondary Market: otc\" role=\"graphics-symbol\" aria-roledescription=\"bar\" d=\"M18.900000000000002,313.775h16.2v36.22500000000002h-16.2Z\" fill=\"rgb(53, 183, 121)\"></path><path aria-label=\"Number of Issuers: 205;  : ats; Secondary Market: ats\" role=\"graphics-symbol\" aria-roledescription=\"bar\" d=\"M0.9000000000000021,314.125h16.2v35.875h-16.2Z\" fill=\"rgb(49, 104, 142)\"></path></g></g><path class=\"foreground\" aria-hidden=\"true\" d=\"\" display=\"none\"></path></g><g transform=\"translate(382.5,0)\"><path class=\"background\" aria-hidden=\"true\" d=\"M0.5,0.5h36v350h-36Z\"></path><g><g class=\"mark-rect role-mark child_marks\" role=\"graphics-object\" aria-roledescription=\"rect mark container\"><path aria-label=\"Number of Issuers: 52;  : otc; Secondary Market: otc\" role=\"graphics-symbol\" aria-roledescription=\"bar\" d=\"M18.900000000000002,340.9h16.2v9.100000000000023h-16.2Z\" fill=\"rgb(53, 183, 121)\"></path><path aria-label=\"Number of Issuers: 51;  : ats; Secondary Market: ats\" role=\"graphics-symbol\" aria-roledescription=\"bar\" d=\"M0.9000000000000021,341.075h16.2v8.925000000000011h-16.2Z\" fill=\"rgb(49, 104, 142)\"></path></g></g><path class=\"foreground\" aria-hidden=\"true\" d=\"\" display=\"none\"></path></g><g transform=\"translate(425,0)\"><path class=\"background\" aria-hidden=\"true\" d=\"M0.5,0.5h36v350h-36Z\"></path><g><g class=\"mark-rect role-mark child_marks\" role=\"graphics-object\" aria-roledescription=\"rect mark container\"><path aria-label=\"Number of Issuers: 1720;  : otc; Secondary Market: otc\" role=\"graphics-symbol\" aria-roledescription=\"bar\" d=\"M18.900000000000002,49.00000000000001h16.2v301h-16.2Z\" fill=\"rgb(53, 183, 121)\"></path><path aria-label=\"Number of Issuers: 1625;  : ats; Secondary Market: ats\" role=\"graphics-symbol\" aria-roledescription=\"bar\" d=\"M0.9000000000000021,65.625h16.2v284.375h-16.2Z\" fill=\"rgb(49, 104, 142)\"></path></g></g><path class=\"foreground\" aria-hidden=\"true\" d=\"\" display=\"none\"></path></g><g transform=\"translate(467.5,0)\"><path class=\"background\" aria-hidden=\"true\" d=\"M0.5,0.5h36v350h-36Z\"></path><g><g class=\"mark-rect role-mark child_marks\" role=\"graphics-object\" aria-roledescription=\"rect mark container\"><path aria-label=\"Number of Issuers: 1045;  : otc; Secondary Market: otc\" role=\"graphics-symbol\" aria-roledescription=\"bar\" d=\"M18.900000000000002,167.125h16.2v182.875h-16.2Z\" fill=\"rgb(53, 183, 121)\"></path><path aria-label=\"Number of Issuers: 985;  : ats; Secondary Market: ats\" role=\"graphics-symbol\" aria-roledescription=\"bar\" d=\"M0.9000000000000021,177.62500000000003h16.2v172.37499999999997h-16.2Z\" fill=\"rgb(49, 104, 142)\"></path></g></g><path class=\"foreground\" aria-hidden=\"true\" d=\"\" display=\"none\"></path></g><g transform=\"translate(510,0)\"><path class=\"background\" aria-hidden=\"true\" d=\"M0.5,0.5h36v350h-36Z\"></path><g><g class=\"mark-rect role-mark child_marks\" role=\"graphics-object\" aria-roledescription=\"rect mark container\"><path aria-label=\"Number of Issuers: 1736;  : otc; Secondary Market: otc\" role=\"graphics-symbol\" aria-roledescription=\"bar\" d=\"M18.900000000000002,46.2h16.2v303.8h-16.2Z\" fill=\"rgb(53, 183, 121)\"></path><path aria-label=\"Number of Issuers: 1649;  : ats; Secondary Market: ats\" role=\"graphics-symbol\" aria-roledescription=\"bar\" d=\"M0.9000000000000021,61.425h16.2v288.575h-16.2Z\" fill=\"rgb(49, 104, 142)\"></path></g></g><path class=\"foreground\" aria-hidden=\"true\" d=\"\" display=\"none\"></path></g><g transform=\"translate(552.5,0)\"><path class=\"background\" aria-hidden=\"true\" d=\"M0.5,0.5h36v350h-36Z\"></path><g><g class=\"mark-rect role-mark child_marks\" role=\"graphics-object\" aria-roledescription=\"rect mark container\"><path aria-label=\"Number of Issuers: 315;  : otc; Secondary Market: otc\" role=\"graphics-symbol\" aria-roledescription=\"bar\" d=\"M18.900000000000002,294.875h16.2v55.125h-16.2Z\" fill=\"rgb(53, 183, 121)\"></path><path aria-label=\"Number of Issuers: 307;  : ats; Secondary Market: ats\" role=\"graphics-symbol\" aria-roledescription=\"bar\" d=\"M0.9000000000000021,296.27500000000003h16.2v53.724999999999966h-16.2Z\" fill=\"rgb(49, 104, 142)\"></path></g></g><path class=\"foreground\" aria-hidden=\"true\" d=\"\" display=\"none\"></path></g><g transform=\"translate(595,0)\"><path class=\"background\" aria-hidden=\"true\" d=\"M0.5,0.5h36v350h-36Z\"></path><g><g class=\"mark-rect role-mark child_marks\" role=\"graphics-object\" aria-roledescription=\"rect mark container\"><path aria-label=\"Number of Issuers: 1723;  : otc; Secondary Market: otc\" role=\"graphics-symbol\" aria-roledescription=\"bar\" d=\"M18.900000000000002,48.47499999999999h16.2v301.52500000000003h-16.2Z\" fill=\"rgb(53, 183, 121)\"></path><path aria-label=\"Number of Issuers: 1636;  : ats; Secondary Market: ats\" role=\"graphics-symbol\" aria-roledescription=\"bar\" d=\"M0.9000000000000021,63.70000000000002h16.2v286.29999999999995h-16.2Z\" fill=\"rgb(49, 104, 142)\"></path></g></g><path class=\"foreground\" aria-hidden=\"true\" d=\"\" display=\"none\"></path></g></g><g class=\"mark-group role-legend\" role=\"graphics-symbol\" aria-roledescription=\"legend\" aria-label=\"Symbol legend titled 'Secondary Market' for fill color with 2 values: ats, otc\"><g transform=\"translate(650,0)\"><path class=\"background\" aria-hidden=\"true\" d=\"M0,0h111v40h-111Z\" pointer-events=\"none\"></path><g><g class=\"mark-group role-legend-entry\"><g transform=\"translate(0,16)\"><path class=\"background\" aria-hidden=\"true\" d=\"M0,0h0v0h0Z\" pointer-events=\"none\"></path><g><g class=\"mark-group role-scope\" role=\"graphics-object\" aria-roledescription=\"group mark container\"><g transform=\"translate(0,0)\"><path class=\"background\" aria-hidden=\"true\" d=\"M0,0h32v11h-32Z\" pointer-events=\"none\" opacity=\"1\"></path><g><g class=\"mark-symbol role-legend-symbol\" pointer-events=\"none\"><path transform=\"translate(6,6)\" d=\"M-5,-5h10v10h-10Z\" fill=\"rgb(49, 104, 142)\" stroke-width=\"1.5\" opacity=\"1\"></path></g><g class=\"mark-text role-legend-label\" pointer-events=\"none\"><text text-anchor=\"start\" transform=\"translate(16,9)\" font-family=\"sans-serif\" font-size=\"10px\" fill=\"#000\" opacity=\"1\">ats</text></g></g><path class=\"foreground\" aria-hidden=\"true\" d=\"\" pointer-events=\"none\" display=\"none\"></path></g><g transform=\"translate(0,13)\"><path class=\"background\" aria-hidden=\"true\" d=\"M0,0h32v11h-32Z\" pointer-events=\"none\" opacity=\"1\"></path><g><g class=\"mark-symbol role-legend-symbol\" pointer-events=\"none\"><path transform=\"translate(6,6)\" d=\"M-5,-5h10v10h-10Z\" fill=\"rgb(53, 183, 121)\" stroke-width=\"1.5\" opacity=\"1\"></path></g><g class=\"mark-text role-legend-label\" pointer-events=\"none\"><text text-anchor=\"start\" transform=\"translate(16,9)\" font-family=\"sans-serif\" font-size=\"10px\" fill=\"#000\" opacity=\"1\">otc</text></g></g><path class=\"foreground\" aria-hidden=\"true\" d=\"\" pointer-events=\"none\" display=\"none\"></path></g></g></g><path class=\"foreground\" aria-hidden=\"true\" d=\"\" pointer-events=\"none\" display=\"none\"></path></g></g><g class=\"mark-text role-legend-title\" pointer-events=\"none\"><text text-anchor=\"start\" transform=\"translate(0,9)\" font-family=\"sans-serif\" font-size=\"11px\" font-weight=\"bold\" fill=\"#000\" opacity=\"1\">Secondary Market</text></g></g><path class=\"foreground\" aria-hidden=\"true\" d=\"\" pointer-events=\"none\" display=\"none\"></path></g></g><g class=\"mark-group role-title\"><g transform=\"translate(355.5,-86)\"><path class=\"background\" aria-hidden=\"true\" d=\"M0,0h0v0h0Z\" pointer-events=\"none\"></path><g><g class=\"mark-text role-title-text\" role=\"graphics-symbol\" aria-roledescription=\"title\" aria-label=\"Title text 'Number of Issuers of Non-MTN-Bonds Traded per Covenant Category - 2019Q2'\" pointer-events=\"none\"><text text-anchor=\"middle\" transform=\"translate(0,11)\" font-family=\"sans-serif\" font-size=\"14px\" font-weight=\"bold\" fill=\"#000\" opacity=\"1\">Number of Issuers of Non-MTN-Bonds Traded per Covenant Category - 2019Q2</text></g></g><path class=\"foreground\" aria-hidden=\"true\" d=\"\" pointer-events=\"none\" display=\"none\"></path></g></g></g><path class=\"foreground\" aria-hidden=\"true\" d=\"\" display=\"none\"></path></g></g></g></svg>\n"
      ],
      "text/plain": [
       "@vlplot(\n",
       "    config={\n",
       "        view={\n",
       "            stroke=\"transparent\"\n",
       "        },\n",
       "        axis={\n",
       "            domainWidth=3\n",
       "        },\n",
       "        opacity={\n",
       "            value=0.7\n",
       "        }\n",
       "    },\n",
       "    title={\n",
       "        text=[\n",
       "            \"Number of Issuers of Non-MTN-Bonds Traded per Covenant Category - 2019Q2\"\n",
       "        ],\n",
       "        align=\"center\",\n",
       "        anchor=\"middle\",\n",
       "        fontSize=14,\n",
       "        offset=20\n",
       "    },\n",
       "    spacing=4.5,\n",
       "    width={\n",
       "        step=18\n",
       "    },\n",
       "    height=350,\n",
       "    mark=\"bar\",\n",
       "    encoding={\n",
       "        column={\n",
       "            type=\"ordinal\",\n",
       "            title=\"Covenant Category\",\n",
       "            sort=\"ascending\",\n",
       "            field=\"cov_cat\"\n",
       "        },\n",
       "        y={\n",
       "            axis={\n",
       "                title=\"Number of Issuers\",\n",
       "                grid=false,\n",
       "                stack=nothing\n",
       "            },\n",
       "            field=\"value\"\n",
       "        },\n",
       "        x={\n",
       "            type=\"nominal\",\n",
       "            axis={\n",
       "                title=\" \"\n",
       "            },\n",
       "            field=\"sbm\"\n",
       "        },\n",
       "        color={\n",
       "            legend={\n",
       "                title=\"Secondary Market\"\n",
       "            },\n",
       "            scale={\n",
       "                scheme=\"viridis\"\n",
       "            },\n",
       "            field=\"sbm\",\n",
       "            type=\"nominal\"\n",
       "        }\n",
       "    },\n",
       "    data={\n",
       "        values=...\n",
       "    }\n",
       ")"
      ]
     },
     "execution_count": 10,
     "metadata": {},
     "output_type": "execute_result"
    }
   ],
   "source": [
    "scripts_path = string(main_path, \"/data-scripts/plots\")\n",
    "plt_dir = \"plots\"\n",
    "\n",
    "color_scale=\"viridis\"\n",
    "cal_formula=\"\"\n",
    "cal_var=\"\"\n",
    "col_var=\"cov_cat\"\n",
    "col_var_type=\"ordinal\"\n",
    "col_title=\"Covenant Category\"\n",
    "col_sort=\"ascending\"\n",
    "x_var=\"sbm:n\"\n",
    "x_var_type=\"nominal\"\n",
    "x_axis_title=\" \"\n",
    "width_step=18\n",
    "legend_title=\"Secondary Market\"\n",
    "spacing=4.5\n",
    "height=350\n",
    "save_plt= false\n",
    "plt_type = \"cov_cat\"\n",
    "file_ext=\"png\"\n",
    "# }}}\n",
    "pl = [ ]\n",
    "\n",
    "# Issuers per Covenant Category {{{1\n",
    "stats_var=:issuers\n",
    "tt = PlotMod.prepare_cat_plot(scc; stat=stats_var)\n",
    "\n",
    "## Issuer Count\n",
    "y_var=\"value\"\n",
    "y_axis_title=\"Number of Issuers\"\n",
    "title=[string(\"Number of Issuers of Non-MTN-Bonds Traded per Covenant Category\")]\n",
    "if :period in Symbol.(names(tt))\n",
    "    title[end] = string(title[end], \" - \", tt[1, :period])\n",
    "end\n",
    "\n",
    "include(string(scripts_path, \"/\", \"single_vega_plt_script.jl\"))"
   ]
  },
  {
   "cell_type": "code",
   "execution_count": null,
   "metadata": {},
   "outputs": [],
   "source": []
  },
  {
   "cell_type": "code",
   "execution_count": null,
   "metadata": {},
   "outputs": [],
   "source": []
  },
  {
   "cell_type": "code",
   "execution_count": null,
   "metadata": {},
   "outputs": [],
   "source": []
  },
  {
   "cell_type": "code",
   "execution_count": 53,
   "metadata": {},
   "outputs": [],
   "source": [
    "using VegaLite"
   ]
  },
  {
   "cell_type": "code",
   "execution_count": null,
   "metadata": {},
   "outputs": [],
   "source": []
  },
  {
   "cell_type": "code",
   "execution_count": 44,
   "metadata": {},
   "outputs": [
    {
     "data": {
      "text/plain": [
       "0.7"
      ]
     },
     "execution_count": 44,
     "metadata": {},
     "output_type": "execute_result"
    }
   ],
   "source": [
    "domainWidth=3\n",
    "opacity=.7"
   ]
  },
  {
   "cell_type": "code",
   "execution_count": 54,
   "metadata": {},
   "outputs": [
    {
     "data": {
      "application/vnd.vegalite.v3+json": {
       "config": {
        "axis": {
         "domainWidth": 3
        },
        "opacity": {
         "value": 0.7
        },
        "view": {
         "stroke": "transparent"
        }
       },
       "data": {
        "values": [
         {
          "cov_cat": 1,
          "cvt": "any",
          "perc_sbm_total": 13.618290258449303,
          "perc_total": 13.618290258449303,
          "period": "2019Q2",
          "rt": "any",
          "sbm": "otc",
          "value": 274,
          "variable": "cg1_issuers"
         },
         {
          "cov_cat": 1,
          "cvt": "any",
          "perc_sbm_total": 14.240170031880977,
          "perc_total": 13.320079522862823,
          "period": "2019Q2",
          "rt": "any",
          "sbm": "ats",
          "value": 268,
          "variable": "cg1_issuers"
         },
         {
          "cov_cat": 2,
          "cvt": "any",
          "perc_sbm_total": 77.5844930417495,
          "perc_total": 77.5844930417495,
          "period": "2019Q2",
          "rt": "any",
          "sbm": "otc",
          "value": 1561,
          "variable": "cg2_issuers"
         },
         {
          "cov_cat": 2,
          "cvt": "any",
          "perc_sbm_total": 80.97768331562168,
          "perc_total": 75.7455268389662,
          "period": "2019Q2",
          "rt": "any",
          "sbm": "ats",
          "value": 1524,
          "variable": "cg2_issuers"
         },
         {
          "cov_cat": 3,
          "cvt": "any",
          "perc_sbm_total": 1.0934393638170974,
          "perc_total": 1.0934393638170974,
          "period": "2019Q2",
          "rt": "any",
          "sbm": "otc",
          "value": 22,
          "variable": "cg3_issuers"
         },
         {
          "cov_cat": 3,
          "cvt": "any",
          "perc_sbm_total": 1.1689691817215728,
          "perc_total": 1.0934393638170974,
          "period": "2019Q2",
          "rt": "any",
          "sbm": "ats",
          "value": 22,
          "variable": "cg3_issuers"
         },
         {
          "cov_cat": 4,
          "cvt": "any",
          "perc_sbm_total": 1.9880715705765408,
          "perc_total": 1.9880715705765408,
          "period": "2019Q2",
          "rt": "any",
          "sbm": "otc",
          "value": 40,
          "variable": "cg4_issuers"
         },
         {
          "cov_cat": 4,
          "cvt": "any",
          "perc_sbm_total": 2.0722635494155153,
          "perc_total": 1.9383697813121274,
          "period": "2019Q2",
          "rt": "any",
          "sbm": "ats",
          "value": 39,
          "variable": "cg4_issuers"
         },
         {
          "cov_cat": 5,
          "cvt": "any",
          "perc_sbm_total": 0.34791252485089463,
          "perc_total": 0.34791252485089463,
          "period": "2019Q2",
          "rt": "any",
          "sbm": "otc",
          "value": 7,
          "variable": "cg5_issuers"
         },
         {
          "cov_cat": 5,
          "cvt": "any",
          "perc_sbm_total": 0.3188097768331562,
          "perc_total": 0.2982107355864811,
          "period": "2019Q2",
          "rt": "any",
          "sbm": "ats",
          "value": 6,
          "variable": "cg5_issuers"
         },
         {
          "cov_cat": 6,
          "cvt": "any",
          "perc_sbm_total": 64.86083499005964,
          "perc_total": 64.86083499005964,
          "period": "2019Q2",
          "rt": "any",
          "sbm": "otc",
          "value": 1305,
          "variable": "cg6_issuers"
         },
         {
          "cov_cat": 6,
          "cvt": "any",
          "perc_sbm_total": 67.7470775770457,
          "perc_total": 63.36978131212724,
          "period": "2019Q2",
          "rt": "any",
          "sbm": "ats",
          "value": 1275,
          "variable": "cg6_issuers"
         },
         {
          "cov_cat": 7,
          "cvt": "any",
          "perc_sbm_total": 96.27236580516899,
          "perc_total": 96.27236580516899,
          "period": "2019Q2",
          "rt": "any",
          "sbm": "otc",
          "value": 1937,
          "variable": "cg7_issuers"
         },
         {
          "cov_cat": 7,
          "cvt": "any",
          "perc_sbm_total": 96.86503719447397,
          "perc_total": 90.60636182902584,
          "period": "2019Q2",
          "rt": "any",
          "sbm": "ats",
          "value": 1823,
          "variable": "cg7_issuers"
         },
         {
          "cov_cat": 8,
          "cvt": "any",
          "perc_sbm_total": 38.618290258449306,
          "perc_total": 38.618290258449306,
          "period": "2019Q2",
          "rt": "any",
          "sbm": "otc",
          "value": 777,
          "variable": "cg8_issuers"
         },
         {
          "cov_cat": 8,
          "cvt": "any",
          "perc_sbm_total": 40.75451647183847,
          "perc_total": 38.12127236580517,
          "period": "2019Q2",
          "rt": "any",
          "sbm": "ats",
          "value": 767,
          "variable": "cg8_issuers"
         },
         {
          "cov_cat": 9,
          "cvt": "any",
          "perc_sbm_total": 10.288270377733598,
          "perc_total": 10.288270377733598,
          "period": "2019Q2",
          "rt": "any",
          "sbm": "otc",
          "value": 207,
          "variable": "cg9_issuers"
         },
         {
          "cov_cat": 9,
          "cvt": "any",
          "perc_sbm_total": 10.892667375132838,
          "perc_total": 10.18886679920477,
          "period": "2019Q2",
          "rt": "any",
          "sbm": "ats",
          "value": 205,
          "variable": "cg9_issuers"
         },
         {
          "cov_cat": 10,
          "cvt": "any",
          "perc_sbm_total": 2.584493041749503,
          "perc_total": 2.584493041749503,
          "period": "2019Q2",
          "rt": "any",
          "sbm": "otc",
          "value": 52,
          "variable": "cg10_issuers"
         },
         {
          "cov_cat": 10,
          "cvt": "any",
          "perc_sbm_total": 2.709883103081828,
          "perc_total": 2.5347912524850895,
          "period": "2019Q2",
          "rt": "any",
          "sbm": "ats",
          "value": 51,
          "variable": "cg10_issuers"
         },
         {
          "cov_cat": 11,
          "cvt": "any",
          "perc_sbm_total": 85.48707753479125,
          "perc_total": 85.48707753479125,
          "period": "2019Q2",
          "rt": "any",
          "sbm": "otc",
          "value": 1720,
          "variable": "cg11_issuers"
         },
         {
          "cov_cat": 11,
          "cvt": "any",
          "perc_sbm_total": 86.3443145589798,
          "perc_total": 80.76540755467197,
          "period": "2019Q2",
          "rt": "any",
          "sbm": "ats",
          "value": 1625,
          "variable": "cg11_issuers"
         },
         {
          "cov_cat": 12,
          "cvt": "any",
          "perc_sbm_total": 51.93836978131213,
          "perc_total": 51.93836978131213,
          "period": "2019Q2",
          "rt": "any",
          "sbm": "otc",
          "value": 1045,
          "variable": "cg12_issuers"
         },
         {
          "cov_cat": 12,
          "cvt": "any",
          "perc_sbm_total": 52.33793836344315,
          "perc_total": 48.95626242544731,
          "period": "2019Q2",
          "rt": "any",
          "sbm": "ats",
          "value": 985,
          "variable": "cg12_issuers"
         },
         {
          "cov_cat": 13,
          "cvt": "any",
          "perc_sbm_total": 86.28230616302187,
          "perc_total": 86.28230616302187,
          "period": "2019Q2",
          "rt": "any",
          "sbm": "otc",
          "value": 1736,
          "variable": "cg13_issuers"
         },
         {
          "cov_cat": 13,
          "cvt": "any",
          "perc_sbm_total": 87.61955366631243,
          "perc_total": 81.95825049701789,
          "period": "2019Q2",
          "rt": "any",
          "sbm": "ats",
          "value": 1649,
          "variable": "cg13_issuers"
         },
         {
          "cov_cat": 14,
          "cvt": "any",
          "perc_sbm_total": 15.656063618290258,
          "perc_total": 15.656063618290258,
          "period": "2019Q2",
          "rt": "any",
          "sbm": "otc",
          "value": 315,
          "variable": "cg14_issuers"
         },
         {
          "cov_cat": 14,
          "cvt": "any",
          "perc_sbm_total": 16.312433581296492,
          "perc_total": 15.25844930417495,
          "period": "2019Q2",
          "rt": "any",
          "sbm": "ats",
          "value": 307,
          "variable": "cg14_issuers"
         },
         {
          "cov_cat": 15,
          "cvt": "any",
          "perc_sbm_total": 85.6361829025845,
          "perc_total": 85.6361829025845,
          "period": "2019Q2",
          "rt": "any",
          "sbm": "otc",
          "value": 1723,
          "variable": "cg15_issuers"
         },
         {
          "cov_cat": 15,
          "cvt": "any",
          "perc_sbm_total": 86.9287991498406,
          "perc_total": 81.31212723658051,
          "period": "2019Q2",
          "rt": "any",
          "sbm": "ats",
          "value": 1636,
          "variable": "cg15_issuers"
         }
        ]
       },
       "encoding": {
        "color": {
         "field": "sbm",
         "legend": {
          "title": "Secondary Market"
         },
         "scale": {
          "scheme": "viridis"
         },
         "type": "nominal"
        },
        "column": {
         "field": "cov_cat",
         "sort": "ascending",
         "title": "Covenant Category",
         "type": "ordinal"
        },
        "row": {
         "field": "sum_num_cov",
         "header": {
          "title": "Number of Covenant Categories per Bond"
         },
         "type": "ordinal"
        },
        "x": {
         "axis": {
          "title": " "
         },
         "field": "sbm",
         "type": "nominal"
        },
        "y": {
         "axis": {
          "grid": false,
          "stack": null,
          "title": "Number of Issuers"
         },
         "field": "value",
         "type": "quantitative"
        }
       },
       "height": 400,
       "mark": "bar",
       "width": {
        "step": 18
       }
      },
      "image/png": "[encoded data removed]",
      "image/svg+xml": [
       "<svg class=\"marks\" width=\"554\" height=\"501\" viewBox=\"0 0 554 501\" version=\"1.1\" xmlns=\"http://www.w3.org/2000/svg\" xmlns:xlink=\"http://www.w3.org/1999/xlink\"><g transform=\"translate(107,57)\"><g class=\"mark-group role-frame root\"><g transform=\"translate(0,0)\"><path class=\"background\" d=\"M0,0h0v0h0Z\" style=\"fill: none;\"></path><g><g class=\"mark-group role-row-title row-title\"><g transform=\"translate(-80,200)\"><path class=\"background\" d=\"M0,0h0v0h0Z\" style=\"fill: none;\"></path><g><g class=\"mark-group role-title\"><g transform=\"translate(-21.000000000000014,0)\"><path class=\"background\" d=\"M0,0h0v0h0Z\" style=\"pointer-events: none; fill: none;\"></path><g><g class=\"mark-text role-title-text\" style=\"pointer-events: none;\"><text text-anchor=\"middle\" transform=\"translate(0,0) rotate(-90) translate(0,9)\" style=\"font-family: sans-serif; font-size: 11px; font-weight: bold; fill: #000; opacity: 1;\">Number of Covenant Categories per Bond</text></g></g></g></g></g></g></g><g class=\"mark-group role-column-title column-title\"><g transform=\"translate(154,-31)\"><path class=\"background\" d=\"M0,0h0v0h0Z\" style=\"fill: none;\"></path><g><g class=\"mark-group role-title\"><g transform=\"translate(0,-21)\"><path class=\"background\" d=\"M0,0h0v0h0Z\" style=\"pointer-events: none; fill: none;\"></path><g><g class=\"mark-text role-title-text\" style=\"pointer-events: none;\"><text text-anchor=\"middle\" transform=\"translate(0,9)\" style=\"font-family: sans-serif; font-size: 11px; font-weight: bold; fill: #000; opacity: 1;\">Covenant Category</text></g></g></g></g></g></g></g><g class=\"mark-group role-row-header row_header\"><g transform=\"translate(-1,0)\"><path class=\"background\" d=\"M0,0h0v400h0Z\" style=\"fill: none;\"></path><g><g class=\"mark-group role-title\"><g transform=\"translate(-69,200)\"><path class=\"background\" d=\"M0,0h0v0h0Z\" style=\"pointer-events: none; fill: none;\"></path><g><g class=\"mark-text role-title-text\" style=\"pointer-events: none;\"><text text-anchor=\"middle\" transform=\"translate(0,0) rotate(-90) translate(0,8)\" style=\"font-family: sans-serif; font-size: 10px; fill: #000; opacity: 1;\">undefined</text></g></g></g></g><g class=\"mark-group role-axis\"><g transform=\"translate(0.5,0.5)\"><path class=\"background\" d=\"M0,0h0v0h0Z\" style=\"pointer-events: none; fill: none;\"></path><g><g class=\"mark-rule role-axis-tick\" style=\"pointer-events: none;\"><line transform=\"translate(0,400)\" x2=\"-5\" y2=\"0\" style=\"fill: none; stroke: #888; stroke-width: 1; opacity: 1;\"></line><line transform=\"translate(0,360)\" x2=\"-5\" y2=\"0\" style=\"fill: none; stroke: #888; stroke-width: 1; opacity: 1;\"></line><line transform=\"translate(0,320)\" x2=\"-5\" y2=\"0\" style=\"fill: none; stroke: #888; stroke-width: 1; opacity: 1;\"></line><line transform=\"translate(0,280)\" x2=\"-5\" y2=\"0\" style=\"fill: none; stroke: #888; stroke-width: 1; opacity: 1;\"></line><line transform=\"translate(0,240)\" x2=\"-5\" y2=\"0\" style=\"fill: none; stroke: #888; stroke-width: 1; opacity: 1;\"></line><line transform=\"translate(0,200)\" x2=\"-5\" y2=\"0\" style=\"fill: none; stroke: #888; stroke-width: 1; opacity: 1;\"></line><line transform=\"translate(0,160)\" x2=\"-5\" y2=\"0\" style=\"fill: none; stroke: #888; stroke-width: 1; opacity: 1;\"></line><line transform=\"translate(0,120)\" x2=\"-5\" y2=\"0\" style=\"fill: none; stroke: #888; stroke-width: 1; opacity: 1;\"></line><line transform=\"translate(0,80)\" x2=\"-5\" y2=\"0\" style=\"fill: none; stroke: #888; stroke-width: 1; opacity: 1;\"></line><line transform=\"translate(0,40)\" x2=\"-5\" y2=\"0\" style=\"fill: none; stroke: #888; stroke-width: 1; opacity: 1;\"></line><line transform=\"translate(0,0)\" x2=\"-5\" y2=\"0\" style=\"fill: none; stroke: #888; stroke-width: 1; opacity: 1;\"></line></g><g class=\"mark-text role-axis-label\" style=\"pointer-events: none;\"><text text-anchor=\"end\" transform=\"translate(-7,403)\" style=\"font-family: sans-serif; font-size: 10px; fill: #000; opacity: 1;\">0</text><text text-anchor=\"end\" transform=\"translate(-7,363)\" style=\"font-family: sans-serif; font-size: 10px; fill: #000; opacity: 1;\">200</text><text text-anchor=\"end\" transform=\"translate(-7,323)\" style=\"font-family: sans-serif; font-size: 10px; fill: #000; opacity: 1;\">400</text><text text-anchor=\"end\" transform=\"translate(-7,283)\" style=\"font-family: sans-serif; font-size: 10px; fill: #000; opacity: 1;\">600</text><text text-anchor=\"end\" transform=\"translate(-7,243)\" style=\"font-family: sans-serif; font-size: 10px; fill: #000; opacity: 1;\">800</text><text text-anchor=\"end\" transform=\"translate(-7,203)\" style=\"font-family: sans-serif; font-size: 10px; fill: #000; opacity: 1;\">1,000</text><text text-anchor=\"end\" transform=\"translate(-7,163)\" style=\"font-family: sans-serif; font-size: 10px; fill: #000; opacity: 1;\">1,200</text><text text-anchor=\"end\" transform=\"translate(-7,123.00000000000001)\" style=\"font-family: sans-serif; font-size: 10px; fill: #000; opacity: 1;\">1,400</text><text text-anchor=\"end\" transform=\"translate(-7,82.99999999999999)\" style=\"font-family: sans-serif; font-size: 10px; fill: #000; opacity: 1;\">1,600</text><text text-anchor=\"end\" transform=\"translate(-7,42.99999999999999)\" style=\"font-family: sans-serif; font-size: 10px; fill: #000; opacity: 1;\">1,800</text><text text-anchor=\"end\" transform=\"translate(-7,3)\" style=\"font-family: sans-serif; font-size: 10px; fill: #000; opacity: 1;\">2,000</text></g><g class=\"mark-rule role-axis-domain\" style=\"pointer-events: none;\"><line transform=\"translate(0,400)\" x2=\"0\" y2=\"-400\" style=\"fill: none; stroke: #888; stroke-width: 3; opacity: 1;\"></line></g><g class=\"mark-text role-axis-title\" style=\"pointer-events: none;\"><text text-anchor=\"middle\" transform=\"translate(-38,200) rotate(-90) translate(0,-2)\" style=\"font-family: sans-serif; font-size: 11px; font-weight: bold; fill: #000; opacity: 1;\">Number of Issuers</text></g></g></g></g></g></g></g><g class=\"mark-group role-column-header column_header\"><g transform=\"translate(0,-1)\"><path class=\"background\" d=\"MNaN,0LNaN,0CNaN,0,NaN,NaN,NaN,NaNLNaN,NaNCNaN,NaN,NaN,0,NaN,0LNaN,0CNaN,0,0,NaN,0,NaNL0,NaNC0,NaN,NaN,0,NaN,0Z\" style=\"fill: none;\"></path><g><g class=\"mark-group role-title\"><g transform=\"translate(0,-20)\"><path class=\"background\" d=\"M0,0h0v0h0Z\" style=\"pointer-events: none; fill: none;\"></path><g><g class=\"mark-text role-title-text\" style=\"pointer-events: none;\"><text text-anchor=\"middle\" transform=\"translate(0,8)\" style=\"font-family: sans-serif; font-size: 10px; fill: #000; opacity: 1;\">1</text></g></g></g></g></g></g><g transform=\"translate(22,-1)\"><path class=\"background\" d=\"MNaN,0LNaN,0CNaN,0,NaN,NaN,NaN,NaNLNaN,NaNCNaN,NaN,NaN,0,NaN,0LNaN,0CNaN,0,0,NaN,0,NaNL0,NaNC0,NaN,NaN,0,NaN,0Z\" style=\"fill: none;\"></path><g><g class=\"mark-group role-title\"><g transform=\"translate(0,-20)\"><path class=\"background\" d=\"M0,0h0v0h0Z\" style=\"pointer-events: none; fill: none;\"></path><g><g class=\"mark-text role-title-text\" style=\"pointer-events: none;\"><text text-anchor=\"middle\" transform=\"translate(0,8)\" style=\"font-family: sans-serif; font-size: 10px; fill: #000; opacity: 1;\">2</text></g></g></g></g></g></g><g transform=\"translate(44,-1)\"><path class=\"background\" d=\"MNaN,0LNaN,0CNaN,0,NaN,NaN,NaN,NaNLNaN,NaNCNaN,NaN,NaN,0,NaN,0LNaN,0CNaN,0,0,NaN,0,NaNL0,NaNC0,NaN,NaN,0,NaN,0Z\" style=\"fill: none;\"></path><g><g class=\"mark-group role-title\"><g transform=\"translate(0,-20)\"><path class=\"background\" d=\"M0,0h0v0h0Z\" style=\"pointer-events: none; fill: none;\"></path><g><g class=\"mark-text role-title-text\" style=\"pointer-events: none;\"><text text-anchor=\"middle\" transform=\"translate(0,8)\" style=\"font-family: sans-serif; font-size: 10px; fill: #000; opacity: 1;\">3</text></g></g></g></g></g></g><g transform=\"translate(66,-1)\"><path class=\"background\" d=\"MNaN,0LNaN,0CNaN,0,NaN,NaN,NaN,NaNLNaN,NaNCNaN,NaN,NaN,0,NaN,0LNaN,0CNaN,0,0,NaN,0,NaNL0,NaNC0,NaN,NaN,0,NaN,0Z\" style=\"fill: none;\"></path><g><g class=\"mark-group role-title\"><g transform=\"translate(0,-20)\"><path class=\"background\" d=\"M0,0h0v0h0Z\" style=\"pointer-events: none; fill: none;\"></path><g><g class=\"mark-text role-title-text\" style=\"pointer-events: none;\"><text text-anchor=\"middle\" transform=\"translate(0,8)\" style=\"font-family: sans-serif; font-size: 10px; fill: #000; opacity: 1;\">4</text></g></g></g></g></g></g><g transform=\"translate(88,-1)\"><path class=\"background\" d=\"MNaN,0LNaN,0CNaN,0,NaN,NaN,NaN,NaNLNaN,NaNCNaN,NaN,NaN,0,NaN,0LNaN,0CNaN,0,0,NaN,0,NaNL0,NaNC0,NaN,NaN,0,NaN,0Z\" style=\"fill: none;\"></path><g><g class=\"mark-group role-title\"><g transform=\"translate(0,-20)\"><path class=\"background\" d=\"M0,0h0v0h0Z\" style=\"pointer-events: none; fill: none;\"></path><g><g class=\"mark-text role-title-text\" style=\"pointer-events: none;\"><text text-anchor=\"middle\" transform=\"translate(0,8)\" style=\"font-family: sans-serif; font-size: 10px; fill: #000; opacity: 1;\">5</text></g></g></g></g></g></g><g transform=\"translate(110,-1)\"><path class=\"background\" d=\"MNaN,0LNaN,0CNaN,0,NaN,NaN,NaN,NaNLNaN,NaNCNaN,NaN,NaN,0,NaN,0LNaN,0CNaN,0,0,NaN,0,NaNL0,NaNC0,NaN,NaN,0,NaN,0Z\" style=\"fill: none;\"></path><g><g class=\"mark-group role-title\"><g transform=\"translate(0,-20)\"><path class=\"background\" d=\"M0,0h0v0h0Z\" style=\"pointer-events: none; fill: none;\"></path><g><g class=\"mark-text role-title-text\" style=\"pointer-events: none;\"><text text-anchor=\"middle\" transform=\"translate(0,8)\" style=\"font-family: sans-serif; font-size: 10px; fill: #000; opacity: 1;\">6</text></g></g></g></g></g></g><g transform=\"translate(132,-1)\"><path class=\"background\" d=\"MNaN,0LNaN,0CNaN,0,NaN,NaN,NaN,NaNLNaN,NaNCNaN,NaN,NaN,0,NaN,0LNaN,0CNaN,0,0,NaN,0,NaNL0,NaNC0,NaN,NaN,0,NaN,0Z\" style=\"fill: none;\"></path><g><g class=\"mark-group role-title\"><g transform=\"translate(0,-20)\"><path class=\"background\" d=\"M0,0h0v0h0Z\" style=\"pointer-events: none; fill: none;\"></path><g><g class=\"mark-text role-title-text\" style=\"pointer-events: none;\"><text text-anchor=\"middle\" transform=\"translate(0,8)\" style=\"font-family: sans-serif; font-size: 10px; fill: #000; opacity: 1;\">7</text></g></g></g></g></g></g><g transform=\"translate(154,-1)\"><path class=\"background\" d=\"MNaN,0LNaN,0CNaN,0,NaN,NaN,NaN,NaNLNaN,NaNCNaN,NaN,NaN,0,NaN,0LNaN,0CNaN,0,0,NaN,0,NaNL0,NaNC0,NaN,NaN,0,NaN,0Z\" style=\"fill: none;\"></path><g><g class=\"mark-group role-title\"><g transform=\"translate(0,-20)\"><path class=\"background\" d=\"M0,0h0v0h0Z\" style=\"pointer-events: none; fill: none;\"></path><g><g class=\"mark-text role-title-text\" style=\"pointer-events: none;\"><text text-anchor=\"middle\" transform=\"translate(0,8)\" style=\"font-family: sans-serif; font-size: 10px; fill: #000; opacity: 1;\">8</text></g></g></g></g></g></g><g transform=\"translate(176,-1)\"><path class=\"background\" d=\"MNaN,0LNaN,0CNaN,0,NaN,NaN,NaN,NaNLNaN,NaNCNaN,NaN,NaN,0,NaN,0LNaN,0CNaN,0,0,NaN,0,NaNL0,NaNC0,NaN,NaN,0,NaN,0Z\" style=\"fill: none;\"></path><g><g class=\"mark-group role-title\"><g transform=\"translate(0,-20)\"><path class=\"background\" d=\"M0,0h0v0h0Z\" style=\"pointer-events: none; fill: none;\"></path><g><g class=\"mark-text role-title-text\" style=\"pointer-events: none;\"><text text-anchor=\"middle\" transform=\"translate(0,8)\" style=\"font-family: sans-serif; font-size: 10px; fill: #000; opacity: 1;\">9</text></g></g></g></g></g></g><g transform=\"translate(198,-1)\"><path class=\"background\" d=\"MNaN,0LNaN,0CNaN,0,NaN,NaN,NaN,NaNLNaN,NaNCNaN,NaN,NaN,0,NaN,0LNaN,0CNaN,0,0,NaN,0,NaNL0,NaNC0,NaN,NaN,0,NaN,0Z\" style=\"fill: none;\"></path><g><g class=\"mark-group role-title\"><g transform=\"translate(0,-20)\"><path class=\"background\" d=\"M0,0h0v0h0Z\" style=\"pointer-events: none; fill: none;\"></path><g><g class=\"mark-text role-title-text\" style=\"pointer-events: none;\"><text text-anchor=\"middle\" transform=\"translate(0,8)\" style=\"font-family: sans-serif; font-size: 10px; fill: #000; opacity: 1;\">10</text></g></g></g></g></g></g><g transform=\"translate(220,-1)\"><path class=\"background\" d=\"MNaN,0LNaN,0CNaN,0,NaN,NaN,NaN,NaNLNaN,NaNCNaN,NaN,NaN,0,NaN,0LNaN,0CNaN,0,0,NaN,0,NaNL0,NaNC0,NaN,NaN,0,NaN,0Z\" style=\"fill: none;\"></path><g><g class=\"mark-group role-title\"><g transform=\"translate(0,-20)\"><path class=\"background\" d=\"M0,0h0v0h0Z\" style=\"pointer-events: none; fill: none;\"></path><g><g class=\"mark-text role-title-text\" style=\"pointer-events: none;\"><text text-anchor=\"middle\" transform=\"translate(0,8)\" style=\"font-family: sans-serif; font-size: 10px; fill: #000; opacity: 1;\">11</text></g></g></g></g></g></g><g transform=\"translate(242,-1)\"><path class=\"background\" d=\"MNaN,0LNaN,0CNaN,0,NaN,NaN,NaN,NaNLNaN,NaNCNaN,NaN,NaN,0,NaN,0LNaN,0CNaN,0,0,NaN,0,NaNL0,NaNC0,NaN,NaN,0,NaN,0Z\" style=\"fill: none;\"></path><g><g class=\"mark-group role-title\"><g transform=\"translate(0,-20)\"><path class=\"background\" d=\"M0,0h0v0h0Z\" style=\"pointer-events: none; fill: none;\"></path><g><g class=\"mark-text role-title-text\" style=\"pointer-events: none;\"><text text-anchor=\"middle\" transform=\"translate(0,8)\" style=\"font-family: sans-serif; font-size: 10px; fill: #000; opacity: 1;\">12</text></g></g></g></g></g></g><g transform=\"translate(264,-1)\"><path class=\"background\" d=\"MNaN,0LNaN,0CNaN,0,NaN,NaN,NaN,NaNLNaN,NaNCNaN,NaN,NaN,0,NaN,0LNaN,0CNaN,0,0,NaN,0,NaNL0,NaNC0,NaN,NaN,0,NaN,0Z\" style=\"fill: none;\"></path><g><g class=\"mark-group role-title\"><g transform=\"translate(0,-20)\"><path class=\"background\" d=\"M0,0h0v0h0Z\" style=\"pointer-events: none; fill: none;\"></path><g><g class=\"mark-text role-title-text\" style=\"pointer-events: none;\"><text text-anchor=\"middle\" transform=\"translate(0,8)\" style=\"font-family: sans-serif; font-size: 10px; fill: #000; opacity: 1;\">13</text></g></g></g></g></g></g><g transform=\"translate(286,-1)\"><path class=\"background\" d=\"MNaN,0LNaN,0CNaN,0,NaN,NaN,NaN,NaNLNaN,NaNCNaN,NaN,NaN,0,NaN,0LNaN,0CNaN,0,0,NaN,0,NaNL0,NaNC0,NaN,NaN,0,NaN,0Z\" style=\"fill: none;\"></path><g><g class=\"mark-group role-title\"><g transform=\"translate(0,-20)\"><path class=\"background\" d=\"M0,0h0v0h0Z\" style=\"pointer-events: none; fill: none;\"></path><g><g class=\"mark-text role-title-text\" style=\"pointer-events: none;\"><text text-anchor=\"middle\" transform=\"translate(0,8)\" style=\"font-family: sans-serif; font-size: 10px; fill: #000; opacity: 1;\">14</text></g></g></g></g></g></g><g transform=\"translate(308,-1)\"><path class=\"background\" d=\"MNaN,0LNaN,0CNaN,0,NaN,NaN,NaN,NaNLNaN,NaNCNaN,NaN,NaN,0,NaN,0LNaN,0CNaN,0,0,NaN,0,NaNL0,NaNC0,NaN,NaN,0,NaN,0Z\" style=\"fill: none;\"></path><g><g class=\"mark-group role-title\"><g transform=\"translate(0,-20)\"><path class=\"background\" d=\"M0,0h0v0h0Z\" style=\"pointer-events: none; fill: none;\"></path><g><g class=\"mark-text role-title-text\" style=\"pointer-events: none;\"><text text-anchor=\"middle\" transform=\"translate(0,8)\" style=\"font-family: sans-serif; font-size: 10px; fill: #000; opacity: 1;\">15</text></g></g></g></g></g></g></g><g class=\"mark-group role-column-footer column_footer\"><g transform=\"translate(0,401)\"><path class=\"background\" d=\"MNaN,0LNaN,0CNaN,0,NaN,NaN,NaN,NaNLNaN,NaNCNaN,NaN,NaN,0,NaN,0LNaN,0CNaN,0,0,NaN,0,NaNL0,NaNC0,NaN,NaN,0,NaN,0Z\" style=\"fill: none;\"></path><g><g class=\"mark-group role-axis\"><g transform=\"translate(0.5,0.5)\"><path class=\"background\" d=\"M0,0h0v0h0Z\" style=\"pointer-events: none; fill: none;\"></path><g><g class=\"mark-rule role-axis-tick\" style=\"pointer-events: none;\"><line transform=\"translate(0,0)\" x2=\"0\" y2=\"5\" style=\"fill: none; stroke: #888; stroke-width: 1; opacity: 1;\"></line><line transform=\"translate(0,0)\" x2=\"0\" y2=\"5\" style=\"fill: none; stroke: #888; stroke-width: 1; opacity: 1;\"></line></g><g class=\"mark-text role-axis-label\" style=\"pointer-events: none;\"><text text-anchor=\"end\" transform=\"translate(0,7) rotate(270) translate(0,3)\" style=\"font-family: sans-serif; font-size: 10px; fill: #000; opacity: 1;\">ats</text><text text-anchor=\"end\" transform=\"translate(0,7) rotate(270) translate(0,3)\" style=\"font-family: sans-serif; font-size: 10px; fill: #000; opacity: 1;\">otc</text></g><g class=\"mark-rule role-axis-domain\" style=\"pointer-events: none;\"><line transform=\"translate(0,0)\" x2=\"NaN\" y2=\"0\" style=\"fill: none; stroke: #888; stroke-width: 3; opacity: 1;\"></line></g><g class=\"mark-text role-axis-title\" style=\"pointer-events: none;\"><text text-anchor=\"middle\" transform=\"translate(0,36)\" style=\"font-family: sans-serif; font-size: 11px; font-weight: bold; fill: #000; opacity: 1;\"> </text></g></g></g></g></g></g><g transform=\"translate(22,401)\"><path class=\"background\" d=\"MNaN,0LNaN,0CNaN,0,NaN,NaN,NaN,NaNLNaN,NaNCNaN,NaN,NaN,0,NaN,0LNaN,0CNaN,0,0,NaN,0,NaNL0,NaNC0,NaN,NaN,0,NaN,0Z\" style=\"fill: none;\"></path><g><g class=\"mark-group role-axis\"><g transform=\"translate(0.5,0.5)\"><path class=\"background\" d=\"M0,0h0v0h0Z\" style=\"pointer-events: none; fill: none;\"></path><g><g class=\"mark-rule role-axis-tick\" style=\"pointer-events: none;\"><line transform=\"translate(0,0)\" x2=\"0\" y2=\"5\" style=\"fill: none; stroke: #888; stroke-width: 1; opacity: 1;\"></line><line transform=\"translate(0,0)\" x2=\"0\" y2=\"5\" style=\"fill: none; stroke: #888; stroke-width: 1; opacity: 1;\"></line></g><g class=\"mark-text role-axis-label\" style=\"pointer-events: none;\"><text text-anchor=\"end\" transform=\"translate(0,7) rotate(270) translate(0,3)\" style=\"font-family: sans-serif; font-size: 10px; fill: #000; opacity: 1;\">ats</text><text text-anchor=\"end\" transform=\"translate(0,7) rotate(270) translate(0,3)\" style=\"font-family: sans-serif; font-size: 10px; fill: #000; opacity: 1;\">otc</text></g><g class=\"mark-rule role-axis-domain\" style=\"pointer-events: none;\"><line transform=\"translate(0,0)\" x2=\"NaN\" y2=\"0\" style=\"fill: none; stroke: #888; stroke-width: 3; opacity: 1;\"></line></g><g class=\"mark-text role-axis-title\" style=\"pointer-events: none;\"><text text-anchor=\"middle\" transform=\"translate(0,36)\" style=\"font-family: sans-serif; font-size: 11px; font-weight: bold; fill: #000; opacity: 1;\"> </text></g></g></g></g></g></g><g transform=\"translate(44,401)\"><path class=\"background\" d=\"MNaN,0LNaN,0CNaN,0,NaN,NaN,NaN,NaNLNaN,NaNCNaN,NaN,NaN,0,NaN,0LNaN,0CNaN,0,0,NaN,0,NaNL0,NaNC0,NaN,NaN,0,NaN,0Z\" style=\"fill: none;\"></path><g><g class=\"mark-group role-axis\"><g transform=\"translate(0.5,0.5)\"><path class=\"background\" d=\"M0,0h0v0h0Z\" style=\"pointer-events: none; fill: none;\"></path><g><g class=\"mark-rule role-axis-tick\" style=\"pointer-events: none;\"><line transform=\"translate(0,0)\" x2=\"0\" y2=\"5\" style=\"fill: none; stroke: #888; stroke-width: 1; opacity: 1;\"></line><line transform=\"translate(0,0)\" x2=\"0\" y2=\"5\" style=\"fill: none; stroke: #888; stroke-width: 1; opacity: 1;\"></line></g><g class=\"mark-text role-axis-label\" style=\"pointer-events: none;\"><text text-anchor=\"end\" transform=\"translate(0,7) rotate(270) translate(0,3)\" style=\"font-family: sans-serif; font-size: 10px; fill: #000; opacity: 1;\">ats</text><text text-anchor=\"end\" transform=\"translate(0,7) rotate(270) translate(0,3)\" style=\"font-family: sans-serif; font-size: 10px; fill: #000; opacity: 1;\">otc</text></g><g class=\"mark-rule role-axis-domain\" style=\"pointer-events: none;\"><line transform=\"translate(0,0)\" x2=\"NaN\" y2=\"0\" style=\"fill: none; stroke: #888; stroke-width: 3; opacity: 1;\"></line></g><g class=\"mark-text role-axis-title\" style=\"pointer-events: none;\"><text text-anchor=\"middle\" transform=\"translate(0,36)\" style=\"font-family: sans-serif; font-size: 11px; font-weight: bold; fill: #000; opacity: 1;\"> </text></g></g></g></g></g></g><g transform=\"translate(66,401)\"><path class=\"background\" d=\"MNaN,0LNaN,0CNaN,0,NaN,NaN,NaN,NaNLNaN,NaNCNaN,NaN,NaN,0,NaN,0LNaN,0CNaN,0,0,NaN,0,NaNL0,NaNC0,NaN,NaN,0,NaN,0Z\" style=\"fill: none;\"></path><g><g class=\"mark-group role-axis\"><g transform=\"translate(0.5,0.5)\"><path class=\"background\" d=\"M0,0h0v0h0Z\" style=\"pointer-events: none; fill: none;\"></path><g><g class=\"mark-rule role-axis-tick\" style=\"pointer-events: none;\"><line transform=\"translate(0,0)\" x2=\"0\" y2=\"5\" style=\"fill: none; stroke: #888; stroke-width: 1; opacity: 1;\"></line><line transform=\"translate(0,0)\" x2=\"0\" y2=\"5\" style=\"fill: none; stroke: #888; stroke-width: 1; opacity: 1;\"></line></g><g class=\"mark-text role-axis-label\" style=\"pointer-events: none;\"><text text-anchor=\"end\" transform=\"translate(0,7) rotate(270) translate(0,3)\" style=\"font-family: sans-serif; font-size: 10px; fill: #000; opacity: 1;\">ats</text><text text-anchor=\"end\" transform=\"translate(0,7) rotate(270) translate(0,3)\" style=\"font-family: sans-serif; font-size: 10px; fill: #000; opacity: 1;\">otc</text></g><g class=\"mark-rule role-axis-domain\" style=\"pointer-events: none;\"><line transform=\"translate(0,0)\" x2=\"NaN\" y2=\"0\" style=\"fill: none; stroke: #888; stroke-width: 3; opacity: 1;\"></line></g><g class=\"mark-text role-axis-title\" style=\"pointer-events: none;\"><text text-anchor=\"middle\" transform=\"translate(0,36)\" style=\"font-family: sans-serif; font-size: 11px; font-weight: bold; fill: #000; opacity: 1;\"> </text></g></g></g></g></g></g><g transform=\"translate(88,401)\"><path class=\"background\" d=\"MNaN,0LNaN,0CNaN,0,NaN,NaN,NaN,NaNLNaN,NaNCNaN,NaN,NaN,0,NaN,0LNaN,0CNaN,0,0,NaN,0,NaNL0,NaNC0,NaN,NaN,0,NaN,0Z\" style=\"fill: none;\"></path><g><g class=\"mark-group role-axis\"><g transform=\"translate(0.5,0.5)\"><path class=\"background\" d=\"M0,0h0v0h0Z\" style=\"pointer-events: none; fill: none;\"></path><g><g class=\"mark-rule role-axis-tick\" style=\"pointer-events: none;\"><line transform=\"translate(0,0)\" x2=\"0\" y2=\"5\" style=\"fill: none; stroke: #888; stroke-width: 1; opacity: 1;\"></line><line transform=\"translate(0,0)\" x2=\"0\" y2=\"5\" style=\"fill: none; stroke: #888; stroke-width: 1; opacity: 1;\"></line></g><g class=\"mark-text role-axis-label\" style=\"pointer-events: none;\"><text text-anchor=\"end\" transform=\"translate(0,7) rotate(270) translate(0,3)\" style=\"font-family: sans-serif; font-size: 10px; fill: #000; opacity: 1;\">ats</text><text text-anchor=\"end\" transform=\"translate(0,7) rotate(270) translate(0,3)\" style=\"font-family: sans-serif; font-size: 10px; fill: #000; opacity: 1;\">otc</text></g><g class=\"mark-rule role-axis-domain\" style=\"pointer-events: none;\"><line transform=\"translate(0,0)\" x2=\"NaN\" y2=\"0\" style=\"fill: none; stroke: #888; stroke-width: 3; opacity: 1;\"></line></g><g class=\"mark-text role-axis-title\" style=\"pointer-events: none;\"><text text-anchor=\"middle\" transform=\"translate(0,36)\" style=\"font-family: sans-serif; font-size: 11px; font-weight: bold; fill: #000; opacity: 1;\"> </text></g></g></g></g></g></g><g transform=\"translate(110,401)\"><path class=\"background\" d=\"MNaN,0LNaN,0CNaN,0,NaN,NaN,NaN,NaNLNaN,NaNCNaN,NaN,NaN,0,NaN,0LNaN,0CNaN,0,0,NaN,0,NaNL0,NaNC0,NaN,NaN,0,NaN,0Z\" style=\"fill: none;\"></path><g><g class=\"mark-group role-axis\"><g transform=\"translate(0.5,0.5)\"><path class=\"background\" d=\"M0,0h0v0h0Z\" style=\"pointer-events: none; fill: none;\"></path><g><g class=\"mark-rule role-axis-tick\" style=\"pointer-events: none;\"><line transform=\"translate(0,0)\" x2=\"0\" y2=\"5\" style=\"fill: none; stroke: #888; stroke-width: 1; opacity: 1;\"></line><line transform=\"translate(0,0)\" x2=\"0\" y2=\"5\" style=\"fill: none; stroke: #888; stroke-width: 1; opacity: 1;\"></line></g><g class=\"mark-text role-axis-label\" style=\"pointer-events: none;\"><text text-anchor=\"end\" transform=\"translate(0,7) rotate(270) translate(0,3)\" style=\"font-family: sans-serif; font-size: 10px; fill: #000; opacity: 1;\">ats</text><text text-anchor=\"end\" transform=\"translate(0,7) rotate(270) translate(0,3)\" style=\"font-family: sans-serif; font-size: 10px; fill: #000; opacity: 1;\">otc</text></g><g class=\"mark-rule role-axis-domain\" style=\"pointer-events: none;\"><line transform=\"translate(0,0)\" x2=\"NaN\" y2=\"0\" style=\"fill: none; stroke: #888; stroke-width: 3; opacity: 1;\"></line></g><g class=\"mark-text role-axis-title\" style=\"pointer-events: none;\"><text text-anchor=\"middle\" transform=\"translate(0,36)\" style=\"font-family: sans-serif; font-size: 11px; font-weight: bold; fill: #000; opacity: 1;\"> </text></g></g></g></g></g></g><g transform=\"translate(132,401)\"><path class=\"background\" d=\"MNaN,0LNaN,0CNaN,0,NaN,NaN,NaN,NaNLNaN,NaNCNaN,NaN,NaN,0,NaN,0LNaN,0CNaN,0,0,NaN,0,NaNL0,NaNC0,NaN,NaN,0,NaN,0Z\" style=\"fill: none;\"></path><g><g class=\"mark-group role-axis\"><g transform=\"translate(0.5,0.5)\"><path class=\"background\" d=\"M0,0h0v0h0Z\" style=\"pointer-events: none; fill: none;\"></path><g><g class=\"mark-rule role-axis-tick\" style=\"pointer-events: none;\"><line transform=\"translate(0,0)\" x2=\"0\" y2=\"5\" style=\"fill: none; stroke: #888; stroke-width: 1; opacity: 1;\"></line><line transform=\"translate(0,0)\" x2=\"0\" y2=\"5\" style=\"fill: none; stroke: #888; stroke-width: 1; opacity: 1;\"></line></g><g class=\"mark-text role-axis-label\" style=\"pointer-events: none;\"><text text-anchor=\"end\" transform=\"translate(0,7) rotate(270) translate(0,3)\" style=\"font-family: sans-serif; font-size: 10px; fill: #000; opacity: 1;\">ats</text><text text-anchor=\"end\" transform=\"translate(0,7) rotate(270) translate(0,3)\" style=\"font-family: sans-serif; font-size: 10px; fill: #000; opacity: 1;\">otc</text></g><g class=\"mark-rule role-axis-domain\" style=\"pointer-events: none;\"><line transform=\"translate(0,0)\" x2=\"NaN\" y2=\"0\" style=\"fill: none; stroke: #888; stroke-width: 3; opacity: 1;\"></line></g><g class=\"mark-text role-axis-title\" style=\"pointer-events: none;\"><text text-anchor=\"middle\" transform=\"translate(0,36)\" style=\"font-family: sans-serif; font-size: 11px; font-weight: bold; fill: #000; opacity: 1;\"> </text></g></g></g></g></g></g><g transform=\"translate(154,401)\"><path class=\"background\" d=\"MNaN,0LNaN,0CNaN,0,NaN,NaN,NaN,NaNLNaN,NaNCNaN,NaN,NaN,0,NaN,0LNaN,0CNaN,0,0,NaN,0,NaNL0,NaNC0,NaN,NaN,0,NaN,0Z\" style=\"fill: none;\"></path><g><g class=\"mark-group role-axis\"><g transform=\"translate(0.5,0.5)\"><path class=\"background\" d=\"M0,0h0v0h0Z\" style=\"pointer-events: none; fill: none;\"></path><g><g class=\"mark-rule role-axis-tick\" style=\"pointer-events: none;\"><line transform=\"translate(0,0)\" x2=\"0\" y2=\"5\" style=\"fill: none; stroke: #888; stroke-width: 1; opacity: 1;\"></line><line transform=\"translate(0,0)\" x2=\"0\" y2=\"5\" style=\"fill: none; stroke: #888; stroke-width: 1; opacity: 1;\"></line></g><g class=\"mark-text role-axis-label\" style=\"pointer-events: none;\"><text text-anchor=\"end\" transform=\"translate(0,7) rotate(270) translate(0,3)\" style=\"font-family: sans-serif; font-size: 10px; fill: #000; opacity: 1;\">ats</text><text text-anchor=\"end\" transform=\"translate(0,7) rotate(270) translate(0,3)\" style=\"font-family: sans-serif; font-size: 10px; fill: #000; opacity: 1;\">otc</text></g><g class=\"mark-rule role-axis-domain\" style=\"pointer-events: none;\"><line transform=\"translate(0,0)\" x2=\"NaN\" y2=\"0\" style=\"fill: none; stroke: #888; stroke-width: 3; opacity: 1;\"></line></g><g class=\"mark-text role-axis-title\" style=\"pointer-events: none;\"><text text-anchor=\"middle\" transform=\"translate(0,36)\" style=\"font-family: sans-serif; font-size: 11px; font-weight: bold; fill: #000; opacity: 1;\"> </text></g></g></g></g></g></g><g transform=\"translate(176,401)\"><path class=\"background\" d=\"MNaN,0LNaN,0CNaN,0,NaN,NaN,NaN,NaNLNaN,NaNCNaN,NaN,NaN,0,NaN,0LNaN,0CNaN,0,0,NaN,0,NaNL0,NaNC0,NaN,NaN,0,NaN,0Z\" style=\"fill: none;\"></path><g><g class=\"mark-group role-axis\"><g transform=\"translate(0.5,0.5)\"><path class=\"background\" d=\"M0,0h0v0h0Z\" style=\"pointer-events: none; fill: none;\"></path><g><g class=\"mark-rule role-axis-tick\" style=\"pointer-events: none;\"><line transform=\"translate(0,0)\" x2=\"0\" y2=\"5\" style=\"fill: none; stroke: #888; stroke-width: 1; opacity: 1;\"></line><line transform=\"translate(0,0)\" x2=\"0\" y2=\"5\" style=\"fill: none; stroke: #888; stroke-width: 1; opacity: 1;\"></line></g><g class=\"mark-text role-axis-label\" style=\"pointer-events: none;\"><text text-anchor=\"end\" transform=\"translate(0,7) rotate(270) translate(0,3)\" style=\"font-family: sans-serif; font-size: 10px; fill: #000; opacity: 1;\">ats</text><text text-anchor=\"end\" transform=\"translate(0,7) rotate(270) translate(0,3)\" style=\"font-family: sans-serif; font-size: 10px; fill: #000; opacity: 1;\">otc</text></g><g class=\"mark-rule role-axis-domain\" style=\"pointer-events: none;\"><line transform=\"translate(0,0)\" x2=\"NaN\" y2=\"0\" style=\"fill: none; stroke: #888; stroke-width: 3; opacity: 1;\"></line></g><g class=\"mark-text role-axis-title\" style=\"pointer-events: none;\"><text text-anchor=\"middle\" transform=\"translate(0,36)\" style=\"font-family: sans-serif; font-size: 11px; font-weight: bold; fill: #000; opacity: 1;\"> </text></g></g></g></g></g></g><g transform=\"translate(198,401)\"><path class=\"background\" d=\"MNaN,0LNaN,0CNaN,0,NaN,NaN,NaN,NaNLNaN,NaNCNaN,NaN,NaN,0,NaN,0LNaN,0CNaN,0,0,NaN,0,NaNL0,NaNC0,NaN,NaN,0,NaN,0Z\" style=\"fill: none;\"></path><g><g class=\"mark-group role-axis\"><g transform=\"translate(0.5,0.5)\"><path class=\"background\" d=\"M0,0h0v0h0Z\" style=\"pointer-events: none; fill: none;\"></path><g><g class=\"mark-rule role-axis-tick\" style=\"pointer-events: none;\"><line transform=\"translate(0,0)\" x2=\"0\" y2=\"5\" style=\"fill: none; stroke: #888; stroke-width: 1; opacity: 1;\"></line><line transform=\"translate(0,0)\" x2=\"0\" y2=\"5\" style=\"fill: none; stroke: #888; stroke-width: 1; opacity: 1;\"></line></g><g class=\"mark-text role-axis-label\" style=\"pointer-events: none;\"><text text-anchor=\"end\" transform=\"translate(0,7) rotate(270) translate(0,3)\" style=\"font-family: sans-serif; font-size: 10px; fill: #000; opacity: 1;\">ats</text><text text-anchor=\"end\" transform=\"translate(0,7) rotate(270) translate(0,3)\" style=\"font-family: sans-serif; font-size: 10px; fill: #000; opacity: 1;\">otc</text></g><g class=\"mark-rule role-axis-domain\" style=\"pointer-events: none;\"><line transform=\"translate(0,0)\" x2=\"NaN\" y2=\"0\" style=\"fill: none; stroke: #888; stroke-width: 3; opacity: 1;\"></line></g><g class=\"mark-text role-axis-title\" style=\"pointer-events: none;\"><text text-anchor=\"middle\" transform=\"translate(0,36)\" style=\"font-family: sans-serif; font-size: 11px; font-weight: bold; fill: #000; opacity: 1;\"> </text></g></g></g></g></g></g><g transform=\"translate(220,401)\"><path class=\"background\" d=\"MNaN,0LNaN,0CNaN,0,NaN,NaN,NaN,NaNLNaN,NaNCNaN,NaN,NaN,0,NaN,0LNaN,0CNaN,0,0,NaN,0,NaNL0,NaNC0,NaN,NaN,0,NaN,0Z\" style=\"fill: none;\"></path><g><g class=\"mark-group role-axis\"><g transform=\"translate(0.5,0.5)\"><path class=\"background\" d=\"M0,0h0v0h0Z\" style=\"pointer-events: none; fill: none;\"></path><g><g class=\"mark-rule role-axis-tick\" style=\"pointer-events: none;\"><line transform=\"translate(0,0)\" x2=\"0\" y2=\"5\" style=\"fill: none; stroke: #888; stroke-width: 1; opacity: 1;\"></line><line transform=\"translate(0,0)\" x2=\"0\" y2=\"5\" style=\"fill: none; stroke: #888; stroke-width: 1; opacity: 1;\"></line></g><g class=\"mark-text role-axis-label\" style=\"pointer-events: none;\"><text text-anchor=\"end\" transform=\"translate(0,7) rotate(270) translate(0,3)\" style=\"font-family: sans-serif; font-size: 10px; fill: #000; opacity: 1;\">ats</text><text text-anchor=\"end\" transform=\"translate(0,7) rotate(270) translate(0,3)\" style=\"font-family: sans-serif; font-size: 10px; fill: #000; opacity: 1;\">otc</text></g><g class=\"mark-rule role-axis-domain\" style=\"pointer-events: none;\"><line transform=\"translate(0,0)\" x2=\"NaN\" y2=\"0\" style=\"fill: none; stroke: #888; stroke-width: 3; opacity: 1;\"></line></g><g class=\"mark-text role-axis-title\" style=\"pointer-events: none;\"><text text-anchor=\"middle\" transform=\"translate(0,36)\" style=\"font-family: sans-serif; font-size: 11px; font-weight: bold; fill: #000; opacity: 1;\"> </text></g></g></g></g></g></g><g transform=\"translate(242,401)\"><path class=\"background\" d=\"MNaN,0LNaN,0CNaN,0,NaN,NaN,NaN,NaNLNaN,NaNCNaN,NaN,NaN,0,NaN,0LNaN,0CNaN,0,0,NaN,0,NaNL0,NaNC0,NaN,NaN,0,NaN,0Z\" style=\"fill: none;\"></path><g><g class=\"mark-group role-axis\"><g transform=\"translate(0.5,0.5)\"><path class=\"background\" d=\"M0,0h0v0h0Z\" style=\"pointer-events: none; fill: none;\"></path><g><g class=\"mark-rule role-axis-tick\" style=\"pointer-events: none;\"><line transform=\"translate(0,0)\" x2=\"0\" y2=\"5\" style=\"fill: none; stroke: #888; stroke-width: 1; opacity: 1;\"></line><line transform=\"translate(0,0)\" x2=\"0\" y2=\"5\" style=\"fill: none; stroke: #888; stroke-width: 1; opacity: 1;\"></line></g><g class=\"mark-text role-axis-label\" style=\"pointer-events: none;\"><text text-anchor=\"end\" transform=\"translate(0,7) rotate(270) translate(0,3)\" style=\"font-family: sans-serif; font-size: 10px; fill: #000; opacity: 1;\">ats</text><text text-anchor=\"end\" transform=\"translate(0,7) rotate(270) translate(0,3)\" style=\"font-family: sans-serif; font-size: 10px; fill: #000; opacity: 1;\">otc</text></g><g class=\"mark-rule role-axis-domain\" style=\"pointer-events: none;\"><line transform=\"translate(0,0)\" x2=\"NaN\" y2=\"0\" style=\"fill: none; stroke: #888; stroke-width: 3; opacity: 1;\"></line></g><g class=\"mark-text role-axis-title\" style=\"pointer-events: none;\"><text text-anchor=\"middle\" transform=\"translate(0,36)\" style=\"font-family: sans-serif; font-size: 11px; font-weight: bold; fill: #000; opacity: 1;\"> </text></g></g></g></g></g></g><g transform=\"translate(264,401)\"><path class=\"background\" d=\"MNaN,0LNaN,0CNaN,0,NaN,NaN,NaN,NaNLNaN,NaNCNaN,NaN,NaN,0,NaN,0LNaN,0CNaN,0,0,NaN,0,NaNL0,NaNC0,NaN,NaN,0,NaN,0Z\" style=\"fill: none;\"></path><g><g class=\"mark-group role-axis\"><g transform=\"translate(0.5,0.5)\"><path class=\"background\" d=\"M0,0h0v0h0Z\" style=\"pointer-events: none; fill: none;\"></path><g><g class=\"mark-rule role-axis-tick\" style=\"pointer-events: none;\"><line transform=\"translate(0,0)\" x2=\"0\" y2=\"5\" style=\"fill: none; stroke: #888; stroke-width: 1; opacity: 1;\"></line><line transform=\"translate(0,0)\" x2=\"0\" y2=\"5\" style=\"fill: none; stroke: #888; stroke-width: 1; opacity: 1;\"></line></g><g class=\"mark-text role-axis-label\" style=\"pointer-events: none;\"><text text-anchor=\"end\" transform=\"translate(0,7) rotate(270) translate(0,3)\" style=\"font-family: sans-serif; font-size: 10px; fill: #000; opacity: 1;\">ats</text><text text-anchor=\"end\" transform=\"translate(0,7) rotate(270) translate(0,3)\" style=\"font-family: sans-serif; font-size: 10px; fill: #000; opacity: 1;\">otc</text></g><g class=\"mark-rule role-axis-domain\" style=\"pointer-events: none;\"><line transform=\"translate(0,0)\" x2=\"NaN\" y2=\"0\" style=\"fill: none; stroke: #888; stroke-width: 3; opacity: 1;\"></line></g><g class=\"mark-text role-axis-title\" style=\"pointer-events: none;\"><text text-anchor=\"middle\" transform=\"translate(0,36)\" style=\"font-family: sans-serif; font-size: 11px; font-weight: bold; fill: #000; opacity: 1;\"> </text></g></g></g></g></g></g><g transform=\"translate(286,401)\"><path class=\"background\" d=\"MNaN,0LNaN,0CNaN,0,NaN,NaN,NaN,NaNLNaN,NaNCNaN,NaN,NaN,0,NaN,0LNaN,0CNaN,0,0,NaN,0,NaNL0,NaNC0,NaN,NaN,0,NaN,0Z\" style=\"fill: none;\"></path><g><g class=\"mark-group role-axis\"><g transform=\"translate(0.5,0.5)\"><path class=\"background\" d=\"M0,0h0v0h0Z\" style=\"pointer-events: none; fill: none;\"></path><g><g class=\"mark-rule role-axis-tick\" style=\"pointer-events: none;\"><line transform=\"translate(0,0)\" x2=\"0\" y2=\"5\" style=\"fill: none; stroke: #888; stroke-width: 1; opacity: 1;\"></line><line transform=\"translate(0,0)\" x2=\"0\" y2=\"5\" style=\"fill: none; stroke: #888; stroke-width: 1; opacity: 1;\"></line></g><g class=\"mark-text role-axis-label\" style=\"pointer-events: none;\"><text text-anchor=\"end\" transform=\"translate(0,7) rotate(270) translate(0,3)\" style=\"font-family: sans-serif; font-size: 10px; fill: #000; opacity: 1;\">ats</text><text text-anchor=\"end\" transform=\"translate(0,7) rotate(270) translate(0,3)\" style=\"font-family: sans-serif; font-size: 10px; fill: #000; opacity: 1;\">otc</text></g><g class=\"mark-rule role-axis-domain\" style=\"pointer-events: none;\"><line transform=\"translate(0,0)\" x2=\"NaN\" y2=\"0\" style=\"fill: none; stroke: #888; stroke-width: 3; opacity: 1;\"></line></g><g class=\"mark-text role-axis-title\" style=\"pointer-events: none;\"><text text-anchor=\"middle\" transform=\"translate(0,36)\" style=\"font-family: sans-serif; font-size: 11px; font-weight: bold; fill: #000; opacity: 1;\"> </text></g></g></g></g></g></g><g transform=\"translate(308,401)\"><path class=\"background\" d=\"MNaN,0LNaN,0CNaN,0,NaN,NaN,NaN,NaNLNaN,NaNCNaN,NaN,NaN,0,NaN,0LNaN,0CNaN,0,0,NaN,0,NaNL0,NaNC0,NaN,NaN,0,NaN,0Z\" style=\"fill: none;\"></path><g><g class=\"mark-group role-axis\"><g transform=\"translate(0.5,0.5)\"><path class=\"background\" d=\"M0,0h0v0h0Z\" style=\"pointer-events: none; fill: none;\"></path><g><g class=\"mark-rule role-axis-tick\" style=\"pointer-events: none;\"><line transform=\"translate(0,0)\" x2=\"0\" y2=\"5\" style=\"fill: none; stroke: #888; stroke-width: 1; opacity: 1;\"></line><line transform=\"translate(0,0)\" x2=\"0\" y2=\"5\" style=\"fill: none; stroke: #888; stroke-width: 1; opacity: 1;\"></line></g><g class=\"mark-text role-axis-label\" style=\"pointer-events: none;\"><text text-anchor=\"end\" transform=\"translate(0,7) rotate(270) translate(0,3)\" style=\"font-family: sans-serif; font-size: 10px; fill: #000; opacity: 1;\">ats</text><text text-anchor=\"end\" transform=\"translate(0,7) rotate(270) translate(0,3)\" style=\"font-family: sans-serif; font-size: 10px; fill: #000; opacity: 1;\">otc</text></g><g class=\"mark-rule role-axis-domain\" style=\"pointer-events: none;\"><line transform=\"translate(0,0)\" x2=\"NaN\" y2=\"0\" style=\"fill: none; stroke: #888; stroke-width: 3; opacity: 1;\"></line></g><g class=\"mark-text role-axis-title\" style=\"pointer-events: none;\"><text text-anchor=\"middle\" transform=\"translate(0,36)\" style=\"font-family: sans-serif; font-size: 11px; font-weight: bold; fill: #000; opacity: 1;\"> </text></g></g></g></g></g></g></g><g class=\"mark-group role-scope cell\"><g transform=\"translate(0,0)\"><path class=\"background\" d=\"MNaN,0.5LNaN,0.5CNaN,0.5,NaN,NaN,NaN,NaNLNaN,NaNCNaN,NaN,NaN,400.5,NaN,400.5LNaN,400.5CNaN,400.5,0.5,NaN,0.5,NaNL0.5,NaNC0.5,NaN,NaN,0.5,NaN,0.5Z\" style=\"fill: none; stroke: none;\"></path><g><g class=\"mark-rect role-mark child_marks\"><path d=\"M0,345.2h0v54.80000000000001h0Z\" style=\"fill: rgb(53, 183, 121);\"></path><path d=\"M0,346.4h0v53.60000000000002h0Z\" style=\"fill: rgb(49, 104, 142);\"></path></g></g></g><g transform=\"translate(22,0)\"><path class=\"background\" d=\"MNaN,0.5LNaN,0.5CNaN,0.5,NaN,NaN,NaN,NaNLNaN,NaNCNaN,NaN,NaN,400.5,NaN,400.5LNaN,400.5CNaN,400.5,0.5,NaN,0.5,NaNL0.5,NaNC0.5,NaN,NaN,0.5,NaN,0.5Z\" style=\"fill: none; stroke: none;\"></path><g><g class=\"mark-rect role-mark child_marks\"><path d=\"M0,87.80000000000001h0v312.2h0Z\" style=\"fill: rgb(53, 183, 121);\"></path><path d=\"M0,95.19999999999999h0v304.8h0Z\" style=\"fill: rgb(49, 104, 142);\"></path></g></g></g><g transform=\"translate(44,0)\"><path class=\"background\" d=\"MNaN,0.5LNaN,0.5CNaN,0.5,NaN,NaN,NaN,NaNLNaN,NaNCNaN,NaN,NaN,400.5,NaN,400.5LNaN,400.5CNaN,400.5,0.5,NaN,0.5,NaNL0.5,NaNC0.5,NaN,NaN,0.5,NaN,0.5Z\" style=\"fill: none; stroke: none;\"></path><g><g class=\"mark-rect role-mark child_marks\"><path d=\"M0,395.6h0v4.399999999999977h0Z\" style=\"fill: rgb(53, 183, 121);\"></path><path d=\"M0,395.6h0v4.399999999999977h0Z\" style=\"fill: rgb(49, 104, 142);\"></path></g></g></g><g transform=\"translate(66,0)\"><path class=\"background\" d=\"MNaN,0.5LNaN,0.5CNaN,0.5,NaN,NaN,NaN,NaNLNaN,NaNCNaN,NaN,NaN,400.5,NaN,400.5LNaN,400.5CNaN,400.5,0.5,NaN,0.5,NaNL0.5,NaNC0.5,NaN,NaN,0.5,NaN,0.5Z\" style=\"fill: none; stroke: none;\"></path><g><g class=\"mark-rect role-mark child_marks\"><path d=\"M0,392h0v8h0Z\" style=\"fill: rgb(53, 183, 121);\"></path><path d=\"M0,392.2h0v7.800000000000011h0Z\" style=\"fill: rgb(49, 104, 142);\"></path></g></g></g><g transform=\"translate(88,0)\"><path class=\"background\" d=\"MNaN,0.5LNaN,0.5CNaN,0.5,NaN,NaN,NaN,NaNLNaN,NaNCNaN,NaN,NaN,400.5,NaN,400.5LNaN,400.5CNaN,400.5,0.5,NaN,0.5,NaNL0.5,NaNC0.5,NaN,NaN,0.5,NaN,0.5Z\" style=\"fill: none; stroke: none;\"></path><g><g class=\"mark-rect role-mark child_marks\"><path d=\"M0,398.6h0v1.3999999999999773h0Z\" style=\"fill: rgb(53, 183, 121);\"></path><path d=\"M0,398.8h0v1.1999999999999886h0Z\" style=\"fill: rgb(49, 104, 142);\"></path></g></g></g><g transform=\"translate(110,0)\"><path class=\"background\" d=\"MNaN,0.5LNaN,0.5CNaN,0.5,NaN,NaN,NaN,NaNLNaN,NaNCNaN,NaN,NaN,400.5,NaN,400.5LNaN,400.5CNaN,400.5,0.5,NaN,0.5,NaNL0.5,NaNC0.5,NaN,NaN,0.5,NaN,0.5Z\" style=\"fill: none; stroke: none;\"></path><g><g class=\"mark-rect role-mark child_marks\"><path d=\"M0,139h0v261h0Z\" style=\"fill: rgb(53, 183, 121);\"></path><path d=\"M0,145.00000000000003h0v254.99999999999997h0Z\" style=\"fill: rgb(49, 104, 142);\"></path></g></g></g><g transform=\"translate(132,0)\"><path class=\"background\" d=\"MNaN,0.5LNaN,0.5CNaN,0.5,NaN,NaN,NaN,NaNLNaN,NaNCNaN,NaN,NaN,400.5,NaN,400.5LNaN,400.5CNaN,400.5,0.5,NaN,0.5,NaNL0.5,NaNC0.5,NaN,NaN,0.5,NaN,0.5Z\" style=\"fill: none; stroke: none;\"></path><g><g class=\"mark-rect role-mark child_marks\"><path d=\"M0,12.599999999999989h0v387.40000000000003h0Z\" style=\"fill: rgb(53, 183, 121);\"></path><path d=\"M0,35.400000000000006h0v364.6h0Z\" style=\"fill: rgb(49, 104, 142);\"></path></g></g></g><g transform=\"translate(154,0)\"><path class=\"background\" d=\"MNaN,0.5LNaN,0.5CNaN,0.5,NaN,NaN,NaN,NaNLNaN,NaNCNaN,NaN,NaN,400.5,NaN,400.5LNaN,400.5CNaN,400.5,0.5,NaN,0.5,NaNL0.5,NaNC0.5,NaN,NaN,0.5,NaN,0.5Z\" style=\"fill: none; stroke: none;\"></path><g><g class=\"mark-rect role-mark child_marks\"><path d=\"M0,244.59999999999997h0v155.40000000000003h0Z\" style=\"fill: rgb(53, 183, 121);\"></path><path d=\"M0,246.60000000000002h0v153.39999999999998h0Z\" style=\"fill: rgb(49, 104, 142);\"></path></g></g></g><g transform=\"translate(176,0)\"><path class=\"background\" d=\"MNaN,0.5LNaN,0.5CNaN,0.5,NaN,NaN,NaN,NaNLNaN,NaNCNaN,NaN,NaN,400.5,NaN,400.5LNaN,400.5CNaN,400.5,0.5,NaN,0.5,NaNL0.5,NaNC0.5,NaN,NaN,0.5,NaN,0.5Z\" style=\"fill: none; stroke: none;\"></path><g><g class=\"mark-rect role-mark child_marks\"><path d=\"M0,358.59999999999997h0v41.400000000000034h0Z\" style=\"fill: rgb(53, 183, 121);\"></path><path d=\"M0,359h0v41h0Z\" style=\"fill: rgb(49, 104, 142);\"></path></g></g></g><g transform=\"translate(198,0)\"><path class=\"background\" d=\"MNaN,0.5LNaN,0.5CNaN,0.5,NaN,NaN,NaN,NaNLNaN,NaNCNaN,NaN,NaN,400.5,NaN,400.5LNaN,400.5CNaN,400.5,0.5,NaN,0.5,NaNL0.5,NaNC0.5,NaN,NaN,0.5,NaN,0.5Z\" style=\"fill: none; stroke: none;\"></path><g><g class=\"mark-rect role-mark child_marks\"><path d=\"M0,389.59999999999997h0v10.400000000000034h0Z\" style=\"fill: rgb(53, 183, 121);\"></path><path d=\"M0,389.8h0v10.199999999999989h0Z\" style=\"fill: rgb(49, 104, 142);\"></path></g></g></g><g transform=\"translate(220,0)\"><path class=\"background\" d=\"MNaN,0.5LNaN,0.5CNaN,0.5,NaN,NaN,NaN,NaNLNaN,NaNCNaN,NaN,NaN,400.5,NaN,400.5LNaN,400.5CNaN,400.5,0.5,NaN,0.5,NaNL0.5,NaNC0.5,NaN,NaN,0.5,NaN,0.5Z\" style=\"fill: none; stroke: none;\"></path><g><g class=\"mark-rect role-mark child_marks\"><path d=\"M0,56.00000000000001h0v344h0Z\" style=\"fill: rgb(53, 183, 121);\"></path><path d=\"M0,75h0v325h0Z\" style=\"fill: rgb(49, 104, 142);\"></path></g></g></g><g transform=\"translate(242,0)\"><path class=\"background\" d=\"MNaN,0.5LNaN,0.5CNaN,0.5,NaN,NaN,NaN,NaNLNaN,NaNCNaN,NaN,NaN,400.5,NaN,400.5LNaN,400.5CNaN,400.5,0.5,NaN,0.5,NaNL0.5,NaNC0.5,NaN,NaN,0.5,NaN,0.5Z\" style=\"fill: none; stroke: none;\"></path><g><g class=\"mark-rect role-mark child_marks\"><path d=\"M0,191h0v209h0Z\" style=\"fill: rgb(53, 183, 121);\"></path><path d=\"M0,203.00000000000003h0v196.99999999999997h0Z\" style=\"fill: rgb(49, 104, 142);\"></path></g></g></g><g transform=\"translate(264,0)\"><path class=\"background\" d=\"MNaN,0.5LNaN,0.5CNaN,0.5,NaN,NaN,NaN,NaNLNaN,NaNCNaN,NaN,NaN,400.5,NaN,400.5LNaN,400.5CNaN,400.5,0.5,NaN,0.5,NaNL0.5,NaNC0.5,NaN,NaN,0.5,NaN,0.5Z\" style=\"fill: none; stroke: none;\"></path><g><g class=\"mark-rect role-mark child_marks\"><path d=\"M0,52.800000000000004h0v347.2h0Z\" style=\"fill: rgb(53, 183, 121);\"></path><path d=\"M0,70.19999999999999h0v329.8h0Z\" style=\"fill: rgb(49, 104, 142);\"></path></g></g></g><g transform=\"translate(286,0)\"><path class=\"background\" d=\"MNaN,0.5LNaN,0.5CNaN,0.5,NaN,NaN,NaN,NaNLNaN,NaNCNaN,NaN,NaN,400.5,NaN,400.5LNaN,400.5CNaN,400.5,0.5,NaN,0.5,NaNL0.5,NaNC0.5,NaN,NaN,0.5,NaN,0.5Z\" style=\"fill: none; stroke: none;\"></path><g><g class=\"mark-rect role-mark child_marks\"><path d=\"M0,337h0v63h0Z\" style=\"fill: rgb(53, 183, 121);\"></path><path d=\"M0,338.6h0v61.39999999999998h0Z\" style=\"fill: rgb(49, 104, 142);\"></path></g></g></g><g transform=\"translate(308,0)\"><path class=\"background\" d=\"MNaN,0.5LNaN,0.5CNaN,0.5,NaN,NaN,NaN,NaNLNaN,NaNCNaN,NaN,NaN,400.5,NaN,400.5LNaN,400.5CNaN,400.5,0.5,NaN,0.5,NaNL0.5,NaNC0.5,NaN,NaN,0.5,NaN,0.5Z\" style=\"fill: none; stroke: none;\"></path><g><g class=\"mark-rect role-mark child_marks\"><path d=\"M0,55.399999999999984h0v344.6h0Z\" style=\"fill: rgb(53, 183, 121);\"></path><path d=\"M0,72.80000000000003h0v327.2h0Z\" style=\"fill: rgb(49, 104, 142);\"></path></g></g></g></g><g class=\"mark-group role-legend\"><g transform=\"translate(331,0)\"><path class=\"background\" d=\"M0,0h111v40h-111Z\" style=\"pointer-events: none; fill: none;\"></path><g><g class=\"mark-group role-legend-entry\"><g transform=\"translate(0,16)\"><path class=\"background\" d=\"M0,0h0v0h0Z\" style=\"pointer-events: none; fill: none;\"></path><g><g class=\"mark-group role-scope\"><g transform=\"translate(0,0)\"><path class=\"background\" d=\"M0,0h32v11h-32Z\" style=\"pointer-events: none; fill: none; opacity: 1;\"></path><g><g class=\"mark-symbol role-legend-symbol\" style=\"pointer-events: none;\"><path transform=\"translate(6,6)\" d=\"M-5,-5h10v10h-10Z\" style=\"fill: rgb(49, 104, 142); stroke-width: 1.5; opacity: 1;\"></path></g><g class=\"mark-text role-legend-label\" style=\"pointer-events: none;\"><text text-anchor=\"start\" transform=\"translate(16,9)\" style=\"font-family: sans-serif; font-size: 10px; fill: #000; opacity: 1;\">ats</text></g></g></g><g transform=\"translate(0,13)\"><path class=\"background\" d=\"M0,0h32v11h-32Z\" style=\"pointer-events: none; fill: none; opacity: 1;\"></path><g><g class=\"mark-symbol role-legend-symbol\" style=\"pointer-events: none;\"><path transform=\"translate(6,6)\" d=\"M-5,-5h10v10h-10Z\" style=\"fill: rgb(53, 183, 121); stroke-width: 1.5; opacity: 1;\"></path></g><g class=\"mark-text role-legend-label\" style=\"pointer-events: none;\"><text text-anchor=\"start\" transform=\"translate(16,9)\" style=\"font-family: sans-serif; font-size: 10px; fill: #000; opacity: 1;\">otc</text></g></g></g></g></g></g></g><g class=\"mark-text role-legend-title\" style=\"pointer-events: none;\"><text text-anchor=\"start\" transform=\"translate(0,9)\" style=\"font-family: sans-serif; font-size: 11px; font-weight: bold; fill: #000; opacity: 1;\">Secondary Market</text></g></g></g></g></g></g></g></g></svg>"
      ],
      "text/plain": [
       "VegaLite.VLSpec{:plot}"
      ]
     },
     "execution_count": 54,
     "metadata": {},
     "output_type": "execute_result"
    }
   ],
   "source": [
    "p = tt |> @vlplot(:bar,\n",
    "                  column={col_var, type=col_var_type, \n",
    "                          title=col_title, sort=col_sort},\n",
    "                  y={y_var, axis={title=y_axis_title, grid=false, stack=nothing}},\n",
    "                  x={x_var, type=x_var_type, axis={title=x_axis_title}},\n",
    "                  color={x_var, legend={title=legend_title}, scale={scheme=color_scale}},\n",
    "                  config={\n",
    "                      view={stroke=:transparent},\n",
    "                      axis={domainWidth=domainWidth},\n",
    "                      opacity={value=opacity},\n",
    "                  },\n",
    "                  row={row_var, type=row_var_type, header={title=row_var_title}},\n",
    "#                   title={text=title, \n",
    "#                          align=title_alignment, \n",
    "#                          anchor=title_anchor, \n",
    "#                          fontSize=title_font_size, \n",
    "#                          offset=title_offset},\n",
    "#                   spacing=spacing,\n",
    "                  width={step=width_step},\n",
    "                  height=height\n",
    "                ) \n",
    "    \n"
   ]
  },
  {
   "cell_type": "code",
   "execution_count": null,
   "metadata": {},
   "outputs": [],
   "source": []
  },
  {
   "cell_type": "code",
   "execution_count": null,
   "metadata": {},
   "outputs": [],
   "source": []
  },
  {
   "cell_type": "code",
   "execution_count": null,
   "metadata": {},
   "outputs": [],
   "source": []
  },
  {
   "cell_type": "code",
   "execution_count": null,
   "metadata": {},
   "outputs": [],
   "source": []
  },
  {
   "cell_type": "code",
   "execution_count": null,
   "metadata": {},
   "outputs": [],
   "source": []
  },
  {
   "cell_type": "code",
   "execution_count": 5,
   "metadata": {},
   "outputs": [
    {
     "data": {
      "text/plain": [
       "\"plots\""
      ]
     },
     "execution_count": 5,
     "metadata": {},
     "output_type": "execute_result"
    }
   ],
   "source": [
    "# Common Parameters {{{1\n",
    "col_var=\"sum_num_cov\"\n",
    "col_var_type=\"ordinal\"\n",
    "col_title=\"Number of Covenant Categories per Bond\"\n",
    "col_sort=\"ascending\"\n",
    "x_var=\"sbm:n\"\n",
    "x_var_type=\"nominal\"\n",
    "x_axis_title=\" \"\n",
    "width_step=18\n",
    "legend_title=\"Secondary Market\"\n",
    "spacing=1\n",
    "height=250\n",
    "save_plt=true\n",
    "plt_type = \"num_cov\"\n",
    "file_ext=\"png\"\n",
    "#\n",
    "save_plt=false\n",
    "scripts_path = string(main_path, \"/data-scripts\")\n",
    "plt_dir = \"plots\""
   ]
  },
  {
   "cell_type": "code",
   "execution_count": 18,
   "metadata": {},
   "outputs": [
    {
     "name": "stdout",
     "output_type": "stream",
     "text": [
      " \n",
      "Filename: 2019Q2_stats_by_cov_cat.csv\n",
      " \n",
      "Reading dataframe in folder: /home/artur/BondPricing/bond-data/data/Stats/2019...\n"
     ]
    },
    {
     "name": "stderr",
     "output_type": "stream",
     "text": [
      "WARNING: replacing module DataMod.\n",
      "WARNING: replacing module StatsMod.\n",
      "WARNING: replacing module PlotMod.\n"
     ]
    },
    {
     "data": {
      "text/plain": [
       "12-element Array{Any,1}:\n",
       " VegaLite.VLSpec\n",
       " VegaLite.VLSpec\n",
       " VegaLite.VLSpec\n",
       " VegaLite.VLSpec\n",
       " VegaLite.VLSpec\n",
       " VegaLite.VLSpec\n",
       " VegaLite.VLSpec\n",
       " VegaLite.VLSpec\n",
       " VegaLite.VLSpec\n",
       " VegaLite.VLSpec\n",
       " VegaLite.VLSpec\n",
       " VegaLite.VLSpec"
      ]
     },
     "execution_count": 18,
     "metadata": {},
     "output_type": "execute_result"
    }
   ],
   "source": [
    "include(string(joinpath(scripts_path, \"plot_cov_cat\"), \".jl\"))\n",
    "pl"
   ]
  },
  {
   "cell_type": "code",
   "execution_count": 15,
   "metadata": {},
   "outputs": [
    {
     "data": {
      "application/vnd.vegalite.v4+json": {
       "config": {
        "axis": {
         "domainWidth": 3
        },
        "opacity": {
         "value": 0.7
        },
        "view": {
         "stroke": "transparent"
        }
       },
       "data": {
        "values": [
         {
          "cov_cat": 1,
          "cvt": "any",
          "perc_sbm_total": 13.618290258449303,
          "perc_total": 13.618290258449303,
          "period": "2019Q2",
          "rt": "any",
          "sbm": "otc",
          "value": 274,
          "variable": "cg1_issuers"
         },
         {
          "cov_cat": 1,
          "cvt": "any",
          "perc_sbm_total": 14.240170031880977,
          "perc_total": 13.320079522862823,
          "period": "2019Q2",
          "rt": "any",
          "sbm": "ats",
          "value": 268,
          "variable": "cg1_issuers"
         },
         {
          "cov_cat": 2,
          "cvt": "any",
          "perc_sbm_total": 77.5844930417495,
          "perc_total": 77.5844930417495,
          "period": "2019Q2",
          "rt": "any",
          "sbm": "otc",
          "value": 1561,
          "variable": "cg2_issuers"
         },
         {
          "cov_cat": 2,
          "cvt": "any",
          "perc_sbm_total": 80.97768331562168,
          "perc_total": 75.7455268389662,
          "period": "2019Q2",
          "rt": "any",
          "sbm": "ats",
          "value": 1524,
          "variable": "cg2_issuers"
         },
         {
          "cov_cat": 3,
          "cvt": "any",
          "perc_sbm_total": 1.0934393638170974,
          "perc_total": 1.0934393638170974,
          "period": "2019Q2",
          "rt": "any",
          "sbm": "otc",
          "value": 22,
          "variable": "cg3_issuers"
         },
         {
          "cov_cat": 3,
          "cvt": "any",
          "perc_sbm_total": 1.1689691817215728,
          "perc_total": 1.0934393638170974,
          "period": "2019Q2",
          "rt": "any",
          "sbm": "ats",
          "value": 22,
          "variable": "cg3_issuers"
         },
         {
          "cov_cat": 4,
          "cvt": "any",
          "perc_sbm_total": 1.9880715705765408,
          "perc_total": 1.9880715705765408,
          "period": "2019Q2",
          "rt": "any",
          "sbm": "otc",
          "value": 40,
          "variable": "cg4_issuers"
         },
         {
          "cov_cat": 4,
          "cvt": "any",
          "perc_sbm_total": 2.0722635494155153,
          "perc_total": 1.9383697813121274,
          "period": "2019Q2",
          "rt": "any",
          "sbm": "ats",
          "value": 39,
          "variable": "cg4_issuers"
         },
         {
          "cov_cat": 5,
          "cvt": "any",
          "perc_sbm_total": 0.34791252485089463,
          "perc_total": 0.34791252485089463,
          "period": "2019Q2",
          "rt": "any",
          "sbm": "otc",
          "value": 7,
          "variable": "cg5_issuers"
         },
         {
          "cov_cat": 5,
          "cvt": "any",
          "perc_sbm_total": 0.3188097768331562,
          "perc_total": 0.2982107355864811,
          "period": "2019Q2",
          "rt": "any",
          "sbm": "ats",
          "value": 6,
          "variable": "cg5_issuers"
         },
         {
          "cov_cat": 6,
          "cvt": "any",
          "perc_sbm_total": 64.86083499005964,
          "perc_total": 64.86083499005964,
          "period": "2019Q2",
          "rt": "any",
          "sbm": "otc",
          "value": 1305,
          "variable": "cg6_issuers"
         },
         {
          "cov_cat": 6,
          "cvt": "any",
          "perc_sbm_total": 67.7470775770457,
          "perc_total": 63.36978131212724,
          "period": "2019Q2",
          "rt": "any",
          "sbm": "ats",
          "value": 1275,
          "variable": "cg6_issuers"
         },
         {
          "cov_cat": 7,
          "cvt": "any",
          "perc_sbm_total": 96.27236580516899,
          "perc_total": 96.27236580516899,
          "period": "2019Q2",
          "rt": "any",
          "sbm": "otc",
          "value": 1937,
          "variable": "cg7_issuers"
         },
         {
          "cov_cat": 7,
          "cvt": "any",
          "perc_sbm_total": 96.86503719447397,
          "perc_total": 90.60636182902584,
          "period": "2019Q2",
          "rt": "any",
          "sbm": "ats",
          "value": 1823,
          "variable": "cg7_issuers"
         },
         {
          "cov_cat": 8,
          "cvt": "any",
          "perc_sbm_total": 38.618290258449306,
          "perc_total": 38.618290258449306,
          "period": "2019Q2",
          "rt": "any",
          "sbm": "otc",
          "value": 777,
          "variable": "cg8_issuers"
         },
         {
          "cov_cat": 8,
          "cvt": "any",
          "perc_sbm_total": 40.75451647183847,
          "perc_total": 38.12127236580517,
          "period": "2019Q2",
          "rt": "any",
          "sbm": "ats",
          "value": 767,
          "variable": "cg8_issuers"
         },
         {
          "cov_cat": 9,
          "cvt": "any",
          "perc_sbm_total": 10.288270377733598,
          "perc_total": 10.288270377733598,
          "period": "2019Q2",
          "rt": "any",
          "sbm": "otc",
          "value": 207,
          "variable": "cg9_issuers"
         },
         {
          "cov_cat": 9,
          "cvt": "any",
          "perc_sbm_total": 10.892667375132838,
          "perc_total": 10.18886679920477,
          "period": "2019Q2",
          "rt": "any",
          "sbm": "ats",
          "value": 205,
          "variable": "cg9_issuers"
         },
         {
          "cov_cat": 10,
          "cvt": "any",
          "perc_sbm_total": 2.584493041749503,
          "perc_total": 2.584493041749503,
          "period": "2019Q2",
          "rt": "any",
          "sbm": "otc",
          "value": 52,
          "variable": "cg10_issuers"
         },
         {
          "cov_cat": 10,
          "cvt": "any",
          "perc_sbm_total": 2.709883103081828,
          "perc_total": 2.5347912524850895,
          "period": "2019Q2",
          "rt": "any",
          "sbm": "ats",
          "value": 51,
          "variable": "cg10_issuers"
         },
         {
          "cov_cat": 11,
          "cvt": "any",
          "perc_sbm_total": 85.48707753479125,
          "perc_total": 85.48707753479125,
          "period": "2019Q2",
          "rt": "any",
          "sbm": "otc",
          "value": 1720,
          "variable": "cg11_issuers"
         },
         {
          "cov_cat": 11,
          "cvt": "any",
          "perc_sbm_total": 86.3443145589798,
          "perc_total": 80.76540755467197,
          "period": "2019Q2",
          "rt": "any",
          "sbm": "ats",
          "value": 1625,
          "variable": "cg11_issuers"
         },
         {
          "cov_cat": 12,
          "cvt": "any",
          "perc_sbm_total": 51.93836978131213,
          "perc_total": 51.93836978131213,
          "period": "2019Q2",
          "rt": "any",
          "sbm": "otc",
          "value": 1045,
          "variable": "cg12_issuers"
         },
         {
          "cov_cat": 12,
          "cvt": "any",
          "perc_sbm_total": 52.33793836344315,
          "perc_total": 48.95626242544731,
          "period": "2019Q2",
          "rt": "any",
          "sbm": "ats",
          "value": 985,
          "variable": "cg12_issuers"
         },
         {
          "cov_cat": 13,
          "cvt": "any",
          "perc_sbm_total": 86.28230616302187,
          "perc_total": 86.28230616302187,
          "period": "2019Q2",
          "rt": "any",
          "sbm": "otc",
          "value": 1736,
          "variable": "cg13_issuers"
         },
         {
          "cov_cat": 13,
          "cvt": "any",
          "perc_sbm_total": 87.61955366631243,
          "perc_total": 81.95825049701789,
          "period": "2019Q2",
          "rt": "any",
          "sbm": "ats",
          "value": 1649,
          "variable": "cg13_issuers"
         },
         {
          "cov_cat": 14,
          "cvt": "any",
          "perc_sbm_total": 15.656063618290258,
          "perc_total": 15.656063618290258,
          "period": "2019Q2",
          "rt": "any",
          "sbm": "otc",
          "value": 315,
          "variable": "cg14_issuers"
         },
         {
          "cov_cat": 14,
          "cvt": "any",
          "perc_sbm_total": 16.312433581296492,
          "perc_total": 15.25844930417495,
          "period": "2019Q2",
          "rt": "any",
          "sbm": "ats",
          "value": 307,
          "variable": "cg14_issuers"
         },
         {
          "cov_cat": 15,
          "cvt": "any",
          "perc_sbm_total": 85.6361829025845,
          "perc_total": 85.6361829025845,
          "period": "2019Q2",
          "rt": "any",
          "sbm": "otc",
          "value": 1723,
          "variable": "cg15_issuers"
         },
         {
          "cov_cat": 15,
          "cvt": "any",
          "perc_sbm_total": 86.9287991498406,
          "perc_total": 81.31212723658051,
          "period": "2019Q2",
          "rt": "any",
          "sbm": "ats",
          "value": 1636,
          "variable": "cg15_issuers"
         }
        ]
       },
       "encoding": {
        "color": {
         "field": "sbm",
         "legend": {
          "title": "Secondary Market"
         },
         "scale": {
          "scheme": "viridis"
         },
         "type": "nominal"
        },
        "column": {
         "field": "cov_cat",
         "sort": "ascending",
         "title": "Covenant Category",
         "type": "ordinal"
        },
        "x": {
         "axis": {
          "title": " "
         },
         "field": "sbm",
         "type": "nominal"
        },
        "y": {
         "axis": {
          "grid": false,
          "stack": null,
          "title": "% of Total Number of Issuers"
         },
         "field": "perc_total",
         "type": "quantitative"
        }
       },
       "height": 350,
       "mark": "bar",
       "spacing": 4.5,
       "title": {
        "align": "center",
        "anchor": "middle",
        "fontSize": 14,
        "offset": 20,
        "text": [
         "Number of Issuers by Covenant Category as Percentage of ",
         "Number of Issuers of Non-MTN-Bonds Traded - 2019Q2"
        ]
       },
       "width": {
        "step": 18
       }
      },
      "image/png": "[encoded data removed]",
      "image/svg+xml": [
       "<?xml version=\"1.0\" encoding=\"utf-8\"?>\n",
       "<!DOCTYPE svg PUBLIC \"-//W3C//DTD SVG 1.1//EN\" \"http://www.w3.org/Graphics/SVG/1.1/DTD/svg11.dtd\">\n",
       "<svg class=\"marks\" width=\"812\" height=\"501\" viewBox=\"0 0 812 501\" version=\"1.1\" xmlns=\"http://www.w3.org/2000/svg\" xmlns:xlink=\"http://www.w3.org/1999/xlink\"><rect width=\"812\" height=\"501\" fill=\"white\"></rect><g fill=\"none\" stroke-miterlimit=\"10\" transform=\"translate(46,107)\"><g class=\"mark-group role-frame root\" role=\"graphics-object\" aria-roledescription=\"group mark container\"><g transform=\"translate(0,0)\"><path class=\"background\" aria-hidden=\"true\" d=\"M0,0h0v0h0Z\"></path><g><g class=\"mark-group role-column-title column-title\" role=\"graphics-object\" aria-roledescription=\"group mark container\"><g transform=\"translate(316,-31)\"><path class=\"background\" aria-hidden=\"true\" d=\"M0,0h0v0h0Z\"></path><g><g class=\"mark-group role-title\"><g transform=\"translate(0,-21)\"><path class=\"background\" aria-hidden=\"true\" d=\"M0,0h0v0h0Z\" pointer-events=\"none\"></path><g><g class=\"mark-text role-title-text\" role=\"graphics-symbol\" aria-roledescription=\"title\" aria-label=\"Title text 'Covenant Category'\" pointer-events=\"none\"><text text-anchor=\"middle\" transform=\"translate(0,9)\" font-family=\"sans-serif\" font-size=\"11px\" font-weight=\"bold\" fill=\"#000\" opacity=\"1\">Covenant Category</text></g></g><path class=\"foreground\" aria-hidden=\"true\" d=\"\" pointer-events=\"none\" display=\"none\"></path></g></g></g><path class=\"foreground\" aria-hidden=\"true\" d=\"\" display=\"none\"></path></g></g><g class=\"mark-group role-row-header row_header\" role=\"graphics-object\" aria-roledescription=\"group mark container\"><g transform=\"translate(-1,0)\"><path class=\"background\" aria-hidden=\"true\" d=\"M0,0h0v350h0Z\"></path><g><g class=\"mark-group role-axis\" role=\"graphics-symbol\" aria-roledescription=\"axis\" aria-label=\"Y-axis titled '% of Total Number of Issuers' for a linear scale with values from 0 to 100\"><g transform=\"translate(0.5,0.5)\"><path class=\"background\" aria-hidden=\"true\" d=\"M0,0h0v0h0Z\" pointer-events=\"none\"></path><g><g class=\"mark-rule role-axis-tick\" pointer-events=\"none\"><line transform=\"translate(0,350)\" x2=\"-5\" y2=\"0\" stroke=\"#888\" stroke-width=\"1\" opacity=\"1\"></line><line transform=\"translate(0,315)\" x2=\"-5\" y2=\"0\" stroke=\"#888\" stroke-width=\"1\" opacity=\"1\"></line><line transform=\"translate(0,280)\" x2=\"-5\" y2=\"0\" stroke=\"#888\" stroke-width=\"1\" opacity=\"1\"></line><line transform=\"translate(0,245)\" x2=\"-5\" y2=\"0\" stroke=\"#888\" stroke-width=\"1\" opacity=\"1\"></line><line transform=\"translate(0,210)\" x2=\"-5\" y2=\"0\" stroke=\"#888\" stroke-width=\"1\" opacity=\"1\"></line><line transform=\"translate(0,175)\" x2=\"-5\" y2=\"0\" stroke=\"#888\" stroke-width=\"1\" opacity=\"1\"></line><line transform=\"translate(0,140)\" x2=\"-5\" y2=\"0\" stroke=\"#888\" stroke-width=\"1\" opacity=\"1\"></line><line transform=\"translate(0,105)\" x2=\"-5\" y2=\"0\" stroke=\"#888\" stroke-width=\"1\" opacity=\"1\"></line><line transform=\"translate(0,70)\" x2=\"-5\" y2=\"0\" stroke=\"#888\" stroke-width=\"1\" opacity=\"1\"></line><line transform=\"translate(0,35)\" x2=\"-5\" y2=\"0\" stroke=\"#888\" stroke-width=\"1\" opacity=\"1\"></line><line transform=\"translate(0,0)\" x2=\"-5\" y2=\"0\" stroke=\"#888\" stroke-width=\"1\" opacity=\"1\"></line></g><g class=\"mark-text role-axis-label\" pointer-events=\"none\"><text text-anchor=\"end\" transform=\"translate(-7,353)\" font-family=\"sans-serif\" font-size=\"10px\" fill=\"#000\" opacity=\"1\">0</text><text text-anchor=\"end\" transform=\"translate(-7,318)\" font-family=\"sans-serif\" font-size=\"10px\" fill=\"#000\" opacity=\"1\">10</text><text text-anchor=\"end\" transform=\"translate(-7,283)\" font-family=\"sans-serif\" font-size=\"10px\" fill=\"#000\" opacity=\"1\">20</text><text text-anchor=\"end\" transform=\"translate(-7,247.99999999999997)\" font-family=\"sans-serif\" font-size=\"10px\" fill=\"#000\" opacity=\"1\">30</text><text text-anchor=\"end\" transform=\"translate(-7,213)\" font-family=\"sans-serif\" font-size=\"10px\" fill=\"#000\" opacity=\"1\">40</text><text text-anchor=\"end\" transform=\"translate(-7,178)\" font-family=\"sans-serif\" font-size=\"10px\" fill=\"#000\" opacity=\"1\">50</text><text text-anchor=\"end\" transform=\"translate(-7,143)\" font-family=\"sans-serif\" font-size=\"10px\" fill=\"#000\" opacity=\"1\">60</text><text text-anchor=\"end\" transform=\"translate(-7,108.00000000000001)\" font-family=\"sans-serif\" font-size=\"10px\" fill=\"#000\" opacity=\"1\">70</text><text text-anchor=\"end\" transform=\"translate(-7,72.99999999999999)\" font-family=\"sans-serif\" font-size=\"10px\" fill=\"#000\" opacity=\"1\">80</text><text text-anchor=\"end\" transform=\"translate(-7,37.99999999999999)\" font-family=\"sans-serif\" font-size=\"10px\" fill=\"#000\" opacity=\"1\">90</text><text text-anchor=\"end\" transform=\"translate(-7,3)\" font-family=\"sans-serif\" font-size=\"10px\" fill=\"#000\" opacity=\"1\">100</text></g><g class=\"mark-rule role-axis-domain\" pointer-events=\"none\"><line transform=\"translate(0,350)\" x2=\"0\" y2=\"-350\" stroke=\"#888\" stroke-width=\"3\" opacity=\"1\"></line></g><g class=\"mark-text role-axis-title\" pointer-events=\"none\"><text text-anchor=\"middle\" transform=\"translate(-29,175) rotate(-90) translate(0,-2)\" font-family=\"sans-serif\" font-size=\"11px\" font-weight=\"bold\" fill=\"#000\" opacity=\"1\">% of Total Number of Issuers</text></g></g><path class=\"foreground\" aria-hidden=\"true\" d=\"\" pointer-events=\"none\" display=\"none\"></path></g></g></g><path class=\"foreground\" aria-hidden=\"true\" d=\"\" display=\"none\"></path></g></g><g class=\"mark-group role-column-header column_header\" role=\"graphics-object\" aria-roledescription=\"group mark container\"><g transform=\"translate(0,-1)\"><path class=\"background\" aria-hidden=\"true\" d=\"M0,0h36v0h-36Z\"></path><g><g class=\"mark-group role-title\"><g transform=\"translate(18,-20)\"><path class=\"background\" aria-hidden=\"true\" d=\"M0,0h0v0h0Z\" pointer-events=\"none\"></path><g><g class=\"mark-text role-title-text\" role=\"graphics-symbol\" aria-roledescription=\"title\" aria-label=\"Title text '1'\" pointer-events=\"none\"><text text-anchor=\"middle\" transform=\"translate(0,8)\" font-family=\"sans-serif\" font-size=\"10px\" fill=\"#000\" opacity=\"1\">1</text></g></g><path class=\"foreground\" aria-hidden=\"true\" d=\"\" pointer-events=\"none\" display=\"none\"></path></g></g></g><path class=\"foreground\" aria-hidden=\"true\" d=\"\" display=\"none\"></path></g><g transform=\"translate(42.5,-1)\"><path class=\"background\" aria-hidden=\"true\" d=\"M0,0h36v0h-36Z\"></path><g><g class=\"mark-group role-title\"><g transform=\"translate(18,-20)\"><path class=\"background\" aria-hidden=\"true\" d=\"M0,0h0v0h0Z\" pointer-events=\"none\"></path><g><g class=\"mark-text role-title-text\" role=\"graphics-symbol\" aria-roledescription=\"title\" aria-label=\"Title text '2'\" pointer-events=\"none\"><text text-anchor=\"middle\" transform=\"translate(0,8)\" font-family=\"sans-serif\" font-size=\"10px\" fill=\"#000\" opacity=\"1\">2</text></g></g><path class=\"foreground\" aria-hidden=\"true\" d=\"\" pointer-events=\"none\" display=\"none\"></path></g></g></g><path class=\"foreground\" aria-hidden=\"true\" d=\"\" display=\"none\"></path></g><g transform=\"translate(85,-1)\"><path class=\"background\" aria-hidden=\"true\" d=\"M0,0h36v0h-36Z\"></path><g><g class=\"mark-group role-title\"><g transform=\"translate(18,-20)\"><path class=\"background\" aria-hidden=\"true\" d=\"M0,0h0v0h0Z\" pointer-events=\"none\"></path><g><g class=\"mark-text role-title-text\" role=\"graphics-symbol\" aria-roledescription=\"title\" aria-label=\"Title text '3'\" pointer-events=\"none\"><text text-anchor=\"middle\" transform=\"translate(0,8)\" font-family=\"sans-serif\" font-size=\"10px\" fill=\"#000\" opacity=\"1\">3</text></g></g><path class=\"foreground\" aria-hidden=\"true\" d=\"\" pointer-events=\"none\" display=\"none\"></path></g></g></g><path class=\"foreground\" aria-hidden=\"true\" d=\"\" display=\"none\"></path></g><g transform=\"translate(127.5,-1)\"><path class=\"background\" aria-hidden=\"true\" d=\"M0,0h36v0h-36Z\"></path><g><g class=\"mark-group role-title\"><g transform=\"translate(18,-20)\"><path class=\"background\" aria-hidden=\"true\" d=\"M0,0h0v0h0Z\" pointer-events=\"none\"></path><g><g class=\"mark-text role-title-text\" role=\"graphics-symbol\" aria-roledescription=\"title\" aria-label=\"Title text '4'\" pointer-events=\"none\"><text text-anchor=\"middle\" transform=\"translate(0,8)\" font-family=\"sans-serif\" font-size=\"10px\" fill=\"#000\" opacity=\"1\">4</text></g></g><path class=\"foreground\" aria-hidden=\"true\" d=\"\" pointer-events=\"none\" display=\"none\"></path></g></g></g><path class=\"foreground\" aria-hidden=\"true\" d=\"\" display=\"none\"></path></g><g transform=\"translate(170,-1)\"><path class=\"background\" aria-hidden=\"true\" d=\"M0,0h36v0h-36Z\"></path><g><g class=\"mark-group role-title\"><g transform=\"translate(18,-20)\"><path class=\"background\" aria-hidden=\"true\" d=\"M0,0h0v0h0Z\" pointer-events=\"none\"></path><g><g class=\"mark-text role-title-text\" role=\"graphics-symbol\" aria-roledescription=\"title\" aria-label=\"Title text '5'\" pointer-events=\"none\"><text text-anchor=\"middle\" transform=\"translate(0,8)\" font-family=\"sans-serif\" font-size=\"10px\" fill=\"#000\" opacity=\"1\">5</text></g></g><path class=\"foreground\" aria-hidden=\"true\" d=\"\" pointer-events=\"none\" display=\"none\"></path></g></g></g><path class=\"foreground\" aria-hidden=\"true\" d=\"\" display=\"none\"></path></g><g transform=\"translate(212.5,-1)\"><path class=\"background\" aria-hidden=\"true\" d=\"M0,0h36v0h-36Z\"></path><g><g class=\"mark-group role-title\"><g transform=\"translate(18,-20)\"><path class=\"background\" aria-hidden=\"true\" d=\"M0,0h0v0h0Z\" pointer-events=\"none\"></path><g><g class=\"mark-text role-title-text\" role=\"graphics-symbol\" aria-roledescription=\"title\" aria-label=\"Title text '6'\" pointer-events=\"none\"><text text-anchor=\"middle\" transform=\"translate(0,8)\" font-family=\"sans-serif\" font-size=\"10px\" fill=\"#000\" opacity=\"1\">6</text></g></g><path class=\"foreground\" aria-hidden=\"true\" d=\"\" pointer-events=\"none\" display=\"none\"></path></g></g></g><path class=\"foreground\" aria-hidden=\"true\" d=\"\" display=\"none\"></path></g><g transform=\"translate(255,-1)\"><path class=\"background\" aria-hidden=\"true\" d=\"M0,0h36v0h-36Z\"></path><g><g class=\"mark-group role-title\"><g transform=\"translate(18,-20)\"><path class=\"background\" aria-hidden=\"true\" d=\"M0,0h0v0h0Z\" pointer-events=\"none\"></path><g><g class=\"mark-text role-title-text\" role=\"graphics-symbol\" aria-roledescription=\"title\" aria-label=\"Title text '7'\" pointer-events=\"none\"><text text-anchor=\"middle\" transform=\"translate(0,8)\" font-family=\"sans-serif\" font-size=\"10px\" fill=\"#000\" opacity=\"1\">7</text></g></g><path class=\"foreground\" aria-hidden=\"true\" d=\"\" pointer-events=\"none\" display=\"none\"></path></g></g></g><path class=\"foreground\" aria-hidden=\"true\" d=\"\" display=\"none\"></path></g><g transform=\"translate(297.5,-1)\"><path class=\"background\" aria-hidden=\"true\" d=\"M0,0h36v0h-36Z\"></path><g><g class=\"mark-group role-title\"><g transform=\"translate(18,-20)\"><path class=\"background\" aria-hidden=\"true\" d=\"M0,0h0v0h0Z\" pointer-events=\"none\"></path><g><g class=\"mark-text role-title-text\" role=\"graphics-symbol\" aria-roledescription=\"title\" aria-label=\"Title text '8'\" pointer-events=\"none\"><text text-anchor=\"middle\" transform=\"translate(0,8)\" font-family=\"sans-serif\" font-size=\"10px\" fill=\"#000\" opacity=\"1\">8</text></g></g><path class=\"foreground\" aria-hidden=\"true\" d=\"\" pointer-events=\"none\" display=\"none\"></path></g></g></g><path class=\"foreground\" aria-hidden=\"true\" d=\"\" display=\"none\"></path></g><g transform=\"translate(340,-1)\"><path class=\"background\" aria-hidden=\"true\" d=\"M0,0h36v0h-36Z\"></path><g><g class=\"mark-group role-title\"><g transform=\"translate(18,-20)\"><path class=\"background\" aria-hidden=\"true\" d=\"M0,0h0v0h0Z\" pointer-events=\"none\"></path><g><g class=\"mark-text role-title-text\" role=\"graphics-symbol\" aria-roledescription=\"title\" aria-label=\"Title text '9'\" pointer-events=\"none\"><text text-anchor=\"middle\" transform=\"translate(0,8)\" font-family=\"sans-serif\" font-size=\"10px\" fill=\"#000\" opacity=\"1\">9</text></g></g><path class=\"foreground\" aria-hidden=\"true\" d=\"\" pointer-events=\"none\" display=\"none\"></path></g></g></g><path class=\"foreground\" aria-hidden=\"true\" d=\"\" display=\"none\"></path></g><g transform=\"translate(382.5,-1)\"><path class=\"background\" aria-hidden=\"true\" d=\"M0,0h36v0h-36Z\"></path><g><g class=\"mark-group role-title\"><g transform=\"translate(18,-20)\"><path class=\"background\" aria-hidden=\"true\" d=\"M0,0h0v0h0Z\" pointer-events=\"none\"></path><g><g class=\"mark-text role-title-text\" role=\"graphics-symbol\" aria-roledescription=\"title\" aria-label=\"Title text '10'\" pointer-events=\"none\"><text text-anchor=\"middle\" transform=\"translate(0,8)\" font-family=\"sans-serif\" font-size=\"10px\" fill=\"#000\" opacity=\"1\">10</text></g></g><path class=\"foreground\" aria-hidden=\"true\" d=\"\" pointer-events=\"none\" display=\"none\"></path></g></g></g><path class=\"foreground\" aria-hidden=\"true\" d=\"\" display=\"none\"></path></g><g transform=\"translate(425,-1)\"><path class=\"background\" aria-hidden=\"true\" d=\"M0,0h36v0h-36Z\"></path><g><g class=\"mark-group role-title\"><g transform=\"translate(18,-20)\"><path class=\"background\" aria-hidden=\"true\" d=\"M0,0h0v0h0Z\" pointer-events=\"none\"></path><g><g class=\"mark-text role-title-text\" role=\"graphics-symbol\" aria-roledescription=\"title\" aria-label=\"Title text '11'\" pointer-events=\"none\"><text text-anchor=\"middle\" transform=\"translate(0,8)\" font-family=\"sans-serif\" font-size=\"10px\" fill=\"#000\" opacity=\"1\">11</text></g></g><path class=\"foreground\" aria-hidden=\"true\" d=\"\" pointer-events=\"none\" display=\"none\"></path></g></g></g><path class=\"foreground\" aria-hidden=\"true\" d=\"\" display=\"none\"></path></g><g transform=\"translate(467.5,-1)\"><path class=\"background\" aria-hidden=\"true\" d=\"M0,0h36v0h-36Z\"></path><g><g class=\"mark-group role-title\"><g transform=\"translate(18,-20)\"><path class=\"background\" aria-hidden=\"true\" d=\"M0,0h0v0h0Z\" pointer-events=\"none\"></path><g><g class=\"mark-text role-title-text\" role=\"graphics-symbol\" aria-roledescription=\"title\" aria-label=\"Title text '12'\" pointer-events=\"none\"><text text-anchor=\"middle\" transform=\"translate(0,8)\" font-family=\"sans-serif\" font-size=\"10px\" fill=\"#000\" opacity=\"1\">12</text></g></g><path class=\"foreground\" aria-hidden=\"true\" d=\"\" pointer-events=\"none\" display=\"none\"></path></g></g></g><path class=\"foreground\" aria-hidden=\"true\" d=\"\" display=\"none\"></path></g><g transform=\"translate(510,-1)\"><path class=\"background\" aria-hidden=\"true\" d=\"M0,0h36v0h-36Z\"></path><g><g class=\"mark-group role-title\"><g transform=\"translate(18,-20)\"><path class=\"background\" aria-hidden=\"true\" d=\"M0,0h0v0h0Z\" pointer-events=\"none\"></path><g><g class=\"mark-text role-title-text\" role=\"graphics-symbol\" aria-roledescription=\"title\" aria-label=\"Title text '13'\" pointer-events=\"none\"><text text-anchor=\"middle\" transform=\"translate(0,8)\" font-family=\"sans-serif\" font-size=\"10px\" fill=\"#000\" opacity=\"1\">13</text></g></g><path class=\"foreground\" aria-hidden=\"true\" d=\"\" pointer-events=\"none\" display=\"none\"></path></g></g></g><path class=\"foreground\" aria-hidden=\"true\" d=\"\" display=\"none\"></path></g><g transform=\"translate(552.5,-1)\"><path class=\"background\" aria-hidden=\"true\" d=\"M0,0h36v0h-36Z\"></path><g><g class=\"mark-group role-title\"><g transform=\"translate(18,-20)\"><path class=\"background\" aria-hidden=\"true\" d=\"M0,0h0v0h0Z\" pointer-events=\"none\"></path><g><g class=\"mark-text role-title-text\" role=\"graphics-symbol\" aria-roledescription=\"title\" aria-label=\"Title text '14'\" pointer-events=\"none\"><text text-anchor=\"middle\" transform=\"translate(0,8)\" font-family=\"sans-serif\" font-size=\"10px\" fill=\"#000\" opacity=\"1\">14</text></g></g><path class=\"foreground\" aria-hidden=\"true\" d=\"\" pointer-events=\"none\" display=\"none\"></path></g></g></g><path class=\"foreground\" aria-hidden=\"true\" d=\"\" display=\"none\"></path></g><g transform=\"translate(595,-1)\"><path class=\"background\" aria-hidden=\"true\" d=\"M0,0h36v0h-36Z\"></path><g><g class=\"mark-group role-title\"><g transform=\"translate(18,-20)\"><path class=\"background\" aria-hidden=\"true\" d=\"M0,0h0v0h0Z\" pointer-events=\"none\"></path><g><g class=\"mark-text role-title-text\" role=\"graphics-symbol\" aria-roledescription=\"title\" aria-label=\"Title text '15'\" pointer-events=\"none\"><text text-anchor=\"middle\" transform=\"translate(0,8)\" font-family=\"sans-serif\" font-size=\"10px\" fill=\"#000\" opacity=\"1\">15</text></g></g><path class=\"foreground\" aria-hidden=\"true\" d=\"\" pointer-events=\"none\" display=\"none\"></path></g></g></g><path class=\"foreground\" aria-hidden=\"true\" d=\"\" display=\"none\"></path></g></g><g class=\"mark-group role-column-footer column_footer\" role=\"graphics-object\" aria-roledescription=\"group mark container\"><g transform=\"translate(0,351)\"><path class=\"background\" aria-hidden=\"true\" d=\"M0,0h36v0h-36Z\"></path><g><g class=\"mark-group role-axis\" role=\"graphics-symbol\" aria-roledescription=\"axis\" aria-label=\"X-axis titled ' ' for a discrete scale with 2 values: ats, otc\"><g transform=\"translate(0.5,0.5)\"><path class=\"background\" aria-hidden=\"true\" d=\"M0,0h0v0h0Z\" pointer-events=\"none\"></path><g><g class=\"mark-rule role-axis-tick\" pointer-events=\"none\"><line transform=\"translate(9,0)\" x2=\"0\" y2=\"5\" stroke=\"#888\" stroke-width=\"1\" opacity=\"1\"></line><line transform=\"translate(27,0)\" x2=\"0\" y2=\"5\" stroke=\"#888\" stroke-width=\"1\" opacity=\"1\"></line></g><g class=\"mark-text role-axis-label\" pointer-events=\"none\"><text text-anchor=\"end\" transform=\"translate(8.500000000000002,7) rotate(270) translate(0,3)\" font-family=\"sans-serif\" font-size=\"10px\" fill=\"#000\" opacity=\"1\">ats</text><text text-anchor=\"end\" transform=\"translate(26.5,7) rotate(270) translate(0,3)\" font-family=\"sans-serif\" font-size=\"10px\" fill=\"#000\" opacity=\"1\">otc</text></g><g class=\"mark-rule role-axis-domain\" pointer-events=\"none\"><line transform=\"translate(0,0)\" x2=\"36\" y2=\"0\" stroke=\"#888\" stroke-width=\"3\" opacity=\"1\"></line></g><g class=\"mark-text role-axis-title\" pointer-events=\"none\"><text text-anchor=\"middle\" transform=\"translate(18,36)\" font-family=\"sans-serif\" font-size=\"11px\" font-weight=\"bold\" fill=\"#000\" opacity=\"1\"></text></g></g><path class=\"foreground\" aria-hidden=\"true\" d=\"\" pointer-events=\"none\" display=\"none\"></path></g></g></g><path class=\"foreground\" aria-hidden=\"true\" d=\"\" display=\"none\"></path></g><g transform=\"translate(42.5,351)\"><path class=\"background\" aria-hidden=\"true\" d=\"M0,0h36v0h-36Z\"></path><g><g class=\"mark-group role-axis\" role=\"graphics-symbol\" aria-roledescription=\"axis\" aria-label=\"X-axis titled ' ' for a discrete scale with 2 values: ats, otc\"><g transform=\"translate(0.5,0.5)\"><path class=\"background\" aria-hidden=\"true\" d=\"M0,0h0v0h0Z\" pointer-events=\"none\"></path><g><g class=\"mark-rule role-axis-tick\" pointer-events=\"none\"><line transform=\"translate(9,0)\" x2=\"0\" y2=\"5\" stroke=\"#888\" stroke-width=\"1\" opacity=\"1\"></line><line transform=\"translate(27,0)\" x2=\"0\" y2=\"5\" stroke=\"#888\" stroke-width=\"1\" opacity=\"1\"></line></g><g class=\"mark-text role-axis-label\" pointer-events=\"none\"><text text-anchor=\"end\" transform=\"translate(8.500000000000002,7) rotate(270) translate(0,3)\" font-family=\"sans-serif\" font-size=\"10px\" fill=\"#000\" opacity=\"1\">ats</text><text text-anchor=\"end\" transform=\"translate(26.5,7) rotate(270) translate(0,3)\" font-family=\"sans-serif\" font-size=\"10px\" fill=\"#000\" opacity=\"1\">otc</text></g><g class=\"mark-rule role-axis-domain\" pointer-events=\"none\"><line transform=\"translate(0,0)\" x2=\"36\" y2=\"0\" stroke=\"#888\" stroke-width=\"3\" opacity=\"1\"></line></g><g class=\"mark-text role-axis-title\" pointer-events=\"none\"><text text-anchor=\"middle\" transform=\"translate(18,36)\" font-family=\"sans-serif\" font-size=\"11px\" font-weight=\"bold\" fill=\"#000\" opacity=\"1\"></text></g></g><path class=\"foreground\" aria-hidden=\"true\" d=\"\" pointer-events=\"none\" display=\"none\"></path></g></g></g><path class=\"foreground\" aria-hidden=\"true\" d=\"\" display=\"none\"></path></g><g transform=\"translate(85,351)\"><path class=\"background\" aria-hidden=\"true\" d=\"M0,0h36v0h-36Z\"></path><g><g class=\"mark-group role-axis\" role=\"graphics-symbol\" aria-roledescription=\"axis\" aria-label=\"X-axis titled ' ' for a discrete scale with 2 values: ats, otc\"><g transform=\"translate(0.5,0.5)\"><path class=\"background\" aria-hidden=\"true\" d=\"M0,0h0v0h0Z\" pointer-events=\"none\"></path><g><g class=\"mark-rule role-axis-tick\" pointer-events=\"none\"><line transform=\"translate(9,0)\" x2=\"0\" y2=\"5\" stroke=\"#888\" stroke-width=\"1\" opacity=\"1\"></line><line transform=\"translate(27,0)\" x2=\"0\" y2=\"5\" stroke=\"#888\" stroke-width=\"1\" opacity=\"1\"></line></g><g class=\"mark-text role-axis-label\" pointer-events=\"none\"><text text-anchor=\"end\" transform=\"translate(8.500000000000002,7) rotate(270) translate(0,3)\" font-family=\"sans-serif\" font-size=\"10px\" fill=\"#000\" opacity=\"1\">ats</text><text text-anchor=\"end\" transform=\"translate(26.5,7) rotate(270) translate(0,3)\" font-family=\"sans-serif\" font-size=\"10px\" fill=\"#000\" opacity=\"1\">otc</text></g><g class=\"mark-rule role-axis-domain\" pointer-events=\"none\"><line transform=\"translate(0,0)\" x2=\"36\" y2=\"0\" stroke=\"#888\" stroke-width=\"3\" opacity=\"1\"></line></g><g class=\"mark-text role-axis-title\" pointer-events=\"none\"><text text-anchor=\"middle\" transform=\"translate(18,36)\" font-family=\"sans-serif\" font-size=\"11px\" font-weight=\"bold\" fill=\"#000\" opacity=\"1\"></text></g></g><path class=\"foreground\" aria-hidden=\"true\" d=\"\" pointer-events=\"none\" display=\"none\"></path></g></g></g><path class=\"foreground\" aria-hidden=\"true\" d=\"\" display=\"none\"></path></g><g transform=\"translate(127.5,351)\"><path class=\"background\" aria-hidden=\"true\" d=\"M0,0h36v0h-36Z\"></path><g><g class=\"mark-group role-axis\" role=\"graphics-symbol\" aria-roledescription=\"axis\" aria-label=\"X-axis titled ' ' for a discrete scale with 2 values: ats, otc\"><g transform=\"translate(0.5,0.5)\"><path class=\"background\" aria-hidden=\"true\" d=\"M0,0h0v0h0Z\" pointer-events=\"none\"></path><g><g class=\"mark-rule role-axis-tick\" pointer-events=\"none\"><line transform=\"translate(9,0)\" x2=\"0\" y2=\"5\" stroke=\"#888\" stroke-width=\"1\" opacity=\"1\"></line><line transform=\"translate(27,0)\" x2=\"0\" y2=\"5\" stroke=\"#888\" stroke-width=\"1\" opacity=\"1\"></line></g><g class=\"mark-text role-axis-label\" pointer-events=\"none\"><text text-anchor=\"end\" transform=\"translate(8.500000000000002,7) rotate(270) translate(0,3)\" font-family=\"sans-serif\" font-size=\"10px\" fill=\"#000\" opacity=\"1\">ats</text><text text-anchor=\"end\" transform=\"translate(26.5,7) rotate(270) translate(0,3)\" font-family=\"sans-serif\" font-size=\"10px\" fill=\"#000\" opacity=\"1\">otc</text></g><g class=\"mark-rule role-axis-domain\" pointer-events=\"none\"><line transform=\"translate(0,0)\" x2=\"36\" y2=\"0\" stroke=\"#888\" stroke-width=\"3\" opacity=\"1\"></line></g><g class=\"mark-text role-axis-title\" pointer-events=\"none\"><text text-anchor=\"middle\" transform=\"translate(18,36)\" font-family=\"sans-serif\" font-size=\"11px\" font-weight=\"bold\" fill=\"#000\" opacity=\"1\"></text></g></g><path class=\"foreground\" aria-hidden=\"true\" d=\"\" pointer-events=\"none\" display=\"none\"></path></g></g></g><path class=\"foreground\" aria-hidden=\"true\" d=\"\" display=\"none\"></path></g><g transform=\"translate(170,351)\"><path class=\"background\" aria-hidden=\"true\" d=\"M0,0h36v0h-36Z\"></path><g><g class=\"mark-group role-axis\" role=\"graphics-symbol\" aria-roledescription=\"axis\" aria-label=\"X-axis titled ' ' for a discrete scale with 2 values: ats, otc\"><g transform=\"translate(0.5,0.5)\"><path class=\"background\" aria-hidden=\"true\" d=\"M0,0h0v0h0Z\" pointer-events=\"none\"></path><g><g class=\"mark-rule role-axis-tick\" pointer-events=\"none\"><line transform=\"translate(9,0)\" x2=\"0\" y2=\"5\" stroke=\"#888\" stroke-width=\"1\" opacity=\"1\"></line><line transform=\"translate(27,0)\" x2=\"0\" y2=\"5\" stroke=\"#888\" stroke-width=\"1\" opacity=\"1\"></line></g><g class=\"mark-text role-axis-label\" pointer-events=\"none\"><text text-anchor=\"end\" transform=\"translate(8.500000000000002,7) rotate(270) translate(0,3)\" font-family=\"sans-serif\" font-size=\"10px\" fill=\"#000\" opacity=\"1\">ats</text><text text-anchor=\"end\" transform=\"translate(26.5,7) rotate(270) translate(0,3)\" font-family=\"sans-serif\" font-size=\"10px\" fill=\"#000\" opacity=\"1\">otc</text></g><g class=\"mark-rule role-axis-domain\" pointer-events=\"none\"><line transform=\"translate(0,0)\" x2=\"36\" y2=\"0\" stroke=\"#888\" stroke-width=\"3\" opacity=\"1\"></line></g><g class=\"mark-text role-axis-title\" pointer-events=\"none\"><text text-anchor=\"middle\" transform=\"translate(18,36)\" font-family=\"sans-serif\" font-size=\"11px\" font-weight=\"bold\" fill=\"#000\" opacity=\"1\"></text></g></g><path class=\"foreground\" aria-hidden=\"true\" d=\"\" pointer-events=\"none\" display=\"none\"></path></g></g></g><path class=\"foreground\" aria-hidden=\"true\" d=\"\" display=\"none\"></path></g><g transform=\"translate(212.5,351)\"><path class=\"background\" aria-hidden=\"true\" d=\"M0,0h36v0h-36Z\"></path><g><g class=\"mark-group role-axis\" role=\"graphics-symbol\" aria-roledescription=\"axis\" aria-label=\"X-axis titled ' ' for a discrete scale with 2 values: ats, otc\"><g transform=\"translate(0.5,0.5)\"><path class=\"background\" aria-hidden=\"true\" d=\"M0,0h0v0h0Z\" pointer-events=\"none\"></path><g><g class=\"mark-rule role-axis-tick\" pointer-events=\"none\"><line transform=\"translate(9,0)\" x2=\"0\" y2=\"5\" stroke=\"#888\" stroke-width=\"1\" opacity=\"1\"></line><line transform=\"translate(27,0)\" x2=\"0\" y2=\"5\" stroke=\"#888\" stroke-width=\"1\" opacity=\"1\"></line></g><g class=\"mark-text role-axis-label\" pointer-events=\"none\"><text text-anchor=\"end\" transform=\"translate(8.500000000000002,7) rotate(270) translate(0,3)\" font-family=\"sans-serif\" font-size=\"10px\" fill=\"#000\" opacity=\"1\">ats</text><text text-anchor=\"end\" transform=\"translate(26.5,7) rotate(270) translate(0,3)\" font-family=\"sans-serif\" font-size=\"10px\" fill=\"#000\" opacity=\"1\">otc</text></g><g class=\"mark-rule role-axis-domain\" pointer-events=\"none\"><line transform=\"translate(0,0)\" x2=\"36\" y2=\"0\" stroke=\"#888\" stroke-width=\"3\" opacity=\"1\"></line></g><g class=\"mark-text role-axis-title\" pointer-events=\"none\"><text text-anchor=\"middle\" transform=\"translate(18,36)\" font-family=\"sans-serif\" font-size=\"11px\" font-weight=\"bold\" fill=\"#000\" opacity=\"1\"></text></g></g><path class=\"foreground\" aria-hidden=\"true\" d=\"\" pointer-events=\"none\" display=\"none\"></path></g></g></g><path class=\"foreground\" aria-hidden=\"true\" d=\"\" display=\"none\"></path></g><g transform=\"translate(255,351)\"><path class=\"background\" aria-hidden=\"true\" d=\"M0,0h36v0h-36Z\"></path><g><g class=\"mark-group role-axis\" role=\"graphics-symbol\" aria-roledescription=\"axis\" aria-label=\"X-axis titled ' ' for a discrete scale with 2 values: ats, otc\"><g transform=\"translate(0.5,0.5)\"><path class=\"background\" aria-hidden=\"true\" d=\"M0,0h0v0h0Z\" pointer-events=\"none\"></path><g><g class=\"mark-rule role-axis-tick\" pointer-events=\"none\"><line transform=\"translate(9,0)\" x2=\"0\" y2=\"5\" stroke=\"#888\" stroke-width=\"1\" opacity=\"1\"></line><line transform=\"translate(27,0)\" x2=\"0\" y2=\"5\" stroke=\"#888\" stroke-width=\"1\" opacity=\"1\"></line></g><g class=\"mark-text role-axis-label\" pointer-events=\"none\"><text text-anchor=\"end\" transform=\"translate(8.500000000000002,7) rotate(270) translate(0,3)\" font-family=\"sans-serif\" font-size=\"10px\" fill=\"#000\" opacity=\"1\">ats</text><text text-anchor=\"end\" transform=\"translate(26.5,7) rotate(270) translate(0,3)\" font-family=\"sans-serif\" font-size=\"10px\" fill=\"#000\" opacity=\"1\">otc</text></g><g class=\"mark-rule role-axis-domain\" pointer-events=\"none\"><line transform=\"translate(0,0)\" x2=\"36\" y2=\"0\" stroke=\"#888\" stroke-width=\"3\" opacity=\"1\"></line></g><g class=\"mark-text role-axis-title\" pointer-events=\"none\"><text text-anchor=\"middle\" transform=\"translate(18,36)\" font-family=\"sans-serif\" font-size=\"11px\" font-weight=\"bold\" fill=\"#000\" opacity=\"1\"></text></g></g><path class=\"foreground\" aria-hidden=\"true\" d=\"\" pointer-events=\"none\" display=\"none\"></path></g></g></g><path class=\"foreground\" aria-hidden=\"true\" d=\"\" display=\"none\"></path></g><g transform=\"translate(297.5,351)\"><path class=\"background\" aria-hidden=\"true\" d=\"M0,0h36v0h-36Z\"></path><g><g class=\"mark-group role-axis\" role=\"graphics-symbol\" aria-roledescription=\"axis\" aria-label=\"X-axis titled ' ' for a discrete scale with 2 values: ats, otc\"><g transform=\"translate(0.5,0.5)\"><path class=\"background\" aria-hidden=\"true\" d=\"M0,0h0v0h0Z\" pointer-events=\"none\"></path><g><g class=\"mark-rule role-axis-tick\" pointer-events=\"none\"><line transform=\"translate(9,0)\" x2=\"0\" y2=\"5\" stroke=\"#888\" stroke-width=\"1\" opacity=\"1\"></line><line transform=\"translate(27,0)\" x2=\"0\" y2=\"5\" stroke=\"#888\" stroke-width=\"1\" opacity=\"1\"></line></g><g class=\"mark-text role-axis-label\" pointer-events=\"none\"><text text-anchor=\"end\" transform=\"translate(8.500000000000002,7) rotate(270) translate(0,3)\" font-family=\"sans-serif\" font-size=\"10px\" fill=\"#000\" opacity=\"1\">ats</text><text text-anchor=\"end\" transform=\"translate(26.5,7) rotate(270) translate(0,3)\" font-family=\"sans-serif\" font-size=\"10px\" fill=\"#000\" opacity=\"1\">otc</text></g><g class=\"mark-rule role-axis-domain\" pointer-events=\"none\"><line transform=\"translate(0,0)\" x2=\"36\" y2=\"0\" stroke=\"#888\" stroke-width=\"3\" opacity=\"1\"></line></g><g class=\"mark-text role-axis-title\" pointer-events=\"none\"><text text-anchor=\"middle\" transform=\"translate(18,36)\" font-family=\"sans-serif\" font-size=\"11px\" font-weight=\"bold\" fill=\"#000\" opacity=\"1\"></text></g></g><path class=\"foreground\" aria-hidden=\"true\" d=\"\" pointer-events=\"none\" display=\"none\"></path></g></g></g><path class=\"foreground\" aria-hidden=\"true\" d=\"\" display=\"none\"></path></g><g transform=\"translate(340,351)\"><path class=\"background\" aria-hidden=\"true\" d=\"M0,0h36v0h-36Z\"></path><g><g class=\"mark-group role-axis\" role=\"graphics-symbol\" aria-roledescription=\"axis\" aria-label=\"X-axis titled ' ' for a discrete scale with 2 values: ats, otc\"><g transform=\"translate(0.5,0.5)\"><path class=\"background\" aria-hidden=\"true\" d=\"M0,0h0v0h0Z\" pointer-events=\"none\"></path><g><g class=\"mark-rule role-axis-tick\" pointer-events=\"none\"><line transform=\"translate(9,0)\" x2=\"0\" y2=\"5\" stroke=\"#888\" stroke-width=\"1\" opacity=\"1\"></line><line transform=\"translate(27,0)\" x2=\"0\" y2=\"5\" stroke=\"#888\" stroke-width=\"1\" opacity=\"1\"></line></g><g class=\"mark-text role-axis-label\" pointer-events=\"none\"><text text-anchor=\"end\" transform=\"translate(8.500000000000002,7) rotate(270) translate(0,3)\" font-family=\"sans-serif\" font-size=\"10px\" fill=\"#000\" opacity=\"1\">ats</text><text text-anchor=\"end\" transform=\"translate(26.5,7) rotate(270) translate(0,3)\" font-family=\"sans-serif\" font-size=\"10px\" fill=\"#000\" opacity=\"1\">otc</text></g><g class=\"mark-rule role-axis-domain\" pointer-events=\"none\"><line transform=\"translate(0,0)\" x2=\"36\" y2=\"0\" stroke=\"#888\" stroke-width=\"3\" opacity=\"1\"></line></g><g class=\"mark-text role-axis-title\" pointer-events=\"none\"><text text-anchor=\"middle\" transform=\"translate(18,36)\" font-family=\"sans-serif\" font-size=\"11px\" font-weight=\"bold\" fill=\"#000\" opacity=\"1\"></text></g></g><path class=\"foreground\" aria-hidden=\"true\" d=\"\" pointer-events=\"none\" display=\"none\"></path></g></g></g><path class=\"foreground\" aria-hidden=\"true\" d=\"\" display=\"none\"></path></g><g transform=\"translate(382.5,351)\"><path class=\"background\" aria-hidden=\"true\" d=\"M0,0h36v0h-36Z\"></path><g><g class=\"mark-group role-axis\" role=\"graphics-symbol\" aria-roledescription=\"axis\" aria-label=\"X-axis titled ' ' for a discrete scale with 2 values: ats, otc\"><g transform=\"translate(0.5,0.5)\"><path class=\"background\" aria-hidden=\"true\" d=\"M0,0h0v0h0Z\" pointer-events=\"none\"></path><g><g class=\"mark-rule role-axis-tick\" pointer-events=\"none\"><line transform=\"translate(9,0)\" x2=\"0\" y2=\"5\" stroke=\"#888\" stroke-width=\"1\" opacity=\"1\"></line><line transform=\"translate(27,0)\" x2=\"0\" y2=\"5\" stroke=\"#888\" stroke-width=\"1\" opacity=\"1\"></line></g><g class=\"mark-text role-axis-label\" pointer-events=\"none\"><text text-anchor=\"end\" transform=\"translate(8.500000000000002,7) rotate(270) translate(0,3)\" font-family=\"sans-serif\" font-size=\"10px\" fill=\"#000\" opacity=\"1\">ats</text><text text-anchor=\"end\" transform=\"translate(26.5,7) rotate(270) translate(0,3)\" font-family=\"sans-serif\" font-size=\"10px\" fill=\"#000\" opacity=\"1\">otc</text></g><g class=\"mark-rule role-axis-domain\" pointer-events=\"none\"><line transform=\"translate(0,0)\" x2=\"36\" y2=\"0\" stroke=\"#888\" stroke-width=\"3\" opacity=\"1\"></line></g><g class=\"mark-text role-axis-title\" pointer-events=\"none\"><text text-anchor=\"middle\" transform=\"translate(18,36)\" font-family=\"sans-serif\" font-size=\"11px\" font-weight=\"bold\" fill=\"#000\" opacity=\"1\"></text></g></g><path class=\"foreground\" aria-hidden=\"true\" d=\"\" pointer-events=\"none\" display=\"none\"></path></g></g></g><path class=\"foreground\" aria-hidden=\"true\" d=\"\" display=\"none\"></path></g><g transform=\"translate(425,351)\"><path class=\"background\" aria-hidden=\"true\" d=\"M0,0h36v0h-36Z\"></path><g><g class=\"mark-group role-axis\" role=\"graphics-symbol\" aria-roledescription=\"axis\" aria-label=\"X-axis titled ' ' for a discrete scale with 2 values: ats, otc\"><g transform=\"translate(0.5,0.5)\"><path class=\"background\" aria-hidden=\"true\" d=\"M0,0h0v0h0Z\" pointer-events=\"none\"></path><g><g class=\"mark-rule role-axis-tick\" pointer-events=\"none\"><line transform=\"translate(9,0)\" x2=\"0\" y2=\"5\" stroke=\"#888\" stroke-width=\"1\" opacity=\"1\"></line><line transform=\"translate(27,0)\" x2=\"0\" y2=\"5\" stroke=\"#888\" stroke-width=\"1\" opacity=\"1\"></line></g><g class=\"mark-text role-axis-label\" pointer-events=\"none\"><text text-anchor=\"end\" transform=\"translate(8.500000000000002,7) rotate(270) translate(0,3)\" font-family=\"sans-serif\" font-size=\"10px\" fill=\"#000\" opacity=\"1\">ats</text><text text-anchor=\"end\" transform=\"translate(26.5,7) rotate(270) translate(0,3)\" font-family=\"sans-serif\" font-size=\"10px\" fill=\"#000\" opacity=\"1\">otc</text></g><g class=\"mark-rule role-axis-domain\" pointer-events=\"none\"><line transform=\"translate(0,0)\" x2=\"36\" y2=\"0\" stroke=\"#888\" stroke-width=\"3\" opacity=\"1\"></line></g><g class=\"mark-text role-axis-title\" pointer-events=\"none\"><text text-anchor=\"middle\" transform=\"translate(18,36)\" font-family=\"sans-serif\" font-size=\"11px\" font-weight=\"bold\" fill=\"#000\" opacity=\"1\"></text></g></g><path class=\"foreground\" aria-hidden=\"true\" d=\"\" pointer-events=\"none\" display=\"none\"></path></g></g></g><path class=\"foreground\" aria-hidden=\"true\" d=\"\" display=\"none\"></path></g><g transform=\"translate(467.5,351)\"><path class=\"background\" aria-hidden=\"true\" d=\"M0,0h36v0h-36Z\"></path><g><g class=\"mark-group role-axis\" role=\"graphics-symbol\" aria-roledescription=\"axis\" aria-label=\"X-axis titled ' ' for a discrete scale with 2 values: ats, otc\"><g transform=\"translate(0.5,0.5)\"><path class=\"background\" aria-hidden=\"true\" d=\"M0,0h0v0h0Z\" pointer-events=\"none\"></path><g><g class=\"mark-rule role-axis-tick\" pointer-events=\"none\"><line transform=\"translate(9,0)\" x2=\"0\" y2=\"5\" stroke=\"#888\" stroke-width=\"1\" opacity=\"1\"></line><line transform=\"translate(27,0)\" x2=\"0\" y2=\"5\" stroke=\"#888\" stroke-width=\"1\" opacity=\"1\"></line></g><g class=\"mark-text role-axis-label\" pointer-events=\"none\"><text text-anchor=\"end\" transform=\"translate(8.500000000000002,7) rotate(270) translate(0,3)\" font-family=\"sans-serif\" font-size=\"10px\" fill=\"#000\" opacity=\"1\">ats</text><text text-anchor=\"end\" transform=\"translate(26.5,7) rotate(270) translate(0,3)\" font-family=\"sans-serif\" font-size=\"10px\" fill=\"#000\" opacity=\"1\">otc</text></g><g class=\"mark-rule role-axis-domain\" pointer-events=\"none\"><line transform=\"translate(0,0)\" x2=\"36\" y2=\"0\" stroke=\"#888\" stroke-width=\"3\" opacity=\"1\"></line></g><g class=\"mark-text role-axis-title\" pointer-events=\"none\"><text text-anchor=\"middle\" transform=\"translate(18,36)\" font-family=\"sans-serif\" font-size=\"11px\" font-weight=\"bold\" fill=\"#000\" opacity=\"1\"></text></g></g><path class=\"foreground\" aria-hidden=\"true\" d=\"\" pointer-events=\"none\" display=\"none\"></path></g></g></g><path class=\"foreground\" aria-hidden=\"true\" d=\"\" display=\"none\"></path></g><g transform=\"translate(510,351)\"><path class=\"background\" aria-hidden=\"true\" d=\"M0,0h36v0h-36Z\"></path><g><g class=\"mark-group role-axis\" role=\"graphics-symbol\" aria-roledescription=\"axis\" aria-label=\"X-axis titled ' ' for a discrete scale with 2 values: ats, otc\"><g transform=\"translate(0.5,0.5)\"><path class=\"background\" aria-hidden=\"true\" d=\"M0,0h0v0h0Z\" pointer-events=\"none\"></path><g><g class=\"mark-rule role-axis-tick\" pointer-events=\"none\"><line transform=\"translate(9,0)\" x2=\"0\" y2=\"5\" stroke=\"#888\" stroke-width=\"1\" opacity=\"1\"></line><line transform=\"translate(27,0)\" x2=\"0\" y2=\"5\" stroke=\"#888\" stroke-width=\"1\" opacity=\"1\"></line></g><g class=\"mark-text role-axis-label\" pointer-events=\"none\"><text text-anchor=\"end\" transform=\"translate(8.500000000000002,7) rotate(270) translate(0,3)\" font-family=\"sans-serif\" font-size=\"10px\" fill=\"#000\" opacity=\"1\">ats</text><text text-anchor=\"end\" transform=\"translate(26.5,7) rotate(270) translate(0,3)\" font-family=\"sans-serif\" font-size=\"10px\" fill=\"#000\" opacity=\"1\">otc</text></g><g class=\"mark-rule role-axis-domain\" pointer-events=\"none\"><line transform=\"translate(0,0)\" x2=\"36\" y2=\"0\" stroke=\"#888\" stroke-width=\"3\" opacity=\"1\"></line></g><g class=\"mark-text role-axis-title\" pointer-events=\"none\"><text text-anchor=\"middle\" transform=\"translate(18,36)\" font-family=\"sans-serif\" font-size=\"11px\" font-weight=\"bold\" fill=\"#000\" opacity=\"1\"></text></g></g><path class=\"foreground\" aria-hidden=\"true\" d=\"\" pointer-events=\"none\" display=\"none\"></path></g></g></g><path class=\"foreground\" aria-hidden=\"true\" d=\"\" display=\"none\"></path></g><g transform=\"translate(552.5,351)\"><path class=\"background\" aria-hidden=\"true\" d=\"M0,0h36v0h-36Z\"></path><g><g class=\"mark-group role-axis\" role=\"graphics-symbol\" aria-roledescription=\"axis\" aria-label=\"X-axis titled ' ' for a discrete scale with 2 values: ats, otc\"><g transform=\"translate(0.5,0.5)\"><path class=\"background\" aria-hidden=\"true\" d=\"M0,0h0v0h0Z\" pointer-events=\"none\"></path><g><g class=\"mark-rule role-axis-tick\" pointer-events=\"none\"><line transform=\"translate(9,0)\" x2=\"0\" y2=\"5\" stroke=\"#888\" stroke-width=\"1\" opacity=\"1\"></line><line transform=\"translate(27,0)\" x2=\"0\" y2=\"5\" stroke=\"#888\" stroke-width=\"1\" opacity=\"1\"></line></g><g class=\"mark-text role-axis-label\" pointer-events=\"none\"><text text-anchor=\"end\" transform=\"translate(8.500000000000002,7) rotate(270) translate(0,3)\" font-family=\"sans-serif\" font-size=\"10px\" fill=\"#000\" opacity=\"1\">ats</text><text text-anchor=\"end\" transform=\"translate(26.5,7) rotate(270) translate(0,3)\" font-family=\"sans-serif\" font-size=\"10px\" fill=\"#000\" opacity=\"1\">otc</text></g><g class=\"mark-rule role-axis-domain\" pointer-events=\"none\"><line transform=\"translate(0,0)\" x2=\"36\" y2=\"0\" stroke=\"#888\" stroke-width=\"3\" opacity=\"1\"></line></g><g class=\"mark-text role-axis-title\" pointer-events=\"none\"><text text-anchor=\"middle\" transform=\"translate(18,36)\" font-family=\"sans-serif\" font-size=\"11px\" font-weight=\"bold\" fill=\"#000\" opacity=\"1\"></text></g></g><path class=\"foreground\" aria-hidden=\"true\" d=\"\" pointer-events=\"none\" display=\"none\"></path></g></g></g><path class=\"foreground\" aria-hidden=\"true\" d=\"\" display=\"none\"></path></g><g transform=\"translate(595,351)\"><path class=\"background\" aria-hidden=\"true\" d=\"M0,0h36v0h-36Z\"></path><g><g class=\"mark-group role-axis\" role=\"graphics-symbol\" aria-roledescription=\"axis\" aria-label=\"X-axis titled ' ' for a discrete scale with 2 values: ats, otc\"><g transform=\"translate(0.5,0.5)\"><path class=\"background\" aria-hidden=\"true\" d=\"M0,0h0v0h0Z\" pointer-events=\"none\"></path><g><g class=\"mark-rule role-axis-tick\" pointer-events=\"none\"><line transform=\"translate(9,0)\" x2=\"0\" y2=\"5\" stroke=\"#888\" stroke-width=\"1\" opacity=\"1\"></line><line transform=\"translate(27,0)\" x2=\"0\" y2=\"5\" stroke=\"#888\" stroke-width=\"1\" opacity=\"1\"></line></g><g class=\"mark-text role-axis-label\" pointer-events=\"none\"><text text-anchor=\"end\" transform=\"translate(8.500000000000002,7) rotate(270) translate(0,3)\" font-family=\"sans-serif\" font-size=\"10px\" fill=\"#000\" opacity=\"1\">ats</text><text text-anchor=\"end\" transform=\"translate(26.5,7) rotate(270) translate(0,3)\" font-family=\"sans-serif\" font-size=\"10px\" fill=\"#000\" opacity=\"1\">otc</text></g><g class=\"mark-rule role-axis-domain\" pointer-events=\"none\"><line transform=\"translate(0,0)\" x2=\"36\" y2=\"0\" stroke=\"#888\" stroke-width=\"3\" opacity=\"1\"></line></g><g class=\"mark-text role-axis-title\" pointer-events=\"none\"><text text-anchor=\"middle\" transform=\"translate(18,36)\" font-family=\"sans-serif\" font-size=\"11px\" font-weight=\"bold\" fill=\"#000\" opacity=\"1\"></text></g></g><path class=\"foreground\" aria-hidden=\"true\" d=\"\" pointer-events=\"none\" display=\"none\"></path></g></g></g><path class=\"foreground\" aria-hidden=\"true\" d=\"\" display=\"none\"></path></g></g><g class=\"mark-group role-scope cell\" role=\"graphics-object\" aria-roledescription=\"group mark container\"><g transform=\"translate(0,0)\"><path class=\"background\" aria-hidden=\"true\" d=\"M0.5,0.5h36v350h-36Z\"></path><g><g class=\"mark-rect role-mark child_marks\" role=\"graphics-object\" aria-roledescription=\"rect mark container\"><path aria-label=\"% of Total Number of Issuers: 13.6182902584;  : otc; Secondary Market: otc\" role=\"graphics-symbol\" aria-roledescription=\"bar\" d=\"M18.900000000000002,302.3359840954274h16.2v47.66401590457258h-16.2Z\" fill=\"rgb(53, 183, 121)\"></path><path aria-label=\"% of Total Number of Issuers: 13.3200795229;  : ats; Secondary Market: ats\" role=\"graphics-symbol\" aria-roledescription=\"bar\" d=\"M0.9000000000000021,303.3797216699801h16.2v46.620278330019914h-16.2Z\" fill=\"rgb(49, 104, 142)\"></path></g></g><path class=\"foreground\" aria-hidden=\"true\" d=\"\" display=\"none\"></path></g><g transform=\"translate(42.5,0)\"><path class=\"background\" aria-hidden=\"true\" d=\"M0.5,0.5h36v350h-36Z\"></path><g><g class=\"mark-rect role-mark child_marks\" role=\"graphics-object\" aria-roledescription=\"rect mark container\"><path aria-label=\"% of Total Number of Issuers: 77.5844930417;  : otc; Secondary Market: otc\" role=\"graphics-symbol\" aria-roledescription=\"bar\" d=\"M18.900000000000002,78.45427435387678h16.2v271.54572564612323h-16.2Z\" fill=\"rgb(53, 183, 121)\"></path><path aria-label=\"% of Total Number of Issuers: 75.745526839;  : ats; Secondary Market: ats\" role=\"graphics-symbol\" aria-roledescription=\"bar\" d=\"M0.9000000000000021,84.89065606361828h16.2v265.1093439363817h-16.2Z\" fill=\"rgb(49, 104, 142)\"></path></g></g><path class=\"foreground\" aria-hidden=\"true\" d=\"\" display=\"none\"></path></g><g transform=\"translate(85,0)\"><path class=\"background\" aria-hidden=\"true\" d=\"M0.5,0.5h36v350h-36Z\"></path><g><g class=\"mark-rect role-mark child_marks\" role=\"graphics-object\" aria-roledescription=\"rect mark container\"><path aria-label=\"% of Total Number of Issuers: 1.09343936382;  : otc; Secondary Market: otc\" role=\"graphics-symbol\" aria-roledescription=\"bar\" d=\"M18.900000000000002,346.17296222664015h16.2v3.827037773359848h-16.2Z\" fill=\"rgb(53, 183, 121)\"></path><path aria-label=\"% of Total Number of Issuers: 1.09343936382;  : ats; Secondary Market: ats\" role=\"graphics-symbol\" aria-roledescription=\"bar\" d=\"M0.9000000000000021,346.17296222664015h16.2v3.827037773359848h-16.2Z\" fill=\"rgb(49, 104, 142)\"></path></g></g><path class=\"foreground\" aria-hidden=\"true\" d=\"\" display=\"none\"></path></g><g transform=\"translate(127.5,0)\"><path class=\"background\" aria-hidden=\"true\" d=\"M0.5,0.5h36v350h-36Z\"></path><g><g class=\"mark-rect role-mark child_marks\" role=\"graphics-object\" aria-roledescription=\"rect mark container\"><path aria-label=\"% of Total Number of Issuers: 1.98807157058;  : otc; Secondary Market: otc\" role=\"graphics-symbol\" aria-roledescription=\"bar\" d=\"M18.900000000000002,343.0417495029821h16.2v6.9582504970179h-16.2Z\" fill=\"rgb(53, 183, 121)\"></path><path aria-label=\"% of Total Number of Issuers: 1.93836978131;  : ats; Secondary Market: ats\" role=\"graphics-symbol\" aria-roledescription=\"bar\" d=\"M0.9000000000000021,343.21570576540756h16.2v6.784294234592437h-16.2Z\" fill=\"rgb(49, 104, 142)\"></path></g></g><path class=\"foreground\" aria-hidden=\"true\" d=\"\" display=\"none\"></path></g><g transform=\"translate(170,0)\"><path class=\"background\" aria-hidden=\"true\" d=\"M0.5,0.5h36v350h-36Z\"></path><g><g class=\"mark-rect role-mark child_marks\" role=\"graphics-object\" aria-roledescription=\"rect mark container\"><path aria-label=\"% of Total Number of Issuers: 0.347912524851;  : otc; Secondary Market: otc\" role=\"graphics-symbol\" aria-roledescription=\"bar\" d=\"M18.900000000000002,348.7823061630219h16.2v1.2176938369781283h-16.2Z\" fill=\"rgb(53, 183, 121)\"></path><path aria-label=\"% of Total Number of Issuers: 0.298210735586;  : ats; Secondary Market: ats\" role=\"graphics-symbol\" aria-roledescription=\"bar\" d=\"M0.9000000000000021,348.95626242544733h16.2v1.0437375745526651h-16.2Z\" fill=\"rgb(49, 104, 142)\"></path></g></g><path class=\"foreground\" aria-hidden=\"true\" d=\"\" display=\"none\"></path></g><g transform=\"translate(212.5,0)\"><path class=\"background\" aria-hidden=\"true\" d=\"M0.5,0.5h36v350h-36Z\"></path><g><g class=\"mark-rect role-mark child_marks\" role=\"graphics-object\" aria-roledescription=\"rect mark container\"><path aria-label=\"% of Total Number of Issuers: 64.8608349901;  : otc; Secondary Market: otc\" role=\"graphics-symbol\" aria-roledescription=\"bar\" d=\"M18.900000000000002,122.98707753479124h16.2v227.01292246520876h-16.2Z\" fill=\"rgb(53, 183, 121)\"></path><path aria-label=\"% of Total Number of Issuers: 63.3697813121;  : ats; Secondary Market: ats\" role=\"graphics-symbol\" aria-roledescription=\"bar\" d=\"M0.9000000000000021,128.20576540755468h16.2v221.79423459244532h-16.2Z\" fill=\"rgb(49, 104, 142)\"></path></g></g><path class=\"foreground\" aria-hidden=\"true\" d=\"\" display=\"none\"></path></g><g transform=\"translate(255,0)\"><path class=\"background\" aria-hidden=\"true\" d=\"M0.5,0.5h36v350h-36Z\"></path><g><g class=\"mark-rect role-mark child_marks\" role=\"graphics-object\" aria-roledescription=\"rect mark container\"><path aria-label=\"% of Total Number of Issuers: 96.2723658052;  : otc; Secondary Market: otc\" role=\"graphics-symbol\" aria-roledescription=\"bar\" d=\"M18.900000000000002,13.046719681908531h16.2v336.95328031809146h-16.2Z\" fill=\"rgb(53, 183, 121)\"></path><path aria-label=\"% of Total Number of Issuers: 90.606361829;  : ats; Secondary Market: ats\" role=\"graphics-symbol\" aria-roledescription=\"bar\" d=\"M0.9000000000000021,32.87773359840956h16.2v317.1222664015904h-16.2Z\" fill=\"rgb(49, 104, 142)\"></path></g></g><path class=\"foreground\" aria-hidden=\"true\" d=\"\" display=\"none\"></path></g><g transform=\"translate(297.5,0)\"><path class=\"background\" aria-hidden=\"true\" d=\"M0.5,0.5h36v350h-36Z\"></path><g><g class=\"mark-rect role-mark child_marks\" role=\"graphics-object\" aria-roledescription=\"rect mark container\"><path aria-label=\"% of Total Number of Issuers: 38.6182902584;  : otc; Secondary Market: otc\" role=\"graphics-symbol\" aria-roledescription=\"bar\" d=\"M18.900000000000002,214.83598409542742h16.2v135.16401590457258h-16.2Z\" fill=\"rgb(53, 183, 121)\"></path><path aria-label=\"% of Total Number of Issuers: 38.1212723658;  : ats; Secondary Market: ats\" role=\"graphics-symbol\" aria-roledescription=\"bar\" d=\"M0.9000000000000021,216.5755467196819h16.2v133.4244532803181h-16.2Z\" fill=\"rgb(49, 104, 142)\"></path></g></g><path class=\"foreground\" aria-hidden=\"true\" d=\"\" display=\"none\"></path></g><g transform=\"translate(340,0)\"><path class=\"background\" aria-hidden=\"true\" d=\"M0.5,0.5h36v350h-36Z\"></path><g><g class=\"mark-rect role-mark child_marks\" role=\"graphics-object\" aria-roledescription=\"rect mark container\"><path aria-label=\"% of Total Number of Issuers: 10.2882703777;  : otc; Secondary Market: otc\" role=\"graphics-symbol\" aria-roledescription=\"bar\" d=\"M18.900000000000002,313.9910536779324h16.2v36.00894632206757h-16.2Z\" fill=\"rgb(53, 183, 121)\"></path><path aria-label=\"% of Total Number of Issuers: 10.1888667992;  : ats; Secondary Market: ats\" role=\"graphics-symbol\" aria-roledescription=\"bar\" d=\"M0.9000000000000021,314.3389662027833h16.2v35.6610337972167h-16.2Z\" fill=\"rgb(49, 104, 142)\"></path></g></g><path class=\"foreground\" aria-hidden=\"true\" d=\"\" display=\"none\"></path></g><g transform=\"translate(382.5,0)\"><path class=\"background\" aria-hidden=\"true\" d=\"M0.5,0.5h36v350h-36Z\"></path><g><g class=\"mark-rect role-mark child_marks\" role=\"graphics-object\" aria-roledescription=\"rect mark container\"><path aria-label=\"% of Total Number of Issuers: 2.58449304175;  : otc; Secondary Market: otc\" role=\"graphics-symbol\" aria-roledescription=\"bar\" d=\"M18.900000000000002,340.9542743538767h16.2v9.045725646123287h-16.2Z\" fill=\"rgb(53, 183, 121)\"></path><path aria-label=\"% of Total Number of Issuers: 2.53479125249;  : ats; Secondary Market: ats\" role=\"graphics-symbol\" aria-roledescription=\"bar\" d=\"M0.9000000000000021,341.1282306163022h16.2v8.871769383697824h-16.2Z\" fill=\"rgb(49, 104, 142)\"></path></g></g><path class=\"foreground\" aria-hidden=\"true\" d=\"\" display=\"none\"></path></g><g transform=\"translate(425,0)\"><path class=\"background\" aria-hidden=\"true\" d=\"M0.5,0.5h36v350h-36Z\"></path><g><g class=\"mark-rect role-mark child_marks\" role=\"graphics-object\" aria-roledescription=\"rect mark container\"><path aria-label=\"% of Total Number of Issuers: 85.4870775348;  : otc; Secondary Market: otc\" role=\"graphics-symbol\" aria-roledescription=\"bar\" d=\"M18.900000000000002,50.7952286282306h16.2v299.2047713717694h-16.2Z\" fill=\"rgb(53, 183, 121)\"></path><path aria-label=\"% of Total Number of Issuers: 80.7654075547;  : ats; Secondary Market: ats\" role=\"graphics-symbol\" aria-roledescription=\"bar\" d=\"M0.9000000000000021,67.32107355864812h16.2v282.6789264413519h-16.2Z\" fill=\"rgb(49, 104, 142)\"></path></g></g><path class=\"foreground\" aria-hidden=\"true\" d=\"\" display=\"none\"></path></g><g transform=\"translate(467.5,0)\"><path class=\"background\" aria-hidden=\"true\" d=\"M0.5,0.5h36v350h-36Z\"></path><g><g class=\"mark-rect role-mark child_marks\" role=\"graphics-object\" aria-roledescription=\"rect mark container\"><path aria-label=\"% of Total Number of Issuers: 51.9383697813;  : otc; Secondary Market: otc\" role=\"graphics-symbol\" aria-roledescription=\"bar\" d=\"M18.900000000000002,168.21570576540753h16.2v181.78429423459247h-16.2Z\" fill=\"rgb(53, 183, 121)\"></path><path aria-label=\"% of Total Number of Issuers: 48.9562624254;  : ats; Secondary Market: ats\" role=\"graphics-symbol\" aria-roledescription=\"bar\" d=\"M0.9000000000000021,178.65308151093444h16.2v171.34691848906556h-16.2Z\" fill=\"rgb(49, 104, 142)\"></path></g></g><path class=\"foreground\" aria-hidden=\"true\" d=\"\" display=\"none\"></path></g><g transform=\"translate(510,0)\"><path class=\"background\" aria-hidden=\"true\" d=\"M0.5,0.5h36v350h-36Z\"></path><g><g class=\"mark-rect role-mark child_marks\" role=\"graphics-object\" aria-roledescription=\"rect mark container\"><path aria-label=\"% of Total Number of Issuers: 86.282306163;  : otc; Secondary Market: otc\" role=\"graphics-symbol\" aria-roledescription=\"bar\" d=\"M18.900000000000002,48.01192842942345h16.2v301.98807157057655h-16.2Z\" fill=\"rgb(53, 183, 121)\"></path><path aria-label=\"% of Total Number of Issuers: 81.958250497;  : ats; Secondary Market: ats\" role=\"graphics-symbol\" aria-roledescription=\"bar\" d=\"M0.9000000000000021,63.14612326043741h16.2v286.85387673956257h-16.2Z\" fill=\"rgb(49, 104, 142)\"></path></g></g><path class=\"foreground\" aria-hidden=\"true\" d=\"\" display=\"none\"></path></g><g transform=\"translate(552.5,0)\"><path class=\"background\" aria-hidden=\"true\" d=\"M0.5,0.5h36v350h-36Z\"></path><g><g class=\"mark-rect role-mark child_marks\" role=\"graphics-object\" aria-roledescription=\"rect mark container\"><path aria-label=\"% of Total Number of Issuers: 15.6560636183;  : otc; Secondary Market: otc\" role=\"graphics-symbol\" aria-roledescription=\"bar\" d=\"M18.900000000000002,295.2037773359841h16.2v54.796222664015886h-16.2Z\" fill=\"rgb(53, 183, 121)\"></path><path aria-label=\"% of Total Number of Issuers: 15.2584493042;  : ats; Secondary Market: ats\" role=\"graphics-symbol\" aria-roledescription=\"bar\" d=\"M0.9000000000000021,296.5954274353877h16.2v53.404572564612295h-16.2Z\" fill=\"rgb(49, 104, 142)\"></path></g></g><path class=\"foreground\" aria-hidden=\"true\" d=\"\" display=\"none\"></path></g><g transform=\"translate(595,0)\"><path class=\"background\" aria-hidden=\"true\" d=\"M0.5,0.5h36v350h-36Z\"></path><g><g class=\"mark-rect role-mark child_marks\" role=\"graphics-object\" aria-roledescription=\"rect mark container\"><path aria-label=\"% of Total Number of Issuers: 85.6361829026;  : otc; Secondary Market: otc\" role=\"graphics-symbol\" aria-roledescription=\"bar\" d=\"M18.900000000000002,50.273359840954285h16.2v299.7266401590457h-16.2Z\" fill=\"rgb(53, 183, 121)\"></path><path aria-label=\"% of Total Number of Issuers: 81.3121272366;  : ats; Secondary Market: ats\" role=\"graphics-symbol\" aria-roledescription=\"bar\" d=\"M0.9000000000000021,65.40755467196821h16.2v284.5924453280318h-16.2Z\" fill=\"rgb(49, 104, 142)\"></path></g></g><path class=\"foreground\" aria-hidden=\"true\" d=\"\" display=\"none\"></path></g></g><g class=\"mark-group role-legend\" role=\"graphics-symbol\" aria-roledescription=\"legend\" aria-label=\"Symbol legend titled 'Secondary Market' for fill color with 2 values: ats, otc\"><g transform=\"translate(650,0)\"><path class=\"background\" aria-hidden=\"true\" d=\"M0,0h111v40h-111Z\" pointer-events=\"none\"></path><g><g class=\"mark-group role-legend-entry\"><g transform=\"translate(0,16)\"><path class=\"background\" aria-hidden=\"true\" d=\"M0,0h0v0h0Z\" pointer-events=\"none\"></path><g><g class=\"mark-group role-scope\" role=\"graphics-object\" aria-roledescription=\"group mark container\"><g transform=\"translate(0,0)\"><path class=\"background\" aria-hidden=\"true\" d=\"M0,0h32v11h-32Z\" pointer-events=\"none\" opacity=\"1\"></path><g><g class=\"mark-symbol role-legend-symbol\" pointer-events=\"none\"><path transform=\"translate(6,6)\" d=\"M-5,-5h10v10h-10Z\" fill=\"rgb(49, 104, 142)\" stroke-width=\"1.5\" opacity=\"1\"></path></g><g class=\"mark-text role-legend-label\" pointer-events=\"none\"><text text-anchor=\"start\" transform=\"translate(16,9)\" font-family=\"sans-serif\" font-size=\"10px\" fill=\"#000\" opacity=\"1\">ats</text></g></g><path class=\"foreground\" aria-hidden=\"true\" d=\"\" pointer-events=\"none\" display=\"none\"></path></g><g transform=\"translate(0,13)\"><path class=\"background\" aria-hidden=\"true\" d=\"M0,0h32v11h-32Z\" pointer-events=\"none\" opacity=\"1\"></path><g><g class=\"mark-symbol role-legend-symbol\" pointer-events=\"none\"><path transform=\"translate(6,6)\" d=\"M-5,-5h10v10h-10Z\" fill=\"rgb(53, 183, 121)\" stroke-width=\"1.5\" opacity=\"1\"></path></g><g class=\"mark-text role-legend-label\" pointer-events=\"none\"><text text-anchor=\"start\" transform=\"translate(16,9)\" font-family=\"sans-serif\" font-size=\"10px\" fill=\"#000\" opacity=\"1\">otc</text></g></g><path class=\"foreground\" aria-hidden=\"true\" d=\"\" pointer-events=\"none\" display=\"none\"></path></g></g></g><path class=\"foreground\" aria-hidden=\"true\" d=\"\" pointer-events=\"none\" display=\"none\"></path></g></g><g class=\"mark-text role-legend-title\" pointer-events=\"none\"><text text-anchor=\"start\" transform=\"translate(0,9)\" font-family=\"sans-serif\" font-size=\"11px\" font-weight=\"bold\" fill=\"#000\" opacity=\"1\">Secondary Market</text></g></g><path class=\"foreground\" aria-hidden=\"true\" d=\"\" pointer-events=\"none\" display=\"none\"></path></g></g><g class=\"mark-group role-title\"><g transform=\"translate(360,-102)\"><path class=\"background\" aria-hidden=\"true\" d=\"M0,0h0v0h0Z\" pointer-events=\"none\"></path><g><g class=\"mark-text role-title-text\" role=\"graphics-symbol\" aria-roledescription=\"title\" aria-label=\"Title text 'Number of Issuers by Covenant Category as Percentage of  Number of Issuers of Non-MTN-Bonds Traded - 2019Q2'\" pointer-events=\"none\"><text text-anchor=\"middle\" transform=\"translate(0,11)\" font-family=\"sans-serif\" font-size=\"14px\" font-weight=\"bold\" fill=\"#000\" opacity=\"1\"><tspan>Number of Issuers by Covenant Category as Percentage of</tspan><tspan x=\"0\" dy=\"16\">Number of Issuers of Non-MTN-Bonds Traded - 2019Q2</tspan></text></g></g><path class=\"foreground\" aria-hidden=\"true\" d=\"\" pointer-events=\"none\" display=\"none\"></path></g></g></g><path class=\"foreground\" aria-hidden=\"true\" d=\"\" display=\"none\"></path></g></g></g></svg>\n"
      ],
      "text/plain": [
       "@vlplot(\n",
       "    config={\n",
       "        view={\n",
       "            stroke=\"transparent\"\n",
       "        },\n",
       "        axis={\n",
       "            domainWidth=3\n",
       "        },\n",
       "        opacity={\n",
       "            value=0.7\n",
       "        }\n",
       "    },\n",
       "    title={\n",
       "        text=[\n",
       "            \"Number of Issuers by Covenant Category as Percentage of \",\n",
       "            \"Number of Issuers of Non-MTN-Bonds Traded - 2019Q2\"\n",
       "        ],\n",
       "        align=\"center\",\n",
       "        anchor=\"middle\",\n",
       "        fontSize=14,\n",
       "        offset=20\n",
       "    },\n",
       "    spacing=4.5,\n",
       "    width={\n",
       "        step=18\n",
       "    },\n",
       "    height=350,\n",
       "    mark=\"bar\",\n",
       "    encoding={\n",
       "        column={\n",
       "            type=\"ordinal\",\n",
       "            title=\"Covenant Category\",\n",
       "            sort=\"ascending\",\n",
       "            field=\"cov_cat\"\n",
       "        },\n",
       "        y={\n",
       "            axis={\n",
       "                title=\"% of Total Number of Issuers\",\n",
       "                grid=false,\n",
       "                stack=nothing\n",
       "            },\n",
       "            field=\"perc_total\"\n",
       "        },\n",
       "        x={\n",
       "            type=\"nominal\",\n",
       "            axis={\n",
       "                title=\" \"\n",
       "            },\n",
       "            field=\"sbm\"\n",
       "        },\n",
       "        color={\n",
       "            legend={\n",
       "                title=\"Secondary Market\"\n",
       "            },\n",
       "            scale={\n",
       "                scheme=\"viridis\"\n",
       "            },\n",
       "            field=\"sbm\",\n",
       "            type=\"nominal\"\n",
       "        }\n",
       "    },\n",
       "    data={\n",
       "        values=...\n",
       "    }\n",
       ")"
      ]
     },
     "execution_count": 15,
     "metadata": {},
     "output_type": "execute_result"
    }
   ],
   "source": [
    "pl[2]"
   ]
  },
  {
   "cell_type": "code",
   "execution_count": 21,
   "metadata": {},
   "outputs": [
    {
     "data": {
      "application/vnd.vegalite.v4+json": {
       "config": {
        "axis": {
         "domainWidth": 3
        },
        "opacity": {
         "value": 0.7
        },
        "view": {
         "stroke": "transparent"
        }
       },
       "data": {
        "values": [
         {
          "cov_cat": 1,
          "cvt": "any",
          "perc_sbm_total": 5.750172850887301,
          "perc_total": 5.7495103122479545,
          "period": "2019Q2",
          "rt": "any",
          "sbm": "otc",
          "value": 499,
          "variable": "cg1_bonds"
         },
         {
          "cov_cat": 1,
          "cvt": "any",
          "perc_sbm_total": 5.94482421875,
          "perc_total": 5.611245535199908,
          "period": "2019Q2",
          "rt": "any",
          "sbm": "ats",
          "value": 487,
          "variable": "cg1_bonds"
         },
         {
          "cov_cat": 2,
          "cvt": "any",
          "perc_sbm_total": 77.11454252131827,
          "perc_total": 77.10565733379423,
          "period": "2019Q2",
          "rt": "any",
          "sbm": "otc",
          "value": 6692,
          "variable": "cg2_bonds"
         },
         {
          "cov_cat": 2,
          "cvt": "any",
          "perc_sbm_total": 78.9306640625,
          "perc_total": 74.50167069938934,
          "period": "2019Q2",
          "rt": "any",
          "sbm": "ats",
          "value": 6466,
          "variable": "cg2_bonds"
         },
         {
          "cov_cat": 3,
          "cvt": "any",
          "perc_sbm_total": 0.8527310440193593,
          "perc_total": 0.8526327917962898,
          "period": "2019Q2",
          "rt": "any",
          "sbm": "otc",
          "value": 74,
          "variable": "cg3_bonds"
         },
         {
          "cov_cat": 3,
          "cvt": "any",
          "perc_sbm_total": 0.91552734375,
          "perc_total": 0.8641548565502939,
          "period": "2019Q2",
          "rt": "any",
          "sbm": "ats",
          "value": 75,
          "variable": "cg3_bonds"
         },
         {
          "cov_cat": 4,
          "cvt": "any",
          "perc_sbm_total": 1.2214796035952986,
          "perc_total": 1.2213388639244154,
          "period": "2019Q2",
          "rt": "any",
          "sbm": "otc",
          "value": 106,
          "variable": "cg4_bonds"
         },
         {
          "cov_cat": 4,
          "cvt": "any",
          "perc_sbm_total": 1.20849609375,
          "perc_total": 1.1406844106463878,
          "period": "2019Q2",
          "rt": "any",
          "sbm": "ats",
          "value": 99,
          "variable": "cg4_bonds"
         },
         {
          "cov_cat": 5,
          "cvt": "any",
          "perc_sbm_total": 0.11523392486748099,
          "perc_total": 0.11522064754003918,
          "period": "2019Q2",
          "rt": "any",
          "sbm": "otc",
          "value": 10,
          "variable": "cg5_bonds"
         },
         {
          "cov_cat": 5,
          "cvt": "any",
          "perc_sbm_total": 0.10986328125,
          "perc_total": 0.10369858278603526,
          "period": "2019Q2",
          "rt": "any",
          "sbm": "ats",
          "value": 9,
          "variable": "cg5_bonds"
         },
         {
          "cov_cat": 6,
          "cvt": "any",
          "perc_sbm_total": 57.997234385803175,
          "perc_total": 57.99055190690172,
          "period": "2019Q2",
          "rt": "any",
          "sbm": "otc",
          "value": 5033,
          "variable": "cg6_bonds"
         },
         {
          "cov_cat": 6,
          "cvt": "any",
          "perc_sbm_total": 59.521484375,
          "perc_total": 56.1815877405231,
          "period": "2019Q2",
          "rt": "any",
          "sbm": "ats",
          "value": 4876,
          "variable": "cg6_bonds"
         },
         {
          "cov_cat": 7,
          "cvt": "any",
          "perc_sbm_total": 94.71076284858262,
          "perc_total": 94.6998502131582,
          "period": "2019Q2",
          "rt": "any",
          "sbm": "otc",
          "value": 8219,
          "variable": "cg7_bonds"
         },
         {
          "cov_cat": 7,
          "cvt": "any",
          "perc_sbm_total": 95.3857421875,
          "perc_total": 90.03341398778662,
          "period": "2019Q2",
          "rt": "any",
          "sbm": "ats",
          "value": 7814,
          "variable": "cg7_bonds"
         },
         {
          "cov_cat": 8,
          "cvt": "any",
          "perc_sbm_total": 39.744180686794195,
          "perc_total": 39.73960133655951,
          "period": "2019Q2",
          "rt": "any",
          "sbm": "otc",
          "value": 3449,
          "variable": "cg8_bonds"
         },
         {
          "cov_cat": 8,
          "cvt": "any",
          "perc_sbm_total": 40.8447265625,
          "perc_total": 38.55282866689711,
          "period": "2019Q2",
          "rt": "any",
          "sbm": "ats",
          "value": 3346,
          "variable": "cg8_bonds"
         },
         {
          "cov_cat": 9,
          "cvt": "any",
          "perc_sbm_total": 4.102327725282323,
          "perc_total": 4.101855052425394,
          "period": "2019Q2",
          "rt": "any",
          "sbm": "otc",
          "value": 356,
          "variable": "cg9_bonds"
         },
         {
          "cov_cat": 9,
          "cvt": "any",
          "perc_sbm_total": 4.296875,
          "perc_total": 4.055766793409378,
          "period": "2019Q2",
          "rt": "any",
          "sbm": "ats",
          "value": 352,
          "variable": "cg9_bonds"
         },
         {
          "cov_cat": 10,
          "cvt": "any",
          "perc_sbm_total": 1.302143351002535,
          "perc_total": 1.3019933172024427,
          "period": "2019Q2",
          "rt": "any",
          "sbm": "otc",
          "value": 113,
          "variable": "cg10_bonds"
         },
         {
          "cov_cat": 10,
          "cvt": "any",
          "perc_sbm_total": 1.33056640625,
          "perc_total": 1.255905058186427,
          "period": "2019Q2",
          "rt": "any",
          "sbm": "ats",
          "value": 109,
          "variable": "cg10_bonds"
         },
         {
          "cov_cat": 11,
          "cvt": "any",
          "perc_sbm_total": 77.8405162479834,
          "perc_total": 77.83154741329646,
          "period": "2019Q2",
          "rt": "any",
          "sbm": "otc",
          "value": 6755,
          "variable": "cg11_bonds"
         },
         {
          "cov_cat": 11,
          "cvt": "any",
          "perc_sbm_total": 78.5400390625,
          "perc_total": 74.1329646272612,
          "period": "2019Q2",
          "rt": "any",
          "sbm": "ats",
          "value": 6434,
          "variable": "cg11_bonds"
         },
         {
          "cov_cat": 12,
          "cvt": "any",
          "perc_sbm_total": 39.66351693938696,
          "perc_total": 39.65894688328148,
          "period": "2019Q2",
          "rt": "any",
          "sbm": "otc",
          "value": 3442,
          "variable": "cg12_bonds"
         },
         {
          "cov_cat": 12,
          "cvt": "any",
          "perc_sbm_total": 40.478515625,
          "perc_total": 38.207166724276995,
          "period": "2019Q2",
          "rt": "any",
          "sbm": "ats",
          "value": 3316,
          "variable": "cg12_bonds"
         },
         {
          "cov_cat": 13,
          "cvt": "any",
          "perc_sbm_total": 76.81493431666283,
          "perc_total": 76.80608365019012,
          "period": "2019Q2",
          "rt": "any",
          "sbm": "otc",
          "value": 6666,
          "variable": "cg13_bonds"
         },
         {
          "cov_cat": 13,
          "cvt": "any",
          "perc_sbm_total": 77.6611328125,
          "perc_total": 73.30337596497293,
          "period": "2019Q2",
          "rt": "any",
          "sbm": "ats",
          "value": 6362,
          "variable": "cg13_bonds"
         },
         {
          "cov_cat": 14,
          "cvt": "any",
          "perc_sbm_total": 6.464623185065683,
          "perc_total": 6.4638783269961975,
          "period": "2019Q2",
          "rt": "any",
          "sbm": "otc",
          "value": 561,
          "variable": "cg14_bonds"
         },
         {
          "cov_cat": 14,
          "cvt": "any",
          "perc_sbm_total": 6.70166015625,
          "perc_total": 6.32561354994815,
          "period": "2019Q2",
          "rt": "any",
          "sbm": "ats",
          "value": 549,
          "variable": "cg14_bonds"
         },
         {
          "cov_cat": 15,
          "cvt": "any",
          "perc_sbm_total": 75.97372666513021,
          "perc_total": 75.96497292314783,
          "period": "2019Q2",
          "rt": "any",
          "sbm": "otc",
          "value": 6593,
          "variable": "cg15_bonds"
         },
         {
          "cov_cat": 15,
          "cvt": "any",
          "perc_sbm_total": 76.7822265625,
          "perc_total": 72.47378730268464,
          "period": "2019Q2",
          "rt": "any",
          "sbm": "ats",
          "value": 6290,
          "variable": "cg15_bonds"
         }
        ]
       },
       "encoding": {
        "color": {
         "field": "sbm",
         "legend": {
          "title": "Secondary Market"
         },
         "scale": {
          "scheme": "viridis"
         },
         "type": "nominal"
        },
        "column": {
         "field": "cov_cat",
         "sort": "ascending",
         "title": "Covenant Category",
         "type": "ordinal"
        },
        "x": {
         "axis": {
          "title": " "
         },
         "field": "sbm",
         "type": "nominal"
        },
        "y": {
         "axis": {
          "grid": false,
          "stack": null,
          "title": "Number of Bonds"
         },
         "field": "value",
         "type": "quantitative"
        }
       },
       "height": 350,
       "mark": "bar",
       "spacing": 4.5,
       "title": {
        "align": "center",
        "anchor": "middle",
        "fontSize": 14,
        "offset": 20,
        "text": [
         "Number of Non-MTN Bonds Traded per Covenant Category - 2019Q2"
        ]
       },
       "width": {
        "step": 18
       }
      },
      "image/png": "[encoded data removed]",
      "image/svg+xml": [
       "<?xml version=\"1.0\" encoding=\"utf-8\"?>\n",
       "<!DOCTYPE svg PUBLIC \"-//W3C//DTD SVG 1.1//EN\" \"http://www.w3.org/Graphics/SVG/1.1/DTD/svg11.dtd\">\n",
       "<svg class=\"marks\" width=\"821\" height=\"485\" viewBox=\"0 0 821 485\" version=\"1.1\" xmlns=\"http://www.w3.org/2000/svg\" xmlns:xlink=\"http://www.w3.org/1999/xlink\"><rect width=\"821\" height=\"485\" fill=\"white\"></rect><g fill=\"none\" stroke-miterlimit=\"10\" transform=\"translate(55,91)\"><g class=\"mark-group role-frame root\" role=\"graphics-object\" aria-roledescription=\"group mark container\"><g transform=\"translate(0,0)\"><path class=\"background\" aria-hidden=\"true\" d=\"M0,0h0v0h0Z\"></path><g><g class=\"mark-group role-column-title column-title\" role=\"graphics-object\" aria-roledescription=\"group mark container\"><g transform=\"translate(316,-31)\"><path class=\"background\" aria-hidden=\"true\" d=\"M0,0h0v0h0Z\"></path><g><g class=\"mark-group role-title\"><g transform=\"translate(0,-21)\"><path class=\"background\" aria-hidden=\"true\" d=\"M0,0h0v0h0Z\" pointer-events=\"none\"></path><g><g class=\"mark-text role-title-text\" role=\"graphics-symbol\" aria-roledescription=\"title\" aria-label=\"Title text 'Covenant Category'\" pointer-events=\"none\"><text text-anchor=\"middle\" transform=\"translate(0,9)\" font-family=\"sans-serif\" font-size=\"11px\" font-weight=\"bold\" fill=\"#000\" opacity=\"1\">Covenant Category</text></g></g><path class=\"foreground\" aria-hidden=\"true\" d=\"\" pointer-events=\"none\" display=\"none\"></path></g></g></g><path class=\"foreground\" aria-hidden=\"true\" d=\"\" display=\"none\"></path></g></g><g class=\"mark-group role-row-header row_header\" role=\"graphics-object\" aria-roledescription=\"group mark container\"><g transform=\"translate(-1,0)\"><path class=\"background\" aria-hidden=\"true\" d=\"M0,0h0v350h0Z\"></path><g><g class=\"mark-group role-axis\" role=\"graphics-symbol\" aria-roledescription=\"axis\" aria-label=\"Y-axis titled 'Number of Bonds' for a linear scale with values from 0 to 9,000\"><g transform=\"translate(0.5,0.5)\"><path class=\"background\" aria-hidden=\"true\" d=\"M0,0h0v0h0Z\" pointer-events=\"none\"></path><g><g class=\"mark-rule role-axis-tick\" pointer-events=\"none\"><line transform=\"translate(0,350)\" x2=\"-5\" y2=\"0\" stroke=\"#888\" stroke-width=\"1\" opacity=\"1\"></line><line transform=\"translate(0,311)\" x2=\"-5\" y2=\"0\" stroke=\"#888\" stroke-width=\"1\" opacity=\"1\"></line><line transform=\"translate(0,272)\" x2=\"-5\" y2=\"0\" stroke=\"#888\" stroke-width=\"1\" opacity=\"1\"></line><line transform=\"translate(0,233)\" x2=\"-5\" y2=\"0\" stroke=\"#888\" stroke-width=\"1\" opacity=\"1\"></line><line transform=\"translate(0,194)\" x2=\"-5\" y2=\"0\" stroke=\"#888\" stroke-width=\"1\" opacity=\"1\"></line><line transform=\"translate(0,156)\" x2=\"-5\" y2=\"0\" stroke=\"#888\" stroke-width=\"1\" opacity=\"1\"></line><line transform=\"translate(0,117)\" x2=\"-5\" y2=\"0\" stroke=\"#888\" stroke-width=\"1\" opacity=\"1\"></line><line transform=\"translate(0,78)\" x2=\"-5\" y2=\"0\" stroke=\"#888\" stroke-width=\"1\" opacity=\"1\"></line><line transform=\"translate(0,39)\" x2=\"-5\" y2=\"0\" stroke=\"#888\" stroke-width=\"1\" opacity=\"1\"></line><line transform=\"translate(0,0)\" x2=\"-5\" y2=\"0\" stroke=\"#888\" stroke-width=\"1\" opacity=\"1\"></line></g><g class=\"mark-text role-axis-label\" pointer-events=\"none\"><text text-anchor=\"end\" transform=\"translate(-7,353)\" font-family=\"sans-serif\" font-size=\"10px\" fill=\"#000\" opacity=\"1\">0</text><text text-anchor=\"end\" transform=\"translate(-7,314.1111111111111)\" font-family=\"sans-serif\" font-size=\"10px\" fill=\"#000\" opacity=\"1\">1,000</text><text text-anchor=\"end\" transform=\"translate(-7,275.22222222222223)\" font-family=\"sans-serif\" font-size=\"10px\" fill=\"#000\" opacity=\"1\">2,000</text><text text-anchor=\"end\" transform=\"translate(-7,236.33333333333337)\" font-family=\"sans-serif\" font-size=\"10px\" fill=\"#000\" opacity=\"1\">3,000</text><text text-anchor=\"end\" transform=\"translate(-7,197.44444444444446)\" font-family=\"sans-serif\" font-size=\"10px\" fill=\"#000\" opacity=\"1\">4,000</text><text text-anchor=\"end\" transform=\"translate(-7,158.55555555555554)\" font-family=\"sans-serif\" font-size=\"10px\" fill=\"#000\" opacity=\"1\">5,000</text><text text-anchor=\"end\" transform=\"translate(-7,119.66666666666669)\" font-family=\"sans-serif\" font-size=\"10px\" fill=\"#000\" opacity=\"1\">6,000</text><text text-anchor=\"end\" transform=\"translate(-7,80.77777777777777)\" font-family=\"sans-serif\" font-size=\"10px\" fill=\"#000\" opacity=\"1\">7,000</text><text text-anchor=\"end\" transform=\"translate(-7,41.88888888888891)\" font-family=\"sans-serif\" font-size=\"10px\" fill=\"#000\" opacity=\"1\">8,000</text><text text-anchor=\"end\" transform=\"translate(-7,3)\" font-family=\"sans-serif\" font-size=\"10px\" fill=\"#000\" opacity=\"1\">9,000</text></g><g class=\"mark-rule role-axis-domain\" pointer-events=\"none\"><line transform=\"translate(0,350)\" x2=\"0\" y2=\"-350\" stroke=\"#888\" stroke-width=\"3\" opacity=\"1\"></line></g><g class=\"mark-text role-axis-title\" pointer-events=\"none\"><text text-anchor=\"middle\" transform=\"translate(-38,175) rotate(-90) translate(0,-2)\" font-family=\"sans-serif\" font-size=\"11px\" font-weight=\"bold\" fill=\"#000\" opacity=\"1\">Number of Bonds</text></g></g><path class=\"foreground\" aria-hidden=\"true\" d=\"\" pointer-events=\"none\" display=\"none\"></path></g></g></g><path class=\"foreground\" aria-hidden=\"true\" d=\"\" display=\"none\"></path></g></g><g class=\"mark-group role-column-header column_header\" role=\"graphics-object\" aria-roledescription=\"group mark container\"><g transform=\"translate(0,-1)\"><path class=\"background\" aria-hidden=\"true\" d=\"M0,0h36v0h-36Z\"></path><g><g class=\"mark-group role-title\"><g transform=\"translate(18,-20)\"><path class=\"background\" aria-hidden=\"true\" d=\"M0,0h0v0h0Z\" pointer-events=\"none\"></path><g><g class=\"mark-text role-title-text\" role=\"graphics-symbol\" aria-roledescription=\"title\" aria-label=\"Title text '1'\" pointer-events=\"none\"><text text-anchor=\"middle\" transform=\"translate(0,8)\" font-family=\"sans-serif\" font-size=\"10px\" fill=\"#000\" opacity=\"1\">1</text></g></g><path class=\"foreground\" aria-hidden=\"true\" d=\"\" pointer-events=\"none\" display=\"none\"></path></g></g></g><path class=\"foreground\" aria-hidden=\"true\" d=\"\" display=\"none\"></path></g><g transform=\"translate(42.5,-1)\"><path class=\"background\" aria-hidden=\"true\" d=\"M0,0h36v0h-36Z\"></path><g><g class=\"mark-group role-title\"><g transform=\"translate(18,-20)\"><path class=\"background\" aria-hidden=\"true\" d=\"M0,0h0v0h0Z\" pointer-events=\"none\"></path><g><g class=\"mark-text role-title-text\" role=\"graphics-symbol\" aria-roledescription=\"title\" aria-label=\"Title text '2'\" pointer-events=\"none\"><text text-anchor=\"middle\" transform=\"translate(0,8)\" font-family=\"sans-serif\" font-size=\"10px\" fill=\"#000\" opacity=\"1\">2</text></g></g><path class=\"foreground\" aria-hidden=\"true\" d=\"\" pointer-events=\"none\" display=\"none\"></path></g></g></g><path class=\"foreground\" aria-hidden=\"true\" d=\"\" display=\"none\"></path></g><g transform=\"translate(85,-1)\"><path class=\"background\" aria-hidden=\"true\" d=\"M0,0h36v0h-36Z\"></path><g><g class=\"mark-group role-title\"><g transform=\"translate(18,-20)\"><path class=\"background\" aria-hidden=\"true\" d=\"M0,0h0v0h0Z\" pointer-events=\"none\"></path><g><g class=\"mark-text role-title-text\" role=\"graphics-symbol\" aria-roledescription=\"title\" aria-label=\"Title text '3'\" pointer-events=\"none\"><text text-anchor=\"middle\" transform=\"translate(0,8)\" font-family=\"sans-serif\" font-size=\"10px\" fill=\"#000\" opacity=\"1\">3</text></g></g><path class=\"foreground\" aria-hidden=\"true\" d=\"\" pointer-events=\"none\" display=\"none\"></path></g></g></g><path class=\"foreground\" aria-hidden=\"true\" d=\"\" display=\"none\"></path></g><g transform=\"translate(127.5,-1)\"><path class=\"background\" aria-hidden=\"true\" d=\"M0,0h36v0h-36Z\"></path><g><g class=\"mark-group role-title\"><g transform=\"translate(18,-20)\"><path class=\"background\" aria-hidden=\"true\" d=\"M0,0h0v0h0Z\" pointer-events=\"none\"></path><g><g class=\"mark-text role-title-text\" role=\"graphics-symbol\" aria-roledescription=\"title\" aria-label=\"Title text '4'\" pointer-events=\"none\"><text text-anchor=\"middle\" transform=\"translate(0,8)\" font-family=\"sans-serif\" font-size=\"10px\" fill=\"#000\" opacity=\"1\">4</text></g></g><path class=\"foreground\" aria-hidden=\"true\" d=\"\" pointer-events=\"none\" display=\"none\"></path></g></g></g><path class=\"foreground\" aria-hidden=\"true\" d=\"\" display=\"none\"></path></g><g transform=\"translate(170,-1)\"><path class=\"background\" aria-hidden=\"true\" d=\"M0,0h36v0h-36Z\"></path><g><g class=\"mark-group role-title\"><g transform=\"translate(18,-20)\"><path class=\"background\" aria-hidden=\"true\" d=\"M0,0h0v0h0Z\" pointer-events=\"none\"></path><g><g class=\"mark-text role-title-text\" role=\"graphics-symbol\" aria-roledescription=\"title\" aria-label=\"Title text '5'\" pointer-events=\"none\"><text text-anchor=\"middle\" transform=\"translate(0,8)\" font-family=\"sans-serif\" font-size=\"10px\" fill=\"#000\" opacity=\"1\">5</text></g></g><path class=\"foreground\" aria-hidden=\"true\" d=\"\" pointer-events=\"none\" display=\"none\"></path></g></g></g><path class=\"foreground\" aria-hidden=\"true\" d=\"\" display=\"none\"></path></g><g transform=\"translate(212.5,-1)\"><path class=\"background\" aria-hidden=\"true\" d=\"M0,0h36v0h-36Z\"></path><g><g class=\"mark-group role-title\"><g transform=\"translate(18,-20)\"><path class=\"background\" aria-hidden=\"true\" d=\"M0,0h0v0h0Z\" pointer-events=\"none\"></path><g><g class=\"mark-text role-title-text\" role=\"graphics-symbol\" aria-roledescription=\"title\" aria-label=\"Title text '6'\" pointer-events=\"none\"><text text-anchor=\"middle\" transform=\"translate(0,8)\" font-family=\"sans-serif\" font-size=\"10px\" fill=\"#000\" opacity=\"1\">6</text></g></g><path class=\"foreground\" aria-hidden=\"true\" d=\"\" pointer-events=\"none\" display=\"none\"></path></g></g></g><path class=\"foreground\" aria-hidden=\"true\" d=\"\" display=\"none\"></path></g><g transform=\"translate(255,-1)\"><path class=\"background\" aria-hidden=\"true\" d=\"M0,0h36v0h-36Z\"></path><g><g class=\"mark-group role-title\"><g transform=\"translate(18,-20)\"><path class=\"background\" aria-hidden=\"true\" d=\"M0,0h0v0h0Z\" pointer-events=\"none\"></path><g><g class=\"mark-text role-title-text\" role=\"graphics-symbol\" aria-roledescription=\"title\" aria-label=\"Title text '7'\" pointer-events=\"none\"><text text-anchor=\"middle\" transform=\"translate(0,8)\" font-family=\"sans-serif\" font-size=\"10px\" fill=\"#000\" opacity=\"1\">7</text></g></g><path class=\"foreground\" aria-hidden=\"true\" d=\"\" pointer-events=\"none\" display=\"none\"></path></g></g></g><path class=\"foreground\" aria-hidden=\"true\" d=\"\" display=\"none\"></path></g><g transform=\"translate(297.5,-1)\"><path class=\"background\" aria-hidden=\"true\" d=\"M0,0h36v0h-36Z\"></path><g><g class=\"mark-group role-title\"><g transform=\"translate(18,-20)\"><path class=\"background\" aria-hidden=\"true\" d=\"M0,0h0v0h0Z\" pointer-events=\"none\"></path><g><g class=\"mark-text role-title-text\" role=\"graphics-symbol\" aria-roledescription=\"title\" aria-label=\"Title text '8'\" pointer-events=\"none\"><text text-anchor=\"middle\" transform=\"translate(0,8)\" font-family=\"sans-serif\" font-size=\"10px\" fill=\"#000\" opacity=\"1\">8</text></g></g><path class=\"foreground\" aria-hidden=\"true\" d=\"\" pointer-events=\"none\" display=\"none\"></path></g></g></g><path class=\"foreground\" aria-hidden=\"true\" d=\"\" display=\"none\"></path></g><g transform=\"translate(340,-1)\"><path class=\"background\" aria-hidden=\"true\" d=\"M0,0h36v0h-36Z\"></path><g><g class=\"mark-group role-title\"><g transform=\"translate(18,-20)\"><path class=\"background\" aria-hidden=\"true\" d=\"M0,0h0v0h0Z\" pointer-events=\"none\"></path><g><g class=\"mark-text role-title-text\" role=\"graphics-symbol\" aria-roledescription=\"title\" aria-label=\"Title text '9'\" pointer-events=\"none\"><text text-anchor=\"middle\" transform=\"translate(0,8)\" font-family=\"sans-serif\" font-size=\"10px\" fill=\"#000\" opacity=\"1\">9</text></g></g><path class=\"foreground\" aria-hidden=\"true\" d=\"\" pointer-events=\"none\" display=\"none\"></path></g></g></g><path class=\"foreground\" aria-hidden=\"true\" d=\"\" display=\"none\"></path></g><g transform=\"translate(382.5,-1)\"><path class=\"background\" aria-hidden=\"true\" d=\"M0,0h36v0h-36Z\"></path><g><g class=\"mark-group role-title\"><g transform=\"translate(18,-20)\"><path class=\"background\" aria-hidden=\"true\" d=\"M0,0h0v0h0Z\" pointer-events=\"none\"></path><g><g class=\"mark-text role-title-text\" role=\"graphics-symbol\" aria-roledescription=\"title\" aria-label=\"Title text '10'\" pointer-events=\"none\"><text text-anchor=\"middle\" transform=\"translate(0,8)\" font-family=\"sans-serif\" font-size=\"10px\" fill=\"#000\" opacity=\"1\">10</text></g></g><path class=\"foreground\" aria-hidden=\"true\" d=\"\" pointer-events=\"none\" display=\"none\"></path></g></g></g><path class=\"foreground\" aria-hidden=\"true\" d=\"\" display=\"none\"></path></g><g transform=\"translate(425,-1)\"><path class=\"background\" aria-hidden=\"true\" d=\"M0,0h36v0h-36Z\"></path><g><g class=\"mark-group role-title\"><g transform=\"translate(18,-20)\"><path class=\"background\" aria-hidden=\"true\" d=\"M0,0h0v0h0Z\" pointer-events=\"none\"></path><g><g class=\"mark-text role-title-text\" role=\"graphics-symbol\" aria-roledescription=\"title\" aria-label=\"Title text '11'\" pointer-events=\"none\"><text text-anchor=\"middle\" transform=\"translate(0,8)\" font-family=\"sans-serif\" font-size=\"10px\" fill=\"#000\" opacity=\"1\">11</text></g></g><path class=\"foreground\" aria-hidden=\"true\" d=\"\" pointer-events=\"none\" display=\"none\"></path></g></g></g><path class=\"foreground\" aria-hidden=\"true\" d=\"\" display=\"none\"></path></g><g transform=\"translate(467.5,-1)\"><path class=\"background\" aria-hidden=\"true\" d=\"M0,0h36v0h-36Z\"></path><g><g class=\"mark-group role-title\"><g transform=\"translate(18,-20)\"><path class=\"background\" aria-hidden=\"true\" d=\"M0,0h0v0h0Z\" pointer-events=\"none\"></path><g><g class=\"mark-text role-title-text\" role=\"graphics-symbol\" aria-roledescription=\"title\" aria-label=\"Title text '12'\" pointer-events=\"none\"><text text-anchor=\"middle\" transform=\"translate(0,8)\" font-family=\"sans-serif\" font-size=\"10px\" fill=\"#000\" opacity=\"1\">12</text></g></g><path class=\"foreground\" aria-hidden=\"true\" d=\"\" pointer-events=\"none\" display=\"none\"></path></g></g></g><path class=\"foreground\" aria-hidden=\"true\" d=\"\" display=\"none\"></path></g><g transform=\"translate(510,-1)\"><path class=\"background\" aria-hidden=\"true\" d=\"M0,0h36v0h-36Z\"></path><g><g class=\"mark-group role-title\"><g transform=\"translate(18,-20)\"><path class=\"background\" aria-hidden=\"true\" d=\"M0,0h0v0h0Z\" pointer-events=\"none\"></path><g><g class=\"mark-text role-title-text\" role=\"graphics-symbol\" aria-roledescription=\"title\" aria-label=\"Title text '13'\" pointer-events=\"none\"><text text-anchor=\"middle\" transform=\"translate(0,8)\" font-family=\"sans-serif\" font-size=\"10px\" fill=\"#000\" opacity=\"1\">13</text></g></g><path class=\"foreground\" aria-hidden=\"true\" d=\"\" pointer-events=\"none\" display=\"none\"></path></g></g></g><path class=\"foreground\" aria-hidden=\"true\" d=\"\" display=\"none\"></path></g><g transform=\"translate(552.5,-1)\"><path class=\"background\" aria-hidden=\"true\" d=\"M0,0h36v0h-36Z\"></path><g><g class=\"mark-group role-title\"><g transform=\"translate(18,-20)\"><path class=\"background\" aria-hidden=\"true\" d=\"M0,0h0v0h0Z\" pointer-events=\"none\"></path><g><g class=\"mark-text role-title-text\" role=\"graphics-symbol\" aria-roledescription=\"title\" aria-label=\"Title text '14'\" pointer-events=\"none\"><text text-anchor=\"middle\" transform=\"translate(0,8)\" font-family=\"sans-serif\" font-size=\"10px\" fill=\"#000\" opacity=\"1\">14</text></g></g><path class=\"foreground\" aria-hidden=\"true\" d=\"\" pointer-events=\"none\" display=\"none\"></path></g></g></g><path class=\"foreground\" aria-hidden=\"true\" d=\"\" display=\"none\"></path></g><g transform=\"translate(595,-1)\"><path class=\"background\" aria-hidden=\"true\" d=\"M0,0h36v0h-36Z\"></path><g><g class=\"mark-group role-title\"><g transform=\"translate(18,-20)\"><path class=\"background\" aria-hidden=\"true\" d=\"M0,0h0v0h0Z\" pointer-events=\"none\"></path><g><g class=\"mark-text role-title-text\" role=\"graphics-symbol\" aria-roledescription=\"title\" aria-label=\"Title text '15'\" pointer-events=\"none\"><text text-anchor=\"middle\" transform=\"translate(0,8)\" font-family=\"sans-serif\" font-size=\"10px\" fill=\"#000\" opacity=\"1\">15</text></g></g><path class=\"foreground\" aria-hidden=\"true\" d=\"\" pointer-events=\"none\" display=\"none\"></path></g></g></g><path class=\"foreground\" aria-hidden=\"true\" d=\"\" display=\"none\"></path></g></g><g class=\"mark-group role-column-footer column_footer\" role=\"graphics-object\" aria-roledescription=\"group mark container\"><g transform=\"translate(0,351)\"><path class=\"background\" aria-hidden=\"true\" d=\"M0,0h36v0h-36Z\"></path><g><g class=\"mark-group role-axis\" role=\"graphics-symbol\" aria-roledescription=\"axis\" aria-label=\"X-axis titled ' ' for a discrete scale with 2 values: ats, otc\"><g transform=\"translate(0.5,0.5)\"><path class=\"background\" aria-hidden=\"true\" d=\"M0,0h0v0h0Z\" pointer-events=\"none\"></path><g><g class=\"mark-rule role-axis-tick\" pointer-events=\"none\"><line transform=\"translate(9,0)\" x2=\"0\" y2=\"5\" stroke=\"#888\" stroke-width=\"1\" opacity=\"1\"></line><line transform=\"translate(27,0)\" x2=\"0\" y2=\"5\" stroke=\"#888\" stroke-width=\"1\" opacity=\"1\"></line></g><g class=\"mark-text role-axis-label\" pointer-events=\"none\"><text text-anchor=\"end\" transform=\"translate(8.500000000000002,7) rotate(270) translate(0,3)\" font-family=\"sans-serif\" font-size=\"10px\" fill=\"#000\" opacity=\"1\">ats</text><text text-anchor=\"end\" transform=\"translate(26.5,7) rotate(270) translate(0,3)\" font-family=\"sans-serif\" font-size=\"10px\" fill=\"#000\" opacity=\"1\">otc</text></g><g class=\"mark-rule role-axis-domain\" pointer-events=\"none\"><line transform=\"translate(0,0)\" x2=\"36\" y2=\"0\" stroke=\"#888\" stroke-width=\"3\" opacity=\"1\"></line></g><g class=\"mark-text role-axis-title\" pointer-events=\"none\"><text text-anchor=\"middle\" transform=\"translate(18,36)\" font-family=\"sans-serif\" font-size=\"11px\" font-weight=\"bold\" fill=\"#000\" opacity=\"1\"></text></g></g><path class=\"foreground\" aria-hidden=\"true\" d=\"\" pointer-events=\"none\" display=\"none\"></path></g></g></g><path class=\"foreground\" aria-hidden=\"true\" d=\"\" display=\"none\"></path></g><g transform=\"translate(42.5,351)\"><path class=\"background\" aria-hidden=\"true\" d=\"M0,0h36v0h-36Z\"></path><g><g class=\"mark-group role-axis\" role=\"graphics-symbol\" aria-roledescription=\"axis\" aria-label=\"X-axis titled ' ' for a discrete scale with 2 values: ats, otc\"><g transform=\"translate(0.5,0.5)\"><path class=\"background\" aria-hidden=\"true\" d=\"M0,0h0v0h0Z\" pointer-events=\"none\"></path><g><g class=\"mark-rule role-axis-tick\" pointer-events=\"none\"><line transform=\"translate(9,0)\" x2=\"0\" y2=\"5\" stroke=\"#888\" stroke-width=\"1\" opacity=\"1\"></line><line transform=\"translate(27,0)\" x2=\"0\" y2=\"5\" stroke=\"#888\" stroke-width=\"1\" opacity=\"1\"></line></g><g class=\"mark-text role-axis-label\" pointer-events=\"none\"><text text-anchor=\"end\" transform=\"translate(8.500000000000002,7) rotate(270) translate(0,3)\" font-family=\"sans-serif\" font-size=\"10px\" fill=\"#000\" opacity=\"1\">ats</text><text text-anchor=\"end\" transform=\"translate(26.5,7) rotate(270) translate(0,3)\" font-family=\"sans-serif\" font-size=\"10px\" fill=\"#000\" opacity=\"1\">otc</text></g><g class=\"mark-rule role-axis-domain\" pointer-events=\"none\"><line transform=\"translate(0,0)\" x2=\"36\" y2=\"0\" stroke=\"#888\" stroke-width=\"3\" opacity=\"1\"></line></g><g class=\"mark-text role-axis-title\" pointer-events=\"none\"><text text-anchor=\"middle\" transform=\"translate(18,36)\" font-family=\"sans-serif\" font-size=\"11px\" font-weight=\"bold\" fill=\"#000\" opacity=\"1\"></text></g></g><path class=\"foreground\" aria-hidden=\"true\" d=\"\" pointer-events=\"none\" display=\"none\"></path></g></g></g><path class=\"foreground\" aria-hidden=\"true\" d=\"\" display=\"none\"></path></g><g transform=\"translate(85,351)\"><path class=\"background\" aria-hidden=\"true\" d=\"M0,0h36v0h-36Z\"></path><g><g class=\"mark-group role-axis\" role=\"graphics-symbol\" aria-roledescription=\"axis\" aria-label=\"X-axis titled ' ' for a discrete scale with 2 values: ats, otc\"><g transform=\"translate(0.5,0.5)\"><path class=\"background\" aria-hidden=\"true\" d=\"M0,0h0v0h0Z\" pointer-events=\"none\"></path><g><g class=\"mark-rule role-axis-tick\" pointer-events=\"none\"><line transform=\"translate(9,0)\" x2=\"0\" y2=\"5\" stroke=\"#888\" stroke-width=\"1\" opacity=\"1\"></line><line transform=\"translate(27,0)\" x2=\"0\" y2=\"5\" stroke=\"#888\" stroke-width=\"1\" opacity=\"1\"></line></g><g class=\"mark-text role-axis-label\" pointer-events=\"none\"><text text-anchor=\"end\" transform=\"translate(8.500000000000002,7) rotate(270) translate(0,3)\" font-family=\"sans-serif\" font-size=\"10px\" fill=\"#000\" opacity=\"1\">ats</text><text text-anchor=\"end\" transform=\"translate(26.5,7) rotate(270) translate(0,3)\" font-family=\"sans-serif\" font-size=\"10px\" fill=\"#000\" opacity=\"1\">otc</text></g><g class=\"mark-rule role-axis-domain\" pointer-events=\"none\"><line transform=\"translate(0,0)\" x2=\"36\" y2=\"0\" stroke=\"#888\" stroke-width=\"3\" opacity=\"1\"></line></g><g class=\"mark-text role-axis-title\" pointer-events=\"none\"><text text-anchor=\"middle\" transform=\"translate(18,36)\" font-family=\"sans-serif\" font-size=\"11px\" font-weight=\"bold\" fill=\"#000\" opacity=\"1\"></text></g></g><path class=\"foreground\" aria-hidden=\"true\" d=\"\" pointer-events=\"none\" display=\"none\"></path></g></g></g><path class=\"foreground\" aria-hidden=\"true\" d=\"\" display=\"none\"></path></g><g transform=\"translate(127.5,351)\"><path class=\"background\" aria-hidden=\"true\" d=\"M0,0h36v0h-36Z\"></path><g><g class=\"mark-group role-axis\" role=\"graphics-symbol\" aria-roledescription=\"axis\" aria-label=\"X-axis titled ' ' for a discrete scale with 2 values: ats, otc\"><g transform=\"translate(0.5,0.5)\"><path class=\"background\" aria-hidden=\"true\" d=\"M0,0h0v0h0Z\" pointer-events=\"none\"></path><g><g class=\"mark-rule role-axis-tick\" pointer-events=\"none\"><line transform=\"translate(9,0)\" x2=\"0\" y2=\"5\" stroke=\"#888\" stroke-width=\"1\" opacity=\"1\"></line><line transform=\"translate(27,0)\" x2=\"0\" y2=\"5\" stroke=\"#888\" stroke-width=\"1\" opacity=\"1\"></line></g><g class=\"mark-text role-axis-label\" pointer-events=\"none\"><text text-anchor=\"end\" transform=\"translate(8.500000000000002,7) rotate(270) translate(0,3)\" font-family=\"sans-serif\" font-size=\"10px\" fill=\"#000\" opacity=\"1\">ats</text><text text-anchor=\"end\" transform=\"translate(26.5,7) rotate(270) translate(0,3)\" font-family=\"sans-serif\" font-size=\"10px\" fill=\"#000\" opacity=\"1\">otc</text></g><g class=\"mark-rule role-axis-domain\" pointer-events=\"none\"><line transform=\"translate(0,0)\" x2=\"36\" y2=\"0\" stroke=\"#888\" stroke-width=\"3\" opacity=\"1\"></line></g><g class=\"mark-text role-axis-title\" pointer-events=\"none\"><text text-anchor=\"middle\" transform=\"translate(18,36)\" font-family=\"sans-serif\" font-size=\"11px\" font-weight=\"bold\" fill=\"#000\" opacity=\"1\"></text></g></g><path class=\"foreground\" aria-hidden=\"true\" d=\"\" pointer-events=\"none\" display=\"none\"></path></g></g></g><path class=\"foreground\" aria-hidden=\"true\" d=\"\" display=\"none\"></path></g><g transform=\"translate(170,351)\"><path class=\"background\" aria-hidden=\"true\" d=\"M0,0h36v0h-36Z\"></path><g><g class=\"mark-group role-axis\" role=\"graphics-symbol\" aria-roledescription=\"axis\" aria-label=\"X-axis titled ' ' for a discrete scale with 2 values: ats, otc\"><g transform=\"translate(0.5,0.5)\"><path class=\"background\" aria-hidden=\"true\" d=\"M0,0h0v0h0Z\" pointer-events=\"none\"></path><g><g class=\"mark-rule role-axis-tick\" pointer-events=\"none\"><line transform=\"translate(9,0)\" x2=\"0\" y2=\"5\" stroke=\"#888\" stroke-width=\"1\" opacity=\"1\"></line><line transform=\"translate(27,0)\" x2=\"0\" y2=\"5\" stroke=\"#888\" stroke-width=\"1\" opacity=\"1\"></line></g><g class=\"mark-text role-axis-label\" pointer-events=\"none\"><text text-anchor=\"end\" transform=\"translate(8.500000000000002,7) rotate(270) translate(0,3)\" font-family=\"sans-serif\" font-size=\"10px\" fill=\"#000\" opacity=\"1\">ats</text><text text-anchor=\"end\" transform=\"translate(26.5,7) rotate(270) translate(0,3)\" font-family=\"sans-serif\" font-size=\"10px\" fill=\"#000\" opacity=\"1\">otc</text></g><g class=\"mark-rule role-axis-domain\" pointer-events=\"none\"><line transform=\"translate(0,0)\" x2=\"36\" y2=\"0\" stroke=\"#888\" stroke-width=\"3\" opacity=\"1\"></line></g><g class=\"mark-text role-axis-title\" pointer-events=\"none\"><text text-anchor=\"middle\" transform=\"translate(18,36)\" font-family=\"sans-serif\" font-size=\"11px\" font-weight=\"bold\" fill=\"#000\" opacity=\"1\"></text></g></g><path class=\"foreground\" aria-hidden=\"true\" d=\"\" pointer-events=\"none\" display=\"none\"></path></g></g></g><path class=\"foreground\" aria-hidden=\"true\" d=\"\" display=\"none\"></path></g><g transform=\"translate(212.5,351)\"><path class=\"background\" aria-hidden=\"true\" d=\"M0,0h36v0h-36Z\"></path><g><g class=\"mark-group role-axis\" role=\"graphics-symbol\" aria-roledescription=\"axis\" aria-label=\"X-axis titled ' ' for a discrete scale with 2 values: ats, otc\"><g transform=\"translate(0.5,0.5)\"><path class=\"background\" aria-hidden=\"true\" d=\"M0,0h0v0h0Z\" pointer-events=\"none\"></path><g><g class=\"mark-rule role-axis-tick\" pointer-events=\"none\"><line transform=\"translate(9,0)\" x2=\"0\" y2=\"5\" stroke=\"#888\" stroke-width=\"1\" opacity=\"1\"></line><line transform=\"translate(27,0)\" x2=\"0\" y2=\"5\" stroke=\"#888\" stroke-width=\"1\" opacity=\"1\"></line></g><g class=\"mark-text role-axis-label\" pointer-events=\"none\"><text text-anchor=\"end\" transform=\"translate(8.500000000000002,7) rotate(270) translate(0,3)\" font-family=\"sans-serif\" font-size=\"10px\" fill=\"#000\" opacity=\"1\">ats</text><text text-anchor=\"end\" transform=\"translate(26.5,7) rotate(270) translate(0,3)\" font-family=\"sans-serif\" font-size=\"10px\" fill=\"#000\" opacity=\"1\">otc</text></g><g class=\"mark-rule role-axis-domain\" pointer-events=\"none\"><line transform=\"translate(0,0)\" x2=\"36\" y2=\"0\" stroke=\"#888\" stroke-width=\"3\" opacity=\"1\"></line></g><g class=\"mark-text role-axis-title\" pointer-events=\"none\"><text text-anchor=\"middle\" transform=\"translate(18,36)\" font-family=\"sans-serif\" font-size=\"11px\" font-weight=\"bold\" fill=\"#000\" opacity=\"1\"></text></g></g><path class=\"foreground\" aria-hidden=\"true\" d=\"\" pointer-events=\"none\" display=\"none\"></path></g></g></g><path class=\"foreground\" aria-hidden=\"true\" d=\"\" display=\"none\"></path></g><g transform=\"translate(255,351)\"><path class=\"background\" aria-hidden=\"true\" d=\"M0,0h36v0h-36Z\"></path><g><g class=\"mark-group role-axis\" role=\"graphics-symbol\" aria-roledescription=\"axis\" aria-label=\"X-axis titled ' ' for a discrete scale with 2 values: ats, otc\"><g transform=\"translate(0.5,0.5)\"><path class=\"background\" aria-hidden=\"true\" d=\"M0,0h0v0h0Z\" pointer-events=\"none\"></path><g><g class=\"mark-rule role-axis-tick\" pointer-events=\"none\"><line transform=\"translate(9,0)\" x2=\"0\" y2=\"5\" stroke=\"#888\" stroke-width=\"1\" opacity=\"1\"></line><line transform=\"translate(27,0)\" x2=\"0\" y2=\"5\" stroke=\"#888\" stroke-width=\"1\" opacity=\"1\"></line></g><g class=\"mark-text role-axis-label\" pointer-events=\"none\"><text text-anchor=\"end\" transform=\"translate(8.500000000000002,7) rotate(270) translate(0,3)\" font-family=\"sans-serif\" font-size=\"10px\" fill=\"#000\" opacity=\"1\">ats</text><text text-anchor=\"end\" transform=\"translate(26.5,7) rotate(270) translate(0,3)\" font-family=\"sans-serif\" font-size=\"10px\" fill=\"#000\" opacity=\"1\">otc</text></g><g class=\"mark-rule role-axis-domain\" pointer-events=\"none\"><line transform=\"translate(0,0)\" x2=\"36\" y2=\"0\" stroke=\"#888\" stroke-width=\"3\" opacity=\"1\"></line></g><g class=\"mark-text role-axis-title\" pointer-events=\"none\"><text text-anchor=\"middle\" transform=\"translate(18,36)\" font-family=\"sans-serif\" font-size=\"11px\" font-weight=\"bold\" fill=\"#000\" opacity=\"1\"></text></g></g><path class=\"foreground\" aria-hidden=\"true\" d=\"\" pointer-events=\"none\" display=\"none\"></path></g></g></g><path class=\"foreground\" aria-hidden=\"true\" d=\"\" display=\"none\"></path></g><g transform=\"translate(297.5,351)\"><path class=\"background\" aria-hidden=\"true\" d=\"M0,0h36v0h-36Z\"></path><g><g class=\"mark-group role-axis\" role=\"graphics-symbol\" aria-roledescription=\"axis\" aria-label=\"X-axis titled ' ' for a discrete scale with 2 values: ats, otc\"><g transform=\"translate(0.5,0.5)\"><path class=\"background\" aria-hidden=\"true\" d=\"M0,0h0v0h0Z\" pointer-events=\"none\"></path><g><g class=\"mark-rule role-axis-tick\" pointer-events=\"none\"><line transform=\"translate(9,0)\" x2=\"0\" y2=\"5\" stroke=\"#888\" stroke-width=\"1\" opacity=\"1\"></line><line transform=\"translate(27,0)\" x2=\"0\" y2=\"5\" stroke=\"#888\" stroke-width=\"1\" opacity=\"1\"></line></g><g class=\"mark-text role-axis-label\" pointer-events=\"none\"><text text-anchor=\"end\" transform=\"translate(8.500000000000002,7) rotate(270) translate(0,3)\" font-family=\"sans-serif\" font-size=\"10px\" fill=\"#000\" opacity=\"1\">ats</text><text text-anchor=\"end\" transform=\"translate(26.5,7) rotate(270) translate(0,3)\" font-family=\"sans-serif\" font-size=\"10px\" fill=\"#000\" opacity=\"1\">otc</text></g><g class=\"mark-rule role-axis-domain\" pointer-events=\"none\"><line transform=\"translate(0,0)\" x2=\"36\" y2=\"0\" stroke=\"#888\" stroke-width=\"3\" opacity=\"1\"></line></g><g class=\"mark-text role-axis-title\" pointer-events=\"none\"><text text-anchor=\"middle\" transform=\"translate(18,36)\" font-family=\"sans-serif\" font-size=\"11px\" font-weight=\"bold\" fill=\"#000\" opacity=\"1\"></text></g></g><path class=\"foreground\" aria-hidden=\"true\" d=\"\" pointer-events=\"none\" display=\"none\"></path></g></g></g><path class=\"foreground\" aria-hidden=\"true\" d=\"\" display=\"none\"></path></g><g transform=\"translate(340,351)\"><path class=\"background\" aria-hidden=\"true\" d=\"M0,0h36v0h-36Z\"></path><g><g class=\"mark-group role-axis\" role=\"graphics-symbol\" aria-roledescription=\"axis\" aria-label=\"X-axis titled ' ' for a discrete scale with 2 values: ats, otc\"><g transform=\"translate(0.5,0.5)\"><path class=\"background\" aria-hidden=\"true\" d=\"M0,0h0v0h0Z\" pointer-events=\"none\"></path><g><g class=\"mark-rule role-axis-tick\" pointer-events=\"none\"><line transform=\"translate(9,0)\" x2=\"0\" y2=\"5\" stroke=\"#888\" stroke-width=\"1\" opacity=\"1\"></line><line transform=\"translate(27,0)\" x2=\"0\" y2=\"5\" stroke=\"#888\" stroke-width=\"1\" opacity=\"1\"></line></g><g class=\"mark-text role-axis-label\" pointer-events=\"none\"><text text-anchor=\"end\" transform=\"translate(8.500000000000002,7) rotate(270) translate(0,3)\" font-family=\"sans-serif\" font-size=\"10px\" fill=\"#000\" opacity=\"1\">ats</text><text text-anchor=\"end\" transform=\"translate(26.5,7) rotate(270) translate(0,3)\" font-family=\"sans-serif\" font-size=\"10px\" fill=\"#000\" opacity=\"1\">otc</text></g><g class=\"mark-rule role-axis-domain\" pointer-events=\"none\"><line transform=\"translate(0,0)\" x2=\"36\" y2=\"0\" stroke=\"#888\" stroke-width=\"3\" opacity=\"1\"></line></g><g class=\"mark-text role-axis-title\" pointer-events=\"none\"><text text-anchor=\"middle\" transform=\"translate(18,36)\" font-family=\"sans-serif\" font-size=\"11px\" font-weight=\"bold\" fill=\"#000\" opacity=\"1\"></text></g></g><path class=\"foreground\" aria-hidden=\"true\" d=\"\" pointer-events=\"none\" display=\"none\"></path></g></g></g><path class=\"foreground\" aria-hidden=\"true\" d=\"\" display=\"none\"></path></g><g transform=\"translate(382.5,351)\"><path class=\"background\" aria-hidden=\"true\" d=\"M0,0h36v0h-36Z\"></path><g><g class=\"mark-group role-axis\" role=\"graphics-symbol\" aria-roledescription=\"axis\" aria-label=\"X-axis titled ' ' for a discrete scale with 2 values: ats, otc\"><g transform=\"translate(0.5,0.5)\"><path class=\"background\" aria-hidden=\"true\" d=\"M0,0h0v0h0Z\" pointer-events=\"none\"></path><g><g class=\"mark-rule role-axis-tick\" pointer-events=\"none\"><line transform=\"translate(9,0)\" x2=\"0\" y2=\"5\" stroke=\"#888\" stroke-width=\"1\" opacity=\"1\"></line><line transform=\"translate(27,0)\" x2=\"0\" y2=\"5\" stroke=\"#888\" stroke-width=\"1\" opacity=\"1\"></line></g><g class=\"mark-text role-axis-label\" pointer-events=\"none\"><text text-anchor=\"end\" transform=\"translate(8.500000000000002,7) rotate(270) translate(0,3)\" font-family=\"sans-serif\" font-size=\"10px\" fill=\"#000\" opacity=\"1\">ats</text><text text-anchor=\"end\" transform=\"translate(26.5,7) rotate(270) translate(0,3)\" font-family=\"sans-serif\" font-size=\"10px\" fill=\"#000\" opacity=\"1\">otc</text></g><g class=\"mark-rule role-axis-domain\" pointer-events=\"none\"><line transform=\"translate(0,0)\" x2=\"36\" y2=\"0\" stroke=\"#888\" stroke-width=\"3\" opacity=\"1\"></line></g><g class=\"mark-text role-axis-title\" pointer-events=\"none\"><text text-anchor=\"middle\" transform=\"translate(18,36)\" font-family=\"sans-serif\" font-size=\"11px\" font-weight=\"bold\" fill=\"#000\" opacity=\"1\"></text></g></g><path class=\"foreground\" aria-hidden=\"true\" d=\"\" pointer-events=\"none\" display=\"none\"></path></g></g></g><path class=\"foreground\" aria-hidden=\"true\" d=\"\" display=\"none\"></path></g><g transform=\"translate(425,351)\"><path class=\"background\" aria-hidden=\"true\" d=\"M0,0h36v0h-36Z\"></path><g><g class=\"mark-group role-axis\" role=\"graphics-symbol\" aria-roledescription=\"axis\" aria-label=\"X-axis titled ' ' for a discrete scale with 2 values: ats, otc\"><g transform=\"translate(0.5,0.5)\"><path class=\"background\" aria-hidden=\"true\" d=\"M0,0h0v0h0Z\" pointer-events=\"none\"></path><g><g class=\"mark-rule role-axis-tick\" pointer-events=\"none\"><line transform=\"translate(9,0)\" x2=\"0\" y2=\"5\" stroke=\"#888\" stroke-width=\"1\" opacity=\"1\"></line><line transform=\"translate(27,0)\" x2=\"0\" y2=\"5\" stroke=\"#888\" stroke-width=\"1\" opacity=\"1\"></line></g><g class=\"mark-text role-axis-label\" pointer-events=\"none\"><text text-anchor=\"end\" transform=\"translate(8.500000000000002,7) rotate(270) translate(0,3)\" font-family=\"sans-serif\" font-size=\"10px\" fill=\"#000\" opacity=\"1\">ats</text><text text-anchor=\"end\" transform=\"translate(26.5,7) rotate(270) translate(0,3)\" font-family=\"sans-serif\" font-size=\"10px\" fill=\"#000\" opacity=\"1\">otc</text></g><g class=\"mark-rule role-axis-domain\" pointer-events=\"none\"><line transform=\"translate(0,0)\" x2=\"36\" y2=\"0\" stroke=\"#888\" stroke-width=\"3\" opacity=\"1\"></line></g><g class=\"mark-text role-axis-title\" pointer-events=\"none\"><text text-anchor=\"middle\" transform=\"translate(18,36)\" font-family=\"sans-serif\" font-size=\"11px\" font-weight=\"bold\" fill=\"#000\" opacity=\"1\"></text></g></g><path class=\"foreground\" aria-hidden=\"true\" d=\"\" pointer-events=\"none\" display=\"none\"></path></g></g></g><path class=\"foreground\" aria-hidden=\"true\" d=\"\" display=\"none\"></path></g><g transform=\"translate(467.5,351)\"><path class=\"background\" aria-hidden=\"true\" d=\"M0,0h36v0h-36Z\"></path><g><g class=\"mark-group role-axis\" role=\"graphics-symbol\" aria-roledescription=\"axis\" aria-label=\"X-axis titled ' ' for a discrete scale with 2 values: ats, otc\"><g transform=\"translate(0.5,0.5)\"><path class=\"background\" aria-hidden=\"true\" d=\"M0,0h0v0h0Z\" pointer-events=\"none\"></path><g><g class=\"mark-rule role-axis-tick\" pointer-events=\"none\"><line transform=\"translate(9,0)\" x2=\"0\" y2=\"5\" stroke=\"#888\" stroke-width=\"1\" opacity=\"1\"></line><line transform=\"translate(27,0)\" x2=\"0\" y2=\"5\" stroke=\"#888\" stroke-width=\"1\" opacity=\"1\"></line></g><g class=\"mark-text role-axis-label\" pointer-events=\"none\"><text text-anchor=\"end\" transform=\"translate(8.500000000000002,7) rotate(270) translate(0,3)\" font-family=\"sans-serif\" font-size=\"10px\" fill=\"#000\" opacity=\"1\">ats</text><text text-anchor=\"end\" transform=\"translate(26.5,7) rotate(270) translate(0,3)\" font-family=\"sans-serif\" font-size=\"10px\" fill=\"#000\" opacity=\"1\">otc</text></g><g class=\"mark-rule role-axis-domain\" pointer-events=\"none\"><line transform=\"translate(0,0)\" x2=\"36\" y2=\"0\" stroke=\"#888\" stroke-width=\"3\" opacity=\"1\"></line></g><g class=\"mark-text role-axis-title\" pointer-events=\"none\"><text text-anchor=\"middle\" transform=\"translate(18,36)\" font-family=\"sans-serif\" font-size=\"11px\" font-weight=\"bold\" fill=\"#000\" opacity=\"1\"></text></g></g><path class=\"foreground\" aria-hidden=\"true\" d=\"\" pointer-events=\"none\" display=\"none\"></path></g></g></g><path class=\"foreground\" aria-hidden=\"true\" d=\"\" display=\"none\"></path></g><g transform=\"translate(510,351)\"><path class=\"background\" aria-hidden=\"true\" d=\"M0,0h36v0h-36Z\"></path><g><g class=\"mark-group role-axis\" role=\"graphics-symbol\" aria-roledescription=\"axis\" aria-label=\"X-axis titled ' ' for a discrete scale with 2 values: ats, otc\"><g transform=\"translate(0.5,0.5)\"><path class=\"background\" aria-hidden=\"true\" d=\"M0,0h0v0h0Z\" pointer-events=\"none\"></path><g><g class=\"mark-rule role-axis-tick\" pointer-events=\"none\"><line transform=\"translate(9,0)\" x2=\"0\" y2=\"5\" stroke=\"#888\" stroke-width=\"1\" opacity=\"1\"></line><line transform=\"translate(27,0)\" x2=\"0\" y2=\"5\" stroke=\"#888\" stroke-width=\"1\" opacity=\"1\"></line></g><g class=\"mark-text role-axis-label\" pointer-events=\"none\"><text text-anchor=\"end\" transform=\"translate(8.500000000000002,7) rotate(270) translate(0,3)\" font-family=\"sans-serif\" font-size=\"10px\" fill=\"#000\" opacity=\"1\">ats</text><text text-anchor=\"end\" transform=\"translate(26.5,7) rotate(270) translate(0,3)\" font-family=\"sans-serif\" font-size=\"10px\" fill=\"#000\" opacity=\"1\">otc</text></g><g class=\"mark-rule role-axis-domain\" pointer-events=\"none\"><line transform=\"translate(0,0)\" x2=\"36\" y2=\"0\" stroke=\"#888\" stroke-width=\"3\" opacity=\"1\"></line></g><g class=\"mark-text role-axis-title\" pointer-events=\"none\"><text text-anchor=\"middle\" transform=\"translate(18,36)\" font-family=\"sans-serif\" font-size=\"11px\" font-weight=\"bold\" fill=\"#000\" opacity=\"1\"></text></g></g><path class=\"foreground\" aria-hidden=\"true\" d=\"\" pointer-events=\"none\" display=\"none\"></path></g></g></g><path class=\"foreground\" aria-hidden=\"true\" d=\"\" display=\"none\"></path></g><g transform=\"translate(552.5,351)\"><path class=\"background\" aria-hidden=\"true\" d=\"M0,0h36v0h-36Z\"></path><g><g class=\"mark-group role-axis\" role=\"graphics-symbol\" aria-roledescription=\"axis\" aria-label=\"X-axis titled ' ' for a discrete scale with 2 values: ats, otc\"><g transform=\"translate(0.5,0.5)\"><path class=\"background\" aria-hidden=\"true\" d=\"M0,0h0v0h0Z\" pointer-events=\"none\"></path><g><g class=\"mark-rule role-axis-tick\" pointer-events=\"none\"><line transform=\"translate(9,0)\" x2=\"0\" y2=\"5\" stroke=\"#888\" stroke-width=\"1\" opacity=\"1\"></line><line transform=\"translate(27,0)\" x2=\"0\" y2=\"5\" stroke=\"#888\" stroke-width=\"1\" opacity=\"1\"></line></g><g class=\"mark-text role-axis-label\" pointer-events=\"none\"><text text-anchor=\"end\" transform=\"translate(8.500000000000002,7) rotate(270) translate(0,3)\" font-family=\"sans-serif\" font-size=\"10px\" fill=\"#000\" opacity=\"1\">ats</text><text text-anchor=\"end\" transform=\"translate(26.5,7) rotate(270) translate(0,3)\" font-family=\"sans-serif\" font-size=\"10px\" fill=\"#000\" opacity=\"1\">otc</text></g><g class=\"mark-rule role-axis-domain\" pointer-events=\"none\"><line transform=\"translate(0,0)\" x2=\"36\" y2=\"0\" stroke=\"#888\" stroke-width=\"3\" opacity=\"1\"></line></g><g class=\"mark-text role-axis-title\" pointer-events=\"none\"><text text-anchor=\"middle\" transform=\"translate(18,36)\" font-family=\"sans-serif\" font-size=\"11px\" font-weight=\"bold\" fill=\"#000\" opacity=\"1\"></text></g></g><path class=\"foreground\" aria-hidden=\"true\" d=\"\" pointer-events=\"none\" display=\"none\"></path></g></g></g><path class=\"foreground\" aria-hidden=\"true\" d=\"\" display=\"none\"></path></g><g transform=\"translate(595,351)\"><path class=\"background\" aria-hidden=\"true\" d=\"M0,0h36v0h-36Z\"></path><g><g class=\"mark-group role-axis\" role=\"graphics-symbol\" aria-roledescription=\"axis\" aria-label=\"X-axis titled ' ' for a discrete scale with 2 values: ats, otc\"><g transform=\"translate(0.5,0.5)\"><path class=\"background\" aria-hidden=\"true\" d=\"M0,0h0v0h0Z\" pointer-events=\"none\"></path><g><g class=\"mark-rule role-axis-tick\" pointer-events=\"none\"><line transform=\"translate(9,0)\" x2=\"0\" y2=\"5\" stroke=\"#888\" stroke-width=\"1\" opacity=\"1\"></line><line transform=\"translate(27,0)\" x2=\"0\" y2=\"5\" stroke=\"#888\" stroke-width=\"1\" opacity=\"1\"></line></g><g class=\"mark-text role-axis-label\" pointer-events=\"none\"><text text-anchor=\"end\" transform=\"translate(8.500000000000002,7) rotate(270) translate(0,3)\" font-family=\"sans-serif\" font-size=\"10px\" fill=\"#000\" opacity=\"1\">ats</text><text text-anchor=\"end\" transform=\"translate(26.5,7) rotate(270) translate(0,3)\" font-family=\"sans-serif\" font-size=\"10px\" fill=\"#000\" opacity=\"1\">otc</text></g><g class=\"mark-rule role-axis-domain\" pointer-events=\"none\"><line transform=\"translate(0,0)\" x2=\"36\" y2=\"0\" stroke=\"#888\" stroke-width=\"3\" opacity=\"1\"></line></g><g class=\"mark-text role-axis-title\" pointer-events=\"none\"><text text-anchor=\"middle\" transform=\"translate(18,36)\" font-family=\"sans-serif\" font-size=\"11px\" font-weight=\"bold\" fill=\"#000\" opacity=\"1\"></text></g></g><path class=\"foreground\" aria-hidden=\"true\" d=\"\" pointer-events=\"none\" display=\"none\"></path></g></g></g><path class=\"foreground\" aria-hidden=\"true\" d=\"\" display=\"none\"></path></g></g><g class=\"mark-group role-scope cell\" role=\"graphics-object\" aria-roledescription=\"group mark container\"><g transform=\"translate(0,0)\"><path class=\"background\" aria-hidden=\"true\" d=\"M0.5,0.5h36v350h-36Z\"></path><g><g class=\"mark-rect role-mark child_marks\" role=\"graphics-object\" aria-roledescription=\"rect mark container\"><path aria-label=\"Number of Bonds: 499;  : otc; Secondary Market: otc\" role=\"graphics-symbol\" aria-roledescription=\"bar\" d=\"M18.900000000000002,330.59444444444443h16.2v19.405555555555566h-16.2Z\" fill=\"rgb(53, 183, 121)\"></path><path aria-label=\"Number of Bonds: 487;  : ats; Secondary Market: ats\" role=\"graphics-symbol\" aria-roledescription=\"bar\" d=\"M0.9000000000000021,331.06111111111113h16.2v18.93888888888887h-16.2Z\" fill=\"rgb(49, 104, 142)\"></path></g></g><path class=\"foreground\" aria-hidden=\"true\" d=\"\" display=\"none\"></path></g><g transform=\"translate(42.5,0)\"><path class=\"background\" aria-hidden=\"true\" d=\"M0.5,0.5h36v350h-36Z\"></path><g><g class=\"mark-rect role-mark child_marks\" role=\"graphics-object\" aria-roledescription=\"rect mark container\"><path aria-label=\"Number of Bonds: 6692;  : otc; Secondary Market: otc\" role=\"graphics-symbol\" aria-roledescription=\"bar\" d=\"M18.900000000000002,89.75555555555556h16.2v260.2444444444444h-16.2Z\" fill=\"rgb(53, 183, 121)\"></path><path aria-label=\"Number of Bonds: 6466;  : ats; Secondary Market: ats\" role=\"graphics-symbol\" aria-roledescription=\"bar\" d=\"M0.9000000000000021,98.54444444444445h16.2v251.45555555555555h-16.2Z\" fill=\"rgb(49, 104, 142)\"></path></g></g><path class=\"foreground\" aria-hidden=\"true\" d=\"\" display=\"none\"></path></g><g transform=\"translate(85,0)\"><path class=\"background\" aria-hidden=\"true\" d=\"M0.5,0.5h36v350h-36Z\"></path><g><g class=\"mark-rect role-mark child_marks\" role=\"graphics-object\" aria-roledescription=\"rect mark container\"><path aria-label=\"Number of Bonds: 74;  : otc; Secondary Market: otc\" role=\"graphics-symbol\" aria-roledescription=\"bar\" d=\"M18.900000000000002,347.1222222222222h16.2v2.877777777777794h-16.2Z\" fill=\"rgb(53, 183, 121)\"></path><path aria-label=\"Number of Bonds: 75;  : ats; Secondary Market: ats\" role=\"graphics-symbol\" aria-roledescription=\"bar\" d=\"M0.9000000000000021,347.08333333333337h16.2v2.9166666666666288h-16.2Z\" fill=\"rgb(49, 104, 142)\"></path></g></g><path class=\"foreground\" aria-hidden=\"true\" d=\"\" display=\"none\"></path></g><g transform=\"translate(127.5,0)\"><path class=\"background\" aria-hidden=\"true\" d=\"M0.5,0.5h36v350h-36Z\"></path><g><g class=\"mark-rect role-mark child_marks\" role=\"graphics-object\" aria-roledescription=\"rect mark container\"><path aria-label=\"Number of Bonds: 106;  : otc; Secondary Market: otc\" role=\"graphics-symbol\" aria-roledescription=\"bar\" d=\"M18.900000000000002,345.8777777777778h16.2v4.122222222222206h-16.2Z\" fill=\"rgb(53, 183, 121)\"></path><path aria-label=\"Number of Bonds: 99;  : ats; Secondary Market: ats\" role=\"graphics-symbol\" aria-roledescription=\"bar\" d=\"M0.9000000000000021,346.15h16.2v3.8500000000000227h-16.2Z\" fill=\"rgb(49, 104, 142)\"></path></g></g><path class=\"foreground\" aria-hidden=\"true\" d=\"\" display=\"none\"></path></g><g transform=\"translate(170,0)\"><path class=\"background\" aria-hidden=\"true\" d=\"M0.5,0.5h36v350h-36Z\"></path><g><g class=\"mark-rect role-mark child_marks\" role=\"graphics-object\" aria-roledescription=\"rect mark container\"><path aria-label=\"Number of Bonds: 10;  : otc; Secondary Market: otc\" role=\"graphics-symbol\" aria-roledescription=\"bar\" d=\"M18.900000000000002,349.61111111111114h16.2v0.3888888888888573h-16.2Z\" fill=\"rgb(53, 183, 121)\"></path><path aria-label=\"Number of Bonds: 9;  : ats; Secondary Market: ats\" role=\"graphics-symbol\" aria-roledescription=\"bar\" d=\"M0.9000000000000021,349.65h16.2v0.35000000000002274h-16.2Z\" fill=\"rgb(49, 104, 142)\"></path></g></g><path class=\"foreground\" aria-hidden=\"true\" d=\"\" display=\"none\"></path></g><g transform=\"translate(212.5,0)\"><path class=\"background\" aria-hidden=\"true\" d=\"M0.5,0.5h36v350h-36Z\"></path><g><g class=\"mark-rect role-mark child_marks\" role=\"graphics-object\" aria-roledescription=\"rect mark container\"><path aria-label=\"Number of Bonds: 5033;  : otc; Secondary Market: otc\" role=\"graphics-symbol\" aria-roledescription=\"bar\" d=\"M18.900000000000002,154.27222222222224h16.2v195.72777777777776h-16.2Z\" fill=\"rgb(53, 183, 121)\"></path><path aria-label=\"Number of Bonds: 4876;  : ats; Secondary Market: ats\" role=\"graphics-symbol\" aria-roledescription=\"bar\" d=\"M0.9000000000000021,160.37777777777777h16.2v189.62222222222223h-16.2Z\" fill=\"rgb(49, 104, 142)\"></path></g></g><path class=\"foreground\" aria-hidden=\"true\" d=\"\" display=\"none\"></path></g><g transform=\"translate(255,0)\"><path class=\"background\" aria-hidden=\"true\" d=\"M0.5,0.5h36v350h-36Z\"></path><g><g class=\"mark-rect role-mark child_marks\" role=\"graphics-object\" aria-roledescription=\"rect mark container\"><path aria-label=\"Number of Bonds: 8219;  : otc; Secondary Market: otc\" role=\"graphics-symbol\" aria-roledescription=\"bar\" d=\"M18.900000000000002,30.372222222222206h16.2v319.6277777777778h-16.2Z\" fill=\"rgb(53, 183, 121)\"></path><path aria-label=\"Number of Bonds: 7814;  : ats; Secondary Market: ats\" role=\"graphics-symbol\" aria-roledescription=\"bar\" d=\"M0.9000000000000021,46.12222222222222h16.2v303.8777777777778h-16.2Z\" fill=\"rgb(49, 104, 142)\"></path></g></g><path class=\"foreground\" aria-hidden=\"true\" d=\"\" display=\"none\"></path></g><g transform=\"translate(297.5,0)\"><path class=\"background\" aria-hidden=\"true\" d=\"M0.5,0.5h36v350h-36Z\"></path><g><g class=\"mark-rect role-mark child_marks\" role=\"graphics-object\" aria-roledescription=\"rect mark container\"><path aria-label=\"Number of Bonds: 3449;  : otc; Secondary Market: otc\" role=\"graphics-symbol\" aria-roledescription=\"bar\" d=\"M18.900000000000002,215.8722222222222h16.2v134.1277777777778h-16.2Z\" fill=\"rgb(53, 183, 121)\"></path><path aria-label=\"Number of Bonds: 3346;  : ats; Secondary Market: ats\" role=\"graphics-symbol\" aria-roledescription=\"bar\" d=\"M0.9000000000000021,219.8777777777778h16.2v130.1222222222222h-16.2Z\" fill=\"rgb(49, 104, 142)\"></path></g></g><path class=\"foreground\" aria-hidden=\"true\" d=\"\" display=\"none\"></path></g><g transform=\"translate(340,0)\"><path class=\"background\" aria-hidden=\"true\" d=\"M0.5,0.5h36v350h-36Z\"></path><g><g class=\"mark-rect role-mark child_marks\" role=\"graphics-object\" aria-roledescription=\"rect mark container\"><path aria-label=\"Number of Bonds: 356;  : otc; Secondary Market: otc\" role=\"graphics-symbol\" aria-roledescription=\"bar\" d=\"M18.900000000000002,336.15555555555557h16.2v13.844444444444434h-16.2Z\" fill=\"rgb(53, 183, 121)\"></path><path aria-label=\"Number of Bonds: 352;  : ats; Secondary Market: ats\" role=\"graphics-symbol\" aria-roledescription=\"bar\" d=\"M0.9000000000000021,336.31111111111113h16.2v13.688888888888869h-16.2Z\" fill=\"rgb(49, 104, 142)\"></path></g></g><path class=\"foreground\" aria-hidden=\"true\" d=\"\" display=\"none\"></path></g><g transform=\"translate(382.5,0)\"><path class=\"background\" aria-hidden=\"true\" d=\"M0.5,0.5h36v350h-36Z\"></path><g><g class=\"mark-rect role-mark child_marks\" role=\"graphics-object\" aria-roledescription=\"rect mark container\"><path aria-label=\"Number of Bonds: 113;  : otc; Secondary Market: otc\" role=\"graphics-symbol\" aria-roledescription=\"bar\" d=\"M18.900000000000002,345.60555555555555h16.2v4.394444444444446h-16.2Z\" fill=\"rgb(53, 183, 121)\"></path><path aria-label=\"Number of Bonds: 109;  : ats; Secondary Market: ats\" role=\"graphics-symbol\" aria-roledescription=\"bar\" d=\"M0.9000000000000021,345.7611111111111h16.2v4.23888888888888h-16.2Z\" fill=\"rgb(49, 104, 142)\"></path></g></g><path class=\"foreground\" aria-hidden=\"true\" d=\"\" display=\"none\"></path></g><g transform=\"translate(425,0)\"><path class=\"background\" aria-hidden=\"true\" d=\"M0.5,0.5h36v350h-36Z\"></path><g><g class=\"mark-rect role-mark child_marks\" role=\"graphics-object\" aria-roledescription=\"rect mark container\"><path aria-label=\"Number of Bonds: 6755;  : otc; Secondary Market: otc\" role=\"graphics-symbol\" aria-roledescription=\"bar\" d=\"M18.900000000000002,87.30555555555556h16.2v262.69444444444446h-16.2Z\" fill=\"rgb(53, 183, 121)\"></path><path aria-label=\"Number of Bonds: 6434;  : ats; Secondary Market: ats\" role=\"graphics-symbol\" aria-roledescription=\"bar\" d=\"M0.9000000000000021,99.78888888888888h16.2v250.2111111111111h-16.2Z\" fill=\"rgb(49, 104, 142)\"></path></g></g><path class=\"foreground\" aria-hidden=\"true\" d=\"\" display=\"none\"></path></g><g transform=\"translate(467.5,0)\"><path class=\"background\" aria-hidden=\"true\" d=\"M0.5,0.5h36v350h-36Z\"></path><g><g class=\"mark-rect role-mark child_marks\" role=\"graphics-object\" aria-roledescription=\"rect mark container\"><path aria-label=\"Number of Bonds: 3442;  : otc; Secondary Market: otc\" role=\"graphics-symbol\" aria-roledescription=\"bar\" d=\"M18.900000000000002,216.14444444444447h16.2v133.85555555555553h-16.2Z\" fill=\"rgb(53, 183, 121)\"></path><path aria-label=\"Number of Bonds: 3316;  : ats; Secondary Market: ats\" role=\"graphics-symbol\" aria-roledescription=\"bar\" d=\"M0.9000000000000021,221.04444444444445h16.2v128.95555555555555h-16.2Z\" fill=\"rgb(49, 104, 142)\"></path></g></g><path class=\"foreground\" aria-hidden=\"true\" d=\"\" display=\"none\"></path></g><g transform=\"translate(510,0)\"><path class=\"background\" aria-hidden=\"true\" d=\"M0.5,0.5h36v350h-36Z\"></path><g><g class=\"mark-rect role-mark child_marks\" role=\"graphics-object\" aria-roledescription=\"rect mark container\"><path aria-label=\"Number of Bonds: 6666;  : otc; Secondary Market: otc\" role=\"graphics-symbol\" aria-roledescription=\"bar\" d=\"M18.900000000000002,90.76666666666665h16.2v259.23333333333335h-16.2Z\" fill=\"rgb(53, 183, 121)\"></path><path aria-label=\"Number of Bonds: 6362;  : ats; Secondary Market: ats\" role=\"graphics-symbol\" aria-roledescription=\"bar\" d=\"M0.9000000000000021,102.58888888888889h16.2v247.4111111111111h-16.2Z\" fill=\"rgb(49, 104, 142)\"></path></g></g><path class=\"foreground\" aria-hidden=\"true\" d=\"\" display=\"none\"></path></g><g transform=\"translate(552.5,0)\"><path class=\"background\" aria-hidden=\"true\" d=\"M0.5,0.5h36v350h-36Z\"></path><g><g class=\"mark-rect role-mark child_marks\" role=\"graphics-object\" aria-roledescription=\"rect mark container\"><path aria-label=\"Number of Bonds: 561;  : otc; Secondary Market: otc\" role=\"graphics-symbol\" aria-roledescription=\"bar\" d=\"M18.900000000000002,328.18333333333334h16.2v21.816666666666663h-16.2Z\" fill=\"rgb(53, 183, 121)\"></path><path aria-label=\"Number of Bonds: 549;  : ats; Secondary Market: ats\" role=\"graphics-symbol\" aria-roledescription=\"bar\" d=\"M0.9000000000000021,328.65000000000003h16.2v21.349999999999966h-16.2Z\" fill=\"rgb(49, 104, 142)\"></path></g></g><path class=\"foreground\" aria-hidden=\"true\" d=\"\" display=\"none\"></path></g><g transform=\"translate(595,0)\"><path class=\"background\" aria-hidden=\"true\" d=\"M0.5,0.5h36v350h-36Z\"></path><g><g class=\"mark-rect role-mark child_marks\" role=\"graphics-object\" aria-roledescription=\"rect mark container\"><path aria-label=\"Number of Bonds: 6593;  : otc; Secondary Market: otc\" role=\"graphics-symbol\" aria-roledescription=\"bar\" d=\"M18.900000000000002,93.60555555555557h16.2v256.39444444444445h-16.2Z\" fill=\"rgb(53, 183, 121)\"></path><path aria-label=\"Number of Bonds: 6290;  : ats; Secondary Market: ats\" role=\"graphics-symbol\" aria-roledescription=\"bar\" d=\"M0.9000000000000021,105.38888888888889h16.2v244.61111111111111h-16.2Z\" fill=\"rgb(49, 104, 142)\"></path></g></g><path class=\"foreground\" aria-hidden=\"true\" d=\"\" display=\"none\"></path></g></g><g class=\"mark-group role-legend\" role=\"graphics-symbol\" aria-roledescription=\"legend\" aria-label=\"Symbol legend titled 'Secondary Market' for fill color with 2 values: ats, otc\"><g transform=\"translate(650,0)\"><path class=\"background\" aria-hidden=\"true\" d=\"M0,0h111v40h-111Z\" pointer-events=\"none\"></path><g><g class=\"mark-group role-legend-entry\"><g transform=\"translate(0,16)\"><path class=\"background\" aria-hidden=\"true\" d=\"M0,0h0v0h0Z\" pointer-events=\"none\"></path><g><g class=\"mark-group role-scope\" role=\"graphics-object\" aria-roledescription=\"group mark container\"><g transform=\"translate(0,0)\"><path class=\"background\" aria-hidden=\"true\" d=\"M0,0h32v11h-32Z\" pointer-events=\"none\" opacity=\"1\"></path><g><g class=\"mark-symbol role-legend-symbol\" pointer-events=\"none\"><path transform=\"translate(6,6)\" d=\"M-5,-5h10v10h-10Z\" fill=\"rgb(49, 104, 142)\" stroke-width=\"1.5\" opacity=\"1\"></path></g><g class=\"mark-text role-legend-label\" pointer-events=\"none\"><text text-anchor=\"start\" transform=\"translate(16,9)\" font-family=\"sans-serif\" font-size=\"10px\" fill=\"#000\" opacity=\"1\">ats</text></g></g><path class=\"foreground\" aria-hidden=\"true\" d=\"\" pointer-events=\"none\" display=\"none\"></path></g><g transform=\"translate(0,13)\"><path class=\"background\" aria-hidden=\"true\" d=\"M0,0h32v11h-32Z\" pointer-events=\"none\" opacity=\"1\"></path><g><g class=\"mark-symbol role-legend-symbol\" pointer-events=\"none\"><path transform=\"translate(6,6)\" d=\"M-5,-5h10v10h-10Z\" fill=\"rgb(53, 183, 121)\" stroke-width=\"1.5\" opacity=\"1\"></path></g><g class=\"mark-text role-legend-label\" pointer-events=\"none\"><text text-anchor=\"start\" transform=\"translate(16,9)\" font-family=\"sans-serif\" font-size=\"10px\" fill=\"#000\" opacity=\"1\">otc</text></g></g><path class=\"foreground\" aria-hidden=\"true\" d=\"\" pointer-events=\"none\" display=\"none\"></path></g></g></g><path class=\"foreground\" aria-hidden=\"true\" d=\"\" pointer-events=\"none\" display=\"none\"></path></g></g><g class=\"mark-text role-legend-title\" pointer-events=\"none\"><text text-anchor=\"start\" transform=\"translate(0,9)\" font-family=\"sans-serif\" font-size=\"11px\" font-weight=\"bold\" fill=\"#000\" opacity=\"1\">Secondary Market</text></g></g><path class=\"foreground\" aria-hidden=\"true\" d=\"\" pointer-events=\"none\" display=\"none\"></path></g></g><g class=\"mark-group role-title\"><g transform=\"translate(355.5,-86)\"><path class=\"background\" aria-hidden=\"true\" d=\"M0,0h0v0h0Z\" pointer-events=\"none\"></path><g><g class=\"mark-text role-title-text\" role=\"graphics-symbol\" aria-roledescription=\"title\" aria-label=\"Title text 'Number of Non-MTN Bonds Traded per Covenant Category - 2019Q2'\" pointer-events=\"none\"><text text-anchor=\"middle\" transform=\"translate(0,11)\" font-family=\"sans-serif\" font-size=\"14px\" font-weight=\"bold\" fill=\"#000\" opacity=\"1\">Number of Non-MTN Bonds Traded per Covenant Category - 2019Q2</text></g></g><path class=\"foreground\" aria-hidden=\"true\" d=\"\" pointer-events=\"none\" display=\"none\"></path></g></g></g><path class=\"foreground\" aria-hidden=\"true\" d=\"\" display=\"none\"></path></g></g></g></svg>\n"
      ],
      "text/plain": [
       "@vlplot(\n",
       "    config={\n",
       "        view={\n",
       "            stroke=\"transparent\"\n",
       "        },\n",
       "        axis={\n",
       "            domainWidth=3\n",
       "        },\n",
       "        opacity={\n",
       "            value=0.7\n",
       "        }\n",
       "    },\n",
       "    title={\n",
       "        text=[\n",
       "            \"Number of Non-MTN Bonds Traded per Covenant Category - 2019Q2\"\n",
       "        ],\n",
       "        align=\"center\",\n",
       "        anchor=\"middle\",\n",
       "        fontSize=14,\n",
       "        offset=20\n",
       "    },\n",
       "    spacing=4.5,\n",
       "    width={\n",
       "        step=18\n",
       "    },\n",
       "    height=350,\n",
       "    mark=\"bar\",\n",
       "    encoding={\n",
       "        column={\n",
       "            type=\"ordinal\",\n",
       "            title=\"Covenant Category\",\n",
       "            sort=\"ascending\",\n",
       "            field=\"cov_cat\"\n",
       "        },\n",
       "        y={\n",
       "            axis={\n",
       "                title=\"Number of Bonds\",\n",
       "                grid=false,\n",
       "                stack=nothing\n",
       "            },\n",
       "            field=\"value\"\n",
       "        },\n",
       "        x={\n",
       "            type=\"nominal\",\n",
       "            axis={\n",
       "                title=\" \"\n",
       "            },\n",
       "            field=\"sbm\"\n",
       "        },\n",
       "        color={\n",
       "            legend={\n",
       "                title=\"Secondary Market\"\n",
       "            },\n",
       "            scale={\n",
       "                scheme=\"viridis\"\n",
       "            },\n",
       "            field=\"sbm\",\n",
       "            type=\"nominal\"\n",
       "        }\n",
       "    },\n",
       "    data={\n",
       "        values=...\n",
       "    }\n",
       ")"
      ]
     },
     "execution_count": 21,
     "metadata": {},
     "output_type": "execute_result"
    }
   ],
   "source": [
    "pl[4]"
   ]
  },
  {
   "cell_type": "code",
   "execution_count": null,
   "metadata": {},
   "outputs": [],
   "source": []
  },
  {
   "cell_type": "code",
   "execution_count": null,
   "metadata": {},
   "outputs": [],
   "source": []
  },
  {
   "cell_type": "code",
   "execution_count": 7,
   "metadata": {},
   "outputs": [
    {
     "name": "stdout",
     "output_type": "stream",
     "text": [
      " \n",
      "Filename: 2019Q2_stats_by_num_cov.csv\n",
      " \n",
      "Reading dataframe in folder: /home/artur/BondPricing/bond-data/data/Stats/2019...\n"
     ]
    },
    {
     "name": "stderr",
     "output_type": "stream",
     "text": [
      "WARNING: replacing module DataMod.\n",
      "WARNING: replacing module StatsMod.\n",
      "WARNING: replacing module PlotMod.\n",
      "WARNING: replacing module PlotMod.\n",
      "WARNING: replacing module PlotMod.\n"
     ]
    },
    {
     "data": {
      "text/plain": [
       "19-element Array{Any,1}:\n",
       " VegaLite.VLSpec\n",
       " VegaLite.VLSpec\n",
       " VegaLite.VLSpec\n",
       " VegaLite.VLSpec\n",
       " VegaLite.VLSpec\n",
       " VegaLite.VLSpec\n",
       " VegaLite.VLSpec\n",
       " VegaLite.VLSpec\n",
       " VegaLite.VLSpec\n",
       " VegaLite.VLSpec\n",
       " VegaLite.VLSpec\n",
       " VegaLite.VLSpec\n",
       " VegaLite.VLSpec\n",
       " VegaLite.VLSpec\n",
       " VegaLite.VLSpec\n",
       " VegaLite.VLSpec\n",
       " VegaLite.VLSpec\n",
       " VegaLite.VLSpec\n",
       " VegaLite.VLSpec"
      ]
     },
     "execution_count": 7,
     "metadata": {},
     "output_type": "execute_result"
    }
   ],
   "source": [
    "include(string(joinpath(scripts_path, \"plot_num_covs\"), \".jl\"))\n",
    "pl"
   ]
  },
  {
   "cell_type": "code",
   "execution_count": 8,
   "metadata": {},
   "outputs": [
    {
     "data": {
      "application/vnd.vegalite.v4+json": {
       "config": {
        "axis": {
         "domainWidth": 3
        },
        "opacity": {
         "value": 0.7
        },
        "view": {
         "stroke": "transparent"
        }
       },
       "data": {
        "values": [
         {
          "perc_sbm_rt_total": 5.983960518198643,
          "perc_sbm_total": 5.983960518198643,
          "period": "2019Q2",
          "rt": "any",
          "sbm": "ats",
          "sum_num_cov": 0,
          "value": 194,
          "variable": "issuers_by_num_cov"
         },
         {
          "perc_sbm_rt_total": 0.3701418877236274,
          "perc_sbm_total": 0.3701418877236274,
          "period": "2019Q2",
          "rt": "any",
          "sbm": "ats",
          "sum_num_cov": 1,
          "value": 12,
          "variable": "issuers_by_num_cov"
         },
         {
          "perc_sbm_rt_total": 5.274521900061691,
          "perc_sbm_total": 5.274521900061691,
          "period": "2019Q2",
          "rt": "any",
          "sbm": "ats",
          "sum_num_cov": 2,
          "value": 171,
          "variable": "issuers_by_num_cov"
         },
         {
          "perc_sbm_rt_total": 7.772979642196175,
          "perc_sbm_total": 7.772979642196175,
          "period": "2019Q2",
          "rt": "any",
          "sbm": "ats",
          "sum_num_cov": 3,
          "value": 252,
          "variable": "issuers_by_num_cov"
         },
         {
          "perc_sbm_rt_total": 9.19185687847008,
          "perc_sbm_total": 9.19185687847008,
          "period": "2019Q2",
          "rt": "any",
          "sbm": "ats",
          "sum_num_cov": 4,
          "value": 298,
          "variable": "issuers_by_num_cov"
         },
         {
          "perc_sbm_rt_total": 16.34793337446021,
          "perc_sbm_total": 16.34793337446021,
          "period": "2019Q2",
          "rt": "any",
          "sbm": "ats",
          "sum_num_cov": 5,
          "value": 530,
          "variable": "issuers_by_num_cov"
         },
         {
          "perc_sbm_rt_total": 16.193707587908698,
          "perc_sbm_total": 16.193707587908698,
          "period": "2019Q2",
          "rt": "any",
          "sbm": "ats",
          "sum_num_cov": 6,
          "value": 525,
          "variable": "issuers_by_num_cov"
         },
         {
          "perc_sbm_rt_total": 16.039481801357187,
          "perc_sbm_total": 16.039481801357187,
          "period": "2019Q2",
          "rt": "any",
          "sbm": "ats",
          "sum_num_cov": 7,
          "value": 520,
          "variable": "issuers_by_num_cov"
         },
         {
          "perc_sbm_rt_total": 12.862430598396053,
          "perc_sbm_total": 12.862430598396053,
          "period": "2019Q2",
          "rt": "any",
          "sbm": "ats",
          "sum_num_cov": 8,
          "value": 417,
          "variable": "issuers_by_num_cov"
         },
         {
          "perc_sbm_rt_total": 4.5033929673041335,
          "perc_sbm_total": 4.5033929673041335,
          "period": "2019Q2",
          "rt": "any",
          "sbm": "ats",
          "sum_num_cov": 9,
          "value": 146,
          "variable": "issuers_by_num_cov"
         },
         {
          "perc_sbm_rt_total": 3.979025293028995,
          "perc_sbm_total": 3.979025293028995,
          "period": "2019Q2",
          "rt": "any",
          "sbm": "ats",
          "sum_num_cov": 10,
          "value": 129,
          "variable": "issuers_by_num_cov"
         },
         {
          "perc_sbm_rt_total": 1.2954966070326959,
          "perc_sbm_total": 1.2954966070326959,
          "period": "2019Q2",
          "rt": "any",
          "sbm": "ats",
          "sum_num_cov": 11,
          "value": 42,
          "variable": "issuers_by_num_cov"
         },
         {
          "perc_sbm_rt_total": 0.1850709438618137,
          "perc_sbm_total": 0.1850709438618137,
          "period": "2019Q2",
          "rt": "any",
          "sbm": "ats",
          "sum_num_cov": 12,
          "value": 6,
          "variable": "issuers_by_num_cov"
         },
         {
          "perc_sbm_rt_total": 6.395348837209303,
          "perc_sbm_total": 6.395348837209303,
          "period": "2019Q2",
          "rt": "any",
          "sbm": "otc",
          "sum_num_cov": 0,
          "value": 220,
          "variable": "issuers_by_num_cov"
         },
         {
          "perc_sbm_rt_total": 0.4069767441860465,
          "perc_sbm_total": 0.4069767441860465,
          "period": "2019Q2",
          "rt": "any",
          "sbm": "otc",
          "sum_num_cov": 1,
          "value": 14,
          "variable": "issuers_by_num_cov"
         },
         {
          "perc_sbm_rt_total": 5.523255813953488,
          "perc_sbm_total": 5.523255813953488,
          "period": "2019Q2",
          "rt": "any",
          "sbm": "otc",
          "sum_num_cov": 2,
          "value": 190,
          "variable": "issuers_by_num_cov"
         },
         {
          "perc_sbm_rt_total": 8.430232558139535,
          "perc_sbm_total": 8.430232558139535,
          "period": "2019Q2",
          "rt": "any",
          "sbm": "otc",
          "sum_num_cov": 3,
          "value": 290,
          "variable": "issuers_by_num_cov"
         },
         {
          "perc_sbm_rt_total": 9.854651162790699,
          "perc_sbm_total": 9.854651162790699,
          "period": "2019Q2",
          "rt": "any",
          "sbm": "otc",
          "sum_num_cov": 4,
          "value": 339,
          "variable": "issuers_by_num_cov"
         },
         {
          "perc_sbm_rt_total": 16.540697674418606,
          "perc_sbm_total": 16.540697674418606,
          "period": "2019Q2",
          "rt": "any",
          "sbm": "otc",
          "sum_num_cov": 5,
          "value": 569,
          "variable": "issuers_by_num_cov"
         },
         {
          "perc_sbm_rt_total": 15.639534883720929,
          "perc_sbm_total": 15.639534883720929,
          "period": "2019Q2",
          "rt": "any",
          "sbm": "otc",
          "sum_num_cov": 6,
          "value": 538,
          "variable": "issuers_by_num_cov"
         },
         {
          "perc_sbm_rt_total": 15.319767441860465,
          "perc_sbm_total": 15.319767441860465,
          "period": "2019Q2",
          "rt": "any",
          "sbm": "otc",
          "sum_num_cov": 7,
          "value": 527,
          "variable": "issuers_by_num_cov"
         },
         {
          "perc_sbm_rt_total": 12.325581395348838,
          "perc_sbm_total": 12.325581395348838,
          "period": "2019Q2",
          "rt": "any",
          "sbm": "otc",
          "sum_num_cov": 8,
          "value": 424,
          "variable": "issuers_by_num_cov"
         },
         {
          "perc_sbm_rt_total": 4.3313953488372094,
          "perc_sbm_total": 4.3313953488372094,
          "period": "2019Q2",
          "rt": "any",
          "sbm": "otc",
          "sum_num_cov": 9,
          "value": 149,
          "variable": "issuers_by_num_cov"
         },
         {
          "perc_sbm_rt_total": 3.8372093023255816,
          "perc_sbm_total": 3.8372093023255816,
          "period": "2019Q2",
          "rt": "any",
          "sbm": "otc",
          "sum_num_cov": 10,
          "value": 132,
          "variable": "issuers_by_num_cov"
         },
         {
          "perc_sbm_rt_total": 1.2209302325581395,
          "perc_sbm_total": 1.2209302325581395,
          "period": "2019Q2",
          "rt": "any",
          "sbm": "otc",
          "sum_num_cov": 11,
          "value": 42,
          "variable": "issuers_by_num_cov"
         },
         {
          "perc_sbm_rt_total": 0.1744186046511628,
          "perc_sbm_total": 0.1744186046511628,
          "period": "2019Q2",
          "rt": "any",
          "sbm": "otc",
          "sum_num_cov": 12,
          "value": 6,
          "variable": "issuers_by_num_cov"
         }
        ]
       },
       "encoding": {
        "color": {
         "field": "sbm",
         "legend": {
          "title": "Secondary Market"
         },
         "scale": {
          "scheme": "viridis"
         },
         "type": "nominal"
        },
        "column": {
         "field": "sum_num_cov",
         "sort": "ascending",
         "title": "Number of Covenant Categories per Bond",
         "type": "ordinal"
        },
        "x": {
         "axis": {
          "title": " "
         },
         "field": "sbm",
         "type": "nominal"
        },
        "y": {
         "axis": {
          "grid": false,
          "stack": null,
          "title": "Number of Issuers"
         },
         "field": "value",
         "type": "quantitative"
        }
       },
       "height": 400,
       "mark": "bar",
       "spacing": 4.5,
       "title": {
        "align": "center",
        "anchor": "middle",
        "fontSize": 14,
        "offset": 20,
        "text": [
         "Number of Issuers of Non-MTN-Bonds Traded",
         " by Number of Covenant Categories per Bond - 2019Q2"
        ]
       },
       "width": {
        "step": 18
       }
      },
      "image/png": "[encoded data removed]",
      "image/svg+xml": [
       "<?xml version=\"1.0\" encoding=\"utf-8\"?>\n",
       "<!DOCTYPE svg PUBLIC \"-//W3C//DTD SVG 1.1//EN\" \"http://www.w3.org/Graphics/SVG/1.1/DTD/svg11.dtd\">\n",
       "<svg class=\"marks\" width=\"727\" height=\"551\" viewBox=\"0 0 727 551\" version=\"1.1\" xmlns=\"http://www.w3.org/2000/svg\" xmlns:xlink=\"http://www.w3.org/1999/xlink\"><rect width=\"727\" height=\"551\" fill=\"white\"></rect><g fill=\"none\" stroke-miterlimit=\"10\" transform=\"translate(46,107)\"><g class=\"mark-group role-frame root\" role=\"graphics-object\" aria-roledescription=\"group mark container\"><g transform=\"translate(0,0)\"><path class=\"background\" aria-hidden=\"true\" d=\"M0,0h0v0h0Z\"></path><g><g class=\"mark-group role-column-title column-title\" role=\"graphics-object\" aria-roledescription=\"group mark container\"><g transform=\"translate(273,-31)\"><path class=\"background\" aria-hidden=\"true\" d=\"M0,0h0v0h0Z\"></path><g><g class=\"mark-group role-title\"><g transform=\"translate(0,-21)\"><path class=\"background\" aria-hidden=\"true\" d=\"M0,0h0v0h0Z\" pointer-events=\"none\"></path><g><g class=\"mark-text role-title-text\" role=\"graphics-symbol\" aria-roledescription=\"title\" aria-label=\"Title text 'Number of Covenant Categories per Bond'\" pointer-events=\"none\"><text text-anchor=\"middle\" transform=\"translate(0,9)\" font-family=\"sans-serif\" font-size=\"11px\" font-weight=\"bold\" fill=\"#000\" opacity=\"1\">Number of Covenant Categories per Bond</text></g></g><path class=\"foreground\" aria-hidden=\"true\" d=\"\" pointer-events=\"none\" display=\"none\"></path></g></g></g><path class=\"foreground\" aria-hidden=\"true\" d=\"\" display=\"none\"></path></g></g><g class=\"mark-group role-row-header row_header\" role=\"graphics-object\" aria-roledescription=\"group mark container\"><g transform=\"translate(-1,0)\"><path class=\"background\" aria-hidden=\"true\" d=\"M0,0h0v400h0Z\"></path><g><g class=\"mark-group role-axis\" role=\"graphics-symbol\" aria-roledescription=\"axis\" aria-label=\"Y-axis titled 'Number of Issuers' for a linear scale with values from 0 to 600\"><g transform=\"translate(0.5,0.5)\"><path class=\"background\" aria-hidden=\"true\" d=\"M0,0h0v0h0Z\" pointer-events=\"none\"></path><g><g class=\"mark-rule role-axis-tick\" pointer-events=\"none\"><line transform=\"translate(0,400)\" x2=\"-5\" y2=\"0\" stroke=\"#888\" stroke-width=\"1\" opacity=\"1\"></line><line transform=\"translate(0,367)\" x2=\"-5\" y2=\"0\" stroke=\"#888\" stroke-width=\"1\" opacity=\"1\"></line><line transform=\"translate(0,333)\" x2=\"-5\" y2=\"0\" stroke=\"#888\" stroke-width=\"1\" opacity=\"1\"></line><line transform=\"translate(0,300)\" x2=\"-5\" y2=\"0\" stroke=\"#888\" stroke-width=\"1\" opacity=\"1\"></line><line transform=\"translate(0,267)\" x2=\"-5\" y2=\"0\" stroke=\"#888\" stroke-width=\"1\" opacity=\"1\"></line><line transform=\"translate(0,233)\" x2=\"-5\" y2=\"0\" stroke=\"#888\" stroke-width=\"1\" opacity=\"1\"></line><line transform=\"translate(0,200)\" x2=\"-5\" y2=\"0\" stroke=\"#888\" stroke-width=\"1\" opacity=\"1\"></line><line transform=\"translate(0,167)\" x2=\"-5\" y2=\"0\" stroke=\"#888\" stroke-width=\"1\" opacity=\"1\"></line><line transform=\"translate(0,133)\" x2=\"-5\" y2=\"0\" stroke=\"#888\" stroke-width=\"1\" opacity=\"1\"></line><line transform=\"translate(0,100)\" x2=\"-5\" y2=\"0\" stroke=\"#888\" stroke-width=\"1\" opacity=\"1\"></line><line transform=\"translate(0,67)\" x2=\"-5\" y2=\"0\" stroke=\"#888\" stroke-width=\"1\" opacity=\"1\"></line><line transform=\"translate(0,33)\" x2=\"-5\" y2=\"0\" stroke=\"#888\" stroke-width=\"1\" opacity=\"1\"></line><line transform=\"translate(0,0)\" x2=\"-5\" y2=\"0\" stroke=\"#888\" stroke-width=\"1\" opacity=\"1\"></line></g><g class=\"mark-text role-axis-label\" pointer-events=\"none\"><text text-anchor=\"end\" transform=\"translate(-7,403)\" font-family=\"sans-serif\" font-size=\"10px\" fill=\"#000\" opacity=\"1\">0</text><text text-anchor=\"end\" transform=\"translate(-7,369.66666666666663)\" font-family=\"sans-serif\" font-size=\"10px\" fill=\"#000\" opacity=\"1\">50</text><text text-anchor=\"end\" transform=\"translate(-7,336.33333333333337)\" font-family=\"sans-serif\" font-size=\"10px\" fill=\"#000\" opacity=\"1\">100</text><text text-anchor=\"end\" transform=\"translate(-7,303)\" font-family=\"sans-serif\" font-size=\"10px\" fill=\"#000\" opacity=\"1\">150</text><text text-anchor=\"end\" transform=\"translate(-7,269.6666666666667)\" font-family=\"sans-serif\" font-size=\"10px\" fill=\"#000\" opacity=\"1\">200</text><text text-anchor=\"end\" transform=\"translate(-7,236.33333333333331)\" font-family=\"sans-serif\" font-size=\"10px\" fill=\"#000\" opacity=\"1\">250</text><text text-anchor=\"end\" transform=\"translate(-7,203)\" font-family=\"sans-serif\" font-size=\"10px\" fill=\"#000\" opacity=\"1\">300</text><text text-anchor=\"end\" transform=\"translate(-7,169.66666666666666)\" font-family=\"sans-serif\" font-size=\"10px\" fill=\"#000\" opacity=\"1\">350</text><text text-anchor=\"end\" transform=\"translate(-7,136.33333333333334)\" font-family=\"sans-serif\" font-size=\"10px\" fill=\"#000\" opacity=\"1\">400</text><text text-anchor=\"end\" transform=\"translate(-7,103)\" font-family=\"sans-serif\" font-size=\"10px\" fill=\"#000\" opacity=\"1\">450</text><text text-anchor=\"end\" transform=\"translate(-7,69.66666666666666)\" font-family=\"sans-serif\" font-size=\"10px\" fill=\"#000\" opacity=\"1\">500</text><text text-anchor=\"end\" transform=\"translate(-7,36.33333333333335)\" font-family=\"sans-serif\" font-size=\"10px\" fill=\"#000\" opacity=\"1\">550</text><text text-anchor=\"end\" transform=\"translate(-7,3)\" font-family=\"sans-serif\" font-size=\"10px\" fill=\"#000\" opacity=\"1\">600</text></g><g class=\"mark-rule role-axis-domain\" pointer-events=\"none\"><line transform=\"translate(0,400)\" x2=\"0\" y2=\"-400\" stroke=\"#888\" stroke-width=\"3\" opacity=\"1\"></line></g><g class=\"mark-text role-axis-title\" pointer-events=\"none\"><text text-anchor=\"middle\" transform=\"translate(-29,200) rotate(-90) translate(0,-2)\" font-family=\"sans-serif\" font-size=\"11px\" font-weight=\"bold\" fill=\"#000\" opacity=\"1\">Number of Issuers</text></g></g><path class=\"foreground\" aria-hidden=\"true\" d=\"\" pointer-events=\"none\" display=\"none\"></path></g></g></g><path class=\"foreground\" aria-hidden=\"true\" d=\"\" display=\"none\"></path></g></g><g class=\"mark-group role-column-header column_header\" role=\"graphics-object\" aria-roledescription=\"group mark container\"><g transform=\"translate(0,-1)\"><path class=\"background\" aria-hidden=\"true\" d=\"M0,0h36v0h-36Z\"></path><g><g class=\"mark-group role-title\"><g transform=\"translate(18,-20)\"><path class=\"background\" aria-hidden=\"true\" d=\"M0,0h0v0h0Z\" pointer-events=\"none\"></path><g><g class=\"mark-text role-title-text\" role=\"graphics-symbol\" aria-roledescription=\"title\" aria-label=\"Title text '0'\" pointer-events=\"none\"><text text-anchor=\"middle\" transform=\"translate(0,8)\" font-family=\"sans-serif\" font-size=\"10px\" fill=\"#000\" opacity=\"1\">0</text></g></g><path class=\"foreground\" aria-hidden=\"true\" d=\"\" pointer-events=\"none\" display=\"none\"></path></g></g></g><path class=\"foreground\" aria-hidden=\"true\" d=\"\" display=\"none\"></path></g><g transform=\"translate(42.5,-1)\"><path class=\"background\" aria-hidden=\"true\" d=\"M0,0h36v0h-36Z\"></path><g><g class=\"mark-group role-title\"><g transform=\"translate(18,-20)\"><path class=\"background\" aria-hidden=\"true\" d=\"M0,0h0v0h0Z\" pointer-events=\"none\"></path><g><g class=\"mark-text role-title-text\" role=\"graphics-symbol\" aria-roledescription=\"title\" aria-label=\"Title text '1'\" pointer-events=\"none\"><text text-anchor=\"middle\" transform=\"translate(0,8)\" font-family=\"sans-serif\" font-size=\"10px\" fill=\"#000\" opacity=\"1\">1</text></g></g><path class=\"foreground\" aria-hidden=\"true\" d=\"\" pointer-events=\"none\" display=\"none\"></path></g></g></g><path class=\"foreground\" aria-hidden=\"true\" d=\"\" display=\"none\"></path></g><g transform=\"translate(85,-1)\"><path class=\"background\" aria-hidden=\"true\" d=\"M0,0h36v0h-36Z\"></path><g><g class=\"mark-group role-title\"><g transform=\"translate(18,-20)\"><path class=\"background\" aria-hidden=\"true\" d=\"M0,0h0v0h0Z\" pointer-events=\"none\"></path><g><g class=\"mark-text role-title-text\" role=\"graphics-symbol\" aria-roledescription=\"title\" aria-label=\"Title text '2'\" pointer-events=\"none\"><text text-anchor=\"middle\" transform=\"translate(0,8)\" font-family=\"sans-serif\" font-size=\"10px\" fill=\"#000\" opacity=\"1\">2</text></g></g><path class=\"foreground\" aria-hidden=\"true\" d=\"\" pointer-events=\"none\" display=\"none\"></path></g></g></g><path class=\"foreground\" aria-hidden=\"true\" d=\"\" display=\"none\"></path></g><g transform=\"translate(127.5,-1)\"><path class=\"background\" aria-hidden=\"true\" d=\"M0,0h36v0h-36Z\"></path><g><g class=\"mark-group role-title\"><g transform=\"translate(18,-20)\"><path class=\"background\" aria-hidden=\"true\" d=\"M0,0h0v0h0Z\" pointer-events=\"none\"></path><g><g class=\"mark-text role-title-text\" role=\"graphics-symbol\" aria-roledescription=\"title\" aria-label=\"Title text '3'\" pointer-events=\"none\"><text text-anchor=\"middle\" transform=\"translate(0,8)\" font-family=\"sans-serif\" font-size=\"10px\" fill=\"#000\" opacity=\"1\">3</text></g></g><path class=\"foreground\" aria-hidden=\"true\" d=\"\" pointer-events=\"none\" display=\"none\"></path></g></g></g><path class=\"foreground\" aria-hidden=\"true\" d=\"\" display=\"none\"></path></g><g transform=\"translate(170,-1)\"><path class=\"background\" aria-hidden=\"true\" d=\"M0,0h36v0h-36Z\"></path><g><g class=\"mark-group role-title\"><g transform=\"translate(18,-20)\"><path class=\"background\" aria-hidden=\"true\" d=\"M0,0h0v0h0Z\" pointer-events=\"none\"></path><g><g class=\"mark-text role-title-text\" role=\"graphics-symbol\" aria-roledescription=\"title\" aria-label=\"Title text '4'\" pointer-events=\"none\"><text text-anchor=\"middle\" transform=\"translate(0,8)\" font-family=\"sans-serif\" font-size=\"10px\" fill=\"#000\" opacity=\"1\">4</text></g></g><path class=\"foreground\" aria-hidden=\"true\" d=\"\" pointer-events=\"none\" display=\"none\"></path></g></g></g><path class=\"foreground\" aria-hidden=\"true\" d=\"\" display=\"none\"></path></g><g transform=\"translate(212.5,-1)\"><path class=\"background\" aria-hidden=\"true\" d=\"M0,0h36v0h-36Z\"></path><g><g class=\"mark-group role-title\"><g transform=\"translate(18,-20)\"><path class=\"background\" aria-hidden=\"true\" d=\"M0,0h0v0h0Z\" pointer-events=\"none\"></path><g><g class=\"mark-text role-title-text\" role=\"graphics-symbol\" aria-roledescription=\"title\" aria-label=\"Title text '5'\" pointer-events=\"none\"><text text-anchor=\"middle\" transform=\"translate(0,8)\" font-family=\"sans-serif\" font-size=\"10px\" fill=\"#000\" opacity=\"1\">5</text></g></g><path class=\"foreground\" aria-hidden=\"true\" d=\"\" pointer-events=\"none\" display=\"none\"></path></g></g></g><path class=\"foreground\" aria-hidden=\"true\" d=\"\" display=\"none\"></path></g><g transform=\"translate(255,-1)\"><path class=\"background\" aria-hidden=\"true\" d=\"M0,0h36v0h-36Z\"></path><g><g class=\"mark-group role-title\"><g transform=\"translate(18,-20)\"><path class=\"background\" aria-hidden=\"true\" d=\"M0,0h0v0h0Z\" pointer-events=\"none\"></path><g><g class=\"mark-text role-title-text\" role=\"graphics-symbol\" aria-roledescription=\"title\" aria-label=\"Title text '6'\" pointer-events=\"none\"><text text-anchor=\"middle\" transform=\"translate(0,8)\" font-family=\"sans-serif\" font-size=\"10px\" fill=\"#000\" opacity=\"1\">6</text></g></g><path class=\"foreground\" aria-hidden=\"true\" d=\"\" pointer-events=\"none\" display=\"none\"></path></g></g></g><path class=\"foreground\" aria-hidden=\"true\" d=\"\" display=\"none\"></path></g><g transform=\"translate(297.5,-1)\"><path class=\"background\" aria-hidden=\"true\" d=\"M0,0h36v0h-36Z\"></path><g><g class=\"mark-group role-title\"><g transform=\"translate(18,-20)\"><path class=\"background\" aria-hidden=\"true\" d=\"M0,0h0v0h0Z\" pointer-events=\"none\"></path><g><g class=\"mark-text role-title-text\" role=\"graphics-symbol\" aria-roledescription=\"title\" aria-label=\"Title text '7'\" pointer-events=\"none\"><text text-anchor=\"middle\" transform=\"translate(0,8)\" font-family=\"sans-serif\" font-size=\"10px\" fill=\"#000\" opacity=\"1\">7</text></g></g><path class=\"foreground\" aria-hidden=\"true\" d=\"\" pointer-events=\"none\" display=\"none\"></path></g></g></g><path class=\"foreground\" aria-hidden=\"true\" d=\"\" display=\"none\"></path></g><g transform=\"translate(340,-1)\"><path class=\"background\" aria-hidden=\"true\" d=\"M0,0h36v0h-36Z\"></path><g><g class=\"mark-group role-title\"><g transform=\"translate(18,-20)\"><path class=\"background\" aria-hidden=\"true\" d=\"M0,0h0v0h0Z\" pointer-events=\"none\"></path><g><g class=\"mark-text role-title-text\" role=\"graphics-symbol\" aria-roledescription=\"title\" aria-label=\"Title text '8'\" pointer-events=\"none\"><text text-anchor=\"middle\" transform=\"translate(0,8)\" font-family=\"sans-serif\" font-size=\"10px\" fill=\"#000\" opacity=\"1\">8</text></g></g><path class=\"foreground\" aria-hidden=\"true\" d=\"\" pointer-events=\"none\" display=\"none\"></path></g></g></g><path class=\"foreground\" aria-hidden=\"true\" d=\"\" display=\"none\"></path></g><g transform=\"translate(382.5,-1)\"><path class=\"background\" aria-hidden=\"true\" d=\"M0,0h36v0h-36Z\"></path><g><g class=\"mark-group role-title\"><g transform=\"translate(18,-20)\"><path class=\"background\" aria-hidden=\"true\" d=\"M0,0h0v0h0Z\" pointer-events=\"none\"></path><g><g class=\"mark-text role-title-text\" role=\"graphics-symbol\" aria-roledescription=\"title\" aria-label=\"Title text '9'\" pointer-events=\"none\"><text text-anchor=\"middle\" transform=\"translate(0,8)\" font-family=\"sans-serif\" font-size=\"10px\" fill=\"#000\" opacity=\"1\">9</text></g></g><path class=\"foreground\" aria-hidden=\"true\" d=\"\" pointer-events=\"none\" display=\"none\"></path></g></g></g><path class=\"foreground\" aria-hidden=\"true\" d=\"\" display=\"none\"></path></g><g transform=\"translate(425,-1)\"><path class=\"background\" aria-hidden=\"true\" d=\"M0,0h36v0h-36Z\"></path><g><g class=\"mark-group role-title\"><g transform=\"translate(18,-20)\"><path class=\"background\" aria-hidden=\"true\" d=\"M0,0h0v0h0Z\" pointer-events=\"none\"></path><g><g class=\"mark-text role-title-text\" role=\"graphics-symbol\" aria-roledescription=\"title\" aria-label=\"Title text '10'\" pointer-events=\"none\"><text text-anchor=\"middle\" transform=\"translate(0,8)\" font-family=\"sans-serif\" font-size=\"10px\" fill=\"#000\" opacity=\"1\">10</text></g></g><path class=\"foreground\" aria-hidden=\"true\" d=\"\" pointer-events=\"none\" display=\"none\"></path></g></g></g><path class=\"foreground\" aria-hidden=\"true\" d=\"\" display=\"none\"></path></g><g transform=\"translate(467.5,-1)\"><path class=\"background\" aria-hidden=\"true\" d=\"M0,0h36v0h-36Z\"></path><g><g class=\"mark-group role-title\"><g transform=\"translate(18,-20)\"><path class=\"background\" aria-hidden=\"true\" d=\"M0,0h0v0h0Z\" pointer-events=\"none\"></path><g><g class=\"mark-text role-title-text\" role=\"graphics-symbol\" aria-roledescription=\"title\" aria-label=\"Title text '11'\" pointer-events=\"none\"><text text-anchor=\"middle\" transform=\"translate(0,8)\" font-family=\"sans-serif\" font-size=\"10px\" fill=\"#000\" opacity=\"1\">11</text></g></g><path class=\"foreground\" aria-hidden=\"true\" d=\"\" pointer-events=\"none\" display=\"none\"></path></g></g></g><path class=\"foreground\" aria-hidden=\"true\" d=\"\" display=\"none\"></path></g><g transform=\"translate(510,-1)\"><path class=\"background\" aria-hidden=\"true\" d=\"M0,0h36v0h-36Z\"></path><g><g class=\"mark-group role-title\"><g transform=\"translate(18,-20)\"><path class=\"background\" aria-hidden=\"true\" d=\"M0,0h0v0h0Z\" pointer-events=\"none\"></path><g><g class=\"mark-text role-title-text\" role=\"graphics-symbol\" aria-roledescription=\"title\" aria-label=\"Title text '12'\" pointer-events=\"none\"><text text-anchor=\"middle\" transform=\"translate(0,8)\" font-family=\"sans-serif\" font-size=\"10px\" fill=\"#000\" opacity=\"1\">12</text></g></g><path class=\"foreground\" aria-hidden=\"true\" d=\"\" pointer-events=\"none\" display=\"none\"></path></g></g></g><path class=\"foreground\" aria-hidden=\"true\" d=\"\" display=\"none\"></path></g></g><g class=\"mark-group role-column-footer column_footer\" role=\"graphics-object\" aria-roledescription=\"group mark container\"><g transform=\"translate(0,401)\"><path class=\"background\" aria-hidden=\"true\" d=\"M0,0h36v0h-36Z\"></path><g><g class=\"mark-group role-axis\" role=\"graphics-symbol\" aria-roledescription=\"axis\" aria-label=\"X-axis titled ' ' for a discrete scale with 2 values: ats, otc\"><g transform=\"translate(0.5,0.5)\"><path class=\"background\" aria-hidden=\"true\" d=\"M0,0h0v0h0Z\" pointer-events=\"none\"></path><g><g class=\"mark-rule role-axis-tick\" pointer-events=\"none\"><line transform=\"translate(9,0)\" x2=\"0\" y2=\"5\" stroke=\"#888\" stroke-width=\"1\" opacity=\"1\"></line><line transform=\"translate(27,0)\" x2=\"0\" y2=\"5\" stroke=\"#888\" stroke-width=\"1\" opacity=\"1\"></line></g><g class=\"mark-text role-axis-label\" pointer-events=\"none\"><text text-anchor=\"end\" transform=\"translate(8.500000000000002,7) rotate(270) translate(0,3)\" font-family=\"sans-serif\" font-size=\"10px\" fill=\"#000\" opacity=\"1\">ats</text><text text-anchor=\"end\" transform=\"translate(26.5,7) rotate(270) translate(0,3)\" font-family=\"sans-serif\" font-size=\"10px\" fill=\"#000\" opacity=\"1\">otc</text></g><g class=\"mark-rule role-axis-domain\" pointer-events=\"none\"><line transform=\"translate(0,0)\" x2=\"36\" y2=\"0\" stroke=\"#888\" stroke-width=\"3\" opacity=\"1\"></line></g><g class=\"mark-text role-axis-title\" pointer-events=\"none\"><text text-anchor=\"middle\" transform=\"translate(18,36)\" font-family=\"sans-serif\" font-size=\"11px\" font-weight=\"bold\" fill=\"#000\" opacity=\"1\"></text></g></g><path class=\"foreground\" aria-hidden=\"true\" d=\"\" pointer-events=\"none\" display=\"none\"></path></g></g></g><path class=\"foreground\" aria-hidden=\"true\" d=\"\" display=\"none\"></path></g><g transform=\"translate(42.5,401)\"><path class=\"background\" aria-hidden=\"true\" d=\"M0,0h36v0h-36Z\"></path><g><g class=\"mark-group role-axis\" role=\"graphics-symbol\" aria-roledescription=\"axis\" aria-label=\"X-axis titled ' ' for a discrete scale with 2 values: ats, otc\"><g transform=\"translate(0.5,0.5)\"><path class=\"background\" aria-hidden=\"true\" d=\"M0,0h0v0h0Z\" pointer-events=\"none\"></path><g><g class=\"mark-rule role-axis-tick\" pointer-events=\"none\"><line transform=\"translate(9,0)\" x2=\"0\" y2=\"5\" stroke=\"#888\" stroke-width=\"1\" opacity=\"1\"></line><line transform=\"translate(27,0)\" x2=\"0\" y2=\"5\" stroke=\"#888\" stroke-width=\"1\" opacity=\"1\"></line></g><g class=\"mark-text role-axis-label\" pointer-events=\"none\"><text text-anchor=\"end\" transform=\"translate(8.500000000000002,7) rotate(270) translate(0,3)\" font-family=\"sans-serif\" font-size=\"10px\" fill=\"#000\" opacity=\"1\">ats</text><text text-anchor=\"end\" transform=\"translate(26.5,7) rotate(270) translate(0,3)\" font-family=\"sans-serif\" font-size=\"10px\" fill=\"#000\" opacity=\"1\">otc</text></g><g class=\"mark-rule role-axis-domain\" pointer-events=\"none\"><line transform=\"translate(0,0)\" x2=\"36\" y2=\"0\" stroke=\"#888\" stroke-width=\"3\" opacity=\"1\"></line></g><g class=\"mark-text role-axis-title\" pointer-events=\"none\"><text text-anchor=\"middle\" transform=\"translate(18,36)\" font-family=\"sans-serif\" font-size=\"11px\" font-weight=\"bold\" fill=\"#000\" opacity=\"1\"></text></g></g><path class=\"foreground\" aria-hidden=\"true\" d=\"\" pointer-events=\"none\" display=\"none\"></path></g></g></g><path class=\"foreground\" aria-hidden=\"true\" d=\"\" display=\"none\"></path></g><g transform=\"translate(85,401)\"><path class=\"background\" aria-hidden=\"true\" d=\"M0,0h36v0h-36Z\"></path><g><g class=\"mark-group role-axis\" role=\"graphics-symbol\" aria-roledescription=\"axis\" aria-label=\"X-axis titled ' ' for a discrete scale with 2 values: ats, otc\"><g transform=\"translate(0.5,0.5)\"><path class=\"background\" aria-hidden=\"true\" d=\"M0,0h0v0h0Z\" pointer-events=\"none\"></path><g><g class=\"mark-rule role-axis-tick\" pointer-events=\"none\"><line transform=\"translate(9,0)\" x2=\"0\" y2=\"5\" stroke=\"#888\" stroke-width=\"1\" opacity=\"1\"></line><line transform=\"translate(27,0)\" x2=\"0\" y2=\"5\" stroke=\"#888\" stroke-width=\"1\" opacity=\"1\"></line></g><g class=\"mark-text role-axis-label\" pointer-events=\"none\"><text text-anchor=\"end\" transform=\"translate(8.500000000000002,7) rotate(270) translate(0,3)\" font-family=\"sans-serif\" font-size=\"10px\" fill=\"#000\" opacity=\"1\">ats</text><text text-anchor=\"end\" transform=\"translate(26.5,7) rotate(270) translate(0,3)\" font-family=\"sans-serif\" font-size=\"10px\" fill=\"#000\" opacity=\"1\">otc</text></g><g class=\"mark-rule role-axis-domain\" pointer-events=\"none\"><line transform=\"translate(0,0)\" x2=\"36\" y2=\"0\" stroke=\"#888\" stroke-width=\"3\" opacity=\"1\"></line></g><g class=\"mark-text role-axis-title\" pointer-events=\"none\"><text text-anchor=\"middle\" transform=\"translate(18,36)\" font-family=\"sans-serif\" font-size=\"11px\" font-weight=\"bold\" fill=\"#000\" opacity=\"1\"></text></g></g><path class=\"foreground\" aria-hidden=\"true\" d=\"\" pointer-events=\"none\" display=\"none\"></path></g></g></g><path class=\"foreground\" aria-hidden=\"true\" d=\"\" display=\"none\"></path></g><g transform=\"translate(127.5,401)\"><path class=\"background\" aria-hidden=\"true\" d=\"M0,0h36v0h-36Z\"></path><g><g class=\"mark-group role-axis\" role=\"graphics-symbol\" aria-roledescription=\"axis\" aria-label=\"X-axis titled ' ' for a discrete scale with 2 values: ats, otc\"><g transform=\"translate(0.5,0.5)\"><path class=\"background\" aria-hidden=\"true\" d=\"M0,0h0v0h0Z\" pointer-events=\"none\"></path><g><g class=\"mark-rule role-axis-tick\" pointer-events=\"none\"><line transform=\"translate(9,0)\" x2=\"0\" y2=\"5\" stroke=\"#888\" stroke-width=\"1\" opacity=\"1\"></line><line transform=\"translate(27,0)\" x2=\"0\" y2=\"5\" stroke=\"#888\" stroke-width=\"1\" opacity=\"1\"></line></g><g class=\"mark-text role-axis-label\" pointer-events=\"none\"><text text-anchor=\"end\" transform=\"translate(8.500000000000002,7) rotate(270) translate(0,3)\" font-family=\"sans-serif\" font-size=\"10px\" fill=\"#000\" opacity=\"1\">ats</text><text text-anchor=\"end\" transform=\"translate(26.5,7) rotate(270) translate(0,3)\" font-family=\"sans-serif\" font-size=\"10px\" fill=\"#000\" opacity=\"1\">otc</text></g><g class=\"mark-rule role-axis-domain\" pointer-events=\"none\"><line transform=\"translate(0,0)\" x2=\"36\" y2=\"0\" stroke=\"#888\" stroke-width=\"3\" opacity=\"1\"></line></g><g class=\"mark-text role-axis-title\" pointer-events=\"none\"><text text-anchor=\"middle\" transform=\"translate(18,36)\" font-family=\"sans-serif\" font-size=\"11px\" font-weight=\"bold\" fill=\"#000\" opacity=\"1\"></text></g></g><path class=\"foreground\" aria-hidden=\"true\" d=\"\" pointer-events=\"none\" display=\"none\"></path></g></g></g><path class=\"foreground\" aria-hidden=\"true\" d=\"\" display=\"none\"></path></g><g transform=\"translate(170,401)\"><path class=\"background\" aria-hidden=\"true\" d=\"M0,0h36v0h-36Z\"></path><g><g class=\"mark-group role-axis\" role=\"graphics-symbol\" aria-roledescription=\"axis\" aria-label=\"X-axis titled ' ' for a discrete scale with 2 values: ats, otc\"><g transform=\"translate(0.5,0.5)\"><path class=\"background\" aria-hidden=\"true\" d=\"M0,0h0v0h0Z\" pointer-events=\"none\"></path><g><g class=\"mark-rule role-axis-tick\" pointer-events=\"none\"><line transform=\"translate(9,0)\" x2=\"0\" y2=\"5\" stroke=\"#888\" stroke-width=\"1\" opacity=\"1\"></line><line transform=\"translate(27,0)\" x2=\"0\" y2=\"5\" stroke=\"#888\" stroke-width=\"1\" opacity=\"1\"></line></g><g class=\"mark-text role-axis-label\" pointer-events=\"none\"><text text-anchor=\"end\" transform=\"translate(8.500000000000002,7) rotate(270) translate(0,3)\" font-family=\"sans-serif\" font-size=\"10px\" fill=\"#000\" opacity=\"1\">ats</text><text text-anchor=\"end\" transform=\"translate(26.5,7) rotate(270) translate(0,3)\" font-family=\"sans-serif\" font-size=\"10px\" fill=\"#000\" opacity=\"1\">otc</text></g><g class=\"mark-rule role-axis-domain\" pointer-events=\"none\"><line transform=\"translate(0,0)\" x2=\"36\" y2=\"0\" stroke=\"#888\" stroke-width=\"3\" opacity=\"1\"></line></g><g class=\"mark-text role-axis-title\" pointer-events=\"none\"><text text-anchor=\"middle\" transform=\"translate(18,36)\" font-family=\"sans-serif\" font-size=\"11px\" font-weight=\"bold\" fill=\"#000\" opacity=\"1\"></text></g></g><path class=\"foreground\" aria-hidden=\"true\" d=\"\" pointer-events=\"none\" display=\"none\"></path></g></g></g><path class=\"foreground\" aria-hidden=\"true\" d=\"\" display=\"none\"></path></g><g transform=\"translate(212.5,401)\"><path class=\"background\" aria-hidden=\"true\" d=\"M0,0h36v0h-36Z\"></path><g><g class=\"mark-group role-axis\" role=\"graphics-symbol\" aria-roledescription=\"axis\" aria-label=\"X-axis titled ' ' for a discrete scale with 2 values: ats, otc\"><g transform=\"translate(0.5,0.5)\"><path class=\"background\" aria-hidden=\"true\" d=\"M0,0h0v0h0Z\" pointer-events=\"none\"></path><g><g class=\"mark-rule role-axis-tick\" pointer-events=\"none\"><line transform=\"translate(9,0)\" x2=\"0\" y2=\"5\" stroke=\"#888\" stroke-width=\"1\" opacity=\"1\"></line><line transform=\"translate(27,0)\" x2=\"0\" y2=\"5\" stroke=\"#888\" stroke-width=\"1\" opacity=\"1\"></line></g><g class=\"mark-text role-axis-label\" pointer-events=\"none\"><text text-anchor=\"end\" transform=\"translate(8.500000000000002,7) rotate(270) translate(0,3)\" font-family=\"sans-serif\" font-size=\"10px\" fill=\"#000\" opacity=\"1\">ats</text><text text-anchor=\"end\" transform=\"translate(26.5,7) rotate(270) translate(0,3)\" font-family=\"sans-serif\" font-size=\"10px\" fill=\"#000\" opacity=\"1\">otc</text></g><g class=\"mark-rule role-axis-domain\" pointer-events=\"none\"><line transform=\"translate(0,0)\" x2=\"36\" y2=\"0\" stroke=\"#888\" stroke-width=\"3\" opacity=\"1\"></line></g><g class=\"mark-text role-axis-title\" pointer-events=\"none\"><text text-anchor=\"middle\" transform=\"translate(18,36)\" font-family=\"sans-serif\" font-size=\"11px\" font-weight=\"bold\" fill=\"#000\" opacity=\"1\"></text></g></g><path class=\"foreground\" aria-hidden=\"true\" d=\"\" pointer-events=\"none\" display=\"none\"></path></g></g></g><path class=\"foreground\" aria-hidden=\"true\" d=\"\" display=\"none\"></path></g><g transform=\"translate(255,401)\"><path class=\"background\" aria-hidden=\"true\" d=\"M0,0h36v0h-36Z\"></path><g><g class=\"mark-group role-axis\" role=\"graphics-symbol\" aria-roledescription=\"axis\" aria-label=\"X-axis titled ' ' for a discrete scale with 2 values: ats, otc\"><g transform=\"translate(0.5,0.5)\"><path class=\"background\" aria-hidden=\"true\" d=\"M0,0h0v0h0Z\" pointer-events=\"none\"></path><g><g class=\"mark-rule role-axis-tick\" pointer-events=\"none\"><line transform=\"translate(9,0)\" x2=\"0\" y2=\"5\" stroke=\"#888\" stroke-width=\"1\" opacity=\"1\"></line><line transform=\"translate(27,0)\" x2=\"0\" y2=\"5\" stroke=\"#888\" stroke-width=\"1\" opacity=\"1\"></line></g><g class=\"mark-text role-axis-label\" pointer-events=\"none\"><text text-anchor=\"end\" transform=\"translate(8.500000000000002,7) rotate(270) translate(0,3)\" font-family=\"sans-serif\" font-size=\"10px\" fill=\"#000\" opacity=\"1\">ats</text><text text-anchor=\"end\" transform=\"translate(26.5,7) rotate(270) translate(0,3)\" font-family=\"sans-serif\" font-size=\"10px\" fill=\"#000\" opacity=\"1\">otc</text></g><g class=\"mark-rule role-axis-domain\" pointer-events=\"none\"><line transform=\"translate(0,0)\" x2=\"36\" y2=\"0\" stroke=\"#888\" stroke-width=\"3\" opacity=\"1\"></line></g><g class=\"mark-text role-axis-title\" pointer-events=\"none\"><text text-anchor=\"middle\" transform=\"translate(18,36)\" font-family=\"sans-serif\" font-size=\"11px\" font-weight=\"bold\" fill=\"#000\" opacity=\"1\"></text></g></g><path class=\"foreground\" aria-hidden=\"true\" d=\"\" pointer-events=\"none\" display=\"none\"></path></g></g></g><path class=\"foreground\" aria-hidden=\"true\" d=\"\" display=\"none\"></path></g><g transform=\"translate(297.5,401)\"><path class=\"background\" aria-hidden=\"true\" d=\"M0,0h36v0h-36Z\"></path><g><g class=\"mark-group role-axis\" role=\"graphics-symbol\" aria-roledescription=\"axis\" aria-label=\"X-axis titled ' ' for a discrete scale with 2 values: ats, otc\"><g transform=\"translate(0.5,0.5)\"><path class=\"background\" aria-hidden=\"true\" d=\"M0,0h0v0h0Z\" pointer-events=\"none\"></path><g><g class=\"mark-rule role-axis-tick\" pointer-events=\"none\"><line transform=\"translate(9,0)\" x2=\"0\" y2=\"5\" stroke=\"#888\" stroke-width=\"1\" opacity=\"1\"></line><line transform=\"translate(27,0)\" x2=\"0\" y2=\"5\" stroke=\"#888\" stroke-width=\"1\" opacity=\"1\"></line></g><g class=\"mark-text role-axis-label\" pointer-events=\"none\"><text text-anchor=\"end\" transform=\"translate(8.500000000000002,7) rotate(270) translate(0,3)\" font-family=\"sans-serif\" font-size=\"10px\" fill=\"#000\" opacity=\"1\">ats</text><text text-anchor=\"end\" transform=\"translate(26.5,7) rotate(270) translate(0,3)\" font-family=\"sans-serif\" font-size=\"10px\" fill=\"#000\" opacity=\"1\">otc</text></g><g class=\"mark-rule role-axis-domain\" pointer-events=\"none\"><line transform=\"translate(0,0)\" x2=\"36\" y2=\"0\" stroke=\"#888\" stroke-width=\"3\" opacity=\"1\"></line></g><g class=\"mark-text role-axis-title\" pointer-events=\"none\"><text text-anchor=\"middle\" transform=\"translate(18,36)\" font-family=\"sans-serif\" font-size=\"11px\" font-weight=\"bold\" fill=\"#000\" opacity=\"1\"></text></g></g><path class=\"foreground\" aria-hidden=\"true\" d=\"\" pointer-events=\"none\" display=\"none\"></path></g></g></g><path class=\"foreground\" aria-hidden=\"true\" d=\"\" display=\"none\"></path></g><g transform=\"translate(340,401)\"><path class=\"background\" aria-hidden=\"true\" d=\"M0,0h36v0h-36Z\"></path><g><g class=\"mark-group role-axis\" role=\"graphics-symbol\" aria-roledescription=\"axis\" aria-label=\"X-axis titled ' ' for a discrete scale with 2 values: ats, otc\"><g transform=\"translate(0.5,0.5)\"><path class=\"background\" aria-hidden=\"true\" d=\"M0,0h0v0h0Z\" pointer-events=\"none\"></path><g><g class=\"mark-rule role-axis-tick\" pointer-events=\"none\"><line transform=\"translate(9,0)\" x2=\"0\" y2=\"5\" stroke=\"#888\" stroke-width=\"1\" opacity=\"1\"></line><line transform=\"translate(27,0)\" x2=\"0\" y2=\"5\" stroke=\"#888\" stroke-width=\"1\" opacity=\"1\"></line></g><g class=\"mark-text role-axis-label\" pointer-events=\"none\"><text text-anchor=\"end\" transform=\"translate(8.500000000000002,7) rotate(270) translate(0,3)\" font-family=\"sans-serif\" font-size=\"10px\" fill=\"#000\" opacity=\"1\">ats</text><text text-anchor=\"end\" transform=\"translate(26.5,7) rotate(270) translate(0,3)\" font-family=\"sans-serif\" font-size=\"10px\" fill=\"#000\" opacity=\"1\">otc</text></g><g class=\"mark-rule role-axis-domain\" pointer-events=\"none\"><line transform=\"translate(0,0)\" x2=\"36\" y2=\"0\" stroke=\"#888\" stroke-width=\"3\" opacity=\"1\"></line></g><g class=\"mark-text role-axis-title\" pointer-events=\"none\"><text text-anchor=\"middle\" transform=\"translate(18,36)\" font-family=\"sans-serif\" font-size=\"11px\" font-weight=\"bold\" fill=\"#000\" opacity=\"1\"></text></g></g><path class=\"foreground\" aria-hidden=\"true\" d=\"\" pointer-events=\"none\" display=\"none\"></path></g></g></g><path class=\"foreground\" aria-hidden=\"true\" d=\"\" display=\"none\"></path></g><g transform=\"translate(382.5,401)\"><path class=\"background\" aria-hidden=\"true\" d=\"M0,0h36v0h-36Z\"></path><g><g class=\"mark-group role-axis\" role=\"graphics-symbol\" aria-roledescription=\"axis\" aria-label=\"X-axis titled ' ' for a discrete scale with 2 values: ats, otc\"><g transform=\"translate(0.5,0.5)\"><path class=\"background\" aria-hidden=\"true\" d=\"M0,0h0v0h0Z\" pointer-events=\"none\"></path><g><g class=\"mark-rule role-axis-tick\" pointer-events=\"none\"><line transform=\"translate(9,0)\" x2=\"0\" y2=\"5\" stroke=\"#888\" stroke-width=\"1\" opacity=\"1\"></line><line transform=\"translate(27,0)\" x2=\"0\" y2=\"5\" stroke=\"#888\" stroke-width=\"1\" opacity=\"1\"></line></g><g class=\"mark-text role-axis-label\" pointer-events=\"none\"><text text-anchor=\"end\" transform=\"translate(8.500000000000002,7) rotate(270) translate(0,3)\" font-family=\"sans-serif\" font-size=\"10px\" fill=\"#000\" opacity=\"1\">ats</text><text text-anchor=\"end\" transform=\"translate(26.5,7) rotate(270) translate(0,3)\" font-family=\"sans-serif\" font-size=\"10px\" fill=\"#000\" opacity=\"1\">otc</text></g><g class=\"mark-rule role-axis-domain\" pointer-events=\"none\"><line transform=\"translate(0,0)\" x2=\"36\" y2=\"0\" stroke=\"#888\" stroke-width=\"3\" opacity=\"1\"></line></g><g class=\"mark-text role-axis-title\" pointer-events=\"none\"><text text-anchor=\"middle\" transform=\"translate(18,36)\" font-family=\"sans-serif\" font-size=\"11px\" font-weight=\"bold\" fill=\"#000\" opacity=\"1\"></text></g></g><path class=\"foreground\" aria-hidden=\"true\" d=\"\" pointer-events=\"none\" display=\"none\"></path></g></g></g><path class=\"foreground\" aria-hidden=\"true\" d=\"\" display=\"none\"></path></g><g transform=\"translate(425,401)\"><path class=\"background\" aria-hidden=\"true\" d=\"M0,0h36v0h-36Z\"></path><g><g class=\"mark-group role-axis\" role=\"graphics-symbol\" aria-roledescription=\"axis\" aria-label=\"X-axis titled ' ' for a discrete scale with 2 values: ats, otc\"><g transform=\"translate(0.5,0.5)\"><path class=\"background\" aria-hidden=\"true\" d=\"M0,0h0v0h0Z\" pointer-events=\"none\"></path><g><g class=\"mark-rule role-axis-tick\" pointer-events=\"none\"><line transform=\"translate(9,0)\" x2=\"0\" y2=\"5\" stroke=\"#888\" stroke-width=\"1\" opacity=\"1\"></line><line transform=\"translate(27,0)\" x2=\"0\" y2=\"5\" stroke=\"#888\" stroke-width=\"1\" opacity=\"1\"></line></g><g class=\"mark-text role-axis-label\" pointer-events=\"none\"><text text-anchor=\"end\" transform=\"translate(8.500000000000002,7) rotate(270) translate(0,3)\" font-family=\"sans-serif\" font-size=\"10px\" fill=\"#000\" opacity=\"1\">ats</text><text text-anchor=\"end\" transform=\"translate(26.5,7) rotate(270) translate(0,3)\" font-family=\"sans-serif\" font-size=\"10px\" fill=\"#000\" opacity=\"1\">otc</text></g><g class=\"mark-rule role-axis-domain\" pointer-events=\"none\"><line transform=\"translate(0,0)\" x2=\"36\" y2=\"0\" stroke=\"#888\" stroke-width=\"3\" opacity=\"1\"></line></g><g class=\"mark-text role-axis-title\" pointer-events=\"none\"><text text-anchor=\"middle\" transform=\"translate(18,36)\" font-family=\"sans-serif\" font-size=\"11px\" font-weight=\"bold\" fill=\"#000\" opacity=\"1\"></text></g></g><path class=\"foreground\" aria-hidden=\"true\" d=\"\" pointer-events=\"none\" display=\"none\"></path></g></g></g><path class=\"foreground\" aria-hidden=\"true\" d=\"\" display=\"none\"></path></g><g transform=\"translate(467.5,401)\"><path class=\"background\" aria-hidden=\"true\" d=\"M0,0h36v0h-36Z\"></path><g><g class=\"mark-group role-axis\" role=\"graphics-symbol\" aria-roledescription=\"axis\" aria-label=\"X-axis titled ' ' for a discrete scale with 2 values: ats, otc\"><g transform=\"translate(0.5,0.5)\"><path class=\"background\" aria-hidden=\"true\" d=\"M0,0h0v0h0Z\" pointer-events=\"none\"></path><g><g class=\"mark-rule role-axis-tick\" pointer-events=\"none\"><line transform=\"translate(9,0)\" x2=\"0\" y2=\"5\" stroke=\"#888\" stroke-width=\"1\" opacity=\"1\"></line><line transform=\"translate(27,0)\" x2=\"0\" y2=\"5\" stroke=\"#888\" stroke-width=\"1\" opacity=\"1\"></line></g><g class=\"mark-text role-axis-label\" pointer-events=\"none\"><text text-anchor=\"end\" transform=\"translate(8.500000000000002,7) rotate(270) translate(0,3)\" font-family=\"sans-serif\" font-size=\"10px\" fill=\"#000\" opacity=\"1\">ats</text><text text-anchor=\"end\" transform=\"translate(26.5,7) rotate(270) translate(0,3)\" font-family=\"sans-serif\" font-size=\"10px\" fill=\"#000\" opacity=\"1\">otc</text></g><g class=\"mark-rule role-axis-domain\" pointer-events=\"none\"><line transform=\"translate(0,0)\" x2=\"36\" y2=\"0\" stroke=\"#888\" stroke-width=\"3\" opacity=\"1\"></line></g><g class=\"mark-text role-axis-title\" pointer-events=\"none\"><text text-anchor=\"middle\" transform=\"translate(18,36)\" font-family=\"sans-serif\" font-size=\"11px\" font-weight=\"bold\" fill=\"#000\" opacity=\"1\"></text></g></g><path class=\"foreground\" aria-hidden=\"true\" d=\"\" pointer-events=\"none\" display=\"none\"></path></g></g></g><path class=\"foreground\" aria-hidden=\"true\" d=\"\" display=\"none\"></path></g><g transform=\"translate(510,401)\"><path class=\"background\" aria-hidden=\"true\" d=\"M0,0h36v0h-36Z\"></path><g><g class=\"mark-group role-axis\" role=\"graphics-symbol\" aria-roledescription=\"axis\" aria-label=\"X-axis titled ' ' for a discrete scale with 2 values: ats, otc\"><g transform=\"translate(0.5,0.5)\"><path class=\"background\" aria-hidden=\"true\" d=\"M0,0h0v0h0Z\" pointer-events=\"none\"></path><g><g class=\"mark-rule role-axis-tick\" pointer-events=\"none\"><line transform=\"translate(9,0)\" x2=\"0\" y2=\"5\" stroke=\"#888\" stroke-width=\"1\" opacity=\"1\"></line><line transform=\"translate(27,0)\" x2=\"0\" y2=\"5\" stroke=\"#888\" stroke-width=\"1\" opacity=\"1\"></line></g><g class=\"mark-text role-axis-label\" pointer-events=\"none\"><text text-anchor=\"end\" transform=\"translate(8.500000000000002,7) rotate(270) translate(0,3)\" font-family=\"sans-serif\" font-size=\"10px\" fill=\"#000\" opacity=\"1\">ats</text><text text-anchor=\"end\" transform=\"translate(26.5,7) rotate(270) translate(0,3)\" font-family=\"sans-serif\" font-size=\"10px\" fill=\"#000\" opacity=\"1\">otc</text></g><g class=\"mark-rule role-axis-domain\" pointer-events=\"none\"><line transform=\"translate(0,0)\" x2=\"36\" y2=\"0\" stroke=\"#888\" stroke-width=\"3\" opacity=\"1\"></line></g><g class=\"mark-text role-axis-title\" pointer-events=\"none\"><text text-anchor=\"middle\" transform=\"translate(18,36)\" font-family=\"sans-serif\" font-size=\"11px\" font-weight=\"bold\" fill=\"#000\" opacity=\"1\"></text></g></g><path class=\"foreground\" aria-hidden=\"true\" d=\"\" pointer-events=\"none\" display=\"none\"></path></g></g></g><path class=\"foreground\" aria-hidden=\"true\" d=\"\" display=\"none\"></path></g></g><g class=\"mark-group role-scope cell\" role=\"graphics-object\" aria-roledescription=\"group mark container\"><g transform=\"translate(0,0)\"><path class=\"background\" aria-hidden=\"true\" d=\"M0.5,0.5h36v400h-36Z\"></path><g><g class=\"mark-rect role-mark child_marks\" role=\"graphics-object\" aria-roledescription=\"rect mark container\"><path aria-label=\"Number of Issuers: 194;  : ats; Secondary Market: ats\" role=\"graphics-symbol\" aria-roledescription=\"bar\" d=\"M0.9000000000000021,270.6666666666667h16.2v129.33333333333331h-16.2Z\" fill=\"rgb(49, 104, 142)\"></path><path aria-label=\"Number of Issuers: 220;  : otc; Secondary Market: otc\" role=\"graphics-symbol\" aria-roledescription=\"bar\" d=\"M18.900000000000002,253.33333333333331h16.2v146.66666666666669h-16.2Z\" fill=\"rgb(53, 183, 121)\"></path></g></g><path class=\"foreground\" aria-hidden=\"true\" d=\"\" display=\"none\"></path></g><g transform=\"translate(42.5,0)\"><path class=\"background\" aria-hidden=\"true\" d=\"M0.5,0.5h36v400h-36Z\"></path><g><g class=\"mark-rect role-mark child_marks\" role=\"graphics-object\" aria-roledescription=\"rect mark container\"><path aria-label=\"Number of Issuers: 12;  : ats; Secondary Market: ats\" role=\"graphics-symbol\" aria-roledescription=\"bar\" d=\"M0.9000000000000021,392h16.2v8h-16.2Z\" fill=\"rgb(49, 104, 142)\"></path><path aria-label=\"Number of Issuers: 14;  : otc; Secondary Market: otc\" role=\"graphics-symbol\" aria-roledescription=\"bar\" d=\"M18.900000000000002,390.6666666666667h16.2v9.333333333333314h-16.2Z\" fill=\"rgb(53, 183, 121)\"></path></g></g><path class=\"foreground\" aria-hidden=\"true\" d=\"\" display=\"none\"></path></g><g transform=\"translate(85,0)\"><path class=\"background\" aria-hidden=\"true\" d=\"M0.5,0.5h36v400h-36Z\"></path><g><g class=\"mark-rect role-mark child_marks\" role=\"graphics-object\" aria-roledescription=\"rect mark container\"><path aria-label=\"Number of Issuers: 171;  : ats; Secondary Market: ats\" role=\"graphics-symbol\" aria-roledescription=\"bar\" d=\"M0.9000000000000021,286.00000000000006h16.2v113.99999999999994h-16.2Z\" fill=\"rgb(49, 104, 142)\"></path><path aria-label=\"Number of Issuers: 190;  : otc; Secondary Market: otc\" role=\"graphics-symbol\" aria-roledescription=\"bar\" d=\"M18.900000000000002,273.3333333333333h16.2v126.66666666666669h-16.2Z\" fill=\"rgb(53, 183, 121)\"></path></g></g><path class=\"foreground\" aria-hidden=\"true\" d=\"\" display=\"none\"></path></g><g transform=\"translate(127.5,0)\"><path class=\"background\" aria-hidden=\"true\" d=\"M0.5,0.5h36v400h-36Z\"></path><g><g class=\"mark-rect role-mark child_marks\" role=\"graphics-object\" aria-roledescription=\"rect mark container\"><path aria-label=\"Number of Issuers: 252;  : ats; Secondary Market: ats\" role=\"graphics-symbol\" aria-roledescription=\"bar\" d=\"M0.9000000000000021,232.00000000000003h16.2v167.99999999999997h-16.2Z\" fill=\"rgb(49, 104, 142)\"></path><path aria-label=\"Number of Issuers: 290;  : otc; Secondary Market: otc\" role=\"graphics-symbol\" aria-roledescription=\"bar\" d=\"M18.900000000000002,206.66666666666663h16.2v193.33333333333337h-16.2Z\" fill=\"rgb(53, 183, 121)\"></path></g></g><path class=\"foreground\" aria-hidden=\"true\" d=\"\" display=\"none\"></path></g><g transform=\"translate(170,0)\"><path class=\"background\" aria-hidden=\"true\" d=\"M0.5,0.5h36v400h-36Z\"></path><g><g class=\"mark-rect role-mark child_marks\" role=\"graphics-object\" aria-roledescription=\"rect mark container\"><path aria-label=\"Number of Issuers: 298;  : ats; Secondary Market: ats\" role=\"graphics-symbol\" aria-roledescription=\"bar\" d=\"M0.9000000000000021,201.33333333333337h16.2v198.66666666666663h-16.2Z\" fill=\"rgb(49, 104, 142)\"></path><path aria-label=\"Number of Issuers: 339;  : otc; Secondary Market: otc\" role=\"graphics-symbol\" aria-roledescription=\"bar\" d=\"M18.900000000000002,174.00000000000003h16.2v225.99999999999997h-16.2Z\" fill=\"rgb(53, 183, 121)\"></path></g></g><path class=\"foreground\" aria-hidden=\"true\" d=\"\" display=\"none\"></path></g><g transform=\"translate(212.5,0)\"><path class=\"background\" aria-hidden=\"true\" d=\"M0.5,0.5h36v400h-36Z\"></path><g><g class=\"mark-rect role-mark child_marks\" role=\"graphics-object\" aria-roledescription=\"rect mark container\"><path aria-label=\"Number of Issuers: 530;  : ats; Secondary Market: ats\" role=\"graphics-symbol\" aria-roledescription=\"bar\" d=\"M0.9000000000000021,46.66666666666668h16.2v353.3333333333333h-16.2Z\" fill=\"rgb(49, 104, 142)\"></path><path aria-label=\"Number of Issuers: 569;  : otc; Secondary Market: otc\" role=\"graphics-symbol\" aria-roledescription=\"bar\" d=\"M18.900000000000002,20.666666666666657h16.2v379.33333333333337h-16.2Z\" fill=\"rgb(53, 183, 121)\"></path></g></g><path class=\"foreground\" aria-hidden=\"true\" d=\"\" display=\"none\"></path></g><g transform=\"translate(255,0)\"><path class=\"background\" aria-hidden=\"true\" d=\"M0.5,0.5h36v400h-36Z\"></path><g><g class=\"mark-rect role-mark child_marks\" role=\"graphics-object\" aria-roledescription=\"rect mark container\"><path aria-label=\"Number of Issuers: 525;  : ats; Secondary Market: ats\" role=\"graphics-symbol\" aria-roledescription=\"bar\" d=\"M0.9000000000000021,50h16.2v350h-16.2Z\" fill=\"rgb(49, 104, 142)\"></path><path aria-label=\"Number of Issuers: 538;  : otc; Secondary Market: otc\" role=\"graphics-symbol\" aria-roledescription=\"bar\" d=\"M18.900000000000002,41.33333333333336h16.2v358.66666666666663h-16.2Z\" fill=\"rgb(53, 183, 121)\"></path></g></g><path class=\"foreground\" aria-hidden=\"true\" d=\"\" display=\"none\"></path></g><g transform=\"translate(297.5,0)\"><path class=\"background\" aria-hidden=\"true\" d=\"M0.5,0.5h36v400h-36Z\"></path><g><g class=\"mark-rect role-mark child_marks\" role=\"graphics-object\" aria-roledescription=\"rect mark container\"><path aria-label=\"Number of Issuers: 520;  : ats; Secondary Market: ats\" role=\"graphics-symbol\" aria-roledescription=\"bar\" d=\"M0.9000000000000021,53.33333333333332h16.2v346.6666666666667h-16.2Z\" fill=\"rgb(49, 104, 142)\"></path><path aria-label=\"Number of Issuers: 527;  : otc; Secondary Market: otc\" role=\"graphics-symbol\" aria-roledescription=\"bar\" d=\"M18.900000000000002,48.66666666666668h16.2v351.3333333333333h-16.2Z\" fill=\"rgb(53, 183, 121)\"></path></g></g><path class=\"foreground\" aria-hidden=\"true\" d=\"\" display=\"none\"></path></g><g transform=\"translate(340,0)\"><path class=\"background\" aria-hidden=\"true\" d=\"M0.5,0.5h36v400h-36Z\"></path><g><g class=\"mark-rect role-mark child_marks\" role=\"graphics-object\" aria-roledescription=\"rect mark container\"><path aria-label=\"Number of Issuers: 417;  : ats; Secondary Market: ats\" role=\"graphics-symbol\" aria-roledescription=\"bar\" d=\"M0.9000000000000021,122.00000000000001h16.2v278h-16.2Z\" fill=\"rgb(49, 104, 142)\"></path><path aria-label=\"Number of Issuers: 424;  : otc; Secondary Market: otc\" role=\"graphics-symbol\" aria-roledescription=\"bar\" d=\"M18.900000000000002,117.33333333333333h16.2v282.6666666666667h-16.2Z\" fill=\"rgb(53, 183, 121)\"></path></g></g><path class=\"foreground\" aria-hidden=\"true\" d=\"\" display=\"none\"></path></g><g transform=\"translate(382.5,0)\"><path class=\"background\" aria-hidden=\"true\" d=\"M0.5,0.5h36v400h-36Z\"></path><g><g class=\"mark-rect role-mark child_marks\" role=\"graphics-object\" aria-roledescription=\"rect mark container\"><path aria-label=\"Number of Issuers: 146;  : ats; Secondary Market: ats\" role=\"graphics-symbol\" aria-roledescription=\"bar\" d=\"M0.9000000000000021,302.66666666666663h16.2v97.33333333333337h-16.2Z\" fill=\"rgb(49, 104, 142)\"></path><path aria-label=\"Number of Issuers: 149;  : otc; Secondary Market: otc\" role=\"graphics-symbol\" aria-roledescription=\"bar\" d=\"M18.900000000000002,300.6666666666667h16.2v99.33333333333331h-16.2Z\" fill=\"rgb(53, 183, 121)\"></path></g></g><path class=\"foreground\" aria-hidden=\"true\" d=\"\" display=\"none\"></path></g><g transform=\"translate(425,0)\"><path class=\"background\" aria-hidden=\"true\" d=\"M0.5,0.5h36v400h-36Z\"></path><g><g class=\"mark-rect role-mark child_marks\" role=\"graphics-object\" aria-roledescription=\"rect mark container\"><path aria-label=\"Number of Issuers: 129;  : ats; Secondary Market: ats\" role=\"graphics-symbol\" aria-roledescription=\"bar\" d=\"M0.9000000000000021,314h16.2v86h-16.2Z\" fill=\"rgb(49, 104, 142)\"></path><path aria-label=\"Number of Issuers: 132;  : otc; Secondary Market: otc\" role=\"graphics-symbol\" aria-roledescription=\"bar\" d=\"M18.900000000000002,312h16.2v88h-16.2Z\" fill=\"rgb(53, 183, 121)\"></path></g></g><path class=\"foreground\" aria-hidden=\"true\" d=\"\" display=\"none\"></path></g><g transform=\"translate(467.5,0)\"><path class=\"background\" aria-hidden=\"true\" d=\"M0.5,0.5h36v400h-36Z\"></path><g><g class=\"mark-rect role-mark child_marks\" role=\"graphics-object\" aria-roledescription=\"rect mark container\"><path aria-label=\"Number of Issuers: 42;  : ats; Secondary Market: ats\" role=\"graphics-symbol\" aria-roledescription=\"bar\" d=\"M0.9000000000000021,372h16.2v28h-16.2Z\" fill=\"rgb(49, 104, 142)\"></path><path aria-label=\"Number of Issuers: 42;  : otc; Secondary Market: otc\" role=\"graphics-symbol\" aria-roledescription=\"bar\" d=\"M18.900000000000002,372h16.2v28h-16.2Z\" fill=\"rgb(53, 183, 121)\"></path></g></g><path class=\"foreground\" aria-hidden=\"true\" d=\"\" display=\"none\"></path></g><g transform=\"translate(510,0)\"><path class=\"background\" aria-hidden=\"true\" d=\"M0.5,0.5h36v400h-36Z\"></path><g><g class=\"mark-rect role-mark child_marks\" role=\"graphics-object\" aria-roledescription=\"rect mark container\"><path aria-label=\"Number of Issuers: 6;  : ats; Secondary Market: ats\" role=\"graphics-symbol\" aria-roledescription=\"bar\" d=\"M0.9000000000000021,396h16.2v4h-16.2Z\" fill=\"rgb(49, 104, 142)\"></path><path aria-label=\"Number of Issuers: 6;  : otc; Secondary Market: otc\" role=\"graphics-symbol\" aria-roledescription=\"bar\" d=\"M18.900000000000002,396h16.2v4h-16.2Z\" fill=\"rgb(53, 183, 121)\"></path></g></g><path class=\"foreground\" aria-hidden=\"true\" d=\"\" display=\"none\"></path></g></g><g class=\"mark-group role-legend\" role=\"graphics-symbol\" aria-roledescription=\"legend\" aria-label=\"Symbol legend titled 'Secondary Market' for fill color with 2 values: ats, otc\"><g transform=\"translate(565,0)\"><path class=\"background\" aria-hidden=\"true\" d=\"M0,0h111v40h-111Z\" pointer-events=\"none\"></path><g><g class=\"mark-group role-legend-entry\"><g transform=\"translate(0,16)\"><path class=\"background\" aria-hidden=\"true\" d=\"M0,0h0v0h0Z\" pointer-events=\"none\"></path><g><g class=\"mark-group role-scope\" role=\"graphics-object\" aria-roledescription=\"group mark container\"><g transform=\"translate(0,0)\"><path class=\"background\" aria-hidden=\"true\" d=\"M0,0h32v11h-32Z\" pointer-events=\"none\" opacity=\"1\"></path><g><g class=\"mark-symbol role-legend-symbol\" pointer-events=\"none\"><path transform=\"translate(6,6)\" d=\"M-5,-5h10v10h-10Z\" fill=\"rgb(49, 104, 142)\" stroke-width=\"1.5\" opacity=\"1\"></path></g><g class=\"mark-text role-legend-label\" pointer-events=\"none\"><text text-anchor=\"start\" transform=\"translate(16,9)\" font-family=\"sans-serif\" font-size=\"10px\" fill=\"#000\" opacity=\"1\">ats</text></g></g><path class=\"foreground\" aria-hidden=\"true\" d=\"\" pointer-events=\"none\" display=\"none\"></path></g><g transform=\"translate(0,13)\"><path class=\"background\" aria-hidden=\"true\" d=\"M0,0h32v11h-32Z\" pointer-events=\"none\" opacity=\"1\"></path><g><g class=\"mark-symbol role-legend-symbol\" pointer-events=\"none\"><path transform=\"translate(6,6)\" d=\"M-5,-5h10v10h-10Z\" fill=\"rgb(53, 183, 121)\" stroke-width=\"1.5\" opacity=\"1\"></path></g><g class=\"mark-text role-legend-label\" pointer-events=\"none\"><text text-anchor=\"start\" transform=\"translate(16,9)\" font-family=\"sans-serif\" font-size=\"10px\" fill=\"#000\" opacity=\"1\">otc</text></g></g><path class=\"foreground\" aria-hidden=\"true\" d=\"\" pointer-events=\"none\" display=\"none\"></path></g></g></g><path class=\"foreground\" aria-hidden=\"true\" d=\"\" pointer-events=\"none\" display=\"none\"></path></g></g><g class=\"mark-text role-legend-title\" pointer-events=\"none\"><text text-anchor=\"start\" transform=\"translate(0,9)\" font-family=\"sans-serif\" font-size=\"11px\" font-weight=\"bold\" fill=\"#000\" opacity=\"1\">Secondary Market</text></g></g><path class=\"foreground\" aria-hidden=\"true\" d=\"\" pointer-events=\"none\" display=\"none\"></path></g></g><g class=\"mark-group role-title\"><g transform=\"translate(317.5,-102)\"><path class=\"background\" aria-hidden=\"true\" d=\"M0,0h0v0h0Z\" pointer-events=\"none\"></path><g><g class=\"mark-text role-title-text\" role=\"graphics-symbol\" aria-roledescription=\"title\" aria-label=\"Title text 'Number of Issuers of Non-MTN-Bonds Traded  by Number of Covenant Categories per Bond - 2019Q2'\" pointer-events=\"none\"><text text-anchor=\"middle\" transform=\"translate(0,11)\" font-family=\"sans-serif\" font-size=\"14px\" font-weight=\"bold\" fill=\"#000\" opacity=\"1\"><tspan>Number of Issuers of Non-MTN-Bonds Traded</tspan><tspan x=\"0\" dy=\"16\">by Number of Covenant Categories per Bond - 2019Q2</tspan></text></g></g><path class=\"foreground\" aria-hidden=\"true\" d=\"\" pointer-events=\"none\" display=\"none\"></path></g></g></g><path class=\"foreground\" aria-hidden=\"true\" d=\"\" display=\"none\"></path></g></g></g></svg>\n"
      ],
      "text/plain": [
       "@vlplot(\n",
       "    config={\n",
       "        view={\n",
       "            stroke=\"transparent\"\n",
       "        },\n",
       "        axis={\n",
       "            domainWidth=3\n",
       "        },\n",
       "        opacity={\n",
       "            value=0.7\n",
       "        }\n",
       "    },\n",
       "    title={\n",
       "        text=[\n",
       "            \"Number of Issuers of Non-MTN-Bonds Traded\",\n",
       "            \" by Number of Covenant Categories per Bond - 2019Q2\"\n",
       "        ],\n",
       "        align=\"center\",\n",
       "        anchor=\"middle\",\n",
       "        fontSize=14,\n",
       "        offset=20\n",
       "    },\n",
       "    spacing=4.5,\n",
       "    width={\n",
       "        step=18\n",
       "    },\n",
       "    height=400,\n",
       "    mark=\"bar\",\n",
       "    encoding={\n",
       "        column={\n",
       "            type=\"ordinal\",\n",
       "            title=\"Number of Covenant Categories per Bond\",\n",
       "            sort=\"ascending\",\n",
       "            field=\"sum_num_cov\"\n",
       "        },\n",
       "        y={\n",
       "            axis={\n",
       "                title=\"Number of Issuers\",\n",
       "                grid=false,\n",
       "                stack=nothing\n",
       "            },\n",
       "            field=\"value\"\n",
       "        },\n",
       "        x={\n",
       "            type=\"nominal\",\n",
       "            axis={\n",
       "                title=\" \"\n",
       "            },\n",
       "            field=\"sbm\"\n",
       "        },\n",
       "        color={\n",
       "            legend={\n",
       "                title=\"Secondary Market\"\n",
       "            },\n",
       "            scale={\n",
       "                scheme=\"viridis\"\n",
       "            },\n",
       "            field=\"sbm\",\n",
       "            type=\"nominal\"\n",
       "        }\n",
       "    },\n",
       "    data={\n",
       "        values=...\n",
       "    }\n",
       ")"
      ]
     },
     "execution_count": 8,
     "metadata": {},
     "output_type": "execute_result"
    }
   ],
   "source": [
    "pl[1]"
   ]
  },
  {
   "cell_type": "code",
   "execution_count": null,
   "metadata": {},
   "outputs": [],
   "source": []
  },
  {
   "cell_type": "code",
   "execution_count": null,
   "metadata": {},
   "outputs": [],
   "source": []
  }
 ],
 "metadata": {
  "@webio": {
   "lastCommId": null,
   "lastKernelId": null
  },
  "kernelspec": {
   "display_name": "Julia 1.5.2",
   "language": "julia",
   "name": "julia-1.5"
  },
  "language_info": {
   "file_extension": ".jl",
   "mimetype": "application/julia",
   "name": "julia",
   "version": "1.5.2"
  }
 },
 "nbformat": 4,
 "nbformat_minor": 4
}
