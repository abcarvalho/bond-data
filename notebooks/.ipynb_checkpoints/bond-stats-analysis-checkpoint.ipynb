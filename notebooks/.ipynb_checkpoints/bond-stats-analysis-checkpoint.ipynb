{
 "cells": [
  {
   "cell_type": "code",
   "execution_count": 1,
   "metadata": {},
   "outputs": [
    {
     "data": {
      "text/plain": [
       "1000"
      ]
     },
     "execution_count": 1,
     "metadata": {},
     "output_type": "execute_result"
    }
   ],
   "source": [
    "using DataFrames\n",
    "using Printf\n",
    "using CSV\n",
    "using Dates\n",
    "using DayCounts\n",
    "# using Revise\n",
    "using VegaLite\n",
    "using Latexify\n",
    "\n",
    "using Distributed\n",
    "# if nprocs() == 1\n",
    "#     addprocs(11)\n",
    "# end\n",
    "# @everywhere main_path = \"/home/artur/BondPricing/bond-data\"\n",
    "# @everywhere module_path = string(main_path, \"/module\")\n",
    "# @everywhere script_path = string(main_path, \"/data-scripts\")\n",
    "# @everywhere include(string(joinpath(module_path, \"data_module\"), \".jl\"))\n",
    "# @everywhere include(string(joinpath(module_path, \"stats_module\"), \".jl\"))\n",
    "# @everywhere include(string(joinpath(module_path, \"plot_module\"), \".jl\"))\n",
    "\n",
    "main_path = \"/home/artur/BondPricing/bond-data\"\n",
    "module_path = string(main_path, \"/module\")\n",
    "script_path = string(main_path, \"/data-scripts\")\n",
    "include(string(joinpath(module_path, \"data_module\"), \".jl\"))\n",
    "include(string(joinpath(module_path, \"stats_module\"), \".jl\"))\n",
    "include(string(joinpath(module_path, \"plot_module\"), \".jl\"))\n",
    "\n",
    "\n",
    "ENV[\"LINES\"] = 100\n",
    "ENV[\"COLUMNS\"] = 1000"
   ]
  },
  {
   "cell_type": "code",
   "execution_count": 2,
   "metadata": {},
   "outputs": [
    {
     "name": "stdout",
     "output_type": "stream",
     "text": [
      "TRACE year: 2019\n",
      "TRACE quarter: 3\n"
     ]
    },
    {
     "name": "stderr",
     "output_type": "stream",
     "text": [
      "WARNING: replacing module DataMod.\n"
     ]
    },
    {
     "name": "stdout",
     "output_type": "stream",
     "text": [
      "Loading mergent_filtered dataframe...\n",
      " 41.038709 seconds (109.70 M allocations: 6.755 GiB, 38.39% gc time)\n",
      " 28.793795 seconds (70.94 M allocations: 3.866 GiB, 76.14% gc time)\n",
      "Step 1. Merging ID DataFrames...\n",
      "Step 2. By CUSIP and Trade Execution Date, find the last Rating Date... \n",
      "Step 3. Filter: for each (cusip, trade execution date) pair, keep only the last rating date...\n",
      "Step 4. Filter: for the (cusip, trade execution date, rating_date) tuples with \n",
      "        more than one RATING_TYPE observation, keep only the Moody's rating...\n",
      " 20.610664 seconds (30.11 M allocations: 2.539 GiB, 54.61% gc time)\n",
      "Unique CUSIPS in trace dataframe: 26033\n",
      "TRACE/MERGENT Matched CUSIPS Ratio (%): 74.91261091691315\n",
      "Conditional Success Rate (%): 99.99565621552121\n",
      " 51.088141 seconds (77.25 M allocations: 11.058 GiB, 49.11% gc time)\n",
      "Creating IG indicator...\n",
      "Creating AGE and TTM variables...\n",
      "Creating TRADE SIZE Categories...\n",
      "Creating ATS indicator...\n",
      "161.256692 seconds (443.49 M allocations: 31.244 GiB, 57.29% gc time)\n"
     ]
    },
    {
     "data": {
      "text/plain": [
       "Main.MergeDB"
      ]
     },
     "execution_count": 2,
     "metadata": {},
     "output_type": "execute_result"
    }
   ],
   "source": [
    "module MergeDB\n",
    "    using Distributed\n",
    "\n",
    "    main_path = \"/home/artur/BondPricing/bond-data\"\n",
    "    module_path = string(main_path, \"/module\")\n",
    "    script_path = string(main_path, \"/data-scripts\")\n",
    "    include(string(joinpath(module_path, \"data_module\"), \".jl\"))\n",
    "    include(string(joinpath(module_path, \"stats_module\"), \".jl\"))\n",
    "\n",
    "    yr = 2019\n",
    "    qtr = 3\n",
    "    ARGS=[string(yr), string(qtr)]\n",
    "    @time include(string(script_path, \"/merge_trace_mergent.jl\"))\n",
    "end"
   ]
  },
  {
   "cell_type": "code",
   "execution_count": 3,
   "metadata": {},
   "outputs": [
    {
     "data": {
      "text/html": [
       "<table class=\"data-frame\"><thead><tr><th></th><th>cusip_id</th><th>bond_sym_id</th><th>company_symbol</th><th>trd_exctn_dt</th><th>trd_exctn_tm</th><th>entrd_vol_qt</th><th>rptd_pr</th><th>rpt_side_cd</th><th>buy_cmsn_rt</th><th>sell_cmsn_rt</th><th>cntra_mp_id</th><th>rptg_party_type</th><th>ats_indicator</th><th>trd_exctn_yr</th><th>trd_exctn_mo</th><th>rpt_side_cpcty</th><th>trd_exctn_date</th><th>rating_date</th><th>RATING_TYPE</th><th>EFFECTIVE_DATE</th><th>AMOUNT_OUTSTANDING</th><th>FIX_FREQUENCY</th><th>PAY_IN_KIND</th><th>COUPON_CHANGE_INDICATOR</th><th>ISSUER_ID</th><th>ISSUER_CUSIP</th><th>ISSUE_CUSIP</th><th>MATURITY</th><th>SECURITY_LEVEL</th><th>SECURITY_PLEDGE</th><th>ENHANCEMENT</th><th>CONVERTIBLE</th><th>ASSET_BACKED</th><th>RULE_415_REG</th><th>RULE_144A</th><th>OFFERING_AMT</th><th>OFFERING_DATE</th><th>PRINCIPAL_AMT</th><th>COVENANTS</th><th>DEFEASANCE_TYPE</th><th>REDEEMABLE</th><th>REFUND_PROTECTION</th><th>PUTABLE</th><th>PRIVATE_PLACEMENT</th><th>BOND_TYPE</th><th>PERPETUAL</th><th>EXCHANGEABLE</th><th>FUNGIBLE</th><th>REGISTRATION_RIGHTS</th><th>PREFERRED_SECURITY</th><th>COUPON_TYPE</th><th>FOREIGN_CURRENCY</th><th>DENOMINATION</th><th>DEFEASED</th><th>DEFEASED_DATE</th><th>DEFAULTED</th><th>ISIN</th><th>CUSIP_NAME</th><th>INDUSTRY_GROUP</th><th>INDUSTRY_CODE</th><th>ESOP</th><th>IN_BANKRUPTCY</th><th>PARENT_ID</th><th>NAICS_CODE</th><th>COUNTRY_DOMICILE</th><th>CONSOLIDATION_MERGER</th><th>DIVIDENDS_RELATED_PAYMENTS_IS</th><th>FUNDED_DEBT_IS</th></tr><tr><th></th><th>String</th><th>String?</th><th>String?</th><th>String</th><th>String</th><th>Float64</th><th>Float64</th><th>String</th><th>Float64</th><th>Float64</th><th>String</th><th>String</th><th>String?</th><th>Int64</th><th>Int64</th><th>String</th><th>Date</th><th>Date</th><th>String</th><th>Int64?</th><th>String?</th><th>String?</th><th>String?</th><th>String?</th><th>Int64</th><th>String</th><th>String</th><th>Int64</th><th>String?</th><th>String?</th><th>String?</th><th>String?</th><th>String?</th><th>String?</th><th>String</th><th>Float64?</th><th>Int64</th><th>Float64</th><th>String?</th><th>String?</th><th>String?</th><th>String?</th><th>String?</th><th>String?</th><th>String</th><th>String</th><th>String?</th><th>String?</th><th>String?</th><th>String?</th><th>String?</th><th>String</th><th>String?</th><th>String?</th><th>Int64?</th><th>String?</th><th>String?</th><th>String</th><th>String?</th><th>String</th><th>String?</th><th>String?</th><th>Int64?</th><th>String?</th><th>String?</th><th>String?</th><th>String?</th><th>String?</th></tr></thead><tbody><p>5 rows × 136 columns (omitted printing of 68 columns)</p><tr><th>1</th><td>91889DAB2</td><td><em>missing</em></td><td><em>missing</em></td><td>20190731</td><td>11:16:00</td><td>5000.0</td><td>72.184</td><td>D</td><td>0.0</td><td>0.0</td><td>D</td><td>D</td><td>Y</td><td>2019</td><td>7</td><td>P</td><td>2019-07-31</td><td>2018-08-29</td><td>SPR</td><td>20190731</td><td>303358</td><td><em>missing</em></td><td><em>missing</em></td><td>N</td><td>49703</td><td>91889D</td><td>AB2</td><td>20241001</td><td>SEN</td><td><em>missing</em></td><td>N</td><td>N</td><td>N</td><td>N</td><td>N</td><td>303358.0</td><td>20190731</td><td>1000.0</td><td>N</td><td><em>missing</em></td><td>Y</td><td>N</td><td>N</td><td>N</td><td>CDEB</td><td>N</td><td>N</td><td>N</td><td><em>missing</em></td><td>N</td><td>F</td><td>N</td><td>2/1</td><td>N</td><td><em>missing</em></td><td>N</td><td>US91889DAB29</td><td>VALARIS PLC</td><td>1</td><td>12</td><td>N</td><td>N</td><td>59261</td><td>213111</td><td>GBR</td><td><em>missing</em></td><td><em>missing</em></td><td><em>missing</em></td></tr><tr><th>2</th><td>91889DAB2</td><td><em>missing</em></td><td><em>missing</em></td><td>20190731</td><td>11:16:00</td><td>5000.0</td><td>71.984</td><td>B</td><td>0.0</td><td>0.0</td><td>C</td><td>D</td><td><em>missing</em></td><td>2019</td><td>7</td><td>P</td><td>2019-07-31</td><td>2018-08-29</td><td>SPR</td><td>20190731</td><td>303358</td><td><em>missing</em></td><td><em>missing</em></td><td>N</td><td>49703</td><td>91889D</td><td>AB2</td><td>20241001</td><td>SEN</td><td><em>missing</em></td><td>N</td><td>N</td><td>N</td><td>N</td><td>N</td><td>303358.0</td><td>20190731</td><td>1000.0</td><td>N</td><td><em>missing</em></td><td>Y</td><td>N</td><td>N</td><td>N</td><td>CDEB</td><td>N</td><td>N</td><td>N</td><td><em>missing</em></td><td>N</td><td>F</td><td>N</td><td>2/1</td><td>N</td><td><em>missing</em></td><td>N</td><td>US91889DAB29</td><td>VALARIS PLC</td><td>1</td><td>12</td><td>N</td><td>N</td><td>59261</td><td>213111</td><td>GBR</td><td><em>missing</em></td><td><em>missing</em></td><td><em>missing</em></td></tr><tr><th>3</th><td>91889DAB2</td><td><em>missing</em></td><td><em>missing</em></td><td>20190731</td><td>11:17:00</td><td>5000.0</td><td>72.184</td><td>D</td><td>0.0</td><td>0.0</td><td>D</td><td>T</td><td>Y</td><td>2019</td><td>7</td><td>P</td><td>2019-07-31</td><td>2018-08-29</td><td>SPR</td><td>20190731</td><td>303358</td><td><em>missing</em></td><td><em>missing</em></td><td>N</td><td>49703</td><td>91889D</td><td>AB2</td><td>20241001</td><td>SEN</td><td><em>missing</em></td><td>N</td><td>N</td><td>N</td><td>N</td><td>N</td><td>303358.0</td><td>20190731</td><td>1000.0</td><td>N</td><td><em>missing</em></td><td>Y</td><td>N</td><td>N</td><td>N</td><td>CDEB</td><td>N</td><td>N</td><td>N</td><td><em>missing</em></td><td>N</td><td>F</td><td>N</td><td>2/1</td><td>N</td><td><em>missing</em></td><td>N</td><td>US91889DAB29</td><td>VALARIS PLC</td><td>1</td><td>12</td><td>N</td><td>N</td><td>59261</td><td>213111</td><td>GBR</td><td><em>missing</em></td><td><em>missing</em></td><td><em>missing</em></td></tr><tr><th>4</th><td>00846UAG6</td><td>A.GF</td><td>A</td><td>20190701</td><td>10:31:23</td><td>3000.0</td><td>102.628</td><td>D</td><td>0.0</td><td>0.0</td><td>D</td><td>D</td><td>Y</td><td>2019</td><td>7</td><td>P</td><td>2019-07-01</td><td>2018-09-26</td><td>MR</td><td>20141029</td><td>500000</td><td><em>missing</em></td><td>N</td><td>N</td><td>36037</td><td>00846U</td><td>AG6</td><td>20200715</td><td>SEN</td><td><em>missing</em></td><td>N</td><td>N</td><td>N</td><td>Y</td><td>N</td><td>500000.0</td><td>20100713</td><td>1000.0</td><td>Y</td><td><em>missing</em></td><td>Y</td><td>N</td><td>N</td><td>N</td><td>CDEB</td><td>N</td><td>N</td><td>Y</td><td><em>missing</em></td><td>N</td><td>F</td><td>N</td><td>2/1</td><td>N</td><td><em>missing</em></td><td>N</td><td>US00846UAG67</td><td>AGILENT TECHNOLOGIES INC</td><td>1</td><td>10</td><td>N</td><td>N</td><td>46935</td><td>334515</td><td>USA</td><td>N</td><td>N</td><td>N</td></tr><tr><th>5</th><td>00846UAG6</td><td>A.GF</td><td>A</td><td>20190701</td><td>10:31:23</td><td>15000.0</td><td>102.818</td><td>S</td><td>0.0</td><td>30.0</td><td>C</td><td>D</td><td><em>missing</em></td><td>2019</td><td>7</td><td>A</td><td>2019-07-01</td><td>2018-09-26</td><td>MR</td><td>20141029</td><td>500000</td><td><em>missing</em></td><td>N</td><td>N</td><td>36037</td><td>00846U</td><td>AG6</td><td>20200715</td><td>SEN</td><td><em>missing</em></td><td>N</td><td>N</td><td>N</td><td>Y</td><td>N</td><td>500000.0</td><td>20100713</td><td>1000.0</td><td>Y</td><td><em>missing</em></td><td>Y</td><td>N</td><td>N</td><td>N</td><td>CDEB</td><td>N</td><td>N</td><td>Y</td><td><em>missing</em></td><td>N</td><td>F</td><td>N</td><td>2/1</td><td>N</td><td><em>missing</em></td><td>N</td><td>US00846UAG67</td><td>AGILENT TECHNOLOGIES INC</td><td>1</td><td>10</td><td>N</td><td>N</td><td>46935</td><td>334515</td><td>USA</td><td>N</td><td>N</td><td>N</td></tr></tbody></table>"
      ],
      "text/latex": [
       "\\begin{tabular}{r|ccccccccccccccccccccccccccccccccccccccccccccccccccccccccccccccccccccc}\n",
       "\t& cusip\\_id & bond\\_sym\\_id & company\\_symbol & trd\\_exctn\\_dt & trd\\_exctn\\_tm & entrd\\_vol\\_qt & rptd\\_pr & rpt\\_side\\_cd & buy\\_cmsn\\_rt & sell\\_cmsn\\_rt & cntra\\_mp\\_id & rptg\\_party\\_type & ats\\_indicator & trd\\_exctn\\_yr & trd\\_exctn\\_mo & rpt\\_side\\_cpcty & trd\\_exctn\\_date & rating\\_date & RATING\\_TYPE & EFFECTIVE\\_DATE & AMOUNT\\_OUTSTANDING & FIX\\_FREQUENCY & PAY\\_IN\\_KIND & COUPON\\_CHANGE\\_INDICATOR & ISSUER\\_ID & ISSUER\\_CUSIP & ISSUE\\_CUSIP & MATURITY & SECURITY\\_LEVEL & SECURITY\\_PLEDGE & ENHANCEMENT & CONVERTIBLE & ASSET\\_BACKED & RULE\\_415\\_REG & RULE\\_144A & OFFERING\\_AMT & OFFERING\\_DATE & PRINCIPAL\\_AMT & COVENANTS & DEFEASANCE\\_TYPE & REDEEMABLE & REFUND\\_PROTECTION & PUTABLE & PRIVATE\\_PLACEMENT & BOND\\_TYPE & PERPETUAL & EXCHANGEABLE & FUNGIBLE & REGISTRATION\\_RIGHTS & PREFERRED\\_SECURITY & COUPON\\_TYPE & FOREIGN\\_CURRENCY & DENOMINATION & DEFEASED & DEFEASED\\_DATE & DEFAULTED & ISIN & CUSIP\\_NAME & INDUSTRY\\_GROUP & INDUSTRY\\_CODE & ESOP & IN\\_BANKRUPTCY & PARENT\\_ID & NAICS\\_CODE & COUNTRY\\_DOMICILE & CONSOLIDATION\\_MERGER & DIVIDENDS\\_RELATED\\_PAYMENTS\\_IS & FUNDED\\_DEBT\\_IS & \\\\\n",
       "\t\\hline\n",
       "\t& String & String? & String? & String & String & Float64 & Float64 & String & Float64 & Float64 & String & String & String? & Int64 & Int64 & String & Date & Date & String & Int64? & String? & String? & String? & String? & Int64 & String & String & Int64 & String? & String? & String? & String? & String? & String? & String & Float64? & Int64 & Float64 & String? & String? & String? & String? & String? & String? & String & String & String? & String? & String? & String? & String? & String & String? & String? & Int64? & String? & String? & String & String? & String & String? & String? & Int64? & String? & String? & String? & String? & String? & \\\\\n",
       "\t\\hline\n",
       "\t1 & 91889DAB2 & \\emph{missing} & \\emph{missing} & 20190731 & 11:16:00 & 5000.0 & 72.184 & D & 0.0 & 0.0 & D & D & Y & 2019 & 7 & P & 2019-07-31 & 2018-08-29 & SPR & 20190731 & 303358 & \\emph{missing} & \\emph{missing} & N & 49703 & 91889D & AB2 & 20241001 & SEN & \\emph{missing} & N & N & N & N & N & 303358.0 & 20190731 & 1000.0 & N & \\emph{missing} & Y & N & N & N & CDEB & N & N & N & \\emph{missing} & N & F & N & 2/1 & N & \\emph{missing} & N & US91889DAB29 & VALARIS PLC & 1 & 12 & N & N & 59261 & 213111 & GBR & \\emph{missing} & \\emph{missing} & \\emph{missing} & $\\dots$ \\\\\n",
       "\t2 & 91889DAB2 & \\emph{missing} & \\emph{missing} & 20190731 & 11:16:00 & 5000.0 & 71.984 & B & 0.0 & 0.0 & C & D & \\emph{missing} & 2019 & 7 & P & 2019-07-31 & 2018-08-29 & SPR & 20190731 & 303358 & \\emph{missing} & \\emph{missing} & N & 49703 & 91889D & AB2 & 20241001 & SEN & \\emph{missing} & N & N & N & N & N & 303358.0 & 20190731 & 1000.0 & N & \\emph{missing} & Y & N & N & N & CDEB & N & N & N & \\emph{missing} & N & F & N & 2/1 & N & \\emph{missing} & N & US91889DAB29 & VALARIS PLC & 1 & 12 & N & N & 59261 & 213111 & GBR & \\emph{missing} & \\emph{missing} & \\emph{missing} & $\\dots$ \\\\\n",
       "\t3 & 91889DAB2 & \\emph{missing} & \\emph{missing} & 20190731 & 11:17:00 & 5000.0 & 72.184 & D & 0.0 & 0.0 & D & T & Y & 2019 & 7 & P & 2019-07-31 & 2018-08-29 & SPR & 20190731 & 303358 & \\emph{missing} & \\emph{missing} & N & 49703 & 91889D & AB2 & 20241001 & SEN & \\emph{missing} & N & N & N & N & N & 303358.0 & 20190731 & 1000.0 & N & \\emph{missing} & Y & N & N & N & CDEB & N & N & N & \\emph{missing} & N & F & N & 2/1 & N & \\emph{missing} & N & US91889DAB29 & VALARIS PLC & 1 & 12 & N & N & 59261 & 213111 & GBR & \\emph{missing} & \\emph{missing} & \\emph{missing} & $\\dots$ \\\\\n",
       "\t4 & 00846UAG6 & A.GF & A & 20190701 & 10:31:23 & 3000.0 & 102.628 & D & 0.0 & 0.0 & D & D & Y & 2019 & 7 & P & 2019-07-01 & 2018-09-26 & MR & 20141029 & 500000 & \\emph{missing} & N & N & 36037 & 00846U & AG6 & 20200715 & SEN & \\emph{missing} & N & N & N & Y & N & 500000.0 & 20100713 & 1000.0 & Y & \\emph{missing} & Y & N & N & N & CDEB & N & N & Y & \\emph{missing} & N & F & N & 2/1 & N & \\emph{missing} & N & US00846UAG67 & AGILENT TECHNOLOGIES INC & 1 & 10 & N & N & 46935 & 334515 & USA & N & N & N & $\\dots$ \\\\\n",
       "\t5 & 00846UAG6 & A.GF & A & 20190701 & 10:31:23 & 15000.0 & 102.818 & S & 0.0 & 30.0 & C & D & \\emph{missing} & 2019 & 7 & A & 2019-07-01 & 2018-09-26 & MR & 20141029 & 500000 & \\emph{missing} & N & N & 36037 & 00846U & AG6 & 20200715 & SEN & \\emph{missing} & N & N & N & Y & N & 500000.0 & 20100713 & 1000.0 & Y & \\emph{missing} & Y & N & N & N & CDEB & N & N & Y & \\emph{missing} & N & F & N & 2/1 & N & \\emph{missing} & N & US00846UAG67 & AGILENT TECHNOLOGIES INC & 1 & 10 & N & N & 46935 & 334515 & USA & N & N & N & $\\dots$ \\\\\n",
       "\\end{tabular}\n"
      ],
      "text/plain": [
       "5×136 DataFrame. Omitted printing of 72 columns\n",
       "│ Row │ cusip_id  │ bond_sym_id │ company_symbol │ trd_exctn_dt │ trd_exctn_tm │ entrd_vol_qt │ rptd_pr │ rpt_side_cd │ buy_cmsn_rt │ sell_cmsn_rt │ cntra_mp_id │ rptg_party_type │ ats_indicator │ trd_exctn_yr │ trd_exctn_mo │ rpt_side_cpcty │ trd_exctn_date │ rating_date │ RATING_TYPE │ EFFECTIVE_DATE │ AMOUNT_OUTSTANDING │ FIX_FREQUENCY │ PAY_IN_KIND │ COUPON_CHANGE_INDICATOR │ ISSUER_ID │ ISSUER_CUSIP │ ISSUE_CUSIP │ MATURITY │ SECURITY_LEVEL │ SECURITY_PLEDGE │ ENHANCEMENT │ CONVERTIBLE │ ASSET_BACKED │ RULE_415_REG │ RULE_144A │ OFFERING_AMT │ OFFERING_DATE │ PRINCIPAL_AMT │ COVENANTS │ DEFEASANCE_TYPE │ REDEEMABLE │ REFUND_PROTECTION │ PUTABLE │ PRIVATE_PLACEMENT │ BOND_TYPE │ PERPETUAL │ EXCHANGEABLE │ FUNGIBLE │ REGISTRATION_RIGHTS │ PREFERRED_SECURITY │ COUPON_TYPE │ FOREIGN_CURRENCY │ DENOMINATION │ DEFEASED │ DEFEASED_DATE │ DEFAULTED │ ISIN         │ CUSIP_NAME               │ INDUSTRY_GROUP │ INDUSTRY_CODE │ ESOP    │ IN_BANKRUPTCY │ PARENT_ID │ NAICS_CODE │\n",
       "│     │ \u001b[90mString\u001b[39m    │ \u001b[90mString?\u001b[39m     │ \u001b[90mString?\u001b[39m        │ \u001b[90mString\u001b[39m       │ \u001b[90mString\u001b[39m       │ \u001b[90mFloat64\u001b[39m      │ \u001b[90mFloat64\u001b[39m │ \u001b[90mString\u001b[39m      │ \u001b[90mFloat64\u001b[39m     │ \u001b[90mFloat64\u001b[39m      │ \u001b[90mString\u001b[39m      │ \u001b[90mString\u001b[39m          │ \u001b[90mString?\u001b[39m       │ \u001b[90mInt64\u001b[39m        │ \u001b[90mInt64\u001b[39m        │ \u001b[90mString\u001b[39m         │ \u001b[90mDate\u001b[39m           │ \u001b[90mDate\u001b[39m        │ \u001b[90mString\u001b[39m      │ \u001b[90mInt64?\u001b[39m         │ \u001b[90mString?\u001b[39m            │ \u001b[90mString?\u001b[39m       │ \u001b[90mString?\u001b[39m     │ \u001b[90mUnion{Missing, String}\u001b[39m  │ \u001b[90mInt64\u001b[39m     │ \u001b[90mString\u001b[39m       │ \u001b[90mString\u001b[39m      │ \u001b[90mInt64\u001b[39m    │ \u001b[90mString?\u001b[39m        │ \u001b[90mString?\u001b[39m         │ \u001b[90mString?\u001b[39m     │ \u001b[90mString?\u001b[39m     │ \u001b[90mString?\u001b[39m      │ \u001b[90mString?\u001b[39m      │ \u001b[90mString\u001b[39m    │ \u001b[90mFloat64?\u001b[39m     │ \u001b[90mInt64\u001b[39m         │ \u001b[90mFloat64\u001b[39m       │ \u001b[90mString?\u001b[39m   │ \u001b[90mString?\u001b[39m         │ \u001b[90mString?\u001b[39m    │ \u001b[90mString?\u001b[39m           │ \u001b[90mString?\u001b[39m │ \u001b[90mString?\u001b[39m           │ \u001b[90mString\u001b[39m    │ \u001b[90mString\u001b[39m    │ \u001b[90mString?\u001b[39m      │ \u001b[90mString?\u001b[39m  │ \u001b[90mString?\u001b[39m             │ \u001b[90mString?\u001b[39m            │ \u001b[90mString?\u001b[39m     │ \u001b[90mString\u001b[39m           │ \u001b[90mString?\u001b[39m      │ \u001b[90mString?\u001b[39m  │ \u001b[90mInt64?\u001b[39m        │ \u001b[90mString?\u001b[39m   │ \u001b[90mString?\u001b[39m      │ \u001b[90mString\u001b[39m                   │ \u001b[90mString?\u001b[39m        │ \u001b[90mString\u001b[39m        │ \u001b[90mString?\u001b[39m │ \u001b[90mString?\u001b[39m       │ \u001b[90mInt64?\u001b[39m    │ \u001b[90mString?\u001b[39m    │\n",
       "├─────┼───────────┼─────────────┼────────────────┼──────────────┼──────────────┼──────────────┼─────────┼─────────────┼─────────────┼──────────────┼─────────────┼─────────────────┼───────────────┼──────────────┼──────────────┼────────────────┼────────────────┼─────────────┼─────────────┼────────────────┼────────────────────┼───────────────┼─────────────┼─────────────────────────┼───────────┼──────────────┼─────────────┼──────────┼────────────────┼─────────────────┼─────────────┼─────────────┼──────────────┼──────────────┼───────────┼──────────────┼───────────────┼───────────────┼───────────┼─────────────────┼────────────┼───────────────────┼─────────┼───────────────────┼───────────┼───────────┼──────────────┼──────────┼─────────────────────┼────────────────────┼─────────────┼──────────────────┼──────────────┼──────────┼───────────────┼───────────┼──────────────┼──────────────────────────┼────────────────┼───────────────┼─────────┼───────────────┼───────────┼────────────┤\n",
       "│ 1   │ 91889DAB2 │ \u001b[90mmissing\u001b[39m     │ \u001b[90mmissing\u001b[39m        │ 20190731     │ 11:16:00     │ 5000.0       │ 72.184  │ D           │ 0.0         │ 0.0          │ D           │ D               │ Y             │ 2019         │ 7            │ P              │ 2019-07-31     │ 2018-08-29  │ SPR         │ 20190731       │ 303358             │ \u001b[90mmissing\u001b[39m       │ \u001b[90mmissing\u001b[39m     │ N                       │ 49703     │ 91889D       │ AB2         │ 20241001 │ SEN            │ \u001b[90mmissing\u001b[39m         │ N           │ N           │ N            │ N            │ N         │ 303358.0     │ 20190731      │ 1000.0        │ N         │ \u001b[90mmissing\u001b[39m         │ Y          │ N                 │ N       │ N                 │ CDEB      │ N         │ N            │ N        │ \u001b[90mmissing\u001b[39m             │ N                  │ F           │ N                │ 2/1          │ N        │ \u001b[90mmissing\u001b[39m       │ N         │ US91889DAB29 │ VALARIS PLC              │ 1              │ 12            │ N       │ N             │ 59261     │ 213111     │\n",
       "│ 2   │ 91889DAB2 │ \u001b[90mmissing\u001b[39m     │ \u001b[90mmissing\u001b[39m        │ 20190731     │ 11:16:00     │ 5000.0       │ 71.984  │ B           │ 0.0         │ 0.0          │ C           │ D               │ \u001b[90mmissing\u001b[39m       │ 2019         │ 7            │ P              │ 2019-07-31     │ 2018-08-29  │ SPR         │ 20190731       │ 303358             │ \u001b[90mmissing\u001b[39m       │ \u001b[90mmissing\u001b[39m     │ N                       │ 49703     │ 91889D       │ AB2         │ 20241001 │ SEN            │ \u001b[90mmissing\u001b[39m         │ N           │ N           │ N            │ N            │ N         │ 303358.0     │ 20190731      │ 1000.0        │ N         │ \u001b[90mmissing\u001b[39m         │ Y          │ N                 │ N       │ N                 │ CDEB      │ N         │ N            │ N        │ \u001b[90mmissing\u001b[39m             │ N                  │ F           │ N                │ 2/1          │ N        │ \u001b[90mmissing\u001b[39m       │ N         │ US91889DAB29 │ VALARIS PLC              │ 1              │ 12            │ N       │ N             │ 59261     │ 213111     │\n",
       "│ 3   │ 91889DAB2 │ \u001b[90mmissing\u001b[39m     │ \u001b[90mmissing\u001b[39m        │ 20190731     │ 11:17:00     │ 5000.0       │ 72.184  │ D           │ 0.0         │ 0.0          │ D           │ T               │ Y             │ 2019         │ 7            │ P              │ 2019-07-31     │ 2018-08-29  │ SPR         │ 20190731       │ 303358             │ \u001b[90mmissing\u001b[39m       │ \u001b[90mmissing\u001b[39m     │ N                       │ 49703     │ 91889D       │ AB2         │ 20241001 │ SEN            │ \u001b[90mmissing\u001b[39m         │ N           │ N           │ N            │ N            │ N         │ 303358.0     │ 20190731      │ 1000.0        │ N         │ \u001b[90mmissing\u001b[39m         │ Y          │ N                 │ N       │ N                 │ CDEB      │ N         │ N            │ N        │ \u001b[90mmissing\u001b[39m             │ N                  │ F           │ N                │ 2/1          │ N        │ \u001b[90mmissing\u001b[39m       │ N         │ US91889DAB29 │ VALARIS PLC              │ 1              │ 12            │ N       │ N             │ 59261     │ 213111     │\n",
       "│ 4   │ 00846UAG6 │ A.GF        │ A              │ 20190701     │ 10:31:23     │ 3000.0       │ 102.628 │ D           │ 0.0         │ 0.0          │ D           │ D               │ Y             │ 2019         │ 7            │ P              │ 2019-07-01     │ 2018-09-26  │ MR          │ 20141029       │ 500000             │ \u001b[90mmissing\u001b[39m       │ N           │ N                       │ 36037     │ 00846U       │ AG6         │ 20200715 │ SEN            │ \u001b[90mmissing\u001b[39m         │ N           │ N           │ N            │ Y            │ N         │ 500000.0     │ 20100713      │ 1000.0        │ Y         │ \u001b[90mmissing\u001b[39m         │ Y          │ N                 │ N       │ N                 │ CDEB      │ N         │ N            │ Y        │ \u001b[90mmissing\u001b[39m             │ N                  │ F           │ N                │ 2/1          │ N        │ \u001b[90mmissing\u001b[39m       │ N         │ US00846UAG67 │ AGILENT TECHNOLOGIES INC │ 1              │ 10            │ N       │ N             │ 46935     │ 334515     │\n",
       "│ 5   │ 00846UAG6 │ A.GF        │ A              │ 20190701     │ 10:31:23     │ 15000.0      │ 102.818 │ S           │ 0.0         │ 30.0         │ C           │ D               │ \u001b[90mmissing\u001b[39m       │ 2019         │ 7            │ A              │ 2019-07-01     │ 2018-09-26  │ MR          │ 20141029       │ 500000             │ \u001b[90mmissing\u001b[39m       │ N           │ N                       │ 36037     │ 00846U       │ AG6         │ 20200715 │ SEN            │ \u001b[90mmissing\u001b[39m         │ N           │ N           │ N            │ Y            │ N         │ 500000.0     │ 20100713      │ 1000.0        │ Y         │ \u001b[90mmissing\u001b[39m         │ Y          │ N                 │ N       │ N                 │ CDEB      │ N         │ N            │ Y        │ \u001b[90mmissing\u001b[39m             │ N                  │ F           │ N                │ 2/1          │ N        │ \u001b[90mmissing\u001b[39m       │ N         │ US00846UAG67 │ AGILENT TECHNOLOGIES INC │ 1              │ 10            │ N       │ N             │ 46935     │ 334515     │"
      ]
     },
     "execution_count": 3,
     "metadata": {},
     "output_type": "execute_result"
    }
   ],
   "source": [
    "fdf = deepcopy(MergeDB.fdf)\n",
    "first(fdf, 5)"
   ]
  },
  {
   "cell_type": "markdown",
   "metadata": {},
   "source": [
    "#### Trading System-Contingent Covenant-Bond Stats"
   ]
  },
  {
   "cell_type": "markdown",
   "metadata": {},
   "source": [
    "ATTENTION: The sample here is restricted to non-MTN bonds with covenants"
   ]
  },
  {
   "cell_type": "code",
   "execution_count": 5,
   "metadata": {},
   "outputs": [
    {
     "name": "stdout",
     "output_type": "stream",
     "text": [
      "STATS ==========================================\n",
      "Stats for the sample of non-MTN bonds with covenants: \n",
      "\n",
      "ATS Bond Count: 7721\n",
      "OTC Bond Count: 8170\n",
      "ATS Bond Count (% of Total): 94.44648318042813\n",
      "\n",
      "ATS Trade Count: 557594\n",
      "OTC Trade Count: 2007289\n",
      "ATS Trade Count (% of Total): 21.73954913343026\n",
      "\n",
      "ATS Trade Volume: USD 63.40710385586995 tn\n",
      "OTC Trade Volume: USD 983.8730100876501 tn\n",
      "ATS Trade Volume (% of Total): 6.05445506046241\n",
      "================================================\n"
     ]
    }
   ],
   "source": [
    "function get_sbm_cov_stats(df, var)\n",
    "    resd = Dict{Symbol, Any}(:ats_val => cdf[cdf[:sbm_rt_cov] .== :ats_all_cov, var][1],\n",
    "                             :otc_val => cdf[cdf[:sbm_rt_cov] .== :otc_all_cov, var][1],\n",
    "                             :both_val => cdf[cdf[:sbm_rt_cov] .== :all_all_cov, var][1])\n",
    "    resd[:ats_perc_val] = (resd[:ats_val]/resd[:both_val]) * 100\n",
    "\n",
    "    return resd\n",
    "end\n",
    "\n",
    "println(\"STATS ==========================================\")\n",
    "println(\"Stats for the sample of non-MTN bonds with covenants: \\n\")\n",
    "resd = get_sbm_cov_stats(cdf, :bond_count)\n",
    "println(\"ATS Bond Count: \", Int64(resd[:ats_val]))\n",
    "println(\"OTC Bond Count: \", Int64(resd[:otc_val]))\n",
    "println(\"ATS Bond Count (% of Total): \", resd[:ats_perc_val], \"\\n\")\n",
    "\n",
    "resd = get_sbm_cov_stats(cdf, :trade_count)\n",
    "println(\"ATS Trade Count: \", Int64(resd[:ats_val]))\n",
    "println(\"OTC Trade Count: \", Int64(resd[:otc_val]))\n",
    "println(\"ATS Trade Count (% of Total): \", resd[:ats_perc_val], \"\\n\")\n",
    "\n",
    "resd = get_sbm_cov_stats(cdf, :trade_volume)\n",
    "println(\"ATS Trade Volume: USD \", resd[:ats_val], \" tn\")\n",
    "println(\"OTC Trade Volume: USD \", resd[:otc_val], \" tn\")\n",
    "println(\"ATS Trade Volume (% of Total): \", resd[:ats_perc_val])\n",
    "println(\"================================================\")"
   ]
  },
  {
   "cell_type": "code",
   "execution_count": 47,
   "metadata": {},
   "outputs": [
    {
     "data": {
      "text/plain": [
       "58.0747730652854"
      ]
     },
     "execution_count": 47,
     "metadata": {},
     "output_type": "execute_result"
    }
   ],
   "source": [
    "cov_bond_count = sdf[sdf[:, :sbm_rt_cov] .== :all_all_cov, :bond_count][1]\n",
    "ncov_bond_count = sdf[sdf[:, :sbm_rt_cov] .== :all_all_ncov, :bond_count][1]\n",
    "all_bond_count = size(unique(fdf[:, :cusip_id]), 1)\n",
    "count_diff = all_bond_count - (cov_bond_count + ncov_bond_count)\n",
    "cov_perc_bond_count = (ncov_bond_count/all_bond_count) * 100"
   ]
  },
  {
   "cell_type": "code",
   "execution_count": null,
   "metadata": {},
   "outputs": [],
   "source": []
  },
  {
   "cell_type": "code",
   "execution_count": null,
   "metadata": {},
   "outputs": [],
   "source": []
  },
  {
   "cell_type": "code",
   "execution_count": 7,
   "metadata": {},
   "outputs": [
    {
     "name": "stdout",
     "output_type": "stream",
     "text": [
      "148.306931 seconds (4.78 M allocations: 168.831 MiB, 6.17% gc time)\n",
      " \n",
      "Filename: 2019Q2.0_stats_by_cov_cat.csv\n",
      " \n",
      "Saving dataframe to folder: /home/artur/BondPricing/bond-data/data/Stats/2019...\n",
      "Done!\n",
      "510.281292 seconds (82.47 M allocations: 2.341 GiB, 1.74% gc time)\n",
      " \n",
      "Filename: 2019Q2.0_stats_by_num_cov.csv\n",
      " \n",
      "Saving dataframe to folder: /home/artur/BondPricing/bond-data/data/Stats/2019...\n",
      "Done!\n"
     ]
    }
   ],
   "source": [
    "dto = DataMod.data_obj_constructor()\n",
    "\n",
    "# Generate Trade Execution Quarter variable:\n",
    "if !(:trd_exctn_qtr in Symbol.(names(fdf)))\n",
    "    fdf[!, :trd_exctn_qtr] .= Int64.(ceil.(fdf[!, :trd_exctn_mo]/3))\n",
    "end\n",
    "\n",
    "# Groupby Date Variables:\n",
    "date_cols = [:trd_exctn_yr, :trd_exctn_qtr]\n",
    "# Form combinations of ATS, IG and COVENANT filters\n",
    "combdf =  StatsMod.get_filter_combinations()\n",
    "\n",
    "# STATS BY COVENANT CATEGORIES #######################################\n",
    "# Select cols and create smk indicator variable:\n",
    "ffdf = StatsMod.filter_selected(fdf; date_cols=date_cols)\n",
    "\n",
    "dfl_qtr = @time fetch(Distributed.@spawn [StatsMod.stats_generator(ffdf,\n",
    "                                       StatsMod.dfrow2dict(combdf, row);\n",
    "                                       groupby_date_cols=date_cols)\n",
    "                          for row in 1:size(combdf, 1)])\n",
    "scc = sort(vcat(dfl_qtr...), names(combdf))\n",
    "scc = StatsMod.gen_sbm_rt_cvt_cat_vars(scc)\n",
    "StatsMod.save_stats_data(dto, scc)\n",
    "\n",
    "# STATS BY NUMBER OF COVENANTS #######################################\n",
    "fdf[!, :sum_num_cov] .= sum([fdf[:, Symbol(:cg, x)] for x in 1:15])\n",
    "dfl = []\n",
    "combdf =  StatsMod.get_filter_combinations()\n",
    "combdf = StatsMod.gen_sbm_rt_cvt_cat_vars(combdf)\n",
    "\n",
    "dfl = @time fetch(Distributed.@spawn [StatsMod.compute_stats_by_num_cov(fdf, sbm, rt, combdf) for \n",
    "                    sbm in [:any, :ats, :otc], rt in [:any, :ig, :hy]])\n",
    "\n",
    "snc = vcat(dfl...)\n",
    "StatsMod.save_stats_data(dto, snc)"
   ]
  },
  {
   "cell_type": "code",
   "execution_count": 17,
   "metadata": {},
   "outputs": [
    {
     "name": "stdout",
     "output_type": "stream",
     "text": [
      "549.870895 seconds (81.15 M allocations: 2.277 GiB, 2.87% gc time)\n",
      " \n",
      "Filename: 2019Q2_stats_by_num_cov.csv\n",
      " \n",
      "Saving dataframe to folder: /home/artur/BondPricing/bond-data/data/Stats/2019...\n",
      "Done!\n"
     ]
    }
   ],
   "source": [
    "dto = DataMod.data_obj_constructor()\n",
    "\n",
    "# Generate Trade Execution Quarter variable:\n",
    "if !(:trd_exctn_qtr in Symbol.(names(fdf)))\n",
    "    fdf[!, :trd_exctn_qtr] .= Int64.(ceil.(fdf[!, :trd_exctn_mo]/3))\n",
    "end\n",
    "\n",
    "# Groupby Date Variables:\n",
    "date_cols = [:trd_exctn_yr, :trd_exctn_qtr]\n",
    "\n",
    "# STATS BY NUMBER OF COVENANTS #######################################\n",
    "fdf[!, :sum_num_cov] .= sum([fdf[:, Symbol(:cg, x)] for x in 1:15])\n",
    "dfl = []\n",
    "combdf =  StatsMod.get_filter_combinations()\n",
    "combdf = StatsMod.gen_sbm_rt_cvt_cat_vars(combdf)\n",
    "\n",
    "dfl = @time fetch(Distributed.@spawn [StatsMod.compute_stats_by_num_cov(fdf, sbm, rt, combdf) for \n",
    "                    sbm in [:any, :ats, :otc], rt in [:any, :ig, :hy]])\n",
    "\n",
    "snc = vcat(dfl...)\n",
    "StatsMod.save_stats_data(dto, snc)"
   ]
  },
  {
   "cell_type": "code",
   "execution_count": null,
   "metadata": {},
   "outputs": [],
   "source": []
  },
  {
   "cell_type": "code",
   "execution_count": null,
   "metadata": {},
   "outputs": [],
   "source": [
    "using DataFrames\n",
    "# Capture Job Number\n",
    "#job_num = parse(Int, ARGS[1])\n",
    "job_num = \"14\"\n",
    "println(\"job_num: \", job_num)\n",
    "\n",
    "# Define Year and Quarter\n",
    "min_yr = 2016\n",
    "max_yr = 2019\n",
    "yrqtr = DataFrames.crossjoin(DataFrame(:year => min_yr:max_yr), \n",
    "                             DataFrame(:qtr => 1:4))\n"
   ]
  },
  {
   "cell_type": "code",
   "execution_count": 2,
   "metadata": {},
   "outputs": [
    {
     "ename": "LoadError",
     "evalue": "UndefVarError: a not defined",
     "output_type": "error",
     "traceback": [
      "UndefVarError: a not defined",
      "",
      "Stacktrace:",
      " [1] top-level scope",
      " [2] include_string(::Function, ::Module, ::String, ::String) at ./loading.jl:1091",
      " [3] execute_code(::String, ::String) at /home/artur/.julia/packages/IJulia/a1SNk/src/execute_request.jl:27",
      " [4] execute_request(::ZMQ.Socket, ::IJulia.Msg) at /home/artur/.julia/packages/IJulia/a1SNk/src/execute_request.jl:86",
      " [5] #invokelatest#1 at ./essentials.jl:710 [inlined]",
      " [6] invokelatest at ./essentials.jl:709 [inlined]",
      " [7] eventloop(::ZMQ.Socket) at /home/artur/.julia/packages/IJulia/a1SNk/src/eventloop.jl:8",
      " [8] (::IJulia.var\"#15#18\")() at ./task.jl:356"
     ]
    }
   ],
   "source": [
    "a"
   ]
  },
  {
   "cell_type": "code",
   "execution_count": null,
   "metadata": {},
   "outputs": [],
   "source": []
  }
 ],
 "metadata": {
  "@webio": {
   "lastCommId": null,
   "lastKernelId": null
  },
  "kernelspec": {
   "display_name": "Julia 1.5.2",
   "language": "julia",
   "name": "julia-1.5"
  },
  "language_info": {
   "file_extension": ".jl",
   "mimetype": "application/julia",
   "name": "julia",
   "version": "1.5.2"
  }
 },
 "nbformat": 4,
 "nbformat_minor": 4
}
