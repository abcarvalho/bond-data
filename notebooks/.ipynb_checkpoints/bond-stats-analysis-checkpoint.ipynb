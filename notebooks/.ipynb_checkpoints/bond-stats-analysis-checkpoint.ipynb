{
 "cells": [
  {
   "cell_type": "code",
   "execution_count": 1,
   "metadata": {},
   "outputs": [
    {
     "data": {
      "text/plain": [
       "1000"
      ]
     },
     "execution_count": 1,
     "metadata": {},
     "output_type": "execute_result"
    }
   ],
   "source": [
    "using DataFrames\n",
    "using Printf\n",
    "using CSV\n",
    "using Dates\n",
    "using DayCounts\n",
    "# using Revise\n",
    "using VegaLite\n",
    "using Latexify\n",
    "\n",
    "using Distributed\n",
    "# if nprocs() == 1\n",
    "#     addprocs(11)\n",
    "# end\n",
    "# @everywhere main_path = \"/home/artur/BondPricing/bond-data\"\n",
    "# @everywhere module_path = string(main_path, \"/module\")\n",
    "# @everywhere script_path = string(main_path, \"/data-scripts\")\n",
    "# @everywhere include(string(joinpath(module_path, \"data_module\"), \".jl\"))\n",
    "# @everywhere include(string(joinpath(module_path, \"stats_module\"), \".jl\"))\n",
    "# @everywhere include(string(joinpath(module_path, \"plot_module\"), \".jl\"))\n",
    "\n",
    "main_path = \"/home/artur/BondPricing/bond-data\"\n",
    "module_path = string(main_path, \"/module\")\n",
    "script_path = string(main_path, \"/data-scripts\")\n",
    "include(string(joinpath(module_path, \"data_module\"), \".jl\"))\n",
    "include(string(joinpath(module_path, \"stats_module\"), \".jl\"))\n",
    "include(string(joinpath(module_path, \"plot_module\"), \".jl\"))\n",
    "\n",
    "\n",
    "ENV[\"LINES\"] = 100\n",
    "ENV[\"COLUMNS\"] = 1000"
   ]
  },
  {
   "cell_type": "code",
   "execution_count": 2,
   "metadata": {},
   "outputs": [
    {
     "name": "stdout",
     "output_type": "stream",
     "text": [
      "TRACE year: 2019\n",
      "TRACE quarter: 3\n"
     ]
    },
    {
     "name": "stderr",
     "output_type": "stream",
     "text": [
      "WARNING: replacing module DataMod.\n"
     ]
    },
    {
     "name": "stdout",
     "output_type": "stream",
     "text": [
      "Loading mergent_filtered dataframe...\n",
      " 41.038709 seconds (109.70 M allocations: 6.755 GiB, 38.39% gc time)\n",
      " 28.793795 seconds (70.94 M allocations: 3.866 GiB, 76.14% gc time)\n",
      "Step 1. Merging ID DataFrames...\n",
      "Step 2. By CUSIP and Trade Execution Date, find the last Rating Date... \n",
      "Step 3. Filter: for each (cusip, trade execution date) pair, keep only the last rating date...\n",
      "Step 4. Filter: for the (cusip, trade execution date, rating_date) tuples with \n",
      "        more than one RATING_TYPE observation, keep only the Moody's rating...\n",
      " 20.610664 seconds (30.11 M allocations: 2.539 GiB, 54.61% gc time)\n",
      "Unique CUSIPS in trace dataframe: 26033\n",
      "TRACE/MERGENT Matched CUSIPS Ratio (%): 74.91261091691315\n",
      "Conditional Success Rate (%): 99.99565621552121\n",
      " 51.088141 seconds (77.25 M allocations: 11.058 GiB, 49.11% gc time)\n",
      "Creating IG indicator...\n",
      "Creating AGE and TTM variables...\n",
      "Creating TRADE SIZE Categories...\n",
      "Creating ATS indicator...\n",
      "161.256692 seconds (443.49 M allocations: 31.244 GiB, 57.29% gc time)\n"
     ]
    },
    {
     "data": {
      "text/plain": [
       "Main.MergeDB"
      ]
     },
     "execution_count": 2,
     "metadata": {},
     "output_type": "execute_result"
    }
   ],
   "source": [
    "module MergeDB\n",
    "    using Distributed\n",
    "\n",
    "    main_path = \"/home/artur/BondPricing/bond-data\"\n",
    "    module_path = string(main_path, \"/module\")\n",
    "    script_path = string(main_path, \"/data-scripts\")\n",
    "    include(string(joinpath(module_path, \"data_module\"), \".jl\"))\n",
    "    include(string(joinpath(module_path, \"stats_module\"), \".jl\"))\n",
    "\n",
    "    yr = 2019\n",
    "    qtr = 3\n",
    "    ARGS=[string(yr), string(qtr)]\n",
    "    @time include(string(script_path, \"/merge_trace_mergent.jl\"))\n",
    "end"
   ]
  },
  {
   "cell_type": "code",
   "execution_count": 3,
   "metadata": {},
   "outputs": [
    {
     "data": {
      "text/html": [
       "<table class=\"data-frame\"><thead><tr><th></th><th>cusip_id</th><th>bond_sym_id</th><th>company_symbol</th><th>trd_exctn_dt</th><th>trd_exctn_tm</th><th>entrd_vol_qt</th><th>rptd_pr</th><th>rpt_side_cd</th><th>buy_cmsn_rt</th><th>sell_cmsn_rt</th><th>cntra_mp_id</th><th>rptg_party_type</th><th>ats_indicator</th><th>trd_exctn_yr</th><th>trd_exctn_mo</th><th>rpt_side_cpcty</th><th>trd_exctn_date</th><th>rating_date</th><th>RATING_TYPE</th><th>EFFECTIVE_DATE</th><th>AMOUNT_OUTSTANDING</th><th>FIX_FREQUENCY</th><th>PAY_IN_KIND</th><th>COUPON_CHANGE_INDICATOR</th><th>ISSUER_ID</th><th>ISSUER_CUSIP</th><th>ISSUE_CUSIP</th><th>MATURITY</th><th>SECURITY_LEVEL</th><th>SECURITY_PLEDGE</th><th>ENHANCEMENT</th><th>CONVERTIBLE</th><th>ASSET_BACKED</th><th>RULE_415_REG</th><th>RULE_144A</th><th>OFFERING_AMT</th><th>OFFERING_DATE</th><th>PRINCIPAL_AMT</th><th>COVENANTS</th><th>DEFEASANCE_TYPE</th><th>REDEEMABLE</th><th>REFUND_PROTECTION</th><th>PUTABLE</th><th>PRIVATE_PLACEMENT</th><th>BOND_TYPE</th><th>PERPETUAL</th><th>EXCHANGEABLE</th><th>FUNGIBLE</th><th>REGISTRATION_RIGHTS</th><th>PREFERRED_SECURITY</th><th>COUPON_TYPE</th><th>FOREIGN_CURRENCY</th><th>DENOMINATION</th><th>DEFEASED</th><th>DEFEASED_DATE</th><th>DEFAULTED</th><th>ISIN</th><th>CUSIP_NAME</th><th>INDUSTRY_GROUP</th><th>INDUSTRY_CODE</th><th>ESOP</th><th>IN_BANKRUPTCY</th><th>PARENT_ID</th><th>NAICS_CODE</th><th>COUNTRY_DOMICILE</th><th>CONSOLIDATION_MERGER</th><th>DIVIDENDS_RELATED_PAYMENTS_IS</th><th>FUNDED_DEBT_IS</th></tr><tr><th></th><th>String</th><th>String?</th><th>String?</th><th>String</th><th>String</th><th>Float64</th><th>Float64</th><th>String</th><th>Float64</th><th>Float64</th><th>String</th><th>String</th><th>String?</th><th>Int64</th><th>Int64</th><th>String</th><th>Date</th><th>Date</th><th>String</th><th>Int64?</th><th>String?</th><th>String?</th><th>String?</th><th>String?</th><th>Int64</th><th>String</th><th>String</th><th>Int64</th><th>String?</th><th>String?</th><th>String?</th><th>String?</th><th>String?</th><th>String?</th><th>String</th><th>Float64?</th><th>Int64</th><th>Float64</th><th>String?</th><th>String?</th><th>String?</th><th>String?</th><th>String?</th><th>String?</th><th>String</th><th>String</th><th>String?</th><th>String?</th><th>String?</th><th>String?</th><th>String?</th><th>String</th><th>String?</th><th>String?</th><th>Int64?</th><th>String?</th><th>String?</th><th>String</th><th>String?</th><th>String</th><th>String?</th><th>String?</th><th>Int64?</th><th>String?</th><th>String?</th><th>String?</th><th>String?</th><th>String?</th></tr></thead><tbody><p>5 rows × 136 columns (omitted printing of 68 columns)</p><tr><th>1</th><td>91889DAB2</td><td><em>missing</em></td><td><em>missing</em></td><td>20190731</td><td>11:16:00</td><td>5000.0</td><td>72.184</td><td>D</td><td>0.0</td><td>0.0</td><td>D</td><td>D</td><td>Y</td><td>2019</td><td>7</td><td>P</td><td>2019-07-31</td><td>2018-08-29</td><td>SPR</td><td>20190731</td><td>303358</td><td><em>missing</em></td><td><em>missing</em></td><td>N</td><td>49703</td><td>91889D</td><td>AB2</td><td>20241001</td><td>SEN</td><td><em>missing</em></td><td>N</td><td>N</td><td>N</td><td>N</td><td>N</td><td>303358.0</td><td>20190731</td><td>1000.0</td><td>N</td><td><em>missing</em></td><td>Y</td><td>N</td><td>N</td><td>N</td><td>CDEB</td><td>N</td><td>N</td><td>N</td><td><em>missing</em></td><td>N</td><td>F</td><td>N</td><td>2/1</td><td>N</td><td><em>missing</em></td><td>N</td><td>US91889DAB29</td><td>VALARIS PLC</td><td>1</td><td>12</td><td>N</td><td>N</td><td>59261</td><td>213111</td><td>GBR</td><td><em>missing</em></td><td><em>missing</em></td><td><em>missing</em></td></tr><tr><th>2</th><td>91889DAB2</td><td><em>missing</em></td><td><em>missing</em></td><td>20190731</td><td>11:16:00</td><td>5000.0</td><td>71.984</td><td>B</td><td>0.0</td><td>0.0</td><td>C</td><td>D</td><td><em>missing</em></td><td>2019</td><td>7</td><td>P</td><td>2019-07-31</td><td>2018-08-29</td><td>SPR</td><td>20190731</td><td>303358</td><td><em>missing</em></td><td><em>missing</em></td><td>N</td><td>49703</td><td>91889D</td><td>AB2</td><td>20241001</td><td>SEN</td><td><em>missing</em></td><td>N</td><td>N</td><td>N</td><td>N</td><td>N</td><td>303358.0</td><td>20190731</td><td>1000.0</td><td>N</td><td><em>missing</em></td><td>Y</td><td>N</td><td>N</td><td>N</td><td>CDEB</td><td>N</td><td>N</td><td>N</td><td><em>missing</em></td><td>N</td><td>F</td><td>N</td><td>2/1</td><td>N</td><td><em>missing</em></td><td>N</td><td>US91889DAB29</td><td>VALARIS PLC</td><td>1</td><td>12</td><td>N</td><td>N</td><td>59261</td><td>213111</td><td>GBR</td><td><em>missing</em></td><td><em>missing</em></td><td><em>missing</em></td></tr><tr><th>3</th><td>91889DAB2</td><td><em>missing</em></td><td><em>missing</em></td><td>20190731</td><td>11:17:00</td><td>5000.0</td><td>72.184</td><td>D</td><td>0.0</td><td>0.0</td><td>D</td><td>T</td><td>Y</td><td>2019</td><td>7</td><td>P</td><td>2019-07-31</td><td>2018-08-29</td><td>SPR</td><td>20190731</td><td>303358</td><td><em>missing</em></td><td><em>missing</em></td><td>N</td><td>49703</td><td>91889D</td><td>AB2</td><td>20241001</td><td>SEN</td><td><em>missing</em></td><td>N</td><td>N</td><td>N</td><td>N</td><td>N</td><td>303358.0</td><td>20190731</td><td>1000.0</td><td>N</td><td><em>missing</em></td><td>Y</td><td>N</td><td>N</td><td>N</td><td>CDEB</td><td>N</td><td>N</td><td>N</td><td><em>missing</em></td><td>N</td><td>F</td><td>N</td><td>2/1</td><td>N</td><td><em>missing</em></td><td>N</td><td>US91889DAB29</td><td>VALARIS PLC</td><td>1</td><td>12</td><td>N</td><td>N</td><td>59261</td><td>213111</td><td>GBR</td><td><em>missing</em></td><td><em>missing</em></td><td><em>missing</em></td></tr><tr><th>4</th><td>00846UAG6</td><td>A.GF</td><td>A</td><td>20190701</td><td>10:31:23</td><td>3000.0</td><td>102.628</td><td>D</td><td>0.0</td><td>0.0</td><td>D</td><td>D</td><td>Y</td><td>2019</td><td>7</td><td>P</td><td>2019-07-01</td><td>2018-09-26</td><td>MR</td><td>20141029</td><td>500000</td><td><em>missing</em></td><td>N</td><td>N</td><td>36037</td><td>00846U</td><td>AG6</td><td>20200715</td><td>SEN</td><td><em>missing</em></td><td>N</td><td>N</td><td>N</td><td>Y</td><td>N</td><td>500000.0</td><td>20100713</td><td>1000.0</td><td>Y</td><td><em>missing</em></td><td>Y</td><td>N</td><td>N</td><td>N</td><td>CDEB</td><td>N</td><td>N</td><td>Y</td><td><em>missing</em></td><td>N</td><td>F</td><td>N</td><td>2/1</td><td>N</td><td><em>missing</em></td><td>N</td><td>US00846UAG67</td><td>AGILENT TECHNOLOGIES INC</td><td>1</td><td>10</td><td>N</td><td>N</td><td>46935</td><td>334515</td><td>USA</td><td>N</td><td>N</td><td>N</td></tr><tr><th>5</th><td>00846UAG6</td><td>A.GF</td><td>A</td><td>20190701</td><td>10:31:23</td><td>15000.0</td><td>102.818</td><td>S</td><td>0.0</td><td>30.0</td><td>C</td><td>D</td><td><em>missing</em></td><td>2019</td><td>7</td><td>A</td><td>2019-07-01</td><td>2018-09-26</td><td>MR</td><td>20141029</td><td>500000</td><td><em>missing</em></td><td>N</td><td>N</td><td>36037</td><td>00846U</td><td>AG6</td><td>20200715</td><td>SEN</td><td><em>missing</em></td><td>N</td><td>N</td><td>N</td><td>Y</td><td>N</td><td>500000.0</td><td>20100713</td><td>1000.0</td><td>Y</td><td><em>missing</em></td><td>Y</td><td>N</td><td>N</td><td>N</td><td>CDEB</td><td>N</td><td>N</td><td>Y</td><td><em>missing</em></td><td>N</td><td>F</td><td>N</td><td>2/1</td><td>N</td><td><em>missing</em></td><td>N</td><td>US00846UAG67</td><td>AGILENT TECHNOLOGIES INC</td><td>1</td><td>10</td><td>N</td><td>N</td><td>46935</td><td>334515</td><td>USA</td><td>N</td><td>N</td><td>N</td></tr></tbody></table>"
      ],
      "text/latex": [
       "\\begin{tabular}{r|ccccccccccccccccccccccccccccccccccccccccccccccccccccccccccccccccccccc}\n",
       "\t& cusip\\_id & bond\\_sym\\_id & company\\_symbol & trd\\_exctn\\_dt & trd\\_exctn\\_tm & entrd\\_vol\\_qt & rptd\\_pr & rpt\\_side\\_cd & buy\\_cmsn\\_rt & sell\\_cmsn\\_rt & cntra\\_mp\\_id & rptg\\_party\\_type & ats\\_indicator & trd\\_exctn\\_yr & trd\\_exctn\\_mo & rpt\\_side\\_cpcty & trd\\_exctn\\_date & rating\\_date & RATING\\_TYPE & EFFECTIVE\\_DATE & AMOUNT\\_OUTSTANDING & FIX\\_FREQUENCY & PAY\\_IN\\_KIND & COUPON\\_CHANGE\\_INDICATOR & ISSUER\\_ID & ISSUER\\_CUSIP & ISSUE\\_CUSIP & MATURITY & SECURITY\\_LEVEL & SECURITY\\_PLEDGE & ENHANCEMENT & CONVERTIBLE & ASSET\\_BACKED & RULE\\_415\\_REG & RULE\\_144A & OFFERING\\_AMT & OFFERING\\_DATE & PRINCIPAL\\_AMT & COVENANTS & DEFEASANCE\\_TYPE & REDEEMABLE & REFUND\\_PROTECTION & PUTABLE & PRIVATE\\_PLACEMENT & BOND\\_TYPE & PERPETUAL & EXCHANGEABLE & FUNGIBLE & REGISTRATION\\_RIGHTS & PREFERRED\\_SECURITY & COUPON\\_TYPE & FOREIGN\\_CURRENCY & DENOMINATION & DEFEASED & DEFEASED\\_DATE & DEFAULTED & ISIN & CUSIP\\_NAME & INDUSTRY\\_GROUP & INDUSTRY\\_CODE & ESOP & IN\\_BANKRUPTCY & PARENT\\_ID & NAICS\\_CODE & COUNTRY\\_DOMICILE & CONSOLIDATION\\_MERGER & DIVIDENDS\\_RELATED\\_PAYMENTS\\_IS & FUNDED\\_DEBT\\_IS & \\\\\n",
       "\t\\hline\n",
       "\t& String & String? & String? & String & String & Float64 & Float64 & String & Float64 & Float64 & String & String & String? & Int64 & Int64 & String & Date & Date & String & Int64? & String? & String? & String? & String? & Int64 & String & String & Int64 & String? & String? & String? & String? & String? & String? & String & Float64? & Int64 & Float64 & String? & String? & String? & String? & String? & String? & String & String & String? & String? & String? & String? & String? & String & String? & String? & Int64? & String? & String? & String & String? & String & String? & String? & Int64? & String? & String? & String? & String? & String? & \\\\\n",
       "\t\\hline\n",
       "\t1 & 91889DAB2 & \\emph{missing} & \\emph{missing} & 20190731 & 11:16:00 & 5000.0 & 72.184 & D & 0.0 & 0.0 & D & D & Y & 2019 & 7 & P & 2019-07-31 & 2018-08-29 & SPR & 20190731 & 303358 & \\emph{missing} & \\emph{missing} & N & 49703 & 91889D & AB2 & 20241001 & SEN & \\emph{missing} & N & N & N & N & N & 303358.0 & 20190731 & 1000.0 & N & \\emph{missing} & Y & N & N & N & CDEB & N & N & N & \\emph{missing} & N & F & N & 2/1 & N & \\emph{missing} & N & US91889DAB29 & VALARIS PLC & 1 & 12 & N & N & 59261 & 213111 & GBR & \\emph{missing} & \\emph{missing} & \\emph{missing} & $\\dots$ \\\\\n",
       "\t2 & 91889DAB2 & \\emph{missing} & \\emph{missing} & 20190731 & 11:16:00 & 5000.0 & 71.984 & B & 0.0 & 0.0 & C & D & \\emph{missing} & 2019 & 7 & P & 2019-07-31 & 2018-08-29 & SPR & 20190731 & 303358 & \\emph{missing} & \\emph{missing} & N & 49703 & 91889D & AB2 & 20241001 & SEN & \\emph{missing} & N & N & N & N & N & 303358.0 & 20190731 & 1000.0 & N & \\emph{missing} & Y & N & N & N & CDEB & N & N & N & \\emph{missing} & N & F & N & 2/1 & N & \\emph{missing} & N & US91889DAB29 & VALARIS PLC & 1 & 12 & N & N & 59261 & 213111 & GBR & \\emph{missing} & \\emph{missing} & \\emph{missing} & $\\dots$ \\\\\n",
       "\t3 & 91889DAB2 & \\emph{missing} & \\emph{missing} & 20190731 & 11:17:00 & 5000.0 & 72.184 & D & 0.0 & 0.0 & D & T & Y & 2019 & 7 & P & 2019-07-31 & 2018-08-29 & SPR & 20190731 & 303358 & \\emph{missing} & \\emph{missing} & N & 49703 & 91889D & AB2 & 20241001 & SEN & \\emph{missing} & N & N & N & N & N & 303358.0 & 20190731 & 1000.0 & N & \\emph{missing} & Y & N & N & N & CDEB & N & N & N & \\emph{missing} & N & F & N & 2/1 & N & \\emph{missing} & N & US91889DAB29 & VALARIS PLC & 1 & 12 & N & N & 59261 & 213111 & GBR & \\emph{missing} & \\emph{missing} & \\emph{missing} & $\\dots$ \\\\\n",
       "\t4 & 00846UAG6 & A.GF & A & 20190701 & 10:31:23 & 3000.0 & 102.628 & D & 0.0 & 0.0 & D & D & Y & 2019 & 7 & P & 2019-07-01 & 2018-09-26 & MR & 20141029 & 500000 & \\emph{missing} & N & N & 36037 & 00846U & AG6 & 20200715 & SEN & \\emph{missing} & N & N & N & Y & N & 500000.0 & 20100713 & 1000.0 & Y & \\emph{missing} & Y & N & N & N & CDEB & N & N & Y & \\emph{missing} & N & F & N & 2/1 & N & \\emph{missing} & N & US00846UAG67 & AGILENT TECHNOLOGIES INC & 1 & 10 & N & N & 46935 & 334515 & USA & N & N & N & $\\dots$ \\\\\n",
       "\t5 & 00846UAG6 & A.GF & A & 20190701 & 10:31:23 & 15000.0 & 102.818 & S & 0.0 & 30.0 & C & D & \\emph{missing} & 2019 & 7 & A & 2019-07-01 & 2018-09-26 & MR & 20141029 & 500000 & \\emph{missing} & N & N & 36037 & 00846U & AG6 & 20200715 & SEN & \\emph{missing} & N & N & N & Y & N & 500000.0 & 20100713 & 1000.0 & Y & \\emph{missing} & Y & N & N & N & CDEB & N & N & Y & \\emph{missing} & N & F & N & 2/1 & N & \\emph{missing} & N & US00846UAG67 & AGILENT TECHNOLOGIES INC & 1 & 10 & N & N & 46935 & 334515 & USA & N & N & N & $\\dots$ \\\\\n",
       "\\end{tabular}\n"
      ],
      "text/plain": [
       "5×136 DataFrame. Omitted printing of 72 columns\n",
       "│ Row │ cusip_id  │ bond_sym_id │ company_symbol │ trd_exctn_dt │ trd_exctn_tm │ entrd_vol_qt │ rptd_pr │ rpt_side_cd │ buy_cmsn_rt │ sell_cmsn_rt │ cntra_mp_id │ rptg_party_type │ ats_indicator │ trd_exctn_yr │ trd_exctn_mo │ rpt_side_cpcty │ trd_exctn_date │ rating_date │ RATING_TYPE │ EFFECTIVE_DATE │ AMOUNT_OUTSTANDING │ FIX_FREQUENCY │ PAY_IN_KIND │ COUPON_CHANGE_INDICATOR │ ISSUER_ID │ ISSUER_CUSIP │ ISSUE_CUSIP │ MATURITY │ SECURITY_LEVEL │ SECURITY_PLEDGE │ ENHANCEMENT │ CONVERTIBLE │ ASSET_BACKED │ RULE_415_REG │ RULE_144A │ OFFERING_AMT │ OFFERING_DATE │ PRINCIPAL_AMT │ COVENANTS │ DEFEASANCE_TYPE │ REDEEMABLE │ REFUND_PROTECTION │ PUTABLE │ PRIVATE_PLACEMENT │ BOND_TYPE │ PERPETUAL │ EXCHANGEABLE │ FUNGIBLE │ REGISTRATION_RIGHTS │ PREFERRED_SECURITY │ COUPON_TYPE │ FOREIGN_CURRENCY │ DENOMINATION │ DEFEASED │ DEFEASED_DATE │ DEFAULTED │ ISIN         │ CUSIP_NAME               │ INDUSTRY_GROUP │ INDUSTRY_CODE │ ESOP    │ IN_BANKRUPTCY │ PARENT_ID │ NAICS_CODE │\n",
       "│     │ \u001b[90mString\u001b[39m    │ \u001b[90mString?\u001b[39m     │ \u001b[90mString?\u001b[39m        │ \u001b[90mString\u001b[39m       │ \u001b[90mString\u001b[39m       │ \u001b[90mFloat64\u001b[39m      │ \u001b[90mFloat64\u001b[39m │ \u001b[90mString\u001b[39m      │ \u001b[90mFloat64\u001b[39m     │ \u001b[90mFloat64\u001b[39m      │ \u001b[90mString\u001b[39m      │ \u001b[90mString\u001b[39m          │ \u001b[90mString?\u001b[39m       │ \u001b[90mInt64\u001b[39m        │ \u001b[90mInt64\u001b[39m        │ \u001b[90mString\u001b[39m         │ \u001b[90mDate\u001b[39m           │ \u001b[90mDate\u001b[39m        │ \u001b[90mString\u001b[39m      │ \u001b[90mInt64?\u001b[39m         │ \u001b[90mString?\u001b[39m            │ \u001b[90mString?\u001b[39m       │ \u001b[90mString?\u001b[39m     │ \u001b[90mUnion{Missing, String}\u001b[39m  │ \u001b[90mInt64\u001b[39m     │ \u001b[90mString\u001b[39m       │ \u001b[90mString\u001b[39m      │ \u001b[90mInt64\u001b[39m    │ \u001b[90mString?\u001b[39m        │ \u001b[90mString?\u001b[39m         │ \u001b[90mString?\u001b[39m     │ \u001b[90mString?\u001b[39m     │ \u001b[90mString?\u001b[39m      │ \u001b[90mString?\u001b[39m      │ \u001b[90mString\u001b[39m    │ \u001b[90mFloat64?\u001b[39m     │ \u001b[90mInt64\u001b[39m         │ \u001b[90mFloat64\u001b[39m       │ \u001b[90mString?\u001b[39m   │ \u001b[90mString?\u001b[39m         │ \u001b[90mString?\u001b[39m    │ \u001b[90mString?\u001b[39m           │ \u001b[90mString?\u001b[39m │ \u001b[90mString?\u001b[39m           │ \u001b[90mString\u001b[39m    │ \u001b[90mString\u001b[39m    │ \u001b[90mString?\u001b[39m      │ \u001b[90mString?\u001b[39m  │ \u001b[90mString?\u001b[39m             │ \u001b[90mString?\u001b[39m            │ \u001b[90mString?\u001b[39m     │ \u001b[90mString\u001b[39m           │ \u001b[90mString?\u001b[39m      │ \u001b[90mString?\u001b[39m  │ \u001b[90mInt64?\u001b[39m        │ \u001b[90mString?\u001b[39m   │ \u001b[90mString?\u001b[39m      │ \u001b[90mString\u001b[39m                   │ \u001b[90mString?\u001b[39m        │ \u001b[90mString\u001b[39m        │ \u001b[90mString?\u001b[39m │ \u001b[90mString?\u001b[39m       │ \u001b[90mInt64?\u001b[39m    │ \u001b[90mString?\u001b[39m    │\n",
       "├─────┼───────────┼─────────────┼────────────────┼──────────────┼──────────────┼──────────────┼─────────┼─────────────┼─────────────┼──────────────┼─────────────┼─────────────────┼───────────────┼──────────────┼──────────────┼────────────────┼────────────────┼─────────────┼─────────────┼────────────────┼────────────────────┼───────────────┼─────────────┼─────────────────────────┼───────────┼──────────────┼─────────────┼──────────┼────────────────┼─────────────────┼─────────────┼─────────────┼──────────────┼──────────────┼───────────┼──────────────┼───────────────┼───────────────┼───────────┼─────────────────┼────────────┼───────────────────┼─────────┼───────────────────┼───────────┼───────────┼──────────────┼──────────┼─────────────────────┼────────────────────┼─────────────┼──────────────────┼──────────────┼──────────┼───────────────┼───────────┼──────────────┼──────────────────────────┼────────────────┼───────────────┼─────────┼───────────────┼───────────┼────────────┤\n",
       "│ 1   │ 91889DAB2 │ \u001b[90mmissing\u001b[39m     │ \u001b[90mmissing\u001b[39m        │ 20190731     │ 11:16:00     │ 5000.0       │ 72.184  │ D           │ 0.0         │ 0.0          │ D           │ D               │ Y             │ 2019         │ 7            │ P              │ 2019-07-31     │ 2018-08-29  │ SPR         │ 20190731       │ 303358             │ \u001b[90mmissing\u001b[39m       │ \u001b[90mmissing\u001b[39m     │ N                       │ 49703     │ 91889D       │ AB2         │ 20241001 │ SEN            │ \u001b[90mmissing\u001b[39m         │ N           │ N           │ N            │ N            │ N         │ 303358.0     │ 20190731      │ 1000.0        │ N         │ \u001b[90mmissing\u001b[39m         │ Y          │ N                 │ N       │ N                 │ CDEB      │ N         │ N            │ N        │ \u001b[90mmissing\u001b[39m             │ N                  │ F           │ N                │ 2/1          │ N        │ \u001b[90mmissing\u001b[39m       │ N         │ US91889DAB29 │ VALARIS PLC              │ 1              │ 12            │ N       │ N             │ 59261     │ 213111     │\n",
       "│ 2   │ 91889DAB2 │ \u001b[90mmissing\u001b[39m     │ \u001b[90mmissing\u001b[39m        │ 20190731     │ 11:16:00     │ 5000.0       │ 71.984  │ B           │ 0.0         │ 0.0          │ C           │ D               │ \u001b[90mmissing\u001b[39m       │ 2019         │ 7            │ P              │ 2019-07-31     │ 2018-08-29  │ SPR         │ 20190731       │ 303358             │ \u001b[90mmissing\u001b[39m       │ \u001b[90mmissing\u001b[39m     │ N                       │ 49703     │ 91889D       │ AB2         │ 20241001 │ SEN            │ \u001b[90mmissing\u001b[39m         │ N           │ N           │ N            │ N            │ N         │ 303358.0     │ 20190731      │ 1000.0        │ N         │ \u001b[90mmissing\u001b[39m         │ Y          │ N                 │ N       │ N                 │ CDEB      │ N         │ N            │ N        │ \u001b[90mmissing\u001b[39m             │ N                  │ F           │ N                │ 2/1          │ N        │ \u001b[90mmissing\u001b[39m       │ N         │ US91889DAB29 │ VALARIS PLC              │ 1              │ 12            │ N       │ N             │ 59261     │ 213111     │\n",
       "│ 3   │ 91889DAB2 │ \u001b[90mmissing\u001b[39m     │ \u001b[90mmissing\u001b[39m        │ 20190731     │ 11:17:00     │ 5000.0       │ 72.184  │ D           │ 0.0         │ 0.0          │ D           │ T               │ Y             │ 2019         │ 7            │ P              │ 2019-07-31     │ 2018-08-29  │ SPR         │ 20190731       │ 303358             │ \u001b[90mmissing\u001b[39m       │ \u001b[90mmissing\u001b[39m     │ N                       │ 49703     │ 91889D       │ AB2         │ 20241001 │ SEN            │ \u001b[90mmissing\u001b[39m         │ N           │ N           │ N            │ N            │ N         │ 303358.0     │ 20190731      │ 1000.0        │ N         │ \u001b[90mmissing\u001b[39m         │ Y          │ N                 │ N       │ N                 │ CDEB      │ N         │ N            │ N        │ \u001b[90mmissing\u001b[39m             │ N                  │ F           │ N                │ 2/1          │ N        │ \u001b[90mmissing\u001b[39m       │ N         │ US91889DAB29 │ VALARIS PLC              │ 1              │ 12            │ N       │ N             │ 59261     │ 213111     │\n",
       "│ 4   │ 00846UAG6 │ A.GF        │ A              │ 20190701     │ 10:31:23     │ 3000.0       │ 102.628 │ D           │ 0.0         │ 0.0          │ D           │ D               │ Y             │ 2019         │ 7            │ P              │ 2019-07-01     │ 2018-09-26  │ MR          │ 20141029       │ 500000             │ \u001b[90mmissing\u001b[39m       │ N           │ N                       │ 36037     │ 00846U       │ AG6         │ 20200715 │ SEN            │ \u001b[90mmissing\u001b[39m         │ N           │ N           │ N            │ Y            │ N         │ 500000.0     │ 20100713      │ 1000.0        │ Y         │ \u001b[90mmissing\u001b[39m         │ Y          │ N                 │ N       │ N                 │ CDEB      │ N         │ N            │ Y        │ \u001b[90mmissing\u001b[39m             │ N                  │ F           │ N                │ 2/1          │ N        │ \u001b[90mmissing\u001b[39m       │ N         │ US00846UAG67 │ AGILENT TECHNOLOGIES INC │ 1              │ 10            │ N       │ N             │ 46935     │ 334515     │\n",
       "│ 5   │ 00846UAG6 │ A.GF        │ A              │ 20190701     │ 10:31:23     │ 15000.0      │ 102.818 │ S           │ 0.0         │ 30.0         │ C           │ D               │ \u001b[90mmissing\u001b[39m       │ 2019         │ 7            │ A              │ 2019-07-01     │ 2018-09-26  │ MR          │ 20141029       │ 500000             │ \u001b[90mmissing\u001b[39m       │ N           │ N                       │ 36037     │ 00846U       │ AG6         │ 20200715 │ SEN            │ \u001b[90mmissing\u001b[39m         │ N           │ N           │ N            │ Y            │ N         │ 500000.0     │ 20100713      │ 1000.0        │ Y         │ \u001b[90mmissing\u001b[39m         │ Y          │ N                 │ N       │ N                 │ CDEB      │ N         │ N            │ Y        │ \u001b[90mmissing\u001b[39m             │ N                  │ F           │ N                │ 2/1          │ N        │ \u001b[90mmissing\u001b[39m       │ N         │ US00846UAG67 │ AGILENT TECHNOLOGIES INC │ 1              │ 10            │ N       │ N             │ 46935     │ 334515     │"
      ]
     },
     "execution_count": 3,
     "metadata": {},
     "output_type": "execute_result"
    }
   ],
   "source": [
    "fdf = deepcopy(MergeDB.fdf)\n",
    "first(fdf, 5)"
   ]
  },
  {
   "cell_type": "markdown",
   "metadata": {},
   "source": [
    "### Trading System-, Covenant- and Credit-Rating-Contingent Stats"
   ]
  },
  {
   "cell_type": "markdown",
   "metadata": {},
   "source": [
    "Sample of All Non-MTN Bonds (with and without Covenants)"
   ]
  },
  {
   "cell_type": "code",
   "execution_count": 46,
   "metadata": {
    "scrolled": true
   },
   "outputs": [
    {
     "name": "stdout",
     "output_type": "stream",
     "text": [
      "  9.818597 seconds (1.69 M allocations: 1.192 GiB, 73.79% gc time)\n"
     ]
    },
    {
     "name": "stderr",
     "output_type": "stream",
     "text": [
      "WARNING: replacing module StatsMod.\n"
     ]
    },
    {
     "data": {
      "text/html": [
       "<table class=\"data-frame\"><thead><tr><th></th><th>variable</th><th>cr</th><th>ats</th><th>otc</th><th>all</th><th>ats_otc</th><th>ats_total</th><th>otc_total</th></tr><tr><th></th><th>Cat…</th><th>Symbol</th><th>Float64?</th><th>Float64?</th><th>Float64?</th><th>Float64</th><th>Float64</th><th>Float64</th></tr></thead><tbody><p>9 rows × 8 columns</p><tr><th>1</th><td>bond_count</td><td>ig</td><td>11013.0</td><td>12283.0</td><td>12287.0</td><td>89.6605</td><td>89.6313</td><td>99.9674</td></tr><tr><th>2</th><td>bond_count</td><td>hy</td><td>3388.0</td><td>7264.0</td><td>7267.0</td><td>46.641</td><td>46.6217</td><td>99.9587</td></tr><tr><th>3</th><td>bond_count</td><td>all</td><td>14375.0</td><td>19492.0</td><td>19499.0</td><td>73.7482</td><td>73.7217</td><td>99.9641</td></tr><tr><th>4</th><td>trade_count</td><td>ig</td><td>529966.0</td><td>1.96005e6</td><td>2.49002e6</td><td>27.0384</td><td>21.2836</td><td>78.7164</td></tr><tr><th>5</th><td>trade_count</td><td>hy</td><td>201740.0</td><td>654413.0</td><td>856153.0</td><td>30.8276</td><td>23.5635</td><td>76.4365</td></tr><tr><th>6</th><td>trade_count</td><td>all</td><td>731706.0</td><td>2.61446e6</td><td>3.34617e6</td><td>27.9869</td><td>21.867</td><td>78.133</td></tr><tr><th>7</th><td>trade_volume</td><td>ig</td><td>55.3163</td><td>932.761</td><td>988.078</td><td>5.93038</td><td>5.59837</td><td>94.4016</td></tr><tr><th>8</th><td>trade_volume</td><td>hy</td><td>21.8698</td><td>322.292</td><td>344.162</td><td>6.78569</td><td>6.35449</td><td>93.6455</td></tr><tr><th>9</th><td>trade_volume</td><td>all</td><td>77.186</td><td>1255.05</td><td>1332.24</td><td>6.15002</td><td>5.7937</td><td>94.2063</td></tr></tbody></table>"
      ],
      "text/latex": [
       "\\begin{tabular}{r|cccccccc}\n",
       "\t& variable & cr & ats & otc & all & ats\\_otc & ats\\_total & otc\\_total\\\\\n",
       "\t\\hline\n",
       "\t& Cat… & Symbol & Float64? & Float64? & Float64? & Float64 & Float64 & Float64\\\\\n",
       "\t\\hline\n",
       "\t1 & bond\\_count & ig & 11013.0 & 12283.0 & 12287.0 & 89.6605 & 89.6313 & 99.9674 \\\\\n",
       "\t2 & bond\\_count & hy & 3388.0 & 7264.0 & 7267.0 & 46.641 & 46.6217 & 99.9587 \\\\\n",
       "\t3 & bond\\_count & all & 14375.0 & 19492.0 & 19499.0 & 73.7482 & 73.7217 & 99.9641 \\\\\n",
       "\t4 & trade\\_count & ig & 529966.0 & 1.96005e6 & 2.49002e6 & 27.0384 & 21.2836 & 78.7164 \\\\\n",
       "\t5 & trade\\_count & hy & 201740.0 & 654413.0 & 856153.0 & 30.8276 & 23.5635 & 76.4365 \\\\\n",
       "\t6 & trade\\_count & all & 731706.0 & 2.61446e6 & 3.34617e6 & 27.9869 & 21.867 & 78.133 \\\\\n",
       "\t7 & trade\\_volume & ig & 55.3163 & 932.761 & 988.078 & 5.93038 & 5.59837 & 94.4016 \\\\\n",
       "\t8 & trade\\_volume & hy & 21.8698 & 322.292 & 344.162 & 6.78569 & 6.35449 & 93.6455 \\\\\n",
       "\t9 & trade\\_volume & all & 77.186 & 1255.05 & 1332.24 & 6.15002 & 5.7937 & 94.2063 \\\\\n",
       "\\end{tabular}\n"
      ],
      "text/plain": [
       "9×8 DataFrame\n",
       "│ Row │ variable     │ cr     │ ats      │ otc       │ all       │ ats_otc │ ats_total │ otc_total │\n",
       "│     │ \u001b[90mCategorical…\u001b[39m │ \u001b[90mSymbol\u001b[39m │ \u001b[90mFloat64?\u001b[39m │ \u001b[90mFloat64?\u001b[39m  │ \u001b[90mFloat64?\u001b[39m  │ \u001b[90mFloat64\u001b[39m │ \u001b[90mFloat64\u001b[39m   │ \u001b[90mFloat64\u001b[39m   │\n",
       "├─────┼──────────────┼────────┼──────────┼───────────┼───────────┼─────────┼───────────┼───────────┤\n",
       "│ 1   │ bond_count   │ ig     │ 11013.0  │ 12283.0   │ 12287.0   │ 89.6605 │ 89.6313   │ 99.9674   │\n",
       "│ 2   │ bond_count   │ hy     │ 3388.0   │ 7264.0    │ 7267.0    │ 46.641  │ 46.6217   │ 99.9587   │\n",
       "│ 3   │ bond_count   │ all    │ 14375.0  │ 19492.0   │ 19499.0   │ 73.7482 │ 73.7217   │ 99.9641   │\n",
       "│ 4   │ trade_count  │ ig     │ 529966.0 │ 1.96005e6 │ 2.49002e6 │ 27.0384 │ 21.2836   │ 78.7164   │\n",
       "│ 5   │ trade_count  │ hy     │ 201740.0 │ 654413.0  │ 856153.0  │ 30.8276 │ 23.5635   │ 76.4365   │\n",
       "│ 6   │ trade_count  │ all    │ 731706.0 │ 2.61446e6 │ 3.34617e6 │ 27.9869 │ 21.867    │ 78.133    │\n",
       "│ 7   │ trade_volume │ ig     │ 55.3163  │ 932.761   │ 988.078   │ 5.93038 │ 5.59837   │ 94.4016   │\n",
       "│ 8   │ trade_volume │ hy     │ 21.8698  │ 322.292   │ 344.162   │ 6.78569 │ 6.35449   │ 93.6455   │\n",
       "│ 9   │ trade_volume │ all    │ 77.186   │ 1255.05   │ 1332.24   │ 6.15002 │ 5.7937    │ 94.2063   │"
      ]
     },
     "execution_count": 46,
     "metadata": {},
     "output_type": "execute_result"
    }
   ],
   "source": [
    "# @everywhere include(string(joinpath(module_path, \"stats_module\"), \".jl\"))\n",
    "include(string(joinpath(module_path, \"stats_module\"), \".jl\"))\n",
    "\n",
    "# Create Trade Execution Quarter:\n",
    "fdf[:, :trd_exctn_qtr] = ceil.(fdf[:, :trd_exctn_mo] / 3.)\n",
    "\n",
    "# Year/Quarter Indicator\n",
    "yr_qtr_ind = .&(fdf[:, :trd_exctn_yr] .== MergeDB.yr, \n",
    "                fdf[:, :trd_exctn_qtr] .== MergeDB.qtr)\n",
    "\n",
    "# Select Variables\n",
    "cols = [:cusip_id, :entrd_vol_qt, :ig, :covenant, :ats]\n",
    "\n",
    "# Filter DataFrame\n",
    "ffdf = fdf[yr_qtr_ind, cols]\n",
    "\n",
    "# Array of Group-By Variables\n",
    "gbvars_vec = [Array{Symbol,1}([ ]), \n",
    "              [:ats],                 # Stats by SBM\n",
    "              [:ig],                  # Stats by CREDIT RATING\n",
    "              [:covenant],            # Stats by COVENANT\n",
    "              [:ats, :covenant],      # Stats by SBM, COVENANT\n",
    "              [:ats, :ig],            # Stats by SBM, CREDIT RATING\n",
    "              [:ig, :covenant],       # Stats by CREDIT RATING, COVENANT\n",
    "              [:ats, :ig, :covenant]]\n",
    "\n",
    "\n",
    "@time sdf_vec = fetch(@spawn [StatsMod.compute_stats(ffdf,gbvars) for gbvars in gbvars_vec])\n",
    "sdf = vcat(sdf_vec...)\n",
    "\n",
    "df = StatsMod.form_stats_table(sdf)"
   ]
  },
  {
   "cell_type": "code",
   "execution_count": 44,
   "metadata": {},
   "outputs": [
    {
     "data": {
      "text/latex": [
       "\\begin{equation}\n",
       "\\left[\n",
       "\\begin{array}{ccccccc}\n",
       "ig & 11013.00 & 12283.00 & 12287.00 & 89.66 & 89.63 & 99.97 \\\\\n",
       "hy & 3388.00 & 7264.00 & 7267.00 & 46.64 & 46.62 & 99.96 \\\\\n",
       "all & 14375.00 & 19492.00 & 19499.00 & 73.75 & 73.72 & 99.96 \\\\\n",
       "ig & 529966.00 & 1960049.00 & 2490015.00 & 27.04 & 21.28 & 78.72 \\\\\n",
       "hy & 201740.00 & 654413.00 & 856153.00 & 30.83 & 23.56 & 76.44 \\\\\n",
       "all & 731706.00 & 2614462.00 & 3346168.00 & 27.99 & 21.87 & 78.13 \\\\\n",
       "ig & 55.32 & 932.76 & 988.08 & 5.93 & 5.60 & 94.40 \\\\\n",
       "hy & 21.87 & 322.29 & 344.16 & 6.79 & 6.35 & 93.65 \\\\\n",
       "all & 77.19 & 1255.05 & 1332.24 & 6.15 & 5.79 & 94.21 \\\\\n",
       "\\end{array}\n",
       "\\right]\n",
       "\\end{equation}\n"
      ],
      "text/plain": [
       "L\"\\begin{equation}\n",
       "\\left[\n",
       "\\begin{array}{ccccccc}\n",
       "ig & 11013.00 & 12283.00 & 12287.00 & 89.66 & 89.63 & 99.97 \\\\\n",
       "hy & 3388.00 & 7264.00 & 7267.00 & 46.64 & 46.62 & 99.96 \\\\\n",
       "all & 14375.00 & 19492.00 & 19499.00 & 73.75 & 73.72 & 99.96 \\\\\n",
       "ig & 529966.00 & 1960049.00 & 2490015.00 & 27.04 & 21.28 & 78.72 \\\\\n",
       "hy & 201740.00 & 654413.00 & 856153.00 & 30.83 & 23.56 & 76.44 \\\\\n",
       "all & 731706.00 & 2614462.00 & 3346168.00 & 27.99 & 21.87 & 78.13 \\\\\n",
       "ig & 55.32 & 932.76 & 988.08 & 5.93 & 5.60 & 94.40 \\\\\n",
       "hy & 21.87 & 322.29 & 344.16 & 6.79 & 6.35 & 93.65 \\\\\n",
       "all & 77.19 & 1255.05 & 1332.24 & 6.15 & 5.79 & 94.21 \\\\\n",
       "\\end{array}\n",
       "\\right]\n",
       "\\end{equation}\n",
       "\""
      ]
     },
     "metadata": {},
     "output_type": "display_data"
    }
   ],
   "source": [
    "latexify(convert(Matrix, df[:, 2:end]); fmt=\"%.2f\") |> display"
   ]
  },
  {
   "cell_type": "code",
   "execution_count": 45,
   "metadata": {},
   "outputs": [
    {
     "name": "stdout",
     "output_type": "stream",
     "text": [
      "\\begin{equation}\n",
      "\\left[\n",
      "\\begin{array}{ccccccc}\n",
      "ig & 11013.00 & 12283.00 & 12287.00 & 89.66 & 89.63 & 99.97 \\\\\n",
      "hy & 3388.00 & 7264.00 & 7267.00 & 46.64 & 46.62 & 99.96 \\\\\n",
      "all & 14375.00 & 19492.00 & 19499.00 & 73.75 & 73.72 & 99.96 \\\\\n",
      "ig & 529966.00 & 1960049.00 & 2490015.00 & 27.04 & 21.28 & 78.72 \\\\\n",
      "hy & 201740.00 & 654413.00 & 856153.00 & 30.83 & 23.56 & 76.44 \\\\\n",
      "all & 731706.00 & 2614462.00 & 3346168.00 & 27.99 & 21.87 & 78.13 \\\\\n",
      "ig & 55.32 & 932.76 & 988.08 & 5.93 & 5.60 & 94.40 \\\\\n",
      "hy & 21.87 & 322.29 & 344.16 & 6.79 & 6.35 & 93.65 \\\\\n",
      "all & 77.19 & 1255.05 & 1332.24 & 6.15 & 5.79 & 94.21 \\\\\n",
      "\\end{array}\n",
      "\\right]\n",
      "\\end{equation}\n"
     ]
    }
   ],
   "source": [
    "latexify(convert(Matrix, df[:, 2:end]); fmt=\"%.2f\") |> print"
   ]
  },
  {
   "cell_type": "code",
   "execution_count": 216,
   "metadata": {},
   "outputs": [],
   "source": [
    "# using LatexPrint\n",
    "# lap(convert(Matrix, df))"
   ]
  },
  {
   "cell_type": "code",
   "execution_count": 219,
   "metadata": {},
   "outputs": [],
   "source": [
    "# using DataTables, TypedTables, IterableTables\n",
    "# using IndexedTables\n",
    "# using JuliaDB"
   ]
  },
  {
   "cell_type": "markdown",
   "metadata": {},
   "source": [
    "#### Trading System-Contingent Covenant-Bond Stats"
   ]
  },
  {
   "cell_type": "markdown",
   "metadata": {},
   "source": [
    "ATTENTION: The sample here is restricted to non-MTN bonds with covenants"
   ]
  },
  {
   "cell_type": "code",
   "execution_count": 5,
   "metadata": {},
   "outputs": [
    {
     "name": "stdout",
     "output_type": "stream",
     "text": [
      "STATS ==========================================\n",
      "Stats for the sample of non-MTN bonds with covenants: \n",
      "\n",
      "ATS Bond Count: 7721\n",
      "OTC Bond Count: 8170\n",
      "ATS Bond Count (% of Total): 94.44648318042813\n",
      "\n",
      "ATS Trade Count: 557594\n",
      "OTC Trade Count: 2007289\n",
      "ATS Trade Count (% of Total): 21.73954913343026\n",
      "\n",
      "ATS Trade Volume: USD 63.40710385586995 tn\n",
      "OTC Trade Volume: USD 983.8730100876501 tn\n",
      "ATS Trade Volume (% of Total): 6.05445506046241\n",
      "================================================\n"
     ]
    }
   ],
   "source": [
    "function get_sbm_cov_stats(df, var)\n",
    "    resd = Dict{Symbol, Any}(:ats_val => cdf[cdf[:sbm_rt_cov] .== :ats_all_cov, var][1],\n",
    "                             :otc_val => cdf[cdf[:sbm_rt_cov] .== :otc_all_cov, var][1],\n",
    "                             :both_val => cdf[cdf[:sbm_rt_cov] .== :all_all_cov, var][1])\n",
    "    resd[:ats_perc_val] = (resd[:ats_val]/resd[:both_val]) * 100\n",
    "\n",
    "    return resd\n",
    "end\n",
    "\n",
    "println(\"STATS ==========================================\")\n",
    "println(\"Stats for the sample of non-MTN bonds with covenants: \\n\")\n",
    "resd = get_sbm_cov_stats(cdf, :bond_count)\n",
    "println(\"ATS Bond Count: \", Int64(resd[:ats_val]))\n",
    "println(\"OTC Bond Count: \", Int64(resd[:otc_val]))\n",
    "println(\"ATS Bond Count (% of Total): \", resd[:ats_perc_val], \"\\n\")\n",
    "\n",
    "resd = get_sbm_cov_stats(cdf, :trade_count)\n",
    "println(\"ATS Trade Count: \", Int64(resd[:ats_val]))\n",
    "println(\"OTC Trade Count: \", Int64(resd[:otc_val]))\n",
    "println(\"ATS Trade Count (% of Total): \", resd[:ats_perc_val], \"\\n\")\n",
    "\n",
    "resd = get_sbm_cov_stats(cdf, :trade_volume)\n",
    "println(\"ATS Trade Volume: USD \", resd[:ats_val], \" tn\")\n",
    "println(\"OTC Trade Volume: USD \", resd[:otc_val], \" tn\")\n",
    "println(\"ATS Trade Volume (% of Total): \", resd[:ats_perc_val])\n",
    "println(\"================================================\")"
   ]
  },
  {
   "cell_type": "code",
   "execution_count": 47,
   "metadata": {},
   "outputs": [
    {
     "data": {
      "text/plain": [
       "58.0747730652854"
      ]
     },
     "execution_count": 47,
     "metadata": {},
     "output_type": "execute_result"
    }
   ],
   "source": [
    "cov_bond_count = sdf[sdf[:, :sbm_rt_cov] .== :all_all_cov, :bond_count][1]\n",
    "ncov_bond_count = sdf[sdf[:, :sbm_rt_cov] .== :all_all_ncov, :bond_count][1]\n",
    "all_bond_count = size(unique(fdf[:, :cusip_id]), 1)\n",
    "count_diff = all_bond_count - (cov_bond_count + ncov_bond_count)\n",
    "cov_perc_bond_count = (ncov_bond_count/all_bond_count) * 100"
   ]
  },
  {
   "cell_type": "code",
   "execution_count": null,
   "metadata": {},
   "outputs": [],
   "source": []
  },
  {
   "cell_type": "code",
   "execution_count": null,
   "metadata": {},
   "outputs": [],
   "source": [
    "main_path = \"/home/artur/BondPricing/bond-data\"\n",
    "module_path = string(main_path, \"/module\")\n",
    "script_path = string(main_path, \"/data-scripts\")\n",
    "include(string(joinpath(module_path, \"data_module\"), \".jl\"))\n",
    "include(string(joinpath(module_path, \"stats_module\"), \".jl\"))\n",
    "include(string(joinpath(module_path, \"plot_module\"), \".jl\"))\n",
    "\n",
    "# Capture Job Number\n",
    "# job_num = parse(Int, ARGS[1])\n",
    "job_num = 15\n",
    "println(\"job_num: \", job_num)\n",
    "\n",
    "# Define Year and Quarter\n",
    "min_yr = 2016\n",
    "max_yr = 2019\n",
    "yrqtr = DataFrames.crossjoin(DataFrame(:year => min_yr:max_yr), DataFrame(:qtr => 1:4))\n",
    "\n",
    "# TRACE\n",
    "yr = yrqtr[job_num, :year]\n",
    "qtr = yrqtr[job_num, :qtr]\n",
    "\n",
    "\n",
    "# Merge TRACE and MERGENT\n",
    "# empty!(ARGS)\n",
    "# push!(ARGS, string(yr), string(qtr))\n",
    "# @time include(string(script_path, \"/merge_trace_mergent.jl\"))\n",
    "fdf = deepcopy(MergeDB.fdf)\n",
    "first(fdf, 5)\n",
    "\n",
    "dto = DataMod.data_obj_constructor()\n",
    "\n",
    "# Generate Trade Execution Quarter variable:\n",
    "if !(:trd_exctn_qtr in Symbol.(names(fdf)))\n",
    "    fdf[!, :trd_exctn_qtr] .= Int64.(ceil.(fdf[!, :trd_exctn_mo]/3))\n",
    "end\n",
    "\n",
    "# Groupby Date Variables:\n",
    "date_cols = [:trd_exctn_yr, :trd_exctn_qtr]\n",
    "# Form combinations of ATS, IG and COVENANT filters\n",
    "combdf =  StatsMod.get_filter_combinations()\n",
    "\n",
    "# STATS BY COVENANT CATEGORIES #######################################\n",
    "# Select cols and create smk indicator variable:\n",
    "ffdf = StatsMod.filter_selected(fdf; date_cols=date_cols)\n",
    "\n",
    "dfl_qtr = @time fetch(Distributed.@spawn [StatsMod.stats_generator(ffdf,\n",
    "                                       StatsMod.dfrow2dict(combdf, row);\n",
    "                                       groupby_date_cols=date_cols)\n",
    "                          for row in 1:size(combdf, 1)])\n",
    "scc = sort(vcat(dfl_qtr...), names(combdf))\n",
    "scc = StatsMod.gen_sbm_rt_cvt_cat_vars(scc)\n",
    "StatsMod.save_stats_data(dto, scc)\n",
    "\n",
    "# STATS BY NUMBER OF COVENANTS #######################################\n",
    "# Keep only the selected securities \n",
    "fdf = fdf[fdf[:, :selected], :]\n",
    "\n",
    "fdf[!, :sum_num_cov] .= sum([fdf[:, Symbol(:cg, x)] for x in 1:15])\n",
    "dfl = []\n",
    "combdf =  StatsMod.get_filter_combinations()\n",
    "combdf = StatsMod.gen_sbm_rt_cvt_cat_vars(combdf)\n",
    "\n",
    "dfl = @time fetch(Distributed.@spawn [StatsMod.compute_stats_by_num_cov(fdf, sbm, rt, combdf) for \n",
    "                    sbm in [:any, :ats, :otc], rt in [:any, :ig, :hy]])\n",
    "\n",
    "snc = vcat(dfl...)\n",
    "StatsMod.save_stats_data(dto, snc)"
   ]
  },
  {
   "cell_type": "code",
   "execution_count": null,
   "metadata": {},
   "outputs": [],
   "source": []
  },
  {
   "cell_type": "code",
   "execution_count": 7,
   "metadata": {},
   "outputs": [
    {
     "name": "stdout",
     "output_type": "stream",
     "text": [
      "148.306931 seconds (4.78 M allocations: 168.831 MiB, 6.17% gc time)\n",
      " \n",
      "Filename: 2019Q2.0_stats_by_cov_cat.csv\n",
      " \n",
      "Saving dataframe to folder: /home/artur/BondPricing/bond-data/data/Stats/2019...\n",
      "Done!\n",
      "510.281292 seconds (82.47 M allocations: 2.341 GiB, 1.74% gc time)\n",
      " \n",
      "Filename: 2019Q2.0_stats_by_num_cov.csv\n",
      " \n",
      "Saving dataframe to folder: /home/artur/BondPricing/bond-data/data/Stats/2019...\n",
      "Done!\n"
     ]
    }
   ],
   "source": [
    "dto = DataMod.data_obj_constructor()\n",
    "\n",
    "# Generate Trade Execution Quarter variable:\n",
    "if !(:trd_exctn_qtr in Symbol.(names(fdf)))\n",
    "    fdf[!, :trd_exctn_qtr] .= Int64.(ceil.(fdf[!, :trd_exctn_mo]/3))\n",
    "end\n",
    "\n",
    "# Groupby Date Variables:\n",
    "date_cols = [:trd_exctn_yr, :trd_exctn_qtr]\n",
    "# Form combinations of ATS, IG and COVENANT filters\n",
    "combdf =  StatsMod.get_filter_combinations()\n",
    "\n",
    "# STATS BY COVENANT CATEGORIES #######################################\n",
    "# Select cols and create smk indicator variable:\n",
    "ffdf = StatsMod.filter_selected(fdf; date_cols=date_cols)\n",
    "\n",
    "dfl_qtr = @time fetch(Distributed.@spawn [StatsMod.stats_generator(ffdf,\n",
    "                                       StatsMod.dfrow2dict(combdf, row);\n",
    "                                       groupby_date_cols=date_cols)\n",
    "                          for row in 1:size(combdf, 1)])\n",
    "scc = sort(vcat(dfl_qtr...), names(combdf))\n",
    "scc = StatsMod.gen_sbm_rt_cvt_cat_vars(scc)\n",
    "StatsMod.save_stats_data(dto, scc)\n",
    "\n",
    "# STATS BY NUMBER OF COVENANTS #######################################\n",
    "fdf[!, :sum_num_cov] .= sum([fdf[:, Symbol(:cg, x)] for x in 1:15])\n",
    "dfl = []\n",
    "combdf =  StatsMod.get_filter_combinations()\n",
    "combdf = StatsMod.gen_sbm_rt_cvt_cat_vars(combdf)\n",
    "\n",
    "dfl = @time fetch(Distributed.@spawn [StatsMod.compute_stats_by_num_cov(fdf, sbm, rt, combdf) for \n",
    "                    sbm in [:any, :ats, :otc], rt in [:any, :ig, :hy]])\n",
    "\n",
    "snc = vcat(dfl...)\n",
    "StatsMod.save_stats_data(dto, snc)"
   ]
  },
  {
   "cell_type": "code",
   "execution_count": 17,
   "metadata": {},
   "outputs": [
    {
     "name": "stdout",
     "output_type": "stream",
     "text": [
      "549.870895 seconds (81.15 M allocations: 2.277 GiB, 2.87% gc time)\n",
      " \n",
      "Filename: 2019Q2_stats_by_num_cov.csv\n",
      " \n",
      "Saving dataframe to folder: /home/artur/BondPricing/bond-data/data/Stats/2019...\n",
      "Done!\n"
     ]
    }
   ],
   "source": [
    "dto = DataMod.data_obj_constructor()\n",
    "\n",
    "# Generate Trade Execution Quarter variable:\n",
    "if !(:trd_exctn_qtr in Symbol.(names(fdf)))\n",
    "    fdf[!, :trd_exctn_qtr] .= Int64.(ceil.(fdf[!, :trd_exctn_mo]/3))\n",
    "end\n",
    "\n",
    "# Groupby Date Variables:\n",
    "date_cols = [:trd_exctn_yr, :trd_exctn_qtr]\n",
    "\n",
    "# STATS BY NUMBER OF COVENANTS #######################################\n",
    "fdf[!, :sum_num_cov] .= sum([fdf[:, Symbol(:cg, x)] for x in 1:15])\n",
    "dfl = []\n",
    "combdf =  StatsMod.get_filter_combinations()\n",
    "combdf = StatsMod.gen_sbm_rt_cvt_cat_vars(combdf)\n",
    "\n",
    "dfl = @time fetch(Distributed.@spawn [StatsMod.compute_stats_by_num_cov(fdf, sbm, rt, combdf) for \n",
    "                    sbm in [:any, :ats, :otc], rt in [:any, :ig, :hy]])\n",
    "\n",
    "snc = vcat(dfl...)\n",
    "StatsMod.save_stats_data(dto, snc)"
   ]
  },
  {
   "cell_type": "code",
   "execution_count": null,
   "metadata": {},
   "outputs": [],
   "source": []
  },
  {
   "cell_type": "code",
   "execution_count": 50,
   "metadata": {},
   "outputs": [
    {
     "name": "stdout",
     "output_type": "stream",
     "text": [
      " \n",
      "Filename: 2019Q3_stats_by_num_cov.csv\n",
      " \n",
      "Reading dataframe in folder: /home/artur/BondPricing/bond-data/data/Stats/2019...\n",
      "  0.284745 seconds (377.73 k allocations: 19.731 MiB)\n",
      " \n",
      "Filename: 2019Q3_stats_by_cov_cat.csv\n",
      " \n",
      "Reading dataframe in folder: /home/artur/BondPricing/bond-data/data/Stats/2019...\n",
      "  0.278725 seconds (325.93 k allocations: 16.560 MiB, 18.88% gc time)\n"
     ]
    },
    {
     "name": "stderr",
     "output_type": "stream",
     "text": [
      "WARNING: replacing module StatsMod.\n"
     ]
    },
    {
     "data": {
      "text/html": [
       "<table class=\"data-frame\"><thead><tr><th></th><th>trd_exctn_yr</th><th>trd_exctn_qtr</th><th>otc</th><th>hy</th><th>ig</th><th>ats</th><th>cov</th><th>ncov</th><th>total_trd_count</th><th>total_bonds</th><th>total_issuers</th><th>qt25_trd_vol</th><th>mean_trd_vol</th><th>median_trd_vol</th><th>qt75_trd_vol</th><th>total_trd_vol_tr</th><th>cg1_mean_trd_vol</th><th>cg2_mean_trd_vol</th><th>cg3_mean_trd_vol</th><th>cg4_mean_trd_vol</th><th>cg5_mean_trd_vol</th><th>cg6_mean_trd_vol</th><th>cg7_mean_trd_vol</th><th>cg8_mean_trd_vol</th><th>cg9_mean_trd_vol</th><th>cg10_mean_trd_vol</th><th>cg11_mean_trd_vol</th><th>cg12_mean_trd_vol</th><th>cg13_mean_trd_vol</th><th>cg14_mean_trd_vol</th><th>cg15_mean_trd_vol</th><th>cg1_median_trd_vol</th><th>cg2_median_trd_vol</th><th>cg3_median_trd_vol</th><th>cg4_median_trd_vol</th><th>cg5_median_trd_vol</th><th>cg6_median_trd_vol</th><th>cg7_median_trd_vol</th><th>cg8_median_trd_vol</th><th>cg9_median_trd_vol</th><th>cg10_median_trd_vol</th><th>cg11_median_trd_vol</th><th>cg12_median_trd_vol</th><th>cg13_median_trd_vol</th><th>cg14_median_trd_vol</th><th>cg15_median_trd_vol</th><th>cg1_trd_vol_tr</th><th>cg2_trd_vol_tr</th><th>cg3_trd_vol_tr</th><th>cg4_trd_vol_tr</th><th>cg5_trd_vol_tr</th><th>cg6_trd_vol_tr</th><th>cg7_trd_vol_tr</th><th>cg8_trd_vol_tr</th><th>cg9_trd_vol_tr</th><th>cg10_trd_vol_tr</th><th>cg11_trd_vol_tr</th><th>cg12_trd_vol_tr</th><th>cg13_trd_vol_tr</th><th>cg14_trd_vol_tr</th></tr><tr><th></th><th>Int64</th><th>Int64</th><th>Int64</th><th>Int64</th><th>Int64</th><th>Int64</th><th>Int64</th><th>Int64</th><th>Int64</th><th>Int64</th><th>Int64</th><th>Float64</th><th>Float64</th><th>Float64</th><th>Float64</th><th>Float64</th><th>Float64</th><th>Float64</th><th>Float64</th><th>Float64</th><th>Float64</th><th>Float64</th><th>Float64</th><th>Float64</th><th>Float64</th><th>Float64</th><th>Float64</th><th>Float64</th><th>Float64</th><th>Float64</th><th>Float64</th><th>Float64</th><th>Float64</th><th>Float64</th><th>Float64</th><th>Float64</th><th>Float64</th><th>Float64</th><th>Float64</th><th>Float64</th><th>Float64</th><th>Float64</th><th>Float64</th><th>Float64</th><th>Float64</th><th>Float64</th><th>Float64</th><th>Float64</th><th>Float64</th><th>Float64</th><th>Float64</th><th>Float64</th><th>Float64</th><th>Float64</th><th>Float64</th><th>Float64</th><th>Float64</th><th>Float64</th><th>Float64</th><th>Float64</th></tr></thead><tbody><p>5 rows × 109 columns (omitted printing of 49 columns)</p><tr><th>1</th><td>2019</td><td>3</td><td>0</td><td>0</td><td>0</td><td>0</td><td>0</td><td>0</td><td>2648236</td><td>8571</td><td>1975</td><td>10000.0</td><td>4.06564e5</td><td>25000.0</td><td>135000.0</td><td>1076.68</td><td>28318.1</td><td>3.06298e5</td><td>2314.22</td><td>6359.46</td><td>239.917</td><td>2.46883e5</td><td>3.94606e5</td><td>1.56104e5</td><td>18366.2</td><td>5869.48</td><td>3.37148e5</td><td>1.74325e5</td><td>312482.0</td><td>32538.8</td><td>3.10277e5</td><td>0.0</td><td>15000.0</td><td>0.0</td><td>0.0</td><td>0.0</td><td>8000.0</td><td>25000.0</td><td>0.0</td><td>0.0</td><td>0.0</td><td>20000.0</td><td>0.0</td><td>15000.0</td><td>0.0</td><td>15000.0</td><td>74.993</td><td>811.15</td><td>6.1286</td><td>16.8413</td><td>0.635358</td><td>653.805</td><td>1045.01</td><td>413.401</td><td>48.6381</td><td>15.5438</td><td>892.847</td><td>461.653</td><td>827.526</td><td>86.1704</td></tr><tr><th>2</th><td>2019</td><td>3</td><td>0</td><td>0</td><td>0</td><td>0</td><td>0</td><td>1</td><td>88751</td><td>440</td><td>215</td><td>10000.0</td><td>3.5684e5</td><td>25000.0</td><td>102000.0</td><td>31.6699</td><td>0.0</td><td>0.0</td><td>0.0</td><td>0.0</td><td>0.0</td><td>0.0</td><td>0.0</td><td>0.0</td><td>0.0</td><td>0.0</td><td>0.0</td><td>0.0</td><td>0.0</td><td>0.0</td><td>0.0</td><td>0.0</td><td>0.0</td><td>0.0</td><td>0.0</td><td>0.0</td><td>0.0</td><td>0.0</td><td>0.0</td><td>0.0</td><td>0.0</td><td>0.0</td><td>0.0</td><td>0.0</td><td>0.0</td><td>0.0</td><td>0.0</td><td>0.0</td><td>0.0</td><td>0.0</td><td>0.0</td><td>0.0</td><td>0.0</td><td>0.0</td><td>0.0</td><td>0.0</td><td>0.0</td><td>0.0</td><td>0.0</td><td>0.0</td></tr><tr><th>3</th><td>2019</td><td>3</td><td>0</td><td>0</td><td>0</td><td>0</td><td>1</td><td>0</td><td>2559485</td><td>8131</td><td>1902</td><td>10000.0</td><td>4.08289e5</td><td>25000.0</td><td>136000.0</td><td>1045.01</td><td>29300.0</td><td>3.16919e5</td><td>2394.47</td><td>6579.98</td><td>248.237</td><td>2.55444e5</td><td>4.08289e5</td><td>1.61517e5</td><td>19003.1</td><td>6073.0</td><td>3.48838e5</td><td>1.80369e5</td><td>3.23317e5</td><td>33667.1</td><td>3.21036e5</td><td>0.0</td><td>18000.0</td><td>0.0</td><td>0.0</td><td>0.0</td><td>10000.0</td><td>25000.0</td><td>0.0</td><td>0.0</td><td>0.0</td><td>20000.0</td><td>0.0</td><td>15000.0</td><td>0.0</td><td>15000.0</td><td>74.993</td><td>811.15</td><td>6.1286</td><td>16.8413</td><td>0.635358</td><td>653.805</td><td>1045.01</td><td>413.401</td><td>48.6381</td><td>15.5438</td><td>892.847</td><td>461.653</td><td>827.526</td><td>86.1704</td></tr><tr><th>4</th><td>2019</td><td>3</td><td>0</td><td>1</td><td>0</td><td>0</td><td>0</td><td>0</td><td>774595</td><td>1900</td><td>847</td><td>10000.0</td><td>395235.0</td><td>25000.0</td><td>139000.0</td><td>306.147</td><td>85833.8</td><td>2.8823e5</td><td>903.568</td><td>2178.61</td><td>559.425</td><td>2.83204e5</td><td>3.92277e5</td><td>1.45538e5</td><td>56990.2</td><td>10470.9</td><td>3.47885e5</td><td>2.67901e5</td><td>332384.0</td><td>1.03096e5</td><td>3.31219e5</td><td>0.0</td><td>15000.0</td><td>0.0</td><td>0.0</td><td>0.0</td><td>13000.0</td><td>25000.0</td><td>0.0</td><td>0.0</td><td>0.0</td><td>20000.0</td><td>10000.0</td><td>20000.0</td><td>0.0</td><td>20000.0</td><td>66.4865</td><td>223.262</td><td>0.6999</td><td>1.68754</td><td>0.433328</td><td>219.368</td><td>303.856</td><td>112.733</td><td>44.1443</td><td>8.11067</td><td>269.47</td><td>207.515</td><td>257.463</td><td>79.8575</td></tr><tr><th>5</th><td>2019</td><td>3</td><td>0</td><td>1</td><td>0</td><td>0</td><td>0</td><td>1</td><td>5341</td><td>54</td><td>29</td><td>10000.0</td><td>4.28935e5</td><td>50000.0</td><td>200000.0</td><td>2.29094</td><td>0.0</td><td>0.0</td><td>0.0</td><td>0.0</td><td>0.0</td><td>0.0</td><td>0.0</td><td>0.0</td><td>0.0</td><td>0.0</td><td>0.0</td><td>0.0</td><td>0.0</td><td>0.0</td><td>0.0</td><td>0.0</td><td>0.0</td><td>0.0</td><td>0.0</td><td>0.0</td><td>0.0</td><td>0.0</td><td>0.0</td><td>0.0</td><td>0.0</td><td>0.0</td><td>0.0</td><td>0.0</td><td>0.0</td><td>0.0</td><td>0.0</td><td>0.0</td><td>0.0</td><td>0.0</td><td>0.0</td><td>0.0</td><td>0.0</td><td>0.0</td><td>0.0</td><td>0.0</td><td>0.0</td><td>0.0</td><td>0.0</td><td>0.0</td></tr></tbody></table>"
      ],
      "text/latex": [
       "\\begin{tabular}{r|ccccccccccccccccccccccccccccccccccccccccccccccccccccccccccccc}\n",
       "\t& trd\\_exctn\\_yr & trd\\_exctn\\_qtr & otc & hy & ig & ats & cov & ncov & total\\_trd\\_count & total\\_bonds & total\\_issuers & qt25\\_trd\\_vol & mean\\_trd\\_vol & median\\_trd\\_vol & qt75\\_trd\\_vol & total\\_trd\\_vol\\_tr & cg1\\_mean\\_trd\\_vol & cg2\\_mean\\_trd\\_vol & cg3\\_mean\\_trd\\_vol & cg4\\_mean\\_trd\\_vol & cg5\\_mean\\_trd\\_vol & cg6\\_mean\\_trd\\_vol & cg7\\_mean\\_trd\\_vol & cg8\\_mean\\_trd\\_vol & cg9\\_mean\\_trd\\_vol & cg10\\_mean\\_trd\\_vol & cg11\\_mean\\_trd\\_vol & cg12\\_mean\\_trd\\_vol & cg13\\_mean\\_trd\\_vol & cg14\\_mean\\_trd\\_vol & cg15\\_mean\\_trd\\_vol & cg1\\_median\\_trd\\_vol & cg2\\_median\\_trd\\_vol & cg3\\_median\\_trd\\_vol & cg4\\_median\\_trd\\_vol & cg5\\_median\\_trd\\_vol & cg6\\_median\\_trd\\_vol & cg7\\_median\\_trd\\_vol & cg8\\_median\\_trd\\_vol & cg9\\_median\\_trd\\_vol & cg10\\_median\\_trd\\_vol & cg11\\_median\\_trd\\_vol & cg12\\_median\\_trd\\_vol & cg13\\_median\\_trd\\_vol & cg14\\_median\\_trd\\_vol & cg15\\_median\\_trd\\_vol & cg1\\_trd\\_vol\\_tr & cg2\\_trd\\_vol\\_tr & cg3\\_trd\\_vol\\_tr & cg4\\_trd\\_vol\\_tr & cg5\\_trd\\_vol\\_tr & cg6\\_trd\\_vol\\_tr & cg7\\_trd\\_vol\\_tr & cg8\\_trd\\_vol\\_tr & cg9\\_trd\\_vol\\_tr & cg10\\_trd\\_vol\\_tr & cg11\\_trd\\_vol\\_tr & cg12\\_trd\\_vol\\_tr & cg13\\_trd\\_vol\\_tr & cg14\\_trd\\_vol\\_tr & \\\\\n",
       "\t\\hline\n",
       "\t& Int64 & Int64 & Int64 & Int64 & Int64 & Int64 & Int64 & Int64 & Int64 & Int64 & Int64 & Float64 & Float64 & Float64 & Float64 & Float64 & Float64 & Float64 & Float64 & Float64 & Float64 & Float64 & Float64 & Float64 & Float64 & Float64 & Float64 & Float64 & Float64 & Float64 & Float64 & Float64 & Float64 & Float64 & Float64 & Float64 & Float64 & Float64 & Float64 & Float64 & Float64 & Float64 & Float64 & Float64 & Float64 & Float64 & Float64 & Float64 & Float64 & Float64 & Float64 & Float64 & Float64 & Float64 & Float64 & Float64 & Float64 & Float64 & Float64 & Float64 & \\\\\n",
       "\t\\hline\n",
       "\t1 & 2019 & 3 & 0 & 0 & 0 & 0 & 0 & 0 & 2648236 & 8571 & 1975 & 10000.0 & 4.06564e5 & 25000.0 & 135000.0 & 1076.68 & 28318.1 & 3.06298e5 & 2314.22 & 6359.46 & 239.917 & 2.46883e5 & 3.94606e5 & 1.56104e5 & 18366.2 & 5869.48 & 3.37148e5 & 1.74325e5 & 312482.0 & 32538.8 & 3.10277e5 & 0.0 & 15000.0 & 0.0 & 0.0 & 0.0 & 8000.0 & 25000.0 & 0.0 & 0.0 & 0.0 & 20000.0 & 0.0 & 15000.0 & 0.0 & 15000.0 & 74.993 & 811.15 & 6.1286 & 16.8413 & 0.635358 & 653.805 & 1045.01 & 413.401 & 48.6381 & 15.5438 & 892.847 & 461.653 & 827.526 & 86.1704 & $\\dots$ \\\\\n",
       "\t2 & 2019 & 3 & 0 & 0 & 0 & 0 & 0 & 1 & 88751 & 440 & 215 & 10000.0 & 3.5684e5 & 25000.0 & 102000.0 & 31.6699 & 0.0 & 0.0 & 0.0 & 0.0 & 0.0 & 0.0 & 0.0 & 0.0 & 0.0 & 0.0 & 0.0 & 0.0 & 0.0 & 0.0 & 0.0 & 0.0 & 0.0 & 0.0 & 0.0 & 0.0 & 0.0 & 0.0 & 0.0 & 0.0 & 0.0 & 0.0 & 0.0 & 0.0 & 0.0 & 0.0 & 0.0 & 0.0 & 0.0 & 0.0 & 0.0 & 0.0 & 0.0 & 0.0 & 0.0 & 0.0 & 0.0 & 0.0 & 0.0 & 0.0 & $\\dots$ \\\\\n",
       "\t3 & 2019 & 3 & 0 & 0 & 0 & 0 & 1 & 0 & 2559485 & 8131 & 1902 & 10000.0 & 4.08289e5 & 25000.0 & 136000.0 & 1045.01 & 29300.0 & 3.16919e5 & 2394.47 & 6579.98 & 248.237 & 2.55444e5 & 4.08289e5 & 1.61517e5 & 19003.1 & 6073.0 & 3.48838e5 & 1.80369e5 & 3.23317e5 & 33667.1 & 3.21036e5 & 0.0 & 18000.0 & 0.0 & 0.0 & 0.0 & 10000.0 & 25000.0 & 0.0 & 0.0 & 0.0 & 20000.0 & 0.0 & 15000.0 & 0.0 & 15000.0 & 74.993 & 811.15 & 6.1286 & 16.8413 & 0.635358 & 653.805 & 1045.01 & 413.401 & 48.6381 & 15.5438 & 892.847 & 461.653 & 827.526 & 86.1704 & $\\dots$ \\\\\n",
       "\t4 & 2019 & 3 & 0 & 1 & 0 & 0 & 0 & 0 & 774595 & 1900 & 847 & 10000.0 & 395235.0 & 25000.0 & 139000.0 & 306.147 & 85833.8 & 2.8823e5 & 903.568 & 2178.61 & 559.425 & 2.83204e5 & 3.92277e5 & 1.45538e5 & 56990.2 & 10470.9 & 3.47885e5 & 2.67901e5 & 332384.0 & 1.03096e5 & 3.31219e5 & 0.0 & 15000.0 & 0.0 & 0.0 & 0.0 & 13000.0 & 25000.0 & 0.0 & 0.0 & 0.0 & 20000.0 & 10000.0 & 20000.0 & 0.0 & 20000.0 & 66.4865 & 223.262 & 0.6999 & 1.68754 & 0.433328 & 219.368 & 303.856 & 112.733 & 44.1443 & 8.11067 & 269.47 & 207.515 & 257.463 & 79.8575 & $\\dots$ \\\\\n",
       "\t5 & 2019 & 3 & 0 & 1 & 0 & 0 & 0 & 1 & 5341 & 54 & 29 & 10000.0 & 4.28935e5 & 50000.0 & 200000.0 & 2.29094 & 0.0 & 0.0 & 0.0 & 0.0 & 0.0 & 0.0 & 0.0 & 0.0 & 0.0 & 0.0 & 0.0 & 0.0 & 0.0 & 0.0 & 0.0 & 0.0 & 0.0 & 0.0 & 0.0 & 0.0 & 0.0 & 0.0 & 0.0 & 0.0 & 0.0 & 0.0 & 0.0 & 0.0 & 0.0 & 0.0 & 0.0 & 0.0 & 0.0 & 0.0 & 0.0 & 0.0 & 0.0 & 0.0 & 0.0 & 0.0 & 0.0 & 0.0 & 0.0 & 0.0 & $\\dots$ \\\\\n",
       "\\end{tabular}\n"
      ],
      "text/plain": [
       "5×109 DataFrame. Omitted printing of 53 columns\n",
       "│ Row │ trd_exctn_yr │ trd_exctn_qtr │ otc   │ hy    │ ig    │ ats   │ cov   │ ncov  │ total_trd_count │ total_bonds │ total_issuers │ qt25_trd_vol │ mean_trd_vol │ median_trd_vol │ qt75_trd_vol │ total_trd_vol_tr │ cg1_mean_trd_vol │ cg2_mean_trd_vol │ cg3_mean_trd_vol │ cg4_mean_trd_vol │ cg5_mean_trd_vol │ cg6_mean_trd_vol │ cg7_mean_trd_vol │ cg8_mean_trd_vol │ cg9_mean_trd_vol │ cg10_mean_trd_vol │ cg11_mean_trd_vol │ cg12_mean_trd_vol │ cg13_mean_trd_vol │ cg14_mean_trd_vol │ cg15_mean_trd_vol │ cg1_median_trd_vol │ cg2_median_trd_vol │ cg3_median_trd_vol │ cg4_median_trd_vol │ cg5_median_trd_vol │ cg6_median_trd_vol │ cg7_median_trd_vol │ cg8_median_trd_vol │ cg9_median_trd_vol │ cg10_median_trd_vol │ cg11_median_trd_vol │ cg12_median_trd_vol │ cg13_median_trd_vol │ cg14_median_trd_vol │ cg15_median_trd_vol │ cg1_trd_vol_tr │ cg2_trd_vol_tr │ cg3_trd_vol_tr │ cg4_trd_vol_tr │ cg5_trd_vol_tr │ cg6_trd_vol_tr │ cg7_trd_vol_tr │ cg8_trd_vol_tr │ cg9_trd_vol_tr │ cg10_trd_vol_tr │\n",
       "│     │ \u001b[90mInt64\u001b[39m        │ \u001b[90mInt64\u001b[39m         │ \u001b[90mInt64\u001b[39m │ \u001b[90mInt64\u001b[39m │ \u001b[90mInt64\u001b[39m │ \u001b[90mInt64\u001b[39m │ \u001b[90mInt64\u001b[39m │ \u001b[90mInt64\u001b[39m │ \u001b[90mInt64\u001b[39m           │ \u001b[90mInt64\u001b[39m       │ \u001b[90mInt64\u001b[39m         │ \u001b[90mFloat64\u001b[39m      │ \u001b[90mFloat64\u001b[39m      │ \u001b[90mFloat64\u001b[39m        │ \u001b[90mFloat64\u001b[39m      │ \u001b[90mFloat64\u001b[39m          │ \u001b[90mFloat64\u001b[39m          │ \u001b[90mFloat64\u001b[39m          │ \u001b[90mFloat64\u001b[39m          │ \u001b[90mFloat64\u001b[39m          │ \u001b[90mFloat64\u001b[39m          │ \u001b[90mFloat64\u001b[39m          │ \u001b[90mFloat64\u001b[39m          │ \u001b[90mFloat64\u001b[39m          │ \u001b[90mFloat64\u001b[39m          │ \u001b[90mFloat64\u001b[39m           │ \u001b[90mFloat64\u001b[39m           │ \u001b[90mFloat64\u001b[39m           │ \u001b[90mFloat64\u001b[39m           │ \u001b[90mFloat64\u001b[39m           │ \u001b[90mFloat64\u001b[39m           │ \u001b[90mFloat64\u001b[39m            │ \u001b[90mFloat64\u001b[39m            │ \u001b[90mFloat64\u001b[39m            │ \u001b[90mFloat64\u001b[39m            │ \u001b[90mFloat64\u001b[39m            │ \u001b[90mFloat64\u001b[39m            │ \u001b[90mFloat64\u001b[39m            │ \u001b[90mFloat64\u001b[39m            │ \u001b[90mFloat64\u001b[39m            │ \u001b[90mFloat64\u001b[39m             │ \u001b[90mFloat64\u001b[39m             │ \u001b[90mFloat64\u001b[39m             │ \u001b[90mFloat64\u001b[39m             │ \u001b[90mFloat64\u001b[39m             │ \u001b[90mFloat64\u001b[39m             │ \u001b[90mFloat64\u001b[39m        │ \u001b[90mFloat64\u001b[39m        │ \u001b[90mFloat64\u001b[39m        │ \u001b[90mFloat64\u001b[39m        │ \u001b[90mFloat64\u001b[39m        │ \u001b[90mFloat64\u001b[39m        │ \u001b[90mFloat64\u001b[39m        │ \u001b[90mFloat64\u001b[39m        │ \u001b[90mFloat64\u001b[39m        │ \u001b[90mFloat64\u001b[39m         │\n",
       "├─────┼──────────────┼───────────────┼───────┼───────┼───────┼───────┼───────┼───────┼─────────────────┼─────────────┼───────────────┼──────────────┼──────────────┼────────────────┼──────────────┼──────────────────┼──────────────────┼──────────────────┼──────────────────┼──────────────────┼──────────────────┼──────────────────┼──────────────────┼──────────────────┼──────────────────┼───────────────────┼───────────────────┼───────────────────┼───────────────────┼───────────────────┼───────────────────┼────────────────────┼────────────────────┼────────────────────┼────────────────────┼────────────────────┼────────────────────┼────────────────────┼────────────────────┼────────────────────┼─────────────────────┼─────────────────────┼─────────────────────┼─────────────────────┼─────────────────────┼─────────────────────┼────────────────┼────────────────┼────────────────┼────────────────┼────────────────┼────────────────┼────────────────┼────────────────┼────────────────┼─────────────────┤\n",
       "│ 1   │ 2019         │ 3             │ 0     │ 0     │ 0     │ 0     │ 0     │ 0     │ 2648236         │ 8571        │ 1975          │ 10000.0      │ 4.06564e5    │ 25000.0        │ 135000.0     │ 1076.68          │ 28318.1          │ 3.06298e5        │ 2314.22          │ 6359.46          │ 239.917          │ 2.46883e5        │ 3.94606e5        │ 1.56104e5        │ 18366.2          │ 5869.48           │ 3.37148e5         │ 1.74325e5         │ 312482.0          │ 32538.8           │ 3.10277e5         │ 0.0                │ 15000.0            │ 0.0                │ 0.0                │ 0.0                │ 8000.0             │ 25000.0            │ 0.0                │ 0.0                │ 0.0                 │ 20000.0             │ 0.0                 │ 15000.0             │ 0.0                 │ 15000.0             │ 74.993         │ 811.15         │ 6.1286         │ 16.8413        │ 0.635358       │ 653.805        │ 1045.01        │ 413.401        │ 48.6381        │ 15.5438         │\n",
       "│ 2   │ 2019         │ 3             │ 0     │ 0     │ 0     │ 0     │ 0     │ 1     │ 88751           │ 440         │ 215           │ 10000.0      │ 3.5684e5     │ 25000.0        │ 102000.0     │ 31.6699          │ 0.0              │ 0.0              │ 0.0              │ 0.0              │ 0.0              │ 0.0              │ 0.0              │ 0.0              │ 0.0              │ 0.0               │ 0.0               │ 0.0               │ 0.0               │ 0.0               │ 0.0               │ 0.0                │ 0.0                │ 0.0                │ 0.0                │ 0.0                │ 0.0                │ 0.0                │ 0.0                │ 0.0                │ 0.0                 │ 0.0                 │ 0.0                 │ 0.0                 │ 0.0                 │ 0.0                 │ 0.0            │ 0.0            │ 0.0            │ 0.0            │ 0.0            │ 0.0            │ 0.0            │ 0.0            │ 0.0            │ 0.0             │\n",
       "│ 3   │ 2019         │ 3             │ 0     │ 0     │ 0     │ 0     │ 1     │ 0     │ 2559485         │ 8131        │ 1902          │ 10000.0      │ 4.08289e5    │ 25000.0        │ 136000.0     │ 1045.01          │ 29300.0          │ 3.16919e5        │ 2394.47          │ 6579.98          │ 248.237          │ 2.55444e5        │ 4.08289e5        │ 1.61517e5        │ 19003.1          │ 6073.0            │ 3.48838e5         │ 1.80369e5         │ 3.23317e5         │ 33667.1           │ 3.21036e5         │ 0.0                │ 18000.0            │ 0.0                │ 0.0                │ 0.0                │ 10000.0            │ 25000.0            │ 0.0                │ 0.0                │ 0.0                 │ 20000.0             │ 0.0                 │ 15000.0             │ 0.0                 │ 15000.0             │ 74.993         │ 811.15         │ 6.1286         │ 16.8413        │ 0.635358       │ 653.805        │ 1045.01        │ 413.401        │ 48.6381        │ 15.5438         │\n",
       "│ 4   │ 2019         │ 3             │ 0     │ 1     │ 0     │ 0     │ 0     │ 0     │ 774595          │ 1900        │ 847           │ 10000.0      │ 395235.0     │ 25000.0        │ 139000.0     │ 306.147          │ 85833.8          │ 2.8823e5         │ 903.568          │ 2178.61          │ 559.425          │ 2.83204e5        │ 3.92277e5        │ 1.45538e5        │ 56990.2          │ 10470.9           │ 3.47885e5         │ 2.67901e5         │ 332384.0          │ 1.03096e5         │ 3.31219e5         │ 0.0                │ 15000.0            │ 0.0                │ 0.0                │ 0.0                │ 13000.0            │ 25000.0            │ 0.0                │ 0.0                │ 0.0                 │ 20000.0             │ 10000.0             │ 20000.0             │ 0.0                 │ 20000.0             │ 66.4865        │ 223.262        │ 0.6999         │ 1.68754        │ 0.433328       │ 219.368        │ 303.856        │ 112.733        │ 44.1443        │ 8.11067         │\n",
       "│ 5   │ 2019         │ 3             │ 0     │ 1     │ 0     │ 0     │ 0     │ 1     │ 5341            │ 54          │ 29            │ 10000.0      │ 4.28935e5    │ 50000.0        │ 200000.0     │ 2.29094          │ 0.0              │ 0.0              │ 0.0              │ 0.0              │ 0.0              │ 0.0              │ 0.0              │ 0.0              │ 0.0              │ 0.0               │ 0.0               │ 0.0               │ 0.0               │ 0.0               │ 0.0               │ 0.0                │ 0.0                │ 0.0                │ 0.0                │ 0.0                │ 0.0                │ 0.0                │ 0.0                │ 0.0                │ 0.0                 │ 0.0                 │ 0.0                 │ 0.0                 │ 0.0                 │ 0.0                 │ 0.0            │ 0.0            │ 0.0            │ 0.0            │ 0.0            │ 0.0            │ 0.0            │ 0.0            │ 0.0            │ 0.0             │"
      ]
     },
     "execution_count": 50,
     "metadata": {},
     "output_type": "execute_result"
    }
   ],
   "source": [
    "@everywhere include(string(joinpath(module_path, \"stats_module\"), \".jl\"))\n",
    "\n",
    "dto = DataMod.data_obj_constructor()\n",
    "\n",
    "snc = @time StatsMod.load_stats_data(dto, 2019, 3; stats_by_num_cov=true)\n",
    "scc = @time StatsMod.load_stats_data(dto, 2019, 3; stats_by_num_cov=false)\n",
    "\n",
    "first(scc, 5)"
   ]
  },
  {
   "cell_type": "code",
   "execution_count": null,
   "metadata": {},
   "outputs": [],
   "source": []
  }
 ],
 "metadata": {
  "@webio": {
   "lastCommId": null,
   "lastKernelId": null
  },
  "kernelspec": {
   "display_name": "Julia 1.5.2",
   "language": "julia",
   "name": "julia-1.5"
  },
  "language_info": {
   "file_extension": ".jl",
   "mimetype": "application/julia",
   "name": "julia",
   "version": "1.5.2"
  }
 },
 "nbformat": 4,
 "nbformat_minor": 4
}
