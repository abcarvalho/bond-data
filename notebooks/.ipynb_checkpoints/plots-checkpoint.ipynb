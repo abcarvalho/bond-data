{
 "cells": [
  {
   "cell_type": "code",
   "execution_count": 1,
   "metadata": {},
   "outputs": [
    {
     "data": {
      "text/plain": [
       "1000"
      ]
     },
     "execution_count": 1,
     "metadata": {},
     "output_type": "execute_result"
    }
   ],
   "source": [
    "## using DataFrames\n",
    "using Printf\n",
    "using CSV\n",
    "using Dates\n",
    "using DayCounts\n",
    "using Revise\n",
    "using VegaLite\n",
    "\n",
    "main_path = \"/home/artur/BondPricing/bond-data\"\n",
    "module_path = string(main_path, \"/module\")\n",
    "script_path = string(main_path, \"/data-scripts\")\n",
    "include(string(joinpath(module_path, \"data_module\"), \".jl\"))\n",
    "include(string(joinpath(module_path, \"stats_module\"), \".jl\"))\n",
    "include(string(joinpath(module_path, \"plot_module\"), \".jl\"))\n",
    "\n",
    "ENV[\"LINES\"] = 100\n",
    "ENV[\"COLUMNS\"] = 1000"
   ]
  },
  {
   "cell_type": "code",
   "execution_count": 3,
   "metadata": {},
   "outputs": [
    {
     "data": {
      "text/plain": [
       "Main.DataMod.data_obj(\"/home/artur/BondPricing/bond-data\", \"data\", \"MERGED\", \"Stats\", \"merged\", Main.DataMod.trace_obj(\"TRACE\", \"/home/artur/BondPricing/bond-data/data/TRACE\", \"raw\", \"pre-processed\", \"processed\", \"filtered\", \"trace_enhanced\", \"cancel_trd\", \"reverse_trd\", \"original_trd\", \"processed\", \"filtered\", [\"cusip_id\", \"entrd_vol_qt\", \"rptd_pr\", \"trd_exctn_dt\", \"trd_exctn_tm\", \"trc_st\", \"rpt_side_cd\", \"cntra_mp_id\", \"msg_seq_nb\"], [\"cusip_id\", \"entrd_vol_qt\", \"rptd_pr\", \"trd_exctn_dt\", \"trd_exctn_tm\", \"trc_st\", \"rpt_side_cd\", \"cntra_mp_id\", \"orig_msg_seq_nb\"], Dict{String,DataType}(\"yld_sign_cd\" => String,\"first_trade_ctrl_num\" => Int64,\"sale_cndtn2_cd\" => String,\"yld_pt\" => Float64,\"asof_cd\" => String,\"sell_cmsn_rt\" => Float64,\"trd_exctn_tm\" => String,\"sale_cndtn_cd\" => String,\"days_to_sttl_ct\" => String,\"rptd_pr\" => Float64…)), Main.DataMod.mergent_obj(\"MERGENT\", \"/home/artur/BondPricing/bond-data/data/MERGENT\", \"mergent_fisd\", \"filtered\", Dict(:COUPON_INFO => [:ISSUE_ID, :DATED_DATE, :FIRST_INTEREST_DATE, :INTEREST_FREQUENCY, :COUPON, :PAY_IN_KIND, :PAY_IN_KIND_EXP_DATE, :COUPON_CHANGE_INDICATOR, :DAY_COUNT_BASIS, :LAST_INTEREST_DATE, :NEXT_INTEREST_DATE],:ISSUE_AFFECTED => [:ISSUER_ID_AFFECTED, :FILING_DATE, :ISSUE_ID, :SETTLEMENT],:ISSUE_OTHER => [:PROSPECTUS_ISSUER_NAME, :ISSUE_NAME, :COUPON_TYPE, :MTN, :YANKEE, :CANADIAN, :OID, :FOREIGN_CURRENCY, :SLOB, :SETTLEMENT_TYPE  …  :DEFAULTED, :TENDER_EXCH_OFFER, :REFUNDING_DATE, :OVERALLOTMENT_OPT, :ANNOUNCED_CALL, :DEP_ELIGIBILITY, :SUBSEQUENT_DATA, :PRESS_RELEASE, :ISIN, :SEDOL],:SUBS_RESTRICTIVE => [:ISSUE_ID, :DIVIDENDS_RELATED_PAYMENTS_SUB, :FUNDED_DEBT_SUB, :INDEBTEDNESS_SUB, :INVESTMENTS_UNRESTRICTED_SUBS, :SALES_LEASEBACK_SUB, :LIENS_SUB, :FIXED_CHARGE_COVERAGE_SUB, :LEVERAGE_TEST_SUB, :BORROWING_RESTRICTED, :STOCK_ISSUANCE, :PREFERRED_STOCK_ISSUANCE, :SALE_XFER_ASSETS_UNRESTRICTED, :SUBSIDIARY_REDESIGNATION, :SUBSIDIARY_GUARANTEE],:CONVERTIBLE => [:ISSUE_ID, :CONV_COMMOD_ISSUER, :CONV_COMMOD_TYPE, :CONV_COMMOD_CUSIP, :EXCHANGE, :TICKER, :CONV_PRICE, :QTY_OF_COMMOD, :PERCENT_OF_OUTSTANDING_COMMOD, :CONV_CASH  …  :REASON, :CHANGE_DATE, :SPLIT_DATE, :SPLIT_RATIO, :CONDITIONAL_CONV_TERMS, :SOFT_CALL_MAKE_WHOLE, :PEPS, :PERCS, :CONV_PROHIBITED_FROM, :CONVERT_ON_CALL],:ISSUER => [:ISSUER_ID, :AGENT_ID, :CUSIP_NAME, :INDUSTRY_GROUP, :INDUSTRY_CODE, :ESOP, :IN_BANKRUPTCY, :PARENT_ID, :NAICS_CODE, :COUNTRY_DOMICILE],:RATING => [:ISSUE_ID, :RATING_TYPE, :RATING_DATE, :RATING, :RATING_STATUS, :REASON, :RATING_STATUS_DATE, :INVESTMENT_GRADE],:CONVERTIBLE_ISSUER_HISTORY => [:ISSUE_ID, :AS_OF_DATE, :CONV_COMMOD_ISSUER, :AGENT_ID, :CONV_COMMOD_TYPE, :EXCHANGE, :CONV_COMMOD_CUSIP, :TICKER, :REASON, :DILUTION_PROTECTION, :CONV_EFF_DATE, :CONV_EXP_DATE, :CONV_CASH],:PUT => [:ISSUE_ID, :NOTIFICATION_PERIOD, :NEXT_PUT_DATE, :NEXT_PUT_PRICE],:CONVERTIBLE_ADDITIONAL_TERMS => [:ISSUE_ID, :COCO_START_DATE, :COCO_END_DATE, :COCO_INITIAL_TRIGGER_PERCENT, :COCO_TRIGGER_EXPRESSED_AS, :COCO_CHANGE_RATE, :COCO_MIN_TRIGGER_LEVEL, :COCO_CHANGE_FREQUENCY, :COCO_TRADE_DAYS, :COCO_TRADE_DAYS_IN_PREVIOUS  …  :SC_MAKE_WHOLE_END_DATE, :SC_MAKE_WHOLE_DECREMENT_TYPE, :SC_MAKE_WHOLE_INITIAL_AMOUNT, :SC_MAKE_WHOLE_CHANGE_PERCENT, :PEPS_MAX_CONVERSION_RATIO, :PEPS_MIN_CONVERSION_RATIO, :PEPS_HIGHER_PRICE, :PEPS_LOWER_PRICE, :PEPS_ISSUE_PRICE, :PERCS_MAX_PAYOFF]…)))"
      ]
     },
     "execution_count": 3,
     "metadata": {},
     "output_type": "execute_result"
    }
   ],
   "source": [
    "dto = DataMod.data_obj_constructor()"
   ]
  },
  {
   "cell_type": "code",
   "execution_count": 4,
   "metadata": {},
   "outputs": [
    {
     "name": "stdout",
     "output_type": "stream",
     "text": [
      " \n",
      "Filename: 2019Q1_stats_by_num_cov.csv\n",
      " \n",
      "Reading dataframe in folder: /home/artur/BondPricing/bond-data/data/Stats/2019...\n",
      " "
     ]
    },
    {
     "name": "stderr",
     "output_type": "stream",
     "text": [
      "WARNING: replacing module StatsMod.\n"
     ]
    },
    {
     "name": "stdout",
     "output_type": "stream",
     "text": [
      "\n",
      "Filename: 2019Q1_stats_by_cov_cat.csv\n",
      " \n",
      "Reading dataframe in folder: /home/artur/BondPricing/bond-data/data/Stats/2019...\n"
     ]
    },
    {
     "data": {
      "text/html": [
       "<table class=\"data-frame\"><thead><tr><th></th><th>trd_exctn_yr</th><th>trd_exctn_qtr</th><th>otc</th><th>hy</th><th>ig</th><th>ats</th><th>cov</th><th>ncov</th><th>total_trd_count</th><th>total_bonds</th><th>total_issuers</th><th>qt25_trd_vol</th><th>mean_trd_vol</th><th>median_trd_vol</th><th>qt75_trd_vol</th><th>total_trd_vol_tr</th><th>cg1_mean_trd_vol</th><th>cg2_mean_trd_vol</th><th>cg3_mean_trd_vol</th><th>cg4_mean_trd_vol</th><th>cg5_mean_trd_vol</th><th>cg6_mean_trd_vol</th><th>cg7_mean_trd_vol</th><th>cg8_mean_trd_vol</th><th>cg9_mean_trd_vol</th><th>cg10_mean_trd_vol</th><th>cg11_mean_trd_vol</th><th>cg12_mean_trd_vol</th><th>cg13_mean_trd_vol</th><th>cg14_mean_trd_vol</th><th>cg15_mean_trd_vol</th><th>cg1_median_trd_vol</th><th>cg2_median_trd_vol</th><th>cg3_median_trd_vol</th><th>cg4_median_trd_vol</th><th>cg5_median_trd_vol</th><th>cg6_median_trd_vol</th><th>cg7_median_trd_vol</th><th>cg8_median_trd_vol</th><th>cg9_median_trd_vol</th><th>cg10_median_trd_vol</th><th>cg11_median_trd_vol</th><th>cg12_median_trd_vol</th><th>cg13_median_trd_vol</th><th>cg14_median_trd_vol</th><th>cg15_median_trd_vol</th><th>cg1_trd_vol_tr</th><th>cg2_trd_vol_tr</th><th>cg3_trd_vol_tr</th><th>cg4_trd_vol_tr</th><th>cg5_trd_vol_tr</th><th>cg6_trd_vol_tr</th><th>cg7_trd_vol_tr</th><th>cg8_trd_vol_tr</th><th>cg9_trd_vol_tr</th><th>cg10_trd_vol_tr</th><th>cg11_trd_vol_tr</th><th>cg12_trd_vol_tr</th><th>cg13_trd_vol_tr</th><th>cg14_trd_vol_tr</th></tr><tr><th></th><th>Int64</th><th>Int64</th><th>Int64</th><th>Int64</th><th>Int64</th><th>Int64</th><th>Int64</th><th>Int64</th><th>Int64</th><th>Int64</th><th>Int64</th><th>Float64</th><th>Float64</th><th>Float64</th><th>Float64</th><th>Float64</th><th>Float64</th><th>Float64</th><th>Float64</th><th>Float64</th><th>Float64</th><th>Float64</th><th>Float64</th><th>Float64</th><th>Float64</th><th>Float64</th><th>Float64</th><th>Float64</th><th>Float64</th><th>Float64</th><th>Float64</th><th>Float64</th><th>Float64</th><th>Float64</th><th>Float64</th><th>Float64</th><th>Float64</th><th>Float64</th><th>Float64</th><th>Float64</th><th>Float64</th><th>Float64</th><th>Float64</th><th>Float64</th><th>Float64</th><th>Float64</th><th>Float64</th><th>Float64</th><th>Float64</th><th>Float64</th><th>Float64</th><th>Float64</th><th>Float64</th><th>Float64</th><th>Float64</th><th>Float64</th><th>Float64</th><th>Float64</th><th>Float64</th><th>Float64</th></tr></thead><tbody><p>5 rows × 109 columns (omitted printing of 49 columns)</p><tr><th>1</th><td>2019</td><td>1</td><td>0</td><td>0</td><td>0</td><td>0</td><td>0</td><td>0</td><td>2981038</td><td>8739</td><td>2030</td><td>10000.0</td><td>466783.0</td><td>25000.0</td><td>143000.0</td><td>1391.5</td><td>31309.6</td><td>3.49623e5</td><td>1932.9</td><td>8684.28</td><td>287.968</td><td>2.92832e5</td><td>4.51578e5</td><td>182971.0</td><td>19850.1</td><td>5185.72</td><td>380028.0</td><td>1.91872e5</td><td>3.52769e5</td><td>36098.4</td><td>3.49717e5</td><td>0.0</td><td>16000.0</td><td>0.0</td><td>0.0</td><td>0.0</td><td>9000.0</td><td>25000.0</td><td>0.0</td><td>0.0</td><td>0.0</td><td>20000.0</td><td>0.0</td><td>15000.0</td><td>0.0</td><td>15000.0</td><td>93.335</td><td>1042.24</td><td>5.76206</td><td>25.8882</td><td>0.858444</td><td>872.943</td><td>1346.17</td><td>545.444</td><td>59.1739</td><td>15.4588</td><td>1132.88</td><td>571.977</td><td>1051.62</td><td>107.611</td></tr><tr><th>2</th><td>2019</td><td>1</td><td>0</td><td>0</td><td>0</td><td>0</td><td>0</td><td>1</td><td>115298</td><td>463</td><td>220</td><td>10000.0</td><td>3.93122e5</td><td>25000.0</td><td>100000.0</td><td>45.3261</td><td>0.0</td><td>0.0</td><td>0.0</td><td>0.0</td><td>0.0</td><td>0.0</td><td>0.0</td><td>0.0</td><td>0.0</td><td>0.0</td><td>0.0</td><td>0.0</td><td>0.0</td><td>0.0</td><td>0.0</td><td>0.0</td><td>0.0</td><td>0.0</td><td>0.0</td><td>0.0</td><td>0.0</td><td>0.0</td><td>0.0</td><td>0.0</td><td>0.0</td><td>0.0</td><td>0.0</td><td>0.0</td><td>0.0</td><td>0.0</td><td>0.0</td><td>0.0</td><td>0.0</td><td>0.0</td><td>0.0</td><td>0.0</td><td>0.0</td><td>0.0</td><td>0.0</td><td>0.0</td><td>0.0</td><td>0.0</td><td>0.0</td><td>0.0</td></tr><tr><th>3</th><td>2019</td><td>1</td><td>0</td><td>0</td><td>0</td><td>0</td><td>1</td><td>0</td><td>2865740</td><td>8276</td><td>1954</td><td>10000.0</td><td>4.69747e5</td><td>25000.0</td><td>145000.0</td><td>1346.17</td><td>32569.2</td><td>3.63689e5</td><td>2010.67</td><td>9033.67</td><td>299.554</td><td>3.04613e5</td><td>4.69747e5</td><td>1.90333e5</td><td>20648.7</td><td>5394.36</td><td>3.95318e5</td><td>1.99591e5</td><td>3.66962e5</td><td>37550.7</td><td>3.63787e5</td><td>0.0</td><td>20000.0</td><td>0.0</td><td>0.0</td><td>0.0</td><td>10000.0</td><td>25000.0</td><td>0.0</td><td>0.0</td><td>0.0</td><td>20000.0</td><td>0.0</td><td>17000.0</td><td>0.0</td><td>15000.0</td><td>93.335</td><td>1042.24</td><td>5.76206</td><td>25.8882</td><td>0.858444</td><td>872.943</td><td>1346.17</td><td>545.444</td><td>59.1739</td><td>15.4588</td><td>1132.88</td><td>571.977</td><td>1051.62</td><td>107.611</td></tr><tr><th>4</th><td>2019</td><td>1</td><td>0</td><td>1</td><td>0</td><td>0</td><td>0</td><td>0</td><td>764711</td><td>1968</td><td>892</td><td>10000.0</td><td>4.86845e5</td><td>30000.0</td><td>200000.0</td><td>372.296</td><td>99301.0</td><td>3.4148e5</td><td>1732.13</td><td>4089.43</td><td>1036.08</td><td>3.72252e5</td><td>4.834e5</td><td>1.95702e5</td><td>69259.1</td><td>8732.28</td><td>4.4349e5</td><td>2.99642e5</td><td>4.19028e5</td><td>1.22905e5</td><td>4.17914e5</td><td>0.0</td><td>16000.0</td><td>0.0</td><td>0.0</td><td>0.0</td><td>15000.0</td><td>28000.0</td><td>0.0</td><td>0.0</td><td>0.0</td><td>25000.0</td><td>10000.0</td><td>23000.0</td><td>0.0</td><td>22000.0</td><td>75.9366</td><td>261.134</td><td>1.32458</td><td>3.12723</td><td>0.792303</td><td>284.665</td><td>369.661</td><td>149.655</td><td>52.9632</td><td>6.67767</td><td>339.142</td><td>229.139</td><td>320.435</td><td>93.9867</td></tr><tr><th>5</th><td>2019</td><td>1</td><td>0</td><td>1</td><td>0</td><td>0</td><td>0</td><td>1</td><td>5227</td><td>62</td><td>35</td><td>15000.0</td><td>5.0395e5</td><td>81000.0</td><td>275000.0</td><td>2.63415</td><td>0.0</td><td>0.0</td><td>0.0</td><td>0.0</td><td>0.0</td><td>0.0</td><td>0.0</td><td>0.0</td><td>0.0</td><td>0.0</td><td>0.0</td><td>0.0</td><td>0.0</td><td>0.0</td><td>0.0</td><td>0.0</td><td>0.0</td><td>0.0</td><td>0.0</td><td>0.0</td><td>0.0</td><td>0.0</td><td>0.0</td><td>0.0</td><td>0.0</td><td>0.0</td><td>0.0</td><td>0.0</td><td>0.0</td><td>0.0</td><td>0.0</td><td>0.0</td><td>0.0</td><td>0.0</td><td>0.0</td><td>0.0</td><td>0.0</td><td>0.0</td><td>0.0</td><td>0.0</td><td>0.0</td><td>0.0</td><td>0.0</td><td>0.0</td></tr></tbody></table>"
      ],
      "text/latex": [
       "\\begin{tabular}{r|ccccccccccccccccccccccccccccccccccccccccccccccccccccccccccccc}\n",
       "\t& trd\\_exctn\\_yr & trd\\_exctn\\_qtr & otc & hy & ig & ats & cov & ncov & total\\_trd\\_count & total\\_bonds & total\\_issuers & qt25\\_trd\\_vol & mean\\_trd\\_vol & median\\_trd\\_vol & qt75\\_trd\\_vol & total\\_trd\\_vol\\_tr & cg1\\_mean\\_trd\\_vol & cg2\\_mean\\_trd\\_vol & cg3\\_mean\\_trd\\_vol & cg4\\_mean\\_trd\\_vol & cg5\\_mean\\_trd\\_vol & cg6\\_mean\\_trd\\_vol & cg7\\_mean\\_trd\\_vol & cg8\\_mean\\_trd\\_vol & cg9\\_mean\\_trd\\_vol & cg10\\_mean\\_trd\\_vol & cg11\\_mean\\_trd\\_vol & cg12\\_mean\\_trd\\_vol & cg13\\_mean\\_trd\\_vol & cg14\\_mean\\_trd\\_vol & cg15\\_mean\\_trd\\_vol & cg1\\_median\\_trd\\_vol & cg2\\_median\\_trd\\_vol & cg3\\_median\\_trd\\_vol & cg4\\_median\\_trd\\_vol & cg5\\_median\\_trd\\_vol & cg6\\_median\\_trd\\_vol & cg7\\_median\\_trd\\_vol & cg8\\_median\\_trd\\_vol & cg9\\_median\\_trd\\_vol & cg10\\_median\\_trd\\_vol & cg11\\_median\\_trd\\_vol & cg12\\_median\\_trd\\_vol & cg13\\_median\\_trd\\_vol & cg14\\_median\\_trd\\_vol & cg15\\_median\\_trd\\_vol & cg1\\_trd\\_vol\\_tr & cg2\\_trd\\_vol\\_tr & cg3\\_trd\\_vol\\_tr & cg4\\_trd\\_vol\\_tr & cg5\\_trd\\_vol\\_tr & cg6\\_trd\\_vol\\_tr & cg7\\_trd\\_vol\\_tr & cg8\\_trd\\_vol\\_tr & cg9\\_trd\\_vol\\_tr & cg10\\_trd\\_vol\\_tr & cg11\\_trd\\_vol\\_tr & cg12\\_trd\\_vol\\_tr & cg13\\_trd\\_vol\\_tr & cg14\\_trd\\_vol\\_tr & \\\\\n",
       "\t\\hline\n",
       "\t& Int64 & Int64 & Int64 & Int64 & Int64 & Int64 & Int64 & Int64 & Int64 & Int64 & Int64 & Float64 & Float64 & Float64 & Float64 & Float64 & Float64 & Float64 & Float64 & Float64 & Float64 & Float64 & Float64 & Float64 & Float64 & Float64 & Float64 & Float64 & Float64 & Float64 & Float64 & Float64 & Float64 & Float64 & Float64 & Float64 & Float64 & Float64 & Float64 & Float64 & Float64 & Float64 & Float64 & Float64 & Float64 & Float64 & Float64 & Float64 & Float64 & Float64 & Float64 & Float64 & Float64 & Float64 & Float64 & Float64 & Float64 & Float64 & Float64 & Float64 & \\\\\n",
       "\t\\hline\n",
       "\t1 & 2019 & 1 & 0 & 0 & 0 & 0 & 0 & 0 & 2981038 & 8739 & 2030 & 10000.0 & 466783.0 & 25000.0 & 143000.0 & 1391.5 & 31309.6 & 3.49623e5 & 1932.9 & 8684.28 & 287.968 & 2.92832e5 & 4.51578e5 & 182971.0 & 19850.1 & 5185.72 & 380028.0 & 1.91872e5 & 3.52769e5 & 36098.4 & 3.49717e5 & 0.0 & 16000.0 & 0.0 & 0.0 & 0.0 & 9000.0 & 25000.0 & 0.0 & 0.0 & 0.0 & 20000.0 & 0.0 & 15000.0 & 0.0 & 15000.0 & 93.335 & 1042.24 & 5.76206 & 25.8882 & 0.858444 & 872.943 & 1346.17 & 545.444 & 59.1739 & 15.4588 & 1132.88 & 571.977 & 1051.62 & 107.611 & $\\dots$ \\\\\n",
       "\t2 & 2019 & 1 & 0 & 0 & 0 & 0 & 0 & 1 & 115298 & 463 & 220 & 10000.0 & 3.93122e5 & 25000.0 & 100000.0 & 45.3261 & 0.0 & 0.0 & 0.0 & 0.0 & 0.0 & 0.0 & 0.0 & 0.0 & 0.0 & 0.0 & 0.0 & 0.0 & 0.0 & 0.0 & 0.0 & 0.0 & 0.0 & 0.0 & 0.0 & 0.0 & 0.0 & 0.0 & 0.0 & 0.0 & 0.0 & 0.0 & 0.0 & 0.0 & 0.0 & 0.0 & 0.0 & 0.0 & 0.0 & 0.0 & 0.0 & 0.0 & 0.0 & 0.0 & 0.0 & 0.0 & 0.0 & 0.0 & 0.0 & 0.0 & $\\dots$ \\\\\n",
       "\t3 & 2019 & 1 & 0 & 0 & 0 & 0 & 1 & 0 & 2865740 & 8276 & 1954 & 10000.0 & 4.69747e5 & 25000.0 & 145000.0 & 1346.17 & 32569.2 & 3.63689e5 & 2010.67 & 9033.67 & 299.554 & 3.04613e5 & 4.69747e5 & 1.90333e5 & 20648.7 & 5394.36 & 3.95318e5 & 1.99591e5 & 3.66962e5 & 37550.7 & 3.63787e5 & 0.0 & 20000.0 & 0.0 & 0.0 & 0.0 & 10000.0 & 25000.0 & 0.0 & 0.0 & 0.0 & 20000.0 & 0.0 & 17000.0 & 0.0 & 15000.0 & 93.335 & 1042.24 & 5.76206 & 25.8882 & 0.858444 & 872.943 & 1346.17 & 545.444 & 59.1739 & 15.4588 & 1132.88 & 571.977 & 1051.62 & 107.611 & $\\dots$ \\\\\n",
       "\t4 & 2019 & 1 & 0 & 1 & 0 & 0 & 0 & 0 & 764711 & 1968 & 892 & 10000.0 & 4.86845e5 & 30000.0 & 200000.0 & 372.296 & 99301.0 & 3.4148e5 & 1732.13 & 4089.43 & 1036.08 & 3.72252e5 & 4.834e5 & 1.95702e5 & 69259.1 & 8732.28 & 4.4349e5 & 2.99642e5 & 4.19028e5 & 1.22905e5 & 4.17914e5 & 0.0 & 16000.0 & 0.0 & 0.0 & 0.0 & 15000.0 & 28000.0 & 0.0 & 0.0 & 0.0 & 25000.0 & 10000.0 & 23000.0 & 0.0 & 22000.0 & 75.9366 & 261.134 & 1.32458 & 3.12723 & 0.792303 & 284.665 & 369.661 & 149.655 & 52.9632 & 6.67767 & 339.142 & 229.139 & 320.435 & 93.9867 & $\\dots$ \\\\\n",
       "\t5 & 2019 & 1 & 0 & 1 & 0 & 0 & 0 & 1 & 5227 & 62 & 35 & 15000.0 & 5.0395e5 & 81000.0 & 275000.0 & 2.63415 & 0.0 & 0.0 & 0.0 & 0.0 & 0.0 & 0.0 & 0.0 & 0.0 & 0.0 & 0.0 & 0.0 & 0.0 & 0.0 & 0.0 & 0.0 & 0.0 & 0.0 & 0.0 & 0.0 & 0.0 & 0.0 & 0.0 & 0.0 & 0.0 & 0.0 & 0.0 & 0.0 & 0.0 & 0.0 & 0.0 & 0.0 & 0.0 & 0.0 & 0.0 & 0.0 & 0.0 & 0.0 & 0.0 & 0.0 & 0.0 & 0.0 & 0.0 & 0.0 & 0.0 & $\\dots$ \\\\\n",
       "\\end{tabular}\n"
      ],
      "text/plain": [
       "5×109 DataFrame. Omitted printing of 53 columns\n",
       "│ Row │ trd_exctn_yr │ trd_exctn_qtr │ otc   │ hy    │ ig    │ ats   │ cov   │ ncov  │ total_trd_count │ total_bonds │ total_issuers │ qt25_trd_vol │ mean_trd_vol │ median_trd_vol │ qt75_trd_vol │ total_trd_vol_tr │ cg1_mean_trd_vol │ cg2_mean_trd_vol │ cg3_mean_trd_vol │ cg4_mean_trd_vol │ cg5_mean_trd_vol │ cg6_mean_trd_vol │ cg7_mean_trd_vol │ cg8_mean_trd_vol │ cg9_mean_trd_vol │ cg10_mean_trd_vol │ cg11_mean_trd_vol │ cg12_mean_trd_vol │ cg13_mean_trd_vol │ cg14_mean_trd_vol │ cg15_mean_trd_vol │ cg1_median_trd_vol │ cg2_median_trd_vol │ cg3_median_trd_vol │ cg4_median_trd_vol │ cg5_median_trd_vol │ cg6_median_trd_vol │ cg7_median_trd_vol │ cg8_median_trd_vol │ cg9_median_trd_vol │ cg10_median_trd_vol │ cg11_median_trd_vol │ cg12_median_trd_vol │ cg13_median_trd_vol │ cg14_median_trd_vol │ cg15_median_trd_vol │ cg1_trd_vol_tr │ cg2_trd_vol_tr │ cg3_trd_vol_tr │ cg4_trd_vol_tr │ cg5_trd_vol_tr │ cg6_trd_vol_tr │ cg7_trd_vol_tr │ cg8_trd_vol_tr │ cg9_trd_vol_tr │ cg10_trd_vol_tr │\n",
       "│     │ \u001b[90mInt64\u001b[39m        │ \u001b[90mInt64\u001b[39m         │ \u001b[90mInt64\u001b[39m │ \u001b[90mInt64\u001b[39m │ \u001b[90mInt64\u001b[39m │ \u001b[90mInt64\u001b[39m │ \u001b[90mInt64\u001b[39m │ \u001b[90mInt64\u001b[39m │ \u001b[90mInt64\u001b[39m           │ \u001b[90mInt64\u001b[39m       │ \u001b[90mInt64\u001b[39m         │ \u001b[90mFloat64\u001b[39m      │ \u001b[90mFloat64\u001b[39m      │ \u001b[90mFloat64\u001b[39m        │ \u001b[90mFloat64\u001b[39m      │ \u001b[90mFloat64\u001b[39m          │ \u001b[90mFloat64\u001b[39m          │ \u001b[90mFloat64\u001b[39m          │ \u001b[90mFloat64\u001b[39m          │ \u001b[90mFloat64\u001b[39m          │ \u001b[90mFloat64\u001b[39m          │ \u001b[90mFloat64\u001b[39m          │ \u001b[90mFloat64\u001b[39m          │ \u001b[90mFloat64\u001b[39m          │ \u001b[90mFloat64\u001b[39m          │ \u001b[90mFloat64\u001b[39m           │ \u001b[90mFloat64\u001b[39m           │ \u001b[90mFloat64\u001b[39m           │ \u001b[90mFloat64\u001b[39m           │ \u001b[90mFloat64\u001b[39m           │ \u001b[90mFloat64\u001b[39m           │ \u001b[90mFloat64\u001b[39m            │ \u001b[90mFloat64\u001b[39m            │ \u001b[90mFloat64\u001b[39m            │ \u001b[90mFloat64\u001b[39m            │ \u001b[90mFloat64\u001b[39m            │ \u001b[90mFloat64\u001b[39m            │ \u001b[90mFloat64\u001b[39m            │ \u001b[90mFloat64\u001b[39m            │ \u001b[90mFloat64\u001b[39m            │ \u001b[90mFloat64\u001b[39m             │ \u001b[90mFloat64\u001b[39m             │ \u001b[90mFloat64\u001b[39m             │ \u001b[90mFloat64\u001b[39m             │ \u001b[90mFloat64\u001b[39m             │ \u001b[90mFloat64\u001b[39m             │ \u001b[90mFloat64\u001b[39m        │ \u001b[90mFloat64\u001b[39m        │ \u001b[90mFloat64\u001b[39m        │ \u001b[90mFloat64\u001b[39m        │ \u001b[90mFloat64\u001b[39m        │ \u001b[90mFloat64\u001b[39m        │ \u001b[90mFloat64\u001b[39m        │ \u001b[90mFloat64\u001b[39m        │ \u001b[90mFloat64\u001b[39m        │ \u001b[90mFloat64\u001b[39m         │\n",
       "├─────┼──────────────┼───────────────┼───────┼───────┼───────┼───────┼───────┼───────┼─────────────────┼─────────────┼───────────────┼──────────────┼──────────────┼────────────────┼──────────────┼──────────────────┼──────────────────┼──────────────────┼──────────────────┼──────────────────┼──────────────────┼──────────────────┼──────────────────┼──────────────────┼──────────────────┼───────────────────┼───────────────────┼───────────────────┼───────────────────┼───────────────────┼───────────────────┼────────────────────┼────────────────────┼────────────────────┼────────────────────┼────────────────────┼────────────────────┼────────────────────┼────────────────────┼────────────────────┼─────────────────────┼─────────────────────┼─────────────────────┼─────────────────────┼─────────────────────┼─────────────────────┼────────────────┼────────────────┼────────────────┼────────────────┼────────────────┼────────────────┼────────────────┼────────────────┼────────────────┼─────────────────┤\n",
       "│ 1   │ 2019         │ 1             │ 0     │ 0     │ 0     │ 0     │ 0     │ 0     │ 2981038         │ 8739        │ 2030          │ 10000.0      │ 466783.0     │ 25000.0        │ 143000.0     │ 1391.5           │ 31309.6          │ 3.49623e5        │ 1932.9           │ 8684.28          │ 287.968          │ 2.92832e5        │ 4.51578e5        │ 182971.0         │ 19850.1          │ 5185.72           │ 380028.0          │ 1.91872e5         │ 3.52769e5         │ 36098.4           │ 3.49717e5         │ 0.0                │ 16000.0            │ 0.0                │ 0.0                │ 0.0                │ 9000.0             │ 25000.0            │ 0.0                │ 0.0                │ 0.0                 │ 20000.0             │ 0.0                 │ 15000.0             │ 0.0                 │ 15000.0             │ 93.335         │ 1042.24        │ 5.76206        │ 25.8882        │ 0.858444       │ 872.943        │ 1346.17        │ 545.444        │ 59.1739        │ 15.4588         │\n",
       "│ 2   │ 2019         │ 1             │ 0     │ 0     │ 0     │ 0     │ 0     │ 1     │ 115298          │ 463         │ 220           │ 10000.0      │ 3.93122e5    │ 25000.0        │ 100000.0     │ 45.3261          │ 0.0              │ 0.0              │ 0.0              │ 0.0              │ 0.0              │ 0.0              │ 0.0              │ 0.0              │ 0.0              │ 0.0               │ 0.0               │ 0.0               │ 0.0               │ 0.0               │ 0.0               │ 0.0                │ 0.0                │ 0.0                │ 0.0                │ 0.0                │ 0.0                │ 0.0                │ 0.0                │ 0.0                │ 0.0                 │ 0.0                 │ 0.0                 │ 0.0                 │ 0.0                 │ 0.0                 │ 0.0            │ 0.0            │ 0.0            │ 0.0            │ 0.0            │ 0.0            │ 0.0            │ 0.0            │ 0.0            │ 0.0             │\n",
       "│ 3   │ 2019         │ 1             │ 0     │ 0     │ 0     │ 0     │ 1     │ 0     │ 2865740         │ 8276        │ 1954          │ 10000.0      │ 4.69747e5    │ 25000.0        │ 145000.0     │ 1346.17          │ 32569.2          │ 3.63689e5        │ 2010.67          │ 9033.67          │ 299.554          │ 3.04613e5        │ 4.69747e5        │ 1.90333e5        │ 20648.7          │ 5394.36           │ 3.95318e5         │ 1.99591e5         │ 3.66962e5         │ 37550.7           │ 3.63787e5         │ 0.0                │ 20000.0            │ 0.0                │ 0.0                │ 0.0                │ 10000.0            │ 25000.0            │ 0.0                │ 0.0                │ 0.0                 │ 20000.0             │ 0.0                 │ 17000.0             │ 0.0                 │ 15000.0             │ 93.335         │ 1042.24        │ 5.76206        │ 25.8882        │ 0.858444       │ 872.943        │ 1346.17        │ 545.444        │ 59.1739        │ 15.4588         │\n",
       "│ 4   │ 2019         │ 1             │ 0     │ 1     │ 0     │ 0     │ 0     │ 0     │ 764711          │ 1968        │ 892           │ 10000.0      │ 4.86845e5    │ 30000.0        │ 200000.0     │ 372.296          │ 99301.0          │ 3.4148e5         │ 1732.13          │ 4089.43          │ 1036.08          │ 3.72252e5        │ 4.834e5          │ 1.95702e5        │ 69259.1          │ 8732.28           │ 4.4349e5          │ 2.99642e5         │ 4.19028e5         │ 1.22905e5         │ 4.17914e5         │ 0.0                │ 16000.0            │ 0.0                │ 0.0                │ 0.0                │ 15000.0            │ 28000.0            │ 0.0                │ 0.0                │ 0.0                 │ 25000.0             │ 10000.0             │ 23000.0             │ 0.0                 │ 22000.0             │ 75.9366        │ 261.134        │ 1.32458        │ 3.12723        │ 0.792303       │ 284.665        │ 369.661        │ 149.655        │ 52.9632        │ 6.67767         │\n",
       "│ 5   │ 2019         │ 1             │ 0     │ 1     │ 0     │ 0     │ 0     │ 1     │ 5227            │ 62          │ 35            │ 15000.0      │ 5.0395e5     │ 81000.0        │ 275000.0     │ 2.63415          │ 0.0              │ 0.0              │ 0.0              │ 0.0              │ 0.0              │ 0.0              │ 0.0              │ 0.0              │ 0.0              │ 0.0               │ 0.0               │ 0.0               │ 0.0               │ 0.0               │ 0.0               │ 0.0                │ 0.0                │ 0.0                │ 0.0                │ 0.0                │ 0.0                │ 0.0                │ 0.0                │ 0.0                │ 0.0                 │ 0.0                 │ 0.0                 │ 0.0                 │ 0.0                 │ 0.0                 │ 0.0            │ 0.0            │ 0.0            │ 0.0            │ 0.0            │ 0.0            │ 0.0            │ 0.0            │ 0.0            │ 0.0             │"
      ]
     },
     "execution_count": 4,
     "metadata": {},
     "output_type": "execute_result"
    }
   ],
   "source": [
    "include(string(joinpath(module_path, \"stats_module\"), \".jl\"))\n",
    "snc = StatsMod.load_stats_data(dto, 2019, 1; stats_by_num_cov=true)\n",
    "scc = StatsMod.load_stats_data(dto, 2019, 1; stats_by_num_cov=false)\n",
    "\n",
    "first(scc, 5)"
   ]
  },
  {
   "cell_type": "code",
   "execution_count": 5,
   "metadata": {},
   "outputs": [
    {
     "data": {
      "text/plain": [
       "\"plots\""
      ]
     },
     "execution_count": 5,
     "metadata": {},
     "output_type": "execute_result"
    }
   ],
   "source": [
    "# Common Parameters {{{1\n",
    "col_var=\"sum_num_cov\"\n",
    "col_var_type=\"ordinal\"\n",
    "col_title=\"Number of Covenant Categories per Bond\"\n",
    "col_sort=\"ascending\"\n",
    "x_var=\"sbm:n\"\n",
    "x_var_type=\"nominal\"\n",
    "x_axis_title=\" \"\n",
    "width_step=18\n",
    "legend_title=\"Secondary Market\"\n",
    "spacing=1\n",
    "height=250\n",
    "save_plt=true\n",
    "plt_type = \"num_cov\"\n",
    "file_ext=\"png\"\n",
    "#\n",
    "save_plt=false\n",
    "scripts_path = string(main_path, \"/data-scripts\")\n",
    "plt_dir = \"plots\""
   ]
  },
  {
   "cell_type": "code",
   "execution_count": 112,
   "metadata": {},
   "outputs": [
    {
     "name": "stderr",
     "output_type": "stream",
     "text": [
      "WARNING: replacing module DataMod.\n",
      "WARNING: replacing module StatsMod.\n",
      "WARNING: replacing module PlotMod.\n",
      "WARNING: replacing module PlotMod.\n",
      "WARNING: replacing module PlotMod.\n",
      "WARNING: replacing module PlotMod.\n"
     ]
    },
    {
     "data": {
      "text/plain": [
       "18-element Array{Any,1}:\n",
       " VegaLite.VLSpec\n",
       " VegaLite.VLSpec\n",
       " VegaLite.VLSpec\n",
       " VegaLite.VLSpec\n",
       " VegaLite.VLSpec\n",
       " VegaLite.VLSpec\n",
       " VegaLite.VLSpec\n",
       " VegaLite.VLSpec\n",
       " VegaLite.VLSpec\n",
       " VegaLite.VLSpec\n",
       " VegaLite.VLSpec\n",
       " VegaLite.VLSpec\n",
       " VegaLite.VLSpec\n",
       " VegaLite.VLSpec\n",
       " VegaLite.VLSpec\n",
       " VegaLite.VLSpec\n",
       " VegaLite.VLSpec\n",
       " VegaLite.VLSpec"
      ]
     },
     "execution_count": 112,
     "metadata": {},
     "output_type": "execute_result"
    }
   ],
   "source": [
    "include(string(joinpath(scripts_path, \"plot_num_covs\"), \".jl\"))\n",
    "pl"
   ]
  },
  {
   "cell_type": "code",
   "execution_count": null,
   "metadata": {},
   "outputs": [],
   "source": []
  },
  {
   "cell_type": "code",
   "execution_count": null,
   "metadata": {},
   "outputs": [],
   "source": []
  }
 ],
 "metadata": {
  "kernelspec": {
   "display_name": "Julia 1.5.2",
   "language": "julia",
   "name": "julia-1.5"
  },
  "language_info": {
   "file_extension": ".jl",
   "mimetype": "application/julia",
   "name": "julia",
   "version": "1.5.2"
  }
 },
 "nbformat": 4,
 "nbformat_minor": 4
}
