{
 "cells": [
  {
   "cell_type": "code",
   "execution_count": 1,
   "metadata": {},
   "outputs": [
    {
     "name": "stderr",
     "output_type": "stream",
     "text": [
      "┌ Info: Precompiling VegaDatasets [0ae4a718-28b7-58ec-9efb-cded64d6d5b4]\n",
      "└ @ Base loading.jl:1278\n"
     ]
    },
    {
     "data": {
      "text/plain": [
       "1000"
      ]
     },
     "execution_count": 1,
     "metadata": {},
     "output_type": "execute_result"
    }
   ],
   "source": [
    "using DataFrames\n",
    "using Printf\n",
    "using CSV\n",
    "using Dates\n",
    "using DayCounts\n",
    "# using Revise\n",
    "using FileIO\n",
    "using VegaLite, VegaDatasets\n",
    "\n",
    "main_path = \"/home/artur/BondPricing/bond-data\"\n",
    "module_path = string(main_path, \"/module\")\n",
    "script_path = string(main_path, \"/data-scripts/plots\")\n",
    "include(string(joinpath(module_path, \"data_module\"), \".jl\"))\n",
    "include(string(joinpath(module_path, \"stats_module\"), \".jl\"))\n",
    "include(string(joinpath(module_path, \"plot_module\"), \".jl\"))\n",
    "ENV[\"LINES\"] = 100\n",
    "ENV[\"COLUMNS\"] = 1000"
   ]
  },
  {
   "cell_type": "code",
   "execution_count": 9,
   "metadata": {},
   "outputs": [
    {
     "data": {
      "text/plain": [
       "Main.DataMod.data_obj(\"/home/artur/BondPricing/bond-data\", \"data\", \"MERGED\", \"Stats\", \"merged\", Main.DataMod.trace_obj(\"TRACE\", \"/home/artur/BondPricing/bond-data/data/TRACE\", \"raw\", \"pre-processed\", \"processed\", \"filtered\", \"trace_enhanced\", \"cancel_trd\", \"reverse_trd\", \"original_trd\", \"processed\", \"filtered\", [\"cusip_id\", \"entrd_vol_qt\", \"rptd_pr\", \"trd_exctn_dt\", \"trd_exctn_tm\", \"trc_st\", \"rpt_side_cd\", \"cntra_mp_id\", \"msg_seq_nb\"], [\"cusip_id\", \"entrd_vol_qt\", \"rptd_pr\", \"trd_exctn_dt\", \"trd_exctn_tm\", \"trc_st\", \"rpt_side_cd\", \"cntra_mp_id\", \"orig_msg_seq_nb\"], Dict{String,DataType}(\"yld_sign_cd\" => String,\"first_trade_ctrl_num\" => Int64,\"sale_cndtn2_cd\" => String,\"yld_pt\" => Float64,\"asof_cd\" => String,\"sell_cmsn_rt\" => Float64,\"trd_exctn_tm\" => String,\"sale_cndtn_cd\" => String,\"days_to_sttl_ct\" => String,\"rptd_pr\" => Float64…)), Main.DataMod.mergent_obj(\"MERGENT\", \"/home/artur/BondPricing/bond-data/data/MERGENT\", \"mergent_fisd\", \"filtered\", Dict(:COUPON_INFO => [:ISSUE_ID, :DATED_DATE, :FIRST_INTEREST_DATE, :INTEREST_FREQUENCY, :COUPON, :PAY_IN_KIND, :PAY_IN_KIND_EXP_DATE, :COUPON_CHANGE_INDICATOR, :DAY_COUNT_BASIS, :LAST_INTEREST_DATE, :NEXT_INTEREST_DATE],:ISSUE_AFFECTED => [:ISSUER_ID_AFFECTED, :FILING_DATE, :ISSUE_ID, :SETTLEMENT],:ISSUE_OTHER => [:PROSPECTUS_ISSUER_NAME, :ISSUE_NAME, :COUPON_TYPE, :MTN, :YANKEE, :CANADIAN, :OID, :FOREIGN_CURRENCY, :SLOB, :SETTLEMENT_TYPE  …  :DEFAULTED, :TENDER_EXCH_OFFER, :REFUNDING_DATE, :OVERALLOTMENT_OPT, :ANNOUNCED_CALL, :DEP_ELIGIBILITY, :SUBSEQUENT_DATA, :PRESS_RELEASE, :ISIN, :SEDOL],:SUBS_RESTRICTIVE => [:ISSUE_ID, :DIVIDENDS_RELATED_PAYMENTS_SUB, :FUNDED_DEBT_SUB, :INDEBTEDNESS_SUB, :INVESTMENTS_UNRESTRICTED_SUBS, :SALES_LEASEBACK_SUB, :LIENS_SUB, :FIXED_CHARGE_COVERAGE_SUB, :LEVERAGE_TEST_SUB, :BORROWING_RESTRICTED, :STOCK_ISSUANCE, :PREFERRED_STOCK_ISSUANCE, :SALE_XFER_ASSETS_UNRESTRICTED, :SUBSIDIARY_REDESIGNATION, :SUBSIDIARY_GUARANTEE],:CONVERTIBLE => [:ISSUE_ID, :CONV_COMMOD_ISSUER, :CONV_COMMOD_TYPE, :CONV_COMMOD_CUSIP, :EXCHANGE, :TICKER, :CONV_PRICE, :QTY_OF_COMMOD, :PERCENT_OF_OUTSTANDING_COMMOD, :CONV_CASH  …  :REASON, :CHANGE_DATE, :SPLIT_DATE, :SPLIT_RATIO, :CONDITIONAL_CONV_TERMS, :SOFT_CALL_MAKE_WHOLE, :PEPS, :PERCS, :CONV_PROHIBITED_FROM, :CONVERT_ON_CALL],:ISSUER => [:ISSUER_ID, :AGENT_ID, :CUSIP_NAME, :INDUSTRY_GROUP, :INDUSTRY_CODE, :ESOP, :IN_BANKRUPTCY, :PARENT_ID, :NAICS_CODE, :COUNTRY_DOMICILE],:RATING => [:ISSUE_ID, :RATING_TYPE, :RATING_DATE, :RATING, :RATING_STATUS, :REASON, :RATING_STATUS_DATE, :INVESTMENT_GRADE],:CONVERTIBLE_ISSUER_HISTORY => [:ISSUE_ID, :AS_OF_DATE, :CONV_COMMOD_ISSUER, :AGENT_ID, :CONV_COMMOD_TYPE, :EXCHANGE, :CONV_COMMOD_CUSIP, :TICKER, :REASON, :DILUTION_PROTECTION, :CONV_EFF_DATE, :CONV_EXP_DATE, :CONV_CASH],:PUT => [:ISSUE_ID, :NOTIFICATION_PERIOD, :NEXT_PUT_DATE, :NEXT_PUT_PRICE],:CONVERTIBLE_ADDITIONAL_TERMS => [:ISSUE_ID, :COCO_START_DATE, :COCO_END_DATE, :COCO_INITIAL_TRIGGER_PERCENT, :COCO_TRIGGER_EXPRESSED_AS, :COCO_CHANGE_RATE, :COCO_MIN_TRIGGER_LEVEL, :COCO_CHANGE_FREQUENCY, :COCO_TRADE_DAYS, :COCO_TRADE_DAYS_IN_PREVIOUS  …  :SC_MAKE_WHOLE_END_DATE, :SC_MAKE_WHOLE_DECREMENT_TYPE, :SC_MAKE_WHOLE_INITIAL_AMOUNT, :SC_MAKE_WHOLE_CHANGE_PERCENT, :PEPS_MAX_CONVERSION_RATIO, :PEPS_MIN_CONVERSION_RATIO, :PEPS_HIGHER_PRICE, :PEPS_LOWER_PRICE, :PEPS_ISSUE_PRICE, :PERCS_MAX_PAYOFF]…)))"
      ]
     },
     "execution_count": 9,
     "metadata": {},
     "output_type": "execute_result"
    }
   ],
   "source": [
    "dto = DataMod.data_obj_constructor()"
   ]
  },
  {
   "cell_type": "code",
   "execution_count": 3,
   "metadata": {},
   "outputs": [
    {
     "name": "stdout",
     "output_type": "stream",
     "text": [
      " \n",
      "Filename: 2019Q2_stats_by_num_cov.csv\n",
      " \n",
      "Reading dataframe in folder: /home/artur/BondPricing/bond-data/data/Stats/2019...\n",
      " "
     ]
    },
    {
     "name": "stderr",
     "output_type": "stream",
     "text": [
      "WARNING: replacing module StatsMod.\n"
     ]
    },
    {
     "name": "stdout",
     "output_type": "stream",
     "text": [
      "\n",
      "Filename: 2019Q2_stats_by_cov_cat.csv\n",
      " \n",
      "Reading dataframe in folder: /home/artur/BondPricing/bond-data/data/Stats/2019...\n"
     ]
    },
    {
     "data": {
      "text/html": [
       "<table class=\"data-frame\"><thead><tr><th></th><th>trd_exctn_yr</th><th>trd_exctn_qtr</th><th>otc</th><th>hy</th><th>ig</th><th>ats</th><th>cov</th><th>ncov</th><th>total_trd_count</th><th>total_bonds</th><th>total_issuers</th><th>qt25_trd_vol</th><th>mean_trd_vol</th><th>median_trd_vol</th><th>qt75_trd_vol</th><th>total_trd_vol_tr</th><th>cg1_mean_trd_vol</th><th>cg2_mean_trd_vol</th><th>cg3_mean_trd_vol</th><th>cg4_mean_trd_vol</th><th>cg5_mean_trd_vol</th><th>cg6_mean_trd_vol</th><th>cg7_mean_trd_vol</th><th>cg8_mean_trd_vol</th><th>cg9_mean_trd_vol</th><th>cg10_mean_trd_vol</th><th>cg11_mean_trd_vol</th><th>cg12_mean_trd_vol</th><th>cg13_mean_trd_vol</th><th>cg14_mean_trd_vol</th><th>cg15_mean_trd_vol</th><th>cg1_median_trd_vol</th><th>cg2_median_trd_vol</th><th>cg3_median_trd_vol</th><th>cg4_median_trd_vol</th><th>cg5_median_trd_vol</th><th>cg6_median_trd_vol</th><th>cg7_median_trd_vol</th><th>cg8_median_trd_vol</th><th>cg9_median_trd_vol</th><th>cg10_median_trd_vol</th><th>cg11_median_trd_vol</th><th>cg12_median_trd_vol</th><th>cg13_median_trd_vol</th><th>cg14_median_trd_vol</th><th>cg15_median_trd_vol</th><th>cg1_trd_vol_tr</th><th>cg2_trd_vol_tr</th><th>cg3_trd_vol_tr</th><th>cg4_trd_vol_tr</th><th>cg5_trd_vol_tr</th><th>cg6_trd_vol_tr</th><th>cg7_trd_vol_tr</th><th>cg8_trd_vol_tr</th><th>cg9_trd_vol_tr</th><th>cg10_trd_vol_tr</th><th>cg11_trd_vol_tr</th><th>cg12_trd_vol_tr</th><th>cg13_trd_vol_tr</th><th>cg14_trd_vol_tr</th></tr><tr><th></th><th>Int64</th><th>Int64</th><th>Int64</th><th>Int64</th><th>Int64</th><th>Int64</th><th>Int64</th><th>Int64</th><th>Int64</th><th>Int64</th><th>Int64</th><th>Float64</th><th>Float64</th><th>Float64</th><th>Float64</th><th>Float64</th><th>Float64</th><th>Float64</th><th>Float64</th><th>Float64</th><th>Float64</th><th>Float64</th><th>Float64</th><th>Float64</th><th>Float64</th><th>Float64</th><th>Float64</th><th>Float64</th><th>Float64</th><th>Float64</th><th>Float64</th><th>Float64</th><th>Float64</th><th>Float64</th><th>Float64</th><th>Float64</th><th>Float64</th><th>Float64</th><th>Float64</th><th>Float64</th><th>Float64</th><th>Float64</th><th>Float64</th><th>Float64</th><th>Float64</th><th>Float64</th><th>Float64</th><th>Float64</th><th>Float64</th><th>Float64</th><th>Float64</th><th>Float64</th><th>Float64</th><th>Float64</th><th>Float64</th><th>Float64</th><th>Float64</th><th>Float64</th><th>Float64</th><th>Float64</th></tr></thead><tbody><p>5 rows × 109 columns (omitted printing of 49 columns)</p><tr><th>1</th><td>2019</td><td>2</td><td>0</td><td>0</td><td>0</td><td>0</td><td>0</td><td>0</td><td>2760879</td><td>8679</td><td>2012</td><td>10000.0</td><td>4.43138e5</td><td>25000.0</td><td>150000.0</td><td>1223.45</td><td>28335.5</td><td>3.4181e5</td><td>2032.56</td><td>8081.42</td><td>305.753</td><td>2.68352e5</td><td>431096.0</td><td>179758.0</td><td>17279.6</td><td>5222.53</td><td>3.66723e5</td><td>1.85804e5</td><td>3.42402e5</td><td>33029.7</td><td>3.39191e5</td><td>0.0</td><td>17000.0</td><td>0.0</td><td>0.0</td><td>0.0</td><td>8000.0</td><td>25000.0</td><td>0.0</td><td>0.0</td><td>0.0</td><td>20000.0</td><td>0.0</td><td>15000.0</td><td>0.0</td><td>15000.0</td><td>78.2308</td><td>943.695</td><td>5.61167</td><td>22.3118</td><td>0.844147</td><td>740.888</td><td>1190.2</td><td>496.29</td><td>47.7069</td><td>14.4188</td><td>1012.48</td><td>512.984</td><td>945.33</td><td>91.1911</td></tr><tr><th>2</th><td>2019</td><td>2</td><td>0</td><td>0</td><td>0</td><td>0</td><td>0</td><td>1</td><td>94837</td><td>459</td><td>220</td><td>10000.0</td><td>350554.0</td><td>25000.0</td><td>105000.0</td><td>33.2455</td><td>0.0</td><td>0.0</td><td>0.0</td><td>0.0</td><td>0.0</td><td>0.0</td><td>0.0</td><td>0.0</td><td>0.0</td><td>0.0</td><td>0.0</td><td>0.0</td><td>0.0</td><td>0.0</td><td>0.0</td><td>0.0</td><td>0.0</td><td>0.0</td><td>0.0</td><td>0.0</td><td>0.0</td><td>0.0</td><td>0.0</td><td>0.0</td><td>0.0</td><td>0.0</td><td>0.0</td><td>0.0</td><td>0.0</td><td>0.0</td><td>0.0</td><td>0.0</td><td>0.0</td><td>0.0</td><td>0.0</td><td>0.0</td><td>0.0</td><td>0.0</td><td>0.0</td><td>0.0</td><td>0.0</td><td>0.0</td><td>0.0</td><td>0.0</td></tr><tr><th>3</th><td>2019</td><td>2</td><td>0</td><td>0</td><td>0</td><td>0</td><td>1</td><td>0</td><td>2666042</td><td>8220</td><td>1937</td><td>10000.0</td><td>446431.0</td><td>25000.0</td><td>150000.0</td><td>1190.2</td><td>29343.4</td><td>3.53969e5</td><td>2104.87</td><td>8368.9</td><td>316.629</td><td>277898.0</td><td>446431.0</td><td>1.86152e5</td><td>17894.3</td><td>5408.31</td><td>379768.0</td><td>1.92414e5</td><td>3.54582e5</td><td>34204.7</td><td>3.51256e5</td><td>0.0</td><td>20000.0</td><td>0.0</td><td>0.0</td><td>0.0</td><td>10000.0</td><td>25000.0</td><td>0.0</td><td>0.0</td><td>0.0</td><td>20000.0</td><td>0.0</td><td>18000.0</td><td>0.0</td><td>16000.0</td><td>78.2308</td><td>943.695</td><td>5.61167</td><td>22.3118</td><td>0.844147</td><td>740.888</td><td>1190.2</td><td>496.29</td><td>47.7069</td><td>14.4188</td><td>1012.48</td><td>512.984</td><td>945.33</td><td>91.1911</td></tr><tr><th>4</th><td>2019</td><td>2</td><td>0</td><td>1</td><td>0</td><td>0</td><td>0</td><td>0</td><td>763973</td><td>1952</td><td>876</td><td>10000.0</td><td>4.20744e5</td><td>25000.0</td><td>151000.0</td><td>321.437</td><td>85719.4</td><td>3.12114e5</td><td>1333.11</td><td>2695.89</td><td>670.647</td><td>3.12714e5</td><td>4.17131e5</td><td>1.6254e5</td><td>55419.6</td><td>9563.03</td><td>3.79538e5</td><td>2.73063e5</td><td>358680.0</td><td>1.03521e5</td><td>3.5854e5</td><td>0.0</td><td>18000.0</td><td>0.0</td><td>0.0</td><td>0.0</td><td>15000.0</td><td>25000.0</td><td>0.0</td><td>0.0</td><td>0.0</td><td>20000.0</td><td>10000.0</td><td>20000.0</td><td>0.0</td><td>20000.0</td><td>65.4873</td><td>238.446</td><td>1.01846</td><td>2.05959</td><td>0.512356</td><td>238.905</td><td>318.677</td><td>124.176</td><td>42.3391</td><td>7.3059</td><td>289.957</td><td>208.613</td><td>274.022</td><td>79.0875</td></tr><tr><th>5</th><td>2019</td><td>2</td><td>0</td><td>1</td><td>0</td><td>0</td><td>0</td><td>1</td><td>5769</td><td>66</td><td>34</td><td>10000.0</td><td>4.78545e5</td><td>35000.0</td><td>200000.0</td><td>2.76073</td><td>0.0</td><td>0.0</td><td>0.0</td><td>0.0</td><td>0.0</td><td>0.0</td><td>0.0</td><td>0.0</td><td>0.0</td><td>0.0</td><td>0.0</td><td>0.0</td><td>0.0</td><td>0.0</td><td>0.0</td><td>0.0</td><td>0.0</td><td>0.0</td><td>0.0</td><td>0.0</td><td>0.0</td><td>0.0</td><td>0.0</td><td>0.0</td><td>0.0</td><td>0.0</td><td>0.0</td><td>0.0</td><td>0.0</td><td>0.0</td><td>0.0</td><td>0.0</td><td>0.0</td><td>0.0</td><td>0.0</td><td>0.0</td><td>0.0</td><td>0.0</td><td>0.0</td><td>0.0</td><td>0.0</td><td>0.0</td><td>0.0</td><td>0.0</td></tr></tbody></table>"
      ],
      "text/latex": [
       "\\begin{tabular}{r|ccccccccccccccccccccccccccccccccccccccccccccccccccccccccccccc}\n",
       "\t& trd\\_exctn\\_yr & trd\\_exctn\\_qtr & otc & hy & ig & ats & cov & ncov & total\\_trd\\_count & total\\_bonds & total\\_issuers & qt25\\_trd\\_vol & mean\\_trd\\_vol & median\\_trd\\_vol & qt75\\_trd\\_vol & total\\_trd\\_vol\\_tr & cg1\\_mean\\_trd\\_vol & cg2\\_mean\\_trd\\_vol & cg3\\_mean\\_trd\\_vol & cg4\\_mean\\_trd\\_vol & cg5\\_mean\\_trd\\_vol & cg6\\_mean\\_trd\\_vol & cg7\\_mean\\_trd\\_vol & cg8\\_mean\\_trd\\_vol & cg9\\_mean\\_trd\\_vol & cg10\\_mean\\_trd\\_vol & cg11\\_mean\\_trd\\_vol & cg12\\_mean\\_trd\\_vol & cg13\\_mean\\_trd\\_vol & cg14\\_mean\\_trd\\_vol & cg15\\_mean\\_trd\\_vol & cg1\\_median\\_trd\\_vol & cg2\\_median\\_trd\\_vol & cg3\\_median\\_trd\\_vol & cg4\\_median\\_trd\\_vol & cg5\\_median\\_trd\\_vol & cg6\\_median\\_trd\\_vol & cg7\\_median\\_trd\\_vol & cg8\\_median\\_trd\\_vol & cg9\\_median\\_trd\\_vol & cg10\\_median\\_trd\\_vol & cg11\\_median\\_trd\\_vol & cg12\\_median\\_trd\\_vol & cg13\\_median\\_trd\\_vol & cg14\\_median\\_trd\\_vol & cg15\\_median\\_trd\\_vol & cg1\\_trd\\_vol\\_tr & cg2\\_trd\\_vol\\_tr & cg3\\_trd\\_vol\\_tr & cg4\\_trd\\_vol\\_tr & cg5\\_trd\\_vol\\_tr & cg6\\_trd\\_vol\\_tr & cg7\\_trd\\_vol\\_tr & cg8\\_trd\\_vol\\_tr & cg9\\_trd\\_vol\\_tr & cg10\\_trd\\_vol\\_tr & cg11\\_trd\\_vol\\_tr & cg12\\_trd\\_vol\\_tr & cg13\\_trd\\_vol\\_tr & cg14\\_trd\\_vol\\_tr & \\\\\n",
       "\t\\hline\n",
       "\t& Int64 & Int64 & Int64 & Int64 & Int64 & Int64 & Int64 & Int64 & Int64 & Int64 & Int64 & Float64 & Float64 & Float64 & Float64 & Float64 & Float64 & Float64 & Float64 & Float64 & Float64 & Float64 & Float64 & Float64 & Float64 & Float64 & Float64 & Float64 & Float64 & Float64 & Float64 & Float64 & Float64 & Float64 & Float64 & Float64 & Float64 & Float64 & Float64 & Float64 & Float64 & Float64 & Float64 & Float64 & Float64 & Float64 & Float64 & Float64 & Float64 & Float64 & Float64 & Float64 & Float64 & Float64 & Float64 & Float64 & Float64 & Float64 & Float64 & Float64 & \\\\\n",
       "\t\\hline\n",
       "\t1 & 2019 & 2 & 0 & 0 & 0 & 0 & 0 & 0 & 2760879 & 8679 & 2012 & 10000.0 & 4.43138e5 & 25000.0 & 150000.0 & 1223.45 & 28335.5 & 3.4181e5 & 2032.56 & 8081.42 & 305.753 & 2.68352e5 & 431096.0 & 179758.0 & 17279.6 & 5222.53 & 3.66723e5 & 1.85804e5 & 3.42402e5 & 33029.7 & 3.39191e5 & 0.0 & 17000.0 & 0.0 & 0.0 & 0.0 & 8000.0 & 25000.0 & 0.0 & 0.0 & 0.0 & 20000.0 & 0.0 & 15000.0 & 0.0 & 15000.0 & 78.2308 & 943.695 & 5.61167 & 22.3118 & 0.844147 & 740.888 & 1190.2 & 496.29 & 47.7069 & 14.4188 & 1012.48 & 512.984 & 945.33 & 91.1911 & $\\dots$ \\\\\n",
       "\t2 & 2019 & 2 & 0 & 0 & 0 & 0 & 0 & 1 & 94837 & 459 & 220 & 10000.0 & 350554.0 & 25000.0 & 105000.0 & 33.2455 & 0.0 & 0.0 & 0.0 & 0.0 & 0.0 & 0.0 & 0.0 & 0.0 & 0.0 & 0.0 & 0.0 & 0.0 & 0.0 & 0.0 & 0.0 & 0.0 & 0.0 & 0.0 & 0.0 & 0.0 & 0.0 & 0.0 & 0.0 & 0.0 & 0.0 & 0.0 & 0.0 & 0.0 & 0.0 & 0.0 & 0.0 & 0.0 & 0.0 & 0.0 & 0.0 & 0.0 & 0.0 & 0.0 & 0.0 & 0.0 & 0.0 & 0.0 & 0.0 & 0.0 & $\\dots$ \\\\\n",
       "\t3 & 2019 & 2 & 0 & 0 & 0 & 0 & 1 & 0 & 2666042 & 8220 & 1937 & 10000.0 & 446431.0 & 25000.0 & 150000.0 & 1190.2 & 29343.4 & 3.53969e5 & 2104.87 & 8368.9 & 316.629 & 277898.0 & 446431.0 & 1.86152e5 & 17894.3 & 5408.31 & 379768.0 & 1.92414e5 & 3.54582e5 & 34204.7 & 3.51256e5 & 0.0 & 20000.0 & 0.0 & 0.0 & 0.0 & 10000.0 & 25000.0 & 0.0 & 0.0 & 0.0 & 20000.0 & 0.0 & 18000.0 & 0.0 & 16000.0 & 78.2308 & 943.695 & 5.61167 & 22.3118 & 0.844147 & 740.888 & 1190.2 & 496.29 & 47.7069 & 14.4188 & 1012.48 & 512.984 & 945.33 & 91.1911 & $\\dots$ \\\\\n",
       "\t4 & 2019 & 2 & 0 & 1 & 0 & 0 & 0 & 0 & 763973 & 1952 & 876 & 10000.0 & 4.20744e5 & 25000.0 & 151000.0 & 321.437 & 85719.4 & 3.12114e5 & 1333.11 & 2695.89 & 670.647 & 3.12714e5 & 4.17131e5 & 1.6254e5 & 55419.6 & 9563.03 & 3.79538e5 & 2.73063e5 & 358680.0 & 1.03521e5 & 3.5854e5 & 0.0 & 18000.0 & 0.0 & 0.0 & 0.0 & 15000.0 & 25000.0 & 0.0 & 0.0 & 0.0 & 20000.0 & 10000.0 & 20000.0 & 0.0 & 20000.0 & 65.4873 & 238.446 & 1.01846 & 2.05959 & 0.512356 & 238.905 & 318.677 & 124.176 & 42.3391 & 7.3059 & 289.957 & 208.613 & 274.022 & 79.0875 & $\\dots$ \\\\\n",
       "\t5 & 2019 & 2 & 0 & 1 & 0 & 0 & 0 & 1 & 5769 & 66 & 34 & 10000.0 & 4.78545e5 & 35000.0 & 200000.0 & 2.76073 & 0.0 & 0.0 & 0.0 & 0.0 & 0.0 & 0.0 & 0.0 & 0.0 & 0.0 & 0.0 & 0.0 & 0.0 & 0.0 & 0.0 & 0.0 & 0.0 & 0.0 & 0.0 & 0.0 & 0.0 & 0.0 & 0.0 & 0.0 & 0.0 & 0.0 & 0.0 & 0.0 & 0.0 & 0.0 & 0.0 & 0.0 & 0.0 & 0.0 & 0.0 & 0.0 & 0.0 & 0.0 & 0.0 & 0.0 & 0.0 & 0.0 & 0.0 & 0.0 & 0.0 & $\\dots$ \\\\\n",
       "\\end{tabular}\n"
      ],
      "text/plain": [
       "5×109 DataFrame. Omitted printing of 53 columns\n",
       "│ Row │ trd_exctn_yr │ trd_exctn_qtr │ otc   │ hy    │ ig    │ ats   │ cov   │ ncov  │ total_trd_count │ total_bonds │ total_issuers │ qt25_trd_vol │ mean_trd_vol │ median_trd_vol │ qt75_trd_vol │ total_trd_vol_tr │ cg1_mean_trd_vol │ cg2_mean_trd_vol │ cg3_mean_trd_vol │ cg4_mean_trd_vol │ cg5_mean_trd_vol │ cg6_mean_trd_vol │ cg7_mean_trd_vol │ cg8_mean_trd_vol │ cg9_mean_trd_vol │ cg10_mean_trd_vol │ cg11_mean_trd_vol │ cg12_mean_trd_vol │ cg13_mean_trd_vol │ cg14_mean_trd_vol │ cg15_mean_trd_vol │ cg1_median_trd_vol │ cg2_median_trd_vol │ cg3_median_trd_vol │ cg4_median_trd_vol │ cg5_median_trd_vol │ cg6_median_trd_vol │ cg7_median_trd_vol │ cg8_median_trd_vol │ cg9_median_trd_vol │ cg10_median_trd_vol │ cg11_median_trd_vol │ cg12_median_trd_vol │ cg13_median_trd_vol │ cg14_median_trd_vol │ cg15_median_trd_vol │ cg1_trd_vol_tr │ cg2_trd_vol_tr │ cg3_trd_vol_tr │ cg4_trd_vol_tr │ cg5_trd_vol_tr │ cg6_trd_vol_tr │ cg7_trd_vol_tr │ cg8_trd_vol_tr │ cg9_trd_vol_tr │ cg10_trd_vol_tr │\n",
       "│     │ \u001b[90mInt64\u001b[39m        │ \u001b[90mInt64\u001b[39m         │ \u001b[90mInt64\u001b[39m │ \u001b[90mInt64\u001b[39m │ \u001b[90mInt64\u001b[39m │ \u001b[90mInt64\u001b[39m │ \u001b[90mInt64\u001b[39m │ \u001b[90mInt64\u001b[39m │ \u001b[90mInt64\u001b[39m           │ \u001b[90mInt64\u001b[39m       │ \u001b[90mInt64\u001b[39m         │ \u001b[90mFloat64\u001b[39m      │ \u001b[90mFloat64\u001b[39m      │ \u001b[90mFloat64\u001b[39m        │ \u001b[90mFloat64\u001b[39m      │ \u001b[90mFloat64\u001b[39m          │ \u001b[90mFloat64\u001b[39m          │ \u001b[90mFloat64\u001b[39m          │ \u001b[90mFloat64\u001b[39m          │ \u001b[90mFloat64\u001b[39m          │ \u001b[90mFloat64\u001b[39m          │ \u001b[90mFloat64\u001b[39m          │ \u001b[90mFloat64\u001b[39m          │ \u001b[90mFloat64\u001b[39m          │ \u001b[90mFloat64\u001b[39m          │ \u001b[90mFloat64\u001b[39m           │ \u001b[90mFloat64\u001b[39m           │ \u001b[90mFloat64\u001b[39m           │ \u001b[90mFloat64\u001b[39m           │ \u001b[90mFloat64\u001b[39m           │ \u001b[90mFloat64\u001b[39m           │ \u001b[90mFloat64\u001b[39m            │ \u001b[90mFloat64\u001b[39m            │ \u001b[90mFloat64\u001b[39m            │ \u001b[90mFloat64\u001b[39m            │ \u001b[90mFloat64\u001b[39m            │ \u001b[90mFloat64\u001b[39m            │ \u001b[90mFloat64\u001b[39m            │ \u001b[90mFloat64\u001b[39m            │ \u001b[90mFloat64\u001b[39m            │ \u001b[90mFloat64\u001b[39m             │ \u001b[90mFloat64\u001b[39m             │ \u001b[90mFloat64\u001b[39m             │ \u001b[90mFloat64\u001b[39m             │ \u001b[90mFloat64\u001b[39m             │ \u001b[90mFloat64\u001b[39m             │ \u001b[90mFloat64\u001b[39m        │ \u001b[90mFloat64\u001b[39m        │ \u001b[90mFloat64\u001b[39m        │ \u001b[90mFloat64\u001b[39m        │ \u001b[90mFloat64\u001b[39m        │ \u001b[90mFloat64\u001b[39m        │ \u001b[90mFloat64\u001b[39m        │ \u001b[90mFloat64\u001b[39m        │ \u001b[90mFloat64\u001b[39m        │ \u001b[90mFloat64\u001b[39m         │\n",
       "├─────┼──────────────┼───────────────┼───────┼───────┼───────┼───────┼───────┼───────┼─────────────────┼─────────────┼───────────────┼──────────────┼──────────────┼────────────────┼──────────────┼──────────────────┼──────────────────┼──────────────────┼──────────────────┼──────────────────┼──────────────────┼──────────────────┼──────────────────┼──────────────────┼──────────────────┼───────────────────┼───────────────────┼───────────────────┼───────────────────┼───────────────────┼───────────────────┼────────────────────┼────────────────────┼────────────────────┼────────────────────┼────────────────────┼────────────────────┼────────────────────┼────────────────────┼────────────────────┼─────────────────────┼─────────────────────┼─────────────────────┼─────────────────────┼─────────────────────┼─────────────────────┼────────────────┼────────────────┼────────────────┼────────────────┼────────────────┼────────────────┼────────────────┼────────────────┼────────────────┼─────────────────┤\n",
       "│ 1   │ 2019         │ 2             │ 0     │ 0     │ 0     │ 0     │ 0     │ 0     │ 2760879         │ 8679        │ 2012          │ 10000.0      │ 4.43138e5    │ 25000.0        │ 150000.0     │ 1223.45          │ 28335.5          │ 3.4181e5         │ 2032.56          │ 8081.42          │ 305.753          │ 2.68352e5        │ 431096.0         │ 179758.0         │ 17279.6          │ 5222.53           │ 3.66723e5         │ 1.85804e5         │ 3.42402e5         │ 33029.7           │ 3.39191e5         │ 0.0                │ 17000.0            │ 0.0                │ 0.0                │ 0.0                │ 8000.0             │ 25000.0            │ 0.0                │ 0.0                │ 0.0                 │ 20000.0             │ 0.0                 │ 15000.0             │ 0.0                 │ 15000.0             │ 78.2308        │ 943.695        │ 5.61167        │ 22.3118        │ 0.844147       │ 740.888        │ 1190.2         │ 496.29         │ 47.7069        │ 14.4188         │\n",
       "│ 2   │ 2019         │ 2             │ 0     │ 0     │ 0     │ 0     │ 0     │ 1     │ 94837           │ 459         │ 220           │ 10000.0      │ 350554.0     │ 25000.0        │ 105000.0     │ 33.2455          │ 0.0              │ 0.0              │ 0.0              │ 0.0              │ 0.0              │ 0.0              │ 0.0              │ 0.0              │ 0.0              │ 0.0               │ 0.0               │ 0.0               │ 0.0               │ 0.0               │ 0.0               │ 0.0                │ 0.0                │ 0.0                │ 0.0                │ 0.0                │ 0.0                │ 0.0                │ 0.0                │ 0.0                │ 0.0                 │ 0.0                 │ 0.0                 │ 0.0                 │ 0.0                 │ 0.0                 │ 0.0            │ 0.0            │ 0.0            │ 0.0            │ 0.0            │ 0.0            │ 0.0            │ 0.0            │ 0.0            │ 0.0             │\n",
       "│ 3   │ 2019         │ 2             │ 0     │ 0     │ 0     │ 0     │ 1     │ 0     │ 2666042         │ 8220        │ 1937          │ 10000.0      │ 446431.0     │ 25000.0        │ 150000.0     │ 1190.2           │ 29343.4          │ 3.53969e5        │ 2104.87          │ 8368.9           │ 316.629          │ 277898.0         │ 446431.0         │ 1.86152e5        │ 17894.3          │ 5408.31           │ 379768.0          │ 1.92414e5         │ 3.54582e5         │ 34204.7           │ 3.51256e5         │ 0.0                │ 20000.0            │ 0.0                │ 0.0                │ 0.0                │ 10000.0            │ 25000.0            │ 0.0                │ 0.0                │ 0.0                 │ 20000.0             │ 0.0                 │ 18000.0             │ 0.0                 │ 16000.0             │ 78.2308        │ 943.695        │ 5.61167        │ 22.3118        │ 0.844147       │ 740.888        │ 1190.2         │ 496.29         │ 47.7069        │ 14.4188         │\n",
       "│ 4   │ 2019         │ 2             │ 0     │ 1     │ 0     │ 0     │ 0     │ 0     │ 763973          │ 1952        │ 876           │ 10000.0      │ 4.20744e5    │ 25000.0        │ 151000.0     │ 321.437          │ 85719.4          │ 3.12114e5        │ 1333.11          │ 2695.89          │ 670.647          │ 3.12714e5        │ 4.17131e5        │ 1.6254e5         │ 55419.6          │ 9563.03           │ 3.79538e5         │ 2.73063e5         │ 358680.0          │ 1.03521e5         │ 3.5854e5          │ 0.0                │ 18000.0            │ 0.0                │ 0.0                │ 0.0                │ 15000.0            │ 25000.0            │ 0.0                │ 0.0                │ 0.0                 │ 20000.0             │ 10000.0             │ 20000.0             │ 0.0                 │ 20000.0             │ 65.4873        │ 238.446        │ 1.01846        │ 2.05959        │ 0.512356       │ 238.905        │ 318.677        │ 124.176        │ 42.3391        │ 7.3059          │\n",
       "│ 5   │ 2019         │ 2             │ 0     │ 1     │ 0     │ 0     │ 0     │ 1     │ 5769            │ 66          │ 34            │ 10000.0      │ 4.78545e5    │ 35000.0        │ 200000.0     │ 2.76073          │ 0.0              │ 0.0              │ 0.0              │ 0.0              │ 0.0              │ 0.0              │ 0.0              │ 0.0              │ 0.0              │ 0.0               │ 0.0               │ 0.0               │ 0.0               │ 0.0               │ 0.0               │ 0.0                │ 0.0                │ 0.0                │ 0.0                │ 0.0                │ 0.0                │ 0.0                │ 0.0                │ 0.0                │ 0.0                 │ 0.0                 │ 0.0                 │ 0.0                 │ 0.0                 │ 0.0                 │ 0.0            │ 0.0            │ 0.0            │ 0.0            │ 0.0            │ 0.0            │ 0.0            │ 0.0            │ 0.0            │ 0.0             │"
      ]
     },
     "execution_count": 3,
     "metadata": {},
     "output_type": "execute_result"
    }
   ],
   "source": [
    "yr = 2019\n",
    "qtr = 2\n",
    "include(string(joinpath(module_path, \"stats_module\"), \".jl\"))\n",
    "snc = StatsMod.load_stats_data(dto, yr, qtr; stats_by_num_cov=true)\n",
    "scc = StatsMod.load_stats_data(dto, yr, qtr; stats_by_num_cov=false)\n",
    "\n",
    "first(scc, 5)"
   ]
  },
  {
   "cell_type": "code",
   "execution_count": 10,
   "metadata": {},
   "outputs": [
    {
     "data": {
      "application/vnd.vegalite.v4+json": {
       "config": {
        "axis": {
         "domainWidth": 3
        },
        "opacity": {
         "value": 0.7
        },
        "view": {
         "stroke": "transparent"
        }
       },
       "data": {
        "values": [
         {
          "cov_cat": 1,
          "cvt": "any",
          "perc_sbm_total": 13.618290258449303,
          "perc_total": 13.618290258449303,
          "period": "2019Q2",
          "rt": "any",
          "sbm": "otc",
          "value": 274,
          "variable": "cg1_issuers"
         },
         {
          "cov_cat": 1,
          "cvt": "any",
          "perc_sbm_total": 14.240170031880977,
          "perc_total": 13.320079522862823,
          "period": "2019Q2",
          "rt": "any",
          "sbm": "ats",
          "value": 268,
          "variable": "cg1_issuers"
         },
         {
          "cov_cat": 2,
          "cvt": "any",
          "perc_sbm_total": 77.5844930417495,
          "perc_total": 77.5844930417495,
          "period": "2019Q2",
          "rt": "any",
          "sbm": "otc",
          "value": 1561,
          "variable": "cg2_issuers"
         },
         {
          "cov_cat": 2,
          "cvt": "any",
          "perc_sbm_total": 80.97768331562168,
          "perc_total": 75.7455268389662,
          "period": "2019Q2",
          "rt": "any",
          "sbm": "ats",
          "value": 1524,
          "variable": "cg2_issuers"
         },
         {
          "cov_cat": 3,
          "cvt": "any",
          "perc_sbm_total": 1.0934393638170974,
          "perc_total": 1.0934393638170974,
          "period": "2019Q2",
          "rt": "any",
          "sbm": "otc",
          "value": 22,
          "variable": "cg3_issuers"
         },
         {
          "cov_cat": 3,
          "cvt": "any",
          "perc_sbm_total": 1.1689691817215728,
          "perc_total": 1.0934393638170974,
          "period": "2019Q2",
          "rt": "any",
          "sbm": "ats",
          "value": 22,
          "variable": "cg3_issuers"
         },
         {
          "cov_cat": 4,
          "cvt": "any",
          "perc_sbm_total": 1.9880715705765408,
          "perc_total": 1.9880715705765408,
          "period": "2019Q2",
          "rt": "any",
          "sbm": "otc",
          "value": 40,
          "variable": "cg4_issuers"
         },
         {
          "cov_cat": 4,
          "cvt": "any",
          "perc_sbm_total": 2.0722635494155153,
          "perc_total": 1.9383697813121274,
          "period": "2019Q2",
          "rt": "any",
          "sbm": "ats",
          "value": 39,
          "variable": "cg4_issuers"
         },
         {
          "cov_cat": 5,
          "cvt": "any",
          "perc_sbm_total": 0.34791252485089463,
          "perc_total": 0.34791252485089463,
          "period": "2019Q2",
          "rt": "any",
          "sbm": "otc",
          "value": 7,
          "variable": "cg5_issuers"
         },
         {
          "cov_cat": 5,
          "cvt": "any",
          "perc_sbm_total": 0.3188097768331562,
          "perc_total": 0.2982107355864811,
          "period": "2019Q2",
          "rt": "any",
          "sbm": "ats",
          "value": 6,
          "variable": "cg5_issuers"
         },
         {
          "cov_cat": 6,
          "cvt": "any",
          "perc_sbm_total": 64.86083499005964,
          "perc_total": 64.86083499005964,
          "period": "2019Q2",
          "rt": "any",
          "sbm": "otc",
          "value": 1305,
          "variable": "cg6_issuers"
         },
         {
          "cov_cat": 6,
          "cvt": "any",
          "perc_sbm_total": 67.7470775770457,
          "perc_total": 63.36978131212724,
          "period": "2019Q2",
          "rt": "any",
          "sbm": "ats",
          "value": 1275,
          "variable": "cg6_issuers"
         },
         {
          "cov_cat": 7,
          "cvt": "any",
          "perc_sbm_total": 96.27236580516899,
          "perc_total": 96.27236580516899,
          "period": "2019Q2",
          "rt": "any",
          "sbm": "otc",
          "value": 1937,
          "variable": "cg7_issuers"
         },
         {
          "cov_cat": 7,
          "cvt": "any",
          "perc_sbm_total": 96.86503719447397,
          "perc_total": 90.60636182902584,
          "period": "2019Q2",
          "rt": "any",
          "sbm": "ats",
          "value": 1823,
          "variable": "cg7_issuers"
         },
         {
          "cov_cat": 8,
          "cvt": "any",
          "perc_sbm_total": 38.618290258449306,
          "perc_total": 38.618290258449306,
          "period": "2019Q2",
          "rt": "any",
          "sbm": "otc",
          "value": 777,
          "variable": "cg8_issuers"
         },
         {
          "cov_cat": 8,
          "cvt": "any",
          "perc_sbm_total": 40.75451647183847,
          "perc_total": 38.12127236580517,
          "period": "2019Q2",
          "rt": "any",
          "sbm": "ats",
          "value": 767,
          "variable": "cg8_issuers"
         },
         {
          "cov_cat": 9,
          "cvt": "any",
          "perc_sbm_total": 10.288270377733598,
          "perc_total": 10.288270377733598,
          "period": "2019Q2",
          "rt": "any",
          "sbm": "otc",
          "value": 207,
          "variable": "cg9_issuers"
         },
         {
          "cov_cat": 9,
          "cvt": "any",
          "perc_sbm_total": 10.892667375132838,
          "perc_total": 10.18886679920477,
          "period": "2019Q2",
          "rt": "any",
          "sbm": "ats",
          "value": 205,
          "variable": "cg9_issuers"
         },
         {
          "cov_cat": 10,
          "cvt": "any",
          "perc_sbm_total": 2.584493041749503,
          "perc_total": 2.584493041749503,
          "period": "2019Q2",
          "rt": "any",
          "sbm": "otc",
          "value": 52,
          "variable": "cg10_issuers"
         },
         {
          "cov_cat": 10,
          "cvt": "any",
          "perc_sbm_total": 2.709883103081828,
          "perc_total": 2.5347912524850895,
          "period": "2019Q2",
          "rt": "any",
          "sbm": "ats",
          "value": 51,
          "variable": "cg10_issuers"
         },
         {
          "cov_cat": 11,
          "cvt": "any",
          "perc_sbm_total": 85.48707753479125,
          "perc_total": 85.48707753479125,
          "period": "2019Q2",
          "rt": "any",
          "sbm": "otc",
          "value": 1720,
          "variable": "cg11_issuers"
         },
         {
          "cov_cat": 11,
          "cvt": "any",
          "perc_sbm_total": 86.3443145589798,
          "perc_total": 80.76540755467197,
          "period": "2019Q2",
          "rt": "any",
          "sbm": "ats",
          "value": 1625,
          "variable": "cg11_issuers"
         },
         {
          "cov_cat": 12,
          "cvt": "any",
          "perc_sbm_total": 51.93836978131213,
          "perc_total": 51.93836978131213,
          "period": "2019Q2",
          "rt": "any",
          "sbm": "otc",
          "value": 1045,
          "variable": "cg12_issuers"
         },
         {
          "cov_cat": 12,
          "cvt": "any",
          "perc_sbm_total": 52.33793836344315,
          "perc_total": 48.95626242544731,
          "period": "2019Q2",
          "rt": "any",
          "sbm": "ats",
          "value": 985,
          "variable": "cg12_issuers"
         },
         {
          "cov_cat": 13,
          "cvt": "any",
          "perc_sbm_total": 86.28230616302187,
          "perc_total": 86.28230616302187,
          "period": "2019Q2",
          "rt": "any",
          "sbm": "otc",
          "value": 1736,
          "variable": "cg13_issuers"
         },
         {
          "cov_cat": 13,
          "cvt": "any",
          "perc_sbm_total": 87.61955366631243,
          "perc_total": 81.95825049701789,
          "period": "2019Q2",
          "rt": "any",
          "sbm": "ats",
          "value": 1649,
          "variable": "cg13_issuers"
         },
         {
          "cov_cat": 14,
          "cvt": "any",
          "perc_sbm_total": 15.656063618290258,
          "perc_total": 15.656063618290258,
          "period": "2019Q2",
          "rt": "any",
          "sbm": "otc",
          "value": 315,
          "variable": "cg14_issuers"
         },
         {
          "cov_cat": 14,
          "cvt": "any",
          "perc_sbm_total": 16.312433581296492,
          "perc_total": 15.25844930417495,
          "period": "2019Q2",
          "rt": "any",
          "sbm": "ats",
          "value": 307,
          "variable": "cg14_issuers"
         },
         {
          "cov_cat": 15,
          "cvt": "any",
          "perc_sbm_total": 85.6361829025845,
          "perc_total": 85.6361829025845,
          "period": "2019Q2",
          "rt": "any",
          "sbm": "otc",
          "value": 1723,
          "variable": "cg15_issuers"
         },
         {
          "cov_cat": 15,
          "cvt": "any",
          "perc_sbm_total": 86.9287991498406,
          "perc_total": 81.31212723658051,
          "period": "2019Q2",
          "rt": "any",
          "sbm": "ats",
          "value": 1636,
          "variable": "cg15_issuers"
         }
        ]
       },
       "encoding": {
        "color": {
         "field": "sbm",
         "legend": {
          "title": "Secondary Market"
         },
         "scale": {
          "scheme": "viridis"
         },
         "type": "nominal"
        },
        "column": {
         "field": "cov_cat",
         "sort": "ascending",
         "title": "Covenant Category",
         "type": "ordinal"
        },
        "x": {
         "axis": {
          "title": " "
         },
         "field": "sbm",
         "type": "nominal"
        },
        "y": {
         "axis": {
          "grid": false,
          "stack": null,
          "title": "Number of Issuers"
         },
         "field": "value",
         "type": "quantitative"
        }
       },
       "height": 350,
       "mark": "bar",
       "spacing": 4.5,
       "title": {
        "align": "center",
        "anchor": "middle",
        "fontSize": 14,
        "offset": 20,
        "text": [
         "Number of Issuers of Non-MTN-Bonds Traded per Covenant Category - 2019Q2"
        ]
       },
       "width": {
        "step": 18
       }
      },
      "image/png": "[encoded data removed]",
      "image/svg+xml": [
       "<?xml version=\"1.0\" encoding=\"utf-8\"?>\n",
       "<!DOCTYPE svg PUBLIC \"-//W3C//DTD SVG 1.1//EN\" \"http://www.w3.org/Graphics/SVG/1.1/DTD/svg11.dtd\">\n",
       "<svg class=\"marks\" width=\"821\" height=\"485\" viewBox=\"0 0 821 485\" version=\"1.1\" xmlns=\"http://www.w3.org/2000/svg\" xmlns:xlink=\"http://www.w3.org/1999/xlink\"><rect width=\"821\" height=\"485\" fill=\"white\"></rect><g fill=\"none\" stroke-miterlimit=\"10\" transform=\"translate(55,91)\"><g class=\"mark-group role-frame root\" role=\"graphics-object\" aria-roledescription=\"group mark container\"><g transform=\"translate(0,0)\"><path class=\"background\" aria-hidden=\"true\" d=\"M0,0h0v0h0Z\"></path><g><g class=\"mark-group role-column-title column-title\" role=\"graphics-object\" aria-roledescription=\"group mark container\"><g transform=\"translate(316,-31)\"><path class=\"background\" aria-hidden=\"true\" d=\"M0,0h0v0h0Z\"></path><g><g class=\"mark-group role-title\"><g transform=\"translate(0,-21)\"><path class=\"background\" aria-hidden=\"true\" d=\"M0,0h0v0h0Z\" pointer-events=\"none\"></path><g><g class=\"mark-text role-title-text\" role=\"graphics-symbol\" aria-roledescription=\"title\" aria-label=\"Title text 'Covenant Category'\" pointer-events=\"none\"><text text-anchor=\"middle\" transform=\"translate(0,9)\" font-family=\"sans-serif\" font-size=\"11px\" font-weight=\"bold\" fill=\"#000\" opacity=\"1\">Covenant Category</text></g></g><path class=\"foreground\" aria-hidden=\"true\" d=\"\" pointer-events=\"none\" display=\"none\"></path></g></g></g><path class=\"foreground\" aria-hidden=\"true\" d=\"\" display=\"none\"></path></g></g><g class=\"mark-group role-row-header row_header\" role=\"graphics-object\" aria-roledescription=\"group mark container\"><g transform=\"translate(-1,0)\"><path class=\"background\" aria-hidden=\"true\" d=\"M0,0h0v350h0Z\"></path><g><g class=\"mark-group role-axis\" role=\"graphics-symbol\" aria-roledescription=\"axis\" aria-label=\"Y-axis titled 'Number of Issuers' for a linear scale with values from 0 to 2,000\"><g transform=\"translate(0.5,0.5)\"><path class=\"background\" aria-hidden=\"true\" d=\"M0,0h0v0h0Z\" pointer-events=\"none\"></path><g><g class=\"mark-rule role-axis-tick\" pointer-events=\"none\"><line transform=\"translate(0,350)\" x2=\"-5\" y2=\"0\" stroke=\"#888\" stroke-width=\"1\" opacity=\"1\"></line><line transform=\"translate(0,315)\" x2=\"-5\" y2=\"0\" stroke=\"#888\" stroke-width=\"1\" opacity=\"1\"></line><line transform=\"translate(0,280)\" x2=\"-5\" y2=\"0\" stroke=\"#888\" stroke-width=\"1\" opacity=\"1\"></line><line transform=\"translate(0,245)\" x2=\"-5\" y2=\"0\" stroke=\"#888\" stroke-width=\"1\" opacity=\"1\"></line><line transform=\"translate(0,210)\" x2=\"-5\" y2=\"0\" stroke=\"#888\" stroke-width=\"1\" opacity=\"1\"></line><line transform=\"translate(0,175)\" x2=\"-5\" y2=\"0\" stroke=\"#888\" stroke-width=\"1\" opacity=\"1\"></line><line transform=\"translate(0,140)\" x2=\"-5\" y2=\"0\" stroke=\"#888\" stroke-width=\"1\" opacity=\"1\"></line><line transform=\"translate(0,105)\" x2=\"-5\" y2=\"0\" stroke=\"#888\" stroke-width=\"1\" opacity=\"1\"></line><line transform=\"translate(0,70)\" x2=\"-5\" y2=\"0\" stroke=\"#888\" stroke-width=\"1\" opacity=\"1\"></line><line transform=\"translate(0,35)\" x2=\"-5\" y2=\"0\" stroke=\"#888\" stroke-width=\"1\" opacity=\"1\"></line><line transform=\"translate(0,0)\" x2=\"-5\" y2=\"0\" stroke=\"#888\" stroke-width=\"1\" opacity=\"1\"></line></g><g class=\"mark-text role-axis-label\" pointer-events=\"none\"><text text-anchor=\"end\" transform=\"translate(-7,353)\" font-family=\"sans-serif\" font-size=\"10px\" fill=\"#000\" opacity=\"1\">0</text><text text-anchor=\"end\" transform=\"translate(-7,318)\" font-family=\"sans-serif\" font-size=\"10px\" fill=\"#000\" opacity=\"1\">200</text><text text-anchor=\"end\" transform=\"translate(-7,283)\" font-family=\"sans-serif\" font-size=\"10px\" fill=\"#000\" opacity=\"1\">400</text><text text-anchor=\"end\" transform=\"translate(-7,247.99999999999997)\" font-family=\"sans-serif\" font-size=\"10px\" fill=\"#000\" opacity=\"1\">600</text><text text-anchor=\"end\" transform=\"translate(-7,213)\" font-family=\"sans-serif\" font-size=\"10px\" fill=\"#000\" opacity=\"1\">800</text><text text-anchor=\"end\" transform=\"translate(-7,178)\" font-family=\"sans-serif\" font-size=\"10px\" fill=\"#000\" opacity=\"1\">1,000</text><text text-anchor=\"end\" transform=\"translate(-7,143)\" font-family=\"sans-serif\" font-size=\"10px\" fill=\"#000\" opacity=\"1\">1,200</text><text text-anchor=\"end\" transform=\"translate(-7,108.00000000000001)\" font-family=\"sans-serif\" font-size=\"10px\" fill=\"#000\" opacity=\"1\">1,400</text><text text-anchor=\"end\" transform=\"translate(-7,72.99999999999999)\" font-family=\"sans-serif\" font-size=\"10px\" fill=\"#000\" opacity=\"1\">1,600</text><text text-anchor=\"end\" transform=\"translate(-7,37.99999999999999)\" font-family=\"sans-serif\" font-size=\"10px\" fill=\"#000\" opacity=\"1\">1,800</text><text text-anchor=\"end\" transform=\"translate(-7,3)\" font-family=\"sans-serif\" font-size=\"10px\" fill=\"#000\" opacity=\"1\">2,000</text></g><g class=\"mark-rule role-axis-domain\" pointer-events=\"none\"><line transform=\"translate(0,350)\" x2=\"0\" y2=\"-350\" stroke=\"#888\" stroke-width=\"3\" opacity=\"1\"></line></g><g class=\"mark-text role-axis-title\" pointer-events=\"none\"><text text-anchor=\"middle\" transform=\"translate(-38,175) rotate(-90) translate(0,-2)\" font-family=\"sans-serif\" font-size=\"11px\" font-weight=\"bold\" fill=\"#000\" opacity=\"1\">Number of Issuers</text></g></g><path class=\"foreground\" aria-hidden=\"true\" d=\"\" pointer-events=\"none\" display=\"none\"></path></g></g></g><path class=\"foreground\" aria-hidden=\"true\" d=\"\" display=\"none\"></path></g></g><g class=\"mark-group role-column-header column_header\" role=\"graphics-object\" aria-roledescription=\"group mark container\"><g transform=\"translate(0,-1)\"><path class=\"background\" aria-hidden=\"true\" d=\"M0,0h36v0h-36Z\"></path><g><g class=\"mark-group role-title\"><g transform=\"translate(18,-20)\"><path class=\"background\" aria-hidden=\"true\" d=\"M0,0h0v0h0Z\" pointer-events=\"none\"></path><g><g class=\"mark-text role-title-text\" role=\"graphics-symbol\" aria-roledescription=\"title\" aria-label=\"Title text '1'\" pointer-events=\"none\"><text text-anchor=\"middle\" transform=\"translate(0,8)\" font-family=\"sans-serif\" font-size=\"10px\" fill=\"#000\" opacity=\"1\">1</text></g></g><path class=\"foreground\" aria-hidden=\"true\" d=\"\" pointer-events=\"none\" display=\"none\"></path></g></g></g><path class=\"foreground\" aria-hidden=\"true\" d=\"\" display=\"none\"></path></g><g transform=\"translate(42.5,-1)\"><path class=\"background\" aria-hidden=\"true\" d=\"M0,0h36v0h-36Z\"></path><g><g class=\"mark-group role-title\"><g transform=\"translate(18,-20)\"><path class=\"background\" aria-hidden=\"true\" d=\"M0,0h0v0h0Z\" pointer-events=\"none\"></path><g><g class=\"mark-text role-title-text\" role=\"graphics-symbol\" aria-roledescription=\"title\" aria-label=\"Title text '2'\" pointer-events=\"none\"><text text-anchor=\"middle\" transform=\"translate(0,8)\" font-family=\"sans-serif\" font-size=\"10px\" fill=\"#000\" opacity=\"1\">2</text></g></g><path class=\"foreground\" aria-hidden=\"true\" d=\"\" pointer-events=\"none\" display=\"none\"></path></g></g></g><path class=\"foreground\" aria-hidden=\"true\" d=\"\" display=\"none\"></path></g><g transform=\"translate(85,-1)\"><path class=\"background\" aria-hidden=\"true\" d=\"M0,0h36v0h-36Z\"></path><g><g class=\"mark-group role-title\"><g transform=\"translate(18,-20)\"><path class=\"background\" aria-hidden=\"true\" d=\"M0,0h0v0h0Z\" pointer-events=\"none\"></path><g><g class=\"mark-text role-title-text\" role=\"graphics-symbol\" aria-roledescription=\"title\" aria-label=\"Title text '3'\" pointer-events=\"none\"><text text-anchor=\"middle\" transform=\"translate(0,8)\" font-family=\"sans-serif\" font-size=\"10px\" fill=\"#000\" opacity=\"1\">3</text></g></g><path class=\"foreground\" aria-hidden=\"true\" d=\"\" pointer-events=\"none\" display=\"none\"></path></g></g></g><path class=\"foreground\" aria-hidden=\"true\" d=\"\" display=\"none\"></path></g><g transform=\"translate(127.5,-1)\"><path class=\"background\" aria-hidden=\"true\" d=\"M0,0h36v0h-36Z\"></path><g><g class=\"mark-group role-title\"><g transform=\"translate(18,-20)\"><path class=\"background\" aria-hidden=\"true\" d=\"M0,0h0v0h0Z\" pointer-events=\"none\"></path><g><g class=\"mark-text role-title-text\" role=\"graphics-symbol\" aria-roledescription=\"title\" aria-label=\"Title text '4'\" pointer-events=\"none\"><text text-anchor=\"middle\" transform=\"translate(0,8)\" font-family=\"sans-serif\" font-size=\"10px\" fill=\"#000\" opacity=\"1\">4</text></g></g><path class=\"foreground\" aria-hidden=\"true\" d=\"\" pointer-events=\"none\" display=\"none\"></path></g></g></g><path class=\"foreground\" aria-hidden=\"true\" d=\"\" display=\"none\"></path></g><g transform=\"translate(170,-1)\"><path class=\"background\" aria-hidden=\"true\" d=\"M0,0h36v0h-36Z\"></path><g><g class=\"mark-group role-title\"><g transform=\"translate(18,-20)\"><path class=\"background\" aria-hidden=\"true\" d=\"M0,0h0v0h0Z\" pointer-events=\"none\"></path><g><g class=\"mark-text role-title-text\" role=\"graphics-symbol\" aria-roledescription=\"title\" aria-label=\"Title text '5'\" pointer-events=\"none\"><text text-anchor=\"middle\" transform=\"translate(0,8)\" font-family=\"sans-serif\" font-size=\"10px\" fill=\"#000\" opacity=\"1\">5</text></g></g><path class=\"foreground\" aria-hidden=\"true\" d=\"\" pointer-events=\"none\" display=\"none\"></path></g></g></g><path class=\"foreground\" aria-hidden=\"true\" d=\"\" display=\"none\"></path></g><g transform=\"translate(212.5,-1)\"><path class=\"background\" aria-hidden=\"true\" d=\"M0,0h36v0h-36Z\"></path><g><g class=\"mark-group role-title\"><g transform=\"translate(18,-20)\"><path class=\"background\" aria-hidden=\"true\" d=\"M0,0h0v0h0Z\" pointer-events=\"none\"></path><g><g class=\"mark-text role-title-text\" role=\"graphics-symbol\" aria-roledescription=\"title\" aria-label=\"Title text '6'\" pointer-events=\"none\"><text text-anchor=\"middle\" transform=\"translate(0,8)\" font-family=\"sans-serif\" font-size=\"10px\" fill=\"#000\" opacity=\"1\">6</text></g></g><path class=\"foreground\" aria-hidden=\"true\" d=\"\" pointer-events=\"none\" display=\"none\"></path></g></g></g><path class=\"foreground\" aria-hidden=\"true\" d=\"\" display=\"none\"></path></g><g transform=\"translate(255,-1)\"><path class=\"background\" aria-hidden=\"true\" d=\"M0,0h36v0h-36Z\"></path><g><g class=\"mark-group role-title\"><g transform=\"translate(18,-20)\"><path class=\"background\" aria-hidden=\"true\" d=\"M0,0h0v0h0Z\" pointer-events=\"none\"></path><g><g class=\"mark-text role-title-text\" role=\"graphics-symbol\" aria-roledescription=\"title\" aria-label=\"Title text '7'\" pointer-events=\"none\"><text text-anchor=\"middle\" transform=\"translate(0,8)\" font-family=\"sans-serif\" font-size=\"10px\" fill=\"#000\" opacity=\"1\">7</text></g></g><path class=\"foreground\" aria-hidden=\"true\" d=\"\" pointer-events=\"none\" display=\"none\"></path></g></g></g><path class=\"foreground\" aria-hidden=\"true\" d=\"\" display=\"none\"></path></g><g transform=\"translate(297.5,-1)\"><path class=\"background\" aria-hidden=\"true\" d=\"M0,0h36v0h-36Z\"></path><g><g class=\"mark-group role-title\"><g transform=\"translate(18,-20)\"><path class=\"background\" aria-hidden=\"true\" d=\"M0,0h0v0h0Z\" pointer-events=\"none\"></path><g><g class=\"mark-text role-title-text\" role=\"graphics-symbol\" aria-roledescription=\"title\" aria-label=\"Title text '8'\" pointer-events=\"none\"><text text-anchor=\"middle\" transform=\"translate(0,8)\" font-family=\"sans-serif\" font-size=\"10px\" fill=\"#000\" opacity=\"1\">8</text></g></g><path class=\"foreground\" aria-hidden=\"true\" d=\"\" pointer-events=\"none\" display=\"none\"></path></g></g></g><path class=\"foreground\" aria-hidden=\"true\" d=\"\" display=\"none\"></path></g><g transform=\"translate(340,-1)\"><path class=\"background\" aria-hidden=\"true\" d=\"M0,0h36v0h-36Z\"></path><g><g class=\"mark-group role-title\"><g transform=\"translate(18,-20)\"><path class=\"background\" aria-hidden=\"true\" d=\"M0,0h0v0h0Z\" pointer-events=\"none\"></path><g><g class=\"mark-text role-title-text\" role=\"graphics-symbol\" aria-roledescription=\"title\" aria-label=\"Title text '9'\" pointer-events=\"none\"><text text-anchor=\"middle\" transform=\"translate(0,8)\" font-family=\"sans-serif\" font-size=\"10px\" fill=\"#000\" opacity=\"1\">9</text></g></g><path class=\"foreground\" aria-hidden=\"true\" d=\"\" pointer-events=\"none\" display=\"none\"></path></g></g></g><path class=\"foreground\" aria-hidden=\"true\" d=\"\" display=\"none\"></path></g><g transform=\"translate(382.5,-1)\"><path class=\"background\" aria-hidden=\"true\" d=\"M0,0h36v0h-36Z\"></path><g><g class=\"mark-group role-title\"><g transform=\"translate(18,-20)\"><path class=\"background\" aria-hidden=\"true\" d=\"M0,0h0v0h0Z\" pointer-events=\"none\"></path><g><g class=\"mark-text role-title-text\" role=\"graphics-symbol\" aria-roledescription=\"title\" aria-label=\"Title text '10'\" pointer-events=\"none\"><text text-anchor=\"middle\" transform=\"translate(0,8)\" font-family=\"sans-serif\" font-size=\"10px\" fill=\"#000\" opacity=\"1\">10</text></g></g><path class=\"foreground\" aria-hidden=\"true\" d=\"\" pointer-events=\"none\" display=\"none\"></path></g></g></g><path class=\"foreground\" aria-hidden=\"true\" d=\"\" display=\"none\"></path></g><g transform=\"translate(425,-1)\"><path class=\"background\" aria-hidden=\"true\" d=\"M0,0h36v0h-36Z\"></path><g><g class=\"mark-group role-title\"><g transform=\"translate(18,-20)\"><path class=\"background\" aria-hidden=\"true\" d=\"M0,0h0v0h0Z\" pointer-events=\"none\"></path><g><g class=\"mark-text role-title-text\" role=\"graphics-symbol\" aria-roledescription=\"title\" aria-label=\"Title text '11'\" pointer-events=\"none\"><text text-anchor=\"middle\" transform=\"translate(0,8)\" font-family=\"sans-serif\" font-size=\"10px\" fill=\"#000\" opacity=\"1\">11</text></g></g><path class=\"foreground\" aria-hidden=\"true\" d=\"\" pointer-events=\"none\" display=\"none\"></path></g></g></g><path class=\"foreground\" aria-hidden=\"true\" d=\"\" display=\"none\"></path></g><g transform=\"translate(467.5,-1)\"><path class=\"background\" aria-hidden=\"true\" d=\"M0,0h36v0h-36Z\"></path><g><g class=\"mark-group role-title\"><g transform=\"translate(18,-20)\"><path class=\"background\" aria-hidden=\"true\" d=\"M0,0h0v0h0Z\" pointer-events=\"none\"></path><g><g class=\"mark-text role-title-text\" role=\"graphics-symbol\" aria-roledescription=\"title\" aria-label=\"Title text '12'\" pointer-events=\"none\"><text text-anchor=\"middle\" transform=\"translate(0,8)\" font-family=\"sans-serif\" font-size=\"10px\" fill=\"#000\" opacity=\"1\">12</text></g></g><path class=\"foreground\" aria-hidden=\"true\" d=\"\" pointer-events=\"none\" display=\"none\"></path></g></g></g><path class=\"foreground\" aria-hidden=\"true\" d=\"\" display=\"none\"></path></g><g transform=\"translate(510,-1)\"><path class=\"background\" aria-hidden=\"true\" d=\"M0,0h36v0h-36Z\"></path><g><g class=\"mark-group role-title\"><g transform=\"translate(18,-20)\"><path class=\"background\" aria-hidden=\"true\" d=\"M0,0h0v0h0Z\" pointer-events=\"none\"></path><g><g class=\"mark-text role-title-text\" role=\"graphics-symbol\" aria-roledescription=\"title\" aria-label=\"Title text '13'\" pointer-events=\"none\"><text text-anchor=\"middle\" transform=\"translate(0,8)\" font-family=\"sans-serif\" font-size=\"10px\" fill=\"#000\" opacity=\"1\">13</text></g></g><path class=\"foreground\" aria-hidden=\"true\" d=\"\" pointer-events=\"none\" display=\"none\"></path></g></g></g><path class=\"foreground\" aria-hidden=\"true\" d=\"\" display=\"none\"></path></g><g transform=\"translate(552.5,-1)\"><path class=\"background\" aria-hidden=\"true\" d=\"M0,0h36v0h-36Z\"></path><g><g class=\"mark-group role-title\"><g transform=\"translate(18,-20)\"><path class=\"background\" aria-hidden=\"true\" d=\"M0,0h0v0h0Z\" pointer-events=\"none\"></path><g><g class=\"mark-text role-title-text\" role=\"graphics-symbol\" aria-roledescription=\"title\" aria-label=\"Title text '14'\" pointer-events=\"none\"><text text-anchor=\"middle\" transform=\"translate(0,8)\" font-family=\"sans-serif\" font-size=\"10px\" fill=\"#000\" opacity=\"1\">14</text></g></g><path class=\"foreground\" aria-hidden=\"true\" d=\"\" pointer-events=\"none\" display=\"none\"></path></g></g></g><path class=\"foreground\" aria-hidden=\"true\" d=\"\" display=\"none\"></path></g><g transform=\"translate(595,-1)\"><path class=\"background\" aria-hidden=\"true\" d=\"M0,0h36v0h-36Z\"></path><g><g class=\"mark-group role-title\"><g transform=\"translate(18,-20)\"><path class=\"background\" aria-hidden=\"true\" d=\"M0,0h0v0h0Z\" pointer-events=\"none\"></path><g><g class=\"mark-text role-title-text\" role=\"graphics-symbol\" aria-roledescription=\"title\" aria-label=\"Title text '15'\" pointer-events=\"none\"><text text-anchor=\"middle\" transform=\"translate(0,8)\" font-family=\"sans-serif\" font-size=\"10px\" fill=\"#000\" opacity=\"1\">15</text></g></g><path class=\"foreground\" aria-hidden=\"true\" d=\"\" pointer-events=\"none\" display=\"none\"></path></g></g></g><path class=\"foreground\" aria-hidden=\"true\" d=\"\" display=\"none\"></path></g></g><g class=\"mark-group role-column-footer column_footer\" role=\"graphics-object\" aria-roledescription=\"group mark container\"><g transform=\"translate(0,351)\"><path class=\"background\" aria-hidden=\"true\" d=\"M0,0h36v0h-36Z\"></path><g><g class=\"mark-group role-axis\" role=\"graphics-symbol\" aria-roledescription=\"axis\" aria-label=\"X-axis titled ' ' for a discrete scale with 2 values: ats, otc\"><g transform=\"translate(0.5,0.5)\"><path class=\"background\" aria-hidden=\"true\" d=\"M0,0h0v0h0Z\" pointer-events=\"none\"></path><g><g class=\"mark-rule role-axis-tick\" pointer-events=\"none\"><line transform=\"translate(9,0)\" x2=\"0\" y2=\"5\" stroke=\"#888\" stroke-width=\"1\" opacity=\"1\"></line><line transform=\"translate(27,0)\" x2=\"0\" y2=\"5\" stroke=\"#888\" stroke-width=\"1\" opacity=\"1\"></line></g><g class=\"mark-text role-axis-label\" pointer-events=\"none\"><text text-anchor=\"end\" transform=\"translate(8.500000000000002,7) rotate(270) translate(0,3)\" font-family=\"sans-serif\" font-size=\"10px\" fill=\"#000\" opacity=\"1\">ats</text><text text-anchor=\"end\" transform=\"translate(26.5,7) rotate(270) translate(0,3)\" font-family=\"sans-serif\" font-size=\"10px\" fill=\"#000\" opacity=\"1\">otc</text></g><g class=\"mark-rule role-axis-domain\" pointer-events=\"none\"><line transform=\"translate(0,0)\" x2=\"36\" y2=\"0\" stroke=\"#888\" stroke-width=\"3\" opacity=\"1\"></line></g><g class=\"mark-text role-axis-title\" pointer-events=\"none\"><text text-anchor=\"middle\" transform=\"translate(18,36)\" font-family=\"sans-serif\" font-size=\"11px\" font-weight=\"bold\" fill=\"#000\" opacity=\"1\"></text></g></g><path class=\"foreground\" aria-hidden=\"true\" d=\"\" pointer-events=\"none\" display=\"none\"></path></g></g></g><path class=\"foreground\" aria-hidden=\"true\" d=\"\" display=\"none\"></path></g><g transform=\"translate(42.5,351)\"><path class=\"background\" aria-hidden=\"true\" d=\"M0,0h36v0h-36Z\"></path><g><g class=\"mark-group role-axis\" role=\"graphics-symbol\" aria-roledescription=\"axis\" aria-label=\"X-axis titled ' ' for a discrete scale with 2 values: ats, otc\"><g transform=\"translate(0.5,0.5)\"><path class=\"background\" aria-hidden=\"true\" d=\"M0,0h0v0h0Z\" pointer-events=\"none\"></path><g><g class=\"mark-rule role-axis-tick\" pointer-events=\"none\"><line transform=\"translate(9,0)\" x2=\"0\" y2=\"5\" stroke=\"#888\" stroke-width=\"1\" opacity=\"1\"></line><line transform=\"translate(27,0)\" x2=\"0\" y2=\"5\" stroke=\"#888\" stroke-width=\"1\" opacity=\"1\"></line></g><g class=\"mark-text role-axis-label\" pointer-events=\"none\"><text text-anchor=\"end\" transform=\"translate(8.500000000000002,7) rotate(270) translate(0,3)\" font-family=\"sans-serif\" font-size=\"10px\" fill=\"#000\" opacity=\"1\">ats</text><text text-anchor=\"end\" transform=\"translate(26.5,7) rotate(270) translate(0,3)\" font-family=\"sans-serif\" font-size=\"10px\" fill=\"#000\" opacity=\"1\">otc</text></g><g class=\"mark-rule role-axis-domain\" pointer-events=\"none\"><line transform=\"translate(0,0)\" x2=\"36\" y2=\"0\" stroke=\"#888\" stroke-width=\"3\" opacity=\"1\"></line></g><g class=\"mark-text role-axis-title\" pointer-events=\"none\"><text text-anchor=\"middle\" transform=\"translate(18,36)\" font-family=\"sans-serif\" font-size=\"11px\" font-weight=\"bold\" fill=\"#000\" opacity=\"1\"></text></g></g><path class=\"foreground\" aria-hidden=\"true\" d=\"\" pointer-events=\"none\" display=\"none\"></path></g></g></g><path class=\"foreground\" aria-hidden=\"true\" d=\"\" display=\"none\"></path></g><g transform=\"translate(85,351)\"><path class=\"background\" aria-hidden=\"true\" d=\"M0,0h36v0h-36Z\"></path><g><g class=\"mark-group role-axis\" role=\"graphics-symbol\" aria-roledescription=\"axis\" aria-label=\"X-axis titled ' ' for a discrete scale with 2 values: ats, otc\"><g transform=\"translate(0.5,0.5)\"><path class=\"background\" aria-hidden=\"true\" d=\"M0,0h0v0h0Z\" pointer-events=\"none\"></path><g><g class=\"mark-rule role-axis-tick\" pointer-events=\"none\"><line transform=\"translate(9,0)\" x2=\"0\" y2=\"5\" stroke=\"#888\" stroke-width=\"1\" opacity=\"1\"></line><line transform=\"translate(27,0)\" x2=\"0\" y2=\"5\" stroke=\"#888\" stroke-width=\"1\" opacity=\"1\"></line></g><g class=\"mark-text role-axis-label\" pointer-events=\"none\"><text text-anchor=\"end\" transform=\"translate(8.500000000000002,7) rotate(270) translate(0,3)\" font-family=\"sans-serif\" font-size=\"10px\" fill=\"#000\" opacity=\"1\">ats</text><text text-anchor=\"end\" transform=\"translate(26.5,7) rotate(270) translate(0,3)\" font-family=\"sans-serif\" font-size=\"10px\" fill=\"#000\" opacity=\"1\">otc</text></g><g class=\"mark-rule role-axis-domain\" pointer-events=\"none\"><line transform=\"translate(0,0)\" x2=\"36\" y2=\"0\" stroke=\"#888\" stroke-width=\"3\" opacity=\"1\"></line></g><g class=\"mark-text role-axis-title\" pointer-events=\"none\"><text text-anchor=\"middle\" transform=\"translate(18,36)\" font-family=\"sans-serif\" font-size=\"11px\" font-weight=\"bold\" fill=\"#000\" opacity=\"1\"></text></g></g><path class=\"foreground\" aria-hidden=\"true\" d=\"\" pointer-events=\"none\" display=\"none\"></path></g></g></g><path class=\"foreground\" aria-hidden=\"true\" d=\"\" display=\"none\"></path></g><g transform=\"translate(127.5,351)\"><path class=\"background\" aria-hidden=\"true\" d=\"M0,0h36v0h-36Z\"></path><g><g class=\"mark-group role-axis\" role=\"graphics-symbol\" aria-roledescription=\"axis\" aria-label=\"X-axis titled ' ' for a discrete scale with 2 values: ats, otc\"><g transform=\"translate(0.5,0.5)\"><path class=\"background\" aria-hidden=\"true\" d=\"M0,0h0v0h0Z\" pointer-events=\"none\"></path><g><g class=\"mark-rule role-axis-tick\" pointer-events=\"none\"><line transform=\"translate(9,0)\" x2=\"0\" y2=\"5\" stroke=\"#888\" stroke-width=\"1\" opacity=\"1\"></line><line transform=\"translate(27,0)\" x2=\"0\" y2=\"5\" stroke=\"#888\" stroke-width=\"1\" opacity=\"1\"></line></g><g class=\"mark-text role-axis-label\" pointer-events=\"none\"><text text-anchor=\"end\" transform=\"translate(8.500000000000002,7) rotate(270) translate(0,3)\" font-family=\"sans-serif\" font-size=\"10px\" fill=\"#000\" opacity=\"1\">ats</text><text text-anchor=\"end\" transform=\"translate(26.5,7) rotate(270) translate(0,3)\" font-family=\"sans-serif\" font-size=\"10px\" fill=\"#000\" opacity=\"1\">otc</text></g><g class=\"mark-rule role-axis-domain\" pointer-events=\"none\"><line transform=\"translate(0,0)\" x2=\"36\" y2=\"0\" stroke=\"#888\" stroke-width=\"3\" opacity=\"1\"></line></g><g class=\"mark-text role-axis-title\" pointer-events=\"none\"><text text-anchor=\"middle\" transform=\"translate(18,36)\" font-family=\"sans-serif\" font-size=\"11px\" font-weight=\"bold\" fill=\"#000\" opacity=\"1\"></text></g></g><path class=\"foreground\" aria-hidden=\"true\" d=\"\" pointer-events=\"none\" display=\"none\"></path></g></g></g><path class=\"foreground\" aria-hidden=\"true\" d=\"\" display=\"none\"></path></g><g transform=\"translate(170,351)\"><path class=\"background\" aria-hidden=\"true\" d=\"M0,0h36v0h-36Z\"></path><g><g class=\"mark-group role-axis\" role=\"graphics-symbol\" aria-roledescription=\"axis\" aria-label=\"X-axis titled ' ' for a discrete scale with 2 values: ats, otc\"><g transform=\"translate(0.5,0.5)\"><path class=\"background\" aria-hidden=\"true\" d=\"M0,0h0v0h0Z\" pointer-events=\"none\"></path><g><g class=\"mark-rule role-axis-tick\" pointer-events=\"none\"><line transform=\"translate(9,0)\" x2=\"0\" y2=\"5\" stroke=\"#888\" stroke-width=\"1\" opacity=\"1\"></line><line transform=\"translate(27,0)\" x2=\"0\" y2=\"5\" stroke=\"#888\" stroke-width=\"1\" opacity=\"1\"></line></g><g class=\"mark-text role-axis-label\" pointer-events=\"none\"><text text-anchor=\"end\" transform=\"translate(8.500000000000002,7) rotate(270) translate(0,3)\" font-family=\"sans-serif\" font-size=\"10px\" fill=\"#000\" opacity=\"1\">ats</text><text text-anchor=\"end\" transform=\"translate(26.5,7) rotate(270) translate(0,3)\" font-family=\"sans-serif\" font-size=\"10px\" fill=\"#000\" opacity=\"1\">otc</text></g><g class=\"mark-rule role-axis-domain\" pointer-events=\"none\"><line transform=\"translate(0,0)\" x2=\"36\" y2=\"0\" stroke=\"#888\" stroke-width=\"3\" opacity=\"1\"></line></g><g class=\"mark-text role-axis-title\" pointer-events=\"none\"><text text-anchor=\"middle\" transform=\"translate(18,36)\" font-family=\"sans-serif\" font-size=\"11px\" font-weight=\"bold\" fill=\"#000\" opacity=\"1\"></text></g></g><path class=\"foreground\" aria-hidden=\"true\" d=\"\" pointer-events=\"none\" display=\"none\"></path></g></g></g><path class=\"foreground\" aria-hidden=\"true\" d=\"\" display=\"none\"></path></g><g transform=\"translate(212.5,351)\"><path class=\"background\" aria-hidden=\"true\" d=\"M0,0h36v0h-36Z\"></path><g><g class=\"mark-group role-axis\" role=\"graphics-symbol\" aria-roledescription=\"axis\" aria-label=\"X-axis titled ' ' for a discrete scale with 2 values: ats, otc\"><g transform=\"translate(0.5,0.5)\"><path class=\"background\" aria-hidden=\"true\" d=\"M0,0h0v0h0Z\" pointer-events=\"none\"></path><g><g class=\"mark-rule role-axis-tick\" pointer-events=\"none\"><line transform=\"translate(9,0)\" x2=\"0\" y2=\"5\" stroke=\"#888\" stroke-width=\"1\" opacity=\"1\"></line><line transform=\"translate(27,0)\" x2=\"0\" y2=\"5\" stroke=\"#888\" stroke-width=\"1\" opacity=\"1\"></line></g><g class=\"mark-text role-axis-label\" pointer-events=\"none\"><text text-anchor=\"end\" transform=\"translate(8.500000000000002,7) rotate(270) translate(0,3)\" font-family=\"sans-serif\" font-size=\"10px\" fill=\"#000\" opacity=\"1\">ats</text><text text-anchor=\"end\" transform=\"translate(26.5,7) rotate(270) translate(0,3)\" font-family=\"sans-serif\" font-size=\"10px\" fill=\"#000\" opacity=\"1\">otc</text></g><g class=\"mark-rule role-axis-domain\" pointer-events=\"none\"><line transform=\"translate(0,0)\" x2=\"36\" y2=\"0\" stroke=\"#888\" stroke-width=\"3\" opacity=\"1\"></line></g><g class=\"mark-text role-axis-title\" pointer-events=\"none\"><text text-anchor=\"middle\" transform=\"translate(18,36)\" font-family=\"sans-serif\" font-size=\"11px\" font-weight=\"bold\" fill=\"#000\" opacity=\"1\"></text></g></g><path class=\"foreground\" aria-hidden=\"true\" d=\"\" pointer-events=\"none\" display=\"none\"></path></g></g></g><path class=\"foreground\" aria-hidden=\"true\" d=\"\" display=\"none\"></path></g><g transform=\"translate(255,351)\"><path class=\"background\" aria-hidden=\"true\" d=\"M0,0h36v0h-36Z\"></path><g><g class=\"mark-group role-axis\" role=\"graphics-symbol\" aria-roledescription=\"axis\" aria-label=\"X-axis titled ' ' for a discrete scale with 2 values: ats, otc\"><g transform=\"translate(0.5,0.5)\"><path class=\"background\" aria-hidden=\"true\" d=\"M0,0h0v0h0Z\" pointer-events=\"none\"></path><g><g class=\"mark-rule role-axis-tick\" pointer-events=\"none\"><line transform=\"translate(9,0)\" x2=\"0\" y2=\"5\" stroke=\"#888\" stroke-width=\"1\" opacity=\"1\"></line><line transform=\"translate(27,0)\" x2=\"0\" y2=\"5\" stroke=\"#888\" stroke-width=\"1\" opacity=\"1\"></line></g><g class=\"mark-text role-axis-label\" pointer-events=\"none\"><text text-anchor=\"end\" transform=\"translate(8.500000000000002,7) rotate(270) translate(0,3)\" font-family=\"sans-serif\" font-size=\"10px\" fill=\"#000\" opacity=\"1\">ats</text><text text-anchor=\"end\" transform=\"translate(26.5,7) rotate(270) translate(0,3)\" font-family=\"sans-serif\" font-size=\"10px\" fill=\"#000\" opacity=\"1\">otc</text></g><g class=\"mark-rule role-axis-domain\" pointer-events=\"none\"><line transform=\"translate(0,0)\" x2=\"36\" y2=\"0\" stroke=\"#888\" stroke-width=\"3\" opacity=\"1\"></line></g><g class=\"mark-text role-axis-title\" pointer-events=\"none\"><text text-anchor=\"middle\" transform=\"translate(18,36)\" font-family=\"sans-serif\" font-size=\"11px\" font-weight=\"bold\" fill=\"#000\" opacity=\"1\"></text></g></g><path class=\"foreground\" aria-hidden=\"true\" d=\"\" pointer-events=\"none\" display=\"none\"></path></g></g></g><path class=\"foreground\" aria-hidden=\"true\" d=\"\" display=\"none\"></path></g><g transform=\"translate(297.5,351)\"><path class=\"background\" aria-hidden=\"true\" d=\"M0,0h36v0h-36Z\"></path><g><g class=\"mark-group role-axis\" role=\"graphics-symbol\" aria-roledescription=\"axis\" aria-label=\"X-axis titled ' ' for a discrete scale with 2 values: ats, otc\"><g transform=\"translate(0.5,0.5)\"><path class=\"background\" aria-hidden=\"true\" d=\"M0,0h0v0h0Z\" pointer-events=\"none\"></path><g><g class=\"mark-rule role-axis-tick\" pointer-events=\"none\"><line transform=\"translate(9,0)\" x2=\"0\" y2=\"5\" stroke=\"#888\" stroke-width=\"1\" opacity=\"1\"></line><line transform=\"translate(27,0)\" x2=\"0\" y2=\"5\" stroke=\"#888\" stroke-width=\"1\" opacity=\"1\"></line></g><g class=\"mark-text role-axis-label\" pointer-events=\"none\"><text text-anchor=\"end\" transform=\"translate(8.500000000000002,7) rotate(270) translate(0,3)\" font-family=\"sans-serif\" font-size=\"10px\" fill=\"#000\" opacity=\"1\">ats</text><text text-anchor=\"end\" transform=\"translate(26.5,7) rotate(270) translate(0,3)\" font-family=\"sans-serif\" font-size=\"10px\" fill=\"#000\" opacity=\"1\">otc</text></g><g class=\"mark-rule role-axis-domain\" pointer-events=\"none\"><line transform=\"translate(0,0)\" x2=\"36\" y2=\"0\" stroke=\"#888\" stroke-width=\"3\" opacity=\"1\"></line></g><g class=\"mark-text role-axis-title\" pointer-events=\"none\"><text text-anchor=\"middle\" transform=\"translate(18,36)\" font-family=\"sans-serif\" font-size=\"11px\" font-weight=\"bold\" fill=\"#000\" opacity=\"1\"></text></g></g><path class=\"foreground\" aria-hidden=\"true\" d=\"\" pointer-events=\"none\" display=\"none\"></path></g></g></g><path class=\"foreground\" aria-hidden=\"true\" d=\"\" display=\"none\"></path></g><g transform=\"translate(340,351)\"><path class=\"background\" aria-hidden=\"true\" d=\"M0,0h36v0h-36Z\"></path><g><g class=\"mark-group role-axis\" role=\"graphics-symbol\" aria-roledescription=\"axis\" aria-label=\"X-axis titled ' ' for a discrete scale with 2 values: ats, otc\"><g transform=\"translate(0.5,0.5)\"><path class=\"background\" aria-hidden=\"true\" d=\"M0,0h0v0h0Z\" pointer-events=\"none\"></path><g><g class=\"mark-rule role-axis-tick\" pointer-events=\"none\"><line transform=\"translate(9,0)\" x2=\"0\" y2=\"5\" stroke=\"#888\" stroke-width=\"1\" opacity=\"1\"></line><line transform=\"translate(27,0)\" x2=\"0\" y2=\"5\" stroke=\"#888\" stroke-width=\"1\" opacity=\"1\"></line></g><g class=\"mark-text role-axis-label\" pointer-events=\"none\"><text text-anchor=\"end\" transform=\"translate(8.500000000000002,7) rotate(270) translate(0,3)\" font-family=\"sans-serif\" font-size=\"10px\" fill=\"#000\" opacity=\"1\">ats</text><text text-anchor=\"end\" transform=\"translate(26.5,7) rotate(270) translate(0,3)\" font-family=\"sans-serif\" font-size=\"10px\" fill=\"#000\" opacity=\"1\">otc</text></g><g class=\"mark-rule role-axis-domain\" pointer-events=\"none\"><line transform=\"translate(0,0)\" x2=\"36\" y2=\"0\" stroke=\"#888\" stroke-width=\"3\" opacity=\"1\"></line></g><g class=\"mark-text role-axis-title\" pointer-events=\"none\"><text text-anchor=\"middle\" transform=\"translate(18,36)\" font-family=\"sans-serif\" font-size=\"11px\" font-weight=\"bold\" fill=\"#000\" opacity=\"1\"></text></g></g><path class=\"foreground\" aria-hidden=\"true\" d=\"\" pointer-events=\"none\" display=\"none\"></path></g></g></g><path class=\"foreground\" aria-hidden=\"true\" d=\"\" display=\"none\"></path></g><g transform=\"translate(382.5,351)\"><path class=\"background\" aria-hidden=\"true\" d=\"M0,0h36v0h-36Z\"></path><g><g class=\"mark-group role-axis\" role=\"graphics-symbol\" aria-roledescription=\"axis\" aria-label=\"X-axis titled ' ' for a discrete scale with 2 values: ats, otc\"><g transform=\"translate(0.5,0.5)\"><path class=\"background\" aria-hidden=\"true\" d=\"M0,0h0v0h0Z\" pointer-events=\"none\"></path><g><g class=\"mark-rule role-axis-tick\" pointer-events=\"none\"><line transform=\"translate(9,0)\" x2=\"0\" y2=\"5\" stroke=\"#888\" stroke-width=\"1\" opacity=\"1\"></line><line transform=\"translate(27,0)\" x2=\"0\" y2=\"5\" stroke=\"#888\" stroke-width=\"1\" opacity=\"1\"></line></g><g class=\"mark-text role-axis-label\" pointer-events=\"none\"><text text-anchor=\"end\" transform=\"translate(8.500000000000002,7) rotate(270) translate(0,3)\" font-family=\"sans-serif\" font-size=\"10px\" fill=\"#000\" opacity=\"1\">ats</text><text text-anchor=\"end\" transform=\"translate(26.5,7) rotate(270) translate(0,3)\" font-family=\"sans-serif\" font-size=\"10px\" fill=\"#000\" opacity=\"1\">otc</text></g><g class=\"mark-rule role-axis-domain\" pointer-events=\"none\"><line transform=\"translate(0,0)\" x2=\"36\" y2=\"0\" stroke=\"#888\" stroke-width=\"3\" opacity=\"1\"></line></g><g class=\"mark-text role-axis-title\" pointer-events=\"none\"><text text-anchor=\"middle\" transform=\"translate(18,36)\" font-family=\"sans-serif\" font-size=\"11px\" font-weight=\"bold\" fill=\"#000\" opacity=\"1\"></text></g></g><path class=\"foreground\" aria-hidden=\"true\" d=\"\" pointer-events=\"none\" display=\"none\"></path></g></g></g><path class=\"foreground\" aria-hidden=\"true\" d=\"\" display=\"none\"></path></g><g transform=\"translate(425,351)\"><path class=\"background\" aria-hidden=\"true\" d=\"M0,0h36v0h-36Z\"></path><g><g class=\"mark-group role-axis\" role=\"graphics-symbol\" aria-roledescription=\"axis\" aria-label=\"X-axis titled ' ' for a discrete scale with 2 values: ats, otc\"><g transform=\"translate(0.5,0.5)\"><path class=\"background\" aria-hidden=\"true\" d=\"M0,0h0v0h0Z\" pointer-events=\"none\"></path><g><g class=\"mark-rule role-axis-tick\" pointer-events=\"none\"><line transform=\"translate(9,0)\" x2=\"0\" y2=\"5\" stroke=\"#888\" stroke-width=\"1\" opacity=\"1\"></line><line transform=\"translate(27,0)\" x2=\"0\" y2=\"5\" stroke=\"#888\" stroke-width=\"1\" opacity=\"1\"></line></g><g class=\"mark-text role-axis-label\" pointer-events=\"none\"><text text-anchor=\"end\" transform=\"translate(8.500000000000002,7) rotate(270) translate(0,3)\" font-family=\"sans-serif\" font-size=\"10px\" fill=\"#000\" opacity=\"1\">ats</text><text text-anchor=\"end\" transform=\"translate(26.5,7) rotate(270) translate(0,3)\" font-family=\"sans-serif\" font-size=\"10px\" fill=\"#000\" opacity=\"1\">otc</text></g><g class=\"mark-rule role-axis-domain\" pointer-events=\"none\"><line transform=\"translate(0,0)\" x2=\"36\" y2=\"0\" stroke=\"#888\" stroke-width=\"3\" opacity=\"1\"></line></g><g class=\"mark-text role-axis-title\" pointer-events=\"none\"><text text-anchor=\"middle\" transform=\"translate(18,36)\" font-family=\"sans-serif\" font-size=\"11px\" font-weight=\"bold\" fill=\"#000\" opacity=\"1\"></text></g></g><path class=\"foreground\" aria-hidden=\"true\" d=\"\" pointer-events=\"none\" display=\"none\"></path></g></g></g><path class=\"foreground\" aria-hidden=\"true\" d=\"\" display=\"none\"></path></g><g transform=\"translate(467.5,351)\"><path class=\"background\" aria-hidden=\"true\" d=\"M0,0h36v0h-36Z\"></path><g><g class=\"mark-group role-axis\" role=\"graphics-symbol\" aria-roledescription=\"axis\" aria-label=\"X-axis titled ' ' for a discrete scale with 2 values: ats, otc\"><g transform=\"translate(0.5,0.5)\"><path class=\"background\" aria-hidden=\"true\" d=\"M0,0h0v0h0Z\" pointer-events=\"none\"></path><g><g class=\"mark-rule role-axis-tick\" pointer-events=\"none\"><line transform=\"translate(9,0)\" x2=\"0\" y2=\"5\" stroke=\"#888\" stroke-width=\"1\" opacity=\"1\"></line><line transform=\"translate(27,0)\" x2=\"0\" y2=\"5\" stroke=\"#888\" stroke-width=\"1\" opacity=\"1\"></line></g><g class=\"mark-text role-axis-label\" pointer-events=\"none\"><text text-anchor=\"end\" transform=\"translate(8.500000000000002,7) rotate(270) translate(0,3)\" font-family=\"sans-serif\" font-size=\"10px\" fill=\"#000\" opacity=\"1\">ats</text><text text-anchor=\"end\" transform=\"translate(26.5,7) rotate(270) translate(0,3)\" font-family=\"sans-serif\" font-size=\"10px\" fill=\"#000\" opacity=\"1\">otc</text></g><g class=\"mark-rule role-axis-domain\" pointer-events=\"none\"><line transform=\"translate(0,0)\" x2=\"36\" y2=\"0\" stroke=\"#888\" stroke-width=\"3\" opacity=\"1\"></line></g><g class=\"mark-text role-axis-title\" pointer-events=\"none\"><text text-anchor=\"middle\" transform=\"translate(18,36)\" font-family=\"sans-serif\" font-size=\"11px\" font-weight=\"bold\" fill=\"#000\" opacity=\"1\"></text></g></g><path class=\"foreground\" aria-hidden=\"true\" d=\"\" pointer-events=\"none\" display=\"none\"></path></g></g></g><path class=\"foreground\" aria-hidden=\"true\" d=\"\" display=\"none\"></path></g><g transform=\"translate(510,351)\"><path class=\"background\" aria-hidden=\"true\" d=\"M0,0h36v0h-36Z\"></path><g><g class=\"mark-group role-axis\" role=\"graphics-symbol\" aria-roledescription=\"axis\" aria-label=\"X-axis titled ' ' for a discrete scale with 2 values: ats, otc\"><g transform=\"translate(0.5,0.5)\"><path class=\"background\" aria-hidden=\"true\" d=\"M0,0h0v0h0Z\" pointer-events=\"none\"></path><g><g class=\"mark-rule role-axis-tick\" pointer-events=\"none\"><line transform=\"translate(9,0)\" x2=\"0\" y2=\"5\" stroke=\"#888\" stroke-width=\"1\" opacity=\"1\"></line><line transform=\"translate(27,0)\" x2=\"0\" y2=\"5\" stroke=\"#888\" stroke-width=\"1\" opacity=\"1\"></line></g><g class=\"mark-text role-axis-label\" pointer-events=\"none\"><text text-anchor=\"end\" transform=\"translate(8.500000000000002,7) rotate(270) translate(0,3)\" font-family=\"sans-serif\" font-size=\"10px\" fill=\"#000\" opacity=\"1\">ats</text><text text-anchor=\"end\" transform=\"translate(26.5,7) rotate(270) translate(0,3)\" font-family=\"sans-serif\" font-size=\"10px\" fill=\"#000\" opacity=\"1\">otc</text></g><g class=\"mark-rule role-axis-domain\" pointer-events=\"none\"><line transform=\"translate(0,0)\" x2=\"36\" y2=\"0\" stroke=\"#888\" stroke-width=\"3\" opacity=\"1\"></line></g><g class=\"mark-text role-axis-title\" pointer-events=\"none\"><text text-anchor=\"middle\" transform=\"translate(18,36)\" font-family=\"sans-serif\" font-size=\"11px\" font-weight=\"bold\" fill=\"#000\" opacity=\"1\"></text></g></g><path class=\"foreground\" aria-hidden=\"true\" d=\"\" pointer-events=\"none\" display=\"none\"></path></g></g></g><path class=\"foreground\" aria-hidden=\"true\" d=\"\" display=\"none\"></path></g><g transform=\"translate(552.5,351)\"><path class=\"background\" aria-hidden=\"true\" d=\"M0,0h36v0h-36Z\"></path><g><g class=\"mark-group role-axis\" role=\"graphics-symbol\" aria-roledescription=\"axis\" aria-label=\"X-axis titled ' ' for a discrete scale with 2 values: ats, otc\"><g transform=\"translate(0.5,0.5)\"><path class=\"background\" aria-hidden=\"true\" d=\"M0,0h0v0h0Z\" pointer-events=\"none\"></path><g><g class=\"mark-rule role-axis-tick\" pointer-events=\"none\"><line transform=\"translate(9,0)\" x2=\"0\" y2=\"5\" stroke=\"#888\" stroke-width=\"1\" opacity=\"1\"></line><line transform=\"translate(27,0)\" x2=\"0\" y2=\"5\" stroke=\"#888\" stroke-width=\"1\" opacity=\"1\"></line></g><g class=\"mark-text role-axis-label\" pointer-events=\"none\"><text text-anchor=\"end\" transform=\"translate(8.500000000000002,7) rotate(270) translate(0,3)\" font-family=\"sans-serif\" font-size=\"10px\" fill=\"#000\" opacity=\"1\">ats</text><text text-anchor=\"end\" transform=\"translate(26.5,7) rotate(270) translate(0,3)\" font-family=\"sans-serif\" font-size=\"10px\" fill=\"#000\" opacity=\"1\">otc</text></g><g class=\"mark-rule role-axis-domain\" pointer-events=\"none\"><line transform=\"translate(0,0)\" x2=\"36\" y2=\"0\" stroke=\"#888\" stroke-width=\"3\" opacity=\"1\"></line></g><g class=\"mark-text role-axis-title\" pointer-events=\"none\"><text text-anchor=\"middle\" transform=\"translate(18,36)\" font-family=\"sans-serif\" font-size=\"11px\" font-weight=\"bold\" fill=\"#000\" opacity=\"1\"></text></g></g><path class=\"foreground\" aria-hidden=\"true\" d=\"\" pointer-events=\"none\" display=\"none\"></path></g></g></g><path class=\"foreground\" aria-hidden=\"true\" d=\"\" display=\"none\"></path></g><g transform=\"translate(595,351)\"><path class=\"background\" aria-hidden=\"true\" d=\"M0,0h36v0h-36Z\"></path><g><g class=\"mark-group role-axis\" role=\"graphics-symbol\" aria-roledescription=\"axis\" aria-label=\"X-axis titled ' ' for a discrete scale with 2 values: ats, otc\"><g transform=\"translate(0.5,0.5)\"><path class=\"background\" aria-hidden=\"true\" d=\"M0,0h0v0h0Z\" pointer-events=\"none\"></path><g><g class=\"mark-rule role-axis-tick\" pointer-events=\"none\"><line transform=\"translate(9,0)\" x2=\"0\" y2=\"5\" stroke=\"#888\" stroke-width=\"1\" opacity=\"1\"></line><line transform=\"translate(27,0)\" x2=\"0\" y2=\"5\" stroke=\"#888\" stroke-width=\"1\" opacity=\"1\"></line></g><g class=\"mark-text role-axis-label\" pointer-events=\"none\"><text text-anchor=\"end\" transform=\"translate(8.500000000000002,7) rotate(270) translate(0,3)\" font-family=\"sans-serif\" font-size=\"10px\" fill=\"#000\" opacity=\"1\">ats</text><text text-anchor=\"end\" transform=\"translate(26.5,7) rotate(270) translate(0,3)\" font-family=\"sans-serif\" font-size=\"10px\" fill=\"#000\" opacity=\"1\">otc</text></g><g class=\"mark-rule role-axis-domain\" pointer-events=\"none\"><line transform=\"translate(0,0)\" x2=\"36\" y2=\"0\" stroke=\"#888\" stroke-width=\"3\" opacity=\"1\"></line></g><g class=\"mark-text role-axis-title\" pointer-events=\"none\"><text text-anchor=\"middle\" transform=\"translate(18,36)\" font-family=\"sans-serif\" font-size=\"11px\" font-weight=\"bold\" fill=\"#000\" opacity=\"1\"></text></g></g><path class=\"foreground\" aria-hidden=\"true\" d=\"\" pointer-events=\"none\" display=\"none\"></path></g></g></g><path class=\"foreground\" aria-hidden=\"true\" d=\"\" display=\"none\"></path></g></g><g class=\"mark-group role-scope cell\" role=\"graphics-object\" aria-roledescription=\"group mark container\"><g transform=\"translate(0,0)\"><path class=\"background\" aria-hidden=\"true\" d=\"M0.5,0.5h36v350h-36Z\"></path><g><g class=\"mark-rect role-mark child_marks\" role=\"graphics-object\" aria-roledescription=\"rect mark container\"><path aria-label=\"Number of Issuers: 274;  : otc; Secondary Market: otc\" role=\"graphics-symbol\" aria-roledescription=\"bar\" d=\"M18.900000000000002,302.05h16.2v47.94999999999999h-16.2Z\" fill=\"rgb(53, 183, 121)\"></path><path aria-label=\"Number of Issuers: 268;  : ats; Secondary Market: ats\" role=\"graphics-symbol\" aria-roledescription=\"bar\" d=\"M0.9000000000000021,303.1h16.2v46.89999999999998h-16.2Z\" fill=\"rgb(49, 104, 142)\"></path></g></g><path class=\"foreground\" aria-hidden=\"true\" d=\"\" display=\"none\"></path></g><g transform=\"translate(42.5,0)\"><path class=\"background\" aria-hidden=\"true\" d=\"M0.5,0.5h36v350h-36Z\"></path><g><g class=\"mark-rect role-mark child_marks\" role=\"graphics-object\" aria-roledescription=\"rect mark container\"><path aria-label=\"Number of Issuers: 1561;  : otc; Secondary Market: otc\" role=\"graphics-symbol\" aria-roledescription=\"bar\" d=\"M18.900000000000002,76.82500000000002h16.2v273.17499999999995h-16.2Z\" fill=\"rgb(53, 183, 121)\"></path><path aria-label=\"Number of Issuers: 1524;  : ats; Secondary Market: ats\" role=\"graphics-symbol\" aria-roledescription=\"bar\" d=\"M0.9000000000000021,83.3h16.2v266.7h-16.2Z\" fill=\"rgb(49, 104, 142)\"></path></g></g><path class=\"foreground\" aria-hidden=\"true\" d=\"\" display=\"none\"></path></g><g transform=\"translate(85,0)\"><path class=\"background\" aria-hidden=\"true\" d=\"M0.5,0.5h36v350h-36Z\"></path><g><g class=\"mark-rect role-mark child_marks\" role=\"graphics-object\" aria-roledescription=\"rect mark container\"><path aria-label=\"Number of Issuers: 22;  : otc; Secondary Market: otc\" role=\"graphics-symbol\" aria-roledescription=\"bar\" d=\"M18.900000000000002,346.15h16.2v3.8500000000000227h-16.2Z\" fill=\"rgb(53, 183, 121)\"></path><path aria-label=\"Number of Issuers: 22;  : ats; Secondary Market: ats\" role=\"graphics-symbol\" aria-roledescription=\"bar\" d=\"M0.9000000000000021,346.15h16.2v3.8500000000000227h-16.2Z\" fill=\"rgb(49, 104, 142)\"></path></g></g><path class=\"foreground\" aria-hidden=\"true\" d=\"\" display=\"none\"></path></g><g transform=\"translate(127.5,0)\"><path class=\"background\" aria-hidden=\"true\" d=\"M0.5,0.5h36v350h-36Z\"></path><g><g class=\"mark-rect role-mark child_marks\" role=\"graphics-object\" aria-roledescription=\"rect mark container\"><path aria-label=\"Number of Issuers: 40;  : otc; Secondary Market: otc\" role=\"graphics-symbol\" aria-roledescription=\"bar\" d=\"M18.900000000000002,343h16.2v7h-16.2Z\" fill=\"rgb(53, 183, 121)\"></path><path aria-label=\"Number of Issuers: 39;  : ats; Secondary Market: ats\" role=\"graphics-symbol\" aria-roledescription=\"bar\" d=\"M0.9000000000000021,343.175h16.2v6.824999999999989h-16.2Z\" fill=\"rgb(49, 104, 142)\"></path></g></g><path class=\"foreground\" aria-hidden=\"true\" d=\"\" display=\"none\"></path></g><g transform=\"translate(170,0)\"><path class=\"background\" aria-hidden=\"true\" d=\"M0.5,0.5h36v350h-36Z\"></path><g><g class=\"mark-rect role-mark child_marks\" role=\"graphics-object\" aria-roledescription=\"rect mark container\"><path aria-label=\"Number of Issuers: 7;  : otc; Secondary Market: otc\" role=\"graphics-symbol\" aria-roledescription=\"bar\" d=\"M18.900000000000002,348.77500000000003h16.2v1.224999999999966h-16.2Z\" fill=\"rgb(53, 183, 121)\"></path><path aria-label=\"Number of Issuers: 6;  : ats; Secondary Market: ats\" role=\"graphics-symbol\" aria-roledescription=\"bar\" d=\"M0.9000000000000021,348.95h16.2v1.0500000000000114h-16.2Z\" fill=\"rgb(49, 104, 142)\"></path></g></g><path class=\"foreground\" aria-hidden=\"true\" d=\"\" display=\"none\"></path></g><g transform=\"translate(212.5,0)\"><path class=\"background\" aria-hidden=\"true\" d=\"M0.5,0.5h36v350h-36Z\"></path><g><g class=\"mark-rect role-mark child_marks\" role=\"graphics-object\" aria-roledescription=\"rect mark container\"><path aria-label=\"Number of Issuers: 1305;  : otc; Secondary Market: otc\" role=\"graphics-symbol\" aria-roledescription=\"bar\" d=\"M18.900000000000002,121.62500000000001h16.2v228.375h-16.2Z\" fill=\"rgb(53, 183, 121)\"></path><path aria-label=\"Number of Issuers: 1275;  : ats; Secondary Market: ats\" role=\"graphics-symbol\" aria-roledescription=\"bar\" d=\"M0.9000000000000021,126.87500000000001h16.2v223.125h-16.2Z\" fill=\"rgb(49, 104, 142)\"></path></g></g><path class=\"foreground\" aria-hidden=\"true\" d=\"\" display=\"none\"></path></g><g transform=\"translate(255,0)\"><path class=\"background\" aria-hidden=\"true\" d=\"M0.5,0.5h36v350h-36Z\"></path><g><g class=\"mark-rect role-mark child_marks\" role=\"graphics-object\" aria-roledescription=\"rect mark container\"><path aria-label=\"Number of Issuers: 1937;  : otc; Secondary Market: otc\" role=\"graphics-symbol\" aria-roledescription=\"bar\" d=\"M18.900000000000002,11.02499999999999h16.2v338.975h-16.2Z\" fill=\"rgb(53, 183, 121)\"></path><path aria-label=\"Number of Issuers: 1823;  : ats; Secondary Market: ats\" role=\"graphics-symbol\" aria-roledescription=\"bar\" d=\"M0.9000000000000021,30.97500000000001h16.2v319.025h-16.2Z\" fill=\"rgb(49, 104, 142)\"></path></g></g><path class=\"foreground\" aria-hidden=\"true\" d=\"\" display=\"none\"></path></g><g transform=\"translate(297.5,0)\"><path class=\"background\" aria-hidden=\"true\" d=\"M0.5,0.5h36v350h-36Z\"></path><g><g class=\"mark-rect role-mark child_marks\" role=\"graphics-object\" aria-roledescription=\"rect mark container\"><path aria-label=\"Number of Issuers: 777;  : otc; Secondary Market: otc\" role=\"graphics-symbol\" aria-roledescription=\"bar\" d=\"M18.900000000000002,214.02499999999998h16.2v135.97500000000002h-16.2Z\" fill=\"rgb(53, 183, 121)\"></path><path aria-label=\"Number of Issuers: 767;  : ats; Secondary Market: ats\" role=\"graphics-symbol\" aria-roledescription=\"bar\" d=\"M0.9000000000000021,215.775h16.2v134.225h-16.2Z\" fill=\"rgb(49, 104, 142)\"></path></g></g><path class=\"foreground\" aria-hidden=\"true\" d=\"\" display=\"none\"></path></g><g transform=\"translate(340,0)\"><path class=\"background\" aria-hidden=\"true\" d=\"M0.5,0.5h36v350h-36Z\"></path><g><g class=\"mark-rect role-mark child_marks\" role=\"graphics-object\" aria-roledescription=\"rect mark container\"><path aria-label=\"Number of Issuers: 207;  : otc; Secondary Market: otc\" role=\"graphics-symbol\" aria-roledescription=\"bar\" d=\"M18.900000000000002,313.775h16.2v36.22500000000002h-16.2Z\" fill=\"rgb(53, 183, 121)\"></path><path aria-label=\"Number of Issuers: 205;  : ats; Secondary Market: ats\" role=\"graphics-symbol\" aria-roledescription=\"bar\" d=\"M0.9000000000000021,314.125h16.2v35.875h-16.2Z\" fill=\"rgb(49, 104, 142)\"></path></g></g><path class=\"foreground\" aria-hidden=\"true\" d=\"\" display=\"none\"></path></g><g transform=\"translate(382.5,0)\"><path class=\"background\" aria-hidden=\"true\" d=\"M0.5,0.5h36v350h-36Z\"></path><g><g class=\"mark-rect role-mark child_marks\" role=\"graphics-object\" aria-roledescription=\"rect mark container\"><path aria-label=\"Number of Issuers: 52;  : otc; Secondary Market: otc\" role=\"graphics-symbol\" aria-roledescription=\"bar\" d=\"M18.900000000000002,340.9h16.2v9.100000000000023h-16.2Z\" fill=\"rgb(53, 183, 121)\"></path><path aria-label=\"Number of Issuers: 51;  : ats; Secondary Market: ats\" role=\"graphics-symbol\" aria-roledescription=\"bar\" d=\"M0.9000000000000021,341.075h16.2v8.925000000000011h-16.2Z\" fill=\"rgb(49, 104, 142)\"></path></g></g><path class=\"foreground\" aria-hidden=\"true\" d=\"\" display=\"none\"></path></g><g transform=\"translate(425,0)\"><path class=\"background\" aria-hidden=\"true\" d=\"M0.5,0.5h36v350h-36Z\"></path><g><g class=\"mark-rect role-mark child_marks\" role=\"graphics-object\" aria-roledescription=\"rect mark container\"><path aria-label=\"Number of Issuers: 1720;  : otc; Secondary Market: otc\" role=\"graphics-symbol\" aria-roledescription=\"bar\" d=\"M18.900000000000002,49.00000000000001h16.2v301h-16.2Z\" fill=\"rgb(53, 183, 121)\"></path><path aria-label=\"Number of Issuers: 1625;  : ats; Secondary Market: ats\" role=\"graphics-symbol\" aria-roledescription=\"bar\" d=\"M0.9000000000000021,65.625h16.2v284.375h-16.2Z\" fill=\"rgb(49, 104, 142)\"></path></g></g><path class=\"foreground\" aria-hidden=\"true\" d=\"\" display=\"none\"></path></g><g transform=\"translate(467.5,0)\"><path class=\"background\" aria-hidden=\"true\" d=\"M0.5,0.5h36v350h-36Z\"></path><g><g class=\"mark-rect role-mark child_marks\" role=\"graphics-object\" aria-roledescription=\"rect mark container\"><path aria-label=\"Number of Issuers: 1045;  : otc; Secondary Market: otc\" role=\"graphics-symbol\" aria-roledescription=\"bar\" d=\"M18.900000000000002,167.125h16.2v182.875h-16.2Z\" fill=\"rgb(53, 183, 121)\"></path><path aria-label=\"Number of Issuers: 985;  : ats; Secondary Market: ats\" role=\"graphics-symbol\" aria-roledescription=\"bar\" d=\"M0.9000000000000021,177.62500000000003h16.2v172.37499999999997h-16.2Z\" fill=\"rgb(49, 104, 142)\"></path></g></g><path class=\"foreground\" aria-hidden=\"true\" d=\"\" display=\"none\"></path></g><g transform=\"translate(510,0)\"><path class=\"background\" aria-hidden=\"true\" d=\"M0.5,0.5h36v350h-36Z\"></path><g><g class=\"mark-rect role-mark child_marks\" role=\"graphics-object\" aria-roledescription=\"rect mark container\"><path aria-label=\"Number of Issuers: 1736;  : otc; Secondary Market: otc\" role=\"graphics-symbol\" aria-roledescription=\"bar\" d=\"M18.900000000000002,46.2h16.2v303.8h-16.2Z\" fill=\"rgb(53, 183, 121)\"></path><path aria-label=\"Number of Issuers: 1649;  : ats; Secondary Market: ats\" role=\"graphics-symbol\" aria-roledescription=\"bar\" d=\"M0.9000000000000021,61.425h16.2v288.575h-16.2Z\" fill=\"rgb(49, 104, 142)\"></path></g></g><path class=\"foreground\" aria-hidden=\"true\" d=\"\" display=\"none\"></path></g><g transform=\"translate(552.5,0)\"><path class=\"background\" aria-hidden=\"true\" d=\"M0.5,0.5h36v350h-36Z\"></path><g><g class=\"mark-rect role-mark child_marks\" role=\"graphics-object\" aria-roledescription=\"rect mark container\"><path aria-label=\"Number of Issuers: 315;  : otc; Secondary Market: otc\" role=\"graphics-symbol\" aria-roledescription=\"bar\" d=\"M18.900000000000002,294.875h16.2v55.125h-16.2Z\" fill=\"rgb(53, 183, 121)\"></path><path aria-label=\"Number of Issuers: 307;  : ats; Secondary Market: ats\" role=\"graphics-symbol\" aria-roledescription=\"bar\" d=\"M0.9000000000000021,296.27500000000003h16.2v53.724999999999966h-16.2Z\" fill=\"rgb(49, 104, 142)\"></path></g></g><path class=\"foreground\" aria-hidden=\"true\" d=\"\" display=\"none\"></path></g><g transform=\"translate(595,0)\"><path class=\"background\" aria-hidden=\"true\" d=\"M0.5,0.5h36v350h-36Z\"></path><g><g class=\"mark-rect role-mark child_marks\" role=\"graphics-object\" aria-roledescription=\"rect mark container\"><path aria-label=\"Number of Issuers: 1723;  : otc; Secondary Market: otc\" role=\"graphics-symbol\" aria-roledescription=\"bar\" d=\"M18.900000000000002,48.47499999999999h16.2v301.52500000000003h-16.2Z\" fill=\"rgb(53, 183, 121)\"></path><path aria-label=\"Number of Issuers: 1636;  : ats; Secondary Market: ats\" role=\"graphics-symbol\" aria-roledescription=\"bar\" d=\"M0.9000000000000021,63.70000000000002h16.2v286.29999999999995h-16.2Z\" fill=\"rgb(49, 104, 142)\"></path></g></g><path class=\"foreground\" aria-hidden=\"true\" d=\"\" display=\"none\"></path></g></g><g class=\"mark-group role-legend\" role=\"graphics-symbol\" aria-roledescription=\"legend\" aria-label=\"Symbol legend titled 'Secondary Market' for fill color with 2 values: ats, otc\"><g transform=\"translate(650,0)\"><path class=\"background\" aria-hidden=\"true\" d=\"M0,0h111v40h-111Z\" pointer-events=\"none\"></path><g><g class=\"mark-group role-legend-entry\"><g transform=\"translate(0,16)\"><path class=\"background\" aria-hidden=\"true\" d=\"M0,0h0v0h0Z\" pointer-events=\"none\"></path><g><g class=\"mark-group role-scope\" role=\"graphics-object\" aria-roledescription=\"group mark container\"><g transform=\"translate(0,0)\"><path class=\"background\" aria-hidden=\"true\" d=\"M0,0h32v11h-32Z\" pointer-events=\"none\" opacity=\"1\"></path><g><g class=\"mark-symbol role-legend-symbol\" pointer-events=\"none\"><path transform=\"translate(6,6)\" d=\"M-5,-5h10v10h-10Z\" fill=\"rgb(49, 104, 142)\" stroke-width=\"1.5\" opacity=\"1\"></path></g><g class=\"mark-text role-legend-label\" pointer-events=\"none\"><text text-anchor=\"start\" transform=\"translate(16,9)\" font-family=\"sans-serif\" font-size=\"10px\" fill=\"#000\" opacity=\"1\">ats</text></g></g><path class=\"foreground\" aria-hidden=\"true\" d=\"\" pointer-events=\"none\" display=\"none\"></path></g><g transform=\"translate(0,13)\"><path class=\"background\" aria-hidden=\"true\" d=\"M0,0h32v11h-32Z\" pointer-events=\"none\" opacity=\"1\"></path><g><g class=\"mark-symbol role-legend-symbol\" pointer-events=\"none\"><path transform=\"translate(6,6)\" d=\"M-5,-5h10v10h-10Z\" fill=\"rgb(53, 183, 121)\" stroke-width=\"1.5\" opacity=\"1\"></path></g><g class=\"mark-text role-legend-label\" pointer-events=\"none\"><text text-anchor=\"start\" transform=\"translate(16,9)\" font-family=\"sans-serif\" font-size=\"10px\" fill=\"#000\" opacity=\"1\">otc</text></g></g><path class=\"foreground\" aria-hidden=\"true\" d=\"\" pointer-events=\"none\" display=\"none\"></path></g></g></g><path class=\"foreground\" aria-hidden=\"true\" d=\"\" pointer-events=\"none\" display=\"none\"></path></g></g><g class=\"mark-text role-legend-title\" pointer-events=\"none\"><text text-anchor=\"start\" transform=\"translate(0,9)\" font-family=\"sans-serif\" font-size=\"11px\" font-weight=\"bold\" fill=\"#000\" opacity=\"1\">Secondary Market</text></g></g><path class=\"foreground\" aria-hidden=\"true\" d=\"\" pointer-events=\"none\" display=\"none\"></path></g></g><g class=\"mark-group role-title\"><g transform=\"translate(355.5,-86)\"><path class=\"background\" aria-hidden=\"true\" d=\"M0,0h0v0h0Z\" pointer-events=\"none\"></path><g><g class=\"mark-text role-title-text\" role=\"graphics-symbol\" aria-roledescription=\"title\" aria-label=\"Title text 'Number of Issuers of Non-MTN-Bonds Traded per Covenant Category - 2019Q2'\" pointer-events=\"none\"><text text-anchor=\"middle\" transform=\"translate(0,11)\" font-family=\"sans-serif\" font-size=\"14px\" font-weight=\"bold\" fill=\"#000\" opacity=\"1\">Number of Issuers of Non-MTN-Bonds Traded per Covenant Category - 2019Q2</text></g></g><path class=\"foreground\" aria-hidden=\"true\" d=\"\" pointer-events=\"none\" display=\"none\"></path></g></g></g><path class=\"foreground\" aria-hidden=\"true\" d=\"\" display=\"none\"></path></g></g></g></svg>\n"
      ],
      "text/plain": [
       "@vlplot(\n",
       "    config={\n",
       "        view={\n",
       "            stroke=\"transparent\"\n",
       "        },\n",
       "        axis={\n",
       "            domainWidth=3\n",
       "        },\n",
       "        opacity={\n",
       "            value=0.7\n",
       "        }\n",
       "    },\n",
       "    title={\n",
       "        text=[\n",
       "            \"Number of Issuers of Non-MTN-Bonds Traded per Covenant Category - 2019Q2\"\n",
       "        ],\n",
       "        align=\"center\",\n",
       "        anchor=\"middle\",\n",
       "        fontSize=14,\n",
       "        offset=20\n",
       "    },\n",
       "    spacing=4.5,\n",
       "    width={\n",
       "        step=18\n",
       "    },\n",
       "    height=350,\n",
       "    mark=\"bar\",\n",
       "    encoding={\n",
       "        column={\n",
       "            type=\"ordinal\",\n",
       "            title=\"Covenant Category\",\n",
       "            sort=\"ascending\",\n",
       "            field=\"cov_cat\"\n",
       "        },\n",
       "        y={\n",
       "            axis={\n",
       "                title=\"Number of Issuers\",\n",
       "                grid=false,\n",
       "                stack=nothing\n",
       "            },\n",
       "            field=\"value\"\n",
       "        },\n",
       "        x={\n",
       "            type=\"nominal\",\n",
       "            axis={\n",
       "                title=\" \"\n",
       "            },\n",
       "            field=\"sbm\"\n",
       "        },\n",
       "        color={\n",
       "            legend={\n",
       "                title=\"Secondary Market\"\n",
       "            },\n",
       "            scale={\n",
       "                scheme=\"viridis\"\n",
       "            },\n",
       "            field=\"sbm\",\n",
       "            type=\"nominal\"\n",
       "        }\n",
       "    },\n",
       "    data={\n",
       "        values=...\n",
       "    }\n",
       ")"
      ]
     },
     "execution_count": 10,
     "metadata": {},
     "output_type": "execute_result"
    }
   ],
   "source": [
    "scripts_path = string(main_path, \"/data-scripts/plots\")\n",
    "plt_dir = \"plots\"\n",
    "\n",
    "color_scale=\"viridis\"\n",
    "cal_formula=\"\"\n",
    "cal_var=\"\"\n",
    "col_var=\"cov_cat\"\n",
    "col_var_type=\"ordinal\"\n",
    "col_title=\"Covenant Category\"\n",
    "col_sort=\"ascending\"\n",
    "x_var=\"sbm:n\"\n",
    "x_var_type=\"nominal\"\n",
    "x_axis_title=\" \"\n",
    "width_step=18\n",
    "legend_title=\"Secondary Market\"\n",
    "spacing=4.5\n",
    "height=350\n",
    "save_plt= false\n",
    "plt_type = \"cov_cat\"\n",
    "file_ext=\"png\"\n",
    "# }}}\n",
    "pl = [ ]\n",
    "\n",
    "# Issuers per Covenant Category {{{1\n",
    "stats_var=:issuers\n",
    "tt = PlotMod.prepare_cat_plot(scc; stat=stats_var)\n",
    "\n",
    "## Issuer Count\n",
    "y_var=\"value\"\n",
    "y_axis_title=\"Number of Issuers\"\n",
    "title=[string(\"Number of Issuers of Non-MTN-Bonds Traded per Covenant Category\")]\n",
    "if :period in Symbol.(names(tt))\n",
    "    title[end] = string(title[end], \" - \", tt[1, :period])\n",
    "end\n",
    "\n",
    "include(string(scripts_path, \"/\", \"single_vega_plt_script.jl\"))"
   ]
  },
  {
   "cell_type": "code",
   "execution_count": 24,
   "metadata": {},
   "outputs": [
    {
     "data": {
      "text/html": [
       "<table class=\"data-frame\"><thead><tr><th></th><th>period</th><th>sbm</th><th>rt</th><th>sum_num_cov</th><th>variable</th><th>value</th><th>perc_sbm_total</th><th>perc_sbm_rt_total</th></tr><tr><th></th><th>Symbol</th><th>Symbol</th><th>Symbol</th><th>Int64</th><th>Cat…</th><th>Int64</th><th>Float64</th><th>Float64</th></tr></thead><tbody><p>114 rows × 8 columns</p><tr><th>1</th><td>2019Q2</td><td>any</td><td>any</td><td>0</td><td>trades_by_num_cov</td><td>94837</td><td>3.43503</td><td>3.43503</td></tr><tr><th>2</th><td>2019Q2</td><td>any</td><td>any</td><td>1</td><td>trades_by_num_cov</td><td>2160</td><td>0.078236</td><td>0.078236</td></tr><tr><th>3</th><td>2019Q2</td><td>any</td><td>any</td><td>2</td><td>trades_by_num_cov</td><td>120755</td><td>4.37379</td><td>4.37379</td></tr><tr><th>4</th><td>2019Q2</td><td>any</td><td>any</td><td>3</td><td>trades_by_num_cov</td><td>211699</td><td>7.66781</td><td>7.66781</td></tr><tr><th>5</th><td>2019Q2</td><td>any</td><td>any</td><td>4</td><td>trades_by_num_cov</td><td>191240</td><td>6.92678</td><td>6.92678</td></tr><tr><th>6</th><td>2019Q2</td><td>any</td><td>any</td><td>5</td><td>trades_by_num_cov</td><td>451238</td><td>16.344</td><td>16.344</td></tr><tr><th>7</th><td>2019Q2</td><td>any</td><td>any</td><td>6</td><td>trades_by_num_cov</td><td>475062</td><td>17.2069</td><td>17.2069</td></tr><tr><th>8</th><td>2019Q2</td><td>any</td><td>any</td><td>7</td><td>trades_by_num_cov</td><td>530891</td><td>19.2291</td><td>19.2291</td></tr><tr><th>9</th><td>2019Q2</td><td>any</td><td>any</td><td>8</td><td>trades_by_num_cov</td><td>484147</td><td>17.536</td><td>17.536</td></tr><tr><th>10</th><td>2019Q2</td><td>any</td><td>any</td><td>9</td><td>trades_by_num_cov</td><td>80829</td><td>2.92765</td><td>2.92765</td></tr><tr><th>11</th><td>2019Q2</td><td>any</td><td>any</td><td>10</td><td>trades_by_num_cov</td><td>91574</td><td>3.31684</td><td>3.31684</td></tr><tr><th>12</th><td>2019Q2</td><td>any</td><td>any</td><td>11</td><td>trades_by_num_cov</td><td>22638</td><td>0.819956</td><td>0.819956</td></tr><tr><th>13</th><td>2019Q2</td><td>any</td><td>any</td><td>12</td><td>trades_by_num_cov</td><td>3809</td><td>0.137963</td><td>0.137963</td></tr><tr><th>14</th><td>2019Q2</td><td>ats</td><td>any</td><td>0</td><td>trades_by_num_cov</td><td>20868</td><td>3.41204</td><td>3.41204</td></tr><tr><th>15</th><td>2019Q2</td><td>ats</td><td>any</td><td>1</td><td>trades_by_num_cov</td><td>420</td><td>0.0686724</td><td>0.0686724</td></tr><tr><th>16</th><td>2019Q2</td><td>ats</td><td>any</td><td>2</td><td>trades_by_num_cov</td><td>23035</td><td>3.76636</td><td>3.76636</td></tr><tr><th>17</th><td>2019Q2</td><td>ats</td><td>any</td><td>3</td><td>trades_by_num_cov</td><td>41875</td><td>6.84681</td><td>6.84681</td></tr><tr><th>18</th><td>2019Q2</td><td>ats</td><td>any</td><td>4</td><td>trades_by_num_cov</td><td>39167</td><td>6.40403</td><td>6.40403</td></tr><tr><th>19</th><td>2019Q2</td><td>ats</td><td>any</td><td>5</td><td>trades_by_num_cov</td><td>93443</td><td>15.2785</td><td>15.2785</td></tr><tr><th>20</th><td>2019Q2</td><td>ats</td><td>any</td><td>6</td><td>trades_by_num_cov</td><td>104469</td><td>17.0813</td><td>17.0813</td></tr><tr><th>21</th><td>2019Q2</td><td>ats</td><td>any</td><td>7</td><td>trades_by_num_cov</td><td>124045</td><td>20.2821</td><td>20.2821</td></tr><tr><th>22</th><td>2019Q2</td><td>ats</td><td>any</td><td>8</td><td>trades_by_num_cov</td><td>116635</td><td>19.0705</td><td>19.0705</td></tr><tr><th>23</th><td>2019Q2</td><td>ats</td><td>any</td><td>9</td><td>trades_by_num_cov</td><td>19695</td><td>3.22025</td><td>3.22025</td></tr><tr><th>24</th><td>2019Q2</td><td>ats</td><td>any</td><td>10</td><td>trades_by_num_cov</td><td>21758</td><td>3.55756</td><td>3.55756</td></tr><tr><th>25</th><td>2019Q2</td><td>ats</td><td>any</td><td>11</td><td>trades_by_num_cov</td><td>5549</td><td>0.907294</td><td>0.907294</td></tr><tr><th>26</th><td>2019Q2</td><td>ats</td><td>any</td><td>12</td><td>trades_by_num_cov</td><td>640</td><td>0.104644</td><td>0.104644</td></tr><tr><th>27</th><td>2019Q2</td><td>otc</td><td>any</td><td>0</td><td>trades_by_num_cov</td><td>73969</td><td>3.44157</td><td>3.44157</td></tr><tr><th>28</th><td>2019Q2</td><td>otc</td><td>any</td><td>1</td><td>trades_by_num_cov</td><td>1740</td><td>0.0809573</td><td>0.0809573</td></tr><tr><th>29</th><td>2019Q2</td><td>otc</td><td>any</td><td>2</td><td>trades_by_num_cov</td><td>97720</td><td>4.54664</td><td>4.54664</td></tr><tr><th>30</th><td>2019Q2</td><td>otc</td><td>any</td><td>3</td><td>trades_by_num_cov</td><td>169824</td><td>7.90144</td><td>7.90144</td></tr><tr><th>31</th><td>2019Q2</td><td>otc</td><td>any</td><td>4</td><td>trades_by_num_cov</td><td>152073</td><td>7.07553</td><td>7.07553</td></tr><tr><th>32</th><td>2019Q2</td><td>otc</td><td>any</td><td>5</td><td>trades_by_num_cov</td><td>357795</td><td>16.6472</td><td>16.6472</td></tr><tr><th>33</th><td>2019Q2</td><td>otc</td><td>any</td><td>6</td><td>trades_by_num_cov</td><td>370593</td><td>17.2427</td><td>17.2427</td></tr><tr><th>34</th><td>2019Q2</td><td>otc</td><td>any</td><td>7</td><td>trades_by_num_cov</td><td>406846</td><td>18.9294</td><td>18.9294</td></tr><tr><th>35</th><td>2019Q2</td><td>otc</td><td>any</td><td>8</td><td>trades_by_num_cov</td><td>367512</td><td>17.0993</td><td>17.0993</td></tr><tr><th>36</th><td>2019Q2</td><td>otc</td><td>any</td><td>9</td><td>trades_by_num_cov</td><td>61134</td><td>2.84439</td><td>2.84439</td></tr><tr><th>37</th><td>2019Q2</td><td>otc</td><td>any</td><td>10</td><td>trades_by_num_cov</td><td>69816</td><td>3.24834</td><td>3.24834</td></tr><tr><th>38</th><td>2019Q2</td><td>otc</td><td>any</td><td>11</td><td>trades_by_num_cov</td><td>17089</td><td>0.795103</td><td>0.795103</td></tr><tr><th>39</th><td>2019Q2</td><td>otc</td><td>any</td><td>12</td><td>trades_by_num_cov</td><td>3169</td><td>0.147445</td><td>0.147445</td></tr><tr><th>40</th><td>2019Q2</td><td>any</td><td>ig</td><td>0</td><td>trades_by_num_cov</td><td>89068</td><td>3.22607</td><td>4.4603</td></tr><tr><th>41</th><td>2019Q2</td><td>any</td><td>ig</td><td>1</td><td>trades_by_num_cov</td><td>1752</td><td>0.0634581</td><td>0.0877357</td></tr><tr><th>42</th><td>2019Q2</td><td>any</td><td>ig</td><td>2</td><td>trades_by_num_cov</td><td>104184</td><td>3.77358</td><td>5.21727</td></tr><tr><th>43</th><td>2019Q2</td><td>any</td><td>ig</td><td>3</td><td>trades_by_num_cov</td><td>183293</td><td>6.63894</td><td>9.17885</td></tr><tr><th>44</th><td>2019Q2</td><td>any</td><td>ig</td><td>4</td><td>trades_by_num_cov</td><td>160546</td><td>5.81503</td><td>8.03974</td></tr><tr><th>45</th><td>2019Q2</td><td>any</td><td>ig</td><td>5</td><td>trades_by_num_cov</td><td>374138</td><td>13.5514</td><td>18.7359</td></tr><tr><th>46</th><td>2019Q2</td><td>any</td><td>ig</td><td>6</td><td>trades_by_num_cov</td><td>367406</td><td>13.3076</td><td>18.3988</td></tr><tr><th>47</th><td>2019Q2</td><td>any</td><td>ig</td><td>7</td><td>trades_by_num_cov</td><td>367908</td><td>13.3258</td><td>18.4239</td></tr><tr><th>48</th><td>2019Q2</td><td>any</td><td>ig</td><td>8</td><td>trades_by_num_cov</td><td>319775</td><td>11.5824</td><td>16.0135</td></tr><tr><th>49</th><td>2019Q2</td><td>any</td><td>ig</td><td>9</td><td>trades_by_num_cov</td><td>23950</td><td>0.867477</td><td>1.19936</td></tr><tr><th>50</th><td>2019Q2</td><td>any</td><td>ig</td><td>10</td><td>trades_by_num_cov</td><td>4408</td><td>0.159659</td><td>0.220741</td></tr><tr><th>51</th><td>2019Q2</td><td>any</td><td>ig</td><td>11</td><td>trades_by_num_cov</td><td>478</td><td>0.0173133</td><td>0.023937</td></tr><tr><th>52</th><td>2019Q2</td><td>ats</td><td>ig</td><td>0</td><td>trades_by_num_cov</td><td>19840</td><td>3.24396</td><td>4.56384</td></tr><tr><th>53</th><td>2019Q2</td><td>ats</td><td>ig</td><td>1</td><td>trades_by_num_cov</td><td>361</td><td>0.0590256</td><td>0.0830416</td></tr><tr><th>54</th><td>2019Q2</td><td>ats</td><td>ig</td><td>2</td><td>trades_by_num_cov</td><td>19990</td><td>3.26848</td><td>4.59834</td></tr><tr><th>55</th><td>2019Q2</td><td>ats</td><td>ig</td><td>3</td><td>trades_by_num_cov</td><td>38189</td><td>6.24412</td><td>8.78469</td></tr><tr><th>56</th><td>2019Q2</td><td>ats</td><td>ig</td><td>4</td><td>trades_by_num_cov</td><td>33591</td><td>5.49232</td><td>7.72701</td></tr><tr><th>57</th><td>2019Q2</td><td>ats</td><td>ig</td><td>5</td><td>trades_by_num_cov</td><td>78410</td><td>12.8205</td><td>18.0368</td></tr><tr><th>58</th><td>2019Q2</td><td>ats</td><td>ig</td><td>6</td><td>trades_by_num_cov</td><td>81726</td><td>13.3627</td><td>18.7996</td></tr><tr><th>59</th><td>2019Q2</td><td>ats</td><td>ig</td><td>7</td><td>trades_by_num_cov</td><td>81057</td><td>13.2533</td><td>18.6457</td></tr><tr><th>60</th><td>2019Q2</td><td>ats</td><td>ig</td><td>8</td><td>trades_by_num_cov</td><td>74979</td><td>12.2595</td><td>17.2476</td></tr><tr><th>61</th><td>2019Q2</td><td>ats</td><td>ig</td><td>9</td><td>trades_by_num_cov</td><td>5472</td><td>0.894704</td><td>1.25874</td></tr><tr><th>62</th><td>2019Q2</td><td>ats</td><td>ig</td><td>10</td><td>trades_by_num_cov</td><td>1009</td><td>0.164977</td><td>0.232102</td></tr><tr><th>63</th><td>2019Q2</td><td>ats</td><td>ig</td><td>11</td><td>trades_by_num_cov</td><td>98</td><td>0.0160236</td><td>0.0225431</td></tr><tr><th>64</th><td>2019Q2</td><td>otc</td><td>ig</td><td>0</td><td>trades_by_num_cov</td><td>69228</td><td>3.22099</td><td>4.43149</td></tr><tr><th>65</th><td>2019Q2</td><td>otc</td><td>ig</td><td>1</td><td>trades_by_num_cov</td><td>1391</td><td>0.0647193</td><td>0.089042</td></tr><tr><th>66</th><td>2019Q2</td><td>otc</td><td>ig</td><td>2</td><td>trades_by_num_cov</td><td>84194</td><td>3.91731</td><td>5.38951</td></tr><tr><th>67</th><td>2019Q2</td><td>otc</td><td>ig</td><td>3</td><td>trades_by_num_cov</td><td>145104</td><td>6.75128</td><td>9.28853</td></tr><tr><th>68</th><td>2019Q2</td><td>otc</td><td>ig</td><td>4</td><td>trades_by_num_cov</td><td>126955</td><td>5.90686</td><td>8.12676</td></tr><tr><th>69</th><td>2019Q2</td><td>otc</td><td>ig</td><td>5</td><td>trades_by_num_cov</td><td>295728</td><td>13.7594</td><td>18.9304</td></tr><tr><th>70</th><td>2019Q2</td><td>otc</td><td>ig</td><td>6</td><td>trades_by_num_cov</td><td>285680</td><td>13.2919</td><td>18.2872</td></tr><tr><th>71</th><td>2019Q2</td><td>otc</td><td>ig</td><td>7</td><td>trades_by_num_cov</td><td>286851</td><td>13.3464</td><td>18.3622</td></tr><tr><th>72</th><td>2019Q2</td><td>otc</td><td>ig</td><td>8</td><td>trades_by_num_cov</td><td>244796</td><td>11.3897</td><td>15.6701</td></tr><tr><th>73</th><td>2019Q2</td><td>otc</td><td>ig</td><td>9</td><td>trades_by_num_cov</td><td>18478</td><td>0.85973</td><td>1.18283</td></tr><tr><th>74</th><td>2019Q2</td><td>otc</td><td>ig</td><td>10</td><td>trades_by_num_cov</td><td>3399</td><td>0.158146</td><td>0.21758</td></tr><tr><th>75</th><td>2019Q2</td><td>otc</td><td>ig</td><td>11</td><td>trades_by_num_cov</td><td>380</td><td>0.0176803</td><td>0.0243249</td></tr><tr><th>76</th><td>2019Q2</td><td>any</td><td>hy</td><td>0</td><td>trades_by_num_cov</td><td>5769</td><td>0.208955</td><td>0.755131</td></tr><tr><th>77</th><td>2019Q2</td><td>any</td><td>hy</td><td>1</td><td>trades_by_num_cov</td><td>408</td><td>0.0147779</td><td>0.053405</td></tr><tr><th>78</th><td>2019Q2</td><td>any</td><td>hy</td><td>2</td><td>trades_by_num_cov</td><td>16571</td><td>0.600207</td><td>2.16906</td></tr><tr><th>79</th><td>2019Q2</td><td>any</td><td>hy</td><td>3</td><td>trades_by_num_cov</td><td>28406</td><td>1.02888</td><td>3.71819</td></tr><tr><th>80</th><td>2019Q2</td><td>any</td><td>hy</td><td>4</td><td>trades_by_num_cov</td><td>30694</td><td>1.11175</td><td>4.01768</td></tr><tr><th>81</th><td>2019Q2</td><td>any</td><td>hy</td><td>5</td><td>trades_by_num_cov</td><td>77100</td><td>2.79259</td><td>10.092</td></tr><tr><th>82</th><td>2019Q2</td><td>any</td><td>hy</td><td>6</td><td>trades_by_num_cov</td><td>107656</td><td>3.89934</td><td>14.0916</td></tr><tr><th>83</th><td>2019Q2</td><td>any</td><td>hy</td><td>7</td><td>trades_by_num_cov</td><td>162983</td><td>5.9033</td><td>21.3336</td></tr><tr><th>84</th><td>2019Q2</td><td>any</td><td>hy</td><td>8</td><td>trades_by_num_cov</td><td>164372</td><td>5.95361</td><td>21.5154</td></tr><tr><th>85</th><td>2019Q2</td><td>any</td><td>hy</td><td>9</td><td>trades_by_num_cov</td><td>56879</td><td>2.06018</td><td>7.44516</td></tr><tr><th>86</th><td>2019Q2</td><td>any</td><td>hy</td><td>10</td><td>trades_by_num_cov</td><td>87166</td><td>3.15718</td><td>11.4096</td></tr><tr><th>87</th><td>2019Q2</td><td>any</td><td>hy</td><td>11</td><td>trades_by_num_cov</td><td>22160</td><td>0.802643</td><td>2.90063</td></tr><tr><th>88</th><td>2019Q2</td><td>any</td><td>hy</td><td>12</td><td>trades_by_num_cov</td><td>3809</td><td>0.137963</td><td>0.498578</td></tr><tr><th>89</th><td>2019Q2</td><td>ats</td><td>hy</td><td>0</td><td>trades_by_num_cov</td><td>1028</td><td>0.168084</td><td>0.581195</td></tr><tr><th>90</th><td>2019Q2</td><td>ats</td><td>hy</td><td>1</td><td>trades_by_num_cov</td><td>59</td><td>0.00964684</td><td>0.0333565</td></tr><tr><th>91</th><td>2019Q2</td><td>ats</td><td>hy</td><td>2</td><td>trades_by_num_cov</td><td>3045</td><td>0.497875</td><td>1.72154</td></tr><tr><th>92</th><td>2019Q2</td><td>ats</td><td>hy</td><td>3</td><td>trades_by_num_cov</td><td>3686</td><td>0.602682</td><td>2.08393</td></tr><tr><th>93</th><td>2019Q2</td><td>ats</td><td>hy</td><td>4</td><td>trades_by_num_cov</td><td>5576</td><td>0.911708</td><td>3.15247</td></tr><tr><th>94</th><td>2019Q2</td><td>ats</td><td>hy</td><td>5</td><td>trades_by_num_cov</td><td>15033</td><td>2.45798</td><td>8.49913</td></tr><tr><th>95</th><td>2019Q2</td><td>ats</td><td>hy</td><td>6</td><td>trades_by_num_cov</td><td>22743</td><td>3.71861</td><td>12.8581</td></tr><tr><th>96</th><td>2019Q2</td><td>ats</td><td>hy</td><td>7</td><td>trades_by_num_cov</td><td>42988</td><td>7.02879</td><td>24.3039</td></tr><tr><th>97</th><td>2019Q2</td><td>ats</td><td>hy</td><td>8</td><td>trades_by_num_cov</td><td>41656</td><td>6.811</td><td>23.5508</td></tr><tr><th>98</th><td>2019Q2</td><td>ats</td><td>hy</td><td>9</td><td>trades_by_num_cov</td><td>14223</td><td>2.32554</td><td>8.04118</td></tr><tr><th>99</th><td>2019Q2</td><td>ats</td><td>hy</td><td>10</td><td>trades_by_num_cov</td><td>20749</td><td>3.39258</td><td>11.7308</td></tr><tr><th>100</th><td>2019Q2</td><td>ats</td><td>hy</td><td>11</td><td>trades_by_num_cov</td><td>5451</td><td>0.89127</td><td>3.0818</td></tr><tr><th>&vellip;</th><td>&vellip;</td><td>&vellip;</td><td>&vellip;</td><td>&vellip;</td><td>&vellip;</td><td>&vellip;</td><td>&vellip;</td><td>&vellip;</td></tr></tbody></table>"
      ],
      "text/latex": [
       "\\begin{tabular}{r|cccccccc}\n",
       "\t& period & sbm & rt & sum\\_num\\_cov & variable & value & perc\\_sbm\\_total & perc\\_sbm\\_rt\\_total\\\\\n",
       "\t\\hline\n",
       "\t& Symbol & Symbol & Symbol & Int64 & Cat… & Int64 & Float64 & Float64\\\\\n",
       "\t\\hline\n",
       "\t1 & 2019Q2 & any & any & 0 & trades\\_by\\_num\\_cov & 94837 & 3.43503 & 3.43503 \\\\\n",
       "\t2 & 2019Q2 & any & any & 1 & trades\\_by\\_num\\_cov & 2160 & 0.078236 & 0.078236 \\\\\n",
       "\t3 & 2019Q2 & any & any & 2 & trades\\_by\\_num\\_cov & 120755 & 4.37379 & 4.37379 \\\\\n",
       "\t4 & 2019Q2 & any & any & 3 & trades\\_by\\_num\\_cov & 211699 & 7.66781 & 7.66781 \\\\\n",
       "\t5 & 2019Q2 & any & any & 4 & trades\\_by\\_num\\_cov & 191240 & 6.92678 & 6.92678 \\\\\n",
       "\t6 & 2019Q2 & any & any & 5 & trades\\_by\\_num\\_cov & 451238 & 16.344 & 16.344 \\\\\n",
       "\t7 & 2019Q2 & any & any & 6 & trades\\_by\\_num\\_cov & 475062 & 17.2069 & 17.2069 \\\\\n",
       "\t8 & 2019Q2 & any & any & 7 & trades\\_by\\_num\\_cov & 530891 & 19.2291 & 19.2291 \\\\\n",
       "\t9 & 2019Q2 & any & any & 8 & trades\\_by\\_num\\_cov & 484147 & 17.536 & 17.536 \\\\\n",
       "\t10 & 2019Q2 & any & any & 9 & trades\\_by\\_num\\_cov & 80829 & 2.92765 & 2.92765 \\\\\n",
       "\t11 & 2019Q2 & any & any & 10 & trades\\_by\\_num\\_cov & 91574 & 3.31684 & 3.31684 \\\\\n",
       "\t12 & 2019Q2 & any & any & 11 & trades\\_by\\_num\\_cov & 22638 & 0.819956 & 0.819956 \\\\\n",
       "\t13 & 2019Q2 & any & any & 12 & trades\\_by\\_num\\_cov & 3809 & 0.137963 & 0.137963 \\\\\n",
       "\t14 & 2019Q2 & ats & any & 0 & trades\\_by\\_num\\_cov & 20868 & 3.41204 & 3.41204 \\\\\n",
       "\t15 & 2019Q2 & ats & any & 1 & trades\\_by\\_num\\_cov & 420 & 0.0686724 & 0.0686724 \\\\\n",
       "\t16 & 2019Q2 & ats & any & 2 & trades\\_by\\_num\\_cov & 23035 & 3.76636 & 3.76636 \\\\\n",
       "\t17 & 2019Q2 & ats & any & 3 & trades\\_by\\_num\\_cov & 41875 & 6.84681 & 6.84681 \\\\\n",
       "\t18 & 2019Q2 & ats & any & 4 & trades\\_by\\_num\\_cov & 39167 & 6.40403 & 6.40403 \\\\\n",
       "\t19 & 2019Q2 & ats & any & 5 & trades\\_by\\_num\\_cov & 93443 & 15.2785 & 15.2785 \\\\\n",
       "\t20 & 2019Q2 & ats & any & 6 & trades\\_by\\_num\\_cov & 104469 & 17.0813 & 17.0813 \\\\\n",
       "\t21 & 2019Q2 & ats & any & 7 & trades\\_by\\_num\\_cov & 124045 & 20.2821 & 20.2821 \\\\\n",
       "\t22 & 2019Q2 & ats & any & 8 & trades\\_by\\_num\\_cov & 116635 & 19.0705 & 19.0705 \\\\\n",
       "\t23 & 2019Q2 & ats & any & 9 & trades\\_by\\_num\\_cov & 19695 & 3.22025 & 3.22025 \\\\\n",
       "\t24 & 2019Q2 & ats & any & 10 & trades\\_by\\_num\\_cov & 21758 & 3.55756 & 3.55756 \\\\\n",
       "\t25 & 2019Q2 & ats & any & 11 & trades\\_by\\_num\\_cov & 5549 & 0.907294 & 0.907294 \\\\\n",
       "\t26 & 2019Q2 & ats & any & 12 & trades\\_by\\_num\\_cov & 640 & 0.104644 & 0.104644 \\\\\n",
       "\t27 & 2019Q2 & otc & any & 0 & trades\\_by\\_num\\_cov & 73969 & 3.44157 & 3.44157 \\\\\n",
       "\t28 & 2019Q2 & otc & any & 1 & trades\\_by\\_num\\_cov & 1740 & 0.0809573 & 0.0809573 \\\\\n",
       "\t29 & 2019Q2 & otc & any & 2 & trades\\_by\\_num\\_cov & 97720 & 4.54664 & 4.54664 \\\\\n",
       "\t30 & 2019Q2 & otc & any & 3 & trades\\_by\\_num\\_cov & 169824 & 7.90144 & 7.90144 \\\\\n",
       "\t31 & 2019Q2 & otc & any & 4 & trades\\_by\\_num\\_cov & 152073 & 7.07553 & 7.07553 \\\\\n",
       "\t32 & 2019Q2 & otc & any & 5 & trades\\_by\\_num\\_cov & 357795 & 16.6472 & 16.6472 \\\\\n",
       "\t33 & 2019Q2 & otc & any & 6 & trades\\_by\\_num\\_cov & 370593 & 17.2427 & 17.2427 \\\\\n",
       "\t34 & 2019Q2 & otc & any & 7 & trades\\_by\\_num\\_cov & 406846 & 18.9294 & 18.9294 \\\\\n",
       "\t35 & 2019Q2 & otc & any & 8 & trades\\_by\\_num\\_cov & 367512 & 17.0993 & 17.0993 \\\\\n",
       "\t36 & 2019Q2 & otc & any & 9 & trades\\_by\\_num\\_cov & 61134 & 2.84439 & 2.84439 \\\\\n",
       "\t37 & 2019Q2 & otc & any & 10 & trades\\_by\\_num\\_cov & 69816 & 3.24834 & 3.24834 \\\\\n",
       "\t38 & 2019Q2 & otc & any & 11 & trades\\_by\\_num\\_cov & 17089 & 0.795103 & 0.795103 \\\\\n",
       "\t39 & 2019Q2 & otc & any & 12 & trades\\_by\\_num\\_cov & 3169 & 0.147445 & 0.147445 \\\\\n",
       "\t40 & 2019Q2 & any & ig & 0 & trades\\_by\\_num\\_cov & 89068 & 3.22607 & 4.4603 \\\\\n",
       "\t41 & 2019Q2 & any & ig & 1 & trades\\_by\\_num\\_cov & 1752 & 0.0634581 & 0.0877357 \\\\\n",
       "\t42 & 2019Q2 & any & ig & 2 & trades\\_by\\_num\\_cov & 104184 & 3.77358 & 5.21727 \\\\\n",
       "\t43 & 2019Q2 & any & ig & 3 & trades\\_by\\_num\\_cov & 183293 & 6.63894 & 9.17885 \\\\\n",
       "\t44 & 2019Q2 & any & ig & 4 & trades\\_by\\_num\\_cov & 160546 & 5.81503 & 8.03974 \\\\\n",
       "\t45 & 2019Q2 & any & ig & 5 & trades\\_by\\_num\\_cov & 374138 & 13.5514 & 18.7359 \\\\\n",
       "\t46 & 2019Q2 & any & ig & 6 & trades\\_by\\_num\\_cov & 367406 & 13.3076 & 18.3988 \\\\\n",
       "\t47 & 2019Q2 & any & ig & 7 & trades\\_by\\_num\\_cov & 367908 & 13.3258 & 18.4239 \\\\\n",
       "\t48 & 2019Q2 & any & ig & 8 & trades\\_by\\_num\\_cov & 319775 & 11.5824 & 16.0135 \\\\\n",
       "\t49 & 2019Q2 & any & ig & 9 & trades\\_by\\_num\\_cov & 23950 & 0.867477 & 1.19936 \\\\\n",
       "\t50 & 2019Q2 & any & ig & 10 & trades\\_by\\_num\\_cov & 4408 & 0.159659 & 0.220741 \\\\\n",
       "\t51 & 2019Q2 & any & ig & 11 & trades\\_by\\_num\\_cov & 478 & 0.0173133 & 0.023937 \\\\\n",
       "\t52 & 2019Q2 & ats & ig & 0 & trades\\_by\\_num\\_cov & 19840 & 3.24396 & 4.56384 \\\\\n",
       "\t53 & 2019Q2 & ats & ig & 1 & trades\\_by\\_num\\_cov & 361 & 0.0590256 & 0.0830416 \\\\\n",
       "\t54 & 2019Q2 & ats & ig & 2 & trades\\_by\\_num\\_cov & 19990 & 3.26848 & 4.59834 \\\\\n",
       "\t55 & 2019Q2 & ats & ig & 3 & trades\\_by\\_num\\_cov & 38189 & 6.24412 & 8.78469 \\\\\n",
       "\t56 & 2019Q2 & ats & ig & 4 & trades\\_by\\_num\\_cov & 33591 & 5.49232 & 7.72701 \\\\\n",
       "\t57 & 2019Q2 & ats & ig & 5 & trades\\_by\\_num\\_cov & 78410 & 12.8205 & 18.0368 \\\\\n",
       "\t58 & 2019Q2 & ats & ig & 6 & trades\\_by\\_num\\_cov & 81726 & 13.3627 & 18.7996 \\\\\n",
       "\t59 & 2019Q2 & ats & ig & 7 & trades\\_by\\_num\\_cov & 81057 & 13.2533 & 18.6457 \\\\\n",
       "\t60 & 2019Q2 & ats & ig & 8 & trades\\_by\\_num\\_cov & 74979 & 12.2595 & 17.2476 \\\\\n",
       "\t61 & 2019Q2 & ats & ig & 9 & trades\\_by\\_num\\_cov & 5472 & 0.894704 & 1.25874 \\\\\n",
       "\t62 & 2019Q2 & ats & ig & 10 & trades\\_by\\_num\\_cov & 1009 & 0.164977 & 0.232102 \\\\\n",
       "\t63 & 2019Q2 & ats & ig & 11 & trades\\_by\\_num\\_cov & 98 & 0.0160236 & 0.0225431 \\\\\n",
       "\t64 & 2019Q2 & otc & ig & 0 & trades\\_by\\_num\\_cov & 69228 & 3.22099 & 4.43149 \\\\\n",
       "\t65 & 2019Q2 & otc & ig & 1 & trades\\_by\\_num\\_cov & 1391 & 0.0647193 & 0.089042 \\\\\n",
       "\t66 & 2019Q2 & otc & ig & 2 & trades\\_by\\_num\\_cov & 84194 & 3.91731 & 5.38951 \\\\\n",
       "\t67 & 2019Q2 & otc & ig & 3 & trades\\_by\\_num\\_cov & 145104 & 6.75128 & 9.28853 \\\\\n",
       "\t68 & 2019Q2 & otc & ig & 4 & trades\\_by\\_num\\_cov & 126955 & 5.90686 & 8.12676 \\\\\n",
       "\t69 & 2019Q2 & otc & ig & 5 & trades\\_by\\_num\\_cov & 295728 & 13.7594 & 18.9304 \\\\\n",
       "\t70 & 2019Q2 & otc & ig & 6 & trades\\_by\\_num\\_cov & 285680 & 13.2919 & 18.2872 \\\\\n",
       "\t71 & 2019Q2 & otc & ig & 7 & trades\\_by\\_num\\_cov & 286851 & 13.3464 & 18.3622 \\\\\n",
       "\t72 & 2019Q2 & otc & ig & 8 & trades\\_by\\_num\\_cov & 244796 & 11.3897 & 15.6701 \\\\\n",
       "\t73 & 2019Q2 & otc & ig & 9 & trades\\_by\\_num\\_cov & 18478 & 0.85973 & 1.18283 \\\\\n",
       "\t74 & 2019Q2 & otc & ig & 10 & trades\\_by\\_num\\_cov & 3399 & 0.158146 & 0.21758 \\\\\n",
       "\t75 & 2019Q2 & otc & ig & 11 & trades\\_by\\_num\\_cov & 380 & 0.0176803 & 0.0243249 \\\\\n",
       "\t76 & 2019Q2 & any & hy & 0 & trades\\_by\\_num\\_cov & 5769 & 0.208955 & 0.755131 \\\\\n",
       "\t77 & 2019Q2 & any & hy & 1 & trades\\_by\\_num\\_cov & 408 & 0.0147779 & 0.053405 \\\\\n",
       "\t78 & 2019Q2 & any & hy & 2 & trades\\_by\\_num\\_cov & 16571 & 0.600207 & 2.16906 \\\\\n",
       "\t79 & 2019Q2 & any & hy & 3 & trades\\_by\\_num\\_cov & 28406 & 1.02888 & 3.71819 \\\\\n",
       "\t80 & 2019Q2 & any & hy & 4 & trades\\_by\\_num\\_cov & 30694 & 1.11175 & 4.01768 \\\\\n",
       "\t81 & 2019Q2 & any & hy & 5 & trades\\_by\\_num\\_cov & 77100 & 2.79259 & 10.092 \\\\\n",
       "\t82 & 2019Q2 & any & hy & 6 & trades\\_by\\_num\\_cov & 107656 & 3.89934 & 14.0916 \\\\\n",
       "\t83 & 2019Q2 & any & hy & 7 & trades\\_by\\_num\\_cov & 162983 & 5.9033 & 21.3336 \\\\\n",
       "\t84 & 2019Q2 & any & hy & 8 & trades\\_by\\_num\\_cov & 164372 & 5.95361 & 21.5154 \\\\\n",
       "\t85 & 2019Q2 & any & hy & 9 & trades\\_by\\_num\\_cov & 56879 & 2.06018 & 7.44516 \\\\\n",
       "\t86 & 2019Q2 & any & hy & 10 & trades\\_by\\_num\\_cov & 87166 & 3.15718 & 11.4096 \\\\\n",
       "\t87 & 2019Q2 & any & hy & 11 & trades\\_by\\_num\\_cov & 22160 & 0.802643 & 2.90063 \\\\\n",
       "\t88 & 2019Q2 & any & hy & 12 & trades\\_by\\_num\\_cov & 3809 & 0.137963 & 0.498578 \\\\\n",
       "\t89 & 2019Q2 & ats & hy & 0 & trades\\_by\\_num\\_cov & 1028 & 0.168084 & 0.581195 \\\\\n",
       "\t90 & 2019Q2 & ats & hy & 1 & trades\\_by\\_num\\_cov & 59 & 0.00964684 & 0.0333565 \\\\\n",
       "\t91 & 2019Q2 & ats & hy & 2 & trades\\_by\\_num\\_cov & 3045 & 0.497875 & 1.72154 \\\\\n",
       "\t92 & 2019Q2 & ats & hy & 3 & trades\\_by\\_num\\_cov & 3686 & 0.602682 & 2.08393 \\\\\n",
       "\t93 & 2019Q2 & ats & hy & 4 & trades\\_by\\_num\\_cov & 5576 & 0.911708 & 3.15247 \\\\\n",
       "\t94 & 2019Q2 & ats & hy & 5 & trades\\_by\\_num\\_cov & 15033 & 2.45798 & 8.49913 \\\\\n",
       "\t95 & 2019Q2 & ats & hy & 6 & trades\\_by\\_num\\_cov & 22743 & 3.71861 & 12.8581 \\\\\n",
       "\t96 & 2019Q2 & ats & hy & 7 & trades\\_by\\_num\\_cov & 42988 & 7.02879 & 24.3039 \\\\\n",
       "\t97 & 2019Q2 & ats & hy & 8 & trades\\_by\\_num\\_cov & 41656 & 6.811 & 23.5508 \\\\\n",
       "\t98 & 2019Q2 & ats & hy & 9 & trades\\_by\\_num\\_cov & 14223 & 2.32554 & 8.04118 \\\\\n",
       "\t99 & 2019Q2 & ats & hy & 10 & trades\\_by\\_num\\_cov & 20749 & 3.39258 & 11.7308 \\\\\n",
       "\t100 & 2019Q2 & ats & hy & 11 & trades\\_by\\_num\\_cov & 5451 & 0.89127 & 3.0818 \\\\\n",
       "\t$\\dots$ & $\\dots$ & $\\dots$ & $\\dots$ & $\\dots$ & $\\dots$ & $\\dots$ & $\\dots$ & $\\dots$ \\\\\n",
       "\\end{tabular}\n"
      ],
      "text/plain": [
       "114×8 DataFrame\n",
       "│ Row │ period │ sbm    │ rt     │ sum_num_cov │ variable          │ value  │ perc_sbm_total │ perc_sbm_rt_total │\n",
       "│     │ \u001b[90mSymbol\u001b[39m │ \u001b[90mSymbol\u001b[39m │ \u001b[90mSymbol\u001b[39m │ \u001b[90mInt64\u001b[39m       │ \u001b[90mCategoricalValue…\u001b[39m │ \u001b[90mInt64\u001b[39m  │ \u001b[90mFloat64\u001b[39m        │ \u001b[90mFloat64\u001b[39m           │\n",
       "├─────┼────────┼────────┼────────┼─────────────┼───────────────────┼────────┼────────────────┼───────────────────┤\n",
       "│ 1   │ 2019Q2 │ any    │ any    │ 0           │ trades_by_num_cov │ 94837  │ 3.43503        │ 3.43503           │\n",
       "│ 2   │ 2019Q2 │ any    │ any    │ 1           │ trades_by_num_cov │ 2160   │ 0.078236       │ 0.078236          │\n",
       "│ 3   │ 2019Q2 │ any    │ any    │ 2           │ trades_by_num_cov │ 120755 │ 4.37379        │ 4.37379           │\n",
       "│ 4   │ 2019Q2 │ any    │ any    │ 3           │ trades_by_num_cov │ 211699 │ 7.66781        │ 7.66781           │\n",
       "│ 5   │ 2019Q2 │ any    │ any    │ 4           │ trades_by_num_cov │ 191240 │ 6.92678        │ 6.92678           │\n",
       "│ 6   │ 2019Q2 │ any    │ any    │ 5           │ trades_by_num_cov │ 451238 │ 16.344         │ 16.344            │\n",
       "│ 7   │ 2019Q2 │ any    │ any    │ 6           │ trades_by_num_cov │ 475062 │ 17.2069        │ 17.2069           │\n",
       "│ 8   │ 2019Q2 │ any    │ any    │ 7           │ trades_by_num_cov │ 530891 │ 19.2291        │ 19.2291           │\n",
       "│ 9   │ 2019Q2 │ any    │ any    │ 8           │ trades_by_num_cov │ 484147 │ 17.536         │ 17.536            │\n",
       "│ 10  │ 2019Q2 │ any    │ any    │ 9           │ trades_by_num_cov │ 80829  │ 2.92765        │ 2.92765           │\n",
       "│ 11  │ 2019Q2 │ any    │ any    │ 10          │ trades_by_num_cov │ 91574  │ 3.31684        │ 3.31684           │\n",
       "│ 12  │ 2019Q2 │ any    │ any    │ 11          │ trades_by_num_cov │ 22638  │ 0.819956       │ 0.819956          │\n",
       "│ 13  │ 2019Q2 │ any    │ any    │ 12          │ trades_by_num_cov │ 3809   │ 0.137963       │ 0.137963          │\n",
       "│ 14  │ 2019Q2 │ ats    │ any    │ 0           │ trades_by_num_cov │ 20868  │ 3.41204        │ 3.41204           │\n",
       "│ 15  │ 2019Q2 │ ats    │ any    │ 1           │ trades_by_num_cov │ 420    │ 0.0686724      │ 0.0686724         │\n",
       "│ 16  │ 2019Q2 │ ats    │ any    │ 2           │ trades_by_num_cov │ 23035  │ 3.76636        │ 3.76636           │\n",
       "│ 17  │ 2019Q2 │ ats    │ any    │ 3           │ trades_by_num_cov │ 41875  │ 6.84681        │ 6.84681           │\n",
       "│ 18  │ 2019Q2 │ ats    │ any    │ 4           │ trades_by_num_cov │ 39167  │ 6.40403        │ 6.40403           │\n",
       "│ 19  │ 2019Q2 │ ats    │ any    │ 5           │ trades_by_num_cov │ 93443  │ 15.2785        │ 15.2785           │\n",
       "│ 20  │ 2019Q2 │ ats    │ any    │ 6           │ trades_by_num_cov │ 104469 │ 17.0813        │ 17.0813           │\n",
       "│ 21  │ 2019Q2 │ ats    │ any    │ 7           │ trades_by_num_cov │ 124045 │ 20.2821        │ 20.2821           │\n",
       "│ 22  │ 2019Q2 │ ats    │ any    │ 8           │ trades_by_num_cov │ 116635 │ 19.0705        │ 19.0705           │\n",
       "│ 23  │ 2019Q2 │ ats    │ any    │ 9           │ trades_by_num_cov │ 19695  │ 3.22025        │ 3.22025           │\n",
       "│ 24  │ 2019Q2 │ ats    │ any    │ 10          │ trades_by_num_cov │ 21758  │ 3.55756        │ 3.55756           │\n",
       "│ 25  │ 2019Q2 │ ats    │ any    │ 11          │ trades_by_num_cov │ 5549   │ 0.907294       │ 0.907294          │\n",
       "│ 26  │ 2019Q2 │ ats    │ any    │ 12          │ trades_by_num_cov │ 640    │ 0.104644       │ 0.104644          │\n",
       "│ 27  │ 2019Q2 │ otc    │ any    │ 0           │ trades_by_num_cov │ 73969  │ 3.44157        │ 3.44157           │\n",
       "│ 28  │ 2019Q2 │ otc    │ any    │ 1           │ trades_by_num_cov │ 1740   │ 0.0809573      │ 0.0809573         │\n",
       "│ 29  │ 2019Q2 │ otc    │ any    │ 2           │ trades_by_num_cov │ 97720  │ 4.54664        │ 4.54664           │\n",
       "│ 30  │ 2019Q2 │ otc    │ any    │ 3           │ trades_by_num_cov │ 169824 │ 7.90144        │ 7.90144           │\n",
       "│ 31  │ 2019Q2 │ otc    │ any    │ 4           │ trades_by_num_cov │ 152073 │ 7.07553        │ 7.07553           │\n",
       "│ 32  │ 2019Q2 │ otc    │ any    │ 5           │ trades_by_num_cov │ 357795 │ 16.6472        │ 16.6472           │\n",
       "│ 33  │ 2019Q2 │ otc    │ any    │ 6           │ trades_by_num_cov │ 370593 │ 17.2427        │ 17.2427           │\n",
       "│ 34  │ 2019Q2 │ otc    │ any    │ 7           │ trades_by_num_cov │ 406846 │ 18.9294        │ 18.9294           │\n",
       "│ 35  │ 2019Q2 │ otc    │ any    │ 8           │ trades_by_num_cov │ 367512 │ 17.0993        │ 17.0993           │\n",
       "│ 36  │ 2019Q2 │ otc    │ any    │ 9           │ trades_by_num_cov │ 61134  │ 2.84439        │ 2.84439           │\n",
       "│ 37  │ 2019Q2 │ otc    │ any    │ 10          │ trades_by_num_cov │ 69816  │ 3.24834        │ 3.24834           │\n",
       "│ 38  │ 2019Q2 │ otc    │ any    │ 11          │ trades_by_num_cov │ 17089  │ 0.795103       │ 0.795103          │\n",
       "│ 39  │ 2019Q2 │ otc    │ any    │ 12          │ trades_by_num_cov │ 3169   │ 0.147445       │ 0.147445          │\n",
       "│ 40  │ 2019Q2 │ any    │ ig     │ 0           │ trades_by_num_cov │ 89068  │ 3.22607        │ 4.4603            │\n",
       "│ 41  │ 2019Q2 │ any    │ ig     │ 1           │ trades_by_num_cov │ 1752   │ 0.0634581      │ 0.0877357         │\n",
       "│ 42  │ 2019Q2 │ any    │ ig     │ 2           │ trades_by_num_cov │ 104184 │ 3.77358        │ 5.21727           │\n",
       "│ 43  │ 2019Q2 │ any    │ ig     │ 3           │ trades_by_num_cov │ 183293 │ 6.63894        │ 9.17885           │\n",
       "│ 44  │ 2019Q2 │ any    │ ig     │ 4           │ trades_by_num_cov │ 160546 │ 5.81503        │ 8.03974           │\n",
       "│ 45  │ 2019Q2 │ any    │ ig     │ 5           │ trades_by_num_cov │ 374138 │ 13.5514        │ 18.7359           │\n",
       "⋮\n",
       "│ 69  │ 2019Q2 │ otc    │ ig     │ 5           │ trades_by_num_cov │ 295728 │ 13.7594        │ 18.9304           │\n",
       "│ 70  │ 2019Q2 │ otc    │ ig     │ 6           │ trades_by_num_cov │ 285680 │ 13.2919        │ 18.2872           │\n",
       "│ 71  │ 2019Q2 │ otc    │ ig     │ 7           │ trades_by_num_cov │ 286851 │ 13.3464        │ 18.3622           │\n",
       "│ 72  │ 2019Q2 │ otc    │ ig     │ 8           │ trades_by_num_cov │ 244796 │ 11.3897        │ 15.6701           │\n",
       "│ 73  │ 2019Q2 │ otc    │ ig     │ 9           │ trades_by_num_cov │ 18478  │ 0.85973        │ 1.18283           │\n",
       "│ 74  │ 2019Q2 │ otc    │ ig     │ 10          │ trades_by_num_cov │ 3399   │ 0.158146       │ 0.21758           │\n",
       "│ 75  │ 2019Q2 │ otc    │ ig     │ 11          │ trades_by_num_cov │ 380    │ 0.0176803      │ 0.0243249         │\n",
       "│ 76  │ 2019Q2 │ any    │ hy     │ 0           │ trades_by_num_cov │ 5769   │ 0.208955       │ 0.755131          │\n",
       "│ 77  │ 2019Q2 │ any    │ hy     │ 1           │ trades_by_num_cov │ 408    │ 0.0147779      │ 0.053405          │\n",
       "│ 78  │ 2019Q2 │ any    │ hy     │ 2           │ trades_by_num_cov │ 16571  │ 0.600207       │ 2.16906           │\n",
       "│ 79  │ 2019Q2 │ any    │ hy     │ 3           │ trades_by_num_cov │ 28406  │ 1.02888        │ 3.71819           │\n",
       "│ 80  │ 2019Q2 │ any    │ hy     │ 4           │ trades_by_num_cov │ 30694  │ 1.11175        │ 4.01768           │\n",
       "│ 81  │ 2019Q2 │ any    │ hy     │ 5           │ trades_by_num_cov │ 77100  │ 2.79259        │ 10.092            │\n",
       "│ 82  │ 2019Q2 │ any    │ hy     │ 6           │ trades_by_num_cov │ 107656 │ 3.89934        │ 14.0916           │\n",
       "│ 83  │ 2019Q2 │ any    │ hy     │ 7           │ trades_by_num_cov │ 162983 │ 5.9033         │ 21.3336           │\n",
       "│ 84  │ 2019Q2 │ any    │ hy     │ 8           │ trades_by_num_cov │ 164372 │ 5.95361        │ 21.5154           │\n",
       "│ 85  │ 2019Q2 │ any    │ hy     │ 9           │ trades_by_num_cov │ 56879  │ 2.06018        │ 7.44516           │\n",
       "│ 86  │ 2019Q2 │ any    │ hy     │ 10          │ trades_by_num_cov │ 87166  │ 3.15718        │ 11.4096           │\n",
       "│ 87  │ 2019Q2 │ any    │ hy     │ 11          │ trades_by_num_cov │ 22160  │ 0.802643       │ 2.90063           │\n",
       "│ 88  │ 2019Q2 │ any    │ hy     │ 12          │ trades_by_num_cov │ 3809   │ 0.137963       │ 0.498578          │\n",
       "│ 89  │ 2019Q2 │ ats    │ hy     │ 0           │ trades_by_num_cov │ 1028   │ 0.168084       │ 0.581195          │\n",
       "│ 90  │ 2019Q2 │ ats    │ hy     │ 1           │ trades_by_num_cov │ 59     │ 0.00964684     │ 0.0333565         │\n",
       "│ 91  │ 2019Q2 │ ats    │ hy     │ 2           │ trades_by_num_cov │ 3045   │ 0.497875       │ 1.72154           │\n",
       "│ 92  │ 2019Q2 │ ats    │ hy     │ 3           │ trades_by_num_cov │ 3686   │ 0.602682       │ 2.08393           │\n",
       "│ 93  │ 2019Q2 │ ats    │ hy     │ 4           │ trades_by_num_cov │ 5576   │ 0.911708       │ 3.15247           │\n",
       "│ 94  │ 2019Q2 │ ats    │ hy     │ 5           │ trades_by_num_cov │ 15033  │ 2.45798        │ 8.49913           │\n",
       "│ 95  │ 2019Q2 │ ats    │ hy     │ 6           │ trades_by_num_cov │ 22743  │ 3.71861        │ 12.8581           │\n",
       "│ 96  │ 2019Q2 │ ats    │ hy     │ 7           │ trades_by_num_cov │ 42988  │ 7.02879        │ 24.3039           │\n",
       "│ 97  │ 2019Q2 │ ats    │ hy     │ 8           │ trades_by_num_cov │ 41656  │ 6.811          │ 23.5508           │\n",
       "│ 98  │ 2019Q2 │ ats    │ hy     │ 9           │ trades_by_num_cov │ 14223  │ 2.32554        │ 8.04118           │\n",
       "│ 99  │ 2019Q2 │ ats    │ hy     │ 10          │ trades_by_num_cov │ 20749  │ 3.39258        │ 11.7308           │\n",
       "│ 100 │ 2019Q2 │ ats    │ hy     │ 11          │ trades_by_num_cov │ 5451   │ 0.89127        │ 3.0818            │\n",
       "│ 101 │ 2019Q2 │ ats    │ hy     │ 12          │ trades_by_num_cov │ 640    │ 0.104644       │ 0.361833          │\n",
       "│ 102 │ 2019Q2 │ otc    │ hy     │ 0           │ trades_by_num_cov │ 4741   │ 0.220585       │ 0.807534          │\n",
       "│ 103 │ 2019Q2 │ otc    │ hy     │ 1           │ trades_by_num_cov │ 349    │ 0.016238       │ 0.0594451         │\n",
       "│ 104 │ 2019Q2 │ otc    │ hy     │ 2           │ trades_by_num_cov │ 13526  │ 0.629327       │ 2.30388           │\n",
       "│ 105 │ 2019Q2 │ otc    │ hy     │ 3           │ trades_by_num_cov │ 24720  │ 1.15015        │ 4.21056           │\n",
       "│ 106 │ 2019Q2 │ otc    │ hy     │ 4           │ trades_by_num_cov │ 25118  │ 1.16867        │ 4.27835           │\n",
       "│ 107 │ 2019Q2 │ otc    │ hy     │ 5           │ trades_by_num_cov │ 62067  │ 2.8878         │ 10.5719           │\n",
       "│ 108 │ 2019Q2 │ otc    │ hy     │ 6           │ trades_by_num_cov │ 84913  │ 3.95076        │ 14.4632           │\n",
       "│ 109 │ 2019Q2 │ otc    │ hy     │ 7           │ trades_by_num_cov │ 119995 │ 5.58303        │ 20.4387           │\n",
       "│ 110 │ 2019Q2 │ otc    │ hy     │ 8           │ trades_by_num_cov │ 122716 │ 5.70963        │ 20.9022           │\n",
       "│ 111 │ 2019Q2 │ otc    │ hy     │ 9           │ trades_by_num_cov │ 42656  │ 1.98466        │ 7.26559           │\n",
       "│ 112 │ 2019Q2 │ otc    │ hy     │ 10          │ trades_by_num_cov │ 66417  │ 3.0902         │ 11.3128           │\n",
       "│ 113 │ 2019Q2 │ otc    │ hy     │ 11          │ trades_by_num_cov │ 16709  │ 0.777423       │ 2.84604           │\n",
       "│ 114 │ 2019Q2 │ otc    │ hy     │ 12          │ trades_by_num_cov │ 3169   │ 0.147445       │ 0.539775          │"
      ]
     },
     "execution_count": 24,
     "metadata": {},
     "output_type": "execute_result"
    }
   ],
   "source": [
    "df"
   ]
  },
  {
   "cell_type": "code",
   "execution_count": 22,
   "metadata": {},
   "outputs": [
    {
     "data": {
      "text/plain": [
       "13-element Array{Any,1}:\n",
       " VegaLite.VLSpec\n",
       " VegaLite.VLSpec\n",
       " VegaLite.VLSpec\n",
       " VegaLite.VLSpec\n",
       " VegaLite.VLSpec\n",
       " VegaLite.VLSpec\n",
       " VegaLite.VLSpec\n",
       " VegaLite.VLSpec\n",
       " VegaLite.VLSpec\n",
       " VegaLite.VLSpec\n",
       " VegaLite.VLSpec\n",
       " VegaLite.VLSpec\n",
       " VegaLite.VLSpec"
      ]
     },
     "execution_count": 22,
     "metadata": {},
     "output_type": "execute_result"
    }
   ],
   "source": [
    "stats_var=:count\n",
    "df = PlotMod.prepare_num_cov_plot(snc; stat=stats_var)\n",
    "\n",
    "# Trade Count {{{2\n",
    "color_scale=\"viridis\"\n",
    "\n",
    "cond = .&(df[:, :sbm] .!= :any, df[:, :rt] .== :any)\n",
    "tt = df[cond, :]\n",
    "\n",
    "x_var=\"sbm:n\"\n",
    "x_var_type=\"nominal\"\n",
    "legend_title=\"Secondary Market\"\n",
    "\n",
    "y_var=\"value\"\n",
    "y_axis_title=\"Trade Count\"\n",
    "title=[\"Number of Trades of Non-MTN-Bonds Traded\",\n",
    "        \" by Number of Covenant Categories per Bond\"]\n",
    "if :period in Symbol.(names(tt))\n",
    "    title[end] = string(title[end], \" - \", tt[1, :period])\n",
    "end\n",
    "\n",
    "include(string(scripts_path, \"/\", \"single_vega_plt_script.jl\"))\n",
    "push!(pl, p)"
   ]
  },
  {
   "cell_type": "code",
   "execution_count": 23,
   "metadata": {},
   "outputs": [
    {
     "data": {
      "application/vnd.vegalite.v4+json": {
       "config": {
        "axis": {
         "domainWidth": 3
        },
        "opacity": {
         "value": 0.7
        },
        "view": {
         "stroke": "transparent"
        }
       },
       "data": {
        "values": [
         {
          "perc_sbm_rt_total": 3.4120395880307193,
          "perc_sbm_total": 3.4120395880307193,
          "period": "2019Q2",
          "rt": "any",
          "sbm": "ats",
          "sum_num_cov": 0,
          "value": 20868,
          "variable": "trades_by_num_cov"
         },
         {
          "perc_sbm_rt_total": 0.06867244714265393,
          "perc_sbm_total": 0.06867244714265393,
          "period": "2019Q2",
          "rt": "any",
          "sbm": "ats",
          "sum_num_cov": 1,
          "value": 420,
          "variable": "trades_by_num_cov"
         },
         {
          "perc_sbm_rt_total": 3.7663567141215077,
          "perc_sbm_total": 3.7663567141215077,
          "period": "2019Q2",
          "rt": "any",
          "sbm": "ats",
          "sum_num_cov": 2,
          "value": 23035,
          "variable": "trades_by_num_cov"
         },
         {
          "perc_sbm_rt_total": 6.846806485949126,
          "perc_sbm_total": 6.846806485949126,
          "period": "2019Q2",
          "rt": "any",
          "sbm": "ats",
          "sum_num_cov": 3,
          "value": 41875,
          "variable": "trades_by_num_cov"
         },
         {
          "perc_sbm_rt_total": 6.404032707705539,
          "perc_sbm_total": 6.404032707705539,
          "period": "2019Q2",
          "rt": "any",
          "sbm": "ats",
          "sum_num_cov": 4,
          "value": 39167,
          "variable": "trades_by_num_cov"
         },
         {
          "perc_sbm_rt_total": 15.278474948454788,
          "perc_sbm_total": 15.278474948454788,
          "period": "2019Q2",
          "rt": "any",
          "sbm": "ats",
          "sum_num_cov": 5,
          "value": 93443,
          "variable": "trades_by_num_cov"
         },
         {
          "perc_sbm_rt_total": 17.081290191775985,
          "perc_sbm_total": 17.081290191775985,
          "period": "2019Q2",
          "rt": "any",
          "sbm": "ats",
          "sum_num_cov": 6,
          "value": 104469,
          "variable": "trades_by_num_cov"
         },
         {
          "perc_sbm_rt_total": 20.282080251929777,
          "perc_sbm_total": 20.282080251929777,
          "period": "2019Q2",
          "rt": "any",
          "sbm": "ats",
          "sum_num_cov": 7,
          "value": 124045,
          "variable": "trades_by_num_cov"
         },
         {
          "perc_sbm_rt_total": 19.070502077341526,
          "perc_sbm_total": 19.070502077341526,
          "period": "2019Q2",
          "rt": "any",
          "sbm": "ats",
          "sum_num_cov": 8,
          "value": 116635,
          "variable": "trades_by_num_cov"
         },
         {
          "perc_sbm_rt_total": 3.2202472535108786,
          "perc_sbm_total": 3.2202472535108786,
          "period": "2019Q2",
          "rt": "any",
          "sbm": "ats",
          "sum_num_cov": 9,
          "value": 19695,
          "variable": "trades_by_num_cov"
         },
         {
          "perc_sbm_rt_total": 3.557559773642534,
          "perc_sbm_total": 3.557559773642534,
          "period": "2019Q2",
          "rt": "any",
          "sbm": "ats",
          "sum_num_cov": 10,
          "value": 21758,
          "variable": "trades_by_num_cov"
         },
         {
          "perc_sbm_rt_total": 0.9072938314156824,
          "perc_sbm_total": 0.9072938314156824,
          "period": "2019Q2",
          "rt": "any",
          "sbm": "ats",
          "sum_num_cov": 11,
          "value": 5549,
          "variable": "trades_by_num_cov"
         },
         {
          "perc_sbm_rt_total": 0.10464372897928217,
          "perc_sbm_total": 0.10464372897928217,
          "period": "2019Q2",
          "rt": "any",
          "sbm": "ats",
          "sum_num_cov": 12,
          "value": 640,
          "variable": "trades_by_num_cov"
         },
         {
          "perc_sbm_rt_total": 3.4415711307972905,
          "perc_sbm_total": 3.4415711307972905,
          "period": "2019Q2",
          "rt": "any",
          "sbm": "otc",
          "sum_num_cov": 0,
          "value": 73969,
          "variable": "trades_by_num_cov"
         },
         {
          "perc_sbm_rt_total": 0.08095734385468623,
          "perc_sbm_total": 0.08095734385468623,
          "period": "2019Q2",
          "rt": "any",
          "sbm": "otc",
          "sum_num_cov": 1,
          "value": 1740,
          "variable": "trades_by_num_cov"
         },
         {
          "perc_sbm_rt_total": 4.546638874413757,
          "perc_sbm_total": 4.546638874413757,
          "period": "2019Q2",
          "rt": "any",
          "sbm": "otc",
          "sum_num_cov": 2,
          "value": 97720,
          "variable": "trades_by_num_cov"
         },
         {
          "perc_sbm_rt_total": 7.901436760217376,
          "perc_sbm_total": 7.901436760217376,
          "period": "2019Q2",
          "rt": "any",
          "sbm": "otc",
          "sum_num_cov": 3,
          "value": 169824,
          "variable": "trades_by_num_cov"
         },
         {
          "perc_sbm_rt_total": 7.07553227127224,
          "perc_sbm_total": 7.07553227127224,
          "period": "2019Q2",
          "rt": "any",
          "sbm": "otc",
          "sum_num_cov": 4,
          "value": 152073,
          "variable": "trades_by_num_cov"
         },
         {
          "perc_sbm_rt_total": 16.64720278418819,
          "perc_sbm_total": 16.64720278418819,
          "period": "2019Q2",
          "rt": "any",
          "sbm": "otc",
          "sum_num_cov": 5,
          "value": 357795,
          "variable": "trades_by_num_cov"
         },
         {
          "perc_sbm_rt_total": 17.242658006402145,
          "perc_sbm_total": 17.242658006402145,
          "period": "2019Q2",
          "rt": "any",
          "sbm": "otc",
          "sum_num_cov": 6,
          "value": 370593,
          "variable": "trades_by_num_cov"
         },
         {
          "perc_sbm_rt_total": 18.92940891833544,
          "perc_sbm_total": 18.92940891833544,
          "period": "2019Q2",
          "rt": "any",
          "sbm": "otc",
          "sum_num_cov": 7,
          "value": 406846,
          "variable": "trades_by_num_cov"
         },
         {
          "perc_sbm_rt_total": 17.099307675128415,
          "perc_sbm_total": 17.099307675128415,
          "period": "2019Q2",
          "rt": "any",
          "sbm": "otc",
          "sum_num_cov": 8,
          "value": 367512,
          "variable": "trades_by_num_cov"
         },
         {
          "perc_sbm_rt_total": 2.8443944018461997,
          "perc_sbm_total": 2.8443944018461997,
          "period": "2019Q2",
          "rt": "any",
          "sbm": "otc",
          "sum_num_cov": 9,
          "value": 61134,
          "variable": "trades_by_num_cov"
         },
         {
          "perc_sbm_rt_total": 3.2483436313556164,
          "perc_sbm_total": 3.2483436313556164,
          "period": "2019Q2",
          "rt": "any",
          "sbm": "otc",
          "sum_num_cov": 10,
          "value": 69816,
          "variable": "trades_by_num_cov"
         },
         {
          "perc_sbm_rt_total": 0.7951034765130649,
          "perc_sbm_total": 0.7951034765130649,
          "period": "2019Q2",
          "rt": "any",
          "sbm": "otc",
          "sum_num_cov": 11,
          "value": 17089,
          "variable": "trades_by_num_cov"
         },
         {
          "perc_sbm_rt_total": 0.1474447256755751,
          "perc_sbm_total": 0.1474447256755751,
          "period": "2019Q2",
          "rt": "any",
          "sbm": "otc",
          "sum_num_cov": 12,
          "value": 3169,
          "variable": "trades_by_num_cov"
         }
        ]
       },
       "encoding": {
        "color": {
         "field": "sbm",
         "legend": {
          "title": "Secondary Market"
         },
         "scale": {
          "scheme": "viridis"
         },
         "type": "nominal"
        },
        "column": {
         "field": "cov_cat",
         "sort": "ascending",
         "title": "Covenant Category",
         "type": "ordinal"
        },
        "x": {
         "axis": {
          "title": " "
         },
         "field": "sbm",
         "type": "nominal"
        },
        "y": {
         "axis": {
          "grid": false,
          "stack": null,
          "title": "Trade Count"
         },
         "field": "value",
         "type": "quantitative"
        }
       },
       "height": 350,
       "mark": "bar",
       "spacing": 4.5,
       "title": {
        "align": "center",
        "anchor": "middle",
        "fontSize": 14,
        "offset": 20,
        "text": [
         "Number of Trades of Non-MTN-Bonds Traded",
         " by Number of Covenant Categories per Bond - 2019Q2"
        ]
       },
       "width": {
        "step": 18
       }
      },
      "image/png": "[encoded data removed]",
      "image/svg+xml": [
       "<?xml version=\"1.0\" encoding=\"utf-8\"?>\n",
       "<!DOCTYPE svg PUBLIC \"-//W3C//DTD SVG 1.1//EN\" \"http://www.w3.org/Graphics/SVG/1.1/DTD/svg11.dtd\">\n",
       "<svg class=\"marks\" width=\"446\" height=\"501\" viewBox=\"0 0 446 501\" version=\"1.1\" xmlns=\"http://www.w3.org/2000/svg\" xmlns:xlink=\"http://www.w3.org/1999/xlink\"><rect width=\"446\" height=\"501\" fill=\"white\"></rect><g fill=\"none\" stroke-miterlimit=\"10\" transform=\"translate(151,107)\"><g class=\"mark-group role-frame root\" role=\"graphics-object\" aria-roledescription=\"group mark container\"><g transform=\"translate(0,0)\"><path class=\"background\" aria-hidden=\"true\" d=\"M0,0h0v0h0Z\"></path><g><g class=\"mark-group role-column-title column-title\" role=\"graphics-object\" aria-roledescription=\"group mark container\"><g transform=\"translate(18,-31)\"><path class=\"background\" aria-hidden=\"true\" d=\"M0,0h0v0h0Z\"></path><g><g class=\"mark-group role-title\"><g transform=\"translate(0,-21)\"><path class=\"background\" aria-hidden=\"true\" d=\"M0,0h0v0h0Z\" pointer-events=\"none\"></path><g><g class=\"mark-text role-title-text\" role=\"graphics-symbol\" aria-roledescription=\"title\" aria-label=\"Title text 'Covenant Category'\" pointer-events=\"none\"><text text-anchor=\"middle\" transform=\"translate(0,9)\" font-family=\"sans-serif\" font-size=\"11px\" font-weight=\"bold\" fill=\"#000\" opacity=\"1\">Covenant Category</text></g></g><path class=\"foreground\" aria-hidden=\"true\" d=\"\" pointer-events=\"none\" display=\"none\"></path></g></g></g><path class=\"foreground\" aria-hidden=\"true\" d=\"\" display=\"none\"></path></g></g><g class=\"mark-group role-row-header row_header\" role=\"graphics-object\" aria-roledescription=\"group mark container\"><g transform=\"translate(-1,0)\"><path class=\"background\" aria-hidden=\"true\" d=\"M0,0h0v350h0Z\"></path><g><g class=\"mark-group role-axis\" role=\"graphics-symbol\" aria-roledescription=\"axis\" aria-label=\"Y-axis titled 'Trade Count' for a linear scale with values from 0 to 450,000\"><g transform=\"translate(0.5,0.5)\"><path class=\"background\" aria-hidden=\"true\" d=\"M0,0h0v0h0Z\" pointer-events=\"none\"></path><g><g class=\"mark-rule role-axis-tick\" pointer-events=\"none\"><line transform=\"translate(0,350)\" x2=\"-5\" y2=\"0\" stroke=\"#888\" stroke-width=\"1\" opacity=\"1\"></line><line transform=\"translate(0,311)\" x2=\"-5\" y2=\"0\" stroke=\"#888\" stroke-width=\"1\" opacity=\"1\"></line><line transform=\"translate(0,272)\" x2=\"-5\" y2=\"0\" stroke=\"#888\" stroke-width=\"1\" opacity=\"1\"></line><line transform=\"translate(0,233)\" x2=\"-5\" y2=\"0\" stroke=\"#888\" stroke-width=\"1\" opacity=\"1\"></line><line transform=\"translate(0,194)\" x2=\"-5\" y2=\"0\" stroke=\"#888\" stroke-width=\"1\" opacity=\"1\"></line><line transform=\"translate(0,156)\" x2=\"-5\" y2=\"0\" stroke=\"#888\" stroke-width=\"1\" opacity=\"1\"></line><line transform=\"translate(0,117)\" x2=\"-5\" y2=\"0\" stroke=\"#888\" stroke-width=\"1\" opacity=\"1\"></line><line transform=\"translate(0,78)\" x2=\"-5\" y2=\"0\" stroke=\"#888\" stroke-width=\"1\" opacity=\"1\"></line><line transform=\"translate(0,39)\" x2=\"-5\" y2=\"0\" stroke=\"#888\" stroke-width=\"1\" opacity=\"1\"></line><line transform=\"translate(0,0)\" x2=\"-5\" y2=\"0\" stroke=\"#888\" stroke-width=\"1\" opacity=\"1\"></line></g><g class=\"mark-text role-axis-label\" pointer-events=\"none\"><text text-anchor=\"end\" transform=\"translate(-7,353)\" font-family=\"sans-serif\" font-size=\"10px\" fill=\"#000\" opacity=\"1\">0</text><text text-anchor=\"end\" transform=\"translate(-7,314.1111111111111)\" font-family=\"sans-serif\" font-size=\"10px\" fill=\"#000\" opacity=\"1\">50,000</text><text text-anchor=\"end\" transform=\"translate(-7,275.22222222222223)\" font-family=\"sans-serif\" font-size=\"10px\" fill=\"#000\" opacity=\"1\">100,000</text><text text-anchor=\"end\" transform=\"translate(-7,236.33333333333337)\" font-family=\"sans-serif\" font-size=\"10px\" fill=\"#000\" opacity=\"1\">150,000</text><text text-anchor=\"end\" transform=\"translate(-7,197.44444444444446)\" font-family=\"sans-serif\" font-size=\"10px\" fill=\"#000\" opacity=\"1\">200,000</text><text text-anchor=\"end\" transform=\"translate(-7,158.55555555555554)\" font-family=\"sans-serif\" font-size=\"10px\" fill=\"#000\" opacity=\"1\">250,000</text><text text-anchor=\"end\" transform=\"translate(-7,119.66666666666669)\" font-family=\"sans-serif\" font-size=\"10px\" fill=\"#000\" opacity=\"1\">300,000</text><text text-anchor=\"end\" transform=\"translate(-7,80.77777777777777)\" font-family=\"sans-serif\" font-size=\"10px\" fill=\"#000\" opacity=\"1\">350,000</text><text text-anchor=\"end\" transform=\"translate(-7,41.88888888888891)\" font-family=\"sans-serif\" font-size=\"10px\" fill=\"#000\" opacity=\"1\">400,000</text><text text-anchor=\"end\" transform=\"translate(-7,3)\" font-family=\"sans-serif\" font-size=\"10px\" fill=\"#000\" opacity=\"1\">450,000</text></g><g class=\"mark-rule role-axis-domain\" pointer-events=\"none\"><line transform=\"translate(0,350)\" x2=\"0\" y2=\"-350\" stroke=\"#888\" stroke-width=\"3\" opacity=\"1\"></line></g><g class=\"mark-text role-axis-title\" pointer-events=\"none\"><text text-anchor=\"middle\" transform=\"translate(-50,175) rotate(-90) translate(0,-2)\" font-family=\"sans-serif\" font-size=\"11px\" font-weight=\"bold\" fill=\"#000\" opacity=\"1\">Trade Count</text></g></g><path class=\"foreground\" aria-hidden=\"true\" d=\"\" pointer-events=\"none\" display=\"none\"></path></g></g></g><path class=\"foreground\" aria-hidden=\"true\" d=\"\" display=\"none\"></path></g></g><g class=\"mark-group role-column-header column_header\" role=\"graphics-object\" aria-roledescription=\"group mark container\"><g transform=\"translate(0,-1)\"><path class=\"background\" aria-hidden=\"true\" d=\"M0,0h36v0h-36Z\"></path><g><g class=\"mark-group role-title\"><g transform=\"translate(18,-20)\"><path class=\"background\" aria-hidden=\"true\" d=\"M0,0h0v0h0Z\" pointer-events=\"none\"></path><g><g class=\"mark-text role-title-text\" role=\"graphics-symbol\" aria-roledescription=\"title\" aria-label=\"Title text 'undefined'\" pointer-events=\"none\"><text text-anchor=\"middle\" transform=\"translate(0,8)\" font-family=\"sans-serif\" font-size=\"10px\" fill=\"#000\" opacity=\"1\">undefined</text></g></g><path class=\"foreground\" aria-hidden=\"true\" d=\"\" pointer-events=\"none\" display=\"none\"></path></g></g></g><path class=\"foreground\" aria-hidden=\"true\" d=\"\" display=\"none\"></path></g></g><g class=\"mark-group role-column-footer column_footer\" role=\"graphics-object\" aria-roledescription=\"group mark container\"><g transform=\"translate(0,351)\"><path class=\"background\" aria-hidden=\"true\" d=\"M0,0h36v0h-36Z\"></path><g><g class=\"mark-group role-axis\" role=\"graphics-symbol\" aria-roledescription=\"axis\" aria-label=\"X-axis titled ' ' for a discrete scale with 2 values: ats, otc\"><g transform=\"translate(0.5,0.5)\"><path class=\"background\" aria-hidden=\"true\" d=\"M0,0h0v0h0Z\" pointer-events=\"none\"></path><g><g class=\"mark-rule role-axis-tick\" pointer-events=\"none\"><line transform=\"translate(9,0)\" x2=\"0\" y2=\"5\" stroke=\"#888\" stroke-width=\"1\" opacity=\"1\"></line><line transform=\"translate(27,0)\" x2=\"0\" y2=\"5\" stroke=\"#888\" stroke-width=\"1\" opacity=\"1\"></line></g><g class=\"mark-text role-axis-label\" pointer-events=\"none\"><text text-anchor=\"end\" transform=\"translate(8.500000000000002,7) rotate(270) translate(0,3)\" font-family=\"sans-serif\" font-size=\"10px\" fill=\"#000\" opacity=\"1\">ats</text><text text-anchor=\"end\" transform=\"translate(26.5,7) rotate(270) translate(0,3)\" font-family=\"sans-serif\" font-size=\"10px\" fill=\"#000\" opacity=\"1\">otc</text></g><g class=\"mark-rule role-axis-domain\" pointer-events=\"none\"><line transform=\"translate(0,0)\" x2=\"36\" y2=\"0\" stroke=\"#888\" stroke-width=\"3\" opacity=\"1\"></line></g><g class=\"mark-text role-axis-title\" pointer-events=\"none\"><text text-anchor=\"middle\" transform=\"translate(18,36)\" font-family=\"sans-serif\" font-size=\"11px\" font-weight=\"bold\" fill=\"#000\" opacity=\"1\"></text></g></g><path class=\"foreground\" aria-hidden=\"true\" d=\"\" pointer-events=\"none\" display=\"none\"></path></g></g></g><path class=\"foreground\" aria-hidden=\"true\" d=\"\" display=\"none\"></path></g></g><g class=\"mark-group role-scope cell\" role=\"graphics-object\" aria-roledescription=\"group mark container\"><g transform=\"translate(0,0)\"><path class=\"background\" aria-hidden=\"true\" d=\"M0.5,0.5h36v350h-36Z\"></path><g><g class=\"mark-rect role-mark child_marks\" role=\"graphics-object\" aria-roledescription=\"rect mark container\"><path aria-label=\"Trade Count: 20868;  : ats; Secondary Market: ats\" role=\"graphics-symbol\" aria-roledescription=\"bar\" d=\"M0.9000000000000021,333.7693333333333h16.2v16.230666666666707h-16.2Z\" fill=\"rgb(49, 104, 142)\"></path><path aria-label=\"Trade Count: 420;  : ats; Secondary Market: ats\" role=\"graphics-symbol\" aria-roledescription=\"bar\" d=\"M0.9000000000000021,349.67333333333335h16.2v0.3266666666666538h-16.2Z\" fill=\"rgb(49, 104, 142)\"></path><path aria-label=\"Trade Count: 23035;  : ats; Secondary Market: ats\" role=\"graphics-symbol\" aria-roledescription=\"bar\" d=\"M0.9000000000000021,332.0838888888889h16.2v17.916111111111093h-16.2Z\" fill=\"rgb(49, 104, 142)\"></path><path aria-label=\"Trade Count: 41875;  : ats; Secondary Market: ats\" role=\"graphics-symbol\" aria-roledescription=\"bar\" d=\"M0.9000000000000021,317.43055555555554h16.2v32.56944444444446h-16.2Z\" fill=\"rgb(49, 104, 142)\"></path><path aria-label=\"Trade Count: 39167;  : ats; Secondary Market: ats\" role=\"graphics-symbol\" aria-roledescription=\"bar\" d=\"M0.9000000000000021,319.5367777777778h16.2v30.463222222222214h-16.2Z\" fill=\"rgb(49, 104, 142)\"></path><path aria-label=\"Trade Count: 93443;  : ats; Secondary Market: ats\" role=\"graphics-symbol\" aria-roledescription=\"bar\" d=\"M0.9000000000000021,277.3221111111111h16.2v72.6778888888889h-16.2Z\" fill=\"rgb(49, 104, 142)\"></path><path aria-label=\"Trade Count: 104469;  : ats; Secondary Market: ats\" role=\"graphics-symbol\" aria-roledescription=\"bar\" d=\"M0.9000000000000021,268.7463333333333h16.2v81.25366666666667h-16.2Z\" fill=\"rgb(49, 104, 142)\"></path><path aria-label=\"Trade Count: 124045;  : ats; Secondary Market: ats\" role=\"graphics-symbol\" aria-roledescription=\"bar\" d=\"M0.9000000000000021,253.52055555555555h16.2v96.47944444444445h-16.2Z\" fill=\"rgb(49, 104, 142)\"></path><path aria-label=\"Trade Count: 116635;  : ats; Secondary Market: ats\" role=\"graphics-symbol\" aria-roledescription=\"bar\" d=\"M0.9000000000000021,259.2838888888889h16.2v90.7161111111111h-16.2Z\" fill=\"rgb(49, 104, 142)\"></path><path aria-label=\"Trade Count: 19695;  : ats; Secondary Market: ats\" role=\"graphics-symbol\" aria-roledescription=\"bar\" d=\"M0.9000000000000021,334.6816666666667h16.2v15.318333333333328h-16.2Z\" fill=\"rgb(49, 104, 142)\"></path><path aria-label=\"Trade Count: 21758;  : ats; Secondary Market: ats\" role=\"graphics-symbol\" aria-roledescription=\"bar\" d=\"M0.9000000000000021,333.0771111111111h16.2v16.922888888888906h-16.2Z\" fill=\"rgb(49, 104, 142)\"></path><path aria-label=\"Trade Count: 5549;  : ats; Secondary Market: ats\" role=\"graphics-symbol\" aria-roledescription=\"bar\" d=\"M0.9000000000000021,345.6841111111111h16.2v4.315888888888878h-16.2Z\" fill=\"rgb(49, 104, 142)\"></path><path aria-label=\"Trade Count: 640;  : ats; Secondary Market: ats\" role=\"graphics-symbol\" aria-roledescription=\"bar\" d=\"M0.9000000000000021,349.5022222222222h16.2v0.49777777777779875h-16.2Z\" fill=\"rgb(49, 104, 142)\"></path><path aria-label=\"Trade Count: 73969;  : otc; Secondary Market: otc\" role=\"graphics-symbol\" aria-roledescription=\"bar\" d=\"M18.900000000000002,292.46855555555555h16.2v57.531444444444446h-16.2Z\" fill=\"rgb(53, 183, 121)\"></path><path aria-label=\"Trade Count: 1740;  : otc; Secondary Market: otc\" role=\"graphics-symbol\" aria-roledescription=\"bar\" d=\"M18.900000000000002,348.64666666666665h16.2v1.353333333333353h-16.2Z\" fill=\"rgb(53, 183, 121)\"></path><path aria-label=\"Trade Count: 97720;  : otc; Secondary Market: otc\" role=\"graphics-symbol\" aria-roledescription=\"bar\" d=\"M18.900000000000002,273.99555555555554h16.2v76.00444444444446h-16.2Z\" fill=\"rgb(53, 183, 121)\"></path><path aria-label=\"Trade Count: 169824;  : otc; Secondary Market: otc\" role=\"graphics-symbol\" aria-roledescription=\"bar\" d=\"M18.900000000000002,217.91466666666668h16.2v132.08533333333332h-16.2Z\" fill=\"rgb(53, 183, 121)\"></path><path aria-label=\"Trade Count: 152073;  : otc; Secondary Market: otc\" role=\"graphics-symbol\" aria-roledescription=\"bar\" d=\"M18.900000000000002,231.721h16.2v118.279h-16.2Z\" fill=\"rgb(53, 183, 121)\"></path><path aria-label=\"Trade Count: 357795;  : otc; Secondary Market: otc\" role=\"graphics-symbol\" aria-roledescription=\"bar\" d=\"M18.900000000000002,71.71499999999999h16.2v278.285h-16.2Z\" fill=\"rgb(53, 183, 121)\"></path><path aria-label=\"Trade Count: 370593;  : otc; Secondary Market: otc\" role=\"graphics-symbol\" aria-roledescription=\"bar\" d=\"M18.900000000000002,61.76099999999998h16.2v288.23900000000003h-16.2Z\" fill=\"rgb(53, 183, 121)\"></path><path aria-label=\"Trade Count: 406846;  : otc; Secondary Market: otc\" role=\"graphics-symbol\" aria-roledescription=\"bar\" d=\"M18.900000000000002,33.56422222222221h16.2v316.4357777777778h-16.2Z\" fill=\"rgb(53, 183, 121)\"></path><path aria-label=\"Trade Count: 367512;  : otc; Secondary Market: otc\" role=\"graphics-symbol\" aria-roledescription=\"bar\" d=\"M18.900000000000002,64.15733333333331h16.2v285.8426666666667h-16.2Z\" fill=\"rgb(53, 183, 121)\"></path><path aria-label=\"Trade Count: 61134;  : otc; Secondary Market: otc\" role=\"graphics-symbol\" aria-roledescription=\"bar\" d=\"M18.900000000000002,302.4513333333333h16.2v47.54866666666669h-16.2Z\" fill=\"rgb(53, 183, 121)\"></path><path aria-label=\"Trade Count: 69816;  : otc; Secondary Market: otc\" role=\"graphics-symbol\" aria-roledescription=\"bar\" d=\"M18.900000000000002,295.69866666666667h16.2v54.30133333333333h-16.2Z\" fill=\"rgb(53, 183, 121)\"></path><path aria-label=\"Trade Count: 17089;  : otc; Secondary Market: otc\" role=\"graphics-symbol\" aria-roledescription=\"bar\" d=\"M18.900000000000002,336.70855555555556h16.2v13.291444444444437h-16.2Z\" fill=\"rgb(53, 183, 121)\"></path><path aria-label=\"Trade Count: 3169;  : otc; Secondary Market: otc\" role=\"graphics-symbol\" aria-roledescription=\"bar\" d=\"M18.900000000000002,347.5352222222222h16.2v2.4647777777777833h-16.2Z\" fill=\"rgb(53, 183, 121)\"></path></g></g><path class=\"foreground\" aria-hidden=\"true\" d=\"\" display=\"none\"></path></g></g><g class=\"mark-group role-legend\" role=\"graphics-symbol\" aria-roledescription=\"legend\" aria-label=\"Symbol legend titled 'Secondary Market' for fill color with 2 values: ats, otc\"><g transform=\"translate(95,0)\"><path class=\"background\" aria-hidden=\"true\" d=\"M0,0h111v40h-111Z\" pointer-events=\"none\"></path><g><g class=\"mark-group role-legend-entry\"><g transform=\"translate(0,16)\"><path class=\"background\" aria-hidden=\"true\" d=\"M0,0h0v0h0Z\" pointer-events=\"none\"></path><g><g class=\"mark-group role-scope\" role=\"graphics-object\" aria-roledescription=\"group mark container\"><g transform=\"translate(0,0)\"><path class=\"background\" aria-hidden=\"true\" d=\"M0,0h32v11h-32Z\" pointer-events=\"none\" opacity=\"1\"></path><g><g class=\"mark-symbol role-legend-symbol\" pointer-events=\"none\"><path transform=\"translate(6,6)\" d=\"M-5,-5h10v10h-10Z\" fill=\"rgb(49, 104, 142)\" stroke-width=\"1.5\" opacity=\"1\"></path></g><g class=\"mark-text role-legend-label\" pointer-events=\"none\"><text text-anchor=\"start\" transform=\"translate(16,9)\" font-family=\"sans-serif\" font-size=\"10px\" fill=\"#000\" opacity=\"1\">ats</text></g></g><path class=\"foreground\" aria-hidden=\"true\" d=\"\" pointer-events=\"none\" display=\"none\"></path></g><g transform=\"translate(0,13)\"><path class=\"background\" aria-hidden=\"true\" d=\"M0,0h32v11h-32Z\" pointer-events=\"none\" opacity=\"1\"></path><g><g class=\"mark-symbol role-legend-symbol\" pointer-events=\"none\"><path transform=\"translate(6,6)\" d=\"M-5,-5h10v10h-10Z\" fill=\"rgb(53, 183, 121)\" stroke-width=\"1.5\" opacity=\"1\"></path></g><g class=\"mark-text role-legend-label\" pointer-events=\"none\"><text text-anchor=\"start\" transform=\"translate(16,9)\" font-family=\"sans-serif\" font-size=\"10px\" fill=\"#000\" opacity=\"1\">otc</text></g></g><path class=\"foreground\" aria-hidden=\"true\" d=\"\" pointer-events=\"none\" display=\"none\"></path></g></g></g><path class=\"foreground\" aria-hidden=\"true\" d=\"\" pointer-events=\"none\" display=\"none\"></path></g></g><g class=\"mark-text role-legend-title\" pointer-events=\"none\"><text text-anchor=\"start\" transform=\"translate(0,9)\" font-family=\"sans-serif\" font-size=\"11px\" font-weight=\"bold\" fill=\"#000\" opacity=\"1\">Secondary Market</text></g></g><path class=\"foreground\" aria-hidden=\"true\" d=\"\" pointer-events=\"none\" display=\"none\"></path></g></g><g class=\"mark-group role-title\"><g transform=\"translate(72,-102)\"><path class=\"background\" aria-hidden=\"true\" d=\"M0,0h0v0h0Z\" pointer-events=\"none\"></path><g><g class=\"mark-text role-title-text\" role=\"graphics-symbol\" aria-roledescription=\"title\" aria-label=\"Title text 'Number of Trades of Non-MTN-Bonds Traded  by Number of Covenant Categories per Bond - 2019Q2'\" pointer-events=\"none\"><text text-anchor=\"middle\" transform=\"translate(0,11)\" font-family=\"sans-serif\" font-size=\"14px\" font-weight=\"bold\" fill=\"#000\" opacity=\"1\"><tspan>Number of Trades of Non-MTN-Bonds Traded</tspan><tspan x=\"0\" dy=\"16\">by Number of Covenant Categories per Bond - 2019Q2</tspan></text></g></g><path class=\"foreground\" aria-hidden=\"true\" d=\"\" pointer-events=\"none\" display=\"none\"></path></g></g></g><path class=\"foreground\" aria-hidden=\"true\" d=\"\" display=\"none\"></path></g></g></g></svg>\n"
      ],
      "text/plain": [
       "@vlplot(\n",
       "    config={\n",
       "        view={\n",
       "            stroke=\"transparent\"\n",
       "        },\n",
       "        axis={\n",
       "            domainWidth=3\n",
       "        },\n",
       "        opacity={\n",
       "            value=0.7\n",
       "        }\n",
       "    },\n",
       "    title={\n",
       "        text=[\n",
       "            \"Number of Trades of Non-MTN-Bonds Traded\",\n",
       "            \" by Number of Covenant Categories per Bond - 2019Q2\"\n",
       "        ],\n",
       "        align=\"center\",\n",
       "        anchor=\"middle\",\n",
       "        fontSize=14,\n",
       "        offset=20\n",
       "    },\n",
       "    spacing=4.5,\n",
       "    width={\n",
       "        step=18\n",
       "    },\n",
       "    height=350,\n",
       "    mark=\"bar\",\n",
       "    encoding={\n",
       "        column={\n",
       "            type=\"ordinal\",\n",
       "            title=\"Covenant Category\",\n",
       "            sort=\"ascending\",\n",
       "            field=\"cov_cat\"\n",
       "        },\n",
       "        y={\n",
       "            axis={\n",
       "                title=\"Trade Count\",\n",
       "                grid=false,\n",
       "                stack=nothing\n",
       "            },\n",
       "            field=\"value\"\n",
       "        },\n",
       "        x={\n",
       "            type=\"nominal\",\n",
       "            axis={\n",
       "                title=\" \"\n",
       "            },\n",
       "            field=\"sbm\"\n",
       "        },\n",
       "        color={\n",
       "            legend={\n",
       "                title=\"Secondary Market\"\n",
       "            },\n",
       "            scale={\n",
       "                scheme=\"viridis\"\n",
       "            },\n",
       "            field=\"sbm\",\n",
       "            type=\"nominal\"\n",
       "        }\n",
       "    },\n",
       "    data={\n",
       "        values=...\n",
       "    }\n",
       ")"
      ]
     },
     "execution_count": 23,
     "metadata": {},
     "output_type": "execute_result"
    }
   ],
   "source": [
    "pl[13]"
   ]
  },
  {
   "cell_type": "code",
   "execution_count": 53,
   "metadata": {},
   "outputs": [],
   "source": [
    "using VegaLite"
   ]
  },
  {
   "cell_type": "code",
   "execution_count": null,
   "metadata": {},
   "outputs": [],
   "source": []
  },
  {
   "cell_type": "code",
   "execution_count": 44,
   "metadata": {},
   "outputs": [
    {
     "data": {
      "text/plain": [
       "0.7"
      ]
     },
     "execution_count": 44,
     "metadata": {},
     "output_type": "execute_result"
    }
   ],
   "source": [
    "domainWidth=3\n",
    "opacity=.7"
   ]
  },
  {
   "cell_type": "code",
   "execution_count": 54,
   "metadata": {},
   "outputs": [
    {
     "data": {
      "application/vnd.vegalite.v3+json": {
       "config": {
        "axis": {
         "domainWidth": 3
        },
        "opacity": {
         "value": 0.7
        },
        "view": {
         "stroke": "transparent"
        }
       },
       "data": {
        "values": [
         {
          "cov_cat": 1,
          "cvt": "any",
          "perc_sbm_total": 13.618290258449303,
          "perc_total": 13.618290258449303,
          "period": "2019Q2",
          "rt": "any",
          "sbm": "otc",
          "value": 274,
          "variable": "cg1_issuers"
         },
         {
          "cov_cat": 1,
          "cvt": "any",
          "perc_sbm_total": 14.240170031880977,
          "perc_total": 13.320079522862823,
          "period": "2019Q2",
          "rt": "any",
          "sbm": "ats",
          "value": 268,
          "variable": "cg1_issuers"
         },
         {
          "cov_cat": 2,
          "cvt": "any",
          "perc_sbm_total": 77.5844930417495,
          "perc_total": 77.5844930417495,
          "period": "2019Q2",
          "rt": "any",
          "sbm": "otc",
          "value": 1561,
          "variable": "cg2_issuers"
         },
         {
          "cov_cat": 2,
          "cvt": "any",
          "perc_sbm_total": 80.97768331562168,
          "perc_total": 75.7455268389662,
          "period": "2019Q2",
          "rt": "any",
          "sbm": "ats",
          "value": 1524,
          "variable": "cg2_issuers"
         },
         {
          "cov_cat": 3,
          "cvt": "any",
          "perc_sbm_total": 1.0934393638170974,
          "perc_total": 1.0934393638170974,
          "period": "2019Q2",
          "rt": "any",
          "sbm": "otc",
          "value": 22,
          "variable": "cg3_issuers"
         },
         {
          "cov_cat": 3,
          "cvt": "any",
          "perc_sbm_total": 1.1689691817215728,
          "perc_total": 1.0934393638170974,
          "period": "2019Q2",
          "rt": "any",
          "sbm": "ats",
          "value": 22,
          "variable": "cg3_issuers"
         },
         {
          "cov_cat": 4,
          "cvt": "any",
          "perc_sbm_total": 1.9880715705765408,
          "perc_total": 1.9880715705765408,
          "period": "2019Q2",
          "rt": "any",
          "sbm": "otc",
          "value": 40,
          "variable": "cg4_issuers"
         },
         {
          "cov_cat": 4,
          "cvt": "any",
          "perc_sbm_total": 2.0722635494155153,
          "perc_total": 1.9383697813121274,
          "period": "2019Q2",
          "rt": "any",
          "sbm": "ats",
          "value": 39,
          "variable": "cg4_issuers"
         },
         {
          "cov_cat": 5,
          "cvt": "any",
          "perc_sbm_total": 0.34791252485089463,
          "perc_total": 0.34791252485089463,
          "period": "2019Q2",
          "rt": "any",
          "sbm": "otc",
          "value": 7,
          "variable": "cg5_issuers"
         },
         {
          "cov_cat": 5,
          "cvt": "any",
          "perc_sbm_total": 0.3188097768331562,
          "perc_total": 0.2982107355864811,
          "period": "2019Q2",
          "rt": "any",
          "sbm": "ats",
          "value": 6,
          "variable": "cg5_issuers"
         },
         {
          "cov_cat": 6,
          "cvt": "any",
          "perc_sbm_total": 64.86083499005964,
          "perc_total": 64.86083499005964,
          "period": "2019Q2",
          "rt": "any",
          "sbm": "otc",
          "value": 1305,
          "variable": "cg6_issuers"
         },
         {
          "cov_cat": 6,
          "cvt": "any",
          "perc_sbm_total": 67.7470775770457,
          "perc_total": 63.36978131212724,
          "period": "2019Q2",
          "rt": "any",
          "sbm": "ats",
          "value": 1275,
          "variable": "cg6_issuers"
         },
         {
          "cov_cat": 7,
          "cvt": "any",
          "perc_sbm_total": 96.27236580516899,
          "perc_total": 96.27236580516899,
          "period": "2019Q2",
          "rt": "any",
          "sbm": "otc",
          "value": 1937,
          "variable": "cg7_issuers"
         },
         {
          "cov_cat": 7,
          "cvt": "any",
          "perc_sbm_total": 96.86503719447397,
          "perc_total": 90.60636182902584,
          "period": "2019Q2",
          "rt": "any",
          "sbm": "ats",
          "value": 1823,
          "variable": "cg7_issuers"
         },
         {
          "cov_cat": 8,
          "cvt": "any",
          "perc_sbm_total": 38.618290258449306,
          "perc_total": 38.618290258449306,
          "period": "2019Q2",
          "rt": "any",
          "sbm": "otc",
          "value": 777,
          "variable": "cg8_issuers"
         },
         {
          "cov_cat": 8,
          "cvt": "any",
          "perc_sbm_total": 40.75451647183847,
          "perc_total": 38.12127236580517,
          "period": "2019Q2",
          "rt": "any",
          "sbm": "ats",
          "value": 767,
          "variable": "cg8_issuers"
         },
         {
          "cov_cat": 9,
          "cvt": "any",
          "perc_sbm_total": 10.288270377733598,
          "perc_total": 10.288270377733598,
          "period": "2019Q2",
          "rt": "any",
          "sbm": "otc",
          "value": 207,
          "variable": "cg9_issuers"
         },
         {
          "cov_cat": 9,
          "cvt": "any",
          "perc_sbm_total": 10.892667375132838,
          "perc_total": 10.18886679920477,
          "period": "2019Q2",
          "rt": "any",
          "sbm": "ats",
          "value": 205,
          "variable": "cg9_issuers"
         },
         {
          "cov_cat": 10,
          "cvt": "any",
          "perc_sbm_total": 2.584493041749503,
          "perc_total": 2.584493041749503,
          "period": "2019Q2",
          "rt": "any",
          "sbm": "otc",
          "value": 52,
          "variable": "cg10_issuers"
         },
         {
          "cov_cat": 10,
          "cvt": "any",
          "perc_sbm_total": 2.709883103081828,
          "perc_total": 2.5347912524850895,
          "period": "2019Q2",
          "rt": "any",
          "sbm": "ats",
          "value": 51,
          "variable": "cg10_issuers"
         },
         {
          "cov_cat": 11,
          "cvt": "any",
          "perc_sbm_total": 85.48707753479125,
          "perc_total": 85.48707753479125,
          "period": "2019Q2",
          "rt": "any",
          "sbm": "otc",
          "value": 1720,
          "variable": "cg11_issuers"
         },
         {
          "cov_cat": 11,
          "cvt": "any",
          "perc_sbm_total": 86.3443145589798,
          "perc_total": 80.76540755467197,
          "period": "2019Q2",
          "rt": "any",
          "sbm": "ats",
          "value": 1625,
          "variable": "cg11_issuers"
         },
         {
          "cov_cat": 12,
          "cvt": "any",
          "perc_sbm_total": 51.93836978131213,
          "perc_total": 51.93836978131213,
          "period": "2019Q2",
          "rt": "any",
          "sbm": "otc",
          "value": 1045,
          "variable": "cg12_issuers"
         },
         {
          "cov_cat": 12,
          "cvt": "any",
          "perc_sbm_total": 52.33793836344315,
          "perc_total": 48.95626242544731,
          "period": "2019Q2",
          "rt": "any",
          "sbm": "ats",
          "value": 985,
          "variable": "cg12_issuers"
         },
         {
          "cov_cat": 13,
          "cvt": "any",
          "perc_sbm_total": 86.28230616302187,
          "perc_total": 86.28230616302187,
          "period": "2019Q2",
          "rt": "any",
          "sbm": "otc",
          "value": 1736,
          "variable": "cg13_issuers"
         },
         {
          "cov_cat": 13,
          "cvt": "any",
          "perc_sbm_total": 87.61955366631243,
          "perc_total": 81.95825049701789,
          "period": "2019Q2",
          "rt": "any",
          "sbm": "ats",
          "value": 1649,
          "variable": "cg13_issuers"
         },
         {
          "cov_cat": 14,
          "cvt": "any",
          "perc_sbm_total": 15.656063618290258,
          "perc_total": 15.656063618290258,
          "period": "2019Q2",
          "rt": "any",
          "sbm": "otc",
          "value": 315,
          "variable": "cg14_issuers"
         },
         {
          "cov_cat": 14,
          "cvt": "any",
          "perc_sbm_total": 16.312433581296492,
          "perc_total": 15.25844930417495,
          "period": "2019Q2",
          "rt": "any",
          "sbm": "ats",
          "value": 307,
          "variable": "cg14_issuers"
         },
         {
          "cov_cat": 15,
          "cvt": "any",
          "perc_sbm_total": 85.6361829025845,
          "perc_total": 85.6361829025845,
          "period": "2019Q2",
          "rt": "any",
          "sbm": "otc",
          "value": 1723,
          "variable": "cg15_issuers"
         },
         {
          "cov_cat": 15,
          "cvt": "any",
          "perc_sbm_total": 86.9287991498406,
          "perc_total": 81.31212723658051,
          "period": "2019Q2",
          "rt": "any",
          "sbm": "ats",
          "value": 1636,
          "variable": "cg15_issuers"
         }
        ]
       },
       "encoding": {
        "color": {
         "field": "sbm",
         "legend": {
          "title": "Secondary Market"
         },
         "scale": {
          "scheme": "viridis"
         },
         "type": "nominal"
        },
        "column": {
         "field": "cov_cat",
         "sort": "ascending",
         "title": "Covenant Category",
         "type": "ordinal"
        },
        "row": {
         "field": "sum_num_cov",
         "header": {
          "title": "Number of Covenant Categories per Bond"
         },
         "type": "ordinal"
        },
        "x": {
         "axis": {
          "title": " "
         },
         "field": "sbm",
         "type": "nominal"
        },
        "y": {
         "axis": {
          "grid": false,
          "stack": null,
          "title": "Number of Issuers"
         },
         "field": "value",
         "type": "quantitative"
        }
       },
       "height": 400,
       "mark": "bar",
       "width": {
        "step": 18
       }
      },
      "image/png": "[encoded data removed]",
      "image/svg+xml": [
       "<svg class=\"marks\" width=\"554\" height=\"501\" viewBox=\"0 0 554 501\" version=\"1.1\" xmlns=\"http://www.w3.org/2000/svg\" xmlns:xlink=\"http://www.w3.org/1999/xlink\"><g transform=\"translate(107,57)\"><g class=\"mark-group role-frame root\"><g transform=\"translate(0,0)\"><path class=\"background\" d=\"M0,0h0v0h0Z\" style=\"fill: none;\"></path><g><g class=\"mark-group role-row-title row-title\"><g transform=\"translate(-80,200)\"><path class=\"background\" d=\"M0,0h0v0h0Z\" style=\"fill: none;\"></path><g><g class=\"mark-group role-title\"><g transform=\"translate(-21.000000000000014,0)\"><path class=\"background\" d=\"M0,0h0v0h0Z\" style=\"pointer-events: none; fill: none;\"></path><g><g class=\"mark-text role-title-text\" style=\"pointer-events: none;\"><text text-anchor=\"middle\" transform=\"translate(0,0) rotate(-90) translate(0,9)\" style=\"font-family: sans-serif; font-size: 11px; font-weight: bold; fill: #000; opacity: 1;\">Number of Covenant Categories per Bond</text></g></g></g></g></g></g></g><g class=\"mark-group role-column-title column-title\"><g transform=\"translate(154,-31)\"><path class=\"background\" d=\"M0,0h0v0h0Z\" style=\"fill: none;\"></path><g><g class=\"mark-group role-title\"><g transform=\"translate(0,-21)\"><path class=\"background\" d=\"M0,0h0v0h0Z\" style=\"pointer-events: none; fill: none;\"></path><g><g class=\"mark-text role-title-text\" style=\"pointer-events: none;\"><text text-anchor=\"middle\" transform=\"translate(0,9)\" style=\"font-family: sans-serif; font-size: 11px; font-weight: bold; fill: #000; opacity: 1;\">Covenant Category</text></g></g></g></g></g></g></g><g class=\"mark-group role-row-header row_header\"><g transform=\"translate(-1,0)\"><path class=\"background\" d=\"M0,0h0v400h0Z\" style=\"fill: none;\"></path><g><g class=\"mark-group role-title\"><g transform=\"translate(-69,200)\"><path class=\"background\" d=\"M0,0h0v0h0Z\" style=\"pointer-events: none; fill: none;\"></path><g><g class=\"mark-text role-title-text\" style=\"pointer-events: none;\"><text text-anchor=\"middle\" transform=\"translate(0,0) rotate(-90) translate(0,8)\" style=\"font-family: sans-serif; font-size: 10px; fill: #000; opacity: 1;\">undefined</text></g></g></g></g><g class=\"mark-group role-axis\"><g transform=\"translate(0.5,0.5)\"><path class=\"background\" d=\"M0,0h0v0h0Z\" style=\"pointer-events: none; fill: none;\"></path><g><g class=\"mark-rule role-axis-tick\" style=\"pointer-events: none;\"><line transform=\"translate(0,400)\" x2=\"-5\" y2=\"0\" style=\"fill: none; stroke: #888; stroke-width: 1; opacity: 1;\"></line><line transform=\"translate(0,360)\" x2=\"-5\" y2=\"0\" style=\"fill: none; stroke: #888; stroke-width: 1; opacity: 1;\"></line><line transform=\"translate(0,320)\" x2=\"-5\" y2=\"0\" style=\"fill: none; stroke: #888; stroke-width: 1; opacity: 1;\"></line><line transform=\"translate(0,280)\" x2=\"-5\" y2=\"0\" style=\"fill: none; stroke: #888; stroke-width: 1; opacity: 1;\"></line><line transform=\"translate(0,240)\" x2=\"-5\" y2=\"0\" style=\"fill: none; stroke: #888; stroke-width: 1; opacity: 1;\"></line><line transform=\"translate(0,200)\" x2=\"-5\" y2=\"0\" style=\"fill: none; stroke: #888; stroke-width: 1; opacity: 1;\"></line><line transform=\"translate(0,160)\" x2=\"-5\" y2=\"0\" style=\"fill: none; stroke: #888; stroke-width: 1; opacity: 1;\"></line><line transform=\"translate(0,120)\" x2=\"-5\" y2=\"0\" style=\"fill: none; stroke: #888; stroke-width: 1; opacity: 1;\"></line><line transform=\"translate(0,80)\" x2=\"-5\" y2=\"0\" style=\"fill: none; stroke: #888; stroke-width: 1; opacity: 1;\"></line><line transform=\"translate(0,40)\" x2=\"-5\" y2=\"0\" style=\"fill: none; stroke: #888; stroke-width: 1; opacity: 1;\"></line><line transform=\"translate(0,0)\" x2=\"-5\" y2=\"0\" style=\"fill: none; stroke: #888; stroke-width: 1; opacity: 1;\"></line></g><g class=\"mark-text role-axis-label\" style=\"pointer-events: none;\"><text text-anchor=\"end\" transform=\"translate(-7,403)\" style=\"font-family: sans-serif; font-size: 10px; fill: #000; opacity: 1;\">0</text><text text-anchor=\"end\" transform=\"translate(-7,363)\" style=\"font-family: sans-serif; font-size: 10px; fill: #000; opacity: 1;\">200</text><text text-anchor=\"end\" transform=\"translate(-7,323)\" style=\"font-family: sans-serif; font-size: 10px; fill: #000; opacity: 1;\">400</text><text text-anchor=\"end\" transform=\"translate(-7,283)\" style=\"font-family: sans-serif; font-size: 10px; fill: #000; opacity: 1;\">600</text><text text-anchor=\"end\" transform=\"translate(-7,243)\" style=\"font-family: sans-serif; font-size: 10px; fill: #000; opacity: 1;\">800</text><text text-anchor=\"end\" transform=\"translate(-7,203)\" style=\"font-family: sans-serif; font-size: 10px; fill: #000; opacity: 1;\">1,000</text><text text-anchor=\"end\" transform=\"translate(-7,163)\" style=\"font-family: sans-serif; font-size: 10px; fill: #000; opacity: 1;\">1,200</text><text text-anchor=\"end\" transform=\"translate(-7,123.00000000000001)\" style=\"font-family: sans-serif; font-size: 10px; fill: #000; opacity: 1;\">1,400</text><text text-anchor=\"end\" transform=\"translate(-7,82.99999999999999)\" style=\"font-family: sans-serif; font-size: 10px; fill: #000; opacity: 1;\">1,600</text><text text-anchor=\"end\" transform=\"translate(-7,42.99999999999999)\" style=\"font-family: sans-serif; font-size: 10px; fill: #000; opacity: 1;\">1,800</text><text text-anchor=\"end\" transform=\"translate(-7,3)\" style=\"font-family: sans-serif; font-size: 10px; fill: #000; opacity: 1;\">2,000</text></g><g class=\"mark-rule role-axis-domain\" style=\"pointer-events: none;\"><line transform=\"translate(0,400)\" x2=\"0\" y2=\"-400\" style=\"fill: none; stroke: #888; stroke-width: 3; opacity: 1;\"></line></g><g class=\"mark-text role-axis-title\" style=\"pointer-events: none;\"><text text-anchor=\"middle\" transform=\"translate(-38,200) rotate(-90) translate(0,-2)\" style=\"font-family: sans-serif; font-size: 11px; font-weight: bold; fill: #000; opacity: 1;\">Number of Issuers</text></g></g></g></g></g></g></g><g class=\"mark-group role-column-header column_header\"><g transform=\"translate(0,-1)\"><path class=\"background\" d=\"MNaN,0LNaN,0CNaN,0,NaN,NaN,NaN,NaNLNaN,NaNCNaN,NaN,NaN,0,NaN,0LNaN,0CNaN,0,0,NaN,0,NaNL0,NaNC0,NaN,NaN,0,NaN,0Z\" style=\"fill: none;\"></path><g><g class=\"mark-group role-title\"><g transform=\"translate(0,-20)\"><path class=\"background\" d=\"M0,0h0v0h0Z\" style=\"pointer-events: none; fill: none;\"></path><g><g class=\"mark-text role-title-text\" style=\"pointer-events: none;\"><text text-anchor=\"middle\" transform=\"translate(0,8)\" style=\"font-family: sans-serif; font-size: 10px; fill: #000; opacity: 1;\">1</text></g></g></g></g></g></g><g transform=\"translate(22,-1)\"><path class=\"background\" d=\"MNaN,0LNaN,0CNaN,0,NaN,NaN,NaN,NaNLNaN,NaNCNaN,NaN,NaN,0,NaN,0LNaN,0CNaN,0,0,NaN,0,NaNL0,NaNC0,NaN,NaN,0,NaN,0Z\" style=\"fill: none;\"></path><g><g class=\"mark-group role-title\"><g transform=\"translate(0,-20)\"><path class=\"background\" d=\"M0,0h0v0h0Z\" style=\"pointer-events: none; fill: none;\"></path><g><g class=\"mark-text role-title-text\" style=\"pointer-events: none;\"><text text-anchor=\"middle\" transform=\"translate(0,8)\" style=\"font-family: sans-serif; font-size: 10px; fill: #000; opacity: 1;\">2</text></g></g></g></g></g></g><g transform=\"translate(44,-1)\"><path class=\"background\" d=\"MNaN,0LNaN,0CNaN,0,NaN,NaN,NaN,NaNLNaN,NaNCNaN,NaN,NaN,0,NaN,0LNaN,0CNaN,0,0,NaN,0,NaNL0,NaNC0,NaN,NaN,0,NaN,0Z\" style=\"fill: none;\"></path><g><g class=\"mark-group role-title\"><g transform=\"translate(0,-20)\"><path class=\"background\" d=\"M0,0h0v0h0Z\" style=\"pointer-events: none; fill: none;\"></path><g><g class=\"mark-text role-title-text\" style=\"pointer-events: none;\"><text text-anchor=\"middle\" transform=\"translate(0,8)\" style=\"font-family: sans-serif; font-size: 10px; fill: #000; opacity: 1;\">3</text></g></g></g></g></g></g><g transform=\"translate(66,-1)\"><path class=\"background\" d=\"MNaN,0LNaN,0CNaN,0,NaN,NaN,NaN,NaNLNaN,NaNCNaN,NaN,NaN,0,NaN,0LNaN,0CNaN,0,0,NaN,0,NaNL0,NaNC0,NaN,NaN,0,NaN,0Z\" style=\"fill: none;\"></path><g><g class=\"mark-group role-title\"><g transform=\"translate(0,-20)\"><path class=\"background\" d=\"M0,0h0v0h0Z\" style=\"pointer-events: none; fill: none;\"></path><g><g class=\"mark-text role-title-text\" style=\"pointer-events: none;\"><text text-anchor=\"middle\" transform=\"translate(0,8)\" style=\"font-family: sans-serif; font-size: 10px; fill: #000; opacity: 1;\">4</text></g></g></g></g></g></g><g transform=\"translate(88,-1)\"><path class=\"background\" d=\"MNaN,0LNaN,0CNaN,0,NaN,NaN,NaN,NaNLNaN,NaNCNaN,NaN,NaN,0,NaN,0LNaN,0CNaN,0,0,NaN,0,NaNL0,NaNC0,NaN,NaN,0,NaN,0Z\" style=\"fill: none;\"></path><g><g class=\"mark-group role-title\"><g transform=\"translate(0,-20)\"><path class=\"background\" d=\"M0,0h0v0h0Z\" style=\"pointer-events: none; fill: none;\"></path><g><g class=\"mark-text role-title-text\" style=\"pointer-events: none;\"><text text-anchor=\"middle\" transform=\"translate(0,8)\" style=\"font-family: sans-serif; font-size: 10px; fill: #000; opacity: 1;\">5</text></g></g></g></g></g></g><g transform=\"translate(110,-1)\"><path class=\"background\" d=\"MNaN,0LNaN,0CNaN,0,NaN,NaN,NaN,NaNLNaN,NaNCNaN,NaN,NaN,0,NaN,0LNaN,0CNaN,0,0,NaN,0,NaNL0,NaNC0,NaN,NaN,0,NaN,0Z\" style=\"fill: none;\"></path><g><g class=\"mark-group role-title\"><g transform=\"translate(0,-20)\"><path class=\"background\" d=\"M0,0h0v0h0Z\" style=\"pointer-events: none; fill: none;\"></path><g><g class=\"mark-text role-title-text\" style=\"pointer-events: none;\"><text text-anchor=\"middle\" transform=\"translate(0,8)\" style=\"font-family: sans-serif; font-size: 10px; fill: #000; opacity: 1;\">6</text></g></g></g></g></g></g><g transform=\"translate(132,-1)\"><path class=\"background\" d=\"MNaN,0LNaN,0CNaN,0,NaN,NaN,NaN,NaNLNaN,NaNCNaN,NaN,NaN,0,NaN,0LNaN,0CNaN,0,0,NaN,0,NaNL0,NaNC0,NaN,NaN,0,NaN,0Z\" style=\"fill: none;\"></path><g><g class=\"mark-group role-title\"><g transform=\"translate(0,-20)\"><path class=\"background\" d=\"M0,0h0v0h0Z\" style=\"pointer-events: none; fill: none;\"></path><g><g class=\"mark-text role-title-text\" style=\"pointer-events: none;\"><text text-anchor=\"middle\" transform=\"translate(0,8)\" style=\"font-family: sans-serif; font-size: 10px; fill: #000; opacity: 1;\">7</text></g></g></g></g></g></g><g transform=\"translate(154,-1)\"><path class=\"background\" d=\"MNaN,0LNaN,0CNaN,0,NaN,NaN,NaN,NaNLNaN,NaNCNaN,NaN,NaN,0,NaN,0LNaN,0CNaN,0,0,NaN,0,NaNL0,NaNC0,NaN,NaN,0,NaN,0Z\" style=\"fill: none;\"></path><g><g class=\"mark-group role-title\"><g transform=\"translate(0,-20)\"><path class=\"background\" d=\"M0,0h0v0h0Z\" style=\"pointer-events: none; fill: none;\"></path><g><g class=\"mark-text role-title-text\" style=\"pointer-events: none;\"><text text-anchor=\"middle\" transform=\"translate(0,8)\" style=\"font-family: sans-serif; font-size: 10px; fill: #000; opacity: 1;\">8</text></g></g></g></g></g></g><g transform=\"translate(176,-1)\"><path class=\"background\" d=\"MNaN,0LNaN,0CNaN,0,NaN,NaN,NaN,NaNLNaN,NaNCNaN,NaN,NaN,0,NaN,0LNaN,0CNaN,0,0,NaN,0,NaNL0,NaNC0,NaN,NaN,0,NaN,0Z\" style=\"fill: none;\"></path><g><g class=\"mark-group role-title\"><g transform=\"translate(0,-20)\"><path class=\"background\" d=\"M0,0h0v0h0Z\" style=\"pointer-events: none; fill: none;\"></path><g><g class=\"mark-text role-title-text\" style=\"pointer-events: none;\"><text text-anchor=\"middle\" transform=\"translate(0,8)\" style=\"font-family: sans-serif; font-size: 10px; fill: #000; opacity: 1;\">9</text></g></g></g></g></g></g><g transform=\"translate(198,-1)\"><path class=\"background\" d=\"MNaN,0LNaN,0CNaN,0,NaN,NaN,NaN,NaNLNaN,NaNCNaN,NaN,NaN,0,NaN,0LNaN,0CNaN,0,0,NaN,0,NaNL0,NaNC0,NaN,NaN,0,NaN,0Z\" style=\"fill: none;\"></path><g><g class=\"mark-group role-title\"><g transform=\"translate(0,-20)\"><path class=\"background\" d=\"M0,0h0v0h0Z\" style=\"pointer-events: none; fill: none;\"></path><g><g class=\"mark-text role-title-text\" style=\"pointer-events: none;\"><text text-anchor=\"middle\" transform=\"translate(0,8)\" style=\"font-family: sans-serif; font-size: 10px; fill: #000; opacity: 1;\">10</text></g></g></g></g></g></g><g transform=\"translate(220,-1)\"><path class=\"background\" d=\"MNaN,0LNaN,0CNaN,0,NaN,NaN,NaN,NaNLNaN,NaNCNaN,NaN,NaN,0,NaN,0LNaN,0CNaN,0,0,NaN,0,NaNL0,NaNC0,NaN,NaN,0,NaN,0Z\" style=\"fill: none;\"></path><g><g class=\"mark-group role-title\"><g transform=\"translate(0,-20)\"><path class=\"background\" d=\"M0,0h0v0h0Z\" style=\"pointer-events: none; fill: none;\"></path><g><g class=\"mark-text role-title-text\" style=\"pointer-events: none;\"><text text-anchor=\"middle\" transform=\"translate(0,8)\" style=\"font-family: sans-serif; font-size: 10px; fill: #000; opacity: 1;\">11</text></g></g></g></g></g></g><g transform=\"translate(242,-1)\"><path class=\"background\" d=\"MNaN,0LNaN,0CNaN,0,NaN,NaN,NaN,NaNLNaN,NaNCNaN,NaN,NaN,0,NaN,0LNaN,0CNaN,0,0,NaN,0,NaNL0,NaNC0,NaN,NaN,0,NaN,0Z\" style=\"fill: none;\"></path><g><g class=\"mark-group role-title\"><g transform=\"translate(0,-20)\"><path class=\"background\" d=\"M0,0h0v0h0Z\" style=\"pointer-events: none; fill: none;\"></path><g><g class=\"mark-text role-title-text\" style=\"pointer-events: none;\"><text text-anchor=\"middle\" transform=\"translate(0,8)\" style=\"font-family: sans-serif; font-size: 10px; fill: #000; opacity: 1;\">12</text></g></g></g></g></g></g><g transform=\"translate(264,-1)\"><path class=\"background\" d=\"MNaN,0LNaN,0CNaN,0,NaN,NaN,NaN,NaNLNaN,NaNCNaN,NaN,NaN,0,NaN,0LNaN,0CNaN,0,0,NaN,0,NaNL0,NaNC0,NaN,NaN,0,NaN,0Z\" style=\"fill: none;\"></path><g><g class=\"mark-group role-title\"><g transform=\"translate(0,-20)\"><path class=\"background\" d=\"M0,0h0v0h0Z\" style=\"pointer-events: none; fill: none;\"></path><g><g class=\"mark-text role-title-text\" style=\"pointer-events: none;\"><text text-anchor=\"middle\" transform=\"translate(0,8)\" style=\"font-family: sans-serif; font-size: 10px; fill: #000; opacity: 1;\">13</text></g></g></g></g></g></g><g transform=\"translate(286,-1)\"><path class=\"background\" d=\"MNaN,0LNaN,0CNaN,0,NaN,NaN,NaN,NaNLNaN,NaNCNaN,NaN,NaN,0,NaN,0LNaN,0CNaN,0,0,NaN,0,NaNL0,NaNC0,NaN,NaN,0,NaN,0Z\" style=\"fill: none;\"></path><g><g class=\"mark-group role-title\"><g transform=\"translate(0,-20)\"><path class=\"background\" d=\"M0,0h0v0h0Z\" style=\"pointer-events: none; fill: none;\"></path><g><g class=\"mark-text role-title-text\" style=\"pointer-events: none;\"><text text-anchor=\"middle\" transform=\"translate(0,8)\" style=\"font-family: sans-serif; font-size: 10px; fill: #000; opacity: 1;\">14</text></g></g></g></g></g></g><g transform=\"translate(308,-1)\"><path class=\"background\" d=\"MNaN,0LNaN,0CNaN,0,NaN,NaN,NaN,NaNLNaN,NaNCNaN,NaN,NaN,0,NaN,0LNaN,0CNaN,0,0,NaN,0,NaNL0,NaNC0,NaN,NaN,0,NaN,0Z\" style=\"fill: none;\"></path><g><g class=\"mark-group role-title\"><g transform=\"translate(0,-20)\"><path class=\"background\" d=\"M0,0h0v0h0Z\" style=\"pointer-events: none; fill: none;\"></path><g><g class=\"mark-text role-title-text\" style=\"pointer-events: none;\"><text text-anchor=\"middle\" transform=\"translate(0,8)\" style=\"font-family: sans-serif; font-size: 10px; fill: #000; opacity: 1;\">15</text></g></g></g></g></g></g></g><g class=\"mark-group role-column-footer column_footer\"><g transform=\"translate(0,401)\"><path class=\"background\" d=\"MNaN,0LNaN,0CNaN,0,NaN,NaN,NaN,NaNLNaN,NaNCNaN,NaN,NaN,0,NaN,0LNaN,0CNaN,0,0,NaN,0,NaNL0,NaNC0,NaN,NaN,0,NaN,0Z\" style=\"fill: none;\"></path><g><g class=\"mark-group role-axis\"><g transform=\"translate(0.5,0.5)\"><path class=\"background\" d=\"M0,0h0v0h0Z\" style=\"pointer-events: none; fill: none;\"></path><g><g class=\"mark-rule role-axis-tick\" style=\"pointer-events: none;\"><line transform=\"translate(0,0)\" x2=\"0\" y2=\"5\" style=\"fill: none; stroke: #888; stroke-width: 1; opacity: 1;\"></line><line transform=\"translate(0,0)\" x2=\"0\" y2=\"5\" style=\"fill: none; stroke: #888; stroke-width: 1; opacity: 1;\"></line></g><g class=\"mark-text role-axis-label\" style=\"pointer-events: none;\"><text text-anchor=\"end\" transform=\"translate(0,7) rotate(270) translate(0,3)\" style=\"font-family: sans-serif; font-size: 10px; fill: #000; opacity: 1;\">ats</text><text text-anchor=\"end\" transform=\"translate(0,7) rotate(270) translate(0,3)\" style=\"font-family: sans-serif; font-size: 10px; fill: #000; opacity: 1;\">otc</text></g><g class=\"mark-rule role-axis-domain\" style=\"pointer-events: none;\"><line transform=\"translate(0,0)\" x2=\"NaN\" y2=\"0\" style=\"fill: none; stroke: #888; stroke-width: 3; opacity: 1;\"></line></g><g class=\"mark-text role-axis-title\" style=\"pointer-events: none;\"><text text-anchor=\"middle\" transform=\"translate(0,36)\" style=\"font-family: sans-serif; font-size: 11px; font-weight: bold; fill: #000; opacity: 1;\"> </text></g></g></g></g></g></g><g transform=\"translate(22,401)\"><path class=\"background\" d=\"MNaN,0LNaN,0CNaN,0,NaN,NaN,NaN,NaNLNaN,NaNCNaN,NaN,NaN,0,NaN,0LNaN,0CNaN,0,0,NaN,0,NaNL0,NaNC0,NaN,NaN,0,NaN,0Z\" style=\"fill: none;\"></path><g><g class=\"mark-group role-axis\"><g transform=\"translate(0.5,0.5)\"><path class=\"background\" d=\"M0,0h0v0h0Z\" style=\"pointer-events: none; fill: none;\"></path><g><g class=\"mark-rule role-axis-tick\" style=\"pointer-events: none;\"><line transform=\"translate(0,0)\" x2=\"0\" y2=\"5\" style=\"fill: none; stroke: #888; stroke-width: 1; opacity: 1;\"></line><line transform=\"translate(0,0)\" x2=\"0\" y2=\"5\" style=\"fill: none; stroke: #888; stroke-width: 1; opacity: 1;\"></line></g><g class=\"mark-text role-axis-label\" style=\"pointer-events: none;\"><text text-anchor=\"end\" transform=\"translate(0,7) rotate(270) translate(0,3)\" style=\"font-family: sans-serif; font-size: 10px; fill: #000; opacity: 1;\">ats</text><text text-anchor=\"end\" transform=\"translate(0,7) rotate(270) translate(0,3)\" style=\"font-family: sans-serif; font-size: 10px; fill: #000; opacity: 1;\">otc</text></g><g class=\"mark-rule role-axis-domain\" style=\"pointer-events: none;\"><line transform=\"translate(0,0)\" x2=\"NaN\" y2=\"0\" style=\"fill: none; stroke: #888; stroke-width: 3; opacity: 1;\"></line></g><g class=\"mark-text role-axis-title\" style=\"pointer-events: none;\"><text text-anchor=\"middle\" transform=\"translate(0,36)\" style=\"font-family: sans-serif; font-size: 11px; font-weight: bold; fill: #000; opacity: 1;\"> </text></g></g></g></g></g></g><g transform=\"translate(44,401)\"><path class=\"background\" d=\"MNaN,0LNaN,0CNaN,0,NaN,NaN,NaN,NaNLNaN,NaNCNaN,NaN,NaN,0,NaN,0LNaN,0CNaN,0,0,NaN,0,NaNL0,NaNC0,NaN,NaN,0,NaN,0Z\" style=\"fill: none;\"></path><g><g class=\"mark-group role-axis\"><g transform=\"translate(0.5,0.5)\"><path class=\"background\" d=\"M0,0h0v0h0Z\" style=\"pointer-events: none; fill: none;\"></path><g><g class=\"mark-rule role-axis-tick\" style=\"pointer-events: none;\"><line transform=\"translate(0,0)\" x2=\"0\" y2=\"5\" style=\"fill: none; stroke: #888; stroke-width: 1; opacity: 1;\"></line><line transform=\"translate(0,0)\" x2=\"0\" y2=\"5\" style=\"fill: none; stroke: #888; stroke-width: 1; opacity: 1;\"></line></g><g class=\"mark-text role-axis-label\" style=\"pointer-events: none;\"><text text-anchor=\"end\" transform=\"translate(0,7) rotate(270) translate(0,3)\" style=\"font-family: sans-serif; font-size: 10px; fill: #000; opacity: 1;\">ats</text><text text-anchor=\"end\" transform=\"translate(0,7) rotate(270) translate(0,3)\" style=\"font-family: sans-serif; font-size: 10px; fill: #000; opacity: 1;\">otc</text></g><g class=\"mark-rule role-axis-domain\" style=\"pointer-events: none;\"><line transform=\"translate(0,0)\" x2=\"NaN\" y2=\"0\" style=\"fill: none; stroke: #888; stroke-width: 3; opacity: 1;\"></line></g><g class=\"mark-text role-axis-title\" style=\"pointer-events: none;\"><text text-anchor=\"middle\" transform=\"translate(0,36)\" style=\"font-family: sans-serif; font-size: 11px; font-weight: bold; fill: #000; opacity: 1;\"> </text></g></g></g></g></g></g><g transform=\"translate(66,401)\"><path class=\"background\" d=\"MNaN,0LNaN,0CNaN,0,NaN,NaN,NaN,NaNLNaN,NaNCNaN,NaN,NaN,0,NaN,0LNaN,0CNaN,0,0,NaN,0,NaNL0,NaNC0,NaN,NaN,0,NaN,0Z\" style=\"fill: none;\"></path><g><g class=\"mark-group role-axis\"><g transform=\"translate(0.5,0.5)\"><path class=\"background\" d=\"M0,0h0v0h0Z\" style=\"pointer-events: none; fill: none;\"></path><g><g class=\"mark-rule role-axis-tick\" style=\"pointer-events: none;\"><line transform=\"translate(0,0)\" x2=\"0\" y2=\"5\" style=\"fill: none; stroke: #888; stroke-width: 1; opacity: 1;\"></line><line transform=\"translate(0,0)\" x2=\"0\" y2=\"5\" style=\"fill: none; stroke: #888; stroke-width: 1; opacity: 1;\"></line></g><g class=\"mark-text role-axis-label\" style=\"pointer-events: none;\"><text text-anchor=\"end\" transform=\"translate(0,7) rotate(270) translate(0,3)\" style=\"font-family: sans-serif; font-size: 10px; fill: #000; opacity: 1;\">ats</text><text text-anchor=\"end\" transform=\"translate(0,7) rotate(270) translate(0,3)\" style=\"font-family: sans-serif; font-size: 10px; fill: #000; opacity: 1;\">otc</text></g><g class=\"mark-rule role-axis-domain\" style=\"pointer-events: none;\"><line transform=\"translate(0,0)\" x2=\"NaN\" y2=\"0\" style=\"fill: none; stroke: #888; stroke-width: 3; opacity: 1;\"></line></g><g class=\"mark-text role-axis-title\" style=\"pointer-events: none;\"><text text-anchor=\"middle\" transform=\"translate(0,36)\" style=\"font-family: sans-serif; font-size: 11px; font-weight: bold; fill: #000; opacity: 1;\"> </text></g></g></g></g></g></g><g transform=\"translate(88,401)\"><path class=\"background\" d=\"MNaN,0LNaN,0CNaN,0,NaN,NaN,NaN,NaNLNaN,NaNCNaN,NaN,NaN,0,NaN,0LNaN,0CNaN,0,0,NaN,0,NaNL0,NaNC0,NaN,NaN,0,NaN,0Z\" style=\"fill: none;\"></path><g><g class=\"mark-group role-axis\"><g transform=\"translate(0.5,0.5)\"><path class=\"background\" d=\"M0,0h0v0h0Z\" style=\"pointer-events: none; fill: none;\"></path><g><g class=\"mark-rule role-axis-tick\" style=\"pointer-events: none;\"><line transform=\"translate(0,0)\" x2=\"0\" y2=\"5\" style=\"fill: none; stroke: #888; stroke-width: 1; opacity: 1;\"></line><line transform=\"translate(0,0)\" x2=\"0\" y2=\"5\" style=\"fill: none; stroke: #888; stroke-width: 1; opacity: 1;\"></line></g><g class=\"mark-text role-axis-label\" style=\"pointer-events: none;\"><text text-anchor=\"end\" transform=\"translate(0,7) rotate(270) translate(0,3)\" style=\"font-family: sans-serif; font-size: 10px; fill: #000; opacity: 1;\">ats</text><text text-anchor=\"end\" transform=\"translate(0,7) rotate(270) translate(0,3)\" style=\"font-family: sans-serif; font-size: 10px; fill: #000; opacity: 1;\">otc</text></g><g class=\"mark-rule role-axis-domain\" style=\"pointer-events: none;\"><line transform=\"translate(0,0)\" x2=\"NaN\" y2=\"0\" style=\"fill: none; stroke: #888; stroke-width: 3; opacity: 1;\"></line></g><g class=\"mark-text role-axis-title\" style=\"pointer-events: none;\"><text text-anchor=\"middle\" transform=\"translate(0,36)\" style=\"font-family: sans-serif; font-size: 11px; font-weight: bold; fill: #000; opacity: 1;\"> </text></g></g></g></g></g></g><g transform=\"translate(110,401)\"><path class=\"background\" d=\"MNaN,0LNaN,0CNaN,0,NaN,NaN,NaN,NaNLNaN,NaNCNaN,NaN,NaN,0,NaN,0LNaN,0CNaN,0,0,NaN,0,NaNL0,NaNC0,NaN,NaN,0,NaN,0Z\" style=\"fill: none;\"></path><g><g class=\"mark-group role-axis\"><g transform=\"translate(0.5,0.5)\"><path class=\"background\" d=\"M0,0h0v0h0Z\" style=\"pointer-events: none; fill: none;\"></path><g><g class=\"mark-rule role-axis-tick\" style=\"pointer-events: none;\"><line transform=\"translate(0,0)\" x2=\"0\" y2=\"5\" style=\"fill: none; stroke: #888; stroke-width: 1; opacity: 1;\"></line><line transform=\"translate(0,0)\" x2=\"0\" y2=\"5\" style=\"fill: none; stroke: #888; stroke-width: 1; opacity: 1;\"></line></g><g class=\"mark-text role-axis-label\" style=\"pointer-events: none;\"><text text-anchor=\"end\" transform=\"translate(0,7) rotate(270) translate(0,3)\" style=\"font-family: sans-serif; font-size: 10px; fill: #000; opacity: 1;\">ats</text><text text-anchor=\"end\" transform=\"translate(0,7) rotate(270) translate(0,3)\" style=\"font-family: sans-serif; font-size: 10px; fill: #000; opacity: 1;\">otc</text></g><g class=\"mark-rule role-axis-domain\" style=\"pointer-events: none;\"><line transform=\"translate(0,0)\" x2=\"NaN\" y2=\"0\" style=\"fill: none; stroke: #888; stroke-width: 3; opacity: 1;\"></line></g><g class=\"mark-text role-axis-title\" style=\"pointer-events: none;\"><text text-anchor=\"middle\" transform=\"translate(0,36)\" style=\"font-family: sans-serif; font-size: 11px; font-weight: bold; fill: #000; opacity: 1;\"> </text></g></g></g></g></g></g><g transform=\"translate(132,401)\"><path class=\"background\" d=\"MNaN,0LNaN,0CNaN,0,NaN,NaN,NaN,NaNLNaN,NaNCNaN,NaN,NaN,0,NaN,0LNaN,0CNaN,0,0,NaN,0,NaNL0,NaNC0,NaN,NaN,0,NaN,0Z\" style=\"fill: none;\"></path><g><g class=\"mark-group role-axis\"><g transform=\"translate(0.5,0.5)\"><path class=\"background\" d=\"M0,0h0v0h0Z\" style=\"pointer-events: none; fill: none;\"></path><g><g class=\"mark-rule role-axis-tick\" style=\"pointer-events: none;\"><line transform=\"translate(0,0)\" x2=\"0\" y2=\"5\" style=\"fill: none; stroke: #888; stroke-width: 1; opacity: 1;\"></line><line transform=\"translate(0,0)\" x2=\"0\" y2=\"5\" style=\"fill: none; stroke: #888; stroke-width: 1; opacity: 1;\"></line></g><g class=\"mark-text role-axis-label\" style=\"pointer-events: none;\"><text text-anchor=\"end\" transform=\"translate(0,7) rotate(270) translate(0,3)\" style=\"font-family: sans-serif; font-size: 10px; fill: #000; opacity: 1;\">ats</text><text text-anchor=\"end\" transform=\"translate(0,7) rotate(270) translate(0,3)\" style=\"font-family: sans-serif; font-size: 10px; fill: #000; opacity: 1;\">otc</text></g><g class=\"mark-rule role-axis-domain\" style=\"pointer-events: none;\"><line transform=\"translate(0,0)\" x2=\"NaN\" y2=\"0\" style=\"fill: none; stroke: #888; stroke-width: 3; opacity: 1;\"></line></g><g class=\"mark-text role-axis-title\" style=\"pointer-events: none;\"><text text-anchor=\"middle\" transform=\"translate(0,36)\" style=\"font-family: sans-serif; font-size: 11px; font-weight: bold; fill: #000; opacity: 1;\"> </text></g></g></g></g></g></g><g transform=\"translate(154,401)\"><path class=\"background\" d=\"MNaN,0LNaN,0CNaN,0,NaN,NaN,NaN,NaNLNaN,NaNCNaN,NaN,NaN,0,NaN,0LNaN,0CNaN,0,0,NaN,0,NaNL0,NaNC0,NaN,NaN,0,NaN,0Z\" style=\"fill: none;\"></path><g><g class=\"mark-group role-axis\"><g transform=\"translate(0.5,0.5)\"><path class=\"background\" d=\"M0,0h0v0h0Z\" style=\"pointer-events: none; fill: none;\"></path><g><g class=\"mark-rule role-axis-tick\" style=\"pointer-events: none;\"><line transform=\"translate(0,0)\" x2=\"0\" y2=\"5\" style=\"fill: none; stroke: #888; stroke-width: 1; opacity: 1;\"></line><line transform=\"translate(0,0)\" x2=\"0\" y2=\"5\" style=\"fill: none; stroke: #888; stroke-width: 1; opacity: 1;\"></line></g><g class=\"mark-text role-axis-label\" style=\"pointer-events: none;\"><text text-anchor=\"end\" transform=\"translate(0,7) rotate(270) translate(0,3)\" style=\"font-family: sans-serif; font-size: 10px; fill: #000; opacity: 1;\">ats</text><text text-anchor=\"end\" transform=\"translate(0,7) rotate(270) translate(0,3)\" style=\"font-family: sans-serif; font-size: 10px; fill: #000; opacity: 1;\">otc</text></g><g class=\"mark-rule role-axis-domain\" style=\"pointer-events: none;\"><line transform=\"translate(0,0)\" x2=\"NaN\" y2=\"0\" style=\"fill: none; stroke: #888; stroke-width: 3; opacity: 1;\"></line></g><g class=\"mark-text role-axis-title\" style=\"pointer-events: none;\"><text text-anchor=\"middle\" transform=\"translate(0,36)\" style=\"font-family: sans-serif; font-size: 11px; font-weight: bold; fill: #000; opacity: 1;\"> </text></g></g></g></g></g></g><g transform=\"translate(176,401)\"><path class=\"background\" d=\"MNaN,0LNaN,0CNaN,0,NaN,NaN,NaN,NaNLNaN,NaNCNaN,NaN,NaN,0,NaN,0LNaN,0CNaN,0,0,NaN,0,NaNL0,NaNC0,NaN,NaN,0,NaN,0Z\" style=\"fill: none;\"></path><g><g class=\"mark-group role-axis\"><g transform=\"translate(0.5,0.5)\"><path class=\"background\" d=\"M0,0h0v0h0Z\" style=\"pointer-events: none; fill: none;\"></path><g><g class=\"mark-rule role-axis-tick\" style=\"pointer-events: none;\"><line transform=\"translate(0,0)\" x2=\"0\" y2=\"5\" style=\"fill: none; stroke: #888; stroke-width: 1; opacity: 1;\"></line><line transform=\"translate(0,0)\" x2=\"0\" y2=\"5\" style=\"fill: none; stroke: #888; stroke-width: 1; opacity: 1;\"></line></g><g class=\"mark-text role-axis-label\" style=\"pointer-events: none;\"><text text-anchor=\"end\" transform=\"translate(0,7) rotate(270) translate(0,3)\" style=\"font-family: sans-serif; font-size: 10px; fill: #000; opacity: 1;\">ats</text><text text-anchor=\"end\" transform=\"translate(0,7) rotate(270) translate(0,3)\" style=\"font-family: sans-serif; font-size: 10px; fill: #000; opacity: 1;\">otc</text></g><g class=\"mark-rule role-axis-domain\" style=\"pointer-events: none;\"><line transform=\"translate(0,0)\" x2=\"NaN\" y2=\"0\" style=\"fill: none; stroke: #888; stroke-width: 3; opacity: 1;\"></line></g><g class=\"mark-text role-axis-title\" style=\"pointer-events: none;\"><text text-anchor=\"middle\" transform=\"translate(0,36)\" style=\"font-family: sans-serif; font-size: 11px; font-weight: bold; fill: #000; opacity: 1;\"> </text></g></g></g></g></g></g><g transform=\"translate(198,401)\"><path class=\"background\" d=\"MNaN,0LNaN,0CNaN,0,NaN,NaN,NaN,NaNLNaN,NaNCNaN,NaN,NaN,0,NaN,0LNaN,0CNaN,0,0,NaN,0,NaNL0,NaNC0,NaN,NaN,0,NaN,0Z\" style=\"fill: none;\"></path><g><g class=\"mark-group role-axis\"><g transform=\"translate(0.5,0.5)\"><path class=\"background\" d=\"M0,0h0v0h0Z\" style=\"pointer-events: none; fill: none;\"></path><g><g class=\"mark-rule role-axis-tick\" style=\"pointer-events: none;\"><line transform=\"translate(0,0)\" x2=\"0\" y2=\"5\" style=\"fill: none; stroke: #888; stroke-width: 1; opacity: 1;\"></line><line transform=\"translate(0,0)\" x2=\"0\" y2=\"5\" style=\"fill: none; stroke: #888; stroke-width: 1; opacity: 1;\"></line></g><g class=\"mark-text role-axis-label\" style=\"pointer-events: none;\"><text text-anchor=\"end\" transform=\"translate(0,7) rotate(270) translate(0,3)\" style=\"font-family: sans-serif; font-size: 10px; fill: #000; opacity: 1;\">ats</text><text text-anchor=\"end\" transform=\"translate(0,7) rotate(270) translate(0,3)\" style=\"font-family: sans-serif; font-size: 10px; fill: #000; opacity: 1;\">otc</text></g><g class=\"mark-rule role-axis-domain\" style=\"pointer-events: none;\"><line transform=\"translate(0,0)\" x2=\"NaN\" y2=\"0\" style=\"fill: none; stroke: #888; stroke-width: 3; opacity: 1;\"></line></g><g class=\"mark-text role-axis-title\" style=\"pointer-events: none;\"><text text-anchor=\"middle\" transform=\"translate(0,36)\" style=\"font-family: sans-serif; font-size: 11px; font-weight: bold; fill: #000; opacity: 1;\"> </text></g></g></g></g></g></g><g transform=\"translate(220,401)\"><path class=\"background\" d=\"MNaN,0LNaN,0CNaN,0,NaN,NaN,NaN,NaNLNaN,NaNCNaN,NaN,NaN,0,NaN,0LNaN,0CNaN,0,0,NaN,0,NaNL0,NaNC0,NaN,NaN,0,NaN,0Z\" style=\"fill: none;\"></path><g><g class=\"mark-group role-axis\"><g transform=\"translate(0.5,0.5)\"><path class=\"background\" d=\"M0,0h0v0h0Z\" style=\"pointer-events: none; fill: none;\"></path><g><g class=\"mark-rule role-axis-tick\" style=\"pointer-events: none;\"><line transform=\"translate(0,0)\" x2=\"0\" y2=\"5\" style=\"fill: none; stroke: #888; stroke-width: 1; opacity: 1;\"></line><line transform=\"translate(0,0)\" x2=\"0\" y2=\"5\" style=\"fill: none; stroke: #888; stroke-width: 1; opacity: 1;\"></line></g><g class=\"mark-text role-axis-label\" style=\"pointer-events: none;\"><text text-anchor=\"end\" transform=\"translate(0,7) rotate(270) translate(0,3)\" style=\"font-family: sans-serif; font-size: 10px; fill: #000; opacity: 1;\">ats</text><text text-anchor=\"end\" transform=\"translate(0,7) rotate(270) translate(0,3)\" style=\"font-family: sans-serif; font-size: 10px; fill: #000; opacity: 1;\">otc</text></g><g class=\"mark-rule role-axis-domain\" style=\"pointer-events: none;\"><line transform=\"translate(0,0)\" x2=\"NaN\" y2=\"0\" style=\"fill: none; stroke: #888; stroke-width: 3; opacity: 1;\"></line></g><g class=\"mark-text role-axis-title\" style=\"pointer-events: none;\"><text text-anchor=\"middle\" transform=\"translate(0,36)\" style=\"font-family: sans-serif; font-size: 11px; font-weight: bold; fill: #000; opacity: 1;\"> </text></g></g></g></g></g></g><g transform=\"translate(242,401)\"><path class=\"background\" d=\"MNaN,0LNaN,0CNaN,0,NaN,NaN,NaN,NaNLNaN,NaNCNaN,NaN,NaN,0,NaN,0LNaN,0CNaN,0,0,NaN,0,NaNL0,NaNC0,NaN,NaN,0,NaN,0Z\" style=\"fill: none;\"></path><g><g class=\"mark-group role-axis\"><g transform=\"translate(0.5,0.5)\"><path class=\"background\" d=\"M0,0h0v0h0Z\" style=\"pointer-events: none; fill: none;\"></path><g><g class=\"mark-rule role-axis-tick\" style=\"pointer-events: none;\"><line transform=\"translate(0,0)\" x2=\"0\" y2=\"5\" style=\"fill: none; stroke: #888; stroke-width: 1; opacity: 1;\"></line><line transform=\"translate(0,0)\" x2=\"0\" y2=\"5\" style=\"fill: none; stroke: #888; stroke-width: 1; opacity: 1;\"></line></g><g class=\"mark-text role-axis-label\" style=\"pointer-events: none;\"><text text-anchor=\"end\" transform=\"translate(0,7) rotate(270) translate(0,3)\" style=\"font-family: sans-serif; font-size: 10px; fill: #000; opacity: 1;\">ats</text><text text-anchor=\"end\" transform=\"translate(0,7) rotate(270) translate(0,3)\" style=\"font-family: sans-serif; font-size: 10px; fill: #000; opacity: 1;\">otc</text></g><g class=\"mark-rule role-axis-domain\" style=\"pointer-events: none;\"><line transform=\"translate(0,0)\" x2=\"NaN\" y2=\"0\" style=\"fill: none; stroke: #888; stroke-width: 3; opacity: 1;\"></line></g><g class=\"mark-text role-axis-title\" style=\"pointer-events: none;\"><text text-anchor=\"middle\" transform=\"translate(0,36)\" style=\"font-family: sans-serif; font-size: 11px; font-weight: bold; fill: #000; opacity: 1;\"> </text></g></g></g></g></g></g><g transform=\"translate(264,401)\"><path class=\"background\" d=\"MNaN,0LNaN,0CNaN,0,NaN,NaN,NaN,NaNLNaN,NaNCNaN,NaN,NaN,0,NaN,0LNaN,0CNaN,0,0,NaN,0,NaNL0,NaNC0,NaN,NaN,0,NaN,0Z\" style=\"fill: none;\"></path><g><g class=\"mark-group role-axis\"><g transform=\"translate(0.5,0.5)\"><path class=\"background\" d=\"M0,0h0v0h0Z\" style=\"pointer-events: none; fill: none;\"></path><g><g class=\"mark-rule role-axis-tick\" style=\"pointer-events: none;\"><line transform=\"translate(0,0)\" x2=\"0\" y2=\"5\" style=\"fill: none; stroke: #888; stroke-width: 1; opacity: 1;\"></line><line transform=\"translate(0,0)\" x2=\"0\" y2=\"5\" style=\"fill: none; stroke: #888; stroke-width: 1; opacity: 1;\"></line></g><g class=\"mark-text role-axis-label\" style=\"pointer-events: none;\"><text text-anchor=\"end\" transform=\"translate(0,7) rotate(270) translate(0,3)\" style=\"font-family: sans-serif; font-size: 10px; fill: #000; opacity: 1;\">ats</text><text text-anchor=\"end\" transform=\"translate(0,7) rotate(270) translate(0,3)\" style=\"font-family: sans-serif; font-size: 10px; fill: #000; opacity: 1;\">otc</text></g><g class=\"mark-rule role-axis-domain\" style=\"pointer-events: none;\"><line transform=\"translate(0,0)\" x2=\"NaN\" y2=\"0\" style=\"fill: none; stroke: #888; stroke-width: 3; opacity: 1;\"></line></g><g class=\"mark-text role-axis-title\" style=\"pointer-events: none;\"><text text-anchor=\"middle\" transform=\"translate(0,36)\" style=\"font-family: sans-serif; font-size: 11px; font-weight: bold; fill: #000; opacity: 1;\"> </text></g></g></g></g></g></g><g transform=\"translate(286,401)\"><path class=\"background\" d=\"MNaN,0LNaN,0CNaN,0,NaN,NaN,NaN,NaNLNaN,NaNCNaN,NaN,NaN,0,NaN,0LNaN,0CNaN,0,0,NaN,0,NaNL0,NaNC0,NaN,NaN,0,NaN,0Z\" style=\"fill: none;\"></path><g><g class=\"mark-group role-axis\"><g transform=\"translate(0.5,0.5)\"><path class=\"background\" d=\"M0,0h0v0h0Z\" style=\"pointer-events: none; fill: none;\"></path><g><g class=\"mark-rule role-axis-tick\" style=\"pointer-events: none;\"><line transform=\"translate(0,0)\" x2=\"0\" y2=\"5\" style=\"fill: none; stroke: #888; stroke-width: 1; opacity: 1;\"></line><line transform=\"translate(0,0)\" x2=\"0\" y2=\"5\" style=\"fill: none; stroke: #888; stroke-width: 1; opacity: 1;\"></line></g><g class=\"mark-text role-axis-label\" style=\"pointer-events: none;\"><text text-anchor=\"end\" transform=\"translate(0,7) rotate(270) translate(0,3)\" style=\"font-family: sans-serif; font-size: 10px; fill: #000; opacity: 1;\">ats</text><text text-anchor=\"end\" transform=\"translate(0,7) rotate(270) translate(0,3)\" style=\"font-family: sans-serif; font-size: 10px; fill: #000; opacity: 1;\">otc</text></g><g class=\"mark-rule role-axis-domain\" style=\"pointer-events: none;\"><line transform=\"translate(0,0)\" x2=\"NaN\" y2=\"0\" style=\"fill: none; stroke: #888; stroke-width: 3; opacity: 1;\"></line></g><g class=\"mark-text role-axis-title\" style=\"pointer-events: none;\"><text text-anchor=\"middle\" transform=\"translate(0,36)\" style=\"font-family: sans-serif; font-size: 11px; font-weight: bold; fill: #000; opacity: 1;\"> </text></g></g></g></g></g></g><g transform=\"translate(308,401)\"><path class=\"background\" d=\"MNaN,0LNaN,0CNaN,0,NaN,NaN,NaN,NaNLNaN,NaNCNaN,NaN,NaN,0,NaN,0LNaN,0CNaN,0,0,NaN,0,NaNL0,NaNC0,NaN,NaN,0,NaN,0Z\" style=\"fill: none;\"></path><g><g class=\"mark-group role-axis\"><g transform=\"translate(0.5,0.5)\"><path class=\"background\" d=\"M0,0h0v0h0Z\" style=\"pointer-events: none; fill: none;\"></path><g><g class=\"mark-rule role-axis-tick\" style=\"pointer-events: none;\"><line transform=\"translate(0,0)\" x2=\"0\" y2=\"5\" style=\"fill: none; stroke: #888; stroke-width: 1; opacity: 1;\"></line><line transform=\"translate(0,0)\" x2=\"0\" y2=\"5\" style=\"fill: none; stroke: #888; stroke-width: 1; opacity: 1;\"></line></g><g class=\"mark-text role-axis-label\" style=\"pointer-events: none;\"><text text-anchor=\"end\" transform=\"translate(0,7) rotate(270) translate(0,3)\" style=\"font-family: sans-serif; font-size: 10px; fill: #000; opacity: 1;\">ats</text><text text-anchor=\"end\" transform=\"translate(0,7) rotate(270) translate(0,3)\" style=\"font-family: sans-serif; font-size: 10px; fill: #000; opacity: 1;\">otc</text></g><g class=\"mark-rule role-axis-domain\" style=\"pointer-events: none;\"><line transform=\"translate(0,0)\" x2=\"NaN\" y2=\"0\" style=\"fill: none; stroke: #888; stroke-width: 3; opacity: 1;\"></line></g><g class=\"mark-text role-axis-title\" style=\"pointer-events: none;\"><text text-anchor=\"middle\" transform=\"translate(0,36)\" style=\"font-family: sans-serif; font-size: 11px; font-weight: bold; fill: #000; opacity: 1;\"> </text></g></g></g></g></g></g></g><g class=\"mark-group role-scope cell\"><g transform=\"translate(0,0)\"><path class=\"background\" d=\"MNaN,0.5LNaN,0.5CNaN,0.5,NaN,NaN,NaN,NaNLNaN,NaNCNaN,NaN,NaN,400.5,NaN,400.5LNaN,400.5CNaN,400.5,0.5,NaN,0.5,NaNL0.5,NaNC0.5,NaN,NaN,0.5,NaN,0.5Z\" style=\"fill: none; stroke: none;\"></path><g><g class=\"mark-rect role-mark child_marks\"><path d=\"M0,345.2h0v54.80000000000001h0Z\" style=\"fill: rgb(53, 183, 121);\"></path><path d=\"M0,346.4h0v53.60000000000002h0Z\" style=\"fill: rgb(49, 104, 142);\"></path></g></g></g><g transform=\"translate(22,0)\"><path class=\"background\" d=\"MNaN,0.5LNaN,0.5CNaN,0.5,NaN,NaN,NaN,NaNLNaN,NaNCNaN,NaN,NaN,400.5,NaN,400.5LNaN,400.5CNaN,400.5,0.5,NaN,0.5,NaNL0.5,NaNC0.5,NaN,NaN,0.5,NaN,0.5Z\" style=\"fill: none; stroke: none;\"></path><g><g class=\"mark-rect role-mark child_marks\"><path d=\"M0,87.80000000000001h0v312.2h0Z\" style=\"fill: rgb(53, 183, 121);\"></path><path d=\"M0,95.19999999999999h0v304.8h0Z\" style=\"fill: rgb(49, 104, 142);\"></path></g></g></g><g transform=\"translate(44,0)\"><path class=\"background\" d=\"MNaN,0.5LNaN,0.5CNaN,0.5,NaN,NaN,NaN,NaNLNaN,NaNCNaN,NaN,NaN,400.5,NaN,400.5LNaN,400.5CNaN,400.5,0.5,NaN,0.5,NaNL0.5,NaNC0.5,NaN,NaN,0.5,NaN,0.5Z\" style=\"fill: none; stroke: none;\"></path><g><g class=\"mark-rect role-mark child_marks\"><path d=\"M0,395.6h0v4.399999999999977h0Z\" style=\"fill: rgb(53, 183, 121);\"></path><path d=\"M0,395.6h0v4.399999999999977h0Z\" style=\"fill: rgb(49, 104, 142);\"></path></g></g></g><g transform=\"translate(66,0)\"><path class=\"background\" d=\"MNaN,0.5LNaN,0.5CNaN,0.5,NaN,NaN,NaN,NaNLNaN,NaNCNaN,NaN,NaN,400.5,NaN,400.5LNaN,400.5CNaN,400.5,0.5,NaN,0.5,NaNL0.5,NaNC0.5,NaN,NaN,0.5,NaN,0.5Z\" style=\"fill: none; stroke: none;\"></path><g><g class=\"mark-rect role-mark child_marks\"><path d=\"M0,392h0v8h0Z\" style=\"fill: rgb(53, 183, 121);\"></path><path d=\"M0,392.2h0v7.800000000000011h0Z\" style=\"fill: rgb(49, 104, 142);\"></path></g></g></g><g transform=\"translate(88,0)\"><path class=\"background\" d=\"MNaN,0.5LNaN,0.5CNaN,0.5,NaN,NaN,NaN,NaNLNaN,NaNCNaN,NaN,NaN,400.5,NaN,400.5LNaN,400.5CNaN,400.5,0.5,NaN,0.5,NaNL0.5,NaNC0.5,NaN,NaN,0.5,NaN,0.5Z\" style=\"fill: none; stroke: none;\"></path><g><g class=\"mark-rect role-mark child_marks\"><path d=\"M0,398.6h0v1.3999999999999773h0Z\" style=\"fill: rgb(53, 183, 121);\"></path><path d=\"M0,398.8h0v1.1999999999999886h0Z\" style=\"fill: rgb(49, 104, 142);\"></path></g></g></g><g transform=\"translate(110,0)\"><path class=\"background\" d=\"MNaN,0.5LNaN,0.5CNaN,0.5,NaN,NaN,NaN,NaNLNaN,NaNCNaN,NaN,NaN,400.5,NaN,400.5LNaN,400.5CNaN,400.5,0.5,NaN,0.5,NaNL0.5,NaNC0.5,NaN,NaN,0.5,NaN,0.5Z\" style=\"fill: none; stroke: none;\"></path><g><g class=\"mark-rect role-mark child_marks\"><path d=\"M0,139h0v261h0Z\" style=\"fill: rgb(53, 183, 121);\"></path><path d=\"M0,145.00000000000003h0v254.99999999999997h0Z\" style=\"fill: rgb(49, 104, 142);\"></path></g></g></g><g transform=\"translate(132,0)\"><path class=\"background\" d=\"MNaN,0.5LNaN,0.5CNaN,0.5,NaN,NaN,NaN,NaNLNaN,NaNCNaN,NaN,NaN,400.5,NaN,400.5LNaN,400.5CNaN,400.5,0.5,NaN,0.5,NaNL0.5,NaNC0.5,NaN,NaN,0.5,NaN,0.5Z\" style=\"fill: none; stroke: none;\"></path><g><g class=\"mark-rect role-mark child_marks\"><path d=\"M0,12.599999999999989h0v387.40000000000003h0Z\" style=\"fill: rgb(53, 183, 121);\"></path><path d=\"M0,35.400000000000006h0v364.6h0Z\" style=\"fill: rgb(49, 104, 142);\"></path></g></g></g><g transform=\"translate(154,0)\"><path class=\"background\" d=\"MNaN,0.5LNaN,0.5CNaN,0.5,NaN,NaN,NaN,NaNLNaN,NaNCNaN,NaN,NaN,400.5,NaN,400.5LNaN,400.5CNaN,400.5,0.5,NaN,0.5,NaNL0.5,NaNC0.5,NaN,NaN,0.5,NaN,0.5Z\" style=\"fill: none; stroke: none;\"></path><g><g class=\"mark-rect role-mark child_marks\"><path d=\"M0,244.59999999999997h0v155.40000000000003h0Z\" style=\"fill: rgb(53, 183, 121);\"></path><path d=\"M0,246.60000000000002h0v153.39999999999998h0Z\" style=\"fill: rgb(49, 104, 142);\"></path></g></g></g><g transform=\"translate(176,0)\"><path class=\"background\" d=\"MNaN,0.5LNaN,0.5CNaN,0.5,NaN,NaN,NaN,NaNLNaN,NaNCNaN,NaN,NaN,400.5,NaN,400.5LNaN,400.5CNaN,400.5,0.5,NaN,0.5,NaNL0.5,NaNC0.5,NaN,NaN,0.5,NaN,0.5Z\" style=\"fill: none; stroke: none;\"></path><g><g class=\"mark-rect role-mark child_marks\"><path d=\"M0,358.59999999999997h0v41.400000000000034h0Z\" style=\"fill: rgb(53, 183, 121);\"></path><path d=\"M0,359h0v41h0Z\" style=\"fill: rgb(49, 104, 142);\"></path></g></g></g><g transform=\"translate(198,0)\"><path class=\"background\" d=\"MNaN,0.5LNaN,0.5CNaN,0.5,NaN,NaN,NaN,NaNLNaN,NaNCNaN,NaN,NaN,400.5,NaN,400.5LNaN,400.5CNaN,400.5,0.5,NaN,0.5,NaNL0.5,NaNC0.5,NaN,NaN,0.5,NaN,0.5Z\" style=\"fill: none; stroke: none;\"></path><g><g class=\"mark-rect role-mark child_marks\"><path d=\"M0,389.59999999999997h0v10.400000000000034h0Z\" style=\"fill: rgb(53, 183, 121);\"></path><path d=\"M0,389.8h0v10.199999999999989h0Z\" style=\"fill: rgb(49, 104, 142);\"></path></g></g></g><g transform=\"translate(220,0)\"><path class=\"background\" d=\"MNaN,0.5LNaN,0.5CNaN,0.5,NaN,NaN,NaN,NaNLNaN,NaNCNaN,NaN,NaN,400.5,NaN,400.5LNaN,400.5CNaN,400.5,0.5,NaN,0.5,NaNL0.5,NaNC0.5,NaN,NaN,0.5,NaN,0.5Z\" style=\"fill: none; stroke: none;\"></path><g><g class=\"mark-rect role-mark child_marks\"><path d=\"M0,56.00000000000001h0v344h0Z\" style=\"fill: rgb(53, 183, 121);\"></path><path d=\"M0,75h0v325h0Z\" style=\"fill: rgb(49, 104, 142);\"></path></g></g></g><g transform=\"translate(242,0)\"><path class=\"background\" d=\"MNaN,0.5LNaN,0.5CNaN,0.5,NaN,NaN,NaN,NaNLNaN,NaNCNaN,NaN,NaN,400.5,NaN,400.5LNaN,400.5CNaN,400.5,0.5,NaN,0.5,NaNL0.5,NaNC0.5,NaN,NaN,0.5,NaN,0.5Z\" style=\"fill: none; stroke: none;\"></path><g><g class=\"mark-rect role-mark child_marks\"><path d=\"M0,191h0v209h0Z\" style=\"fill: rgb(53, 183, 121);\"></path><path d=\"M0,203.00000000000003h0v196.99999999999997h0Z\" style=\"fill: rgb(49, 104, 142);\"></path></g></g></g><g transform=\"translate(264,0)\"><path class=\"background\" d=\"MNaN,0.5LNaN,0.5CNaN,0.5,NaN,NaN,NaN,NaNLNaN,NaNCNaN,NaN,NaN,400.5,NaN,400.5LNaN,400.5CNaN,400.5,0.5,NaN,0.5,NaNL0.5,NaNC0.5,NaN,NaN,0.5,NaN,0.5Z\" style=\"fill: none; stroke: none;\"></path><g><g class=\"mark-rect role-mark child_marks\"><path d=\"M0,52.800000000000004h0v347.2h0Z\" style=\"fill: rgb(53, 183, 121);\"></path><path d=\"M0,70.19999999999999h0v329.8h0Z\" style=\"fill: rgb(49, 104, 142);\"></path></g></g></g><g transform=\"translate(286,0)\"><path class=\"background\" d=\"MNaN,0.5LNaN,0.5CNaN,0.5,NaN,NaN,NaN,NaNLNaN,NaNCNaN,NaN,NaN,400.5,NaN,400.5LNaN,400.5CNaN,400.5,0.5,NaN,0.5,NaNL0.5,NaNC0.5,NaN,NaN,0.5,NaN,0.5Z\" style=\"fill: none; stroke: none;\"></path><g><g class=\"mark-rect role-mark child_marks\"><path d=\"M0,337h0v63h0Z\" style=\"fill: rgb(53, 183, 121);\"></path><path d=\"M0,338.6h0v61.39999999999998h0Z\" style=\"fill: rgb(49, 104, 142);\"></path></g></g></g><g transform=\"translate(308,0)\"><path class=\"background\" d=\"MNaN,0.5LNaN,0.5CNaN,0.5,NaN,NaN,NaN,NaNLNaN,NaNCNaN,NaN,NaN,400.5,NaN,400.5LNaN,400.5CNaN,400.5,0.5,NaN,0.5,NaNL0.5,NaNC0.5,NaN,NaN,0.5,NaN,0.5Z\" style=\"fill: none; stroke: none;\"></path><g><g class=\"mark-rect role-mark child_marks\"><path d=\"M0,55.399999999999984h0v344.6h0Z\" style=\"fill: rgb(53, 183, 121);\"></path><path d=\"M0,72.80000000000003h0v327.2h0Z\" style=\"fill: rgb(49, 104, 142);\"></path></g></g></g></g><g class=\"mark-group role-legend\"><g transform=\"translate(331,0)\"><path class=\"background\" d=\"M0,0h111v40h-111Z\" style=\"pointer-events: none; fill: none;\"></path><g><g class=\"mark-group role-legend-entry\"><g transform=\"translate(0,16)\"><path class=\"background\" d=\"M0,0h0v0h0Z\" style=\"pointer-events: none; fill: none;\"></path><g><g class=\"mark-group role-scope\"><g transform=\"translate(0,0)\"><path class=\"background\" d=\"M0,0h32v11h-32Z\" style=\"pointer-events: none; fill: none; opacity: 1;\"></path><g><g class=\"mark-symbol role-legend-symbol\" style=\"pointer-events: none;\"><path transform=\"translate(6,6)\" d=\"M-5,-5h10v10h-10Z\" style=\"fill: rgb(49, 104, 142); stroke-width: 1.5; opacity: 1;\"></path></g><g class=\"mark-text role-legend-label\" style=\"pointer-events: none;\"><text text-anchor=\"start\" transform=\"translate(16,9)\" style=\"font-family: sans-serif; font-size: 10px; fill: #000; opacity: 1;\">ats</text></g></g></g><g transform=\"translate(0,13)\"><path class=\"background\" d=\"M0,0h32v11h-32Z\" style=\"pointer-events: none; fill: none; opacity: 1;\"></path><g><g class=\"mark-symbol role-legend-symbol\" style=\"pointer-events: none;\"><path transform=\"translate(6,6)\" d=\"M-5,-5h10v10h-10Z\" style=\"fill: rgb(53, 183, 121); stroke-width: 1.5; opacity: 1;\"></path></g><g class=\"mark-text role-legend-label\" style=\"pointer-events: none;\"><text text-anchor=\"start\" transform=\"translate(16,9)\" style=\"font-family: sans-serif; font-size: 10px; fill: #000; opacity: 1;\">otc</text></g></g></g></g></g></g></g><g class=\"mark-text role-legend-title\" style=\"pointer-events: none;\"><text text-anchor=\"start\" transform=\"translate(0,9)\" style=\"font-family: sans-serif; font-size: 11px; font-weight: bold; fill: #000; opacity: 1;\">Secondary Market</text></g></g></g></g></g></g></g></g></svg>"
      ],
      "text/plain": [
       "VegaLite.VLSpec{:plot}"
      ]
     },
     "execution_count": 54,
     "metadata": {},
     "output_type": "execute_result"
    }
   ],
   "source": [
    "p = tt |> @vlplot(:bar,\n",
    "                  column={col_var, type=col_var_type, \n",
    "                          title=col_title, sort=col_sort},\n",
    "                  y={y_var, axis={title=y_axis_title, grid=false, stack=nothing}},\n",
    "                  x={x_var, type=x_var_type, axis={title=x_axis_title}},\n",
    "                  color={x_var, legend={title=legend_title}, scale={scheme=color_scale}},\n",
    "                  config={\n",
    "                      view={stroke=:transparent},\n",
    "                      axis={domainWidth=domainWidth},\n",
    "                      opacity={value=opacity},\n",
    "                  },\n",
    "                  row={row_var, type=row_var_type, header={title=row_var_title}},\n",
    "#                   title={text=title, \n",
    "#                          align=title_alignment, \n",
    "#                          anchor=title_anchor, \n",
    "#                          fontSize=title_font_size, \n",
    "#                          offset=title_offset},\n",
    "#                   spacing=spacing,\n",
    "                  width={step=width_step},\n",
    "                  height=height\n",
    "                ) \n",
    "    \n"
   ]
  },
  {
   "cell_type": "code",
   "execution_count": null,
   "metadata": {},
   "outputs": [],
   "source": []
  },
  {
   "cell_type": "code",
   "execution_count": null,
   "metadata": {},
   "outputs": [],
   "source": []
  },
  {
   "cell_type": "code",
   "execution_count": null,
   "metadata": {},
   "outputs": [],
   "source": []
  },
  {
   "cell_type": "code",
   "execution_count": null,
   "metadata": {},
   "outputs": [],
   "source": []
  },
  {
   "cell_type": "code",
   "execution_count": null,
   "metadata": {},
   "outputs": [],
   "source": []
  },
  {
   "cell_type": "code",
   "execution_count": 5,
   "metadata": {},
   "outputs": [
    {
     "data": {
      "text/plain": [
       "\"plots\""
      ]
     },
     "execution_count": 5,
     "metadata": {},
     "output_type": "execute_result"
    }
   ],
   "source": [
    "# Common Parameters {{{1\n",
    "col_var=\"sum_num_cov\"\n",
    "col_var_type=\"ordinal\"\n",
    "col_title=\"Number of Covenant Categories per Bond\"\n",
    "col_sort=\"ascending\"\n",
    "x_var=\"sbm:n\"\n",
    "x_var_type=\"nominal\"\n",
    "x_axis_title=\" \"\n",
    "width_step=18\n",
    "legend_title=\"Secondary Market\"\n",
    "spacing=1\n",
    "height=250\n",
    "save_plt=true\n",
    "plt_type = \"num_cov\"\n",
    "file_ext=\"png\"\n",
    "#\n",
    "save_plt=false\n",
    "scripts_path = string(main_path, \"/data-scripts\")\n",
    "plt_dir = \"plots\""
   ]
  },
  {
   "cell_type": "code",
   "execution_count": 18,
   "metadata": {},
   "outputs": [
    {
     "name": "stdout",
     "output_type": "stream",
     "text": [
      " \n",
      "Filename: 2019Q2_stats_by_cov_cat.csv\n",
      " \n",
      "Reading dataframe in folder: /home/artur/BondPricing/bond-data/data/Stats/2019...\n"
     ]
    },
    {
     "name": "stderr",
     "output_type": "stream",
     "text": [
      "WARNING: replacing module DataMod.\n",
      "WARNING: replacing module StatsMod.\n",
      "WARNING: replacing module PlotMod.\n"
     ]
    },
    {
     "data": {
      "text/plain": [
       "12-element Array{Any,1}:\n",
       " VegaLite.VLSpec\n",
       " VegaLite.VLSpec\n",
       " VegaLite.VLSpec\n",
       " VegaLite.VLSpec\n",
       " VegaLite.VLSpec\n",
       " VegaLite.VLSpec\n",
       " VegaLite.VLSpec\n",
       " VegaLite.VLSpec\n",
       " VegaLite.VLSpec\n",
       " VegaLite.VLSpec\n",
       " VegaLite.VLSpec\n",
       " VegaLite.VLSpec"
      ]
     },
     "execution_count": 18,
     "metadata": {},
     "output_type": "execute_result"
    }
   ],
   "source": [
    "include(string(joinpath(scripts_path, \"plot_cov_cat\"), \".jl\"))\n",
    "pl"
   ]
  },
  {
   "cell_type": "code",
   "execution_count": 15,
   "metadata": {},
   "outputs": [
    {
     "data": {
      "application/vnd.vegalite.v4+json": {
       "config": {
        "axis": {
         "domainWidth": 3
        },
        "opacity": {
         "value": 0.7
        },
        "view": {
         "stroke": "transparent"
        }
       },
       "data": {
        "values": [
         {
          "cov_cat": 1,
          "cvt": "any",
          "perc_sbm_total": 13.618290258449303,
          "perc_total": 13.618290258449303,
          "period": "2019Q2",
          "rt": "any",
          "sbm": "otc",
          "value": 274,
          "variable": "cg1_issuers"
         },
         {
          "cov_cat": 1,
          "cvt": "any",
          "perc_sbm_total": 14.240170031880977,
          "perc_total": 13.320079522862823,
          "period": "2019Q2",
          "rt": "any",
          "sbm": "ats",
          "value": 268,
          "variable": "cg1_issuers"
         },
         {
          "cov_cat": 2,
          "cvt": "any",
          "perc_sbm_total": 77.5844930417495,
          "perc_total": 77.5844930417495,
          "period": "2019Q2",
          "rt": "any",
          "sbm": "otc",
          "value": 1561,
          "variable": "cg2_issuers"
         },
         {
          "cov_cat": 2,
          "cvt": "any",
          "perc_sbm_total": 80.97768331562168,
          "perc_total": 75.7455268389662,
          "period": "2019Q2",
          "rt": "any",
          "sbm": "ats",
          "value": 1524,
          "variable": "cg2_issuers"
         },
         {
          "cov_cat": 3,
          "cvt": "any",
          "perc_sbm_total": 1.0934393638170974,
          "perc_total": 1.0934393638170974,
          "period": "2019Q2",
          "rt": "any",
          "sbm": "otc",
          "value": 22,
          "variable": "cg3_issuers"
         },
         {
          "cov_cat": 3,
          "cvt": "any",
          "perc_sbm_total": 1.1689691817215728,
          "perc_total": 1.0934393638170974,
          "period": "2019Q2",
          "rt": "any",
          "sbm": "ats",
          "value": 22,
          "variable": "cg3_issuers"
         },
         {
          "cov_cat": 4,
          "cvt": "any",
          "perc_sbm_total": 1.9880715705765408,
          "perc_total": 1.9880715705765408,
          "period": "2019Q2",
          "rt": "any",
          "sbm": "otc",
          "value": 40,
          "variable": "cg4_issuers"
         },
         {
          "cov_cat": 4,
          "cvt": "any",
          "perc_sbm_total": 2.0722635494155153,
          "perc_total": 1.9383697813121274,
          "period": "2019Q2",
          "rt": "any",
          "sbm": "ats",
          "value": 39,
          "variable": "cg4_issuers"
         },
         {
          "cov_cat": 5,
          "cvt": "any",
          "perc_sbm_total": 0.34791252485089463,
          "perc_total": 0.34791252485089463,
          "period": "2019Q2",
          "rt": "any",
          "sbm": "otc",
          "value": 7,
          "variable": "cg5_issuers"
         },
         {
          "cov_cat": 5,
          "cvt": "any",
          "perc_sbm_total": 0.3188097768331562,
          "perc_total": 0.2982107355864811,
          "period": "2019Q2",
          "rt": "any",
          "sbm": "ats",
          "value": 6,
          "variable": "cg5_issuers"
         },
         {
          "cov_cat": 6,
          "cvt": "any",
          "perc_sbm_total": 64.86083499005964,
          "perc_total": 64.86083499005964,
          "period": "2019Q2",
          "rt": "any",
          "sbm": "otc",
          "value": 1305,
          "variable": "cg6_issuers"
         },
         {
          "cov_cat": 6,
          "cvt": "any",
          "perc_sbm_total": 67.7470775770457,
          "perc_total": 63.36978131212724,
          "period": "2019Q2",
          "rt": "any",
          "sbm": "ats",
          "value": 1275,
          "variable": "cg6_issuers"
         },
         {
          "cov_cat": 7,
          "cvt": "any",
          "perc_sbm_total": 96.27236580516899,
          "perc_total": 96.27236580516899,
          "period": "2019Q2",
          "rt": "any",
          "sbm": "otc",
          "value": 1937,
          "variable": "cg7_issuers"
         },
         {
          "cov_cat": 7,
          "cvt": "any",
          "perc_sbm_total": 96.86503719447397,
          "perc_total": 90.60636182902584,
          "period": "2019Q2",
          "rt": "any",
          "sbm": "ats",
          "value": 1823,
          "variable": "cg7_issuers"
         },
         {
          "cov_cat": 8,
          "cvt": "any",
          "perc_sbm_total": 38.618290258449306,
          "perc_total": 38.618290258449306,
          "period": "2019Q2",
          "rt": "any",
          "sbm": "otc",
          "value": 777,
          "variable": "cg8_issuers"
         },
         {
          "cov_cat": 8,
          "cvt": "any",
          "perc_sbm_total": 40.75451647183847,
          "perc_total": 38.12127236580517,
          "period": "2019Q2",
          "rt": "any",
          "sbm": "ats",
          "value": 767,
          "variable": "cg8_issuers"
         },
         {
          "cov_cat": 9,
          "cvt": "any",
          "perc_sbm_total": 10.288270377733598,
          "perc_total": 10.288270377733598,
          "period": "2019Q2",
          "rt": "any",
          "sbm": "otc",
          "value": 207,
          "variable": "cg9_issuers"
         },
         {
          "cov_cat": 9,
          "cvt": "any",
          "perc_sbm_total": 10.892667375132838,
          "perc_total": 10.18886679920477,
          "period": "2019Q2",
          "rt": "any",
          "sbm": "ats",
          "value": 205,
          "variable": "cg9_issuers"
         },
         {
          "cov_cat": 10,
          "cvt": "any",
          "perc_sbm_total": 2.584493041749503,
          "perc_total": 2.584493041749503,
          "period": "2019Q2",
          "rt": "any",
          "sbm": "otc",
          "value": 52,
          "variable": "cg10_issuers"
         },
         {
          "cov_cat": 10,
          "cvt": "any",
          "perc_sbm_total": 2.709883103081828,
          "perc_total": 2.5347912524850895,
          "period": "2019Q2",
          "rt": "any",
          "sbm": "ats",
          "value": 51,
          "variable": "cg10_issuers"
         },
         {
          "cov_cat": 11,
          "cvt": "any",
          "perc_sbm_total": 85.48707753479125,
          "perc_total": 85.48707753479125,
          "period": "2019Q2",
          "rt": "any",
          "sbm": "otc",
          "value": 1720,
          "variable": "cg11_issuers"
         },
         {
          "cov_cat": 11,
          "cvt": "any",
          "perc_sbm_total": 86.3443145589798,
          "perc_total": 80.76540755467197,
          "period": "2019Q2",
          "rt": "any",
          "sbm": "ats",
          "value": 1625,
          "variable": "cg11_issuers"
         },
         {
          "cov_cat": 12,
          "cvt": "any",
          "perc_sbm_total": 51.93836978131213,
          "perc_total": 51.93836978131213,
          "period": "2019Q2",
          "rt": "any",
          "sbm": "otc",
          "value": 1045,
          "variable": "cg12_issuers"
         },
         {
          "cov_cat": 12,
          "cvt": "any",
          "perc_sbm_total": 52.33793836344315,
          "perc_total": 48.95626242544731,
          "period": "2019Q2",
          "rt": "any",
          "sbm": "ats",
          "value": 985,
          "variable": "cg12_issuers"
         },
         {
          "cov_cat": 13,
          "cvt": "any",
          "perc_sbm_total": 86.28230616302187,
          "perc_total": 86.28230616302187,
          "period": "2019Q2",
          "rt": "any",
          "sbm": "otc",
          "value": 1736,
          "variable": "cg13_issuers"
         },
         {
          "cov_cat": 13,
          "cvt": "any",
          "perc_sbm_total": 87.61955366631243,
          "perc_total": 81.95825049701789,
          "period": "2019Q2",
          "rt": "any",
          "sbm": "ats",
          "value": 1649,
          "variable": "cg13_issuers"
         },
         {
          "cov_cat": 14,
          "cvt": "any",
          "perc_sbm_total": 15.656063618290258,
          "perc_total": 15.656063618290258,
          "period": "2019Q2",
          "rt": "any",
          "sbm": "otc",
          "value": 315,
          "variable": "cg14_issuers"
         },
         {
          "cov_cat": 14,
          "cvt": "any",
          "perc_sbm_total": 16.312433581296492,
          "perc_total": 15.25844930417495,
          "period": "2019Q2",
          "rt": "any",
          "sbm": "ats",
          "value": 307,
          "variable": "cg14_issuers"
         },
         {
          "cov_cat": 15,
          "cvt": "any",
          "perc_sbm_total": 85.6361829025845,
          "perc_total": 85.6361829025845,
          "period": "2019Q2",
          "rt": "any",
          "sbm": "otc",
          "value": 1723,
          "variable": "cg15_issuers"
         },
         {
          "cov_cat": 15,
          "cvt": "any",
          "perc_sbm_total": 86.9287991498406,
          "perc_total": 81.31212723658051,
          "period": "2019Q2",
          "rt": "any",
          "sbm": "ats",
          "value": 1636,
          "variable": "cg15_issuers"
         }
        ]
       },
       "encoding": {
        "color": {
         "field": "sbm",
         "legend": {
          "title": "Secondary Market"
         },
         "scale": {
          "scheme": "viridis"
         },
         "type": "nominal"
        },
        "column": {
         "field": "cov_cat",
         "sort": "ascending",
         "title": "Covenant Category",
         "type": "ordinal"
        },
        "x": {
         "axis": {
          "title": " "
         },
         "field": "sbm",
         "type": "nominal"
        },
        "y": {
         "axis": {
          "grid": false,
          "stack": null,
          "title": "% of Total Number of Issuers"
         },
         "field": "perc_total",
         "type": "quantitative"
        }
       },
       "height": 350,
       "mark": "bar",
       "spacing": 4.5,
       "title": {
        "align": "center",
        "anchor": "middle",
        "fontSize": 14,
        "offset": 20,
        "text": [
         "Number of Issuers by Covenant Category as Percentage of ",
         "Number of Issuers of Non-MTN-Bonds Traded - 2019Q2"
        ]
       },
       "width": {
        "step": 18
       }
      },
      "image/png": "[encoded data removed]",
      "image/svg+xml": [
       "<?xml version=\"1.0\" encoding=\"utf-8\"?>\n",
       "<!DOCTYPE svg PUBLIC \"-//W3C//DTD SVG 1.1//EN\" \"http://www.w3.org/Graphics/SVG/1.1/DTD/svg11.dtd\">\n",
       "<svg class=\"marks\" width=\"812\" height=\"501\" viewBox=\"0 0 812 501\" version=\"1.1\" xmlns=\"http://www.w3.org/2000/svg\" xmlns:xlink=\"http://www.w3.org/1999/xlink\"><rect width=\"812\" height=\"501\" fill=\"white\"></rect><g fill=\"none\" stroke-miterlimit=\"10\" transform=\"translate(46,107)\"><g class=\"mark-group role-frame root\" role=\"graphics-object\" aria-roledescription=\"group mark container\"><g transform=\"translate(0,0)\"><path class=\"background\" aria-hidden=\"true\" d=\"M0,0h0v0h0Z\"></path><g><g class=\"mark-group role-column-title column-title\" role=\"graphics-object\" aria-roledescription=\"group mark container\"><g transform=\"translate(316,-31)\"><path class=\"background\" aria-hidden=\"true\" d=\"M0,0h0v0h0Z\"></path><g><g class=\"mark-group role-title\"><g transform=\"translate(0,-21)\"><path class=\"background\" aria-hidden=\"true\" d=\"M0,0h0v0h0Z\" pointer-events=\"none\"></path><g><g class=\"mark-text role-title-text\" role=\"graphics-symbol\" aria-roledescription=\"title\" aria-label=\"Title text 'Covenant Category'\" pointer-events=\"none\"><text text-anchor=\"middle\" transform=\"translate(0,9)\" font-family=\"sans-serif\" font-size=\"11px\" font-weight=\"bold\" fill=\"#000\" opacity=\"1\">Covenant Category</text></g></g><path class=\"foreground\" aria-hidden=\"true\" d=\"\" pointer-events=\"none\" display=\"none\"></path></g></g></g><path class=\"foreground\" aria-hidden=\"true\" d=\"\" display=\"none\"></path></g></g><g class=\"mark-group role-row-header row_header\" role=\"graphics-object\" aria-roledescription=\"group mark container\"><g transform=\"translate(-1,0)\"><path class=\"background\" aria-hidden=\"true\" d=\"M0,0h0v350h0Z\"></path><g><g class=\"mark-group role-axis\" role=\"graphics-symbol\" aria-roledescription=\"axis\" aria-label=\"Y-axis titled '% of Total Number of Issuers' for a linear scale with values from 0 to 100\"><g transform=\"translate(0.5,0.5)\"><path class=\"background\" aria-hidden=\"true\" d=\"M0,0h0v0h0Z\" pointer-events=\"none\"></path><g><g class=\"mark-rule role-axis-tick\" pointer-events=\"none\"><line transform=\"translate(0,350)\" x2=\"-5\" y2=\"0\" stroke=\"#888\" stroke-width=\"1\" opacity=\"1\"></line><line transform=\"translate(0,315)\" x2=\"-5\" y2=\"0\" stroke=\"#888\" stroke-width=\"1\" opacity=\"1\"></line><line transform=\"translate(0,280)\" x2=\"-5\" y2=\"0\" stroke=\"#888\" stroke-width=\"1\" opacity=\"1\"></line><line transform=\"translate(0,245)\" x2=\"-5\" y2=\"0\" stroke=\"#888\" stroke-width=\"1\" opacity=\"1\"></line><line transform=\"translate(0,210)\" x2=\"-5\" y2=\"0\" stroke=\"#888\" stroke-width=\"1\" opacity=\"1\"></line><line transform=\"translate(0,175)\" x2=\"-5\" y2=\"0\" stroke=\"#888\" stroke-width=\"1\" opacity=\"1\"></line><line transform=\"translate(0,140)\" x2=\"-5\" y2=\"0\" stroke=\"#888\" stroke-width=\"1\" opacity=\"1\"></line><line transform=\"translate(0,105)\" x2=\"-5\" y2=\"0\" stroke=\"#888\" stroke-width=\"1\" opacity=\"1\"></line><line transform=\"translate(0,70)\" x2=\"-5\" y2=\"0\" stroke=\"#888\" stroke-width=\"1\" opacity=\"1\"></line><line transform=\"translate(0,35)\" x2=\"-5\" y2=\"0\" stroke=\"#888\" stroke-width=\"1\" opacity=\"1\"></line><line transform=\"translate(0,0)\" x2=\"-5\" y2=\"0\" stroke=\"#888\" stroke-width=\"1\" opacity=\"1\"></line></g><g class=\"mark-text role-axis-label\" pointer-events=\"none\"><text text-anchor=\"end\" transform=\"translate(-7,353)\" font-family=\"sans-serif\" font-size=\"10px\" fill=\"#000\" opacity=\"1\">0</text><text text-anchor=\"end\" transform=\"translate(-7,318)\" font-family=\"sans-serif\" font-size=\"10px\" fill=\"#000\" opacity=\"1\">10</text><text text-anchor=\"end\" transform=\"translate(-7,283)\" font-family=\"sans-serif\" font-size=\"10px\" fill=\"#000\" opacity=\"1\">20</text><text text-anchor=\"end\" transform=\"translate(-7,247.99999999999997)\" font-family=\"sans-serif\" font-size=\"10px\" fill=\"#000\" opacity=\"1\">30</text><text text-anchor=\"end\" transform=\"translate(-7,213)\" font-family=\"sans-serif\" font-size=\"10px\" fill=\"#000\" opacity=\"1\">40</text><text text-anchor=\"end\" transform=\"translate(-7,178)\" font-family=\"sans-serif\" font-size=\"10px\" fill=\"#000\" opacity=\"1\">50</text><text text-anchor=\"end\" transform=\"translate(-7,143)\" font-family=\"sans-serif\" font-size=\"10px\" fill=\"#000\" opacity=\"1\">60</text><text text-anchor=\"end\" transform=\"translate(-7,108.00000000000001)\" font-family=\"sans-serif\" font-size=\"10px\" fill=\"#000\" opacity=\"1\">70</text><text text-anchor=\"end\" transform=\"translate(-7,72.99999999999999)\" font-family=\"sans-serif\" font-size=\"10px\" fill=\"#000\" opacity=\"1\">80</text><text text-anchor=\"end\" transform=\"translate(-7,37.99999999999999)\" font-family=\"sans-serif\" font-size=\"10px\" fill=\"#000\" opacity=\"1\">90</text><text text-anchor=\"end\" transform=\"translate(-7,3)\" font-family=\"sans-serif\" font-size=\"10px\" fill=\"#000\" opacity=\"1\">100</text></g><g class=\"mark-rule role-axis-domain\" pointer-events=\"none\"><line transform=\"translate(0,350)\" x2=\"0\" y2=\"-350\" stroke=\"#888\" stroke-width=\"3\" opacity=\"1\"></line></g><g class=\"mark-text role-axis-title\" pointer-events=\"none\"><text text-anchor=\"middle\" transform=\"translate(-29,175) rotate(-90) translate(0,-2)\" font-family=\"sans-serif\" font-size=\"11px\" font-weight=\"bold\" fill=\"#000\" opacity=\"1\">% of Total Number of Issuers</text></g></g><path class=\"foreground\" aria-hidden=\"true\" d=\"\" pointer-events=\"none\" display=\"none\"></path></g></g></g><path class=\"foreground\" aria-hidden=\"true\" d=\"\" display=\"none\"></path></g></g><g class=\"mark-group role-column-header column_header\" role=\"graphics-object\" aria-roledescription=\"group mark container\"><g transform=\"translate(0,-1)\"><path class=\"background\" aria-hidden=\"true\" d=\"M0,0h36v0h-36Z\"></path><g><g class=\"mark-group role-title\"><g transform=\"translate(18,-20)\"><path class=\"background\" aria-hidden=\"true\" d=\"M0,0h0v0h0Z\" pointer-events=\"none\"></path><g><g class=\"mark-text role-title-text\" role=\"graphics-symbol\" aria-roledescription=\"title\" aria-label=\"Title text '1'\" pointer-events=\"none\"><text text-anchor=\"middle\" transform=\"translate(0,8)\" font-family=\"sans-serif\" font-size=\"10px\" fill=\"#000\" opacity=\"1\">1</text></g></g><path class=\"foreground\" aria-hidden=\"true\" d=\"\" pointer-events=\"none\" display=\"none\"></path></g></g></g><path class=\"foreground\" aria-hidden=\"true\" d=\"\" display=\"none\"></path></g><g transform=\"translate(42.5,-1)\"><path class=\"background\" aria-hidden=\"true\" d=\"M0,0h36v0h-36Z\"></path><g><g class=\"mark-group role-title\"><g transform=\"translate(18,-20)\"><path class=\"background\" aria-hidden=\"true\" d=\"M0,0h0v0h0Z\" pointer-events=\"none\"></path><g><g class=\"mark-text role-title-text\" role=\"graphics-symbol\" aria-roledescription=\"title\" aria-label=\"Title text '2'\" pointer-events=\"none\"><text text-anchor=\"middle\" transform=\"translate(0,8)\" font-family=\"sans-serif\" font-size=\"10px\" fill=\"#000\" opacity=\"1\">2</text></g></g><path class=\"foreground\" aria-hidden=\"true\" d=\"\" pointer-events=\"none\" display=\"none\"></path></g></g></g><path class=\"foreground\" aria-hidden=\"true\" d=\"\" display=\"none\"></path></g><g transform=\"translate(85,-1)\"><path class=\"background\" aria-hidden=\"true\" d=\"M0,0h36v0h-36Z\"></path><g><g class=\"mark-group role-title\"><g transform=\"translate(18,-20)\"><path class=\"background\" aria-hidden=\"true\" d=\"M0,0h0v0h0Z\" pointer-events=\"none\"></path><g><g class=\"mark-text role-title-text\" role=\"graphics-symbol\" aria-roledescription=\"title\" aria-label=\"Title text '3'\" pointer-events=\"none\"><text text-anchor=\"middle\" transform=\"translate(0,8)\" font-family=\"sans-serif\" font-size=\"10px\" fill=\"#000\" opacity=\"1\">3</text></g></g><path class=\"foreground\" aria-hidden=\"true\" d=\"\" pointer-events=\"none\" display=\"none\"></path></g></g></g><path class=\"foreground\" aria-hidden=\"true\" d=\"\" display=\"none\"></path></g><g transform=\"translate(127.5,-1)\"><path class=\"background\" aria-hidden=\"true\" d=\"M0,0h36v0h-36Z\"></path><g><g class=\"mark-group role-title\"><g transform=\"translate(18,-20)\"><path class=\"background\" aria-hidden=\"true\" d=\"M0,0h0v0h0Z\" pointer-events=\"none\"></path><g><g class=\"mark-text role-title-text\" role=\"graphics-symbol\" aria-roledescription=\"title\" aria-label=\"Title text '4'\" pointer-events=\"none\"><text text-anchor=\"middle\" transform=\"translate(0,8)\" font-family=\"sans-serif\" font-size=\"10px\" fill=\"#000\" opacity=\"1\">4</text></g></g><path class=\"foreground\" aria-hidden=\"true\" d=\"\" pointer-events=\"none\" display=\"none\"></path></g></g></g><path class=\"foreground\" aria-hidden=\"true\" d=\"\" display=\"none\"></path></g><g transform=\"translate(170,-1)\"><path class=\"background\" aria-hidden=\"true\" d=\"M0,0h36v0h-36Z\"></path><g><g class=\"mark-group role-title\"><g transform=\"translate(18,-20)\"><path class=\"background\" aria-hidden=\"true\" d=\"M0,0h0v0h0Z\" pointer-events=\"none\"></path><g><g class=\"mark-text role-title-text\" role=\"graphics-symbol\" aria-roledescription=\"title\" aria-label=\"Title text '5'\" pointer-events=\"none\"><text text-anchor=\"middle\" transform=\"translate(0,8)\" font-family=\"sans-serif\" font-size=\"10px\" fill=\"#000\" opacity=\"1\">5</text></g></g><path class=\"foreground\" aria-hidden=\"true\" d=\"\" pointer-events=\"none\" display=\"none\"></path></g></g></g><path class=\"foreground\" aria-hidden=\"true\" d=\"\" display=\"none\"></path></g><g transform=\"translate(212.5,-1)\"><path class=\"background\" aria-hidden=\"true\" d=\"M0,0h36v0h-36Z\"></path><g><g class=\"mark-group role-title\"><g transform=\"translate(18,-20)\"><path class=\"background\" aria-hidden=\"true\" d=\"M0,0h0v0h0Z\" pointer-events=\"none\"></path><g><g class=\"mark-text role-title-text\" role=\"graphics-symbol\" aria-roledescription=\"title\" aria-label=\"Title text '6'\" pointer-events=\"none\"><text text-anchor=\"middle\" transform=\"translate(0,8)\" font-family=\"sans-serif\" font-size=\"10px\" fill=\"#000\" opacity=\"1\">6</text></g></g><path class=\"foreground\" aria-hidden=\"true\" d=\"\" pointer-events=\"none\" display=\"none\"></path></g></g></g><path class=\"foreground\" aria-hidden=\"true\" d=\"\" display=\"none\"></path></g><g transform=\"translate(255,-1)\"><path class=\"background\" aria-hidden=\"true\" d=\"M0,0h36v0h-36Z\"></path><g><g class=\"mark-group role-title\"><g transform=\"translate(18,-20)\"><path class=\"background\" aria-hidden=\"true\" d=\"M0,0h0v0h0Z\" pointer-events=\"none\"></path><g><g class=\"mark-text role-title-text\" role=\"graphics-symbol\" aria-roledescription=\"title\" aria-label=\"Title text '7'\" pointer-events=\"none\"><text text-anchor=\"middle\" transform=\"translate(0,8)\" font-family=\"sans-serif\" font-size=\"10px\" fill=\"#000\" opacity=\"1\">7</text></g></g><path class=\"foreground\" aria-hidden=\"true\" d=\"\" pointer-events=\"none\" display=\"none\"></path></g></g></g><path class=\"foreground\" aria-hidden=\"true\" d=\"\" display=\"none\"></path></g><g transform=\"translate(297.5,-1)\"><path class=\"background\" aria-hidden=\"true\" d=\"M0,0h36v0h-36Z\"></path><g><g class=\"mark-group role-title\"><g transform=\"translate(18,-20)\"><path class=\"background\" aria-hidden=\"true\" d=\"M0,0h0v0h0Z\" pointer-events=\"none\"></path><g><g class=\"mark-text role-title-text\" role=\"graphics-symbol\" aria-roledescription=\"title\" aria-label=\"Title text '8'\" pointer-events=\"none\"><text text-anchor=\"middle\" transform=\"translate(0,8)\" font-family=\"sans-serif\" font-size=\"10px\" fill=\"#000\" opacity=\"1\">8</text></g></g><path class=\"foreground\" aria-hidden=\"true\" d=\"\" pointer-events=\"none\" display=\"none\"></path></g></g></g><path class=\"foreground\" aria-hidden=\"true\" d=\"\" display=\"none\"></path></g><g transform=\"translate(340,-1)\"><path class=\"background\" aria-hidden=\"true\" d=\"M0,0h36v0h-36Z\"></path><g><g class=\"mark-group role-title\"><g transform=\"translate(18,-20)\"><path class=\"background\" aria-hidden=\"true\" d=\"M0,0h0v0h0Z\" pointer-events=\"none\"></path><g><g class=\"mark-text role-title-text\" role=\"graphics-symbol\" aria-roledescription=\"title\" aria-label=\"Title text '9'\" pointer-events=\"none\"><text text-anchor=\"middle\" transform=\"translate(0,8)\" font-family=\"sans-serif\" font-size=\"10px\" fill=\"#000\" opacity=\"1\">9</text></g></g><path class=\"foreground\" aria-hidden=\"true\" d=\"\" pointer-events=\"none\" display=\"none\"></path></g></g></g><path class=\"foreground\" aria-hidden=\"true\" d=\"\" display=\"none\"></path></g><g transform=\"translate(382.5,-1)\"><path class=\"background\" aria-hidden=\"true\" d=\"M0,0h36v0h-36Z\"></path><g><g class=\"mark-group role-title\"><g transform=\"translate(18,-20)\"><path class=\"background\" aria-hidden=\"true\" d=\"M0,0h0v0h0Z\" pointer-events=\"none\"></path><g><g class=\"mark-text role-title-text\" role=\"graphics-symbol\" aria-roledescription=\"title\" aria-label=\"Title text '10'\" pointer-events=\"none\"><text text-anchor=\"middle\" transform=\"translate(0,8)\" font-family=\"sans-serif\" font-size=\"10px\" fill=\"#000\" opacity=\"1\">10</text></g></g><path class=\"foreground\" aria-hidden=\"true\" d=\"\" pointer-events=\"none\" display=\"none\"></path></g></g></g><path class=\"foreground\" aria-hidden=\"true\" d=\"\" display=\"none\"></path></g><g transform=\"translate(425,-1)\"><path class=\"background\" aria-hidden=\"true\" d=\"M0,0h36v0h-36Z\"></path><g><g class=\"mark-group role-title\"><g transform=\"translate(18,-20)\"><path class=\"background\" aria-hidden=\"true\" d=\"M0,0h0v0h0Z\" pointer-events=\"none\"></path><g><g class=\"mark-text role-title-text\" role=\"graphics-symbol\" aria-roledescription=\"title\" aria-label=\"Title text '11'\" pointer-events=\"none\"><text text-anchor=\"middle\" transform=\"translate(0,8)\" font-family=\"sans-serif\" font-size=\"10px\" fill=\"#000\" opacity=\"1\">11</text></g></g><path class=\"foreground\" aria-hidden=\"true\" d=\"\" pointer-events=\"none\" display=\"none\"></path></g></g></g><path class=\"foreground\" aria-hidden=\"true\" d=\"\" display=\"none\"></path></g><g transform=\"translate(467.5,-1)\"><path class=\"background\" aria-hidden=\"true\" d=\"M0,0h36v0h-36Z\"></path><g><g class=\"mark-group role-title\"><g transform=\"translate(18,-20)\"><path class=\"background\" aria-hidden=\"true\" d=\"M0,0h0v0h0Z\" pointer-events=\"none\"></path><g><g class=\"mark-text role-title-text\" role=\"graphics-symbol\" aria-roledescription=\"title\" aria-label=\"Title text '12'\" pointer-events=\"none\"><text text-anchor=\"middle\" transform=\"translate(0,8)\" font-family=\"sans-serif\" font-size=\"10px\" fill=\"#000\" opacity=\"1\">12</text></g></g><path class=\"foreground\" aria-hidden=\"true\" d=\"\" pointer-events=\"none\" display=\"none\"></path></g></g></g><path class=\"foreground\" aria-hidden=\"true\" d=\"\" display=\"none\"></path></g><g transform=\"translate(510,-1)\"><path class=\"background\" aria-hidden=\"true\" d=\"M0,0h36v0h-36Z\"></path><g><g class=\"mark-group role-title\"><g transform=\"translate(18,-20)\"><path class=\"background\" aria-hidden=\"true\" d=\"M0,0h0v0h0Z\" pointer-events=\"none\"></path><g><g class=\"mark-text role-title-text\" role=\"graphics-symbol\" aria-roledescription=\"title\" aria-label=\"Title text '13'\" pointer-events=\"none\"><text text-anchor=\"middle\" transform=\"translate(0,8)\" font-family=\"sans-serif\" font-size=\"10px\" fill=\"#000\" opacity=\"1\">13</text></g></g><path class=\"foreground\" aria-hidden=\"true\" d=\"\" pointer-events=\"none\" display=\"none\"></path></g></g></g><path class=\"foreground\" aria-hidden=\"true\" d=\"\" display=\"none\"></path></g><g transform=\"translate(552.5,-1)\"><path class=\"background\" aria-hidden=\"true\" d=\"M0,0h36v0h-36Z\"></path><g><g class=\"mark-group role-title\"><g transform=\"translate(18,-20)\"><path class=\"background\" aria-hidden=\"true\" d=\"M0,0h0v0h0Z\" pointer-events=\"none\"></path><g><g class=\"mark-text role-title-text\" role=\"graphics-symbol\" aria-roledescription=\"title\" aria-label=\"Title text '14'\" pointer-events=\"none\"><text text-anchor=\"middle\" transform=\"translate(0,8)\" font-family=\"sans-serif\" font-size=\"10px\" fill=\"#000\" opacity=\"1\">14</text></g></g><path class=\"foreground\" aria-hidden=\"true\" d=\"\" pointer-events=\"none\" display=\"none\"></path></g></g></g><path class=\"foreground\" aria-hidden=\"true\" d=\"\" display=\"none\"></path></g><g transform=\"translate(595,-1)\"><path class=\"background\" aria-hidden=\"true\" d=\"M0,0h36v0h-36Z\"></path><g><g class=\"mark-group role-title\"><g transform=\"translate(18,-20)\"><path class=\"background\" aria-hidden=\"true\" d=\"M0,0h0v0h0Z\" pointer-events=\"none\"></path><g><g class=\"mark-text role-title-text\" role=\"graphics-symbol\" aria-roledescription=\"title\" aria-label=\"Title text '15'\" pointer-events=\"none\"><text text-anchor=\"middle\" transform=\"translate(0,8)\" font-family=\"sans-serif\" font-size=\"10px\" fill=\"#000\" opacity=\"1\">15</text></g></g><path class=\"foreground\" aria-hidden=\"true\" d=\"\" pointer-events=\"none\" display=\"none\"></path></g></g></g><path class=\"foreground\" aria-hidden=\"true\" d=\"\" display=\"none\"></path></g></g><g class=\"mark-group role-column-footer column_footer\" role=\"graphics-object\" aria-roledescription=\"group mark container\"><g transform=\"translate(0,351)\"><path class=\"background\" aria-hidden=\"true\" d=\"M0,0h36v0h-36Z\"></path><g><g class=\"mark-group role-axis\" role=\"graphics-symbol\" aria-roledescription=\"axis\" aria-label=\"X-axis titled ' ' for a discrete scale with 2 values: ats, otc\"><g transform=\"translate(0.5,0.5)\"><path class=\"background\" aria-hidden=\"true\" d=\"M0,0h0v0h0Z\" pointer-events=\"none\"></path><g><g class=\"mark-rule role-axis-tick\" pointer-events=\"none\"><line transform=\"translate(9,0)\" x2=\"0\" y2=\"5\" stroke=\"#888\" stroke-width=\"1\" opacity=\"1\"></line><line transform=\"translate(27,0)\" x2=\"0\" y2=\"5\" stroke=\"#888\" stroke-width=\"1\" opacity=\"1\"></line></g><g class=\"mark-text role-axis-label\" pointer-events=\"none\"><text text-anchor=\"end\" transform=\"translate(8.500000000000002,7) rotate(270) translate(0,3)\" font-family=\"sans-serif\" font-size=\"10px\" fill=\"#000\" opacity=\"1\">ats</text><text text-anchor=\"end\" transform=\"translate(26.5,7) rotate(270) translate(0,3)\" font-family=\"sans-serif\" font-size=\"10px\" fill=\"#000\" opacity=\"1\">otc</text></g><g class=\"mark-rule role-axis-domain\" pointer-events=\"none\"><line transform=\"translate(0,0)\" x2=\"36\" y2=\"0\" stroke=\"#888\" stroke-width=\"3\" opacity=\"1\"></line></g><g class=\"mark-text role-axis-title\" pointer-events=\"none\"><text text-anchor=\"middle\" transform=\"translate(18,36)\" font-family=\"sans-serif\" font-size=\"11px\" font-weight=\"bold\" fill=\"#000\" opacity=\"1\"></text></g></g><path class=\"foreground\" aria-hidden=\"true\" d=\"\" pointer-events=\"none\" display=\"none\"></path></g></g></g><path class=\"foreground\" aria-hidden=\"true\" d=\"\" display=\"none\"></path></g><g transform=\"translate(42.5,351)\"><path class=\"background\" aria-hidden=\"true\" d=\"M0,0h36v0h-36Z\"></path><g><g class=\"mark-group role-axis\" role=\"graphics-symbol\" aria-roledescription=\"axis\" aria-label=\"X-axis titled ' ' for a discrete scale with 2 values: ats, otc\"><g transform=\"translate(0.5,0.5)\"><path class=\"background\" aria-hidden=\"true\" d=\"M0,0h0v0h0Z\" pointer-events=\"none\"></path><g><g class=\"mark-rule role-axis-tick\" pointer-events=\"none\"><line transform=\"translate(9,0)\" x2=\"0\" y2=\"5\" stroke=\"#888\" stroke-width=\"1\" opacity=\"1\"></line><line transform=\"translate(27,0)\" x2=\"0\" y2=\"5\" stroke=\"#888\" stroke-width=\"1\" opacity=\"1\"></line></g><g class=\"mark-text role-axis-label\" pointer-events=\"none\"><text text-anchor=\"end\" transform=\"translate(8.500000000000002,7) rotate(270) translate(0,3)\" font-family=\"sans-serif\" font-size=\"10px\" fill=\"#000\" opacity=\"1\">ats</text><text text-anchor=\"end\" transform=\"translate(26.5,7) rotate(270) translate(0,3)\" font-family=\"sans-serif\" font-size=\"10px\" fill=\"#000\" opacity=\"1\">otc</text></g><g class=\"mark-rule role-axis-domain\" pointer-events=\"none\"><line transform=\"translate(0,0)\" x2=\"36\" y2=\"0\" stroke=\"#888\" stroke-width=\"3\" opacity=\"1\"></line></g><g class=\"mark-text role-axis-title\" pointer-events=\"none\"><text text-anchor=\"middle\" transform=\"translate(18,36)\" font-family=\"sans-serif\" font-size=\"11px\" font-weight=\"bold\" fill=\"#000\" opacity=\"1\"></text></g></g><path class=\"foreground\" aria-hidden=\"true\" d=\"\" pointer-events=\"none\" display=\"none\"></path></g></g></g><path class=\"foreground\" aria-hidden=\"true\" d=\"\" display=\"none\"></path></g><g transform=\"translate(85,351)\"><path class=\"background\" aria-hidden=\"true\" d=\"M0,0h36v0h-36Z\"></path><g><g class=\"mark-group role-axis\" role=\"graphics-symbol\" aria-roledescription=\"axis\" aria-label=\"X-axis titled ' ' for a discrete scale with 2 values: ats, otc\"><g transform=\"translate(0.5,0.5)\"><path class=\"background\" aria-hidden=\"true\" d=\"M0,0h0v0h0Z\" pointer-events=\"none\"></path><g><g class=\"mark-rule role-axis-tick\" pointer-events=\"none\"><line transform=\"translate(9,0)\" x2=\"0\" y2=\"5\" stroke=\"#888\" stroke-width=\"1\" opacity=\"1\"></line><line transform=\"translate(27,0)\" x2=\"0\" y2=\"5\" stroke=\"#888\" stroke-width=\"1\" opacity=\"1\"></line></g><g class=\"mark-text role-axis-label\" pointer-events=\"none\"><text text-anchor=\"end\" transform=\"translate(8.500000000000002,7) rotate(270) translate(0,3)\" font-family=\"sans-serif\" font-size=\"10px\" fill=\"#000\" opacity=\"1\">ats</text><text text-anchor=\"end\" transform=\"translate(26.5,7) rotate(270) translate(0,3)\" font-family=\"sans-serif\" font-size=\"10px\" fill=\"#000\" opacity=\"1\">otc</text></g><g class=\"mark-rule role-axis-domain\" pointer-events=\"none\"><line transform=\"translate(0,0)\" x2=\"36\" y2=\"0\" stroke=\"#888\" stroke-width=\"3\" opacity=\"1\"></line></g><g class=\"mark-text role-axis-title\" pointer-events=\"none\"><text text-anchor=\"middle\" transform=\"translate(18,36)\" font-family=\"sans-serif\" font-size=\"11px\" font-weight=\"bold\" fill=\"#000\" opacity=\"1\"></text></g></g><path class=\"foreground\" aria-hidden=\"true\" d=\"\" pointer-events=\"none\" display=\"none\"></path></g></g></g><path class=\"foreground\" aria-hidden=\"true\" d=\"\" display=\"none\"></path></g><g transform=\"translate(127.5,351)\"><path class=\"background\" aria-hidden=\"true\" d=\"M0,0h36v0h-36Z\"></path><g><g class=\"mark-group role-axis\" role=\"graphics-symbol\" aria-roledescription=\"axis\" aria-label=\"X-axis titled ' ' for a discrete scale with 2 values: ats, otc\"><g transform=\"translate(0.5,0.5)\"><path class=\"background\" aria-hidden=\"true\" d=\"M0,0h0v0h0Z\" pointer-events=\"none\"></path><g><g class=\"mark-rule role-axis-tick\" pointer-events=\"none\"><line transform=\"translate(9,0)\" x2=\"0\" y2=\"5\" stroke=\"#888\" stroke-width=\"1\" opacity=\"1\"></line><line transform=\"translate(27,0)\" x2=\"0\" y2=\"5\" stroke=\"#888\" stroke-width=\"1\" opacity=\"1\"></line></g><g class=\"mark-text role-axis-label\" pointer-events=\"none\"><text text-anchor=\"end\" transform=\"translate(8.500000000000002,7) rotate(270) translate(0,3)\" font-family=\"sans-serif\" font-size=\"10px\" fill=\"#000\" opacity=\"1\">ats</text><text text-anchor=\"end\" transform=\"translate(26.5,7) rotate(270) translate(0,3)\" font-family=\"sans-serif\" font-size=\"10px\" fill=\"#000\" opacity=\"1\">otc</text></g><g class=\"mark-rule role-axis-domain\" pointer-events=\"none\"><line transform=\"translate(0,0)\" x2=\"36\" y2=\"0\" stroke=\"#888\" stroke-width=\"3\" opacity=\"1\"></line></g><g class=\"mark-text role-axis-title\" pointer-events=\"none\"><text text-anchor=\"middle\" transform=\"translate(18,36)\" font-family=\"sans-serif\" font-size=\"11px\" font-weight=\"bold\" fill=\"#000\" opacity=\"1\"></text></g></g><path class=\"foreground\" aria-hidden=\"true\" d=\"\" pointer-events=\"none\" display=\"none\"></path></g></g></g><path class=\"foreground\" aria-hidden=\"true\" d=\"\" display=\"none\"></path></g><g transform=\"translate(170,351)\"><path class=\"background\" aria-hidden=\"true\" d=\"M0,0h36v0h-36Z\"></path><g><g class=\"mark-group role-axis\" role=\"graphics-symbol\" aria-roledescription=\"axis\" aria-label=\"X-axis titled ' ' for a discrete scale with 2 values: ats, otc\"><g transform=\"translate(0.5,0.5)\"><path class=\"background\" aria-hidden=\"true\" d=\"M0,0h0v0h0Z\" pointer-events=\"none\"></path><g><g class=\"mark-rule role-axis-tick\" pointer-events=\"none\"><line transform=\"translate(9,0)\" x2=\"0\" y2=\"5\" stroke=\"#888\" stroke-width=\"1\" opacity=\"1\"></line><line transform=\"translate(27,0)\" x2=\"0\" y2=\"5\" stroke=\"#888\" stroke-width=\"1\" opacity=\"1\"></line></g><g class=\"mark-text role-axis-label\" pointer-events=\"none\"><text text-anchor=\"end\" transform=\"translate(8.500000000000002,7) rotate(270) translate(0,3)\" font-family=\"sans-serif\" font-size=\"10px\" fill=\"#000\" opacity=\"1\">ats</text><text text-anchor=\"end\" transform=\"translate(26.5,7) rotate(270) translate(0,3)\" font-family=\"sans-serif\" font-size=\"10px\" fill=\"#000\" opacity=\"1\">otc</text></g><g class=\"mark-rule role-axis-domain\" pointer-events=\"none\"><line transform=\"translate(0,0)\" x2=\"36\" y2=\"0\" stroke=\"#888\" stroke-width=\"3\" opacity=\"1\"></line></g><g class=\"mark-text role-axis-title\" pointer-events=\"none\"><text text-anchor=\"middle\" transform=\"translate(18,36)\" font-family=\"sans-serif\" font-size=\"11px\" font-weight=\"bold\" fill=\"#000\" opacity=\"1\"></text></g></g><path class=\"foreground\" aria-hidden=\"true\" d=\"\" pointer-events=\"none\" display=\"none\"></path></g></g></g><path class=\"foreground\" aria-hidden=\"true\" d=\"\" display=\"none\"></path></g><g transform=\"translate(212.5,351)\"><path class=\"background\" aria-hidden=\"true\" d=\"M0,0h36v0h-36Z\"></path><g><g class=\"mark-group role-axis\" role=\"graphics-symbol\" aria-roledescription=\"axis\" aria-label=\"X-axis titled ' ' for a discrete scale with 2 values: ats, otc\"><g transform=\"translate(0.5,0.5)\"><path class=\"background\" aria-hidden=\"true\" d=\"M0,0h0v0h0Z\" pointer-events=\"none\"></path><g><g class=\"mark-rule role-axis-tick\" pointer-events=\"none\"><line transform=\"translate(9,0)\" x2=\"0\" y2=\"5\" stroke=\"#888\" stroke-width=\"1\" opacity=\"1\"></line><line transform=\"translate(27,0)\" x2=\"0\" y2=\"5\" stroke=\"#888\" stroke-width=\"1\" opacity=\"1\"></line></g><g class=\"mark-text role-axis-label\" pointer-events=\"none\"><text text-anchor=\"end\" transform=\"translate(8.500000000000002,7) rotate(270) translate(0,3)\" font-family=\"sans-serif\" font-size=\"10px\" fill=\"#000\" opacity=\"1\">ats</text><text text-anchor=\"end\" transform=\"translate(26.5,7) rotate(270) translate(0,3)\" font-family=\"sans-serif\" font-size=\"10px\" fill=\"#000\" opacity=\"1\">otc</text></g><g class=\"mark-rule role-axis-domain\" pointer-events=\"none\"><line transform=\"translate(0,0)\" x2=\"36\" y2=\"0\" stroke=\"#888\" stroke-width=\"3\" opacity=\"1\"></line></g><g class=\"mark-text role-axis-title\" pointer-events=\"none\"><text text-anchor=\"middle\" transform=\"translate(18,36)\" font-family=\"sans-serif\" font-size=\"11px\" font-weight=\"bold\" fill=\"#000\" opacity=\"1\"></text></g></g><path class=\"foreground\" aria-hidden=\"true\" d=\"\" pointer-events=\"none\" display=\"none\"></path></g></g></g><path class=\"foreground\" aria-hidden=\"true\" d=\"\" display=\"none\"></path></g><g transform=\"translate(255,351)\"><path class=\"background\" aria-hidden=\"true\" d=\"M0,0h36v0h-36Z\"></path><g><g class=\"mark-group role-axis\" role=\"graphics-symbol\" aria-roledescription=\"axis\" aria-label=\"X-axis titled ' ' for a discrete scale with 2 values: ats, otc\"><g transform=\"translate(0.5,0.5)\"><path class=\"background\" aria-hidden=\"true\" d=\"M0,0h0v0h0Z\" pointer-events=\"none\"></path><g><g class=\"mark-rule role-axis-tick\" pointer-events=\"none\"><line transform=\"translate(9,0)\" x2=\"0\" y2=\"5\" stroke=\"#888\" stroke-width=\"1\" opacity=\"1\"></line><line transform=\"translate(27,0)\" x2=\"0\" y2=\"5\" stroke=\"#888\" stroke-width=\"1\" opacity=\"1\"></line></g><g class=\"mark-text role-axis-label\" pointer-events=\"none\"><text text-anchor=\"end\" transform=\"translate(8.500000000000002,7) rotate(270) translate(0,3)\" font-family=\"sans-serif\" font-size=\"10px\" fill=\"#000\" opacity=\"1\">ats</text><text text-anchor=\"end\" transform=\"translate(26.5,7) rotate(270) translate(0,3)\" font-family=\"sans-serif\" font-size=\"10px\" fill=\"#000\" opacity=\"1\">otc</text></g><g class=\"mark-rule role-axis-domain\" pointer-events=\"none\"><line transform=\"translate(0,0)\" x2=\"36\" y2=\"0\" stroke=\"#888\" stroke-width=\"3\" opacity=\"1\"></line></g><g class=\"mark-text role-axis-title\" pointer-events=\"none\"><text text-anchor=\"middle\" transform=\"translate(18,36)\" font-family=\"sans-serif\" font-size=\"11px\" font-weight=\"bold\" fill=\"#000\" opacity=\"1\"></text></g></g><path class=\"foreground\" aria-hidden=\"true\" d=\"\" pointer-events=\"none\" display=\"none\"></path></g></g></g><path class=\"foreground\" aria-hidden=\"true\" d=\"\" display=\"none\"></path></g><g transform=\"translate(297.5,351)\"><path class=\"background\" aria-hidden=\"true\" d=\"M0,0h36v0h-36Z\"></path><g><g class=\"mark-group role-axis\" role=\"graphics-symbol\" aria-roledescription=\"axis\" aria-label=\"X-axis titled ' ' for a discrete scale with 2 values: ats, otc\"><g transform=\"translate(0.5,0.5)\"><path class=\"background\" aria-hidden=\"true\" d=\"M0,0h0v0h0Z\" pointer-events=\"none\"></path><g><g class=\"mark-rule role-axis-tick\" pointer-events=\"none\"><line transform=\"translate(9,0)\" x2=\"0\" y2=\"5\" stroke=\"#888\" stroke-width=\"1\" opacity=\"1\"></line><line transform=\"translate(27,0)\" x2=\"0\" y2=\"5\" stroke=\"#888\" stroke-width=\"1\" opacity=\"1\"></line></g><g class=\"mark-text role-axis-label\" pointer-events=\"none\"><text text-anchor=\"end\" transform=\"translate(8.500000000000002,7) rotate(270) translate(0,3)\" font-family=\"sans-serif\" font-size=\"10px\" fill=\"#000\" opacity=\"1\">ats</text><text text-anchor=\"end\" transform=\"translate(26.5,7) rotate(270) translate(0,3)\" font-family=\"sans-serif\" font-size=\"10px\" fill=\"#000\" opacity=\"1\">otc</text></g><g class=\"mark-rule role-axis-domain\" pointer-events=\"none\"><line transform=\"translate(0,0)\" x2=\"36\" y2=\"0\" stroke=\"#888\" stroke-width=\"3\" opacity=\"1\"></line></g><g class=\"mark-text role-axis-title\" pointer-events=\"none\"><text text-anchor=\"middle\" transform=\"translate(18,36)\" font-family=\"sans-serif\" font-size=\"11px\" font-weight=\"bold\" fill=\"#000\" opacity=\"1\"></text></g></g><path class=\"foreground\" aria-hidden=\"true\" d=\"\" pointer-events=\"none\" display=\"none\"></path></g></g></g><path class=\"foreground\" aria-hidden=\"true\" d=\"\" display=\"none\"></path></g><g transform=\"translate(340,351)\"><path class=\"background\" aria-hidden=\"true\" d=\"M0,0h36v0h-36Z\"></path><g><g class=\"mark-group role-axis\" role=\"graphics-symbol\" aria-roledescription=\"axis\" aria-label=\"X-axis titled ' ' for a discrete scale with 2 values: ats, otc\"><g transform=\"translate(0.5,0.5)\"><path class=\"background\" aria-hidden=\"true\" d=\"M0,0h0v0h0Z\" pointer-events=\"none\"></path><g><g class=\"mark-rule role-axis-tick\" pointer-events=\"none\"><line transform=\"translate(9,0)\" x2=\"0\" y2=\"5\" stroke=\"#888\" stroke-width=\"1\" opacity=\"1\"></line><line transform=\"translate(27,0)\" x2=\"0\" y2=\"5\" stroke=\"#888\" stroke-width=\"1\" opacity=\"1\"></line></g><g class=\"mark-text role-axis-label\" pointer-events=\"none\"><text text-anchor=\"end\" transform=\"translate(8.500000000000002,7) rotate(270) translate(0,3)\" font-family=\"sans-serif\" font-size=\"10px\" fill=\"#000\" opacity=\"1\">ats</text><text text-anchor=\"end\" transform=\"translate(26.5,7) rotate(270) translate(0,3)\" font-family=\"sans-serif\" font-size=\"10px\" fill=\"#000\" opacity=\"1\">otc</text></g><g class=\"mark-rule role-axis-domain\" pointer-events=\"none\"><line transform=\"translate(0,0)\" x2=\"36\" y2=\"0\" stroke=\"#888\" stroke-width=\"3\" opacity=\"1\"></line></g><g class=\"mark-text role-axis-title\" pointer-events=\"none\"><text text-anchor=\"middle\" transform=\"translate(18,36)\" font-family=\"sans-serif\" font-size=\"11px\" font-weight=\"bold\" fill=\"#000\" opacity=\"1\"></text></g></g><path class=\"foreground\" aria-hidden=\"true\" d=\"\" pointer-events=\"none\" display=\"none\"></path></g></g></g><path class=\"foreground\" aria-hidden=\"true\" d=\"\" display=\"none\"></path></g><g transform=\"translate(382.5,351)\"><path class=\"background\" aria-hidden=\"true\" d=\"M0,0h36v0h-36Z\"></path><g><g class=\"mark-group role-axis\" role=\"graphics-symbol\" aria-roledescription=\"axis\" aria-label=\"X-axis titled ' ' for a discrete scale with 2 values: ats, otc\"><g transform=\"translate(0.5,0.5)\"><path class=\"background\" aria-hidden=\"true\" d=\"M0,0h0v0h0Z\" pointer-events=\"none\"></path><g><g class=\"mark-rule role-axis-tick\" pointer-events=\"none\"><line transform=\"translate(9,0)\" x2=\"0\" y2=\"5\" stroke=\"#888\" stroke-width=\"1\" opacity=\"1\"></line><line transform=\"translate(27,0)\" x2=\"0\" y2=\"5\" stroke=\"#888\" stroke-width=\"1\" opacity=\"1\"></line></g><g class=\"mark-text role-axis-label\" pointer-events=\"none\"><text text-anchor=\"end\" transform=\"translate(8.500000000000002,7) rotate(270) translate(0,3)\" font-family=\"sans-serif\" font-size=\"10px\" fill=\"#000\" opacity=\"1\">ats</text><text text-anchor=\"end\" transform=\"translate(26.5,7) rotate(270) translate(0,3)\" font-family=\"sans-serif\" font-size=\"10px\" fill=\"#000\" opacity=\"1\">otc</text></g><g class=\"mark-rule role-axis-domain\" pointer-events=\"none\"><line transform=\"translate(0,0)\" x2=\"36\" y2=\"0\" stroke=\"#888\" stroke-width=\"3\" opacity=\"1\"></line></g><g class=\"mark-text role-axis-title\" pointer-events=\"none\"><text text-anchor=\"middle\" transform=\"translate(18,36)\" font-family=\"sans-serif\" font-size=\"11px\" font-weight=\"bold\" fill=\"#000\" opacity=\"1\"></text></g></g><path class=\"foreground\" aria-hidden=\"true\" d=\"\" pointer-events=\"none\" display=\"none\"></path></g></g></g><path class=\"foreground\" aria-hidden=\"true\" d=\"\" display=\"none\"></path></g><g transform=\"translate(425,351)\"><path class=\"background\" aria-hidden=\"true\" d=\"M0,0h36v0h-36Z\"></path><g><g class=\"mark-group role-axis\" role=\"graphics-symbol\" aria-roledescription=\"axis\" aria-label=\"X-axis titled ' ' for a discrete scale with 2 values: ats, otc\"><g transform=\"translate(0.5,0.5)\"><path class=\"background\" aria-hidden=\"true\" d=\"M0,0h0v0h0Z\" pointer-events=\"none\"></path><g><g class=\"mark-rule role-axis-tick\" pointer-events=\"none\"><line transform=\"translate(9,0)\" x2=\"0\" y2=\"5\" stroke=\"#888\" stroke-width=\"1\" opacity=\"1\"></line><line transform=\"translate(27,0)\" x2=\"0\" y2=\"5\" stroke=\"#888\" stroke-width=\"1\" opacity=\"1\"></line></g><g class=\"mark-text role-axis-label\" pointer-events=\"none\"><text text-anchor=\"end\" transform=\"translate(8.500000000000002,7) rotate(270) translate(0,3)\" font-family=\"sans-serif\" font-size=\"10px\" fill=\"#000\" opacity=\"1\">ats</text><text text-anchor=\"end\" transform=\"translate(26.5,7) rotate(270) translate(0,3)\" font-family=\"sans-serif\" font-size=\"10px\" fill=\"#000\" opacity=\"1\">otc</text></g><g class=\"mark-rule role-axis-domain\" pointer-events=\"none\"><line transform=\"translate(0,0)\" x2=\"36\" y2=\"0\" stroke=\"#888\" stroke-width=\"3\" opacity=\"1\"></line></g><g class=\"mark-text role-axis-title\" pointer-events=\"none\"><text text-anchor=\"middle\" transform=\"translate(18,36)\" font-family=\"sans-serif\" font-size=\"11px\" font-weight=\"bold\" fill=\"#000\" opacity=\"1\"></text></g></g><path class=\"foreground\" aria-hidden=\"true\" d=\"\" pointer-events=\"none\" display=\"none\"></path></g></g></g><path class=\"foreground\" aria-hidden=\"true\" d=\"\" display=\"none\"></path></g><g transform=\"translate(467.5,351)\"><path class=\"background\" aria-hidden=\"true\" d=\"M0,0h36v0h-36Z\"></path><g><g class=\"mark-group role-axis\" role=\"graphics-symbol\" aria-roledescription=\"axis\" aria-label=\"X-axis titled ' ' for a discrete scale with 2 values: ats, otc\"><g transform=\"translate(0.5,0.5)\"><path class=\"background\" aria-hidden=\"true\" d=\"M0,0h0v0h0Z\" pointer-events=\"none\"></path><g><g class=\"mark-rule role-axis-tick\" pointer-events=\"none\"><line transform=\"translate(9,0)\" x2=\"0\" y2=\"5\" stroke=\"#888\" stroke-width=\"1\" opacity=\"1\"></line><line transform=\"translate(27,0)\" x2=\"0\" y2=\"5\" stroke=\"#888\" stroke-width=\"1\" opacity=\"1\"></line></g><g class=\"mark-text role-axis-label\" pointer-events=\"none\"><text text-anchor=\"end\" transform=\"translate(8.500000000000002,7) rotate(270) translate(0,3)\" font-family=\"sans-serif\" font-size=\"10px\" fill=\"#000\" opacity=\"1\">ats</text><text text-anchor=\"end\" transform=\"translate(26.5,7) rotate(270) translate(0,3)\" font-family=\"sans-serif\" font-size=\"10px\" fill=\"#000\" opacity=\"1\">otc</text></g><g class=\"mark-rule role-axis-domain\" pointer-events=\"none\"><line transform=\"translate(0,0)\" x2=\"36\" y2=\"0\" stroke=\"#888\" stroke-width=\"3\" opacity=\"1\"></line></g><g class=\"mark-text role-axis-title\" pointer-events=\"none\"><text text-anchor=\"middle\" transform=\"translate(18,36)\" font-family=\"sans-serif\" font-size=\"11px\" font-weight=\"bold\" fill=\"#000\" opacity=\"1\"></text></g></g><path class=\"foreground\" aria-hidden=\"true\" d=\"\" pointer-events=\"none\" display=\"none\"></path></g></g></g><path class=\"foreground\" aria-hidden=\"true\" d=\"\" display=\"none\"></path></g><g transform=\"translate(510,351)\"><path class=\"background\" aria-hidden=\"true\" d=\"M0,0h36v0h-36Z\"></path><g><g class=\"mark-group role-axis\" role=\"graphics-symbol\" aria-roledescription=\"axis\" aria-label=\"X-axis titled ' ' for a discrete scale with 2 values: ats, otc\"><g transform=\"translate(0.5,0.5)\"><path class=\"background\" aria-hidden=\"true\" d=\"M0,0h0v0h0Z\" pointer-events=\"none\"></path><g><g class=\"mark-rule role-axis-tick\" pointer-events=\"none\"><line transform=\"translate(9,0)\" x2=\"0\" y2=\"5\" stroke=\"#888\" stroke-width=\"1\" opacity=\"1\"></line><line transform=\"translate(27,0)\" x2=\"0\" y2=\"5\" stroke=\"#888\" stroke-width=\"1\" opacity=\"1\"></line></g><g class=\"mark-text role-axis-label\" pointer-events=\"none\"><text text-anchor=\"end\" transform=\"translate(8.500000000000002,7) rotate(270) translate(0,3)\" font-family=\"sans-serif\" font-size=\"10px\" fill=\"#000\" opacity=\"1\">ats</text><text text-anchor=\"end\" transform=\"translate(26.5,7) rotate(270) translate(0,3)\" font-family=\"sans-serif\" font-size=\"10px\" fill=\"#000\" opacity=\"1\">otc</text></g><g class=\"mark-rule role-axis-domain\" pointer-events=\"none\"><line transform=\"translate(0,0)\" x2=\"36\" y2=\"0\" stroke=\"#888\" stroke-width=\"3\" opacity=\"1\"></line></g><g class=\"mark-text role-axis-title\" pointer-events=\"none\"><text text-anchor=\"middle\" transform=\"translate(18,36)\" font-family=\"sans-serif\" font-size=\"11px\" font-weight=\"bold\" fill=\"#000\" opacity=\"1\"></text></g></g><path class=\"foreground\" aria-hidden=\"true\" d=\"\" pointer-events=\"none\" display=\"none\"></path></g></g></g><path class=\"foreground\" aria-hidden=\"true\" d=\"\" display=\"none\"></path></g><g transform=\"translate(552.5,351)\"><path class=\"background\" aria-hidden=\"true\" d=\"M0,0h36v0h-36Z\"></path><g><g class=\"mark-group role-axis\" role=\"graphics-symbol\" aria-roledescription=\"axis\" aria-label=\"X-axis titled ' ' for a discrete scale with 2 values: ats, otc\"><g transform=\"translate(0.5,0.5)\"><path class=\"background\" aria-hidden=\"true\" d=\"M0,0h0v0h0Z\" pointer-events=\"none\"></path><g><g class=\"mark-rule role-axis-tick\" pointer-events=\"none\"><line transform=\"translate(9,0)\" x2=\"0\" y2=\"5\" stroke=\"#888\" stroke-width=\"1\" opacity=\"1\"></line><line transform=\"translate(27,0)\" x2=\"0\" y2=\"5\" stroke=\"#888\" stroke-width=\"1\" opacity=\"1\"></line></g><g class=\"mark-text role-axis-label\" pointer-events=\"none\"><text text-anchor=\"end\" transform=\"translate(8.500000000000002,7) rotate(270) translate(0,3)\" font-family=\"sans-serif\" font-size=\"10px\" fill=\"#000\" opacity=\"1\">ats</text><text text-anchor=\"end\" transform=\"translate(26.5,7) rotate(270) translate(0,3)\" font-family=\"sans-serif\" font-size=\"10px\" fill=\"#000\" opacity=\"1\">otc</text></g><g class=\"mark-rule role-axis-domain\" pointer-events=\"none\"><line transform=\"translate(0,0)\" x2=\"36\" y2=\"0\" stroke=\"#888\" stroke-width=\"3\" opacity=\"1\"></line></g><g class=\"mark-text role-axis-title\" pointer-events=\"none\"><text text-anchor=\"middle\" transform=\"translate(18,36)\" font-family=\"sans-serif\" font-size=\"11px\" font-weight=\"bold\" fill=\"#000\" opacity=\"1\"></text></g></g><path class=\"foreground\" aria-hidden=\"true\" d=\"\" pointer-events=\"none\" display=\"none\"></path></g></g></g><path class=\"foreground\" aria-hidden=\"true\" d=\"\" display=\"none\"></path></g><g transform=\"translate(595,351)\"><path class=\"background\" aria-hidden=\"true\" d=\"M0,0h36v0h-36Z\"></path><g><g class=\"mark-group role-axis\" role=\"graphics-symbol\" aria-roledescription=\"axis\" aria-label=\"X-axis titled ' ' for a discrete scale with 2 values: ats, otc\"><g transform=\"translate(0.5,0.5)\"><path class=\"background\" aria-hidden=\"true\" d=\"M0,0h0v0h0Z\" pointer-events=\"none\"></path><g><g class=\"mark-rule role-axis-tick\" pointer-events=\"none\"><line transform=\"translate(9,0)\" x2=\"0\" y2=\"5\" stroke=\"#888\" stroke-width=\"1\" opacity=\"1\"></line><line transform=\"translate(27,0)\" x2=\"0\" y2=\"5\" stroke=\"#888\" stroke-width=\"1\" opacity=\"1\"></line></g><g class=\"mark-text role-axis-label\" pointer-events=\"none\"><text text-anchor=\"end\" transform=\"translate(8.500000000000002,7) rotate(270) translate(0,3)\" font-family=\"sans-serif\" font-size=\"10px\" fill=\"#000\" opacity=\"1\">ats</text><text text-anchor=\"end\" transform=\"translate(26.5,7) rotate(270) translate(0,3)\" font-family=\"sans-serif\" font-size=\"10px\" fill=\"#000\" opacity=\"1\">otc</text></g><g class=\"mark-rule role-axis-domain\" pointer-events=\"none\"><line transform=\"translate(0,0)\" x2=\"36\" y2=\"0\" stroke=\"#888\" stroke-width=\"3\" opacity=\"1\"></line></g><g class=\"mark-text role-axis-title\" pointer-events=\"none\"><text text-anchor=\"middle\" transform=\"translate(18,36)\" font-family=\"sans-serif\" font-size=\"11px\" font-weight=\"bold\" fill=\"#000\" opacity=\"1\"></text></g></g><path class=\"foreground\" aria-hidden=\"true\" d=\"\" pointer-events=\"none\" display=\"none\"></path></g></g></g><path class=\"foreground\" aria-hidden=\"true\" d=\"\" display=\"none\"></path></g></g><g class=\"mark-group role-scope cell\" role=\"graphics-object\" aria-roledescription=\"group mark container\"><g transform=\"translate(0,0)\"><path class=\"background\" aria-hidden=\"true\" d=\"M0.5,0.5h36v350h-36Z\"></path><g><g class=\"mark-rect role-mark child_marks\" role=\"graphics-object\" aria-roledescription=\"rect mark container\"><path aria-label=\"% of Total Number of Issuers: 13.6182902584;  : otc; Secondary Market: otc\" role=\"graphics-symbol\" aria-roledescription=\"bar\" d=\"M18.900000000000002,302.3359840954274h16.2v47.66401590457258h-16.2Z\" fill=\"rgb(53, 183, 121)\"></path><path aria-label=\"% of Total Number of Issuers: 13.3200795229;  : ats; Secondary Market: ats\" role=\"graphics-symbol\" aria-roledescription=\"bar\" d=\"M0.9000000000000021,303.3797216699801h16.2v46.620278330019914h-16.2Z\" fill=\"rgb(49, 104, 142)\"></path></g></g><path class=\"foreground\" aria-hidden=\"true\" d=\"\" display=\"none\"></path></g><g transform=\"translate(42.5,0)\"><path class=\"background\" aria-hidden=\"true\" d=\"M0.5,0.5h36v350h-36Z\"></path><g><g class=\"mark-rect role-mark child_marks\" role=\"graphics-object\" aria-roledescription=\"rect mark container\"><path aria-label=\"% of Total Number of Issuers: 77.5844930417;  : otc; Secondary Market: otc\" role=\"graphics-symbol\" aria-roledescription=\"bar\" d=\"M18.900000000000002,78.45427435387678h16.2v271.54572564612323h-16.2Z\" fill=\"rgb(53, 183, 121)\"></path><path aria-label=\"% of Total Number of Issuers: 75.745526839;  : ats; Secondary Market: ats\" role=\"graphics-symbol\" aria-roledescription=\"bar\" d=\"M0.9000000000000021,84.89065606361828h16.2v265.1093439363817h-16.2Z\" fill=\"rgb(49, 104, 142)\"></path></g></g><path class=\"foreground\" aria-hidden=\"true\" d=\"\" display=\"none\"></path></g><g transform=\"translate(85,0)\"><path class=\"background\" aria-hidden=\"true\" d=\"M0.5,0.5h36v350h-36Z\"></path><g><g class=\"mark-rect role-mark child_marks\" role=\"graphics-object\" aria-roledescription=\"rect mark container\"><path aria-label=\"% of Total Number of Issuers: 1.09343936382;  : otc; Secondary Market: otc\" role=\"graphics-symbol\" aria-roledescription=\"bar\" d=\"M18.900000000000002,346.17296222664015h16.2v3.827037773359848h-16.2Z\" fill=\"rgb(53, 183, 121)\"></path><path aria-label=\"% of Total Number of Issuers: 1.09343936382;  : ats; Secondary Market: ats\" role=\"graphics-symbol\" aria-roledescription=\"bar\" d=\"M0.9000000000000021,346.17296222664015h16.2v3.827037773359848h-16.2Z\" fill=\"rgb(49, 104, 142)\"></path></g></g><path class=\"foreground\" aria-hidden=\"true\" d=\"\" display=\"none\"></path></g><g transform=\"translate(127.5,0)\"><path class=\"background\" aria-hidden=\"true\" d=\"M0.5,0.5h36v350h-36Z\"></path><g><g class=\"mark-rect role-mark child_marks\" role=\"graphics-object\" aria-roledescription=\"rect mark container\"><path aria-label=\"% of Total Number of Issuers: 1.98807157058;  : otc; Secondary Market: otc\" role=\"graphics-symbol\" aria-roledescription=\"bar\" d=\"M18.900000000000002,343.0417495029821h16.2v6.9582504970179h-16.2Z\" fill=\"rgb(53, 183, 121)\"></path><path aria-label=\"% of Total Number of Issuers: 1.93836978131;  : ats; Secondary Market: ats\" role=\"graphics-symbol\" aria-roledescription=\"bar\" d=\"M0.9000000000000021,343.21570576540756h16.2v6.784294234592437h-16.2Z\" fill=\"rgb(49, 104, 142)\"></path></g></g><path class=\"foreground\" aria-hidden=\"true\" d=\"\" display=\"none\"></path></g><g transform=\"translate(170,0)\"><path class=\"background\" aria-hidden=\"true\" d=\"M0.5,0.5h36v350h-36Z\"></path><g><g class=\"mark-rect role-mark child_marks\" role=\"graphics-object\" aria-roledescription=\"rect mark container\"><path aria-label=\"% of Total Number of Issuers: 0.347912524851;  : otc; Secondary Market: otc\" role=\"graphics-symbol\" aria-roledescription=\"bar\" d=\"M18.900000000000002,348.7823061630219h16.2v1.2176938369781283h-16.2Z\" fill=\"rgb(53, 183, 121)\"></path><path aria-label=\"% of Total Number of Issuers: 0.298210735586;  : ats; Secondary Market: ats\" role=\"graphics-symbol\" aria-roledescription=\"bar\" d=\"M0.9000000000000021,348.95626242544733h16.2v1.0437375745526651h-16.2Z\" fill=\"rgb(49, 104, 142)\"></path></g></g><path class=\"foreground\" aria-hidden=\"true\" d=\"\" display=\"none\"></path></g><g transform=\"translate(212.5,0)\"><path class=\"background\" aria-hidden=\"true\" d=\"M0.5,0.5h36v350h-36Z\"></path><g><g class=\"mark-rect role-mark child_marks\" role=\"graphics-object\" aria-roledescription=\"rect mark container\"><path aria-label=\"% of Total Number of Issuers: 64.8608349901;  : otc; Secondary Market: otc\" role=\"graphics-symbol\" aria-roledescription=\"bar\" d=\"M18.900000000000002,122.98707753479124h16.2v227.01292246520876h-16.2Z\" fill=\"rgb(53, 183, 121)\"></path><path aria-label=\"% of Total Number of Issuers: 63.3697813121;  : ats; Secondary Market: ats\" role=\"graphics-symbol\" aria-roledescription=\"bar\" d=\"M0.9000000000000021,128.20576540755468h16.2v221.79423459244532h-16.2Z\" fill=\"rgb(49, 104, 142)\"></path></g></g><path class=\"foreground\" aria-hidden=\"true\" d=\"\" display=\"none\"></path></g><g transform=\"translate(255,0)\"><path class=\"background\" aria-hidden=\"true\" d=\"M0.5,0.5h36v350h-36Z\"></path><g><g class=\"mark-rect role-mark child_marks\" role=\"graphics-object\" aria-roledescription=\"rect mark container\"><path aria-label=\"% of Total Number of Issuers: 96.2723658052;  : otc; Secondary Market: otc\" role=\"graphics-symbol\" aria-roledescription=\"bar\" d=\"M18.900000000000002,13.046719681908531h16.2v336.95328031809146h-16.2Z\" fill=\"rgb(53, 183, 121)\"></path><path aria-label=\"% of Total Number of Issuers: 90.606361829;  : ats; Secondary Market: ats\" role=\"graphics-symbol\" aria-roledescription=\"bar\" d=\"M0.9000000000000021,32.87773359840956h16.2v317.1222664015904h-16.2Z\" fill=\"rgb(49, 104, 142)\"></path></g></g><path class=\"foreground\" aria-hidden=\"true\" d=\"\" display=\"none\"></path></g><g transform=\"translate(297.5,0)\"><path class=\"background\" aria-hidden=\"true\" d=\"M0.5,0.5h36v350h-36Z\"></path><g><g class=\"mark-rect role-mark child_marks\" role=\"graphics-object\" aria-roledescription=\"rect mark container\"><path aria-label=\"% of Total Number of Issuers: 38.6182902584;  : otc; Secondary Market: otc\" role=\"graphics-symbol\" aria-roledescription=\"bar\" d=\"M18.900000000000002,214.83598409542742h16.2v135.16401590457258h-16.2Z\" fill=\"rgb(53, 183, 121)\"></path><path aria-label=\"% of Total Number of Issuers: 38.1212723658;  : ats; Secondary Market: ats\" role=\"graphics-symbol\" aria-roledescription=\"bar\" d=\"M0.9000000000000021,216.5755467196819h16.2v133.4244532803181h-16.2Z\" fill=\"rgb(49, 104, 142)\"></path></g></g><path class=\"foreground\" aria-hidden=\"true\" d=\"\" display=\"none\"></path></g><g transform=\"translate(340,0)\"><path class=\"background\" aria-hidden=\"true\" d=\"M0.5,0.5h36v350h-36Z\"></path><g><g class=\"mark-rect role-mark child_marks\" role=\"graphics-object\" aria-roledescription=\"rect mark container\"><path aria-label=\"% of Total Number of Issuers: 10.2882703777;  : otc; Secondary Market: otc\" role=\"graphics-symbol\" aria-roledescription=\"bar\" d=\"M18.900000000000002,313.9910536779324h16.2v36.00894632206757h-16.2Z\" fill=\"rgb(53, 183, 121)\"></path><path aria-label=\"% of Total Number of Issuers: 10.1888667992;  : ats; Secondary Market: ats\" role=\"graphics-symbol\" aria-roledescription=\"bar\" d=\"M0.9000000000000021,314.3389662027833h16.2v35.6610337972167h-16.2Z\" fill=\"rgb(49, 104, 142)\"></path></g></g><path class=\"foreground\" aria-hidden=\"true\" d=\"\" display=\"none\"></path></g><g transform=\"translate(382.5,0)\"><path class=\"background\" aria-hidden=\"true\" d=\"M0.5,0.5h36v350h-36Z\"></path><g><g class=\"mark-rect role-mark child_marks\" role=\"graphics-object\" aria-roledescription=\"rect mark container\"><path aria-label=\"% of Total Number of Issuers: 2.58449304175;  : otc; Secondary Market: otc\" role=\"graphics-symbol\" aria-roledescription=\"bar\" d=\"M18.900000000000002,340.9542743538767h16.2v9.045725646123287h-16.2Z\" fill=\"rgb(53, 183, 121)\"></path><path aria-label=\"% of Total Number of Issuers: 2.53479125249;  : ats; Secondary Market: ats\" role=\"graphics-symbol\" aria-roledescription=\"bar\" d=\"M0.9000000000000021,341.1282306163022h16.2v8.871769383697824h-16.2Z\" fill=\"rgb(49, 104, 142)\"></path></g></g><path class=\"foreground\" aria-hidden=\"true\" d=\"\" display=\"none\"></path></g><g transform=\"translate(425,0)\"><path class=\"background\" aria-hidden=\"true\" d=\"M0.5,0.5h36v350h-36Z\"></path><g><g class=\"mark-rect role-mark child_marks\" role=\"graphics-object\" aria-roledescription=\"rect mark container\"><path aria-label=\"% of Total Number of Issuers: 85.4870775348;  : otc; Secondary Market: otc\" role=\"graphics-symbol\" aria-roledescription=\"bar\" d=\"M18.900000000000002,50.7952286282306h16.2v299.2047713717694h-16.2Z\" fill=\"rgb(53, 183, 121)\"></path><path aria-label=\"% of Total Number of Issuers: 80.7654075547;  : ats; Secondary Market: ats\" role=\"graphics-symbol\" aria-roledescription=\"bar\" d=\"M0.9000000000000021,67.32107355864812h16.2v282.6789264413519h-16.2Z\" fill=\"rgb(49, 104, 142)\"></path></g></g><path class=\"foreground\" aria-hidden=\"true\" d=\"\" display=\"none\"></path></g><g transform=\"translate(467.5,0)\"><path class=\"background\" aria-hidden=\"true\" d=\"M0.5,0.5h36v350h-36Z\"></path><g><g class=\"mark-rect role-mark child_marks\" role=\"graphics-object\" aria-roledescription=\"rect mark container\"><path aria-label=\"% of Total Number of Issuers: 51.9383697813;  : otc; Secondary Market: otc\" role=\"graphics-symbol\" aria-roledescription=\"bar\" d=\"M18.900000000000002,168.21570576540753h16.2v181.78429423459247h-16.2Z\" fill=\"rgb(53, 183, 121)\"></path><path aria-label=\"% of Total Number of Issuers: 48.9562624254;  : ats; Secondary Market: ats\" role=\"graphics-symbol\" aria-roledescription=\"bar\" d=\"M0.9000000000000021,178.65308151093444h16.2v171.34691848906556h-16.2Z\" fill=\"rgb(49, 104, 142)\"></path></g></g><path class=\"foreground\" aria-hidden=\"true\" d=\"\" display=\"none\"></path></g><g transform=\"translate(510,0)\"><path class=\"background\" aria-hidden=\"true\" d=\"M0.5,0.5h36v350h-36Z\"></path><g><g class=\"mark-rect role-mark child_marks\" role=\"graphics-object\" aria-roledescription=\"rect mark container\"><path aria-label=\"% of Total Number of Issuers: 86.282306163;  : otc; Secondary Market: otc\" role=\"graphics-symbol\" aria-roledescription=\"bar\" d=\"M18.900000000000002,48.01192842942345h16.2v301.98807157057655h-16.2Z\" fill=\"rgb(53, 183, 121)\"></path><path aria-label=\"% of Total Number of Issuers: 81.958250497;  : ats; Secondary Market: ats\" role=\"graphics-symbol\" aria-roledescription=\"bar\" d=\"M0.9000000000000021,63.14612326043741h16.2v286.85387673956257h-16.2Z\" fill=\"rgb(49, 104, 142)\"></path></g></g><path class=\"foreground\" aria-hidden=\"true\" d=\"\" display=\"none\"></path></g><g transform=\"translate(552.5,0)\"><path class=\"background\" aria-hidden=\"true\" d=\"M0.5,0.5h36v350h-36Z\"></path><g><g class=\"mark-rect role-mark child_marks\" role=\"graphics-object\" aria-roledescription=\"rect mark container\"><path aria-label=\"% of Total Number of Issuers: 15.6560636183;  : otc; Secondary Market: otc\" role=\"graphics-symbol\" aria-roledescription=\"bar\" d=\"M18.900000000000002,295.2037773359841h16.2v54.796222664015886h-16.2Z\" fill=\"rgb(53, 183, 121)\"></path><path aria-label=\"% of Total Number of Issuers: 15.2584493042;  : ats; Secondary Market: ats\" role=\"graphics-symbol\" aria-roledescription=\"bar\" d=\"M0.9000000000000021,296.5954274353877h16.2v53.404572564612295h-16.2Z\" fill=\"rgb(49, 104, 142)\"></path></g></g><path class=\"foreground\" aria-hidden=\"true\" d=\"\" display=\"none\"></path></g><g transform=\"translate(595,0)\"><path class=\"background\" aria-hidden=\"true\" d=\"M0.5,0.5h36v350h-36Z\"></path><g><g class=\"mark-rect role-mark child_marks\" role=\"graphics-object\" aria-roledescription=\"rect mark container\"><path aria-label=\"% of Total Number of Issuers: 85.6361829026;  : otc; Secondary Market: otc\" role=\"graphics-symbol\" aria-roledescription=\"bar\" d=\"M18.900000000000002,50.273359840954285h16.2v299.7266401590457h-16.2Z\" fill=\"rgb(53, 183, 121)\"></path><path aria-label=\"% of Total Number of Issuers: 81.3121272366;  : ats; Secondary Market: ats\" role=\"graphics-symbol\" aria-roledescription=\"bar\" d=\"M0.9000000000000021,65.40755467196821h16.2v284.5924453280318h-16.2Z\" fill=\"rgb(49, 104, 142)\"></path></g></g><path class=\"foreground\" aria-hidden=\"true\" d=\"\" display=\"none\"></path></g></g><g class=\"mark-group role-legend\" role=\"graphics-symbol\" aria-roledescription=\"legend\" aria-label=\"Symbol legend titled 'Secondary Market' for fill color with 2 values: ats, otc\"><g transform=\"translate(650,0)\"><path class=\"background\" aria-hidden=\"true\" d=\"M0,0h111v40h-111Z\" pointer-events=\"none\"></path><g><g class=\"mark-group role-legend-entry\"><g transform=\"translate(0,16)\"><path class=\"background\" aria-hidden=\"true\" d=\"M0,0h0v0h0Z\" pointer-events=\"none\"></path><g><g class=\"mark-group role-scope\" role=\"graphics-object\" aria-roledescription=\"group mark container\"><g transform=\"translate(0,0)\"><path class=\"background\" aria-hidden=\"true\" d=\"M0,0h32v11h-32Z\" pointer-events=\"none\" opacity=\"1\"></path><g><g class=\"mark-symbol role-legend-symbol\" pointer-events=\"none\"><path transform=\"translate(6,6)\" d=\"M-5,-5h10v10h-10Z\" fill=\"rgb(49, 104, 142)\" stroke-width=\"1.5\" opacity=\"1\"></path></g><g class=\"mark-text role-legend-label\" pointer-events=\"none\"><text text-anchor=\"start\" transform=\"translate(16,9)\" font-family=\"sans-serif\" font-size=\"10px\" fill=\"#000\" opacity=\"1\">ats</text></g></g><path class=\"foreground\" aria-hidden=\"true\" d=\"\" pointer-events=\"none\" display=\"none\"></path></g><g transform=\"translate(0,13)\"><path class=\"background\" aria-hidden=\"true\" d=\"M0,0h32v11h-32Z\" pointer-events=\"none\" opacity=\"1\"></path><g><g class=\"mark-symbol role-legend-symbol\" pointer-events=\"none\"><path transform=\"translate(6,6)\" d=\"M-5,-5h10v10h-10Z\" fill=\"rgb(53, 183, 121)\" stroke-width=\"1.5\" opacity=\"1\"></path></g><g class=\"mark-text role-legend-label\" pointer-events=\"none\"><text text-anchor=\"start\" transform=\"translate(16,9)\" font-family=\"sans-serif\" font-size=\"10px\" fill=\"#000\" opacity=\"1\">otc</text></g></g><path class=\"foreground\" aria-hidden=\"true\" d=\"\" pointer-events=\"none\" display=\"none\"></path></g></g></g><path class=\"foreground\" aria-hidden=\"true\" d=\"\" pointer-events=\"none\" display=\"none\"></path></g></g><g class=\"mark-text role-legend-title\" pointer-events=\"none\"><text text-anchor=\"start\" transform=\"translate(0,9)\" font-family=\"sans-serif\" font-size=\"11px\" font-weight=\"bold\" fill=\"#000\" opacity=\"1\">Secondary Market</text></g></g><path class=\"foreground\" aria-hidden=\"true\" d=\"\" pointer-events=\"none\" display=\"none\"></path></g></g><g class=\"mark-group role-title\"><g transform=\"translate(360,-102)\"><path class=\"background\" aria-hidden=\"true\" d=\"M0,0h0v0h0Z\" pointer-events=\"none\"></path><g><g class=\"mark-text role-title-text\" role=\"graphics-symbol\" aria-roledescription=\"title\" aria-label=\"Title text 'Number of Issuers by Covenant Category as Percentage of  Number of Issuers of Non-MTN-Bonds Traded - 2019Q2'\" pointer-events=\"none\"><text text-anchor=\"middle\" transform=\"translate(0,11)\" font-family=\"sans-serif\" font-size=\"14px\" font-weight=\"bold\" fill=\"#000\" opacity=\"1\"><tspan>Number of Issuers by Covenant Category as Percentage of</tspan><tspan x=\"0\" dy=\"16\">Number of Issuers of Non-MTN-Bonds Traded - 2019Q2</tspan></text></g></g><path class=\"foreground\" aria-hidden=\"true\" d=\"\" pointer-events=\"none\" display=\"none\"></path></g></g></g><path class=\"foreground\" aria-hidden=\"true\" d=\"\" display=\"none\"></path></g></g></g></svg>\n"
      ],
      "text/plain": [
       "@vlplot(\n",
       "    config={\n",
       "        view={\n",
       "            stroke=\"transparent\"\n",
       "        },\n",
       "        axis={\n",
       "            domainWidth=3\n",
       "        },\n",
       "        opacity={\n",
       "            value=0.7\n",
       "        }\n",
       "    },\n",
       "    title={\n",
       "        text=[\n",
       "            \"Number of Issuers by Covenant Category as Percentage of \",\n",
       "            \"Number of Issuers of Non-MTN-Bonds Traded - 2019Q2\"\n",
       "        ],\n",
       "        align=\"center\",\n",
       "        anchor=\"middle\",\n",
       "        fontSize=14,\n",
       "        offset=20\n",
       "    },\n",
       "    spacing=4.5,\n",
       "    width={\n",
       "        step=18\n",
       "    },\n",
       "    height=350,\n",
       "    mark=\"bar\",\n",
       "    encoding={\n",
       "        column={\n",
       "            type=\"ordinal\",\n",
       "            title=\"Covenant Category\",\n",
       "            sort=\"ascending\",\n",
       "            field=\"cov_cat\"\n",
       "        },\n",
       "        y={\n",
       "            axis={\n",
       "                title=\"% of Total Number of Issuers\",\n",
       "                grid=false,\n",
       "                stack=nothing\n",
       "            },\n",
       "            field=\"perc_total\"\n",
       "        },\n",
       "        x={\n",
       "            type=\"nominal\",\n",
       "            axis={\n",
       "                title=\" \"\n",
       "            },\n",
       "            field=\"sbm\"\n",
       "        },\n",
       "        color={\n",
       "            legend={\n",
       "                title=\"Secondary Market\"\n",
       "            },\n",
       "            scale={\n",
       "                scheme=\"viridis\"\n",
       "            },\n",
       "            field=\"sbm\",\n",
       "            type=\"nominal\"\n",
       "        }\n",
       "    },\n",
       "    data={\n",
       "        values=...\n",
       "    }\n",
       ")"
      ]
     },
     "execution_count": 15,
     "metadata": {},
     "output_type": "execute_result"
    }
   ],
   "source": [
    "pl[2]"
   ]
  },
  {
   "cell_type": "code",
   "execution_count": 21,
   "metadata": {},
   "outputs": [
    {
     "data": {
      "application/vnd.vegalite.v4+json": {
       "config": {
        "axis": {
         "domainWidth": 3
        },
        "opacity": {
         "value": 0.7
        },
        "view": {
         "stroke": "transparent"
        }
       },
       "data": {
        "values": [
         {
          "cov_cat": 1,
          "cvt": "any",
          "perc_sbm_total": 5.750172850887301,
          "perc_total": 5.7495103122479545,
          "period": "2019Q2",
          "rt": "any",
          "sbm": "otc",
          "value": 499,
          "variable": "cg1_bonds"
         },
         {
          "cov_cat": 1,
          "cvt": "any",
          "perc_sbm_total": 5.94482421875,
          "perc_total": 5.611245535199908,
          "period": "2019Q2",
          "rt": "any",
          "sbm": "ats",
          "value": 487,
          "variable": "cg1_bonds"
         },
         {
          "cov_cat": 2,
          "cvt": "any",
          "perc_sbm_total": 77.11454252131827,
          "perc_total": 77.10565733379423,
          "period": "2019Q2",
          "rt": "any",
          "sbm": "otc",
          "value": 6692,
          "variable": "cg2_bonds"
         },
         {
          "cov_cat": 2,
          "cvt": "any",
          "perc_sbm_total": 78.9306640625,
          "perc_total": 74.50167069938934,
          "period": "2019Q2",
          "rt": "any",
          "sbm": "ats",
          "value": 6466,
          "variable": "cg2_bonds"
         },
         {
          "cov_cat": 3,
          "cvt": "any",
          "perc_sbm_total": 0.8527310440193593,
          "perc_total": 0.8526327917962898,
          "period": "2019Q2",
          "rt": "any",
          "sbm": "otc",
          "value": 74,
          "variable": "cg3_bonds"
         },
         {
          "cov_cat": 3,
          "cvt": "any",
          "perc_sbm_total": 0.91552734375,
          "perc_total": 0.8641548565502939,
          "period": "2019Q2",
          "rt": "any",
          "sbm": "ats",
          "value": 75,
          "variable": "cg3_bonds"
         },
         {
          "cov_cat": 4,
          "cvt": "any",
          "perc_sbm_total": 1.2214796035952986,
          "perc_total": 1.2213388639244154,
          "period": "2019Q2",
          "rt": "any",
          "sbm": "otc",
          "value": 106,
          "variable": "cg4_bonds"
         },
         {
          "cov_cat": 4,
          "cvt": "any",
          "perc_sbm_total": 1.20849609375,
          "perc_total": 1.1406844106463878,
          "period": "2019Q2",
          "rt": "any",
          "sbm": "ats",
          "value": 99,
          "variable": "cg4_bonds"
         },
         {
          "cov_cat": 5,
          "cvt": "any",
          "perc_sbm_total": 0.11523392486748099,
          "perc_total": 0.11522064754003918,
          "period": "2019Q2",
          "rt": "any",
          "sbm": "otc",
          "value": 10,
          "variable": "cg5_bonds"
         },
         {
          "cov_cat": 5,
          "cvt": "any",
          "perc_sbm_total": 0.10986328125,
          "perc_total": 0.10369858278603526,
          "period": "2019Q2",
          "rt": "any",
          "sbm": "ats",
          "value": 9,
          "variable": "cg5_bonds"
         },
         {
          "cov_cat": 6,
          "cvt": "any",
          "perc_sbm_total": 57.997234385803175,
          "perc_total": 57.99055190690172,
          "period": "2019Q2",
          "rt": "any",
          "sbm": "otc",
          "value": 5033,
          "variable": "cg6_bonds"
         },
         {
          "cov_cat": 6,
          "cvt": "any",
          "perc_sbm_total": 59.521484375,
          "perc_total": 56.1815877405231,
          "period": "2019Q2",
          "rt": "any",
          "sbm": "ats",
          "value": 4876,
          "variable": "cg6_bonds"
         },
         {
          "cov_cat": 7,
          "cvt": "any",
          "perc_sbm_total": 94.71076284858262,
          "perc_total": 94.6998502131582,
          "period": "2019Q2",
          "rt": "any",
          "sbm": "otc",
          "value": 8219,
          "variable": "cg7_bonds"
         },
         {
          "cov_cat": 7,
          "cvt": "any",
          "perc_sbm_total": 95.3857421875,
          "perc_total": 90.03341398778662,
          "period": "2019Q2",
          "rt": "any",
          "sbm": "ats",
          "value": 7814,
          "variable": "cg7_bonds"
         },
         {
          "cov_cat": 8,
          "cvt": "any",
          "perc_sbm_total": 39.744180686794195,
          "perc_total": 39.73960133655951,
          "period": "2019Q2",
          "rt": "any",
          "sbm": "otc",
          "value": 3449,
          "variable": "cg8_bonds"
         },
         {
          "cov_cat": 8,
          "cvt": "any",
          "perc_sbm_total": 40.8447265625,
          "perc_total": 38.55282866689711,
          "period": "2019Q2",
          "rt": "any",
          "sbm": "ats",
          "value": 3346,
          "variable": "cg8_bonds"
         },
         {
          "cov_cat": 9,
          "cvt": "any",
          "perc_sbm_total": 4.102327725282323,
          "perc_total": 4.101855052425394,
          "period": "2019Q2",
          "rt": "any",
          "sbm": "otc",
          "value": 356,
          "variable": "cg9_bonds"
         },
         {
          "cov_cat": 9,
          "cvt": "any",
          "perc_sbm_total": 4.296875,
          "perc_total": 4.055766793409378,
          "period": "2019Q2",
          "rt": "any",
          "sbm": "ats",
          "value": 352,
          "variable": "cg9_bonds"
         },
         {
          "cov_cat": 10,
          "cvt": "any",
          "perc_sbm_total": 1.302143351002535,
          "perc_total": 1.3019933172024427,
          "period": "2019Q2",
          "rt": "any",
          "sbm": "otc",
          "value": 113,
          "variable": "cg10_bonds"
         },
         {
          "cov_cat": 10,
          "cvt": "any",
          "perc_sbm_total": 1.33056640625,
          "perc_total": 1.255905058186427,
          "period": "2019Q2",
          "rt": "any",
          "sbm": "ats",
          "value": 109,
          "variable": "cg10_bonds"
         },
         {
          "cov_cat": 11,
          "cvt": "any",
          "perc_sbm_total": 77.8405162479834,
          "perc_total": 77.83154741329646,
          "period": "2019Q2",
          "rt": "any",
          "sbm": "otc",
          "value": 6755,
          "variable": "cg11_bonds"
         },
         {
          "cov_cat": 11,
          "cvt": "any",
          "perc_sbm_total": 78.5400390625,
          "perc_total": 74.1329646272612,
          "period": "2019Q2",
          "rt": "any",
          "sbm": "ats",
          "value": 6434,
          "variable": "cg11_bonds"
         },
         {
          "cov_cat": 12,
          "cvt": "any",
          "perc_sbm_total": 39.66351693938696,
          "perc_total": 39.65894688328148,
          "period": "2019Q2",
          "rt": "any",
          "sbm": "otc",
          "value": 3442,
          "variable": "cg12_bonds"
         },
         {
          "cov_cat": 12,
          "cvt": "any",
          "perc_sbm_total": 40.478515625,
          "perc_total": 38.207166724276995,
          "period": "2019Q2",
          "rt": "any",
          "sbm": "ats",
          "value": 3316,
          "variable": "cg12_bonds"
         },
         {
          "cov_cat": 13,
          "cvt": "any",
          "perc_sbm_total": 76.81493431666283,
          "perc_total": 76.80608365019012,
          "period": "2019Q2",
          "rt": "any",
          "sbm": "otc",
          "value": 6666,
          "variable": "cg13_bonds"
         },
         {
          "cov_cat": 13,
          "cvt": "any",
          "perc_sbm_total": 77.6611328125,
          "perc_total": 73.30337596497293,
          "period": "2019Q2",
          "rt": "any",
          "sbm": "ats",
          "value": 6362,
          "variable": "cg13_bonds"
         },
         {
          "cov_cat": 14,
          "cvt": "any",
          "perc_sbm_total": 6.464623185065683,
          "perc_total": 6.4638783269961975,
          "period": "2019Q2",
          "rt": "any",
          "sbm": "otc",
          "value": 561,
          "variable": "cg14_bonds"
         },
         {
          "cov_cat": 14,
          "cvt": "any",
          "perc_sbm_total": 6.70166015625,
          "perc_total": 6.32561354994815,
          "period": "2019Q2",
          "rt": "any",
          "sbm": "ats",
          "value": 549,
          "variable": "cg14_bonds"
         },
         {
          "cov_cat": 15,
          "cvt": "any",
          "perc_sbm_total": 75.97372666513021,
          "perc_total": 75.96497292314783,
          "period": "2019Q2",
          "rt": "any",
          "sbm": "otc",
          "value": 6593,
          "variable": "cg15_bonds"
         },
         {
          "cov_cat": 15,
          "cvt": "any",
          "perc_sbm_total": 76.7822265625,
          "perc_total": 72.47378730268464,
          "period": "2019Q2",
          "rt": "any",
          "sbm": "ats",
          "value": 6290,
          "variable": "cg15_bonds"
         }
        ]
       },
       "encoding": {
        "color": {
         "field": "sbm",
         "legend": {
          "title": "Secondary Market"
         },
         "scale": {
          "scheme": "viridis"
         },
         "type": "nominal"
        },
        "column": {
         "field": "cov_cat",
         "sort": "ascending",
         "title": "Covenant Category",
         "type": "ordinal"
        },
        "x": {
         "axis": {
          "title": " "
         },
         "field": "sbm",
         "type": "nominal"
        },
        "y": {
         "axis": {
          "grid": false,
          "stack": null,
          "title": "Number of Bonds"
         },
         "field": "value",
         "type": "quantitative"
        }
       },
       "height": 350,
       "mark": "bar",
       "spacing": 4.5,
       "title": {
        "align": "center",
        "anchor": "middle",
        "fontSize": 14,
        "offset": 20,
        "text": [
         "Number of Non-MTN Bonds Traded per Covenant Category - 2019Q2"
        ]
       },
       "width": {
        "step": 18
       }
      },
      "image/png": "[encoded data removed]",
      "image/svg+xml": [
       "<?xml version=\"1.0\" encoding=\"utf-8\"?>\n",
       "<!DOCTYPE svg PUBLIC \"-//W3C//DTD SVG 1.1//EN\" \"http://www.w3.org/Graphics/SVG/1.1/DTD/svg11.dtd\">\n",
       "<svg class=\"marks\" width=\"821\" height=\"485\" viewBox=\"0 0 821 485\" version=\"1.1\" xmlns=\"http://www.w3.org/2000/svg\" xmlns:xlink=\"http://www.w3.org/1999/xlink\"><rect width=\"821\" height=\"485\" fill=\"white\"></rect><g fill=\"none\" stroke-miterlimit=\"10\" transform=\"translate(55,91)\"><g class=\"mark-group role-frame root\" role=\"graphics-object\" aria-roledescription=\"group mark container\"><g transform=\"translate(0,0)\"><path class=\"background\" aria-hidden=\"true\" d=\"M0,0h0v0h0Z\"></path><g><g class=\"mark-group role-column-title column-title\" role=\"graphics-object\" aria-roledescription=\"group mark container\"><g transform=\"translate(316,-31)\"><path class=\"background\" aria-hidden=\"true\" d=\"M0,0h0v0h0Z\"></path><g><g class=\"mark-group role-title\"><g transform=\"translate(0,-21)\"><path class=\"background\" aria-hidden=\"true\" d=\"M0,0h0v0h0Z\" pointer-events=\"none\"></path><g><g class=\"mark-text role-title-text\" role=\"graphics-symbol\" aria-roledescription=\"title\" aria-label=\"Title text 'Covenant Category'\" pointer-events=\"none\"><text text-anchor=\"middle\" transform=\"translate(0,9)\" font-family=\"sans-serif\" font-size=\"11px\" font-weight=\"bold\" fill=\"#000\" opacity=\"1\">Covenant Category</text></g></g><path class=\"foreground\" aria-hidden=\"true\" d=\"\" pointer-events=\"none\" display=\"none\"></path></g></g></g><path class=\"foreground\" aria-hidden=\"true\" d=\"\" display=\"none\"></path></g></g><g class=\"mark-group role-row-header row_header\" role=\"graphics-object\" aria-roledescription=\"group mark container\"><g transform=\"translate(-1,0)\"><path class=\"background\" aria-hidden=\"true\" d=\"M0,0h0v350h0Z\"></path><g><g class=\"mark-group role-axis\" role=\"graphics-symbol\" aria-roledescription=\"axis\" aria-label=\"Y-axis titled 'Number of Bonds' for a linear scale with values from 0 to 9,000\"><g transform=\"translate(0.5,0.5)\"><path class=\"background\" aria-hidden=\"true\" d=\"M0,0h0v0h0Z\" pointer-events=\"none\"></path><g><g class=\"mark-rule role-axis-tick\" pointer-events=\"none\"><line transform=\"translate(0,350)\" x2=\"-5\" y2=\"0\" stroke=\"#888\" stroke-width=\"1\" opacity=\"1\"></line><line transform=\"translate(0,311)\" x2=\"-5\" y2=\"0\" stroke=\"#888\" stroke-width=\"1\" opacity=\"1\"></line><line transform=\"translate(0,272)\" x2=\"-5\" y2=\"0\" stroke=\"#888\" stroke-width=\"1\" opacity=\"1\"></line><line transform=\"translate(0,233)\" x2=\"-5\" y2=\"0\" stroke=\"#888\" stroke-width=\"1\" opacity=\"1\"></line><line transform=\"translate(0,194)\" x2=\"-5\" y2=\"0\" stroke=\"#888\" stroke-width=\"1\" opacity=\"1\"></line><line transform=\"translate(0,156)\" x2=\"-5\" y2=\"0\" stroke=\"#888\" stroke-width=\"1\" opacity=\"1\"></line><line transform=\"translate(0,117)\" x2=\"-5\" y2=\"0\" stroke=\"#888\" stroke-width=\"1\" opacity=\"1\"></line><line transform=\"translate(0,78)\" x2=\"-5\" y2=\"0\" stroke=\"#888\" stroke-width=\"1\" opacity=\"1\"></line><line transform=\"translate(0,39)\" x2=\"-5\" y2=\"0\" stroke=\"#888\" stroke-width=\"1\" opacity=\"1\"></line><line transform=\"translate(0,0)\" x2=\"-5\" y2=\"0\" stroke=\"#888\" stroke-width=\"1\" opacity=\"1\"></line></g><g class=\"mark-text role-axis-label\" pointer-events=\"none\"><text text-anchor=\"end\" transform=\"translate(-7,353)\" font-family=\"sans-serif\" font-size=\"10px\" fill=\"#000\" opacity=\"1\">0</text><text text-anchor=\"end\" transform=\"translate(-7,314.1111111111111)\" font-family=\"sans-serif\" font-size=\"10px\" fill=\"#000\" opacity=\"1\">1,000</text><text text-anchor=\"end\" transform=\"translate(-7,275.22222222222223)\" font-family=\"sans-serif\" font-size=\"10px\" fill=\"#000\" opacity=\"1\">2,000</text><text text-anchor=\"end\" transform=\"translate(-7,236.33333333333337)\" font-family=\"sans-serif\" font-size=\"10px\" fill=\"#000\" opacity=\"1\">3,000</text><text text-anchor=\"end\" transform=\"translate(-7,197.44444444444446)\" font-family=\"sans-serif\" font-size=\"10px\" fill=\"#000\" opacity=\"1\">4,000</text><text text-anchor=\"end\" transform=\"translate(-7,158.55555555555554)\" font-family=\"sans-serif\" font-size=\"10px\" fill=\"#000\" opacity=\"1\">5,000</text><text text-anchor=\"end\" transform=\"translate(-7,119.66666666666669)\" font-family=\"sans-serif\" font-size=\"10px\" fill=\"#000\" opacity=\"1\">6,000</text><text text-anchor=\"end\" transform=\"translate(-7,80.77777777777777)\" font-family=\"sans-serif\" font-size=\"10px\" fill=\"#000\" opacity=\"1\">7,000</text><text text-anchor=\"end\" transform=\"translate(-7,41.88888888888891)\" font-family=\"sans-serif\" font-size=\"10px\" fill=\"#000\" opacity=\"1\">8,000</text><text text-anchor=\"end\" transform=\"translate(-7,3)\" font-family=\"sans-serif\" font-size=\"10px\" fill=\"#000\" opacity=\"1\">9,000</text></g><g class=\"mark-rule role-axis-domain\" pointer-events=\"none\"><line transform=\"translate(0,350)\" x2=\"0\" y2=\"-350\" stroke=\"#888\" stroke-width=\"3\" opacity=\"1\"></line></g><g class=\"mark-text role-axis-title\" pointer-events=\"none\"><text text-anchor=\"middle\" transform=\"translate(-38,175) rotate(-90) translate(0,-2)\" font-family=\"sans-serif\" font-size=\"11px\" font-weight=\"bold\" fill=\"#000\" opacity=\"1\">Number of Bonds</text></g></g><path class=\"foreground\" aria-hidden=\"true\" d=\"\" pointer-events=\"none\" display=\"none\"></path></g></g></g><path class=\"foreground\" aria-hidden=\"true\" d=\"\" display=\"none\"></path></g></g><g class=\"mark-group role-column-header column_header\" role=\"graphics-object\" aria-roledescription=\"group mark container\"><g transform=\"translate(0,-1)\"><path class=\"background\" aria-hidden=\"true\" d=\"M0,0h36v0h-36Z\"></path><g><g class=\"mark-group role-title\"><g transform=\"translate(18,-20)\"><path class=\"background\" aria-hidden=\"true\" d=\"M0,0h0v0h0Z\" pointer-events=\"none\"></path><g><g class=\"mark-text role-title-text\" role=\"graphics-symbol\" aria-roledescription=\"title\" aria-label=\"Title text '1'\" pointer-events=\"none\"><text text-anchor=\"middle\" transform=\"translate(0,8)\" font-family=\"sans-serif\" font-size=\"10px\" fill=\"#000\" opacity=\"1\">1</text></g></g><path class=\"foreground\" aria-hidden=\"true\" d=\"\" pointer-events=\"none\" display=\"none\"></path></g></g></g><path class=\"foreground\" aria-hidden=\"true\" d=\"\" display=\"none\"></path></g><g transform=\"translate(42.5,-1)\"><path class=\"background\" aria-hidden=\"true\" d=\"M0,0h36v0h-36Z\"></path><g><g class=\"mark-group role-title\"><g transform=\"translate(18,-20)\"><path class=\"background\" aria-hidden=\"true\" d=\"M0,0h0v0h0Z\" pointer-events=\"none\"></path><g><g class=\"mark-text role-title-text\" role=\"graphics-symbol\" aria-roledescription=\"title\" aria-label=\"Title text '2'\" pointer-events=\"none\"><text text-anchor=\"middle\" transform=\"translate(0,8)\" font-family=\"sans-serif\" font-size=\"10px\" fill=\"#000\" opacity=\"1\">2</text></g></g><path class=\"foreground\" aria-hidden=\"true\" d=\"\" pointer-events=\"none\" display=\"none\"></path></g></g></g><path class=\"foreground\" aria-hidden=\"true\" d=\"\" display=\"none\"></path></g><g transform=\"translate(85,-1)\"><path class=\"background\" aria-hidden=\"true\" d=\"M0,0h36v0h-36Z\"></path><g><g class=\"mark-group role-title\"><g transform=\"translate(18,-20)\"><path class=\"background\" aria-hidden=\"true\" d=\"M0,0h0v0h0Z\" pointer-events=\"none\"></path><g><g class=\"mark-text role-title-text\" role=\"graphics-symbol\" aria-roledescription=\"title\" aria-label=\"Title text '3'\" pointer-events=\"none\"><text text-anchor=\"middle\" transform=\"translate(0,8)\" font-family=\"sans-serif\" font-size=\"10px\" fill=\"#000\" opacity=\"1\">3</text></g></g><path class=\"foreground\" aria-hidden=\"true\" d=\"\" pointer-events=\"none\" display=\"none\"></path></g></g></g><path class=\"foreground\" aria-hidden=\"true\" d=\"\" display=\"none\"></path></g><g transform=\"translate(127.5,-1)\"><path class=\"background\" aria-hidden=\"true\" d=\"M0,0h36v0h-36Z\"></path><g><g class=\"mark-group role-title\"><g transform=\"translate(18,-20)\"><path class=\"background\" aria-hidden=\"true\" d=\"M0,0h0v0h0Z\" pointer-events=\"none\"></path><g><g class=\"mark-text role-title-text\" role=\"graphics-symbol\" aria-roledescription=\"title\" aria-label=\"Title text '4'\" pointer-events=\"none\"><text text-anchor=\"middle\" transform=\"translate(0,8)\" font-family=\"sans-serif\" font-size=\"10px\" fill=\"#000\" opacity=\"1\">4</text></g></g><path class=\"foreground\" aria-hidden=\"true\" d=\"\" pointer-events=\"none\" display=\"none\"></path></g></g></g><path class=\"foreground\" aria-hidden=\"true\" d=\"\" display=\"none\"></path></g><g transform=\"translate(170,-1)\"><path class=\"background\" aria-hidden=\"true\" d=\"M0,0h36v0h-36Z\"></path><g><g class=\"mark-group role-title\"><g transform=\"translate(18,-20)\"><path class=\"background\" aria-hidden=\"true\" d=\"M0,0h0v0h0Z\" pointer-events=\"none\"></path><g><g class=\"mark-text role-title-text\" role=\"graphics-symbol\" aria-roledescription=\"title\" aria-label=\"Title text '5'\" pointer-events=\"none\"><text text-anchor=\"middle\" transform=\"translate(0,8)\" font-family=\"sans-serif\" font-size=\"10px\" fill=\"#000\" opacity=\"1\">5</text></g></g><path class=\"foreground\" aria-hidden=\"true\" d=\"\" pointer-events=\"none\" display=\"none\"></path></g></g></g><path class=\"foreground\" aria-hidden=\"true\" d=\"\" display=\"none\"></path></g><g transform=\"translate(212.5,-1)\"><path class=\"background\" aria-hidden=\"true\" d=\"M0,0h36v0h-36Z\"></path><g><g class=\"mark-group role-title\"><g transform=\"translate(18,-20)\"><path class=\"background\" aria-hidden=\"true\" d=\"M0,0h0v0h0Z\" pointer-events=\"none\"></path><g><g class=\"mark-text role-title-text\" role=\"graphics-symbol\" aria-roledescription=\"title\" aria-label=\"Title text '6'\" pointer-events=\"none\"><text text-anchor=\"middle\" transform=\"translate(0,8)\" font-family=\"sans-serif\" font-size=\"10px\" fill=\"#000\" opacity=\"1\">6</text></g></g><path class=\"foreground\" aria-hidden=\"true\" d=\"\" pointer-events=\"none\" display=\"none\"></path></g></g></g><path class=\"foreground\" aria-hidden=\"true\" d=\"\" display=\"none\"></path></g><g transform=\"translate(255,-1)\"><path class=\"background\" aria-hidden=\"true\" d=\"M0,0h36v0h-36Z\"></path><g><g class=\"mark-group role-title\"><g transform=\"translate(18,-20)\"><path class=\"background\" aria-hidden=\"true\" d=\"M0,0h0v0h0Z\" pointer-events=\"none\"></path><g><g class=\"mark-text role-title-text\" role=\"graphics-symbol\" aria-roledescription=\"title\" aria-label=\"Title text '7'\" pointer-events=\"none\"><text text-anchor=\"middle\" transform=\"translate(0,8)\" font-family=\"sans-serif\" font-size=\"10px\" fill=\"#000\" opacity=\"1\">7</text></g></g><path class=\"foreground\" aria-hidden=\"true\" d=\"\" pointer-events=\"none\" display=\"none\"></path></g></g></g><path class=\"foreground\" aria-hidden=\"true\" d=\"\" display=\"none\"></path></g><g transform=\"translate(297.5,-1)\"><path class=\"background\" aria-hidden=\"true\" d=\"M0,0h36v0h-36Z\"></path><g><g class=\"mark-group role-title\"><g transform=\"translate(18,-20)\"><path class=\"background\" aria-hidden=\"true\" d=\"M0,0h0v0h0Z\" pointer-events=\"none\"></path><g><g class=\"mark-text role-title-text\" role=\"graphics-symbol\" aria-roledescription=\"title\" aria-label=\"Title text '8'\" pointer-events=\"none\"><text text-anchor=\"middle\" transform=\"translate(0,8)\" font-family=\"sans-serif\" font-size=\"10px\" fill=\"#000\" opacity=\"1\">8</text></g></g><path class=\"foreground\" aria-hidden=\"true\" d=\"\" pointer-events=\"none\" display=\"none\"></path></g></g></g><path class=\"foreground\" aria-hidden=\"true\" d=\"\" display=\"none\"></path></g><g transform=\"translate(340,-1)\"><path class=\"background\" aria-hidden=\"true\" d=\"M0,0h36v0h-36Z\"></path><g><g class=\"mark-group role-title\"><g transform=\"translate(18,-20)\"><path class=\"background\" aria-hidden=\"true\" d=\"M0,0h0v0h0Z\" pointer-events=\"none\"></path><g><g class=\"mark-text role-title-text\" role=\"graphics-symbol\" aria-roledescription=\"title\" aria-label=\"Title text '9'\" pointer-events=\"none\"><text text-anchor=\"middle\" transform=\"translate(0,8)\" font-family=\"sans-serif\" font-size=\"10px\" fill=\"#000\" opacity=\"1\">9</text></g></g><path class=\"foreground\" aria-hidden=\"true\" d=\"\" pointer-events=\"none\" display=\"none\"></path></g></g></g><path class=\"foreground\" aria-hidden=\"true\" d=\"\" display=\"none\"></path></g><g transform=\"translate(382.5,-1)\"><path class=\"background\" aria-hidden=\"true\" d=\"M0,0h36v0h-36Z\"></path><g><g class=\"mark-group role-title\"><g transform=\"translate(18,-20)\"><path class=\"background\" aria-hidden=\"true\" d=\"M0,0h0v0h0Z\" pointer-events=\"none\"></path><g><g class=\"mark-text role-title-text\" role=\"graphics-symbol\" aria-roledescription=\"title\" aria-label=\"Title text '10'\" pointer-events=\"none\"><text text-anchor=\"middle\" transform=\"translate(0,8)\" font-family=\"sans-serif\" font-size=\"10px\" fill=\"#000\" opacity=\"1\">10</text></g></g><path class=\"foreground\" aria-hidden=\"true\" d=\"\" pointer-events=\"none\" display=\"none\"></path></g></g></g><path class=\"foreground\" aria-hidden=\"true\" d=\"\" display=\"none\"></path></g><g transform=\"translate(425,-1)\"><path class=\"background\" aria-hidden=\"true\" d=\"M0,0h36v0h-36Z\"></path><g><g class=\"mark-group role-title\"><g transform=\"translate(18,-20)\"><path class=\"background\" aria-hidden=\"true\" d=\"M0,0h0v0h0Z\" pointer-events=\"none\"></path><g><g class=\"mark-text role-title-text\" role=\"graphics-symbol\" aria-roledescription=\"title\" aria-label=\"Title text '11'\" pointer-events=\"none\"><text text-anchor=\"middle\" transform=\"translate(0,8)\" font-family=\"sans-serif\" font-size=\"10px\" fill=\"#000\" opacity=\"1\">11</text></g></g><path class=\"foreground\" aria-hidden=\"true\" d=\"\" pointer-events=\"none\" display=\"none\"></path></g></g></g><path class=\"foreground\" aria-hidden=\"true\" d=\"\" display=\"none\"></path></g><g transform=\"translate(467.5,-1)\"><path class=\"background\" aria-hidden=\"true\" d=\"M0,0h36v0h-36Z\"></path><g><g class=\"mark-group role-title\"><g transform=\"translate(18,-20)\"><path class=\"background\" aria-hidden=\"true\" d=\"M0,0h0v0h0Z\" pointer-events=\"none\"></path><g><g class=\"mark-text role-title-text\" role=\"graphics-symbol\" aria-roledescription=\"title\" aria-label=\"Title text '12'\" pointer-events=\"none\"><text text-anchor=\"middle\" transform=\"translate(0,8)\" font-family=\"sans-serif\" font-size=\"10px\" fill=\"#000\" opacity=\"1\">12</text></g></g><path class=\"foreground\" aria-hidden=\"true\" d=\"\" pointer-events=\"none\" display=\"none\"></path></g></g></g><path class=\"foreground\" aria-hidden=\"true\" d=\"\" display=\"none\"></path></g><g transform=\"translate(510,-1)\"><path class=\"background\" aria-hidden=\"true\" d=\"M0,0h36v0h-36Z\"></path><g><g class=\"mark-group role-title\"><g transform=\"translate(18,-20)\"><path class=\"background\" aria-hidden=\"true\" d=\"M0,0h0v0h0Z\" pointer-events=\"none\"></path><g><g class=\"mark-text role-title-text\" role=\"graphics-symbol\" aria-roledescription=\"title\" aria-label=\"Title text '13'\" pointer-events=\"none\"><text text-anchor=\"middle\" transform=\"translate(0,8)\" font-family=\"sans-serif\" font-size=\"10px\" fill=\"#000\" opacity=\"1\">13</text></g></g><path class=\"foreground\" aria-hidden=\"true\" d=\"\" pointer-events=\"none\" display=\"none\"></path></g></g></g><path class=\"foreground\" aria-hidden=\"true\" d=\"\" display=\"none\"></path></g><g transform=\"translate(552.5,-1)\"><path class=\"background\" aria-hidden=\"true\" d=\"M0,0h36v0h-36Z\"></path><g><g class=\"mark-group role-title\"><g transform=\"translate(18,-20)\"><path class=\"background\" aria-hidden=\"true\" d=\"M0,0h0v0h0Z\" pointer-events=\"none\"></path><g><g class=\"mark-text role-title-text\" role=\"graphics-symbol\" aria-roledescription=\"title\" aria-label=\"Title text '14'\" pointer-events=\"none\"><text text-anchor=\"middle\" transform=\"translate(0,8)\" font-family=\"sans-serif\" font-size=\"10px\" fill=\"#000\" opacity=\"1\">14</text></g></g><path class=\"foreground\" aria-hidden=\"true\" d=\"\" pointer-events=\"none\" display=\"none\"></path></g></g></g><path class=\"foreground\" aria-hidden=\"true\" d=\"\" display=\"none\"></path></g><g transform=\"translate(595,-1)\"><path class=\"background\" aria-hidden=\"true\" d=\"M0,0h36v0h-36Z\"></path><g><g class=\"mark-group role-title\"><g transform=\"translate(18,-20)\"><path class=\"background\" aria-hidden=\"true\" d=\"M0,0h0v0h0Z\" pointer-events=\"none\"></path><g><g class=\"mark-text role-title-text\" role=\"graphics-symbol\" aria-roledescription=\"title\" aria-label=\"Title text '15'\" pointer-events=\"none\"><text text-anchor=\"middle\" transform=\"translate(0,8)\" font-family=\"sans-serif\" font-size=\"10px\" fill=\"#000\" opacity=\"1\">15</text></g></g><path class=\"foreground\" aria-hidden=\"true\" d=\"\" pointer-events=\"none\" display=\"none\"></path></g></g></g><path class=\"foreground\" aria-hidden=\"true\" d=\"\" display=\"none\"></path></g></g><g class=\"mark-group role-column-footer column_footer\" role=\"graphics-object\" aria-roledescription=\"group mark container\"><g transform=\"translate(0,351)\"><path class=\"background\" aria-hidden=\"true\" d=\"M0,0h36v0h-36Z\"></path><g><g class=\"mark-group role-axis\" role=\"graphics-symbol\" aria-roledescription=\"axis\" aria-label=\"X-axis titled ' ' for a discrete scale with 2 values: ats, otc\"><g transform=\"translate(0.5,0.5)\"><path class=\"background\" aria-hidden=\"true\" d=\"M0,0h0v0h0Z\" pointer-events=\"none\"></path><g><g class=\"mark-rule role-axis-tick\" pointer-events=\"none\"><line transform=\"translate(9,0)\" x2=\"0\" y2=\"5\" stroke=\"#888\" stroke-width=\"1\" opacity=\"1\"></line><line transform=\"translate(27,0)\" x2=\"0\" y2=\"5\" stroke=\"#888\" stroke-width=\"1\" opacity=\"1\"></line></g><g class=\"mark-text role-axis-label\" pointer-events=\"none\"><text text-anchor=\"end\" transform=\"translate(8.500000000000002,7) rotate(270) translate(0,3)\" font-family=\"sans-serif\" font-size=\"10px\" fill=\"#000\" opacity=\"1\">ats</text><text text-anchor=\"end\" transform=\"translate(26.5,7) rotate(270) translate(0,3)\" font-family=\"sans-serif\" font-size=\"10px\" fill=\"#000\" opacity=\"1\">otc</text></g><g class=\"mark-rule role-axis-domain\" pointer-events=\"none\"><line transform=\"translate(0,0)\" x2=\"36\" y2=\"0\" stroke=\"#888\" stroke-width=\"3\" opacity=\"1\"></line></g><g class=\"mark-text role-axis-title\" pointer-events=\"none\"><text text-anchor=\"middle\" transform=\"translate(18,36)\" font-family=\"sans-serif\" font-size=\"11px\" font-weight=\"bold\" fill=\"#000\" opacity=\"1\"></text></g></g><path class=\"foreground\" aria-hidden=\"true\" d=\"\" pointer-events=\"none\" display=\"none\"></path></g></g></g><path class=\"foreground\" aria-hidden=\"true\" d=\"\" display=\"none\"></path></g><g transform=\"translate(42.5,351)\"><path class=\"background\" aria-hidden=\"true\" d=\"M0,0h36v0h-36Z\"></path><g><g class=\"mark-group role-axis\" role=\"graphics-symbol\" aria-roledescription=\"axis\" aria-label=\"X-axis titled ' ' for a discrete scale with 2 values: ats, otc\"><g transform=\"translate(0.5,0.5)\"><path class=\"background\" aria-hidden=\"true\" d=\"M0,0h0v0h0Z\" pointer-events=\"none\"></path><g><g class=\"mark-rule role-axis-tick\" pointer-events=\"none\"><line transform=\"translate(9,0)\" x2=\"0\" y2=\"5\" stroke=\"#888\" stroke-width=\"1\" opacity=\"1\"></line><line transform=\"translate(27,0)\" x2=\"0\" y2=\"5\" stroke=\"#888\" stroke-width=\"1\" opacity=\"1\"></line></g><g class=\"mark-text role-axis-label\" pointer-events=\"none\"><text text-anchor=\"end\" transform=\"translate(8.500000000000002,7) rotate(270) translate(0,3)\" font-family=\"sans-serif\" font-size=\"10px\" fill=\"#000\" opacity=\"1\">ats</text><text text-anchor=\"end\" transform=\"translate(26.5,7) rotate(270) translate(0,3)\" font-family=\"sans-serif\" font-size=\"10px\" fill=\"#000\" opacity=\"1\">otc</text></g><g class=\"mark-rule role-axis-domain\" pointer-events=\"none\"><line transform=\"translate(0,0)\" x2=\"36\" y2=\"0\" stroke=\"#888\" stroke-width=\"3\" opacity=\"1\"></line></g><g class=\"mark-text role-axis-title\" pointer-events=\"none\"><text text-anchor=\"middle\" transform=\"translate(18,36)\" font-family=\"sans-serif\" font-size=\"11px\" font-weight=\"bold\" fill=\"#000\" opacity=\"1\"></text></g></g><path class=\"foreground\" aria-hidden=\"true\" d=\"\" pointer-events=\"none\" display=\"none\"></path></g></g></g><path class=\"foreground\" aria-hidden=\"true\" d=\"\" display=\"none\"></path></g><g transform=\"translate(85,351)\"><path class=\"background\" aria-hidden=\"true\" d=\"M0,0h36v0h-36Z\"></path><g><g class=\"mark-group role-axis\" role=\"graphics-symbol\" aria-roledescription=\"axis\" aria-label=\"X-axis titled ' ' for a discrete scale with 2 values: ats, otc\"><g transform=\"translate(0.5,0.5)\"><path class=\"background\" aria-hidden=\"true\" d=\"M0,0h0v0h0Z\" pointer-events=\"none\"></path><g><g class=\"mark-rule role-axis-tick\" pointer-events=\"none\"><line transform=\"translate(9,0)\" x2=\"0\" y2=\"5\" stroke=\"#888\" stroke-width=\"1\" opacity=\"1\"></line><line transform=\"translate(27,0)\" x2=\"0\" y2=\"5\" stroke=\"#888\" stroke-width=\"1\" opacity=\"1\"></line></g><g class=\"mark-text role-axis-label\" pointer-events=\"none\"><text text-anchor=\"end\" transform=\"translate(8.500000000000002,7) rotate(270) translate(0,3)\" font-family=\"sans-serif\" font-size=\"10px\" fill=\"#000\" opacity=\"1\">ats</text><text text-anchor=\"end\" transform=\"translate(26.5,7) rotate(270) translate(0,3)\" font-family=\"sans-serif\" font-size=\"10px\" fill=\"#000\" opacity=\"1\">otc</text></g><g class=\"mark-rule role-axis-domain\" pointer-events=\"none\"><line transform=\"translate(0,0)\" x2=\"36\" y2=\"0\" stroke=\"#888\" stroke-width=\"3\" opacity=\"1\"></line></g><g class=\"mark-text role-axis-title\" pointer-events=\"none\"><text text-anchor=\"middle\" transform=\"translate(18,36)\" font-family=\"sans-serif\" font-size=\"11px\" font-weight=\"bold\" fill=\"#000\" opacity=\"1\"></text></g></g><path class=\"foreground\" aria-hidden=\"true\" d=\"\" pointer-events=\"none\" display=\"none\"></path></g></g></g><path class=\"foreground\" aria-hidden=\"true\" d=\"\" display=\"none\"></path></g><g transform=\"translate(127.5,351)\"><path class=\"background\" aria-hidden=\"true\" d=\"M0,0h36v0h-36Z\"></path><g><g class=\"mark-group role-axis\" role=\"graphics-symbol\" aria-roledescription=\"axis\" aria-label=\"X-axis titled ' ' for a discrete scale with 2 values: ats, otc\"><g transform=\"translate(0.5,0.5)\"><path class=\"background\" aria-hidden=\"true\" d=\"M0,0h0v0h0Z\" pointer-events=\"none\"></path><g><g class=\"mark-rule role-axis-tick\" pointer-events=\"none\"><line transform=\"translate(9,0)\" x2=\"0\" y2=\"5\" stroke=\"#888\" stroke-width=\"1\" opacity=\"1\"></line><line transform=\"translate(27,0)\" x2=\"0\" y2=\"5\" stroke=\"#888\" stroke-width=\"1\" opacity=\"1\"></line></g><g class=\"mark-text role-axis-label\" pointer-events=\"none\"><text text-anchor=\"end\" transform=\"translate(8.500000000000002,7) rotate(270) translate(0,3)\" font-family=\"sans-serif\" font-size=\"10px\" fill=\"#000\" opacity=\"1\">ats</text><text text-anchor=\"end\" transform=\"translate(26.5,7) rotate(270) translate(0,3)\" font-family=\"sans-serif\" font-size=\"10px\" fill=\"#000\" opacity=\"1\">otc</text></g><g class=\"mark-rule role-axis-domain\" pointer-events=\"none\"><line transform=\"translate(0,0)\" x2=\"36\" y2=\"0\" stroke=\"#888\" stroke-width=\"3\" opacity=\"1\"></line></g><g class=\"mark-text role-axis-title\" pointer-events=\"none\"><text text-anchor=\"middle\" transform=\"translate(18,36)\" font-family=\"sans-serif\" font-size=\"11px\" font-weight=\"bold\" fill=\"#000\" opacity=\"1\"></text></g></g><path class=\"foreground\" aria-hidden=\"true\" d=\"\" pointer-events=\"none\" display=\"none\"></path></g></g></g><path class=\"foreground\" aria-hidden=\"true\" d=\"\" display=\"none\"></path></g><g transform=\"translate(170,351)\"><path class=\"background\" aria-hidden=\"true\" d=\"M0,0h36v0h-36Z\"></path><g><g class=\"mark-group role-axis\" role=\"graphics-symbol\" aria-roledescription=\"axis\" aria-label=\"X-axis titled ' ' for a discrete scale with 2 values: ats, otc\"><g transform=\"translate(0.5,0.5)\"><path class=\"background\" aria-hidden=\"true\" d=\"M0,0h0v0h0Z\" pointer-events=\"none\"></path><g><g class=\"mark-rule role-axis-tick\" pointer-events=\"none\"><line transform=\"translate(9,0)\" x2=\"0\" y2=\"5\" stroke=\"#888\" stroke-width=\"1\" opacity=\"1\"></line><line transform=\"translate(27,0)\" x2=\"0\" y2=\"5\" stroke=\"#888\" stroke-width=\"1\" opacity=\"1\"></line></g><g class=\"mark-text role-axis-label\" pointer-events=\"none\"><text text-anchor=\"end\" transform=\"translate(8.500000000000002,7) rotate(270) translate(0,3)\" font-family=\"sans-serif\" font-size=\"10px\" fill=\"#000\" opacity=\"1\">ats</text><text text-anchor=\"end\" transform=\"translate(26.5,7) rotate(270) translate(0,3)\" font-family=\"sans-serif\" font-size=\"10px\" fill=\"#000\" opacity=\"1\">otc</text></g><g class=\"mark-rule role-axis-domain\" pointer-events=\"none\"><line transform=\"translate(0,0)\" x2=\"36\" y2=\"0\" stroke=\"#888\" stroke-width=\"3\" opacity=\"1\"></line></g><g class=\"mark-text role-axis-title\" pointer-events=\"none\"><text text-anchor=\"middle\" transform=\"translate(18,36)\" font-family=\"sans-serif\" font-size=\"11px\" font-weight=\"bold\" fill=\"#000\" opacity=\"1\"></text></g></g><path class=\"foreground\" aria-hidden=\"true\" d=\"\" pointer-events=\"none\" display=\"none\"></path></g></g></g><path class=\"foreground\" aria-hidden=\"true\" d=\"\" display=\"none\"></path></g><g transform=\"translate(212.5,351)\"><path class=\"background\" aria-hidden=\"true\" d=\"M0,0h36v0h-36Z\"></path><g><g class=\"mark-group role-axis\" role=\"graphics-symbol\" aria-roledescription=\"axis\" aria-label=\"X-axis titled ' ' for a discrete scale with 2 values: ats, otc\"><g transform=\"translate(0.5,0.5)\"><path class=\"background\" aria-hidden=\"true\" d=\"M0,0h0v0h0Z\" pointer-events=\"none\"></path><g><g class=\"mark-rule role-axis-tick\" pointer-events=\"none\"><line transform=\"translate(9,0)\" x2=\"0\" y2=\"5\" stroke=\"#888\" stroke-width=\"1\" opacity=\"1\"></line><line transform=\"translate(27,0)\" x2=\"0\" y2=\"5\" stroke=\"#888\" stroke-width=\"1\" opacity=\"1\"></line></g><g class=\"mark-text role-axis-label\" pointer-events=\"none\"><text text-anchor=\"end\" transform=\"translate(8.500000000000002,7) rotate(270) translate(0,3)\" font-family=\"sans-serif\" font-size=\"10px\" fill=\"#000\" opacity=\"1\">ats</text><text text-anchor=\"end\" transform=\"translate(26.5,7) rotate(270) translate(0,3)\" font-family=\"sans-serif\" font-size=\"10px\" fill=\"#000\" opacity=\"1\">otc</text></g><g class=\"mark-rule role-axis-domain\" pointer-events=\"none\"><line transform=\"translate(0,0)\" x2=\"36\" y2=\"0\" stroke=\"#888\" stroke-width=\"3\" opacity=\"1\"></line></g><g class=\"mark-text role-axis-title\" pointer-events=\"none\"><text text-anchor=\"middle\" transform=\"translate(18,36)\" font-family=\"sans-serif\" font-size=\"11px\" font-weight=\"bold\" fill=\"#000\" opacity=\"1\"></text></g></g><path class=\"foreground\" aria-hidden=\"true\" d=\"\" pointer-events=\"none\" display=\"none\"></path></g></g></g><path class=\"foreground\" aria-hidden=\"true\" d=\"\" display=\"none\"></path></g><g transform=\"translate(255,351)\"><path class=\"background\" aria-hidden=\"true\" d=\"M0,0h36v0h-36Z\"></path><g><g class=\"mark-group role-axis\" role=\"graphics-symbol\" aria-roledescription=\"axis\" aria-label=\"X-axis titled ' ' for a discrete scale with 2 values: ats, otc\"><g transform=\"translate(0.5,0.5)\"><path class=\"background\" aria-hidden=\"true\" d=\"M0,0h0v0h0Z\" pointer-events=\"none\"></path><g><g class=\"mark-rule role-axis-tick\" pointer-events=\"none\"><line transform=\"translate(9,0)\" x2=\"0\" y2=\"5\" stroke=\"#888\" stroke-width=\"1\" opacity=\"1\"></line><line transform=\"translate(27,0)\" x2=\"0\" y2=\"5\" stroke=\"#888\" stroke-width=\"1\" opacity=\"1\"></line></g><g class=\"mark-text role-axis-label\" pointer-events=\"none\"><text text-anchor=\"end\" transform=\"translate(8.500000000000002,7) rotate(270) translate(0,3)\" font-family=\"sans-serif\" font-size=\"10px\" fill=\"#000\" opacity=\"1\">ats</text><text text-anchor=\"end\" transform=\"translate(26.5,7) rotate(270) translate(0,3)\" font-family=\"sans-serif\" font-size=\"10px\" fill=\"#000\" opacity=\"1\">otc</text></g><g class=\"mark-rule role-axis-domain\" pointer-events=\"none\"><line transform=\"translate(0,0)\" x2=\"36\" y2=\"0\" stroke=\"#888\" stroke-width=\"3\" opacity=\"1\"></line></g><g class=\"mark-text role-axis-title\" pointer-events=\"none\"><text text-anchor=\"middle\" transform=\"translate(18,36)\" font-family=\"sans-serif\" font-size=\"11px\" font-weight=\"bold\" fill=\"#000\" opacity=\"1\"></text></g></g><path class=\"foreground\" aria-hidden=\"true\" d=\"\" pointer-events=\"none\" display=\"none\"></path></g></g></g><path class=\"foreground\" aria-hidden=\"true\" d=\"\" display=\"none\"></path></g><g transform=\"translate(297.5,351)\"><path class=\"background\" aria-hidden=\"true\" d=\"M0,0h36v0h-36Z\"></path><g><g class=\"mark-group role-axis\" role=\"graphics-symbol\" aria-roledescription=\"axis\" aria-label=\"X-axis titled ' ' for a discrete scale with 2 values: ats, otc\"><g transform=\"translate(0.5,0.5)\"><path class=\"background\" aria-hidden=\"true\" d=\"M0,0h0v0h0Z\" pointer-events=\"none\"></path><g><g class=\"mark-rule role-axis-tick\" pointer-events=\"none\"><line transform=\"translate(9,0)\" x2=\"0\" y2=\"5\" stroke=\"#888\" stroke-width=\"1\" opacity=\"1\"></line><line transform=\"translate(27,0)\" x2=\"0\" y2=\"5\" stroke=\"#888\" stroke-width=\"1\" opacity=\"1\"></line></g><g class=\"mark-text role-axis-label\" pointer-events=\"none\"><text text-anchor=\"end\" transform=\"translate(8.500000000000002,7) rotate(270) translate(0,3)\" font-family=\"sans-serif\" font-size=\"10px\" fill=\"#000\" opacity=\"1\">ats</text><text text-anchor=\"end\" transform=\"translate(26.5,7) rotate(270) translate(0,3)\" font-family=\"sans-serif\" font-size=\"10px\" fill=\"#000\" opacity=\"1\">otc</text></g><g class=\"mark-rule role-axis-domain\" pointer-events=\"none\"><line transform=\"translate(0,0)\" x2=\"36\" y2=\"0\" stroke=\"#888\" stroke-width=\"3\" opacity=\"1\"></line></g><g class=\"mark-text role-axis-title\" pointer-events=\"none\"><text text-anchor=\"middle\" transform=\"translate(18,36)\" font-family=\"sans-serif\" font-size=\"11px\" font-weight=\"bold\" fill=\"#000\" opacity=\"1\"></text></g></g><path class=\"foreground\" aria-hidden=\"true\" d=\"\" pointer-events=\"none\" display=\"none\"></path></g></g></g><path class=\"foreground\" aria-hidden=\"true\" d=\"\" display=\"none\"></path></g><g transform=\"translate(340,351)\"><path class=\"background\" aria-hidden=\"true\" d=\"M0,0h36v0h-36Z\"></path><g><g class=\"mark-group role-axis\" role=\"graphics-symbol\" aria-roledescription=\"axis\" aria-label=\"X-axis titled ' ' for a discrete scale with 2 values: ats, otc\"><g transform=\"translate(0.5,0.5)\"><path class=\"background\" aria-hidden=\"true\" d=\"M0,0h0v0h0Z\" pointer-events=\"none\"></path><g><g class=\"mark-rule role-axis-tick\" pointer-events=\"none\"><line transform=\"translate(9,0)\" x2=\"0\" y2=\"5\" stroke=\"#888\" stroke-width=\"1\" opacity=\"1\"></line><line transform=\"translate(27,0)\" x2=\"0\" y2=\"5\" stroke=\"#888\" stroke-width=\"1\" opacity=\"1\"></line></g><g class=\"mark-text role-axis-label\" pointer-events=\"none\"><text text-anchor=\"end\" transform=\"translate(8.500000000000002,7) rotate(270) translate(0,3)\" font-family=\"sans-serif\" font-size=\"10px\" fill=\"#000\" opacity=\"1\">ats</text><text text-anchor=\"end\" transform=\"translate(26.5,7) rotate(270) translate(0,3)\" font-family=\"sans-serif\" font-size=\"10px\" fill=\"#000\" opacity=\"1\">otc</text></g><g class=\"mark-rule role-axis-domain\" pointer-events=\"none\"><line transform=\"translate(0,0)\" x2=\"36\" y2=\"0\" stroke=\"#888\" stroke-width=\"3\" opacity=\"1\"></line></g><g class=\"mark-text role-axis-title\" pointer-events=\"none\"><text text-anchor=\"middle\" transform=\"translate(18,36)\" font-family=\"sans-serif\" font-size=\"11px\" font-weight=\"bold\" fill=\"#000\" opacity=\"1\"></text></g></g><path class=\"foreground\" aria-hidden=\"true\" d=\"\" pointer-events=\"none\" display=\"none\"></path></g></g></g><path class=\"foreground\" aria-hidden=\"true\" d=\"\" display=\"none\"></path></g><g transform=\"translate(382.5,351)\"><path class=\"background\" aria-hidden=\"true\" d=\"M0,0h36v0h-36Z\"></path><g><g class=\"mark-group role-axis\" role=\"graphics-symbol\" aria-roledescription=\"axis\" aria-label=\"X-axis titled ' ' for a discrete scale with 2 values: ats, otc\"><g transform=\"translate(0.5,0.5)\"><path class=\"background\" aria-hidden=\"true\" d=\"M0,0h0v0h0Z\" pointer-events=\"none\"></path><g><g class=\"mark-rule role-axis-tick\" pointer-events=\"none\"><line transform=\"translate(9,0)\" x2=\"0\" y2=\"5\" stroke=\"#888\" stroke-width=\"1\" opacity=\"1\"></line><line transform=\"translate(27,0)\" x2=\"0\" y2=\"5\" stroke=\"#888\" stroke-width=\"1\" opacity=\"1\"></line></g><g class=\"mark-text role-axis-label\" pointer-events=\"none\"><text text-anchor=\"end\" transform=\"translate(8.500000000000002,7) rotate(270) translate(0,3)\" font-family=\"sans-serif\" font-size=\"10px\" fill=\"#000\" opacity=\"1\">ats</text><text text-anchor=\"end\" transform=\"translate(26.5,7) rotate(270) translate(0,3)\" font-family=\"sans-serif\" font-size=\"10px\" fill=\"#000\" opacity=\"1\">otc</text></g><g class=\"mark-rule role-axis-domain\" pointer-events=\"none\"><line transform=\"translate(0,0)\" x2=\"36\" y2=\"0\" stroke=\"#888\" stroke-width=\"3\" opacity=\"1\"></line></g><g class=\"mark-text role-axis-title\" pointer-events=\"none\"><text text-anchor=\"middle\" transform=\"translate(18,36)\" font-family=\"sans-serif\" font-size=\"11px\" font-weight=\"bold\" fill=\"#000\" opacity=\"1\"></text></g></g><path class=\"foreground\" aria-hidden=\"true\" d=\"\" pointer-events=\"none\" display=\"none\"></path></g></g></g><path class=\"foreground\" aria-hidden=\"true\" d=\"\" display=\"none\"></path></g><g transform=\"translate(425,351)\"><path class=\"background\" aria-hidden=\"true\" d=\"M0,0h36v0h-36Z\"></path><g><g class=\"mark-group role-axis\" role=\"graphics-symbol\" aria-roledescription=\"axis\" aria-label=\"X-axis titled ' ' for a discrete scale with 2 values: ats, otc\"><g transform=\"translate(0.5,0.5)\"><path class=\"background\" aria-hidden=\"true\" d=\"M0,0h0v0h0Z\" pointer-events=\"none\"></path><g><g class=\"mark-rule role-axis-tick\" pointer-events=\"none\"><line transform=\"translate(9,0)\" x2=\"0\" y2=\"5\" stroke=\"#888\" stroke-width=\"1\" opacity=\"1\"></line><line transform=\"translate(27,0)\" x2=\"0\" y2=\"5\" stroke=\"#888\" stroke-width=\"1\" opacity=\"1\"></line></g><g class=\"mark-text role-axis-label\" pointer-events=\"none\"><text text-anchor=\"end\" transform=\"translate(8.500000000000002,7) rotate(270) translate(0,3)\" font-family=\"sans-serif\" font-size=\"10px\" fill=\"#000\" opacity=\"1\">ats</text><text text-anchor=\"end\" transform=\"translate(26.5,7) rotate(270) translate(0,3)\" font-family=\"sans-serif\" font-size=\"10px\" fill=\"#000\" opacity=\"1\">otc</text></g><g class=\"mark-rule role-axis-domain\" pointer-events=\"none\"><line transform=\"translate(0,0)\" x2=\"36\" y2=\"0\" stroke=\"#888\" stroke-width=\"3\" opacity=\"1\"></line></g><g class=\"mark-text role-axis-title\" pointer-events=\"none\"><text text-anchor=\"middle\" transform=\"translate(18,36)\" font-family=\"sans-serif\" font-size=\"11px\" font-weight=\"bold\" fill=\"#000\" opacity=\"1\"></text></g></g><path class=\"foreground\" aria-hidden=\"true\" d=\"\" pointer-events=\"none\" display=\"none\"></path></g></g></g><path class=\"foreground\" aria-hidden=\"true\" d=\"\" display=\"none\"></path></g><g transform=\"translate(467.5,351)\"><path class=\"background\" aria-hidden=\"true\" d=\"M0,0h36v0h-36Z\"></path><g><g class=\"mark-group role-axis\" role=\"graphics-symbol\" aria-roledescription=\"axis\" aria-label=\"X-axis titled ' ' for a discrete scale with 2 values: ats, otc\"><g transform=\"translate(0.5,0.5)\"><path class=\"background\" aria-hidden=\"true\" d=\"M0,0h0v0h0Z\" pointer-events=\"none\"></path><g><g class=\"mark-rule role-axis-tick\" pointer-events=\"none\"><line transform=\"translate(9,0)\" x2=\"0\" y2=\"5\" stroke=\"#888\" stroke-width=\"1\" opacity=\"1\"></line><line transform=\"translate(27,0)\" x2=\"0\" y2=\"5\" stroke=\"#888\" stroke-width=\"1\" opacity=\"1\"></line></g><g class=\"mark-text role-axis-label\" pointer-events=\"none\"><text text-anchor=\"end\" transform=\"translate(8.500000000000002,7) rotate(270) translate(0,3)\" font-family=\"sans-serif\" font-size=\"10px\" fill=\"#000\" opacity=\"1\">ats</text><text text-anchor=\"end\" transform=\"translate(26.5,7) rotate(270) translate(0,3)\" font-family=\"sans-serif\" font-size=\"10px\" fill=\"#000\" opacity=\"1\">otc</text></g><g class=\"mark-rule role-axis-domain\" pointer-events=\"none\"><line transform=\"translate(0,0)\" x2=\"36\" y2=\"0\" stroke=\"#888\" stroke-width=\"3\" opacity=\"1\"></line></g><g class=\"mark-text role-axis-title\" pointer-events=\"none\"><text text-anchor=\"middle\" transform=\"translate(18,36)\" font-family=\"sans-serif\" font-size=\"11px\" font-weight=\"bold\" fill=\"#000\" opacity=\"1\"></text></g></g><path class=\"foreground\" aria-hidden=\"true\" d=\"\" pointer-events=\"none\" display=\"none\"></path></g></g></g><path class=\"foreground\" aria-hidden=\"true\" d=\"\" display=\"none\"></path></g><g transform=\"translate(510,351)\"><path class=\"background\" aria-hidden=\"true\" d=\"M0,0h36v0h-36Z\"></path><g><g class=\"mark-group role-axis\" role=\"graphics-symbol\" aria-roledescription=\"axis\" aria-label=\"X-axis titled ' ' for a discrete scale with 2 values: ats, otc\"><g transform=\"translate(0.5,0.5)\"><path class=\"background\" aria-hidden=\"true\" d=\"M0,0h0v0h0Z\" pointer-events=\"none\"></path><g><g class=\"mark-rule role-axis-tick\" pointer-events=\"none\"><line transform=\"translate(9,0)\" x2=\"0\" y2=\"5\" stroke=\"#888\" stroke-width=\"1\" opacity=\"1\"></line><line transform=\"translate(27,0)\" x2=\"0\" y2=\"5\" stroke=\"#888\" stroke-width=\"1\" opacity=\"1\"></line></g><g class=\"mark-text role-axis-label\" pointer-events=\"none\"><text text-anchor=\"end\" transform=\"translate(8.500000000000002,7) rotate(270) translate(0,3)\" font-family=\"sans-serif\" font-size=\"10px\" fill=\"#000\" opacity=\"1\">ats</text><text text-anchor=\"end\" transform=\"translate(26.5,7) rotate(270) translate(0,3)\" font-family=\"sans-serif\" font-size=\"10px\" fill=\"#000\" opacity=\"1\">otc</text></g><g class=\"mark-rule role-axis-domain\" pointer-events=\"none\"><line transform=\"translate(0,0)\" x2=\"36\" y2=\"0\" stroke=\"#888\" stroke-width=\"3\" opacity=\"1\"></line></g><g class=\"mark-text role-axis-title\" pointer-events=\"none\"><text text-anchor=\"middle\" transform=\"translate(18,36)\" font-family=\"sans-serif\" font-size=\"11px\" font-weight=\"bold\" fill=\"#000\" opacity=\"1\"></text></g></g><path class=\"foreground\" aria-hidden=\"true\" d=\"\" pointer-events=\"none\" display=\"none\"></path></g></g></g><path class=\"foreground\" aria-hidden=\"true\" d=\"\" display=\"none\"></path></g><g transform=\"translate(552.5,351)\"><path class=\"background\" aria-hidden=\"true\" d=\"M0,0h36v0h-36Z\"></path><g><g class=\"mark-group role-axis\" role=\"graphics-symbol\" aria-roledescription=\"axis\" aria-label=\"X-axis titled ' ' for a discrete scale with 2 values: ats, otc\"><g transform=\"translate(0.5,0.5)\"><path class=\"background\" aria-hidden=\"true\" d=\"M0,0h0v0h0Z\" pointer-events=\"none\"></path><g><g class=\"mark-rule role-axis-tick\" pointer-events=\"none\"><line transform=\"translate(9,0)\" x2=\"0\" y2=\"5\" stroke=\"#888\" stroke-width=\"1\" opacity=\"1\"></line><line transform=\"translate(27,0)\" x2=\"0\" y2=\"5\" stroke=\"#888\" stroke-width=\"1\" opacity=\"1\"></line></g><g class=\"mark-text role-axis-label\" pointer-events=\"none\"><text text-anchor=\"end\" transform=\"translate(8.500000000000002,7) rotate(270) translate(0,3)\" font-family=\"sans-serif\" font-size=\"10px\" fill=\"#000\" opacity=\"1\">ats</text><text text-anchor=\"end\" transform=\"translate(26.5,7) rotate(270) translate(0,3)\" font-family=\"sans-serif\" font-size=\"10px\" fill=\"#000\" opacity=\"1\">otc</text></g><g class=\"mark-rule role-axis-domain\" pointer-events=\"none\"><line transform=\"translate(0,0)\" x2=\"36\" y2=\"0\" stroke=\"#888\" stroke-width=\"3\" opacity=\"1\"></line></g><g class=\"mark-text role-axis-title\" pointer-events=\"none\"><text text-anchor=\"middle\" transform=\"translate(18,36)\" font-family=\"sans-serif\" font-size=\"11px\" font-weight=\"bold\" fill=\"#000\" opacity=\"1\"></text></g></g><path class=\"foreground\" aria-hidden=\"true\" d=\"\" pointer-events=\"none\" display=\"none\"></path></g></g></g><path class=\"foreground\" aria-hidden=\"true\" d=\"\" display=\"none\"></path></g><g transform=\"translate(595,351)\"><path class=\"background\" aria-hidden=\"true\" d=\"M0,0h36v0h-36Z\"></path><g><g class=\"mark-group role-axis\" role=\"graphics-symbol\" aria-roledescription=\"axis\" aria-label=\"X-axis titled ' ' for a discrete scale with 2 values: ats, otc\"><g transform=\"translate(0.5,0.5)\"><path class=\"background\" aria-hidden=\"true\" d=\"M0,0h0v0h0Z\" pointer-events=\"none\"></path><g><g class=\"mark-rule role-axis-tick\" pointer-events=\"none\"><line transform=\"translate(9,0)\" x2=\"0\" y2=\"5\" stroke=\"#888\" stroke-width=\"1\" opacity=\"1\"></line><line transform=\"translate(27,0)\" x2=\"0\" y2=\"5\" stroke=\"#888\" stroke-width=\"1\" opacity=\"1\"></line></g><g class=\"mark-text role-axis-label\" pointer-events=\"none\"><text text-anchor=\"end\" transform=\"translate(8.500000000000002,7) rotate(270) translate(0,3)\" font-family=\"sans-serif\" font-size=\"10px\" fill=\"#000\" opacity=\"1\">ats</text><text text-anchor=\"end\" transform=\"translate(26.5,7) rotate(270) translate(0,3)\" font-family=\"sans-serif\" font-size=\"10px\" fill=\"#000\" opacity=\"1\">otc</text></g><g class=\"mark-rule role-axis-domain\" pointer-events=\"none\"><line transform=\"translate(0,0)\" x2=\"36\" y2=\"0\" stroke=\"#888\" stroke-width=\"3\" opacity=\"1\"></line></g><g class=\"mark-text role-axis-title\" pointer-events=\"none\"><text text-anchor=\"middle\" transform=\"translate(18,36)\" font-family=\"sans-serif\" font-size=\"11px\" font-weight=\"bold\" fill=\"#000\" opacity=\"1\"></text></g></g><path class=\"foreground\" aria-hidden=\"true\" d=\"\" pointer-events=\"none\" display=\"none\"></path></g></g></g><path class=\"foreground\" aria-hidden=\"true\" d=\"\" display=\"none\"></path></g></g><g class=\"mark-group role-scope cell\" role=\"graphics-object\" aria-roledescription=\"group mark container\"><g transform=\"translate(0,0)\"><path class=\"background\" aria-hidden=\"true\" d=\"M0.5,0.5h36v350h-36Z\"></path><g><g class=\"mark-rect role-mark child_marks\" role=\"graphics-object\" aria-roledescription=\"rect mark container\"><path aria-label=\"Number of Bonds: 499;  : otc; Secondary Market: otc\" role=\"graphics-symbol\" aria-roledescription=\"bar\" d=\"M18.900000000000002,330.59444444444443h16.2v19.405555555555566h-16.2Z\" fill=\"rgb(53, 183, 121)\"></path><path aria-label=\"Number of Bonds: 487;  : ats; Secondary Market: ats\" role=\"graphics-symbol\" aria-roledescription=\"bar\" d=\"M0.9000000000000021,331.06111111111113h16.2v18.93888888888887h-16.2Z\" fill=\"rgb(49, 104, 142)\"></path></g></g><path class=\"foreground\" aria-hidden=\"true\" d=\"\" display=\"none\"></path></g><g transform=\"translate(42.5,0)\"><path class=\"background\" aria-hidden=\"true\" d=\"M0.5,0.5h36v350h-36Z\"></path><g><g class=\"mark-rect role-mark child_marks\" role=\"graphics-object\" aria-roledescription=\"rect mark container\"><path aria-label=\"Number of Bonds: 6692;  : otc; Secondary Market: otc\" role=\"graphics-symbol\" aria-roledescription=\"bar\" d=\"M18.900000000000002,89.75555555555556h16.2v260.2444444444444h-16.2Z\" fill=\"rgb(53, 183, 121)\"></path><path aria-label=\"Number of Bonds: 6466;  : ats; Secondary Market: ats\" role=\"graphics-symbol\" aria-roledescription=\"bar\" d=\"M0.9000000000000021,98.54444444444445h16.2v251.45555555555555h-16.2Z\" fill=\"rgb(49, 104, 142)\"></path></g></g><path class=\"foreground\" aria-hidden=\"true\" d=\"\" display=\"none\"></path></g><g transform=\"translate(85,0)\"><path class=\"background\" aria-hidden=\"true\" d=\"M0.5,0.5h36v350h-36Z\"></path><g><g class=\"mark-rect role-mark child_marks\" role=\"graphics-object\" aria-roledescription=\"rect mark container\"><path aria-label=\"Number of Bonds: 74;  : otc; Secondary Market: otc\" role=\"graphics-symbol\" aria-roledescription=\"bar\" d=\"M18.900000000000002,347.1222222222222h16.2v2.877777777777794h-16.2Z\" fill=\"rgb(53, 183, 121)\"></path><path aria-label=\"Number of Bonds: 75;  : ats; Secondary Market: ats\" role=\"graphics-symbol\" aria-roledescription=\"bar\" d=\"M0.9000000000000021,347.08333333333337h16.2v2.9166666666666288h-16.2Z\" fill=\"rgb(49, 104, 142)\"></path></g></g><path class=\"foreground\" aria-hidden=\"true\" d=\"\" display=\"none\"></path></g><g transform=\"translate(127.5,0)\"><path class=\"background\" aria-hidden=\"true\" d=\"M0.5,0.5h36v350h-36Z\"></path><g><g class=\"mark-rect role-mark child_marks\" role=\"graphics-object\" aria-roledescription=\"rect mark container\"><path aria-label=\"Number of Bonds: 106;  : otc; Secondary Market: otc\" role=\"graphics-symbol\" aria-roledescription=\"bar\" d=\"M18.900000000000002,345.8777777777778h16.2v4.122222222222206h-16.2Z\" fill=\"rgb(53, 183, 121)\"></path><path aria-label=\"Number of Bonds: 99;  : ats; Secondary Market: ats\" role=\"graphics-symbol\" aria-roledescription=\"bar\" d=\"M0.9000000000000021,346.15h16.2v3.8500000000000227h-16.2Z\" fill=\"rgb(49, 104, 142)\"></path></g></g><path class=\"foreground\" aria-hidden=\"true\" d=\"\" display=\"none\"></path></g><g transform=\"translate(170,0)\"><path class=\"background\" aria-hidden=\"true\" d=\"M0.5,0.5h36v350h-36Z\"></path><g><g class=\"mark-rect role-mark child_marks\" role=\"graphics-object\" aria-roledescription=\"rect mark container\"><path aria-label=\"Number of Bonds: 10;  : otc; Secondary Market: otc\" role=\"graphics-symbol\" aria-roledescription=\"bar\" d=\"M18.900000000000002,349.61111111111114h16.2v0.3888888888888573h-16.2Z\" fill=\"rgb(53, 183, 121)\"></path><path aria-label=\"Number of Bonds: 9;  : ats; Secondary Market: ats\" role=\"graphics-symbol\" aria-roledescription=\"bar\" d=\"M0.9000000000000021,349.65h16.2v0.35000000000002274h-16.2Z\" fill=\"rgb(49, 104, 142)\"></path></g></g><path class=\"foreground\" aria-hidden=\"true\" d=\"\" display=\"none\"></path></g><g transform=\"translate(212.5,0)\"><path class=\"background\" aria-hidden=\"true\" d=\"M0.5,0.5h36v350h-36Z\"></path><g><g class=\"mark-rect role-mark child_marks\" role=\"graphics-object\" aria-roledescription=\"rect mark container\"><path aria-label=\"Number of Bonds: 5033;  : otc; Secondary Market: otc\" role=\"graphics-symbol\" aria-roledescription=\"bar\" d=\"M18.900000000000002,154.27222222222224h16.2v195.72777777777776h-16.2Z\" fill=\"rgb(53, 183, 121)\"></path><path aria-label=\"Number of Bonds: 4876;  : ats; Secondary Market: ats\" role=\"graphics-symbol\" aria-roledescription=\"bar\" d=\"M0.9000000000000021,160.37777777777777h16.2v189.62222222222223h-16.2Z\" fill=\"rgb(49, 104, 142)\"></path></g></g><path class=\"foreground\" aria-hidden=\"true\" d=\"\" display=\"none\"></path></g><g transform=\"translate(255,0)\"><path class=\"background\" aria-hidden=\"true\" d=\"M0.5,0.5h36v350h-36Z\"></path><g><g class=\"mark-rect role-mark child_marks\" role=\"graphics-object\" aria-roledescription=\"rect mark container\"><path aria-label=\"Number of Bonds: 8219;  : otc; Secondary Market: otc\" role=\"graphics-symbol\" aria-roledescription=\"bar\" d=\"M18.900000000000002,30.372222222222206h16.2v319.6277777777778h-16.2Z\" fill=\"rgb(53, 183, 121)\"></path><path aria-label=\"Number of Bonds: 7814;  : ats; Secondary Market: ats\" role=\"graphics-symbol\" aria-roledescription=\"bar\" d=\"M0.9000000000000021,46.12222222222222h16.2v303.8777777777778h-16.2Z\" fill=\"rgb(49, 104, 142)\"></path></g></g><path class=\"foreground\" aria-hidden=\"true\" d=\"\" display=\"none\"></path></g><g transform=\"translate(297.5,0)\"><path class=\"background\" aria-hidden=\"true\" d=\"M0.5,0.5h36v350h-36Z\"></path><g><g class=\"mark-rect role-mark child_marks\" role=\"graphics-object\" aria-roledescription=\"rect mark container\"><path aria-label=\"Number of Bonds: 3449;  : otc; Secondary Market: otc\" role=\"graphics-symbol\" aria-roledescription=\"bar\" d=\"M18.900000000000002,215.8722222222222h16.2v134.1277777777778h-16.2Z\" fill=\"rgb(53, 183, 121)\"></path><path aria-label=\"Number of Bonds: 3346;  : ats; Secondary Market: ats\" role=\"graphics-symbol\" aria-roledescription=\"bar\" d=\"M0.9000000000000021,219.8777777777778h16.2v130.1222222222222h-16.2Z\" fill=\"rgb(49, 104, 142)\"></path></g></g><path class=\"foreground\" aria-hidden=\"true\" d=\"\" display=\"none\"></path></g><g transform=\"translate(340,0)\"><path class=\"background\" aria-hidden=\"true\" d=\"M0.5,0.5h36v350h-36Z\"></path><g><g class=\"mark-rect role-mark child_marks\" role=\"graphics-object\" aria-roledescription=\"rect mark container\"><path aria-label=\"Number of Bonds: 356;  : otc; Secondary Market: otc\" role=\"graphics-symbol\" aria-roledescription=\"bar\" d=\"M18.900000000000002,336.15555555555557h16.2v13.844444444444434h-16.2Z\" fill=\"rgb(53, 183, 121)\"></path><path aria-label=\"Number of Bonds: 352;  : ats; Secondary Market: ats\" role=\"graphics-symbol\" aria-roledescription=\"bar\" d=\"M0.9000000000000021,336.31111111111113h16.2v13.688888888888869h-16.2Z\" fill=\"rgb(49, 104, 142)\"></path></g></g><path class=\"foreground\" aria-hidden=\"true\" d=\"\" display=\"none\"></path></g><g transform=\"translate(382.5,0)\"><path class=\"background\" aria-hidden=\"true\" d=\"M0.5,0.5h36v350h-36Z\"></path><g><g class=\"mark-rect role-mark child_marks\" role=\"graphics-object\" aria-roledescription=\"rect mark container\"><path aria-label=\"Number of Bonds: 113;  : otc; Secondary Market: otc\" role=\"graphics-symbol\" aria-roledescription=\"bar\" d=\"M18.900000000000002,345.60555555555555h16.2v4.394444444444446h-16.2Z\" fill=\"rgb(53, 183, 121)\"></path><path aria-label=\"Number of Bonds: 109;  : ats; Secondary Market: ats\" role=\"graphics-symbol\" aria-roledescription=\"bar\" d=\"M0.9000000000000021,345.7611111111111h16.2v4.23888888888888h-16.2Z\" fill=\"rgb(49, 104, 142)\"></path></g></g><path class=\"foreground\" aria-hidden=\"true\" d=\"\" display=\"none\"></path></g><g transform=\"translate(425,0)\"><path class=\"background\" aria-hidden=\"true\" d=\"M0.5,0.5h36v350h-36Z\"></path><g><g class=\"mark-rect role-mark child_marks\" role=\"graphics-object\" aria-roledescription=\"rect mark container\"><path aria-label=\"Number of Bonds: 6755;  : otc; Secondary Market: otc\" role=\"graphics-symbol\" aria-roledescription=\"bar\" d=\"M18.900000000000002,87.30555555555556h16.2v262.69444444444446h-16.2Z\" fill=\"rgb(53, 183, 121)\"></path><path aria-label=\"Number of Bonds: 6434;  : ats; Secondary Market: ats\" role=\"graphics-symbol\" aria-roledescription=\"bar\" d=\"M0.9000000000000021,99.78888888888888h16.2v250.2111111111111h-16.2Z\" fill=\"rgb(49, 104, 142)\"></path></g></g><path class=\"foreground\" aria-hidden=\"true\" d=\"\" display=\"none\"></path></g><g transform=\"translate(467.5,0)\"><path class=\"background\" aria-hidden=\"true\" d=\"M0.5,0.5h36v350h-36Z\"></path><g><g class=\"mark-rect role-mark child_marks\" role=\"graphics-object\" aria-roledescription=\"rect mark container\"><path aria-label=\"Number of Bonds: 3442;  : otc; Secondary Market: otc\" role=\"graphics-symbol\" aria-roledescription=\"bar\" d=\"M18.900000000000002,216.14444444444447h16.2v133.85555555555553h-16.2Z\" fill=\"rgb(53, 183, 121)\"></path><path aria-label=\"Number of Bonds: 3316;  : ats; Secondary Market: ats\" role=\"graphics-symbol\" aria-roledescription=\"bar\" d=\"M0.9000000000000021,221.04444444444445h16.2v128.95555555555555h-16.2Z\" fill=\"rgb(49, 104, 142)\"></path></g></g><path class=\"foreground\" aria-hidden=\"true\" d=\"\" display=\"none\"></path></g><g transform=\"translate(510,0)\"><path class=\"background\" aria-hidden=\"true\" d=\"M0.5,0.5h36v350h-36Z\"></path><g><g class=\"mark-rect role-mark child_marks\" role=\"graphics-object\" aria-roledescription=\"rect mark container\"><path aria-label=\"Number of Bonds: 6666;  : otc; Secondary Market: otc\" role=\"graphics-symbol\" aria-roledescription=\"bar\" d=\"M18.900000000000002,90.76666666666665h16.2v259.23333333333335h-16.2Z\" fill=\"rgb(53, 183, 121)\"></path><path aria-label=\"Number of Bonds: 6362;  : ats; Secondary Market: ats\" role=\"graphics-symbol\" aria-roledescription=\"bar\" d=\"M0.9000000000000021,102.58888888888889h16.2v247.4111111111111h-16.2Z\" fill=\"rgb(49, 104, 142)\"></path></g></g><path class=\"foreground\" aria-hidden=\"true\" d=\"\" display=\"none\"></path></g><g transform=\"translate(552.5,0)\"><path class=\"background\" aria-hidden=\"true\" d=\"M0.5,0.5h36v350h-36Z\"></path><g><g class=\"mark-rect role-mark child_marks\" role=\"graphics-object\" aria-roledescription=\"rect mark container\"><path aria-label=\"Number of Bonds: 561;  : otc; Secondary Market: otc\" role=\"graphics-symbol\" aria-roledescription=\"bar\" d=\"M18.900000000000002,328.18333333333334h16.2v21.816666666666663h-16.2Z\" fill=\"rgb(53, 183, 121)\"></path><path aria-label=\"Number of Bonds: 549;  : ats; Secondary Market: ats\" role=\"graphics-symbol\" aria-roledescription=\"bar\" d=\"M0.9000000000000021,328.65000000000003h16.2v21.349999999999966h-16.2Z\" fill=\"rgb(49, 104, 142)\"></path></g></g><path class=\"foreground\" aria-hidden=\"true\" d=\"\" display=\"none\"></path></g><g transform=\"translate(595,0)\"><path class=\"background\" aria-hidden=\"true\" d=\"M0.5,0.5h36v350h-36Z\"></path><g><g class=\"mark-rect role-mark child_marks\" role=\"graphics-object\" aria-roledescription=\"rect mark container\"><path aria-label=\"Number of Bonds: 6593;  : otc; Secondary Market: otc\" role=\"graphics-symbol\" aria-roledescription=\"bar\" d=\"M18.900000000000002,93.60555555555557h16.2v256.39444444444445h-16.2Z\" fill=\"rgb(53, 183, 121)\"></path><path aria-label=\"Number of Bonds: 6290;  : ats; Secondary Market: ats\" role=\"graphics-symbol\" aria-roledescription=\"bar\" d=\"M0.9000000000000021,105.38888888888889h16.2v244.61111111111111h-16.2Z\" fill=\"rgb(49, 104, 142)\"></path></g></g><path class=\"foreground\" aria-hidden=\"true\" d=\"\" display=\"none\"></path></g></g><g class=\"mark-group role-legend\" role=\"graphics-symbol\" aria-roledescription=\"legend\" aria-label=\"Symbol legend titled 'Secondary Market' for fill color with 2 values: ats, otc\"><g transform=\"translate(650,0)\"><path class=\"background\" aria-hidden=\"true\" d=\"M0,0h111v40h-111Z\" pointer-events=\"none\"></path><g><g class=\"mark-group role-legend-entry\"><g transform=\"translate(0,16)\"><path class=\"background\" aria-hidden=\"true\" d=\"M0,0h0v0h0Z\" pointer-events=\"none\"></path><g><g class=\"mark-group role-scope\" role=\"graphics-object\" aria-roledescription=\"group mark container\"><g transform=\"translate(0,0)\"><path class=\"background\" aria-hidden=\"true\" d=\"M0,0h32v11h-32Z\" pointer-events=\"none\" opacity=\"1\"></path><g><g class=\"mark-symbol role-legend-symbol\" pointer-events=\"none\"><path transform=\"translate(6,6)\" d=\"M-5,-5h10v10h-10Z\" fill=\"rgb(49, 104, 142)\" stroke-width=\"1.5\" opacity=\"1\"></path></g><g class=\"mark-text role-legend-label\" pointer-events=\"none\"><text text-anchor=\"start\" transform=\"translate(16,9)\" font-family=\"sans-serif\" font-size=\"10px\" fill=\"#000\" opacity=\"1\">ats</text></g></g><path class=\"foreground\" aria-hidden=\"true\" d=\"\" pointer-events=\"none\" display=\"none\"></path></g><g transform=\"translate(0,13)\"><path class=\"background\" aria-hidden=\"true\" d=\"M0,0h32v11h-32Z\" pointer-events=\"none\" opacity=\"1\"></path><g><g class=\"mark-symbol role-legend-symbol\" pointer-events=\"none\"><path transform=\"translate(6,6)\" d=\"M-5,-5h10v10h-10Z\" fill=\"rgb(53, 183, 121)\" stroke-width=\"1.5\" opacity=\"1\"></path></g><g class=\"mark-text role-legend-label\" pointer-events=\"none\"><text text-anchor=\"start\" transform=\"translate(16,9)\" font-family=\"sans-serif\" font-size=\"10px\" fill=\"#000\" opacity=\"1\">otc</text></g></g><path class=\"foreground\" aria-hidden=\"true\" d=\"\" pointer-events=\"none\" display=\"none\"></path></g></g></g><path class=\"foreground\" aria-hidden=\"true\" d=\"\" pointer-events=\"none\" display=\"none\"></path></g></g><g class=\"mark-text role-legend-title\" pointer-events=\"none\"><text text-anchor=\"start\" transform=\"translate(0,9)\" font-family=\"sans-serif\" font-size=\"11px\" font-weight=\"bold\" fill=\"#000\" opacity=\"1\">Secondary Market</text></g></g><path class=\"foreground\" aria-hidden=\"true\" d=\"\" pointer-events=\"none\" display=\"none\"></path></g></g><g class=\"mark-group role-title\"><g transform=\"translate(355.5,-86)\"><path class=\"background\" aria-hidden=\"true\" d=\"M0,0h0v0h0Z\" pointer-events=\"none\"></path><g><g class=\"mark-text role-title-text\" role=\"graphics-symbol\" aria-roledescription=\"title\" aria-label=\"Title text 'Number of Non-MTN Bonds Traded per Covenant Category - 2019Q2'\" pointer-events=\"none\"><text text-anchor=\"middle\" transform=\"translate(0,11)\" font-family=\"sans-serif\" font-size=\"14px\" font-weight=\"bold\" fill=\"#000\" opacity=\"1\">Number of Non-MTN Bonds Traded per Covenant Category - 2019Q2</text></g></g><path class=\"foreground\" aria-hidden=\"true\" d=\"\" pointer-events=\"none\" display=\"none\"></path></g></g></g><path class=\"foreground\" aria-hidden=\"true\" d=\"\" display=\"none\"></path></g></g></g></svg>\n"
      ],
      "text/plain": [
       "@vlplot(\n",
       "    config={\n",
       "        view={\n",
       "            stroke=\"transparent\"\n",
       "        },\n",
       "        axis={\n",
       "            domainWidth=3\n",
       "        },\n",
       "        opacity={\n",
       "            value=0.7\n",
       "        }\n",
       "    },\n",
       "    title={\n",
       "        text=[\n",
       "            \"Number of Non-MTN Bonds Traded per Covenant Category - 2019Q2\"\n",
       "        ],\n",
       "        align=\"center\",\n",
       "        anchor=\"middle\",\n",
       "        fontSize=14,\n",
       "        offset=20\n",
       "    },\n",
       "    spacing=4.5,\n",
       "    width={\n",
       "        step=18\n",
       "    },\n",
       "    height=350,\n",
       "    mark=\"bar\",\n",
       "    encoding={\n",
       "        column={\n",
       "            type=\"ordinal\",\n",
       "            title=\"Covenant Category\",\n",
       "            sort=\"ascending\",\n",
       "            field=\"cov_cat\"\n",
       "        },\n",
       "        y={\n",
       "            axis={\n",
       "                title=\"Number of Bonds\",\n",
       "                grid=false,\n",
       "                stack=nothing\n",
       "            },\n",
       "            field=\"value\"\n",
       "        },\n",
       "        x={\n",
       "            type=\"nominal\",\n",
       "            axis={\n",
       "                title=\" \"\n",
       "            },\n",
       "            field=\"sbm\"\n",
       "        },\n",
       "        color={\n",
       "            legend={\n",
       "                title=\"Secondary Market\"\n",
       "            },\n",
       "            scale={\n",
       "                scheme=\"viridis\"\n",
       "            },\n",
       "            field=\"sbm\",\n",
       "            type=\"nominal\"\n",
       "        }\n",
       "    },\n",
       "    data={\n",
       "        values=...\n",
       "    }\n",
       ")"
      ]
     },
     "execution_count": 21,
     "metadata": {},
     "output_type": "execute_result"
    }
   ],
   "source": [
    "pl[4]"
   ]
  },
  {
   "cell_type": "code",
   "execution_count": null,
   "metadata": {},
   "outputs": [],
   "source": []
  },
  {
   "cell_type": "code",
   "execution_count": null,
   "metadata": {},
   "outputs": [],
   "source": []
  },
  {
   "cell_type": "code",
   "execution_count": null,
   "metadata": {},
   "outputs": [
    {
     "name": "stdout",
     "output_type": "stream",
     "text": [
      " \n",
      "Filename: 2019Q2_stats_by_num_cov.csv\n",
      " \n",
      "Reading dataframe in folder: /home/artur/BondPricing/bond-data/data/Stats/2019...\n"
     ]
    },
    {
     "name": "stderr",
     "output_type": "stream",
     "text": [
      "WARNING: replacing module DataMod.\n",
      "WARNING: replacing module StatsMod.\n",
      "WARNING: replacing module PlotMod.\n"
     ]
    }
   ],
   "source": [
    "include(string(joinpath(scripts_path, \"plot_num_covs\"), \".jl\"))\n",
    "pl"
   ]
  },
  {
   "cell_type": "code",
   "execution_count": 27,
   "metadata": {},
   "outputs": [
    {
     "data": {
      "application/vnd.vegalite.v4+json": {
       "config": {
        "axis": {
         "domainWidth": 3
        },
        "opacity": {
         "value": 0.7
        },
        "view": {
         "stroke": "transparent"
        }
       },
       "data": {
        "values": [
         {
          "perc_sbm_rt_total": 3.4120395880307193,
          "perc_sbm_total": 3.4120395880307193,
          "period": "2019Q2",
          "rt": "any",
          "sbm": "ats",
          "sum_num_cov": 0,
          "value": 20868,
          "variable": "trades_by_num_cov"
         },
         {
          "perc_sbm_rt_total": 0.06867244714265393,
          "perc_sbm_total": 0.06867244714265393,
          "period": "2019Q2",
          "rt": "any",
          "sbm": "ats",
          "sum_num_cov": 1,
          "value": 420,
          "variable": "trades_by_num_cov"
         },
         {
          "perc_sbm_rt_total": 3.7663567141215077,
          "perc_sbm_total": 3.7663567141215077,
          "period": "2019Q2",
          "rt": "any",
          "sbm": "ats",
          "sum_num_cov": 2,
          "value": 23035,
          "variable": "trades_by_num_cov"
         },
         {
          "perc_sbm_rt_total": 6.846806485949126,
          "perc_sbm_total": 6.846806485949126,
          "period": "2019Q2",
          "rt": "any",
          "sbm": "ats",
          "sum_num_cov": 3,
          "value": 41875,
          "variable": "trades_by_num_cov"
         },
         {
          "perc_sbm_rt_total": 6.404032707705539,
          "perc_sbm_total": 6.404032707705539,
          "period": "2019Q2",
          "rt": "any",
          "sbm": "ats",
          "sum_num_cov": 4,
          "value": 39167,
          "variable": "trades_by_num_cov"
         },
         {
          "perc_sbm_rt_total": 15.278474948454788,
          "perc_sbm_total": 15.278474948454788,
          "period": "2019Q2",
          "rt": "any",
          "sbm": "ats",
          "sum_num_cov": 5,
          "value": 93443,
          "variable": "trades_by_num_cov"
         },
         {
          "perc_sbm_rt_total": 17.081290191775985,
          "perc_sbm_total": 17.081290191775985,
          "period": "2019Q2",
          "rt": "any",
          "sbm": "ats",
          "sum_num_cov": 6,
          "value": 104469,
          "variable": "trades_by_num_cov"
         },
         {
          "perc_sbm_rt_total": 20.282080251929777,
          "perc_sbm_total": 20.282080251929777,
          "period": "2019Q2",
          "rt": "any",
          "sbm": "ats",
          "sum_num_cov": 7,
          "value": 124045,
          "variable": "trades_by_num_cov"
         },
         {
          "perc_sbm_rt_total": 19.070502077341526,
          "perc_sbm_total": 19.070502077341526,
          "period": "2019Q2",
          "rt": "any",
          "sbm": "ats",
          "sum_num_cov": 8,
          "value": 116635,
          "variable": "trades_by_num_cov"
         },
         {
          "perc_sbm_rt_total": 3.2202472535108786,
          "perc_sbm_total": 3.2202472535108786,
          "period": "2019Q2",
          "rt": "any",
          "sbm": "ats",
          "sum_num_cov": 9,
          "value": 19695,
          "variable": "trades_by_num_cov"
         },
         {
          "perc_sbm_rt_total": 3.557559773642534,
          "perc_sbm_total": 3.557559773642534,
          "period": "2019Q2",
          "rt": "any",
          "sbm": "ats",
          "sum_num_cov": 10,
          "value": 21758,
          "variable": "trades_by_num_cov"
         },
         {
          "perc_sbm_rt_total": 0.9072938314156824,
          "perc_sbm_total": 0.9072938314156824,
          "period": "2019Q2",
          "rt": "any",
          "sbm": "ats",
          "sum_num_cov": 11,
          "value": 5549,
          "variable": "trades_by_num_cov"
         },
         {
          "perc_sbm_rt_total": 0.10464372897928217,
          "perc_sbm_total": 0.10464372897928217,
          "period": "2019Q2",
          "rt": "any",
          "sbm": "ats",
          "sum_num_cov": 12,
          "value": 640,
          "variable": "trades_by_num_cov"
         },
         {
          "perc_sbm_rt_total": 3.4415711307972905,
          "perc_sbm_total": 3.4415711307972905,
          "period": "2019Q2",
          "rt": "any",
          "sbm": "otc",
          "sum_num_cov": 0,
          "value": 73969,
          "variable": "trades_by_num_cov"
         },
         {
          "perc_sbm_rt_total": 0.08095734385468623,
          "perc_sbm_total": 0.08095734385468623,
          "period": "2019Q2",
          "rt": "any",
          "sbm": "otc",
          "sum_num_cov": 1,
          "value": 1740,
          "variable": "trades_by_num_cov"
         },
         {
          "perc_sbm_rt_total": 4.546638874413757,
          "perc_sbm_total": 4.546638874413757,
          "period": "2019Q2",
          "rt": "any",
          "sbm": "otc",
          "sum_num_cov": 2,
          "value": 97720,
          "variable": "trades_by_num_cov"
         },
         {
          "perc_sbm_rt_total": 7.901436760217376,
          "perc_sbm_total": 7.901436760217376,
          "period": "2019Q2",
          "rt": "any",
          "sbm": "otc",
          "sum_num_cov": 3,
          "value": 169824,
          "variable": "trades_by_num_cov"
         },
         {
          "perc_sbm_rt_total": 7.07553227127224,
          "perc_sbm_total": 7.07553227127224,
          "period": "2019Q2",
          "rt": "any",
          "sbm": "otc",
          "sum_num_cov": 4,
          "value": 152073,
          "variable": "trades_by_num_cov"
         },
         {
          "perc_sbm_rt_total": 16.64720278418819,
          "perc_sbm_total": 16.64720278418819,
          "period": "2019Q2",
          "rt": "any",
          "sbm": "otc",
          "sum_num_cov": 5,
          "value": 357795,
          "variable": "trades_by_num_cov"
         },
         {
          "perc_sbm_rt_total": 17.242658006402145,
          "perc_sbm_total": 17.242658006402145,
          "period": "2019Q2",
          "rt": "any",
          "sbm": "otc",
          "sum_num_cov": 6,
          "value": 370593,
          "variable": "trades_by_num_cov"
         },
         {
          "perc_sbm_rt_total": 18.92940891833544,
          "perc_sbm_total": 18.92940891833544,
          "period": "2019Q2",
          "rt": "any",
          "sbm": "otc",
          "sum_num_cov": 7,
          "value": 406846,
          "variable": "trades_by_num_cov"
         },
         {
          "perc_sbm_rt_total": 17.099307675128415,
          "perc_sbm_total": 17.099307675128415,
          "period": "2019Q2",
          "rt": "any",
          "sbm": "otc",
          "sum_num_cov": 8,
          "value": 367512,
          "variable": "trades_by_num_cov"
         },
         {
          "perc_sbm_rt_total": 2.8443944018461997,
          "perc_sbm_total": 2.8443944018461997,
          "period": "2019Q2",
          "rt": "any",
          "sbm": "otc",
          "sum_num_cov": 9,
          "value": 61134,
          "variable": "trades_by_num_cov"
         },
         {
          "perc_sbm_rt_total": 3.2483436313556164,
          "perc_sbm_total": 3.2483436313556164,
          "period": "2019Q2",
          "rt": "any",
          "sbm": "otc",
          "sum_num_cov": 10,
          "value": 69816,
          "variable": "trades_by_num_cov"
         },
         {
          "perc_sbm_rt_total": 0.7951034765130649,
          "perc_sbm_total": 0.7951034765130649,
          "period": "2019Q2",
          "rt": "any",
          "sbm": "otc",
          "sum_num_cov": 11,
          "value": 17089,
          "variable": "trades_by_num_cov"
         },
         {
          "perc_sbm_rt_total": 0.1474447256755751,
          "perc_sbm_total": 0.1474447256755751,
          "period": "2019Q2",
          "rt": "any",
          "sbm": "otc",
          "sum_num_cov": 12,
          "value": 3169,
          "variable": "trades_by_num_cov"
         }
        ]
       },
       "encoding": {
        "color": {
         "field": "sbm",
         "legend": {
          "title": "Secondary Market"
         },
         "scale": {
          "scheme": "viridis"
         },
         "type": "nominal"
        },
        "column": {
         "field": "sum_num_cov",
         "sort": "ascending",
         "title": "Number of Covenant Categories per Bond",
         "type": "ordinal"
        },
        "x": {
         "axis": {
          "title": " "
         },
         "field": "sbm",
         "type": "nominal"
        },
        "y": {
         "axis": {
          "grid": false,
          "stack": null,
          "title": "Trade Count"
         },
         "field": "value",
         "type": "quantitative"
        }
       },
       "height": 250,
       "mark": "bar",
       "spacing": 5,
       "title": {
        "align": "center",
        "anchor": "middle",
        "fontSize": 14,
        "offset": 20,
        "text": [
         "Number of Trades of Non-MTN-Bonds Traded",
         " by Number of Covenant Categories per Bond - 2019Q2"
        ]
       },
       "width": {
        "step": 18
       }
      },
      "image/png": "[encoded data removed]",
      "image/svg+xml": [
       "<?xml version=\"1.0\" encoding=\"utf-8\"?>\n",
       "<!DOCTYPE svg PUBLIC \"-//W3C//DTD SVG 1.1//EN\" \"http://www.w3.org/Graphics/SVG/1.1/DTD/svg11.dtd\">\n",
       "<svg class=\"marks\" width=\"754\" height=\"401\" viewBox=\"0 0 754 401\" version=\"1.1\" xmlns=\"http://www.w3.org/2000/svg\" xmlns:xlink=\"http://www.w3.org/1999/xlink\"><rect width=\"754\" height=\"401\" fill=\"white\"></rect><g fill=\"none\" stroke-miterlimit=\"10\" transform=\"translate(67,107)\"><g class=\"mark-group role-frame root\" role=\"graphics-object\" aria-roledescription=\"group mark container\"><g transform=\"translate(0,0)\"><path class=\"background\" aria-hidden=\"true\" d=\"M0,0h0v0h0Z\"></path><g><g class=\"mark-group role-column-title column-title\" role=\"graphics-object\" aria-roledescription=\"group mark container\"><g transform=\"translate(276,-31)\"><path class=\"background\" aria-hidden=\"true\" d=\"M0,0h0v0h0Z\"></path><g><g class=\"mark-group role-title\"><g transform=\"translate(0,-21)\"><path class=\"background\" aria-hidden=\"true\" d=\"M0,0h0v0h0Z\" pointer-events=\"none\"></path><g><g class=\"mark-text role-title-text\" role=\"graphics-symbol\" aria-roledescription=\"title\" aria-label=\"Title text 'Number of Covenant Categories per Bond'\" pointer-events=\"none\"><text text-anchor=\"middle\" transform=\"translate(0,9)\" font-family=\"sans-serif\" font-size=\"11px\" font-weight=\"bold\" fill=\"#000\" opacity=\"1\">Number of Covenant Categories per Bond</text></g></g><path class=\"foreground\" aria-hidden=\"true\" d=\"\" pointer-events=\"none\" display=\"none\"></path></g></g></g><path class=\"foreground\" aria-hidden=\"true\" d=\"\" display=\"none\"></path></g></g><g class=\"mark-group role-row-header row_header\" role=\"graphics-object\" aria-roledescription=\"group mark container\"><g transform=\"translate(-1,0)\"><path class=\"background\" aria-hidden=\"true\" d=\"M0,0h0v250h0Z\"></path><g><g class=\"mark-group role-axis\" role=\"graphics-symbol\" aria-roledescription=\"axis\" aria-label=\"Y-axis titled 'Trade Count' for a linear scale with values from 0 to 450,000\"><g transform=\"translate(0.5,0.5)\"><path class=\"background\" aria-hidden=\"true\" d=\"M0,0h0v0h0Z\" pointer-events=\"none\"></path><g><g class=\"mark-rule role-axis-tick\" pointer-events=\"none\"><line transform=\"translate(0,250)\" x2=\"-5\" y2=\"0\" stroke=\"#888\" stroke-width=\"1\" opacity=\"1\"></line><line transform=\"translate(0,222)\" x2=\"-5\" y2=\"0\" stroke=\"#888\" stroke-width=\"1\" opacity=\"1\"></line><line transform=\"translate(0,194)\" x2=\"-5\" y2=\"0\" stroke=\"#888\" stroke-width=\"1\" opacity=\"1\"></line><line transform=\"translate(0,167)\" x2=\"-5\" y2=\"0\" stroke=\"#888\" stroke-width=\"1\" opacity=\"1\"></line><line transform=\"translate(0,139)\" x2=\"-5\" y2=\"0\" stroke=\"#888\" stroke-width=\"1\" opacity=\"1\"></line><line transform=\"translate(0,111)\" x2=\"-5\" y2=\"0\" stroke=\"#888\" stroke-width=\"1\" opacity=\"1\"></line><line transform=\"translate(0,83)\" x2=\"-5\" y2=\"0\" stroke=\"#888\" stroke-width=\"1\" opacity=\"1\"></line><line transform=\"translate(0,56)\" x2=\"-5\" y2=\"0\" stroke=\"#888\" stroke-width=\"1\" opacity=\"1\"></line><line transform=\"translate(0,28)\" x2=\"-5\" y2=\"0\" stroke=\"#888\" stroke-width=\"1\" opacity=\"1\"></line><line transform=\"translate(0,0)\" x2=\"-5\" y2=\"0\" stroke=\"#888\" stroke-width=\"1\" opacity=\"1\"></line></g><g class=\"mark-text role-axis-label\" pointer-events=\"none\"><text text-anchor=\"end\" transform=\"translate(-7,253)\" font-family=\"sans-serif\" font-size=\"10px\" fill=\"#000\" opacity=\"1\">0</text><text text-anchor=\"end\" transform=\"translate(-7,225.2222222222222)\" font-family=\"sans-serif\" font-size=\"10px\" fill=\"#000\" opacity=\"1\">50,000</text><text text-anchor=\"end\" transform=\"translate(-7,197.44444444444446)\" font-family=\"sans-serif\" font-size=\"10px\" fill=\"#000\" opacity=\"1\">100,000</text><text text-anchor=\"end\" transform=\"translate(-7,169.66666666666669)\" font-family=\"sans-serif\" font-size=\"10px\" fill=\"#000\" opacity=\"1\">150,000</text><text text-anchor=\"end\" transform=\"translate(-7,141.88888888888889)\" font-family=\"sans-serif\" font-size=\"10px\" fill=\"#000\" opacity=\"1\">200,000</text><text text-anchor=\"end\" transform=\"translate(-7,114.1111111111111)\" font-family=\"sans-serif\" font-size=\"10px\" fill=\"#000\" opacity=\"1\">250,000</text><text text-anchor=\"end\" transform=\"translate(-7,86.33333333333334)\" font-family=\"sans-serif\" font-size=\"10px\" fill=\"#000\" opacity=\"1\">300,000</text><text text-anchor=\"end\" transform=\"translate(-7,58.55555555555555)\" font-family=\"sans-serif\" font-size=\"10px\" fill=\"#000\" opacity=\"1\">350,000</text><text text-anchor=\"end\" transform=\"translate(-7,30.77777777777779)\" font-family=\"sans-serif\" font-size=\"10px\" fill=\"#000\" opacity=\"1\">400,000</text><text text-anchor=\"end\" transform=\"translate(-7,3)\" font-family=\"sans-serif\" font-size=\"10px\" fill=\"#000\" opacity=\"1\">450,000</text></g><g class=\"mark-rule role-axis-domain\" pointer-events=\"none\"><line transform=\"translate(0,250)\" x2=\"0\" y2=\"-250\" stroke=\"#888\" stroke-width=\"3\" opacity=\"1\"></line></g><g class=\"mark-text role-axis-title\" pointer-events=\"none\"><text text-anchor=\"middle\" transform=\"translate(-50,125) rotate(-90) translate(0,-2)\" font-family=\"sans-serif\" font-size=\"11px\" font-weight=\"bold\" fill=\"#000\" opacity=\"1\">Trade Count</text></g></g><path class=\"foreground\" aria-hidden=\"true\" d=\"\" pointer-events=\"none\" display=\"none\"></path></g></g></g><path class=\"foreground\" aria-hidden=\"true\" d=\"\" display=\"none\"></path></g></g><g class=\"mark-group role-column-header column_header\" role=\"graphics-object\" aria-roledescription=\"group mark container\"><g transform=\"translate(0,-1)\"><path class=\"background\" aria-hidden=\"true\" d=\"M0,0h36v0h-36Z\"></path><g><g class=\"mark-group role-title\"><g transform=\"translate(18,-20)\"><path class=\"background\" aria-hidden=\"true\" d=\"M0,0h0v0h0Z\" pointer-events=\"none\"></path><g><g class=\"mark-text role-title-text\" role=\"graphics-symbol\" aria-roledescription=\"title\" aria-label=\"Title text '0'\" pointer-events=\"none\"><text text-anchor=\"middle\" transform=\"translate(0,8)\" font-family=\"sans-serif\" font-size=\"10px\" fill=\"#000\" opacity=\"1\">0</text></g></g><path class=\"foreground\" aria-hidden=\"true\" d=\"\" pointer-events=\"none\" display=\"none\"></path></g></g></g><path class=\"foreground\" aria-hidden=\"true\" d=\"\" display=\"none\"></path></g><g transform=\"translate(43,-1)\"><path class=\"background\" aria-hidden=\"true\" d=\"M0,0h36v0h-36Z\"></path><g><g class=\"mark-group role-title\"><g transform=\"translate(18,-20)\"><path class=\"background\" aria-hidden=\"true\" d=\"M0,0h0v0h0Z\" pointer-events=\"none\"></path><g><g class=\"mark-text role-title-text\" role=\"graphics-symbol\" aria-roledescription=\"title\" aria-label=\"Title text '1'\" pointer-events=\"none\"><text text-anchor=\"middle\" transform=\"translate(0,8)\" font-family=\"sans-serif\" font-size=\"10px\" fill=\"#000\" opacity=\"1\">1</text></g></g><path class=\"foreground\" aria-hidden=\"true\" d=\"\" pointer-events=\"none\" display=\"none\"></path></g></g></g><path class=\"foreground\" aria-hidden=\"true\" d=\"\" display=\"none\"></path></g><g transform=\"translate(86,-1)\"><path class=\"background\" aria-hidden=\"true\" d=\"M0,0h36v0h-36Z\"></path><g><g class=\"mark-group role-title\"><g transform=\"translate(18,-20)\"><path class=\"background\" aria-hidden=\"true\" d=\"M0,0h0v0h0Z\" pointer-events=\"none\"></path><g><g class=\"mark-text role-title-text\" role=\"graphics-symbol\" aria-roledescription=\"title\" aria-label=\"Title text '2'\" pointer-events=\"none\"><text text-anchor=\"middle\" transform=\"translate(0,8)\" font-family=\"sans-serif\" font-size=\"10px\" fill=\"#000\" opacity=\"1\">2</text></g></g><path class=\"foreground\" aria-hidden=\"true\" d=\"\" pointer-events=\"none\" display=\"none\"></path></g></g></g><path class=\"foreground\" aria-hidden=\"true\" d=\"\" display=\"none\"></path></g><g transform=\"translate(129,-1)\"><path class=\"background\" aria-hidden=\"true\" d=\"M0,0h36v0h-36Z\"></path><g><g class=\"mark-group role-title\"><g transform=\"translate(18,-20)\"><path class=\"background\" aria-hidden=\"true\" d=\"M0,0h0v0h0Z\" pointer-events=\"none\"></path><g><g class=\"mark-text role-title-text\" role=\"graphics-symbol\" aria-roledescription=\"title\" aria-label=\"Title text '3'\" pointer-events=\"none\"><text text-anchor=\"middle\" transform=\"translate(0,8)\" font-family=\"sans-serif\" font-size=\"10px\" fill=\"#000\" opacity=\"1\">3</text></g></g><path class=\"foreground\" aria-hidden=\"true\" d=\"\" pointer-events=\"none\" display=\"none\"></path></g></g></g><path class=\"foreground\" aria-hidden=\"true\" d=\"\" display=\"none\"></path></g><g transform=\"translate(172,-1)\"><path class=\"background\" aria-hidden=\"true\" d=\"M0,0h36v0h-36Z\"></path><g><g class=\"mark-group role-title\"><g transform=\"translate(18,-20)\"><path class=\"background\" aria-hidden=\"true\" d=\"M0,0h0v0h0Z\" pointer-events=\"none\"></path><g><g class=\"mark-text role-title-text\" role=\"graphics-symbol\" aria-roledescription=\"title\" aria-label=\"Title text '4'\" pointer-events=\"none\"><text text-anchor=\"middle\" transform=\"translate(0,8)\" font-family=\"sans-serif\" font-size=\"10px\" fill=\"#000\" opacity=\"1\">4</text></g></g><path class=\"foreground\" aria-hidden=\"true\" d=\"\" pointer-events=\"none\" display=\"none\"></path></g></g></g><path class=\"foreground\" aria-hidden=\"true\" d=\"\" display=\"none\"></path></g><g transform=\"translate(215,-1)\"><path class=\"background\" aria-hidden=\"true\" d=\"M0,0h36v0h-36Z\"></path><g><g class=\"mark-group role-title\"><g transform=\"translate(18,-20)\"><path class=\"background\" aria-hidden=\"true\" d=\"M0,0h0v0h0Z\" pointer-events=\"none\"></path><g><g class=\"mark-text role-title-text\" role=\"graphics-symbol\" aria-roledescription=\"title\" aria-label=\"Title text '5'\" pointer-events=\"none\"><text text-anchor=\"middle\" transform=\"translate(0,8)\" font-family=\"sans-serif\" font-size=\"10px\" fill=\"#000\" opacity=\"1\">5</text></g></g><path class=\"foreground\" aria-hidden=\"true\" d=\"\" pointer-events=\"none\" display=\"none\"></path></g></g></g><path class=\"foreground\" aria-hidden=\"true\" d=\"\" display=\"none\"></path></g><g transform=\"translate(258,-1)\"><path class=\"background\" aria-hidden=\"true\" d=\"M0,0h36v0h-36Z\"></path><g><g class=\"mark-group role-title\"><g transform=\"translate(18,-20)\"><path class=\"background\" aria-hidden=\"true\" d=\"M0,0h0v0h0Z\" pointer-events=\"none\"></path><g><g class=\"mark-text role-title-text\" role=\"graphics-symbol\" aria-roledescription=\"title\" aria-label=\"Title text '6'\" pointer-events=\"none\"><text text-anchor=\"middle\" transform=\"translate(0,8)\" font-family=\"sans-serif\" font-size=\"10px\" fill=\"#000\" opacity=\"1\">6</text></g></g><path class=\"foreground\" aria-hidden=\"true\" d=\"\" pointer-events=\"none\" display=\"none\"></path></g></g></g><path class=\"foreground\" aria-hidden=\"true\" d=\"\" display=\"none\"></path></g><g transform=\"translate(301,-1)\"><path class=\"background\" aria-hidden=\"true\" d=\"M0,0h36v0h-36Z\"></path><g><g class=\"mark-group role-title\"><g transform=\"translate(18,-20)\"><path class=\"background\" aria-hidden=\"true\" d=\"M0,0h0v0h0Z\" pointer-events=\"none\"></path><g><g class=\"mark-text role-title-text\" role=\"graphics-symbol\" aria-roledescription=\"title\" aria-label=\"Title text '7'\" pointer-events=\"none\"><text text-anchor=\"middle\" transform=\"translate(0,8)\" font-family=\"sans-serif\" font-size=\"10px\" fill=\"#000\" opacity=\"1\">7</text></g></g><path class=\"foreground\" aria-hidden=\"true\" d=\"\" pointer-events=\"none\" display=\"none\"></path></g></g></g><path class=\"foreground\" aria-hidden=\"true\" d=\"\" display=\"none\"></path></g><g transform=\"translate(344,-1)\"><path class=\"background\" aria-hidden=\"true\" d=\"M0,0h36v0h-36Z\"></path><g><g class=\"mark-group role-title\"><g transform=\"translate(18,-20)\"><path class=\"background\" aria-hidden=\"true\" d=\"M0,0h0v0h0Z\" pointer-events=\"none\"></path><g><g class=\"mark-text role-title-text\" role=\"graphics-symbol\" aria-roledescription=\"title\" aria-label=\"Title text '8'\" pointer-events=\"none\"><text text-anchor=\"middle\" transform=\"translate(0,8)\" font-family=\"sans-serif\" font-size=\"10px\" fill=\"#000\" opacity=\"1\">8</text></g></g><path class=\"foreground\" aria-hidden=\"true\" d=\"\" pointer-events=\"none\" display=\"none\"></path></g></g></g><path class=\"foreground\" aria-hidden=\"true\" d=\"\" display=\"none\"></path></g><g transform=\"translate(387,-1)\"><path class=\"background\" aria-hidden=\"true\" d=\"M0,0h36v0h-36Z\"></path><g><g class=\"mark-group role-title\"><g transform=\"translate(18,-20)\"><path class=\"background\" aria-hidden=\"true\" d=\"M0,0h0v0h0Z\" pointer-events=\"none\"></path><g><g class=\"mark-text role-title-text\" role=\"graphics-symbol\" aria-roledescription=\"title\" aria-label=\"Title text '9'\" pointer-events=\"none\"><text text-anchor=\"middle\" transform=\"translate(0,8)\" font-family=\"sans-serif\" font-size=\"10px\" fill=\"#000\" opacity=\"1\">9</text></g></g><path class=\"foreground\" aria-hidden=\"true\" d=\"\" pointer-events=\"none\" display=\"none\"></path></g></g></g><path class=\"foreground\" aria-hidden=\"true\" d=\"\" display=\"none\"></path></g><g transform=\"translate(430,-1)\"><path class=\"background\" aria-hidden=\"true\" d=\"M0,0h36v0h-36Z\"></path><g><g class=\"mark-group role-title\"><g transform=\"translate(18,-20)\"><path class=\"background\" aria-hidden=\"true\" d=\"M0,0h0v0h0Z\" pointer-events=\"none\"></path><g><g class=\"mark-text role-title-text\" role=\"graphics-symbol\" aria-roledescription=\"title\" aria-label=\"Title text '10'\" pointer-events=\"none\"><text text-anchor=\"middle\" transform=\"translate(0,8)\" font-family=\"sans-serif\" font-size=\"10px\" fill=\"#000\" opacity=\"1\">10</text></g></g><path class=\"foreground\" aria-hidden=\"true\" d=\"\" pointer-events=\"none\" display=\"none\"></path></g></g></g><path class=\"foreground\" aria-hidden=\"true\" d=\"\" display=\"none\"></path></g><g transform=\"translate(473,-1)\"><path class=\"background\" aria-hidden=\"true\" d=\"M0,0h36v0h-36Z\"></path><g><g class=\"mark-group role-title\"><g transform=\"translate(18,-20)\"><path class=\"background\" aria-hidden=\"true\" d=\"M0,0h0v0h0Z\" pointer-events=\"none\"></path><g><g class=\"mark-text role-title-text\" role=\"graphics-symbol\" aria-roledescription=\"title\" aria-label=\"Title text '11'\" pointer-events=\"none\"><text text-anchor=\"middle\" transform=\"translate(0,8)\" font-family=\"sans-serif\" font-size=\"10px\" fill=\"#000\" opacity=\"1\">11</text></g></g><path class=\"foreground\" aria-hidden=\"true\" d=\"\" pointer-events=\"none\" display=\"none\"></path></g></g></g><path class=\"foreground\" aria-hidden=\"true\" d=\"\" display=\"none\"></path></g><g transform=\"translate(516,-1)\"><path class=\"background\" aria-hidden=\"true\" d=\"M0,0h36v0h-36Z\"></path><g><g class=\"mark-group role-title\"><g transform=\"translate(18,-20)\"><path class=\"background\" aria-hidden=\"true\" d=\"M0,0h0v0h0Z\" pointer-events=\"none\"></path><g><g class=\"mark-text role-title-text\" role=\"graphics-symbol\" aria-roledescription=\"title\" aria-label=\"Title text '12'\" pointer-events=\"none\"><text text-anchor=\"middle\" transform=\"translate(0,8)\" font-family=\"sans-serif\" font-size=\"10px\" fill=\"#000\" opacity=\"1\">12</text></g></g><path class=\"foreground\" aria-hidden=\"true\" d=\"\" pointer-events=\"none\" display=\"none\"></path></g></g></g><path class=\"foreground\" aria-hidden=\"true\" d=\"\" display=\"none\"></path></g></g><g class=\"mark-group role-column-footer column_footer\" role=\"graphics-object\" aria-roledescription=\"group mark container\"><g transform=\"translate(0,251)\"><path class=\"background\" aria-hidden=\"true\" d=\"M0,0h36v0h-36Z\"></path><g><g class=\"mark-group role-axis\" role=\"graphics-symbol\" aria-roledescription=\"axis\" aria-label=\"X-axis titled ' ' for a discrete scale with 2 values: ats, otc\"><g transform=\"translate(0.5,0.5)\"><path class=\"background\" aria-hidden=\"true\" d=\"M0,0h0v0h0Z\" pointer-events=\"none\"></path><g><g class=\"mark-rule role-axis-tick\" pointer-events=\"none\"><line transform=\"translate(9,0)\" x2=\"0\" y2=\"5\" stroke=\"#888\" stroke-width=\"1\" opacity=\"1\"></line><line transform=\"translate(27,0)\" x2=\"0\" y2=\"5\" stroke=\"#888\" stroke-width=\"1\" opacity=\"1\"></line></g><g class=\"mark-text role-axis-label\" pointer-events=\"none\"><text text-anchor=\"end\" transform=\"translate(8.500000000000002,7) rotate(270) translate(0,3)\" font-family=\"sans-serif\" font-size=\"10px\" fill=\"#000\" opacity=\"1\">ats</text><text text-anchor=\"end\" transform=\"translate(26.5,7) rotate(270) translate(0,3)\" font-family=\"sans-serif\" font-size=\"10px\" fill=\"#000\" opacity=\"1\">otc</text></g><g class=\"mark-rule role-axis-domain\" pointer-events=\"none\"><line transform=\"translate(0,0)\" x2=\"36\" y2=\"0\" stroke=\"#888\" stroke-width=\"3\" opacity=\"1\"></line></g><g class=\"mark-text role-axis-title\" pointer-events=\"none\"><text text-anchor=\"middle\" transform=\"translate(18,36)\" font-family=\"sans-serif\" font-size=\"11px\" font-weight=\"bold\" fill=\"#000\" opacity=\"1\"></text></g></g><path class=\"foreground\" aria-hidden=\"true\" d=\"\" pointer-events=\"none\" display=\"none\"></path></g></g></g><path class=\"foreground\" aria-hidden=\"true\" d=\"\" display=\"none\"></path></g><g transform=\"translate(43,251)\"><path class=\"background\" aria-hidden=\"true\" d=\"M0,0h36v0h-36Z\"></path><g><g class=\"mark-group role-axis\" role=\"graphics-symbol\" aria-roledescription=\"axis\" aria-label=\"X-axis titled ' ' for a discrete scale with 2 values: ats, otc\"><g transform=\"translate(0.5,0.5)\"><path class=\"background\" aria-hidden=\"true\" d=\"M0,0h0v0h0Z\" pointer-events=\"none\"></path><g><g class=\"mark-rule role-axis-tick\" pointer-events=\"none\"><line transform=\"translate(9,0)\" x2=\"0\" y2=\"5\" stroke=\"#888\" stroke-width=\"1\" opacity=\"1\"></line><line transform=\"translate(27,0)\" x2=\"0\" y2=\"5\" stroke=\"#888\" stroke-width=\"1\" opacity=\"1\"></line></g><g class=\"mark-text role-axis-label\" pointer-events=\"none\"><text text-anchor=\"end\" transform=\"translate(8.500000000000002,7) rotate(270) translate(0,3)\" font-family=\"sans-serif\" font-size=\"10px\" fill=\"#000\" opacity=\"1\">ats</text><text text-anchor=\"end\" transform=\"translate(26.5,7) rotate(270) translate(0,3)\" font-family=\"sans-serif\" font-size=\"10px\" fill=\"#000\" opacity=\"1\">otc</text></g><g class=\"mark-rule role-axis-domain\" pointer-events=\"none\"><line transform=\"translate(0,0)\" x2=\"36\" y2=\"0\" stroke=\"#888\" stroke-width=\"3\" opacity=\"1\"></line></g><g class=\"mark-text role-axis-title\" pointer-events=\"none\"><text text-anchor=\"middle\" transform=\"translate(18,36)\" font-family=\"sans-serif\" font-size=\"11px\" font-weight=\"bold\" fill=\"#000\" opacity=\"1\"></text></g></g><path class=\"foreground\" aria-hidden=\"true\" d=\"\" pointer-events=\"none\" display=\"none\"></path></g></g></g><path class=\"foreground\" aria-hidden=\"true\" d=\"\" display=\"none\"></path></g><g transform=\"translate(86,251)\"><path class=\"background\" aria-hidden=\"true\" d=\"M0,0h36v0h-36Z\"></path><g><g class=\"mark-group role-axis\" role=\"graphics-symbol\" aria-roledescription=\"axis\" aria-label=\"X-axis titled ' ' for a discrete scale with 2 values: ats, otc\"><g transform=\"translate(0.5,0.5)\"><path class=\"background\" aria-hidden=\"true\" d=\"M0,0h0v0h0Z\" pointer-events=\"none\"></path><g><g class=\"mark-rule role-axis-tick\" pointer-events=\"none\"><line transform=\"translate(9,0)\" x2=\"0\" y2=\"5\" stroke=\"#888\" stroke-width=\"1\" opacity=\"1\"></line><line transform=\"translate(27,0)\" x2=\"0\" y2=\"5\" stroke=\"#888\" stroke-width=\"1\" opacity=\"1\"></line></g><g class=\"mark-text role-axis-label\" pointer-events=\"none\"><text text-anchor=\"end\" transform=\"translate(8.500000000000002,7) rotate(270) translate(0,3)\" font-family=\"sans-serif\" font-size=\"10px\" fill=\"#000\" opacity=\"1\">ats</text><text text-anchor=\"end\" transform=\"translate(26.5,7) rotate(270) translate(0,3)\" font-family=\"sans-serif\" font-size=\"10px\" fill=\"#000\" opacity=\"1\">otc</text></g><g class=\"mark-rule role-axis-domain\" pointer-events=\"none\"><line transform=\"translate(0,0)\" x2=\"36\" y2=\"0\" stroke=\"#888\" stroke-width=\"3\" opacity=\"1\"></line></g><g class=\"mark-text role-axis-title\" pointer-events=\"none\"><text text-anchor=\"middle\" transform=\"translate(18,36)\" font-family=\"sans-serif\" font-size=\"11px\" font-weight=\"bold\" fill=\"#000\" opacity=\"1\"></text></g></g><path class=\"foreground\" aria-hidden=\"true\" d=\"\" pointer-events=\"none\" display=\"none\"></path></g></g></g><path class=\"foreground\" aria-hidden=\"true\" d=\"\" display=\"none\"></path></g><g transform=\"translate(129,251)\"><path class=\"background\" aria-hidden=\"true\" d=\"M0,0h36v0h-36Z\"></path><g><g class=\"mark-group role-axis\" role=\"graphics-symbol\" aria-roledescription=\"axis\" aria-label=\"X-axis titled ' ' for a discrete scale with 2 values: ats, otc\"><g transform=\"translate(0.5,0.5)\"><path class=\"background\" aria-hidden=\"true\" d=\"M0,0h0v0h0Z\" pointer-events=\"none\"></path><g><g class=\"mark-rule role-axis-tick\" pointer-events=\"none\"><line transform=\"translate(9,0)\" x2=\"0\" y2=\"5\" stroke=\"#888\" stroke-width=\"1\" opacity=\"1\"></line><line transform=\"translate(27,0)\" x2=\"0\" y2=\"5\" stroke=\"#888\" stroke-width=\"1\" opacity=\"1\"></line></g><g class=\"mark-text role-axis-label\" pointer-events=\"none\"><text text-anchor=\"end\" transform=\"translate(8.500000000000002,7) rotate(270) translate(0,3)\" font-family=\"sans-serif\" font-size=\"10px\" fill=\"#000\" opacity=\"1\">ats</text><text text-anchor=\"end\" transform=\"translate(26.5,7) rotate(270) translate(0,3)\" font-family=\"sans-serif\" font-size=\"10px\" fill=\"#000\" opacity=\"1\">otc</text></g><g class=\"mark-rule role-axis-domain\" pointer-events=\"none\"><line transform=\"translate(0,0)\" x2=\"36\" y2=\"0\" stroke=\"#888\" stroke-width=\"3\" opacity=\"1\"></line></g><g class=\"mark-text role-axis-title\" pointer-events=\"none\"><text text-anchor=\"middle\" transform=\"translate(18,36)\" font-family=\"sans-serif\" font-size=\"11px\" font-weight=\"bold\" fill=\"#000\" opacity=\"1\"></text></g></g><path class=\"foreground\" aria-hidden=\"true\" d=\"\" pointer-events=\"none\" display=\"none\"></path></g></g></g><path class=\"foreground\" aria-hidden=\"true\" d=\"\" display=\"none\"></path></g><g transform=\"translate(172,251)\"><path class=\"background\" aria-hidden=\"true\" d=\"M0,0h36v0h-36Z\"></path><g><g class=\"mark-group role-axis\" role=\"graphics-symbol\" aria-roledescription=\"axis\" aria-label=\"X-axis titled ' ' for a discrete scale with 2 values: ats, otc\"><g transform=\"translate(0.5,0.5)\"><path class=\"background\" aria-hidden=\"true\" d=\"M0,0h0v0h0Z\" pointer-events=\"none\"></path><g><g class=\"mark-rule role-axis-tick\" pointer-events=\"none\"><line transform=\"translate(9,0)\" x2=\"0\" y2=\"5\" stroke=\"#888\" stroke-width=\"1\" opacity=\"1\"></line><line transform=\"translate(27,0)\" x2=\"0\" y2=\"5\" stroke=\"#888\" stroke-width=\"1\" opacity=\"1\"></line></g><g class=\"mark-text role-axis-label\" pointer-events=\"none\"><text text-anchor=\"end\" transform=\"translate(8.500000000000002,7) rotate(270) translate(0,3)\" font-family=\"sans-serif\" font-size=\"10px\" fill=\"#000\" opacity=\"1\">ats</text><text text-anchor=\"end\" transform=\"translate(26.5,7) rotate(270) translate(0,3)\" font-family=\"sans-serif\" font-size=\"10px\" fill=\"#000\" opacity=\"1\">otc</text></g><g class=\"mark-rule role-axis-domain\" pointer-events=\"none\"><line transform=\"translate(0,0)\" x2=\"36\" y2=\"0\" stroke=\"#888\" stroke-width=\"3\" opacity=\"1\"></line></g><g class=\"mark-text role-axis-title\" pointer-events=\"none\"><text text-anchor=\"middle\" transform=\"translate(18,36)\" font-family=\"sans-serif\" font-size=\"11px\" font-weight=\"bold\" fill=\"#000\" opacity=\"1\"></text></g></g><path class=\"foreground\" aria-hidden=\"true\" d=\"\" pointer-events=\"none\" display=\"none\"></path></g></g></g><path class=\"foreground\" aria-hidden=\"true\" d=\"\" display=\"none\"></path></g><g transform=\"translate(215,251)\"><path class=\"background\" aria-hidden=\"true\" d=\"M0,0h36v0h-36Z\"></path><g><g class=\"mark-group role-axis\" role=\"graphics-symbol\" aria-roledescription=\"axis\" aria-label=\"X-axis titled ' ' for a discrete scale with 2 values: ats, otc\"><g transform=\"translate(0.5,0.5)\"><path class=\"background\" aria-hidden=\"true\" d=\"M0,0h0v0h0Z\" pointer-events=\"none\"></path><g><g class=\"mark-rule role-axis-tick\" pointer-events=\"none\"><line transform=\"translate(9,0)\" x2=\"0\" y2=\"5\" stroke=\"#888\" stroke-width=\"1\" opacity=\"1\"></line><line transform=\"translate(27,0)\" x2=\"0\" y2=\"5\" stroke=\"#888\" stroke-width=\"1\" opacity=\"1\"></line></g><g class=\"mark-text role-axis-label\" pointer-events=\"none\"><text text-anchor=\"end\" transform=\"translate(8.500000000000002,7) rotate(270) translate(0,3)\" font-family=\"sans-serif\" font-size=\"10px\" fill=\"#000\" opacity=\"1\">ats</text><text text-anchor=\"end\" transform=\"translate(26.5,7) rotate(270) translate(0,3)\" font-family=\"sans-serif\" font-size=\"10px\" fill=\"#000\" opacity=\"1\">otc</text></g><g class=\"mark-rule role-axis-domain\" pointer-events=\"none\"><line transform=\"translate(0,0)\" x2=\"36\" y2=\"0\" stroke=\"#888\" stroke-width=\"3\" opacity=\"1\"></line></g><g class=\"mark-text role-axis-title\" pointer-events=\"none\"><text text-anchor=\"middle\" transform=\"translate(18,36)\" font-family=\"sans-serif\" font-size=\"11px\" font-weight=\"bold\" fill=\"#000\" opacity=\"1\"></text></g></g><path class=\"foreground\" aria-hidden=\"true\" d=\"\" pointer-events=\"none\" display=\"none\"></path></g></g></g><path class=\"foreground\" aria-hidden=\"true\" d=\"\" display=\"none\"></path></g><g transform=\"translate(258,251)\"><path class=\"background\" aria-hidden=\"true\" d=\"M0,0h36v0h-36Z\"></path><g><g class=\"mark-group role-axis\" role=\"graphics-symbol\" aria-roledescription=\"axis\" aria-label=\"X-axis titled ' ' for a discrete scale with 2 values: ats, otc\"><g transform=\"translate(0.5,0.5)\"><path class=\"background\" aria-hidden=\"true\" d=\"M0,0h0v0h0Z\" pointer-events=\"none\"></path><g><g class=\"mark-rule role-axis-tick\" pointer-events=\"none\"><line transform=\"translate(9,0)\" x2=\"0\" y2=\"5\" stroke=\"#888\" stroke-width=\"1\" opacity=\"1\"></line><line transform=\"translate(27,0)\" x2=\"0\" y2=\"5\" stroke=\"#888\" stroke-width=\"1\" opacity=\"1\"></line></g><g class=\"mark-text role-axis-label\" pointer-events=\"none\"><text text-anchor=\"end\" transform=\"translate(8.500000000000002,7) rotate(270) translate(0,3)\" font-family=\"sans-serif\" font-size=\"10px\" fill=\"#000\" opacity=\"1\">ats</text><text text-anchor=\"end\" transform=\"translate(26.5,7) rotate(270) translate(0,3)\" font-family=\"sans-serif\" font-size=\"10px\" fill=\"#000\" opacity=\"1\">otc</text></g><g class=\"mark-rule role-axis-domain\" pointer-events=\"none\"><line transform=\"translate(0,0)\" x2=\"36\" y2=\"0\" stroke=\"#888\" stroke-width=\"3\" opacity=\"1\"></line></g><g class=\"mark-text role-axis-title\" pointer-events=\"none\"><text text-anchor=\"middle\" transform=\"translate(18,36)\" font-family=\"sans-serif\" font-size=\"11px\" font-weight=\"bold\" fill=\"#000\" opacity=\"1\"></text></g></g><path class=\"foreground\" aria-hidden=\"true\" d=\"\" pointer-events=\"none\" display=\"none\"></path></g></g></g><path class=\"foreground\" aria-hidden=\"true\" d=\"\" display=\"none\"></path></g><g transform=\"translate(301,251)\"><path class=\"background\" aria-hidden=\"true\" d=\"M0,0h36v0h-36Z\"></path><g><g class=\"mark-group role-axis\" role=\"graphics-symbol\" aria-roledescription=\"axis\" aria-label=\"X-axis titled ' ' for a discrete scale with 2 values: ats, otc\"><g transform=\"translate(0.5,0.5)\"><path class=\"background\" aria-hidden=\"true\" d=\"M0,0h0v0h0Z\" pointer-events=\"none\"></path><g><g class=\"mark-rule role-axis-tick\" pointer-events=\"none\"><line transform=\"translate(9,0)\" x2=\"0\" y2=\"5\" stroke=\"#888\" stroke-width=\"1\" opacity=\"1\"></line><line transform=\"translate(27,0)\" x2=\"0\" y2=\"5\" stroke=\"#888\" stroke-width=\"1\" opacity=\"1\"></line></g><g class=\"mark-text role-axis-label\" pointer-events=\"none\"><text text-anchor=\"end\" transform=\"translate(8.500000000000002,7) rotate(270) translate(0,3)\" font-family=\"sans-serif\" font-size=\"10px\" fill=\"#000\" opacity=\"1\">ats</text><text text-anchor=\"end\" transform=\"translate(26.5,7) rotate(270) translate(0,3)\" font-family=\"sans-serif\" font-size=\"10px\" fill=\"#000\" opacity=\"1\">otc</text></g><g class=\"mark-rule role-axis-domain\" pointer-events=\"none\"><line transform=\"translate(0,0)\" x2=\"36\" y2=\"0\" stroke=\"#888\" stroke-width=\"3\" opacity=\"1\"></line></g><g class=\"mark-text role-axis-title\" pointer-events=\"none\"><text text-anchor=\"middle\" transform=\"translate(18,36)\" font-family=\"sans-serif\" font-size=\"11px\" font-weight=\"bold\" fill=\"#000\" opacity=\"1\"></text></g></g><path class=\"foreground\" aria-hidden=\"true\" d=\"\" pointer-events=\"none\" display=\"none\"></path></g></g></g><path class=\"foreground\" aria-hidden=\"true\" d=\"\" display=\"none\"></path></g><g transform=\"translate(344,251)\"><path class=\"background\" aria-hidden=\"true\" d=\"M0,0h36v0h-36Z\"></path><g><g class=\"mark-group role-axis\" role=\"graphics-symbol\" aria-roledescription=\"axis\" aria-label=\"X-axis titled ' ' for a discrete scale with 2 values: ats, otc\"><g transform=\"translate(0.5,0.5)\"><path class=\"background\" aria-hidden=\"true\" d=\"M0,0h0v0h0Z\" pointer-events=\"none\"></path><g><g class=\"mark-rule role-axis-tick\" pointer-events=\"none\"><line transform=\"translate(9,0)\" x2=\"0\" y2=\"5\" stroke=\"#888\" stroke-width=\"1\" opacity=\"1\"></line><line transform=\"translate(27,0)\" x2=\"0\" y2=\"5\" stroke=\"#888\" stroke-width=\"1\" opacity=\"1\"></line></g><g class=\"mark-text role-axis-label\" pointer-events=\"none\"><text text-anchor=\"end\" transform=\"translate(8.500000000000002,7) rotate(270) translate(0,3)\" font-family=\"sans-serif\" font-size=\"10px\" fill=\"#000\" opacity=\"1\">ats</text><text text-anchor=\"end\" transform=\"translate(26.5,7) rotate(270) translate(0,3)\" font-family=\"sans-serif\" font-size=\"10px\" fill=\"#000\" opacity=\"1\">otc</text></g><g class=\"mark-rule role-axis-domain\" pointer-events=\"none\"><line transform=\"translate(0,0)\" x2=\"36\" y2=\"0\" stroke=\"#888\" stroke-width=\"3\" opacity=\"1\"></line></g><g class=\"mark-text role-axis-title\" pointer-events=\"none\"><text text-anchor=\"middle\" transform=\"translate(18,36)\" font-family=\"sans-serif\" font-size=\"11px\" font-weight=\"bold\" fill=\"#000\" opacity=\"1\"></text></g></g><path class=\"foreground\" aria-hidden=\"true\" d=\"\" pointer-events=\"none\" display=\"none\"></path></g></g></g><path class=\"foreground\" aria-hidden=\"true\" d=\"\" display=\"none\"></path></g><g transform=\"translate(387,251)\"><path class=\"background\" aria-hidden=\"true\" d=\"M0,0h36v0h-36Z\"></path><g><g class=\"mark-group role-axis\" role=\"graphics-symbol\" aria-roledescription=\"axis\" aria-label=\"X-axis titled ' ' for a discrete scale with 2 values: ats, otc\"><g transform=\"translate(0.5,0.5)\"><path class=\"background\" aria-hidden=\"true\" d=\"M0,0h0v0h0Z\" pointer-events=\"none\"></path><g><g class=\"mark-rule role-axis-tick\" pointer-events=\"none\"><line transform=\"translate(9,0)\" x2=\"0\" y2=\"5\" stroke=\"#888\" stroke-width=\"1\" opacity=\"1\"></line><line transform=\"translate(27,0)\" x2=\"0\" y2=\"5\" stroke=\"#888\" stroke-width=\"1\" opacity=\"1\"></line></g><g class=\"mark-text role-axis-label\" pointer-events=\"none\"><text text-anchor=\"end\" transform=\"translate(8.500000000000002,7) rotate(270) translate(0,3)\" font-family=\"sans-serif\" font-size=\"10px\" fill=\"#000\" opacity=\"1\">ats</text><text text-anchor=\"end\" transform=\"translate(26.5,7) rotate(270) translate(0,3)\" font-family=\"sans-serif\" font-size=\"10px\" fill=\"#000\" opacity=\"1\">otc</text></g><g class=\"mark-rule role-axis-domain\" pointer-events=\"none\"><line transform=\"translate(0,0)\" x2=\"36\" y2=\"0\" stroke=\"#888\" stroke-width=\"3\" opacity=\"1\"></line></g><g class=\"mark-text role-axis-title\" pointer-events=\"none\"><text text-anchor=\"middle\" transform=\"translate(18,36)\" font-family=\"sans-serif\" font-size=\"11px\" font-weight=\"bold\" fill=\"#000\" opacity=\"1\"></text></g></g><path class=\"foreground\" aria-hidden=\"true\" d=\"\" pointer-events=\"none\" display=\"none\"></path></g></g></g><path class=\"foreground\" aria-hidden=\"true\" d=\"\" display=\"none\"></path></g><g transform=\"translate(430,251)\"><path class=\"background\" aria-hidden=\"true\" d=\"M0,0h36v0h-36Z\"></path><g><g class=\"mark-group role-axis\" role=\"graphics-symbol\" aria-roledescription=\"axis\" aria-label=\"X-axis titled ' ' for a discrete scale with 2 values: ats, otc\"><g transform=\"translate(0.5,0.5)\"><path class=\"background\" aria-hidden=\"true\" d=\"M0,0h0v0h0Z\" pointer-events=\"none\"></path><g><g class=\"mark-rule role-axis-tick\" pointer-events=\"none\"><line transform=\"translate(9,0)\" x2=\"0\" y2=\"5\" stroke=\"#888\" stroke-width=\"1\" opacity=\"1\"></line><line transform=\"translate(27,0)\" x2=\"0\" y2=\"5\" stroke=\"#888\" stroke-width=\"1\" opacity=\"1\"></line></g><g class=\"mark-text role-axis-label\" pointer-events=\"none\"><text text-anchor=\"end\" transform=\"translate(8.500000000000002,7) rotate(270) translate(0,3)\" font-family=\"sans-serif\" font-size=\"10px\" fill=\"#000\" opacity=\"1\">ats</text><text text-anchor=\"end\" transform=\"translate(26.5,7) rotate(270) translate(0,3)\" font-family=\"sans-serif\" font-size=\"10px\" fill=\"#000\" opacity=\"1\">otc</text></g><g class=\"mark-rule role-axis-domain\" pointer-events=\"none\"><line transform=\"translate(0,0)\" x2=\"36\" y2=\"0\" stroke=\"#888\" stroke-width=\"3\" opacity=\"1\"></line></g><g class=\"mark-text role-axis-title\" pointer-events=\"none\"><text text-anchor=\"middle\" transform=\"translate(18,36)\" font-family=\"sans-serif\" font-size=\"11px\" font-weight=\"bold\" fill=\"#000\" opacity=\"1\"></text></g></g><path class=\"foreground\" aria-hidden=\"true\" d=\"\" pointer-events=\"none\" display=\"none\"></path></g></g></g><path class=\"foreground\" aria-hidden=\"true\" d=\"\" display=\"none\"></path></g><g transform=\"translate(473,251)\"><path class=\"background\" aria-hidden=\"true\" d=\"M0,0h36v0h-36Z\"></path><g><g class=\"mark-group role-axis\" role=\"graphics-symbol\" aria-roledescription=\"axis\" aria-label=\"X-axis titled ' ' for a discrete scale with 2 values: ats, otc\"><g transform=\"translate(0.5,0.5)\"><path class=\"background\" aria-hidden=\"true\" d=\"M0,0h0v0h0Z\" pointer-events=\"none\"></path><g><g class=\"mark-rule role-axis-tick\" pointer-events=\"none\"><line transform=\"translate(9,0)\" x2=\"0\" y2=\"5\" stroke=\"#888\" stroke-width=\"1\" opacity=\"1\"></line><line transform=\"translate(27,0)\" x2=\"0\" y2=\"5\" stroke=\"#888\" stroke-width=\"1\" opacity=\"1\"></line></g><g class=\"mark-text role-axis-label\" pointer-events=\"none\"><text text-anchor=\"end\" transform=\"translate(8.500000000000002,7) rotate(270) translate(0,3)\" font-family=\"sans-serif\" font-size=\"10px\" fill=\"#000\" opacity=\"1\">ats</text><text text-anchor=\"end\" transform=\"translate(26.5,7) rotate(270) translate(0,3)\" font-family=\"sans-serif\" font-size=\"10px\" fill=\"#000\" opacity=\"1\">otc</text></g><g class=\"mark-rule role-axis-domain\" pointer-events=\"none\"><line transform=\"translate(0,0)\" x2=\"36\" y2=\"0\" stroke=\"#888\" stroke-width=\"3\" opacity=\"1\"></line></g><g class=\"mark-text role-axis-title\" pointer-events=\"none\"><text text-anchor=\"middle\" transform=\"translate(18,36)\" font-family=\"sans-serif\" font-size=\"11px\" font-weight=\"bold\" fill=\"#000\" opacity=\"1\"></text></g></g><path class=\"foreground\" aria-hidden=\"true\" d=\"\" pointer-events=\"none\" display=\"none\"></path></g></g></g><path class=\"foreground\" aria-hidden=\"true\" d=\"\" display=\"none\"></path></g><g transform=\"translate(516,251)\"><path class=\"background\" aria-hidden=\"true\" d=\"M0,0h36v0h-36Z\"></path><g><g class=\"mark-group role-axis\" role=\"graphics-symbol\" aria-roledescription=\"axis\" aria-label=\"X-axis titled ' ' for a discrete scale with 2 values: ats, otc\"><g transform=\"translate(0.5,0.5)\"><path class=\"background\" aria-hidden=\"true\" d=\"M0,0h0v0h0Z\" pointer-events=\"none\"></path><g><g class=\"mark-rule role-axis-tick\" pointer-events=\"none\"><line transform=\"translate(9,0)\" x2=\"0\" y2=\"5\" stroke=\"#888\" stroke-width=\"1\" opacity=\"1\"></line><line transform=\"translate(27,0)\" x2=\"0\" y2=\"5\" stroke=\"#888\" stroke-width=\"1\" opacity=\"1\"></line></g><g class=\"mark-text role-axis-label\" pointer-events=\"none\"><text text-anchor=\"end\" transform=\"translate(8.500000000000002,7) rotate(270) translate(0,3)\" font-family=\"sans-serif\" font-size=\"10px\" fill=\"#000\" opacity=\"1\">ats</text><text text-anchor=\"end\" transform=\"translate(26.5,7) rotate(270) translate(0,3)\" font-family=\"sans-serif\" font-size=\"10px\" fill=\"#000\" opacity=\"1\">otc</text></g><g class=\"mark-rule role-axis-domain\" pointer-events=\"none\"><line transform=\"translate(0,0)\" x2=\"36\" y2=\"0\" stroke=\"#888\" stroke-width=\"3\" opacity=\"1\"></line></g><g class=\"mark-text role-axis-title\" pointer-events=\"none\"><text text-anchor=\"middle\" transform=\"translate(18,36)\" font-family=\"sans-serif\" font-size=\"11px\" font-weight=\"bold\" fill=\"#000\" opacity=\"1\"></text></g></g><path class=\"foreground\" aria-hidden=\"true\" d=\"\" pointer-events=\"none\" display=\"none\"></path></g></g></g><path class=\"foreground\" aria-hidden=\"true\" d=\"\" display=\"none\"></path></g></g><g class=\"mark-group role-scope cell\" role=\"graphics-object\" aria-roledescription=\"group mark container\"><g transform=\"translate(0,0)\"><path class=\"background\" aria-hidden=\"true\" d=\"M0.5,0.5h36v250h-36Z\"></path><g><g class=\"mark-rect role-mark child_marks\" role=\"graphics-object\" aria-roledescription=\"rect mark container\"><path aria-label=\"Trade Count: 20868;  : ats; Secondary Market: ats\" role=\"graphics-symbol\" aria-roledescription=\"bar\" d=\"M0.9000000000000021,238.40666666666667h16.2v11.593333333333334h-16.2Z\" fill=\"rgb(49, 104, 142)\"></path><path aria-label=\"Trade Count: 73969;  : otc; Secondary Market: otc\" role=\"graphics-symbol\" aria-roledescription=\"bar\" d=\"M18.900000000000002,208.90611111111113h16.2v41.09388888888887h-16.2Z\" fill=\"rgb(53, 183, 121)\"></path></g></g><path class=\"foreground\" aria-hidden=\"true\" d=\"\" display=\"none\"></path></g><g transform=\"translate(43,0)\"><path class=\"background\" aria-hidden=\"true\" d=\"M0.5,0.5h36v250h-36Z\"></path><g><g class=\"mark-rect role-mark child_marks\" role=\"graphics-object\" aria-roledescription=\"rect mark container\"><path aria-label=\"Trade Count: 420;  : ats; Secondary Market: ats\" role=\"graphics-symbol\" aria-roledescription=\"bar\" d=\"M0.9000000000000021,249.76666666666665h16.2v0.2333333333333485h-16.2Z\" fill=\"rgb(49, 104, 142)\"></path><path aria-label=\"Trade Count: 1740;  : otc; Secondary Market: otc\" role=\"graphics-symbol\" aria-roledescription=\"bar\" d=\"M18.900000000000002,249.03333333333333h16.2v0.9666666666666686h-16.2Z\" fill=\"rgb(53, 183, 121)\"></path></g></g><path class=\"foreground\" aria-hidden=\"true\" d=\"\" display=\"none\"></path></g><g transform=\"translate(86,0)\"><path class=\"background\" aria-hidden=\"true\" d=\"M0.5,0.5h36v250h-36Z\"></path><g><g class=\"mark-rect role-mark child_marks\" role=\"graphics-object\" aria-roledescription=\"rect mark container\"><path aria-label=\"Trade Count: 23035;  : ats; Secondary Market: ats\" role=\"graphics-symbol\" aria-roledescription=\"bar\" d=\"M0.9000000000000021,237.20277777777778h16.2v12.797222222222217h-16.2Z\" fill=\"rgb(49, 104, 142)\"></path><path aria-label=\"Trade Count: 97720;  : otc; Secondary Market: otc\" role=\"graphics-symbol\" aria-roledescription=\"bar\" d=\"M18.900000000000002,195.7111111111111h16.2v54.28888888888889h-16.2Z\" fill=\"rgb(53, 183, 121)\"></path></g></g><path class=\"foreground\" aria-hidden=\"true\" d=\"\" display=\"none\"></path></g><g transform=\"translate(129,0)\"><path class=\"background\" aria-hidden=\"true\" d=\"M0.5,0.5h36v250h-36Z\"></path><g><g class=\"mark-rect role-mark child_marks\" role=\"graphics-object\" aria-roledescription=\"rect mark container\"><path aria-label=\"Trade Count: 41875;  : ats; Secondary Market: ats\" role=\"graphics-symbol\" aria-roledescription=\"bar\" d=\"M0.9000000000000021,226.73611111111111h16.2v23.263888888888886h-16.2Z\" fill=\"rgb(49, 104, 142)\"></path><path aria-label=\"Trade Count: 169824;  : otc; Secondary Market: otc\" role=\"graphics-symbol\" aria-roledescription=\"bar\" d=\"M18.900000000000002,155.65333333333334h16.2v94.34666666666666h-16.2Z\" fill=\"rgb(53, 183, 121)\"></path></g></g><path class=\"foreground\" aria-hidden=\"true\" d=\"\" display=\"none\"></path></g><g transform=\"translate(172,0)\"><path class=\"background\" aria-hidden=\"true\" d=\"M0.5,0.5h36v250h-36Z\"></path><g><g class=\"mark-rect role-mark child_marks\" role=\"graphics-object\" aria-roledescription=\"rect mark container\"><path aria-label=\"Trade Count: 39167;  : ats; Secondary Market: ats\" role=\"graphics-symbol\" aria-roledescription=\"bar\" d=\"M0.9000000000000021,228.24055555555555h16.2v21.759444444444455h-16.2Z\" fill=\"rgb(49, 104, 142)\"></path><path aria-label=\"Trade Count: 152073;  : otc; Secondary Market: otc\" role=\"graphics-symbol\" aria-roledescription=\"bar\" d=\"M18.900000000000002,165.515h16.2v84.48500000000001h-16.2Z\" fill=\"rgb(53, 183, 121)\"></path></g></g><path class=\"foreground\" aria-hidden=\"true\" d=\"\" display=\"none\"></path></g><g transform=\"translate(215,0)\"><path class=\"background\" aria-hidden=\"true\" d=\"M0.5,0.5h36v250h-36Z\"></path><g><g class=\"mark-rect role-mark child_marks\" role=\"graphics-object\" aria-roledescription=\"rect mark container\"><path aria-label=\"Trade Count: 93443;  : ats; Secondary Market: ats\" role=\"graphics-symbol\" aria-roledescription=\"bar\" d=\"M0.9000000000000021,198.0872222222222h16.2v51.91277777777779h-16.2Z\" fill=\"rgb(49, 104, 142)\"></path><path aria-label=\"Trade Count: 357795;  : otc; Secondary Market: otc\" role=\"graphics-symbol\" aria-roledescription=\"bar\" d=\"M18.900000000000002,51.224999999999994h16.2v198.775h-16.2Z\" fill=\"rgb(53, 183, 121)\"></path></g></g><path class=\"foreground\" aria-hidden=\"true\" d=\"\" display=\"none\"></path></g><g transform=\"translate(258,0)\"><path class=\"background\" aria-hidden=\"true\" d=\"M0.5,0.5h36v250h-36Z\"></path><g><g class=\"mark-rect role-mark child_marks\" role=\"graphics-object\" aria-roledescription=\"rect mark container\"><path aria-label=\"Trade Count: 104469;  : ats; Secondary Market: ats\" role=\"graphics-symbol\" aria-roledescription=\"bar\" d=\"M0.9000000000000021,191.96166666666667h16.2v58.03833333333333h-16.2Z\" fill=\"rgb(49, 104, 142)\"></path><path aria-label=\"Trade Count: 370593;  : otc; Secondary Market: otc\" role=\"graphics-symbol\" aria-roledescription=\"bar\" d=\"M18.900000000000002,44.11499999999999h16.2v205.88500000000002h-16.2Z\" fill=\"rgb(53, 183, 121)\"></path></g></g><path class=\"foreground\" aria-hidden=\"true\" d=\"\" display=\"none\"></path></g><g transform=\"translate(301,0)\"><path class=\"background\" aria-hidden=\"true\" d=\"M0.5,0.5h36v250h-36Z\"></path><g><g class=\"mark-rect role-mark child_marks\" role=\"graphics-object\" aria-roledescription=\"rect mark container\"><path aria-label=\"Trade Count: 124045;  : ats; Secondary Market: ats\" role=\"graphics-symbol\" aria-roledescription=\"bar\" d=\"M0.9000000000000021,181.0861111111111h16.2v68.91388888888889h-16.2Z\" fill=\"rgb(49, 104, 142)\"></path><path aria-label=\"Trade Count: 406846;  : otc; Secondary Market: otc\" role=\"graphics-symbol\" aria-roledescription=\"bar\" d=\"M18.900000000000002,23.974444444444437h16.2v226.02555555555557h-16.2Z\" fill=\"rgb(53, 183, 121)\"></path></g></g><path class=\"foreground\" aria-hidden=\"true\" d=\"\" display=\"none\"></path></g><g transform=\"translate(344,0)\"><path class=\"background\" aria-hidden=\"true\" d=\"M0.5,0.5h36v250h-36Z\"></path><g><g class=\"mark-rect role-mark child_marks\" role=\"graphics-object\" aria-roledescription=\"rect mark container\"><path aria-label=\"Trade Count: 116635;  : ats; Secondary Market: ats\" role=\"graphics-symbol\" aria-roledescription=\"bar\" d=\"M0.9000000000000021,185.20277777777778h16.2v64.79722222222222h-16.2Z\" fill=\"rgb(49, 104, 142)\"></path><path aria-label=\"Trade Count: 367512;  : otc; Secondary Market: otc\" role=\"graphics-symbol\" aria-roledescription=\"bar\" d=\"M18.900000000000002,45.826666666666654h16.2v204.17333333333335h-16.2Z\" fill=\"rgb(53, 183, 121)\"></path></g></g><path class=\"foreground\" aria-hidden=\"true\" d=\"\" display=\"none\"></path></g><g transform=\"translate(387,0)\"><path class=\"background\" aria-hidden=\"true\" d=\"M0.5,0.5h36v250h-36Z\"></path><g><g class=\"mark-rect role-mark child_marks\" role=\"graphics-object\" aria-roledescription=\"rect mark container\"><path aria-label=\"Trade Count: 19695;  : ats; Secondary Market: ats\" role=\"graphics-symbol\" aria-roledescription=\"bar\" d=\"M0.9000000000000021,239.05833333333334h16.2v10.941666666666663h-16.2Z\" fill=\"rgb(49, 104, 142)\"></path><path aria-label=\"Trade Count: 61134;  : otc; Secondary Market: otc\" role=\"graphics-symbol\" aria-roledescription=\"bar\" d=\"M18.900000000000002,216.03666666666666h16.2v33.96333333333334h-16.2Z\" fill=\"rgb(53, 183, 121)\"></path></g></g><path class=\"foreground\" aria-hidden=\"true\" d=\"\" display=\"none\"></path></g><g transform=\"translate(430,0)\"><path class=\"background\" aria-hidden=\"true\" d=\"M0.5,0.5h36v250h-36Z\"></path><g><g class=\"mark-rect role-mark child_marks\" role=\"graphics-object\" aria-roledescription=\"rect mark container\"><path aria-label=\"Trade Count: 21758;  : ats; Secondary Market: ats\" role=\"graphics-symbol\" aria-roledescription=\"bar\" d=\"M0.9000000000000021,237.91222222222223h16.2v12.087777777777774h-16.2Z\" fill=\"rgb(49, 104, 142)\"></path><path aria-label=\"Trade Count: 69816;  : otc; Secondary Market: otc\" role=\"graphics-symbol\" aria-roledescription=\"bar\" d=\"M18.900000000000002,211.21333333333334h16.2v38.78666666666666h-16.2Z\" fill=\"rgb(53, 183, 121)\"></path></g></g><path class=\"foreground\" aria-hidden=\"true\" d=\"\" display=\"none\"></path></g><g transform=\"translate(473,0)\"><path class=\"background\" aria-hidden=\"true\" d=\"M0.5,0.5h36v250h-36Z\"></path><g><g class=\"mark-rect role-mark child_marks\" role=\"graphics-object\" aria-roledescription=\"rect mark container\"><path aria-label=\"Trade Count: 5549;  : ats; Secondary Market: ats\" role=\"graphics-symbol\" aria-roledescription=\"bar\" d=\"M0.9000000000000021,246.91722222222222h16.2v3.0827777777777783h-16.2Z\" fill=\"rgb(49, 104, 142)\"></path><path aria-label=\"Trade Count: 17089;  : otc; Secondary Market: otc\" role=\"graphics-symbol\" aria-roledescription=\"bar\" d=\"M18.900000000000002,240.50611111111112h16.2v9.493888888888875h-16.2Z\" fill=\"rgb(53, 183, 121)\"></path></g></g><path class=\"foreground\" aria-hidden=\"true\" d=\"\" display=\"none\"></path></g><g transform=\"translate(516,0)\"><path class=\"background\" aria-hidden=\"true\" d=\"M0.5,0.5h36v250h-36Z\"></path><g><g class=\"mark-rect role-mark child_marks\" role=\"graphics-object\" aria-roledescription=\"rect mark container\"><path aria-label=\"Trade Count: 640;  : ats; Secondary Market: ats\" role=\"graphics-symbol\" aria-roledescription=\"bar\" d=\"M0.9000000000000021,249.64444444444445h16.2v0.3555555555555543h-16.2Z\" fill=\"rgb(49, 104, 142)\"></path><path aria-label=\"Trade Count: 3169;  : otc; Secondary Market: otc\" role=\"graphics-symbol\" aria-roledescription=\"bar\" d=\"M18.900000000000002,248.23944444444444h16.2v1.7605555555555554h-16.2Z\" fill=\"rgb(53, 183, 121)\"></path></g></g><path class=\"foreground\" aria-hidden=\"true\" d=\"\" display=\"none\"></path></g></g><g class=\"mark-group role-legend\" role=\"graphics-symbol\" aria-roledescription=\"legend\" aria-label=\"Symbol legend titled 'Secondary Market' for fill color with 2 values: ats, otc\"><g transform=\"translate(571,0)\"><path class=\"background\" aria-hidden=\"true\" d=\"M0,0h111v40h-111Z\" pointer-events=\"none\"></path><g><g class=\"mark-group role-legend-entry\"><g transform=\"translate(0,16)\"><path class=\"background\" aria-hidden=\"true\" d=\"M0,0h0v0h0Z\" pointer-events=\"none\"></path><g><g class=\"mark-group role-scope\" role=\"graphics-object\" aria-roledescription=\"group mark container\"><g transform=\"translate(0,0)\"><path class=\"background\" aria-hidden=\"true\" d=\"M0,0h32v11h-32Z\" pointer-events=\"none\" opacity=\"1\"></path><g><g class=\"mark-symbol role-legend-symbol\" pointer-events=\"none\"><path transform=\"translate(6,6)\" d=\"M-5,-5h10v10h-10Z\" fill=\"rgb(49, 104, 142)\" stroke-width=\"1.5\" opacity=\"1\"></path></g><g class=\"mark-text role-legend-label\" pointer-events=\"none\"><text text-anchor=\"start\" transform=\"translate(16,9)\" font-family=\"sans-serif\" font-size=\"10px\" fill=\"#000\" opacity=\"1\">ats</text></g></g><path class=\"foreground\" aria-hidden=\"true\" d=\"\" pointer-events=\"none\" display=\"none\"></path></g><g transform=\"translate(0,13)\"><path class=\"background\" aria-hidden=\"true\" d=\"M0,0h32v11h-32Z\" pointer-events=\"none\" opacity=\"1\"></path><g><g class=\"mark-symbol role-legend-symbol\" pointer-events=\"none\"><path transform=\"translate(6,6)\" d=\"M-5,-5h10v10h-10Z\" fill=\"rgb(53, 183, 121)\" stroke-width=\"1.5\" opacity=\"1\"></path></g><g class=\"mark-text role-legend-label\" pointer-events=\"none\"><text text-anchor=\"start\" transform=\"translate(16,9)\" font-family=\"sans-serif\" font-size=\"10px\" fill=\"#000\" opacity=\"1\">otc</text></g></g><path class=\"foreground\" aria-hidden=\"true\" d=\"\" pointer-events=\"none\" display=\"none\"></path></g></g></g><path class=\"foreground\" aria-hidden=\"true\" d=\"\" pointer-events=\"none\" display=\"none\"></path></g></g><g class=\"mark-text role-legend-title\" pointer-events=\"none\"><text text-anchor=\"start\" transform=\"translate(0,9)\" font-family=\"sans-serif\" font-size=\"11px\" font-weight=\"bold\" fill=\"#000\" opacity=\"1\">Secondary Market</text></g></g><path class=\"foreground\" aria-hidden=\"true\" d=\"\" pointer-events=\"none\" display=\"none\"></path></g></g><g class=\"mark-group role-title\"><g transform=\"translate(310,-102)\"><path class=\"background\" aria-hidden=\"true\" d=\"M0,0h0v0h0Z\" pointer-events=\"none\"></path><g><g class=\"mark-text role-title-text\" role=\"graphics-symbol\" aria-roledescription=\"title\" aria-label=\"Title text 'Number of Trades of Non-MTN-Bonds Traded  by Number of Covenant Categories per Bond - 2019Q2'\" pointer-events=\"none\"><text text-anchor=\"middle\" transform=\"translate(0,11)\" font-family=\"sans-serif\" font-size=\"14px\" font-weight=\"bold\" fill=\"#000\" opacity=\"1\"><tspan>Number of Trades of Non-MTN-Bonds Traded</tspan><tspan x=\"0\" dy=\"16\">by Number of Covenant Categories per Bond - 2019Q2</tspan></text></g></g><path class=\"foreground\" aria-hidden=\"true\" d=\"\" pointer-events=\"none\" display=\"none\"></path></g></g></g><path class=\"foreground\" aria-hidden=\"true\" d=\"\" display=\"none\"></path></g></g></g></svg>\n"
      ],
      "text/plain": [
       "@vlplot(\n",
       "    config={\n",
       "        view={\n",
       "            stroke=\"transparent\"\n",
       "        },\n",
       "        axis={\n",
       "            domainWidth=3\n",
       "        },\n",
       "        opacity={\n",
       "            value=0.7\n",
       "        }\n",
       "    },\n",
       "    title={\n",
       "        text=[\n",
       "            \"Number of Trades of Non-MTN-Bonds Traded\",\n",
       "            \" by Number of Covenant Categories per Bond - 2019Q2\"\n",
       "        ],\n",
       "        align=\"center\",\n",
       "        anchor=\"middle\",\n",
       "        fontSize=14,\n",
       "        offset=20\n",
       "    },\n",
       "    spacing=5.0,\n",
       "    width={\n",
       "        step=18\n",
       "    },\n",
       "    height=250,\n",
       "    mark=\"bar\",\n",
       "    encoding={\n",
       "        column={\n",
       "            type=\"ordinal\",\n",
       "            title=\"Number of Covenant Categories per Bond\",\n",
       "            sort=\"ascending\",\n",
       "            field=\"sum_num_cov\"\n",
       "        },\n",
       "        y={\n",
       "            axis={\n",
       "                title=\"Trade Count\",\n",
       "                grid=false,\n",
       "                stack=nothing\n",
       "            },\n",
       "            field=\"value\"\n",
       "        },\n",
       "        x={\n",
       "            type=\"nominal\",\n",
       "            axis={\n",
       "                title=\" \"\n",
       "            },\n",
       "            field=\"sbm\"\n",
       "        },\n",
       "        color={\n",
       "            legend={\n",
       "                title=\"Secondary Market\"\n",
       "            },\n",
       "            scale={\n",
       "                scheme=\"viridis\"\n",
       "            },\n",
       "            field=\"sbm\",\n",
       "            type=\"nominal\"\n",
       "        }\n",
       "    },\n",
       "    data={\n",
       "        values=...\n",
       "    }\n",
       ")"
      ]
     },
     "execution_count": 27,
     "metadata": {},
     "output_type": "execute_result"
    }
   ],
   "source": [
    "pl[7]"
   ]
  },
  {
   "cell_type": "code",
   "execution_count": 29,
   "metadata": {},
   "outputs": [
    {
     "data": {
      "application/vnd.vegalite.v4+json": {
       "config": {
        "axis": {
         "domainWidth": 3
        },
        "opacity": {
         "value": 0.7
        },
        "view": {
         "stroke": "transparent"
        }
       },
       "data": {
        "values": [
         {
          "perc_sbm_rt_total": 3.4120395880307193,
          "perc_sbm_total": 3.4120395880307193,
          "period": "2019Q2",
          "rt": "any",
          "sbm": "ats",
          "sum_num_cov": 0,
          "value": 20868,
          "variable": "trades_by_num_cov"
         },
         {
          "perc_sbm_rt_total": 0.06867244714265393,
          "perc_sbm_total": 0.06867244714265393,
          "period": "2019Q2",
          "rt": "any",
          "sbm": "ats",
          "sum_num_cov": 1,
          "value": 420,
          "variable": "trades_by_num_cov"
         },
         {
          "perc_sbm_rt_total": 3.7663567141215077,
          "perc_sbm_total": 3.7663567141215077,
          "period": "2019Q2",
          "rt": "any",
          "sbm": "ats",
          "sum_num_cov": 2,
          "value": 23035,
          "variable": "trades_by_num_cov"
         },
         {
          "perc_sbm_rt_total": 6.846806485949126,
          "perc_sbm_total": 6.846806485949126,
          "period": "2019Q2",
          "rt": "any",
          "sbm": "ats",
          "sum_num_cov": 3,
          "value": 41875,
          "variable": "trades_by_num_cov"
         },
         {
          "perc_sbm_rt_total": 6.404032707705539,
          "perc_sbm_total": 6.404032707705539,
          "period": "2019Q2",
          "rt": "any",
          "sbm": "ats",
          "sum_num_cov": 4,
          "value": 39167,
          "variable": "trades_by_num_cov"
         },
         {
          "perc_sbm_rt_total": 15.278474948454788,
          "perc_sbm_total": 15.278474948454788,
          "period": "2019Q2",
          "rt": "any",
          "sbm": "ats",
          "sum_num_cov": 5,
          "value": 93443,
          "variable": "trades_by_num_cov"
         },
         {
          "perc_sbm_rt_total": 17.081290191775985,
          "perc_sbm_total": 17.081290191775985,
          "period": "2019Q2",
          "rt": "any",
          "sbm": "ats",
          "sum_num_cov": 6,
          "value": 104469,
          "variable": "trades_by_num_cov"
         },
         {
          "perc_sbm_rt_total": 20.282080251929777,
          "perc_sbm_total": 20.282080251929777,
          "period": "2019Q2",
          "rt": "any",
          "sbm": "ats",
          "sum_num_cov": 7,
          "value": 124045,
          "variable": "trades_by_num_cov"
         },
         {
          "perc_sbm_rt_total": 19.070502077341526,
          "perc_sbm_total": 19.070502077341526,
          "period": "2019Q2",
          "rt": "any",
          "sbm": "ats",
          "sum_num_cov": 8,
          "value": 116635,
          "variable": "trades_by_num_cov"
         },
         {
          "perc_sbm_rt_total": 3.2202472535108786,
          "perc_sbm_total": 3.2202472535108786,
          "period": "2019Q2",
          "rt": "any",
          "sbm": "ats",
          "sum_num_cov": 9,
          "value": 19695,
          "variable": "trades_by_num_cov"
         },
         {
          "perc_sbm_rt_total": 3.557559773642534,
          "perc_sbm_total": 3.557559773642534,
          "period": "2019Q2",
          "rt": "any",
          "sbm": "ats",
          "sum_num_cov": 10,
          "value": 21758,
          "variable": "trades_by_num_cov"
         },
         {
          "perc_sbm_rt_total": 0.9072938314156824,
          "perc_sbm_total": 0.9072938314156824,
          "period": "2019Q2",
          "rt": "any",
          "sbm": "ats",
          "sum_num_cov": 11,
          "value": 5549,
          "variable": "trades_by_num_cov"
         },
         {
          "perc_sbm_rt_total": 0.10464372897928217,
          "perc_sbm_total": 0.10464372897928217,
          "period": "2019Q2",
          "rt": "any",
          "sbm": "ats",
          "sum_num_cov": 12,
          "value": 640,
          "variable": "trades_by_num_cov"
         },
         {
          "perc_sbm_rt_total": 3.4415711307972905,
          "perc_sbm_total": 3.4415711307972905,
          "period": "2019Q2",
          "rt": "any",
          "sbm": "otc",
          "sum_num_cov": 0,
          "value": 73969,
          "variable": "trades_by_num_cov"
         },
         {
          "perc_sbm_rt_total": 0.08095734385468623,
          "perc_sbm_total": 0.08095734385468623,
          "period": "2019Q2",
          "rt": "any",
          "sbm": "otc",
          "sum_num_cov": 1,
          "value": 1740,
          "variable": "trades_by_num_cov"
         },
         {
          "perc_sbm_rt_total": 4.546638874413757,
          "perc_sbm_total": 4.546638874413757,
          "period": "2019Q2",
          "rt": "any",
          "sbm": "otc",
          "sum_num_cov": 2,
          "value": 97720,
          "variable": "trades_by_num_cov"
         },
         {
          "perc_sbm_rt_total": 7.901436760217376,
          "perc_sbm_total": 7.901436760217376,
          "period": "2019Q2",
          "rt": "any",
          "sbm": "otc",
          "sum_num_cov": 3,
          "value": 169824,
          "variable": "trades_by_num_cov"
         },
         {
          "perc_sbm_rt_total": 7.07553227127224,
          "perc_sbm_total": 7.07553227127224,
          "period": "2019Q2",
          "rt": "any",
          "sbm": "otc",
          "sum_num_cov": 4,
          "value": 152073,
          "variable": "trades_by_num_cov"
         },
         {
          "perc_sbm_rt_total": 16.64720278418819,
          "perc_sbm_total": 16.64720278418819,
          "period": "2019Q2",
          "rt": "any",
          "sbm": "otc",
          "sum_num_cov": 5,
          "value": 357795,
          "variable": "trades_by_num_cov"
         },
         {
          "perc_sbm_rt_total": 17.242658006402145,
          "perc_sbm_total": 17.242658006402145,
          "period": "2019Q2",
          "rt": "any",
          "sbm": "otc",
          "sum_num_cov": 6,
          "value": 370593,
          "variable": "trades_by_num_cov"
         },
         {
          "perc_sbm_rt_total": 18.92940891833544,
          "perc_sbm_total": 18.92940891833544,
          "period": "2019Q2",
          "rt": "any",
          "sbm": "otc",
          "sum_num_cov": 7,
          "value": 406846,
          "variable": "trades_by_num_cov"
         },
         {
          "perc_sbm_rt_total": 17.099307675128415,
          "perc_sbm_total": 17.099307675128415,
          "period": "2019Q2",
          "rt": "any",
          "sbm": "otc",
          "sum_num_cov": 8,
          "value": 367512,
          "variable": "trades_by_num_cov"
         },
         {
          "perc_sbm_rt_total": 2.8443944018461997,
          "perc_sbm_total": 2.8443944018461997,
          "period": "2019Q2",
          "rt": "any",
          "sbm": "otc",
          "sum_num_cov": 9,
          "value": 61134,
          "variable": "trades_by_num_cov"
         },
         {
          "perc_sbm_rt_total": 3.2483436313556164,
          "perc_sbm_total": 3.2483436313556164,
          "period": "2019Q2",
          "rt": "any",
          "sbm": "otc",
          "sum_num_cov": 10,
          "value": 69816,
          "variable": "trades_by_num_cov"
         },
         {
          "perc_sbm_rt_total": 0.7951034765130649,
          "perc_sbm_total": 0.7951034765130649,
          "period": "2019Q2",
          "rt": "any",
          "sbm": "otc",
          "sum_num_cov": 11,
          "value": 17089,
          "variable": "trades_by_num_cov"
         },
         {
          "perc_sbm_rt_total": 0.1474447256755751,
          "perc_sbm_total": 0.1474447256755751,
          "period": "2019Q2",
          "rt": "any",
          "sbm": "otc",
          "sum_num_cov": 12,
          "value": 3169,
          "variable": "trades_by_num_cov"
         }
        ]
       },
       "encoding": {
        "color": {
         "field": "sbm",
         "legend": {
          "title": "Secondary Market"
         },
         "scale": {
          "scheme": "viridis"
         },
         "type": "nominal"
        },
        "column": {
         "field": "sum_num_cov",
         "sort": "ascending",
         "title": "Number of Covenant Categories per Bond",
         "type": "ordinal"
        },
        "x": {
         "axis": {
          "title": " "
         },
         "field": "sbm",
         "type": "nominal"
        },
        "y": {
         "axis": {
          "grid": false,
          "stack": null,
          "title": "Share of Trades"
         },
         "field": "perc_sbm_total",
         "type": "quantitative"
        }
       },
       "height": 250,
       "mark": "bar",
       "spacing": 5,
       "title": {
        "align": "center",
        "anchor": "middle",
        "fontSize": 14,
        "offset": 20,
        "text": [
         "Secondary-Market-Contingent Share of Trades of Non-MTN-Bonds Traded",
         " by Number of Covenant Categories per Bond - 2019Q2"
        ]
       },
       "width": {
        "step": 18
       }
      },
      "image/png": "[encoded data removed]",
      "image/svg+xml": [
       "<?xml version=\"1.0\" encoding=\"utf-8\"?>\n",
       "<!DOCTYPE svg PUBLIC \"-//W3C//DTD SVG 1.1//EN\" \"http://www.w3.org/Graphics/SVG/1.1/DTD/svg11.dtd\">\n",
       "<svg class=\"marks\" width=\"727\" height=\"401\" viewBox=\"0 0 727 401\" version=\"1.1\" xmlns=\"http://www.w3.org/2000/svg\" xmlns:xlink=\"http://www.w3.org/1999/xlink\"><rect width=\"727\" height=\"401\" fill=\"white\"></rect><g fill=\"none\" stroke-miterlimit=\"10\" transform=\"translate(40,107)\"><g class=\"mark-group role-frame root\" role=\"graphics-object\" aria-roledescription=\"group mark container\"><g transform=\"translate(0,0)\"><path class=\"background\" aria-hidden=\"true\" d=\"M0,0h0v0h0Z\"></path><g><g class=\"mark-group role-column-title column-title\" role=\"graphics-object\" aria-roledescription=\"group mark container\"><g transform=\"translate(276,-31)\"><path class=\"background\" aria-hidden=\"true\" d=\"M0,0h0v0h0Z\"></path><g><g class=\"mark-group role-title\"><g transform=\"translate(0,-21)\"><path class=\"background\" aria-hidden=\"true\" d=\"M0,0h0v0h0Z\" pointer-events=\"none\"></path><g><g class=\"mark-text role-title-text\" role=\"graphics-symbol\" aria-roledescription=\"title\" aria-label=\"Title text 'Number of Covenant Categories per Bond'\" pointer-events=\"none\"><text text-anchor=\"middle\" transform=\"translate(0,9)\" font-family=\"sans-serif\" font-size=\"11px\" font-weight=\"bold\" fill=\"#000\" opacity=\"1\">Number of Covenant Categories per Bond</text></g></g><path class=\"foreground\" aria-hidden=\"true\" d=\"\" pointer-events=\"none\" display=\"none\"></path></g></g></g><path class=\"foreground\" aria-hidden=\"true\" d=\"\" display=\"none\"></path></g></g><g class=\"mark-group role-row-header row_header\" role=\"graphics-object\" aria-roledescription=\"group mark container\"><g transform=\"translate(-1,0)\"><path class=\"background\" aria-hidden=\"true\" d=\"M0,0h0v250h0Z\"></path><g><g class=\"mark-group role-axis\" role=\"graphics-symbol\" aria-roledescription=\"axis\" aria-label=\"Y-axis titled 'Share of Trades' for a linear scale with values from 0 to 22\"><g transform=\"translate(0.5,0.5)\"><path class=\"background\" aria-hidden=\"true\" d=\"M0,0h0v0h0Z\" pointer-events=\"none\"></path><g><g class=\"mark-rule role-axis-tick\" pointer-events=\"none\"><line transform=\"translate(0,250)\" x2=\"-5\" y2=\"0\" stroke=\"#888\" stroke-width=\"1\" opacity=\"1\"></line><line transform=\"translate(0,227)\" x2=\"-5\" y2=\"0\" stroke=\"#888\" stroke-width=\"1\" opacity=\"1\"></line><line transform=\"translate(0,205)\" x2=\"-5\" y2=\"0\" stroke=\"#888\" stroke-width=\"1\" opacity=\"1\"></line><line transform=\"translate(0,182)\" x2=\"-5\" y2=\"0\" stroke=\"#888\" stroke-width=\"1\" opacity=\"1\"></line><line transform=\"translate(0,159)\" x2=\"-5\" y2=\"0\" stroke=\"#888\" stroke-width=\"1\" opacity=\"1\"></line><line transform=\"translate(0,136)\" x2=\"-5\" y2=\"0\" stroke=\"#888\" stroke-width=\"1\" opacity=\"1\"></line><line transform=\"translate(0,114)\" x2=\"-5\" y2=\"0\" stroke=\"#888\" stroke-width=\"1\" opacity=\"1\"></line><line transform=\"translate(0,91)\" x2=\"-5\" y2=\"0\" stroke=\"#888\" stroke-width=\"1\" opacity=\"1\"></line><line transform=\"translate(0,68)\" x2=\"-5\" y2=\"0\" stroke=\"#888\" stroke-width=\"1\" opacity=\"1\"></line><line transform=\"translate(0,45)\" x2=\"-5\" y2=\"0\" stroke=\"#888\" stroke-width=\"1\" opacity=\"1\"></line><line transform=\"translate(0,23)\" x2=\"-5\" y2=\"0\" stroke=\"#888\" stroke-width=\"1\" opacity=\"1\"></line><line transform=\"translate(0,0)\" x2=\"-5\" y2=\"0\" stroke=\"#888\" stroke-width=\"1\" opacity=\"1\"></line></g><g class=\"mark-text role-axis-label\" pointer-events=\"none\"><text text-anchor=\"end\" transform=\"translate(-7,253)\" font-family=\"sans-serif\" font-size=\"10px\" fill=\"#000\" opacity=\"1\">0</text><text text-anchor=\"end\" transform=\"translate(-7,230.27272727272725)\" font-family=\"sans-serif\" font-size=\"10px\" fill=\"#000\" opacity=\"1\">2</text><text text-anchor=\"end\" transform=\"translate(-7,207.54545454545453)\" font-family=\"sans-serif\" font-size=\"10px\" fill=\"#000\" opacity=\"1\">4</text><text text-anchor=\"end\" transform=\"translate(-7,184.8181818181818)\" font-family=\"sans-serif\" font-size=\"10px\" fill=\"#000\" opacity=\"1\">6</text><text text-anchor=\"end\" transform=\"translate(-7,162.0909090909091)\" font-family=\"sans-serif\" font-size=\"10px\" fill=\"#000\" opacity=\"1\">8</text><text text-anchor=\"end\" transform=\"translate(-7,139.36363636363635)\" font-family=\"sans-serif\" font-size=\"10px\" fill=\"#000\" opacity=\"1\">10</text><text text-anchor=\"end\" transform=\"translate(-7,116.63636363636364)\" font-family=\"sans-serif\" font-size=\"10px\" fill=\"#000\" opacity=\"1\">12</text><text text-anchor=\"end\" transform=\"translate(-7,93.9090909090909)\" font-family=\"sans-serif\" font-size=\"10px\" fill=\"#000\" opacity=\"1\">14</text><text text-anchor=\"end\" transform=\"translate(-7,71.18181818181817)\" font-family=\"sans-serif\" font-size=\"10px\" fill=\"#000\" opacity=\"1\">16</text><text text-anchor=\"end\" transform=\"translate(-7,48.45454545454544)\" font-family=\"sans-serif\" font-size=\"10px\" fill=\"#000\" opacity=\"1\">18</text><text text-anchor=\"end\" transform=\"translate(-7,25.727272727272734)\" font-family=\"sans-serif\" font-size=\"10px\" fill=\"#000\" opacity=\"1\">20</text><text text-anchor=\"end\" transform=\"translate(-7,3)\" font-family=\"sans-serif\" font-size=\"10px\" fill=\"#000\" opacity=\"1\">22</text></g><g class=\"mark-rule role-axis-domain\" pointer-events=\"none\"><line transform=\"translate(0,250)\" x2=\"0\" y2=\"-250\" stroke=\"#888\" stroke-width=\"3\" opacity=\"1\"></line></g><g class=\"mark-text role-axis-title\" pointer-events=\"none\"><text text-anchor=\"middle\" transform=\"translate(-23,125) rotate(-90) translate(0,-2)\" font-family=\"sans-serif\" font-size=\"11px\" font-weight=\"bold\" fill=\"#000\" opacity=\"1\">Share of Trades</text></g></g><path class=\"foreground\" aria-hidden=\"true\" d=\"\" pointer-events=\"none\" display=\"none\"></path></g></g></g><path class=\"foreground\" aria-hidden=\"true\" d=\"\" display=\"none\"></path></g></g><g class=\"mark-group role-column-header column_header\" role=\"graphics-object\" aria-roledescription=\"group mark container\"><g transform=\"translate(0,-1)\"><path class=\"background\" aria-hidden=\"true\" d=\"M0,0h36v0h-36Z\"></path><g><g class=\"mark-group role-title\"><g transform=\"translate(18,-20)\"><path class=\"background\" aria-hidden=\"true\" d=\"M0,0h0v0h0Z\" pointer-events=\"none\"></path><g><g class=\"mark-text role-title-text\" role=\"graphics-symbol\" aria-roledescription=\"title\" aria-label=\"Title text '0'\" pointer-events=\"none\"><text text-anchor=\"middle\" transform=\"translate(0,8)\" font-family=\"sans-serif\" font-size=\"10px\" fill=\"#000\" opacity=\"1\">0</text></g></g><path class=\"foreground\" aria-hidden=\"true\" d=\"\" pointer-events=\"none\" display=\"none\"></path></g></g></g><path class=\"foreground\" aria-hidden=\"true\" d=\"\" display=\"none\"></path></g><g transform=\"translate(43,-1)\"><path class=\"background\" aria-hidden=\"true\" d=\"M0,0h36v0h-36Z\"></path><g><g class=\"mark-group role-title\"><g transform=\"translate(18,-20)\"><path class=\"background\" aria-hidden=\"true\" d=\"M0,0h0v0h0Z\" pointer-events=\"none\"></path><g><g class=\"mark-text role-title-text\" role=\"graphics-symbol\" aria-roledescription=\"title\" aria-label=\"Title text '1'\" pointer-events=\"none\"><text text-anchor=\"middle\" transform=\"translate(0,8)\" font-family=\"sans-serif\" font-size=\"10px\" fill=\"#000\" opacity=\"1\">1</text></g></g><path class=\"foreground\" aria-hidden=\"true\" d=\"\" pointer-events=\"none\" display=\"none\"></path></g></g></g><path class=\"foreground\" aria-hidden=\"true\" d=\"\" display=\"none\"></path></g><g transform=\"translate(86,-1)\"><path class=\"background\" aria-hidden=\"true\" d=\"M0,0h36v0h-36Z\"></path><g><g class=\"mark-group role-title\"><g transform=\"translate(18,-20)\"><path class=\"background\" aria-hidden=\"true\" d=\"M0,0h0v0h0Z\" pointer-events=\"none\"></path><g><g class=\"mark-text role-title-text\" role=\"graphics-symbol\" aria-roledescription=\"title\" aria-label=\"Title text '2'\" pointer-events=\"none\"><text text-anchor=\"middle\" transform=\"translate(0,8)\" font-family=\"sans-serif\" font-size=\"10px\" fill=\"#000\" opacity=\"1\">2</text></g></g><path class=\"foreground\" aria-hidden=\"true\" d=\"\" pointer-events=\"none\" display=\"none\"></path></g></g></g><path class=\"foreground\" aria-hidden=\"true\" d=\"\" display=\"none\"></path></g><g transform=\"translate(129,-1)\"><path class=\"background\" aria-hidden=\"true\" d=\"M0,0h36v0h-36Z\"></path><g><g class=\"mark-group role-title\"><g transform=\"translate(18,-20)\"><path class=\"background\" aria-hidden=\"true\" d=\"M0,0h0v0h0Z\" pointer-events=\"none\"></path><g><g class=\"mark-text role-title-text\" role=\"graphics-symbol\" aria-roledescription=\"title\" aria-label=\"Title text '3'\" pointer-events=\"none\"><text text-anchor=\"middle\" transform=\"translate(0,8)\" font-family=\"sans-serif\" font-size=\"10px\" fill=\"#000\" opacity=\"1\">3</text></g></g><path class=\"foreground\" aria-hidden=\"true\" d=\"\" pointer-events=\"none\" display=\"none\"></path></g></g></g><path class=\"foreground\" aria-hidden=\"true\" d=\"\" display=\"none\"></path></g><g transform=\"translate(172,-1)\"><path class=\"background\" aria-hidden=\"true\" d=\"M0,0h36v0h-36Z\"></path><g><g class=\"mark-group role-title\"><g transform=\"translate(18,-20)\"><path class=\"background\" aria-hidden=\"true\" d=\"M0,0h0v0h0Z\" pointer-events=\"none\"></path><g><g class=\"mark-text role-title-text\" role=\"graphics-symbol\" aria-roledescription=\"title\" aria-label=\"Title text '4'\" pointer-events=\"none\"><text text-anchor=\"middle\" transform=\"translate(0,8)\" font-family=\"sans-serif\" font-size=\"10px\" fill=\"#000\" opacity=\"1\">4</text></g></g><path class=\"foreground\" aria-hidden=\"true\" d=\"\" pointer-events=\"none\" display=\"none\"></path></g></g></g><path class=\"foreground\" aria-hidden=\"true\" d=\"\" display=\"none\"></path></g><g transform=\"translate(215,-1)\"><path class=\"background\" aria-hidden=\"true\" d=\"M0,0h36v0h-36Z\"></path><g><g class=\"mark-group role-title\"><g transform=\"translate(18,-20)\"><path class=\"background\" aria-hidden=\"true\" d=\"M0,0h0v0h0Z\" pointer-events=\"none\"></path><g><g class=\"mark-text role-title-text\" role=\"graphics-symbol\" aria-roledescription=\"title\" aria-label=\"Title text '5'\" pointer-events=\"none\"><text text-anchor=\"middle\" transform=\"translate(0,8)\" font-family=\"sans-serif\" font-size=\"10px\" fill=\"#000\" opacity=\"1\">5</text></g></g><path class=\"foreground\" aria-hidden=\"true\" d=\"\" pointer-events=\"none\" display=\"none\"></path></g></g></g><path class=\"foreground\" aria-hidden=\"true\" d=\"\" display=\"none\"></path></g><g transform=\"translate(258,-1)\"><path class=\"background\" aria-hidden=\"true\" d=\"M0,0h36v0h-36Z\"></path><g><g class=\"mark-group role-title\"><g transform=\"translate(18,-20)\"><path class=\"background\" aria-hidden=\"true\" d=\"M0,0h0v0h0Z\" pointer-events=\"none\"></path><g><g class=\"mark-text role-title-text\" role=\"graphics-symbol\" aria-roledescription=\"title\" aria-label=\"Title text '6'\" pointer-events=\"none\"><text text-anchor=\"middle\" transform=\"translate(0,8)\" font-family=\"sans-serif\" font-size=\"10px\" fill=\"#000\" opacity=\"1\">6</text></g></g><path class=\"foreground\" aria-hidden=\"true\" d=\"\" pointer-events=\"none\" display=\"none\"></path></g></g></g><path class=\"foreground\" aria-hidden=\"true\" d=\"\" display=\"none\"></path></g><g transform=\"translate(301,-1)\"><path class=\"background\" aria-hidden=\"true\" d=\"M0,0h36v0h-36Z\"></path><g><g class=\"mark-group role-title\"><g transform=\"translate(18,-20)\"><path class=\"background\" aria-hidden=\"true\" d=\"M0,0h0v0h0Z\" pointer-events=\"none\"></path><g><g class=\"mark-text role-title-text\" role=\"graphics-symbol\" aria-roledescription=\"title\" aria-label=\"Title text '7'\" pointer-events=\"none\"><text text-anchor=\"middle\" transform=\"translate(0,8)\" font-family=\"sans-serif\" font-size=\"10px\" fill=\"#000\" opacity=\"1\">7</text></g></g><path class=\"foreground\" aria-hidden=\"true\" d=\"\" pointer-events=\"none\" display=\"none\"></path></g></g></g><path class=\"foreground\" aria-hidden=\"true\" d=\"\" display=\"none\"></path></g><g transform=\"translate(344,-1)\"><path class=\"background\" aria-hidden=\"true\" d=\"M0,0h36v0h-36Z\"></path><g><g class=\"mark-group role-title\"><g transform=\"translate(18,-20)\"><path class=\"background\" aria-hidden=\"true\" d=\"M0,0h0v0h0Z\" pointer-events=\"none\"></path><g><g class=\"mark-text role-title-text\" role=\"graphics-symbol\" aria-roledescription=\"title\" aria-label=\"Title text '8'\" pointer-events=\"none\"><text text-anchor=\"middle\" transform=\"translate(0,8)\" font-family=\"sans-serif\" font-size=\"10px\" fill=\"#000\" opacity=\"1\">8</text></g></g><path class=\"foreground\" aria-hidden=\"true\" d=\"\" pointer-events=\"none\" display=\"none\"></path></g></g></g><path class=\"foreground\" aria-hidden=\"true\" d=\"\" display=\"none\"></path></g><g transform=\"translate(387,-1)\"><path class=\"background\" aria-hidden=\"true\" d=\"M0,0h36v0h-36Z\"></path><g><g class=\"mark-group role-title\"><g transform=\"translate(18,-20)\"><path class=\"background\" aria-hidden=\"true\" d=\"M0,0h0v0h0Z\" pointer-events=\"none\"></path><g><g class=\"mark-text role-title-text\" role=\"graphics-symbol\" aria-roledescription=\"title\" aria-label=\"Title text '9'\" pointer-events=\"none\"><text text-anchor=\"middle\" transform=\"translate(0,8)\" font-family=\"sans-serif\" font-size=\"10px\" fill=\"#000\" opacity=\"1\">9</text></g></g><path class=\"foreground\" aria-hidden=\"true\" d=\"\" pointer-events=\"none\" display=\"none\"></path></g></g></g><path class=\"foreground\" aria-hidden=\"true\" d=\"\" display=\"none\"></path></g><g transform=\"translate(430,-1)\"><path class=\"background\" aria-hidden=\"true\" d=\"M0,0h36v0h-36Z\"></path><g><g class=\"mark-group role-title\"><g transform=\"translate(18,-20)\"><path class=\"background\" aria-hidden=\"true\" d=\"M0,0h0v0h0Z\" pointer-events=\"none\"></path><g><g class=\"mark-text role-title-text\" role=\"graphics-symbol\" aria-roledescription=\"title\" aria-label=\"Title text '10'\" pointer-events=\"none\"><text text-anchor=\"middle\" transform=\"translate(0,8)\" font-family=\"sans-serif\" font-size=\"10px\" fill=\"#000\" opacity=\"1\">10</text></g></g><path class=\"foreground\" aria-hidden=\"true\" d=\"\" pointer-events=\"none\" display=\"none\"></path></g></g></g><path class=\"foreground\" aria-hidden=\"true\" d=\"\" display=\"none\"></path></g><g transform=\"translate(473,-1)\"><path class=\"background\" aria-hidden=\"true\" d=\"M0,0h36v0h-36Z\"></path><g><g class=\"mark-group role-title\"><g transform=\"translate(18,-20)\"><path class=\"background\" aria-hidden=\"true\" d=\"M0,0h0v0h0Z\" pointer-events=\"none\"></path><g><g class=\"mark-text role-title-text\" role=\"graphics-symbol\" aria-roledescription=\"title\" aria-label=\"Title text '11'\" pointer-events=\"none\"><text text-anchor=\"middle\" transform=\"translate(0,8)\" font-family=\"sans-serif\" font-size=\"10px\" fill=\"#000\" opacity=\"1\">11</text></g></g><path class=\"foreground\" aria-hidden=\"true\" d=\"\" pointer-events=\"none\" display=\"none\"></path></g></g></g><path class=\"foreground\" aria-hidden=\"true\" d=\"\" display=\"none\"></path></g><g transform=\"translate(516,-1)\"><path class=\"background\" aria-hidden=\"true\" d=\"M0,0h36v0h-36Z\"></path><g><g class=\"mark-group role-title\"><g transform=\"translate(18,-20)\"><path class=\"background\" aria-hidden=\"true\" d=\"M0,0h0v0h0Z\" pointer-events=\"none\"></path><g><g class=\"mark-text role-title-text\" role=\"graphics-symbol\" aria-roledescription=\"title\" aria-label=\"Title text '12'\" pointer-events=\"none\"><text text-anchor=\"middle\" transform=\"translate(0,8)\" font-family=\"sans-serif\" font-size=\"10px\" fill=\"#000\" opacity=\"1\">12</text></g></g><path class=\"foreground\" aria-hidden=\"true\" d=\"\" pointer-events=\"none\" display=\"none\"></path></g></g></g><path class=\"foreground\" aria-hidden=\"true\" d=\"\" display=\"none\"></path></g></g><g class=\"mark-group role-column-footer column_footer\" role=\"graphics-object\" aria-roledescription=\"group mark container\"><g transform=\"translate(0,251)\"><path class=\"background\" aria-hidden=\"true\" d=\"M0,0h36v0h-36Z\"></path><g><g class=\"mark-group role-axis\" role=\"graphics-symbol\" aria-roledescription=\"axis\" aria-label=\"X-axis titled ' ' for a discrete scale with 2 values: ats, otc\"><g transform=\"translate(0.5,0.5)\"><path class=\"background\" aria-hidden=\"true\" d=\"M0,0h0v0h0Z\" pointer-events=\"none\"></path><g><g class=\"mark-rule role-axis-tick\" pointer-events=\"none\"><line transform=\"translate(9,0)\" x2=\"0\" y2=\"5\" stroke=\"#888\" stroke-width=\"1\" opacity=\"1\"></line><line transform=\"translate(27,0)\" x2=\"0\" y2=\"5\" stroke=\"#888\" stroke-width=\"1\" opacity=\"1\"></line></g><g class=\"mark-text role-axis-label\" pointer-events=\"none\"><text text-anchor=\"end\" transform=\"translate(8.500000000000002,7) rotate(270) translate(0,3)\" font-family=\"sans-serif\" font-size=\"10px\" fill=\"#000\" opacity=\"1\">ats</text><text text-anchor=\"end\" transform=\"translate(26.5,7) rotate(270) translate(0,3)\" font-family=\"sans-serif\" font-size=\"10px\" fill=\"#000\" opacity=\"1\">otc</text></g><g class=\"mark-rule role-axis-domain\" pointer-events=\"none\"><line transform=\"translate(0,0)\" x2=\"36\" y2=\"0\" stroke=\"#888\" stroke-width=\"3\" opacity=\"1\"></line></g><g class=\"mark-text role-axis-title\" pointer-events=\"none\"><text text-anchor=\"middle\" transform=\"translate(18,36)\" font-family=\"sans-serif\" font-size=\"11px\" font-weight=\"bold\" fill=\"#000\" opacity=\"1\"></text></g></g><path class=\"foreground\" aria-hidden=\"true\" d=\"\" pointer-events=\"none\" display=\"none\"></path></g></g></g><path class=\"foreground\" aria-hidden=\"true\" d=\"\" display=\"none\"></path></g><g transform=\"translate(43,251)\"><path class=\"background\" aria-hidden=\"true\" d=\"M0,0h36v0h-36Z\"></path><g><g class=\"mark-group role-axis\" role=\"graphics-symbol\" aria-roledescription=\"axis\" aria-label=\"X-axis titled ' ' for a discrete scale with 2 values: ats, otc\"><g transform=\"translate(0.5,0.5)\"><path class=\"background\" aria-hidden=\"true\" d=\"M0,0h0v0h0Z\" pointer-events=\"none\"></path><g><g class=\"mark-rule role-axis-tick\" pointer-events=\"none\"><line transform=\"translate(9,0)\" x2=\"0\" y2=\"5\" stroke=\"#888\" stroke-width=\"1\" opacity=\"1\"></line><line transform=\"translate(27,0)\" x2=\"0\" y2=\"5\" stroke=\"#888\" stroke-width=\"1\" opacity=\"1\"></line></g><g class=\"mark-text role-axis-label\" pointer-events=\"none\"><text text-anchor=\"end\" transform=\"translate(8.500000000000002,7) rotate(270) translate(0,3)\" font-family=\"sans-serif\" font-size=\"10px\" fill=\"#000\" opacity=\"1\">ats</text><text text-anchor=\"end\" transform=\"translate(26.5,7) rotate(270) translate(0,3)\" font-family=\"sans-serif\" font-size=\"10px\" fill=\"#000\" opacity=\"1\">otc</text></g><g class=\"mark-rule role-axis-domain\" pointer-events=\"none\"><line transform=\"translate(0,0)\" x2=\"36\" y2=\"0\" stroke=\"#888\" stroke-width=\"3\" opacity=\"1\"></line></g><g class=\"mark-text role-axis-title\" pointer-events=\"none\"><text text-anchor=\"middle\" transform=\"translate(18,36)\" font-family=\"sans-serif\" font-size=\"11px\" font-weight=\"bold\" fill=\"#000\" opacity=\"1\"></text></g></g><path class=\"foreground\" aria-hidden=\"true\" d=\"\" pointer-events=\"none\" display=\"none\"></path></g></g></g><path class=\"foreground\" aria-hidden=\"true\" d=\"\" display=\"none\"></path></g><g transform=\"translate(86,251)\"><path class=\"background\" aria-hidden=\"true\" d=\"M0,0h36v0h-36Z\"></path><g><g class=\"mark-group role-axis\" role=\"graphics-symbol\" aria-roledescription=\"axis\" aria-label=\"X-axis titled ' ' for a discrete scale with 2 values: ats, otc\"><g transform=\"translate(0.5,0.5)\"><path class=\"background\" aria-hidden=\"true\" d=\"M0,0h0v0h0Z\" pointer-events=\"none\"></path><g><g class=\"mark-rule role-axis-tick\" pointer-events=\"none\"><line transform=\"translate(9,0)\" x2=\"0\" y2=\"5\" stroke=\"#888\" stroke-width=\"1\" opacity=\"1\"></line><line transform=\"translate(27,0)\" x2=\"0\" y2=\"5\" stroke=\"#888\" stroke-width=\"1\" opacity=\"1\"></line></g><g class=\"mark-text role-axis-label\" pointer-events=\"none\"><text text-anchor=\"end\" transform=\"translate(8.500000000000002,7) rotate(270) translate(0,3)\" font-family=\"sans-serif\" font-size=\"10px\" fill=\"#000\" opacity=\"1\">ats</text><text text-anchor=\"end\" transform=\"translate(26.5,7) rotate(270) translate(0,3)\" font-family=\"sans-serif\" font-size=\"10px\" fill=\"#000\" opacity=\"1\">otc</text></g><g class=\"mark-rule role-axis-domain\" pointer-events=\"none\"><line transform=\"translate(0,0)\" x2=\"36\" y2=\"0\" stroke=\"#888\" stroke-width=\"3\" opacity=\"1\"></line></g><g class=\"mark-text role-axis-title\" pointer-events=\"none\"><text text-anchor=\"middle\" transform=\"translate(18,36)\" font-family=\"sans-serif\" font-size=\"11px\" font-weight=\"bold\" fill=\"#000\" opacity=\"1\"></text></g></g><path class=\"foreground\" aria-hidden=\"true\" d=\"\" pointer-events=\"none\" display=\"none\"></path></g></g></g><path class=\"foreground\" aria-hidden=\"true\" d=\"\" display=\"none\"></path></g><g transform=\"translate(129,251)\"><path class=\"background\" aria-hidden=\"true\" d=\"M0,0h36v0h-36Z\"></path><g><g class=\"mark-group role-axis\" role=\"graphics-symbol\" aria-roledescription=\"axis\" aria-label=\"X-axis titled ' ' for a discrete scale with 2 values: ats, otc\"><g transform=\"translate(0.5,0.5)\"><path class=\"background\" aria-hidden=\"true\" d=\"M0,0h0v0h0Z\" pointer-events=\"none\"></path><g><g class=\"mark-rule role-axis-tick\" pointer-events=\"none\"><line transform=\"translate(9,0)\" x2=\"0\" y2=\"5\" stroke=\"#888\" stroke-width=\"1\" opacity=\"1\"></line><line transform=\"translate(27,0)\" x2=\"0\" y2=\"5\" stroke=\"#888\" stroke-width=\"1\" opacity=\"1\"></line></g><g class=\"mark-text role-axis-label\" pointer-events=\"none\"><text text-anchor=\"end\" transform=\"translate(8.500000000000002,7) rotate(270) translate(0,3)\" font-family=\"sans-serif\" font-size=\"10px\" fill=\"#000\" opacity=\"1\">ats</text><text text-anchor=\"end\" transform=\"translate(26.5,7) rotate(270) translate(0,3)\" font-family=\"sans-serif\" font-size=\"10px\" fill=\"#000\" opacity=\"1\">otc</text></g><g class=\"mark-rule role-axis-domain\" pointer-events=\"none\"><line transform=\"translate(0,0)\" x2=\"36\" y2=\"0\" stroke=\"#888\" stroke-width=\"3\" opacity=\"1\"></line></g><g class=\"mark-text role-axis-title\" pointer-events=\"none\"><text text-anchor=\"middle\" transform=\"translate(18,36)\" font-family=\"sans-serif\" font-size=\"11px\" font-weight=\"bold\" fill=\"#000\" opacity=\"1\"></text></g></g><path class=\"foreground\" aria-hidden=\"true\" d=\"\" pointer-events=\"none\" display=\"none\"></path></g></g></g><path class=\"foreground\" aria-hidden=\"true\" d=\"\" display=\"none\"></path></g><g transform=\"translate(172,251)\"><path class=\"background\" aria-hidden=\"true\" d=\"M0,0h36v0h-36Z\"></path><g><g class=\"mark-group role-axis\" role=\"graphics-symbol\" aria-roledescription=\"axis\" aria-label=\"X-axis titled ' ' for a discrete scale with 2 values: ats, otc\"><g transform=\"translate(0.5,0.5)\"><path class=\"background\" aria-hidden=\"true\" d=\"M0,0h0v0h0Z\" pointer-events=\"none\"></path><g><g class=\"mark-rule role-axis-tick\" pointer-events=\"none\"><line transform=\"translate(9,0)\" x2=\"0\" y2=\"5\" stroke=\"#888\" stroke-width=\"1\" opacity=\"1\"></line><line transform=\"translate(27,0)\" x2=\"0\" y2=\"5\" stroke=\"#888\" stroke-width=\"1\" opacity=\"1\"></line></g><g class=\"mark-text role-axis-label\" pointer-events=\"none\"><text text-anchor=\"end\" transform=\"translate(8.500000000000002,7) rotate(270) translate(0,3)\" font-family=\"sans-serif\" font-size=\"10px\" fill=\"#000\" opacity=\"1\">ats</text><text text-anchor=\"end\" transform=\"translate(26.5,7) rotate(270) translate(0,3)\" font-family=\"sans-serif\" font-size=\"10px\" fill=\"#000\" opacity=\"1\">otc</text></g><g class=\"mark-rule role-axis-domain\" pointer-events=\"none\"><line transform=\"translate(0,0)\" x2=\"36\" y2=\"0\" stroke=\"#888\" stroke-width=\"3\" opacity=\"1\"></line></g><g class=\"mark-text role-axis-title\" pointer-events=\"none\"><text text-anchor=\"middle\" transform=\"translate(18,36)\" font-family=\"sans-serif\" font-size=\"11px\" font-weight=\"bold\" fill=\"#000\" opacity=\"1\"></text></g></g><path class=\"foreground\" aria-hidden=\"true\" d=\"\" pointer-events=\"none\" display=\"none\"></path></g></g></g><path class=\"foreground\" aria-hidden=\"true\" d=\"\" display=\"none\"></path></g><g transform=\"translate(215,251)\"><path class=\"background\" aria-hidden=\"true\" d=\"M0,0h36v0h-36Z\"></path><g><g class=\"mark-group role-axis\" role=\"graphics-symbol\" aria-roledescription=\"axis\" aria-label=\"X-axis titled ' ' for a discrete scale with 2 values: ats, otc\"><g transform=\"translate(0.5,0.5)\"><path class=\"background\" aria-hidden=\"true\" d=\"M0,0h0v0h0Z\" pointer-events=\"none\"></path><g><g class=\"mark-rule role-axis-tick\" pointer-events=\"none\"><line transform=\"translate(9,0)\" x2=\"0\" y2=\"5\" stroke=\"#888\" stroke-width=\"1\" opacity=\"1\"></line><line transform=\"translate(27,0)\" x2=\"0\" y2=\"5\" stroke=\"#888\" stroke-width=\"1\" opacity=\"1\"></line></g><g class=\"mark-text role-axis-label\" pointer-events=\"none\"><text text-anchor=\"end\" transform=\"translate(8.500000000000002,7) rotate(270) translate(0,3)\" font-family=\"sans-serif\" font-size=\"10px\" fill=\"#000\" opacity=\"1\">ats</text><text text-anchor=\"end\" transform=\"translate(26.5,7) rotate(270) translate(0,3)\" font-family=\"sans-serif\" font-size=\"10px\" fill=\"#000\" opacity=\"1\">otc</text></g><g class=\"mark-rule role-axis-domain\" pointer-events=\"none\"><line transform=\"translate(0,0)\" x2=\"36\" y2=\"0\" stroke=\"#888\" stroke-width=\"3\" opacity=\"1\"></line></g><g class=\"mark-text role-axis-title\" pointer-events=\"none\"><text text-anchor=\"middle\" transform=\"translate(18,36)\" font-family=\"sans-serif\" font-size=\"11px\" font-weight=\"bold\" fill=\"#000\" opacity=\"1\"></text></g></g><path class=\"foreground\" aria-hidden=\"true\" d=\"\" pointer-events=\"none\" display=\"none\"></path></g></g></g><path class=\"foreground\" aria-hidden=\"true\" d=\"\" display=\"none\"></path></g><g transform=\"translate(258,251)\"><path class=\"background\" aria-hidden=\"true\" d=\"M0,0h36v0h-36Z\"></path><g><g class=\"mark-group role-axis\" role=\"graphics-symbol\" aria-roledescription=\"axis\" aria-label=\"X-axis titled ' ' for a discrete scale with 2 values: ats, otc\"><g transform=\"translate(0.5,0.5)\"><path class=\"background\" aria-hidden=\"true\" d=\"M0,0h0v0h0Z\" pointer-events=\"none\"></path><g><g class=\"mark-rule role-axis-tick\" pointer-events=\"none\"><line transform=\"translate(9,0)\" x2=\"0\" y2=\"5\" stroke=\"#888\" stroke-width=\"1\" opacity=\"1\"></line><line transform=\"translate(27,0)\" x2=\"0\" y2=\"5\" stroke=\"#888\" stroke-width=\"1\" opacity=\"1\"></line></g><g class=\"mark-text role-axis-label\" pointer-events=\"none\"><text text-anchor=\"end\" transform=\"translate(8.500000000000002,7) rotate(270) translate(0,3)\" font-family=\"sans-serif\" font-size=\"10px\" fill=\"#000\" opacity=\"1\">ats</text><text text-anchor=\"end\" transform=\"translate(26.5,7) rotate(270) translate(0,3)\" font-family=\"sans-serif\" font-size=\"10px\" fill=\"#000\" opacity=\"1\">otc</text></g><g class=\"mark-rule role-axis-domain\" pointer-events=\"none\"><line transform=\"translate(0,0)\" x2=\"36\" y2=\"0\" stroke=\"#888\" stroke-width=\"3\" opacity=\"1\"></line></g><g class=\"mark-text role-axis-title\" pointer-events=\"none\"><text text-anchor=\"middle\" transform=\"translate(18,36)\" font-family=\"sans-serif\" font-size=\"11px\" font-weight=\"bold\" fill=\"#000\" opacity=\"1\"></text></g></g><path class=\"foreground\" aria-hidden=\"true\" d=\"\" pointer-events=\"none\" display=\"none\"></path></g></g></g><path class=\"foreground\" aria-hidden=\"true\" d=\"\" display=\"none\"></path></g><g transform=\"translate(301,251)\"><path class=\"background\" aria-hidden=\"true\" d=\"M0,0h36v0h-36Z\"></path><g><g class=\"mark-group role-axis\" role=\"graphics-symbol\" aria-roledescription=\"axis\" aria-label=\"X-axis titled ' ' for a discrete scale with 2 values: ats, otc\"><g transform=\"translate(0.5,0.5)\"><path class=\"background\" aria-hidden=\"true\" d=\"M0,0h0v0h0Z\" pointer-events=\"none\"></path><g><g class=\"mark-rule role-axis-tick\" pointer-events=\"none\"><line transform=\"translate(9,0)\" x2=\"0\" y2=\"5\" stroke=\"#888\" stroke-width=\"1\" opacity=\"1\"></line><line transform=\"translate(27,0)\" x2=\"0\" y2=\"5\" stroke=\"#888\" stroke-width=\"1\" opacity=\"1\"></line></g><g class=\"mark-text role-axis-label\" pointer-events=\"none\"><text text-anchor=\"end\" transform=\"translate(8.500000000000002,7) rotate(270) translate(0,3)\" font-family=\"sans-serif\" font-size=\"10px\" fill=\"#000\" opacity=\"1\">ats</text><text text-anchor=\"end\" transform=\"translate(26.5,7) rotate(270) translate(0,3)\" font-family=\"sans-serif\" font-size=\"10px\" fill=\"#000\" opacity=\"1\">otc</text></g><g class=\"mark-rule role-axis-domain\" pointer-events=\"none\"><line transform=\"translate(0,0)\" x2=\"36\" y2=\"0\" stroke=\"#888\" stroke-width=\"3\" opacity=\"1\"></line></g><g class=\"mark-text role-axis-title\" pointer-events=\"none\"><text text-anchor=\"middle\" transform=\"translate(18,36)\" font-family=\"sans-serif\" font-size=\"11px\" font-weight=\"bold\" fill=\"#000\" opacity=\"1\"></text></g></g><path class=\"foreground\" aria-hidden=\"true\" d=\"\" pointer-events=\"none\" display=\"none\"></path></g></g></g><path class=\"foreground\" aria-hidden=\"true\" d=\"\" display=\"none\"></path></g><g transform=\"translate(344,251)\"><path class=\"background\" aria-hidden=\"true\" d=\"M0,0h36v0h-36Z\"></path><g><g class=\"mark-group role-axis\" role=\"graphics-symbol\" aria-roledescription=\"axis\" aria-label=\"X-axis titled ' ' for a discrete scale with 2 values: ats, otc\"><g transform=\"translate(0.5,0.5)\"><path class=\"background\" aria-hidden=\"true\" d=\"M0,0h0v0h0Z\" pointer-events=\"none\"></path><g><g class=\"mark-rule role-axis-tick\" pointer-events=\"none\"><line transform=\"translate(9,0)\" x2=\"0\" y2=\"5\" stroke=\"#888\" stroke-width=\"1\" opacity=\"1\"></line><line transform=\"translate(27,0)\" x2=\"0\" y2=\"5\" stroke=\"#888\" stroke-width=\"1\" opacity=\"1\"></line></g><g class=\"mark-text role-axis-label\" pointer-events=\"none\"><text text-anchor=\"end\" transform=\"translate(8.500000000000002,7) rotate(270) translate(0,3)\" font-family=\"sans-serif\" font-size=\"10px\" fill=\"#000\" opacity=\"1\">ats</text><text text-anchor=\"end\" transform=\"translate(26.5,7) rotate(270) translate(0,3)\" font-family=\"sans-serif\" font-size=\"10px\" fill=\"#000\" opacity=\"1\">otc</text></g><g class=\"mark-rule role-axis-domain\" pointer-events=\"none\"><line transform=\"translate(0,0)\" x2=\"36\" y2=\"0\" stroke=\"#888\" stroke-width=\"3\" opacity=\"1\"></line></g><g class=\"mark-text role-axis-title\" pointer-events=\"none\"><text text-anchor=\"middle\" transform=\"translate(18,36)\" font-family=\"sans-serif\" font-size=\"11px\" font-weight=\"bold\" fill=\"#000\" opacity=\"1\"></text></g></g><path class=\"foreground\" aria-hidden=\"true\" d=\"\" pointer-events=\"none\" display=\"none\"></path></g></g></g><path class=\"foreground\" aria-hidden=\"true\" d=\"\" display=\"none\"></path></g><g transform=\"translate(387,251)\"><path class=\"background\" aria-hidden=\"true\" d=\"M0,0h36v0h-36Z\"></path><g><g class=\"mark-group role-axis\" role=\"graphics-symbol\" aria-roledescription=\"axis\" aria-label=\"X-axis titled ' ' for a discrete scale with 2 values: ats, otc\"><g transform=\"translate(0.5,0.5)\"><path class=\"background\" aria-hidden=\"true\" d=\"M0,0h0v0h0Z\" pointer-events=\"none\"></path><g><g class=\"mark-rule role-axis-tick\" pointer-events=\"none\"><line transform=\"translate(9,0)\" x2=\"0\" y2=\"5\" stroke=\"#888\" stroke-width=\"1\" opacity=\"1\"></line><line transform=\"translate(27,0)\" x2=\"0\" y2=\"5\" stroke=\"#888\" stroke-width=\"1\" opacity=\"1\"></line></g><g class=\"mark-text role-axis-label\" pointer-events=\"none\"><text text-anchor=\"end\" transform=\"translate(8.500000000000002,7) rotate(270) translate(0,3)\" font-family=\"sans-serif\" font-size=\"10px\" fill=\"#000\" opacity=\"1\">ats</text><text text-anchor=\"end\" transform=\"translate(26.5,7) rotate(270) translate(0,3)\" font-family=\"sans-serif\" font-size=\"10px\" fill=\"#000\" opacity=\"1\">otc</text></g><g class=\"mark-rule role-axis-domain\" pointer-events=\"none\"><line transform=\"translate(0,0)\" x2=\"36\" y2=\"0\" stroke=\"#888\" stroke-width=\"3\" opacity=\"1\"></line></g><g class=\"mark-text role-axis-title\" pointer-events=\"none\"><text text-anchor=\"middle\" transform=\"translate(18,36)\" font-family=\"sans-serif\" font-size=\"11px\" font-weight=\"bold\" fill=\"#000\" opacity=\"1\"></text></g></g><path class=\"foreground\" aria-hidden=\"true\" d=\"\" pointer-events=\"none\" display=\"none\"></path></g></g></g><path class=\"foreground\" aria-hidden=\"true\" d=\"\" display=\"none\"></path></g><g transform=\"translate(430,251)\"><path class=\"background\" aria-hidden=\"true\" d=\"M0,0h36v0h-36Z\"></path><g><g class=\"mark-group role-axis\" role=\"graphics-symbol\" aria-roledescription=\"axis\" aria-label=\"X-axis titled ' ' for a discrete scale with 2 values: ats, otc\"><g transform=\"translate(0.5,0.5)\"><path class=\"background\" aria-hidden=\"true\" d=\"M0,0h0v0h0Z\" pointer-events=\"none\"></path><g><g class=\"mark-rule role-axis-tick\" pointer-events=\"none\"><line transform=\"translate(9,0)\" x2=\"0\" y2=\"5\" stroke=\"#888\" stroke-width=\"1\" opacity=\"1\"></line><line transform=\"translate(27,0)\" x2=\"0\" y2=\"5\" stroke=\"#888\" stroke-width=\"1\" opacity=\"1\"></line></g><g class=\"mark-text role-axis-label\" pointer-events=\"none\"><text text-anchor=\"end\" transform=\"translate(8.500000000000002,7) rotate(270) translate(0,3)\" font-family=\"sans-serif\" font-size=\"10px\" fill=\"#000\" opacity=\"1\">ats</text><text text-anchor=\"end\" transform=\"translate(26.5,7) rotate(270) translate(0,3)\" font-family=\"sans-serif\" font-size=\"10px\" fill=\"#000\" opacity=\"1\">otc</text></g><g class=\"mark-rule role-axis-domain\" pointer-events=\"none\"><line transform=\"translate(0,0)\" x2=\"36\" y2=\"0\" stroke=\"#888\" stroke-width=\"3\" opacity=\"1\"></line></g><g class=\"mark-text role-axis-title\" pointer-events=\"none\"><text text-anchor=\"middle\" transform=\"translate(18,36)\" font-family=\"sans-serif\" font-size=\"11px\" font-weight=\"bold\" fill=\"#000\" opacity=\"1\"></text></g></g><path class=\"foreground\" aria-hidden=\"true\" d=\"\" pointer-events=\"none\" display=\"none\"></path></g></g></g><path class=\"foreground\" aria-hidden=\"true\" d=\"\" display=\"none\"></path></g><g transform=\"translate(473,251)\"><path class=\"background\" aria-hidden=\"true\" d=\"M0,0h36v0h-36Z\"></path><g><g class=\"mark-group role-axis\" role=\"graphics-symbol\" aria-roledescription=\"axis\" aria-label=\"X-axis titled ' ' for a discrete scale with 2 values: ats, otc\"><g transform=\"translate(0.5,0.5)\"><path class=\"background\" aria-hidden=\"true\" d=\"M0,0h0v0h0Z\" pointer-events=\"none\"></path><g><g class=\"mark-rule role-axis-tick\" pointer-events=\"none\"><line transform=\"translate(9,0)\" x2=\"0\" y2=\"5\" stroke=\"#888\" stroke-width=\"1\" opacity=\"1\"></line><line transform=\"translate(27,0)\" x2=\"0\" y2=\"5\" stroke=\"#888\" stroke-width=\"1\" opacity=\"1\"></line></g><g class=\"mark-text role-axis-label\" pointer-events=\"none\"><text text-anchor=\"end\" transform=\"translate(8.500000000000002,7) rotate(270) translate(0,3)\" font-family=\"sans-serif\" font-size=\"10px\" fill=\"#000\" opacity=\"1\">ats</text><text text-anchor=\"end\" transform=\"translate(26.5,7) rotate(270) translate(0,3)\" font-family=\"sans-serif\" font-size=\"10px\" fill=\"#000\" opacity=\"1\">otc</text></g><g class=\"mark-rule role-axis-domain\" pointer-events=\"none\"><line transform=\"translate(0,0)\" x2=\"36\" y2=\"0\" stroke=\"#888\" stroke-width=\"3\" opacity=\"1\"></line></g><g class=\"mark-text role-axis-title\" pointer-events=\"none\"><text text-anchor=\"middle\" transform=\"translate(18,36)\" font-family=\"sans-serif\" font-size=\"11px\" font-weight=\"bold\" fill=\"#000\" opacity=\"1\"></text></g></g><path class=\"foreground\" aria-hidden=\"true\" d=\"\" pointer-events=\"none\" display=\"none\"></path></g></g></g><path class=\"foreground\" aria-hidden=\"true\" d=\"\" display=\"none\"></path></g><g transform=\"translate(516,251)\"><path class=\"background\" aria-hidden=\"true\" d=\"M0,0h36v0h-36Z\"></path><g><g class=\"mark-group role-axis\" role=\"graphics-symbol\" aria-roledescription=\"axis\" aria-label=\"X-axis titled ' ' for a discrete scale with 2 values: ats, otc\"><g transform=\"translate(0.5,0.5)\"><path class=\"background\" aria-hidden=\"true\" d=\"M0,0h0v0h0Z\" pointer-events=\"none\"></path><g><g class=\"mark-rule role-axis-tick\" pointer-events=\"none\"><line transform=\"translate(9,0)\" x2=\"0\" y2=\"5\" stroke=\"#888\" stroke-width=\"1\" opacity=\"1\"></line><line transform=\"translate(27,0)\" x2=\"0\" y2=\"5\" stroke=\"#888\" stroke-width=\"1\" opacity=\"1\"></line></g><g class=\"mark-text role-axis-label\" pointer-events=\"none\"><text text-anchor=\"end\" transform=\"translate(8.500000000000002,7) rotate(270) translate(0,3)\" font-family=\"sans-serif\" font-size=\"10px\" fill=\"#000\" opacity=\"1\">ats</text><text text-anchor=\"end\" transform=\"translate(26.5,7) rotate(270) translate(0,3)\" font-family=\"sans-serif\" font-size=\"10px\" fill=\"#000\" opacity=\"1\">otc</text></g><g class=\"mark-rule role-axis-domain\" pointer-events=\"none\"><line transform=\"translate(0,0)\" x2=\"36\" y2=\"0\" stroke=\"#888\" stroke-width=\"3\" opacity=\"1\"></line></g><g class=\"mark-text role-axis-title\" pointer-events=\"none\"><text text-anchor=\"middle\" transform=\"translate(18,36)\" font-family=\"sans-serif\" font-size=\"11px\" font-weight=\"bold\" fill=\"#000\" opacity=\"1\"></text></g></g><path class=\"foreground\" aria-hidden=\"true\" d=\"\" pointer-events=\"none\" display=\"none\"></path></g></g></g><path class=\"foreground\" aria-hidden=\"true\" d=\"\" display=\"none\"></path></g></g><g class=\"mark-group role-scope cell\" role=\"graphics-object\" aria-roledescription=\"group mark container\"><g transform=\"translate(0,0)\"><path class=\"background\" aria-hidden=\"true\" d=\"M0.5,0.5h36v250h-36Z\"></path><g><g class=\"mark-rect role-mark child_marks\" role=\"graphics-object\" aria-roledescription=\"rect mark container\"><path aria-label=\"Share of Trades: 3.41203958803;  : ats; Secondary Market: ats\" role=\"graphics-symbol\" aria-roledescription=\"bar\" d=\"M0.9000000000000021,211.22682286328728h16.2v38.77317713671272h-16.2Z\" fill=\"rgb(49, 104, 142)\"></path><path aria-label=\"Share of Trades: 3.4415711308;  : otc; Secondary Market: otc\" role=\"graphics-symbol\" aria-roledescription=\"bar\" d=\"M18.900000000000002,210.89123715003078h16.2v39.108762849969224h-16.2Z\" fill=\"rgb(53, 183, 121)\"></path></g></g><path class=\"foreground\" aria-hidden=\"true\" d=\"\" display=\"none\"></path></g><g transform=\"translate(43,0)\"><path class=\"background\" aria-hidden=\"true\" d=\"M0.5,0.5h36v250h-36Z\"></path><g><g class=\"mark-rect role-mark child_marks\" role=\"graphics-object\" aria-roledescription=\"rect mark container\"><path aria-label=\"Share of Trades: 0.0686724471427;  : ats; Secondary Market: ats\" role=\"graphics-symbol\" aria-roledescription=\"bar\" d=\"M0.9000000000000021,249.21963128246986h16.2v0.7803687175301377h-16.2Z\" fill=\"rgb(49, 104, 142)\"></path><path aria-label=\"Share of Trades: 0.0809573438547;  : otc; Secondary Market: otc\" role=\"graphics-symbol\" aria-roledescription=\"bar\" d=\"M18.900000000000002,249.08003018346946h16.2v0.9199698165305392h-16.2Z\" fill=\"rgb(53, 183, 121)\"></path></g></g><path class=\"foreground\" aria-hidden=\"true\" d=\"\" display=\"none\"></path></g><g transform=\"translate(86,0)\"><path class=\"background\" aria-hidden=\"true\" d=\"M0.5,0.5h36v250h-36Z\"></path><g><g class=\"mark-rect role-mark child_marks\" role=\"graphics-object\" aria-roledescription=\"rect mark container\"><path aria-label=\"Share of Trades: 3.76635671412;  : ats; Secondary Market: ats\" role=\"graphics-symbol\" aria-roledescription=\"bar\" d=\"M0.9000000000000021,207.20049188498285h16.2v42.79950811501715h-16.2Z\" fill=\"rgb(49, 104, 142)\"></path><path aria-label=\"Share of Trades: 4.54663887441;  : otc; Secondary Market: otc\" role=\"graphics-symbol\" aria-roledescription=\"bar\" d=\"M18.900000000000002,198.33364915438912h16.2v51.66635084561088h-16.2Z\" fill=\"rgb(53, 183, 121)\"></path></g></g><path class=\"foreground\" aria-hidden=\"true\" d=\"\" display=\"none\"></path></g><g transform=\"translate(129,0)\"><path class=\"background\" aria-hidden=\"true\" d=\"M0.5,0.5h36v250h-36Z\"></path><g><g class=\"mark-rect role-mark child_marks\" role=\"graphics-object\" aria-roledescription=\"rect mark container\"><path aria-label=\"Share of Trades: 6.84680648595;  : ats; Secondary Market: ats\" role=\"graphics-symbol\" aria-roledescription=\"bar\" d=\"M0.9000000000000021,172.19538084148724h16.2v77.80461915851276h-16.2Z\" fill=\"rgb(49, 104, 142)\"></path><path aria-label=\"Share of Trades: 7.90143676022;  : otc; Secondary Market: otc\" role=\"graphics-symbol\" aria-roledescription=\"bar\" d=\"M18.900000000000002,160.2109459066207h16.2v89.78905409337929h-16.2Z\" fill=\"rgb(53, 183, 121)\"></path></g></g><path class=\"foreground\" aria-hidden=\"true\" d=\"\" display=\"none\"></path></g><g transform=\"translate(172,0)\"><path class=\"background\" aria-hidden=\"true\" d=\"M0.5,0.5h36v250h-36Z\"></path><g><g class=\"mark-rect role-mark child_marks\" role=\"graphics-object\" aria-roledescription=\"rect mark container\"><path aria-label=\"Share of Trades: 6.40403270771;  : ats; Secondary Market: ats\" role=\"graphics-symbol\" aria-roledescription=\"bar\" d=\"M0.9000000000000021,177.22690104880067h16.2v72.77309895119933h-16.2Z\" fill=\"rgb(49, 104, 142)\"></path><path aria-label=\"Share of Trades: 7.07553227127;  : otc; Secondary Market: otc\" role=\"graphics-symbol\" aria-roledescription=\"bar\" d=\"M18.900000000000002,169.59622419008818h16.2v80.40377580991182h-16.2Z\" fill=\"rgb(53, 183, 121)\"></path></g></g><path class=\"foreground\" aria-hidden=\"true\" d=\"\" display=\"none\"></path></g><g transform=\"translate(215,0)\"><path class=\"background\" aria-hidden=\"true\" d=\"M0.5,0.5h36v250h-36Z\"></path><g><g class=\"mark-rect role-mark child_marks\" role=\"graphics-object\" aria-roledescription=\"rect mark container\"><path aria-label=\"Share of Trades: 15.2784749485;  : ats; Secondary Market: ats\" role=\"graphics-symbol\" aria-roledescription=\"bar\" d=\"M0.9000000000000021,76.38096649483195h16.2v173.61903350516803h-16.2Z\" fill=\"rgb(49, 104, 142)\"></path><path aria-label=\"Share of Trades: 16.6472027842;  : otc; Secondary Market: otc\" role=\"graphics-symbol\" aria-roledescription=\"bar\" d=\"M18.900000000000002,60.82724108877055h16.2v189.17275891122944h-16.2Z\" fill=\"rgb(53, 183, 121)\"></path></g></g><path class=\"foreground\" aria-hidden=\"true\" d=\"\" display=\"none\"></path></g><g transform=\"translate(258,0)\"><path class=\"background\" aria-hidden=\"true\" d=\"M0.5,0.5h36v250h-36Z\"></path><g><g class=\"mark-rect role-mark child_marks\" role=\"graphics-object\" aria-roledescription=\"rect mark container\"><path aria-label=\"Share of Trades: 17.0812901918;  : ats; Secondary Market: ats\" role=\"graphics-symbol\" aria-roledescription=\"bar\" d=\"M0.9000000000000021,55.89442963890925h16.2v194.10557036109074h-16.2Z\" fill=\"rgb(49, 104, 142)\"></path><path aria-label=\"Share of Trades: 17.2426580064;  : otc; Secondary Market: otc\" role=\"graphics-symbol\" aria-roledescription=\"bar\" d=\"M18.900000000000002,54.060704472702895h16.2v195.9392955272971h-16.2Z\" fill=\"rgb(53, 183, 121)\"></path></g></g><path class=\"foreground\" aria-hidden=\"true\" d=\"\" display=\"none\"></path></g><g transform=\"translate(301,0)\"><path class=\"background\" aria-hidden=\"true\" d=\"M0.5,0.5h36v250h-36Z\"></path><g><g class=\"mark-rect role-mark child_marks\" role=\"graphics-object\" aria-roledescription=\"rect mark container\"><path aria-label=\"Share of Trades: 20.2820802519;  : ats; Secondary Market: ats\" role=\"graphics-symbol\" aria-roledescription=\"bar\" d=\"M0.9000000000000021,19.52181531897981h16.2v230.4781846810202h-16.2Z\" fill=\"rgb(49, 104, 142)\"></path><path aria-label=\"Share of Trades: 18.9294089183;  : otc; Secondary Market: otc\" role=\"graphics-symbol\" aria-roledescription=\"bar\" d=\"M18.900000000000002,34.893080473460905h16.2v215.1069195265391h-16.2Z\" fill=\"rgb(53, 183, 121)\"></path></g></g><path class=\"foreground\" aria-hidden=\"true\" d=\"\" display=\"none\"></path></g><g transform=\"translate(344,0)\"><path class=\"background\" aria-hidden=\"true\" d=\"M0.5,0.5h36v250h-36Z\"></path><g><g class=\"mark-rect role-mark child_marks\" role=\"graphics-object\" aria-roledescription=\"rect mark container\"><path aria-label=\"Share of Trades: 19.0705020773;  : ats; Secondary Market: ats\" role=\"graphics-symbol\" aria-roledescription=\"bar\" d=\"M0.9000000000000021,33.28974912111901h16.2v216.710250878881h-16.2Z\" fill=\"rgb(49, 104, 142)\"></path><path aria-label=\"Share of Trades: 17.0993076751;  : otc; Secondary Market: otc\" role=\"graphics-symbol\" aria-roledescription=\"bar\" d=\"M18.900000000000002,55.689685509904386h16.2v194.3103144900956h-16.2Z\" fill=\"rgb(53, 183, 121)\"></path></g></g><path class=\"foreground\" aria-hidden=\"true\" d=\"\" display=\"none\"></path></g><g transform=\"translate(387,0)\"><path class=\"background\" aria-hidden=\"true\" d=\"M0.5,0.5h36v250h-36Z\"></path><g><g class=\"mark-rect role-mark child_marks\" role=\"graphics-object\" aria-roledescription=\"rect mark container\"><path aria-label=\"Share of Trades: 3.22024725351;  : ats; Secondary Market: ats\" role=\"graphics-symbol\" aria-roledescription=\"bar\" d=\"M0.9000000000000021,213.40628121010366h16.2v36.59371878989634h-16.2Z\" fill=\"rgb(49, 104, 142)\"></path><path aria-label=\"Share of Trades: 2.84439440185;  : otc; Secondary Market: otc\" role=\"graphics-symbol\" aria-roledescription=\"bar\" d=\"M18.900000000000002,217.67733634265682h16.2v32.322663657343185h-16.2Z\" fill=\"rgb(53, 183, 121)\"></path></g></g><path class=\"foreground\" aria-hidden=\"true\" d=\"\" display=\"none\"></path></g><g transform=\"translate(430,0)\"><path class=\"background\" aria-hidden=\"true\" d=\"M0.5,0.5h36v250h-36Z\"></path><g><g class=\"mark-rect role-mark child_marks\" role=\"graphics-object\" aria-roledescription=\"rect mark container\"><path aria-label=\"Share of Trades: 3.55755977364;  : ats; Secondary Market: ats\" role=\"graphics-symbol\" aria-roledescription=\"bar\" d=\"M0.9000000000000021,209.57318439042575h16.2v40.42681560957425h-16.2Z\" fill=\"rgb(49, 104, 142)\"></path><path aria-label=\"Share of Trades: 3.24834363136;  : otc; Secondary Market: otc\" role=\"graphics-symbol\" aria-roledescription=\"bar\" d=\"M18.900000000000002,213.0870041891407h16.2v36.912995810859286h-16.2Z\" fill=\"rgb(53, 183, 121)\"></path></g></g><path class=\"foreground\" aria-hidden=\"true\" d=\"\" display=\"none\"></path></g><g transform=\"translate(473,0)\"><path class=\"background\" aria-hidden=\"true\" d=\"M0.5,0.5h36v250h-36Z\"></path><g><g class=\"mark-rect role-mark child_marks\" role=\"graphics-object\" aria-roledescription=\"rect mark container\"><path aria-label=\"Share of Trades: 0.907293831416;  : ats; Secondary Market: ats\" role=\"graphics-symbol\" aria-roledescription=\"bar\" d=\"M0.9000000000000021,239.68984282482177h16.2v10.310157175178233h-16.2Z\" fill=\"rgb(49, 104, 142)\"></path><path aria-label=\"Share of Trades: 0.795103476513;  : otc; Secondary Market: otc\" role=\"graphics-symbol\" aria-roledescription=\"bar\" d=\"M18.900000000000002,240.96473322144243h16.2v9.03526677855757h-16.2Z\" fill=\"rgb(53, 183, 121)\"></path></g></g><path class=\"foreground\" aria-hidden=\"true\" d=\"\" display=\"none\"></path></g><g transform=\"translate(516,0)\"><path class=\"background\" aria-hidden=\"true\" d=\"M0.5,0.5h36v250h-36Z\"></path><g><g class=\"mark-rect role-mark child_marks\" role=\"graphics-object\" aria-roledescription=\"rect mark container\"><path aria-label=\"Share of Trades: 0.104643728979;  : ats; Secondary Market: ats\" role=\"graphics-symbol\" aria-roledescription=\"bar\" d=\"M0.9000000000000021,248.81086671614452h16.2v1.1891332838554831h-16.2Z\" fill=\"rgb(49, 104, 142)\"></path><path aria-label=\"Share of Trades: 0.147444725676;  : otc; Secondary Market: otc\" role=\"graphics-symbol\" aria-roledescription=\"bar\" d=\"M18.900000000000002,248.32449175368666h16.2v1.675508246313342h-16.2Z\" fill=\"rgb(53, 183, 121)\"></path></g></g><path class=\"foreground\" aria-hidden=\"true\" d=\"\" display=\"none\"></path></g></g><g class=\"mark-group role-legend\" role=\"graphics-symbol\" aria-roledescription=\"legend\" aria-label=\"Symbol legend titled 'Secondary Market' for fill color with 2 values: ats, otc\"><g transform=\"translate(571,0)\"><path class=\"background\" aria-hidden=\"true\" d=\"M0,0h111v40h-111Z\" pointer-events=\"none\"></path><g><g class=\"mark-group role-legend-entry\"><g transform=\"translate(0,16)\"><path class=\"background\" aria-hidden=\"true\" d=\"M0,0h0v0h0Z\" pointer-events=\"none\"></path><g><g class=\"mark-group role-scope\" role=\"graphics-object\" aria-roledescription=\"group mark container\"><g transform=\"translate(0,0)\"><path class=\"background\" aria-hidden=\"true\" d=\"M0,0h32v11h-32Z\" pointer-events=\"none\" opacity=\"1\"></path><g><g class=\"mark-symbol role-legend-symbol\" pointer-events=\"none\"><path transform=\"translate(6,6)\" d=\"M-5,-5h10v10h-10Z\" fill=\"rgb(49, 104, 142)\" stroke-width=\"1.5\" opacity=\"1\"></path></g><g class=\"mark-text role-legend-label\" pointer-events=\"none\"><text text-anchor=\"start\" transform=\"translate(16,9)\" font-family=\"sans-serif\" font-size=\"10px\" fill=\"#000\" opacity=\"1\">ats</text></g></g><path class=\"foreground\" aria-hidden=\"true\" d=\"\" pointer-events=\"none\" display=\"none\"></path></g><g transform=\"translate(0,13)\"><path class=\"background\" aria-hidden=\"true\" d=\"M0,0h32v11h-32Z\" pointer-events=\"none\" opacity=\"1\"></path><g><g class=\"mark-symbol role-legend-symbol\" pointer-events=\"none\"><path transform=\"translate(6,6)\" d=\"M-5,-5h10v10h-10Z\" fill=\"rgb(53, 183, 121)\" stroke-width=\"1.5\" opacity=\"1\"></path></g><g class=\"mark-text role-legend-label\" pointer-events=\"none\"><text text-anchor=\"start\" transform=\"translate(16,9)\" font-family=\"sans-serif\" font-size=\"10px\" fill=\"#000\" opacity=\"1\">otc</text></g></g><path class=\"foreground\" aria-hidden=\"true\" d=\"\" pointer-events=\"none\" display=\"none\"></path></g></g></g><path class=\"foreground\" aria-hidden=\"true\" d=\"\" pointer-events=\"none\" display=\"none\"></path></g></g><g class=\"mark-text role-legend-title\" pointer-events=\"none\"><text text-anchor=\"start\" transform=\"translate(0,9)\" font-family=\"sans-serif\" font-size=\"11px\" font-weight=\"bold\" fill=\"#000\" opacity=\"1\">Secondary Market</text></g></g><path class=\"foreground\" aria-hidden=\"true\" d=\"\" pointer-events=\"none\" display=\"none\"></path></g></g><g class=\"mark-group role-title\"><g transform=\"translate(323.5,-102)\"><path class=\"background\" aria-hidden=\"true\" d=\"M0,0h0v0h0Z\" pointer-events=\"none\"></path><g><g class=\"mark-text role-title-text\" role=\"graphics-symbol\" aria-roledescription=\"title\" aria-label=\"Title text 'Secondary-Market-Contingent Share of Trades of Non-MTN-Bonds Traded  by Number of Covenant Categories per Bond - 2019Q2'\" pointer-events=\"none\"><text text-anchor=\"middle\" transform=\"translate(0,11)\" font-family=\"sans-serif\" font-size=\"14px\" font-weight=\"bold\" fill=\"#000\" opacity=\"1\"><tspan>Secondary-Market-Contingent Share of Trades of Non-MTN-Bonds Traded</tspan><tspan x=\"0\" dy=\"16\">by Number of Covenant Categories per Bond - 2019Q2</tspan></text></g></g><path class=\"foreground\" aria-hidden=\"true\" d=\"\" pointer-events=\"none\" display=\"none\"></path></g></g></g><path class=\"foreground\" aria-hidden=\"true\" d=\"\" display=\"none\"></path></g></g></g></svg>\n"
      ],
      "text/plain": [
       "@vlplot(\n",
       "    config={\n",
       "        view={\n",
       "            stroke=\"transparent\"\n",
       "        },\n",
       "        axis={\n",
       "            domainWidth=3\n",
       "        },\n",
       "        opacity={\n",
       "            value=0.7\n",
       "        }\n",
       "    },\n",
       "    title={\n",
       "        text=[\n",
       "            \"Secondary-Market-Contingent Share of Trades of Non-MTN-Bonds Traded\",\n",
       "            \" by Number of Covenant Categories per Bond - 2019Q2\"\n",
       "        ],\n",
       "        align=\"center\",\n",
       "        anchor=\"middle\",\n",
       "        fontSize=14,\n",
       "        offset=20\n",
       "    },\n",
       "    spacing=5.0,\n",
       "    width={\n",
       "        step=18\n",
       "    },\n",
       "    height=250,\n",
       "    mark=\"bar\",\n",
       "    encoding={\n",
       "        column={\n",
       "            type=\"ordinal\",\n",
       "            title=\"Number of Covenant Categories per Bond\",\n",
       "            sort=\"ascending\",\n",
       "            field=\"sum_num_cov\"\n",
       "        },\n",
       "        y={\n",
       "            axis={\n",
       "                title=\"Share of Trades\",\n",
       "                grid=false,\n",
       "                stack=nothing\n",
       "            },\n",
       "            field=\"perc_sbm_total\"\n",
       "        },\n",
       "        x={\n",
       "            type=\"nominal\",\n",
       "            axis={\n",
       "                title=\" \"\n",
       "            },\n",
       "            field=\"sbm\"\n",
       "        },\n",
       "        color={\n",
       "            legend={\n",
       "                title=\"Secondary Market\"\n",
       "            },\n",
       "            scale={\n",
       "                scheme=\"viridis\"\n",
       "            },\n",
       "            field=\"sbm\",\n",
       "            type=\"nominal\"\n",
       "        }\n",
       "    },\n",
       "    data={\n",
       "        values=...\n",
       "    }\n",
       ")"
      ]
     },
     "execution_count": 29,
     "metadata": {},
     "output_type": "execute_result"
    }
   ],
   "source": [
    "pl[8]"
   ]
  },
  {
   "cell_type": "code",
   "execution_count": null,
   "metadata": {},
   "outputs": [],
   "source": [
    "pl[9]"
   ]
  },
  {
   "cell_type": "code",
   "execution_count": null,
   "metadata": {},
   "outputs": [],
   "source": [
    "pl[10]"
   ]
  },
  {
   "cell_type": "code",
   "execution_count": null,
   "metadata": {},
   "outputs": [],
   "source": []
  }
 ],
 "metadata": {
  "@webio": {
   "lastCommId": null,
   "lastKernelId": null
  },
  "kernelspec": {
   "display_name": "Julia 1.5.2",
   "language": "julia",
   "name": "julia-1.5"
  },
  "language_info": {
   "file_extension": ".jl",
   "mimetype": "application/julia",
   "name": "julia",
   "version": "1.5.2"
  }
 },
 "nbformat": 4,
 "nbformat_minor": 4
}
