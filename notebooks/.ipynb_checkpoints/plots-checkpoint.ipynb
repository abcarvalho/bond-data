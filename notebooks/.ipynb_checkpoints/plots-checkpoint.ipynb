{
 "cells": [
  {
   "cell_type": "code",
   "execution_count": 11,
   "metadata": {},
   "outputs": [
    {
     "name": "stderr",
     "output_type": "stream",
     "text": [
      "WARNING: replacing module DataMod.\n",
      "WARNING: replacing module StatsMod.\n",
      "WARNING: replacing module PlotMod.\n"
     ]
    },
    {
     "data": {
      "text/plain": [
       "1000"
      ]
     },
     "execution_count": 11,
     "metadata": {},
     "output_type": "execute_result"
    }
   ],
   "source": [
    "using DataFrames\n",
    "using Printf\n",
    "using CSV\n",
    "using Dates\n",
    "using DayCounts\n",
    "# using Revise\n",
    "using FileIO\n",
    "using VegaLite, VegaDatasets\n",
    "\n",
    "main_path = \"/home/artur/BondPricing/bond-data\"\n",
    "module_path = string(main_path, \"/module\")\n",
    "script_path = string(main_path, \"/data-scripts/plots\")\n",
    "include(string(joinpath(module_path, \"data_module\"), \".jl\"))\n",
    "include(string(joinpath(module_path, \"stats_module\"), \".jl\"))\n",
    "include(string(joinpath(module_path, \"plot_module\"), \".jl\"))\n",
    "ENV[\"LINES\"] = 100\n",
    "ENV[\"COLUMNS\"] = 1000"
   ]
  },
  {
   "cell_type": "code",
   "execution_count": null,
   "metadata": {},
   "outputs": [],
   "source": []
  },
  {
   "cell_type": "code",
   "execution_count": 2,
   "metadata": {},
   "outputs": [
    {
     "data": {
      "text/plain": [
       "Main.DataMod.data_obj(\"/home/artur/BondPricing/bond-data\", \"data\", \"MERGED\", \"Stats\", \"merged\", Main.DataMod.trace_obj(\"TRACE\", \"/home/artur/BondPricing/bond-data/data/TRACE\", \"raw\", \"pre-processed\", \"processed\", \"filtered\", \"trace_enhanced\", \"cancel_trd\", \"reverse_trd\", \"original_trd\", \"processed\", \"filtered\", [\"cusip_id\", \"entrd_vol_qt\", \"rptd_pr\", \"trd_exctn_dt\", \"trd_exctn_tm\", \"trc_st\", \"rpt_side_cd\", \"cntra_mp_id\", \"msg_seq_nb\"], [\"cusip_id\", \"entrd_vol_qt\", \"rptd_pr\", \"trd_exctn_dt\", \"trd_exctn_tm\", \"trc_st\", \"rpt_side_cd\", \"cntra_mp_id\", \"orig_msg_seq_nb\"], Dict{String,DataType}(\"yld_sign_cd\" => String,\"first_trade_ctrl_num\" => Int64,\"sale_cndtn2_cd\" => String,\"yld_pt\" => Float64,\"asof_cd\" => String,\"sell_cmsn_rt\" => Float64,\"trd_exctn_tm\" => String,\"sale_cndtn_cd\" => String,\"days_to_sttl_ct\" => String,\"rptd_pr\" => Float64…)), Main.DataMod.mergent_obj(\"MERGENT\", \"/home/artur/BondPricing/bond-data/data/MERGENT\", \"mergent_fisd\", \"filtered\", Dict(:COUPON_INFO => [:ISSUE_ID, :DATED_DATE, :FIRST_INTEREST_DATE, :INTEREST_FREQUENCY, :COUPON, :PAY_IN_KIND, :PAY_IN_KIND_EXP_DATE, :COUPON_CHANGE_INDICATOR, :DAY_COUNT_BASIS, :LAST_INTEREST_DATE, :NEXT_INTEREST_DATE],:ISSUE_AFFECTED => [:ISSUER_ID_AFFECTED, :FILING_DATE, :ISSUE_ID, :SETTLEMENT],:ISSUE_OTHER => [:PROSPECTUS_ISSUER_NAME, :ISSUE_NAME, :COUPON_TYPE, :MTN, :YANKEE, :CANADIAN, :OID, :FOREIGN_CURRENCY, :SLOB, :SETTLEMENT_TYPE  …  :DEFAULTED, :TENDER_EXCH_OFFER, :REFUNDING_DATE, :OVERALLOTMENT_OPT, :ANNOUNCED_CALL, :DEP_ELIGIBILITY, :SUBSEQUENT_DATA, :PRESS_RELEASE, :ISIN, :SEDOL],:SUBS_RESTRICTIVE => [:ISSUE_ID, :DIVIDENDS_RELATED_PAYMENTS_SUB, :FUNDED_DEBT_SUB, :INDEBTEDNESS_SUB, :INVESTMENTS_UNRESTRICTED_SUBS, :SALES_LEASEBACK_SUB, :LIENS_SUB, :FIXED_CHARGE_COVERAGE_SUB, :LEVERAGE_TEST_SUB, :BORROWING_RESTRICTED, :STOCK_ISSUANCE, :PREFERRED_STOCK_ISSUANCE, :SALE_XFER_ASSETS_UNRESTRICTED, :SUBSIDIARY_REDESIGNATION, :SUBSIDIARY_GUARANTEE],:CONVERTIBLE => [:ISSUE_ID, :CONV_COMMOD_ISSUER, :CONV_COMMOD_TYPE, :CONV_COMMOD_CUSIP, :EXCHANGE, :TICKER, :CONV_PRICE, :QTY_OF_COMMOD, :PERCENT_OF_OUTSTANDING_COMMOD, :CONV_CASH  …  :REASON, :CHANGE_DATE, :SPLIT_DATE, :SPLIT_RATIO, :CONDITIONAL_CONV_TERMS, :SOFT_CALL_MAKE_WHOLE, :PEPS, :PERCS, :CONV_PROHIBITED_FROM, :CONVERT_ON_CALL],:ISSUER => [:ISSUER_ID, :AGENT_ID, :CUSIP_NAME, :INDUSTRY_GROUP, :INDUSTRY_CODE, :ESOP, :IN_BANKRUPTCY, :PARENT_ID, :NAICS_CODE, :COUNTRY_DOMICILE],:RATING => [:ISSUE_ID, :RATING_TYPE, :RATING_DATE, :RATING, :RATING_STATUS, :REASON, :RATING_STATUS_DATE, :INVESTMENT_GRADE],:CONVERTIBLE_ISSUER_HISTORY => [:ISSUE_ID, :AS_OF_DATE, :CONV_COMMOD_ISSUER, :AGENT_ID, :CONV_COMMOD_TYPE, :EXCHANGE, :CONV_COMMOD_CUSIP, :TICKER, :REASON, :DILUTION_PROTECTION, :CONV_EFF_DATE, :CONV_EXP_DATE, :CONV_CASH],:PUT => [:ISSUE_ID, :NOTIFICATION_PERIOD, :NEXT_PUT_DATE, :NEXT_PUT_PRICE],:CONVERTIBLE_ADDITIONAL_TERMS => [:ISSUE_ID, :COCO_START_DATE, :COCO_END_DATE, :COCO_INITIAL_TRIGGER_PERCENT, :COCO_TRIGGER_EXPRESSED_AS, :COCO_CHANGE_RATE, :COCO_MIN_TRIGGER_LEVEL, :COCO_CHANGE_FREQUENCY, :COCO_TRADE_DAYS, :COCO_TRADE_DAYS_IN_PREVIOUS  …  :SC_MAKE_WHOLE_END_DATE, :SC_MAKE_WHOLE_DECREMENT_TYPE, :SC_MAKE_WHOLE_INITIAL_AMOUNT, :SC_MAKE_WHOLE_CHANGE_PERCENT, :PEPS_MAX_CONVERSION_RATIO, :PEPS_MIN_CONVERSION_RATIO, :PEPS_HIGHER_PRICE, :PEPS_LOWER_PRICE, :PEPS_ISSUE_PRICE, :PERCS_MAX_PAYOFF]…)))"
      ]
     },
     "execution_count": 2,
     "metadata": {},
     "output_type": "execute_result"
    }
   ],
   "source": [
    "dto = DataMod.data_obj_constructor()"
   ]
  },
  {
   "cell_type": "code",
   "execution_count": 3,
   "metadata": {},
   "outputs": [
    {
     "name": "stdout",
     "output_type": "stream",
     "text": [
      " \n"
     ]
    },
    {
     "name": "stderr",
     "output_type": "stream",
     "text": [
      "WARNING: replacing module StatsMod.\n"
     ]
    },
    {
     "name": "stdout",
     "output_type": "stream",
     "text": [
      "Filename: 2019Q2_stats_by_num_cov.csv\n",
      " \n",
      "Reading dataframe in folder: /home/artur/BondPricing/bond-data/data/Stats/2019...\n",
      " \n",
      "Filename: 2019Q2_stats_by_cov_cat.csv\n",
      " \n",
      "Reading dataframe in folder: /home/artur/BondPricing/bond-data/data/Stats/2019...\n"
     ]
    },
    {
     "data": {
      "text/html": [
       "<table class=\"data-frame\"><thead><tr><th></th><th>trd_exctn_yr</th><th>trd_exctn_qtr</th><th>otc</th><th>hy</th><th>ig</th><th>ats</th><th>cov</th><th>ncov</th><th>total_trd_count</th><th>total_bonds</th><th>total_issuers</th><th>qt25_trd_vol</th><th>mean_trd_vol</th><th>median_trd_vol</th><th>qt75_trd_vol</th><th>total_trd_vol_tr</th><th>cg1_mean_trd_vol</th><th>cg2_mean_trd_vol</th><th>cg3_mean_trd_vol</th><th>cg4_mean_trd_vol</th><th>cg5_mean_trd_vol</th><th>cg6_mean_trd_vol</th><th>cg7_mean_trd_vol</th><th>cg8_mean_trd_vol</th><th>cg9_mean_trd_vol</th><th>cg10_mean_trd_vol</th><th>cg11_mean_trd_vol</th><th>cg12_mean_trd_vol</th><th>cg13_mean_trd_vol</th><th>cg14_mean_trd_vol</th><th>cg15_mean_trd_vol</th><th>cg1_median_trd_vol</th><th>cg2_median_trd_vol</th><th>cg3_median_trd_vol</th><th>cg4_median_trd_vol</th><th>cg5_median_trd_vol</th><th>cg6_median_trd_vol</th><th>cg7_median_trd_vol</th><th>cg8_median_trd_vol</th><th>cg9_median_trd_vol</th><th>cg10_median_trd_vol</th><th>cg11_median_trd_vol</th><th>cg12_median_trd_vol</th><th>cg13_median_trd_vol</th><th>cg14_median_trd_vol</th><th>cg15_median_trd_vol</th><th>cg1_trd_vol_tr</th><th>cg2_trd_vol_tr</th><th>cg3_trd_vol_tr</th><th>cg4_trd_vol_tr</th><th>cg5_trd_vol_tr</th><th>cg6_trd_vol_tr</th><th>cg7_trd_vol_tr</th><th>cg8_trd_vol_tr</th><th>cg9_trd_vol_tr</th><th>cg10_trd_vol_tr</th><th>cg11_trd_vol_tr</th><th>cg12_trd_vol_tr</th><th>cg13_trd_vol_tr</th><th>cg14_trd_vol_tr</th></tr><tr><th></th><th>Int64</th><th>Int64</th><th>Int64</th><th>Int64</th><th>Int64</th><th>Int64</th><th>Int64</th><th>Int64</th><th>Int64</th><th>Int64</th><th>Int64</th><th>Float64</th><th>Float64</th><th>Float64</th><th>Float64</th><th>Float64</th><th>Float64</th><th>Float64</th><th>Float64</th><th>Float64</th><th>Float64</th><th>Float64</th><th>Float64</th><th>Float64</th><th>Float64</th><th>Float64</th><th>Float64</th><th>Float64</th><th>Float64</th><th>Float64</th><th>Float64</th><th>Float64</th><th>Float64</th><th>Float64</th><th>Float64</th><th>Float64</th><th>Float64</th><th>Float64</th><th>Float64</th><th>Float64</th><th>Float64</th><th>Float64</th><th>Float64</th><th>Float64</th><th>Float64</th><th>Float64</th><th>Float64</th><th>Float64</th><th>Float64</th><th>Float64</th><th>Float64</th><th>Float64</th><th>Float64</th><th>Float64</th><th>Float64</th><th>Float64</th><th>Float64</th><th>Float64</th><th>Float64</th><th>Float64</th></tr></thead><tbody><p>5 rows × 109 columns (omitted printing of 49 columns)</p><tr><th>1</th><td>2019</td><td>2</td><td>0</td><td>0</td><td>0</td><td>0</td><td>0</td><td>0</td><td>2760879</td><td>8679</td><td>2012</td><td>10000.0</td><td>4.43138e5</td><td>25000.0</td><td>150000.0</td><td>1223.45</td><td>28335.5</td><td>3.4181e5</td><td>2032.56</td><td>8081.42</td><td>305.753</td><td>2.68352e5</td><td>431096.0</td><td>179758.0</td><td>17279.6</td><td>5222.53</td><td>3.66723e5</td><td>1.85804e5</td><td>3.42402e5</td><td>33029.7</td><td>3.39191e5</td><td>0.0</td><td>17000.0</td><td>0.0</td><td>0.0</td><td>0.0</td><td>8000.0</td><td>25000.0</td><td>0.0</td><td>0.0</td><td>0.0</td><td>20000.0</td><td>0.0</td><td>15000.0</td><td>0.0</td><td>15000.0</td><td>78.2308</td><td>943.695</td><td>5.61167</td><td>22.3118</td><td>0.844147</td><td>740.888</td><td>1190.2</td><td>496.29</td><td>47.7069</td><td>14.4188</td><td>1012.48</td><td>512.984</td><td>945.33</td><td>91.1911</td></tr><tr><th>2</th><td>2019</td><td>2</td><td>0</td><td>0</td><td>0</td><td>0</td><td>0</td><td>1</td><td>94837</td><td>459</td><td>220</td><td>10000.0</td><td>350554.0</td><td>25000.0</td><td>105000.0</td><td>33.2455</td><td>0.0</td><td>0.0</td><td>0.0</td><td>0.0</td><td>0.0</td><td>0.0</td><td>0.0</td><td>0.0</td><td>0.0</td><td>0.0</td><td>0.0</td><td>0.0</td><td>0.0</td><td>0.0</td><td>0.0</td><td>0.0</td><td>0.0</td><td>0.0</td><td>0.0</td><td>0.0</td><td>0.0</td><td>0.0</td><td>0.0</td><td>0.0</td><td>0.0</td><td>0.0</td><td>0.0</td><td>0.0</td><td>0.0</td><td>0.0</td><td>0.0</td><td>0.0</td><td>0.0</td><td>0.0</td><td>0.0</td><td>0.0</td><td>0.0</td><td>0.0</td><td>0.0</td><td>0.0</td><td>0.0</td><td>0.0</td><td>0.0</td><td>0.0</td></tr><tr><th>3</th><td>2019</td><td>2</td><td>0</td><td>0</td><td>0</td><td>0</td><td>1</td><td>0</td><td>2666042</td><td>8220</td><td>1937</td><td>10000.0</td><td>446431.0</td><td>25000.0</td><td>150000.0</td><td>1190.2</td><td>29343.4</td><td>3.53969e5</td><td>2104.87</td><td>8368.9</td><td>316.629</td><td>277898.0</td><td>446431.0</td><td>1.86152e5</td><td>17894.3</td><td>5408.31</td><td>379768.0</td><td>1.92414e5</td><td>3.54582e5</td><td>34204.7</td><td>3.51256e5</td><td>0.0</td><td>20000.0</td><td>0.0</td><td>0.0</td><td>0.0</td><td>10000.0</td><td>25000.0</td><td>0.0</td><td>0.0</td><td>0.0</td><td>20000.0</td><td>0.0</td><td>18000.0</td><td>0.0</td><td>16000.0</td><td>78.2308</td><td>943.695</td><td>5.61167</td><td>22.3118</td><td>0.844147</td><td>740.888</td><td>1190.2</td><td>496.29</td><td>47.7069</td><td>14.4188</td><td>1012.48</td><td>512.984</td><td>945.33</td><td>91.1911</td></tr><tr><th>4</th><td>2019</td><td>2</td><td>0</td><td>1</td><td>0</td><td>0</td><td>0</td><td>0</td><td>763973</td><td>1952</td><td>876</td><td>10000.0</td><td>4.20744e5</td><td>25000.0</td><td>151000.0</td><td>321.437</td><td>85719.4</td><td>3.12114e5</td><td>1333.11</td><td>2695.89</td><td>670.647</td><td>3.12714e5</td><td>4.17131e5</td><td>1.6254e5</td><td>55419.6</td><td>9563.03</td><td>3.79538e5</td><td>2.73063e5</td><td>358680.0</td><td>1.03521e5</td><td>3.5854e5</td><td>0.0</td><td>18000.0</td><td>0.0</td><td>0.0</td><td>0.0</td><td>15000.0</td><td>25000.0</td><td>0.0</td><td>0.0</td><td>0.0</td><td>20000.0</td><td>10000.0</td><td>20000.0</td><td>0.0</td><td>20000.0</td><td>65.4873</td><td>238.446</td><td>1.01846</td><td>2.05959</td><td>0.512356</td><td>238.905</td><td>318.677</td><td>124.176</td><td>42.3391</td><td>7.3059</td><td>289.957</td><td>208.613</td><td>274.022</td><td>79.0875</td></tr><tr><th>5</th><td>2019</td><td>2</td><td>0</td><td>1</td><td>0</td><td>0</td><td>0</td><td>1</td><td>5769</td><td>66</td><td>34</td><td>10000.0</td><td>4.78545e5</td><td>35000.0</td><td>200000.0</td><td>2.76073</td><td>0.0</td><td>0.0</td><td>0.0</td><td>0.0</td><td>0.0</td><td>0.0</td><td>0.0</td><td>0.0</td><td>0.0</td><td>0.0</td><td>0.0</td><td>0.0</td><td>0.0</td><td>0.0</td><td>0.0</td><td>0.0</td><td>0.0</td><td>0.0</td><td>0.0</td><td>0.0</td><td>0.0</td><td>0.0</td><td>0.0</td><td>0.0</td><td>0.0</td><td>0.0</td><td>0.0</td><td>0.0</td><td>0.0</td><td>0.0</td><td>0.0</td><td>0.0</td><td>0.0</td><td>0.0</td><td>0.0</td><td>0.0</td><td>0.0</td><td>0.0</td><td>0.0</td><td>0.0</td><td>0.0</td><td>0.0</td><td>0.0</td><td>0.0</td></tr></tbody></table>"
      ],
      "text/latex": [
       "\\begin{tabular}{r|ccccccccccccccccccccccccccccccccccccccccccccccccccccccccccccc}\n",
       "\t& trd\\_exctn\\_yr & trd\\_exctn\\_qtr & otc & hy & ig & ats & cov & ncov & total\\_trd\\_count & total\\_bonds & total\\_issuers & qt25\\_trd\\_vol & mean\\_trd\\_vol & median\\_trd\\_vol & qt75\\_trd\\_vol & total\\_trd\\_vol\\_tr & cg1\\_mean\\_trd\\_vol & cg2\\_mean\\_trd\\_vol & cg3\\_mean\\_trd\\_vol & cg4\\_mean\\_trd\\_vol & cg5\\_mean\\_trd\\_vol & cg6\\_mean\\_trd\\_vol & cg7\\_mean\\_trd\\_vol & cg8\\_mean\\_trd\\_vol & cg9\\_mean\\_trd\\_vol & cg10\\_mean\\_trd\\_vol & cg11\\_mean\\_trd\\_vol & cg12\\_mean\\_trd\\_vol & cg13\\_mean\\_trd\\_vol & cg14\\_mean\\_trd\\_vol & cg15\\_mean\\_trd\\_vol & cg1\\_median\\_trd\\_vol & cg2\\_median\\_trd\\_vol & cg3\\_median\\_trd\\_vol & cg4\\_median\\_trd\\_vol & cg5\\_median\\_trd\\_vol & cg6\\_median\\_trd\\_vol & cg7\\_median\\_trd\\_vol & cg8\\_median\\_trd\\_vol & cg9\\_median\\_trd\\_vol & cg10\\_median\\_trd\\_vol & cg11\\_median\\_trd\\_vol & cg12\\_median\\_trd\\_vol & cg13\\_median\\_trd\\_vol & cg14\\_median\\_trd\\_vol & cg15\\_median\\_trd\\_vol & cg1\\_trd\\_vol\\_tr & cg2\\_trd\\_vol\\_tr & cg3\\_trd\\_vol\\_tr & cg4\\_trd\\_vol\\_tr & cg5\\_trd\\_vol\\_tr & cg6\\_trd\\_vol\\_tr & cg7\\_trd\\_vol\\_tr & cg8\\_trd\\_vol\\_tr & cg9\\_trd\\_vol\\_tr & cg10\\_trd\\_vol\\_tr & cg11\\_trd\\_vol\\_tr & cg12\\_trd\\_vol\\_tr & cg13\\_trd\\_vol\\_tr & cg14\\_trd\\_vol\\_tr & \\\\\n",
       "\t\\hline\n",
       "\t& Int64 & Int64 & Int64 & Int64 & Int64 & Int64 & Int64 & Int64 & Int64 & Int64 & Int64 & Float64 & Float64 & Float64 & Float64 & Float64 & Float64 & Float64 & Float64 & Float64 & Float64 & Float64 & Float64 & Float64 & Float64 & Float64 & Float64 & Float64 & Float64 & Float64 & Float64 & Float64 & Float64 & Float64 & Float64 & Float64 & Float64 & Float64 & Float64 & Float64 & Float64 & Float64 & Float64 & Float64 & Float64 & Float64 & Float64 & Float64 & Float64 & Float64 & Float64 & Float64 & Float64 & Float64 & Float64 & Float64 & Float64 & Float64 & Float64 & Float64 & \\\\\n",
       "\t\\hline\n",
       "\t1 & 2019 & 2 & 0 & 0 & 0 & 0 & 0 & 0 & 2760879 & 8679 & 2012 & 10000.0 & 4.43138e5 & 25000.0 & 150000.0 & 1223.45 & 28335.5 & 3.4181e5 & 2032.56 & 8081.42 & 305.753 & 2.68352e5 & 431096.0 & 179758.0 & 17279.6 & 5222.53 & 3.66723e5 & 1.85804e5 & 3.42402e5 & 33029.7 & 3.39191e5 & 0.0 & 17000.0 & 0.0 & 0.0 & 0.0 & 8000.0 & 25000.0 & 0.0 & 0.0 & 0.0 & 20000.0 & 0.0 & 15000.0 & 0.0 & 15000.0 & 78.2308 & 943.695 & 5.61167 & 22.3118 & 0.844147 & 740.888 & 1190.2 & 496.29 & 47.7069 & 14.4188 & 1012.48 & 512.984 & 945.33 & 91.1911 & $\\dots$ \\\\\n",
       "\t2 & 2019 & 2 & 0 & 0 & 0 & 0 & 0 & 1 & 94837 & 459 & 220 & 10000.0 & 350554.0 & 25000.0 & 105000.0 & 33.2455 & 0.0 & 0.0 & 0.0 & 0.0 & 0.0 & 0.0 & 0.0 & 0.0 & 0.0 & 0.0 & 0.0 & 0.0 & 0.0 & 0.0 & 0.0 & 0.0 & 0.0 & 0.0 & 0.0 & 0.0 & 0.0 & 0.0 & 0.0 & 0.0 & 0.0 & 0.0 & 0.0 & 0.0 & 0.0 & 0.0 & 0.0 & 0.0 & 0.0 & 0.0 & 0.0 & 0.0 & 0.0 & 0.0 & 0.0 & 0.0 & 0.0 & 0.0 & 0.0 & 0.0 & $\\dots$ \\\\\n",
       "\t3 & 2019 & 2 & 0 & 0 & 0 & 0 & 1 & 0 & 2666042 & 8220 & 1937 & 10000.0 & 446431.0 & 25000.0 & 150000.0 & 1190.2 & 29343.4 & 3.53969e5 & 2104.87 & 8368.9 & 316.629 & 277898.0 & 446431.0 & 1.86152e5 & 17894.3 & 5408.31 & 379768.0 & 1.92414e5 & 3.54582e5 & 34204.7 & 3.51256e5 & 0.0 & 20000.0 & 0.0 & 0.0 & 0.0 & 10000.0 & 25000.0 & 0.0 & 0.0 & 0.0 & 20000.0 & 0.0 & 18000.0 & 0.0 & 16000.0 & 78.2308 & 943.695 & 5.61167 & 22.3118 & 0.844147 & 740.888 & 1190.2 & 496.29 & 47.7069 & 14.4188 & 1012.48 & 512.984 & 945.33 & 91.1911 & $\\dots$ \\\\\n",
       "\t4 & 2019 & 2 & 0 & 1 & 0 & 0 & 0 & 0 & 763973 & 1952 & 876 & 10000.0 & 4.20744e5 & 25000.0 & 151000.0 & 321.437 & 85719.4 & 3.12114e5 & 1333.11 & 2695.89 & 670.647 & 3.12714e5 & 4.17131e5 & 1.6254e5 & 55419.6 & 9563.03 & 3.79538e5 & 2.73063e5 & 358680.0 & 1.03521e5 & 3.5854e5 & 0.0 & 18000.0 & 0.0 & 0.0 & 0.0 & 15000.0 & 25000.0 & 0.0 & 0.0 & 0.0 & 20000.0 & 10000.0 & 20000.0 & 0.0 & 20000.0 & 65.4873 & 238.446 & 1.01846 & 2.05959 & 0.512356 & 238.905 & 318.677 & 124.176 & 42.3391 & 7.3059 & 289.957 & 208.613 & 274.022 & 79.0875 & $\\dots$ \\\\\n",
       "\t5 & 2019 & 2 & 0 & 1 & 0 & 0 & 0 & 1 & 5769 & 66 & 34 & 10000.0 & 4.78545e5 & 35000.0 & 200000.0 & 2.76073 & 0.0 & 0.0 & 0.0 & 0.0 & 0.0 & 0.0 & 0.0 & 0.0 & 0.0 & 0.0 & 0.0 & 0.0 & 0.0 & 0.0 & 0.0 & 0.0 & 0.0 & 0.0 & 0.0 & 0.0 & 0.0 & 0.0 & 0.0 & 0.0 & 0.0 & 0.0 & 0.0 & 0.0 & 0.0 & 0.0 & 0.0 & 0.0 & 0.0 & 0.0 & 0.0 & 0.0 & 0.0 & 0.0 & 0.0 & 0.0 & 0.0 & 0.0 & 0.0 & 0.0 & $\\dots$ \\\\\n",
       "\\end{tabular}\n"
      ],
      "text/plain": [
       "5×109 DataFrame. Omitted printing of 53 columns\n",
       "│ Row │ trd_exctn_yr │ trd_exctn_qtr │ otc   │ hy    │ ig    │ ats   │ cov   │ ncov  │ total_trd_count │ total_bonds │ total_issuers │ qt25_trd_vol │ mean_trd_vol │ median_trd_vol │ qt75_trd_vol │ total_trd_vol_tr │ cg1_mean_trd_vol │ cg2_mean_trd_vol │ cg3_mean_trd_vol │ cg4_mean_trd_vol │ cg5_mean_trd_vol │ cg6_mean_trd_vol │ cg7_mean_trd_vol │ cg8_mean_trd_vol │ cg9_mean_trd_vol │ cg10_mean_trd_vol │ cg11_mean_trd_vol │ cg12_mean_trd_vol │ cg13_mean_trd_vol │ cg14_mean_trd_vol │ cg15_mean_trd_vol │ cg1_median_trd_vol │ cg2_median_trd_vol │ cg3_median_trd_vol │ cg4_median_trd_vol │ cg5_median_trd_vol │ cg6_median_trd_vol │ cg7_median_trd_vol │ cg8_median_trd_vol │ cg9_median_trd_vol │ cg10_median_trd_vol │ cg11_median_trd_vol │ cg12_median_trd_vol │ cg13_median_trd_vol │ cg14_median_trd_vol │ cg15_median_trd_vol │ cg1_trd_vol_tr │ cg2_trd_vol_tr │ cg3_trd_vol_tr │ cg4_trd_vol_tr │ cg5_trd_vol_tr │ cg6_trd_vol_tr │ cg7_trd_vol_tr │ cg8_trd_vol_tr │ cg9_trd_vol_tr │ cg10_trd_vol_tr │\n",
       "│     │ \u001b[90mInt64\u001b[39m        │ \u001b[90mInt64\u001b[39m         │ \u001b[90mInt64\u001b[39m │ \u001b[90mInt64\u001b[39m │ \u001b[90mInt64\u001b[39m │ \u001b[90mInt64\u001b[39m │ \u001b[90mInt64\u001b[39m │ \u001b[90mInt64\u001b[39m │ \u001b[90mInt64\u001b[39m           │ \u001b[90mInt64\u001b[39m       │ \u001b[90mInt64\u001b[39m         │ \u001b[90mFloat64\u001b[39m      │ \u001b[90mFloat64\u001b[39m      │ \u001b[90mFloat64\u001b[39m        │ \u001b[90mFloat64\u001b[39m      │ \u001b[90mFloat64\u001b[39m          │ \u001b[90mFloat64\u001b[39m          │ \u001b[90mFloat64\u001b[39m          │ \u001b[90mFloat64\u001b[39m          │ \u001b[90mFloat64\u001b[39m          │ \u001b[90mFloat64\u001b[39m          │ \u001b[90mFloat64\u001b[39m          │ \u001b[90mFloat64\u001b[39m          │ \u001b[90mFloat64\u001b[39m          │ \u001b[90mFloat64\u001b[39m          │ \u001b[90mFloat64\u001b[39m           │ \u001b[90mFloat64\u001b[39m           │ \u001b[90mFloat64\u001b[39m           │ \u001b[90mFloat64\u001b[39m           │ \u001b[90mFloat64\u001b[39m           │ \u001b[90mFloat64\u001b[39m           │ \u001b[90mFloat64\u001b[39m            │ \u001b[90mFloat64\u001b[39m            │ \u001b[90mFloat64\u001b[39m            │ \u001b[90mFloat64\u001b[39m            │ \u001b[90mFloat64\u001b[39m            │ \u001b[90mFloat64\u001b[39m            │ \u001b[90mFloat64\u001b[39m            │ \u001b[90mFloat64\u001b[39m            │ \u001b[90mFloat64\u001b[39m            │ \u001b[90mFloat64\u001b[39m             │ \u001b[90mFloat64\u001b[39m             │ \u001b[90mFloat64\u001b[39m             │ \u001b[90mFloat64\u001b[39m             │ \u001b[90mFloat64\u001b[39m             │ \u001b[90mFloat64\u001b[39m             │ \u001b[90mFloat64\u001b[39m        │ \u001b[90mFloat64\u001b[39m        │ \u001b[90mFloat64\u001b[39m        │ \u001b[90mFloat64\u001b[39m        │ \u001b[90mFloat64\u001b[39m        │ \u001b[90mFloat64\u001b[39m        │ \u001b[90mFloat64\u001b[39m        │ \u001b[90mFloat64\u001b[39m        │ \u001b[90mFloat64\u001b[39m        │ \u001b[90mFloat64\u001b[39m         │\n",
       "├─────┼──────────────┼───────────────┼───────┼───────┼───────┼───────┼───────┼───────┼─────────────────┼─────────────┼───────────────┼──────────────┼──────────────┼────────────────┼──────────────┼──────────────────┼──────────────────┼──────────────────┼──────────────────┼──────────────────┼──────────────────┼──────────────────┼──────────────────┼──────────────────┼──────────────────┼───────────────────┼───────────────────┼───────────────────┼───────────────────┼───────────────────┼───────────────────┼────────────────────┼────────────────────┼────────────────────┼────────────────────┼────────────────────┼────────────────────┼────────────────────┼────────────────────┼────────────────────┼─────────────────────┼─────────────────────┼─────────────────────┼─────────────────────┼─────────────────────┼─────────────────────┼────────────────┼────────────────┼────────────────┼────────────────┼────────────────┼────────────────┼────────────────┼────────────────┼────────────────┼─────────────────┤\n",
       "│ 1   │ 2019         │ 2             │ 0     │ 0     │ 0     │ 0     │ 0     │ 0     │ 2760879         │ 8679        │ 2012          │ 10000.0      │ 4.43138e5    │ 25000.0        │ 150000.0     │ 1223.45          │ 28335.5          │ 3.4181e5         │ 2032.56          │ 8081.42          │ 305.753          │ 2.68352e5        │ 431096.0         │ 179758.0         │ 17279.6          │ 5222.53           │ 3.66723e5         │ 1.85804e5         │ 3.42402e5         │ 33029.7           │ 3.39191e5         │ 0.0                │ 17000.0            │ 0.0                │ 0.0                │ 0.0                │ 8000.0             │ 25000.0            │ 0.0                │ 0.0                │ 0.0                 │ 20000.0             │ 0.0                 │ 15000.0             │ 0.0                 │ 15000.0             │ 78.2308        │ 943.695        │ 5.61167        │ 22.3118        │ 0.844147       │ 740.888        │ 1190.2         │ 496.29         │ 47.7069        │ 14.4188         │\n",
       "│ 2   │ 2019         │ 2             │ 0     │ 0     │ 0     │ 0     │ 0     │ 1     │ 94837           │ 459         │ 220           │ 10000.0      │ 350554.0     │ 25000.0        │ 105000.0     │ 33.2455          │ 0.0              │ 0.0              │ 0.0              │ 0.0              │ 0.0              │ 0.0              │ 0.0              │ 0.0              │ 0.0              │ 0.0               │ 0.0               │ 0.0               │ 0.0               │ 0.0               │ 0.0               │ 0.0                │ 0.0                │ 0.0                │ 0.0                │ 0.0                │ 0.0                │ 0.0                │ 0.0                │ 0.0                │ 0.0                 │ 0.0                 │ 0.0                 │ 0.0                 │ 0.0                 │ 0.0                 │ 0.0            │ 0.0            │ 0.0            │ 0.0            │ 0.0            │ 0.0            │ 0.0            │ 0.0            │ 0.0            │ 0.0             │\n",
       "│ 3   │ 2019         │ 2             │ 0     │ 0     │ 0     │ 0     │ 1     │ 0     │ 2666042         │ 8220        │ 1937          │ 10000.0      │ 446431.0     │ 25000.0        │ 150000.0     │ 1190.2           │ 29343.4          │ 3.53969e5        │ 2104.87          │ 8368.9           │ 316.629          │ 277898.0         │ 446431.0         │ 1.86152e5        │ 17894.3          │ 5408.31           │ 379768.0          │ 1.92414e5         │ 3.54582e5         │ 34204.7           │ 3.51256e5         │ 0.0                │ 20000.0            │ 0.0                │ 0.0                │ 0.0                │ 10000.0            │ 25000.0            │ 0.0                │ 0.0                │ 0.0                 │ 20000.0             │ 0.0                 │ 18000.0             │ 0.0                 │ 16000.0             │ 78.2308        │ 943.695        │ 5.61167        │ 22.3118        │ 0.844147       │ 740.888        │ 1190.2         │ 496.29         │ 47.7069        │ 14.4188         │\n",
       "│ 4   │ 2019         │ 2             │ 0     │ 1     │ 0     │ 0     │ 0     │ 0     │ 763973          │ 1952        │ 876           │ 10000.0      │ 4.20744e5    │ 25000.0        │ 151000.0     │ 321.437          │ 85719.4          │ 3.12114e5        │ 1333.11          │ 2695.89          │ 670.647          │ 3.12714e5        │ 4.17131e5        │ 1.6254e5         │ 55419.6          │ 9563.03           │ 3.79538e5         │ 2.73063e5         │ 358680.0          │ 1.03521e5         │ 3.5854e5          │ 0.0                │ 18000.0            │ 0.0                │ 0.0                │ 0.0                │ 15000.0            │ 25000.0            │ 0.0                │ 0.0                │ 0.0                 │ 20000.0             │ 10000.0             │ 20000.0             │ 0.0                 │ 20000.0             │ 65.4873        │ 238.446        │ 1.01846        │ 2.05959        │ 0.512356       │ 238.905        │ 318.677        │ 124.176        │ 42.3391        │ 7.3059          │\n",
       "│ 5   │ 2019         │ 2             │ 0     │ 1     │ 0     │ 0     │ 0     │ 1     │ 5769            │ 66          │ 34            │ 10000.0      │ 4.78545e5    │ 35000.0        │ 200000.0     │ 2.76073          │ 0.0              │ 0.0              │ 0.0              │ 0.0              │ 0.0              │ 0.0              │ 0.0              │ 0.0              │ 0.0              │ 0.0               │ 0.0               │ 0.0               │ 0.0               │ 0.0               │ 0.0               │ 0.0                │ 0.0                │ 0.0                │ 0.0                │ 0.0                │ 0.0                │ 0.0                │ 0.0                │ 0.0                │ 0.0                 │ 0.0                 │ 0.0                 │ 0.0                 │ 0.0                 │ 0.0                 │ 0.0            │ 0.0            │ 0.0            │ 0.0            │ 0.0            │ 0.0            │ 0.0            │ 0.0            │ 0.0            │ 0.0             │"
      ]
     },
     "execution_count": 3,
     "metadata": {},
     "output_type": "execute_result"
    }
   ],
   "source": [
    "yr = 2019\n",
    "qtr = 2\n",
    "include(string(joinpath(module_path, \"stats_module\"), \".jl\"))\n",
    "snc = StatsMod.load_stats_data(dto, yr, qtr; stats_by_num_cov=true)\n",
    "scc = StatsMod.load_stats_data(dto, yr, qtr; stats_by_num_cov=false)\n",
    "\n",
    "first(scc, 5)"
   ]
  },
  {
   "cell_type": "code",
   "execution_count": 33,
   "metadata": {},
   "outputs": [
    {
     "data": {
      "application/vnd.vegalite.v3+json": {
       "config": {
        "axis": {
         "domainWidth": 3
        },
        "opacity": {
         "value": 0.7
        },
        "view": {
         "stroke": "transparent"
        }
       },
       "data": {
        "values": [
         {
          "cov_cat": 1,
          "cvt": "any",
          "perc_sbm_total": 13.618290258449303,
          "perc_total": 13.618290258449303,
          "period": "2019Q2",
          "rt": "any",
          "sbm": "otc",
          "value": 274,
          "variable": "cg1_issuers"
         },
         {
          "cov_cat": 1,
          "cvt": "any",
          "perc_sbm_total": 14.240170031880977,
          "perc_total": 13.320079522862823,
          "period": "2019Q2",
          "rt": "any",
          "sbm": "ats",
          "value": 268,
          "variable": "cg1_issuers"
         },
         {
          "cov_cat": 2,
          "cvt": "any",
          "perc_sbm_total": 77.5844930417495,
          "perc_total": 77.5844930417495,
          "period": "2019Q2",
          "rt": "any",
          "sbm": "otc",
          "value": 1561,
          "variable": "cg2_issuers"
         },
         {
          "cov_cat": 2,
          "cvt": "any",
          "perc_sbm_total": 80.97768331562168,
          "perc_total": 75.7455268389662,
          "period": "2019Q2",
          "rt": "any",
          "sbm": "ats",
          "value": 1524,
          "variable": "cg2_issuers"
         },
         {
          "cov_cat": 3,
          "cvt": "any",
          "perc_sbm_total": 1.0934393638170974,
          "perc_total": 1.0934393638170974,
          "period": "2019Q2",
          "rt": "any",
          "sbm": "otc",
          "value": 22,
          "variable": "cg3_issuers"
         },
         {
          "cov_cat": 3,
          "cvt": "any",
          "perc_sbm_total": 1.1689691817215728,
          "perc_total": 1.0934393638170974,
          "period": "2019Q2",
          "rt": "any",
          "sbm": "ats",
          "value": 22,
          "variable": "cg3_issuers"
         },
         {
          "cov_cat": 4,
          "cvt": "any",
          "perc_sbm_total": 1.9880715705765408,
          "perc_total": 1.9880715705765408,
          "period": "2019Q2",
          "rt": "any",
          "sbm": "otc",
          "value": 40,
          "variable": "cg4_issuers"
         },
         {
          "cov_cat": 4,
          "cvt": "any",
          "perc_sbm_total": 2.0722635494155153,
          "perc_total": 1.9383697813121274,
          "period": "2019Q2",
          "rt": "any",
          "sbm": "ats",
          "value": 39,
          "variable": "cg4_issuers"
         },
         {
          "cov_cat": 5,
          "cvt": "any",
          "perc_sbm_total": 0.34791252485089463,
          "perc_total": 0.34791252485089463,
          "period": "2019Q2",
          "rt": "any",
          "sbm": "otc",
          "value": 7,
          "variable": "cg5_issuers"
         },
         {
          "cov_cat": 5,
          "cvt": "any",
          "perc_sbm_total": 0.3188097768331562,
          "perc_total": 0.2982107355864811,
          "period": "2019Q2",
          "rt": "any",
          "sbm": "ats",
          "value": 6,
          "variable": "cg5_issuers"
         },
         {
          "cov_cat": 6,
          "cvt": "any",
          "perc_sbm_total": 64.86083499005964,
          "perc_total": 64.86083499005964,
          "period": "2019Q2",
          "rt": "any",
          "sbm": "otc",
          "value": 1305,
          "variable": "cg6_issuers"
         },
         {
          "cov_cat": 6,
          "cvt": "any",
          "perc_sbm_total": 67.7470775770457,
          "perc_total": 63.36978131212724,
          "period": "2019Q2",
          "rt": "any",
          "sbm": "ats",
          "value": 1275,
          "variable": "cg6_issuers"
         },
         {
          "cov_cat": 7,
          "cvt": "any",
          "perc_sbm_total": 96.27236580516899,
          "perc_total": 96.27236580516899,
          "period": "2019Q2",
          "rt": "any",
          "sbm": "otc",
          "value": 1937,
          "variable": "cg7_issuers"
         },
         {
          "cov_cat": 7,
          "cvt": "any",
          "perc_sbm_total": 96.86503719447397,
          "perc_total": 90.60636182902584,
          "period": "2019Q2",
          "rt": "any",
          "sbm": "ats",
          "value": 1823,
          "variable": "cg7_issuers"
         },
         {
          "cov_cat": 8,
          "cvt": "any",
          "perc_sbm_total": 38.618290258449306,
          "perc_total": 38.618290258449306,
          "period": "2019Q2",
          "rt": "any",
          "sbm": "otc",
          "value": 777,
          "variable": "cg8_issuers"
         },
         {
          "cov_cat": 8,
          "cvt": "any",
          "perc_sbm_total": 40.75451647183847,
          "perc_total": 38.12127236580517,
          "period": "2019Q2",
          "rt": "any",
          "sbm": "ats",
          "value": 767,
          "variable": "cg8_issuers"
         },
         {
          "cov_cat": 9,
          "cvt": "any",
          "perc_sbm_total": 10.288270377733598,
          "perc_total": 10.288270377733598,
          "period": "2019Q2",
          "rt": "any",
          "sbm": "otc",
          "value": 207,
          "variable": "cg9_issuers"
         },
         {
          "cov_cat": 9,
          "cvt": "any",
          "perc_sbm_total": 10.892667375132838,
          "perc_total": 10.18886679920477,
          "period": "2019Q2",
          "rt": "any",
          "sbm": "ats",
          "value": 205,
          "variable": "cg9_issuers"
         },
         {
          "cov_cat": 10,
          "cvt": "any",
          "perc_sbm_total": 2.584493041749503,
          "perc_total": 2.584493041749503,
          "period": "2019Q2",
          "rt": "any",
          "sbm": "otc",
          "value": 52,
          "variable": "cg10_issuers"
         },
         {
          "cov_cat": 10,
          "cvt": "any",
          "perc_sbm_total": 2.709883103081828,
          "perc_total": 2.5347912524850895,
          "period": "2019Q2",
          "rt": "any",
          "sbm": "ats",
          "value": 51,
          "variable": "cg10_issuers"
         },
         {
          "cov_cat": 11,
          "cvt": "any",
          "perc_sbm_total": 85.48707753479125,
          "perc_total": 85.48707753479125,
          "period": "2019Q2",
          "rt": "any",
          "sbm": "otc",
          "value": 1720,
          "variable": "cg11_issuers"
         },
         {
          "cov_cat": 11,
          "cvt": "any",
          "perc_sbm_total": 86.3443145589798,
          "perc_total": 80.76540755467197,
          "period": "2019Q2",
          "rt": "any",
          "sbm": "ats",
          "value": 1625,
          "variable": "cg11_issuers"
         },
         {
          "cov_cat": 12,
          "cvt": "any",
          "perc_sbm_total": 51.93836978131213,
          "perc_total": 51.93836978131213,
          "period": "2019Q2",
          "rt": "any",
          "sbm": "otc",
          "value": 1045,
          "variable": "cg12_issuers"
         },
         {
          "cov_cat": 12,
          "cvt": "any",
          "perc_sbm_total": 52.33793836344315,
          "perc_total": 48.95626242544731,
          "period": "2019Q2",
          "rt": "any",
          "sbm": "ats",
          "value": 985,
          "variable": "cg12_issuers"
         },
         {
          "cov_cat": 13,
          "cvt": "any",
          "perc_sbm_total": 86.28230616302187,
          "perc_total": 86.28230616302187,
          "period": "2019Q2",
          "rt": "any",
          "sbm": "otc",
          "value": 1736,
          "variable": "cg13_issuers"
         },
         {
          "cov_cat": 13,
          "cvt": "any",
          "perc_sbm_total": 87.61955366631243,
          "perc_total": 81.95825049701789,
          "period": "2019Q2",
          "rt": "any",
          "sbm": "ats",
          "value": 1649,
          "variable": "cg13_issuers"
         },
         {
          "cov_cat": 14,
          "cvt": "any",
          "perc_sbm_total": 15.656063618290258,
          "perc_total": 15.656063618290258,
          "period": "2019Q2",
          "rt": "any",
          "sbm": "otc",
          "value": 315,
          "variable": "cg14_issuers"
         },
         {
          "cov_cat": 14,
          "cvt": "any",
          "perc_sbm_total": 16.312433581296492,
          "perc_total": 15.25844930417495,
          "period": "2019Q2",
          "rt": "any",
          "sbm": "ats",
          "value": 307,
          "variable": "cg14_issuers"
         },
         {
          "cov_cat": 15,
          "cvt": "any",
          "perc_sbm_total": 85.6361829025845,
          "perc_total": 85.6361829025845,
          "period": "2019Q2",
          "rt": "any",
          "sbm": "otc",
          "value": 1723,
          "variable": "cg15_issuers"
         },
         {
          "cov_cat": 15,
          "cvt": "any",
          "perc_sbm_total": 86.9287991498406,
          "perc_total": 81.31212723658051,
          "period": "2019Q2",
          "rt": "any",
          "sbm": "ats",
          "value": 1636,
          "variable": "cg15_issuers"
         }
        ]
       },
       "encoding": {
        "color": {
         "field": "sbm",
         "legend": {
          "title": "Secondary Market"
         },
         "scale": {
          "scheme": "viridis"
         },
         "type": "nominal"
        },
        "column": {
         "field": "cov_cat",
         "sort": "ascending",
         "title": "Covenant Category",
         "type": "ordinal"
        },
        "x": {
         "axis": {
          "title": " "
         },
         "field": "sbm",
         "type": "nominal"
        },
        "y": {
         "axis": {
          "grid": false,
          "stack": null,
          "title": "Number of Issuers"
         },
         "field": "value",
         "type": "quantitative"
        }
       },
       "height": 400,
       "mark": "bar",
       "spacing": 4.5,
       "title": {
        "align": "center",
        "anchor": "middle",
        "fontSize": 14,
        "offset": 20,
        "text": [
         "Number of Issuers of Non-MTN-Bonds Traded per Covenant Category - 2019Q2"
        ]
       },
       "width": {
        "step": 18
       }
      },
      "image/png": "[encoded data removed]",
      "image/svg+xml": [
       "<svg class=\"marks\" width=\"638\" height=\"535\" viewBox=\"0 0 638 535\" version=\"1.1\" xmlns=\"http://www.w3.org/2000/svg\" xmlns:xlink=\"http://www.w3.org/1999/xlink\"><g transform=\"translate(227,91)\"><g class=\"mark-group role-frame root\"><g transform=\"translate(0,0)\"><path class=\"background\" d=\"M0,0h0v0h0Z\" style=\"fill: none;\"></path><g><g class=\"mark-group role-column-title column-title\"><g transform=\"translate(46,-31)\"><path class=\"background\" d=\"M0,0h0v0h0Z\" style=\"fill: none;\"></path><g><g class=\"mark-group role-title\"><g transform=\"translate(0,-21)\"><path class=\"background\" d=\"M0,0h0v0h0Z\" style=\"pointer-events: none; fill: none;\"></path><g><g class=\"mark-text role-title-text\" style=\"pointer-events: none;\"><text text-anchor=\"middle\" transform=\"translate(0,9)\" style=\"font-family: sans-serif; font-size: 11px; font-weight: bold; fill: #000; opacity: 1;\">Covenant Category</text></g></g></g></g></g></g></g><g class=\"mark-group role-row-header row_header\"><g transform=\"translate(-1,0)\"><path class=\"background\" d=\"M0,0h0v400h0Z\" style=\"fill: none;\"></path><g><g class=\"mark-group role-axis\"><g transform=\"translate(0.5,0.5)\"><path class=\"background\" d=\"M0,0h0v0h0Z\" style=\"pointer-events: none; fill: none;\"></path><g><g class=\"mark-rule role-axis-tick\" style=\"pointer-events: none;\"><line transform=\"translate(0,400)\" x2=\"-5\" y2=\"0\" style=\"fill: none; stroke: #888; stroke-width: 1; opacity: 1;\"></line><line transform=\"translate(0,360)\" x2=\"-5\" y2=\"0\" style=\"fill: none; stroke: #888; stroke-width: 1; opacity: 1;\"></line><line transform=\"translate(0,320)\" x2=\"-5\" y2=\"0\" style=\"fill: none; stroke: #888; stroke-width: 1; opacity: 1;\"></line><line transform=\"translate(0,280)\" x2=\"-5\" y2=\"0\" style=\"fill: none; stroke: #888; stroke-width: 1; opacity: 1;\"></line><line transform=\"translate(0,240)\" x2=\"-5\" y2=\"0\" style=\"fill: none; stroke: #888; stroke-width: 1; opacity: 1;\"></line><line transform=\"translate(0,200)\" x2=\"-5\" y2=\"0\" style=\"fill: none; stroke: #888; stroke-width: 1; opacity: 1;\"></line><line transform=\"translate(0,160)\" x2=\"-5\" y2=\"0\" style=\"fill: none; stroke: #888; stroke-width: 1; opacity: 1;\"></line><line transform=\"translate(0,120)\" x2=\"-5\" y2=\"0\" style=\"fill: none; stroke: #888; stroke-width: 1; opacity: 1;\"></line><line transform=\"translate(0,80)\" x2=\"-5\" y2=\"0\" style=\"fill: none; stroke: #888; stroke-width: 1; opacity: 1;\"></line><line transform=\"translate(0,40)\" x2=\"-5\" y2=\"0\" style=\"fill: none; stroke: #888; stroke-width: 1; opacity: 1;\"></line><line transform=\"translate(0,0)\" x2=\"-5\" y2=\"0\" style=\"fill: none; stroke: #888; stroke-width: 1; opacity: 1;\"></line></g><g class=\"mark-text role-axis-label\" style=\"pointer-events: none;\"><text text-anchor=\"end\" transform=\"translate(-7,403)\" style=\"font-family: sans-serif; font-size: 10px; fill: #000; opacity: 1;\">0</text><text text-anchor=\"end\" transform=\"translate(-7,363)\" style=\"font-family: sans-serif; font-size: 10px; fill: #000; opacity: 1;\">200</text><text text-anchor=\"end\" transform=\"translate(-7,323)\" style=\"font-family: sans-serif; font-size: 10px; fill: #000; opacity: 1;\">400</text><text text-anchor=\"end\" transform=\"translate(-7,283)\" style=\"font-family: sans-serif; font-size: 10px; fill: #000; opacity: 1;\">600</text><text text-anchor=\"end\" transform=\"translate(-7,243)\" style=\"font-family: sans-serif; font-size: 10px; fill: #000; opacity: 1;\">800</text><text text-anchor=\"end\" transform=\"translate(-7,203)\" style=\"font-family: sans-serif; font-size: 10px; fill: #000; opacity: 1;\">1,000</text><text text-anchor=\"end\" transform=\"translate(-7,163)\" style=\"font-family: sans-serif; font-size: 10px; fill: #000; opacity: 1;\">1,200</text><text text-anchor=\"end\" transform=\"translate(-7,123.00000000000001)\" style=\"font-family: sans-serif; font-size: 10px; fill: #000; opacity: 1;\">1,400</text><text text-anchor=\"end\" transform=\"translate(-7,82.99999999999999)\" style=\"font-family: sans-serif; font-size: 10px; fill: #000; opacity: 1;\">1,600</text><text text-anchor=\"end\" transform=\"translate(-7,42.99999999999999)\" style=\"font-family: sans-serif; font-size: 10px; fill: #000; opacity: 1;\">1,800</text><text text-anchor=\"end\" transform=\"translate(-7,3)\" style=\"font-family: sans-serif; font-size: 10px; fill: #000; opacity: 1;\">2,000</text></g><g class=\"mark-rule role-axis-domain\" style=\"pointer-events: none;\"><line transform=\"translate(0,400)\" x2=\"0\" y2=\"-400\" style=\"fill: none; stroke: #888; stroke-width: 3; opacity: 1;\"></line></g><g class=\"mark-text role-axis-title\" style=\"pointer-events: none;\"><text text-anchor=\"middle\" transform=\"translate(-38,200) rotate(-90) translate(0,-2)\" style=\"font-family: sans-serif; font-size: 11px; font-weight: bold; fill: #000; opacity: 1;\">Number of Issuers</text></g></g></g></g></g></g></g><g class=\"mark-group role-column-header column_header\"><g transform=\"translate(0,-1)\"><path class=\"background\" d=\"MNaN,0LNaN,0CNaN,0,NaN,NaN,NaN,NaNLNaN,NaNCNaN,NaN,NaN,0,NaN,0LNaN,0CNaN,0,0,NaN,0,NaNL0,NaNC0,NaN,NaN,0,NaN,0Z\" style=\"fill: none;\"></path><g><g class=\"mark-group role-title\"><g transform=\"translate(0,-20)\"><path class=\"background\" d=\"M0,0h0v0h0Z\" style=\"pointer-events: none; fill: none;\"></path><g><g class=\"mark-text role-title-text\" style=\"pointer-events: none;\"><text text-anchor=\"middle\" transform=\"translate(0,8)\" style=\"font-family: sans-serif; font-size: 10px; fill: #000; opacity: 1;\">1</text></g></g></g></g></g></g><g transform=\"translate(6.5,-1)\"><path class=\"background\" d=\"MNaN,0LNaN,0CNaN,0,NaN,NaN,NaN,NaNLNaN,NaNCNaN,NaN,NaN,0,NaN,0LNaN,0CNaN,0,0,NaN,0,NaNL0,NaNC0,NaN,NaN,0,NaN,0Z\" style=\"fill: none;\"></path><g><g class=\"mark-group role-title\"><g transform=\"translate(0,-20)\"><path class=\"background\" d=\"M0,0h0v0h0Z\" style=\"pointer-events: none; fill: none;\"></path><g><g class=\"mark-text role-title-text\" style=\"pointer-events: none;\"><text text-anchor=\"middle\" transform=\"translate(0,8)\" style=\"font-family: sans-serif; font-size: 10px; fill: #000; opacity: 1;\">2</text></g></g></g></g></g></g><g transform=\"translate(13,-1)\"><path class=\"background\" d=\"MNaN,0LNaN,0CNaN,0,NaN,NaN,NaN,NaNLNaN,NaNCNaN,NaN,NaN,0,NaN,0LNaN,0CNaN,0,0,NaN,0,NaNL0,NaNC0,NaN,NaN,0,NaN,0Z\" style=\"fill: none;\"></path><g><g class=\"mark-group role-title\"><g transform=\"translate(0,-20)\"><path class=\"background\" d=\"M0,0h0v0h0Z\" style=\"pointer-events: none; fill: none;\"></path><g><g class=\"mark-text role-title-text\" style=\"pointer-events: none;\"><text text-anchor=\"middle\" transform=\"translate(0,8)\" style=\"font-family: sans-serif; font-size: 10px; fill: #000; opacity: 1;\">3</text></g></g></g></g></g></g><g transform=\"translate(19.5,-1)\"><path class=\"background\" d=\"MNaN,0LNaN,0CNaN,0,NaN,NaN,NaN,NaNLNaN,NaNCNaN,NaN,NaN,0,NaN,0LNaN,0CNaN,0,0,NaN,0,NaNL0,NaNC0,NaN,NaN,0,NaN,0Z\" style=\"fill: none;\"></path><g><g class=\"mark-group role-title\"><g transform=\"translate(0,-20)\"><path class=\"background\" d=\"M0,0h0v0h0Z\" style=\"pointer-events: none; fill: none;\"></path><g><g class=\"mark-text role-title-text\" style=\"pointer-events: none;\"><text text-anchor=\"middle\" transform=\"translate(0,8)\" style=\"font-family: sans-serif; font-size: 10px; fill: #000; opacity: 1;\">4</text></g></g></g></g></g></g><g transform=\"translate(26,-1)\"><path class=\"background\" d=\"MNaN,0LNaN,0CNaN,0,NaN,NaN,NaN,NaNLNaN,NaNCNaN,NaN,NaN,0,NaN,0LNaN,0CNaN,0,0,NaN,0,NaNL0,NaNC0,NaN,NaN,0,NaN,0Z\" style=\"fill: none;\"></path><g><g class=\"mark-group role-title\"><g transform=\"translate(0,-20)\"><path class=\"background\" d=\"M0,0h0v0h0Z\" style=\"pointer-events: none; fill: none;\"></path><g><g class=\"mark-text role-title-text\" style=\"pointer-events: none;\"><text text-anchor=\"middle\" transform=\"translate(0,8)\" style=\"font-family: sans-serif; font-size: 10px; fill: #000; opacity: 1;\">5</text></g></g></g></g></g></g><g transform=\"translate(32.5,-1)\"><path class=\"background\" d=\"MNaN,0LNaN,0CNaN,0,NaN,NaN,NaN,NaNLNaN,NaNCNaN,NaN,NaN,0,NaN,0LNaN,0CNaN,0,0,NaN,0,NaNL0,NaNC0,NaN,NaN,0,NaN,0Z\" style=\"fill: none;\"></path><g><g class=\"mark-group role-title\"><g transform=\"translate(0,-20)\"><path class=\"background\" d=\"M0,0h0v0h0Z\" style=\"pointer-events: none; fill: none;\"></path><g><g class=\"mark-text role-title-text\" style=\"pointer-events: none;\"><text text-anchor=\"middle\" transform=\"translate(0,8)\" style=\"font-family: sans-serif; font-size: 10px; fill: #000; opacity: 1;\">6</text></g></g></g></g></g></g><g transform=\"translate(39,-1)\"><path class=\"background\" d=\"MNaN,0LNaN,0CNaN,0,NaN,NaN,NaN,NaNLNaN,NaNCNaN,NaN,NaN,0,NaN,0LNaN,0CNaN,0,0,NaN,0,NaNL0,NaNC0,NaN,NaN,0,NaN,0Z\" style=\"fill: none;\"></path><g><g class=\"mark-group role-title\"><g transform=\"translate(0,-20)\"><path class=\"background\" d=\"M0,0h0v0h0Z\" style=\"pointer-events: none; fill: none;\"></path><g><g class=\"mark-text role-title-text\" style=\"pointer-events: none;\"><text text-anchor=\"middle\" transform=\"translate(0,8)\" style=\"font-family: sans-serif; font-size: 10px; fill: #000; opacity: 1;\">7</text></g></g></g></g></g></g><g transform=\"translate(45.5,-1)\"><path class=\"background\" d=\"MNaN,0LNaN,0CNaN,0,NaN,NaN,NaN,NaNLNaN,NaNCNaN,NaN,NaN,0,NaN,0LNaN,0CNaN,0,0,NaN,0,NaNL0,NaNC0,NaN,NaN,0,NaN,0Z\" style=\"fill: none;\"></path><g><g class=\"mark-group role-title\"><g transform=\"translate(0,-20)\"><path class=\"background\" d=\"M0,0h0v0h0Z\" style=\"pointer-events: none; fill: none;\"></path><g><g class=\"mark-text role-title-text\" style=\"pointer-events: none;\"><text text-anchor=\"middle\" transform=\"translate(0,8)\" style=\"font-family: sans-serif; font-size: 10px; fill: #000; opacity: 1;\">8</text></g></g></g></g></g></g><g transform=\"translate(52,-1)\"><path class=\"background\" d=\"MNaN,0LNaN,0CNaN,0,NaN,NaN,NaN,NaNLNaN,NaNCNaN,NaN,NaN,0,NaN,0LNaN,0CNaN,0,0,NaN,0,NaNL0,NaNC0,NaN,NaN,0,NaN,0Z\" style=\"fill: none;\"></path><g><g class=\"mark-group role-title\"><g transform=\"translate(0,-20)\"><path class=\"background\" d=\"M0,0h0v0h0Z\" style=\"pointer-events: none; fill: none;\"></path><g><g class=\"mark-text role-title-text\" style=\"pointer-events: none;\"><text text-anchor=\"middle\" transform=\"translate(0,8)\" style=\"font-family: sans-serif; font-size: 10px; fill: #000; opacity: 1;\">9</text></g></g></g></g></g></g><g transform=\"translate(58.5,-1)\"><path class=\"background\" d=\"MNaN,0LNaN,0CNaN,0,NaN,NaN,NaN,NaNLNaN,NaNCNaN,NaN,NaN,0,NaN,0LNaN,0CNaN,0,0,NaN,0,NaNL0,NaNC0,NaN,NaN,0,NaN,0Z\" style=\"fill: none;\"></path><g><g class=\"mark-group role-title\"><g transform=\"translate(0,-20)\"><path class=\"background\" d=\"M0,0h0v0h0Z\" style=\"pointer-events: none; fill: none;\"></path><g><g class=\"mark-text role-title-text\" style=\"pointer-events: none;\"><text text-anchor=\"middle\" transform=\"translate(0,8)\" style=\"font-family: sans-serif; font-size: 10px; fill: #000; opacity: 1;\">10</text></g></g></g></g></g></g><g transform=\"translate(65,-1)\"><path class=\"background\" d=\"MNaN,0LNaN,0CNaN,0,NaN,NaN,NaN,NaNLNaN,NaNCNaN,NaN,NaN,0,NaN,0LNaN,0CNaN,0,0,NaN,0,NaNL0,NaNC0,NaN,NaN,0,NaN,0Z\" style=\"fill: none;\"></path><g><g class=\"mark-group role-title\"><g transform=\"translate(0,-20)\"><path class=\"background\" d=\"M0,0h0v0h0Z\" style=\"pointer-events: none; fill: none;\"></path><g><g class=\"mark-text role-title-text\" style=\"pointer-events: none;\"><text text-anchor=\"middle\" transform=\"translate(0,8)\" style=\"font-family: sans-serif; font-size: 10px; fill: #000; opacity: 1;\">11</text></g></g></g></g></g></g><g transform=\"translate(71.5,-1)\"><path class=\"background\" d=\"MNaN,0LNaN,0CNaN,0,NaN,NaN,NaN,NaNLNaN,NaNCNaN,NaN,NaN,0,NaN,0LNaN,0CNaN,0,0,NaN,0,NaNL0,NaNC0,NaN,NaN,0,NaN,0Z\" style=\"fill: none;\"></path><g><g class=\"mark-group role-title\"><g transform=\"translate(0,-20)\"><path class=\"background\" d=\"M0,0h0v0h0Z\" style=\"pointer-events: none; fill: none;\"></path><g><g class=\"mark-text role-title-text\" style=\"pointer-events: none;\"><text text-anchor=\"middle\" transform=\"translate(0,8)\" style=\"font-family: sans-serif; font-size: 10px; fill: #000; opacity: 1;\">12</text></g></g></g></g></g></g><g transform=\"translate(78,-1)\"><path class=\"background\" d=\"MNaN,0LNaN,0CNaN,0,NaN,NaN,NaN,NaNLNaN,NaNCNaN,NaN,NaN,0,NaN,0LNaN,0CNaN,0,0,NaN,0,NaNL0,NaNC0,NaN,NaN,0,NaN,0Z\" style=\"fill: none;\"></path><g><g class=\"mark-group role-title\"><g transform=\"translate(0,-20)\"><path class=\"background\" d=\"M0,0h0v0h0Z\" style=\"pointer-events: none; fill: none;\"></path><g><g class=\"mark-text role-title-text\" style=\"pointer-events: none;\"><text text-anchor=\"middle\" transform=\"translate(0,8)\" style=\"font-family: sans-serif; font-size: 10px; fill: #000; opacity: 1;\">13</text></g></g></g></g></g></g><g transform=\"translate(84.5,-1)\"><path class=\"background\" d=\"MNaN,0LNaN,0CNaN,0,NaN,NaN,NaN,NaNLNaN,NaNCNaN,NaN,NaN,0,NaN,0LNaN,0CNaN,0,0,NaN,0,NaNL0,NaNC0,NaN,NaN,0,NaN,0Z\" style=\"fill: none;\"></path><g><g class=\"mark-group role-title\"><g transform=\"translate(0,-20)\"><path class=\"background\" d=\"M0,0h0v0h0Z\" style=\"pointer-events: none; fill: none;\"></path><g><g class=\"mark-text role-title-text\" style=\"pointer-events: none;\"><text text-anchor=\"middle\" transform=\"translate(0,8)\" style=\"font-family: sans-serif; font-size: 10px; fill: #000; opacity: 1;\">14</text></g></g></g></g></g></g><g transform=\"translate(91,-1)\"><path class=\"background\" d=\"MNaN,0LNaN,0CNaN,0,NaN,NaN,NaN,NaNLNaN,NaNCNaN,NaN,NaN,0,NaN,0LNaN,0CNaN,0,0,NaN,0,NaNL0,NaNC0,NaN,NaN,0,NaN,0Z\" style=\"fill: none;\"></path><g><g class=\"mark-group role-title\"><g transform=\"translate(0,-20)\"><path class=\"background\" d=\"M0,0h0v0h0Z\" style=\"pointer-events: none; fill: none;\"></path><g><g class=\"mark-text role-title-text\" style=\"pointer-events: none;\"><text text-anchor=\"middle\" transform=\"translate(0,8)\" style=\"font-family: sans-serif; font-size: 10px; fill: #000; opacity: 1;\">15</text></g></g></g></g></g></g></g><g class=\"mark-group role-column-footer column_footer\"><g transform=\"translate(0,401)\"><path class=\"background\" d=\"MNaN,0LNaN,0CNaN,0,NaN,NaN,NaN,NaNLNaN,NaNCNaN,NaN,NaN,0,NaN,0LNaN,0CNaN,0,0,NaN,0,NaNL0,NaNC0,NaN,NaN,0,NaN,0Z\" style=\"fill: none;\"></path><g><g class=\"mark-group role-axis\"><g transform=\"translate(0.5,0.5)\"><path class=\"background\" d=\"M0,0h0v0h0Z\" style=\"pointer-events: none; fill: none;\"></path><g><g class=\"mark-rule role-axis-tick\" style=\"pointer-events: none;\"><line transform=\"translate(0,0)\" x2=\"0\" y2=\"5\" style=\"fill: none; stroke: #888; stroke-width: 1; opacity: 1;\"></line><line transform=\"translate(0,0)\" x2=\"0\" y2=\"5\" style=\"fill: none; stroke: #888; stroke-width: 1; opacity: 1;\"></line></g><g class=\"mark-text role-axis-label\" style=\"pointer-events: none;\"><text text-anchor=\"end\" transform=\"translate(0,7) rotate(270) translate(0,3)\" style=\"font-family: sans-serif; font-size: 10px; fill: #000; opacity: 1;\">ats</text><text text-anchor=\"end\" transform=\"translate(0,7) rotate(270) translate(0,3)\" style=\"font-family: sans-serif; font-size: 10px; fill: #000; opacity: 1;\">otc</text></g><g class=\"mark-rule role-axis-domain\" style=\"pointer-events: none;\"><line transform=\"translate(0,0)\" x2=\"NaN\" y2=\"0\" style=\"fill: none; stroke: #888; stroke-width: 3; opacity: 1;\"></line></g><g class=\"mark-text role-axis-title\" style=\"pointer-events: none;\"><text text-anchor=\"middle\" transform=\"translate(0,36)\" style=\"font-family: sans-serif; font-size: 11px; font-weight: bold; fill: #000; opacity: 1;\"> </text></g></g></g></g></g></g><g transform=\"translate(6.5,401)\"><path class=\"background\" d=\"MNaN,0LNaN,0CNaN,0,NaN,NaN,NaN,NaNLNaN,NaNCNaN,NaN,NaN,0,NaN,0LNaN,0CNaN,0,0,NaN,0,NaNL0,NaNC0,NaN,NaN,0,NaN,0Z\" style=\"fill: none;\"></path><g><g class=\"mark-group role-axis\"><g transform=\"translate(0.5,0.5)\"><path class=\"background\" d=\"M0,0h0v0h0Z\" style=\"pointer-events: none; fill: none;\"></path><g><g class=\"mark-rule role-axis-tick\" style=\"pointer-events: none;\"><line transform=\"translate(0,0)\" x2=\"0\" y2=\"5\" style=\"fill: none; stroke: #888; stroke-width: 1; opacity: 1;\"></line><line transform=\"translate(0,0)\" x2=\"0\" y2=\"5\" style=\"fill: none; stroke: #888; stroke-width: 1; opacity: 1;\"></line></g><g class=\"mark-text role-axis-label\" style=\"pointer-events: none;\"><text text-anchor=\"end\" transform=\"translate(0,7) rotate(270) translate(0,3)\" style=\"font-family: sans-serif; font-size: 10px; fill: #000; opacity: 1;\">ats</text><text text-anchor=\"end\" transform=\"translate(0,7) rotate(270) translate(0,3)\" style=\"font-family: sans-serif; font-size: 10px; fill: #000; opacity: 1;\">otc</text></g><g class=\"mark-rule role-axis-domain\" style=\"pointer-events: none;\"><line transform=\"translate(0,0)\" x2=\"NaN\" y2=\"0\" style=\"fill: none; stroke: #888; stroke-width: 3; opacity: 1;\"></line></g><g class=\"mark-text role-axis-title\" style=\"pointer-events: none;\"><text text-anchor=\"middle\" transform=\"translate(0,36)\" style=\"font-family: sans-serif; font-size: 11px; font-weight: bold; fill: #000; opacity: 1;\"> </text></g></g></g></g></g></g><g transform=\"translate(13,401)\"><path class=\"background\" d=\"MNaN,0LNaN,0CNaN,0,NaN,NaN,NaN,NaNLNaN,NaNCNaN,NaN,NaN,0,NaN,0LNaN,0CNaN,0,0,NaN,0,NaNL0,NaNC0,NaN,NaN,0,NaN,0Z\" style=\"fill: none;\"></path><g><g class=\"mark-group role-axis\"><g transform=\"translate(0.5,0.5)\"><path class=\"background\" d=\"M0,0h0v0h0Z\" style=\"pointer-events: none; fill: none;\"></path><g><g class=\"mark-rule role-axis-tick\" style=\"pointer-events: none;\"><line transform=\"translate(0,0)\" x2=\"0\" y2=\"5\" style=\"fill: none; stroke: #888; stroke-width: 1; opacity: 1;\"></line><line transform=\"translate(0,0)\" x2=\"0\" y2=\"5\" style=\"fill: none; stroke: #888; stroke-width: 1; opacity: 1;\"></line></g><g class=\"mark-text role-axis-label\" style=\"pointer-events: none;\"><text text-anchor=\"end\" transform=\"translate(0,7) rotate(270) translate(0,3)\" style=\"font-family: sans-serif; font-size: 10px; fill: #000; opacity: 1;\">ats</text><text text-anchor=\"end\" transform=\"translate(0,7) rotate(270) translate(0,3)\" style=\"font-family: sans-serif; font-size: 10px; fill: #000; opacity: 1;\">otc</text></g><g class=\"mark-rule role-axis-domain\" style=\"pointer-events: none;\"><line transform=\"translate(0,0)\" x2=\"NaN\" y2=\"0\" style=\"fill: none; stroke: #888; stroke-width: 3; opacity: 1;\"></line></g><g class=\"mark-text role-axis-title\" style=\"pointer-events: none;\"><text text-anchor=\"middle\" transform=\"translate(0,36)\" style=\"font-family: sans-serif; font-size: 11px; font-weight: bold; fill: #000; opacity: 1;\"> </text></g></g></g></g></g></g><g transform=\"translate(19.5,401)\"><path class=\"background\" d=\"MNaN,0LNaN,0CNaN,0,NaN,NaN,NaN,NaNLNaN,NaNCNaN,NaN,NaN,0,NaN,0LNaN,0CNaN,0,0,NaN,0,NaNL0,NaNC0,NaN,NaN,0,NaN,0Z\" style=\"fill: none;\"></path><g><g class=\"mark-group role-axis\"><g transform=\"translate(0.5,0.5)\"><path class=\"background\" d=\"M0,0h0v0h0Z\" style=\"pointer-events: none; fill: none;\"></path><g><g class=\"mark-rule role-axis-tick\" style=\"pointer-events: none;\"><line transform=\"translate(0,0)\" x2=\"0\" y2=\"5\" style=\"fill: none; stroke: #888; stroke-width: 1; opacity: 1;\"></line><line transform=\"translate(0,0)\" x2=\"0\" y2=\"5\" style=\"fill: none; stroke: #888; stroke-width: 1; opacity: 1;\"></line></g><g class=\"mark-text role-axis-label\" style=\"pointer-events: none;\"><text text-anchor=\"end\" transform=\"translate(0,7) rotate(270) translate(0,3)\" style=\"font-family: sans-serif; font-size: 10px; fill: #000; opacity: 1;\">ats</text><text text-anchor=\"end\" transform=\"translate(0,7) rotate(270) translate(0,3)\" style=\"font-family: sans-serif; font-size: 10px; fill: #000; opacity: 1;\">otc</text></g><g class=\"mark-rule role-axis-domain\" style=\"pointer-events: none;\"><line transform=\"translate(0,0)\" x2=\"NaN\" y2=\"0\" style=\"fill: none; stroke: #888; stroke-width: 3; opacity: 1;\"></line></g><g class=\"mark-text role-axis-title\" style=\"pointer-events: none;\"><text text-anchor=\"middle\" transform=\"translate(0,36)\" style=\"font-family: sans-serif; font-size: 11px; font-weight: bold; fill: #000; opacity: 1;\"> </text></g></g></g></g></g></g><g transform=\"translate(26,401)\"><path class=\"background\" d=\"MNaN,0LNaN,0CNaN,0,NaN,NaN,NaN,NaNLNaN,NaNCNaN,NaN,NaN,0,NaN,0LNaN,0CNaN,0,0,NaN,0,NaNL0,NaNC0,NaN,NaN,0,NaN,0Z\" style=\"fill: none;\"></path><g><g class=\"mark-group role-axis\"><g transform=\"translate(0.5,0.5)\"><path class=\"background\" d=\"M0,0h0v0h0Z\" style=\"pointer-events: none; fill: none;\"></path><g><g class=\"mark-rule role-axis-tick\" style=\"pointer-events: none;\"><line transform=\"translate(0,0)\" x2=\"0\" y2=\"5\" style=\"fill: none; stroke: #888; stroke-width: 1; opacity: 1;\"></line><line transform=\"translate(0,0)\" x2=\"0\" y2=\"5\" style=\"fill: none; stroke: #888; stroke-width: 1; opacity: 1;\"></line></g><g class=\"mark-text role-axis-label\" style=\"pointer-events: none;\"><text text-anchor=\"end\" transform=\"translate(0,7) rotate(270) translate(0,3)\" style=\"font-family: sans-serif; font-size: 10px; fill: #000; opacity: 1;\">ats</text><text text-anchor=\"end\" transform=\"translate(0,7) rotate(270) translate(0,3)\" style=\"font-family: sans-serif; font-size: 10px; fill: #000; opacity: 1;\">otc</text></g><g class=\"mark-rule role-axis-domain\" style=\"pointer-events: none;\"><line transform=\"translate(0,0)\" x2=\"NaN\" y2=\"0\" style=\"fill: none; stroke: #888; stroke-width: 3; opacity: 1;\"></line></g><g class=\"mark-text role-axis-title\" style=\"pointer-events: none;\"><text text-anchor=\"middle\" transform=\"translate(0,36)\" style=\"font-family: sans-serif; font-size: 11px; font-weight: bold; fill: #000; opacity: 1;\"> </text></g></g></g></g></g></g><g transform=\"translate(32.5,401)\"><path class=\"background\" d=\"MNaN,0LNaN,0CNaN,0,NaN,NaN,NaN,NaNLNaN,NaNCNaN,NaN,NaN,0,NaN,0LNaN,0CNaN,0,0,NaN,0,NaNL0,NaNC0,NaN,NaN,0,NaN,0Z\" style=\"fill: none;\"></path><g><g class=\"mark-group role-axis\"><g transform=\"translate(0.5,0.5)\"><path class=\"background\" d=\"M0,0h0v0h0Z\" style=\"pointer-events: none; fill: none;\"></path><g><g class=\"mark-rule role-axis-tick\" style=\"pointer-events: none;\"><line transform=\"translate(0,0)\" x2=\"0\" y2=\"5\" style=\"fill: none; stroke: #888; stroke-width: 1; opacity: 1;\"></line><line transform=\"translate(0,0)\" x2=\"0\" y2=\"5\" style=\"fill: none; stroke: #888; stroke-width: 1; opacity: 1;\"></line></g><g class=\"mark-text role-axis-label\" style=\"pointer-events: none;\"><text text-anchor=\"end\" transform=\"translate(0,7) rotate(270) translate(0,3)\" style=\"font-family: sans-serif; font-size: 10px; fill: #000; opacity: 1;\">ats</text><text text-anchor=\"end\" transform=\"translate(0,7) rotate(270) translate(0,3)\" style=\"font-family: sans-serif; font-size: 10px; fill: #000; opacity: 1;\">otc</text></g><g class=\"mark-rule role-axis-domain\" style=\"pointer-events: none;\"><line transform=\"translate(0,0)\" x2=\"NaN\" y2=\"0\" style=\"fill: none; stroke: #888; stroke-width: 3; opacity: 1;\"></line></g><g class=\"mark-text role-axis-title\" style=\"pointer-events: none;\"><text text-anchor=\"middle\" transform=\"translate(0,36)\" style=\"font-family: sans-serif; font-size: 11px; font-weight: bold; fill: #000; opacity: 1;\"> </text></g></g></g></g></g></g><g transform=\"translate(39,401)\"><path class=\"background\" d=\"MNaN,0LNaN,0CNaN,0,NaN,NaN,NaN,NaNLNaN,NaNCNaN,NaN,NaN,0,NaN,0LNaN,0CNaN,0,0,NaN,0,NaNL0,NaNC0,NaN,NaN,0,NaN,0Z\" style=\"fill: none;\"></path><g><g class=\"mark-group role-axis\"><g transform=\"translate(0.5,0.5)\"><path class=\"background\" d=\"M0,0h0v0h0Z\" style=\"pointer-events: none; fill: none;\"></path><g><g class=\"mark-rule role-axis-tick\" style=\"pointer-events: none;\"><line transform=\"translate(0,0)\" x2=\"0\" y2=\"5\" style=\"fill: none; stroke: #888; stroke-width: 1; opacity: 1;\"></line><line transform=\"translate(0,0)\" x2=\"0\" y2=\"5\" style=\"fill: none; stroke: #888; stroke-width: 1; opacity: 1;\"></line></g><g class=\"mark-text role-axis-label\" style=\"pointer-events: none;\"><text text-anchor=\"end\" transform=\"translate(0,7) rotate(270) translate(0,3)\" style=\"font-family: sans-serif; font-size: 10px; fill: #000; opacity: 1;\">ats</text><text text-anchor=\"end\" transform=\"translate(0,7) rotate(270) translate(0,3)\" style=\"font-family: sans-serif; font-size: 10px; fill: #000; opacity: 1;\">otc</text></g><g class=\"mark-rule role-axis-domain\" style=\"pointer-events: none;\"><line transform=\"translate(0,0)\" x2=\"NaN\" y2=\"0\" style=\"fill: none; stroke: #888; stroke-width: 3; opacity: 1;\"></line></g><g class=\"mark-text role-axis-title\" style=\"pointer-events: none;\"><text text-anchor=\"middle\" transform=\"translate(0,36)\" style=\"font-family: sans-serif; font-size: 11px; font-weight: bold; fill: #000; opacity: 1;\"> </text></g></g></g></g></g></g><g transform=\"translate(45.5,401)\"><path class=\"background\" d=\"MNaN,0LNaN,0CNaN,0,NaN,NaN,NaN,NaNLNaN,NaNCNaN,NaN,NaN,0,NaN,0LNaN,0CNaN,0,0,NaN,0,NaNL0,NaNC0,NaN,NaN,0,NaN,0Z\" style=\"fill: none;\"></path><g><g class=\"mark-group role-axis\"><g transform=\"translate(0.5,0.5)\"><path class=\"background\" d=\"M0,0h0v0h0Z\" style=\"pointer-events: none; fill: none;\"></path><g><g class=\"mark-rule role-axis-tick\" style=\"pointer-events: none;\"><line transform=\"translate(0,0)\" x2=\"0\" y2=\"5\" style=\"fill: none; stroke: #888; stroke-width: 1; opacity: 1;\"></line><line transform=\"translate(0,0)\" x2=\"0\" y2=\"5\" style=\"fill: none; stroke: #888; stroke-width: 1; opacity: 1;\"></line></g><g class=\"mark-text role-axis-label\" style=\"pointer-events: none;\"><text text-anchor=\"end\" transform=\"translate(0,7) rotate(270) translate(0,3)\" style=\"font-family: sans-serif; font-size: 10px; fill: #000; opacity: 1;\">ats</text><text text-anchor=\"end\" transform=\"translate(0,7) rotate(270) translate(0,3)\" style=\"font-family: sans-serif; font-size: 10px; fill: #000; opacity: 1;\">otc</text></g><g class=\"mark-rule role-axis-domain\" style=\"pointer-events: none;\"><line transform=\"translate(0,0)\" x2=\"NaN\" y2=\"0\" style=\"fill: none; stroke: #888; stroke-width: 3; opacity: 1;\"></line></g><g class=\"mark-text role-axis-title\" style=\"pointer-events: none;\"><text text-anchor=\"middle\" transform=\"translate(0,36)\" style=\"font-family: sans-serif; font-size: 11px; font-weight: bold; fill: #000; opacity: 1;\"> </text></g></g></g></g></g></g><g transform=\"translate(52,401)\"><path class=\"background\" d=\"MNaN,0LNaN,0CNaN,0,NaN,NaN,NaN,NaNLNaN,NaNCNaN,NaN,NaN,0,NaN,0LNaN,0CNaN,0,0,NaN,0,NaNL0,NaNC0,NaN,NaN,0,NaN,0Z\" style=\"fill: none;\"></path><g><g class=\"mark-group role-axis\"><g transform=\"translate(0.5,0.5)\"><path class=\"background\" d=\"M0,0h0v0h0Z\" style=\"pointer-events: none; fill: none;\"></path><g><g class=\"mark-rule role-axis-tick\" style=\"pointer-events: none;\"><line transform=\"translate(0,0)\" x2=\"0\" y2=\"5\" style=\"fill: none; stroke: #888; stroke-width: 1; opacity: 1;\"></line><line transform=\"translate(0,0)\" x2=\"0\" y2=\"5\" style=\"fill: none; stroke: #888; stroke-width: 1; opacity: 1;\"></line></g><g class=\"mark-text role-axis-label\" style=\"pointer-events: none;\"><text text-anchor=\"end\" transform=\"translate(0,7) rotate(270) translate(0,3)\" style=\"font-family: sans-serif; font-size: 10px; fill: #000; opacity: 1;\">ats</text><text text-anchor=\"end\" transform=\"translate(0,7) rotate(270) translate(0,3)\" style=\"font-family: sans-serif; font-size: 10px; fill: #000; opacity: 1;\">otc</text></g><g class=\"mark-rule role-axis-domain\" style=\"pointer-events: none;\"><line transform=\"translate(0,0)\" x2=\"NaN\" y2=\"0\" style=\"fill: none; stroke: #888; stroke-width: 3; opacity: 1;\"></line></g><g class=\"mark-text role-axis-title\" style=\"pointer-events: none;\"><text text-anchor=\"middle\" transform=\"translate(0,36)\" style=\"font-family: sans-serif; font-size: 11px; font-weight: bold; fill: #000; opacity: 1;\"> </text></g></g></g></g></g></g><g transform=\"translate(58.5,401)\"><path class=\"background\" d=\"MNaN,0LNaN,0CNaN,0,NaN,NaN,NaN,NaNLNaN,NaNCNaN,NaN,NaN,0,NaN,0LNaN,0CNaN,0,0,NaN,0,NaNL0,NaNC0,NaN,NaN,0,NaN,0Z\" style=\"fill: none;\"></path><g><g class=\"mark-group role-axis\"><g transform=\"translate(0.5,0.5)\"><path class=\"background\" d=\"M0,0h0v0h0Z\" style=\"pointer-events: none; fill: none;\"></path><g><g class=\"mark-rule role-axis-tick\" style=\"pointer-events: none;\"><line transform=\"translate(0,0)\" x2=\"0\" y2=\"5\" style=\"fill: none; stroke: #888; stroke-width: 1; opacity: 1;\"></line><line transform=\"translate(0,0)\" x2=\"0\" y2=\"5\" style=\"fill: none; stroke: #888; stroke-width: 1; opacity: 1;\"></line></g><g class=\"mark-text role-axis-label\" style=\"pointer-events: none;\"><text text-anchor=\"end\" transform=\"translate(0,7) rotate(270) translate(0,3)\" style=\"font-family: sans-serif; font-size: 10px; fill: #000; opacity: 1;\">ats</text><text text-anchor=\"end\" transform=\"translate(0,7) rotate(270) translate(0,3)\" style=\"font-family: sans-serif; font-size: 10px; fill: #000; opacity: 1;\">otc</text></g><g class=\"mark-rule role-axis-domain\" style=\"pointer-events: none;\"><line transform=\"translate(0,0)\" x2=\"NaN\" y2=\"0\" style=\"fill: none; stroke: #888; stroke-width: 3; opacity: 1;\"></line></g><g class=\"mark-text role-axis-title\" style=\"pointer-events: none;\"><text text-anchor=\"middle\" transform=\"translate(0,36)\" style=\"font-family: sans-serif; font-size: 11px; font-weight: bold; fill: #000; opacity: 1;\"> </text></g></g></g></g></g></g><g transform=\"translate(65,401)\"><path class=\"background\" d=\"MNaN,0LNaN,0CNaN,0,NaN,NaN,NaN,NaNLNaN,NaNCNaN,NaN,NaN,0,NaN,0LNaN,0CNaN,0,0,NaN,0,NaNL0,NaNC0,NaN,NaN,0,NaN,0Z\" style=\"fill: none;\"></path><g><g class=\"mark-group role-axis\"><g transform=\"translate(0.5,0.5)\"><path class=\"background\" d=\"M0,0h0v0h0Z\" style=\"pointer-events: none; fill: none;\"></path><g><g class=\"mark-rule role-axis-tick\" style=\"pointer-events: none;\"><line transform=\"translate(0,0)\" x2=\"0\" y2=\"5\" style=\"fill: none; stroke: #888; stroke-width: 1; opacity: 1;\"></line><line transform=\"translate(0,0)\" x2=\"0\" y2=\"5\" style=\"fill: none; stroke: #888; stroke-width: 1; opacity: 1;\"></line></g><g class=\"mark-text role-axis-label\" style=\"pointer-events: none;\"><text text-anchor=\"end\" transform=\"translate(0,7) rotate(270) translate(0,3)\" style=\"font-family: sans-serif; font-size: 10px; fill: #000; opacity: 1;\">ats</text><text text-anchor=\"end\" transform=\"translate(0,7) rotate(270) translate(0,3)\" style=\"font-family: sans-serif; font-size: 10px; fill: #000; opacity: 1;\">otc</text></g><g class=\"mark-rule role-axis-domain\" style=\"pointer-events: none;\"><line transform=\"translate(0,0)\" x2=\"NaN\" y2=\"0\" style=\"fill: none; stroke: #888; stroke-width: 3; opacity: 1;\"></line></g><g class=\"mark-text role-axis-title\" style=\"pointer-events: none;\"><text text-anchor=\"middle\" transform=\"translate(0,36)\" style=\"font-family: sans-serif; font-size: 11px; font-weight: bold; fill: #000; opacity: 1;\"> </text></g></g></g></g></g></g><g transform=\"translate(71.5,401)\"><path class=\"background\" d=\"MNaN,0LNaN,0CNaN,0,NaN,NaN,NaN,NaNLNaN,NaNCNaN,NaN,NaN,0,NaN,0LNaN,0CNaN,0,0,NaN,0,NaNL0,NaNC0,NaN,NaN,0,NaN,0Z\" style=\"fill: none;\"></path><g><g class=\"mark-group role-axis\"><g transform=\"translate(0.5,0.5)\"><path class=\"background\" d=\"M0,0h0v0h0Z\" style=\"pointer-events: none; fill: none;\"></path><g><g class=\"mark-rule role-axis-tick\" style=\"pointer-events: none;\"><line transform=\"translate(0,0)\" x2=\"0\" y2=\"5\" style=\"fill: none; stroke: #888; stroke-width: 1; opacity: 1;\"></line><line transform=\"translate(0,0)\" x2=\"0\" y2=\"5\" style=\"fill: none; stroke: #888; stroke-width: 1; opacity: 1;\"></line></g><g class=\"mark-text role-axis-label\" style=\"pointer-events: none;\"><text text-anchor=\"end\" transform=\"translate(0,7) rotate(270) translate(0,3)\" style=\"font-family: sans-serif; font-size: 10px; fill: #000; opacity: 1;\">ats</text><text text-anchor=\"end\" transform=\"translate(0,7) rotate(270) translate(0,3)\" style=\"font-family: sans-serif; font-size: 10px; fill: #000; opacity: 1;\">otc</text></g><g class=\"mark-rule role-axis-domain\" style=\"pointer-events: none;\"><line transform=\"translate(0,0)\" x2=\"NaN\" y2=\"0\" style=\"fill: none; stroke: #888; stroke-width: 3; opacity: 1;\"></line></g><g class=\"mark-text role-axis-title\" style=\"pointer-events: none;\"><text text-anchor=\"middle\" transform=\"translate(0,36)\" style=\"font-family: sans-serif; font-size: 11px; font-weight: bold; fill: #000; opacity: 1;\"> </text></g></g></g></g></g></g><g transform=\"translate(78,401)\"><path class=\"background\" d=\"MNaN,0LNaN,0CNaN,0,NaN,NaN,NaN,NaNLNaN,NaNCNaN,NaN,NaN,0,NaN,0LNaN,0CNaN,0,0,NaN,0,NaNL0,NaNC0,NaN,NaN,0,NaN,0Z\" style=\"fill: none;\"></path><g><g class=\"mark-group role-axis\"><g transform=\"translate(0.5,0.5)\"><path class=\"background\" d=\"M0,0h0v0h0Z\" style=\"pointer-events: none; fill: none;\"></path><g><g class=\"mark-rule role-axis-tick\" style=\"pointer-events: none;\"><line transform=\"translate(0,0)\" x2=\"0\" y2=\"5\" style=\"fill: none; stroke: #888; stroke-width: 1; opacity: 1;\"></line><line transform=\"translate(0,0)\" x2=\"0\" y2=\"5\" style=\"fill: none; stroke: #888; stroke-width: 1; opacity: 1;\"></line></g><g class=\"mark-text role-axis-label\" style=\"pointer-events: none;\"><text text-anchor=\"end\" transform=\"translate(0,7) rotate(270) translate(0,3)\" style=\"font-family: sans-serif; font-size: 10px; fill: #000; opacity: 1;\">ats</text><text text-anchor=\"end\" transform=\"translate(0,7) rotate(270) translate(0,3)\" style=\"font-family: sans-serif; font-size: 10px; fill: #000; opacity: 1;\">otc</text></g><g class=\"mark-rule role-axis-domain\" style=\"pointer-events: none;\"><line transform=\"translate(0,0)\" x2=\"NaN\" y2=\"0\" style=\"fill: none; stroke: #888; stroke-width: 3; opacity: 1;\"></line></g><g class=\"mark-text role-axis-title\" style=\"pointer-events: none;\"><text text-anchor=\"middle\" transform=\"translate(0,36)\" style=\"font-family: sans-serif; font-size: 11px; font-weight: bold; fill: #000; opacity: 1;\"> </text></g></g></g></g></g></g><g transform=\"translate(84.5,401)\"><path class=\"background\" d=\"MNaN,0LNaN,0CNaN,0,NaN,NaN,NaN,NaNLNaN,NaNCNaN,NaN,NaN,0,NaN,0LNaN,0CNaN,0,0,NaN,0,NaNL0,NaNC0,NaN,NaN,0,NaN,0Z\" style=\"fill: none;\"></path><g><g class=\"mark-group role-axis\"><g transform=\"translate(0.5,0.5)\"><path class=\"background\" d=\"M0,0h0v0h0Z\" style=\"pointer-events: none; fill: none;\"></path><g><g class=\"mark-rule role-axis-tick\" style=\"pointer-events: none;\"><line transform=\"translate(0,0)\" x2=\"0\" y2=\"5\" style=\"fill: none; stroke: #888; stroke-width: 1; opacity: 1;\"></line><line transform=\"translate(0,0)\" x2=\"0\" y2=\"5\" style=\"fill: none; stroke: #888; stroke-width: 1; opacity: 1;\"></line></g><g class=\"mark-text role-axis-label\" style=\"pointer-events: none;\"><text text-anchor=\"end\" transform=\"translate(0,7) rotate(270) translate(0,3)\" style=\"font-family: sans-serif; font-size: 10px; fill: #000; opacity: 1;\">ats</text><text text-anchor=\"end\" transform=\"translate(0,7) rotate(270) translate(0,3)\" style=\"font-family: sans-serif; font-size: 10px; fill: #000; opacity: 1;\">otc</text></g><g class=\"mark-rule role-axis-domain\" style=\"pointer-events: none;\"><line transform=\"translate(0,0)\" x2=\"NaN\" y2=\"0\" style=\"fill: none; stroke: #888; stroke-width: 3; opacity: 1;\"></line></g><g class=\"mark-text role-axis-title\" style=\"pointer-events: none;\"><text text-anchor=\"middle\" transform=\"translate(0,36)\" style=\"font-family: sans-serif; font-size: 11px; font-weight: bold; fill: #000; opacity: 1;\"> </text></g></g></g></g></g></g><g transform=\"translate(91,401)\"><path class=\"background\" d=\"MNaN,0LNaN,0CNaN,0,NaN,NaN,NaN,NaNLNaN,NaNCNaN,NaN,NaN,0,NaN,0LNaN,0CNaN,0,0,NaN,0,NaNL0,NaNC0,NaN,NaN,0,NaN,0Z\" style=\"fill: none;\"></path><g><g class=\"mark-group role-axis\"><g transform=\"translate(0.5,0.5)\"><path class=\"background\" d=\"M0,0h0v0h0Z\" style=\"pointer-events: none; fill: none;\"></path><g><g class=\"mark-rule role-axis-tick\" style=\"pointer-events: none;\"><line transform=\"translate(0,0)\" x2=\"0\" y2=\"5\" style=\"fill: none; stroke: #888; stroke-width: 1; opacity: 1;\"></line><line transform=\"translate(0,0)\" x2=\"0\" y2=\"5\" style=\"fill: none; stroke: #888; stroke-width: 1; opacity: 1;\"></line></g><g class=\"mark-text role-axis-label\" style=\"pointer-events: none;\"><text text-anchor=\"end\" transform=\"translate(0,7) rotate(270) translate(0,3)\" style=\"font-family: sans-serif; font-size: 10px; fill: #000; opacity: 1;\">ats</text><text text-anchor=\"end\" transform=\"translate(0,7) rotate(270) translate(0,3)\" style=\"font-family: sans-serif; font-size: 10px; fill: #000; opacity: 1;\">otc</text></g><g class=\"mark-rule role-axis-domain\" style=\"pointer-events: none;\"><line transform=\"translate(0,0)\" x2=\"NaN\" y2=\"0\" style=\"fill: none; stroke: #888; stroke-width: 3; opacity: 1;\"></line></g><g class=\"mark-text role-axis-title\" style=\"pointer-events: none;\"><text text-anchor=\"middle\" transform=\"translate(0,36)\" style=\"font-family: sans-serif; font-size: 11px; font-weight: bold; fill: #000; opacity: 1;\"> </text></g></g></g></g></g></g></g><g class=\"mark-group role-scope cell\"><g transform=\"translate(0,0)\"><path class=\"background\" d=\"MNaN,0.5LNaN,0.5CNaN,0.5,NaN,NaN,NaN,NaNLNaN,NaNCNaN,NaN,NaN,400.5,NaN,400.5LNaN,400.5CNaN,400.5,0.5,NaN,0.5,NaNL0.5,NaNC0.5,NaN,NaN,0.5,NaN,0.5Z\" style=\"fill: none; stroke: none;\"></path><g><g class=\"mark-rect role-mark child_marks\"><path d=\"M0,345.2h0v54.80000000000001h0Z\" style=\"fill: rgb(53, 183, 121);\"></path><path d=\"M0,346.4h0v53.60000000000002h0Z\" style=\"fill: rgb(49, 104, 142);\"></path></g></g></g><g transform=\"translate(6.5,0)\"><path class=\"background\" d=\"MNaN,0.5LNaN,0.5CNaN,0.5,NaN,NaN,NaN,NaNLNaN,NaNCNaN,NaN,NaN,400.5,NaN,400.5LNaN,400.5CNaN,400.5,0.5,NaN,0.5,NaNL0.5,NaNC0.5,NaN,NaN,0.5,NaN,0.5Z\" style=\"fill: none; stroke: none;\"></path><g><g class=\"mark-rect role-mark child_marks\"><path d=\"M0,87.80000000000001h0v312.2h0Z\" style=\"fill: rgb(53, 183, 121);\"></path><path d=\"M0,95.19999999999999h0v304.8h0Z\" style=\"fill: rgb(49, 104, 142);\"></path></g></g></g><g transform=\"translate(13,0)\"><path class=\"background\" d=\"MNaN,0.5LNaN,0.5CNaN,0.5,NaN,NaN,NaN,NaNLNaN,NaNCNaN,NaN,NaN,400.5,NaN,400.5LNaN,400.5CNaN,400.5,0.5,NaN,0.5,NaNL0.5,NaNC0.5,NaN,NaN,0.5,NaN,0.5Z\" style=\"fill: none; stroke: none;\"></path><g><g class=\"mark-rect role-mark child_marks\"><path d=\"M0,395.6h0v4.399999999999977h0Z\" style=\"fill: rgb(53, 183, 121);\"></path><path d=\"M0,395.6h0v4.399999999999977h0Z\" style=\"fill: rgb(49, 104, 142);\"></path></g></g></g><g transform=\"translate(19.5,0)\"><path class=\"background\" d=\"MNaN,0.5LNaN,0.5CNaN,0.5,NaN,NaN,NaN,NaNLNaN,NaNCNaN,NaN,NaN,400.5,NaN,400.5LNaN,400.5CNaN,400.5,0.5,NaN,0.5,NaNL0.5,NaNC0.5,NaN,NaN,0.5,NaN,0.5Z\" style=\"fill: none; stroke: none;\"></path><g><g class=\"mark-rect role-mark child_marks\"><path d=\"M0,392h0v8h0Z\" style=\"fill: rgb(53, 183, 121);\"></path><path d=\"M0,392.2h0v7.800000000000011h0Z\" style=\"fill: rgb(49, 104, 142);\"></path></g></g></g><g transform=\"translate(26,0)\"><path class=\"background\" d=\"MNaN,0.5LNaN,0.5CNaN,0.5,NaN,NaN,NaN,NaNLNaN,NaNCNaN,NaN,NaN,400.5,NaN,400.5LNaN,400.5CNaN,400.5,0.5,NaN,0.5,NaNL0.5,NaNC0.5,NaN,NaN,0.5,NaN,0.5Z\" style=\"fill: none; stroke: none;\"></path><g><g class=\"mark-rect role-mark child_marks\"><path d=\"M0,398.6h0v1.3999999999999773h0Z\" style=\"fill: rgb(53, 183, 121);\"></path><path d=\"M0,398.8h0v1.1999999999999886h0Z\" style=\"fill: rgb(49, 104, 142);\"></path></g></g></g><g transform=\"translate(32.5,0)\"><path class=\"background\" d=\"MNaN,0.5LNaN,0.5CNaN,0.5,NaN,NaN,NaN,NaNLNaN,NaNCNaN,NaN,NaN,400.5,NaN,400.5LNaN,400.5CNaN,400.5,0.5,NaN,0.5,NaNL0.5,NaNC0.5,NaN,NaN,0.5,NaN,0.5Z\" style=\"fill: none; stroke: none;\"></path><g><g class=\"mark-rect role-mark child_marks\"><path d=\"M0,139h0v261h0Z\" style=\"fill: rgb(53, 183, 121);\"></path><path d=\"M0,145.00000000000003h0v254.99999999999997h0Z\" style=\"fill: rgb(49, 104, 142);\"></path></g></g></g><g transform=\"translate(39,0)\"><path class=\"background\" d=\"MNaN,0.5LNaN,0.5CNaN,0.5,NaN,NaN,NaN,NaNLNaN,NaNCNaN,NaN,NaN,400.5,NaN,400.5LNaN,400.5CNaN,400.5,0.5,NaN,0.5,NaNL0.5,NaNC0.5,NaN,NaN,0.5,NaN,0.5Z\" style=\"fill: none; stroke: none;\"></path><g><g class=\"mark-rect role-mark child_marks\"><path d=\"M0,12.599999999999989h0v387.40000000000003h0Z\" style=\"fill: rgb(53, 183, 121);\"></path><path d=\"M0,35.400000000000006h0v364.6h0Z\" style=\"fill: rgb(49, 104, 142);\"></path></g></g></g><g transform=\"translate(45.5,0)\"><path class=\"background\" d=\"MNaN,0.5LNaN,0.5CNaN,0.5,NaN,NaN,NaN,NaNLNaN,NaNCNaN,NaN,NaN,400.5,NaN,400.5LNaN,400.5CNaN,400.5,0.5,NaN,0.5,NaNL0.5,NaNC0.5,NaN,NaN,0.5,NaN,0.5Z\" style=\"fill: none; stroke: none;\"></path><g><g class=\"mark-rect role-mark child_marks\"><path d=\"M0,244.59999999999997h0v155.40000000000003h0Z\" style=\"fill: rgb(53, 183, 121);\"></path><path d=\"M0,246.60000000000002h0v153.39999999999998h0Z\" style=\"fill: rgb(49, 104, 142);\"></path></g></g></g><g transform=\"translate(52,0)\"><path class=\"background\" d=\"MNaN,0.5LNaN,0.5CNaN,0.5,NaN,NaN,NaN,NaNLNaN,NaNCNaN,NaN,NaN,400.5,NaN,400.5LNaN,400.5CNaN,400.5,0.5,NaN,0.5,NaNL0.5,NaNC0.5,NaN,NaN,0.5,NaN,0.5Z\" style=\"fill: none; stroke: none;\"></path><g><g class=\"mark-rect role-mark child_marks\"><path d=\"M0,358.59999999999997h0v41.400000000000034h0Z\" style=\"fill: rgb(53, 183, 121);\"></path><path d=\"M0,359h0v41h0Z\" style=\"fill: rgb(49, 104, 142);\"></path></g></g></g><g transform=\"translate(58.5,0)\"><path class=\"background\" d=\"MNaN,0.5LNaN,0.5CNaN,0.5,NaN,NaN,NaN,NaNLNaN,NaNCNaN,NaN,NaN,400.5,NaN,400.5LNaN,400.5CNaN,400.5,0.5,NaN,0.5,NaNL0.5,NaNC0.5,NaN,NaN,0.5,NaN,0.5Z\" style=\"fill: none; stroke: none;\"></path><g><g class=\"mark-rect role-mark child_marks\"><path d=\"M0,389.59999999999997h0v10.400000000000034h0Z\" style=\"fill: rgb(53, 183, 121);\"></path><path d=\"M0,389.8h0v10.199999999999989h0Z\" style=\"fill: rgb(49, 104, 142);\"></path></g></g></g><g transform=\"translate(65,0)\"><path class=\"background\" d=\"MNaN,0.5LNaN,0.5CNaN,0.5,NaN,NaN,NaN,NaNLNaN,NaNCNaN,NaN,NaN,400.5,NaN,400.5LNaN,400.5CNaN,400.5,0.5,NaN,0.5,NaNL0.5,NaNC0.5,NaN,NaN,0.5,NaN,0.5Z\" style=\"fill: none; stroke: none;\"></path><g><g class=\"mark-rect role-mark child_marks\"><path d=\"M0,56.00000000000001h0v344h0Z\" style=\"fill: rgb(53, 183, 121);\"></path><path d=\"M0,75h0v325h0Z\" style=\"fill: rgb(49, 104, 142);\"></path></g></g></g><g transform=\"translate(71.5,0)\"><path class=\"background\" d=\"MNaN,0.5LNaN,0.5CNaN,0.5,NaN,NaN,NaN,NaNLNaN,NaNCNaN,NaN,NaN,400.5,NaN,400.5LNaN,400.5CNaN,400.5,0.5,NaN,0.5,NaNL0.5,NaNC0.5,NaN,NaN,0.5,NaN,0.5Z\" style=\"fill: none; stroke: none;\"></path><g><g class=\"mark-rect role-mark child_marks\"><path d=\"M0,191h0v209h0Z\" style=\"fill: rgb(53, 183, 121);\"></path><path d=\"M0,203.00000000000003h0v196.99999999999997h0Z\" style=\"fill: rgb(49, 104, 142);\"></path></g></g></g><g transform=\"translate(78,0)\"><path class=\"background\" d=\"MNaN,0.5LNaN,0.5CNaN,0.5,NaN,NaN,NaN,NaNLNaN,NaNCNaN,NaN,NaN,400.5,NaN,400.5LNaN,400.5CNaN,400.5,0.5,NaN,0.5,NaNL0.5,NaNC0.5,NaN,NaN,0.5,NaN,0.5Z\" style=\"fill: none; stroke: none;\"></path><g><g class=\"mark-rect role-mark child_marks\"><path d=\"M0,52.800000000000004h0v347.2h0Z\" style=\"fill: rgb(53, 183, 121);\"></path><path d=\"M0,70.19999999999999h0v329.8h0Z\" style=\"fill: rgb(49, 104, 142);\"></path></g></g></g><g transform=\"translate(84.5,0)\"><path class=\"background\" d=\"MNaN,0.5LNaN,0.5CNaN,0.5,NaN,NaN,NaN,NaNLNaN,NaNCNaN,NaN,NaN,400.5,NaN,400.5LNaN,400.5CNaN,400.5,0.5,NaN,0.5,NaNL0.5,NaNC0.5,NaN,NaN,0.5,NaN,0.5Z\" style=\"fill: none; stroke: none;\"></path><g><g class=\"mark-rect role-mark child_marks\"><path d=\"M0,337h0v63h0Z\" style=\"fill: rgb(53, 183, 121);\"></path><path d=\"M0,338.6h0v61.39999999999998h0Z\" style=\"fill: rgb(49, 104, 142);\"></path></g></g></g><g transform=\"translate(91,0)\"><path class=\"background\" d=\"MNaN,0.5LNaN,0.5CNaN,0.5,NaN,NaN,NaN,NaNLNaN,NaNCNaN,NaN,NaN,400.5,NaN,400.5LNaN,400.5CNaN,400.5,0.5,NaN,0.5,NaNL0.5,NaNC0.5,NaN,NaN,0.5,NaN,0.5Z\" style=\"fill: none; stroke: none;\"></path><g><g class=\"mark-rect role-mark child_marks\"><path d=\"M0,55.399999999999984h0v344.6h0Z\" style=\"fill: rgb(53, 183, 121);\"></path><path d=\"M0,72.80000000000003h0v327.2h0Z\" style=\"fill: rgb(49, 104, 142);\"></path></g></g></g></g><g class=\"mark-group role-legend\"><g transform=\"translate(123,0)\"><path class=\"background\" d=\"M0,0h111v40h-111Z\" style=\"pointer-events: none; fill: none;\"></path><g><g class=\"mark-group role-legend-entry\"><g transform=\"translate(0,16)\"><path class=\"background\" d=\"M0,0h0v0h0Z\" style=\"pointer-events: none; fill: none;\"></path><g><g class=\"mark-group role-scope\"><g transform=\"translate(0,0)\"><path class=\"background\" d=\"M0,0h32v11h-32Z\" style=\"pointer-events: none; fill: none; opacity: 1;\"></path><g><g class=\"mark-symbol role-legend-symbol\" style=\"pointer-events: none;\"><path transform=\"translate(6,6)\" d=\"M-5,-5h10v10h-10Z\" style=\"fill: rgb(49, 104, 142); stroke-width: 1.5; opacity: 1;\"></path></g><g class=\"mark-text role-legend-label\" style=\"pointer-events: none;\"><text text-anchor=\"start\" transform=\"translate(16,9)\" style=\"font-family: sans-serif; font-size: 10px; fill: #000; opacity: 1;\">ats</text></g></g></g><g transform=\"translate(0,13)\"><path class=\"background\" d=\"M0,0h32v11h-32Z\" style=\"pointer-events: none; fill: none; opacity: 1;\"></path><g><g class=\"mark-symbol role-legend-symbol\" style=\"pointer-events: none;\"><path transform=\"translate(6,6)\" d=\"M-5,-5h10v10h-10Z\" style=\"fill: rgb(53, 183, 121); stroke-width: 1.5; opacity: 1;\"></path></g><g class=\"mark-text role-legend-label\" style=\"pointer-events: none;\"><text text-anchor=\"start\" transform=\"translate(16,9)\" style=\"font-family: sans-serif; font-size: 10px; fill: #000; opacity: 1;\">otc</text></g></g></g></g></g></g></g><g class=\"mark-text role-legend-title\" style=\"pointer-events: none;\"><text text-anchor=\"start\" transform=\"translate(0,9)\" style=\"font-family: sans-serif; font-size: 11px; font-weight: bold; fill: #000; opacity: 1;\">Secondary Market</text></g></g></g></g><g class=\"mark-group role-title\"><g transform=\"translate(92,-86)\"><path class=\"background\" d=\"M0,0h0v0h0Z\" style=\"pointer-events: none; fill: none;\"></path><g><g class=\"mark-text role-title-text\" style=\"pointer-events: none;\"><text text-anchor=\"middle\" transform=\"translate(0,11)\" style=\"font-family: sans-serif; font-size: 14px; font-weight: bold; fill: #000; opacity: 1;\">Number of Issuers of Non-MTN-Bonds Traded per Covenant Category - 2019Q2</text></g></g></g></g></g></g></g></g></svg>"
      ],
      "text/plain": [
       "VegaLite.VLSpec{:plot}"
      ]
     },
     "execution_count": 33,
     "metadata": {},
     "output_type": "execute_result"
    }
   ],
   "source": [
    "scripts_path = string(main_path, \"/data-scripts/plots\")\n",
    "plt_dir = \"plots\"\n",
    "\n",
    "color_scale=\"viridis\"\n",
    "cal_formula=\"\"\n",
    "cal_var=\"\"\n",
    "col_var=\"cov_cat\"\n",
    "col_var_type=\"ordinal\"\n",
    "col_title=\"Covenant Category\"\n",
    "col_sort=\"ascending\"\n",
    "x_var=\"sbm:n\"\n",
    "x_var_type=\"nominal\"\n",
    "x_axis_title=\" \"\n",
    "width_step=18\n",
    "legend_title=\"Secondary Market\"\n",
    "spacing=4.5\n",
    "height=400\n",
    "save_plt= false\n",
    "plt_type = \"cov_cat\"\n",
    "file_ext=\"png\"\n",
    "# }}}\n",
    "pl = [ ]\n",
    "\n",
    "# Issuers per Covenant Category {{{1\n",
    "stats_var=:issuers\n",
    "tt = PlotMod.prepare_cat_plot(scc; stat=stats_var)\n",
    "\n",
    "## Issuer Count\n",
    "y_var=\"value\"\n",
    "y_axis_title=\"Number of Issuers\"\n",
    "title=[string(\"Number of Issuers of Non-MTN-Bonds Traded per Covenant Category\")]\n",
    "if :period in Symbol.(names(tt))\n",
    "    title[end] = string(title[end], \" - \", tt[1, :period])\n",
    "end\n",
    "\n",
    "include(string(scripts_path, \"/\", \"single_vega_plt_script.jl\"))"
   ]
  },
  {
   "cell_type": "code",
   "execution_count": null,
   "metadata": {},
   "outputs": [],
   "source": []
  },
  {
   "cell_type": "code",
   "execution_count": null,
   "metadata": {},
   "outputs": [],
   "source": []
  },
  {
   "cell_type": "code",
   "execution_count": null,
   "metadata": {},
   "outputs": [],
   "source": []
  },
  {
   "cell_type": "code",
   "execution_count": 53,
   "metadata": {},
   "outputs": [],
   "source": [
    "using VegaLite"
   ]
  },
  {
   "cell_type": "code",
   "execution_count": null,
   "metadata": {},
   "outputs": [],
   "source": []
  },
  {
   "cell_type": "code",
   "execution_count": 44,
   "metadata": {},
   "outputs": [
    {
     "data": {
      "text/plain": [
       "0.7"
      ]
     },
     "execution_count": 44,
     "metadata": {},
     "output_type": "execute_result"
    }
   ],
   "source": [
    "domainWidth=3\n",
    "opacity=.7"
   ]
  },
  {
   "cell_type": "code",
   "execution_count": 54,
   "metadata": {},
   "outputs": [
    {
     "data": {
      "application/vnd.vegalite.v3+json": {
       "config": {
        "axis": {
         "domainWidth": 3
        },
        "opacity": {
         "value": 0.7
        },
        "view": {
         "stroke": "transparent"
        }
       },
       "data": {
        "values": [
         {
          "cov_cat": 1,
          "cvt": "any",
          "perc_sbm_total": 13.618290258449303,
          "perc_total": 13.618290258449303,
          "period": "2019Q2",
          "rt": "any",
          "sbm": "otc",
          "value": 274,
          "variable": "cg1_issuers"
         },
         {
          "cov_cat": 1,
          "cvt": "any",
          "perc_sbm_total": 14.240170031880977,
          "perc_total": 13.320079522862823,
          "period": "2019Q2",
          "rt": "any",
          "sbm": "ats",
          "value": 268,
          "variable": "cg1_issuers"
         },
         {
          "cov_cat": 2,
          "cvt": "any",
          "perc_sbm_total": 77.5844930417495,
          "perc_total": 77.5844930417495,
          "period": "2019Q2",
          "rt": "any",
          "sbm": "otc",
          "value": 1561,
          "variable": "cg2_issuers"
         },
         {
          "cov_cat": 2,
          "cvt": "any",
          "perc_sbm_total": 80.97768331562168,
          "perc_total": 75.7455268389662,
          "period": "2019Q2",
          "rt": "any",
          "sbm": "ats",
          "value": 1524,
          "variable": "cg2_issuers"
         },
         {
          "cov_cat": 3,
          "cvt": "any",
          "perc_sbm_total": 1.0934393638170974,
          "perc_total": 1.0934393638170974,
          "period": "2019Q2",
          "rt": "any",
          "sbm": "otc",
          "value": 22,
          "variable": "cg3_issuers"
         },
         {
          "cov_cat": 3,
          "cvt": "any",
          "perc_sbm_total": 1.1689691817215728,
          "perc_total": 1.0934393638170974,
          "period": "2019Q2",
          "rt": "any",
          "sbm": "ats",
          "value": 22,
          "variable": "cg3_issuers"
         },
         {
          "cov_cat": 4,
          "cvt": "any",
          "perc_sbm_total": 1.9880715705765408,
          "perc_total": 1.9880715705765408,
          "period": "2019Q2",
          "rt": "any",
          "sbm": "otc",
          "value": 40,
          "variable": "cg4_issuers"
         },
         {
          "cov_cat": 4,
          "cvt": "any",
          "perc_sbm_total": 2.0722635494155153,
          "perc_total": 1.9383697813121274,
          "period": "2019Q2",
          "rt": "any",
          "sbm": "ats",
          "value": 39,
          "variable": "cg4_issuers"
         },
         {
          "cov_cat": 5,
          "cvt": "any",
          "perc_sbm_total": 0.34791252485089463,
          "perc_total": 0.34791252485089463,
          "period": "2019Q2",
          "rt": "any",
          "sbm": "otc",
          "value": 7,
          "variable": "cg5_issuers"
         },
         {
          "cov_cat": 5,
          "cvt": "any",
          "perc_sbm_total": 0.3188097768331562,
          "perc_total": 0.2982107355864811,
          "period": "2019Q2",
          "rt": "any",
          "sbm": "ats",
          "value": 6,
          "variable": "cg5_issuers"
         },
         {
          "cov_cat": 6,
          "cvt": "any",
          "perc_sbm_total": 64.86083499005964,
          "perc_total": 64.86083499005964,
          "period": "2019Q2",
          "rt": "any",
          "sbm": "otc",
          "value": 1305,
          "variable": "cg6_issuers"
         },
         {
          "cov_cat": 6,
          "cvt": "any",
          "perc_sbm_total": 67.7470775770457,
          "perc_total": 63.36978131212724,
          "period": "2019Q2",
          "rt": "any",
          "sbm": "ats",
          "value": 1275,
          "variable": "cg6_issuers"
         },
         {
          "cov_cat": 7,
          "cvt": "any",
          "perc_sbm_total": 96.27236580516899,
          "perc_total": 96.27236580516899,
          "period": "2019Q2",
          "rt": "any",
          "sbm": "otc",
          "value": 1937,
          "variable": "cg7_issuers"
         },
         {
          "cov_cat": 7,
          "cvt": "any",
          "perc_sbm_total": 96.86503719447397,
          "perc_total": 90.60636182902584,
          "period": "2019Q2",
          "rt": "any",
          "sbm": "ats",
          "value": 1823,
          "variable": "cg7_issuers"
         },
         {
          "cov_cat": 8,
          "cvt": "any",
          "perc_sbm_total": 38.618290258449306,
          "perc_total": 38.618290258449306,
          "period": "2019Q2",
          "rt": "any",
          "sbm": "otc",
          "value": 777,
          "variable": "cg8_issuers"
         },
         {
          "cov_cat": 8,
          "cvt": "any",
          "perc_sbm_total": 40.75451647183847,
          "perc_total": 38.12127236580517,
          "period": "2019Q2",
          "rt": "any",
          "sbm": "ats",
          "value": 767,
          "variable": "cg8_issuers"
         },
         {
          "cov_cat": 9,
          "cvt": "any",
          "perc_sbm_total": 10.288270377733598,
          "perc_total": 10.288270377733598,
          "period": "2019Q2",
          "rt": "any",
          "sbm": "otc",
          "value": 207,
          "variable": "cg9_issuers"
         },
         {
          "cov_cat": 9,
          "cvt": "any",
          "perc_sbm_total": 10.892667375132838,
          "perc_total": 10.18886679920477,
          "period": "2019Q2",
          "rt": "any",
          "sbm": "ats",
          "value": 205,
          "variable": "cg9_issuers"
         },
         {
          "cov_cat": 10,
          "cvt": "any",
          "perc_sbm_total": 2.584493041749503,
          "perc_total": 2.584493041749503,
          "period": "2019Q2",
          "rt": "any",
          "sbm": "otc",
          "value": 52,
          "variable": "cg10_issuers"
         },
         {
          "cov_cat": 10,
          "cvt": "any",
          "perc_sbm_total": 2.709883103081828,
          "perc_total": 2.5347912524850895,
          "period": "2019Q2",
          "rt": "any",
          "sbm": "ats",
          "value": 51,
          "variable": "cg10_issuers"
         },
         {
          "cov_cat": 11,
          "cvt": "any",
          "perc_sbm_total": 85.48707753479125,
          "perc_total": 85.48707753479125,
          "period": "2019Q2",
          "rt": "any",
          "sbm": "otc",
          "value": 1720,
          "variable": "cg11_issuers"
         },
         {
          "cov_cat": 11,
          "cvt": "any",
          "perc_sbm_total": 86.3443145589798,
          "perc_total": 80.76540755467197,
          "period": "2019Q2",
          "rt": "any",
          "sbm": "ats",
          "value": 1625,
          "variable": "cg11_issuers"
         },
         {
          "cov_cat": 12,
          "cvt": "any",
          "perc_sbm_total": 51.93836978131213,
          "perc_total": 51.93836978131213,
          "period": "2019Q2",
          "rt": "any",
          "sbm": "otc",
          "value": 1045,
          "variable": "cg12_issuers"
         },
         {
          "cov_cat": 12,
          "cvt": "any",
          "perc_sbm_total": 52.33793836344315,
          "perc_total": 48.95626242544731,
          "period": "2019Q2",
          "rt": "any",
          "sbm": "ats",
          "value": 985,
          "variable": "cg12_issuers"
         },
         {
          "cov_cat": 13,
          "cvt": "any",
          "perc_sbm_total": 86.28230616302187,
          "perc_total": 86.28230616302187,
          "period": "2019Q2",
          "rt": "any",
          "sbm": "otc",
          "value": 1736,
          "variable": "cg13_issuers"
         },
         {
          "cov_cat": 13,
          "cvt": "any",
          "perc_sbm_total": 87.61955366631243,
          "perc_total": 81.95825049701789,
          "period": "2019Q2",
          "rt": "any",
          "sbm": "ats",
          "value": 1649,
          "variable": "cg13_issuers"
         },
         {
          "cov_cat": 14,
          "cvt": "any",
          "perc_sbm_total": 15.656063618290258,
          "perc_total": 15.656063618290258,
          "period": "2019Q2",
          "rt": "any",
          "sbm": "otc",
          "value": 315,
          "variable": "cg14_issuers"
         },
         {
          "cov_cat": 14,
          "cvt": "any",
          "perc_sbm_total": 16.312433581296492,
          "perc_total": 15.25844930417495,
          "period": "2019Q2",
          "rt": "any",
          "sbm": "ats",
          "value": 307,
          "variable": "cg14_issuers"
         },
         {
          "cov_cat": 15,
          "cvt": "any",
          "perc_sbm_total": 85.6361829025845,
          "perc_total": 85.6361829025845,
          "period": "2019Q2",
          "rt": "any",
          "sbm": "otc",
          "value": 1723,
          "variable": "cg15_issuers"
         },
         {
          "cov_cat": 15,
          "cvt": "any",
          "perc_sbm_total": 86.9287991498406,
          "perc_total": 81.31212723658051,
          "period": "2019Q2",
          "rt": "any",
          "sbm": "ats",
          "value": 1636,
          "variable": "cg15_issuers"
         }
        ]
       },
       "encoding": {
        "color": {
         "field": "sbm",
         "legend": {
          "title": "Secondary Market"
         },
         "scale": {
          "scheme": "viridis"
         },
         "type": "nominal"
        },
        "column": {
         "field": "cov_cat",
         "sort": "ascending",
         "title": "Covenant Category",
         "type": "ordinal"
        },
        "row": {
         "field": "sum_num_cov",
         "header": {
          "title": "Number of Covenant Categories per Bond"
         },
         "type": "ordinal"
        },
        "x": {
         "axis": {
          "title": " "
         },
         "field": "sbm",
         "type": "nominal"
        },
        "y": {
         "axis": {
          "grid": false,
          "stack": null,
          "title": "Number of Issuers"
         },
         "field": "value",
         "type": "quantitative"
        }
       },
       "height": 400,
       "mark": "bar",
       "width": {
        "step": 18
       }
      },
      "image/png": "[encoded data removed]",
      "image/svg+xml": [
       "<svg class=\"marks\" width=\"554\" height=\"501\" viewBox=\"0 0 554 501\" version=\"1.1\" xmlns=\"http://www.w3.org/2000/svg\" xmlns:xlink=\"http://www.w3.org/1999/xlink\"><g transform=\"translate(107,57)\"><g class=\"mark-group role-frame root\"><g transform=\"translate(0,0)\"><path class=\"background\" d=\"M0,0h0v0h0Z\" style=\"fill: none;\"></path><g><g class=\"mark-group role-row-title row-title\"><g transform=\"translate(-80,200)\"><path class=\"background\" d=\"M0,0h0v0h0Z\" style=\"fill: none;\"></path><g><g class=\"mark-group role-title\"><g transform=\"translate(-21.000000000000014,0)\"><path class=\"background\" d=\"M0,0h0v0h0Z\" style=\"pointer-events: none; fill: none;\"></path><g><g class=\"mark-text role-title-text\" style=\"pointer-events: none;\"><text text-anchor=\"middle\" transform=\"translate(0,0) rotate(-90) translate(0,9)\" style=\"font-family: sans-serif; font-size: 11px; font-weight: bold; fill: #000; opacity: 1;\">Number of Covenant Categories per Bond</text></g></g></g></g></g></g></g><g class=\"mark-group role-column-title column-title\"><g transform=\"translate(154,-31)\"><path class=\"background\" d=\"M0,0h0v0h0Z\" style=\"fill: none;\"></path><g><g class=\"mark-group role-title\"><g transform=\"translate(0,-21)\"><path class=\"background\" d=\"M0,0h0v0h0Z\" style=\"pointer-events: none; fill: none;\"></path><g><g class=\"mark-text role-title-text\" style=\"pointer-events: none;\"><text text-anchor=\"middle\" transform=\"translate(0,9)\" style=\"font-family: sans-serif; font-size: 11px; font-weight: bold; fill: #000; opacity: 1;\">Covenant Category</text></g></g></g></g></g></g></g><g class=\"mark-group role-row-header row_header\"><g transform=\"translate(-1,0)\"><path class=\"background\" d=\"M0,0h0v400h0Z\" style=\"fill: none;\"></path><g><g class=\"mark-group role-title\"><g transform=\"translate(-69,200)\"><path class=\"background\" d=\"M0,0h0v0h0Z\" style=\"pointer-events: none; fill: none;\"></path><g><g class=\"mark-text role-title-text\" style=\"pointer-events: none;\"><text text-anchor=\"middle\" transform=\"translate(0,0) rotate(-90) translate(0,8)\" style=\"font-family: sans-serif; font-size: 10px; fill: #000; opacity: 1;\">undefined</text></g></g></g></g><g class=\"mark-group role-axis\"><g transform=\"translate(0.5,0.5)\"><path class=\"background\" d=\"M0,0h0v0h0Z\" style=\"pointer-events: none; fill: none;\"></path><g><g class=\"mark-rule role-axis-tick\" style=\"pointer-events: none;\"><line transform=\"translate(0,400)\" x2=\"-5\" y2=\"0\" style=\"fill: none; stroke: #888; stroke-width: 1; opacity: 1;\"></line><line transform=\"translate(0,360)\" x2=\"-5\" y2=\"0\" style=\"fill: none; stroke: #888; stroke-width: 1; opacity: 1;\"></line><line transform=\"translate(0,320)\" x2=\"-5\" y2=\"0\" style=\"fill: none; stroke: #888; stroke-width: 1; opacity: 1;\"></line><line transform=\"translate(0,280)\" x2=\"-5\" y2=\"0\" style=\"fill: none; stroke: #888; stroke-width: 1; opacity: 1;\"></line><line transform=\"translate(0,240)\" x2=\"-5\" y2=\"0\" style=\"fill: none; stroke: #888; stroke-width: 1; opacity: 1;\"></line><line transform=\"translate(0,200)\" x2=\"-5\" y2=\"0\" style=\"fill: none; stroke: #888; stroke-width: 1; opacity: 1;\"></line><line transform=\"translate(0,160)\" x2=\"-5\" y2=\"0\" style=\"fill: none; stroke: #888; stroke-width: 1; opacity: 1;\"></line><line transform=\"translate(0,120)\" x2=\"-5\" y2=\"0\" style=\"fill: none; stroke: #888; stroke-width: 1; opacity: 1;\"></line><line transform=\"translate(0,80)\" x2=\"-5\" y2=\"0\" style=\"fill: none; stroke: #888; stroke-width: 1; opacity: 1;\"></line><line transform=\"translate(0,40)\" x2=\"-5\" y2=\"0\" style=\"fill: none; stroke: #888; stroke-width: 1; opacity: 1;\"></line><line transform=\"translate(0,0)\" x2=\"-5\" y2=\"0\" style=\"fill: none; stroke: #888; stroke-width: 1; opacity: 1;\"></line></g><g class=\"mark-text role-axis-label\" style=\"pointer-events: none;\"><text text-anchor=\"end\" transform=\"translate(-7,403)\" style=\"font-family: sans-serif; font-size: 10px; fill: #000; opacity: 1;\">0</text><text text-anchor=\"end\" transform=\"translate(-7,363)\" style=\"font-family: sans-serif; font-size: 10px; fill: #000; opacity: 1;\">200</text><text text-anchor=\"end\" transform=\"translate(-7,323)\" style=\"font-family: sans-serif; font-size: 10px; fill: #000; opacity: 1;\">400</text><text text-anchor=\"end\" transform=\"translate(-7,283)\" style=\"font-family: sans-serif; font-size: 10px; fill: #000; opacity: 1;\">600</text><text text-anchor=\"end\" transform=\"translate(-7,243)\" style=\"font-family: sans-serif; font-size: 10px; fill: #000; opacity: 1;\">800</text><text text-anchor=\"end\" transform=\"translate(-7,203)\" style=\"font-family: sans-serif; font-size: 10px; fill: #000; opacity: 1;\">1,000</text><text text-anchor=\"end\" transform=\"translate(-7,163)\" style=\"font-family: sans-serif; font-size: 10px; fill: #000; opacity: 1;\">1,200</text><text text-anchor=\"end\" transform=\"translate(-7,123.00000000000001)\" style=\"font-family: sans-serif; font-size: 10px; fill: #000; opacity: 1;\">1,400</text><text text-anchor=\"end\" transform=\"translate(-7,82.99999999999999)\" style=\"font-family: sans-serif; font-size: 10px; fill: #000; opacity: 1;\">1,600</text><text text-anchor=\"end\" transform=\"translate(-7,42.99999999999999)\" style=\"font-family: sans-serif; font-size: 10px; fill: #000; opacity: 1;\">1,800</text><text text-anchor=\"end\" transform=\"translate(-7,3)\" style=\"font-family: sans-serif; font-size: 10px; fill: #000; opacity: 1;\">2,000</text></g><g class=\"mark-rule role-axis-domain\" style=\"pointer-events: none;\"><line transform=\"translate(0,400)\" x2=\"0\" y2=\"-400\" style=\"fill: none; stroke: #888; stroke-width: 3; opacity: 1;\"></line></g><g class=\"mark-text role-axis-title\" style=\"pointer-events: none;\"><text text-anchor=\"middle\" transform=\"translate(-38,200) rotate(-90) translate(0,-2)\" style=\"font-family: sans-serif; font-size: 11px; font-weight: bold; fill: #000; opacity: 1;\">Number of Issuers</text></g></g></g></g></g></g></g><g class=\"mark-group role-column-header column_header\"><g transform=\"translate(0,-1)\"><path class=\"background\" d=\"MNaN,0LNaN,0CNaN,0,NaN,NaN,NaN,NaNLNaN,NaNCNaN,NaN,NaN,0,NaN,0LNaN,0CNaN,0,0,NaN,0,NaNL0,NaNC0,NaN,NaN,0,NaN,0Z\" style=\"fill: none;\"></path><g><g class=\"mark-group role-title\"><g transform=\"translate(0,-20)\"><path class=\"background\" d=\"M0,0h0v0h0Z\" style=\"pointer-events: none; fill: none;\"></path><g><g class=\"mark-text role-title-text\" style=\"pointer-events: none;\"><text text-anchor=\"middle\" transform=\"translate(0,8)\" style=\"font-family: sans-serif; font-size: 10px; fill: #000; opacity: 1;\">1</text></g></g></g></g></g></g><g transform=\"translate(22,-1)\"><path class=\"background\" d=\"MNaN,0LNaN,0CNaN,0,NaN,NaN,NaN,NaNLNaN,NaNCNaN,NaN,NaN,0,NaN,0LNaN,0CNaN,0,0,NaN,0,NaNL0,NaNC0,NaN,NaN,0,NaN,0Z\" style=\"fill: none;\"></path><g><g class=\"mark-group role-title\"><g transform=\"translate(0,-20)\"><path class=\"background\" d=\"M0,0h0v0h0Z\" style=\"pointer-events: none; fill: none;\"></path><g><g class=\"mark-text role-title-text\" style=\"pointer-events: none;\"><text text-anchor=\"middle\" transform=\"translate(0,8)\" style=\"font-family: sans-serif; font-size: 10px; fill: #000; opacity: 1;\">2</text></g></g></g></g></g></g><g transform=\"translate(44,-1)\"><path class=\"background\" d=\"MNaN,0LNaN,0CNaN,0,NaN,NaN,NaN,NaNLNaN,NaNCNaN,NaN,NaN,0,NaN,0LNaN,0CNaN,0,0,NaN,0,NaNL0,NaNC0,NaN,NaN,0,NaN,0Z\" style=\"fill: none;\"></path><g><g class=\"mark-group role-title\"><g transform=\"translate(0,-20)\"><path class=\"background\" d=\"M0,0h0v0h0Z\" style=\"pointer-events: none; fill: none;\"></path><g><g class=\"mark-text role-title-text\" style=\"pointer-events: none;\"><text text-anchor=\"middle\" transform=\"translate(0,8)\" style=\"font-family: sans-serif; font-size: 10px; fill: #000; opacity: 1;\">3</text></g></g></g></g></g></g><g transform=\"translate(66,-1)\"><path class=\"background\" d=\"MNaN,0LNaN,0CNaN,0,NaN,NaN,NaN,NaNLNaN,NaNCNaN,NaN,NaN,0,NaN,0LNaN,0CNaN,0,0,NaN,0,NaNL0,NaNC0,NaN,NaN,0,NaN,0Z\" style=\"fill: none;\"></path><g><g class=\"mark-group role-title\"><g transform=\"translate(0,-20)\"><path class=\"background\" d=\"M0,0h0v0h0Z\" style=\"pointer-events: none; fill: none;\"></path><g><g class=\"mark-text role-title-text\" style=\"pointer-events: none;\"><text text-anchor=\"middle\" transform=\"translate(0,8)\" style=\"font-family: sans-serif; font-size: 10px; fill: #000; opacity: 1;\">4</text></g></g></g></g></g></g><g transform=\"translate(88,-1)\"><path class=\"background\" d=\"MNaN,0LNaN,0CNaN,0,NaN,NaN,NaN,NaNLNaN,NaNCNaN,NaN,NaN,0,NaN,0LNaN,0CNaN,0,0,NaN,0,NaNL0,NaNC0,NaN,NaN,0,NaN,0Z\" style=\"fill: none;\"></path><g><g class=\"mark-group role-title\"><g transform=\"translate(0,-20)\"><path class=\"background\" d=\"M0,0h0v0h0Z\" style=\"pointer-events: none; fill: none;\"></path><g><g class=\"mark-text role-title-text\" style=\"pointer-events: none;\"><text text-anchor=\"middle\" transform=\"translate(0,8)\" style=\"font-family: sans-serif; font-size: 10px; fill: #000; opacity: 1;\">5</text></g></g></g></g></g></g><g transform=\"translate(110,-1)\"><path class=\"background\" d=\"MNaN,0LNaN,0CNaN,0,NaN,NaN,NaN,NaNLNaN,NaNCNaN,NaN,NaN,0,NaN,0LNaN,0CNaN,0,0,NaN,0,NaNL0,NaNC0,NaN,NaN,0,NaN,0Z\" style=\"fill: none;\"></path><g><g class=\"mark-group role-title\"><g transform=\"translate(0,-20)\"><path class=\"background\" d=\"M0,0h0v0h0Z\" style=\"pointer-events: none; fill: none;\"></path><g><g class=\"mark-text role-title-text\" style=\"pointer-events: none;\"><text text-anchor=\"middle\" transform=\"translate(0,8)\" style=\"font-family: sans-serif; font-size: 10px; fill: #000; opacity: 1;\">6</text></g></g></g></g></g></g><g transform=\"translate(132,-1)\"><path class=\"background\" d=\"MNaN,0LNaN,0CNaN,0,NaN,NaN,NaN,NaNLNaN,NaNCNaN,NaN,NaN,0,NaN,0LNaN,0CNaN,0,0,NaN,0,NaNL0,NaNC0,NaN,NaN,0,NaN,0Z\" style=\"fill: none;\"></path><g><g class=\"mark-group role-title\"><g transform=\"translate(0,-20)\"><path class=\"background\" d=\"M0,0h0v0h0Z\" style=\"pointer-events: none; fill: none;\"></path><g><g class=\"mark-text role-title-text\" style=\"pointer-events: none;\"><text text-anchor=\"middle\" transform=\"translate(0,8)\" style=\"font-family: sans-serif; font-size: 10px; fill: #000; opacity: 1;\">7</text></g></g></g></g></g></g><g transform=\"translate(154,-1)\"><path class=\"background\" d=\"MNaN,0LNaN,0CNaN,0,NaN,NaN,NaN,NaNLNaN,NaNCNaN,NaN,NaN,0,NaN,0LNaN,0CNaN,0,0,NaN,0,NaNL0,NaNC0,NaN,NaN,0,NaN,0Z\" style=\"fill: none;\"></path><g><g class=\"mark-group role-title\"><g transform=\"translate(0,-20)\"><path class=\"background\" d=\"M0,0h0v0h0Z\" style=\"pointer-events: none; fill: none;\"></path><g><g class=\"mark-text role-title-text\" style=\"pointer-events: none;\"><text text-anchor=\"middle\" transform=\"translate(0,8)\" style=\"font-family: sans-serif; font-size: 10px; fill: #000; opacity: 1;\">8</text></g></g></g></g></g></g><g transform=\"translate(176,-1)\"><path class=\"background\" d=\"MNaN,0LNaN,0CNaN,0,NaN,NaN,NaN,NaNLNaN,NaNCNaN,NaN,NaN,0,NaN,0LNaN,0CNaN,0,0,NaN,0,NaNL0,NaNC0,NaN,NaN,0,NaN,0Z\" style=\"fill: none;\"></path><g><g class=\"mark-group role-title\"><g transform=\"translate(0,-20)\"><path class=\"background\" d=\"M0,0h0v0h0Z\" style=\"pointer-events: none; fill: none;\"></path><g><g class=\"mark-text role-title-text\" style=\"pointer-events: none;\"><text text-anchor=\"middle\" transform=\"translate(0,8)\" style=\"font-family: sans-serif; font-size: 10px; fill: #000; opacity: 1;\">9</text></g></g></g></g></g></g><g transform=\"translate(198,-1)\"><path class=\"background\" d=\"MNaN,0LNaN,0CNaN,0,NaN,NaN,NaN,NaNLNaN,NaNCNaN,NaN,NaN,0,NaN,0LNaN,0CNaN,0,0,NaN,0,NaNL0,NaNC0,NaN,NaN,0,NaN,0Z\" style=\"fill: none;\"></path><g><g class=\"mark-group role-title\"><g transform=\"translate(0,-20)\"><path class=\"background\" d=\"M0,0h0v0h0Z\" style=\"pointer-events: none; fill: none;\"></path><g><g class=\"mark-text role-title-text\" style=\"pointer-events: none;\"><text text-anchor=\"middle\" transform=\"translate(0,8)\" style=\"font-family: sans-serif; font-size: 10px; fill: #000; opacity: 1;\">10</text></g></g></g></g></g></g><g transform=\"translate(220,-1)\"><path class=\"background\" d=\"MNaN,0LNaN,0CNaN,0,NaN,NaN,NaN,NaNLNaN,NaNCNaN,NaN,NaN,0,NaN,0LNaN,0CNaN,0,0,NaN,0,NaNL0,NaNC0,NaN,NaN,0,NaN,0Z\" style=\"fill: none;\"></path><g><g class=\"mark-group role-title\"><g transform=\"translate(0,-20)\"><path class=\"background\" d=\"M0,0h0v0h0Z\" style=\"pointer-events: none; fill: none;\"></path><g><g class=\"mark-text role-title-text\" style=\"pointer-events: none;\"><text text-anchor=\"middle\" transform=\"translate(0,8)\" style=\"font-family: sans-serif; font-size: 10px; fill: #000; opacity: 1;\">11</text></g></g></g></g></g></g><g transform=\"translate(242,-1)\"><path class=\"background\" d=\"MNaN,0LNaN,0CNaN,0,NaN,NaN,NaN,NaNLNaN,NaNCNaN,NaN,NaN,0,NaN,0LNaN,0CNaN,0,0,NaN,0,NaNL0,NaNC0,NaN,NaN,0,NaN,0Z\" style=\"fill: none;\"></path><g><g class=\"mark-group role-title\"><g transform=\"translate(0,-20)\"><path class=\"background\" d=\"M0,0h0v0h0Z\" style=\"pointer-events: none; fill: none;\"></path><g><g class=\"mark-text role-title-text\" style=\"pointer-events: none;\"><text text-anchor=\"middle\" transform=\"translate(0,8)\" style=\"font-family: sans-serif; font-size: 10px; fill: #000; opacity: 1;\">12</text></g></g></g></g></g></g><g transform=\"translate(264,-1)\"><path class=\"background\" d=\"MNaN,0LNaN,0CNaN,0,NaN,NaN,NaN,NaNLNaN,NaNCNaN,NaN,NaN,0,NaN,0LNaN,0CNaN,0,0,NaN,0,NaNL0,NaNC0,NaN,NaN,0,NaN,0Z\" style=\"fill: none;\"></path><g><g class=\"mark-group role-title\"><g transform=\"translate(0,-20)\"><path class=\"background\" d=\"M0,0h0v0h0Z\" style=\"pointer-events: none; fill: none;\"></path><g><g class=\"mark-text role-title-text\" style=\"pointer-events: none;\"><text text-anchor=\"middle\" transform=\"translate(0,8)\" style=\"font-family: sans-serif; font-size: 10px; fill: #000; opacity: 1;\">13</text></g></g></g></g></g></g><g transform=\"translate(286,-1)\"><path class=\"background\" d=\"MNaN,0LNaN,0CNaN,0,NaN,NaN,NaN,NaNLNaN,NaNCNaN,NaN,NaN,0,NaN,0LNaN,0CNaN,0,0,NaN,0,NaNL0,NaNC0,NaN,NaN,0,NaN,0Z\" style=\"fill: none;\"></path><g><g class=\"mark-group role-title\"><g transform=\"translate(0,-20)\"><path class=\"background\" d=\"M0,0h0v0h0Z\" style=\"pointer-events: none; fill: none;\"></path><g><g class=\"mark-text role-title-text\" style=\"pointer-events: none;\"><text text-anchor=\"middle\" transform=\"translate(0,8)\" style=\"font-family: sans-serif; font-size: 10px; fill: #000; opacity: 1;\">14</text></g></g></g></g></g></g><g transform=\"translate(308,-1)\"><path class=\"background\" d=\"MNaN,0LNaN,0CNaN,0,NaN,NaN,NaN,NaNLNaN,NaNCNaN,NaN,NaN,0,NaN,0LNaN,0CNaN,0,0,NaN,0,NaNL0,NaNC0,NaN,NaN,0,NaN,0Z\" style=\"fill: none;\"></path><g><g class=\"mark-group role-title\"><g transform=\"translate(0,-20)\"><path class=\"background\" d=\"M0,0h0v0h0Z\" style=\"pointer-events: none; fill: none;\"></path><g><g class=\"mark-text role-title-text\" style=\"pointer-events: none;\"><text text-anchor=\"middle\" transform=\"translate(0,8)\" style=\"font-family: sans-serif; font-size: 10px; fill: #000; opacity: 1;\">15</text></g></g></g></g></g></g></g><g class=\"mark-group role-column-footer column_footer\"><g transform=\"translate(0,401)\"><path class=\"background\" d=\"MNaN,0LNaN,0CNaN,0,NaN,NaN,NaN,NaNLNaN,NaNCNaN,NaN,NaN,0,NaN,0LNaN,0CNaN,0,0,NaN,0,NaNL0,NaNC0,NaN,NaN,0,NaN,0Z\" style=\"fill: none;\"></path><g><g class=\"mark-group role-axis\"><g transform=\"translate(0.5,0.5)\"><path class=\"background\" d=\"M0,0h0v0h0Z\" style=\"pointer-events: none; fill: none;\"></path><g><g class=\"mark-rule role-axis-tick\" style=\"pointer-events: none;\"><line transform=\"translate(0,0)\" x2=\"0\" y2=\"5\" style=\"fill: none; stroke: #888; stroke-width: 1; opacity: 1;\"></line><line transform=\"translate(0,0)\" x2=\"0\" y2=\"5\" style=\"fill: none; stroke: #888; stroke-width: 1; opacity: 1;\"></line></g><g class=\"mark-text role-axis-label\" style=\"pointer-events: none;\"><text text-anchor=\"end\" transform=\"translate(0,7) rotate(270) translate(0,3)\" style=\"font-family: sans-serif; font-size: 10px; fill: #000; opacity: 1;\">ats</text><text text-anchor=\"end\" transform=\"translate(0,7) rotate(270) translate(0,3)\" style=\"font-family: sans-serif; font-size: 10px; fill: #000; opacity: 1;\">otc</text></g><g class=\"mark-rule role-axis-domain\" style=\"pointer-events: none;\"><line transform=\"translate(0,0)\" x2=\"NaN\" y2=\"0\" style=\"fill: none; stroke: #888; stroke-width: 3; opacity: 1;\"></line></g><g class=\"mark-text role-axis-title\" style=\"pointer-events: none;\"><text text-anchor=\"middle\" transform=\"translate(0,36)\" style=\"font-family: sans-serif; font-size: 11px; font-weight: bold; fill: #000; opacity: 1;\"> </text></g></g></g></g></g></g><g transform=\"translate(22,401)\"><path class=\"background\" d=\"MNaN,0LNaN,0CNaN,0,NaN,NaN,NaN,NaNLNaN,NaNCNaN,NaN,NaN,0,NaN,0LNaN,0CNaN,0,0,NaN,0,NaNL0,NaNC0,NaN,NaN,0,NaN,0Z\" style=\"fill: none;\"></path><g><g class=\"mark-group role-axis\"><g transform=\"translate(0.5,0.5)\"><path class=\"background\" d=\"M0,0h0v0h0Z\" style=\"pointer-events: none; fill: none;\"></path><g><g class=\"mark-rule role-axis-tick\" style=\"pointer-events: none;\"><line transform=\"translate(0,0)\" x2=\"0\" y2=\"5\" style=\"fill: none; stroke: #888; stroke-width: 1; opacity: 1;\"></line><line transform=\"translate(0,0)\" x2=\"0\" y2=\"5\" style=\"fill: none; stroke: #888; stroke-width: 1; opacity: 1;\"></line></g><g class=\"mark-text role-axis-label\" style=\"pointer-events: none;\"><text text-anchor=\"end\" transform=\"translate(0,7) rotate(270) translate(0,3)\" style=\"font-family: sans-serif; font-size: 10px; fill: #000; opacity: 1;\">ats</text><text text-anchor=\"end\" transform=\"translate(0,7) rotate(270) translate(0,3)\" style=\"font-family: sans-serif; font-size: 10px; fill: #000; opacity: 1;\">otc</text></g><g class=\"mark-rule role-axis-domain\" style=\"pointer-events: none;\"><line transform=\"translate(0,0)\" x2=\"NaN\" y2=\"0\" style=\"fill: none; stroke: #888; stroke-width: 3; opacity: 1;\"></line></g><g class=\"mark-text role-axis-title\" style=\"pointer-events: none;\"><text text-anchor=\"middle\" transform=\"translate(0,36)\" style=\"font-family: sans-serif; font-size: 11px; font-weight: bold; fill: #000; opacity: 1;\"> </text></g></g></g></g></g></g><g transform=\"translate(44,401)\"><path class=\"background\" d=\"MNaN,0LNaN,0CNaN,0,NaN,NaN,NaN,NaNLNaN,NaNCNaN,NaN,NaN,0,NaN,0LNaN,0CNaN,0,0,NaN,0,NaNL0,NaNC0,NaN,NaN,0,NaN,0Z\" style=\"fill: none;\"></path><g><g class=\"mark-group role-axis\"><g transform=\"translate(0.5,0.5)\"><path class=\"background\" d=\"M0,0h0v0h0Z\" style=\"pointer-events: none; fill: none;\"></path><g><g class=\"mark-rule role-axis-tick\" style=\"pointer-events: none;\"><line transform=\"translate(0,0)\" x2=\"0\" y2=\"5\" style=\"fill: none; stroke: #888; stroke-width: 1; opacity: 1;\"></line><line transform=\"translate(0,0)\" x2=\"0\" y2=\"5\" style=\"fill: none; stroke: #888; stroke-width: 1; opacity: 1;\"></line></g><g class=\"mark-text role-axis-label\" style=\"pointer-events: none;\"><text text-anchor=\"end\" transform=\"translate(0,7) rotate(270) translate(0,3)\" style=\"font-family: sans-serif; font-size: 10px; fill: #000; opacity: 1;\">ats</text><text text-anchor=\"end\" transform=\"translate(0,7) rotate(270) translate(0,3)\" style=\"font-family: sans-serif; font-size: 10px; fill: #000; opacity: 1;\">otc</text></g><g class=\"mark-rule role-axis-domain\" style=\"pointer-events: none;\"><line transform=\"translate(0,0)\" x2=\"NaN\" y2=\"0\" style=\"fill: none; stroke: #888; stroke-width: 3; opacity: 1;\"></line></g><g class=\"mark-text role-axis-title\" style=\"pointer-events: none;\"><text text-anchor=\"middle\" transform=\"translate(0,36)\" style=\"font-family: sans-serif; font-size: 11px; font-weight: bold; fill: #000; opacity: 1;\"> </text></g></g></g></g></g></g><g transform=\"translate(66,401)\"><path class=\"background\" d=\"MNaN,0LNaN,0CNaN,0,NaN,NaN,NaN,NaNLNaN,NaNCNaN,NaN,NaN,0,NaN,0LNaN,0CNaN,0,0,NaN,0,NaNL0,NaNC0,NaN,NaN,0,NaN,0Z\" style=\"fill: none;\"></path><g><g class=\"mark-group role-axis\"><g transform=\"translate(0.5,0.5)\"><path class=\"background\" d=\"M0,0h0v0h0Z\" style=\"pointer-events: none; fill: none;\"></path><g><g class=\"mark-rule role-axis-tick\" style=\"pointer-events: none;\"><line transform=\"translate(0,0)\" x2=\"0\" y2=\"5\" style=\"fill: none; stroke: #888; stroke-width: 1; opacity: 1;\"></line><line transform=\"translate(0,0)\" x2=\"0\" y2=\"5\" style=\"fill: none; stroke: #888; stroke-width: 1; opacity: 1;\"></line></g><g class=\"mark-text role-axis-label\" style=\"pointer-events: none;\"><text text-anchor=\"end\" transform=\"translate(0,7) rotate(270) translate(0,3)\" style=\"font-family: sans-serif; font-size: 10px; fill: #000; opacity: 1;\">ats</text><text text-anchor=\"end\" transform=\"translate(0,7) rotate(270) translate(0,3)\" style=\"font-family: sans-serif; font-size: 10px; fill: #000; opacity: 1;\">otc</text></g><g class=\"mark-rule role-axis-domain\" style=\"pointer-events: none;\"><line transform=\"translate(0,0)\" x2=\"NaN\" y2=\"0\" style=\"fill: none; stroke: #888; stroke-width: 3; opacity: 1;\"></line></g><g class=\"mark-text role-axis-title\" style=\"pointer-events: none;\"><text text-anchor=\"middle\" transform=\"translate(0,36)\" style=\"font-family: sans-serif; font-size: 11px; font-weight: bold; fill: #000; opacity: 1;\"> </text></g></g></g></g></g></g><g transform=\"translate(88,401)\"><path class=\"background\" d=\"MNaN,0LNaN,0CNaN,0,NaN,NaN,NaN,NaNLNaN,NaNCNaN,NaN,NaN,0,NaN,0LNaN,0CNaN,0,0,NaN,0,NaNL0,NaNC0,NaN,NaN,0,NaN,0Z\" style=\"fill: none;\"></path><g><g class=\"mark-group role-axis\"><g transform=\"translate(0.5,0.5)\"><path class=\"background\" d=\"M0,0h0v0h0Z\" style=\"pointer-events: none; fill: none;\"></path><g><g class=\"mark-rule role-axis-tick\" style=\"pointer-events: none;\"><line transform=\"translate(0,0)\" x2=\"0\" y2=\"5\" style=\"fill: none; stroke: #888; stroke-width: 1; opacity: 1;\"></line><line transform=\"translate(0,0)\" x2=\"0\" y2=\"5\" style=\"fill: none; stroke: #888; stroke-width: 1; opacity: 1;\"></line></g><g class=\"mark-text role-axis-label\" style=\"pointer-events: none;\"><text text-anchor=\"end\" transform=\"translate(0,7) rotate(270) translate(0,3)\" style=\"font-family: sans-serif; font-size: 10px; fill: #000; opacity: 1;\">ats</text><text text-anchor=\"end\" transform=\"translate(0,7) rotate(270) translate(0,3)\" style=\"font-family: sans-serif; font-size: 10px; fill: #000; opacity: 1;\">otc</text></g><g class=\"mark-rule role-axis-domain\" style=\"pointer-events: none;\"><line transform=\"translate(0,0)\" x2=\"NaN\" y2=\"0\" style=\"fill: none; stroke: #888; stroke-width: 3; opacity: 1;\"></line></g><g class=\"mark-text role-axis-title\" style=\"pointer-events: none;\"><text text-anchor=\"middle\" transform=\"translate(0,36)\" style=\"font-family: sans-serif; font-size: 11px; font-weight: bold; fill: #000; opacity: 1;\"> </text></g></g></g></g></g></g><g transform=\"translate(110,401)\"><path class=\"background\" d=\"MNaN,0LNaN,0CNaN,0,NaN,NaN,NaN,NaNLNaN,NaNCNaN,NaN,NaN,0,NaN,0LNaN,0CNaN,0,0,NaN,0,NaNL0,NaNC0,NaN,NaN,0,NaN,0Z\" style=\"fill: none;\"></path><g><g class=\"mark-group role-axis\"><g transform=\"translate(0.5,0.5)\"><path class=\"background\" d=\"M0,0h0v0h0Z\" style=\"pointer-events: none; fill: none;\"></path><g><g class=\"mark-rule role-axis-tick\" style=\"pointer-events: none;\"><line transform=\"translate(0,0)\" x2=\"0\" y2=\"5\" style=\"fill: none; stroke: #888; stroke-width: 1; opacity: 1;\"></line><line transform=\"translate(0,0)\" x2=\"0\" y2=\"5\" style=\"fill: none; stroke: #888; stroke-width: 1; opacity: 1;\"></line></g><g class=\"mark-text role-axis-label\" style=\"pointer-events: none;\"><text text-anchor=\"end\" transform=\"translate(0,7) rotate(270) translate(0,3)\" style=\"font-family: sans-serif; font-size: 10px; fill: #000; opacity: 1;\">ats</text><text text-anchor=\"end\" transform=\"translate(0,7) rotate(270) translate(0,3)\" style=\"font-family: sans-serif; font-size: 10px; fill: #000; opacity: 1;\">otc</text></g><g class=\"mark-rule role-axis-domain\" style=\"pointer-events: none;\"><line transform=\"translate(0,0)\" x2=\"NaN\" y2=\"0\" style=\"fill: none; stroke: #888; stroke-width: 3; opacity: 1;\"></line></g><g class=\"mark-text role-axis-title\" style=\"pointer-events: none;\"><text text-anchor=\"middle\" transform=\"translate(0,36)\" style=\"font-family: sans-serif; font-size: 11px; font-weight: bold; fill: #000; opacity: 1;\"> </text></g></g></g></g></g></g><g transform=\"translate(132,401)\"><path class=\"background\" d=\"MNaN,0LNaN,0CNaN,0,NaN,NaN,NaN,NaNLNaN,NaNCNaN,NaN,NaN,0,NaN,0LNaN,0CNaN,0,0,NaN,0,NaNL0,NaNC0,NaN,NaN,0,NaN,0Z\" style=\"fill: none;\"></path><g><g class=\"mark-group role-axis\"><g transform=\"translate(0.5,0.5)\"><path class=\"background\" d=\"M0,0h0v0h0Z\" style=\"pointer-events: none; fill: none;\"></path><g><g class=\"mark-rule role-axis-tick\" style=\"pointer-events: none;\"><line transform=\"translate(0,0)\" x2=\"0\" y2=\"5\" style=\"fill: none; stroke: #888; stroke-width: 1; opacity: 1;\"></line><line transform=\"translate(0,0)\" x2=\"0\" y2=\"5\" style=\"fill: none; stroke: #888; stroke-width: 1; opacity: 1;\"></line></g><g class=\"mark-text role-axis-label\" style=\"pointer-events: none;\"><text text-anchor=\"end\" transform=\"translate(0,7) rotate(270) translate(0,3)\" style=\"font-family: sans-serif; font-size: 10px; fill: #000; opacity: 1;\">ats</text><text text-anchor=\"end\" transform=\"translate(0,7) rotate(270) translate(0,3)\" style=\"font-family: sans-serif; font-size: 10px; fill: #000; opacity: 1;\">otc</text></g><g class=\"mark-rule role-axis-domain\" style=\"pointer-events: none;\"><line transform=\"translate(0,0)\" x2=\"NaN\" y2=\"0\" style=\"fill: none; stroke: #888; stroke-width: 3; opacity: 1;\"></line></g><g class=\"mark-text role-axis-title\" style=\"pointer-events: none;\"><text text-anchor=\"middle\" transform=\"translate(0,36)\" style=\"font-family: sans-serif; font-size: 11px; font-weight: bold; fill: #000; opacity: 1;\"> </text></g></g></g></g></g></g><g transform=\"translate(154,401)\"><path class=\"background\" d=\"MNaN,0LNaN,0CNaN,0,NaN,NaN,NaN,NaNLNaN,NaNCNaN,NaN,NaN,0,NaN,0LNaN,0CNaN,0,0,NaN,0,NaNL0,NaNC0,NaN,NaN,0,NaN,0Z\" style=\"fill: none;\"></path><g><g class=\"mark-group role-axis\"><g transform=\"translate(0.5,0.5)\"><path class=\"background\" d=\"M0,0h0v0h0Z\" style=\"pointer-events: none; fill: none;\"></path><g><g class=\"mark-rule role-axis-tick\" style=\"pointer-events: none;\"><line transform=\"translate(0,0)\" x2=\"0\" y2=\"5\" style=\"fill: none; stroke: #888; stroke-width: 1; opacity: 1;\"></line><line transform=\"translate(0,0)\" x2=\"0\" y2=\"5\" style=\"fill: none; stroke: #888; stroke-width: 1; opacity: 1;\"></line></g><g class=\"mark-text role-axis-label\" style=\"pointer-events: none;\"><text text-anchor=\"end\" transform=\"translate(0,7) rotate(270) translate(0,3)\" style=\"font-family: sans-serif; font-size: 10px; fill: #000; opacity: 1;\">ats</text><text text-anchor=\"end\" transform=\"translate(0,7) rotate(270) translate(0,3)\" style=\"font-family: sans-serif; font-size: 10px; fill: #000; opacity: 1;\">otc</text></g><g class=\"mark-rule role-axis-domain\" style=\"pointer-events: none;\"><line transform=\"translate(0,0)\" x2=\"NaN\" y2=\"0\" style=\"fill: none; stroke: #888; stroke-width: 3; opacity: 1;\"></line></g><g class=\"mark-text role-axis-title\" style=\"pointer-events: none;\"><text text-anchor=\"middle\" transform=\"translate(0,36)\" style=\"font-family: sans-serif; font-size: 11px; font-weight: bold; fill: #000; opacity: 1;\"> </text></g></g></g></g></g></g><g transform=\"translate(176,401)\"><path class=\"background\" d=\"MNaN,0LNaN,0CNaN,0,NaN,NaN,NaN,NaNLNaN,NaNCNaN,NaN,NaN,0,NaN,0LNaN,0CNaN,0,0,NaN,0,NaNL0,NaNC0,NaN,NaN,0,NaN,0Z\" style=\"fill: none;\"></path><g><g class=\"mark-group role-axis\"><g transform=\"translate(0.5,0.5)\"><path class=\"background\" d=\"M0,0h0v0h0Z\" style=\"pointer-events: none; fill: none;\"></path><g><g class=\"mark-rule role-axis-tick\" style=\"pointer-events: none;\"><line transform=\"translate(0,0)\" x2=\"0\" y2=\"5\" style=\"fill: none; stroke: #888; stroke-width: 1; opacity: 1;\"></line><line transform=\"translate(0,0)\" x2=\"0\" y2=\"5\" style=\"fill: none; stroke: #888; stroke-width: 1; opacity: 1;\"></line></g><g class=\"mark-text role-axis-label\" style=\"pointer-events: none;\"><text text-anchor=\"end\" transform=\"translate(0,7) rotate(270) translate(0,3)\" style=\"font-family: sans-serif; font-size: 10px; fill: #000; opacity: 1;\">ats</text><text text-anchor=\"end\" transform=\"translate(0,7) rotate(270) translate(0,3)\" style=\"font-family: sans-serif; font-size: 10px; fill: #000; opacity: 1;\">otc</text></g><g class=\"mark-rule role-axis-domain\" style=\"pointer-events: none;\"><line transform=\"translate(0,0)\" x2=\"NaN\" y2=\"0\" style=\"fill: none; stroke: #888; stroke-width: 3; opacity: 1;\"></line></g><g class=\"mark-text role-axis-title\" style=\"pointer-events: none;\"><text text-anchor=\"middle\" transform=\"translate(0,36)\" style=\"font-family: sans-serif; font-size: 11px; font-weight: bold; fill: #000; opacity: 1;\"> </text></g></g></g></g></g></g><g transform=\"translate(198,401)\"><path class=\"background\" d=\"MNaN,0LNaN,0CNaN,0,NaN,NaN,NaN,NaNLNaN,NaNCNaN,NaN,NaN,0,NaN,0LNaN,0CNaN,0,0,NaN,0,NaNL0,NaNC0,NaN,NaN,0,NaN,0Z\" style=\"fill: none;\"></path><g><g class=\"mark-group role-axis\"><g transform=\"translate(0.5,0.5)\"><path class=\"background\" d=\"M0,0h0v0h0Z\" style=\"pointer-events: none; fill: none;\"></path><g><g class=\"mark-rule role-axis-tick\" style=\"pointer-events: none;\"><line transform=\"translate(0,0)\" x2=\"0\" y2=\"5\" style=\"fill: none; stroke: #888; stroke-width: 1; opacity: 1;\"></line><line transform=\"translate(0,0)\" x2=\"0\" y2=\"5\" style=\"fill: none; stroke: #888; stroke-width: 1; opacity: 1;\"></line></g><g class=\"mark-text role-axis-label\" style=\"pointer-events: none;\"><text text-anchor=\"end\" transform=\"translate(0,7) rotate(270) translate(0,3)\" style=\"font-family: sans-serif; font-size: 10px; fill: #000; opacity: 1;\">ats</text><text text-anchor=\"end\" transform=\"translate(0,7) rotate(270) translate(0,3)\" style=\"font-family: sans-serif; font-size: 10px; fill: #000; opacity: 1;\">otc</text></g><g class=\"mark-rule role-axis-domain\" style=\"pointer-events: none;\"><line transform=\"translate(0,0)\" x2=\"NaN\" y2=\"0\" style=\"fill: none; stroke: #888; stroke-width: 3; opacity: 1;\"></line></g><g class=\"mark-text role-axis-title\" style=\"pointer-events: none;\"><text text-anchor=\"middle\" transform=\"translate(0,36)\" style=\"font-family: sans-serif; font-size: 11px; font-weight: bold; fill: #000; opacity: 1;\"> </text></g></g></g></g></g></g><g transform=\"translate(220,401)\"><path class=\"background\" d=\"MNaN,0LNaN,0CNaN,0,NaN,NaN,NaN,NaNLNaN,NaNCNaN,NaN,NaN,0,NaN,0LNaN,0CNaN,0,0,NaN,0,NaNL0,NaNC0,NaN,NaN,0,NaN,0Z\" style=\"fill: none;\"></path><g><g class=\"mark-group role-axis\"><g transform=\"translate(0.5,0.5)\"><path class=\"background\" d=\"M0,0h0v0h0Z\" style=\"pointer-events: none; fill: none;\"></path><g><g class=\"mark-rule role-axis-tick\" style=\"pointer-events: none;\"><line transform=\"translate(0,0)\" x2=\"0\" y2=\"5\" style=\"fill: none; stroke: #888; stroke-width: 1; opacity: 1;\"></line><line transform=\"translate(0,0)\" x2=\"0\" y2=\"5\" style=\"fill: none; stroke: #888; stroke-width: 1; opacity: 1;\"></line></g><g class=\"mark-text role-axis-label\" style=\"pointer-events: none;\"><text text-anchor=\"end\" transform=\"translate(0,7) rotate(270) translate(0,3)\" style=\"font-family: sans-serif; font-size: 10px; fill: #000; opacity: 1;\">ats</text><text text-anchor=\"end\" transform=\"translate(0,7) rotate(270) translate(0,3)\" style=\"font-family: sans-serif; font-size: 10px; fill: #000; opacity: 1;\">otc</text></g><g class=\"mark-rule role-axis-domain\" style=\"pointer-events: none;\"><line transform=\"translate(0,0)\" x2=\"NaN\" y2=\"0\" style=\"fill: none; stroke: #888; stroke-width: 3; opacity: 1;\"></line></g><g class=\"mark-text role-axis-title\" style=\"pointer-events: none;\"><text text-anchor=\"middle\" transform=\"translate(0,36)\" style=\"font-family: sans-serif; font-size: 11px; font-weight: bold; fill: #000; opacity: 1;\"> </text></g></g></g></g></g></g><g transform=\"translate(242,401)\"><path class=\"background\" d=\"MNaN,0LNaN,0CNaN,0,NaN,NaN,NaN,NaNLNaN,NaNCNaN,NaN,NaN,0,NaN,0LNaN,0CNaN,0,0,NaN,0,NaNL0,NaNC0,NaN,NaN,0,NaN,0Z\" style=\"fill: none;\"></path><g><g class=\"mark-group role-axis\"><g transform=\"translate(0.5,0.5)\"><path class=\"background\" d=\"M0,0h0v0h0Z\" style=\"pointer-events: none; fill: none;\"></path><g><g class=\"mark-rule role-axis-tick\" style=\"pointer-events: none;\"><line transform=\"translate(0,0)\" x2=\"0\" y2=\"5\" style=\"fill: none; stroke: #888; stroke-width: 1; opacity: 1;\"></line><line transform=\"translate(0,0)\" x2=\"0\" y2=\"5\" style=\"fill: none; stroke: #888; stroke-width: 1; opacity: 1;\"></line></g><g class=\"mark-text role-axis-label\" style=\"pointer-events: none;\"><text text-anchor=\"end\" transform=\"translate(0,7) rotate(270) translate(0,3)\" style=\"font-family: sans-serif; font-size: 10px; fill: #000; opacity: 1;\">ats</text><text text-anchor=\"end\" transform=\"translate(0,7) rotate(270) translate(0,3)\" style=\"font-family: sans-serif; font-size: 10px; fill: #000; opacity: 1;\">otc</text></g><g class=\"mark-rule role-axis-domain\" style=\"pointer-events: none;\"><line transform=\"translate(0,0)\" x2=\"NaN\" y2=\"0\" style=\"fill: none; stroke: #888; stroke-width: 3; opacity: 1;\"></line></g><g class=\"mark-text role-axis-title\" style=\"pointer-events: none;\"><text text-anchor=\"middle\" transform=\"translate(0,36)\" style=\"font-family: sans-serif; font-size: 11px; font-weight: bold; fill: #000; opacity: 1;\"> </text></g></g></g></g></g></g><g transform=\"translate(264,401)\"><path class=\"background\" d=\"MNaN,0LNaN,0CNaN,0,NaN,NaN,NaN,NaNLNaN,NaNCNaN,NaN,NaN,0,NaN,0LNaN,0CNaN,0,0,NaN,0,NaNL0,NaNC0,NaN,NaN,0,NaN,0Z\" style=\"fill: none;\"></path><g><g class=\"mark-group role-axis\"><g transform=\"translate(0.5,0.5)\"><path class=\"background\" d=\"M0,0h0v0h0Z\" style=\"pointer-events: none; fill: none;\"></path><g><g class=\"mark-rule role-axis-tick\" style=\"pointer-events: none;\"><line transform=\"translate(0,0)\" x2=\"0\" y2=\"5\" style=\"fill: none; stroke: #888; stroke-width: 1; opacity: 1;\"></line><line transform=\"translate(0,0)\" x2=\"0\" y2=\"5\" style=\"fill: none; stroke: #888; stroke-width: 1; opacity: 1;\"></line></g><g class=\"mark-text role-axis-label\" style=\"pointer-events: none;\"><text text-anchor=\"end\" transform=\"translate(0,7) rotate(270) translate(0,3)\" style=\"font-family: sans-serif; font-size: 10px; fill: #000; opacity: 1;\">ats</text><text text-anchor=\"end\" transform=\"translate(0,7) rotate(270) translate(0,3)\" style=\"font-family: sans-serif; font-size: 10px; fill: #000; opacity: 1;\">otc</text></g><g class=\"mark-rule role-axis-domain\" style=\"pointer-events: none;\"><line transform=\"translate(0,0)\" x2=\"NaN\" y2=\"0\" style=\"fill: none; stroke: #888; stroke-width: 3; opacity: 1;\"></line></g><g class=\"mark-text role-axis-title\" style=\"pointer-events: none;\"><text text-anchor=\"middle\" transform=\"translate(0,36)\" style=\"font-family: sans-serif; font-size: 11px; font-weight: bold; fill: #000; opacity: 1;\"> </text></g></g></g></g></g></g><g transform=\"translate(286,401)\"><path class=\"background\" d=\"MNaN,0LNaN,0CNaN,0,NaN,NaN,NaN,NaNLNaN,NaNCNaN,NaN,NaN,0,NaN,0LNaN,0CNaN,0,0,NaN,0,NaNL0,NaNC0,NaN,NaN,0,NaN,0Z\" style=\"fill: none;\"></path><g><g class=\"mark-group role-axis\"><g transform=\"translate(0.5,0.5)\"><path class=\"background\" d=\"M0,0h0v0h0Z\" style=\"pointer-events: none; fill: none;\"></path><g><g class=\"mark-rule role-axis-tick\" style=\"pointer-events: none;\"><line transform=\"translate(0,0)\" x2=\"0\" y2=\"5\" style=\"fill: none; stroke: #888; stroke-width: 1; opacity: 1;\"></line><line transform=\"translate(0,0)\" x2=\"0\" y2=\"5\" style=\"fill: none; stroke: #888; stroke-width: 1; opacity: 1;\"></line></g><g class=\"mark-text role-axis-label\" style=\"pointer-events: none;\"><text text-anchor=\"end\" transform=\"translate(0,7) rotate(270) translate(0,3)\" style=\"font-family: sans-serif; font-size: 10px; fill: #000; opacity: 1;\">ats</text><text text-anchor=\"end\" transform=\"translate(0,7) rotate(270) translate(0,3)\" style=\"font-family: sans-serif; font-size: 10px; fill: #000; opacity: 1;\">otc</text></g><g class=\"mark-rule role-axis-domain\" style=\"pointer-events: none;\"><line transform=\"translate(0,0)\" x2=\"NaN\" y2=\"0\" style=\"fill: none; stroke: #888; stroke-width: 3; opacity: 1;\"></line></g><g class=\"mark-text role-axis-title\" style=\"pointer-events: none;\"><text text-anchor=\"middle\" transform=\"translate(0,36)\" style=\"font-family: sans-serif; font-size: 11px; font-weight: bold; fill: #000; opacity: 1;\"> </text></g></g></g></g></g></g><g transform=\"translate(308,401)\"><path class=\"background\" d=\"MNaN,0LNaN,0CNaN,0,NaN,NaN,NaN,NaNLNaN,NaNCNaN,NaN,NaN,0,NaN,0LNaN,0CNaN,0,0,NaN,0,NaNL0,NaNC0,NaN,NaN,0,NaN,0Z\" style=\"fill: none;\"></path><g><g class=\"mark-group role-axis\"><g transform=\"translate(0.5,0.5)\"><path class=\"background\" d=\"M0,0h0v0h0Z\" style=\"pointer-events: none; fill: none;\"></path><g><g class=\"mark-rule role-axis-tick\" style=\"pointer-events: none;\"><line transform=\"translate(0,0)\" x2=\"0\" y2=\"5\" style=\"fill: none; stroke: #888; stroke-width: 1; opacity: 1;\"></line><line transform=\"translate(0,0)\" x2=\"0\" y2=\"5\" style=\"fill: none; stroke: #888; stroke-width: 1; opacity: 1;\"></line></g><g class=\"mark-text role-axis-label\" style=\"pointer-events: none;\"><text text-anchor=\"end\" transform=\"translate(0,7) rotate(270) translate(0,3)\" style=\"font-family: sans-serif; font-size: 10px; fill: #000; opacity: 1;\">ats</text><text text-anchor=\"end\" transform=\"translate(0,7) rotate(270) translate(0,3)\" style=\"font-family: sans-serif; font-size: 10px; fill: #000; opacity: 1;\">otc</text></g><g class=\"mark-rule role-axis-domain\" style=\"pointer-events: none;\"><line transform=\"translate(0,0)\" x2=\"NaN\" y2=\"0\" style=\"fill: none; stroke: #888; stroke-width: 3; opacity: 1;\"></line></g><g class=\"mark-text role-axis-title\" style=\"pointer-events: none;\"><text text-anchor=\"middle\" transform=\"translate(0,36)\" style=\"font-family: sans-serif; font-size: 11px; font-weight: bold; fill: #000; opacity: 1;\"> </text></g></g></g></g></g></g></g><g class=\"mark-group role-scope cell\"><g transform=\"translate(0,0)\"><path class=\"background\" d=\"MNaN,0.5LNaN,0.5CNaN,0.5,NaN,NaN,NaN,NaNLNaN,NaNCNaN,NaN,NaN,400.5,NaN,400.5LNaN,400.5CNaN,400.5,0.5,NaN,0.5,NaNL0.5,NaNC0.5,NaN,NaN,0.5,NaN,0.5Z\" style=\"fill: none; stroke: none;\"></path><g><g class=\"mark-rect role-mark child_marks\"><path d=\"M0,345.2h0v54.80000000000001h0Z\" style=\"fill: rgb(53, 183, 121);\"></path><path d=\"M0,346.4h0v53.60000000000002h0Z\" style=\"fill: rgb(49, 104, 142);\"></path></g></g></g><g transform=\"translate(22,0)\"><path class=\"background\" d=\"MNaN,0.5LNaN,0.5CNaN,0.5,NaN,NaN,NaN,NaNLNaN,NaNCNaN,NaN,NaN,400.5,NaN,400.5LNaN,400.5CNaN,400.5,0.5,NaN,0.5,NaNL0.5,NaNC0.5,NaN,NaN,0.5,NaN,0.5Z\" style=\"fill: none; stroke: none;\"></path><g><g class=\"mark-rect role-mark child_marks\"><path d=\"M0,87.80000000000001h0v312.2h0Z\" style=\"fill: rgb(53, 183, 121);\"></path><path d=\"M0,95.19999999999999h0v304.8h0Z\" style=\"fill: rgb(49, 104, 142);\"></path></g></g></g><g transform=\"translate(44,0)\"><path class=\"background\" d=\"MNaN,0.5LNaN,0.5CNaN,0.5,NaN,NaN,NaN,NaNLNaN,NaNCNaN,NaN,NaN,400.5,NaN,400.5LNaN,400.5CNaN,400.5,0.5,NaN,0.5,NaNL0.5,NaNC0.5,NaN,NaN,0.5,NaN,0.5Z\" style=\"fill: none; stroke: none;\"></path><g><g class=\"mark-rect role-mark child_marks\"><path d=\"M0,395.6h0v4.399999999999977h0Z\" style=\"fill: rgb(53, 183, 121);\"></path><path d=\"M0,395.6h0v4.399999999999977h0Z\" style=\"fill: rgb(49, 104, 142);\"></path></g></g></g><g transform=\"translate(66,0)\"><path class=\"background\" d=\"MNaN,0.5LNaN,0.5CNaN,0.5,NaN,NaN,NaN,NaNLNaN,NaNCNaN,NaN,NaN,400.5,NaN,400.5LNaN,400.5CNaN,400.5,0.5,NaN,0.5,NaNL0.5,NaNC0.5,NaN,NaN,0.5,NaN,0.5Z\" style=\"fill: none; stroke: none;\"></path><g><g class=\"mark-rect role-mark child_marks\"><path d=\"M0,392h0v8h0Z\" style=\"fill: rgb(53, 183, 121);\"></path><path d=\"M0,392.2h0v7.800000000000011h0Z\" style=\"fill: rgb(49, 104, 142);\"></path></g></g></g><g transform=\"translate(88,0)\"><path class=\"background\" d=\"MNaN,0.5LNaN,0.5CNaN,0.5,NaN,NaN,NaN,NaNLNaN,NaNCNaN,NaN,NaN,400.5,NaN,400.5LNaN,400.5CNaN,400.5,0.5,NaN,0.5,NaNL0.5,NaNC0.5,NaN,NaN,0.5,NaN,0.5Z\" style=\"fill: none; stroke: none;\"></path><g><g class=\"mark-rect role-mark child_marks\"><path d=\"M0,398.6h0v1.3999999999999773h0Z\" style=\"fill: rgb(53, 183, 121);\"></path><path d=\"M0,398.8h0v1.1999999999999886h0Z\" style=\"fill: rgb(49, 104, 142);\"></path></g></g></g><g transform=\"translate(110,0)\"><path class=\"background\" d=\"MNaN,0.5LNaN,0.5CNaN,0.5,NaN,NaN,NaN,NaNLNaN,NaNCNaN,NaN,NaN,400.5,NaN,400.5LNaN,400.5CNaN,400.5,0.5,NaN,0.5,NaNL0.5,NaNC0.5,NaN,NaN,0.5,NaN,0.5Z\" style=\"fill: none; stroke: none;\"></path><g><g class=\"mark-rect role-mark child_marks\"><path d=\"M0,139h0v261h0Z\" style=\"fill: rgb(53, 183, 121);\"></path><path d=\"M0,145.00000000000003h0v254.99999999999997h0Z\" style=\"fill: rgb(49, 104, 142);\"></path></g></g></g><g transform=\"translate(132,0)\"><path class=\"background\" d=\"MNaN,0.5LNaN,0.5CNaN,0.5,NaN,NaN,NaN,NaNLNaN,NaNCNaN,NaN,NaN,400.5,NaN,400.5LNaN,400.5CNaN,400.5,0.5,NaN,0.5,NaNL0.5,NaNC0.5,NaN,NaN,0.5,NaN,0.5Z\" style=\"fill: none; stroke: none;\"></path><g><g class=\"mark-rect role-mark child_marks\"><path d=\"M0,12.599999999999989h0v387.40000000000003h0Z\" style=\"fill: rgb(53, 183, 121);\"></path><path d=\"M0,35.400000000000006h0v364.6h0Z\" style=\"fill: rgb(49, 104, 142);\"></path></g></g></g><g transform=\"translate(154,0)\"><path class=\"background\" d=\"MNaN,0.5LNaN,0.5CNaN,0.5,NaN,NaN,NaN,NaNLNaN,NaNCNaN,NaN,NaN,400.5,NaN,400.5LNaN,400.5CNaN,400.5,0.5,NaN,0.5,NaNL0.5,NaNC0.5,NaN,NaN,0.5,NaN,0.5Z\" style=\"fill: none; stroke: none;\"></path><g><g class=\"mark-rect role-mark child_marks\"><path d=\"M0,244.59999999999997h0v155.40000000000003h0Z\" style=\"fill: rgb(53, 183, 121);\"></path><path d=\"M0,246.60000000000002h0v153.39999999999998h0Z\" style=\"fill: rgb(49, 104, 142);\"></path></g></g></g><g transform=\"translate(176,0)\"><path class=\"background\" d=\"MNaN,0.5LNaN,0.5CNaN,0.5,NaN,NaN,NaN,NaNLNaN,NaNCNaN,NaN,NaN,400.5,NaN,400.5LNaN,400.5CNaN,400.5,0.5,NaN,0.5,NaNL0.5,NaNC0.5,NaN,NaN,0.5,NaN,0.5Z\" style=\"fill: none; stroke: none;\"></path><g><g class=\"mark-rect role-mark child_marks\"><path d=\"M0,358.59999999999997h0v41.400000000000034h0Z\" style=\"fill: rgb(53, 183, 121);\"></path><path d=\"M0,359h0v41h0Z\" style=\"fill: rgb(49, 104, 142);\"></path></g></g></g><g transform=\"translate(198,0)\"><path class=\"background\" d=\"MNaN,0.5LNaN,0.5CNaN,0.5,NaN,NaN,NaN,NaNLNaN,NaNCNaN,NaN,NaN,400.5,NaN,400.5LNaN,400.5CNaN,400.5,0.5,NaN,0.5,NaNL0.5,NaNC0.5,NaN,NaN,0.5,NaN,0.5Z\" style=\"fill: none; stroke: none;\"></path><g><g class=\"mark-rect role-mark child_marks\"><path d=\"M0,389.59999999999997h0v10.400000000000034h0Z\" style=\"fill: rgb(53, 183, 121);\"></path><path d=\"M0,389.8h0v10.199999999999989h0Z\" style=\"fill: rgb(49, 104, 142);\"></path></g></g></g><g transform=\"translate(220,0)\"><path class=\"background\" d=\"MNaN,0.5LNaN,0.5CNaN,0.5,NaN,NaN,NaN,NaNLNaN,NaNCNaN,NaN,NaN,400.5,NaN,400.5LNaN,400.5CNaN,400.5,0.5,NaN,0.5,NaNL0.5,NaNC0.5,NaN,NaN,0.5,NaN,0.5Z\" style=\"fill: none; stroke: none;\"></path><g><g class=\"mark-rect role-mark child_marks\"><path d=\"M0,56.00000000000001h0v344h0Z\" style=\"fill: rgb(53, 183, 121);\"></path><path d=\"M0,75h0v325h0Z\" style=\"fill: rgb(49, 104, 142);\"></path></g></g></g><g transform=\"translate(242,0)\"><path class=\"background\" d=\"MNaN,0.5LNaN,0.5CNaN,0.5,NaN,NaN,NaN,NaNLNaN,NaNCNaN,NaN,NaN,400.5,NaN,400.5LNaN,400.5CNaN,400.5,0.5,NaN,0.5,NaNL0.5,NaNC0.5,NaN,NaN,0.5,NaN,0.5Z\" style=\"fill: none; stroke: none;\"></path><g><g class=\"mark-rect role-mark child_marks\"><path d=\"M0,191h0v209h0Z\" style=\"fill: rgb(53, 183, 121);\"></path><path d=\"M0,203.00000000000003h0v196.99999999999997h0Z\" style=\"fill: rgb(49, 104, 142);\"></path></g></g></g><g transform=\"translate(264,0)\"><path class=\"background\" d=\"MNaN,0.5LNaN,0.5CNaN,0.5,NaN,NaN,NaN,NaNLNaN,NaNCNaN,NaN,NaN,400.5,NaN,400.5LNaN,400.5CNaN,400.5,0.5,NaN,0.5,NaNL0.5,NaNC0.5,NaN,NaN,0.5,NaN,0.5Z\" style=\"fill: none; stroke: none;\"></path><g><g class=\"mark-rect role-mark child_marks\"><path d=\"M0,52.800000000000004h0v347.2h0Z\" style=\"fill: rgb(53, 183, 121);\"></path><path d=\"M0,70.19999999999999h0v329.8h0Z\" style=\"fill: rgb(49, 104, 142);\"></path></g></g></g><g transform=\"translate(286,0)\"><path class=\"background\" d=\"MNaN,0.5LNaN,0.5CNaN,0.5,NaN,NaN,NaN,NaNLNaN,NaNCNaN,NaN,NaN,400.5,NaN,400.5LNaN,400.5CNaN,400.5,0.5,NaN,0.5,NaNL0.5,NaNC0.5,NaN,NaN,0.5,NaN,0.5Z\" style=\"fill: none; stroke: none;\"></path><g><g class=\"mark-rect role-mark child_marks\"><path d=\"M0,337h0v63h0Z\" style=\"fill: rgb(53, 183, 121);\"></path><path d=\"M0,338.6h0v61.39999999999998h0Z\" style=\"fill: rgb(49, 104, 142);\"></path></g></g></g><g transform=\"translate(308,0)\"><path class=\"background\" d=\"MNaN,0.5LNaN,0.5CNaN,0.5,NaN,NaN,NaN,NaNLNaN,NaNCNaN,NaN,NaN,400.5,NaN,400.5LNaN,400.5CNaN,400.5,0.5,NaN,0.5,NaNL0.5,NaNC0.5,NaN,NaN,0.5,NaN,0.5Z\" style=\"fill: none; stroke: none;\"></path><g><g class=\"mark-rect role-mark child_marks\"><path d=\"M0,55.399999999999984h0v344.6h0Z\" style=\"fill: rgb(53, 183, 121);\"></path><path d=\"M0,72.80000000000003h0v327.2h0Z\" style=\"fill: rgb(49, 104, 142);\"></path></g></g></g></g><g class=\"mark-group role-legend\"><g transform=\"translate(331,0)\"><path class=\"background\" d=\"M0,0h111v40h-111Z\" style=\"pointer-events: none; fill: none;\"></path><g><g class=\"mark-group role-legend-entry\"><g transform=\"translate(0,16)\"><path class=\"background\" d=\"M0,0h0v0h0Z\" style=\"pointer-events: none; fill: none;\"></path><g><g class=\"mark-group role-scope\"><g transform=\"translate(0,0)\"><path class=\"background\" d=\"M0,0h32v11h-32Z\" style=\"pointer-events: none; fill: none; opacity: 1;\"></path><g><g class=\"mark-symbol role-legend-symbol\" style=\"pointer-events: none;\"><path transform=\"translate(6,6)\" d=\"M-5,-5h10v10h-10Z\" style=\"fill: rgb(49, 104, 142); stroke-width: 1.5; opacity: 1;\"></path></g><g class=\"mark-text role-legend-label\" style=\"pointer-events: none;\"><text text-anchor=\"start\" transform=\"translate(16,9)\" style=\"font-family: sans-serif; font-size: 10px; fill: #000; opacity: 1;\">ats</text></g></g></g><g transform=\"translate(0,13)\"><path class=\"background\" d=\"M0,0h32v11h-32Z\" style=\"pointer-events: none; fill: none; opacity: 1;\"></path><g><g class=\"mark-symbol role-legend-symbol\" style=\"pointer-events: none;\"><path transform=\"translate(6,6)\" d=\"M-5,-5h10v10h-10Z\" style=\"fill: rgb(53, 183, 121); stroke-width: 1.5; opacity: 1;\"></path></g><g class=\"mark-text role-legend-label\" style=\"pointer-events: none;\"><text text-anchor=\"start\" transform=\"translate(16,9)\" style=\"font-family: sans-serif; font-size: 10px; fill: #000; opacity: 1;\">otc</text></g></g></g></g></g></g></g><g class=\"mark-text role-legend-title\" style=\"pointer-events: none;\"><text text-anchor=\"start\" transform=\"translate(0,9)\" style=\"font-family: sans-serif; font-size: 11px; font-weight: bold; fill: #000; opacity: 1;\">Secondary Market</text></g></g></g></g></g></g></g></g></svg>"
      ],
      "text/plain": [
       "VegaLite.VLSpec{:plot}"
      ]
     },
     "execution_count": 54,
     "metadata": {},
     "output_type": "execute_result"
    }
   ],
   "source": [
    "p = tt |> @vlplot(:bar,\n",
    "                  column={col_var, type=col_var_type, \n",
    "                          title=col_title, sort=col_sort},\n",
    "                  y={y_var, axis={title=y_axis_title, grid=false, stack=nothing}},\n",
    "                  x={x_var, type=x_var_type, axis={title=x_axis_title}},\n",
    "                  color={x_var, legend={title=legend_title}, scale={scheme=color_scale}},\n",
    "                  config={\n",
    "                      view={stroke=:transparent},\n",
    "                      axis={domainWidth=domainWidth},\n",
    "                      opacity={value=opacity},\n",
    "                  },\n",
    "                  row={row_var, type=row_var_type, header={title=row_var_title}},\n",
    "#                   title={text=title, \n",
    "#                          align=title_alignment, \n",
    "#                          anchor=title_anchor, \n",
    "#                          fontSize=title_font_size, \n",
    "#                          offset=title_offset},\n",
    "#                   spacing=spacing,\n",
    "                  width={step=width_step},\n",
    "                  height=height\n",
    "                ) \n",
    "    \n"
   ]
  },
  {
   "cell_type": "code",
   "execution_count": null,
   "metadata": {},
   "outputs": [],
   "source": []
  },
  {
   "cell_type": "code",
   "execution_count": 49,
   "metadata": {},
   "outputs": [
    {
     "data": {
      "text/plain": [
       "\"value\""
      ]
     },
     "execution_count": 49,
     "metadata": {},
     "output_type": "execute_result"
    }
   ],
   "source": [
    "y_var"
   ]
  },
  {
   "cell_type": "code",
   "execution_count": 50,
   "metadata": {},
   "outputs": [
    {
     "data": {
      "text/plain": [
       "\"sbm:n\""
      ]
     },
     "execution_count": 50,
     "metadata": {},
     "output_type": "execute_result"
    }
   ],
   "source": [
    "x_var"
   ]
  },
  {
   "cell_type": "code",
   "execution_count": 52,
   "metadata": {},
   "outputs": [
    {
     "data": {
      "text/plain": [
       "\"sum_num_cov\""
      ]
     },
     "execution_count": 52,
     "metadata": {},
     "output_type": "execute_result"
    }
   ],
   "source": [
    "row_var"
   ]
  },
  {
   "cell_type": "code",
   "execution_count": null,
   "metadata": {},
   "outputs": [],
   "source": []
  },
  {
   "cell_type": "code",
   "execution_count": 51,
   "metadata": {},
   "outputs": [
    {
     "data": {
      "text/html": [
       "<table class=\"data-frame\"><thead><tr><th></th><th>period</th><th>sbm</th><th>rt</th><th>cvt</th><th>variable</th><th>value</th><th>cov_cat</th><th>perc_total</th><th>perc_sbm_total</th></tr><tr><th></th><th>Symbol</th><th>Symbol</th><th>Symbol</th><th>Symbol</th><th>Cat…</th><th>Int64</th><th>Int64</th><th>Float64</th><th>Float64</th></tr></thead><tbody><p>30 rows × 9 columns</p><tr><th>1</th><td>2019Q2</td><td>otc</td><td>any</td><td>any</td><td>cg1_issuers</td><td>274</td><td>1</td><td>13.6183</td><td>13.6183</td></tr><tr><th>2</th><td>2019Q2</td><td>ats</td><td>any</td><td>any</td><td>cg1_issuers</td><td>268</td><td>1</td><td>13.3201</td><td>14.2402</td></tr><tr><th>3</th><td>2019Q2</td><td>otc</td><td>any</td><td>any</td><td>cg2_issuers</td><td>1561</td><td>2</td><td>77.5845</td><td>77.5845</td></tr><tr><th>4</th><td>2019Q2</td><td>ats</td><td>any</td><td>any</td><td>cg2_issuers</td><td>1524</td><td>2</td><td>75.7455</td><td>80.9777</td></tr><tr><th>5</th><td>2019Q2</td><td>otc</td><td>any</td><td>any</td><td>cg3_issuers</td><td>22</td><td>3</td><td>1.09344</td><td>1.09344</td></tr><tr><th>6</th><td>2019Q2</td><td>ats</td><td>any</td><td>any</td><td>cg3_issuers</td><td>22</td><td>3</td><td>1.09344</td><td>1.16897</td></tr><tr><th>7</th><td>2019Q2</td><td>otc</td><td>any</td><td>any</td><td>cg4_issuers</td><td>40</td><td>4</td><td>1.98807</td><td>1.98807</td></tr><tr><th>8</th><td>2019Q2</td><td>ats</td><td>any</td><td>any</td><td>cg4_issuers</td><td>39</td><td>4</td><td>1.93837</td><td>2.07226</td></tr><tr><th>9</th><td>2019Q2</td><td>otc</td><td>any</td><td>any</td><td>cg5_issuers</td><td>7</td><td>5</td><td>0.347913</td><td>0.347913</td></tr><tr><th>10</th><td>2019Q2</td><td>ats</td><td>any</td><td>any</td><td>cg5_issuers</td><td>6</td><td>5</td><td>0.298211</td><td>0.31881</td></tr><tr><th>11</th><td>2019Q2</td><td>otc</td><td>any</td><td>any</td><td>cg6_issuers</td><td>1305</td><td>6</td><td>64.8608</td><td>64.8608</td></tr><tr><th>12</th><td>2019Q2</td><td>ats</td><td>any</td><td>any</td><td>cg6_issuers</td><td>1275</td><td>6</td><td>63.3698</td><td>67.7471</td></tr><tr><th>13</th><td>2019Q2</td><td>otc</td><td>any</td><td>any</td><td>cg7_issuers</td><td>1937</td><td>7</td><td>96.2724</td><td>96.2724</td></tr><tr><th>14</th><td>2019Q2</td><td>ats</td><td>any</td><td>any</td><td>cg7_issuers</td><td>1823</td><td>7</td><td>90.6064</td><td>96.865</td></tr><tr><th>15</th><td>2019Q2</td><td>otc</td><td>any</td><td>any</td><td>cg8_issuers</td><td>777</td><td>8</td><td>38.6183</td><td>38.6183</td></tr><tr><th>16</th><td>2019Q2</td><td>ats</td><td>any</td><td>any</td><td>cg8_issuers</td><td>767</td><td>8</td><td>38.1213</td><td>40.7545</td></tr><tr><th>17</th><td>2019Q2</td><td>otc</td><td>any</td><td>any</td><td>cg9_issuers</td><td>207</td><td>9</td><td>10.2883</td><td>10.2883</td></tr><tr><th>18</th><td>2019Q2</td><td>ats</td><td>any</td><td>any</td><td>cg9_issuers</td><td>205</td><td>9</td><td>10.1889</td><td>10.8927</td></tr><tr><th>19</th><td>2019Q2</td><td>otc</td><td>any</td><td>any</td><td>cg10_issuers</td><td>52</td><td>10</td><td>2.58449</td><td>2.58449</td></tr><tr><th>20</th><td>2019Q2</td><td>ats</td><td>any</td><td>any</td><td>cg10_issuers</td><td>51</td><td>10</td><td>2.53479</td><td>2.70988</td></tr><tr><th>21</th><td>2019Q2</td><td>otc</td><td>any</td><td>any</td><td>cg11_issuers</td><td>1720</td><td>11</td><td>85.4871</td><td>85.4871</td></tr><tr><th>22</th><td>2019Q2</td><td>ats</td><td>any</td><td>any</td><td>cg11_issuers</td><td>1625</td><td>11</td><td>80.7654</td><td>86.3443</td></tr><tr><th>23</th><td>2019Q2</td><td>otc</td><td>any</td><td>any</td><td>cg12_issuers</td><td>1045</td><td>12</td><td>51.9384</td><td>51.9384</td></tr><tr><th>24</th><td>2019Q2</td><td>ats</td><td>any</td><td>any</td><td>cg12_issuers</td><td>985</td><td>12</td><td>48.9563</td><td>52.3379</td></tr><tr><th>25</th><td>2019Q2</td><td>otc</td><td>any</td><td>any</td><td>cg13_issuers</td><td>1736</td><td>13</td><td>86.2823</td><td>86.2823</td></tr><tr><th>26</th><td>2019Q2</td><td>ats</td><td>any</td><td>any</td><td>cg13_issuers</td><td>1649</td><td>13</td><td>81.9583</td><td>87.6196</td></tr><tr><th>27</th><td>2019Q2</td><td>otc</td><td>any</td><td>any</td><td>cg14_issuers</td><td>315</td><td>14</td><td>15.6561</td><td>15.6561</td></tr><tr><th>28</th><td>2019Q2</td><td>ats</td><td>any</td><td>any</td><td>cg14_issuers</td><td>307</td><td>14</td><td>15.2584</td><td>16.3124</td></tr><tr><th>29</th><td>2019Q2</td><td>otc</td><td>any</td><td>any</td><td>cg15_issuers</td><td>1723</td><td>15</td><td>85.6362</td><td>85.6362</td></tr><tr><th>30</th><td>2019Q2</td><td>ats</td><td>any</td><td>any</td><td>cg15_issuers</td><td>1636</td><td>15</td><td>81.3121</td><td>86.9288</td></tr></tbody></table>"
      ],
      "text/latex": [
       "\\begin{tabular}{r|ccccccccc}\n",
       "\t& period & sbm & rt & cvt & variable & value & cov\\_cat & perc\\_total & perc\\_sbm\\_total\\\\\n",
       "\t\\hline\n",
       "\t& Symbol & Symbol & Symbol & Symbol & Cat… & Int64 & Int64 & Float64 & Float64\\\\\n",
       "\t\\hline\n",
       "\t1 & 2019Q2 & otc & any & any & cg1\\_issuers & 274 & 1 & 13.6183 & 13.6183 \\\\\n",
       "\t2 & 2019Q2 & ats & any & any & cg1\\_issuers & 268 & 1 & 13.3201 & 14.2402 \\\\\n",
       "\t3 & 2019Q2 & otc & any & any & cg2\\_issuers & 1561 & 2 & 77.5845 & 77.5845 \\\\\n",
       "\t4 & 2019Q2 & ats & any & any & cg2\\_issuers & 1524 & 2 & 75.7455 & 80.9777 \\\\\n",
       "\t5 & 2019Q2 & otc & any & any & cg3\\_issuers & 22 & 3 & 1.09344 & 1.09344 \\\\\n",
       "\t6 & 2019Q2 & ats & any & any & cg3\\_issuers & 22 & 3 & 1.09344 & 1.16897 \\\\\n",
       "\t7 & 2019Q2 & otc & any & any & cg4\\_issuers & 40 & 4 & 1.98807 & 1.98807 \\\\\n",
       "\t8 & 2019Q2 & ats & any & any & cg4\\_issuers & 39 & 4 & 1.93837 & 2.07226 \\\\\n",
       "\t9 & 2019Q2 & otc & any & any & cg5\\_issuers & 7 & 5 & 0.347913 & 0.347913 \\\\\n",
       "\t10 & 2019Q2 & ats & any & any & cg5\\_issuers & 6 & 5 & 0.298211 & 0.31881 \\\\\n",
       "\t11 & 2019Q2 & otc & any & any & cg6\\_issuers & 1305 & 6 & 64.8608 & 64.8608 \\\\\n",
       "\t12 & 2019Q2 & ats & any & any & cg6\\_issuers & 1275 & 6 & 63.3698 & 67.7471 \\\\\n",
       "\t13 & 2019Q2 & otc & any & any & cg7\\_issuers & 1937 & 7 & 96.2724 & 96.2724 \\\\\n",
       "\t14 & 2019Q2 & ats & any & any & cg7\\_issuers & 1823 & 7 & 90.6064 & 96.865 \\\\\n",
       "\t15 & 2019Q2 & otc & any & any & cg8\\_issuers & 777 & 8 & 38.6183 & 38.6183 \\\\\n",
       "\t16 & 2019Q2 & ats & any & any & cg8\\_issuers & 767 & 8 & 38.1213 & 40.7545 \\\\\n",
       "\t17 & 2019Q2 & otc & any & any & cg9\\_issuers & 207 & 9 & 10.2883 & 10.2883 \\\\\n",
       "\t18 & 2019Q2 & ats & any & any & cg9\\_issuers & 205 & 9 & 10.1889 & 10.8927 \\\\\n",
       "\t19 & 2019Q2 & otc & any & any & cg10\\_issuers & 52 & 10 & 2.58449 & 2.58449 \\\\\n",
       "\t20 & 2019Q2 & ats & any & any & cg10\\_issuers & 51 & 10 & 2.53479 & 2.70988 \\\\\n",
       "\t21 & 2019Q2 & otc & any & any & cg11\\_issuers & 1720 & 11 & 85.4871 & 85.4871 \\\\\n",
       "\t22 & 2019Q2 & ats & any & any & cg11\\_issuers & 1625 & 11 & 80.7654 & 86.3443 \\\\\n",
       "\t23 & 2019Q2 & otc & any & any & cg12\\_issuers & 1045 & 12 & 51.9384 & 51.9384 \\\\\n",
       "\t24 & 2019Q2 & ats & any & any & cg12\\_issuers & 985 & 12 & 48.9563 & 52.3379 \\\\\n",
       "\t25 & 2019Q2 & otc & any & any & cg13\\_issuers & 1736 & 13 & 86.2823 & 86.2823 \\\\\n",
       "\t26 & 2019Q2 & ats & any & any & cg13\\_issuers & 1649 & 13 & 81.9583 & 87.6196 \\\\\n",
       "\t27 & 2019Q2 & otc & any & any & cg14\\_issuers & 315 & 14 & 15.6561 & 15.6561 \\\\\n",
       "\t28 & 2019Q2 & ats & any & any & cg14\\_issuers & 307 & 14 & 15.2584 & 16.3124 \\\\\n",
       "\t29 & 2019Q2 & otc & any & any & cg15\\_issuers & 1723 & 15 & 85.6362 & 85.6362 \\\\\n",
       "\t30 & 2019Q2 & ats & any & any & cg15\\_issuers & 1636 & 15 & 81.3121 & 86.9288 \\\\\n",
       "\\end{tabular}\n"
      ],
      "text/plain": [
       "30×9 DataFrame\n",
       "│ Row │ period │ sbm    │ rt     │ cvt    │ variable     │ value │ cov_cat │ perc_total │ perc_sbm_total │\n",
       "│     │ \u001b[90mSymbol\u001b[39m │ \u001b[90mSymbol\u001b[39m │ \u001b[90mSymbol\u001b[39m │ \u001b[90mSymbol\u001b[39m │ \u001b[90mCategorical…\u001b[39m │ \u001b[90mInt64\u001b[39m │ \u001b[90mInt64\u001b[39m   │ \u001b[90mFloat64\u001b[39m    │ \u001b[90mFloat64\u001b[39m        │\n",
       "├─────┼────────┼────────┼────────┼────────┼──────────────┼───────┼─────────┼────────────┼────────────────┤\n",
       "│ 1   │ 2019Q2 │ otc    │ any    │ any    │ cg1_issuers  │ 274   │ 1       │ 13.6183    │ 13.6183        │\n",
       "│ 2   │ 2019Q2 │ ats    │ any    │ any    │ cg1_issuers  │ 268   │ 1       │ 13.3201    │ 14.2402        │\n",
       "│ 3   │ 2019Q2 │ otc    │ any    │ any    │ cg2_issuers  │ 1561  │ 2       │ 77.5845    │ 77.5845        │\n",
       "│ 4   │ 2019Q2 │ ats    │ any    │ any    │ cg2_issuers  │ 1524  │ 2       │ 75.7455    │ 80.9777        │\n",
       "│ 5   │ 2019Q2 │ otc    │ any    │ any    │ cg3_issuers  │ 22    │ 3       │ 1.09344    │ 1.09344        │\n",
       "│ 6   │ 2019Q2 │ ats    │ any    │ any    │ cg3_issuers  │ 22    │ 3       │ 1.09344    │ 1.16897        │\n",
       "│ 7   │ 2019Q2 │ otc    │ any    │ any    │ cg4_issuers  │ 40    │ 4       │ 1.98807    │ 1.98807        │\n",
       "│ 8   │ 2019Q2 │ ats    │ any    │ any    │ cg4_issuers  │ 39    │ 4       │ 1.93837    │ 2.07226        │\n",
       "│ 9   │ 2019Q2 │ otc    │ any    │ any    │ cg5_issuers  │ 7     │ 5       │ 0.347913   │ 0.347913       │\n",
       "│ 10  │ 2019Q2 │ ats    │ any    │ any    │ cg5_issuers  │ 6     │ 5       │ 0.298211   │ 0.31881        │\n",
       "│ 11  │ 2019Q2 │ otc    │ any    │ any    │ cg6_issuers  │ 1305  │ 6       │ 64.8608    │ 64.8608        │\n",
       "│ 12  │ 2019Q2 │ ats    │ any    │ any    │ cg6_issuers  │ 1275  │ 6       │ 63.3698    │ 67.7471        │\n",
       "│ 13  │ 2019Q2 │ otc    │ any    │ any    │ cg7_issuers  │ 1937  │ 7       │ 96.2724    │ 96.2724        │\n",
       "│ 14  │ 2019Q2 │ ats    │ any    │ any    │ cg7_issuers  │ 1823  │ 7       │ 90.6064    │ 96.865         │\n",
       "│ 15  │ 2019Q2 │ otc    │ any    │ any    │ cg8_issuers  │ 777   │ 8       │ 38.6183    │ 38.6183        │\n",
       "│ 16  │ 2019Q2 │ ats    │ any    │ any    │ cg8_issuers  │ 767   │ 8       │ 38.1213    │ 40.7545        │\n",
       "│ 17  │ 2019Q2 │ otc    │ any    │ any    │ cg9_issuers  │ 207   │ 9       │ 10.2883    │ 10.2883        │\n",
       "│ 18  │ 2019Q2 │ ats    │ any    │ any    │ cg9_issuers  │ 205   │ 9       │ 10.1889    │ 10.8927        │\n",
       "│ 19  │ 2019Q2 │ otc    │ any    │ any    │ cg10_issuers │ 52    │ 10      │ 2.58449    │ 2.58449        │\n",
       "│ 20  │ 2019Q2 │ ats    │ any    │ any    │ cg10_issuers │ 51    │ 10      │ 2.53479    │ 2.70988        │\n",
       "│ 21  │ 2019Q2 │ otc    │ any    │ any    │ cg11_issuers │ 1720  │ 11      │ 85.4871    │ 85.4871        │\n",
       "│ 22  │ 2019Q2 │ ats    │ any    │ any    │ cg11_issuers │ 1625  │ 11      │ 80.7654    │ 86.3443        │\n",
       "│ 23  │ 2019Q2 │ otc    │ any    │ any    │ cg12_issuers │ 1045  │ 12      │ 51.9384    │ 51.9384        │\n",
       "│ 24  │ 2019Q2 │ ats    │ any    │ any    │ cg12_issuers │ 985   │ 12      │ 48.9563    │ 52.3379        │\n",
       "│ 25  │ 2019Q2 │ otc    │ any    │ any    │ cg13_issuers │ 1736  │ 13      │ 86.2823    │ 86.2823        │\n",
       "│ 26  │ 2019Q2 │ ats    │ any    │ any    │ cg13_issuers │ 1649  │ 13      │ 81.9583    │ 87.6196        │\n",
       "│ 27  │ 2019Q2 │ otc    │ any    │ any    │ cg14_issuers │ 315   │ 14      │ 15.6561    │ 15.6561        │\n",
       "│ 28  │ 2019Q2 │ ats    │ any    │ any    │ cg14_issuers │ 307   │ 14      │ 15.2584    │ 16.3124        │\n",
       "│ 29  │ 2019Q2 │ otc    │ any    │ any    │ cg15_issuers │ 1723  │ 15      │ 85.6362    │ 85.6362        │\n",
       "│ 30  │ 2019Q2 │ ats    │ any    │ any    │ cg15_issuers │ 1636  │ 15      │ 81.3121    │ 86.9288        │"
      ]
     },
     "execution_count": 51,
     "metadata": {},
     "output_type": "execute_result"
    }
   ],
   "source": [
    "tt"
   ]
  },
  {
   "cell_type": "code",
   "execution_count": null,
   "metadata": {},
   "outputs": [],
   "source": []
  },
  {
   "cell_type": "code",
   "execution_count": null,
   "metadata": {},
   "outputs": [],
   "source": []
  },
  {
   "cell_type": "code",
   "execution_count": null,
   "metadata": {},
   "outputs": [],
   "source": []
  },
  {
   "cell_type": "code",
   "execution_count": null,
   "metadata": {},
   "outputs": [],
   "source": []
  },
  {
   "cell_type": "code",
   "execution_count": null,
   "metadata": {},
   "outputs": [],
   "source": []
  },
  {
   "cell_type": "code",
   "execution_count": null,
   "metadata": {},
   "outputs": [],
   "source": []
  },
  {
   "cell_type": "code",
   "execution_count": null,
   "metadata": {},
   "outputs": [],
   "source": []
  },
  {
   "cell_type": "code",
   "execution_count": null,
   "metadata": {},
   "outputs": [],
   "source": []
  },
  {
   "cell_type": "code",
   "execution_count": null,
   "metadata": {},
   "outputs": [],
   "source": []
  },
  {
   "cell_type": "code",
   "execution_count": null,
   "metadata": {},
   "outputs": [],
   "source": []
  },
  {
   "cell_type": "code",
   "execution_count": null,
   "metadata": {},
   "outputs": [],
   "source": []
  },
  {
   "cell_type": "code",
   "execution_count": null,
   "metadata": {},
   "outputs": [],
   "source": []
  },
  {
   "cell_type": "code",
   "execution_count": null,
   "metadata": {},
   "outputs": [],
   "source": []
  },
  {
   "cell_type": "code",
   "execution_count": null,
   "metadata": {},
   "outputs": [],
   "source": []
  },
  {
   "cell_type": "code",
   "execution_count": null,
   "metadata": {},
   "outputs": [],
   "source": []
  },
  {
   "cell_type": "code",
   "execution_count": null,
   "metadata": {},
   "outputs": [],
   "source": []
  },
  {
   "cell_type": "code",
   "execution_count": null,
   "metadata": {},
   "outputs": [],
   "source": []
  },
  {
   "cell_type": "code",
   "execution_count": null,
   "metadata": {},
   "outputs": [],
   "source": []
  },
  {
   "cell_type": "code",
   "execution_count": null,
   "metadata": {},
   "outputs": [],
   "source": []
  },
  {
   "cell_type": "code",
   "execution_count": null,
   "metadata": {},
   "outputs": [],
   "source": []
  },
  {
   "cell_type": "code",
   "execution_count": 5,
   "metadata": {},
   "outputs": [
    {
     "data": {
      "text/plain": [
       "\"plots\""
      ]
     },
     "execution_count": 5,
     "metadata": {},
     "output_type": "execute_result"
    }
   ],
   "source": [
    "# Common Parameters {{{1\n",
    "col_var=\"sum_num_cov\"\n",
    "col_var_type=\"ordinal\"\n",
    "col_title=\"Number of Covenant Categories per Bond\"\n",
    "col_sort=\"ascending\"\n",
    "x_var=\"sbm:n\"\n",
    "x_var_type=\"nominal\"\n",
    "x_axis_title=\" \"\n",
    "width_step=18\n",
    "legend_title=\"Secondary Market\"\n",
    "spacing=1\n",
    "height=250\n",
    "save_plt=true\n",
    "plt_type = \"num_cov\"\n",
    "file_ext=\"png\"\n",
    "#\n",
    "save_plt=false\n",
    "scripts_path = string(main_path, \"/data-scripts\")\n",
    "plt_dir = \"plots\""
   ]
  },
  {
   "cell_type": "code",
   "execution_count": 5,
   "metadata": {},
   "outputs": [
    {
     "name": "stdout",
     "output_type": "stream",
     "text": [
      " \n",
      "Filename: 2019Q2_stats_by_cov_cat.csv\n",
      " \n",
      "Reading dataframe in folder: /home/artur/BondPricing/bond-data/data/Stats/2019...\n"
     ]
    },
    {
     "name": "stderr",
     "output_type": "stream",
     "text": [
      "WARNING: replacing module DataMod.\n",
      "WARNING: replacing module StatsMod.\n",
      "WARNING: replacing module PlotMod.\n",
      "┌ Warning: Mapping to the storage type failed; perhaps your data had out-of-range values?\n",
      "│ Try `map(clamp01nan, img)` to clamp values to a valid range.\n",
      "└ @ ImageMagick /home/artur/.julia/packages/ImageMagick/0LwpT/src/ImageMagick.jl:180\n",
      "┌ Warning: Mapping to the storage type failed; perhaps your data had out-of-range values?\n",
      "│ Try `map(clamp01nan, img)` to clamp values to a valid range.\n",
      "└ @ ImageMagick /home/artur/.julia/packages/ImageMagick/0LwpT/src/ImageMagick.jl:180\n",
      "┌ Warning: Mapping to the storage type failed; perhaps your data had out-of-range values?\n",
      "│ Try `map(clamp01nan, img)` to clamp values to a valid range.\n",
      "└ @ ImageMagick /home/artur/.julia/packages/ImageMagick/0LwpT/src/ImageMagick.jl:180\n",
      "┌ Warning: Mapping to the storage type failed; perhaps your data had out-of-range values?\n",
      "│ Try `map(clamp01nan, img)` to clamp values to a valid range.\n",
      "└ @ ImageMagick /home/artur/.julia/packages/ImageMagick/0LwpT/src/ImageMagick.jl:180\n",
      "┌ Warning: Mapping to the storage type failed; perhaps your data had out-of-range values?\n",
      "│ Try `map(clamp01nan, img)` to clamp values to a valid range.\n",
      "└ @ ImageMagick /home/artur/.julia/packages/ImageMagick/0LwpT/src/ImageMagick.jl:180\n",
      "┌ Warning: Mapping to the storage type failed; perhaps your data had out-of-range values?\n",
      "│ Try `map(clamp01nan, img)` to clamp values to a valid range.\n",
      "└ @ ImageMagick /home/artur/.julia/packages/ImageMagick/0LwpT/src/ImageMagick.jl:180\n",
      "┌ Warning: Mapping to the storage type failed; perhaps your data had out-of-range values?\n",
      "│ Try `map(clamp01nan, img)` to clamp values to a valid range.\n",
      "└ @ ImageMagick /home/artur/.julia/packages/ImageMagick/0LwpT/src/ImageMagick.jl:180\n",
      "┌ Warning: Mapping to the storage type failed; perhaps your data had out-of-range values?\n",
      "│ Try `map(clamp01nan, img)` to clamp values to a valid range.\n",
      "└ @ ImageMagick /home/artur/.julia/packages/ImageMagick/0LwpT/src/ImageMagick.jl:180\n",
      "┌ Warning: Mapping to the storage type failed; perhaps your data had out-of-range values?\n",
      "│ Try `map(clamp01nan, img)` to clamp values to a valid range.\n",
      "└ @ ImageMagick /home/artur/.julia/packages/ImageMagick/0LwpT/src/ImageMagick.jl:180\n",
      "┌ Warning: Mapping to the storage type failed; perhaps your data had out-of-range values?\n",
      "│ Try `map(clamp01nan, img)` to clamp values to a valid range.\n",
      "└ @ ImageMagick /home/artur/.julia/packages/ImageMagick/0LwpT/src/ImageMagick.jl:180\n",
      "┌ Warning: Mapping to the storage type failed; perhaps your data had out-of-range values?\n",
      "│ Try `map(clamp01nan, img)` to clamp values to a valid range.\n",
      "└ @ ImageMagick /home/artur/.julia/packages/ImageMagick/0LwpT/src/ImageMagick.jl:180\n",
      "┌ Warning: Mapping to the storage type failed; perhaps your data had out-of-range values?\n",
      "│ Try `map(clamp01nan, img)` to clamp values to a valid range.\n",
      "└ @ ImageMagick /home/artur/.julia/packages/ImageMagick/0LwpT/src/ImageMagick.jl:180\n"
     ]
    },
    {
     "data": {
      "text/plain": [
       "12-element Array{Any,1}:\n",
       " VegaLite.VLSpec{:plot}\n",
       " VegaLite.VLSpec{:plot}\n",
       " VegaLite.VLSpec{:plot}\n",
       " VegaLite.VLSpec{:plot}\n",
       " VegaLite.VLSpec{:plot}\n",
       " VegaLite.VLSpec{:plot}\n",
       " VegaLite.VLSpec{:plot}\n",
       " VegaLite.VLSpec{:plot}\n",
       " VegaLite.VLSpec{:plot}\n",
       " VegaLite.VLSpec{:plot}\n",
       " VegaLite.VLSpec{:plot}\n",
       " VegaLite.VLSpec{:plot}"
      ]
     },
     "execution_count": 5,
     "metadata": {},
     "output_type": "execute_result"
    }
   ],
   "source": [
    "include(string(joinpath(scripts_path, \"plot_cov_cat\"), \".jl\"))\n",
    "pl"
   ]
  },
  {
   "cell_type": "code",
   "execution_count": 6,
   "metadata": {},
   "outputs": [
    {
     "data": {
      "application/vnd.vegalite.v3+json": {
       "config": {
        "axis": {
         "domainWidth": 3
        },
        "opacity": {
         "value": 0.7
        },
        "view": {
         "stroke": "transparent"
        }
       },
       "data": {
        "values": [
         {
          "cov_cat": 1,
          "cvt": "any",
          "perc_sbm_total": 13.618290258449303,
          "perc_total": 13.618290258449303,
          "period": "2019Q2",
          "rt": "any",
          "sbm": "otc",
          "value": 274,
          "variable": "cg1_issuers"
         },
         {
          "cov_cat": 1,
          "cvt": "any",
          "perc_sbm_total": 14.240170031880977,
          "perc_total": 13.320079522862823,
          "period": "2019Q2",
          "rt": "any",
          "sbm": "ats",
          "value": 268,
          "variable": "cg1_issuers"
         },
         {
          "cov_cat": 2,
          "cvt": "any",
          "perc_sbm_total": 77.5844930417495,
          "perc_total": 77.5844930417495,
          "period": "2019Q2",
          "rt": "any",
          "sbm": "otc",
          "value": 1561,
          "variable": "cg2_issuers"
         },
         {
          "cov_cat": 2,
          "cvt": "any",
          "perc_sbm_total": 80.97768331562168,
          "perc_total": 75.7455268389662,
          "period": "2019Q2",
          "rt": "any",
          "sbm": "ats",
          "value": 1524,
          "variable": "cg2_issuers"
         },
         {
          "cov_cat": 3,
          "cvt": "any",
          "perc_sbm_total": 1.0934393638170974,
          "perc_total": 1.0934393638170974,
          "period": "2019Q2",
          "rt": "any",
          "sbm": "otc",
          "value": 22,
          "variable": "cg3_issuers"
         },
         {
          "cov_cat": 3,
          "cvt": "any",
          "perc_sbm_total": 1.1689691817215728,
          "perc_total": 1.0934393638170974,
          "period": "2019Q2",
          "rt": "any",
          "sbm": "ats",
          "value": 22,
          "variable": "cg3_issuers"
         },
         {
          "cov_cat": 4,
          "cvt": "any",
          "perc_sbm_total": 1.9880715705765408,
          "perc_total": 1.9880715705765408,
          "period": "2019Q2",
          "rt": "any",
          "sbm": "otc",
          "value": 40,
          "variable": "cg4_issuers"
         },
         {
          "cov_cat": 4,
          "cvt": "any",
          "perc_sbm_total": 2.0722635494155153,
          "perc_total": 1.9383697813121274,
          "period": "2019Q2",
          "rt": "any",
          "sbm": "ats",
          "value": 39,
          "variable": "cg4_issuers"
         },
         {
          "cov_cat": 5,
          "cvt": "any",
          "perc_sbm_total": 0.34791252485089463,
          "perc_total": 0.34791252485089463,
          "period": "2019Q2",
          "rt": "any",
          "sbm": "otc",
          "value": 7,
          "variable": "cg5_issuers"
         },
         {
          "cov_cat": 5,
          "cvt": "any",
          "perc_sbm_total": 0.3188097768331562,
          "perc_total": 0.2982107355864811,
          "period": "2019Q2",
          "rt": "any",
          "sbm": "ats",
          "value": 6,
          "variable": "cg5_issuers"
         },
         {
          "cov_cat": 6,
          "cvt": "any",
          "perc_sbm_total": 64.86083499005964,
          "perc_total": 64.86083499005964,
          "period": "2019Q2",
          "rt": "any",
          "sbm": "otc",
          "value": 1305,
          "variable": "cg6_issuers"
         },
         {
          "cov_cat": 6,
          "cvt": "any",
          "perc_sbm_total": 67.7470775770457,
          "perc_total": 63.36978131212724,
          "period": "2019Q2",
          "rt": "any",
          "sbm": "ats",
          "value": 1275,
          "variable": "cg6_issuers"
         },
         {
          "cov_cat": 7,
          "cvt": "any",
          "perc_sbm_total": 96.27236580516899,
          "perc_total": 96.27236580516899,
          "period": "2019Q2",
          "rt": "any",
          "sbm": "otc",
          "value": 1937,
          "variable": "cg7_issuers"
         },
         {
          "cov_cat": 7,
          "cvt": "any",
          "perc_sbm_total": 96.86503719447397,
          "perc_total": 90.60636182902584,
          "period": "2019Q2",
          "rt": "any",
          "sbm": "ats",
          "value": 1823,
          "variable": "cg7_issuers"
         },
         {
          "cov_cat": 8,
          "cvt": "any",
          "perc_sbm_total": 38.618290258449306,
          "perc_total": 38.618290258449306,
          "period": "2019Q2",
          "rt": "any",
          "sbm": "otc",
          "value": 777,
          "variable": "cg8_issuers"
         },
         {
          "cov_cat": 8,
          "cvt": "any",
          "perc_sbm_total": 40.75451647183847,
          "perc_total": 38.12127236580517,
          "period": "2019Q2",
          "rt": "any",
          "sbm": "ats",
          "value": 767,
          "variable": "cg8_issuers"
         },
         {
          "cov_cat": 9,
          "cvt": "any",
          "perc_sbm_total": 10.288270377733598,
          "perc_total": 10.288270377733598,
          "period": "2019Q2",
          "rt": "any",
          "sbm": "otc",
          "value": 207,
          "variable": "cg9_issuers"
         },
         {
          "cov_cat": 9,
          "cvt": "any",
          "perc_sbm_total": 10.892667375132838,
          "perc_total": 10.18886679920477,
          "period": "2019Q2",
          "rt": "any",
          "sbm": "ats",
          "value": 205,
          "variable": "cg9_issuers"
         },
         {
          "cov_cat": 10,
          "cvt": "any",
          "perc_sbm_total": 2.584493041749503,
          "perc_total": 2.584493041749503,
          "period": "2019Q2",
          "rt": "any",
          "sbm": "otc",
          "value": 52,
          "variable": "cg10_issuers"
         },
         {
          "cov_cat": 10,
          "cvt": "any",
          "perc_sbm_total": 2.709883103081828,
          "perc_total": 2.5347912524850895,
          "period": "2019Q2",
          "rt": "any",
          "sbm": "ats",
          "value": 51,
          "variable": "cg10_issuers"
         },
         {
          "cov_cat": 11,
          "cvt": "any",
          "perc_sbm_total": 85.48707753479125,
          "perc_total": 85.48707753479125,
          "period": "2019Q2",
          "rt": "any",
          "sbm": "otc",
          "value": 1720,
          "variable": "cg11_issuers"
         },
         {
          "cov_cat": 11,
          "cvt": "any",
          "perc_sbm_total": 86.3443145589798,
          "perc_total": 80.76540755467197,
          "period": "2019Q2",
          "rt": "any",
          "sbm": "ats",
          "value": 1625,
          "variable": "cg11_issuers"
         },
         {
          "cov_cat": 12,
          "cvt": "any",
          "perc_sbm_total": 51.93836978131213,
          "perc_total": 51.93836978131213,
          "period": "2019Q2",
          "rt": "any",
          "sbm": "otc",
          "value": 1045,
          "variable": "cg12_issuers"
         },
         {
          "cov_cat": 12,
          "cvt": "any",
          "perc_sbm_total": 52.33793836344315,
          "perc_total": 48.95626242544731,
          "period": "2019Q2",
          "rt": "any",
          "sbm": "ats",
          "value": 985,
          "variable": "cg12_issuers"
         },
         {
          "cov_cat": 13,
          "cvt": "any",
          "perc_sbm_total": 86.28230616302187,
          "perc_total": 86.28230616302187,
          "period": "2019Q2",
          "rt": "any",
          "sbm": "otc",
          "value": 1736,
          "variable": "cg13_issuers"
         },
         {
          "cov_cat": 13,
          "cvt": "any",
          "perc_sbm_total": 87.61955366631243,
          "perc_total": 81.95825049701789,
          "period": "2019Q2",
          "rt": "any",
          "sbm": "ats",
          "value": 1649,
          "variable": "cg13_issuers"
         },
         {
          "cov_cat": 14,
          "cvt": "any",
          "perc_sbm_total": 15.656063618290258,
          "perc_total": 15.656063618290258,
          "period": "2019Q2",
          "rt": "any",
          "sbm": "otc",
          "value": 315,
          "variable": "cg14_issuers"
         },
         {
          "cov_cat": 14,
          "cvt": "any",
          "perc_sbm_total": 16.312433581296492,
          "perc_total": 15.25844930417495,
          "period": "2019Q2",
          "rt": "any",
          "sbm": "ats",
          "value": 307,
          "variable": "cg14_issuers"
         },
         {
          "cov_cat": 15,
          "cvt": "any",
          "perc_sbm_total": 85.6361829025845,
          "perc_total": 85.6361829025845,
          "period": "2019Q2",
          "rt": "any",
          "sbm": "otc",
          "value": 1723,
          "variable": "cg15_issuers"
         },
         {
          "cov_cat": 15,
          "cvt": "any",
          "perc_sbm_total": 86.9287991498406,
          "perc_total": 81.31212723658051,
          "period": "2019Q2",
          "rt": "any",
          "sbm": "ats",
          "value": 1636,
          "variable": "cg15_issuers"
         }
        ]
       },
       "encoding": {
        "color": {
         "field": "sbm",
         "legend": {
          "title": "Secondary Market"
         },
         "scale": {
          "scheme": "viridis"
         },
         "type": "nominal"
        },
        "column": {
         "field": "cov_cat",
         "sort": "ascending",
         "title": "Covenant Category",
         "type": "ordinal"
        },
        "x": {
         "axis": {
          "title": " "
         },
         "field": "sbm",
         "type": "nominal"
        },
        "y": {
         "axis": {
          "grid": false,
          "stack": null,
          "title": "Number of Issuers"
         },
         "field": "value",
         "type": "quantitative"
        }
       },
       "height": 400,
       "mark": "bar",
       "spacing": 4.5,
       "title": {
        "align": "center",
        "anchor": "middle",
        "fontSize": 14,
        "offset": 20,
        "text": [
         "Number of Issuers of Non-MTN-Bonds Traded per Covenant Category - 2019Q2"
        ]
       },
       "width": {
        "step": 18
       }
      },
      "image/png": "[encoded data removed]",
      "image/svg+xml": [
       "<svg class=\"marks\" width=\"638\" height=\"535\" viewBox=\"0 0 638 535\" version=\"1.1\" xmlns=\"http://www.w3.org/2000/svg\" xmlns:xlink=\"http://www.w3.org/1999/xlink\"><g transform=\"translate(227,91)\"><g class=\"mark-group role-frame root\"><g transform=\"translate(0,0)\"><path class=\"background\" d=\"M0,0h0v0h0Z\" style=\"fill: none;\"></path><g><g class=\"mark-group role-column-title column-title\"><g transform=\"translate(46,-31)\"><path class=\"background\" d=\"M0,0h0v0h0Z\" style=\"fill: none;\"></path><g><g class=\"mark-group role-title\"><g transform=\"translate(0,-21)\"><path class=\"background\" d=\"M0,0h0v0h0Z\" style=\"pointer-events: none; fill: none;\"></path><g><g class=\"mark-text role-title-text\" style=\"pointer-events: none;\"><text text-anchor=\"middle\" transform=\"translate(0,9)\" style=\"font-family: sans-serif; font-size: 11px; font-weight: bold; fill: #000; opacity: 1;\">Covenant Category</text></g></g></g></g></g></g></g><g class=\"mark-group role-row-header row_header\"><g transform=\"translate(-1,0)\"><path class=\"background\" d=\"M0,0h0v400h0Z\" style=\"fill: none;\"></path><g><g class=\"mark-group role-axis\"><g transform=\"translate(0.5,0.5)\"><path class=\"background\" d=\"M0,0h0v0h0Z\" style=\"pointer-events: none; fill: none;\"></path><g><g class=\"mark-rule role-axis-tick\" style=\"pointer-events: none;\"><line transform=\"translate(0,400)\" x2=\"-5\" y2=\"0\" style=\"fill: none; stroke: #888; stroke-width: 1; opacity: 1;\"></line><line transform=\"translate(0,360)\" x2=\"-5\" y2=\"0\" style=\"fill: none; stroke: #888; stroke-width: 1; opacity: 1;\"></line><line transform=\"translate(0,320)\" x2=\"-5\" y2=\"0\" style=\"fill: none; stroke: #888; stroke-width: 1; opacity: 1;\"></line><line transform=\"translate(0,280)\" x2=\"-5\" y2=\"0\" style=\"fill: none; stroke: #888; stroke-width: 1; opacity: 1;\"></line><line transform=\"translate(0,240)\" x2=\"-5\" y2=\"0\" style=\"fill: none; stroke: #888; stroke-width: 1; opacity: 1;\"></line><line transform=\"translate(0,200)\" x2=\"-5\" y2=\"0\" style=\"fill: none; stroke: #888; stroke-width: 1; opacity: 1;\"></line><line transform=\"translate(0,160)\" x2=\"-5\" y2=\"0\" style=\"fill: none; stroke: #888; stroke-width: 1; opacity: 1;\"></line><line transform=\"translate(0,120)\" x2=\"-5\" y2=\"0\" style=\"fill: none; stroke: #888; stroke-width: 1; opacity: 1;\"></line><line transform=\"translate(0,80)\" x2=\"-5\" y2=\"0\" style=\"fill: none; stroke: #888; stroke-width: 1; opacity: 1;\"></line><line transform=\"translate(0,40)\" x2=\"-5\" y2=\"0\" style=\"fill: none; stroke: #888; stroke-width: 1; opacity: 1;\"></line><line transform=\"translate(0,0)\" x2=\"-5\" y2=\"0\" style=\"fill: none; stroke: #888; stroke-width: 1; opacity: 1;\"></line></g><g class=\"mark-text role-axis-label\" style=\"pointer-events: none;\"><text text-anchor=\"end\" transform=\"translate(-7,403)\" style=\"font-family: sans-serif; font-size: 10px; fill: #000; opacity: 1;\">0</text><text text-anchor=\"end\" transform=\"translate(-7,363)\" style=\"font-family: sans-serif; font-size: 10px; fill: #000; opacity: 1;\">200</text><text text-anchor=\"end\" transform=\"translate(-7,323)\" style=\"font-family: sans-serif; font-size: 10px; fill: #000; opacity: 1;\">400</text><text text-anchor=\"end\" transform=\"translate(-7,283)\" style=\"font-family: sans-serif; font-size: 10px; fill: #000; opacity: 1;\">600</text><text text-anchor=\"end\" transform=\"translate(-7,243)\" style=\"font-family: sans-serif; font-size: 10px; fill: #000; opacity: 1;\">800</text><text text-anchor=\"end\" transform=\"translate(-7,203)\" style=\"font-family: sans-serif; font-size: 10px; fill: #000; opacity: 1;\">1,000</text><text text-anchor=\"end\" transform=\"translate(-7,163)\" style=\"font-family: sans-serif; font-size: 10px; fill: #000; opacity: 1;\">1,200</text><text text-anchor=\"end\" transform=\"translate(-7,123.00000000000001)\" style=\"font-family: sans-serif; font-size: 10px; fill: #000; opacity: 1;\">1,400</text><text text-anchor=\"end\" transform=\"translate(-7,82.99999999999999)\" style=\"font-family: sans-serif; font-size: 10px; fill: #000; opacity: 1;\">1,600</text><text text-anchor=\"end\" transform=\"translate(-7,42.99999999999999)\" style=\"font-family: sans-serif; font-size: 10px; fill: #000; opacity: 1;\">1,800</text><text text-anchor=\"end\" transform=\"translate(-7,3)\" style=\"font-family: sans-serif; font-size: 10px; fill: #000; opacity: 1;\">2,000</text></g><g class=\"mark-rule role-axis-domain\" style=\"pointer-events: none;\"><line transform=\"translate(0,400)\" x2=\"0\" y2=\"-400\" style=\"fill: none; stroke: #888; stroke-width: 3; opacity: 1;\"></line></g><g class=\"mark-text role-axis-title\" style=\"pointer-events: none;\"><text text-anchor=\"middle\" transform=\"translate(-38,200) rotate(-90) translate(0,-2)\" style=\"font-family: sans-serif; font-size: 11px; font-weight: bold; fill: #000; opacity: 1;\">Number of Issuers</text></g></g></g></g></g></g></g><g class=\"mark-group role-column-header column_header\"><g transform=\"translate(0,-1)\"><path class=\"background\" d=\"MNaN,0LNaN,0CNaN,0,NaN,NaN,NaN,NaNLNaN,NaNCNaN,NaN,NaN,0,NaN,0LNaN,0CNaN,0,0,NaN,0,NaNL0,NaNC0,NaN,NaN,0,NaN,0Z\" style=\"fill: none;\"></path><g><g class=\"mark-group role-title\"><g transform=\"translate(0,-20)\"><path class=\"background\" d=\"M0,0h0v0h0Z\" style=\"pointer-events: none; fill: none;\"></path><g><g class=\"mark-text role-title-text\" style=\"pointer-events: none;\"><text text-anchor=\"middle\" transform=\"translate(0,8)\" style=\"font-family: sans-serif; font-size: 10px; fill: #000; opacity: 1;\">1</text></g></g></g></g></g></g><g transform=\"translate(6.5,-1)\"><path class=\"background\" d=\"MNaN,0LNaN,0CNaN,0,NaN,NaN,NaN,NaNLNaN,NaNCNaN,NaN,NaN,0,NaN,0LNaN,0CNaN,0,0,NaN,0,NaNL0,NaNC0,NaN,NaN,0,NaN,0Z\" style=\"fill: none;\"></path><g><g class=\"mark-group role-title\"><g transform=\"translate(0,-20)\"><path class=\"background\" d=\"M0,0h0v0h0Z\" style=\"pointer-events: none; fill: none;\"></path><g><g class=\"mark-text role-title-text\" style=\"pointer-events: none;\"><text text-anchor=\"middle\" transform=\"translate(0,8)\" style=\"font-family: sans-serif; font-size: 10px; fill: #000; opacity: 1;\">2</text></g></g></g></g></g></g><g transform=\"translate(13,-1)\"><path class=\"background\" d=\"MNaN,0LNaN,0CNaN,0,NaN,NaN,NaN,NaNLNaN,NaNCNaN,NaN,NaN,0,NaN,0LNaN,0CNaN,0,0,NaN,0,NaNL0,NaNC0,NaN,NaN,0,NaN,0Z\" style=\"fill: none;\"></path><g><g class=\"mark-group role-title\"><g transform=\"translate(0,-20)\"><path class=\"background\" d=\"M0,0h0v0h0Z\" style=\"pointer-events: none; fill: none;\"></path><g><g class=\"mark-text role-title-text\" style=\"pointer-events: none;\"><text text-anchor=\"middle\" transform=\"translate(0,8)\" style=\"font-family: sans-serif; font-size: 10px; fill: #000; opacity: 1;\">3</text></g></g></g></g></g></g><g transform=\"translate(19.5,-1)\"><path class=\"background\" d=\"MNaN,0LNaN,0CNaN,0,NaN,NaN,NaN,NaNLNaN,NaNCNaN,NaN,NaN,0,NaN,0LNaN,0CNaN,0,0,NaN,0,NaNL0,NaNC0,NaN,NaN,0,NaN,0Z\" style=\"fill: none;\"></path><g><g class=\"mark-group role-title\"><g transform=\"translate(0,-20)\"><path class=\"background\" d=\"M0,0h0v0h0Z\" style=\"pointer-events: none; fill: none;\"></path><g><g class=\"mark-text role-title-text\" style=\"pointer-events: none;\"><text text-anchor=\"middle\" transform=\"translate(0,8)\" style=\"font-family: sans-serif; font-size: 10px; fill: #000; opacity: 1;\">4</text></g></g></g></g></g></g><g transform=\"translate(26,-1)\"><path class=\"background\" d=\"MNaN,0LNaN,0CNaN,0,NaN,NaN,NaN,NaNLNaN,NaNCNaN,NaN,NaN,0,NaN,0LNaN,0CNaN,0,0,NaN,0,NaNL0,NaNC0,NaN,NaN,0,NaN,0Z\" style=\"fill: none;\"></path><g><g class=\"mark-group role-title\"><g transform=\"translate(0,-20)\"><path class=\"background\" d=\"M0,0h0v0h0Z\" style=\"pointer-events: none; fill: none;\"></path><g><g class=\"mark-text role-title-text\" style=\"pointer-events: none;\"><text text-anchor=\"middle\" transform=\"translate(0,8)\" style=\"font-family: sans-serif; font-size: 10px; fill: #000; opacity: 1;\">5</text></g></g></g></g></g></g><g transform=\"translate(32.5,-1)\"><path class=\"background\" d=\"MNaN,0LNaN,0CNaN,0,NaN,NaN,NaN,NaNLNaN,NaNCNaN,NaN,NaN,0,NaN,0LNaN,0CNaN,0,0,NaN,0,NaNL0,NaNC0,NaN,NaN,0,NaN,0Z\" style=\"fill: none;\"></path><g><g class=\"mark-group role-title\"><g transform=\"translate(0,-20)\"><path class=\"background\" d=\"M0,0h0v0h0Z\" style=\"pointer-events: none; fill: none;\"></path><g><g class=\"mark-text role-title-text\" style=\"pointer-events: none;\"><text text-anchor=\"middle\" transform=\"translate(0,8)\" style=\"font-family: sans-serif; font-size: 10px; fill: #000; opacity: 1;\">6</text></g></g></g></g></g></g><g transform=\"translate(39,-1)\"><path class=\"background\" d=\"MNaN,0LNaN,0CNaN,0,NaN,NaN,NaN,NaNLNaN,NaNCNaN,NaN,NaN,0,NaN,0LNaN,0CNaN,0,0,NaN,0,NaNL0,NaNC0,NaN,NaN,0,NaN,0Z\" style=\"fill: none;\"></path><g><g class=\"mark-group role-title\"><g transform=\"translate(0,-20)\"><path class=\"background\" d=\"M0,0h0v0h0Z\" style=\"pointer-events: none; fill: none;\"></path><g><g class=\"mark-text role-title-text\" style=\"pointer-events: none;\"><text text-anchor=\"middle\" transform=\"translate(0,8)\" style=\"font-family: sans-serif; font-size: 10px; fill: #000; opacity: 1;\">7</text></g></g></g></g></g></g><g transform=\"translate(45.5,-1)\"><path class=\"background\" d=\"MNaN,0LNaN,0CNaN,0,NaN,NaN,NaN,NaNLNaN,NaNCNaN,NaN,NaN,0,NaN,0LNaN,0CNaN,0,0,NaN,0,NaNL0,NaNC0,NaN,NaN,0,NaN,0Z\" style=\"fill: none;\"></path><g><g class=\"mark-group role-title\"><g transform=\"translate(0,-20)\"><path class=\"background\" d=\"M0,0h0v0h0Z\" style=\"pointer-events: none; fill: none;\"></path><g><g class=\"mark-text role-title-text\" style=\"pointer-events: none;\"><text text-anchor=\"middle\" transform=\"translate(0,8)\" style=\"font-family: sans-serif; font-size: 10px; fill: #000; opacity: 1;\">8</text></g></g></g></g></g></g><g transform=\"translate(52,-1)\"><path class=\"background\" d=\"MNaN,0LNaN,0CNaN,0,NaN,NaN,NaN,NaNLNaN,NaNCNaN,NaN,NaN,0,NaN,0LNaN,0CNaN,0,0,NaN,0,NaNL0,NaNC0,NaN,NaN,0,NaN,0Z\" style=\"fill: none;\"></path><g><g class=\"mark-group role-title\"><g transform=\"translate(0,-20)\"><path class=\"background\" d=\"M0,0h0v0h0Z\" style=\"pointer-events: none; fill: none;\"></path><g><g class=\"mark-text role-title-text\" style=\"pointer-events: none;\"><text text-anchor=\"middle\" transform=\"translate(0,8)\" style=\"font-family: sans-serif; font-size: 10px; fill: #000; opacity: 1;\">9</text></g></g></g></g></g></g><g transform=\"translate(58.5,-1)\"><path class=\"background\" d=\"MNaN,0LNaN,0CNaN,0,NaN,NaN,NaN,NaNLNaN,NaNCNaN,NaN,NaN,0,NaN,0LNaN,0CNaN,0,0,NaN,0,NaNL0,NaNC0,NaN,NaN,0,NaN,0Z\" style=\"fill: none;\"></path><g><g class=\"mark-group role-title\"><g transform=\"translate(0,-20)\"><path class=\"background\" d=\"M0,0h0v0h0Z\" style=\"pointer-events: none; fill: none;\"></path><g><g class=\"mark-text role-title-text\" style=\"pointer-events: none;\"><text text-anchor=\"middle\" transform=\"translate(0,8)\" style=\"font-family: sans-serif; font-size: 10px; fill: #000; opacity: 1;\">10</text></g></g></g></g></g></g><g transform=\"translate(65,-1)\"><path class=\"background\" d=\"MNaN,0LNaN,0CNaN,0,NaN,NaN,NaN,NaNLNaN,NaNCNaN,NaN,NaN,0,NaN,0LNaN,0CNaN,0,0,NaN,0,NaNL0,NaNC0,NaN,NaN,0,NaN,0Z\" style=\"fill: none;\"></path><g><g class=\"mark-group role-title\"><g transform=\"translate(0,-20)\"><path class=\"background\" d=\"M0,0h0v0h0Z\" style=\"pointer-events: none; fill: none;\"></path><g><g class=\"mark-text role-title-text\" style=\"pointer-events: none;\"><text text-anchor=\"middle\" transform=\"translate(0,8)\" style=\"font-family: sans-serif; font-size: 10px; fill: #000; opacity: 1;\">11</text></g></g></g></g></g></g><g transform=\"translate(71.5,-1)\"><path class=\"background\" d=\"MNaN,0LNaN,0CNaN,0,NaN,NaN,NaN,NaNLNaN,NaNCNaN,NaN,NaN,0,NaN,0LNaN,0CNaN,0,0,NaN,0,NaNL0,NaNC0,NaN,NaN,0,NaN,0Z\" style=\"fill: none;\"></path><g><g class=\"mark-group role-title\"><g transform=\"translate(0,-20)\"><path class=\"background\" d=\"M0,0h0v0h0Z\" style=\"pointer-events: none; fill: none;\"></path><g><g class=\"mark-text role-title-text\" style=\"pointer-events: none;\"><text text-anchor=\"middle\" transform=\"translate(0,8)\" style=\"font-family: sans-serif; font-size: 10px; fill: #000; opacity: 1;\">12</text></g></g></g></g></g></g><g transform=\"translate(78,-1)\"><path class=\"background\" d=\"MNaN,0LNaN,0CNaN,0,NaN,NaN,NaN,NaNLNaN,NaNCNaN,NaN,NaN,0,NaN,0LNaN,0CNaN,0,0,NaN,0,NaNL0,NaNC0,NaN,NaN,0,NaN,0Z\" style=\"fill: none;\"></path><g><g class=\"mark-group role-title\"><g transform=\"translate(0,-20)\"><path class=\"background\" d=\"M0,0h0v0h0Z\" style=\"pointer-events: none; fill: none;\"></path><g><g class=\"mark-text role-title-text\" style=\"pointer-events: none;\"><text text-anchor=\"middle\" transform=\"translate(0,8)\" style=\"font-family: sans-serif; font-size: 10px; fill: #000; opacity: 1;\">13</text></g></g></g></g></g></g><g transform=\"translate(84.5,-1)\"><path class=\"background\" d=\"MNaN,0LNaN,0CNaN,0,NaN,NaN,NaN,NaNLNaN,NaNCNaN,NaN,NaN,0,NaN,0LNaN,0CNaN,0,0,NaN,0,NaNL0,NaNC0,NaN,NaN,0,NaN,0Z\" style=\"fill: none;\"></path><g><g class=\"mark-group role-title\"><g transform=\"translate(0,-20)\"><path class=\"background\" d=\"M0,0h0v0h0Z\" style=\"pointer-events: none; fill: none;\"></path><g><g class=\"mark-text role-title-text\" style=\"pointer-events: none;\"><text text-anchor=\"middle\" transform=\"translate(0,8)\" style=\"font-family: sans-serif; font-size: 10px; fill: #000; opacity: 1;\">14</text></g></g></g></g></g></g><g transform=\"translate(91,-1)\"><path class=\"background\" d=\"MNaN,0LNaN,0CNaN,0,NaN,NaN,NaN,NaNLNaN,NaNCNaN,NaN,NaN,0,NaN,0LNaN,0CNaN,0,0,NaN,0,NaNL0,NaNC0,NaN,NaN,0,NaN,0Z\" style=\"fill: none;\"></path><g><g class=\"mark-group role-title\"><g transform=\"translate(0,-20)\"><path class=\"background\" d=\"M0,0h0v0h0Z\" style=\"pointer-events: none; fill: none;\"></path><g><g class=\"mark-text role-title-text\" style=\"pointer-events: none;\"><text text-anchor=\"middle\" transform=\"translate(0,8)\" style=\"font-family: sans-serif; font-size: 10px; fill: #000; opacity: 1;\">15</text></g></g></g></g></g></g></g><g class=\"mark-group role-column-footer column_footer\"><g transform=\"translate(0,401)\"><path class=\"background\" d=\"MNaN,0LNaN,0CNaN,0,NaN,NaN,NaN,NaNLNaN,NaNCNaN,NaN,NaN,0,NaN,0LNaN,0CNaN,0,0,NaN,0,NaNL0,NaNC0,NaN,NaN,0,NaN,0Z\" style=\"fill: none;\"></path><g><g class=\"mark-group role-axis\"><g transform=\"translate(0.5,0.5)\"><path class=\"background\" d=\"M0,0h0v0h0Z\" style=\"pointer-events: none; fill: none;\"></path><g><g class=\"mark-rule role-axis-tick\" style=\"pointer-events: none;\"><line transform=\"translate(0,0)\" x2=\"0\" y2=\"5\" style=\"fill: none; stroke: #888; stroke-width: 1; opacity: 1;\"></line><line transform=\"translate(0,0)\" x2=\"0\" y2=\"5\" style=\"fill: none; stroke: #888; stroke-width: 1; opacity: 1;\"></line></g><g class=\"mark-text role-axis-label\" style=\"pointer-events: none;\"><text text-anchor=\"end\" transform=\"translate(0,7) rotate(270) translate(0,3)\" style=\"font-family: sans-serif; font-size: 10px; fill: #000; opacity: 1;\">ats</text><text text-anchor=\"end\" transform=\"translate(0,7) rotate(270) translate(0,3)\" style=\"font-family: sans-serif; font-size: 10px; fill: #000; opacity: 1;\">otc</text></g><g class=\"mark-rule role-axis-domain\" style=\"pointer-events: none;\"><line transform=\"translate(0,0)\" x2=\"NaN\" y2=\"0\" style=\"fill: none; stroke: #888; stroke-width: 3; opacity: 1;\"></line></g><g class=\"mark-text role-axis-title\" style=\"pointer-events: none;\"><text text-anchor=\"middle\" transform=\"translate(0,36)\" style=\"font-family: sans-serif; font-size: 11px; font-weight: bold; fill: #000; opacity: 1;\"> </text></g></g></g></g></g></g><g transform=\"translate(6.5,401)\"><path class=\"background\" d=\"MNaN,0LNaN,0CNaN,0,NaN,NaN,NaN,NaNLNaN,NaNCNaN,NaN,NaN,0,NaN,0LNaN,0CNaN,0,0,NaN,0,NaNL0,NaNC0,NaN,NaN,0,NaN,0Z\" style=\"fill: none;\"></path><g><g class=\"mark-group role-axis\"><g transform=\"translate(0.5,0.5)\"><path class=\"background\" d=\"M0,0h0v0h0Z\" style=\"pointer-events: none; fill: none;\"></path><g><g class=\"mark-rule role-axis-tick\" style=\"pointer-events: none;\"><line transform=\"translate(0,0)\" x2=\"0\" y2=\"5\" style=\"fill: none; stroke: #888; stroke-width: 1; opacity: 1;\"></line><line transform=\"translate(0,0)\" x2=\"0\" y2=\"5\" style=\"fill: none; stroke: #888; stroke-width: 1; opacity: 1;\"></line></g><g class=\"mark-text role-axis-label\" style=\"pointer-events: none;\"><text text-anchor=\"end\" transform=\"translate(0,7) rotate(270) translate(0,3)\" style=\"font-family: sans-serif; font-size: 10px; fill: #000; opacity: 1;\">ats</text><text text-anchor=\"end\" transform=\"translate(0,7) rotate(270) translate(0,3)\" style=\"font-family: sans-serif; font-size: 10px; fill: #000; opacity: 1;\">otc</text></g><g class=\"mark-rule role-axis-domain\" style=\"pointer-events: none;\"><line transform=\"translate(0,0)\" x2=\"NaN\" y2=\"0\" style=\"fill: none; stroke: #888; stroke-width: 3; opacity: 1;\"></line></g><g class=\"mark-text role-axis-title\" style=\"pointer-events: none;\"><text text-anchor=\"middle\" transform=\"translate(0,36)\" style=\"font-family: sans-serif; font-size: 11px; font-weight: bold; fill: #000; opacity: 1;\"> </text></g></g></g></g></g></g><g transform=\"translate(13,401)\"><path class=\"background\" d=\"MNaN,0LNaN,0CNaN,0,NaN,NaN,NaN,NaNLNaN,NaNCNaN,NaN,NaN,0,NaN,0LNaN,0CNaN,0,0,NaN,0,NaNL0,NaNC0,NaN,NaN,0,NaN,0Z\" style=\"fill: none;\"></path><g><g class=\"mark-group role-axis\"><g transform=\"translate(0.5,0.5)\"><path class=\"background\" d=\"M0,0h0v0h0Z\" style=\"pointer-events: none; fill: none;\"></path><g><g class=\"mark-rule role-axis-tick\" style=\"pointer-events: none;\"><line transform=\"translate(0,0)\" x2=\"0\" y2=\"5\" style=\"fill: none; stroke: #888; stroke-width: 1; opacity: 1;\"></line><line transform=\"translate(0,0)\" x2=\"0\" y2=\"5\" style=\"fill: none; stroke: #888; stroke-width: 1; opacity: 1;\"></line></g><g class=\"mark-text role-axis-label\" style=\"pointer-events: none;\"><text text-anchor=\"end\" transform=\"translate(0,7) rotate(270) translate(0,3)\" style=\"font-family: sans-serif; font-size: 10px; fill: #000; opacity: 1;\">ats</text><text text-anchor=\"end\" transform=\"translate(0,7) rotate(270) translate(0,3)\" style=\"font-family: sans-serif; font-size: 10px; fill: #000; opacity: 1;\">otc</text></g><g class=\"mark-rule role-axis-domain\" style=\"pointer-events: none;\"><line transform=\"translate(0,0)\" x2=\"NaN\" y2=\"0\" style=\"fill: none; stroke: #888; stroke-width: 3; opacity: 1;\"></line></g><g class=\"mark-text role-axis-title\" style=\"pointer-events: none;\"><text text-anchor=\"middle\" transform=\"translate(0,36)\" style=\"font-family: sans-serif; font-size: 11px; font-weight: bold; fill: #000; opacity: 1;\"> </text></g></g></g></g></g></g><g transform=\"translate(19.5,401)\"><path class=\"background\" d=\"MNaN,0LNaN,0CNaN,0,NaN,NaN,NaN,NaNLNaN,NaNCNaN,NaN,NaN,0,NaN,0LNaN,0CNaN,0,0,NaN,0,NaNL0,NaNC0,NaN,NaN,0,NaN,0Z\" style=\"fill: none;\"></path><g><g class=\"mark-group role-axis\"><g transform=\"translate(0.5,0.5)\"><path class=\"background\" d=\"M0,0h0v0h0Z\" style=\"pointer-events: none; fill: none;\"></path><g><g class=\"mark-rule role-axis-tick\" style=\"pointer-events: none;\"><line transform=\"translate(0,0)\" x2=\"0\" y2=\"5\" style=\"fill: none; stroke: #888; stroke-width: 1; opacity: 1;\"></line><line transform=\"translate(0,0)\" x2=\"0\" y2=\"5\" style=\"fill: none; stroke: #888; stroke-width: 1; opacity: 1;\"></line></g><g class=\"mark-text role-axis-label\" style=\"pointer-events: none;\"><text text-anchor=\"end\" transform=\"translate(0,7) rotate(270) translate(0,3)\" style=\"font-family: sans-serif; font-size: 10px; fill: #000; opacity: 1;\">ats</text><text text-anchor=\"end\" transform=\"translate(0,7) rotate(270) translate(0,3)\" style=\"font-family: sans-serif; font-size: 10px; fill: #000; opacity: 1;\">otc</text></g><g class=\"mark-rule role-axis-domain\" style=\"pointer-events: none;\"><line transform=\"translate(0,0)\" x2=\"NaN\" y2=\"0\" style=\"fill: none; stroke: #888; stroke-width: 3; opacity: 1;\"></line></g><g class=\"mark-text role-axis-title\" style=\"pointer-events: none;\"><text text-anchor=\"middle\" transform=\"translate(0,36)\" style=\"font-family: sans-serif; font-size: 11px; font-weight: bold; fill: #000; opacity: 1;\"> </text></g></g></g></g></g></g><g transform=\"translate(26,401)\"><path class=\"background\" d=\"MNaN,0LNaN,0CNaN,0,NaN,NaN,NaN,NaNLNaN,NaNCNaN,NaN,NaN,0,NaN,0LNaN,0CNaN,0,0,NaN,0,NaNL0,NaNC0,NaN,NaN,0,NaN,0Z\" style=\"fill: none;\"></path><g><g class=\"mark-group role-axis\"><g transform=\"translate(0.5,0.5)\"><path class=\"background\" d=\"M0,0h0v0h0Z\" style=\"pointer-events: none; fill: none;\"></path><g><g class=\"mark-rule role-axis-tick\" style=\"pointer-events: none;\"><line transform=\"translate(0,0)\" x2=\"0\" y2=\"5\" style=\"fill: none; stroke: #888; stroke-width: 1; opacity: 1;\"></line><line transform=\"translate(0,0)\" x2=\"0\" y2=\"5\" style=\"fill: none; stroke: #888; stroke-width: 1; opacity: 1;\"></line></g><g class=\"mark-text role-axis-label\" style=\"pointer-events: none;\"><text text-anchor=\"end\" transform=\"translate(0,7) rotate(270) translate(0,3)\" style=\"font-family: sans-serif; font-size: 10px; fill: #000; opacity: 1;\">ats</text><text text-anchor=\"end\" transform=\"translate(0,7) rotate(270) translate(0,3)\" style=\"font-family: sans-serif; font-size: 10px; fill: #000; opacity: 1;\">otc</text></g><g class=\"mark-rule role-axis-domain\" style=\"pointer-events: none;\"><line transform=\"translate(0,0)\" x2=\"NaN\" y2=\"0\" style=\"fill: none; stroke: #888; stroke-width: 3; opacity: 1;\"></line></g><g class=\"mark-text role-axis-title\" style=\"pointer-events: none;\"><text text-anchor=\"middle\" transform=\"translate(0,36)\" style=\"font-family: sans-serif; font-size: 11px; font-weight: bold; fill: #000; opacity: 1;\"> </text></g></g></g></g></g></g><g transform=\"translate(32.5,401)\"><path class=\"background\" d=\"MNaN,0LNaN,0CNaN,0,NaN,NaN,NaN,NaNLNaN,NaNCNaN,NaN,NaN,0,NaN,0LNaN,0CNaN,0,0,NaN,0,NaNL0,NaNC0,NaN,NaN,0,NaN,0Z\" style=\"fill: none;\"></path><g><g class=\"mark-group role-axis\"><g transform=\"translate(0.5,0.5)\"><path class=\"background\" d=\"M0,0h0v0h0Z\" style=\"pointer-events: none; fill: none;\"></path><g><g class=\"mark-rule role-axis-tick\" style=\"pointer-events: none;\"><line transform=\"translate(0,0)\" x2=\"0\" y2=\"5\" style=\"fill: none; stroke: #888; stroke-width: 1; opacity: 1;\"></line><line transform=\"translate(0,0)\" x2=\"0\" y2=\"5\" style=\"fill: none; stroke: #888; stroke-width: 1; opacity: 1;\"></line></g><g class=\"mark-text role-axis-label\" style=\"pointer-events: none;\"><text text-anchor=\"end\" transform=\"translate(0,7) rotate(270) translate(0,3)\" style=\"font-family: sans-serif; font-size: 10px; fill: #000; opacity: 1;\">ats</text><text text-anchor=\"end\" transform=\"translate(0,7) rotate(270) translate(0,3)\" style=\"font-family: sans-serif; font-size: 10px; fill: #000; opacity: 1;\">otc</text></g><g class=\"mark-rule role-axis-domain\" style=\"pointer-events: none;\"><line transform=\"translate(0,0)\" x2=\"NaN\" y2=\"0\" style=\"fill: none; stroke: #888; stroke-width: 3; opacity: 1;\"></line></g><g class=\"mark-text role-axis-title\" style=\"pointer-events: none;\"><text text-anchor=\"middle\" transform=\"translate(0,36)\" style=\"font-family: sans-serif; font-size: 11px; font-weight: bold; fill: #000; opacity: 1;\"> </text></g></g></g></g></g></g><g transform=\"translate(39,401)\"><path class=\"background\" d=\"MNaN,0LNaN,0CNaN,0,NaN,NaN,NaN,NaNLNaN,NaNCNaN,NaN,NaN,0,NaN,0LNaN,0CNaN,0,0,NaN,0,NaNL0,NaNC0,NaN,NaN,0,NaN,0Z\" style=\"fill: none;\"></path><g><g class=\"mark-group role-axis\"><g transform=\"translate(0.5,0.5)\"><path class=\"background\" d=\"M0,0h0v0h0Z\" style=\"pointer-events: none; fill: none;\"></path><g><g class=\"mark-rule role-axis-tick\" style=\"pointer-events: none;\"><line transform=\"translate(0,0)\" x2=\"0\" y2=\"5\" style=\"fill: none; stroke: #888; stroke-width: 1; opacity: 1;\"></line><line transform=\"translate(0,0)\" x2=\"0\" y2=\"5\" style=\"fill: none; stroke: #888; stroke-width: 1; opacity: 1;\"></line></g><g class=\"mark-text role-axis-label\" style=\"pointer-events: none;\"><text text-anchor=\"end\" transform=\"translate(0,7) rotate(270) translate(0,3)\" style=\"font-family: sans-serif; font-size: 10px; fill: #000; opacity: 1;\">ats</text><text text-anchor=\"end\" transform=\"translate(0,7) rotate(270) translate(0,3)\" style=\"font-family: sans-serif; font-size: 10px; fill: #000; opacity: 1;\">otc</text></g><g class=\"mark-rule role-axis-domain\" style=\"pointer-events: none;\"><line transform=\"translate(0,0)\" x2=\"NaN\" y2=\"0\" style=\"fill: none; stroke: #888; stroke-width: 3; opacity: 1;\"></line></g><g class=\"mark-text role-axis-title\" style=\"pointer-events: none;\"><text text-anchor=\"middle\" transform=\"translate(0,36)\" style=\"font-family: sans-serif; font-size: 11px; font-weight: bold; fill: #000; opacity: 1;\"> </text></g></g></g></g></g></g><g transform=\"translate(45.5,401)\"><path class=\"background\" d=\"MNaN,0LNaN,0CNaN,0,NaN,NaN,NaN,NaNLNaN,NaNCNaN,NaN,NaN,0,NaN,0LNaN,0CNaN,0,0,NaN,0,NaNL0,NaNC0,NaN,NaN,0,NaN,0Z\" style=\"fill: none;\"></path><g><g class=\"mark-group role-axis\"><g transform=\"translate(0.5,0.5)\"><path class=\"background\" d=\"M0,0h0v0h0Z\" style=\"pointer-events: none; fill: none;\"></path><g><g class=\"mark-rule role-axis-tick\" style=\"pointer-events: none;\"><line transform=\"translate(0,0)\" x2=\"0\" y2=\"5\" style=\"fill: none; stroke: #888; stroke-width: 1; opacity: 1;\"></line><line transform=\"translate(0,0)\" x2=\"0\" y2=\"5\" style=\"fill: none; stroke: #888; stroke-width: 1; opacity: 1;\"></line></g><g class=\"mark-text role-axis-label\" style=\"pointer-events: none;\"><text text-anchor=\"end\" transform=\"translate(0,7) rotate(270) translate(0,3)\" style=\"font-family: sans-serif; font-size: 10px; fill: #000; opacity: 1;\">ats</text><text text-anchor=\"end\" transform=\"translate(0,7) rotate(270) translate(0,3)\" style=\"font-family: sans-serif; font-size: 10px; fill: #000; opacity: 1;\">otc</text></g><g class=\"mark-rule role-axis-domain\" style=\"pointer-events: none;\"><line transform=\"translate(0,0)\" x2=\"NaN\" y2=\"0\" style=\"fill: none; stroke: #888; stroke-width: 3; opacity: 1;\"></line></g><g class=\"mark-text role-axis-title\" style=\"pointer-events: none;\"><text text-anchor=\"middle\" transform=\"translate(0,36)\" style=\"font-family: sans-serif; font-size: 11px; font-weight: bold; fill: #000; opacity: 1;\"> </text></g></g></g></g></g></g><g transform=\"translate(52,401)\"><path class=\"background\" d=\"MNaN,0LNaN,0CNaN,0,NaN,NaN,NaN,NaNLNaN,NaNCNaN,NaN,NaN,0,NaN,0LNaN,0CNaN,0,0,NaN,0,NaNL0,NaNC0,NaN,NaN,0,NaN,0Z\" style=\"fill: none;\"></path><g><g class=\"mark-group role-axis\"><g transform=\"translate(0.5,0.5)\"><path class=\"background\" d=\"M0,0h0v0h0Z\" style=\"pointer-events: none; fill: none;\"></path><g><g class=\"mark-rule role-axis-tick\" style=\"pointer-events: none;\"><line transform=\"translate(0,0)\" x2=\"0\" y2=\"5\" style=\"fill: none; stroke: #888; stroke-width: 1; opacity: 1;\"></line><line transform=\"translate(0,0)\" x2=\"0\" y2=\"5\" style=\"fill: none; stroke: #888; stroke-width: 1; opacity: 1;\"></line></g><g class=\"mark-text role-axis-label\" style=\"pointer-events: none;\"><text text-anchor=\"end\" transform=\"translate(0,7) rotate(270) translate(0,3)\" style=\"font-family: sans-serif; font-size: 10px; fill: #000; opacity: 1;\">ats</text><text text-anchor=\"end\" transform=\"translate(0,7) rotate(270) translate(0,3)\" style=\"font-family: sans-serif; font-size: 10px; fill: #000; opacity: 1;\">otc</text></g><g class=\"mark-rule role-axis-domain\" style=\"pointer-events: none;\"><line transform=\"translate(0,0)\" x2=\"NaN\" y2=\"0\" style=\"fill: none; stroke: #888; stroke-width: 3; opacity: 1;\"></line></g><g class=\"mark-text role-axis-title\" style=\"pointer-events: none;\"><text text-anchor=\"middle\" transform=\"translate(0,36)\" style=\"font-family: sans-serif; font-size: 11px; font-weight: bold; fill: #000; opacity: 1;\"> </text></g></g></g></g></g></g><g transform=\"translate(58.5,401)\"><path class=\"background\" d=\"MNaN,0LNaN,0CNaN,0,NaN,NaN,NaN,NaNLNaN,NaNCNaN,NaN,NaN,0,NaN,0LNaN,0CNaN,0,0,NaN,0,NaNL0,NaNC0,NaN,NaN,0,NaN,0Z\" style=\"fill: none;\"></path><g><g class=\"mark-group role-axis\"><g transform=\"translate(0.5,0.5)\"><path class=\"background\" d=\"M0,0h0v0h0Z\" style=\"pointer-events: none; fill: none;\"></path><g><g class=\"mark-rule role-axis-tick\" style=\"pointer-events: none;\"><line transform=\"translate(0,0)\" x2=\"0\" y2=\"5\" style=\"fill: none; stroke: #888; stroke-width: 1; opacity: 1;\"></line><line transform=\"translate(0,0)\" x2=\"0\" y2=\"5\" style=\"fill: none; stroke: #888; stroke-width: 1; opacity: 1;\"></line></g><g class=\"mark-text role-axis-label\" style=\"pointer-events: none;\"><text text-anchor=\"end\" transform=\"translate(0,7) rotate(270) translate(0,3)\" style=\"font-family: sans-serif; font-size: 10px; fill: #000; opacity: 1;\">ats</text><text text-anchor=\"end\" transform=\"translate(0,7) rotate(270) translate(0,3)\" style=\"font-family: sans-serif; font-size: 10px; fill: #000; opacity: 1;\">otc</text></g><g class=\"mark-rule role-axis-domain\" style=\"pointer-events: none;\"><line transform=\"translate(0,0)\" x2=\"NaN\" y2=\"0\" style=\"fill: none; stroke: #888; stroke-width: 3; opacity: 1;\"></line></g><g class=\"mark-text role-axis-title\" style=\"pointer-events: none;\"><text text-anchor=\"middle\" transform=\"translate(0,36)\" style=\"font-family: sans-serif; font-size: 11px; font-weight: bold; fill: #000; opacity: 1;\"> </text></g></g></g></g></g></g><g transform=\"translate(65,401)\"><path class=\"background\" d=\"MNaN,0LNaN,0CNaN,0,NaN,NaN,NaN,NaNLNaN,NaNCNaN,NaN,NaN,0,NaN,0LNaN,0CNaN,0,0,NaN,0,NaNL0,NaNC0,NaN,NaN,0,NaN,0Z\" style=\"fill: none;\"></path><g><g class=\"mark-group role-axis\"><g transform=\"translate(0.5,0.5)\"><path class=\"background\" d=\"M0,0h0v0h0Z\" style=\"pointer-events: none; fill: none;\"></path><g><g class=\"mark-rule role-axis-tick\" style=\"pointer-events: none;\"><line transform=\"translate(0,0)\" x2=\"0\" y2=\"5\" style=\"fill: none; stroke: #888; stroke-width: 1; opacity: 1;\"></line><line transform=\"translate(0,0)\" x2=\"0\" y2=\"5\" style=\"fill: none; stroke: #888; stroke-width: 1; opacity: 1;\"></line></g><g class=\"mark-text role-axis-label\" style=\"pointer-events: none;\"><text text-anchor=\"end\" transform=\"translate(0,7) rotate(270) translate(0,3)\" style=\"font-family: sans-serif; font-size: 10px; fill: #000; opacity: 1;\">ats</text><text text-anchor=\"end\" transform=\"translate(0,7) rotate(270) translate(0,3)\" style=\"font-family: sans-serif; font-size: 10px; fill: #000; opacity: 1;\">otc</text></g><g class=\"mark-rule role-axis-domain\" style=\"pointer-events: none;\"><line transform=\"translate(0,0)\" x2=\"NaN\" y2=\"0\" style=\"fill: none; stroke: #888; stroke-width: 3; opacity: 1;\"></line></g><g class=\"mark-text role-axis-title\" style=\"pointer-events: none;\"><text text-anchor=\"middle\" transform=\"translate(0,36)\" style=\"font-family: sans-serif; font-size: 11px; font-weight: bold; fill: #000; opacity: 1;\"> </text></g></g></g></g></g></g><g transform=\"translate(71.5,401)\"><path class=\"background\" d=\"MNaN,0LNaN,0CNaN,0,NaN,NaN,NaN,NaNLNaN,NaNCNaN,NaN,NaN,0,NaN,0LNaN,0CNaN,0,0,NaN,0,NaNL0,NaNC0,NaN,NaN,0,NaN,0Z\" style=\"fill: none;\"></path><g><g class=\"mark-group role-axis\"><g transform=\"translate(0.5,0.5)\"><path class=\"background\" d=\"M0,0h0v0h0Z\" style=\"pointer-events: none; fill: none;\"></path><g><g class=\"mark-rule role-axis-tick\" style=\"pointer-events: none;\"><line transform=\"translate(0,0)\" x2=\"0\" y2=\"5\" style=\"fill: none; stroke: #888; stroke-width: 1; opacity: 1;\"></line><line transform=\"translate(0,0)\" x2=\"0\" y2=\"5\" style=\"fill: none; stroke: #888; stroke-width: 1; opacity: 1;\"></line></g><g class=\"mark-text role-axis-label\" style=\"pointer-events: none;\"><text text-anchor=\"end\" transform=\"translate(0,7) rotate(270) translate(0,3)\" style=\"font-family: sans-serif; font-size: 10px; fill: #000; opacity: 1;\">ats</text><text text-anchor=\"end\" transform=\"translate(0,7) rotate(270) translate(0,3)\" style=\"font-family: sans-serif; font-size: 10px; fill: #000; opacity: 1;\">otc</text></g><g class=\"mark-rule role-axis-domain\" style=\"pointer-events: none;\"><line transform=\"translate(0,0)\" x2=\"NaN\" y2=\"0\" style=\"fill: none; stroke: #888; stroke-width: 3; opacity: 1;\"></line></g><g class=\"mark-text role-axis-title\" style=\"pointer-events: none;\"><text text-anchor=\"middle\" transform=\"translate(0,36)\" style=\"font-family: sans-serif; font-size: 11px; font-weight: bold; fill: #000; opacity: 1;\"> </text></g></g></g></g></g></g><g transform=\"translate(78,401)\"><path class=\"background\" d=\"MNaN,0LNaN,0CNaN,0,NaN,NaN,NaN,NaNLNaN,NaNCNaN,NaN,NaN,0,NaN,0LNaN,0CNaN,0,0,NaN,0,NaNL0,NaNC0,NaN,NaN,0,NaN,0Z\" style=\"fill: none;\"></path><g><g class=\"mark-group role-axis\"><g transform=\"translate(0.5,0.5)\"><path class=\"background\" d=\"M0,0h0v0h0Z\" style=\"pointer-events: none; fill: none;\"></path><g><g class=\"mark-rule role-axis-tick\" style=\"pointer-events: none;\"><line transform=\"translate(0,0)\" x2=\"0\" y2=\"5\" style=\"fill: none; stroke: #888; stroke-width: 1; opacity: 1;\"></line><line transform=\"translate(0,0)\" x2=\"0\" y2=\"5\" style=\"fill: none; stroke: #888; stroke-width: 1; opacity: 1;\"></line></g><g class=\"mark-text role-axis-label\" style=\"pointer-events: none;\"><text text-anchor=\"end\" transform=\"translate(0,7) rotate(270) translate(0,3)\" style=\"font-family: sans-serif; font-size: 10px; fill: #000; opacity: 1;\">ats</text><text text-anchor=\"end\" transform=\"translate(0,7) rotate(270) translate(0,3)\" style=\"font-family: sans-serif; font-size: 10px; fill: #000; opacity: 1;\">otc</text></g><g class=\"mark-rule role-axis-domain\" style=\"pointer-events: none;\"><line transform=\"translate(0,0)\" x2=\"NaN\" y2=\"0\" style=\"fill: none; stroke: #888; stroke-width: 3; opacity: 1;\"></line></g><g class=\"mark-text role-axis-title\" style=\"pointer-events: none;\"><text text-anchor=\"middle\" transform=\"translate(0,36)\" style=\"font-family: sans-serif; font-size: 11px; font-weight: bold; fill: #000; opacity: 1;\"> </text></g></g></g></g></g></g><g transform=\"translate(84.5,401)\"><path class=\"background\" d=\"MNaN,0LNaN,0CNaN,0,NaN,NaN,NaN,NaNLNaN,NaNCNaN,NaN,NaN,0,NaN,0LNaN,0CNaN,0,0,NaN,0,NaNL0,NaNC0,NaN,NaN,0,NaN,0Z\" style=\"fill: none;\"></path><g><g class=\"mark-group role-axis\"><g transform=\"translate(0.5,0.5)\"><path class=\"background\" d=\"M0,0h0v0h0Z\" style=\"pointer-events: none; fill: none;\"></path><g><g class=\"mark-rule role-axis-tick\" style=\"pointer-events: none;\"><line transform=\"translate(0,0)\" x2=\"0\" y2=\"5\" style=\"fill: none; stroke: #888; stroke-width: 1; opacity: 1;\"></line><line transform=\"translate(0,0)\" x2=\"0\" y2=\"5\" style=\"fill: none; stroke: #888; stroke-width: 1; opacity: 1;\"></line></g><g class=\"mark-text role-axis-label\" style=\"pointer-events: none;\"><text text-anchor=\"end\" transform=\"translate(0,7) rotate(270) translate(0,3)\" style=\"font-family: sans-serif; font-size: 10px; fill: #000; opacity: 1;\">ats</text><text text-anchor=\"end\" transform=\"translate(0,7) rotate(270) translate(0,3)\" style=\"font-family: sans-serif; font-size: 10px; fill: #000; opacity: 1;\">otc</text></g><g class=\"mark-rule role-axis-domain\" style=\"pointer-events: none;\"><line transform=\"translate(0,0)\" x2=\"NaN\" y2=\"0\" style=\"fill: none; stroke: #888; stroke-width: 3; opacity: 1;\"></line></g><g class=\"mark-text role-axis-title\" style=\"pointer-events: none;\"><text text-anchor=\"middle\" transform=\"translate(0,36)\" style=\"font-family: sans-serif; font-size: 11px; font-weight: bold; fill: #000; opacity: 1;\"> </text></g></g></g></g></g></g><g transform=\"translate(91,401)\"><path class=\"background\" d=\"MNaN,0LNaN,0CNaN,0,NaN,NaN,NaN,NaNLNaN,NaNCNaN,NaN,NaN,0,NaN,0LNaN,0CNaN,0,0,NaN,0,NaNL0,NaNC0,NaN,NaN,0,NaN,0Z\" style=\"fill: none;\"></path><g><g class=\"mark-group role-axis\"><g transform=\"translate(0.5,0.5)\"><path class=\"background\" d=\"M0,0h0v0h0Z\" style=\"pointer-events: none; fill: none;\"></path><g><g class=\"mark-rule role-axis-tick\" style=\"pointer-events: none;\"><line transform=\"translate(0,0)\" x2=\"0\" y2=\"5\" style=\"fill: none; stroke: #888; stroke-width: 1; opacity: 1;\"></line><line transform=\"translate(0,0)\" x2=\"0\" y2=\"5\" style=\"fill: none; stroke: #888; stroke-width: 1; opacity: 1;\"></line></g><g class=\"mark-text role-axis-label\" style=\"pointer-events: none;\"><text text-anchor=\"end\" transform=\"translate(0,7) rotate(270) translate(0,3)\" style=\"font-family: sans-serif; font-size: 10px; fill: #000; opacity: 1;\">ats</text><text text-anchor=\"end\" transform=\"translate(0,7) rotate(270) translate(0,3)\" style=\"font-family: sans-serif; font-size: 10px; fill: #000; opacity: 1;\">otc</text></g><g class=\"mark-rule role-axis-domain\" style=\"pointer-events: none;\"><line transform=\"translate(0,0)\" x2=\"NaN\" y2=\"0\" style=\"fill: none; stroke: #888; stroke-width: 3; opacity: 1;\"></line></g><g class=\"mark-text role-axis-title\" style=\"pointer-events: none;\"><text text-anchor=\"middle\" transform=\"translate(0,36)\" style=\"font-family: sans-serif; font-size: 11px; font-weight: bold; fill: #000; opacity: 1;\"> </text></g></g></g></g></g></g></g><g class=\"mark-group role-scope cell\"><g transform=\"translate(0,0)\"><path class=\"background\" d=\"MNaN,0.5LNaN,0.5CNaN,0.5,NaN,NaN,NaN,NaNLNaN,NaNCNaN,NaN,NaN,400.5,NaN,400.5LNaN,400.5CNaN,400.5,0.5,NaN,0.5,NaNL0.5,NaNC0.5,NaN,NaN,0.5,NaN,0.5Z\" style=\"fill: none; stroke: none;\"></path><g><g class=\"mark-rect role-mark child_marks\"><path d=\"M0,345.2h0v54.80000000000001h0Z\" style=\"fill: rgb(53, 183, 121);\"></path><path d=\"M0,346.4h0v53.60000000000002h0Z\" style=\"fill: rgb(49, 104, 142);\"></path></g></g></g><g transform=\"translate(6.5,0)\"><path class=\"background\" d=\"MNaN,0.5LNaN,0.5CNaN,0.5,NaN,NaN,NaN,NaNLNaN,NaNCNaN,NaN,NaN,400.5,NaN,400.5LNaN,400.5CNaN,400.5,0.5,NaN,0.5,NaNL0.5,NaNC0.5,NaN,NaN,0.5,NaN,0.5Z\" style=\"fill: none; stroke: none;\"></path><g><g class=\"mark-rect role-mark child_marks\"><path d=\"M0,87.80000000000001h0v312.2h0Z\" style=\"fill: rgb(53, 183, 121);\"></path><path d=\"M0,95.19999999999999h0v304.8h0Z\" style=\"fill: rgb(49, 104, 142);\"></path></g></g></g><g transform=\"translate(13,0)\"><path class=\"background\" d=\"MNaN,0.5LNaN,0.5CNaN,0.5,NaN,NaN,NaN,NaNLNaN,NaNCNaN,NaN,NaN,400.5,NaN,400.5LNaN,400.5CNaN,400.5,0.5,NaN,0.5,NaNL0.5,NaNC0.5,NaN,NaN,0.5,NaN,0.5Z\" style=\"fill: none; stroke: none;\"></path><g><g class=\"mark-rect role-mark child_marks\"><path d=\"M0,395.6h0v4.399999999999977h0Z\" style=\"fill: rgb(53, 183, 121);\"></path><path d=\"M0,395.6h0v4.399999999999977h0Z\" style=\"fill: rgb(49, 104, 142);\"></path></g></g></g><g transform=\"translate(19.5,0)\"><path class=\"background\" d=\"MNaN,0.5LNaN,0.5CNaN,0.5,NaN,NaN,NaN,NaNLNaN,NaNCNaN,NaN,NaN,400.5,NaN,400.5LNaN,400.5CNaN,400.5,0.5,NaN,0.5,NaNL0.5,NaNC0.5,NaN,NaN,0.5,NaN,0.5Z\" style=\"fill: none; stroke: none;\"></path><g><g class=\"mark-rect role-mark child_marks\"><path d=\"M0,392h0v8h0Z\" style=\"fill: rgb(53, 183, 121);\"></path><path d=\"M0,392.2h0v7.800000000000011h0Z\" style=\"fill: rgb(49, 104, 142);\"></path></g></g></g><g transform=\"translate(26,0)\"><path class=\"background\" d=\"MNaN,0.5LNaN,0.5CNaN,0.5,NaN,NaN,NaN,NaNLNaN,NaNCNaN,NaN,NaN,400.5,NaN,400.5LNaN,400.5CNaN,400.5,0.5,NaN,0.5,NaNL0.5,NaNC0.5,NaN,NaN,0.5,NaN,0.5Z\" style=\"fill: none; stroke: none;\"></path><g><g class=\"mark-rect role-mark child_marks\"><path d=\"M0,398.6h0v1.3999999999999773h0Z\" style=\"fill: rgb(53, 183, 121);\"></path><path d=\"M0,398.8h0v1.1999999999999886h0Z\" style=\"fill: rgb(49, 104, 142);\"></path></g></g></g><g transform=\"translate(32.5,0)\"><path class=\"background\" d=\"MNaN,0.5LNaN,0.5CNaN,0.5,NaN,NaN,NaN,NaNLNaN,NaNCNaN,NaN,NaN,400.5,NaN,400.5LNaN,400.5CNaN,400.5,0.5,NaN,0.5,NaNL0.5,NaNC0.5,NaN,NaN,0.5,NaN,0.5Z\" style=\"fill: none; stroke: none;\"></path><g><g class=\"mark-rect role-mark child_marks\"><path d=\"M0,139h0v261h0Z\" style=\"fill: rgb(53, 183, 121);\"></path><path d=\"M0,145.00000000000003h0v254.99999999999997h0Z\" style=\"fill: rgb(49, 104, 142);\"></path></g></g></g><g transform=\"translate(39,0)\"><path class=\"background\" d=\"MNaN,0.5LNaN,0.5CNaN,0.5,NaN,NaN,NaN,NaNLNaN,NaNCNaN,NaN,NaN,400.5,NaN,400.5LNaN,400.5CNaN,400.5,0.5,NaN,0.5,NaNL0.5,NaNC0.5,NaN,NaN,0.5,NaN,0.5Z\" style=\"fill: none; stroke: none;\"></path><g><g class=\"mark-rect role-mark child_marks\"><path d=\"M0,12.599999999999989h0v387.40000000000003h0Z\" style=\"fill: rgb(53, 183, 121);\"></path><path d=\"M0,35.400000000000006h0v364.6h0Z\" style=\"fill: rgb(49, 104, 142);\"></path></g></g></g><g transform=\"translate(45.5,0)\"><path class=\"background\" d=\"MNaN,0.5LNaN,0.5CNaN,0.5,NaN,NaN,NaN,NaNLNaN,NaNCNaN,NaN,NaN,400.5,NaN,400.5LNaN,400.5CNaN,400.5,0.5,NaN,0.5,NaNL0.5,NaNC0.5,NaN,NaN,0.5,NaN,0.5Z\" style=\"fill: none; stroke: none;\"></path><g><g class=\"mark-rect role-mark child_marks\"><path d=\"M0,244.59999999999997h0v155.40000000000003h0Z\" style=\"fill: rgb(53, 183, 121);\"></path><path d=\"M0,246.60000000000002h0v153.39999999999998h0Z\" style=\"fill: rgb(49, 104, 142);\"></path></g></g></g><g transform=\"translate(52,0)\"><path class=\"background\" d=\"MNaN,0.5LNaN,0.5CNaN,0.5,NaN,NaN,NaN,NaNLNaN,NaNCNaN,NaN,NaN,400.5,NaN,400.5LNaN,400.5CNaN,400.5,0.5,NaN,0.5,NaNL0.5,NaNC0.5,NaN,NaN,0.5,NaN,0.5Z\" style=\"fill: none; stroke: none;\"></path><g><g class=\"mark-rect role-mark child_marks\"><path d=\"M0,358.59999999999997h0v41.400000000000034h0Z\" style=\"fill: rgb(53, 183, 121);\"></path><path d=\"M0,359h0v41h0Z\" style=\"fill: rgb(49, 104, 142);\"></path></g></g></g><g transform=\"translate(58.5,0)\"><path class=\"background\" d=\"MNaN,0.5LNaN,0.5CNaN,0.5,NaN,NaN,NaN,NaNLNaN,NaNCNaN,NaN,NaN,400.5,NaN,400.5LNaN,400.5CNaN,400.5,0.5,NaN,0.5,NaNL0.5,NaNC0.5,NaN,NaN,0.5,NaN,0.5Z\" style=\"fill: none; stroke: none;\"></path><g><g class=\"mark-rect role-mark child_marks\"><path d=\"M0,389.59999999999997h0v10.400000000000034h0Z\" style=\"fill: rgb(53, 183, 121);\"></path><path d=\"M0,389.8h0v10.199999999999989h0Z\" style=\"fill: rgb(49, 104, 142);\"></path></g></g></g><g transform=\"translate(65,0)\"><path class=\"background\" d=\"MNaN,0.5LNaN,0.5CNaN,0.5,NaN,NaN,NaN,NaNLNaN,NaNCNaN,NaN,NaN,400.5,NaN,400.5LNaN,400.5CNaN,400.5,0.5,NaN,0.5,NaNL0.5,NaNC0.5,NaN,NaN,0.5,NaN,0.5Z\" style=\"fill: none; stroke: none;\"></path><g><g class=\"mark-rect role-mark child_marks\"><path d=\"M0,56.00000000000001h0v344h0Z\" style=\"fill: rgb(53, 183, 121);\"></path><path d=\"M0,75h0v325h0Z\" style=\"fill: rgb(49, 104, 142);\"></path></g></g></g><g transform=\"translate(71.5,0)\"><path class=\"background\" d=\"MNaN,0.5LNaN,0.5CNaN,0.5,NaN,NaN,NaN,NaNLNaN,NaNCNaN,NaN,NaN,400.5,NaN,400.5LNaN,400.5CNaN,400.5,0.5,NaN,0.5,NaNL0.5,NaNC0.5,NaN,NaN,0.5,NaN,0.5Z\" style=\"fill: none; stroke: none;\"></path><g><g class=\"mark-rect role-mark child_marks\"><path d=\"M0,191h0v209h0Z\" style=\"fill: rgb(53, 183, 121);\"></path><path d=\"M0,203.00000000000003h0v196.99999999999997h0Z\" style=\"fill: rgb(49, 104, 142);\"></path></g></g></g><g transform=\"translate(78,0)\"><path class=\"background\" d=\"MNaN,0.5LNaN,0.5CNaN,0.5,NaN,NaN,NaN,NaNLNaN,NaNCNaN,NaN,NaN,400.5,NaN,400.5LNaN,400.5CNaN,400.5,0.5,NaN,0.5,NaNL0.5,NaNC0.5,NaN,NaN,0.5,NaN,0.5Z\" style=\"fill: none; stroke: none;\"></path><g><g class=\"mark-rect role-mark child_marks\"><path d=\"M0,52.800000000000004h0v347.2h0Z\" style=\"fill: rgb(53, 183, 121);\"></path><path d=\"M0,70.19999999999999h0v329.8h0Z\" style=\"fill: rgb(49, 104, 142);\"></path></g></g></g><g transform=\"translate(84.5,0)\"><path class=\"background\" d=\"MNaN,0.5LNaN,0.5CNaN,0.5,NaN,NaN,NaN,NaNLNaN,NaNCNaN,NaN,NaN,400.5,NaN,400.5LNaN,400.5CNaN,400.5,0.5,NaN,0.5,NaNL0.5,NaNC0.5,NaN,NaN,0.5,NaN,0.5Z\" style=\"fill: none; stroke: none;\"></path><g><g class=\"mark-rect role-mark child_marks\"><path d=\"M0,337h0v63h0Z\" style=\"fill: rgb(53, 183, 121);\"></path><path d=\"M0,338.6h0v61.39999999999998h0Z\" style=\"fill: rgb(49, 104, 142);\"></path></g></g></g><g transform=\"translate(91,0)\"><path class=\"background\" d=\"MNaN,0.5LNaN,0.5CNaN,0.5,NaN,NaN,NaN,NaNLNaN,NaNCNaN,NaN,NaN,400.5,NaN,400.5LNaN,400.5CNaN,400.5,0.5,NaN,0.5,NaNL0.5,NaNC0.5,NaN,NaN,0.5,NaN,0.5Z\" style=\"fill: none; stroke: none;\"></path><g><g class=\"mark-rect role-mark child_marks\"><path d=\"M0,55.399999999999984h0v344.6h0Z\" style=\"fill: rgb(53, 183, 121);\"></path><path d=\"M0,72.80000000000003h0v327.2h0Z\" style=\"fill: rgb(49, 104, 142);\"></path></g></g></g></g><g class=\"mark-group role-legend\"><g transform=\"translate(123,0)\"><path class=\"background\" d=\"M0,0h111v40h-111Z\" style=\"pointer-events: none; fill: none;\"></path><g><g class=\"mark-group role-legend-entry\"><g transform=\"translate(0,16)\"><path class=\"background\" d=\"M0,0h0v0h0Z\" style=\"pointer-events: none; fill: none;\"></path><g><g class=\"mark-group role-scope\"><g transform=\"translate(0,0)\"><path class=\"background\" d=\"M0,0h32v11h-32Z\" style=\"pointer-events: none; fill: none; opacity: 1;\"></path><g><g class=\"mark-symbol role-legend-symbol\" style=\"pointer-events: none;\"><path transform=\"translate(6,6)\" d=\"M-5,-5h10v10h-10Z\" style=\"fill: rgb(49, 104, 142); stroke-width: 1.5; opacity: 1;\"></path></g><g class=\"mark-text role-legend-label\" style=\"pointer-events: none;\"><text text-anchor=\"start\" transform=\"translate(16,9)\" style=\"font-family: sans-serif; font-size: 10px; fill: #000; opacity: 1;\">ats</text></g></g></g><g transform=\"translate(0,13)\"><path class=\"background\" d=\"M0,0h32v11h-32Z\" style=\"pointer-events: none; fill: none; opacity: 1;\"></path><g><g class=\"mark-symbol role-legend-symbol\" style=\"pointer-events: none;\"><path transform=\"translate(6,6)\" d=\"M-5,-5h10v10h-10Z\" style=\"fill: rgb(53, 183, 121); stroke-width: 1.5; opacity: 1;\"></path></g><g class=\"mark-text role-legend-label\" style=\"pointer-events: none;\"><text text-anchor=\"start\" transform=\"translate(16,9)\" style=\"font-family: sans-serif; font-size: 10px; fill: #000; opacity: 1;\">otc</text></g></g></g></g></g></g></g><g class=\"mark-text role-legend-title\" style=\"pointer-events: none;\"><text text-anchor=\"start\" transform=\"translate(0,9)\" style=\"font-family: sans-serif; font-size: 11px; font-weight: bold; fill: #000; opacity: 1;\">Secondary Market</text></g></g></g></g><g class=\"mark-group role-title\"><g transform=\"translate(92,-86)\"><path class=\"background\" d=\"M0,0h0v0h0Z\" style=\"pointer-events: none; fill: none;\"></path><g><g class=\"mark-text role-title-text\" style=\"pointer-events: none;\"><text text-anchor=\"middle\" transform=\"translate(0,11)\" style=\"font-family: sans-serif; font-size: 14px; font-weight: bold; fill: #000; opacity: 1;\">Number of Issuers of Non-MTN-Bonds Traded per Covenant Category - 2019Q2</text></g></g></g></g></g></g></g></g></svg>"
      ],
      "text/plain": [
       "VegaLite.VLSpec{:plot}"
      ]
     },
     "execution_count": 6,
     "metadata": {},
     "output_type": "execute_result"
    }
   ],
   "source": [
    "pl[1]"
   ]
  },
  {
   "cell_type": "code",
   "execution_count": null,
   "metadata": {},
   "outputs": [],
   "source": []
  },
  {
   "cell_type": "code",
   "execution_count": 112,
   "metadata": {},
   "outputs": [
    {
     "name": "stderr",
     "output_type": "stream",
     "text": [
      "WARNING: replacing module DataMod.\n",
      "WARNING: replacing module StatsMod.\n",
      "WARNING: replacing module PlotMod.\n",
      "WARNING: replacing module PlotMod.\n",
      "WARNING: replacing module PlotMod.\n",
      "WARNING: replacing module PlotMod.\n"
     ]
    },
    {
     "data": {
      "text/plain": [
       "18-element Array{Any,1}:\n",
       " VegaLite.VLSpec\n",
       " VegaLite.VLSpec\n",
       " VegaLite.VLSpec\n",
       " VegaLite.VLSpec\n",
       " VegaLite.VLSpec\n",
       " VegaLite.VLSpec\n",
       " VegaLite.VLSpec\n",
       " VegaLite.VLSpec\n",
       " VegaLite.VLSpec\n",
       " VegaLite.VLSpec\n",
       " VegaLite.VLSpec\n",
       " VegaLite.VLSpec\n",
       " VegaLite.VLSpec\n",
       " VegaLite.VLSpec\n",
       " VegaLite.VLSpec\n",
       " VegaLite.VLSpec\n",
       " VegaLite.VLSpec\n",
       " VegaLite.VLSpec"
      ]
     },
     "execution_count": 112,
     "metadata": {},
     "output_type": "execute_result"
    }
   ],
   "source": [
    "include(string(joinpath(scripts_path, \"plot_num_covs\"), \".jl\"))\n",
    "pl"
   ]
  },
  {
   "cell_type": "code",
   "execution_count": null,
   "metadata": {},
   "outputs": [],
   "source": []
  },
  {
   "cell_type": "code",
   "execution_count": null,
   "metadata": {},
   "outputs": [],
   "source": []
  }
 ],
 "metadata": {
  "kernelspec": {
   "display_name": "Julia 1.5.2",
   "language": "julia",
   "name": "julia-1.5"
  },
  "language_info": {
   "file_extension": ".jl",
   "mimetype": "application/julia",
   "name": "julia",
   "version": "1.5.2"
  }
 },
 "nbformat": 4,
 "nbformat_minor": 4
}
