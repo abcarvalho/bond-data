{
 "cells": [
  {
   "cell_type": "code",
   "execution_count": 1,
   "metadata": {},
   "outputs": [
    {
     "name": "stderr",
     "output_type": "stream",
     "text": [
      "┌ Info: Precompiling VegaLite [112f6efa-9a02-5b7d-90c0-432ed331239a]\n",
      "└ @ Base loading.jl:1278\n",
      "┌ Info: Precompiling VegaDatasets [0ae4a718-28b7-58ec-9efb-cded64d6d5b4]\n",
      "└ @ Base loading.jl:1278\n"
     ]
    },
    {
     "data": {
      "text/plain": [
       "1000"
      ]
     },
     "execution_count": 1,
     "metadata": {},
     "output_type": "execute_result"
    }
   ],
   "source": [
    "using DataFrames\n",
    "using Printf\n",
    "using CSV\n",
    "using Dates\n",
    "using DayCounts\n",
    "using Revise\n",
    "using VegaLite\n",
    "\n",
    "using Distributed\n",
    "if nprocs() == 1\n",
    "    addprocs(11)\n",
    "end\n",
    "@everywhere main_path = \"/home/artur/BondPricing/bond-data\"\n",
    "@everywhere module_path = string(main_path, \"/module\")\n",
    "@everywhere script_path = string(main_path, \"/data-scripts\")\n",
    "@everywhere include(string(joinpath(module_path, \"data_module\"), \".jl\"))\n",
    "@everywhere include(string(joinpath(module_path, \"stats_module\"), \".jl\"))\n",
    "@everywhere include(string(joinpath(module_path, \"plot_module\"), \".jl\"))\n",
    "\n",
    "ENV[\"LINES\"] = 100\n",
    "ENV[\"COLUMNS\"] = 1000"
   ]
  },
  {
   "cell_type": "code",
   "execution_count": 94,
   "metadata": {
    "scrolled": true
   },
   "outputs": [
    {
     "name": "stdout",
     "output_type": "stream",
     "text": [
      "      From worker 3:\tWARNING: replacing module StatsMod.\n",
      "      From worker 9:\tWARNING: replacing module StatsMod.\n",
      "      From worker 4:\tWARNING: replacing module StatsMod.\n",
      "      From worker 7:\tWARNING: replacing module StatsMod.\n",
      "      From worker 13:\tWARNING: replacing module StatsMod.\n",
      "      From worker 11:\tWARNING: replacing module StatsMod.\n",
      "      From worker 2:\tWARNING: replacing module StatsMod.\n",
      "      From worker 5:\tWARNING: replacing module StatsMod.\n",
      "      From worker 12:\tWARNING: replacing module StatsMod.\n",
      "      From worker 6:\tWARNING: replacing module StatsMod.\n",
      "      From worker 8:\tWARNING: replacing module StatsMod.\n",
      "      From worker 10:\tWARNING: replacing module StatsMod.\n"
     ]
    },
    {
     "name": "stderr",
     "output_type": "stream",
     "text": [
      "WARNING: replacing module StatsMod.\n"
     ]
    },
    {
     "name": "stdout",
     "output_type": "stream",
     "text": [
      "201.008180 seconds (2.79 M allocations: 68.179 MiB)\n",
      " \n",
      "Filename: 2019Q2_stats_by_cov_cat.csv\n",
      " \n",
      "Saving dataframe to folder: /home/artur/BondPricing/bond-data/data/Stats/2019...\n",
      "Done!\n",
      " 38.145637 seconds (2.76 M allocations: 66.652 MiB, 0.21% gc time)\n",
      " \n",
      "Filename: 2019Q2_stats_by_num_cov.csv\n",
      " \n",
      "Saving dataframe to folder: /home/artur/BondPricing/bond-data/data/Stats/2019...\n",
      "Done!\n"
     ]
    }
   ],
   "source": [
    "using Statistics\n",
    "using Distributed\n",
    "@everywhere include(string(joinpath(module_path, \"data_module\"), \".jl\"))\n",
    "@everywhere include(string(joinpath(module_path, \"stats_module\"), \".jl\"))\n",
    "\n",
    "dto = DataMod.data_obj_constructor()\n",
    "\n",
    "@time include(string(script_path, \"/merge_trace_mergent.jl\"))\n",
    "\n",
    "# Generate Trade Execution Quarter variable:\n",
    "if !(:trd_exctn_qtr in Symbol.(names(fdf)))\n",
    "    fdf[!, :trd_exctn_qtr] .= Int64.(ceil.(fdf[!, :trd_exctn_mo]/3))\n",
    "end\n",
    "\n",
    "# Groupby Date Variables:\n",
    "date_cols = [:trd_exctn_yr, :trd_exctn_qtr]\n",
    "# Form combinations of ATS, IG and COVENANT filters\n",
    "combdf =  StatsMod.get_filter_combinations()\n",
    "# Select cols and create smk indicator variable:\n",
    "ffdf = StatsMod.filter_selected(fdf; date_cols=date_cols)\n",
    "\n",
    "# STATS BY COVENANT CATEGORIES #######################################\n",
    "dfl_qtr = @time fetch(Distributed.@spawn [StatsMod.stats_generator(ffdf,\n",
    "                                       StatsMod.dfrow2dict(combdf, row);\n",
    "                                       groupby_date_cols=date_cols)\n",
    "                          for row in 1:size(combdf, 1)])\n",
    "dfa_qtr = sort(vcat(dfl_qtr...), names(combdf))\n",
    "dfa_qtr = StatsMod.gen_sbm_rt_cvt_cat_vars(dfa_qtr)\n",
    "StatsMod.save_stats_data(dto, dfa_qtr)\n",
    "\n",
    "# STATS BY NUMBER OF COVENANTS #######################################\n",
    "ffdf[!, :sum_num_cov] .= sum([ffdf[:, Symbol(:cg, x)] for x in 1:15])\n",
    "dfl = []\n",
    "combdf =  StatsMod.get_filter_combinations()\n",
    "combdf = StatsMod.gen_sbm_rt_cvt_cat_vars(combdf)\n",
    "\n",
    "dfl = @time fetch(Distributed.@spawn [StatsMod.compute_stats_by_num_cov(ffdf, sbm, rt, combdf) for \n",
    "                    sbm in [:any, :ats, :otc], rt in [:any, :ig, :hy]])\n",
    "\n",
    "df = vcat(dfl...)\n",
    "StatsMod.save_stats_data(dto, df)"
   ]
  },
  {
   "cell_type": "code",
   "execution_count": null,
   "metadata": {},
   "outputs": [],
   "source": []
  },
  {
   "cell_type": "code",
   "execution_count": 22,
   "metadata": {},
   "outputs": [
    {
     "name": "stdout",
     "output_type": "stream",
     "text": [
      "      From worker 2:\tWARNING: replacing module StatsMod.\n",
      "      From worker 3:\tWARNING: replacing module StatsMod.\n",
      "      From worker 6:\tWARNING: replacing module StatsMod.\n",
      "      From worker 12:\tWARNING: replacing module StatsMod.\n",
      "      From worker 7:\tWARNING: replacing module StatsMod.\n",
      "      From worker 4:\tWARNING: replacing module StatsMod.\n",
      "      From worker 8:\tWARNING: replacing module StatsMod.\n",
      "      From worker 9:\tWARNING: replacing module StatsMod.\n",
      "      From worker 10:\tWARNING: replacing module StatsMod.\n",
      "      From worker 5:\tWARNING: replacing module StatsMod.\n",
      "      From worker 11:\tWARNING: replacing module StatsMod.\n"
     ]
    },
    {
     "name": "stderr",
     "output_type": "stream",
     "text": [
      "WARNING: replacing module StatsMod.\n"
     ]
    },
    {
     "name": "stdout",
     "output_type": "stream",
     "text": [
      " \n",
      "Filename: 2019Q1_stats_by_num_cov.csv\n",
      " \n",
      "Reading dataframe in folder: /home/artur/BondPricing/bond-data/data/Stats/2019...\n",
      " 12.505677 seconds (9.78 M allocations: 499.340 MiB, 2.76% gc time)\n",
      " \n",
      "Filename: 2019Q1_stats_by_cov_cat.csv\n",
      " \n",
      "Reading dataframe in folder: /home/artur/BondPricing/bond-data/data/Stats/2019...\n",
      "  0.256531 seconds (336.44 k allocations: 17.198 MiB)\n"
     ]
    },
    {
     "data": {
      "text/html": [
       "<table class=\"data-frame\"><thead><tr><th></th><th>trd_exctn_yr</th><th>trd_exctn_qtr</th><th>otc</th><th>hy</th><th>ig</th><th>ats</th><th>cov</th><th>ncov</th><th>total_trd_count</th><th>total_bonds</th><th>total_issuers</th><th>qt25_trd_vol</th><th>mean_trd_vol</th><th>median_trd_vol</th><th>qt75_trd_vol</th><th>total_trd_vol_tr</th><th>cg1_mean_trd_vol</th><th>cg2_mean_trd_vol</th><th>cg3_mean_trd_vol</th><th>cg4_mean_trd_vol</th><th>cg5_mean_trd_vol</th><th>cg6_mean_trd_vol</th><th>cg7_mean_trd_vol</th><th>cg8_mean_trd_vol</th><th>cg9_mean_trd_vol</th><th>cg10_mean_trd_vol</th><th>cg11_mean_trd_vol</th><th>cg12_mean_trd_vol</th><th>cg13_mean_trd_vol</th><th>cg14_mean_trd_vol</th><th>cg15_mean_trd_vol</th><th>cg1_median_trd_vol</th><th>cg2_median_trd_vol</th><th>cg3_median_trd_vol</th><th>cg4_median_trd_vol</th><th>cg5_median_trd_vol</th><th>cg6_median_trd_vol</th><th>cg7_median_trd_vol</th><th>cg8_median_trd_vol</th><th>cg9_median_trd_vol</th><th>cg10_median_trd_vol</th><th>cg11_median_trd_vol</th><th>cg12_median_trd_vol</th><th>cg13_median_trd_vol</th><th>cg14_median_trd_vol</th><th>cg15_median_trd_vol</th><th>cg1_trd_vol_tr</th><th>cg2_trd_vol_tr</th><th>cg3_trd_vol_tr</th><th>cg4_trd_vol_tr</th><th>cg5_trd_vol_tr</th><th>cg6_trd_vol_tr</th><th>cg7_trd_vol_tr</th><th>cg8_trd_vol_tr</th><th>cg9_trd_vol_tr</th><th>cg10_trd_vol_tr</th><th>cg11_trd_vol_tr</th><th>cg12_trd_vol_tr</th><th>cg13_trd_vol_tr</th><th>cg14_trd_vol_tr</th></tr><tr><th></th><th>Int64</th><th>Int64</th><th>Int64</th><th>Int64</th><th>Int64</th><th>Int64</th><th>Int64</th><th>Int64</th><th>Int64</th><th>Int64</th><th>Int64</th><th>Float64</th><th>Float64</th><th>Float64</th><th>Float64</th><th>Float64</th><th>Float64</th><th>Float64</th><th>Float64</th><th>Float64</th><th>Float64</th><th>Float64</th><th>Float64</th><th>Float64</th><th>Float64</th><th>Float64</th><th>Float64</th><th>Float64</th><th>Float64</th><th>Float64</th><th>Float64</th><th>Float64</th><th>Float64</th><th>Float64</th><th>Float64</th><th>Float64</th><th>Float64</th><th>Float64</th><th>Float64</th><th>Float64</th><th>Float64</th><th>Float64</th><th>Float64</th><th>Float64</th><th>Float64</th><th>Float64</th><th>Float64</th><th>Float64</th><th>Float64</th><th>Float64</th><th>Float64</th><th>Float64</th><th>Float64</th><th>Float64</th><th>Float64</th><th>Float64</th><th>Float64</th><th>Float64</th><th>Float64</th><th>Float64</th></tr></thead><tbody><p>5 rows × 109 columns (omitted printing of 49 columns)</p><tr><th>1</th><td>2019</td><td>1</td><td>0</td><td>0</td><td>0</td><td>0</td><td>0</td><td>0</td><td>2981038</td><td>8739</td><td>2030</td><td>10000.0</td><td>466783.0</td><td>25000.0</td><td>143000.0</td><td>1391.5</td><td>31309.6</td><td>3.49623e5</td><td>1932.9</td><td>8684.28</td><td>287.968</td><td>2.92832e5</td><td>4.51578e5</td><td>182971.0</td><td>19850.1</td><td>5185.72</td><td>380028.0</td><td>1.91872e5</td><td>3.52769e5</td><td>36098.4</td><td>3.49717e5</td><td>0.0</td><td>16000.0</td><td>0.0</td><td>0.0</td><td>0.0</td><td>9000.0</td><td>25000.0</td><td>0.0</td><td>0.0</td><td>0.0</td><td>20000.0</td><td>0.0</td><td>15000.0</td><td>0.0</td><td>15000.0</td><td>93.335</td><td>1042.24</td><td>5.76206</td><td>25.8882</td><td>0.858444</td><td>872.943</td><td>1346.17</td><td>545.444</td><td>59.1739</td><td>15.4588</td><td>1132.88</td><td>571.977</td><td>1051.62</td><td>107.611</td></tr><tr><th>2</th><td>2019</td><td>1</td><td>0</td><td>0</td><td>0</td><td>0</td><td>0</td><td>1</td><td>115298</td><td>463</td><td>220</td><td>10000.0</td><td>3.93122e5</td><td>25000.0</td><td>100000.0</td><td>45.3261</td><td>0.0</td><td>0.0</td><td>0.0</td><td>0.0</td><td>0.0</td><td>0.0</td><td>0.0</td><td>0.0</td><td>0.0</td><td>0.0</td><td>0.0</td><td>0.0</td><td>0.0</td><td>0.0</td><td>0.0</td><td>0.0</td><td>0.0</td><td>0.0</td><td>0.0</td><td>0.0</td><td>0.0</td><td>0.0</td><td>0.0</td><td>0.0</td><td>0.0</td><td>0.0</td><td>0.0</td><td>0.0</td><td>0.0</td><td>0.0</td><td>0.0</td><td>0.0</td><td>0.0</td><td>0.0</td><td>0.0</td><td>0.0</td><td>0.0</td><td>0.0</td><td>0.0</td><td>0.0</td><td>0.0</td><td>0.0</td><td>0.0</td><td>0.0</td></tr><tr><th>3</th><td>2019</td><td>1</td><td>0</td><td>0</td><td>0</td><td>0</td><td>1</td><td>0</td><td>2865740</td><td>8276</td><td>1954</td><td>10000.0</td><td>4.69747e5</td><td>25000.0</td><td>145000.0</td><td>1346.17</td><td>32569.2</td><td>3.63689e5</td><td>2010.67</td><td>9033.67</td><td>299.554</td><td>3.04613e5</td><td>4.69747e5</td><td>1.90333e5</td><td>20648.7</td><td>5394.36</td><td>3.95318e5</td><td>1.99591e5</td><td>3.66962e5</td><td>37550.7</td><td>3.63787e5</td><td>0.0</td><td>20000.0</td><td>0.0</td><td>0.0</td><td>0.0</td><td>10000.0</td><td>25000.0</td><td>0.0</td><td>0.0</td><td>0.0</td><td>20000.0</td><td>0.0</td><td>17000.0</td><td>0.0</td><td>15000.0</td><td>93.335</td><td>1042.24</td><td>5.76206</td><td>25.8882</td><td>0.858444</td><td>872.943</td><td>1346.17</td><td>545.444</td><td>59.1739</td><td>15.4588</td><td>1132.88</td><td>571.977</td><td>1051.62</td><td>107.611</td></tr><tr><th>4</th><td>2019</td><td>1</td><td>0</td><td>1</td><td>0</td><td>0</td><td>0</td><td>0</td><td>764711</td><td>1968</td><td>892</td><td>10000.0</td><td>4.86845e5</td><td>30000.0</td><td>200000.0</td><td>372.296</td><td>99301.0</td><td>3.4148e5</td><td>1732.13</td><td>4089.43</td><td>1036.08</td><td>3.72252e5</td><td>4.834e5</td><td>1.95702e5</td><td>69259.1</td><td>8732.28</td><td>4.4349e5</td><td>2.99642e5</td><td>4.19028e5</td><td>1.22905e5</td><td>4.17914e5</td><td>0.0</td><td>16000.0</td><td>0.0</td><td>0.0</td><td>0.0</td><td>15000.0</td><td>28000.0</td><td>0.0</td><td>0.0</td><td>0.0</td><td>25000.0</td><td>10000.0</td><td>23000.0</td><td>0.0</td><td>22000.0</td><td>75.9366</td><td>261.134</td><td>1.32458</td><td>3.12723</td><td>0.792303</td><td>284.665</td><td>369.661</td><td>149.655</td><td>52.9632</td><td>6.67767</td><td>339.142</td><td>229.139</td><td>320.435</td><td>93.9867</td></tr><tr><th>5</th><td>2019</td><td>1</td><td>0</td><td>1</td><td>0</td><td>0</td><td>0</td><td>1</td><td>5227</td><td>62</td><td>35</td><td>15000.0</td><td>5.0395e5</td><td>81000.0</td><td>275000.0</td><td>2.63415</td><td>0.0</td><td>0.0</td><td>0.0</td><td>0.0</td><td>0.0</td><td>0.0</td><td>0.0</td><td>0.0</td><td>0.0</td><td>0.0</td><td>0.0</td><td>0.0</td><td>0.0</td><td>0.0</td><td>0.0</td><td>0.0</td><td>0.0</td><td>0.0</td><td>0.0</td><td>0.0</td><td>0.0</td><td>0.0</td><td>0.0</td><td>0.0</td><td>0.0</td><td>0.0</td><td>0.0</td><td>0.0</td><td>0.0</td><td>0.0</td><td>0.0</td><td>0.0</td><td>0.0</td><td>0.0</td><td>0.0</td><td>0.0</td><td>0.0</td><td>0.0</td><td>0.0</td><td>0.0</td><td>0.0</td><td>0.0</td><td>0.0</td><td>0.0</td></tr></tbody></table>"
      ],
      "text/latex": [
       "\\begin{tabular}{r|ccccccccccccccccccccccccccccccccccccccccccccccccccccccccccccc}\n",
       "\t& trd\\_exctn\\_yr & trd\\_exctn\\_qtr & otc & hy & ig & ats & cov & ncov & total\\_trd\\_count & total\\_bonds & total\\_issuers & qt25\\_trd\\_vol & mean\\_trd\\_vol & median\\_trd\\_vol & qt75\\_trd\\_vol & total\\_trd\\_vol\\_tr & cg1\\_mean\\_trd\\_vol & cg2\\_mean\\_trd\\_vol & cg3\\_mean\\_trd\\_vol & cg4\\_mean\\_trd\\_vol & cg5\\_mean\\_trd\\_vol & cg6\\_mean\\_trd\\_vol & cg7\\_mean\\_trd\\_vol & cg8\\_mean\\_trd\\_vol & cg9\\_mean\\_trd\\_vol & cg10\\_mean\\_trd\\_vol & cg11\\_mean\\_trd\\_vol & cg12\\_mean\\_trd\\_vol & cg13\\_mean\\_trd\\_vol & cg14\\_mean\\_trd\\_vol & cg15\\_mean\\_trd\\_vol & cg1\\_median\\_trd\\_vol & cg2\\_median\\_trd\\_vol & cg3\\_median\\_trd\\_vol & cg4\\_median\\_trd\\_vol & cg5\\_median\\_trd\\_vol & cg6\\_median\\_trd\\_vol & cg7\\_median\\_trd\\_vol & cg8\\_median\\_trd\\_vol & cg9\\_median\\_trd\\_vol & cg10\\_median\\_trd\\_vol & cg11\\_median\\_trd\\_vol & cg12\\_median\\_trd\\_vol & cg13\\_median\\_trd\\_vol & cg14\\_median\\_trd\\_vol & cg15\\_median\\_trd\\_vol & cg1\\_trd\\_vol\\_tr & cg2\\_trd\\_vol\\_tr & cg3\\_trd\\_vol\\_tr & cg4\\_trd\\_vol\\_tr & cg5\\_trd\\_vol\\_tr & cg6\\_trd\\_vol\\_tr & cg7\\_trd\\_vol\\_tr & cg8\\_trd\\_vol\\_tr & cg9\\_trd\\_vol\\_tr & cg10\\_trd\\_vol\\_tr & cg11\\_trd\\_vol\\_tr & cg12\\_trd\\_vol\\_tr & cg13\\_trd\\_vol\\_tr & cg14\\_trd\\_vol\\_tr & \\\\\n",
       "\t\\hline\n",
       "\t& Int64 & Int64 & Int64 & Int64 & Int64 & Int64 & Int64 & Int64 & Int64 & Int64 & Int64 & Float64 & Float64 & Float64 & Float64 & Float64 & Float64 & Float64 & Float64 & Float64 & Float64 & Float64 & Float64 & Float64 & Float64 & Float64 & Float64 & Float64 & Float64 & Float64 & Float64 & Float64 & Float64 & Float64 & Float64 & Float64 & Float64 & Float64 & Float64 & Float64 & Float64 & Float64 & Float64 & Float64 & Float64 & Float64 & Float64 & Float64 & Float64 & Float64 & Float64 & Float64 & Float64 & Float64 & Float64 & Float64 & Float64 & Float64 & Float64 & Float64 & \\\\\n",
       "\t\\hline\n",
       "\t1 & 2019 & 1 & 0 & 0 & 0 & 0 & 0 & 0 & 2981038 & 8739 & 2030 & 10000.0 & 466783.0 & 25000.0 & 143000.0 & 1391.5 & 31309.6 & 3.49623e5 & 1932.9 & 8684.28 & 287.968 & 2.92832e5 & 4.51578e5 & 182971.0 & 19850.1 & 5185.72 & 380028.0 & 1.91872e5 & 3.52769e5 & 36098.4 & 3.49717e5 & 0.0 & 16000.0 & 0.0 & 0.0 & 0.0 & 9000.0 & 25000.0 & 0.0 & 0.0 & 0.0 & 20000.0 & 0.0 & 15000.0 & 0.0 & 15000.0 & 93.335 & 1042.24 & 5.76206 & 25.8882 & 0.858444 & 872.943 & 1346.17 & 545.444 & 59.1739 & 15.4588 & 1132.88 & 571.977 & 1051.62 & 107.611 & $\\dots$ \\\\\n",
       "\t2 & 2019 & 1 & 0 & 0 & 0 & 0 & 0 & 1 & 115298 & 463 & 220 & 10000.0 & 3.93122e5 & 25000.0 & 100000.0 & 45.3261 & 0.0 & 0.0 & 0.0 & 0.0 & 0.0 & 0.0 & 0.0 & 0.0 & 0.0 & 0.0 & 0.0 & 0.0 & 0.0 & 0.0 & 0.0 & 0.0 & 0.0 & 0.0 & 0.0 & 0.0 & 0.0 & 0.0 & 0.0 & 0.0 & 0.0 & 0.0 & 0.0 & 0.0 & 0.0 & 0.0 & 0.0 & 0.0 & 0.0 & 0.0 & 0.0 & 0.0 & 0.0 & 0.0 & 0.0 & 0.0 & 0.0 & 0.0 & 0.0 & 0.0 & $\\dots$ \\\\\n",
       "\t3 & 2019 & 1 & 0 & 0 & 0 & 0 & 1 & 0 & 2865740 & 8276 & 1954 & 10000.0 & 4.69747e5 & 25000.0 & 145000.0 & 1346.17 & 32569.2 & 3.63689e5 & 2010.67 & 9033.67 & 299.554 & 3.04613e5 & 4.69747e5 & 1.90333e5 & 20648.7 & 5394.36 & 3.95318e5 & 1.99591e5 & 3.66962e5 & 37550.7 & 3.63787e5 & 0.0 & 20000.0 & 0.0 & 0.0 & 0.0 & 10000.0 & 25000.0 & 0.0 & 0.0 & 0.0 & 20000.0 & 0.0 & 17000.0 & 0.0 & 15000.0 & 93.335 & 1042.24 & 5.76206 & 25.8882 & 0.858444 & 872.943 & 1346.17 & 545.444 & 59.1739 & 15.4588 & 1132.88 & 571.977 & 1051.62 & 107.611 & $\\dots$ \\\\\n",
       "\t4 & 2019 & 1 & 0 & 1 & 0 & 0 & 0 & 0 & 764711 & 1968 & 892 & 10000.0 & 4.86845e5 & 30000.0 & 200000.0 & 372.296 & 99301.0 & 3.4148e5 & 1732.13 & 4089.43 & 1036.08 & 3.72252e5 & 4.834e5 & 1.95702e5 & 69259.1 & 8732.28 & 4.4349e5 & 2.99642e5 & 4.19028e5 & 1.22905e5 & 4.17914e5 & 0.0 & 16000.0 & 0.0 & 0.0 & 0.0 & 15000.0 & 28000.0 & 0.0 & 0.0 & 0.0 & 25000.0 & 10000.0 & 23000.0 & 0.0 & 22000.0 & 75.9366 & 261.134 & 1.32458 & 3.12723 & 0.792303 & 284.665 & 369.661 & 149.655 & 52.9632 & 6.67767 & 339.142 & 229.139 & 320.435 & 93.9867 & $\\dots$ \\\\\n",
       "\t5 & 2019 & 1 & 0 & 1 & 0 & 0 & 0 & 1 & 5227 & 62 & 35 & 15000.0 & 5.0395e5 & 81000.0 & 275000.0 & 2.63415 & 0.0 & 0.0 & 0.0 & 0.0 & 0.0 & 0.0 & 0.0 & 0.0 & 0.0 & 0.0 & 0.0 & 0.0 & 0.0 & 0.0 & 0.0 & 0.0 & 0.0 & 0.0 & 0.0 & 0.0 & 0.0 & 0.0 & 0.0 & 0.0 & 0.0 & 0.0 & 0.0 & 0.0 & 0.0 & 0.0 & 0.0 & 0.0 & 0.0 & 0.0 & 0.0 & 0.0 & 0.0 & 0.0 & 0.0 & 0.0 & 0.0 & 0.0 & 0.0 & 0.0 & $\\dots$ \\\\\n",
       "\\end{tabular}\n"
      ],
      "text/plain": [
       "5×109 DataFrame. Omitted printing of 53 columns\n",
       "│ Row │ trd_exctn_yr │ trd_exctn_qtr │ otc   │ hy    │ ig    │ ats   │ cov   │ ncov  │ total_trd_count │ total_bonds │ total_issuers │ qt25_trd_vol │ mean_trd_vol │ median_trd_vol │ qt75_trd_vol │ total_trd_vol_tr │ cg1_mean_trd_vol │ cg2_mean_trd_vol │ cg3_mean_trd_vol │ cg4_mean_trd_vol │ cg5_mean_trd_vol │ cg6_mean_trd_vol │ cg7_mean_trd_vol │ cg8_mean_trd_vol │ cg9_mean_trd_vol │ cg10_mean_trd_vol │ cg11_mean_trd_vol │ cg12_mean_trd_vol │ cg13_mean_trd_vol │ cg14_mean_trd_vol │ cg15_mean_trd_vol │ cg1_median_trd_vol │ cg2_median_trd_vol │ cg3_median_trd_vol │ cg4_median_trd_vol │ cg5_median_trd_vol │ cg6_median_trd_vol │ cg7_median_trd_vol │ cg8_median_trd_vol │ cg9_median_trd_vol │ cg10_median_trd_vol │ cg11_median_trd_vol │ cg12_median_trd_vol │ cg13_median_trd_vol │ cg14_median_trd_vol │ cg15_median_trd_vol │ cg1_trd_vol_tr │ cg2_trd_vol_tr │ cg3_trd_vol_tr │ cg4_trd_vol_tr │ cg5_trd_vol_tr │ cg6_trd_vol_tr │ cg7_trd_vol_tr │ cg8_trd_vol_tr │ cg9_trd_vol_tr │ cg10_trd_vol_tr │\n",
       "│     │ \u001b[90mInt64\u001b[39m        │ \u001b[90mInt64\u001b[39m         │ \u001b[90mInt64\u001b[39m │ \u001b[90mInt64\u001b[39m │ \u001b[90mInt64\u001b[39m │ \u001b[90mInt64\u001b[39m │ \u001b[90mInt64\u001b[39m │ \u001b[90mInt64\u001b[39m │ \u001b[90mInt64\u001b[39m           │ \u001b[90mInt64\u001b[39m       │ \u001b[90mInt64\u001b[39m         │ \u001b[90mFloat64\u001b[39m      │ \u001b[90mFloat64\u001b[39m      │ \u001b[90mFloat64\u001b[39m        │ \u001b[90mFloat64\u001b[39m      │ \u001b[90mFloat64\u001b[39m          │ \u001b[90mFloat64\u001b[39m          │ \u001b[90mFloat64\u001b[39m          │ \u001b[90mFloat64\u001b[39m          │ \u001b[90mFloat64\u001b[39m          │ \u001b[90mFloat64\u001b[39m          │ \u001b[90mFloat64\u001b[39m          │ \u001b[90mFloat64\u001b[39m          │ \u001b[90mFloat64\u001b[39m          │ \u001b[90mFloat64\u001b[39m          │ \u001b[90mFloat64\u001b[39m           │ \u001b[90mFloat64\u001b[39m           │ \u001b[90mFloat64\u001b[39m           │ \u001b[90mFloat64\u001b[39m           │ \u001b[90mFloat64\u001b[39m           │ \u001b[90mFloat64\u001b[39m           │ \u001b[90mFloat64\u001b[39m            │ \u001b[90mFloat64\u001b[39m            │ \u001b[90mFloat64\u001b[39m            │ \u001b[90mFloat64\u001b[39m            │ \u001b[90mFloat64\u001b[39m            │ \u001b[90mFloat64\u001b[39m            │ \u001b[90mFloat64\u001b[39m            │ \u001b[90mFloat64\u001b[39m            │ \u001b[90mFloat64\u001b[39m            │ \u001b[90mFloat64\u001b[39m             │ \u001b[90mFloat64\u001b[39m             │ \u001b[90mFloat64\u001b[39m             │ \u001b[90mFloat64\u001b[39m             │ \u001b[90mFloat64\u001b[39m             │ \u001b[90mFloat64\u001b[39m             │ \u001b[90mFloat64\u001b[39m        │ \u001b[90mFloat64\u001b[39m        │ \u001b[90mFloat64\u001b[39m        │ \u001b[90mFloat64\u001b[39m        │ \u001b[90mFloat64\u001b[39m        │ \u001b[90mFloat64\u001b[39m        │ \u001b[90mFloat64\u001b[39m        │ \u001b[90mFloat64\u001b[39m        │ \u001b[90mFloat64\u001b[39m        │ \u001b[90mFloat64\u001b[39m         │\n",
       "├─────┼──────────────┼───────────────┼───────┼───────┼───────┼───────┼───────┼───────┼─────────────────┼─────────────┼───────────────┼──────────────┼──────────────┼────────────────┼──────────────┼──────────────────┼──────────────────┼──────────────────┼──────────────────┼──────────────────┼──────────────────┼──────────────────┼──────────────────┼──────────────────┼──────────────────┼───────────────────┼───────────────────┼───────────────────┼───────────────────┼───────────────────┼───────────────────┼────────────────────┼────────────────────┼────────────────────┼────────────────────┼────────────────────┼────────────────────┼────────────────────┼────────────────────┼────────────────────┼─────────────────────┼─────────────────────┼─────────────────────┼─────────────────────┼─────────────────────┼─────────────────────┼────────────────┼────────────────┼────────────────┼────────────────┼────────────────┼────────────────┼────────────────┼────────────────┼────────────────┼─────────────────┤\n",
       "│ 1   │ 2019         │ 1             │ 0     │ 0     │ 0     │ 0     │ 0     │ 0     │ 2981038         │ 8739        │ 2030          │ 10000.0      │ 466783.0     │ 25000.0        │ 143000.0     │ 1391.5           │ 31309.6          │ 3.49623e5        │ 1932.9           │ 8684.28          │ 287.968          │ 2.92832e5        │ 4.51578e5        │ 182971.0         │ 19850.1          │ 5185.72           │ 380028.0          │ 1.91872e5         │ 3.52769e5         │ 36098.4           │ 3.49717e5         │ 0.0                │ 16000.0            │ 0.0                │ 0.0                │ 0.0                │ 9000.0             │ 25000.0            │ 0.0                │ 0.0                │ 0.0                 │ 20000.0             │ 0.0                 │ 15000.0             │ 0.0                 │ 15000.0             │ 93.335         │ 1042.24        │ 5.76206        │ 25.8882        │ 0.858444       │ 872.943        │ 1346.17        │ 545.444        │ 59.1739        │ 15.4588         │\n",
       "│ 2   │ 2019         │ 1             │ 0     │ 0     │ 0     │ 0     │ 0     │ 1     │ 115298          │ 463         │ 220           │ 10000.0      │ 3.93122e5    │ 25000.0        │ 100000.0     │ 45.3261          │ 0.0              │ 0.0              │ 0.0              │ 0.0              │ 0.0              │ 0.0              │ 0.0              │ 0.0              │ 0.0              │ 0.0               │ 0.0               │ 0.0               │ 0.0               │ 0.0               │ 0.0               │ 0.0                │ 0.0                │ 0.0                │ 0.0                │ 0.0                │ 0.0                │ 0.0                │ 0.0                │ 0.0                │ 0.0                 │ 0.0                 │ 0.0                 │ 0.0                 │ 0.0                 │ 0.0                 │ 0.0            │ 0.0            │ 0.0            │ 0.0            │ 0.0            │ 0.0            │ 0.0            │ 0.0            │ 0.0            │ 0.0             │\n",
       "│ 3   │ 2019         │ 1             │ 0     │ 0     │ 0     │ 0     │ 1     │ 0     │ 2865740         │ 8276        │ 1954          │ 10000.0      │ 4.69747e5    │ 25000.0        │ 145000.0     │ 1346.17          │ 32569.2          │ 3.63689e5        │ 2010.67          │ 9033.67          │ 299.554          │ 3.04613e5        │ 4.69747e5        │ 1.90333e5        │ 20648.7          │ 5394.36           │ 3.95318e5         │ 1.99591e5         │ 3.66962e5         │ 37550.7           │ 3.63787e5         │ 0.0                │ 20000.0            │ 0.0                │ 0.0                │ 0.0                │ 10000.0            │ 25000.0            │ 0.0                │ 0.0                │ 0.0                 │ 20000.0             │ 0.0                 │ 17000.0             │ 0.0                 │ 15000.0             │ 93.335         │ 1042.24        │ 5.76206        │ 25.8882        │ 0.858444       │ 872.943        │ 1346.17        │ 545.444        │ 59.1739        │ 15.4588         │\n",
       "│ 4   │ 2019         │ 1             │ 0     │ 1     │ 0     │ 0     │ 0     │ 0     │ 764711          │ 1968        │ 892           │ 10000.0      │ 4.86845e5    │ 30000.0        │ 200000.0     │ 372.296          │ 99301.0          │ 3.4148e5         │ 1732.13          │ 4089.43          │ 1036.08          │ 3.72252e5        │ 4.834e5          │ 1.95702e5        │ 69259.1          │ 8732.28           │ 4.4349e5          │ 2.99642e5         │ 4.19028e5         │ 1.22905e5         │ 4.17914e5         │ 0.0                │ 16000.0            │ 0.0                │ 0.0                │ 0.0                │ 15000.0            │ 28000.0            │ 0.0                │ 0.0                │ 0.0                 │ 25000.0             │ 10000.0             │ 23000.0             │ 0.0                 │ 22000.0             │ 75.9366        │ 261.134        │ 1.32458        │ 3.12723        │ 0.792303       │ 284.665        │ 369.661        │ 149.655        │ 52.9632        │ 6.67767         │\n",
       "│ 5   │ 2019         │ 1             │ 0     │ 1     │ 0     │ 0     │ 0     │ 1     │ 5227            │ 62          │ 35            │ 15000.0      │ 5.0395e5     │ 81000.0        │ 275000.0     │ 2.63415          │ 0.0              │ 0.0              │ 0.0              │ 0.0              │ 0.0              │ 0.0              │ 0.0              │ 0.0              │ 0.0              │ 0.0               │ 0.0               │ 0.0               │ 0.0               │ 0.0               │ 0.0               │ 0.0                │ 0.0                │ 0.0                │ 0.0                │ 0.0                │ 0.0                │ 0.0                │ 0.0                │ 0.0                │ 0.0                 │ 0.0                 │ 0.0                 │ 0.0                 │ 0.0                 │ 0.0                 │ 0.0            │ 0.0            │ 0.0            │ 0.0            │ 0.0            │ 0.0            │ 0.0            │ 0.0            │ 0.0            │ 0.0             │"
      ]
     },
     "execution_count": 22,
     "metadata": {},
     "output_type": "execute_result"
    }
   ],
   "source": [
    "@everywhere include(string(joinpath(module_path, \"stats_module\"), \".jl\"))\n",
    "snc = @time StatsMod.load_stats_data(dto, 2019, 1; stats_by_num_cov=true)\n",
    "scc = @time StatsMod.load_stats_data(dto, 2019, 1; stats_by_num_cov=false)\n",
    "\n",
    "first(scc, 5)"
   ]
  },
  {
   "cell_type": "code",
   "execution_count": 71,
   "metadata": {},
   "outputs": [
    {
     "name": "stderr",
     "output_type": "stream",
     "text": [
      "WARNING: replacing module StatsMod.\n",
      "WARNING: replacing module PlotMod.\n"
     ]
    },
    {
     "data": {
      "text/plain": [
       "12-element Array{Any,1}:\n",
       " VegaLite.VLSpec\n",
       " VegaLite.VLSpec\n",
       " VegaLite.VLSpec\n",
       " VegaLite.VLSpec\n",
       " VegaLite.VLSpec\n",
       " VegaLite.VLSpec\n",
       " VegaLite.VLSpec\n",
       " VegaLite.VLSpec\n",
       " VegaLite.VLSpec\n",
       " VegaLite.VLSpec\n",
       " VegaLite.VLSpec\n",
       " VegaLite.VLSpec"
      ]
     },
     "execution_count": 71,
     "metadata": {},
     "output_type": "execute_result"
    }
   ],
   "source": [
    "include(string(joinpath(script_path, \"plots_covenants\"), \".jl\"))"
   ]
  },
  {
   "cell_type": "code",
   "execution_count": 74,
   "metadata": {},
   "outputs": [
    {
     "data": {
      "application/vnd.vegalite.v4+json": {
       "config": {
        "axis": {
         "domainWidth": 3
        },
        "opacity": {
         "value": 0.7
        },
        "view": {
         "stroke": "transparent"
        }
       },
       "data": {
        "values": [
         {
          "cov_cat": 1,
          "cvt": "any",
          "perc_sbm_total": 6.820394695428579,
          "perc_total": 6.42579761034314,
          "period": "2019Q1",
          "rt": "any",
          "sbm": "otc",
          "value": 89.41483276472992,
          "variable": "cg1_trd_vol_tr"
         },
         {
          "cov_cat": 1,
          "cvt": "any",
          "perc_sbm_total": 4.86937516037982,
          "perc_total": 0.2817199488119354,
          "period": "2019Q1",
          "rt": "any",
          "sbm": "ats",
          "value": 3.92012690673,
          "variable": "cg1_trd_vol_tr"
         },
         {
          "cov_cat": 2,
          "cvt": "any",
          "perc_sbm_total": 75.45015672636751,
          "perc_total": 71.08495306250634,
          "period": "2019Q1",
          "rt": "any",
          "sbm": "otc",
          "value": 989.1455622476826,
          "variable": "cg2_trd_vol_tr"
         },
         {
          "cov_cat": 2,
          "cvt": "any",
          "perc_sbm_total": 65.95014299340443,
          "perc_total": 3.8155759817841766,
          "period": "2019Q1",
          "rt": "any",
          "sbm": "ats",
          "value": 53.093656072080016,
          "variable": "cg2_trd_vol_tr"
         },
         {
          "cov_cat": 3,
          "cvt": "any",
          "perc_sbm_total": 0.41551128916227337,
          "perc_total": 0.3914716916249899,
          "period": "2019Q1",
          "rt": "any",
          "sbm": "otc",
          "value": 5.44732,
          "variable": "cg3_trd_vol_tr"
         },
         {
          "cov_cat": 3,
          "cvt": "any",
          "perc_sbm_total": 0.39094848124590564,
          "perc_total": 0.022618504941013716,
          "period": "2019Q1",
          "rt": "any",
          "sbm": "ats",
          "value": 0.314736,
          "variable": "cg3_trd_vol_tr"
         },
         {
          "cov_cat": 4,
          "cvt": "any",
          "perc_sbm_total": 1.8872284430414972,
          "perc_total": 1.7780419698578198,
          "period": "2019Q1",
          "rt": "any",
          "sbm": "otc",
          "value": 24.741415,
          "variable": "cg4_trd_vol_tr"
         },
         {
          "cov_cat": 4,
          "cvt": "any",
          "perc_sbm_total": 1.4244299634353228,
          "perc_total": 0.08241105340379745,
          "period": "2019Q1",
          "rt": "any",
          "sbm": "ats",
          "value": 1.146748,
          "variable": "cg4_trd_vol_tr"
         },
         {
          "cov_cat": 5,
          "cvt": "any",
          "perc_sbm_total": 0.062443703999304274,
          "perc_total": 0.05883099466496345,
          "period": "2019Q1",
          "rt": "any",
          "sbm": "otc",
          "value": 0.818632,
          "variable": "cg5_trd_vol_tr"
         },
         {
          "cov_cat": 5,
          "cvt": "any",
          "perc_sbm_total": 0.04945236939963014,
          "perc_total": 0.0028610896710628522,
          "period": "2019Q1",
          "rt": "any",
          "sbm": "ats",
          "value": 0.039812,
          "variable": "cg5_trd_vol_tr"
         },
         {
          "cov_cat": 6,
          "cvt": "any",
          "perc_sbm_total": 62.175390836653335,
          "perc_total": 58.57820488425741,
          "period": "2019Q1",
          "rt": "any",
          "sbm": "otc",
          "value": 815.1144357477302,
          "variable": "cg6_trd_vol_tr"
         },
         {
          "cov_cat": 6,
          "cvt": "any",
          "perc_sbm_total": 71.8314791994681,
          "perc_total": 4.155843404265709,
          "period": "2019Q1",
          "rt": "any",
          "sbm": "ats",
          "value": 57.828469790380005,
          "variable": "cg6_trd_vol_tr"
         },
         {
          "cov_cat": 7,
          "cvt": "any",
          "perc_sbm_total": 96.69698204721816,
          "perc_total": 91.10253349162856,
          "period": "2019Q1",
          "rt": "any",
          "sbm": "otc",
          "value": 1267.6897547294802,
          "variable": "cg7_trd_vol_tr"
         },
         {
          "cov_cat": 7,
          "cvt": "any",
          "perc_sbm_total": 97.4860994368849,
          "perc_total": 5.640103306620603,
          "period": "2019Q1",
          "rt": "any",
          "sbm": "ats",
          "value": 78.48191376671001,
          "variable": "cg7_trd_vol_tr"
         },
         {
          "cov_cat": 8,
          "cvt": "any",
          "perc_sbm_total": 39.56903380836803,
          "perc_total": 37.27974908253032,
          "period": "2019Q1",
          "rt": "any",
          "sbm": "otc",
          "value": 518.7468905587799,
          "variable": "cg8_trd_vol_tr"
         },
         {
          "cov_cat": 8,
          "cvt": "any",
          "perc_sbm_total": 33.161238917371016,
          "perc_total": 1.9185587929958174,
          "period": "2019Q1",
          "rt": "any",
          "sbm": "ats",
          "value": 26.696703511,
          "variable": "cg8_trd_vol_tr"
         },
         {
          "cov_cat": 9,
          "cvt": "any",
          "perc_sbm_total": 4.321201570052708,
          "perc_total": 4.071196457481687,
          "period": "2019Q1",
          "rt": "any",
          "sbm": "otc",
          "value": 56.65060938305008,
          "variable": "cg9_trd_vol_tr"
         },
         {
          "cov_cat": 9,
          "cvt": "any",
          "perc_sbm_total": 3.134317784002364,
          "perc_total": 0.18133740296991394,
          "period": "2019Q1",
          "rt": "any",
          "sbm": "ats",
          "value": 2.52330598375,
          "variable": "cg9_trd_vol_tr"
         },
         {
          "cov_cat": 10,
          "cvt": "any",
          "perc_sbm_total": 1.1166489871837562,
          "perc_total": 1.0520447443088312,
          "period": "2019Q1",
          "rt": "any",
          "sbm": "otc",
          "value": 14.639179535,
          "variable": "cg10_trd_vol_tr"
         },
         {
          "cov_cat": 10,
          "cvt": "any",
          "perc_sbm_total": 1.0181267090550785,
          "perc_total": 0.05890419097153482,
          "period": "2019Q1",
          "rt": "any",
          "sbm": "ats",
          "value": 0.819650525,
          "variable": "cg10_trd_vol_tr"
         },
         {
          "cov_cat": 11,
          "cvt": "any",
          "perc_sbm_total": 81.21005318271737,
          "perc_total": 76.51160804918099,
          "period": "2019Q1",
          "rt": "any",
          "sbm": "otc",
          "value": 1064.6573473254405,
          "variable": "cg11_trd_vol_tr"
         },
         {
          "cov_cat": 11,
          "cvt": "any",
          "perc_sbm_total": 84.73981694152455,
          "perc_total": 4.902661246014354,
          "period": "2019Q1",
          "rt": "any",
          "sbm": "ats",
          "value": 68.22042367299002,
          "variable": "cg11_trd_vol_tr"
         },
         {
          "cov_cat": 12,
          "cvt": "any",
          "perc_sbm_total": 41.66043414656114,
          "perc_total": 39.250150488249496,
          "period": "2019Q1",
          "rt": "any",
          "sbm": "otc",
          "value": 546.1649828883889,
          "variable": "cg12_trd_vol_tr"
         },
         {
          "cov_cat": 12,
          "cvt": "any",
          "perc_sbm_total": 32.06263226408986,
          "perc_total": 1.854998397681631,
          "period": "2019Q1",
          "rt": "any",
          "sbm": "ats",
          "value": 25.812262004729995,
          "variable": "cg12_trd_vol_tr"
         },
         {
          "cov_cat": 13,
          "cvt": "any",
          "perc_sbm_total": 75.92174965256083,
          "perc_total": 71.52926176215078,
          "period": "2019Q1",
          "rt": "any",
          "sbm": "otc",
          "value": 995.3281080550196,
          "variable": "cg13_trd_vol_tr"
         },
         {
          "cov_cat": 13,
          "cvt": "any",
          "perc_sbm_total": 69.91901618969239,
          "perc_total": 4.045196973569105,
          "period": "2019Q1",
          "rt": "any",
          "sbm": "ats",
          "value": 56.28882713484002,
          "variable": "cg13_trd_vol_tr"
         },
         {
          "cov_cat": 14,
          "cvt": "any",
          "perc_sbm_total": 7.845982137013598,
          "perc_total": 7.392049216830385,
          "period": "2019Q1",
          "rt": "any",
          "sbm": "otc",
          "value": 102.86020266925995,
          "variable": "cg14_trd_vol_tr"
         },
         {
          "cov_cat": 14,
          "cvt": "any",
          "perc_sbm_total": 5.900713938429421,
          "perc_total": 0.34138853013710774,
          "period": "2019Q1",
          "rt": "any",
          "sbm": "ats",
          "value": 4.7504139067299995,
          "variable": "cg14_trd_vol_tr"
         },
         {
          "cov_cat": 15,
          "cvt": "any",
          "perc_sbm_total": 75.25966112470942,
          "perc_total": 70.90547867186208,
          "period": "2019Q1",
          "rt": "any",
          "sbm": "otc",
          "value": 986.6481800395693,
          "variable": "cg15_trd_vol_tr"
         },
         {
          "cov_cat": 15,
          "cvt": "any",
          "perc_sbm_total": 69.40104877144508,
          "perc_total": 4.015229729364512,
          "period": "2019Q1",
          "rt": "any",
          "sbm": "ats",
          "value": 55.87183358922002,
          "variable": "cg15_trd_vol_tr"
         }
        ]
       },
       "encoding": {
        "color": {
         "field": "sbm",
         "legend": {
          "title": "Secondary Market"
         },
         "scale": {
          "scheme": "viridis"
         },
         "type": "nominal"
        },
        "column": {
         "field": "cov_cat",
         "sort": "ascending",
         "title": "Covenant Category",
         "type": "ordinal"
        },
        "x": {
         "axis": {
          "title": " "
         },
         "field": "sbm",
         "type": "nominal"
        },
        "y": {
         "axis": {
          "grid": false,
          "stack": null,
          "title": "% of Total Trade Volume by Secondary Market"
         },
         "field": "perc_sbm_total",
         "type": "quantitative"
        }
       },
       "height": 250,
       "mark": "bar",
       "spacing": 1,
       "title": {
        "align": "center",
        "anchor": "middle",
        "fontSize": 14,
        "offset": 20,
        "text": [
         "Non-MTN-Bond Trades by Covenant Category as Percentage of Total ",
         "Non-MTN-Bond Trade Count by Secondary Bond Market - 2019Q1"
        ]
       },
       "width": {
        "step": 18
       }
      },
      "image/png": "[encoded data removed]",
      "image/svg+xml": [
       "<?xml version=\"1.0\" encoding=\"utf-8\"?>\n",
       "<!DOCTYPE svg PUBLIC \"-//W3C//DTD SVG 1.1//EN\" \"http://www.w3.org/Graphics/SVG/1.1/DTD/svg11.dtd\">\n",
       "<svg class=\"marks\" width=\"764\" height=\"401\" viewBox=\"0 0 764 401\" version=\"1.1\" xmlns=\"http://www.w3.org/2000/svg\" xmlns:xlink=\"http://www.w3.org/1999/xlink\"><rect width=\"764\" height=\"401\" fill=\"white\"></rect><g fill=\"none\" stroke-miterlimit=\"10\" transform=\"translate(47,107)\"><g class=\"mark-group role-frame root\" role=\"graphics-object\" aria-roledescription=\"group mark container\"><g transform=\"translate(0,0)\"><path class=\"background\" aria-hidden=\"true\" d=\"M0,0h0v0h0Z\"></path><g><g class=\"mark-group role-column-title column-title\" role=\"graphics-object\" aria-roledescription=\"group mark container\"><g transform=\"translate(291,-31)\"><path class=\"background\" aria-hidden=\"true\" d=\"M0,0h0v0h0Z\"></path><g><g class=\"mark-group role-title\"><g transform=\"translate(0,-21)\"><path class=\"background\" aria-hidden=\"true\" d=\"M0,0h0v0h0Z\" pointer-events=\"none\"></path><g><g class=\"mark-text role-title-text\" role=\"graphics-symbol\" aria-roledescription=\"title\" aria-label=\"Title text 'Covenant Category'\" pointer-events=\"none\"><text text-anchor=\"middle\" transform=\"translate(0,9)\" font-family=\"sans-serif\" font-size=\"11px\" font-weight=\"bold\" fill=\"#000\" opacity=\"1\">Covenant Category</text></g></g><path class=\"foreground\" aria-hidden=\"true\" d=\"\" pointer-events=\"none\" display=\"none\"></path></g></g></g><path class=\"foreground\" aria-hidden=\"true\" d=\"\" display=\"none\"></path></g></g><g class=\"mark-group role-row-header row_header\" role=\"graphics-object\" aria-roledescription=\"group mark container\"><g transform=\"translate(-1,0)\"><path class=\"background\" aria-hidden=\"true\" d=\"M0,0h0v250h0Z\"></path><g><g class=\"mark-group role-axis\" role=\"graphics-symbol\" aria-roledescription=\"axis\" aria-label=\"Y-axis titled '% of Total Trade Volume by Secondary Market' for a linear scale with values from 0 to 100\"><g transform=\"translate(0.5,0.5)\"><path class=\"background\" aria-hidden=\"true\" d=\"M0,0h0v0h0Z\" pointer-events=\"none\"></path><g><g class=\"mark-rule role-axis-tick\" pointer-events=\"none\"><line transform=\"translate(0,250)\" x2=\"-5\" y2=\"0\" stroke=\"#888\" stroke-width=\"1\" opacity=\"1\"></line><line transform=\"translate(0,200)\" x2=\"-5\" y2=\"0\" stroke=\"#888\" stroke-width=\"1\" opacity=\"1\"></line><line transform=\"translate(0,150)\" x2=\"-5\" y2=\"0\" stroke=\"#888\" stroke-width=\"1\" opacity=\"1\"></line><line transform=\"translate(0,100)\" x2=\"-5\" y2=\"0\" stroke=\"#888\" stroke-width=\"1\" opacity=\"1\"></line><line transform=\"translate(0,50)\" x2=\"-5\" y2=\"0\" stroke=\"#888\" stroke-width=\"1\" opacity=\"1\"></line><line transform=\"translate(0,0)\" x2=\"-5\" y2=\"0\" stroke=\"#888\" stroke-width=\"1\" opacity=\"1\"></line></g><g class=\"mark-text role-axis-label\" pointer-events=\"none\"><text text-anchor=\"end\" transform=\"translate(-7,253)\" font-family=\"sans-serif\" font-size=\"10px\" fill=\"#000\" opacity=\"1\">0</text><text text-anchor=\"end\" transform=\"translate(-7,203)\" font-family=\"sans-serif\" font-size=\"10px\" fill=\"#000\" opacity=\"1\">20</text><text text-anchor=\"end\" transform=\"translate(-7,153)\" font-family=\"sans-serif\" font-size=\"10px\" fill=\"#000\" opacity=\"1\">40</text><text text-anchor=\"end\" transform=\"translate(-7,103)\" font-family=\"sans-serif\" font-size=\"10px\" fill=\"#000\" opacity=\"1\">60</text><text text-anchor=\"end\" transform=\"translate(-7,52.999999999999986)\" font-family=\"sans-serif\" font-size=\"10px\" fill=\"#000\" opacity=\"1\">80</text><text text-anchor=\"end\" transform=\"translate(-7,3)\" font-family=\"sans-serif\" font-size=\"10px\" fill=\"#000\" opacity=\"1\">100</text></g><g class=\"mark-rule role-axis-domain\" pointer-events=\"none\"><line transform=\"translate(0,250)\" x2=\"0\" y2=\"-250\" stroke=\"#888\" stroke-width=\"3\" opacity=\"1\"></line></g><g class=\"mark-text role-axis-title\" pointer-events=\"none\"><text text-anchor=\"middle\" transform=\"translate(-29,125) rotate(-90) translate(0,-2)\" font-family=\"sans-serif\" font-size=\"11px\" font-weight=\"bold\" fill=\"#000\" opacity=\"1\">% of Total Trade Volume by Secondary Market</text></g></g><path class=\"foreground\" aria-hidden=\"true\" d=\"\" pointer-events=\"none\" display=\"none\"></path></g></g></g><path class=\"foreground\" aria-hidden=\"true\" d=\"\" display=\"none\"></path></g></g><g class=\"mark-group role-column-header column_header\" role=\"graphics-object\" aria-roledescription=\"group mark container\"><g transform=\"translate(0,-1)\"><path class=\"background\" aria-hidden=\"true\" d=\"M0,0h36v0h-36Z\"></path><g><g class=\"mark-group role-title\"><g transform=\"translate(18,-20)\"><path class=\"background\" aria-hidden=\"true\" d=\"M0,0h0v0h0Z\" pointer-events=\"none\"></path><g><g class=\"mark-text role-title-text\" role=\"graphics-symbol\" aria-roledescription=\"title\" aria-label=\"Title text '1'\" pointer-events=\"none\"><text text-anchor=\"middle\" transform=\"translate(0,8)\" font-family=\"sans-serif\" font-size=\"10px\" fill=\"#000\" opacity=\"1\">1</text></g></g><path class=\"foreground\" aria-hidden=\"true\" d=\"\" pointer-events=\"none\" display=\"none\"></path></g></g></g><path class=\"foreground\" aria-hidden=\"true\" d=\"\" display=\"none\"></path></g><g transform=\"translate(39,-1)\"><path class=\"background\" aria-hidden=\"true\" d=\"M0,0h36v0h-36Z\"></path><g><g class=\"mark-group role-title\"><g transform=\"translate(18,-20)\"><path class=\"background\" aria-hidden=\"true\" d=\"M0,0h0v0h0Z\" pointer-events=\"none\"></path><g><g class=\"mark-text role-title-text\" role=\"graphics-symbol\" aria-roledescription=\"title\" aria-label=\"Title text '2'\" pointer-events=\"none\"><text text-anchor=\"middle\" transform=\"translate(0,8)\" font-family=\"sans-serif\" font-size=\"10px\" fill=\"#000\" opacity=\"1\">2</text></g></g><path class=\"foreground\" aria-hidden=\"true\" d=\"\" pointer-events=\"none\" display=\"none\"></path></g></g></g><path class=\"foreground\" aria-hidden=\"true\" d=\"\" display=\"none\"></path></g><g transform=\"translate(78,-1)\"><path class=\"background\" aria-hidden=\"true\" d=\"M0,0h36v0h-36Z\"></path><g><g class=\"mark-group role-title\"><g transform=\"translate(18,-20)\"><path class=\"background\" aria-hidden=\"true\" d=\"M0,0h0v0h0Z\" pointer-events=\"none\"></path><g><g class=\"mark-text role-title-text\" role=\"graphics-symbol\" aria-roledescription=\"title\" aria-label=\"Title text '3'\" pointer-events=\"none\"><text text-anchor=\"middle\" transform=\"translate(0,8)\" font-family=\"sans-serif\" font-size=\"10px\" fill=\"#000\" opacity=\"1\">3</text></g></g><path class=\"foreground\" aria-hidden=\"true\" d=\"\" pointer-events=\"none\" display=\"none\"></path></g></g></g><path class=\"foreground\" aria-hidden=\"true\" d=\"\" display=\"none\"></path></g><g transform=\"translate(117,-1)\"><path class=\"background\" aria-hidden=\"true\" d=\"M0,0h36v0h-36Z\"></path><g><g class=\"mark-group role-title\"><g transform=\"translate(18,-20)\"><path class=\"background\" aria-hidden=\"true\" d=\"M0,0h0v0h0Z\" pointer-events=\"none\"></path><g><g class=\"mark-text role-title-text\" role=\"graphics-symbol\" aria-roledescription=\"title\" aria-label=\"Title text '4'\" pointer-events=\"none\"><text text-anchor=\"middle\" transform=\"translate(0,8)\" font-family=\"sans-serif\" font-size=\"10px\" fill=\"#000\" opacity=\"1\">4</text></g></g><path class=\"foreground\" aria-hidden=\"true\" d=\"\" pointer-events=\"none\" display=\"none\"></path></g></g></g><path class=\"foreground\" aria-hidden=\"true\" d=\"\" display=\"none\"></path></g><g transform=\"translate(156,-1)\"><path class=\"background\" aria-hidden=\"true\" d=\"M0,0h36v0h-36Z\"></path><g><g class=\"mark-group role-title\"><g transform=\"translate(18,-20)\"><path class=\"background\" aria-hidden=\"true\" d=\"M0,0h0v0h0Z\" pointer-events=\"none\"></path><g><g class=\"mark-text role-title-text\" role=\"graphics-symbol\" aria-roledescription=\"title\" aria-label=\"Title text '5'\" pointer-events=\"none\"><text text-anchor=\"middle\" transform=\"translate(0,8)\" font-family=\"sans-serif\" font-size=\"10px\" fill=\"#000\" opacity=\"1\">5</text></g></g><path class=\"foreground\" aria-hidden=\"true\" d=\"\" pointer-events=\"none\" display=\"none\"></path></g></g></g><path class=\"foreground\" aria-hidden=\"true\" d=\"\" display=\"none\"></path></g><g transform=\"translate(195,-1)\"><path class=\"background\" aria-hidden=\"true\" d=\"M0,0h36v0h-36Z\"></path><g><g class=\"mark-group role-title\"><g transform=\"translate(18,-20)\"><path class=\"background\" aria-hidden=\"true\" d=\"M0,0h0v0h0Z\" pointer-events=\"none\"></path><g><g class=\"mark-text role-title-text\" role=\"graphics-symbol\" aria-roledescription=\"title\" aria-label=\"Title text '6'\" pointer-events=\"none\"><text text-anchor=\"middle\" transform=\"translate(0,8)\" font-family=\"sans-serif\" font-size=\"10px\" fill=\"#000\" opacity=\"1\">6</text></g></g><path class=\"foreground\" aria-hidden=\"true\" d=\"\" pointer-events=\"none\" display=\"none\"></path></g></g></g><path class=\"foreground\" aria-hidden=\"true\" d=\"\" display=\"none\"></path></g><g transform=\"translate(234,-1)\"><path class=\"background\" aria-hidden=\"true\" d=\"M0,0h36v0h-36Z\"></path><g><g class=\"mark-group role-title\"><g transform=\"translate(18,-20)\"><path class=\"background\" aria-hidden=\"true\" d=\"M0,0h0v0h0Z\" pointer-events=\"none\"></path><g><g class=\"mark-text role-title-text\" role=\"graphics-symbol\" aria-roledescription=\"title\" aria-label=\"Title text '7'\" pointer-events=\"none\"><text text-anchor=\"middle\" transform=\"translate(0,8)\" font-family=\"sans-serif\" font-size=\"10px\" fill=\"#000\" opacity=\"1\">7</text></g></g><path class=\"foreground\" aria-hidden=\"true\" d=\"\" pointer-events=\"none\" display=\"none\"></path></g></g></g><path class=\"foreground\" aria-hidden=\"true\" d=\"\" display=\"none\"></path></g><g transform=\"translate(273,-1)\"><path class=\"background\" aria-hidden=\"true\" d=\"M0,0h36v0h-36Z\"></path><g><g class=\"mark-group role-title\"><g transform=\"translate(18,-20)\"><path class=\"background\" aria-hidden=\"true\" d=\"M0,0h0v0h0Z\" pointer-events=\"none\"></path><g><g class=\"mark-text role-title-text\" role=\"graphics-symbol\" aria-roledescription=\"title\" aria-label=\"Title text '8'\" pointer-events=\"none\"><text text-anchor=\"middle\" transform=\"translate(0,8)\" font-family=\"sans-serif\" font-size=\"10px\" fill=\"#000\" opacity=\"1\">8</text></g></g><path class=\"foreground\" aria-hidden=\"true\" d=\"\" pointer-events=\"none\" display=\"none\"></path></g></g></g><path class=\"foreground\" aria-hidden=\"true\" d=\"\" display=\"none\"></path></g><g transform=\"translate(312,-1)\"><path class=\"background\" aria-hidden=\"true\" d=\"M0,0h36v0h-36Z\"></path><g><g class=\"mark-group role-title\"><g transform=\"translate(18,-20)\"><path class=\"background\" aria-hidden=\"true\" d=\"M0,0h0v0h0Z\" pointer-events=\"none\"></path><g><g class=\"mark-text role-title-text\" role=\"graphics-symbol\" aria-roledescription=\"title\" aria-label=\"Title text '9'\" pointer-events=\"none\"><text text-anchor=\"middle\" transform=\"translate(0,8)\" font-family=\"sans-serif\" font-size=\"10px\" fill=\"#000\" opacity=\"1\">9</text></g></g><path class=\"foreground\" aria-hidden=\"true\" d=\"\" pointer-events=\"none\" display=\"none\"></path></g></g></g><path class=\"foreground\" aria-hidden=\"true\" d=\"\" display=\"none\"></path></g><g transform=\"translate(351,-1)\"><path class=\"background\" aria-hidden=\"true\" d=\"M0,0h36v0h-36Z\"></path><g><g class=\"mark-group role-title\"><g transform=\"translate(18,-20)\"><path class=\"background\" aria-hidden=\"true\" d=\"M0,0h0v0h0Z\" pointer-events=\"none\"></path><g><g class=\"mark-text role-title-text\" role=\"graphics-symbol\" aria-roledescription=\"title\" aria-label=\"Title text '10'\" pointer-events=\"none\"><text text-anchor=\"middle\" transform=\"translate(0,8)\" font-family=\"sans-serif\" font-size=\"10px\" fill=\"#000\" opacity=\"1\">10</text></g></g><path class=\"foreground\" aria-hidden=\"true\" d=\"\" pointer-events=\"none\" display=\"none\"></path></g></g></g><path class=\"foreground\" aria-hidden=\"true\" d=\"\" display=\"none\"></path></g><g transform=\"translate(390,-1)\"><path class=\"background\" aria-hidden=\"true\" d=\"M0,0h36v0h-36Z\"></path><g><g class=\"mark-group role-title\"><g transform=\"translate(18,-20)\"><path class=\"background\" aria-hidden=\"true\" d=\"M0,0h0v0h0Z\" pointer-events=\"none\"></path><g><g class=\"mark-text role-title-text\" role=\"graphics-symbol\" aria-roledescription=\"title\" aria-label=\"Title text '11'\" pointer-events=\"none\"><text text-anchor=\"middle\" transform=\"translate(0,8)\" font-family=\"sans-serif\" font-size=\"10px\" fill=\"#000\" opacity=\"1\">11</text></g></g><path class=\"foreground\" aria-hidden=\"true\" d=\"\" pointer-events=\"none\" display=\"none\"></path></g></g></g><path class=\"foreground\" aria-hidden=\"true\" d=\"\" display=\"none\"></path></g><g transform=\"translate(429,-1)\"><path class=\"background\" aria-hidden=\"true\" d=\"M0,0h36v0h-36Z\"></path><g><g class=\"mark-group role-title\"><g transform=\"translate(18,-20)\"><path class=\"background\" aria-hidden=\"true\" d=\"M0,0h0v0h0Z\" pointer-events=\"none\"></path><g><g class=\"mark-text role-title-text\" role=\"graphics-symbol\" aria-roledescription=\"title\" aria-label=\"Title text '12'\" pointer-events=\"none\"><text text-anchor=\"middle\" transform=\"translate(0,8)\" font-family=\"sans-serif\" font-size=\"10px\" fill=\"#000\" opacity=\"1\">12</text></g></g><path class=\"foreground\" aria-hidden=\"true\" d=\"\" pointer-events=\"none\" display=\"none\"></path></g></g></g><path class=\"foreground\" aria-hidden=\"true\" d=\"\" display=\"none\"></path></g><g transform=\"translate(468,-1)\"><path class=\"background\" aria-hidden=\"true\" d=\"M0,0h36v0h-36Z\"></path><g><g class=\"mark-group role-title\"><g transform=\"translate(18,-20)\"><path class=\"background\" aria-hidden=\"true\" d=\"M0,0h0v0h0Z\" pointer-events=\"none\"></path><g><g class=\"mark-text role-title-text\" role=\"graphics-symbol\" aria-roledescription=\"title\" aria-label=\"Title text '13'\" pointer-events=\"none\"><text text-anchor=\"middle\" transform=\"translate(0,8)\" font-family=\"sans-serif\" font-size=\"10px\" fill=\"#000\" opacity=\"1\">13</text></g></g><path class=\"foreground\" aria-hidden=\"true\" d=\"\" pointer-events=\"none\" display=\"none\"></path></g></g></g><path class=\"foreground\" aria-hidden=\"true\" d=\"\" display=\"none\"></path></g><g transform=\"translate(507,-1)\"><path class=\"background\" aria-hidden=\"true\" d=\"M0,0h36v0h-36Z\"></path><g><g class=\"mark-group role-title\"><g transform=\"translate(18,-20)\"><path class=\"background\" aria-hidden=\"true\" d=\"M0,0h0v0h0Z\" pointer-events=\"none\"></path><g><g class=\"mark-text role-title-text\" role=\"graphics-symbol\" aria-roledescription=\"title\" aria-label=\"Title text '14'\" pointer-events=\"none\"><text text-anchor=\"middle\" transform=\"translate(0,8)\" font-family=\"sans-serif\" font-size=\"10px\" fill=\"#000\" opacity=\"1\">14</text></g></g><path class=\"foreground\" aria-hidden=\"true\" d=\"\" pointer-events=\"none\" display=\"none\"></path></g></g></g><path class=\"foreground\" aria-hidden=\"true\" d=\"\" display=\"none\"></path></g><g transform=\"translate(546,-1)\"><path class=\"background\" aria-hidden=\"true\" d=\"M0,0h36v0h-36Z\"></path><g><g class=\"mark-group role-title\"><g transform=\"translate(18,-20)\"><path class=\"background\" aria-hidden=\"true\" d=\"M0,0h0v0h0Z\" pointer-events=\"none\"></path><g><g class=\"mark-text role-title-text\" role=\"graphics-symbol\" aria-roledescription=\"title\" aria-label=\"Title text '15'\" pointer-events=\"none\"><text text-anchor=\"middle\" transform=\"translate(0,8)\" font-family=\"sans-serif\" font-size=\"10px\" fill=\"#000\" opacity=\"1\">15</text></g></g><path class=\"foreground\" aria-hidden=\"true\" d=\"\" pointer-events=\"none\" display=\"none\"></path></g></g></g><path class=\"foreground\" aria-hidden=\"true\" d=\"\" display=\"none\"></path></g></g><g class=\"mark-group role-column-footer column_footer\" role=\"graphics-object\" aria-roledescription=\"group mark container\"><g transform=\"translate(0,251)\"><path class=\"background\" aria-hidden=\"true\" d=\"M0,0h36v0h-36Z\"></path><g><g class=\"mark-group role-axis\" role=\"graphics-symbol\" aria-roledescription=\"axis\" aria-label=\"X-axis titled ' ' for a discrete scale with 2 values: ats, otc\"><g transform=\"translate(0.5,0.5)\"><path class=\"background\" aria-hidden=\"true\" d=\"M0,0h0v0h0Z\" pointer-events=\"none\"></path><g><g class=\"mark-rule role-axis-tick\" pointer-events=\"none\"><line transform=\"translate(9,0)\" x2=\"0\" y2=\"5\" stroke=\"#888\" stroke-width=\"1\" opacity=\"1\"></line><line transform=\"translate(27,0)\" x2=\"0\" y2=\"5\" stroke=\"#888\" stroke-width=\"1\" opacity=\"1\"></line></g><g class=\"mark-text role-axis-label\" pointer-events=\"none\"><text text-anchor=\"end\" transform=\"translate(8.500000000000002,7) rotate(270) translate(0,3)\" font-family=\"sans-serif\" font-size=\"10px\" fill=\"#000\" opacity=\"1\">ats</text><text text-anchor=\"end\" transform=\"translate(26.5,7) rotate(270) translate(0,3)\" font-family=\"sans-serif\" font-size=\"10px\" fill=\"#000\" opacity=\"1\">otc</text></g><g class=\"mark-rule role-axis-domain\" pointer-events=\"none\"><line transform=\"translate(0,0)\" x2=\"36\" y2=\"0\" stroke=\"#888\" stroke-width=\"3\" opacity=\"1\"></line></g><g class=\"mark-text role-axis-title\" pointer-events=\"none\"><text text-anchor=\"middle\" transform=\"translate(18,36)\" font-family=\"sans-serif\" font-size=\"11px\" font-weight=\"bold\" fill=\"#000\" opacity=\"1\"></text></g></g><path class=\"foreground\" aria-hidden=\"true\" d=\"\" pointer-events=\"none\" display=\"none\"></path></g></g></g><path class=\"foreground\" aria-hidden=\"true\" d=\"\" display=\"none\"></path></g><g transform=\"translate(39,251)\"><path class=\"background\" aria-hidden=\"true\" d=\"M0,0h36v0h-36Z\"></path><g><g class=\"mark-group role-axis\" role=\"graphics-symbol\" aria-roledescription=\"axis\" aria-label=\"X-axis titled ' ' for a discrete scale with 2 values: ats, otc\"><g transform=\"translate(0.5,0.5)\"><path class=\"background\" aria-hidden=\"true\" d=\"M0,0h0v0h0Z\" pointer-events=\"none\"></path><g><g class=\"mark-rule role-axis-tick\" pointer-events=\"none\"><line transform=\"translate(9,0)\" x2=\"0\" y2=\"5\" stroke=\"#888\" stroke-width=\"1\" opacity=\"1\"></line><line transform=\"translate(27,0)\" x2=\"0\" y2=\"5\" stroke=\"#888\" stroke-width=\"1\" opacity=\"1\"></line></g><g class=\"mark-text role-axis-label\" pointer-events=\"none\"><text text-anchor=\"end\" transform=\"translate(8.500000000000002,7) rotate(270) translate(0,3)\" font-family=\"sans-serif\" font-size=\"10px\" fill=\"#000\" opacity=\"1\">ats</text><text text-anchor=\"end\" transform=\"translate(26.5,7) rotate(270) translate(0,3)\" font-family=\"sans-serif\" font-size=\"10px\" fill=\"#000\" opacity=\"1\">otc</text></g><g class=\"mark-rule role-axis-domain\" pointer-events=\"none\"><line transform=\"translate(0,0)\" x2=\"36\" y2=\"0\" stroke=\"#888\" stroke-width=\"3\" opacity=\"1\"></line></g><g class=\"mark-text role-axis-title\" pointer-events=\"none\"><text text-anchor=\"middle\" transform=\"translate(18,36)\" font-family=\"sans-serif\" font-size=\"11px\" font-weight=\"bold\" fill=\"#000\" opacity=\"1\"></text></g></g><path class=\"foreground\" aria-hidden=\"true\" d=\"\" pointer-events=\"none\" display=\"none\"></path></g></g></g><path class=\"foreground\" aria-hidden=\"true\" d=\"\" display=\"none\"></path></g><g transform=\"translate(78,251)\"><path class=\"background\" aria-hidden=\"true\" d=\"M0,0h36v0h-36Z\"></path><g><g class=\"mark-group role-axis\" role=\"graphics-symbol\" aria-roledescription=\"axis\" aria-label=\"X-axis titled ' ' for a discrete scale with 2 values: ats, otc\"><g transform=\"translate(0.5,0.5)\"><path class=\"background\" aria-hidden=\"true\" d=\"M0,0h0v0h0Z\" pointer-events=\"none\"></path><g><g class=\"mark-rule role-axis-tick\" pointer-events=\"none\"><line transform=\"translate(9,0)\" x2=\"0\" y2=\"5\" stroke=\"#888\" stroke-width=\"1\" opacity=\"1\"></line><line transform=\"translate(27,0)\" x2=\"0\" y2=\"5\" stroke=\"#888\" stroke-width=\"1\" opacity=\"1\"></line></g><g class=\"mark-text role-axis-label\" pointer-events=\"none\"><text text-anchor=\"end\" transform=\"translate(8.500000000000002,7) rotate(270) translate(0,3)\" font-family=\"sans-serif\" font-size=\"10px\" fill=\"#000\" opacity=\"1\">ats</text><text text-anchor=\"end\" transform=\"translate(26.5,7) rotate(270) translate(0,3)\" font-family=\"sans-serif\" font-size=\"10px\" fill=\"#000\" opacity=\"1\">otc</text></g><g class=\"mark-rule role-axis-domain\" pointer-events=\"none\"><line transform=\"translate(0,0)\" x2=\"36\" y2=\"0\" stroke=\"#888\" stroke-width=\"3\" opacity=\"1\"></line></g><g class=\"mark-text role-axis-title\" pointer-events=\"none\"><text text-anchor=\"middle\" transform=\"translate(18,36)\" font-family=\"sans-serif\" font-size=\"11px\" font-weight=\"bold\" fill=\"#000\" opacity=\"1\"></text></g></g><path class=\"foreground\" aria-hidden=\"true\" d=\"\" pointer-events=\"none\" display=\"none\"></path></g></g></g><path class=\"foreground\" aria-hidden=\"true\" d=\"\" display=\"none\"></path></g><g transform=\"translate(117,251)\"><path class=\"background\" aria-hidden=\"true\" d=\"M0,0h36v0h-36Z\"></path><g><g class=\"mark-group role-axis\" role=\"graphics-symbol\" aria-roledescription=\"axis\" aria-label=\"X-axis titled ' ' for a discrete scale with 2 values: ats, otc\"><g transform=\"translate(0.5,0.5)\"><path class=\"background\" aria-hidden=\"true\" d=\"M0,0h0v0h0Z\" pointer-events=\"none\"></path><g><g class=\"mark-rule role-axis-tick\" pointer-events=\"none\"><line transform=\"translate(9,0)\" x2=\"0\" y2=\"5\" stroke=\"#888\" stroke-width=\"1\" opacity=\"1\"></line><line transform=\"translate(27,0)\" x2=\"0\" y2=\"5\" stroke=\"#888\" stroke-width=\"1\" opacity=\"1\"></line></g><g class=\"mark-text role-axis-label\" pointer-events=\"none\"><text text-anchor=\"end\" transform=\"translate(8.500000000000002,7) rotate(270) translate(0,3)\" font-family=\"sans-serif\" font-size=\"10px\" fill=\"#000\" opacity=\"1\">ats</text><text text-anchor=\"end\" transform=\"translate(26.5,7) rotate(270) translate(0,3)\" font-family=\"sans-serif\" font-size=\"10px\" fill=\"#000\" opacity=\"1\">otc</text></g><g class=\"mark-rule role-axis-domain\" pointer-events=\"none\"><line transform=\"translate(0,0)\" x2=\"36\" y2=\"0\" stroke=\"#888\" stroke-width=\"3\" opacity=\"1\"></line></g><g class=\"mark-text role-axis-title\" pointer-events=\"none\"><text text-anchor=\"middle\" transform=\"translate(18,36)\" font-family=\"sans-serif\" font-size=\"11px\" font-weight=\"bold\" fill=\"#000\" opacity=\"1\"></text></g></g><path class=\"foreground\" aria-hidden=\"true\" d=\"\" pointer-events=\"none\" display=\"none\"></path></g></g></g><path class=\"foreground\" aria-hidden=\"true\" d=\"\" display=\"none\"></path></g><g transform=\"translate(156,251)\"><path class=\"background\" aria-hidden=\"true\" d=\"M0,0h36v0h-36Z\"></path><g><g class=\"mark-group role-axis\" role=\"graphics-symbol\" aria-roledescription=\"axis\" aria-label=\"X-axis titled ' ' for a discrete scale with 2 values: ats, otc\"><g transform=\"translate(0.5,0.5)\"><path class=\"background\" aria-hidden=\"true\" d=\"M0,0h0v0h0Z\" pointer-events=\"none\"></path><g><g class=\"mark-rule role-axis-tick\" pointer-events=\"none\"><line transform=\"translate(9,0)\" x2=\"0\" y2=\"5\" stroke=\"#888\" stroke-width=\"1\" opacity=\"1\"></line><line transform=\"translate(27,0)\" x2=\"0\" y2=\"5\" stroke=\"#888\" stroke-width=\"1\" opacity=\"1\"></line></g><g class=\"mark-text role-axis-label\" pointer-events=\"none\"><text text-anchor=\"end\" transform=\"translate(8.500000000000002,7) rotate(270) translate(0,3)\" font-family=\"sans-serif\" font-size=\"10px\" fill=\"#000\" opacity=\"1\">ats</text><text text-anchor=\"end\" transform=\"translate(26.5,7) rotate(270) translate(0,3)\" font-family=\"sans-serif\" font-size=\"10px\" fill=\"#000\" opacity=\"1\">otc</text></g><g class=\"mark-rule role-axis-domain\" pointer-events=\"none\"><line transform=\"translate(0,0)\" x2=\"36\" y2=\"0\" stroke=\"#888\" stroke-width=\"3\" opacity=\"1\"></line></g><g class=\"mark-text role-axis-title\" pointer-events=\"none\"><text text-anchor=\"middle\" transform=\"translate(18,36)\" font-family=\"sans-serif\" font-size=\"11px\" font-weight=\"bold\" fill=\"#000\" opacity=\"1\"></text></g></g><path class=\"foreground\" aria-hidden=\"true\" d=\"\" pointer-events=\"none\" display=\"none\"></path></g></g></g><path class=\"foreground\" aria-hidden=\"true\" d=\"\" display=\"none\"></path></g><g transform=\"translate(195,251)\"><path class=\"background\" aria-hidden=\"true\" d=\"M0,0h36v0h-36Z\"></path><g><g class=\"mark-group role-axis\" role=\"graphics-symbol\" aria-roledescription=\"axis\" aria-label=\"X-axis titled ' ' for a discrete scale with 2 values: ats, otc\"><g transform=\"translate(0.5,0.5)\"><path class=\"background\" aria-hidden=\"true\" d=\"M0,0h0v0h0Z\" pointer-events=\"none\"></path><g><g class=\"mark-rule role-axis-tick\" pointer-events=\"none\"><line transform=\"translate(9,0)\" x2=\"0\" y2=\"5\" stroke=\"#888\" stroke-width=\"1\" opacity=\"1\"></line><line transform=\"translate(27,0)\" x2=\"0\" y2=\"5\" stroke=\"#888\" stroke-width=\"1\" opacity=\"1\"></line></g><g class=\"mark-text role-axis-label\" pointer-events=\"none\"><text text-anchor=\"end\" transform=\"translate(8.500000000000002,7) rotate(270) translate(0,3)\" font-family=\"sans-serif\" font-size=\"10px\" fill=\"#000\" opacity=\"1\">ats</text><text text-anchor=\"end\" transform=\"translate(26.5,7) rotate(270) translate(0,3)\" font-family=\"sans-serif\" font-size=\"10px\" fill=\"#000\" opacity=\"1\">otc</text></g><g class=\"mark-rule role-axis-domain\" pointer-events=\"none\"><line transform=\"translate(0,0)\" x2=\"36\" y2=\"0\" stroke=\"#888\" stroke-width=\"3\" opacity=\"1\"></line></g><g class=\"mark-text role-axis-title\" pointer-events=\"none\"><text text-anchor=\"middle\" transform=\"translate(18,36)\" font-family=\"sans-serif\" font-size=\"11px\" font-weight=\"bold\" fill=\"#000\" opacity=\"1\"></text></g></g><path class=\"foreground\" aria-hidden=\"true\" d=\"\" pointer-events=\"none\" display=\"none\"></path></g></g></g><path class=\"foreground\" aria-hidden=\"true\" d=\"\" display=\"none\"></path></g><g transform=\"translate(234,251)\"><path class=\"background\" aria-hidden=\"true\" d=\"M0,0h36v0h-36Z\"></path><g><g class=\"mark-group role-axis\" role=\"graphics-symbol\" aria-roledescription=\"axis\" aria-label=\"X-axis titled ' ' for a discrete scale with 2 values: ats, otc\"><g transform=\"translate(0.5,0.5)\"><path class=\"background\" aria-hidden=\"true\" d=\"M0,0h0v0h0Z\" pointer-events=\"none\"></path><g><g class=\"mark-rule role-axis-tick\" pointer-events=\"none\"><line transform=\"translate(9,0)\" x2=\"0\" y2=\"5\" stroke=\"#888\" stroke-width=\"1\" opacity=\"1\"></line><line transform=\"translate(27,0)\" x2=\"0\" y2=\"5\" stroke=\"#888\" stroke-width=\"1\" opacity=\"1\"></line></g><g class=\"mark-text role-axis-label\" pointer-events=\"none\"><text text-anchor=\"end\" transform=\"translate(8.500000000000002,7) rotate(270) translate(0,3)\" font-family=\"sans-serif\" font-size=\"10px\" fill=\"#000\" opacity=\"1\">ats</text><text text-anchor=\"end\" transform=\"translate(26.5,7) rotate(270) translate(0,3)\" font-family=\"sans-serif\" font-size=\"10px\" fill=\"#000\" opacity=\"1\">otc</text></g><g class=\"mark-rule role-axis-domain\" pointer-events=\"none\"><line transform=\"translate(0,0)\" x2=\"36\" y2=\"0\" stroke=\"#888\" stroke-width=\"3\" opacity=\"1\"></line></g><g class=\"mark-text role-axis-title\" pointer-events=\"none\"><text text-anchor=\"middle\" transform=\"translate(18,36)\" font-family=\"sans-serif\" font-size=\"11px\" font-weight=\"bold\" fill=\"#000\" opacity=\"1\"></text></g></g><path class=\"foreground\" aria-hidden=\"true\" d=\"\" pointer-events=\"none\" display=\"none\"></path></g></g></g><path class=\"foreground\" aria-hidden=\"true\" d=\"\" display=\"none\"></path></g><g transform=\"translate(273,251)\"><path class=\"background\" aria-hidden=\"true\" d=\"M0,0h36v0h-36Z\"></path><g><g class=\"mark-group role-axis\" role=\"graphics-symbol\" aria-roledescription=\"axis\" aria-label=\"X-axis titled ' ' for a discrete scale with 2 values: ats, otc\"><g transform=\"translate(0.5,0.5)\"><path class=\"background\" aria-hidden=\"true\" d=\"M0,0h0v0h0Z\" pointer-events=\"none\"></path><g><g class=\"mark-rule role-axis-tick\" pointer-events=\"none\"><line transform=\"translate(9,0)\" x2=\"0\" y2=\"5\" stroke=\"#888\" stroke-width=\"1\" opacity=\"1\"></line><line transform=\"translate(27,0)\" x2=\"0\" y2=\"5\" stroke=\"#888\" stroke-width=\"1\" opacity=\"1\"></line></g><g class=\"mark-text role-axis-label\" pointer-events=\"none\"><text text-anchor=\"end\" transform=\"translate(8.500000000000002,7) rotate(270) translate(0,3)\" font-family=\"sans-serif\" font-size=\"10px\" fill=\"#000\" opacity=\"1\">ats</text><text text-anchor=\"end\" transform=\"translate(26.5,7) rotate(270) translate(0,3)\" font-family=\"sans-serif\" font-size=\"10px\" fill=\"#000\" opacity=\"1\">otc</text></g><g class=\"mark-rule role-axis-domain\" pointer-events=\"none\"><line transform=\"translate(0,0)\" x2=\"36\" y2=\"0\" stroke=\"#888\" stroke-width=\"3\" opacity=\"1\"></line></g><g class=\"mark-text role-axis-title\" pointer-events=\"none\"><text text-anchor=\"middle\" transform=\"translate(18,36)\" font-family=\"sans-serif\" font-size=\"11px\" font-weight=\"bold\" fill=\"#000\" opacity=\"1\"></text></g></g><path class=\"foreground\" aria-hidden=\"true\" d=\"\" pointer-events=\"none\" display=\"none\"></path></g></g></g><path class=\"foreground\" aria-hidden=\"true\" d=\"\" display=\"none\"></path></g><g transform=\"translate(312,251)\"><path class=\"background\" aria-hidden=\"true\" d=\"M0,0h36v0h-36Z\"></path><g><g class=\"mark-group role-axis\" role=\"graphics-symbol\" aria-roledescription=\"axis\" aria-label=\"X-axis titled ' ' for a discrete scale with 2 values: ats, otc\"><g transform=\"translate(0.5,0.5)\"><path class=\"background\" aria-hidden=\"true\" d=\"M0,0h0v0h0Z\" pointer-events=\"none\"></path><g><g class=\"mark-rule role-axis-tick\" pointer-events=\"none\"><line transform=\"translate(9,0)\" x2=\"0\" y2=\"5\" stroke=\"#888\" stroke-width=\"1\" opacity=\"1\"></line><line transform=\"translate(27,0)\" x2=\"0\" y2=\"5\" stroke=\"#888\" stroke-width=\"1\" opacity=\"1\"></line></g><g class=\"mark-text role-axis-label\" pointer-events=\"none\"><text text-anchor=\"end\" transform=\"translate(8.500000000000002,7) rotate(270) translate(0,3)\" font-family=\"sans-serif\" font-size=\"10px\" fill=\"#000\" opacity=\"1\">ats</text><text text-anchor=\"end\" transform=\"translate(26.5,7) rotate(270) translate(0,3)\" font-family=\"sans-serif\" font-size=\"10px\" fill=\"#000\" opacity=\"1\">otc</text></g><g class=\"mark-rule role-axis-domain\" pointer-events=\"none\"><line transform=\"translate(0,0)\" x2=\"36\" y2=\"0\" stroke=\"#888\" stroke-width=\"3\" opacity=\"1\"></line></g><g class=\"mark-text role-axis-title\" pointer-events=\"none\"><text text-anchor=\"middle\" transform=\"translate(18,36)\" font-family=\"sans-serif\" font-size=\"11px\" font-weight=\"bold\" fill=\"#000\" opacity=\"1\"></text></g></g><path class=\"foreground\" aria-hidden=\"true\" d=\"\" pointer-events=\"none\" display=\"none\"></path></g></g></g><path class=\"foreground\" aria-hidden=\"true\" d=\"\" display=\"none\"></path></g><g transform=\"translate(351,251)\"><path class=\"background\" aria-hidden=\"true\" d=\"M0,0h36v0h-36Z\"></path><g><g class=\"mark-group role-axis\" role=\"graphics-symbol\" aria-roledescription=\"axis\" aria-label=\"X-axis titled ' ' for a discrete scale with 2 values: ats, otc\"><g transform=\"translate(0.5,0.5)\"><path class=\"background\" aria-hidden=\"true\" d=\"M0,0h0v0h0Z\" pointer-events=\"none\"></path><g><g class=\"mark-rule role-axis-tick\" pointer-events=\"none\"><line transform=\"translate(9,0)\" x2=\"0\" y2=\"5\" stroke=\"#888\" stroke-width=\"1\" opacity=\"1\"></line><line transform=\"translate(27,0)\" x2=\"0\" y2=\"5\" stroke=\"#888\" stroke-width=\"1\" opacity=\"1\"></line></g><g class=\"mark-text role-axis-label\" pointer-events=\"none\"><text text-anchor=\"end\" transform=\"translate(8.500000000000002,7) rotate(270) translate(0,3)\" font-family=\"sans-serif\" font-size=\"10px\" fill=\"#000\" opacity=\"1\">ats</text><text text-anchor=\"end\" transform=\"translate(26.5,7) rotate(270) translate(0,3)\" font-family=\"sans-serif\" font-size=\"10px\" fill=\"#000\" opacity=\"1\">otc</text></g><g class=\"mark-rule role-axis-domain\" pointer-events=\"none\"><line transform=\"translate(0,0)\" x2=\"36\" y2=\"0\" stroke=\"#888\" stroke-width=\"3\" opacity=\"1\"></line></g><g class=\"mark-text role-axis-title\" pointer-events=\"none\"><text text-anchor=\"middle\" transform=\"translate(18,36)\" font-family=\"sans-serif\" font-size=\"11px\" font-weight=\"bold\" fill=\"#000\" opacity=\"1\"></text></g></g><path class=\"foreground\" aria-hidden=\"true\" d=\"\" pointer-events=\"none\" display=\"none\"></path></g></g></g><path class=\"foreground\" aria-hidden=\"true\" d=\"\" display=\"none\"></path></g><g transform=\"translate(390,251)\"><path class=\"background\" aria-hidden=\"true\" d=\"M0,0h36v0h-36Z\"></path><g><g class=\"mark-group role-axis\" role=\"graphics-symbol\" aria-roledescription=\"axis\" aria-label=\"X-axis titled ' ' for a discrete scale with 2 values: ats, otc\"><g transform=\"translate(0.5,0.5)\"><path class=\"background\" aria-hidden=\"true\" d=\"M0,0h0v0h0Z\" pointer-events=\"none\"></path><g><g class=\"mark-rule role-axis-tick\" pointer-events=\"none\"><line transform=\"translate(9,0)\" x2=\"0\" y2=\"5\" stroke=\"#888\" stroke-width=\"1\" opacity=\"1\"></line><line transform=\"translate(27,0)\" x2=\"0\" y2=\"5\" stroke=\"#888\" stroke-width=\"1\" opacity=\"1\"></line></g><g class=\"mark-text role-axis-label\" pointer-events=\"none\"><text text-anchor=\"end\" transform=\"translate(8.500000000000002,7) rotate(270) translate(0,3)\" font-family=\"sans-serif\" font-size=\"10px\" fill=\"#000\" opacity=\"1\">ats</text><text text-anchor=\"end\" transform=\"translate(26.5,7) rotate(270) translate(0,3)\" font-family=\"sans-serif\" font-size=\"10px\" fill=\"#000\" opacity=\"1\">otc</text></g><g class=\"mark-rule role-axis-domain\" pointer-events=\"none\"><line transform=\"translate(0,0)\" x2=\"36\" y2=\"0\" stroke=\"#888\" stroke-width=\"3\" opacity=\"1\"></line></g><g class=\"mark-text role-axis-title\" pointer-events=\"none\"><text text-anchor=\"middle\" transform=\"translate(18,36)\" font-family=\"sans-serif\" font-size=\"11px\" font-weight=\"bold\" fill=\"#000\" opacity=\"1\"></text></g></g><path class=\"foreground\" aria-hidden=\"true\" d=\"\" pointer-events=\"none\" display=\"none\"></path></g></g></g><path class=\"foreground\" aria-hidden=\"true\" d=\"\" display=\"none\"></path></g><g transform=\"translate(429,251)\"><path class=\"background\" aria-hidden=\"true\" d=\"M0,0h36v0h-36Z\"></path><g><g class=\"mark-group role-axis\" role=\"graphics-symbol\" aria-roledescription=\"axis\" aria-label=\"X-axis titled ' ' for a discrete scale with 2 values: ats, otc\"><g transform=\"translate(0.5,0.5)\"><path class=\"background\" aria-hidden=\"true\" d=\"M0,0h0v0h0Z\" pointer-events=\"none\"></path><g><g class=\"mark-rule role-axis-tick\" pointer-events=\"none\"><line transform=\"translate(9,0)\" x2=\"0\" y2=\"5\" stroke=\"#888\" stroke-width=\"1\" opacity=\"1\"></line><line transform=\"translate(27,0)\" x2=\"0\" y2=\"5\" stroke=\"#888\" stroke-width=\"1\" opacity=\"1\"></line></g><g class=\"mark-text role-axis-label\" pointer-events=\"none\"><text text-anchor=\"end\" transform=\"translate(8.500000000000002,7) rotate(270) translate(0,3)\" font-family=\"sans-serif\" font-size=\"10px\" fill=\"#000\" opacity=\"1\">ats</text><text text-anchor=\"end\" transform=\"translate(26.5,7) rotate(270) translate(0,3)\" font-family=\"sans-serif\" font-size=\"10px\" fill=\"#000\" opacity=\"1\">otc</text></g><g class=\"mark-rule role-axis-domain\" pointer-events=\"none\"><line transform=\"translate(0,0)\" x2=\"36\" y2=\"0\" stroke=\"#888\" stroke-width=\"3\" opacity=\"1\"></line></g><g class=\"mark-text role-axis-title\" pointer-events=\"none\"><text text-anchor=\"middle\" transform=\"translate(18,36)\" font-family=\"sans-serif\" font-size=\"11px\" font-weight=\"bold\" fill=\"#000\" opacity=\"1\"></text></g></g><path class=\"foreground\" aria-hidden=\"true\" d=\"\" pointer-events=\"none\" display=\"none\"></path></g></g></g><path class=\"foreground\" aria-hidden=\"true\" d=\"\" display=\"none\"></path></g><g transform=\"translate(468,251)\"><path class=\"background\" aria-hidden=\"true\" d=\"M0,0h36v0h-36Z\"></path><g><g class=\"mark-group role-axis\" role=\"graphics-symbol\" aria-roledescription=\"axis\" aria-label=\"X-axis titled ' ' for a discrete scale with 2 values: ats, otc\"><g transform=\"translate(0.5,0.5)\"><path class=\"background\" aria-hidden=\"true\" d=\"M0,0h0v0h0Z\" pointer-events=\"none\"></path><g><g class=\"mark-rule role-axis-tick\" pointer-events=\"none\"><line transform=\"translate(9,0)\" x2=\"0\" y2=\"5\" stroke=\"#888\" stroke-width=\"1\" opacity=\"1\"></line><line transform=\"translate(27,0)\" x2=\"0\" y2=\"5\" stroke=\"#888\" stroke-width=\"1\" opacity=\"1\"></line></g><g class=\"mark-text role-axis-label\" pointer-events=\"none\"><text text-anchor=\"end\" transform=\"translate(8.500000000000002,7) rotate(270) translate(0,3)\" font-family=\"sans-serif\" font-size=\"10px\" fill=\"#000\" opacity=\"1\">ats</text><text text-anchor=\"end\" transform=\"translate(26.5,7) rotate(270) translate(0,3)\" font-family=\"sans-serif\" font-size=\"10px\" fill=\"#000\" opacity=\"1\">otc</text></g><g class=\"mark-rule role-axis-domain\" pointer-events=\"none\"><line transform=\"translate(0,0)\" x2=\"36\" y2=\"0\" stroke=\"#888\" stroke-width=\"3\" opacity=\"1\"></line></g><g class=\"mark-text role-axis-title\" pointer-events=\"none\"><text text-anchor=\"middle\" transform=\"translate(18,36)\" font-family=\"sans-serif\" font-size=\"11px\" font-weight=\"bold\" fill=\"#000\" opacity=\"1\"></text></g></g><path class=\"foreground\" aria-hidden=\"true\" d=\"\" pointer-events=\"none\" display=\"none\"></path></g></g></g><path class=\"foreground\" aria-hidden=\"true\" d=\"\" display=\"none\"></path></g><g transform=\"translate(507,251)\"><path class=\"background\" aria-hidden=\"true\" d=\"M0,0h36v0h-36Z\"></path><g><g class=\"mark-group role-axis\" role=\"graphics-symbol\" aria-roledescription=\"axis\" aria-label=\"X-axis titled ' ' for a discrete scale with 2 values: ats, otc\"><g transform=\"translate(0.5,0.5)\"><path class=\"background\" aria-hidden=\"true\" d=\"M0,0h0v0h0Z\" pointer-events=\"none\"></path><g><g class=\"mark-rule role-axis-tick\" pointer-events=\"none\"><line transform=\"translate(9,0)\" x2=\"0\" y2=\"5\" stroke=\"#888\" stroke-width=\"1\" opacity=\"1\"></line><line transform=\"translate(27,0)\" x2=\"0\" y2=\"5\" stroke=\"#888\" stroke-width=\"1\" opacity=\"1\"></line></g><g class=\"mark-text role-axis-label\" pointer-events=\"none\"><text text-anchor=\"end\" transform=\"translate(8.500000000000002,7) rotate(270) translate(0,3)\" font-family=\"sans-serif\" font-size=\"10px\" fill=\"#000\" opacity=\"1\">ats</text><text text-anchor=\"end\" transform=\"translate(26.5,7) rotate(270) translate(0,3)\" font-family=\"sans-serif\" font-size=\"10px\" fill=\"#000\" opacity=\"1\">otc</text></g><g class=\"mark-rule role-axis-domain\" pointer-events=\"none\"><line transform=\"translate(0,0)\" x2=\"36\" y2=\"0\" stroke=\"#888\" stroke-width=\"3\" opacity=\"1\"></line></g><g class=\"mark-text role-axis-title\" pointer-events=\"none\"><text text-anchor=\"middle\" transform=\"translate(18,36)\" font-family=\"sans-serif\" font-size=\"11px\" font-weight=\"bold\" fill=\"#000\" opacity=\"1\"></text></g></g><path class=\"foreground\" aria-hidden=\"true\" d=\"\" pointer-events=\"none\" display=\"none\"></path></g></g></g><path class=\"foreground\" aria-hidden=\"true\" d=\"\" display=\"none\"></path></g><g transform=\"translate(546,251)\"><path class=\"background\" aria-hidden=\"true\" d=\"M0,0h36v0h-36Z\"></path><g><g class=\"mark-group role-axis\" role=\"graphics-symbol\" aria-roledescription=\"axis\" aria-label=\"X-axis titled ' ' for a discrete scale with 2 values: ats, otc\"><g transform=\"translate(0.5,0.5)\"><path class=\"background\" aria-hidden=\"true\" d=\"M0,0h0v0h0Z\" pointer-events=\"none\"></path><g><g class=\"mark-rule role-axis-tick\" pointer-events=\"none\"><line transform=\"translate(9,0)\" x2=\"0\" y2=\"5\" stroke=\"#888\" stroke-width=\"1\" opacity=\"1\"></line><line transform=\"translate(27,0)\" x2=\"0\" y2=\"5\" stroke=\"#888\" stroke-width=\"1\" opacity=\"1\"></line></g><g class=\"mark-text role-axis-label\" pointer-events=\"none\"><text text-anchor=\"end\" transform=\"translate(8.500000000000002,7) rotate(270) translate(0,3)\" font-family=\"sans-serif\" font-size=\"10px\" fill=\"#000\" opacity=\"1\">ats</text><text text-anchor=\"end\" transform=\"translate(26.5,7) rotate(270) translate(0,3)\" font-family=\"sans-serif\" font-size=\"10px\" fill=\"#000\" opacity=\"1\">otc</text></g><g class=\"mark-rule role-axis-domain\" pointer-events=\"none\"><line transform=\"translate(0,0)\" x2=\"36\" y2=\"0\" stroke=\"#888\" stroke-width=\"3\" opacity=\"1\"></line></g><g class=\"mark-text role-axis-title\" pointer-events=\"none\"><text text-anchor=\"middle\" transform=\"translate(18,36)\" font-family=\"sans-serif\" font-size=\"11px\" font-weight=\"bold\" fill=\"#000\" opacity=\"1\"></text></g></g><path class=\"foreground\" aria-hidden=\"true\" d=\"\" pointer-events=\"none\" display=\"none\"></path></g></g></g><path class=\"foreground\" aria-hidden=\"true\" d=\"\" display=\"none\"></path></g></g><g class=\"mark-group role-scope cell\" role=\"graphics-object\" aria-roledescription=\"group mark container\"><g transform=\"translate(0,0)\"><path class=\"background\" aria-hidden=\"true\" d=\"M0.5,0.5h36v250h-36Z\"></path><g><g class=\"mark-rect role-mark child_marks\" role=\"graphics-object\" aria-roledescription=\"rect mark container\"><path aria-label=\"% of Total Trade Volume by Secondary Market: 6.82039469543;  : otc; Secondary Market: otc\" role=\"graphics-symbol\" aria-roledescription=\"bar\" d=\"M18.900000000000002,232.94901326142855h16.2v17.050986738571453h-16.2Z\" fill=\"rgb(53, 183, 121)\"></path><path aria-label=\"% of Total Trade Volume by Secondary Market: 4.86937516038;  : ats; Secondary Market: ats\" role=\"graphics-symbol\" aria-roledescription=\"bar\" d=\"M0.9000000000000021,237.82656209905045h16.2v12.173437900949551h-16.2Z\" fill=\"rgb(49, 104, 142)\"></path></g></g><path class=\"foreground\" aria-hidden=\"true\" d=\"\" display=\"none\"></path></g><g transform=\"translate(39,0)\"><path class=\"background\" aria-hidden=\"true\" d=\"M0.5,0.5h36v250h-36Z\"></path><g><g class=\"mark-rect role-mark child_marks\" role=\"graphics-object\" aria-roledescription=\"rect mark container\"><path aria-label=\"% of Total Trade Volume by Secondary Market: 75.4501567264;  : otc; Secondary Market: otc\" role=\"graphics-symbol\" aria-roledescription=\"bar\" d=\"M18.900000000000002,61.37460818408122h16.2v188.6253918159188h-16.2Z\" fill=\"rgb(53, 183, 121)\"></path><path aria-label=\"% of Total Trade Volume by Secondary Market: 65.9501429934;  : ats; Secondary Market: ats\" role=\"graphics-symbol\" aria-roledescription=\"bar\" d=\"M0.9000000000000021,85.12464251648893h16.2v164.87535748351107h-16.2Z\" fill=\"rgb(49, 104, 142)\"></path></g></g><path class=\"foreground\" aria-hidden=\"true\" d=\"\" display=\"none\"></path></g><g transform=\"translate(78,0)\"><path class=\"background\" aria-hidden=\"true\" d=\"M0.5,0.5h36v250h-36Z\"></path><g><g class=\"mark-rect role-mark child_marks\" role=\"graphics-object\" aria-roledescription=\"rect mark container\"><path aria-label=\"% of Total Trade Volume by Secondary Market: 0.415511289162;  : otc; Secondary Market: otc\" role=\"graphics-symbol\" aria-roledescription=\"bar\" d=\"M18.900000000000002,248.96122177709432h16.2v1.0387782229056768h-16.2Z\" fill=\"rgb(53, 183, 121)\"></path><path aria-label=\"% of Total Trade Volume by Secondary Market: 0.390948481246;  : ats; Secondary Market: ats\" role=\"graphics-symbol\" aria-roledescription=\"bar\" d=\"M0.9000000000000021,249.02262879688524h16.2v0.9773712031147568h-16.2Z\" fill=\"rgb(49, 104, 142)\"></path></g></g><path class=\"foreground\" aria-hidden=\"true\" d=\"\" display=\"none\"></path></g><g transform=\"translate(117,0)\"><path class=\"background\" aria-hidden=\"true\" d=\"M0.5,0.5h36v250h-36Z\"></path><g><g class=\"mark-rect role-mark child_marks\" role=\"graphics-object\" aria-roledescription=\"rect mark container\"><path aria-label=\"% of Total Trade Volume by Secondary Market: 1.88722844304;  : otc; Secondary Market: otc\" role=\"graphics-symbol\" aria-roledescription=\"bar\" d=\"M18.900000000000002,245.28192889239625h16.2v4.718071107603748h-16.2Z\" fill=\"rgb(53, 183, 121)\"></path><path aria-label=\"% of Total Trade Volume by Secondary Market: 1.42442996344;  : ats; Secondary Market: ats\" role=\"graphics-symbol\" aria-roledescription=\"bar\" d=\"M0.9000000000000021,246.43892509141168h16.2v3.561074908588324h-16.2Z\" fill=\"rgb(49, 104, 142)\"></path></g></g><path class=\"foreground\" aria-hidden=\"true\" d=\"\" display=\"none\"></path></g><g transform=\"translate(156,0)\"><path class=\"background\" aria-hidden=\"true\" d=\"M0.5,0.5h36v250h-36Z\"></path><g><g class=\"mark-rect role-mark child_marks\" role=\"graphics-object\" aria-roledescription=\"rect mark container\"><path aria-label=\"% of Total Trade Volume by Secondary Market: 0.0624437039993;  : otc; Secondary Market: otc\" role=\"graphics-symbol\" aria-roledescription=\"bar\" d=\"M18.900000000000002,249.84389074000174h16.2v0.15610925999826009h-16.2Z\" fill=\"rgb(53, 183, 121)\"></path><path aria-label=\"% of Total Trade Volume by Secondary Market: 0.0494523693996;  : ats; Secondary Market: ats\" role=\"graphics-symbol\" aria-roledescription=\"bar\" d=\"M0.9000000000000021,249.87636907650094h16.2v0.12363092349906424h-16.2Z\" fill=\"rgb(49, 104, 142)\"></path></g></g><path class=\"foreground\" aria-hidden=\"true\" d=\"\" display=\"none\"></path></g><g transform=\"translate(195,0)\"><path class=\"background\" aria-hidden=\"true\" d=\"M0.5,0.5h36v250h-36Z\"></path><g><g class=\"mark-rect role-mark child_marks\" role=\"graphics-object\" aria-roledescription=\"rect mark container\"><path aria-label=\"% of Total Trade Volume by Secondary Market: 62.1753908367;  : otc; Secondary Market: otc\" role=\"graphics-symbol\" aria-roledescription=\"bar\" d=\"M18.900000000000002,94.56152290836667h16.2v155.43847709163333h-16.2Z\" fill=\"rgb(53, 183, 121)\"></path><path aria-label=\"% of Total Trade Volume by Secondary Market: 71.8314791995;  : ats; Secondary Market: ats\" role=\"graphics-symbol\" aria-roledescription=\"bar\" d=\"M0.9000000000000021,70.42130200132974h16.2v179.57869799867026h-16.2Z\" fill=\"rgb(49, 104, 142)\"></path></g></g><path class=\"foreground\" aria-hidden=\"true\" d=\"\" display=\"none\"></path></g><g transform=\"translate(234,0)\"><path class=\"background\" aria-hidden=\"true\" d=\"M0.5,0.5h36v250h-36Z\"></path><g><g class=\"mark-rect role-mark child_marks\" role=\"graphics-object\" aria-roledescription=\"rect mark container\"><path aria-label=\"% of Total Trade Volume by Secondary Market: 96.6969820472;  : otc; Secondary Market: otc\" role=\"graphics-symbol\" aria-roledescription=\"bar\" d=\"M18.900000000000002,8.257544881954598h16.2v241.7424551180454h-16.2Z\" fill=\"rgb(53, 183, 121)\"></path><path aria-label=\"% of Total Trade Volume by Secondary Market: 97.4860994369;  : ats; Secondary Market: ats\" role=\"graphics-symbol\" aria-roledescription=\"bar\" d=\"M0.9000000000000021,6.284751407787753h16.2v243.71524859221225h-16.2Z\" fill=\"rgb(49, 104, 142)\"></path></g></g><path class=\"foreground\" aria-hidden=\"true\" d=\"\" display=\"none\"></path></g><g transform=\"translate(273,0)\"><path class=\"background\" aria-hidden=\"true\" d=\"M0.5,0.5h36v250h-36Z\"></path><g><g class=\"mark-rect role-mark child_marks\" role=\"graphics-object\" aria-roledescription=\"rect mark container\"><path aria-label=\"% of Total Trade Volume by Secondary Market: 39.5690338084;  : otc; Secondary Market: otc\" role=\"graphics-symbol\" aria-roledescription=\"bar\" d=\"M18.900000000000002,151.07741547907995h16.2v98.92258452092005h-16.2Z\" fill=\"rgb(53, 183, 121)\"></path><path aria-label=\"% of Total Trade Volume by Secondary Market: 33.1612389174;  : ats; Secondary Market: ats\" role=\"graphics-symbol\" aria-roledescription=\"bar\" d=\"M0.9000000000000021,167.09690270657245h16.2v82.90309729342755h-16.2Z\" fill=\"rgb(49, 104, 142)\"></path></g></g><path class=\"foreground\" aria-hidden=\"true\" d=\"\" display=\"none\"></path></g><g transform=\"translate(312,0)\"><path class=\"background\" aria-hidden=\"true\" d=\"M0.5,0.5h36v250h-36Z\"></path><g><g class=\"mark-rect role-mark child_marks\" role=\"graphics-object\" aria-roledescription=\"rect mark container\"><path aria-label=\"% of Total Trade Volume by Secondary Market: 4.32120157005;  : otc; Secondary Market: otc\" role=\"graphics-symbol\" aria-roledescription=\"bar\" d=\"M18.900000000000002,239.19699607486822h16.2v10.803003925131776h-16.2Z\" fill=\"rgb(53, 183, 121)\"></path><path aria-label=\"% of Total Trade Volume by Secondary Market: 3.134317784;  : ats; Secondary Market: ats\" role=\"graphics-symbol\" aria-roledescription=\"bar\" d=\"M0.9000000000000021,242.1642055399941h16.2v7.8357944600059h-16.2Z\" fill=\"rgb(49, 104, 142)\"></path></g></g><path class=\"foreground\" aria-hidden=\"true\" d=\"\" display=\"none\"></path></g><g transform=\"translate(351,0)\"><path class=\"background\" aria-hidden=\"true\" d=\"M0.5,0.5h36v250h-36Z\"></path><g><g class=\"mark-rect role-mark child_marks\" role=\"graphics-object\" aria-roledescription=\"rect mark container\"><path aria-label=\"% of Total Trade Volume by Secondary Market: 1.11664898718;  : otc; Secondary Market: otc\" role=\"graphics-symbol\" aria-roledescription=\"bar\" d=\"M18.900000000000002,247.2083775320406h16.2v2.7916224679593995h-16.2Z\" fill=\"rgb(53, 183, 121)\"></path><path aria-label=\"% of Total Trade Volume by Secondary Market: 1.01812670906;  : ats; Secondary Market: ats\" role=\"graphics-symbol\" aria-roledescription=\"bar\" d=\"M0.9000000000000021,247.4546832273623h16.2v2.5453167726377046h-16.2Z\" fill=\"rgb(49, 104, 142)\"></path></g></g><path class=\"foreground\" aria-hidden=\"true\" d=\"\" display=\"none\"></path></g><g transform=\"translate(390,0)\"><path class=\"background\" aria-hidden=\"true\" d=\"M0.5,0.5h36v250h-36Z\"></path><g><g class=\"mark-rect role-mark child_marks\" role=\"graphics-object\" aria-roledescription=\"rect mark container\"><path aria-label=\"% of Total Trade Volume by Secondary Market: 81.2100531827;  : otc; Secondary Market: otc\" role=\"graphics-symbol\" aria-roledescription=\"bar\" d=\"M18.900000000000002,46.97486704320655h16.2v203.02513295679344h-16.2Z\" fill=\"rgb(53, 183, 121)\"></path><path aria-label=\"% of Total Trade Volume by Secondary Market: 84.7398169415;  : ats; Secondary Market: ats\" role=\"graphics-symbol\" aria-roledescription=\"bar\" d=\"M0.9000000000000021,38.15045764618863h16.2v211.8495423538114h-16.2Z\" fill=\"rgb(49, 104, 142)\"></path></g></g><path class=\"foreground\" aria-hidden=\"true\" d=\"\" display=\"none\"></path></g><g transform=\"translate(429,0)\"><path class=\"background\" aria-hidden=\"true\" d=\"M0.5,0.5h36v250h-36Z\"></path><g><g class=\"mark-rect role-mark child_marks\" role=\"graphics-object\" aria-roledescription=\"rect mark container\"><path aria-label=\"% of Total Trade Volume by Secondary Market: 41.6604341466;  : otc; Secondary Market: otc\" role=\"graphics-symbol\" aria-roledescription=\"bar\" d=\"M18.900000000000002,145.84891463359716h16.2v104.15108536640284h-16.2Z\" fill=\"rgb(53, 183, 121)\"></path><path aria-label=\"% of Total Trade Volume by Secondary Market: 32.0626322641;  : ats; Secondary Market: ats\" role=\"graphics-symbol\" aria-roledescription=\"bar\" d=\"M0.9000000000000021,169.84341933977538h16.2v80.15658066022462h-16.2Z\" fill=\"rgb(49, 104, 142)\"></path></g></g><path class=\"foreground\" aria-hidden=\"true\" d=\"\" display=\"none\"></path></g><g transform=\"translate(468,0)\"><path class=\"background\" aria-hidden=\"true\" d=\"M0.5,0.5h36v250h-36Z\"></path><g><g class=\"mark-rect role-mark child_marks\" role=\"graphics-object\" aria-roledescription=\"rect mark container\"><path aria-label=\"% of Total Trade Volume by Secondary Market: 75.9217496526;  : otc; Secondary Market: otc\" role=\"graphics-symbol\" aria-roledescription=\"bar\" d=\"M18.900000000000002,60.195625868597915h16.2v189.80437413140208h-16.2Z\" fill=\"rgb(53, 183, 121)\"></path><path aria-label=\"% of Total Trade Volume by Secondary Market: 69.9190161897;  : ats; Secondary Market: ats\" role=\"graphics-symbol\" aria-roledescription=\"bar\" d=\"M0.9000000000000021,75.20245952576904h16.2v174.79754047423097h-16.2Z\" fill=\"rgb(49, 104, 142)\"></path></g></g><path class=\"foreground\" aria-hidden=\"true\" d=\"\" display=\"none\"></path></g><g transform=\"translate(507,0)\"><path class=\"background\" aria-hidden=\"true\" d=\"M0.5,0.5h36v250h-36Z\"></path><g><g class=\"mark-rect role-mark child_marks\" role=\"graphics-object\" aria-roledescription=\"rect mark container\"><path aria-label=\"% of Total Trade Volume by Secondary Market: 7.84598213701;  : otc; Secondary Market: otc\" role=\"graphics-symbol\" aria-roledescription=\"bar\" d=\"M18.900000000000002,230.385044657466h16.2v19.61495534253399h-16.2Z\" fill=\"rgb(53, 183, 121)\"></path><path aria-label=\"% of Total Trade Volume by Secondary Market: 5.90071393843;  : ats; Secondary Market: ats\" role=\"graphics-symbol\" aria-roledescription=\"bar\" d=\"M0.9000000000000021,235.24821515392642h16.2v14.751784846073576h-16.2Z\" fill=\"rgb(49, 104, 142)\"></path></g></g><path class=\"foreground\" aria-hidden=\"true\" d=\"\" display=\"none\"></path></g><g transform=\"translate(546,0)\"><path class=\"background\" aria-hidden=\"true\" d=\"M0.5,0.5h36v250h-36Z\"></path><g><g class=\"mark-rect role-mark child_marks\" role=\"graphics-object\" aria-roledescription=\"rect mark container\"><path aria-label=\"% of Total Trade Volume by Secondary Market: 75.2596611247;  : otc; Secondary Market: otc\" role=\"graphics-symbol\" aria-roledescription=\"bar\" d=\"M18.900000000000002,61.850847188226446h16.2v188.14915281177355h-16.2Z\" fill=\"rgb(53, 183, 121)\"></path><path aria-label=\"% of Total Trade Volume by Secondary Market: 69.4010487714;  : ats; Secondary Market: ats\" role=\"graphics-symbol\" aria-roledescription=\"bar\" d=\"M0.9000000000000021,76.49737807138732h16.2v173.50262192861268h-16.2Z\" fill=\"rgb(49, 104, 142)\"></path></g></g><path class=\"foreground\" aria-hidden=\"true\" d=\"\" display=\"none\"></path></g></g><g class=\"mark-group role-legend\" role=\"graphics-symbol\" aria-roledescription=\"legend\" aria-label=\"Symbol legend titled 'Secondary Market' for fill color with 2 values: ats, otc\"><g transform=\"translate(601,0)\"><path class=\"background\" aria-hidden=\"true\" d=\"M0,0h111v40h-111Z\" pointer-events=\"none\"></path><g><g class=\"mark-group role-legend-entry\"><g transform=\"translate(0,16)\"><path class=\"background\" aria-hidden=\"true\" d=\"M0,0h0v0h0Z\" pointer-events=\"none\"></path><g><g class=\"mark-group role-scope\" role=\"graphics-object\" aria-roledescription=\"group mark container\"><g transform=\"translate(0,0)\"><path class=\"background\" aria-hidden=\"true\" d=\"M0,0h32v11h-32Z\" pointer-events=\"none\" opacity=\"1\"></path><g><g class=\"mark-symbol role-legend-symbol\" pointer-events=\"none\"><path transform=\"translate(6,6)\" d=\"M-5,-5h10v10h-10Z\" fill=\"rgb(49, 104, 142)\" stroke-width=\"1.5\" opacity=\"1\"></path></g><g class=\"mark-text role-legend-label\" pointer-events=\"none\"><text text-anchor=\"start\" transform=\"translate(16,9)\" font-family=\"sans-serif\" font-size=\"10px\" fill=\"#000\" opacity=\"1\">ats</text></g></g><path class=\"foreground\" aria-hidden=\"true\" d=\"\" pointer-events=\"none\" display=\"none\"></path></g><g transform=\"translate(0,13)\"><path class=\"background\" aria-hidden=\"true\" d=\"M0,0h32v11h-32Z\" pointer-events=\"none\" opacity=\"1\"></path><g><g class=\"mark-symbol role-legend-symbol\" pointer-events=\"none\"><path transform=\"translate(6,6)\" d=\"M-5,-5h10v10h-10Z\" fill=\"rgb(53, 183, 121)\" stroke-width=\"1.5\" opacity=\"1\"></path></g><g class=\"mark-text role-legend-label\" pointer-events=\"none\"><text text-anchor=\"start\" transform=\"translate(16,9)\" font-family=\"sans-serif\" font-size=\"10px\" fill=\"#000\" opacity=\"1\">otc</text></g></g><path class=\"foreground\" aria-hidden=\"true\" d=\"\" pointer-events=\"none\" display=\"none\"></path></g></g></g><path class=\"foreground\" aria-hidden=\"true\" d=\"\" pointer-events=\"none\" display=\"none\"></path></g></g><g class=\"mark-text role-legend-title\" pointer-events=\"none\"><text text-anchor=\"start\" transform=\"translate(0,9)\" font-family=\"sans-serif\" font-size=\"11px\" font-weight=\"bold\" fill=\"#000\" opacity=\"1\">Secondary Market</text></g></g><path class=\"foreground\" aria-hidden=\"true\" d=\"\" pointer-events=\"none\" display=\"none\"></path></g></g><g class=\"mark-group role-title\"><g transform=\"translate(335.5,-102)\"><path class=\"background\" aria-hidden=\"true\" d=\"M0,0h0v0h0Z\" pointer-events=\"none\"></path><g><g class=\"mark-text role-title-text\" role=\"graphics-symbol\" aria-roledescription=\"title\" aria-label=\"Title text 'Non-MTN-Bond Trades by Covenant Category as Percentage of Total  Non-MTN-Bond Trade Count by Secondary Bond Market - 2019Q1'\" pointer-events=\"none\"><text text-anchor=\"middle\" transform=\"translate(0,11)\" font-family=\"sans-serif\" font-size=\"14px\" font-weight=\"bold\" fill=\"#000\" opacity=\"1\"><tspan>Non-MTN-Bond Trades by Covenant Category as Percentage of Total</tspan><tspan x=\"0\" dy=\"16\">Non-MTN-Bond Trade Count by Secondary Bond Market - 2019Q1</tspan></text></g></g><path class=\"foreground\" aria-hidden=\"true\" d=\"\" pointer-events=\"none\" display=\"none\"></path></g></g></g><path class=\"foreground\" aria-hidden=\"true\" d=\"\" display=\"none\"></path></g></g></g></svg>\n"
      ],
      "text/plain": [
       "@vlplot(\n",
       "    config={\n",
       "        view={\n",
       "            stroke=\"transparent\"\n",
       "        },\n",
       "        axis={\n",
       "            domainWidth=3\n",
       "        },\n",
       "        opacity={\n",
       "            value=0.7\n",
       "        }\n",
       "    },\n",
       "    title={\n",
       "        text=[\n",
       "            \"Non-MTN-Bond Trades by Covenant Category as Percentage of Total \",\n",
       "            \"Non-MTN-Bond Trade Count by Secondary Bond Market - 2019Q1\"\n",
       "        ],\n",
       "        align=\"center\",\n",
       "        anchor=\"middle\",\n",
       "        fontSize=14,\n",
       "        offset=20\n",
       "    },\n",
       "    spacing=1,\n",
       "    width={\n",
       "        step=18\n",
       "    },\n",
       "    height=250,\n",
       "    mark=\"bar\",\n",
       "    encoding={\n",
       "        column={\n",
       "            type=\"ordinal\",\n",
       "            title=\"Covenant Category\",\n",
       "            sort=\"ascending\",\n",
       "            field=\"cov_cat\"\n",
       "        },\n",
       "        y={\n",
       "            axis={\n",
       "                title=\"% of Total Trade Volume by Secondary Market\",\n",
       "                grid=false,\n",
       "                stack=nothing\n",
       "            },\n",
       "            field=\"perc_sbm_total\"\n",
       "        },\n",
       "        x={\n",
       "            type=\"nominal\",\n",
       "            axis={\n",
       "                title=\" \"\n",
       "            },\n",
       "            field=\"sbm\"\n",
       "        },\n",
       "        color={\n",
       "            legend={\n",
       "                title=\"Secondary Market\"\n",
       "            },\n",
       "            scale={\n",
       "                scheme=\"viridis\"\n",
       "            },\n",
       "            field=\"sbm\",\n",
       "            type=\"nominal\"\n",
       "        }\n",
       "    },\n",
       "    data={\n",
       "        values=...\n",
       "    }\n",
       ")"
      ]
     },
     "execution_count": 74,
     "metadata": {},
     "output_type": "execute_result"
    }
   ],
   "source": [
    "pl[12]"
   ]
  },
  {
   "cell_type": "code",
   "execution_count": 82,
   "metadata": {},
   "outputs": [],
   "source": [
    "# scp -r artur@acropolis.uchicago.edu:/home/artur/BondPricing/bond-data/plots/ ~/Desktop/\n",
    "df = deepcopy(tt)\n",
    "period = string(df[1, :period])\n",
    "fpname = PlotMod.get_plt_fpath_name(plt_type, stats_var, \n",
    "                            y_var, period,  \n",
    "                            main_path, plt_dir;\n",
    "                            file_ext=\"svg\")\n",
    "pl[12] |> VegaLite.save(fpname)"
   ]
  },
  {
   "cell_type": "code",
   "execution_count": null,
   "metadata": {},
   "outputs": [],
   "source": []
  },
  {
   "cell_type": "code",
   "execution_count": null,
   "metadata": {},
   "outputs": [],
   "source": []
  },
  {
   "cell_type": "code",
   "execution_count": null,
   "metadata": {},
   "outputs": [],
   "source": []
  },
  {
   "cell_type": "code",
   "execution_count": null,
   "metadata": {},
   "outputs": [],
   "source": []
  },
  {
   "cell_type": "code",
   "execution_count": null,
   "metadata": {},
   "outputs": [],
   "source": []
  },
  {
   "cell_type": "code",
   "execution_count": null,
   "metadata": {},
   "outputs": [],
   "source": [
    "\n",
    "function prepare_cat_plot2(dfa::DataFrame; stat::Symbol=:volume, \n",
    "                          rt::Symbol=:any, cvt::Symbol=:any,\n",
    "                          date_cols::Array{Symbol, 1}=[:trd_exctn_yr, :trd_exctn_qtr])\n",
    "#     cond = .&(dfa[:, :sbm] .!= :both, dfa[:, :rt] .!= :any, dfa[:, :cvt] .== :any)\n",
    "#     df = dfa[cond, :]\n",
    "    rt_renamer(x) = x == :any ? \"ANY\" : x == :ig ? \"Investment Grade\" : \"High Yield\"\n",
    "    sbm_renamer(x) = uppercase(string(x))\n",
    "\n",
    "    df[!, :period] .= !isempty(date_cols) ? PlotMod.get_period(dfa, date_cols) : \"\"\n",
    "    \n",
    "    header_cols = [:period, :sbm, :rt, :cvt]\n",
    "    statd = Dict(:count => [\"count\", :_trd_count], \n",
    "                 :volume => [\"vol\", :_trd_vol_tr],\n",
    "                 :bonds => [\"bond\", :_bonds],\n",
    "                 :issuers => [\"issuers\", :_issuers])\n",
    "\n",
    "    stat_cols = [Symbol(x) for x in names(df) if .&(occursin(\"cg\", x), occursin(statd[stat][1], x))] \n",
    "    col_ord = vcat(header_cols, stat_cols)\n",
    "\n",
    "    # Get Volume by SBM\n",
    "    any_cond = .&(df[:, :sbm] .== :any, [df[:, x] .== :any for x in [:rt, :cvt]]...)\n",
    "    ats_cond = .&(df[:, :sbm] .== :ats, [df[:, x] .== :any for x in [:rt, :cvt]]...)\n",
    "    otc_cond = .&(df[:, :sbm] .== :otc, [df[:, x] .== :any for x in [:rt, :cvt]]...)\n",
    "\n",
    "    vold = Dict{Symbol, Float64}(Symbol(:total, statd[stat][2]) => df[any_cond, Symbol(:total, statd[stat][2])][1],\n",
    "                                 Symbol(:ats, statd[stat][2]) => df[ats_cond, Symbol(:total, statd[stat][2])][1],\n",
    "                                 Symbol(:otc, statd[stat][2]) => df[otc_cond, Symbol(:total, statd[stat][2])][1])\n",
    "\n",
    "    # Pivot Table\n",
    "    df = stack(df[:, col_ord], Not([:period, :sbm, :rt, :cvt]))\n",
    "    df = df[df[:, :sbm] .!= :any, :]\n",
    "\n",
    "    # Covenant Categories\n",
    "    var_renamer(x) = parse(Int64, rsplit(rsplit(string(x), \"_\")[1], \"cg\")[2])\n",
    "    df[!, :cov_cat] = var_renamer.(df[:, :variable])\n",
    "    \n",
    "    # Covenant Category's (Vol, Bond, Issuer, Trd) Count as Percentage of Total Count\n",
    "    df[:, :perc_total] = (df[:, :value]/vold[Symbol(:total, statd[stat][2])]) * 100\n",
    "\n",
    "    # Covenant Category's Trade Volume as Percentage of Total Trade Volume\n",
    "    # by Secondary Bond Market\n",
    "    f(sbm, value) =  (value/ vold[Symbol(sbm, statd[stat][2]) ]) .* 100\n",
    "    df[:,  :perc_sbm_total] = f.(df[:, :sbm], df[:, :value])\n",
    "    \n",
    "    return df\n",
    "end\n",
    "\n"
   ]
  },
  {
   "cell_type": "code",
   "execution_count": 140,
   "metadata": {},
   "outputs": [
    {
     "name": "stderr",
     "output_type": "stream",
     "text": [
      "WARNING: replacing module PlotMod.\n"
     ]
    },
    {
     "data": {
      "text/html": [
       "<table class=\"data-frame\"><thead><tr><th></th><th>period</th><th>sbm</th><th>rt</th><th>cvt</th><th>variable</th><th>value</th><th>cov_cat</th><th>perc_total</th><th>perc_sbm_total</th></tr><tr><th></th><th>Symbol</th><th>Symbol</th><th>Symbol</th><th>Symbol</th><th>Cat…</th><th>Int64</th><th>Int64</th><th>Float64</th><th>Float64</th></tr></thead><tbody><p>30 rows × 9 columns</p><tr><th>1</th><td>2019Q2</td><td>otc</td><td>any</td><td>any</td><td>cg1_bonds</td><td>499</td><td>1</td><td>5.74951</td><td>5.75017</td></tr><tr><th>2</th><td>2019Q2</td><td>ats</td><td>any</td><td>any</td><td>cg1_bonds</td><td>487</td><td>1</td><td>5.61125</td><td>5.94482</td></tr><tr><th>3</th><td>2019Q2</td><td>otc</td><td>any</td><td>any</td><td>cg2_bonds</td><td>6692</td><td>2</td><td>77.1057</td><td>77.1145</td></tr><tr><th>4</th><td>2019Q2</td><td>ats</td><td>any</td><td>any</td><td>cg2_bonds</td><td>6466</td><td>2</td><td>74.5017</td><td>78.9307</td></tr><tr><th>5</th><td>2019Q2</td><td>otc</td><td>any</td><td>any</td><td>cg3_bonds</td><td>74</td><td>3</td><td>0.852633</td><td>0.852731</td></tr><tr><th>6</th><td>2019Q2</td><td>ats</td><td>any</td><td>any</td><td>cg3_bonds</td><td>75</td><td>3</td><td>0.864155</td><td>0.915527</td></tr><tr><th>7</th><td>2019Q2</td><td>otc</td><td>any</td><td>any</td><td>cg4_bonds</td><td>106</td><td>4</td><td>1.22134</td><td>1.22148</td></tr><tr><th>8</th><td>2019Q2</td><td>ats</td><td>any</td><td>any</td><td>cg4_bonds</td><td>99</td><td>4</td><td>1.14068</td><td>1.2085</td></tr><tr><th>9</th><td>2019Q2</td><td>otc</td><td>any</td><td>any</td><td>cg5_bonds</td><td>10</td><td>5</td><td>0.115221</td><td>0.115234</td></tr><tr><th>10</th><td>2019Q2</td><td>ats</td><td>any</td><td>any</td><td>cg5_bonds</td><td>9</td><td>5</td><td>0.103699</td><td>0.109863</td></tr><tr><th>11</th><td>2019Q2</td><td>otc</td><td>any</td><td>any</td><td>cg6_bonds</td><td>5033</td><td>6</td><td>57.9906</td><td>57.9972</td></tr><tr><th>12</th><td>2019Q2</td><td>ats</td><td>any</td><td>any</td><td>cg6_bonds</td><td>4876</td><td>6</td><td>56.1816</td><td>59.5215</td></tr><tr><th>13</th><td>2019Q2</td><td>otc</td><td>any</td><td>any</td><td>cg7_bonds</td><td>8219</td><td>7</td><td>94.6999</td><td>94.7108</td></tr><tr><th>14</th><td>2019Q2</td><td>ats</td><td>any</td><td>any</td><td>cg7_bonds</td><td>7814</td><td>7</td><td>90.0334</td><td>95.3857</td></tr><tr><th>15</th><td>2019Q2</td><td>otc</td><td>any</td><td>any</td><td>cg8_bonds</td><td>3449</td><td>8</td><td>39.7396</td><td>39.7442</td></tr><tr><th>16</th><td>2019Q2</td><td>ats</td><td>any</td><td>any</td><td>cg8_bonds</td><td>3346</td><td>8</td><td>38.5528</td><td>40.8447</td></tr><tr><th>17</th><td>2019Q2</td><td>otc</td><td>any</td><td>any</td><td>cg9_bonds</td><td>356</td><td>9</td><td>4.10186</td><td>4.10233</td></tr><tr><th>18</th><td>2019Q2</td><td>ats</td><td>any</td><td>any</td><td>cg9_bonds</td><td>352</td><td>9</td><td>4.05577</td><td>4.29688</td></tr><tr><th>19</th><td>2019Q2</td><td>otc</td><td>any</td><td>any</td><td>cg10_bonds</td><td>113</td><td>10</td><td>1.30199</td><td>1.30214</td></tr><tr><th>20</th><td>2019Q2</td><td>ats</td><td>any</td><td>any</td><td>cg10_bonds</td><td>109</td><td>10</td><td>1.25591</td><td>1.33057</td></tr><tr><th>21</th><td>2019Q2</td><td>otc</td><td>any</td><td>any</td><td>cg11_bonds</td><td>6755</td><td>11</td><td>77.8315</td><td>77.8405</td></tr><tr><th>22</th><td>2019Q2</td><td>ats</td><td>any</td><td>any</td><td>cg11_bonds</td><td>6434</td><td>11</td><td>74.133</td><td>78.54</td></tr><tr><th>23</th><td>2019Q2</td><td>otc</td><td>any</td><td>any</td><td>cg12_bonds</td><td>3442</td><td>12</td><td>39.6589</td><td>39.6635</td></tr><tr><th>24</th><td>2019Q2</td><td>ats</td><td>any</td><td>any</td><td>cg12_bonds</td><td>3316</td><td>12</td><td>38.2072</td><td>40.4785</td></tr><tr><th>25</th><td>2019Q2</td><td>otc</td><td>any</td><td>any</td><td>cg13_bonds</td><td>6666</td><td>13</td><td>76.8061</td><td>76.8149</td></tr><tr><th>26</th><td>2019Q2</td><td>ats</td><td>any</td><td>any</td><td>cg13_bonds</td><td>6362</td><td>13</td><td>73.3034</td><td>77.6611</td></tr><tr><th>27</th><td>2019Q2</td><td>otc</td><td>any</td><td>any</td><td>cg14_bonds</td><td>561</td><td>14</td><td>6.46388</td><td>6.46462</td></tr><tr><th>28</th><td>2019Q2</td><td>ats</td><td>any</td><td>any</td><td>cg14_bonds</td><td>549</td><td>14</td><td>6.32561</td><td>6.70166</td></tr><tr><th>29</th><td>2019Q2</td><td>otc</td><td>any</td><td>any</td><td>cg15_bonds</td><td>6593</td><td>15</td><td>75.965</td><td>75.9737</td></tr><tr><th>30</th><td>2019Q2</td><td>ats</td><td>any</td><td>any</td><td>cg15_bonds</td><td>6290</td><td>15</td><td>72.4738</td><td>76.7822</td></tr></tbody></table>"
      ],
      "text/latex": [
       "\\begin{tabular}{r|ccccccccc}\n",
       "\t& period & sbm & rt & cvt & variable & value & cov\\_cat & perc\\_total & perc\\_sbm\\_total\\\\\n",
       "\t\\hline\n",
       "\t& Symbol & Symbol & Symbol & Symbol & Cat… & Int64 & Int64 & Float64 & Float64\\\\\n",
       "\t\\hline\n",
       "\t1 & 2019Q2 & otc & any & any & cg1\\_bonds & 499 & 1 & 5.74951 & 5.75017 \\\\\n",
       "\t2 & 2019Q2 & ats & any & any & cg1\\_bonds & 487 & 1 & 5.61125 & 5.94482 \\\\\n",
       "\t3 & 2019Q2 & otc & any & any & cg2\\_bonds & 6692 & 2 & 77.1057 & 77.1145 \\\\\n",
       "\t4 & 2019Q2 & ats & any & any & cg2\\_bonds & 6466 & 2 & 74.5017 & 78.9307 \\\\\n",
       "\t5 & 2019Q2 & otc & any & any & cg3\\_bonds & 74 & 3 & 0.852633 & 0.852731 \\\\\n",
       "\t6 & 2019Q2 & ats & any & any & cg3\\_bonds & 75 & 3 & 0.864155 & 0.915527 \\\\\n",
       "\t7 & 2019Q2 & otc & any & any & cg4\\_bonds & 106 & 4 & 1.22134 & 1.22148 \\\\\n",
       "\t8 & 2019Q2 & ats & any & any & cg4\\_bonds & 99 & 4 & 1.14068 & 1.2085 \\\\\n",
       "\t9 & 2019Q2 & otc & any & any & cg5\\_bonds & 10 & 5 & 0.115221 & 0.115234 \\\\\n",
       "\t10 & 2019Q2 & ats & any & any & cg5\\_bonds & 9 & 5 & 0.103699 & 0.109863 \\\\\n",
       "\t11 & 2019Q2 & otc & any & any & cg6\\_bonds & 5033 & 6 & 57.9906 & 57.9972 \\\\\n",
       "\t12 & 2019Q2 & ats & any & any & cg6\\_bonds & 4876 & 6 & 56.1816 & 59.5215 \\\\\n",
       "\t13 & 2019Q2 & otc & any & any & cg7\\_bonds & 8219 & 7 & 94.6999 & 94.7108 \\\\\n",
       "\t14 & 2019Q2 & ats & any & any & cg7\\_bonds & 7814 & 7 & 90.0334 & 95.3857 \\\\\n",
       "\t15 & 2019Q2 & otc & any & any & cg8\\_bonds & 3449 & 8 & 39.7396 & 39.7442 \\\\\n",
       "\t16 & 2019Q2 & ats & any & any & cg8\\_bonds & 3346 & 8 & 38.5528 & 40.8447 \\\\\n",
       "\t17 & 2019Q2 & otc & any & any & cg9\\_bonds & 356 & 9 & 4.10186 & 4.10233 \\\\\n",
       "\t18 & 2019Q2 & ats & any & any & cg9\\_bonds & 352 & 9 & 4.05577 & 4.29688 \\\\\n",
       "\t19 & 2019Q2 & otc & any & any & cg10\\_bonds & 113 & 10 & 1.30199 & 1.30214 \\\\\n",
       "\t20 & 2019Q2 & ats & any & any & cg10\\_bonds & 109 & 10 & 1.25591 & 1.33057 \\\\\n",
       "\t21 & 2019Q2 & otc & any & any & cg11\\_bonds & 6755 & 11 & 77.8315 & 77.8405 \\\\\n",
       "\t22 & 2019Q2 & ats & any & any & cg11\\_bonds & 6434 & 11 & 74.133 & 78.54 \\\\\n",
       "\t23 & 2019Q2 & otc & any & any & cg12\\_bonds & 3442 & 12 & 39.6589 & 39.6635 \\\\\n",
       "\t24 & 2019Q2 & ats & any & any & cg12\\_bonds & 3316 & 12 & 38.2072 & 40.4785 \\\\\n",
       "\t25 & 2019Q2 & otc & any & any & cg13\\_bonds & 6666 & 13 & 76.8061 & 76.8149 \\\\\n",
       "\t26 & 2019Q2 & ats & any & any & cg13\\_bonds & 6362 & 13 & 73.3034 & 77.6611 \\\\\n",
       "\t27 & 2019Q2 & otc & any & any & cg14\\_bonds & 561 & 14 & 6.46388 & 6.46462 \\\\\n",
       "\t28 & 2019Q2 & ats & any & any & cg14\\_bonds & 549 & 14 & 6.32561 & 6.70166 \\\\\n",
       "\t29 & 2019Q2 & otc & any & any & cg15\\_bonds & 6593 & 15 & 75.965 & 75.9737 \\\\\n",
       "\t30 & 2019Q2 & ats & any & any & cg15\\_bonds & 6290 & 15 & 72.4738 & 76.7822 \\\\\n",
       "\\end{tabular}\n"
      ],
      "text/plain": [
       "30×9 DataFrame\n",
       "│ Row │ period │ sbm    │ rt     │ cvt    │ variable   │ value │ cov_cat │ perc_total │ perc_sbm_total │\n",
       "│     │ \u001b[90mSymbol\u001b[39m │ \u001b[90mSymbol\u001b[39m │ \u001b[90mSymbol\u001b[39m │ \u001b[90mSymbol\u001b[39m │ \u001b[90mCat…\u001b[39m       │ \u001b[90mInt64\u001b[39m │ \u001b[90mInt64\u001b[39m   │ \u001b[90mFloat64\u001b[39m    │ \u001b[90mFloat64\u001b[39m        │\n",
       "├─────┼────────┼────────┼────────┼────────┼────────────┼───────┼─────────┼────────────┼────────────────┤\n",
       "│ 1   │ 2019Q2 │ otc    │ any    │ any    │ cg1_bonds  │ 499   │ 1       │ 5.74951    │ 5.75017        │\n",
       "│ 2   │ 2019Q2 │ ats    │ any    │ any    │ cg1_bonds  │ 487   │ 1       │ 5.61125    │ 5.94482        │\n",
       "│ 3   │ 2019Q2 │ otc    │ any    │ any    │ cg2_bonds  │ 6692  │ 2       │ 77.1057    │ 77.1145        │\n",
       "│ 4   │ 2019Q2 │ ats    │ any    │ any    │ cg2_bonds  │ 6466  │ 2       │ 74.5017    │ 78.9307        │\n",
       "│ 5   │ 2019Q2 │ otc    │ any    │ any    │ cg3_bonds  │ 74    │ 3       │ 0.852633   │ 0.852731       │\n",
       "│ 6   │ 2019Q2 │ ats    │ any    │ any    │ cg3_bonds  │ 75    │ 3       │ 0.864155   │ 0.915527       │\n",
       "│ 7   │ 2019Q2 │ otc    │ any    │ any    │ cg4_bonds  │ 106   │ 4       │ 1.22134    │ 1.22148        │\n",
       "│ 8   │ 2019Q2 │ ats    │ any    │ any    │ cg4_bonds  │ 99    │ 4       │ 1.14068    │ 1.2085         │\n",
       "│ 9   │ 2019Q2 │ otc    │ any    │ any    │ cg5_bonds  │ 10    │ 5       │ 0.115221   │ 0.115234       │\n",
       "│ 10  │ 2019Q2 │ ats    │ any    │ any    │ cg5_bonds  │ 9     │ 5       │ 0.103699   │ 0.109863       │\n",
       "│ 11  │ 2019Q2 │ otc    │ any    │ any    │ cg6_bonds  │ 5033  │ 6       │ 57.9906    │ 57.9972        │\n",
       "│ 12  │ 2019Q2 │ ats    │ any    │ any    │ cg6_bonds  │ 4876  │ 6       │ 56.1816    │ 59.5215        │\n",
       "│ 13  │ 2019Q2 │ otc    │ any    │ any    │ cg7_bonds  │ 8219  │ 7       │ 94.6999    │ 94.7108        │\n",
       "│ 14  │ 2019Q2 │ ats    │ any    │ any    │ cg7_bonds  │ 7814  │ 7       │ 90.0334    │ 95.3857        │\n",
       "│ 15  │ 2019Q2 │ otc    │ any    │ any    │ cg8_bonds  │ 3449  │ 8       │ 39.7396    │ 39.7442        │\n",
       "│ 16  │ 2019Q2 │ ats    │ any    │ any    │ cg8_bonds  │ 3346  │ 8       │ 38.5528    │ 40.8447        │\n",
       "│ 17  │ 2019Q2 │ otc    │ any    │ any    │ cg9_bonds  │ 356   │ 9       │ 4.10186    │ 4.10233        │\n",
       "│ 18  │ 2019Q2 │ ats    │ any    │ any    │ cg9_bonds  │ 352   │ 9       │ 4.05577    │ 4.29688        │\n",
       "│ 19  │ 2019Q2 │ otc    │ any    │ any    │ cg10_bonds │ 113   │ 10      │ 1.30199    │ 1.30214        │\n",
       "│ 20  │ 2019Q2 │ ats    │ any    │ any    │ cg10_bonds │ 109   │ 10      │ 1.25591    │ 1.33057        │\n",
       "│ 21  │ 2019Q2 │ otc    │ any    │ any    │ cg11_bonds │ 6755  │ 11      │ 77.8315    │ 77.8405        │\n",
       "│ 22  │ 2019Q2 │ ats    │ any    │ any    │ cg11_bonds │ 6434  │ 11      │ 74.133     │ 78.54          │\n",
       "│ 23  │ 2019Q2 │ otc    │ any    │ any    │ cg12_bonds │ 3442  │ 12      │ 39.6589    │ 39.6635        │\n",
       "│ 24  │ 2019Q2 │ ats    │ any    │ any    │ cg12_bonds │ 3316  │ 12      │ 38.2072    │ 40.4785        │\n",
       "│ 25  │ 2019Q2 │ otc    │ any    │ any    │ cg13_bonds │ 6666  │ 13      │ 76.8061    │ 76.8149        │\n",
       "│ 26  │ 2019Q2 │ ats    │ any    │ any    │ cg13_bonds │ 6362  │ 13      │ 73.3034    │ 77.6611        │\n",
       "│ 27  │ 2019Q2 │ otc    │ any    │ any    │ cg14_bonds │ 561   │ 14      │ 6.46388    │ 6.46462        │\n",
       "│ 28  │ 2019Q2 │ ats    │ any    │ any    │ cg14_bonds │ 549   │ 14      │ 6.32561    │ 6.70166        │\n",
       "│ 29  │ 2019Q2 │ otc    │ any    │ any    │ cg15_bonds │ 6593  │ 15      │ 75.965     │ 75.9737        │\n",
       "│ 30  │ 2019Q2 │ ats    │ any    │ any    │ cg15_bonds │ 6290  │ 15      │ 72.4738    │ 76.7822        │"
      ]
     },
     "execution_count": 140,
     "metadata": {},
     "output_type": "execute_result"
    }
   ],
   "source": [
    "include(string(joinpath(module_path, \"plot_module\"), \".jl\"))\n",
    "ats_tt = PlotMod.prepare_cat_plot(dfa_qtr, stat=:bonds)"
   ]
  },
  {
   "cell_type": "code",
   "execution_count": null,
   "metadata": {},
   "outputs": [],
   "source": [
    "include(string(joinpath(module_path, \"plot_module\"), \".jl\"))\n",
    "catdf = PlotMod.prepare_sbm_rt_cov_vol_df(dfa, catn)"
   ]
  },
  {
   "cell_type": "code",
   "execution_count": 381,
   "metadata": {},
   "outputs": [
    {
     "name": "stdout",
     "output_type": "stream",
     "text": [
      "7\n"
     ]
    },
    {
     "name": "stderr",
     "output_type": "stream",
     "text": [
      "WARNING: replacing module PlotMod.\n"
     ]
    },
    {
     "data": {
      "application/vnd.vegalite.v4+json": {
       "config": {
        "axis": {
         "domainWidth": 3
        },
        "opacity": {
         "value": 0.7
        },
        "view": {
         "stroke": "transparent"
        }
       },
       "data": {
        "values": [
         {
          "RT": "Investment Grade",
          "SBM": "ATS",
          "cg7_trd_vol_tr": 50.18855294836997,
          "cvt": "cov",
          "perc_trd_vol": 99.99999999999993,
          "period": "2019Q2",
          "rt": "ig",
          "sbm": "ats",
          "total_trd_vol_tr": 50.18855294837
         },
         {
          "RT": "Investment Grade",
          "SBM": "OTC",
          "cg7_trd_vol_tr": 821.3385584982539,
          "cvt": "cov",
          "perc_trd_vol": 100.00000000000054,
          "period": "2019Q2",
          "rt": "ig",
          "sbm": "otc",
          "total_trd_vol_tr": 821.3385584982495
         },
         {
          "RT": "High Yield",
          "SBM": "ATS",
          "cg7_trd_vol_tr": 21.219666413610003,
          "cvt": "cov",
          "perc_trd_vol": 100.00000000000004,
          "period": "2019Q2",
          "rt": "hy",
          "sbm": "ats",
          "total_trd_vol_tr": 21.219666413609993
         },
         {
          "RT": "High Yield",
          "SBM": "OTC",
          "cg7_trd_vol_tr": 297.4570099392697,
          "cvt": "cov",
          "perc_trd_vol": 99.99999999999983,
          "period": "2019Q2",
          "rt": "hy",
          "sbm": "otc",
          "total_trd_vol_tr": 297.4570099392702
         }
        ]
       },
       "encoding": {
        "color": {
         "field": "SBM",
         "legend": {
          "title": "Secondary Market"
         },
         "scale": {
          "scheme": "viridis"
         },
         "type": "nominal"
        },
        "column": {
         "field": "RT",
         "sort": "descending",
         "title": "Rating",
         "type": "nominal"
        },
        "x": {
         "axis": {
          "title": " "
         },
         "field": "SBM",
         "type": "nominal"
        },
        "y": {
         "axis": {
          "grid": false,
          "stack": null,
          "title": "%"
         },
         "field": "perc_trd_vol",
         "type": "quantitative"
        }
       },
       "height": 240,
       "mark": "bar",
       "spacing": 10,
       "title": {
        "align": "center",
        "anchor": "middle",
        "fontSize": 14,
        "offset": 20,
        "text": [
         "Category 7 Trade Volume as Percentage of Total Covenant-Restricted Bond Trade Volume",
         "by Secondary Bond Market and Rating - 2019Q2"
        ]
       },
       "width": 300
      },
      "image/png": "[encoded data removed]",
      "image/svg+xml": [
       "<?xml version=\"1.0\" encoding=\"utf-8\"?>\n",
       "<!DOCTYPE svg PUBLIC \"-//W3C//DTD SVG 1.1//EN\" \"http://www.w3.org/Graphics/SVG/1.1/DTD/svg11.dtd\">\n",
       "<svg class=\"marks\" width=\"793\" height=\"395\" viewBox=\"0 0 793 395\" version=\"1.1\" xmlns=\"http://www.w3.org/2000/svg\" xmlns:xlink=\"http://www.w3.org/1999/xlink\"><rect width=\"793\" height=\"395\" fill=\"white\"></rect><g fill=\"none\" stroke-miterlimit=\"10\" transform=\"translate(46,107)\"><g class=\"mark-group role-frame root\" role=\"graphics-object\" aria-roledescription=\"group mark container\"><g transform=\"translate(0,0)\"><path class=\"background\" aria-hidden=\"true\" d=\"M0,0h0v0h0Z\"></path><g><g class=\"mark-group role-column-title column-title\" role=\"graphics-object\" aria-roledescription=\"group mark container\"><g transform=\"translate(306,-31)\"><path class=\"background\" aria-hidden=\"true\" d=\"M0,0h0v0h0Z\"></path><g><g class=\"mark-group role-title\"><g transform=\"translate(0,-21)\"><path class=\"background\" aria-hidden=\"true\" d=\"M0,0h0v0h0Z\" pointer-events=\"none\"></path><g><g class=\"mark-text role-title-text\" role=\"graphics-symbol\" aria-roledescription=\"title\" aria-label=\"Title text 'Rating'\" pointer-events=\"none\"><text text-anchor=\"middle\" transform=\"translate(0,9)\" font-family=\"sans-serif\" font-size=\"11px\" font-weight=\"bold\" fill=\"#000\" opacity=\"1\">Rating</text></g></g><path class=\"foreground\" aria-hidden=\"true\" d=\"\" pointer-events=\"none\" display=\"none\"></path></g></g></g><path class=\"foreground\" aria-hidden=\"true\" d=\"\" display=\"none\"></path></g></g><g class=\"mark-group role-row-header row_header\" role=\"graphics-object\" aria-roledescription=\"group mark container\"><g transform=\"translate(-1,0)\"><path class=\"background\" aria-hidden=\"true\" d=\"M0,0h0v240h0Z\"></path><g><g class=\"mark-group role-axis\" role=\"graphics-symbol\" aria-roledescription=\"axis\" aria-label=\"Y-axis titled '%' for a linear scale with values from 0 to 110\"><g transform=\"translate(0.5,0.5)\"><path class=\"background\" aria-hidden=\"true\" d=\"M0,0h0v0h0Z\" pointer-events=\"none\"></path><g><g class=\"mark-rule role-axis-tick\" pointer-events=\"none\"><line transform=\"translate(0,240)\" x2=\"-5\" y2=\"0\" stroke=\"#888\" stroke-width=\"1\" opacity=\"1\"></line><line transform=\"translate(0,196)\" x2=\"-5\" y2=\"0\" stroke=\"#888\" stroke-width=\"1\" opacity=\"1\"></line><line transform=\"translate(0,153)\" x2=\"-5\" y2=\"0\" stroke=\"#888\" stroke-width=\"1\" opacity=\"1\"></line><line transform=\"translate(0,109)\" x2=\"-5\" y2=\"0\" stroke=\"#888\" stroke-width=\"1\" opacity=\"1\"></line><line transform=\"translate(0,65)\" x2=\"-5\" y2=\"0\" stroke=\"#888\" stroke-width=\"1\" opacity=\"1\"></line><line transform=\"translate(0,22)\" x2=\"-5\" y2=\"0\" stroke=\"#888\" stroke-width=\"1\" opacity=\"1\"></line></g><g class=\"mark-text role-axis-label\" pointer-events=\"none\"><text text-anchor=\"end\" transform=\"translate(-7,243)\" font-family=\"sans-serif\" font-size=\"10px\" fill=\"#000\" opacity=\"1\">0</text><text text-anchor=\"end\" transform=\"translate(-7,199.36363636363635)\" font-family=\"sans-serif\" font-size=\"10px\" fill=\"#000\" opacity=\"1\">20</text><text text-anchor=\"end\" transform=\"translate(-7,155.72727272727272)\" font-family=\"sans-serif\" font-size=\"10px\" fill=\"#000\" opacity=\"1\">40</text><text text-anchor=\"end\" transform=\"translate(-7,112.0909090909091)\" font-family=\"sans-serif\" font-size=\"10px\" fill=\"#000\" opacity=\"1\">60</text><text text-anchor=\"end\" transform=\"translate(-7,68.45454545454545)\" font-family=\"sans-serif\" font-size=\"10px\" fill=\"#000\" opacity=\"1\">80</text><text text-anchor=\"end\" transform=\"translate(-7,24.818181818181827)\" font-family=\"sans-serif\" font-size=\"10px\" fill=\"#000\" opacity=\"1\">100</text></g><g class=\"mark-rule role-axis-domain\" pointer-events=\"none\"><line transform=\"translate(0,240)\" x2=\"0\" y2=\"-240\" stroke=\"#888\" stroke-width=\"3\" opacity=\"1\"></line></g><g class=\"mark-text role-axis-title\" pointer-events=\"none\"><text text-anchor=\"middle\" transform=\"translate(-29,120) rotate(-90) translate(0,-2)\" font-family=\"sans-serif\" font-size=\"11px\" font-weight=\"bold\" fill=\"#000\" opacity=\"1\">%</text></g></g><path class=\"foreground\" aria-hidden=\"true\" d=\"\" pointer-events=\"none\" display=\"none\"></path></g></g></g><path class=\"foreground\" aria-hidden=\"true\" d=\"\" display=\"none\"></path></g></g><g class=\"mark-group role-column-header column_header\" role=\"graphics-object\" aria-roledescription=\"group mark container\"><g transform=\"translate(0,-1)\"><path class=\"background\" aria-hidden=\"true\" d=\"M0,0h300v0h-300Z\"></path><g><g class=\"mark-group role-title\"><g transform=\"translate(150,-20)\"><path class=\"background\" aria-hidden=\"true\" d=\"M0,0h0v0h0Z\" pointer-events=\"none\"></path><g><g class=\"mark-text role-title-text\" role=\"graphics-symbol\" aria-roledescription=\"title\" aria-label=\"Title text 'Investment Grade'\" pointer-events=\"none\"><text text-anchor=\"middle\" transform=\"translate(0,8)\" font-family=\"sans-serif\" font-size=\"10px\" fill=\"#000\" opacity=\"1\">Investment Grade</text></g></g><path class=\"foreground\" aria-hidden=\"true\" d=\"\" pointer-events=\"none\" display=\"none\"></path></g></g></g><path class=\"foreground\" aria-hidden=\"true\" d=\"\" display=\"none\"></path></g><g transform=\"translate(312,-1)\"><path class=\"background\" aria-hidden=\"true\" d=\"M0,0h300v0h-300Z\"></path><g><g class=\"mark-group role-title\"><g transform=\"translate(150,-20)\"><path class=\"background\" aria-hidden=\"true\" d=\"M0,0h0v0h0Z\" pointer-events=\"none\"></path><g><g class=\"mark-text role-title-text\" role=\"graphics-symbol\" aria-roledescription=\"title\" aria-label=\"Title text 'High Yield'\" pointer-events=\"none\"><text text-anchor=\"middle\" transform=\"translate(0,8)\" font-family=\"sans-serif\" font-size=\"10px\" fill=\"#000\" opacity=\"1\">High Yield</text></g></g><path class=\"foreground\" aria-hidden=\"true\" d=\"\" pointer-events=\"none\" display=\"none\"></path></g></g></g><path class=\"foreground\" aria-hidden=\"true\" d=\"\" display=\"none\"></path></g></g><g class=\"mark-group role-column-footer column_footer\" role=\"graphics-object\" aria-roledescription=\"group mark container\"><g transform=\"translate(0,241)\"><path class=\"background\" aria-hidden=\"true\" d=\"M0,0h300v0h-300Z\"></path><g><g class=\"mark-group role-axis\" role=\"graphics-symbol\" aria-roledescription=\"axis\" aria-label=\"X-axis titled ' ' for a discrete scale with 2 values: ATS, OTC\"><g transform=\"translate(0.5,0.5)\"><path class=\"background\" aria-hidden=\"true\" d=\"M0,0h0v0h0Z\" pointer-events=\"none\"></path><g><g class=\"mark-rule role-axis-tick\" pointer-events=\"none\"><line transform=\"translate(75,0)\" x2=\"0\" y2=\"5\" stroke=\"#888\" stroke-width=\"1\" opacity=\"1\"></line><line transform=\"translate(225,0)\" x2=\"0\" y2=\"5\" stroke=\"#888\" stroke-width=\"1\" opacity=\"1\"></line></g><g class=\"mark-text role-axis-label\" pointer-events=\"none\"><text text-anchor=\"end\" transform=\"translate(74.5,7) rotate(270) translate(0,3)\" font-family=\"sans-serif\" font-size=\"10px\" fill=\"#000\" opacity=\"1\">ATS</text><text text-anchor=\"end\" transform=\"translate(224.5,7) rotate(270) translate(0,3)\" font-family=\"sans-serif\" font-size=\"10px\" fill=\"#000\" opacity=\"1\">OTC</text></g><g class=\"mark-rule role-axis-domain\" pointer-events=\"none\"><line transform=\"translate(0,0)\" x2=\"300\" y2=\"0\" stroke=\"#888\" stroke-width=\"3\" opacity=\"1\"></line></g><g class=\"mark-text role-axis-title\" pointer-events=\"none\"><text text-anchor=\"middle\" transform=\"translate(150,40)\" font-family=\"sans-serif\" font-size=\"11px\" font-weight=\"bold\" fill=\"#000\" opacity=\"1\"></text></g></g><path class=\"foreground\" aria-hidden=\"true\" d=\"\" pointer-events=\"none\" display=\"none\"></path></g></g></g><path class=\"foreground\" aria-hidden=\"true\" d=\"\" display=\"none\"></path></g><g transform=\"translate(312,241)\"><path class=\"background\" aria-hidden=\"true\" d=\"M0,0h300v0h-300Z\"></path><g><g class=\"mark-group role-axis\" role=\"graphics-symbol\" aria-roledescription=\"axis\" aria-label=\"X-axis titled ' ' for a discrete scale with 2 values: ATS, OTC\"><g transform=\"translate(0.5,0.5)\"><path class=\"background\" aria-hidden=\"true\" d=\"M0,0h0v0h0Z\" pointer-events=\"none\"></path><g><g class=\"mark-rule role-axis-tick\" pointer-events=\"none\"><line transform=\"translate(75,0)\" x2=\"0\" y2=\"5\" stroke=\"#888\" stroke-width=\"1\" opacity=\"1\"></line><line transform=\"translate(225,0)\" x2=\"0\" y2=\"5\" stroke=\"#888\" stroke-width=\"1\" opacity=\"1\"></line></g><g class=\"mark-text role-axis-label\" pointer-events=\"none\"><text text-anchor=\"end\" transform=\"translate(74.5,7) rotate(270) translate(0,3)\" font-family=\"sans-serif\" font-size=\"10px\" fill=\"#000\" opacity=\"1\">ATS</text><text text-anchor=\"end\" transform=\"translate(224.5,7) rotate(270) translate(0,3)\" font-family=\"sans-serif\" font-size=\"10px\" fill=\"#000\" opacity=\"1\">OTC</text></g><g class=\"mark-rule role-axis-domain\" pointer-events=\"none\"><line transform=\"translate(0,0)\" x2=\"300\" y2=\"0\" stroke=\"#888\" stroke-width=\"3\" opacity=\"1\"></line></g><g class=\"mark-text role-axis-title\" pointer-events=\"none\"><text text-anchor=\"middle\" transform=\"translate(150,40)\" font-family=\"sans-serif\" font-size=\"11px\" font-weight=\"bold\" fill=\"#000\" opacity=\"1\"></text></g></g><path class=\"foreground\" aria-hidden=\"true\" d=\"\" pointer-events=\"none\" display=\"none\"></path></g></g></g><path class=\"foreground\" aria-hidden=\"true\" d=\"\" display=\"none\"></path></g></g><g class=\"mark-group role-scope cell\" role=\"graphics-object\" aria-roledescription=\"group mark container\"><g transform=\"translate(0,0)\"><path class=\"background\" aria-hidden=\"true\" d=\"M0.5,0.5h300v240h-300Z\"></path><g><g class=\"mark-rect role-mark child_marks\" role=\"graphics-object\" aria-roledescription=\"rect mark container\"><path aria-label=\"%: 100;  : ATS; Secondary Market: ATS\" role=\"graphics-symbol\" aria-roledescription=\"bar\" d=\"M7.5,21.818181818181984h135v218.18181818181802h-135Z\" fill=\"rgb(49, 104, 142)\"></path><path aria-label=\"%: 100;  : OTC; Secondary Market: OTC\" role=\"graphics-symbol\" aria-roledescription=\"bar\" d=\"M157.5,21.818181818180655h135v218.18181818181935h-135Z\" fill=\"rgb(53, 183, 121)\"></path></g></g><path class=\"foreground\" aria-hidden=\"true\" d=\"\" display=\"none\"></path></g><g transform=\"translate(312,0)\"><path class=\"background\" aria-hidden=\"true\" d=\"M0.5,0.5h300v240h-300Z\"></path><g><g class=\"mark-rect role-mark child_marks\" role=\"graphics-object\" aria-roledescription=\"rect mark container\"><path aria-label=\"%: 100;  : ATS; Secondary Market: ATS\" role=\"graphics-symbol\" aria-roledescription=\"bar\" d=\"M7.5,21.81818181818172h135v218.18181818181827h-135Z\" fill=\"rgb(49, 104, 142)\"></path><path aria-label=\"%: 100;  : OTC; Secondary Market: OTC\" role=\"graphics-symbol\" aria-roledescription=\"bar\" d=\"M157.5,21.818181818182197h135v218.1818181818178h-135Z\" fill=\"rgb(53, 183, 121)\"></path></g></g><path class=\"foreground\" aria-hidden=\"true\" d=\"\" display=\"none\"></path></g></g><g class=\"mark-group role-legend\" role=\"graphics-symbol\" aria-roledescription=\"legend\" aria-label=\"Symbol legend titled 'Secondary Market' for fill color with 2 values: ATS, OTC\"><g transform=\"translate(631,0)\"><path class=\"background\" aria-hidden=\"true\" d=\"M0,0h111v40h-111Z\" pointer-events=\"none\"></path><g><g class=\"mark-group role-legend-entry\"><g transform=\"translate(0,16)\"><path class=\"background\" aria-hidden=\"true\" d=\"M0,0h0v0h0Z\" pointer-events=\"none\"></path><g><g class=\"mark-group role-scope\" role=\"graphics-object\" aria-roledescription=\"group mark container\"><g transform=\"translate(0,0)\"><path class=\"background\" aria-hidden=\"true\" d=\"M0,0h36v11h-36Z\" pointer-events=\"none\" opacity=\"1\"></path><g><g class=\"mark-symbol role-legend-symbol\" pointer-events=\"none\"><path transform=\"translate(6,6)\" d=\"M-5,-5h10v10h-10Z\" fill=\"rgb(49, 104, 142)\" stroke-width=\"1.5\" opacity=\"1\"></path></g><g class=\"mark-text role-legend-label\" pointer-events=\"none\"><text text-anchor=\"start\" transform=\"translate(16,9)\" font-family=\"sans-serif\" font-size=\"10px\" fill=\"#000\" opacity=\"1\">ATS</text></g></g><path class=\"foreground\" aria-hidden=\"true\" d=\"\" pointer-events=\"none\" display=\"none\"></path></g><g transform=\"translate(0,13)\"><path class=\"background\" aria-hidden=\"true\" d=\"M0,0h36v11h-36Z\" pointer-events=\"none\" opacity=\"1\"></path><g><g class=\"mark-symbol role-legend-symbol\" pointer-events=\"none\"><path transform=\"translate(6,6)\" d=\"M-5,-5h10v10h-10Z\" fill=\"rgb(53, 183, 121)\" stroke-width=\"1.5\" opacity=\"1\"></path></g><g class=\"mark-text role-legend-label\" pointer-events=\"none\"><text text-anchor=\"start\" transform=\"translate(16,9)\" font-family=\"sans-serif\" font-size=\"10px\" fill=\"#000\" opacity=\"1\">OTC</text></g></g><path class=\"foreground\" aria-hidden=\"true\" d=\"\" pointer-events=\"none\" display=\"none\"></path></g></g></g><path class=\"foreground\" aria-hidden=\"true\" d=\"\" pointer-events=\"none\" display=\"none\"></path></g></g><g class=\"mark-text role-legend-title\" pointer-events=\"none\"><text text-anchor=\"start\" transform=\"translate(0,9)\" font-family=\"sans-serif\" font-size=\"11px\" font-weight=\"bold\" fill=\"#000\" opacity=\"1\">Secondary Market</text></g></g><path class=\"foreground\" aria-hidden=\"true\" d=\"\" pointer-events=\"none\" display=\"none\"></path></g></g><g class=\"mark-group role-title\"><g transform=\"translate(350.5,-102)\"><path class=\"background\" aria-hidden=\"true\" d=\"M0,0h0v0h0Z\" pointer-events=\"none\"></path><g><g class=\"mark-text role-title-text\" role=\"graphics-symbol\" aria-roledescription=\"title\" aria-label=\"Title text 'Category 7 Trade Volume as Percentage of Total Covenant-Restricted Bond Trade Volume by Secondary Bond Market and Rating - 2019Q2'\" pointer-events=\"none\"><text text-anchor=\"middle\" transform=\"translate(0,11)\" font-family=\"sans-serif\" font-size=\"14px\" font-weight=\"bold\" fill=\"#000\" opacity=\"1\"><tspan>Category 7 Trade Volume as Percentage of Total Covenant-Restricted Bond Trade Volume</tspan><tspan x=\"0\" dy=\"16\">by Secondary Bond Market and Rating - 2019Q2</tspan></text></g></g><path class=\"foreground\" aria-hidden=\"true\" d=\"\" pointer-events=\"none\" display=\"none\"></path></g></g></g><path class=\"foreground\" aria-hidden=\"true\" d=\"\" display=\"none\"></path></g></g></g></svg>\n"
      ],
      "text/plain": [
       "@vlplot(\n",
       "    config={\n",
       "        view={\n",
       "            stroke=\"transparent\"\n",
       "        },\n",
       "        axis={\n",
       "            domainWidth=3\n",
       "        },\n",
       "        opacity={\n",
       "            value=0.7\n",
       "        }\n",
       "    },\n",
       "    title={\n",
       "        text=[\n",
       "            \"Category 7 Trade Volume as Percentage of Total Covenant-Restricted Bond Trade Volume\",\n",
       "            \"by Secondary Bond Market and Rating - 2019Q2\"\n",
       "        ],\n",
       "        align=\"center\",\n",
       "        anchor=\"middle\",\n",
       "        fontSize=14,\n",
       "        offset=20\n",
       "    },\n",
       "    spacing=10,\n",
       "    width=300,\n",
       "    height=240,\n",
       "    mark=\"bar\",\n",
       "    encoding={\n",
       "        column={\n",
       "            type=\"nominal\",\n",
       "            title=\"Rating\",\n",
       "            sort=\"descending\",\n",
       "            field=\"RT\"\n",
       "        },\n",
       "        y={\n",
       "            axis={\n",
       "                title=\"%\",\n",
       "                grid=false,\n",
       "                stack=nothing\n",
       "            },\n",
       "            field=\"perc_trd_vol\"\n",
       "        },\n",
       "        x={\n",
       "            type=\"nominal\",\n",
       "            axis={\n",
       "                title=\" \"\n",
       "            },\n",
       "            field=\"SBM\"\n",
       "        },\n",
       "        color={\n",
       "            legend={\n",
       "                title=\"Secondary Market\"\n",
       "            },\n",
       "            scale={\n",
       "                scheme=\"viridis\"\n",
       "            },\n",
       "            field=\"SBM\"\n",
       "        }\n",
       "    },\n",
       "    data={\n",
       "        values=...\n",
       "    }\n",
       ")"
      ]
     },
     "execution_count": 381,
     "metadata": {},
     "output_type": "execute_result"
    }
   ],
   "source": [
    "include(string(joinpath(module_path, \"plot_module\"), \".jl\"))\n",
    "catn = 7\n",
    "\n",
    "pl = []\n",
    "# for catn in 1:15\n",
    "    println(catn)\n",
    "    catdf = PlotMod.prepare_sbm_rt_cov_vol_df(dfa, catn; date_cols=date_cols)\n",
    "\n",
    "    col_var=\"RT\"\n",
    "    col_var_type=\"nominal\"\n",
    "    x_var=\"SBM\"\n",
    "    x_var_type=\"nominal\"\n",
    "    y_var=\"perc_trd_vol\"\n",
    "    col_title=\"Rating\"\n",
    "    x_axis_title=\" \"\n",
    "    y_axis_title=\"%\"\n",
    "    legend_title=\"Secondary Market\"\n",
    "    title=[string(\"Category \", catn, \" Trade Volume as Percentage of Total \",\n",
    "                  \"Covenant-Restricted Bond Trade Volume\"),\n",
    "           \"by Secondary Bond Market and Rating\"]\n",
    "    \n",
    "    if :period in Symbol.(names(catdf))\n",
    "        title[end] = string(title[end], \" - \", catdf[1, :period])\n",
    "    end\n",
    "\n",
    "    save_plt=true\n",
    "\n",
    "    p = PlotMod.sbm_vega_plt(catdf, col_var, x_var, y_var;\n",
    "                     col_var_type=col_var_type,\n",
    "                     col_title=col_title, \n",
    "                     x_var_type=x_var_type,\n",
    "                     x_axis_title=x_axis_title, \n",
    "                     y_axis_title=y_axis_title, \n",
    "                     legend_title=legend_title, \n",
    "                     title=title, save_plt=save_plt)\n",
    "    \n",
    "#     push!(pl, p)\n",
    "# end"
   ]
  },
  {
   "cell_type": "code",
   "execution_count": null,
   "metadata": {},
   "outputs": [],
   "source": []
  }
 ],
 "metadata": {
  "@webio": {
   "lastCommId": null,
   "lastKernelId": null
  },
  "kernelspec": {
   "display_name": "Julia 1.5.1",
   "language": "julia",
   "name": "julia-1.5"
  },
  "language_info": {
   "file_extension": ".jl",
   "mimetype": "application/julia",
   "name": "julia",
   "version": "1.5.1"
  }
 },
 "nbformat": 4,
 "nbformat_minor": 4
}
